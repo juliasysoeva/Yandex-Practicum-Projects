{
 "cells": [
  {
   "cell_type": "markdown",
   "metadata": {},
   "source": [
    "# Проект по SQL"
   ]
  },
  {
   "cell_type": "markdown",
   "metadata": {},
   "source": [
    "## Описание проекта"
   ]
  },
  {
   "cell_type": "markdown",
   "metadata": {},
   "source": [
    "## Подключение к БД"
   ]
  },
  {
   "cell_type": "markdown",
   "metadata": {},
   "source": [
    "Подготовим подключение к базе данных"
   ]
  },
  {
   "cell_type": "code",
   "execution_count": 1,
   "metadata": {},
   "outputs": [],
   "source": [
    "# импортируем библиотеки\n",
    "import pandas as pd\n",
    "from sqlalchemy import create_engine\n",
    "# устанавливаем параметры\n",
    "db_config = {'user': '', # имя пользователя\n",
    "'pwd': '', # пароль\n",
    "'host': '',\n",
    "'port': , # порт подключения\n",
    "'db': ''} # название базы данных\n",
    "connection_string = 'postgresql://{}:{}@{}:{}/{}'.format(db_config['user'],\n",
    " db_config['pwd'],\n",
    " db_config['host'],\n",
    " db_config['port'],\n",
    " db_config['db'])\n",
    "# сохраняем коннектор\n",
    "engine = create_engine(connection_string, connect_args={'sslmode':'require'}) "
   ]
  },
  {
   "cell_type": "markdown",
   "metadata": {},
   "source": [
    "## Изучение данных"
   ]
  },
  {
   "cell_type": "markdown",
   "metadata": {},
   "source": [
    "Изучим таблицы с данными"
   ]
  },
  {
   "cell_type": "code",
   "execution_count": 2,
   "metadata": {},
   "outputs": [],
   "source": [
    "query_books = ''' SELECT *\n",
    "            FROM books\n",
    "            LIMIT 5\n",
    "        '''"
   ]
  },
  {
   "cell_type": "code",
   "execution_count": 3,
   "metadata": {},
   "outputs": [
    {
     "data": {
      "text/html": [
       "<div>\n",
       "<style scoped>\n",
       "    .dataframe tbody tr th:only-of-type {\n",
       "        vertical-align: middle;\n",
       "    }\n",
       "\n",
       "    .dataframe tbody tr th {\n",
       "        vertical-align: top;\n",
       "    }\n",
       "\n",
       "    .dataframe thead th {\n",
       "        text-align: right;\n",
       "    }\n",
       "</style>\n",
       "<table border=\"1\" class=\"dataframe\">\n",
       "  <thead>\n",
       "    <tr style=\"text-align: right;\">\n",
       "      <th></th>\n",
       "      <th>book_id</th>\n",
       "      <th>author_id</th>\n",
       "      <th>title</th>\n",
       "      <th>num_pages</th>\n",
       "      <th>publication_date</th>\n",
       "      <th>publisher_id</th>\n",
       "    </tr>\n",
       "  </thead>\n",
       "  <tbody>\n",
       "    <tr>\n",
       "      <th>0</th>\n",
       "      <td>1</td>\n",
       "      <td>546</td>\n",
       "      <td>'Salem's Lot</td>\n",
       "      <td>594</td>\n",
       "      <td>2005-11-01</td>\n",
       "      <td>93</td>\n",
       "    </tr>\n",
       "    <tr>\n",
       "      <th>1</th>\n",
       "      <td>2</td>\n",
       "      <td>465</td>\n",
       "      <td>1 000 Places to See Before You Die</td>\n",
       "      <td>992</td>\n",
       "      <td>2003-05-22</td>\n",
       "      <td>336</td>\n",
       "    </tr>\n",
       "    <tr>\n",
       "      <th>2</th>\n",
       "      <td>3</td>\n",
       "      <td>407</td>\n",
       "      <td>13 Little Blue Envelopes (Little Blue Envelope...</td>\n",
       "      <td>322</td>\n",
       "      <td>2010-12-21</td>\n",
       "      <td>135</td>\n",
       "    </tr>\n",
       "    <tr>\n",
       "      <th>3</th>\n",
       "      <td>4</td>\n",
       "      <td>82</td>\n",
       "      <td>1491: New Revelations of the Americas Before C...</td>\n",
       "      <td>541</td>\n",
       "      <td>2006-10-10</td>\n",
       "      <td>309</td>\n",
       "    </tr>\n",
       "    <tr>\n",
       "      <th>4</th>\n",
       "      <td>5</td>\n",
       "      <td>125</td>\n",
       "      <td>1776</td>\n",
       "      <td>386</td>\n",
       "      <td>2006-07-04</td>\n",
       "      <td>268</td>\n",
       "    </tr>\n",
       "  </tbody>\n",
       "</table>\n",
       "</div>"
      ],
      "text/plain": [
       "   book_id  author_id                                              title  \\\n",
       "0        1        546                                       'Salem's Lot   \n",
       "1        2        465                 1 000 Places to See Before You Die   \n",
       "2        3        407  13 Little Blue Envelopes (Little Blue Envelope...   \n",
       "3        4         82  1491: New Revelations of the Americas Before C...   \n",
       "4        5        125                                               1776   \n",
       "\n",
       "   num_pages publication_date  publisher_id  \n",
       "0        594       2005-11-01            93  \n",
       "1        992       2003-05-22           336  \n",
       "2        322       2010-12-21           135  \n",
       "3        541       2006-10-10           309  \n",
       "4        386       2006-07-04           268  "
      ]
     },
     "execution_count": 3,
     "metadata": {},
     "output_type": "execute_result"
    }
   ],
   "source": [
    "pd.io.sql.read_sql(query_books, con = engine) "
   ]
  },
  {
   "cell_type": "code",
   "execution_count": 4,
   "metadata": {},
   "outputs": [],
   "source": [
    "query_authors = ''' SELECT *\n",
    "            FROM authors\n",
    "            LIMIT 5\n",
    "        '''"
   ]
  },
  {
   "cell_type": "code",
   "execution_count": 5,
   "metadata": {},
   "outputs": [
    {
     "data": {
      "text/html": [
       "<div>\n",
       "<style scoped>\n",
       "    .dataframe tbody tr th:only-of-type {\n",
       "        vertical-align: middle;\n",
       "    }\n",
       "\n",
       "    .dataframe tbody tr th {\n",
       "        vertical-align: top;\n",
       "    }\n",
       "\n",
       "    .dataframe thead th {\n",
       "        text-align: right;\n",
       "    }\n",
       "</style>\n",
       "<table border=\"1\" class=\"dataframe\">\n",
       "  <thead>\n",
       "    <tr style=\"text-align: right;\">\n",
       "      <th></th>\n",
       "      <th>author_id</th>\n",
       "      <th>author</th>\n",
       "    </tr>\n",
       "  </thead>\n",
       "  <tbody>\n",
       "    <tr>\n",
       "      <th>0</th>\n",
       "      <td>1</td>\n",
       "      <td>A.S. Byatt</td>\n",
       "    </tr>\n",
       "    <tr>\n",
       "      <th>1</th>\n",
       "      <td>2</td>\n",
       "      <td>Aesop/Laura Harris/Laura Gibbs</td>\n",
       "    </tr>\n",
       "    <tr>\n",
       "      <th>2</th>\n",
       "      <td>3</td>\n",
       "      <td>Agatha Christie</td>\n",
       "    </tr>\n",
       "    <tr>\n",
       "      <th>3</th>\n",
       "      <td>4</td>\n",
       "      <td>Alan Brennert</td>\n",
       "    </tr>\n",
       "    <tr>\n",
       "      <th>4</th>\n",
       "      <td>5</td>\n",
       "      <td>Alan Moore/David   Lloyd</td>\n",
       "    </tr>\n",
       "  </tbody>\n",
       "</table>\n",
       "</div>"
      ],
      "text/plain": [
       "   author_id                          author\n",
       "0          1                      A.S. Byatt\n",
       "1          2  Aesop/Laura Harris/Laura Gibbs\n",
       "2          3                 Agatha Christie\n",
       "3          4                   Alan Brennert\n",
       "4          5        Alan Moore/David   Lloyd"
      ]
     },
     "execution_count": 5,
     "metadata": {},
     "output_type": "execute_result"
    }
   ],
   "source": [
    "pd.io.sql.read_sql(query_authors, con = engine) "
   ]
  },
  {
   "cell_type": "code",
   "execution_count": 6,
   "metadata": {},
   "outputs": [],
   "source": [
    "query_publishers = ''' SELECT *\n",
    "            FROM publishers\n",
    "            LIMIT 5\n",
    "        '''"
   ]
  },
  {
   "cell_type": "code",
   "execution_count": 7,
   "metadata": {},
   "outputs": [
    {
     "data": {
      "text/html": [
       "<div>\n",
       "<style scoped>\n",
       "    .dataframe tbody tr th:only-of-type {\n",
       "        vertical-align: middle;\n",
       "    }\n",
       "\n",
       "    .dataframe tbody tr th {\n",
       "        vertical-align: top;\n",
       "    }\n",
       "\n",
       "    .dataframe thead th {\n",
       "        text-align: right;\n",
       "    }\n",
       "</style>\n",
       "<table border=\"1\" class=\"dataframe\">\n",
       "  <thead>\n",
       "    <tr style=\"text-align: right;\">\n",
       "      <th></th>\n",
       "      <th>publisher_id</th>\n",
       "      <th>publisher</th>\n",
       "    </tr>\n",
       "  </thead>\n",
       "  <tbody>\n",
       "    <tr>\n",
       "      <th>0</th>\n",
       "      <td>1</td>\n",
       "      <td>Ace</td>\n",
       "    </tr>\n",
       "    <tr>\n",
       "      <th>1</th>\n",
       "      <td>2</td>\n",
       "      <td>Ace Book</td>\n",
       "    </tr>\n",
       "    <tr>\n",
       "      <th>2</th>\n",
       "      <td>3</td>\n",
       "      <td>Ace Books</td>\n",
       "    </tr>\n",
       "    <tr>\n",
       "      <th>3</th>\n",
       "      <td>4</td>\n",
       "      <td>Ace Hardcover</td>\n",
       "    </tr>\n",
       "    <tr>\n",
       "      <th>4</th>\n",
       "      <td>5</td>\n",
       "      <td>Addison Wesley Publishing Company</td>\n",
       "    </tr>\n",
       "  </tbody>\n",
       "</table>\n",
       "</div>"
      ],
      "text/plain": [
       "   publisher_id                          publisher\n",
       "0             1                                Ace\n",
       "1             2                           Ace Book\n",
       "2             3                          Ace Books\n",
       "3             4                      Ace Hardcover\n",
       "4             5  Addison Wesley Publishing Company"
      ]
     },
     "execution_count": 7,
     "metadata": {},
     "output_type": "execute_result"
    }
   ],
   "source": [
    "pd.io.sql.read_sql(query_publishers, con = engine) "
   ]
  },
  {
   "cell_type": "code",
   "execution_count": 8,
   "metadata": {},
   "outputs": [],
   "source": [
    "query_ratings = ''' SELECT *\n",
    "            FROM ratings\n",
    "            LIMIT 5\n",
    "        '''"
   ]
  },
  {
   "cell_type": "code",
   "execution_count": 9,
   "metadata": {},
   "outputs": [
    {
     "data": {
      "text/html": [
       "<div>\n",
       "<style scoped>\n",
       "    .dataframe tbody tr th:only-of-type {\n",
       "        vertical-align: middle;\n",
       "    }\n",
       "\n",
       "    .dataframe tbody tr th {\n",
       "        vertical-align: top;\n",
       "    }\n",
       "\n",
       "    .dataframe thead th {\n",
       "        text-align: right;\n",
       "    }\n",
       "</style>\n",
       "<table border=\"1\" class=\"dataframe\">\n",
       "  <thead>\n",
       "    <tr style=\"text-align: right;\">\n",
       "      <th></th>\n",
       "      <th>rating_id</th>\n",
       "      <th>book_id</th>\n",
       "      <th>username</th>\n",
       "      <th>rating</th>\n",
       "    </tr>\n",
       "  </thead>\n",
       "  <tbody>\n",
       "    <tr>\n",
       "      <th>0</th>\n",
       "      <td>1</td>\n",
       "      <td>1</td>\n",
       "      <td>ryanfranco</td>\n",
       "      <td>4</td>\n",
       "    </tr>\n",
       "    <tr>\n",
       "      <th>1</th>\n",
       "      <td>2</td>\n",
       "      <td>1</td>\n",
       "      <td>grantpatricia</td>\n",
       "      <td>2</td>\n",
       "    </tr>\n",
       "    <tr>\n",
       "      <th>2</th>\n",
       "      <td>3</td>\n",
       "      <td>1</td>\n",
       "      <td>brandtandrea</td>\n",
       "      <td>5</td>\n",
       "    </tr>\n",
       "    <tr>\n",
       "      <th>3</th>\n",
       "      <td>4</td>\n",
       "      <td>2</td>\n",
       "      <td>lorichen</td>\n",
       "      <td>3</td>\n",
       "    </tr>\n",
       "    <tr>\n",
       "      <th>4</th>\n",
       "      <td>5</td>\n",
       "      <td>2</td>\n",
       "      <td>mariokeller</td>\n",
       "      <td>2</td>\n",
       "    </tr>\n",
       "  </tbody>\n",
       "</table>\n",
       "</div>"
      ],
      "text/plain": [
       "   rating_id  book_id       username  rating\n",
       "0          1        1     ryanfranco       4\n",
       "1          2        1  grantpatricia       2\n",
       "2          3        1   brandtandrea       5\n",
       "3          4        2       lorichen       3\n",
       "4          5        2    mariokeller       2"
      ]
     },
     "execution_count": 9,
     "metadata": {},
     "output_type": "execute_result"
    }
   ],
   "source": [
    "pd.io.sql.read_sql(query_ratings, con = engine) "
   ]
  },
  {
   "cell_type": "code",
   "execution_count": 10,
   "metadata": {},
   "outputs": [],
   "source": [
    "query_reviews = ''' SELECT *\n",
    "            FROM reviews\n",
    "            LIMIT 5\n",
    "        '''"
   ]
  },
  {
   "cell_type": "code",
   "execution_count": 11,
   "metadata": {},
   "outputs": [
    {
     "data": {
      "text/html": [
       "<div>\n",
       "<style scoped>\n",
       "    .dataframe tbody tr th:only-of-type {\n",
       "        vertical-align: middle;\n",
       "    }\n",
       "\n",
       "    .dataframe tbody tr th {\n",
       "        vertical-align: top;\n",
       "    }\n",
       "\n",
       "    .dataframe thead th {\n",
       "        text-align: right;\n",
       "    }\n",
       "</style>\n",
       "<table border=\"1\" class=\"dataframe\">\n",
       "  <thead>\n",
       "    <tr style=\"text-align: right;\">\n",
       "      <th></th>\n",
       "      <th>review_id</th>\n",
       "      <th>book_id</th>\n",
       "      <th>username</th>\n",
       "      <th>text</th>\n",
       "    </tr>\n",
       "  </thead>\n",
       "  <tbody>\n",
       "    <tr>\n",
       "      <th>0</th>\n",
       "      <td>1</td>\n",
       "      <td>1</td>\n",
       "      <td>brandtandrea</td>\n",
       "      <td>Mention society tell send professor analysis. ...</td>\n",
       "    </tr>\n",
       "    <tr>\n",
       "      <th>1</th>\n",
       "      <td>2</td>\n",
       "      <td>1</td>\n",
       "      <td>ryanfranco</td>\n",
       "      <td>Foot glass pretty audience hit themselves. Amo...</td>\n",
       "    </tr>\n",
       "    <tr>\n",
       "      <th>2</th>\n",
       "      <td>3</td>\n",
       "      <td>2</td>\n",
       "      <td>lorichen</td>\n",
       "      <td>Listen treat keep worry. Miss husband tax but ...</td>\n",
       "    </tr>\n",
       "    <tr>\n",
       "      <th>3</th>\n",
       "      <td>4</td>\n",
       "      <td>3</td>\n",
       "      <td>johnsonamanda</td>\n",
       "      <td>Finally month interesting blue could nature cu...</td>\n",
       "    </tr>\n",
       "    <tr>\n",
       "      <th>4</th>\n",
       "      <td>5</td>\n",
       "      <td>3</td>\n",
       "      <td>scotttamara</td>\n",
       "      <td>Nation purpose heavy give wait song will. List...</td>\n",
       "    </tr>\n",
       "  </tbody>\n",
       "</table>\n",
       "</div>"
      ],
      "text/plain": [
       "   review_id  book_id       username  \\\n",
       "0          1        1   brandtandrea   \n",
       "1          2        1     ryanfranco   \n",
       "2          3        2       lorichen   \n",
       "3          4        3  johnsonamanda   \n",
       "4          5        3    scotttamara   \n",
       "\n",
       "                                                text  \n",
       "0  Mention society tell send professor analysis. ...  \n",
       "1  Foot glass pretty audience hit themselves. Amo...  \n",
       "2  Listen treat keep worry. Miss husband tax but ...  \n",
       "3  Finally month interesting blue could nature cu...  \n",
       "4  Nation purpose heavy give wait song will. List...  "
      ]
     },
     "execution_count": 11,
     "metadata": {},
     "output_type": "execute_result"
    }
   ],
   "source": [
    "pd.io.sql.read_sql(query_reviews, con = engine) "
   ]
  },
  {
   "cell_type": "markdown",
   "metadata": {},
   "source": [
    "## Задание 1"
   ]
  },
  {
   "cell_type": "markdown",
   "metadata": {},
   "source": [
    "Посчитайте, сколько книг вышло после 1 января 2000 года;"
   ]
  },
  {
   "cell_type": "code",
   "execution_count": 12,
   "metadata": {},
   "outputs": [],
   "source": [
    "query_1 = ''' SELECT COUNT(DISTINCT book_id)\n",
    "                FROM books\n",
    "                WHERE EXTRACT(YEAR FROM CAST (publication_date AS timestamp)) >= 2000\n",
    "        '''"
   ]
  },
  {
   "cell_type": "code",
   "execution_count": 13,
   "metadata": {},
   "outputs": [
    {
     "data": {
      "text/html": [
       "<div>\n",
       "<style scoped>\n",
       "    .dataframe tbody tr th:only-of-type {\n",
       "        vertical-align: middle;\n",
       "    }\n",
       "\n",
       "    .dataframe tbody tr th {\n",
       "        vertical-align: top;\n",
       "    }\n",
       "\n",
       "    .dataframe thead th {\n",
       "        text-align: right;\n",
       "    }\n",
       "</style>\n",
       "<table border=\"1\" class=\"dataframe\">\n",
       "  <thead>\n",
       "    <tr style=\"text-align: right;\">\n",
       "      <th></th>\n",
       "      <th>count</th>\n",
       "    </tr>\n",
       "  </thead>\n",
       "  <tbody>\n",
       "    <tr>\n",
       "      <th>0</th>\n",
       "      <td>821</td>\n",
       "    </tr>\n",
       "  </tbody>\n",
       "</table>\n",
       "</div>"
      ],
      "text/plain": [
       "   count\n",
       "0    821"
      ]
     },
     "execution_count": 13,
     "metadata": {},
     "output_type": "execute_result"
    }
   ],
   "source": [
    "pd.io.sql.read_sql(query_1, con = engine)"
   ]
  },
  {
   "cell_type": "markdown",
   "metadata": {},
   "source": [
    "Всего с 1 января 2000 года вышла 821 книга"
   ]
  },
  {
   "cell_type": "markdown",
   "metadata": {},
   "source": [
    "## Задание 2"
   ]
  },
  {
   "cell_type": "markdown",
   "metadata": {},
   "source": [
    "Для каждой книги посчитайте количество обзоров и среднюю оценку;"
   ]
  },
  {
   "cell_type": "code",
   "execution_count": 14,
   "metadata": {},
   "outputs": [],
   "source": [
    "query_2 = ''' SELECT DISTINCT b.book_id AS book,\n",
    "              b.title,\n",
    "              COUNT(DISTINCT rev.review_id) AS reviews_qty,\n",
    "              ROUND(AVG(rat.rating), 2) AS rating_avg     \n",
    "              FROM books AS b\n",
    "              LEFT JOIN ratings AS rat ON b.book_id = rat.book_id\n",
    "              LEFT JOIN reviews AS rev ON b.book_id = rev.book_id\n",
    "              GROUP BY book\n",
    "              ORDER BY reviews_qty DESC,\n",
    "              rating_avg DESC\n",
    "        '''"
   ]
  },
  {
   "cell_type": "code",
   "execution_count": 15,
   "metadata": {},
   "outputs": [
    {
     "data": {
      "text/html": [
       "<div>\n",
       "<style scoped>\n",
       "    .dataframe tbody tr th:only-of-type {\n",
       "        vertical-align: middle;\n",
       "    }\n",
       "\n",
       "    .dataframe tbody tr th {\n",
       "        vertical-align: top;\n",
       "    }\n",
       "\n",
       "    .dataframe thead th {\n",
       "        text-align: right;\n",
       "    }\n",
       "</style>\n",
       "<table border=\"1\" class=\"dataframe\">\n",
       "  <thead>\n",
       "    <tr style=\"text-align: right;\">\n",
       "      <th></th>\n",
       "      <th>book</th>\n",
       "      <th>title</th>\n",
       "      <th>reviews_qty</th>\n",
       "      <th>rating_avg</th>\n",
       "    </tr>\n",
       "  </thead>\n",
       "  <tbody>\n",
       "    <tr>\n",
       "      <th>0</th>\n",
       "      <td>948</td>\n",
       "      <td>Twilight (Twilight  #1)</td>\n",
       "      <td>7</td>\n",
       "      <td>3.66</td>\n",
       "    </tr>\n",
       "    <tr>\n",
       "      <th>1</th>\n",
       "      <td>302</td>\n",
       "      <td>Harry Potter and the Prisoner of Azkaban (Harr...</td>\n",
       "      <td>6</td>\n",
       "      <td>4.41</td>\n",
       "    </tr>\n",
       "    <tr>\n",
       "      <th>2</th>\n",
       "      <td>299</td>\n",
       "      <td>Harry Potter and the Chamber of Secrets (Harry...</td>\n",
       "      <td>6</td>\n",
       "      <td>4.29</td>\n",
       "    </tr>\n",
       "    <tr>\n",
       "      <th>3</th>\n",
       "      <td>656</td>\n",
       "      <td>The Book Thief</td>\n",
       "      <td>6</td>\n",
       "      <td>4.26</td>\n",
       "    </tr>\n",
       "    <tr>\n",
       "      <th>4</th>\n",
       "      <td>734</td>\n",
       "      <td>The Glass Castle</td>\n",
       "      <td>6</td>\n",
       "      <td>4.21</td>\n",
       "    </tr>\n",
       "    <tr>\n",
       "      <th>...</th>\n",
       "      <td>...</td>\n",
       "      <td>...</td>\n",
       "      <td>...</td>\n",
       "      <td>...</td>\n",
       "    </tr>\n",
       "    <tr>\n",
       "      <th>995</th>\n",
       "      <td>191</td>\n",
       "      <td>Disney's Beauty and the Beast (A Little Golden...</td>\n",
       "      <td>0</td>\n",
       "      <td>4.00</td>\n",
       "    </tr>\n",
       "    <tr>\n",
       "      <th>996</th>\n",
       "      <td>221</td>\n",
       "      <td>Essential Tales and Poems</td>\n",
       "      <td>0</td>\n",
       "      <td>4.00</td>\n",
       "    </tr>\n",
       "    <tr>\n",
       "      <th>997</th>\n",
       "      <td>387</td>\n",
       "      <td>Leonardo's Notebooks</td>\n",
       "      <td>0</td>\n",
       "      <td>4.00</td>\n",
       "    </tr>\n",
       "    <tr>\n",
       "      <th>998</th>\n",
       "      <td>83</td>\n",
       "      <td>Anne Rice's The Vampire Lestat: A Graphic Novel</td>\n",
       "      <td>0</td>\n",
       "      <td>3.67</td>\n",
       "    </tr>\n",
       "    <tr>\n",
       "      <th>999</th>\n",
       "      <td>808</td>\n",
       "      <td>The Natural Way to Draw</td>\n",
       "      <td>0</td>\n",
       "      <td>3.00</td>\n",
       "    </tr>\n",
       "  </tbody>\n",
       "</table>\n",
       "<p>1000 rows × 4 columns</p>\n",
       "</div>"
      ],
      "text/plain": [
       "     book                                              title  reviews_qty  \\\n",
       "0     948                            Twilight (Twilight  #1)            7   \n",
       "1     302  Harry Potter and the Prisoner of Azkaban (Harr...            6   \n",
       "2     299  Harry Potter and the Chamber of Secrets (Harry...            6   \n",
       "3     656                                     The Book Thief            6   \n",
       "4     734                                   The Glass Castle            6   \n",
       "..    ...                                                ...          ...   \n",
       "995   191  Disney's Beauty and the Beast (A Little Golden...            0   \n",
       "996   221                          Essential Tales and Poems            0   \n",
       "997   387                               Leonardo's Notebooks            0   \n",
       "998    83    Anne Rice's The Vampire Lestat: A Graphic Novel            0   \n",
       "999   808                            The Natural Way to Draw            0   \n",
       "\n",
       "     rating_avg  \n",
       "0          3.66  \n",
       "1          4.41  \n",
       "2          4.29  \n",
       "3          4.26  \n",
       "4          4.21  \n",
       "..          ...  \n",
       "995        4.00  \n",
       "996        4.00  \n",
       "997        4.00  \n",
       "998        3.67  \n",
       "999        3.00  \n",
       "\n",
       "[1000 rows x 4 columns]"
      ]
     },
     "execution_count": 15,
     "metadata": {},
     "output_type": "execute_result"
    }
   ],
   "source": [
    "pd.io.sql.read_sql(query_2, con = engine)"
   ]
  },
  {
   "cell_type": "markdown",
   "metadata": {},
   "source": [
    "Больше всего обзоров на первую часть серии книг \"Сумерки\". По ней написано 7 рецензий, средняя оценка 3,66. На втором месте по количеству обзоров и средней оценке третья книга серии о Гарри Поттере - \"Гарри Поттер и Узник Азкабана\". По ней написано 6 резенций, средний рейтинг 4,41. Тройку замыкает вторая книга из той же серии - \"Гарри Поттер и Тайная комната\". По ней написано 6 резенций, средний рейтинг 4,29."
   ]
  },
  {
   "cell_type": "markdown",
   "metadata": {},
   "source": [
    "## Задание 3"
   ]
  },
  {
   "cell_type": "markdown",
   "metadata": {},
   "source": [
    "Определите издательство, которое выпустило наибольшее число книг толще 50 страниц — так вы исключите из анализа брошюры;"
   ]
  },
  {
   "cell_type": "code",
   "execution_count": 16,
   "metadata": {},
   "outputs": [],
   "source": [
    "query_3 = ''' \n",
    "              SELECT publisher_id,\n",
    "              publisher\n",
    "              FROM publishers\n",
    "              WHERE publisher_id IN (SELECT publisher_id\n",
    "                              FROM books\n",
    "                              WHERE book_id IN (SELECT book_id\n",
    "                                        FROM books\n",
    "                                        WHERE num_pages > 50)\n",
    "                              GROUP BY publisher_id\n",
    "                              ORDER BY COUNT(DISTINCT book_id) DESC\n",
    "                              LIMIT 1); \n",
    "        '''"
   ]
  },
  {
   "cell_type": "code",
   "execution_count": 17,
   "metadata": {},
   "outputs": [
    {
     "data": {
      "text/html": [
       "<div>\n",
       "<style scoped>\n",
       "    .dataframe tbody tr th:only-of-type {\n",
       "        vertical-align: middle;\n",
       "    }\n",
       "\n",
       "    .dataframe tbody tr th {\n",
       "        vertical-align: top;\n",
       "    }\n",
       "\n",
       "    .dataframe thead th {\n",
       "        text-align: right;\n",
       "    }\n",
       "</style>\n",
       "<table border=\"1\" class=\"dataframe\">\n",
       "  <thead>\n",
       "    <tr style=\"text-align: right;\">\n",
       "      <th></th>\n",
       "      <th>publisher_id</th>\n",
       "      <th>publisher</th>\n",
       "    </tr>\n",
       "  </thead>\n",
       "  <tbody>\n",
       "    <tr>\n",
       "      <th>0</th>\n",
       "      <td>212</td>\n",
       "      <td>Penguin Books</td>\n",
       "    </tr>\n",
       "  </tbody>\n",
       "</table>\n",
       "</div>"
      ],
      "text/plain": [
       "   publisher_id      publisher\n",
       "0           212  Penguin Books"
      ]
     },
     "execution_count": 17,
     "metadata": {},
     "output_type": "execute_result"
    }
   ],
   "source": [
    "pd.io.sql.read_sql(query_3, con = engine)"
   ]
  },
  {
   "cell_type": "markdown",
   "metadata": {},
   "source": [
    "Penguin Books выпустило наибольшее число книг толще 50 страниц"
   ]
  },
  {
   "cell_type": "markdown",
   "metadata": {},
   "source": [
    "## Задание 4"
   ]
  },
  {
   "cell_type": "markdown",
   "metadata": {},
   "source": [
    "Определите автора с самой высокой средней оценкой книг — учитывайте только книги с 50 и более оценками;"
   ]
  },
  {
   "cell_type": "code",
   "execution_count": 18,
   "metadata": {},
   "outputs": [],
   "source": [
    "query_4 = ''' SELECT author_id,\n",
    "              author\n",
    "              FROM authors\n",
    "              WHERE author_id IN\n",
    "                          (SELECT b.author_id\n",
    "                          FROM books AS b\n",
    "                          JOIN ratings AS r ON b.book_id = r.book_id\n",
    "                          WHERE b.book_id IN\n",
    "                                            (SELECT book_id\n",
    "                                            FROM ratings\n",
    "                                            GROUP BY book_id\n",
    "                                            HAVING COUNT(rating_id) > 50)\n",
    "                          GROUP BY b.author_id\n",
    "                          ORDER BY AVG(r.rating) DESC\n",
    "                          LIMIT 1)\n",
    "        '''"
   ]
  },
  {
   "cell_type": "code",
   "execution_count": 19,
   "metadata": {},
   "outputs": [
    {
     "data": {
      "text/html": [
       "<div>\n",
       "<style scoped>\n",
       "    .dataframe tbody tr th:only-of-type {\n",
       "        vertical-align: middle;\n",
       "    }\n",
       "\n",
       "    .dataframe tbody tr th {\n",
       "        vertical-align: top;\n",
       "    }\n",
       "\n",
       "    .dataframe thead th {\n",
       "        text-align: right;\n",
       "    }\n",
       "</style>\n",
       "<table border=\"1\" class=\"dataframe\">\n",
       "  <thead>\n",
       "    <tr style=\"text-align: right;\">\n",
       "      <th></th>\n",
       "      <th>author_id</th>\n",
       "      <th>author</th>\n",
       "    </tr>\n",
       "  </thead>\n",
       "  <tbody>\n",
       "    <tr>\n",
       "      <th>0</th>\n",
       "      <td>236</td>\n",
       "      <td>J.K. Rowling/Mary GrandPré</td>\n",
       "    </tr>\n",
       "  </tbody>\n",
       "</table>\n",
       "</div>"
      ],
      "text/plain": [
       "   author_id                      author\n",
       "0        236  J.K. Rowling/Mary GrandPré"
      ]
     },
     "execution_count": 19,
     "metadata": {},
     "output_type": "execute_result"
    }
   ],
   "source": [
    "pd.io.sql.read_sql(query_4, con = engine)"
   ]
  },
  {
   "cell_type": "markdown",
   "metadata": {},
   "source": [
    "J.K. Rowling/Mary GrandPré - автор с самой высокой средней оценкой книг"
   ]
  },
  {
   "cell_type": "markdown",
   "metadata": {},
   "source": [
    "## Задание 5"
   ]
  },
  {
   "cell_type": "markdown",
   "metadata": {},
   "source": [
    "Посчитайте среднее количество обзоров от пользователей, которые поставили больше 50 оценок."
   ]
  },
  {
   "cell_type": "code",
   "execution_count": 20,
   "metadata": {},
   "outputs": [
    {
     "data": {
      "text/html": [
       "<div>\n",
       "<style scoped>\n",
       "    .dataframe tbody tr th:only-of-type {\n",
       "        vertical-align: middle;\n",
       "    }\n",
       "\n",
       "    .dataframe tbody tr th {\n",
       "        vertical-align: top;\n",
       "    }\n",
       "\n",
       "    .dataframe thead th {\n",
       "        text-align: right;\n",
       "    }\n",
       "</style>\n",
       "<table border=\"1\" class=\"dataframe\">\n",
       "  <thead>\n",
       "    <tr style=\"text-align: right;\">\n",
       "      <th></th>\n",
       "      <th>round</th>\n",
       "    </tr>\n",
       "  </thead>\n",
       "  <tbody>\n",
       "    <tr>\n",
       "      <th>0</th>\n",
       "      <td>24.0</td>\n",
       "    </tr>\n",
       "  </tbody>\n",
       "</table>\n",
       "</div>"
      ],
      "text/plain": [
       "   round\n",
       "0   24.0"
      ]
     },
     "execution_count": 20,
     "metadata": {},
     "output_type": "execute_result"
    }
   ],
   "source": [
    "query_5 = ''' \n",
    "            WITH a AS(\n",
    "            SELECT username,\n",
    "            COUNT(DISTINCT review_id) AS review_qty\n",
    "            FROM reviews\n",
    "            WHERE username IN(\n",
    "                            SELECT username\n",
    "                            FROM ratings\n",
    "                            GROUP BY username\n",
    "                            HAVING COUNT(rating_id) > 50)\n",
    "            GROUP BY username)\n",
    "\n",
    "            SELECT ROUND(AVG(review_qty))\n",
    "            FROM a\n",
    "        '''\n",
    "pd.io.sql.read_sql(query_5, con = engine)"
   ]
  },
  {
   "cell_type": "markdown",
   "metadata": {},
   "source": [
    "Пользователи, которые поставили больше 50 оценок, в среднем оставили 24 обзора"
   ]
  },
  {
   "cell_type": "markdown",
   "metadata": {},
   "source": [
    "## Вывод"
   ]
  },
  {
   "cell_type": "markdown",
   "metadata": {},
   "source": [
    "База данных состоит из 5 таблиц: books - содержит данные о книгах, authors - данные об авторах, ratings - данные о пользовательских оценках книг, reviews - данные о пользовательских обзорах, publishers - данные об издательствах.\n",
    "\n",
    "Всего в базе данных содержится информация о 340 издательствах, 636 авторах и 1000 книгах (821 из них вышла после 2000 года). Всего 160 пользователей оставили свою оценку/обзор на книгу.\n",
    "\n",
    "- Суммарно по количеству обзоров и средней оценке лидирует третья книга серии о Гарри Поттере - \"Гарри Поттер и Узник Азкабана\". По ней написано 6 обзоров, средний рейтинг составил 4,41.\n",
    "\n",
    "- В среднем самые активные пользователи (те, кто поставили более 50 оценок) оставляли 24 обзора на книги.\n",
    "\n",
    "- J.K. Rowling/Mary GrandPré - автор с самой высокой средней оценкой книг.\n",
    "\n",
    "- Говоря об издательстве, здесь можно выделить Penguin Books. Они выпустили больше всего книг (без учета брошюр, т.е. книги более чем с 50 страницами)."
   ]
  }
 ],
 "metadata": {
  "ExecuteTimeLog": [
   {
    "duration": 8590,
    "start_time": "2022-07-31T20:37:52.627Z"
   },
   {
    "duration": 3,
    "start_time": "2022-07-31T20:38:20.997Z"
   },
   {
    "duration": 64,
    "start_time": "2022-07-31T20:38:28.036Z"
   },
   {
    "duration": 3,
    "start_time": "2022-07-31T20:38:43.635Z"
   },
   {
    "duration": 10,
    "start_time": "2022-07-31T20:38:44.138Z"
   },
   {
    "duration": 3,
    "start_time": "2022-07-31T20:38:58.583Z"
   },
   {
    "duration": 86,
    "start_time": "2022-07-31T20:38:59.095Z"
   },
   {
    "duration": 12,
    "start_time": "2022-07-31T20:39:08.400Z"
   },
   {
    "duration": 3,
    "start_time": "2022-07-31T20:39:15.616Z"
   },
   {
    "duration": 10,
    "start_time": "2022-07-31T20:39:55.283Z"
   },
   {
    "duration": 2,
    "start_time": "2022-07-31T20:39:56.088Z"
   },
   {
    "duration": 11,
    "start_time": "2022-07-31T20:39:57.095Z"
   },
   {
    "duration": 2,
    "start_time": "2022-07-31T20:40:31.329Z"
   },
   {
    "duration": 11,
    "start_time": "2022-07-31T20:40:36.884Z"
   },
   {
    "duration": 2,
    "start_time": "2022-07-31T20:41:16.192Z"
   },
   {
    "duration": 29,
    "start_time": "2022-07-31T20:41:21.986Z"
   },
   {
    "duration": 2,
    "start_time": "2022-07-31T20:41:58.456Z"
   },
   {
    "duration": 12,
    "start_time": "2022-07-31T20:42:17.019Z"
   },
   {
    "duration": 2,
    "start_time": "2022-07-31T20:42:54.805Z"
   },
   {
    "duration": 15,
    "start_time": "2022-07-31T20:43:05.620Z"
   },
   {
    "duration": 3,
    "start_time": "2022-07-31T20:43:39.794Z"
   },
   {
    "duration": 37,
    "start_time": "2022-07-31T20:43:44.267Z"
   },
   {
    "duration": 8400,
    "start_time": "2022-07-31T20:44:09.998Z"
   },
   {
    "duration": 2,
    "start_time": "2022-07-31T20:44:18.400Z"
   },
   {
    "duration": 64,
    "start_time": "2022-07-31T20:44:18.403Z"
   },
   {
    "duration": 2,
    "start_time": "2022-07-31T20:44:18.469Z"
   },
   {
    "duration": 13,
    "start_time": "2022-07-31T20:44:18.472Z"
   },
   {
    "duration": 2,
    "start_time": "2022-07-31T20:44:18.486Z"
   },
   {
    "duration": 12,
    "start_time": "2022-07-31T20:44:18.489Z"
   },
   {
    "duration": 2,
    "start_time": "2022-07-31T20:44:18.502Z"
   },
   {
    "duration": 13,
    "start_time": "2022-07-31T20:44:18.505Z"
   },
   {
    "duration": 2,
    "start_time": "2022-07-31T20:44:18.520Z"
   },
   {
    "duration": 12,
    "start_time": "2022-07-31T20:44:18.524Z"
   },
   {
    "duration": 2,
    "start_time": "2022-07-31T20:44:18.537Z"
   },
   {
    "duration": 15,
    "start_time": "2022-07-31T20:44:18.540Z"
   },
   {
    "duration": 2,
    "start_time": "2022-07-31T20:44:18.557Z"
   },
   {
    "duration": 28,
    "start_time": "2022-07-31T20:44:18.560Z"
   },
   {
    "duration": 2,
    "start_time": "2022-07-31T20:44:18.590Z"
   },
   {
    "duration": 13,
    "start_time": "2022-07-31T20:44:18.593Z"
   },
   {
    "duration": 2,
    "start_time": "2022-07-31T20:44:18.607Z"
   },
   {
    "duration": 23,
    "start_time": "2022-07-31T20:44:18.611Z"
   },
   {
    "duration": 2,
    "start_time": "2022-07-31T20:44:18.635Z"
   },
   {
    "duration": 38,
    "start_time": "2022-07-31T20:44:18.638Z"
   },
   {
    "duration": 8170,
    "start_time": "2022-07-31T20:47:49.955Z"
   },
   {
    "duration": 3,
    "start_time": "2022-07-31T20:47:58.127Z"
   },
   {
    "duration": 63,
    "start_time": "2022-07-31T20:47:58.131Z"
   },
   {
    "duration": 2,
    "start_time": "2022-07-31T20:47:58.196Z"
   },
   {
    "duration": 11,
    "start_time": "2022-07-31T20:47:58.200Z"
   },
   {
    "duration": 2,
    "start_time": "2022-07-31T20:47:58.213Z"
   },
   {
    "duration": 12,
    "start_time": "2022-07-31T20:47:58.216Z"
   },
   {
    "duration": 2,
    "start_time": "2022-07-31T20:47:58.229Z"
   },
   {
    "duration": 12,
    "start_time": "2022-07-31T20:47:58.232Z"
   },
   {
    "duration": 2,
    "start_time": "2022-07-31T20:47:58.245Z"
   },
   {
    "duration": 12,
    "start_time": "2022-07-31T20:47:58.249Z"
   },
   {
    "duration": 2,
    "start_time": "2022-07-31T20:47:58.262Z"
   },
   {
    "duration": 12,
    "start_time": "2022-07-31T20:47:58.265Z"
   },
   {
    "duration": 2,
    "start_time": "2022-07-31T20:47:58.278Z"
   },
   {
    "duration": 31,
    "start_time": "2022-07-31T20:47:58.281Z"
   },
   {
    "duration": 2,
    "start_time": "2022-07-31T20:47:58.314Z"
   },
   {
    "duration": 13,
    "start_time": "2022-07-31T20:47:58.317Z"
   },
   {
    "duration": 2,
    "start_time": "2022-07-31T20:47:58.331Z"
   },
   {
    "duration": 16,
    "start_time": "2022-07-31T20:47:58.334Z"
   },
   {
    "duration": 2,
    "start_time": "2022-07-31T20:47:58.351Z"
   },
   {
    "duration": 37,
    "start_time": "2022-07-31T20:47:58.354Z"
   },
   {
    "duration": 12612,
    "start_time": "2022-08-01T08:30:36.949Z"
   },
   {
    "duration": 3,
    "start_time": "2022-08-01T08:30:49.563Z"
   },
   {
    "duration": 329,
    "start_time": "2022-08-01T08:30:49.567Z"
   },
   {
    "duration": 3,
    "start_time": "2022-08-01T08:30:49.897Z"
   },
   {
    "duration": 97,
    "start_time": "2022-08-01T08:30:49.902Z"
   },
   {
    "duration": 3,
    "start_time": "2022-08-01T08:30:50.001Z"
   },
   {
    "duration": 110,
    "start_time": "2022-08-01T08:30:50.005Z"
   },
   {
    "duration": 3,
    "start_time": "2022-08-01T08:30:50.117Z"
   },
   {
    "duration": 132,
    "start_time": "2022-08-01T08:30:50.121Z"
   },
   {
    "duration": 2,
    "start_time": "2022-08-01T08:30:50.256Z"
   },
   {
    "duration": 103,
    "start_time": "2022-08-01T08:30:50.259Z"
   },
   {
    "duration": 3,
    "start_time": "2022-08-01T08:30:50.364Z"
   },
   {
    "duration": 96,
    "start_time": "2022-08-01T08:30:50.368Z"
   },
   {
    "duration": 2,
    "start_time": "2022-08-01T08:30:50.467Z"
   },
   {
    "duration": 155,
    "start_time": "2022-08-01T08:30:50.471Z"
   },
   {
    "duration": 5,
    "start_time": "2022-08-01T08:30:50.634Z"
   },
   {
    "duration": 105,
    "start_time": "2022-08-01T08:30:50.649Z"
   },
   {
    "duration": 2,
    "start_time": "2022-08-01T08:30:50.756Z"
   },
   {
    "duration": 93,
    "start_time": "2022-08-01T08:30:50.760Z"
   },
   {
    "duration": 3,
    "start_time": "2022-08-01T08:30:50.854Z"
   },
   {
    "duration": 112,
    "start_time": "2022-08-01T08:30:50.858Z"
   },
   {
    "duration": 5,
    "start_time": "2022-08-01T08:31:38.328Z"
   },
   {
    "duration": 97,
    "start_time": "2022-08-01T08:31:39.460Z"
   },
   {
    "duration": 2,
    "start_time": "2022-08-01T08:32:08.002Z"
   },
   {
    "duration": 97,
    "start_time": "2022-08-01T08:32:09.086Z"
   },
   {
    "duration": 9343,
    "start_time": "2022-08-01T12:43:24.369Z"
   },
   {
    "duration": 3,
    "start_time": "2022-08-01T12:43:33.714Z"
   },
   {
    "duration": 90,
    "start_time": "2022-08-01T12:43:33.718Z"
   },
   {
    "duration": 3,
    "start_time": "2022-08-01T12:43:33.809Z"
   },
   {
    "duration": 24,
    "start_time": "2022-08-01T12:43:33.813Z"
   },
   {
    "duration": 23,
    "start_time": "2022-08-01T12:43:33.839Z"
   },
   {
    "duration": 20,
    "start_time": "2022-08-01T12:43:33.864Z"
   },
   {
    "duration": 12,
    "start_time": "2022-08-01T12:43:33.886Z"
   },
   {
    "duration": 28,
    "start_time": "2022-08-01T12:43:33.900Z"
   },
   {
    "duration": 10,
    "start_time": "2022-08-01T12:43:33.931Z"
   },
   {
    "duration": 31,
    "start_time": "2022-08-01T12:43:33.943Z"
   },
   {
    "duration": 11,
    "start_time": "2022-08-01T12:43:33.975Z"
   },
   {
    "duration": 32,
    "start_time": "2022-08-01T12:43:33.988Z"
   },
   {
    "duration": 18,
    "start_time": "2022-08-01T12:43:34.021Z"
   },
   {
    "duration": 52,
    "start_time": "2022-08-01T12:43:34.041Z"
   },
   {
    "duration": 3,
    "start_time": "2022-08-01T12:43:34.095Z"
   },
   {
    "duration": 30,
    "start_time": "2022-08-01T12:43:34.099Z"
   },
   {
    "duration": 10,
    "start_time": "2022-08-01T12:43:34.131Z"
   },
   {
    "duration": 51,
    "start_time": "2022-08-01T12:43:34.143Z"
   },
   {
    "duration": 8,
    "start_time": "2022-08-01T12:43:34.196Z"
   },
   {
    "duration": 79,
    "start_time": "2022-08-01T12:43:34.205Z"
   },
   {
    "duration": 67,
    "start_time": "2022-08-01T12:43:49.887Z"
   },
   {
    "duration": 23,
    "start_time": "2022-08-01T12:44:28.681Z"
   },
   {
    "duration": 3,
    "start_time": "2022-08-01T12:45:55.314Z"
   },
   {
    "duration": 30,
    "start_time": "2022-08-01T12:45:55.810Z"
   },
   {
    "duration": 157,
    "start_time": "2022-08-01T13:13:07.376Z"
   },
   {
    "duration": 94,
    "start_time": "2022-08-01T13:13:45.868Z"
   },
   {
    "duration": 113,
    "start_time": "2022-08-01T13:13:53.852Z"
   },
   {
    "duration": 105,
    "start_time": "2022-08-01T13:14:43.797Z"
   },
   {
    "duration": 16,
    "start_time": "2022-08-01T13:15:13.492Z"
   },
   {
    "duration": 13,
    "start_time": "2022-08-01T13:15:43.838Z"
   },
   {
    "duration": 17,
    "start_time": "2022-08-01T13:16:52.125Z"
   },
   {
    "duration": 11,
    "start_time": "2022-08-01T13:21:35.757Z"
   },
   {
    "duration": 101,
    "start_time": "2022-08-01T13:25:25.122Z"
   },
   {
    "duration": 12,
    "start_time": "2022-08-01T13:25:34.118Z"
   },
   {
    "duration": 11,
    "start_time": "2022-08-01T13:26:27.281Z"
   },
   {
    "duration": 13,
    "start_time": "2022-08-01T13:27:41.493Z"
   },
   {
    "duration": 12,
    "start_time": "2022-08-01T13:29:27.584Z"
   },
   {
    "duration": 14,
    "start_time": "2022-08-01T13:38:39.815Z"
   },
   {
    "duration": 13,
    "start_time": "2022-08-01T13:38:51.585Z"
   },
   {
    "duration": 13,
    "start_time": "2022-08-01T13:39:11.271Z"
   },
   {
    "duration": 18670,
    "start_time": "2022-08-01T13:40:25.193Z"
   },
   {
    "duration": 3,
    "start_time": "2022-08-01T13:40:43.865Z"
   },
   {
    "duration": 117,
    "start_time": "2022-08-01T13:40:43.870Z"
   },
   {
    "duration": 2,
    "start_time": "2022-08-01T13:40:43.990Z"
   },
   {
    "duration": 22,
    "start_time": "2022-08-01T13:40:43.993Z"
   },
   {
    "duration": 19,
    "start_time": "2022-08-01T13:40:44.017Z"
   },
   {
    "duration": 16,
    "start_time": "2022-08-01T13:40:44.037Z"
   },
   {
    "duration": 12,
    "start_time": "2022-08-01T13:40:44.055Z"
   },
   {
    "duration": 28,
    "start_time": "2022-08-01T13:40:44.069Z"
   },
   {
    "duration": 2,
    "start_time": "2022-08-01T13:40:44.100Z"
   },
   {
    "duration": 32,
    "start_time": "2022-08-01T13:40:44.104Z"
   },
   {
    "duration": 8,
    "start_time": "2022-08-01T13:40:44.138Z"
   },
   {
    "duration": 38,
    "start_time": "2022-08-01T13:40:44.147Z"
   },
   {
    "duration": 3,
    "start_time": "2022-08-01T13:40:44.187Z"
   },
   {
    "duration": 42,
    "start_time": "2022-08-01T13:40:44.191Z"
   },
   {
    "duration": 3,
    "start_time": "2022-08-01T13:40:44.235Z"
   },
   {
    "duration": 25,
    "start_time": "2022-08-01T13:40:44.240Z"
   },
   {
    "duration": 3,
    "start_time": "2022-08-01T13:40:44.267Z"
   },
   {
    "duration": 32,
    "start_time": "2022-08-01T13:40:44.272Z"
   },
   {
    "duration": 13,
    "start_time": "2022-08-01T13:40:44.306Z"
   },
   {
    "duration": 8,
    "start_time": "2022-08-01T13:40:44.321Z"
   },
   {
    "duration": 19,
    "start_time": "2022-08-01T13:40:44.330Z"
   },
   {
    "duration": 9,
    "start_time": "2022-08-01T13:40:44.351Z"
   },
   {
    "duration": 12,
    "start_time": "2022-08-01T13:40:44.362Z"
   },
   {
    "duration": 20,
    "start_time": "2022-08-01T13:40:44.375Z"
   },
   {
    "duration": 29772,
    "start_time": "2022-08-02T10:40:12.997Z"
   },
   {
    "duration": 4,
    "start_time": "2022-08-02T10:40:42.772Z"
   },
   {
    "duration": 122,
    "start_time": "2022-08-02T10:40:42.778Z"
   },
   {
    "duration": 10,
    "start_time": "2022-08-02T10:40:42.901Z"
   },
   {
    "duration": 24,
    "start_time": "2022-08-02T10:40:42.918Z"
   },
   {
    "duration": 4,
    "start_time": "2022-08-02T10:40:42.944Z"
   },
   {
    "duration": 21,
    "start_time": "2022-08-02T10:40:42.949Z"
   },
   {
    "duration": 2,
    "start_time": "2022-08-02T10:40:42.972Z"
   },
   {
    "duration": 20,
    "start_time": "2022-08-02T10:40:42.976Z"
   },
   {
    "duration": 10,
    "start_time": "2022-08-02T10:40:42.998Z"
   },
   {
    "duration": 29,
    "start_time": "2022-08-02T10:40:43.010Z"
   },
   {
    "duration": 2,
    "start_time": "2022-08-02T10:40:43.041Z"
   },
   {
    "duration": 23,
    "start_time": "2022-08-02T10:40:43.045Z"
   },
   {
    "duration": 6,
    "start_time": "2022-08-02T10:40:43.071Z"
   },
   {
    "duration": 78,
    "start_time": "2022-08-02T10:40:43.078Z"
   },
   {
    "duration": 3,
    "start_time": "2022-08-02T10:40:43.158Z"
   },
   {
    "duration": 27,
    "start_time": "2022-08-02T10:40:43.163Z"
   },
   {
    "duration": 3,
    "start_time": "2022-08-02T10:40:43.192Z"
   },
   {
    "duration": 43,
    "start_time": "2022-08-02T10:40:43.197Z"
   },
   {
    "duration": 16,
    "start_time": "2022-08-02T10:40:43.242Z"
   },
   {
    "duration": 3,
    "start_time": "2022-08-02T10:40:43.260Z"
   },
   {
    "duration": 8,
    "start_time": "2022-08-02T10:40:43.265Z"
   },
   {
    "duration": 7,
    "start_time": "2022-08-02T10:40:43.275Z"
   },
   {
    "duration": 13,
    "start_time": "2022-08-02T10:40:43.284Z"
   },
   {
    "duration": 18,
    "start_time": "2022-08-02T10:40:43.298Z"
   }
  ],
  "kernelspec": {
   "display_name": "Python 3 (ipykernel)",
   "language": "python",
   "name": "python3"
  },
  "language_info": {
   "codemirror_mode": {
    "name": "ipython",
    "version": 3
   },
   "file_extension": ".py",
   "mimetype": "text/x-python",
   "name": "python",
   "nbconvert_exporter": "python",
   "pygments_lexer": "ipython3",
   "version": "3.9.7"
  },
  "toc": {
   "base_numbering": 1,
   "nav_menu": {},
   "number_sections": false,
   "sideBar": true,
   "skip_h1_title": false,
   "title_cell": "Table of Contents",
   "title_sidebar": "Contents",
   "toc_cell": false,
   "toc_position": {
    "height": "calc(100% - 180px)",
    "left": "10px",
    "top": "150px",
    "width": "267.513px"
   },
   "toc_section_display": true,
   "toc_window_display": true
  }
 },
 "nbformat": 4,
 "nbformat_minor": 2
}
