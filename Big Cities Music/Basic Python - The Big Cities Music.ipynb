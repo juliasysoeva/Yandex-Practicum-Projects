{
 "cells": [
  {
   "cell_type": "markdown",
   "metadata": {
    "id": "E0vqbgi9ay0H"
   },
   "source": [
    "# Музыка больших городов"
   ]
  },
  {
   "cell_type": "markdown",
   "metadata": {
    "id": "Ml1hmfXC_Zcs"
   },
   "source": [
    "## 1. Обзор данных\n",
    "\n",
    "Составим первое представление о данных Яндекс.Музыки."
   ]
  },
  {
   "cell_type": "markdown",
   "metadata": {
    "id": "57eAOGIz_Zcs"
   },
   "source": [
    "Импортируем библиотеку `pandas`."
   ]
  },
  {
   "cell_type": "code",
   "execution_count": 3,
   "metadata": {
    "id": "AXN7PHPN_Zcs"
   },
   "outputs": [],
   "source": [
    "import pandas as pd# импорт библиотеки pandas"
   ]
  },
  {
   "cell_type": "markdown",
   "metadata": {
    "id": "SG23P8tt_Zcs"
   },
   "source": [
    "Прочитаем файл `yandex_music_project.csv` и сохраним его в переменной `df`:"
   ]
  },
  {
   "cell_type": "code",
   "execution_count": 4,
   "metadata": {
    "id": "fFVu7vqh_Zct"
   },
   "outputs": [],
   "source": [
    "df = pd.read_csv('/datasets/yandex_music_project.csv')# чтение файла с данными и сохранение в df"
   ]
  },
  {
   "cell_type": "markdown",
   "metadata": {
    "id": "rDoOMd3uTqnZ"
   },
   "source": [
    "Выведим на экран первые десять строк таблицы:"
   ]
  },
  {
   "cell_type": "code",
   "execution_count": 5,
   "metadata": {
    "id": "oWTVX3gW_Zct"
   },
   "outputs": [
    {
     "data": {
      "text/html": [
       "<div>\n",
       "<style scoped>\n",
       "    .dataframe tbody tr th:only-of-type {\n",
       "        vertical-align: middle;\n",
       "    }\n",
       "\n",
       "    .dataframe tbody tr th {\n",
       "        vertical-align: top;\n",
       "    }\n",
       "\n",
       "    .dataframe thead th {\n",
       "        text-align: right;\n",
       "    }\n",
       "</style>\n",
       "<table border=\"1\" class=\"dataframe\">\n",
       "  <thead>\n",
       "    <tr style=\"text-align: right;\">\n",
       "      <th></th>\n",
       "      <th>userID</th>\n",
       "      <th>Track</th>\n",
       "      <th>artist</th>\n",
       "      <th>genre</th>\n",
       "      <th>City</th>\n",
       "      <th>time</th>\n",
       "      <th>Day</th>\n",
       "    </tr>\n",
       "  </thead>\n",
       "  <tbody>\n",
       "    <tr>\n",
       "      <td>0</td>\n",
       "      <td>FFB692EC</td>\n",
       "      <td>Kamigata To Boots</td>\n",
       "      <td>The Mass Missile</td>\n",
       "      <td>rock</td>\n",
       "      <td>Saint-Petersburg</td>\n",
       "      <td>20:28:33</td>\n",
       "      <td>Wednesday</td>\n",
       "    </tr>\n",
       "    <tr>\n",
       "      <td>1</td>\n",
       "      <td>55204538</td>\n",
       "      <td>Delayed Because of Accident</td>\n",
       "      <td>Andreas Rönnberg</td>\n",
       "      <td>rock</td>\n",
       "      <td>Moscow</td>\n",
       "      <td>14:07:09</td>\n",
       "      <td>Friday</td>\n",
       "    </tr>\n",
       "    <tr>\n",
       "      <td>2</td>\n",
       "      <td>20EC38</td>\n",
       "      <td>Funiculì funiculà</td>\n",
       "      <td>Mario Lanza</td>\n",
       "      <td>pop</td>\n",
       "      <td>Saint-Petersburg</td>\n",
       "      <td>20:58:07</td>\n",
       "      <td>Wednesday</td>\n",
       "    </tr>\n",
       "    <tr>\n",
       "      <td>3</td>\n",
       "      <td>A3DD03C9</td>\n",
       "      <td>Dragons in the Sunset</td>\n",
       "      <td>Fire + Ice</td>\n",
       "      <td>folk</td>\n",
       "      <td>Saint-Petersburg</td>\n",
       "      <td>08:37:09</td>\n",
       "      <td>Monday</td>\n",
       "    </tr>\n",
       "    <tr>\n",
       "      <td>4</td>\n",
       "      <td>E2DC1FAE</td>\n",
       "      <td>Soul People</td>\n",
       "      <td>Space Echo</td>\n",
       "      <td>dance</td>\n",
       "      <td>Moscow</td>\n",
       "      <td>08:34:34</td>\n",
       "      <td>Monday</td>\n",
       "    </tr>\n",
       "    <tr>\n",
       "      <td>5</td>\n",
       "      <td>842029A1</td>\n",
       "      <td>Преданная</td>\n",
       "      <td>IMPERVTOR</td>\n",
       "      <td>rusrap</td>\n",
       "      <td>Saint-Petersburg</td>\n",
       "      <td>13:09:41</td>\n",
       "      <td>Friday</td>\n",
       "    </tr>\n",
       "    <tr>\n",
       "      <td>6</td>\n",
       "      <td>4CB90AA5</td>\n",
       "      <td>True</td>\n",
       "      <td>Roman Messer</td>\n",
       "      <td>dance</td>\n",
       "      <td>Moscow</td>\n",
       "      <td>13:00:07</td>\n",
       "      <td>Wednesday</td>\n",
       "    </tr>\n",
       "    <tr>\n",
       "      <td>7</td>\n",
       "      <td>F03E1C1F</td>\n",
       "      <td>Feeling This Way</td>\n",
       "      <td>Polina Griffith</td>\n",
       "      <td>dance</td>\n",
       "      <td>Moscow</td>\n",
       "      <td>20:47:49</td>\n",
       "      <td>Wednesday</td>\n",
       "    </tr>\n",
       "    <tr>\n",
       "      <td>8</td>\n",
       "      <td>8FA1D3BE</td>\n",
       "      <td>И вновь продолжается бой</td>\n",
       "      <td>NaN</td>\n",
       "      <td>ruspop</td>\n",
       "      <td>Moscow</td>\n",
       "      <td>09:17:40</td>\n",
       "      <td>Friday</td>\n",
       "    </tr>\n",
       "    <tr>\n",
       "      <td>9</td>\n",
       "      <td>E772D5C0</td>\n",
       "      <td>Pessimist</td>\n",
       "      <td>NaN</td>\n",
       "      <td>dance</td>\n",
       "      <td>Saint-Petersburg</td>\n",
       "      <td>21:20:49</td>\n",
       "      <td>Wednesday</td>\n",
       "    </tr>\n",
       "  </tbody>\n",
       "</table>\n",
       "</div>"
      ],
      "text/plain": [
       "     userID                        Track            artist   genre  \\\n",
       "0  FFB692EC            Kamigata To Boots  The Mass Missile    rock   \n",
       "1  55204538  Delayed Because of Accident  Andreas Rönnberg    rock   \n",
       "2    20EC38            Funiculì funiculà       Mario Lanza     pop   \n",
       "3  A3DD03C9        Dragons in the Sunset        Fire + Ice    folk   \n",
       "4  E2DC1FAE                  Soul People        Space Echo   dance   \n",
       "5  842029A1                    Преданная         IMPERVTOR  rusrap   \n",
       "6  4CB90AA5                         True      Roman Messer   dance   \n",
       "7  F03E1C1F             Feeling This Way   Polina Griffith   dance   \n",
       "8  8FA1D3BE     И вновь продолжается бой               NaN  ruspop   \n",
       "9  E772D5C0                    Pessimist               NaN   dance   \n",
       "\n",
       "             City        time        Day  \n",
       "0  Saint-Petersburg  20:28:33  Wednesday  \n",
       "1            Moscow  14:07:09     Friday  \n",
       "2  Saint-Petersburg  20:58:07  Wednesday  \n",
       "3  Saint-Petersburg  08:37:09     Monday  \n",
       "4            Moscow  08:34:34     Monday  \n",
       "5  Saint-Petersburg  13:09:41     Friday  \n",
       "6            Moscow  13:00:07  Wednesday  \n",
       "7            Moscow  20:47:49  Wednesday  \n",
       "8            Moscow  09:17:40     Friday  \n",
       "9  Saint-Petersburg  21:20:49  Wednesday  "
      ]
     },
     "metadata": {},
     "output_type": "display_data"
    }
   ],
   "source": [
    "display(df.head(10))# получение первых 10 строк таблицы df"
   ]
  },
  {
   "cell_type": "markdown",
   "metadata": {
    "id": "EO73Kwic_Zct"
   },
   "source": [
    "Получим общую информацию о таблице:"
   ]
  },
  {
   "cell_type": "code",
   "execution_count": 6,
   "metadata": {
    "id": "DSf2kIb-_Zct"
   },
   "outputs": [
    {
     "name": "stdout",
     "output_type": "stream",
     "text": [
      "<class 'pandas.core.frame.DataFrame'>\n",
      "RangeIndex: 65079 entries, 0 to 65078\n",
      "Data columns (total 7 columns):\n",
      "  userID    65079 non-null object\n",
      "Track       63848 non-null object\n",
      "artist      57876 non-null object\n",
      "genre       63881 non-null object\n",
      "  City      65079 non-null object\n",
      "time        65079 non-null object\n",
      "Day         65079 non-null object\n",
      "dtypes: object(7)\n",
      "memory usage: 3.5+ MB\n"
     ]
    }
   ],
   "source": [
    "df.info()# получение общей информации о данных в таблице df"
   ]
  },
  {
   "cell_type": "markdown",
   "metadata": {
    "id": "TaQ2Iwbr_Zct"
   },
   "source": [
    "Итак, в таблице семь столбцов. Тип данных во всех столбцах — `object`.\n",
    "\n",
    "Согласно документации к данным:\n",
    "* `userID` — идентификатор пользователя;\n",
    "* `Track` — название трека;  \n",
    "* `artist` — имя исполнителя;\n",
    "* `genre` — название жанра;\n",
    "* `City` — город пользователя;\n",
    "* `time` — время начала прослушивания;\n",
    "* `Day` — день недели.\n",
    "\n",
    "В названиях колонок видны три нарушения стиля:\n",
    "1. Строчные буквы сочетаются с прописными.\n",
    "2. Встречаются пробелы.\n",
    "3. Лучше всего в названии колонок использовать \"змеиный стиль\" (вместо userID - user_id)\n",
    "\n",
    "Количество значений в столбцах различается. Значит, в данных есть пропущенные значения.\n"
   ]
  },
  {
   "cell_type": "markdown",
   "metadata": {
    "id": "MCB6-dXG_Zct"
   },
   "source": [
    "**Выводы**\n",
    "\n",
    "В каждой строке таблицы — данные о прослушанном треке. Часть колонок описывает саму композицию: название, исполнителя и жанр. Остальные данные рассказывают о пользователе: из какого он города, когда он слушал музыку. \n",
    "\n",
    "Предварительно можно утверждать, что, данных достаточно для проверки гипотез. Но встречаются пропуски в данных, а в названиях колонок — расхождения с хорошим стилем.\n",
    "\n",
    "Чтобы двигаться дальше, нужно устранить проблемы в данных."
   ]
  },
  {
   "cell_type": "markdown",
   "metadata": {
    "id": "SjYF6Ub9_Zct"
   },
   "source": [
    "## 2. Предобработка данных\n",
    "Исправим стиль в заголовках столбцов, исключим пропуски,проверим данные на дубликаты."
   ]
  },
  {
   "cell_type": "markdown",
   "metadata": {
    "id": "dIaKXr29_Zct"
   },
   "source": [
    "### Стиль заголовков\n",
    "Выведем на экран названия столбцов:"
   ]
  },
  {
   "cell_type": "code",
   "execution_count": 7,
   "metadata": {
    "id": "oKOTdF_Q_Zct"
   },
   "outputs": [
    {
     "data": {
      "text/plain": [
       "Index(['  userID', 'Track', 'artist', 'genre', '  City  ', 'time', 'Day'], dtype='object')"
      ]
     },
     "execution_count": 7,
     "metadata": {},
     "output_type": "execute_result"
    }
   ],
   "source": [
    "df.columns# перечень названий столбцов таблицы df"
   ]
  },
  {
   "cell_type": "markdown",
   "metadata": {
    "id": "zj5534cv_Zct"
   },
   "source": [
    "Приведем названия в соответствие с хорошим стилем:\n",
    "* несколько слов в названии запишем в «змеином_регистре»,\n",
    "* все символы сделаем строчными,\n",
    "* устраним пробелы.\n",
    "\n",
    "Для этого переименуем колонки так:\n",
    "* `'  userID'` → `'user_id'`;\n",
    "* `'Track'` → `'track'`;\n",
    "* `'  City  '` → `'city'`;\n",
    "* `'Day'` → `'day'`."
   ]
  },
  {
   "cell_type": "code",
   "execution_count": 8,
   "metadata": {
    "id": "ISlFqs5y_Zct"
   },
   "outputs": [],
   "source": [
    "df=df.rename(columns={'  userID':'user_id', 'Track':'track', '  City  ':'city', 'Day':'day'})# переименование столбцов"
   ]
  },
  {
   "cell_type": "markdown",
   "metadata": {
    "id": "1dqbh00J_Zct"
   },
   "source": [
    "Проверим результат. Для этого ещё раз выведем на экран названия столбцов:"
   ]
  },
  {
   "cell_type": "code",
   "execution_count": 9,
   "metadata": {
    "id": "d4NOAmTW_Zct"
   },
   "outputs": [
    {
     "data": {
      "text/plain": [
       "Index(['user_id', 'track', 'artist', 'genre', 'city', 'time', 'day'], dtype='object')"
      ]
     },
     "execution_count": 9,
     "metadata": {},
     "output_type": "execute_result"
    }
   ],
   "source": [
    "df.columns# проверка результатов - перечень названий столбцов"
   ]
  },
  {
   "cell_type": "markdown",
   "metadata": {
    "id": "5ISfbcfY_Zct"
   },
   "source": [
    "### Пропуски значений\n",
    "Сначала посчитаем, сколько в таблице пропущенных значений."
   ]
  },
  {
   "cell_type": "code",
   "execution_count": 10,
   "metadata": {
    "id": "RskX29qr_Zct"
   },
   "outputs": [
    {
     "data": {
      "text/plain": [
       "user_id       0\n",
       "track      1231\n",
       "artist     7203\n",
       "genre      1198\n",
       "city          0\n",
       "time          0\n",
       "day           0\n",
       "dtype: int64"
      ]
     },
     "metadata": {},
     "output_type": "display_data"
    }
   ],
   "source": [
    "display(df.isna().sum())# подсчёт пропусков"
   ]
  },
  {
   "cell_type": "markdown",
   "metadata": {
    "id": "fSv2laPA_Zct"
   },
   "source": [
    "Заменим пропущенные значения в столбцах `track`, `artist` и `genre` на строку `'unknown'`. Для этого создадим список `columns_to_replace`, переберем его элементы циклом `for` и для каждого столбца выполним замену пропущенных значений:"
   ]
  },
  {
   "cell_type": "code",
   "execution_count": 11,
   "metadata": {
    "id": "KplB5qWs_Zct"
   },
   "outputs": [],
   "source": [
    "columns_to_replace = 'track', 'artist', 'genre'\n",
    "for column in columns_to_replace:\n",
    "    df[column] = df[column].fillna('unknown')# перебор названий столбцов в цикле и замена пропущенных значений на 'unknown'"
   ]
  },
  {
   "cell_type": "markdown",
   "metadata": {
    "id": "Ilsm-MZo_Zct"
   },
   "source": [
    "Убедимся, что в таблице не осталось пропусков. Для этого ещё раз посчитаем пропущенные значения."
   ]
  },
  {
   "cell_type": "code",
   "execution_count": 12,
   "metadata": {
    "id": "Tq4nYRX4_Zct"
   },
   "outputs": [
    {
     "data": {
      "text/plain": [
       "user_id    0\n",
       "track      0\n",
       "artist     0\n",
       "genre      0\n",
       "city       0\n",
       "time       0\n",
       "day        0\n",
       "dtype: int64"
      ]
     },
     "metadata": {},
     "output_type": "display_data"
    }
   ],
   "source": [
    "display(df.isna().sum())# подсчёт пропусков"
   ]
  },
  {
   "cell_type": "markdown",
   "metadata": {
    "id": "BWKRtBJ3_Zct"
   },
   "source": [
    "### Дубликаты\n",
    "Посчитаем явные дубликаты в таблице:"
   ]
  },
  {
   "cell_type": "code",
   "execution_count": 13,
   "metadata": {
    "id": "36eES_S0_Zct"
   },
   "outputs": [
    {
     "data": {
      "text/plain": [
       "3826"
      ]
     },
     "execution_count": 13,
     "metadata": {},
     "output_type": "execute_result"
    }
   ],
   "source": [
    "df.duplicated().sum()# подсчёт явных дубликатов"
   ]
  },
  {
   "cell_type": "markdown",
   "metadata": {
    "id": "Ot25h6XR_Zct"
   },
   "source": [
    "Удалим явные дубликаты:"
   ]
  },
  {
   "cell_type": "code",
   "execution_count": 14,
   "metadata": {
    "id": "exFHq6tt_Zct"
   },
   "outputs": [],
   "source": [
    "df = df.drop_duplicates().reset_index(drop=True)# удаление явных дубликатов (с удалением старых индексов и формированием новых)"
   ]
  },
  {
   "cell_type": "markdown",
   "metadata": {
    "id": "Im2YwBEG_Zct"
   },
   "source": [
    "Ещё раз посчитаем явные дубликаты в таблице:"
   ]
  },
  {
   "cell_type": "code",
   "execution_count": 15,
   "metadata": {
    "id": "-8PuNWQ0_Zct",
    "scrolled": true
   },
   "outputs": [
    {
     "data": {
      "text/plain": [
       "0"
      ]
     },
     "execution_count": 15,
     "metadata": {},
     "output_type": "execute_result"
    }
   ],
   "source": [
    "df.duplicated().sum()# проверка на отсутствие дубликатов"
   ]
  },
  {
   "cell_type": "markdown",
   "metadata": {
    "id": "QlFBsxAr_Zct"
   },
   "source": [
    "Теперь избавимся от неявных дубликатов в колонке `genre`."
   ]
  },
  {
   "cell_type": "markdown",
   "metadata": {
    "id": "eSjWwsOh_Zct"
   },
   "source": [
    "Выведем на экран список уникальных названий жанров, отсортированный в алфавитном порядке. Для этого:\n",
    "* извлечем нужный столбец датафрейма, \n",
    "* применим к нему метод сортировки,\n",
    "* для отсортированного столбца вызовем метод, который вернёт уникальные значения из столбца."
   ]
  },
  {
   "cell_type": "code",
   "execution_count": 22,
   "metadata": {
    "id": "JIUcqzZN_Zct"
   },
   "outputs": [
    {
     "data": {
      "text/plain": [
       "array(['rock', 'pop', 'folk', 'dance', 'rusrap', 'ruspop', 'world',\n",
       "       'electronic', 'unknown', 'alternative', 'children', 'rnb', 'hip',\n",
       "       'jazz', 'postrock', 'latin', 'classical', 'metal', 'reggae',\n",
       "       'tatar', 'blues', 'instrumental', 'rusrock', 'dnb', 'türk', 'post',\n",
       "       'country', 'psychedelic', 'conjazz', 'indie', 'posthardcore',\n",
       "       'local', 'avantgarde', 'punk', 'videogame', 'techno', 'house',\n",
       "       'christmas', 'melodic', 'caucasian', 'reggaeton', 'soundtrack',\n",
       "       'singer', 'ska', 'shanson', 'ambient', 'film', 'western', 'rap',\n",
       "       'beats', \"hard'n'heavy\", 'progmetal', 'minimal', 'contemporary',\n",
       "       'new', 'soul', 'holiday', 'german', 'tropical', 'fairytail',\n",
       "       'spiritual', 'urban', 'gospel', 'nujazz', 'folkmetal', 'trance',\n",
       "       'miscellaneous', 'anime', 'hardcore', 'progressive', 'chanson',\n",
       "       'numetal', 'vocal', 'estrada', 'russian', 'classicmetal',\n",
       "       'dubstep', 'club', 'deep', 'southern', 'black', 'folkrock',\n",
       "       'fitness', 'french', 'disco', 'religious', 'hiphop', 'drum',\n",
       "       'extrememetal', 'türkçe', 'experimental', 'easy', 'metalcore',\n",
       "       'modern', 'argentinetango', 'old', 'breaks', 'eurofolk',\n",
       "       'stonerrock', 'industrial', 'funk', 'jpop', 'middle', 'variété',\n",
       "       'other', 'adult', 'christian', 'gothic', 'international', 'muslim',\n",
       "       'relax', 'schlager', 'caribbean', 'ukrrock', 'nu', 'breakbeat',\n",
       "       'comedy', 'chill', 'newage', 'specialty', 'uzbek', 'k-pop',\n",
       "       'balkan', 'chinese', 'meditative', 'dub', 'power', 'death',\n",
       "       'grime', 'arabesk', 'romance', 'flamenco', 'leftfield', 'european',\n",
       "       'tech', 'newwave', 'dancehall', 'mpb', 'piano', 'top', 'bigroom',\n",
       "       'opera', 'celtic', 'tradjazz', 'acoustic', 'epicmetal', 'hip-hop',\n",
       "       'historisch', 'downbeat', 'downtempo', 'africa', 'audiobook',\n",
       "       'jewish', 'sängerportrait', 'deutschrock', 'eastern', 'action',\n",
       "       'future', 'electropop', 'folklore', 'bollywood', 'marschmusik',\n",
       "       'rnr', 'karaoke', 'indian', 'rancheras', 'электроника',\n",
       "       'afrikaans', 'tango', 'rhythm', 'sound', 'deutschspr', 'trip',\n",
       "       'lovers', 'choral', 'dancepop', 'podcasts', 'retro', 'smooth',\n",
       "       'mexican', 'brazilian', 'ïîï', 'mood', 'surf', 'author', 'gangsta',\n",
       "       'triphop', 'inspirational', 'idm', 'ethnic', 'bluegrass',\n",
       "       'broadway', 'animated', 'americana', 'karadeniz', 'rockabilly',\n",
       "       'colombian', 'self', 'hop', 'synthrock', 'sertanejo', 'japanese',\n",
       "       'canzone', 'swing', 'lounge', 'sport', 'korean', 'ragga',\n",
       "       'traditional', 'gitarre', 'frankreich', 'alternativepunk', 'emo',\n",
       "       'laiko', 'cantopop', 'glitch', 'documentary', 'rockalternative',\n",
       "       'thrash', 'hymn', 'oceania', 'rockother', 'popeurodance', 'dark',\n",
       "       'vi', 'grunge', 'hardstyle', 'samba', 'garage', 'soft', 'art',\n",
       "       'folktronica', 'entehno', 'mediterranean', 'chamber', 'cuban',\n",
       "       'taraftar', 'rockindie', 'gypsy', 'hardtechno', 'shoegazing',\n",
       "       'skarock', 'bossa', 'salsa', 'latino', 'worldbeat', 'malaysian',\n",
       "       'baile', 'ghazal', 'loungeelectronic', 'arabic', 'popelectronic',\n",
       "       'acid', 'kayokyoku', 'neoklassik', 'tribal', 'tanzorchester',\n",
       "       'native', 'independent', 'cantautori', 'handsup', 'poprussian',\n",
       "       'punjabi', 'synthpop', 'rave', 'französisch', 'quebecois',\n",
       "       'speech', 'soulful', 'teen', 'jam', 'ram', 'horror', 'scenic',\n",
       "       'orchestral', 'neue', 'roots', 'slow', 'jungle', 'indipop', 'axé',\n",
       "       'fado', 'showtunes', 'arena', 'irish', 'mandopop', 'forró',\n",
       "       'popdance', 'dirty', 'regional'], dtype=object)"
      ]
     },
     "metadata": {},
     "output_type": "display_data"
    }
   ],
   "source": [
    "display(df['genre'].unique())# Просмотр уникальных названий жанров"
   ]
  },
  {
   "cell_type": "markdown",
   "metadata": {
    "id": "qej-Qmuo_Zct"
   },
   "source": [
    "Просмотрим список и найдем неявные дубликаты названия `hiphop`."
   ]
  },
  {
   "cell_type": "code",
   "execution_count": 23,
   "metadata": {
    "id": "ErNDkmns_Zct"
   },
   "outputs": [],
   "source": [
    "def replace_wrong_genres(wrong_genres, correct_genre):\n",
    "    for wrong_genre in wrong_genres:\n",
    "        df['genre'] = df['genre'].replace(wrong_genre, correct_genre) # Функция для замены неявных дубликатов"
   ]
  },
  {
   "cell_type": "markdown",
   "metadata": {
    "id": "aDoBJxbA_Zct"
   },
   "source": [
    "Вызовем `replace_wrong_genres()` и передадим ей такие аргументы, чтобы она устранила неявные дубликаты: вместо `hip`, `hop` и `hip-hop` в таблице должно быть значение `hiphop`:"
   ]
  },
  {
   "cell_type": "code",
   "execution_count": 24,
   "metadata": {
    "id": "YN5i2hpmSo09"
   },
   "outputs": [],
   "source": [
    "wrong_names = ['hip', 'hop', 'hip-hop']\n",
    "correct_name = 'hiphop'\n",
    "replace_wrong_genres(wrong_names, correct_name)# Устранение неявных дубликатов"
   ]
  },
  {
   "cell_type": "markdown",
   "metadata": {
    "id": "zQKF16_RG15m"
   },
   "source": [
    "Проверим, что заменили неправильные названия:\n",
    "\n",
    "*   hip\n",
    "*   hop\n",
    "*   hip-hop\n",
    "\n",
    "Выведем отсортированный список уникальных значений столбца `genre`:"
   ]
  },
  {
   "cell_type": "code",
   "execution_count": 25,
   "metadata": {
    "id": "wvixALnFG15m"
   },
   "outputs": [
    {
     "data": {
      "text/plain": [
       "array(['rock', 'pop', 'folk', 'dance', 'rusrap', 'ruspop', 'world',\n",
       "       'electronic', 'unknown', 'alternative', 'children', 'rnb',\n",
       "       'hiphop', 'jazz', 'postrock', 'latin', 'classical', 'metal',\n",
       "       'reggae', 'tatar', 'blues', 'instrumental', 'rusrock', 'dnb',\n",
       "       'türk', 'post', 'country', 'psychedelic', 'conjazz', 'indie',\n",
       "       'posthardcore', 'local', 'avantgarde', 'punk', 'videogame',\n",
       "       'techno', 'house', 'christmas', 'melodic', 'caucasian',\n",
       "       'reggaeton', 'soundtrack', 'singer', 'ska', 'shanson', 'ambient',\n",
       "       'film', 'western', 'rap', 'beats', \"hard'n'heavy\", 'progmetal',\n",
       "       'minimal', 'contemporary', 'new', 'soul', 'holiday', 'german',\n",
       "       'tropical', 'fairytail', 'spiritual', 'urban', 'gospel', 'nujazz',\n",
       "       'folkmetal', 'trance', 'miscellaneous', 'anime', 'hardcore',\n",
       "       'progressive', 'chanson', 'numetal', 'vocal', 'estrada', 'russian',\n",
       "       'classicmetal', 'dubstep', 'club', 'deep', 'southern', 'black',\n",
       "       'folkrock', 'fitness', 'french', 'disco', 'religious', 'drum',\n",
       "       'extrememetal', 'türkçe', 'experimental', 'easy', 'metalcore',\n",
       "       'modern', 'argentinetango', 'old', 'breaks', 'eurofolk',\n",
       "       'stonerrock', 'industrial', 'funk', 'jpop', 'middle', 'variété',\n",
       "       'other', 'adult', 'christian', 'gothic', 'international', 'muslim',\n",
       "       'relax', 'schlager', 'caribbean', 'ukrrock', 'nu', 'breakbeat',\n",
       "       'comedy', 'chill', 'newage', 'specialty', 'uzbek', 'k-pop',\n",
       "       'balkan', 'chinese', 'meditative', 'dub', 'power', 'death',\n",
       "       'grime', 'arabesk', 'romance', 'flamenco', 'leftfield', 'european',\n",
       "       'tech', 'newwave', 'dancehall', 'mpb', 'piano', 'top', 'bigroom',\n",
       "       'opera', 'celtic', 'tradjazz', 'acoustic', 'epicmetal',\n",
       "       'historisch', 'downbeat', 'downtempo', 'africa', 'audiobook',\n",
       "       'jewish', 'sängerportrait', 'deutschrock', 'eastern', 'action',\n",
       "       'future', 'electropop', 'folklore', 'bollywood', 'marschmusik',\n",
       "       'rnr', 'karaoke', 'indian', 'rancheras', 'электроника',\n",
       "       'afrikaans', 'tango', 'rhythm', 'sound', 'deutschspr', 'trip',\n",
       "       'lovers', 'choral', 'dancepop', 'podcasts', 'retro', 'smooth',\n",
       "       'mexican', 'brazilian', 'ïîï', 'mood', 'surf', 'author', 'gangsta',\n",
       "       'triphop', 'inspirational', 'idm', 'ethnic', 'bluegrass',\n",
       "       'broadway', 'animated', 'americana', 'karadeniz', 'rockabilly',\n",
       "       'colombian', 'self', 'synthrock', 'sertanejo', 'japanese',\n",
       "       'canzone', 'swing', 'lounge', 'sport', 'korean', 'ragga',\n",
       "       'traditional', 'gitarre', 'frankreich', 'alternativepunk', 'emo',\n",
       "       'laiko', 'cantopop', 'glitch', 'documentary', 'rockalternative',\n",
       "       'thrash', 'hymn', 'oceania', 'rockother', 'popeurodance', 'dark',\n",
       "       'vi', 'grunge', 'hardstyle', 'samba', 'garage', 'soft', 'art',\n",
       "       'folktronica', 'entehno', 'mediterranean', 'chamber', 'cuban',\n",
       "       'taraftar', 'rockindie', 'gypsy', 'hardtechno', 'shoegazing',\n",
       "       'skarock', 'bossa', 'salsa', 'latino', 'worldbeat', 'malaysian',\n",
       "       'baile', 'ghazal', 'loungeelectronic', 'arabic', 'popelectronic',\n",
       "       'acid', 'kayokyoku', 'neoklassik', 'tribal', 'tanzorchester',\n",
       "       'native', 'independent', 'cantautori', 'handsup', 'poprussian',\n",
       "       'punjabi', 'synthpop', 'rave', 'französisch', 'quebecois',\n",
       "       'speech', 'soulful', 'teen', 'jam', 'ram', 'horror', 'scenic',\n",
       "       'orchestral', 'neue', 'roots', 'slow', 'jungle', 'indipop', 'axé',\n",
       "       'fado', 'showtunes', 'arena', 'irish', 'mandopop', 'forró',\n",
       "       'popdance', 'dirty', 'regional'], dtype=object)"
      ]
     },
     "metadata": {},
     "output_type": "display_data"
    }
   ],
   "source": [
    "display(df['genre'].unique())# Проверка на неявные дубликаты"
   ]
  },
  {
   "cell_type": "markdown",
   "metadata": {
    "id": "jz6a9-7HQUDd"
   },
   "source": [
    "**Выводы**\n",
    "\n",
    "Предобработка обнаружила три проблемы в данных:\n",
    "\n",
    "- нарушения в стиле заголовков,\n",
    "- пропущенные значения,\n",
    "- дубликаты — явные и неявные.\n",
    "\n",
    "Были исправлены заголовки для упрощения работы с таблицей, удалены явные дубликаты и заменены неявные дубликаты, пропущенные значения заменены на `'unknown'`.\n",
    "\n",
    "Теперь можно перейти к проверке гипотез. "
   ]
  },
  {
   "cell_type": "markdown",
   "metadata": {
    "id": "WttZHXH0SqKk"
   },
   "source": [
    "## 3. Проверка гипотез"
   ]
  },
  {
   "cell_type": "markdown",
   "metadata": {
    "id": "Im936VVi_Zcu"
   },
   "source": [
    "### Сравнение поведения пользователей двух столиц"
   ]
  },
  {
   "cell_type": "markdown",
   "metadata": {
    "id": "nwt_MuaL_Zcu"
   },
   "source": [
    "Первая гипотеза - пользователи по-разному слушают музыку в Москве и Санкт-Петербурге. Проверим это предположение по данным о трёх днях недели — понедельнике, среде и пятнице. Для этого:\n",
    "\n",
    "* Разделим пользователей Москвы и Санкт-Петербурга\n",
    "* Сравним, сколько треков послушала каждая группа пользователей в понедельник, среду и пятницу.\n"
   ]
  },
  {
   "cell_type": "markdown",
   "metadata": {
    "id": "8Dw_YMmT_Zcu"
   },
   "source": [
    "Оценим активность пользователей в каждом городе. Сгруппируем данные по городу и посчитаем прослушивания в каждой группе."
   ]
  },
  {
   "cell_type": "code",
   "execution_count": 26,
   "metadata": {
    "id": "0_Qs96oh_Zcu"
   },
   "outputs": [
    {
     "data": {
      "text/plain": [
       "city\n",
       "Moscow              42741\n",
       "Saint-Petersburg    18512\n",
       "Name: time, dtype: int64"
      ]
     },
     "metadata": {},
     "output_type": "display_data"
    }
   ],
   "source": [
    "display(df.groupby('city')['time'].count())# Подсчёт прослушиваний в каждом городе"
   ]
  },
  {
   "cell_type": "markdown",
   "metadata": {
    "id": "dzli3w8o_Zcu"
   },
   "source": [
    "В Москве прослушиваний больше, чем в Петербурге. Из этого не следует, что московские пользователи чаще слушают музыку. Просто самих пользователей в Москве больше.\n",
    "\n",
    "Теперь сгруппируем данные по дню недели и подсчитаем прослушивания в понедельник, среду и пятницу."
   ]
  },
  {
   "cell_type": "code",
   "execution_count": 27,
   "metadata": {
    "id": "uZMKjiJz_Zcu"
   },
   "outputs": [
    {
     "data": {
      "text/plain": [
       "day\n",
       "Friday       21840\n",
       "Monday       21354\n",
       "Wednesday    18059\n",
       "Name: time, dtype: int64"
      ]
     },
     "metadata": {},
     "output_type": "display_data"
    }
   ],
   "source": [
    "display(df.groupby('day')['time'].count())# Подсчёт прослушиваний в каждый из трёх дней"
   ]
  },
  {
   "cell_type": "markdown",
   "metadata": {
    "id": "cC2tNrlL_Zcu"
   },
   "source": [
    "В среднем пользователи из двух городов менее активны по средам. Но картина может измениться, если рассмотреть каждый город в отдельности."
   ]
  },
  {
   "cell_type": "markdown",
   "metadata": {
    "id": "POzs8bGa_Zcu"
   },
   "source": [
    "Создадим функцию `number_tracks()`, которая посчитает прослушивания для заданного дня и города. Ей понадобятся два параметра:\n",
    "* день недели,\n",
    "* название города.\n",
    "\n",
    "В функции сохраним в переменную строки исходной таблицы, у которых значение:\n",
    "  * в колонке `day` равно параметру `day`,\n",
    "  * в колонке `city` равно параметру `city`.\n",
    "\n",
    "Для этого применим последовательную фильтрацию с логической индексацией.\n",
    "\n",
    "Затем посчитаем значения в столбце `user_id` получившейся таблицы. Результат сохраним в новую переменную. Вернем эту переменную из функции."
   ]
  },
  {
   "cell_type": "code",
   "execution_count": 28,
   "metadata": {
    "id": "Nz3GdQB1_Zcu"
   },
   "outputs": [],
   "source": [
    "# <создание функции number_tracks()>\n",
    "# Объявляется функция с двумя параметрами: day, city.\n",
    "# В переменной track_list сохраняются те строки таблицы df, для которых \n",
    "# значение в столбце 'day' равно параметру day и одновременно значение\n",
    "# в столбце 'city' равно параметру city (используйте последовательную фильтрацию\n",
    "# с помощью логической индексации).\n",
    "# В переменной track_list_count сохраняется число значений столбца 'user_id',\n",
    "# рассчитанное методом count() для таблицы track_list.\n",
    "# Функция возвращает число - значение track_list_count.\n",
    "\n",
    "# Функция для подсчёта прослушиваний для конкретного города и дня.\n",
    "# С помощью последовательной фильтрации с логической индексацией она \n",
    "# сначала получит из исходной таблицы строки с нужным днём,\n",
    "# затем из результата отфильтрует строки с нужным городом,\n",
    "# методом count() посчитает количество значений в колонке user_id. \n",
    "# Это количество функция вернёт в качестве результата\n",
    "\n",
    "\n",
    "def number_tracks(day, city):\n",
    "    track_list = df[df['day']==day]\n",
    "    track_list = track_list[track_list['city']==city]\n",
    "    track_list_count = track_list['user_id'].count()\n",
    "    return track_list_count"
   ]
  },
  {
   "cell_type": "markdown",
   "metadata": {
    "id": "ytf7xFrFJQ2r"
   },
   "source": [
    "Вызовем `number_tracks()` шесть раз, меняя значение параметров — так, чтобы получить данные для каждого города в каждый из трёх дней."
   ]
  },
  {
   "cell_type": "code",
   "execution_count": 29,
   "metadata": {
    "id": "rJcRATNQ_Zcu"
   },
   "outputs": [
    {
     "data": {
      "text/plain": [
       "15740"
      ]
     },
     "execution_count": 29,
     "metadata": {},
     "output_type": "execute_result"
    }
   ],
   "source": [
    "number_tracks('Monday', 'Moscow')# количество прослушиваний в Москве по понедельникам"
   ]
  },
  {
   "cell_type": "code",
   "execution_count": 30,
   "metadata": {
    "id": "hq_ncZ5T_Zcu"
   },
   "outputs": [
    {
     "data": {
      "text/plain": [
       "5614"
      ]
     },
     "execution_count": 30,
     "metadata": {},
     "output_type": "execute_result"
    }
   ],
   "source": [
    "number_tracks('Monday', 'Saint-Petersburg')# количество прослушиваний в Санкт-Петербурге по понедельникам"
   ]
  },
  {
   "cell_type": "code",
   "execution_count": 31,
   "metadata": {
    "id": "_NTy2VPU_Zcu"
   },
   "outputs": [
    {
     "data": {
      "text/plain": [
       "11056"
      ]
     },
     "execution_count": 31,
     "metadata": {},
     "output_type": "execute_result"
    }
   ],
   "source": [
    "number_tracks('Wednesday', 'Moscow')# количество прослушиваний в Москве по средам"
   ]
  },
  {
   "cell_type": "code",
   "execution_count": 32,
   "metadata": {
    "id": "j2y3TAwo_Zcu"
   },
   "outputs": [
    {
     "data": {
      "text/plain": [
       "7003"
      ]
     },
     "execution_count": 32,
     "metadata": {},
     "output_type": "execute_result"
    }
   ],
   "source": [
    "number_tracks('Wednesday', 'Saint-Petersburg')# количество прослушиваний в Санкт-Петербурге по средам"
   ]
  },
  {
   "cell_type": "code",
   "execution_count": 33,
   "metadata": {
    "id": "vYDw5u_K_Zcu"
   },
   "outputs": [
    {
     "data": {
      "text/plain": [
       "15945"
      ]
     },
     "execution_count": 33,
     "metadata": {},
     "output_type": "execute_result"
    }
   ],
   "source": [
    "number_tracks('Friday', 'Moscow')# количество прослушиваний в Москве по пятницам"
   ]
  },
  {
   "cell_type": "code",
   "execution_count": 34,
   "metadata": {
    "id": "8_yzFtW3_Zcu"
   },
   "outputs": [
    {
     "data": {
      "text/plain": [
       "5895"
      ]
     },
     "execution_count": 34,
     "metadata": {},
     "output_type": "execute_result"
    }
   ],
   "source": [
    "number_tracks('Friday', 'Saint-Petersburg')# количество прослушиваний в Санкт-Петербурге по пятницам"
   ]
  },
  {
   "cell_type": "markdown",
   "metadata": {
    "id": "7QXffbO-_Zcu"
   },
   "source": [
    "Создадим c помощью конструктора `pd.DataFrame` таблицу, где\n",
    "* названия колонок — `['city', 'monday', 'wednesday', 'friday']`;\n",
    "* данные — результаты, которые вы получили с помощью `number_tracks`."
   ]
  },
  {
   "cell_type": "code",
   "execution_count": 37,
   "metadata": {
    "id": "APAcLpOr_Zcu"
   },
   "outputs": [
    {
     "name": "stdout",
     "output_type": "stream",
     "text": [
      "               city  monday  wednesday  friday\n",
      "0            Moscow   15740      11056   15945\n",
      "1  Saint-Petersburg    5614       7003    5895\n"
     ]
    }
   ],
   "source": [
    "data = [['Moscow', 15740, 11056, 15945], ['Saint-Petersburg', 5614, 7003, 5895]]\n",
    "columns=['city', 'monday', 'wednesday', 'friday']\n",
    "df_city_day = pd.DataFrame(data=data,columns=columns)\n",
    "print(df_city_day)# Таблица с результатами"
   ]
  },
  {
   "cell_type": "markdown",
   "metadata": {
    "id": "-EgPIHYu_Zcu"
   },
   "source": [
    "**Выводы**\n",
    "\n",
    "Данные показывают разницу поведения пользователей:\n",
    "\n",
    "- В Москве пик прослушиваний приходится на понедельник и пятницу, а в среду заметен спад.\n",
    "- В Петербурге, наоборот, больше слушают музыку по средам. Активность в понедельник и пятницу здесь почти в равной мере уступает среде.\n",
    "\n",
    "Значит, данные говорят в пользу первой гипотезы."
   ]
  },
  {
   "cell_type": "markdown",
   "metadata": {
    "id": "atZAxtq4_Zcu"
   },
   "source": [
    "### Музыка в начале и в конце недели"
   ]
  },
  {
   "cell_type": "markdown",
   "metadata": {
    "id": "eXrQqXFH_Zcu"
   },
   "source": [
    "Вторая гипотеза - утром в понедельник в Москве преобладают одни жанры, а в Петербурге — другие. Так же и вечером пятницы преобладают разные жанры — в зависимости от города."
   ]
  },
  {
   "cell_type": "markdown",
   "metadata": {
    "id": "S8UcW6Hw_Zcu"
   },
   "source": [
    "Сохраним таблицы с данными в две переменные:\n",
    "* по Москве — в `moscow_general`;\n",
    "* по Санкт-Петербургу — в `spb_general`."
   ]
  },
  {
   "cell_type": "code",
   "execution_count": 38,
   "metadata": {
    "id": "qeaFfM_P_Zcu"
   },
   "outputs": [],
   "source": [
    "# получение таблицы moscow_general из тех строк таблицы df, \n",
    "# для которых значение в столбце 'city' равно 'Moscow'\n",
    "\n",
    "moscow_general = df[df['city']=='Moscow']\n"
   ]
  },
  {
   "cell_type": "code",
   "execution_count": 39,
   "metadata": {
    "id": "ORaVRKto_Zcu"
   },
   "outputs": [],
   "source": [
    "# получение таблицы spb_general из тех строк таблицы df,\n",
    "# для которых значение в столбце 'city' равно 'Saint-Petersburg'\n",
    "spb_general = df[df['city']=='Saint-Petersburg']\n"
   ]
  },
  {
   "cell_type": "markdown",
   "metadata": {
    "id": "MEJV-CX2_Zcu"
   },
   "source": [
    "Создадим функцию `genre_weekday()` с четырьмя параметрами:\n",
    "* таблица (датафрейм) с данными,\n",
    "* день недели,\n",
    "* начальная временная метка в формате 'hh:mm', \n",
    "* последняя временная метка в формате 'hh:mm'.\n",
    "\n",
    "Функция должна вернуть информацию о топ-10 жанров тех треков, которые прослушивали в указанный день, в промежутке между двумя отметками времени."
   ]
  },
  {
   "cell_type": "code",
   "execution_count": 40,
   "metadata": {
    "id": "laJT9BYl_Zcu"
   },
   "outputs": [],
   "source": [
    "# Объявление функции genre_weekday() с параметрами table, day, time1, time2,\n",
    "# которая возвращает информацию о самых популярных жанрах в указанный день в\n",
    "# заданное время:\n",
    "# 1) в переменную genre_df сохраняются те строки переданного датафрейма table, для\n",
    "#    которых одновременно:\n",
    "#    - значение в столбце day равно значению аргумента day\n",
    "#    - значение в столбце time больше значения аргумента time1\n",
    "#    - значение в столбце time меньше значения аргумента time2\n",
    "#    Используйте последовательную фильтрацию с помощью логической индексации.\n",
    "# 2) сгруппировать датафрейм genre_df по столбцу genre, взять один из его\n",
    "#    столбцов и посчитать методом count() количество записей для каждого из\n",
    "#    присутствующих жанров, получившийся Series записать в переменную\n",
    "#    genre_df_count\n",
    "# 3) отсортировать genre_df_count по убыванию встречаемости и сохранить\n",
    "#    в переменную genre_df_sorted\n",
    "# 4) вернуть Series из 10 первых значений genre_df_sorted, это будут топ-10\n",
    "#    популярных жанров (в указанный день, в заданное время)\n",
    "\n",
    "def genre_weekday(table, day, time1, time2):\n",
    "    genre_df = table[table['day']==day]\n",
    "    genre_df = genre_df[genre_df['time']>time1]\n",
    "    genre_df = genre_df[genre_df['time']<time2]\n",
    "    genre_df_count = genre_df.groupby('genre')['user_id'].count()\n",
    "    genre_df_sorted = genre_df_count.sort_values(ascending=False)\n",
    "    return genre_df_sorted.head(10)\n",
    "    \n"
   ]
  },
  {
   "cell_type": "markdown",
   "metadata": {
    "id": "la2s2_PF_Zcu"
   },
   "source": [
    "Cравним результаты функции `genre_weekday()` для Москвы и Санкт-Петербурга в понедельник утром (с 7:00 до 11:00) и в пятницу вечером (с 17:00 до 23:00):"
   ]
  },
  {
   "cell_type": "code",
   "execution_count": 41,
   "metadata": {
    "id": "yz7itPUQ_Zcu"
   },
   "outputs": [
    {
     "data": {
      "text/plain": [
       "genre\n",
       "pop            781\n",
       "dance          549\n",
       "electronic     480\n",
       "rock           474\n",
       "hiphop         286\n",
       "ruspop         186\n",
       "world          181\n",
       "rusrap         175\n",
       "alternative    164\n",
       "unknown        161\n",
       "Name: user_id, dtype: int64"
      ]
     },
     "execution_count": 41,
     "metadata": {},
     "output_type": "execute_result"
    }
   ],
   "source": [
    "# вызов функции для утра понедельника в Москве (вместо df — таблица moscow_general)\n",
    "# объекты, хранящие время, являются строками и сравниваются как строки\n",
    "# пример вызова: genre_weekday(moscow_general, 'Monday', '07:00', '11:00')\n",
    "\n",
    "genre_weekday(moscow_general, 'Monday', '07:00', '11:00')"
   ]
  },
  {
   "cell_type": "code",
   "execution_count": 42,
   "metadata": {
    "id": "kwUcHPdy_Zcu"
   },
   "outputs": [
    {
     "data": {
      "text/plain": [
       "genre\n",
       "pop            218\n",
       "dance          182\n",
       "rock           162\n",
       "electronic     147\n",
       "hiphop          80\n",
       "ruspop          64\n",
       "alternative     58\n",
       "rusrap          55\n",
       "jazz            44\n",
       "classical       40\n",
       "Name: user_id, dtype: int64"
      ]
     },
     "execution_count": 42,
     "metadata": {},
     "output_type": "execute_result"
    }
   ],
   "source": [
    "# вызов функции для утра понедельника в Петербурге (вместо df — таблица spb_general)\n",
    "genre_weekday(spb_general, 'Monday', '07:00', '11:00')"
   ]
  },
  {
   "cell_type": "code",
   "execution_count": 43,
   "metadata": {
    "id": "EzXVRE1o_Zcu"
   },
   "outputs": [
    {
     "data": {
      "text/plain": [
       "genre\n",
       "pop            713\n",
       "rock           517\n",
       "dance          495\n",
       "electronic     482\n",
       "hiphop         273\n",
       "world          208\n",
       "ruspop         170\n",
       "alternative    163\n",
       "classical      163\n",
       "rusrap         142\n",
       "Name: user_id, dtype: int64"
      ]
     },
     "execution_count": 43,
     "metadata": {},
     "output_type": "execute_result"
    }
   ],
   "source": [
    "# вызов функции для вечера пятницы в Москве\n",
    "genre_weekday(moscow_general, 'Friday', '17:00', '23:00')"
   ]
  },
  {
   "cell_type": "code",
   "execution_count": 44,
   "metadata": {
    "id": "JZaEKu5v_Zcu"
   },
   "outputs": [
    {
     "data": {
      "text/plain": [
       "genre\n",
       "pop            256\n",
       "rock           216\n",
       "electronic     216\n",
       "dance          210\n",
       "hiphop          97\n",
       "alternative     63\n",
       "jazz            61\n",
       "classical       60\n",
       "rusrap          59\n",
       "world           54\n",
       "Name: user_id, dtype: int64"
      ]
     },
     "execution_count": 44,
     "metadata": {},
     "output_type": "execute_result"
    }
   ],
   "source": [
    "# вызов функции для вечера пятницы в Петербурге\n",
    "genre_weekday(spb_general, 'Friday', '17:00', '23:00')"
   ]
  },
  {
   "cell_type": "markdown",
   "metadata": {
    "id": "wrCe4MNX_Zcu"
   },
   "source": [
    "**Выводы**\n",
    "\n",
    "Если сравнить топ-10 жанров в понедельник утром, можно сделать такие выводы:\n",
    "\n",
    "1. В Москве и Петербурге слушают похожую музыку. Единственное отличие — в московский рейтинг вошёл жанр “world”, а в петербургский — джаз и классика.\n",
    "\n",
    "2. В Москве пропущенных значений оказалось так много, что значение `'unknown'` заняло десятое место среди самых популярных жанров. Значит, пропущенные значения занимают существенную долю в данных и угрожают достоверности исследования.\n",
    "\n",
    "Вечер пятницы не меняет эту картину. Некоторые жанры поднимаются немного выше, другие спускаются, но в целом топ-10 остаётся тем же самым.\n",
    "\n",
    "Таким образом, вторая гипотеза подтвердилась лишь частично:\n",
    "* Пользователи слушают похожую музыку в начале недели и в конце.\n",
    "* Разница между Москвой и Петербургом не слишком выражена. В Москве чаще слушают русскую популярную музыку, в Петербурге — джаз.\n",
    "\n",
    "Однако пропуски в данных ставят под сомнение этот результат. В Москве их так много, что рейтинг топ-10 мог бы выглядеть иначе, если бы не утерянные  данные о жанрах."
   ]
  },
  {
   "cell_type": "markdown",
   "metadata": {
    "id": "JolODAqr_Zcu"
   },
   "source": [
    "### Жанровые предпочтения в Москве и Петербурге\n",
    "\n",
    "Третья гипотеза - Петербург — столица рэпа, музыку этого жанра там слушают чаще, чем в Москве.  А Москва — город контрастов, в котором, тем не менее, преобладает поп-музыка."
   ]
  },
  {
   "cell_type": "markdown",
   "metadata": {
    "id": "DlegSvaT_Zcu"
   },
   "source": [
    "Сгруппируем таблицу `moscow_general` по жанру и посчитаем прослушивания треков каждого жанра методом `count()`. Затем отсортируем результат в порядке убывания и сохраним его в таблице `moscow_genres`."
   ]
  },
  {
   "cell_type": "code",
   "execution_count": 45,
   "metadata": {
    "id": "r19lIPke_Zcu"
   },
   "outputs": [],
   "source": [
    "# одной строкой: группировка таблицы moscow_general по столбцу 'genre', \n",
    "# подсчёт числа значений 'genre' в этой группировке методом count(), \n",
    "# сортировка получившегося Series в порядке убывания и сохранение в moscow_genres\n",
    "\n",
    "moscow_genres = moscow_general.groupby('genre')['user_id'].count().sort_values(ascending=False)"
   ]
  },
  {
   "cell_type": "markdown",
   "metadata": {
    "id": "6kMuomxTiIr8"
   },
   "source": [
    "Выведем на экран первые десять строк `moscow_genres`:"
   ]
  },
  {
   "cell_type": "code",
   "execution_count": 46,
   "metadata": {
    "id": "WhCSooF8_Zcv"
   },
   "outputs": [
    {
     "data": {
      "text/plain": [
       "genre\n",
       "pop            5892\n",
       "dance          4435\n",
       "rock           3965\n",
       "electronic     3786\n",
       "hiphop         2096\n",
       "classical      1616\n",
       "world          1432\n",
       "alternative    1379\n",
       "ruspop         1372\n",
       "rusrap         1161\n",
       "Name: user_id, dtype: int64"
      ]
     },
     "execution_count": 46,
     "metadata": {},
     "output_type": "execute_result"
    }
   ],
   "source": [
    "moscow_genres.head(10)# просмотр первых 10 строк moscow_genres"
   ]
  },
  {
   "cell_type": "markdown",
   "metadata": {
    "id": "cnPG2vnN_Zcv"
   },
   "source": [
    "Теперь повторим то же и для Петербурга.\n",
    "\n",
    "Сгруппируем таблицу `spb_general` по жанру. Посчитаем прослушивания треков каждого жанра. Результат отсортируем в порядке убывания и сохраним в таблице `spb_genres`:\n"
   ]
  },
  {
   "cell_type": "code",
   "execution_count": 47,
   "metadata": {
    "id": "gluLIpE7_Zcv"
   },
   "outputs": [],
   "source": [
    "# одной строкой: группировка таблицы spb_general по столбцу 'genre', \n",
    "# подсчёт числа значений 'genre' в этой группировке методом count(), \n",
    "# сортировка получившегося Series в порядке убывания и сохранение в spb_genres\n",
    "\n",
    "spb_genres = spb_general.groupby('genre')['user_id'].count().sort_values(ascending=False)"
   ]
  },
  {
   "cell_type": "markdown",
   "metadata": {
    "id": "5Doha_ODgyQ8"
   },
   "source": [
    "Выведем на экран первые десять строк `spb_genres`:"
   ]
  },
  {
   "cell_type": "code",
   "execution_count": 48,
   "metadata": {
    "id": "uaGJHjVU_Zcv"
   },
   "outputs": [
    {
     "data": {
      "text/plain": [
       "genre\n",
       "pop            2431\n",
       "dance          1932\n",
       "rock           1879\n",
       "electronic     1736\n",
       "hiphop          960\n",
       "alternative     649\n",
       "classical       646\n",
       "rusrap          564\n",
       "ruspop          538\n",
       "world           515\n",
       "Name: user_id, dtype: int64"
      ]
     },
     "execution_count": 48,
     "metadata": {},
     "output_type": "execute_result"
    }
   ],
   "source": [
    "spb_genres.head(10)# просмотр первых 10 строк spb_genres"
   ]
  },
  {
   "cell_type": "markdown",
   "metadata": {
    "id": "RY51YJYu_Zcv"
   },
   "source": [
    "**Выводы**"
   ]
  },
  {
   "cell_type": "markdown",
   "metadata": {
    "id": "nVhnJEm__Zcv"
   },
   "source": [
    "Гипотеза частично подтвердилась:\n",
    "* Поп-музыка — самый популярный жанр в Москве, как и предполагала гипотеза. Более того, в топ-10 жанров встречается близкий жанр — русская популярная музыка.\n",
    "* Вопреки ожиданиям, рэп одинаково популярен в Москве и Петербурге. \n"
   ]
  },
  {
   "cell_type": "markdown",
   "metadata": {
    "id": "ykKQ0N65_Zcv"
   },
   "source": [
    "## 4. Итоги исследования"
   ]
  },
  {
   "cell_type": "markdown",
   "metadata": {
    "id": "tjUwbHb3_Zcv"
   },
   "source": [
    "Мы проверили три гипотезы и установили:\n",
    "\n",
    "Первая гипотеза подтвердилась: действительно музыку в Москве и Петербурге слушают по-разному. В Москве больше всего прослушиваний в понедельник и пятницу, тогда как в Питере в среду.\n",
    "\n",
    "Вторая гипотеза подтвердилась не полностью: и в Москве, и в Питере музыкальные предпочтения не сильно меняются в течение недели.\n",
    "\n",
    "Третья гипотеза подтвердилась не полностью: музыкальные предпочтения в Петербурге похожи на московские. Самым популярным жанром в обоих городах является поп-музыка, так же рэп одинаково популярен в Москве и Петербурге."
   ]
  },
  {
   "cell_type": "code",
   "execution_count": null,
   "metadata": {},
   "outputs": [],
   "source": []
  }
 ],
 "metadata": {
  "ExecuteTimeLog": [
   {
    "duration": 608,
    "start_time": "2022-01-31T14:46:21.321Z"
   },
   {
    "duration": 114,
    "start_time": "2022-01-31T14:49:03.632Z"
   },
   {
    "duration": 15,
    "start_time": "2022-01-31T14:49:36.296Z"
   },
   {
    "duration": 22,
    "start_time": "2022-01-31T14:50:07.221Z"
   },
   {
    "duration": 377,
    "start_time": "2022-01-31T14:53:29.257Z"
   },
   {
    "duration": 331,
    "start_time": "2022-01-31T14:53:39.088Z"
   },
   {
    "duration": 4,
    "start_time": "2022-01-31T14:53:56.501Z"
   },
   {
    "duration": 23,
    "start_time": "2022-01-31T14:56:24.160Z"
   },
   {
    "duration": 4,
    "start_time": "2022-01-31T14:56:49.864Z"
   },
   {
    "duration": 20,
    "start_time": "2022-01-31T14:58:24.686Z"
   },
   {
    "duration": 17,
    "start_time": "2022-01-31T15:02:06.694Z"
   },
   {
    "duration": 23,
    "start_time": "2022-01-31T15:02:09.355Z"
   },
   {
    "duration": 345,
    "start_time": "2022-01-31T15:02:41.921Z"
   },
   {
    "duration": 76,
    "start_time": "2022-01-31T15:02:56.460Z"
   },
   {
    "duration": 59,
    "start_time": "2022-01-31T15:03:50.735Z"
   },
   {
    "duration": 334,
    "start_time": "2022-01-31T15:04:04.661Z"
   },
   {
    "duration": 45,
    "start_time": "2022-01-31T15:04:12.545Z"
   },
   {
    "duration": 44,
    "start_time": "2022-01-31T15:04:28.522Z"
   },
   {
    "duration": 6,
    "start_time": "2022-01-31T15:05:50.134Z"
   },
   {
    "duration": 3,
    "start_time": "2022-01-31T15:10:39.316Z"
   },
   {
    "duration": 10,
    "start_time": "2022-01-31T15:12:11.069Z"
   },
   {
    "duration": 6,
    "start_time": "2022-01-31T15:12:45.174Z"
   },
   {
    "duration": 3,
    "start_time": "2022-01-31T15:13:52.139Z"
   },
   {
    "duration": 13,
    "start_time": "2022-01-31T15:13:54.531Z"
   },
   {
    "duration": 6,
    "start_time": "2022-01-31T15:13:57.260Z"
   },
   {
    "duration": 3,
    "start_time": "2022-01-31T15:14:07.015Z"
   },
   {
    "duration": 19,
    "start_time": "2022-01-31T15:14:09.035Z"
   },
   {
    "duration": 6,
    "start_time": "2022-01-31T15:14:11.185Z"
   },
   {
    "duration": 111,
    "start_time": "2022-01-31T15:15:17.952Z"
   },
   {
    "duration": 3,
    "start_time": "2022-01-31T15:15:28.434Z"
   },
   {
    "duration": 13,
    "start_time": "2022-01-31T15:22:00.083Z"
   },
   {
    "duration": 6,
    "start_time": "2022-01-31T15:22:03.913Z"
   },
   {
    "duration": 14,
    "start_time": "2022-01-31T15:24:03.271Z"
   },
   {
    "duration": 6,
    "start_time": "2022-01-31T15:24:05.936Z"
   },
   {
    "duration": 14,
    "start_time": "2022-01-31T15:25:06.444Z"
   },
   {
    "duration": 5,
    "start_time": "2022-01-31T15:25:12.189Z"
   },
   {
    "duration": 3,
    "start_time": "2022-01-31T15:29:00.505Z"
   },
   {
    "duration": 13,
    "start_time": "2022-01-31T15:29:03.037Z"
   },
   {
    "duration": 6,
    "start_time": "2022-01-31T15:29:05.003Z"
   },
   {
    "duration": 6,
    "start_time": "2022-01-31T15:32:44.838Z"
   },
   {
    "duration": 6,
    "start_time": "2022-01-31T15:33:28.197Z"
   },
   {
    "duration": 2,
    "start_time": "2022-01-31T15:33:35.558Z"
   },
   {
    "duration": 120,
    "start_time": "2022-01-31T15:33:38.632Z"
   },
   {
    "duration": 10,
    "start_time": "2022-01-31T15:33:40.770Z"
   },
   {
    "duration": 22,
    "start_time": "2022-01-31T15:33:44.254Z"
   },
   {
    "duration": 4,
    "start_time": "2022-01-31T15:33:47.384Z"
   },
   {
    "duration": 14,
    "start_time": "2022-01-31T15:33:51.860Z"
   },
   {
    "duration": 3,
    "start_time": "2022-01-31T15:33:53.804Z"
   },
   {
    "duration": 22,
    "start_time": "2022-01-31T15:34:02.158Z"
   },
   {
    "duration": 17,
    "start_time": "2022-01-31T15:34:05.603Z"
   },
   {
    "duration": 21,
    "start_time": "2022-01-31T15:34:07.890Z"
   },
   {
    "duration": 48,
    "start_time": "2022-01-31T15:34:10.195Z"
   },
   {
    "duration": 53,
    "start_time": "2022-01-31T15:34:12.296Z"
   },
   {
    "duration": 47,
    "start_time": "2022-01-31T15:34:14.107Z"
   },
   {
    "duration": 6,
    "start_time": "2022-01-31T15:34:17.506Z"
   },
   {
    "duration": 3,
    "start_time": "2022-01-31T15:34:20.821Z"
   },
   {
    "duration": 9,
    "start_time": "2022-01-31T15:34:22.235Z"
   },
   {
    "duration": 6,
    "start_time": "2022-01-31T15:34:24.765Z"
   },
   {
    "duration": 10,
    "start_time": "2022-01-31T15:37:25.031Z"
   },
   {
    "duration": 28,
    "start_time": "2022-01-31T15:39:08.567Z"
   },
   {
    "duration": 13,
    "start_time": "2022-01-31T15:39:24.383Z"
   },
   {
    "duration": 4,
    "start_time": "2022-01-31T16:31:02.027Z"
   },
   {
    "duration": 18,
    "start_time": "2022-01-31T16:31:04.808Z"
   },
   {
    "duration": 13,
    "start_time": "2022-01-31T16:31:07.262Z"
   },
   {
    "duration": 13,
    "start_time": "2022-01-31T16:31:09.215Z"
   },
   {
    "duration": 13,
    "start_time": "2022-01-31T16:31:11.078Z"
   },
   {
    "duration": 15,
    "start_time": "2022-01-31T16:31:12.843Z"
   },
   {
    "duration": 12,
    "start_time": "2022-01-31T16:31:14.583Z"
   },
   {
    "duration": 326,
    "start_time": "2022-01-31T16:33:42.510Z"
   },
   {
    "duration": 8,
    "start_time": "2022-01-31T16:46:23.899Z"
   },
   {
    "duration": 7,
    "start_time": "2022-01-31T16:47:03.763Z"
   },
   {
    "duration": 10,
    "start_time": "2022-01-31T16:51:55.940Z"
   },
   {
    "duration": 10,
    "start_time": "2022-01-31T16:52:31.773Z"
   },
   {
    "duration": 4,
    "start_time": "2022-01-31T17:03:41.939Z"
   },
   {
    "duration": 848,
    "start_time": "2022-01-31T17:04:34.638Z"
   },
   {
    "duration": 4,
    "start_time": "2022-01-31T17:04:51.655Z"
   },
   {
    "duration": 659,
    "start_time": "2022-01-31T17:04:54.615Z"
   },
   {
    "duration": 4,
    "start_time": "2022-01-31T17:05:38.660Z"
   },
   {
    "duration": 246,
    "start_time": "2022-01-31T17:05:51.837Z"
   },
   {
    "duration": 5,
    "start_time": "2022-01-31T17:05:52.817Z"
   },
   {
    "duration": 10183,
    "start_time": "2022-01-31T17:05:57.331Z"
   },
   {
    "duration": 4,
    "start_time": "2022-01-31T17:06:20.802Z"
   },
   {
    "duration": 10765,
    "start_time": "2022-01-31T17:06:22.731Z"
   },
   {
    "duration": 4,
    "start_time": "2022-01-31T17:08:12.020Z"
   },
   {
    "duration": 9578,
    "start_time": "2022-01-31T17:08:14.006Z"
   },
   {
    "duration": 12,
    "start_time": "2022-01-31T17:12:00.083Z"
   },
   {
    "duration": 18,
    "start_time": "2022-01-31T17:12:14.389Z"
   },
   {
    "duration": 10,
    "start_time": "2022-01-31T17:12:26.706Z"
   },
   {
    "duration": 9,
    "start_time": "2022-01-31T17:12:30.169Z"
   },
   {
    "duration": 9,
    "start_time": "2022-01-31T17:12:45.531Z"
   },
   {
    "duration": 4,
    "start_time": "2022-01-31T17:12:48.723Z"
   },
   {
    "duration": 11492,
    "start_time": "2022-01-31T17:12:52.102Z"
   },
   {
    "duration": 15,
    "start_time": "2022-01-31T17:18:49.635Z"
   },
   {
    "duration": 10,
    "start_time": "2022-01-31T17:18:51.422Z"
   },
   {
    "duration": 4,
    "start_time": "2022-01-31T17:18:55.611Z"
   },
   {
    "duration": 10140,
    "start_time": "2022-01-31T17:18:57.775Z"
   },
   {
    "duration": 16,
    "start_time": "2022-01-31T17:19:29.284Z"
   },
   {
    "duration": 9,
    "start_time": "2022-01-31T17:19:33.717Z"
   },
   {
    "duration": 3,
    "start_time": "2022-01-31T17:19:45.736Z"
   },
   {
    "duration": 10823,
    "start_time": "2022-01-31T17:19:47.760Z"
   },
   {
    "duration": 4,
    "start_time": "2022-01-31T17:21:16.710Z"
   },
   {
    "duration": 19,
    "start_time": "2022-01-31T17:21:18.798Z"
   },
   {
    "duration": 3,
    "start_time": "2022-01-31T17:22:54.933Z"
   },
   {
    "duration": 10100,
    "start_time": "2022-01-31T17:22:57.142Z"
   },
   {
    "duration": 7,
    "start_time": "2022-01-31T17:23:13.214Z"
   },
   {
    "duration": 21,
    "start_time": "2022-01-31T17:23:15.732Z"
   },
   {
    "duration": 3,
    "start_time": "2022-01-31T17:28:07.420Z"
   },
   {
    "duration": 15088,
    "start_time": "2022-01-31T17:28:10.382Z"
   },
   {
    "duration": 5,
    "start_time": "2022-01-31T17:28:46.725Z"
   },
   {
    "duration": 9347,
    "start_time": "2022-01-31T17:28:48.496Z"
   },
   {
    "duration": 3,
    "start_time": "2022-01-31T17:29:05.476Z"
   },
   {
    "duration": 18,
    "start_time": "2022-01-31T17:29:07.280Z"
   },
   {
    "duration": 13,
    "start_time": "2022-01-31T17:30:19.061Z"
   },
   {
    "duration": 17,
    "start_time": "2022-01-31T17:30:26.004Z"
   },
   {
    "duration": 13,
    "start_time": "2022-01-31T17:30:32.926Z"
   },
   {
    "duration": 4,
    "start_time": "2022-01-31T17:39:21.487Z"
   },
   {
    "duration": 10586,
    "start_time": "2022-01-31T17:39:24.863Z"
   },
   {
    "duration": 4,
    "start_time": "2022-01-31T17:39:46.228Z"
   },
   {
    "duration": 10285,
    "start_time": "2022-01-31T17:39:48.682Z"
   },
   {
    "duration": 6,
    "start_time": "2022-01-31T17:40:43.313Z"
   },
   {
    "duration": 767,
    "start_time": "2022-01-31T17:40:46.694Z"
   },
   {
    "duration": 4,
    "start_time": "2022-01-31T17:41:06.533Z"
   },
   {
    "duration": 8785,
    "start_time": "2022-01-31T17:41:08.260Z"
   },
   {
    "duration": 4,
    "start_time": "2022-01-31T17:41:36.549Z"
   },
   {
    "duration": 19,
    "start_time": "2022-01-31T17:41:38.348Z"
   },
   {
    "duration": 12,
    "start_time": "2022-01-31T17:41:42.891Z"
   },
   {
    "duration": 19,
    "start_time": "2022-01-31T17:41:45.800Z"
   },
   {
    "duration": 13,
    "start_time": "2022-01-31T17:41:48.168Z"
   },
   {
    "duration": 10400,
    "start_time": "2022-01-31T17:45:58.865Z"
   },
   {
    "duration": 319,
    "start_time": "2022-01-31T17:47:27.521Z"
   },
   {
    "duration": 340,
    "start_time": "2022-01-31T17:47:43.307Z"
   },
   {
    "duration": 10538,
    "start_time": "2022-01-31T17:48:32.168Z"
   },
   {
    "duration": 5,
    "start_time": "2022-01-31T17:49:20.482Z"
   },
   {
    "duration": 5,
    "start_time": "2022-01-31T17:49:40.738Z"
   },
   {
    "duration": 242,
    "start_time": "2022-01-31T17:52:04.956Z"
   },
   {
    "duration": 398,
    "start_time": "2022-01-31T17:52:30.933Z"
   },
   {
    "duration": 4,
    "start_time": "2022-01-31T17:52:36.505Z"
   },
   {
    "duration": 4,
    "start_time": "2022-01-31T17:52:41.515Z"
   },
   {
    "duration": 3,
    "start_time": "2022-01-31T17:53:48.051Z"
   },
   {
    "duration": 10209,
    "start_time": "2022-01-31T17:53:50.660Z"
   },
   {
    "duration": 4,
    "start_time": "2022-01-31T17:55:39.611Z"
   },
   {
    "duration": 10383,
    "start_time": "2022-01-31T17:55:42.054Z"
   },
   {
    "duration": 10,
    "start_time": "2022-01-31T17:56:19.488Z"
   },
   {
    "duration": 9,
    "start_time": "2022-01-31T17:56:21.230Z"
   },
   {
    "duration": 3,
    "start_time": "2022-01-31T17:56:24.935Z"
   },
   {
    "duration": 19,
    "start_time": "2022-01-31T17:56:27.099Z"
   },
   {
    "duration": 13,
    "start_time": "2022-01-31T17:56:29.544Z"
   },
   {
    "duration": 18,
    "start_time": "2022-01-31T17:56:31.469Z"
   },
   {
    "duration": 13,
    "start_time": "2022-01-31T17:56:33.433Z"
   },
   {
    "duration": 472,
    "start_time": "2022-01-31T17:56:36.256Z"
   },
   {
    "duration": 153,
    "start_time": "2022-01-31T17:57:02.464Z"
   },
   {
    "duration": 33,
    "start_time": "2022-01-31T17:57:10.544Z"
   },
   {
    "duration": 8,
    "start_time": "2022-01-31T17:57:13.748Z"
   },
   {
    "duration": 7,
    "start_time": "2022-02-01T07:28:53.157Z"
   },
   {
    "duration": 778,
    "start_time": "2022-02-01T07:29:06.467Z"
   },
   {
    "duration": 4,
    "start_time": "2022-02-01T07:29:13.225Z"
   },
   {
    "duration": 185,
    "start_time": "2022-02-01T07:29:16.399Z"
   },
   {
    "duration": 27,
    "start_time": "2022-02-01T07:29:18.447Z"
   },
   {
    "duration": 34,
    "start_time": "2022-02-01T07:29:21.211Z"
   },
   {
    "duration": 5,
    "start_time": "2022-02-01T07:29:25.718Z"
   },
   {
    "duration": 29,
    "start_time": "2022-02-01T07:29:28.381Z"
   },
   {
    "duration": 6,
    "start_time": "2022-02-01T07:29:30.633Z"
   },
   {
    "duration": 31,
    "start_time": "2022-02-01T07:29:34.012Z"
   },
   {
    "duration": 23,
    "start_time": "2022-02-01T07:29:36.683Z"
   },
   {
    "duration": 31,
    "start_time": "2022-02-01T07:29:39.337Z"
   },
   {
    "duration": 82,
    "start_time": "2022-02-01T07:29:42.102Z"
   },
   {
    "duration": 103,
    "start_time": "2022-02-01T07:29:44.458Z"
   },
   {
    "duration": 79,
    "start_time": "2022-02-01T07:29:47.119Z"
   },
   {
    "duration": 9,
    "start_time": "2022-02-01T07:29:51.475Z"
   },
   {
    "duration": 4,
    "start_time": "2022-02-01T07:29:59.172Z"
   },
   {
    "duration": 14,
    "start_time": "2022-02-01T07:30:00.968Z"
   },
   {
    "duration": 9,
    "start_time": "2022-02-01T07:30:03.998Z"
   },
   {
    "duration": 16,
    "start_time": "2022-02-01T07:30:17.634Z"
   },
   {
    "duration": 15,
    "start_time": "2022-02-01T07:30:19.786Z"
   },
   {
    "duration": 5,
    "start_time": "2022-02-01T07:30:30.232Z"
   },
   {
    "duration": 25,
    "start_time": "2022-02-01T07:30:37.707Z"
   },
   {
    "duration": 21,
    "start_time": "2022-02-01T07:30:40.675Z"
   },
   {
    "duration": 20,
    "start_time": "2022-02-01T07:30:46.717Z"
   },
   {
    "duration": 20,
    "start_time": "2022-02-01T07:30:48.457Z"
   },
   {
    "duration": 25,
    "start_time": "2022-02-01T07:30:49.994Z"
   },
   {
    "duration": 22,
    "start_time": "2022-02-01T07:30:51.428Z"
   },
   {
    "duration": 14,
    "start_time": "2022-02-01T07:31:04.742Z"
   },
   {
    "duration": 16,
    "start_time": "2022-02-01T07:31:09.042Z"
   },
   {
    "duration": 12,
    "start_time": "2022-02-01T07:31:10.196Z"
   },
   {
    "duration": 6,
    "start_time": "2022-02-01T07:31:12.116Z"
   },
   {
    "duration": 695,
    "start_time": "2022-02-01T07:31:18.360Z"
   },
   {
    "duration": 5,
    "start_time": "2022-02-01T07:40:09.008Z"
   },
   {
    "duration": 8325,
    "start_time": "2022-02-01T07:40:13.000Z"
   },
   {
    "duration": 6,
    "start_time": "2022-02-01T07:41:48.030Z"
   },
   {
    "duration": 24,
    "start_time": "2022-02-01T07:41:50.180Z"
   },
   {
    "duration": 17,
    "start_time": "2022-02-01T07:42:02.774Z"
   },
   {
    "duration": 23,
    "start_time": "2022-02-01T07:42:08.202Z"
   },
   {
    "duration": 17,
    "start_time": "2022-02-01T07:42:10.864Z"
   },
   {
    "duration": 33,
    "start_time": "2022-02-01T07:44:23.782Z"
   },
   {
    "duration": 13,
    "start_time": "2022-02-01T07:44:26.546Z"
   },
   {
    "duration": 31,
    "start_time": "2022-02-01T07:45:50.927Z"
   },
   {
    "duration": 13,
    "start_time": "2022-02-01T07:45:52.974Z"
   },
   {
    "duration": 31,
    "start_time": "2022-02-01T07:46:48.170Z"
   },
   {
    "duration": 12,
    "start_time": "2022-02-01T07:46:50.319Z"
   },
   {
    "duration": 32,
    "start_time": "2022-02-01T07:47:11.310Z"
   },
   {
    "duration": 13,
    "start_time": "2022-02-01T07:47:13.462Z"
   },
   {
    "duration": 313,
    "start_time": "2022-02-01T07:52:03.975Z"
   },
   {
    "duration": 21,
    "start_time": "2022-02-01T07:52:15.240Z"
   },
   {
    "duration": 12,
    "start_time": "2022-02-01T07:52:20.666Z"
   },
   {
    "duration": 13,
    "start_time": "2022-02-01T08:01:47.769Z"
   },
   {
    "duration": 512,
    "start_time": "2022-02-10T13:06:12.464Z"
   },
   {
    "duration": 120,
    "start_time": "2022-02-10T13:06:12.977Z"
   },
   {
    "duration": 17,
    "start_time": "2022-02-10T13:06:13.099Z"
   },
   {
    "duration": 30,
    "start_time": "2022-02-10T13:06:13.118Z"
   },
   {
    "duration": 10,
    "start_time": "2022-02-10T13:06:13.150Z"
   },
   {
    "duration": 27,
    "start_time": "2022-02-10T13:06:13.162Z"
   },
   {
    "duration": 4,
    "start_time": "2022-02-10T13:06:13.191Z"
   },
   {
    "duration": 33,
    "start_time": "2022-02-10T13:06:13.197Z"
   },
   {
    "duration": 14,
    "start_time": "2022-02-10T13:06:13.232Z"
   },
   {
    "duration": 21,
    "start_time": "2022-02-10T13:06:13.247Z"
   },
   {
    "duration": 69,
    "start_time": "2022-02-10T13:06:13.269Z"
   },
   {
    "duration": 59,
    "start_time": "2022-02-10T13:06:13.339Z"
   },
   {
    "duration": 60,
    "start_time": "2022-02-10T13:06:13.400Z"
   },
   {
    "duration": 6,
    "start_time": "2022-02-10T13:06:13.462Z"
   },
   {
    "duration": 3,
    "start_time": "2022-02-10T13:06:13.469Z"
   },
   {
    "duration": 11,
    "start_time": "2022-02-10T13:06:13.474Z"
   },
   {
    "duration": 8,
    "start_time": "2022-02-10T13:06:13.487Z"
   },
   {
    "duration": 32,
    "start_time": "2022-02-10T13:06:13.496Z"
   },
   {
    "duration": 9,
    "start_time": "2022-02-10T13:06:13.530Z"
   },
   {
    "duration": 4,
    "start_time": "2022-02-10T13:06:13.540Z"
   },
   {
    "duration": 20,
    "start_time": "2022-02-10T13:06:13.545Z"
   },
   {
    "duration": 13,
    "start_time": "2022-02-10T13:06:13.566Z"
   },
   {
    "duration": 12,
    "start_time": "2022-02-10T13:06:13.582Z"
   },
   {
    "duration": 40,
    "start_time": "2022-02-10T13:06:13.595Z"
   },
   {
    "duration": 14,
    "start_time": "2022-02-10T13:06:13.636Z"
   },
   {
    "duration": 12,
    "start_time": "2022-02-10T13:06:13.651Z"
   },
   {
    "duration": 7,
    "start_time": "2022-02-10T13:06:13.664Z"
   },
   {
    "duration": 10,
    "start_time": "2022-02-10T13:06:13.672Z"
   },
   {
    "duration": 43,
    "start_time": "2022-02-10T13:06:13.684Z"
   },
   {
    "duration": 4,
    "start_time": "2022-02-10T13:06:13.729Z"
   },
   {
    "duration": 25,
    "start_time": "2022-02-10T13:06:13.734Z"
   },
   {
    "duration": 11,
    "start_time": "2022-02-10T13:06:13.760Z"
   },
   {
    "duration": 14,
    "start_time": "2022-02-10T13:06:13.772Z"
   },
   {
    "duration": 12,
    "start_time": "2022-02-10T13:06:13.788Z"
   },
   {
    "duration": 39,
    "start_time": "2022-02-10T13:06:13.801Z"
   },
   {
    "duration": 7,
    "start_time": "2022-02-10T13:06:13.842Z"
   },
   {
    "duration": 12,
    "start_time": "2022-02-10T13:06:13.850Z"
   },
   {
    "duration": 7,
    "start_time": "2022-02-10T13:06:13.864Z"
   },
   {
    "duration": 4,
    "start_time": "2022-02-10T13:06:17.151Z"
   },
   {
    "duration": 90,
    "start_time": "2022-02-10T13:06:24.465Z"
   },
   {
    "duration": 4,
    "start_time": "2022-02-10T13:07:12.114Z"
   },
   {
    "duration": 14,
    "start_time": "2022-02-10T13:07:25.251Z"
   },
   {
    "duration": 3,
    "start_time": "2022-02-10T13:07:26.003Z"
   },
   {
    "duration": 72,
    "start_time": "2022-02-10T13:08:58.935Z"
   },
   {
    "duration": 7,
    "start_time": "2022-02-10T13:09:44.687Z"
   },
   {
    "duration": 87,
    "start_time": "2022-02-10T13:19:12.021Z"
   },
   {
    "duration": 76,
    "start_time": "2022-02-10T13:21:41.522Z"
   },
   {
    "duration": 6,
    "start_time": "2022-02-10T13:36:03.882Z"
   },
   {
    "duration": 346,
    "start_time": "2022-02-10T15:37:46.510Z"
   },
   {
    "duration": 912,
    "start_time": "2022-02-10T15:38:07.668Z"
   },
   {
    "duration": 4,
    "start_time": "2022-02-10T15:38:10.547Z"
   },
   {
    "duration": 209,
    "start_time": "2022-02-10T15:38:13.749Z"
   },
   {
    "duration": 35,
    "start_time": "2022-02-10T15:38:15.730Z"
   },
   {
    "duration": 32,
    "start_time": "2022-02-10T15:38:18.371Z"
   },
   {
    "duration": 6,
    "start_time": "2022-02-10T15:38:22.887Z"
   },
   {
    "duration": 29,
    "start_time": "2022-02-10T15:38:25.336Z"
   },
   {
    "duration": 6,
    "start_time": "2022-02-10T15:38:27.078Z"
   },
   {
    "duration": 29,
    "start_time": "2022-02-10T15:38:32.893Z"
   },
   {
    "duration": 30,
    "start_time": "2022-02-10T15:38:36.119Z"
   },
   {
    "duration": 29,
    "start_time": "2022-02-10T15:38:38.585Z"
   },
   {
    "duration": 81,
    "start_time": "2022-02-10T15:38:44.883Z"
   },
   {
    "duration": 94,
    "start_time": "2022-02-10T15:38:47.954Z"
   },
   {
    "duration": 74,
    "start_time": "2022-02-10T15:38:58.450Z"
   },
   {
    "duration": 10,
    "start_time": "2022-02-10T15:39:02.241Z"
   },
   {
    "duration": 318,
    "start_time": "2022-02-10T15:39:19.768Z"
   },
   {
    "duration": 315,
    "start_time": "2022-02-10T15:39:58.222Z"
   },
   {
    "duration": 12,
    "start_time": "2022-02-10T15:40:21.246Z"
   },
   {
    "duration": 311,
    "start_time": "2022-02-10T15:41:00.813Z"
   },
   {
    "duration": 302,
    "start_time": "2022-02-10T15:41:06.983Z"
   },
   {
    "duration": 14,
    "start_time": "2022-02-10T15:41:16.778Z"
   },
   {
    "duration": 5,
    "start_time": "2022-02-10T15:41:22.152Z"
   },
   {
    "duration": 14,
    "start_time": "2022-02-10T15:41:23.515Z"
   },
   {
    "duration": 11,
    "start_time": "2022-02-10T15:41:26.993Z"
   },
   {
    "duration": 18,
    "start_time": "2022-02-10T15:41:38.791Z"
   },
   {
    "duration": 16,
    "start_time": "2022-02-10T15:41:41.586Z"
   },
   {
    "duration": 6,
    "start_time": "2022-02-10T15:41:45.526Z"
   },
   {
    "duration": 21,
    "start_time": "2022-02-10T15:41:49.708Z"
   },
   {
    "duration": 20,
    "start_time": "2022-02-10T15:41:52.156Z"
   },
   {
    "duration": 21,
    "start_time": "2022-02-10T15:41:54.321Z"
   },
   {
    "duration": 18,
    "start_time": "2022-02-10T15:41:55.187Z"
   },
   {
    "duration": 21,
    "start_time": "2022-02-10T15:41:57.412Z"
   },
   {
    "duration": 21,
    "start_time": "2022-02-10T15:41:58.015Z"
   },
   {
    "duration": 13,
    "start_time": "2022-02-10T15:42:01.178Z"
   },
   {
    "duration": 6,
    "start_time": "2022-02-10T15:42:11.782Z"
   },
   {
    "duration": 12,
    "start_time": "2022-02-10T15:42:33.321Z"
   },
   {
    "duration": 14,
    "start_time": "2022-02-10T15:42:50.857Z"
   },
   {
    "duration": 12,
    "start_time": "2022-02-10T15:42:51.422Z"
   },
   {
    "duration": 6,
    "start_time": "2022-02-10T15:42:54.343Z"
   },
   {
    "duration": 25,
    "start_time": "2022-02-10T15:42:57.037Z"
   },
   {
    "duration": 17,
    "start_time": "2022-02-10T15:42:58.933Z"
   },
   {
    "duration": 23,
    "start_time": "2022-02-10T15:43:00.401Z"
   },
   {
    "duration": 20,
    "start_time": "2022-02-10T15:43:01.441Z"
   },
   {
    "duration": 25,
    "start_time": "2022-02-10T15:43:05.161Z"
   },
   {
    "duration": 7,
    "start_time": "2022-02-10T15:43:16.600Z"
   },
   {
    "duration": 10,
    "start_time": "2022-02-10T15:43:39.909Z"
   },
   {
    "duration": 7,
    "start_time": "2022-02-10T15:43:41.568Z"
   },
   {
    "duration": 104,
    "start_time": "2022-02-10T20:32:28.677Z"
   }
  ],
  "colab": {
   "collapsed_sections": [
    "E0vqbgi9ay0H",
    "VUC88oWjTJw2"
   ],
   "name": "yandex_music_project_2021.2.ipynb",
   "provenance": []
  },
  "kernelspec": {
   "display_name": "Python 3 (ipykernel)",
   "language": "python",
   "name": "python3"
  },
  "language_info": {
   "codemirror_mode": {
    "name": "ipython",
    "version": 3
   },
   "file_extension": ".py",
   "mimetype": "text/x-python",
   "name": "python",
   "nbconvert_exporter": "python",
   "pygments_lexer": "ipython3",
   "version": "3.9.7"
  },
  "toc": {
   "base_numbering": 1,
   "nav_menu": {},
   "number_sections": true,
   "sideBar": true,
   "skip_h1_title": true,
   "title_cell": "Table of Contents",
   "title_sidebar": "Contents",
   "toc_cell": false,
   "toc_position": {},
   "toc_section_display": true,
   "toc_window_display": true
  }
 },
 "nbformat": 4,
 "nbformat_minor": 1
}
