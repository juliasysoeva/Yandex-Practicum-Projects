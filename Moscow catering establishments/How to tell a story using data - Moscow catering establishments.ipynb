{
 "cells": [
  {
   "cell_type": "markdown",
   "metadata": {},
   "source": [
    "# Рынок заведений общественного питания Москвы"
   ]
  },
  {
   "cell_type": "markdown",
   "metadata": {},
   "source": [
    "## Изучение и подготовка данных"
   ]
  },
  {
   "cell_type": "code",
   "execution_count": 1,
   "metadata": {},
   "outputs": [],
   "source": [
    "import pandas as pd\n",
    "import numpy as np\n",
    "import seaborn as sb\n",
    "import matplotlib.pyplot as plt\n",
    "from scipy import stats as st\n",
    "from datetime import datetime, timedelta"
   ]
  },
  {
   "cell_type": "markdown",
   "metadata": {},
   "source": [
    "<div style=\"border:solid blue 1px; padding: 20px\"> \n",
    "Сохраним данные о заведениях общественного питания Москвы"
   ]
  },
  {
   "cell_type": "code",
   "execution_count": 2,
   "metadata": {},
   "outputs": [],
   "source": [
    "data = pd.read_csv('/datasets/rest_data.csv')"
   ]
  },
  {
   "cell_type": "code",
   "execution_count": 3,
   "metadata": {},
   "outputs": [
    {
     "data": {
      "text/html": [
       "<div>\n",
       "<style scoped>\n",
       "    .dataframe tbody tr th:only-of-type {\n",
       "        vertical-align: middle;\n",
       "    }\n",
       "\n",
       "    .dataframe tbody tr th {\n",
       "        vertical-align: top;\n",
       "    }\n",
       "\n",
       "    .dataframe thead th {\n",
       "        text-align: right;\n",
       "    }\n",
       "</style>\n",
       "<table border=\"1\" class=\"dataframe\">\n",
       "  <thead>\n",
       "    <tr style=\"text-align: right;\">\n",
       "      <th></th>\n",
       "      <th>id</th>\n",
       "      <th>object_name</th>\n",
       "      <th>chain</th>\n",
       "      <th>object_type</th>\n",
       "      <th>address</th>\n",
       "      <th>number</th>\n",
       "    </tr>\n",
       "  </thead>\n",
       "  <tbody>\n",
       "    <tr>\n",
       "      <th>0</th>\n",
       "      <td>151635</td>\n",
       "      <td>СМЕТАНА</td>\n",
       "      <td>нет</td>\n",
       "      <td>кафе</td>\n",
       "      <td>город Москва, улица Егора Абакумова, дом 9</td>\n",
       "      <td>48</td>\n",
       "    </tr>\n",
       "    <tr>\n",
       "      <th>1</th>\n",
       "      <td>77874</td>\n",
       "      <td>Родник</td>\n",
       "      <td>нет</td>\n",
       "      <td>кафе</td>\n",
       "      <td>город Москва, улица Талалихина, дом 2/1, корпус 1</td>\n",
       "      <td>35</td>\n",
       "    </tr>\n",
       "    <tr>\n",
       "      <th>2</th>\n",
       "      <td>24309</td>\n",
       "      <td>Кафе «Академия»</td>\n",
       "      <td>нет</td>\n",
       "      <td>кафе</td>\n",
       "      <td>город Москва, Абельмановская улица, дом 6</td>\n",
       "      <td>95</td>\n",
       "    </tr>\n",
       "    <tr>\n",
       "      <th>3</th>\n",
       "      <td>21894</td>\n",
       "      <td>ПИЦЦЕТОРИЯ</td>\n",
       "      <td>да</td>\n",
       "      <td>кафе</td>\n",
       "      <td>город Москва, Абрамцевская улица, дом 1</td>\n",
       "      <td>40</td>\n",
       "    </tr>\n",
       "    <tr>\n",
       "      <th>4</th>\n",
       "      <td>119365</td>\n",
       "      <td>Кафе «Вишневая метель»</td>\n",
       "      <td>нет</td>\n",
       "      <td>кафе</td>\n",
       "      <td>город Москва, Абрамцевская улица, дом 9, корпус 1</td>\n",
       "      <td>50</td>\n",
       "    </tr>\n",
       "  </tbody>\n",
       "</table>\n",
       "</div>"
      ],
      "text/plain": [
       "       id             object_name chain object_type  \\\n",
       "0  151635                 СМЕТАНА   нет        кафе   \n",
       "1   77874                  Родник   нет        кафе   \n",
       "2   24309         Кафе «Академия»   нет        кафе   \n",
       "3   21894              ПИЦЦЕТОРИЯ    да        кафе   \n",
       "4  119365  Кафе «Вишневая метель»   нет        кафе   \n",
       "\n",
       "                                             address  number  \n",
       "0         город Москва, улица Егора Абакумова, дом 9      48  \n",
       "1  город Москва, улица Талалихина, дом 2/1, корпус 1      35  \n",
       "2          город Москва, Абельмановская улица, дом 6      95  \n",
       "3            город Москва, Абрамцевская улица, дом 1      40  \n",
       "4  город Москва, Абрамцевская улица, дом 9, корпус 1      50  "
      ]
     },
     "execution_count": 3,
     "metadata": {},
     "output_type": "execute_result"
    }
   ],
   "source": [
    "data.head()"
   ]
  },
  {
   "cell_type": "code",
   "execution_count": 4,
   "metadata": {},
   "outputs": [
    {
     "name": "stdout",
     "output_type": "stream",
     "text": [
      "<class 'pandas.core.frame.DataFrame'>\n",
      "RangeIndex: 15366 entries, 0 to 15365\n",
      "Data columns (total 6 columns):\n",
      " #   Column       Non-Null Count  Dtype \n",
      "---  ------       --------------  ----- \n",
      " 0   id           15366 non-null  int64 \n",
      " 1   object_name  15366 non-null  object\n",
      " 2   chain        15366 non-null  object\n",
      " 3   object_type  15366 non-null  object\n",
      " 4   address      15366 non-null  object\n",
      " 5   number       15366 non-null  int64 \n",
      "dtypes: int64(2), object(4)\n",
      "memory usage: 720.4+ KB\n"
     ]
    }
   ],
   "source": [
    "data.info()"
   ]
  },
  {
   "cell_type": "markdown",
   "metadata": {},
   "source": [
    "<div style=\"border:solid blue 1px; padding: 20px\"> \n",
    "Пропусков в данных нет, проверим их на наличие дубликатов"
   ]
  },
  {
   "cell_type": "code",
   "execution_count": 5,
   "metadata": {},
   "outputs": [
    {
     "data": {
      "text/plain": [
       "0"
      ]
     },
     "execution_count": 5,
     "metadata": {},
     "output_type": "execute_result"
    }
   ],
   "source": [
    "data['id'].duplicated().sum()"
   ]
  },
  {
   "cell_type": "code",
   "execution_count": 6,
   "metadata": {},
   "outputs": [
    {
     "data": {
      "text/plain": [
       "кафе                                 6099\n",
       "столовая                             2587\n",
       "ресторан                             2285\n",
       "предприятие быстрого обслуживания    1923\n",
       "бар                                   856\n",
       "буфет                                 585\n",
       "кафетерий                             398\n",
       "закусочная                            360\n",
       "магазин (отдел кулинарии)             273\n",
       "Name: object_type, dtype: int64"
      ]
     },
     "execution_count": 6,
     "metadata": {},
     "output_type": "execute_result"
    }
   ],
   "source": [
    "data['object_type'].value_counts()"
   ]
  },
  {
   "cell_type": "code",
   "execution_count": 7,
   "metadata": {},
   "outputs": [],
   "source": [
    "pd.set_option('display.max_columns', None)\n",
    "pd.set_option('display.max_rows', None)\n",
    "\n",
    "data_pt = data.pivot_table(index=['object_name','object_type'], values='id', aggfunc='count')"
   ]
  },
  {
   "cell_type": "code",
   "execution_count": 8,
   "metadata": {},
   "outputs": [
    {
     "data": {
      "text/html": [
       "<div>\n",
       "<style scoped>\n",
       "    .dataframe tbody tr th:only-of-type {\n",
       "        vertical-align: middle;\n",
       "    }\n",
       "\n",
       "    .dataframe tbody tr th {\n",
       "        vertical-align: top;\n",
       "    }\n",
       "\n",
       "    .dataframe thead th {\n",
       "        text-align: right;\n",
       "    }\n",
       "</style>\n",
       "<table border=\"1\" class=\"dataframe\">\n",
       "  <thead>\n",
       "    <tr style=\"text-align: right;\">\n",
       "      <th></th>\n",
       "      <th></th>\n",
       "      <th>id</th>\n",
       "    </tr>\n",
       "    <tr>\n",
       "      <th>object_name</th>\n",
       "      <th>object_type</th>\n",
       "      <th></th>\n",
       "    </tr>\n",
       "  </thead>\n",
       "  <tbody>\n",
       "    <tr>\n",
       "      <th>24 Градуса</th>\n",
       "      <th>бар</th>\n",
       "      <td>3</td>\n",
       "    </tr>\n",
       "    <tr>\n",
       "      <th>BB&amp;Burgers</th>\n",
       "      <th>кафе</th>\n",
       "      <td>3</td>\n",
       "    </tr>\n",
       "    <tr>\n",
       "      <th>Bocconcino</th>\n",
       "      <th>ресторан</th>\n",
       "      <td>2</td>\n",
       "    </tr>\n",
       "    <tr>\n",
       "      <th>Burger Club</th>\n",
       "      <th>кафе</th>\n",
       "      <td>2</td>\n",
       "    </tr>\n",
       "    <tr>\n",
       "      <th>Burger Heroes</th>\n",
       "      <th>кафе</th>\n",
       "      <td>2</td>\n",
       "    </tr>\n",
       "  </tbody>\n",
       "</table>\n",
       "</div>"
      ],
      "text/plain": [
       "                           id\n",
       "object_name   object_type    \n",
       "24 Градуса    бар           3\n",
       "BB&Burgers    кафе          3\n",
       "Bocconcino    ресторан      2\n",
       "Burger Club   кафе          2\n",
       "Burger Heroes кафе          2"
      ]
     },
     "metadata": {},
     "output_type": "display_data"
    }
   ],
   "source": [
    "display(data_pt.query('id >= 2').head())"
   ]
  },
  {
   "cell_type": "markdown",
   "metadata": {},
   "source": [
    "<div style=\"border:solid blue 1px; padding: 20px\"> \n",
    "По сводной таблице видно, что присутствуют неявные дубликаты в столбце \"название объекта общественного питания\".\n",
    "Также видно, что заведения одной сети могут относиться к нескольким типам объекта общественного питания (кафе/ресторан и т.п.).\n",
    "    \n",
    "Вручную заменить названия по каждому объекту очень долгий процесс, поэтому ограничимся следующими операциями: приведем все значения в столбце \"название объекта общественного питания\" к нижнему регистру, уберем специальные символы, заменим \"ё\" на \"е\"."
   ]
  },
  {
   "cell_type": "code",
   "execution_count": 9,
   "metadata": {},
   "outputs": [],
   "source": [
    "data['object_name'] = data['object_name'].str.lower()"
   ]
  },
  {
   "cell_type": "code",
   "execution_count": 10,
   "metadata": {},
   "outputs": [
    {
     "data": {
      "text/html": [
       "<div>\n",
       "<style scoped>\n",
       "    .dataframe tbody tr th:only-of-type {\n",
       "        vertical-align: middle;\n",
       "    }\n",
       "\n",
       "    .dataframe tbody tr th {\n",
       "        vertical-align: top;\n",
       "    }\n",
       "\n",
       "    .dataframe thead th {\n",
       "        text-align: right;\n",
       "    }\n",
       "</style>\n",
       "<table border=\"1\" class=\"dataframe\">\n",
       "  <thead>\n",
       "    <tr style=\"text-align: right;\">\n",
       "      <th></th>\n",
       "      <th>id</th>\n",
       "      <th>object_name</th>\n",
       "      <th>chain</th>\n",
       "      <th>object_type</th>\n",
       "      <th>address</th>\n",
       "      <th>number</th>\n",
       "    </tr>\n",
       "  </thead>\n",
       "  <tbody>\n",
       "    <tr>\n",
       "      <th>0</th>\n",
       "      <td>151635</td>\n",
       "      <td>сметана</td>\n",
       "      <td>нет</td>\n",
       "      <td>кафе</td>\n",
       "      <td>город Москва, улица Егора Абакумова, дом 9</td>\n",
       "      <td>48</td>\n",
       "    </tr>\n",
       "    <tr>\n",
       "      <th>1</th>\n",
       "      <td>77874</td>\n",
       "      <td>родник</td>\n",
       "      <td>нет</td>\n",
       "      <td>кафе</td>\n",
       "      <td>город Москва, улица Талалихина, дом 2/1, корпус 1</td>\n",
       "      <td>35</td>\n",
       "    </tr>\n",
       "    <tr>\n",
       "      <th>2</th>\n",
       "      <td>24309</td>\n",
       "      <td>кафе «академия»</td>\n",
       "      <td>нет</td>\n",
       "      <td>кафе</td>\n",
       "      <td>город Москва, Абельмановская улица, дом 6</td>\n",
       "      <td>95</td>\n",
       "    </tr>\n",
       "    <tr>\n",
       "      <th>3</th>\n",
       "      <td>21894</td>\n",
       "      <td>пиццетория</td>\n",
       "      <td>да</td>\n",
       "      <td>кафе</td>\n",
       "      <td>город Москва, Абрамцевская улица, дом 1</td>\n",
       "      <td>40</td>\n",
       "    </tr>\n",
       "    <tr>\n",
       "      <th>4</th>\n",
       "      <td>119365</td>\n",
       "      <td>кафе «вишневая метель»</td>\n",
       "      <td>нет</td>\n",
       "      <td>кафе</td>\n",
       "      <td>город Москва, Абрамцевская улица, дом 9, корпус 1</td>\n",
       "      <td>50</td>\n",
       "    </tr>\n",
       "  </tbody>\n",
       "</table>\n",
       "</div>"
      ],
      "text/plain": [
       "       id             object_name chain object_type  \\\n",
       "0  151635                 сметана   нет        кафе   \n",
       "1   77874                  родник   нет        кафе   \n",
       "2   24309         кафе «академия»   нет        кафе   \n",
       "3   21894              пиццетория    да        кафе   \n",
       "4  119365  кафе «вишневая метель»   нет        кафе   \n",
       "\n",
       "                                             address  number  \n",
       "0         город Москва, улица Егора Абакумова, дом 9      48  \n",
       "1  город Москва, улица Талалихина, дом 2/1, корпус 1      35  \n",
       "2          город Москва, Абельмановская улица, дом 6      95  \n",
       "3            город Москва, Абрамцевская улица, дом 1      40  \n",
       "4  город Москва, Абрамцевская улица, дом 9, корпус 1      50  "
      ]
     },
     "execution_count": 10,
     "metadata": {},
     "output_type": "execute_result"
    }
   ],
   "source": [
    "data.head()"
   ]
  },
  {
   "cell_type": "code",
   "execution_count": 11,
   "metadata": {},
   "outputs": [
    {
     "name": "stderr",
     "output_type": "stream",
     "text": [
      "/tmp/ipykernel_469/2073281274.py:8: FutureWarning: The default value of regex will change from True to False in a future version. In addition, single character regular expressions will*not* be treated as literal strings when regex=True.\n",
      "  data['object_name'] = data['object_name'].str.replace(\".\",'')\n"
     ]
    }
   ],
   "source": [
    "data['object_name'] = data['object_name'].str.replace('ё','е')\n",
    "data['object_name'] = data['object_name'].str.replace('-','')\n",
    "data['object_name'] = data['object_name'].str.replace('_','')\n",
    "data['object_name'] = data['object_name'].str.replace('\"','')\n",
    "data['object_name'] = data['object_name'].str.replace(\"'\",'')\n",
    "data['object_name'] = data['object_name'].str.replace(\"«\",'')\n",
    "data['object_name'] = data['object_name'].str.replace(\"»\",'')\n",
    "data['object_name'] = data['object_name'].str.replace(\".\",'')"
   ]
  },
  {
   "cell_type": "code",
   "execution_count": 12,
   "metadata": {},
   "outputs": [
    {
     "data": {
      "text/html": [
       "<div>\n",
       "<style scoped>\n",
       "    .dataframe tbody tr th:only-of-type {\n",
       "        vertical-align: middle;\n",
       "    }\n",
       "\n",
       "    .dataframe tbody tr th {\n",
       "        vertical-align: top;\n",
       "    }\n",
       "\n",
       "    .dataframe thead th {\n",
       "        text-align: right;\n",
       "    }\n",
       "</style>\n",
       "<table border=\"1\" class=\"dataframe\">\n",
       "  <thead>\n",
       "    <tr style=\"text-align: right;\">\n",
       "      <th></th>\n",
       "      <th>id</th>\n",
       "      <th>object_name</th>\n",
       "      <th>chain</th>\n",
       "      <th>object_type</th>\n",
       "      <th>address</th>\n",
       "      <th>number</th>\n",
       "    </tr>\n",
       "  </thead>\n",
       "  <tbody>\n",
       "    <tr>\n",
       "      <th>0</th>\n",
       "      <td>151635</td>\n",
       "      <td>сметана</td>\n",
       "      <td>нет</td>\n",
       "      <td>кафе</td>\n",
       "      <td>город Москва, улица Егора Абакумова, дом 9</td>\n",
       "      <td>48</td>\n",
       "    </tr>\n",
       "    <tr>\n",
       "      <th>1</th>\n",
       "      <td>77874</td>\n",
       "      <td>родник</td>\n",
       "      <td>нет</td>\n",
       "      <td>кафе</td>\n",
       "      <td>город Москва, улица Талалихина, дом 2/1, корпус 1</td>\n",
       "      <td>35</td>\n",
       "    </tr>\n",
       "    <tr>\n",
       "      <th>2</th>\n",
       "      <td>24309</td>\n",
       "      <td>кафе академия</td>\n",
       "      <td>нет</td>\n",
       "      <td>кафе</td>\n",
       "      <td>город Москва, Абельмановская улица, дом 6</td>\n",
       "      <td>95</td>\n",
       "    </tr>\n",
       "    <tr>\n",
       "      <th>3</th>\n",
       "      <td>21894</td>\n",
       "      <td>пиццетория</td>\n",
       "      <td>да</td>\n",
       "      <td>кафе</td>\n",
       "      <td>город Москва, Абрамцевская улица, дом 1</td>\n",
       "      <td>40</td>\n",
       "    </tr>\n",
       "    <tr>\n",
       "      <th>4</th>\n",
       "      <td>119365</td>\n",
       "      <td>кафе вишневая метель</td>\n",
       "      <td>нет</td>\n",
       "      <td>кафе</td>\n",
       "      <td>город Москва, Абрамцевская улица, дом 9, корпус 1</td>\n",
       "      <td>50</td>\n",
       "    </tr>\n",
       "  </tbody>\n",
       "</table>\n",
       "</div>"
      ],
      "text/plain": [
       "       id           object_name chain object_type  \\\n",
       "0  151635               сметана   нет        кафе   \n",
       "1   77874                родник   нет        кафе   \n",
       "2   24309         кафе академия   нет        кафе   \n",
       "3   21894            пиццетория    да        кафе   \n",
       "4  119365  кафе вишневая метель   нет        кафе   \n",
       "\n",
       "                                             address  number  \n",
       "0         город Москва, улица Егора Абакумова, дом 9      48  \n",
       "1  город Москва, улица Талалихина, дом 2/1, корпус 1      35  \n",
       "2          город Москва, Абельмановская улица, дом 6      95  \n",
       "3            город Москва, Абрамцевская улица, дом 1      40  \n",
       "4  город Москва, Абрамцевская улица, дом 9, корпус 1      50  "
      ]
     },
     "execution_count": 12,
     "metadata": {},
     "output_type": "execute_result"
    }
   ],
   "source": [
    "data.head()"
   ]
  },
  {
   "cell_type": "markdown",
   "metadata": {},
   "source": [
    "<div style=\"border:solid blue 1px; padding: 20px\"> \n",
    "Далее проработаем вопрос наличия нескольких типов объекта общественного питания для одной сети.\n",
    "Найдем самый многочисленный тип по каждой сети заведений и добавим его в колонку object_type_upd."
   ]
  },
  {
   "cell_type": "code",
   "execution_count": 13,
   "metadata": {},
   "outputs": [],
   "source": [
    "types = data.groupby(['object_name', 'object_type']).agg({'object_type':'count'})"
   ]
  },
  {
   "cell_type": "code",
   "execution_count": 15,
   "metadata": {},
   "outputs": [
    {
     "data": {
      "text/html": [
       "<div>\n",
       "<style scoped>\n",
       "    .dataframe tbody tr th:only-of-type {\n",
       "        vertical-align: middle;\n",
       "    }\n",
       "\n",
       "    .dataframe tbody tr th {\n",
       "        vertical-align: top;\n",
       "    }\n",
       "\n",
       "    .dataframe thead th {\n",
       "        text-align: right;\n",
       "    }\n",
       "</style>\n",
       "<table border=\"1\" class=\"dataframe\">\n",
       "  <thead>\n",
       "    <tr style=\"text-align: right;\">\n",
       "      <th></th>\n",
       "      <th></th>\n",
       "      <th>object_type</th>\n",
       "    </tr>\n",
       "    <tr>\n",
       "      <th>object_name</th>\n",
       "      <th>object_type</th>\n",
       "      <th></th>\n",
       "    </tr>\n",
       "  </thead>\n",
       "  <tbody>\n",
       "    <tr>\n",
       "      <th>100 личная столовая</th>\n",
       "      <th>столовая</th>\n",
       "      <td>1</td>\n",
       "    </tr>\n",
       "    <tr>\n",
       "      <th>100 личное кафе</th>\n",
       "      <th>кафе</th>\n",
       "      <td>1</td>\n",
       "    </tr>\n",
       "    <tr>\n",
       "      <th>1001 ночь</th>\n",
       "      <th>ресторан</th>\n",
       "      <td>1</td>\n",
       "    </tr>\n",
       "    <tr>\n",
       "      <th>100лоффка</th>\n",
       "      <th>столовая</th>\n",
       "      <td>1</td>\n",
       "    </tr>\n",
       "    <tr>\n",
       "      <th>101 вкус</th>\n",
       "      <th>кафе</th>\n",
       "      <td>1</td>\n",
       "    </tr>\n",
       "  </tbody>\n",
       "</table>\n",
       "</div>"
      ],
      "text/plain": [
       "                                 object_type\n",
       "object_name         object_type             \n",
       "100 личная столовая столовая               1\n",
       "100 личное кафе     кафе                   1\n",
       "1001 ночь           ресторан               1\n",
       "100лоффка           столовая               1\n",
       "101 вкус            кафе                   1"
      ]
     },
     "execution_count": 15,
     "metadata": {},
     "output_type": "execute_result"
    }
   ],
   "source": [
    "types.head()"
   ]
  },
  {
   "cell_type": "code",
   "execution_count": 16,
   "metadata": {},
   "outputs": [],
   "source": [
    "types.columns = ['qty']"
   ]
  },
  {
   "cell_type": "code",
   "execution_count": 17,
   "metadata": {},
   "outputs": [
    {
     "name": "stdout",
     "output_type": "stream",
     "text": [
      "<class 'pandas.core.frame.DataFrame'>\n",
      "RangeIndex: 10583 entries, 0 to 10582\n",
      "Data columns (total 3 columns):\n",
      " #   Column       Non-Null Count  Dtype \n",
      "---  ------       --------------  ----- \n",
      " 0   object_name  10583 non-null  object\n",
      " 1   object_type  10583 non-null  object\n",
      " 2   qty          10583 non-null  int64 \n",
      "dtypes: int64(1), object(2)\n",
      "memory usage: 248.2+ KB\n"
     ]
    },
    {
     "data": {
      "text/plain": [
       "None"
      ]
     },
     "metadata": {},
     "output_type": "display_data"
    }
   ],
   "source": [
    "types.reset_index(inplace=True)\n",
    "display(types.info())"
   ]
  },
  {
   "cell_type": "code",
   "execution_count": 18,
   "metadata": {},
   "outputs": [],
   "source": [
    "types_2 = types[['object_name', 'qty']].groupby(by='object_name', as_index=False).max()"
   ]
  },
  {
   "cell_type": "code",
   "execution_count": 19,
   "metadata": {},
   "outputs": [],
   "source": [
    "types_max = (pd.merge(types_2, types, on=['object_name', 'qty'], how='left')\n",
    "             .sort_values(['object_name', 'qty'], ascending=False))"
   ]
  },
  {
   "cell_type": "code",
   "execution_count": 21,
   "metadata": {},
   "outputs": [
    {
     "data": {
      "text/html": [
       "<div>\n",
       "<style scoped>\n",
       "    .dataframe tbody tr th:only-of-type {\n",
       "        vertical-align: middle;\n",
       "    }\n",
       "\n",
       "    .dataframe tbody tr th {\n",
       "        vertical-align: top;\n",
       "    }\n",
       "\n",
       "    .dataframe thead th {\n",
       "        text-align: right;\n",
       "    }\n",
       "</style>\n",
       "<table border=\"1\" class=\"dataframe\">\n",
       "  <thead>\n",
       "    <tr style=\"text-align: right;\">\n",
       "      <th></th>\n",
       "      <th>object_name</th>\n",
       "      <th>qty</th>\n",
       "      <th>object_type</th>\n",
       "    </tr>\n",
       "  </thead>\n",
       "  <tbody>\n",
       "    <tr>\n",
       "      <th>10107</th>\n",
       "      <td>яуза</td>\n",
       "      <td>1</td>\n",
       "      <td>ресторан</td>\n",
       "    </tr>\n",
       "    <tr>\n",
       "      <th>10105</th>\n",
       "      <td>ясон</td>\n",
       "      <td>1</td>\n",
       "      <td>кафе</td>\n",
       "    </tr>\n",
       "    <tr>\n",
       "      <th>10106</th>\n",
       "      <td>ясон</td>\n",
       "      <td>1</td>\n",
       "      <td>ресторан</td>\n",
       "    </tr>\n",
       "    <tr>\n",
       "      <th>10103</th>\n",
       "      <td>ясмин</td>\n",
       "      <td>1</td>\n",
       "      <td>кафе</td>\n",
       "    </tr>\n",
       "    <tr>\n",
       "      <th>10104</th>\n",
       "      <td>ясмин</td>\n",
       "      <td>1</td>\n",
       "      <td>ресторан</td>\n",
       "    </tr>\n",
       "  </tbody>\n",
       "</table>\n",
       "</div>"
      ],
      "text/plain": [
       "      object_name  qty object_type\n",
       "10107        яуза    1    ресторан\n",
       "10105        ясон    1        кафе\n",
       "10106        ясон    1    ресторан\n",
       "10103       ясмин    1        кафе\n",
       "10104       ясмин    1    ресторан"
      ]
     },
     "execution_count": 21,
     "metadata": {},
     "output_type": "execute_result"
    }
   ],
   "source": [
    "types_max.head()"
   ]
  },
  {
   "cell_type": "code",
   "execution_count": 22,
   "metadata": {},
   "outputs": [],
   "source": [
    "types_max = types_max.drop_duplicates(subset='object_name', keep='first', inplace=False, ignore_index=False)"
   ]
  },
  {
   "cell_type": "code",
   "execution_count": 23,
   "metadata": {},
   "outputs": [
    {
     "name": "stdout",
     "output_type": "stream",
     "text": [
      "<class 'pandas.core.frame.DataFrame'>\n",
      "Int64Index: 9810 entries, 10107 to 0\n",
      "Data columns (total 3 columns):\n",
      " #   Column       Non-Null Count  Dtype \n",
      "---  ------       --------------  ----- \n",
      " 0   object_name  9810 non-null   object\n",
      " 1   qty          9810 non-null   int64 \n",
      " 2   object_type  9810 non-null   object\n",
      "dtypes: int64(1), object(2)\n",
      "memory usage: 306.6+ KB\n"
     ]
    }
   ],
   "source": [
    "types_max.info()"
   ]
  },
  {
   "cell_type": "code",
   "execution_count": 24,
   "metadata": {},
   "outputs": [
    {
     "name": "stdout",
     "output_type": "stream",
     "text": [
      "<class 'pandas.core.frame.DataFrame'>\n",
      "RangeIndex: 15366 entries, 0 to 15365\n",
      "Data columns (total 6 columns):\n",
      " #   Column       Non-Null Count  Dtype \n",
      "---  ------       --------------  ----- \n",
      " 0   id           15366 non-null  int64 \n",
      " 1   object_name  15366 non-null  object\n",
      " 2   chain        15366 non-null  object\n",
      " 3   object_type  15366 non-null  object\n",
      " 4   address      15366 non-null  object\n",
      " 5   number       15366 non-null  int64 \n",
      "dtypes: int64(2), object(4)\n",
      "memory usage: 720.4+ KB\n"
     ]
    }
   ],
   "source": [
    "data.info()"
   ]
  },
  {
   "cell_type": "code",
   "execution_count": 25,
   "metadata": {},
   "outputs": [],
   "source": [
    "data = pd.merge(data, types_max, on='object_name', how='left')"
   ]
  },
  {
   "cell_type": "code",
   "execution_count": 26,
   "metadata": {},
   "outputs": [
    {
     "data": {
      "text/html": [
       "<div>\n",
       "<style scoped>\n",
       "    .dataframe tbody tr th:only-of-type {\n",
       "        vertical-align: middle;\n",
       "    }\n",
       "\n",
       "    .dataframe tbody tr th {\n",
       "        vertical-align: top;\n",
       "    }\n",
       "\n",
       "    .dataframe thead th {\n",
       "        text-align: right;\n",
       "    }\n",
       "</style>\n",
       "<table border=\"1\" class=\"dataframe\">\n",
       "  <thead>\n",
       "    <tr style=\"text-align: right;\">\n",
       "      <th></th>\n",
       "      <th>id</th>\n",
       "      <th>object_name</th>\n",
       "      <th>chain</th>\n",
       "      <th>object_type_x</th>\n",
       "      <th>address</th>\n",
       "      <th>number</th>\n",
       "      <th>qty</th>\n",
       "      <th>object_type_y</th>\n",
       "    </tr>\n",
       "  </thead>\n",
       "  <tbody>\n",
       "    <tr>\n",
       "      <th>0</th>\n",
       "      <td>151635</td>\n",
       "      <td>сметана</td>\n",
       "      <td>нет</td>\n",
       "      <td>кафе</td>\n",
       "      <td>город Москва, улица Егора Абакумова, дом 9</td>\n",
       "      <td>48</td>\n",
       "      <td>1</td>\n",
       "      <td>кафе</td>\n",
       "    </tr>\n",
       "    <tr>\n",
       "      <th>1</th>\n",
       "      <td>77874</td>\n",
       "      <td>родник</td>\n",
       "      <td>нет</td>\n",
       "      <td>кафе</td>\n",
       "      <td>город Москва, улица Талалихина, дом 2/1, корпус 1</td>\n",
       "      <td>35</td>\n",
       "      <td>1</td>\n",
       "      <td>кафе</td>\n",
       "    </tr>\n",
       "    <tr>\n",
       "      <th>2</th>\n",
       "      <td>24309</td>\n",
       "      <td>кафе академия</td>\n",
       "      <td>нет</td>\n",
       "      <td>кафе</td>\n",
       "      <td>город Москва, Абельмановская улица, дом 6</td>\n",
       "      <td>95</td>\n",
       "      <td>1</td>\n",
       "      <td>кафе</td>\n",
       "    </tr>\n",
       "    <tr>\n",
       "      <th>3</th>\n",
       "      <td>21894</td>\n",
       "      <td>пиццетория</td>\n",
       "      <td>да</td>\n",
       "      <td>кафе</td>\n",
       "      <td>город Москва, Абрамцевская улица, дом 1</td>\n",
       "      <td>40</td>\n",
       "      <td>2</td>\n",
       "      <td>кафе</td>\n",
       "    </tr>\n",
       "    <tr>\n",
       "      <th>4</th>\n",
       "      <td>119365</td>\n",
       "      <td>кафе вишневая метель</td>\n",
       "      <td>нет</td>\n",
       "      <td>кафе</td>\n",
       "      <td>город Москва, Абрамцевская улица, дом 9, корпус 1</td>\n",
       "      <td>50</td>\n",
       "      <td>1</td>\n",
       "      <td>кафе</td>\n",
       "    </tr>\n",
       "  </tbody>\n",
       "</table>\n",
       "</div>"
      ],
      "text/plain": [
       "       id           object_name chain object_type_x  \\\n",
       "0  151635               сметана   нет          кафе   \n",
       "1   77874                родник   нет          кафе   \n",
       "2   24309         кафе академия   нет          кафе   \n",
       "3   21894            пиццетория    да          кафе   \n",
       "4  119365  кафе вишневая метель   нет          кафе   \n",
       "\n",
       "                                             address  number  qty  \\\n",
       "0         город Москва, улица Егора Абакумова, дом 9      48    1   \n",
       "1  город Москва, улица Талалихина, дом 2/1, корпус 1      35    1   \n",
       "2          город Москва, Абельмановская улица, дом 6      95    1   \n",
       "3            город Москва, Абрамцевская улица, дом 1      40    2   \n",
       "4  город Москва, Абрамцевская улица, дом 9, корпус 1      50    1   \n",
       "\n",
       "  object_type_y  \n",
       "0          кафе  \n",
       "1          кафе  \n",
       "2          кафе  \n",
       "3          кафе  \n",
       "4          кафе  "
      ]
     },
     "execution_count": 26,
     "metadata": {},
     "output_type": "execute_result"
    }
   ],
   "source": [
    "data.head()"
   ]
  },
  {
   "cell_type": "code",
   "execution_count": 27,
   "metadata": {},
   "outputs": [
    {
     "name": "stdout",
     "output_type": "stream",
     "text": [
      "<class 'pandas.core.frame.DataFrame'>\n",
      "Int64Index: 15366 entries, 0 to 15365\n",
      "Data columns (total 8 columns):\n",
      " #   Column         Non-Null Count  Dtype \n",
      "---  ------         --------------  ----- \n",
      " 0   id             15366 non-null  int64 \n",
      " 1   object_name    15366 non-null  object\n",
      " 2   chain          15366 non-null  object\n",
      " 3   object_type_x  15366 non-null  object\n",
      " 4   address        15366 non-null  object\n",
      " 5   number         15366 non-null  int64 \n",
      " 6   qty            15366 non-null  int64 \n",
      " 7   object_type_y  15366 non-null  object\n",
      "dtypes: int64(3), object(5)\n",
      "memory usage: 1.1+ MB\n"
     ]
    }
   ],
   "source": [
    "data.info()"
   ]
  },
  {
   "cell_type": "code",
   "execution_count": 28,
   "metadata": {},
   "outputs": [],
   "source": [
    "data = data.rename(columns={'object_type_y':'object_type_upd', 'object_type_x':'object_type'})\n",
    "data = data.drop(['qty'], axis=1)"
   ]
  },
  {
   "cell_type": "code",
   "execution_count": 29,
   "metadata": {},
   "outputs": [
    {
     "data": {
      "text/html": [
       "<div>\n",
       "<style scoped>\n",
       "    .dataframe tbody tr th:only-of-type {\n",
       "        vertical-align: middle;\n",
       "    }\n",
       "\n",
       "    .dataframe tbody tr th {\n",
       "        vertical-align: top;\n",
       "    }\n",
       "\n",
       "    .dataframe thead th {\n",
       "        text-align: right;\n",
       "    }\n",
       "</style>\n",
       "<table border=\"1\" class=\"dataframe\">\n",
       "  <thead>\n",
       "    <tr style=\"text-align: right;\">\n",
       "      <th></th>\n",
       "      <th>id</th>\n",
       "      <th>object_name</th>\n",
       "      <th>chain</th>\n",
       "      <th>object_type</th>\n",
       "      <th>address</th>\n",
       "      <th>number</th>\n",
       "      <th>object_type_upd</th>\n",
       "    </tr>\n",
       "  </thead>\n",
       "  <tbody>\n",
       "    <tr>\n",
       "      <th>0</th>\n",
       "      <td>151635</td>\n",
       "      <td>сметана</td>\n",
       "      <td>нет</td>\n",
       "      <td>кафе</td>\n",
       "      <td>город Москва, улица Егора Абакумова, дом 9</td>\n",
       "      <td>48</td>\n",
       "      <td>кафе</td>\n",
       "    </tr>\n",
       "    <tr>\n",
       "      <th>1</th>\n",
       "      <td>77874</td>\n",
       "      <td>родник</td>\n",
       "      <td>нет</td>\n",
       "      <td>кафе</td>\n",
       "      <td>город Москва, улица Талалихина, дом 2/1, корпус 1</td>\n",
       "      <td>35</td>\n",
       "      <td>кафе</td>\n",
       "    </tr>\n",
       "    <tr>\n",
       "      <th>2</th>\n",
       "      <td>24309</td>\n",
       "      <td>кафе академия</td>\n",
       "      <td>нет</td>\n",
       "      <td>кафе</td>\n",
       "      <td>город Москва, Абельмановская улица, дом 6</td>\n",
       "      <td>95</td>\n",
       "      <td>кафе</td>\n",
       "    </tr>\n",
       "    <tr>\n",
       "      <th>3</th>\n",
       "      <td>21894</td>\n",
       "      <td>пиццетория</td>\n",
       "      <td>да</td>\n",
       "      <td>кафе</td>\n",
       "      <td>город Москва, Абрамцевская улица, дом 1</td>\n",
       "      <td>40</td>\n",
       "      <td>кафе</td>\n",
       "    </tr>\n",
       "    <tr>\n",
       "      <th>4</th>\n",
       "      <td>119365</td>\n",
       "      <td>кафе вишневая метель</td>\n",
       "      <td>нет</td>\n",
       "      <td>кафе</td>\n",
       "      <td>город Москва, Абрамцевская улица, дом 9, корпус 1</td>\n",
       "      <td>50</td>\n",
       "      <td>кафе</td>\n",
       "    </tr>\n",
       "  </tbody>\n",
       "</table>\n",
       "</div>"
      ],
      "text/plain": [
       "       id           object_name chain object_type  \\\n",
       "0  151635               сметана   нет        кафе   \n",
       "1   77874                родник   нет        кафе   \n",
       "2   24309         кафе академия   нет        кафе   \n",
       "3   21894            пиццетория    да        кафе   \n",
       "4  119365  кафе вишневая метель   нет        кафе   \n",
       "\n",
       "                                             address  number object_type_upd  \n",
       "0         город Москва, улица Егора Абакумова, дом 9      48            кафе  \n",
       "1  город Москва, улица Талалихина, дом 2/1, корпус 1      35            кафе  \n",
       "2          город Москва, Абельмановская улица, дом 6      95            кафе  \n",
       "3            город Москва, Абрамцевская улица, дом 1      40            кафе  \n",
       "4  город Москва, Абрамцевская улица, дом 9, корпус 1      50            кафе  "
      ]
     },
     "execution_count": 29,
     "metadata": {},
     "output_type": "execute_result"
    }
   ],
   "source": [
    "data.head()"
   ]
  },
  {
   "cell_type": "markdown",
   "metadata": {},
   "source": [
    "<div style=\"border:solid blue 1px; padding: 20px\"> \n",
    "Проверим данные на явные дубликаты"
   ]
  },
  {
   "cell_type": "code",
   "execution_count": 30,
   "metadata": {},
   "outputs": [
    {
     "data": {
      "text/plain": [
       "0"
      ]
     },
     "execution_count": 30,
     "metadata": {},
     "output_type": "execute_result"
    }
   ],
   "source": [
    "data.duplicated().sum()"
   ]
  },
  {
   "cell_type": "markdown",
   "metadata": {},
   "source": [
    "<div style=\"border:solid blue 1px; padding: 20px\"> \n",
    "Явных дубликатов нет"
   ]
  },
  {
   "cell_type": "markdown",
   "metadata": {},
   "source": [
    "### Вывод\n",
    "В данных были найдены неявные дубликаты: некоторые заведения сети дублируются под разными названиями.\n",
    "Для этого значения столбца \"название объекта общественного питания\" были приведены к нижнему регистру, были удалены специальные символы.\n",
    "\n",
    "Так же в одной сети встречаются заведения разного типа (например, KFC - ресторан быстрого питания / кафе / ресторан). Для унификации был добавлен столбец \"object_type_upd\", в котором отражается наиболее полпулярный тип заведения по каждой сети ресторанов."
   ]
  },
  {
   "cell_type": "markdown",
   "metadata": {},
   "source": [
    "## Анализ данных"
   ]
  },
  {
   "cell_type": "markdown",
   "metadata": {},
   "source": [
    "### Исследуйте соотношение видов объектов общественного питания по количеству. Постройте график."
   ]
  },
  {
   "cell_type": "code",
   "execution_count": 31,
   "metadata": {},
   "outputs": [
    {
     "data": {
      "image/png": "[encoded data removed]",
      "text/plain": [
       "<Figure size 864x576 with 1 Axes>"
      ]
     },
     "metadata": {
      "needs_background": "light"
     },
     "output_type": "display_data"
    }
   ],
   "source": [
    "plt.figure(figsize=(12, 8))\n",
    "plt.rcParams['font.size'] = '12'\n",
    "sb.countplot(y=data['object_type_upd'], order=data['object_type_upd']\n",
    "             .value_counts().sort_values(ascending=False).index)\n",
    "plt.ylabel('Тип объекта общественного питания')\n",
    "plt.xlabel('Количество, шт.')\n",
    "plt.title('Соотношение видов объектов общественного питания по количеству')\n",
    "plt.show()"
   ]
  },
  {
   "cell_type": "markdown",
   "metadata": {},
   "source": [
    "Самый популярный тип общественного питания - это кафе (около 6 тыс.), далее идут столовая (около 2,5 тыс.), предприятие быстрого обслуживания и ресторан (около 2 тыс.)"
   ]
  },
  {
   "cell_type": "markdown",
   "metadata": {},
   "source": [
    "### Исследуйте соотношение сетевых и несетевых заведений по количеству. Постройте график."
   ]
  },
  {
   "cell_type": "code",
   "execution_count": 32,
   "metadata": {},
   "outputs": [
    {
     "name": "stderr",
     "output_type": "stream",
     "text": [
      "/opt/conda/lib/python3.9/site-packages/seaborn/_decorators.py:36: FutureWarning: Pass the following variable as a keyword arg: x. From version 0.12, the only valid positional argument will be `data`, and passing other arguments without an explicit keyword will result in an error or misinterpretation.\n",
      "  warnings.warn(\n"
     ]
    },
    {
     "data": {
      "image/png": "[encoded data removed]",
      "text/plain": [
       "<Figure size 864x576 with 1 Axes>"
      ]
     },
     "metadata": {
      "needs_background": "light"
     },
     "output_type": "display_data"
    }
   ],
   "source": [
    "plt.figure(figsize=(12, 8))\n",
    "plt.rcParams['font.size'] = '12'\n",
    "sb.countplot(data['chain'])\n",
    "\n",
    "plt.ylabel('Количество, шт.')\n",
    "plt.xlabel('Сетевой ресторан')\n",
    "plt.title('Соотношение сетевых и несетевых заведений по количеству')\n",
    "plt.show()"
   ]
  },
  {
   "cell_type": "markdown",
   "metadata": {},
   "source": [
    "Большинство заведений не сетевые (~ 80%)."
   ]
  },
  {
   "cell_type": "markdown",
   "metadata": {},
   "source": [
    "### Для какого вида объекта общественного питания характерно сетевое распространение?"
   ]
  },
  {
   "cell_type": "code",
   "execution_count": 33,
   "metadata": {},
   "outputs": [
    {
     "data": {
      "image/png": "[encoded data removed]",
      "text/plain": [
       "<Figure size 864x576 with 1 Axes>"
      ]
     },
     "metadata": {
      "needs_background": "light"
     },
     "output_type": "display_data"
    }
   ],
   "source": [
    "plt.figure(figsize=(12, 8))\n",
    "plt.rcParams['font.size'] = '14'\n",
    "sb.countplot(y=data['object_type_upd'], hue=data['chain'], order=data['object_type_upd']\n",
    "             .value_counts().sort_values(ascending=False).index)\n",
    "plt.ylabel('Тип объекта общественного питания')\n",
    "plt.xlabel('Количество, шт.')\n",
    "plt.title('Типы объектов общественного питания в разбивке по сетевому распространению')\n",
    "plt.show()"
   ]
  },
  {
   "cell_type": "code",
   "execution_count": 34,
   "metadata": {},
   "outputs": [],
   "source": [
    "chain_pt = (data.pivot_table(index='object_type_upd', columns='chain', values='id', aggfunc='count')\n",
    "            .reset_index())"
   ]
  },
  {
   "cell_type": "code",
   "execution_count": 35,
   "metadata": {},
   "outputs": [],
   "source": [
    "chain_pt.columns = ['object_type_upd', 'yes', 'no']"
   ]
  },
  {
   "cell_type": "code",
   "execution_count": 36,
   "metadata": {},
   "outputs": [],
   "source": [
    "chain_pt['percent'] = chain_pt['yes']/(chain_pt['yes']+chain_pt['no']) * 100"
   ]
  },
  {
   "cell_type": "code",
   "execution_count": 37,
   "metadata": {},
   "outputs": [],
   "source": [
    "chain_pt = chain_pt.sort_values('percent', ascending=False)"
   ]
  },
  {
   "cell_type": "code",
   "execution_count": 38,
   "metadata": {},
   "outputs": [
    {
     "data": {
      "image/png": "[encoded data removed]",
      "text/plain": [
       "<Figure size 864x576 with 1 Axes>"
      ]
     },
     "metadata": {
      "needs_background": "light"
     },
     "output_type": "display_data"
    }
   ],
   "source": [
    "plt.figure(figsize=(12, 8))\n",
    "plt.rcParams['font.size'] = '14'\n",
    "sb.barplot(y=chain_pt['object_type_upd'], x=chain_pt['percent'])\n",
    "plt.ylabel('Тип объекта общественного питания')\n",
    "plt.xlabel('% сетевых заведений')\n",
    "plt.title('Типы объектов общественного питания в разбивке по сетевому распространению')\n",
    "plt.show()"
   ]
  },
  {
   "cell_type": "markdown",
   "metadata": {},
   "source": [
    "Больше всего сетевых заведений типа кафе, около 1,5 тыс.\n",
    "Но в % соотношении больше всего сетевых заведений у предприятий быстрого обслуживания (~ 42%), далее у отделов кулинарии в магазинах (~ 32%) и только потом у кафе (~22%)."
   ]
  },
  {
   "cell_type": "markdown",
   "metadata": {},
   "source": [
    "### Что характерно для сетевых заведений: много заведений с небольшим числом посадочных мест в каждом или мало заведений с большим количеством посадочных мест"
   ]
  },
  {
   "cell_type": "code",
   "execution_count": 39,
   "metadata": {},
   "outputs": [],
   "source": [
    "chain_number = data[data['chain']=='да'].groupby('object_name').agg({'id':'count', 'number':'mean'})"
   ]
  },
  {
   "cell_type": "code",
   "execution_count": 40,
   "metadata": {},
   "outputs": [],
   "source": [
    "chain_number.columns = ['id_qty', 'mean_number_qty']"
   ]
  },
  {
   "cell_type": "code",
   "execution_count": 41,
   "metadata": {},
   "outputs": [],
   "source": [
    "chain_number['mean_number_qty'] = round(chain_number['mean_number_qty'])"
   ]
  },
  {
   "cell_type": "code",
   "execution_count": 42,
   "metadata": {},
   "outputs": [
    {
     "data": {
      "text/html": [
       "<div>\n",
       "<style scoped>\n",
       "    .dataframe tbody tr th:only-of-type {\n",
       "        vertical-align: middle;\n",
       "    }\n",
       "\n",
       "    .dataframe tbody tr th {\n",
       "        vertical-align: top;\n",
       "    }\n",
       "\n",
       "    .dataframe thead th {\n",
       "        text-align: right;\n",
       "    }\n",
       "</style>\n",
       "<table border=\"1\" class=\"dataframe\">\n",
       "  <thead>\n",
       "    <tr style=\"text-align: right;\">\n",
       "      <th></th>\n",
       "      <th>id_qty</th>\n",
       "      <th>mean_number_qty</th>\n",
       "    </tr>\n",
       "  </thead>\n",
       "  <tbody>\n",
       "    <tr>\n",
       "      <th>count</th>\n",
       "      <td>552.000000</td>\n",
       "      <td>552.000000</td>\n",
       "    </tr>\n",
       "    <tr>\n",
       "      <th>mean</th>\n",
       "      <td>5.376812</td>\n",
       "      <td>58.938406</td>\n",
       "    </tr>\n",
       "    <tr>\n",
       "      <th>std</th>\n",
       "      <td>15.882944</td>\n",
       "      <td>53.753148</td>\n",
       "    </tr>\n",
       "    <tr>\n",
       "      <th>min</th>\n",
       "      <td>1.000000</td>\n",
       "      <td>0.000000</td>\n",
       "    </tr>\n",
       "    <tr>\n",
       "      <th>25%</th>\n",
       "      <td>1.000000</td>\n",
       "      <td>20.000000</td>\n",
       "    </tr>\n",
       "    <tr>\n",
       "      <th>50%</th>\n",
       "      <td>1.000000</td>\n",
       "      <td>45.000000</td>\n",
       "    </tr>\n",
       "    <tr>\n",
       "      <th>75%</th>\n",
       "      <td>3.000000</td>\n",
       "      <td>82.250000</td>\n",
       "    </tr>\n",
       "    <tr>\n",
       "      <th>max</th>\n",
       "      <td>157.000000</td>\n",
       "      <td>306.000000</td>\n",
       "    </tr>\n",
       "  </tbody>\n",
       "</table>\n",
       "</div>"
      ],
      "text/plain": [
       "           id_qty  mean_number_qty\n",
       "count  552.000000       552.000000\n",
       "mean     5.376812        58.938406\n",
       "std     15.882944        53.753148\n",
       "min      1.000000         0.000000\n",
       "25%      1.000000        20.000000\n",
       "50%      1.000000        45.000000\n",
       "75%      3.000000        82.250000\n",
       "max    157.000000       306.000000"
      ]
     },
     "execution_count": 42,
     "metadata": {},
     "output_type": "execute_result"
    }
   ],
   "source": [
    "chain_number.describe()"
   ]
  },
  {
   "cell_type": "code",
   "execution_count": 43,
   "metadata": {},
   "outputs": [
    {
     "name": "stdout",
     "output_type": "stream",
     "text": [
      "<class 'pandas.core.frame.DataFrame'>\n",
      "Index: 552 entries, beverly hills diner to япоша\n",
      "Data columns (total 2 columns):\n",
      " #   Column           Non-Null Count  Dtype  \n",
      "---  ------           --------------  -----  \n",
      " 0   id_qty           552 non-null    int64  \n",
      " 1   mean_number_qty  552 non-null    float64\n",
      "dtypes: float64(1), int64(1)\n",
      "memory usage: 12.9+ KB\n"
     ]
    }
   ],
   "source": [
    "chain_number.info()"
   ]
  },
  {
   "cell_type": "markdown",
   "metadata": {},
   "source": [
    "Видно, что в выборке много сетей всего с 1 заведением, но характеризующиеся как сетевые.\n",
    "Удалим их из наших расчетов."
   ]
  },
  {
   "cell_type": "code",
   "execution_count": 44,
   "metadata": {},
   "outputs": [],
   "source": [
    "chain_number = chain_number.query('id_qty > 1')"
   ]
  },
  {
   "cell_type": "code",
   "execution_count": 45,
   "metadata": {},
   "outputs": [
    {
     "data": {
      "text/html": [
       "<div>\n",
       "<style scoped>\n",
       "    .dataframe tbody tr th:only-of-type {\n",
       "        vertical-align: middle;\n",
       "    }\n",
       "\n",
       "    .dataframe tbody tr th {\n",
       "        vertical-align: top;\n",
       "    }\n",
       "\n",
       "    .dataframe thead th {\n",
       "        text-align: right;\n",
       "    }\n",
       "</style>\n",
       "<table border=\"1\" class=\"dataframe\">\n",
       "  <thead>\n",
       "    <tr style=\"text-align: right;\">\n",
       "      <th></th>\n",
       "      <th>id_qty</th>\n",
       "      <th>mean_number_qty</th>\n",
       "    </tr>\n",
       "  </thead>\n",
       "  <tbody>\n",
       "    <tr>\n",
       "      <th>count</th>\n",
       "      <td>250.000000</td>\n",
       "      <td>250.000000</td>\n",
       "    </tr>\n",
       "    <tr>\n",
       "      <th>mean</th>\n",
       "      <td>10.664000</td>\n",
       "      <td>59.212000</td>\n",
       "    </tr>\n",
       "    <tr>\n",
       "      <th>std</th>\n",
       "      <td>22.515124</td>\n",
       "      <td>50.008263</td>\n",
       "    </tr>\n",
       "    <tr>\n",
       "      <th>min</th>\n",
       "      <td>2.000000</td>\n",
       "      <td>0.000000</td>\n",
       "    </tr>\n",
       "    <tr>\n",
       "      <th>25%</th>\n",
       "      <td>2.000000</td>\n",
       "      <td>21.000000</td>\n",
       "    </tr>\n",
       "    <tr>\n",
       "      <th>50%</th>\n",
       "      <td>3.500000</td>\n",
       "      <td>44.000000</td>\n",
       "    </tr>\n",
       "    <tr>\n",
       "      <th>75%</th>\n",
       "      <td>7.000000</td>\n",
       "      <td>85.000000</td>\n",
       "    </tr>\n",
       "    <tr>\n",
       "      <th>max</th>\n",
       "      <td>157.000000</td>\n",
       "      <td>259.000000</td>\n",
       "    </tr>\n",
       "  </tbody>\n",
       "</table>\n",
       "</div>"
      ],
      "text/plain": [
       "           id_qty  mean_number_qty\n",
       "count  250.000000       250.000000\n",
       "mean    10.664000        59.212000\n",
       "std     22.515124        50.008263\n",
       "min      2.000000         0.000000\n",
       "25%      2.000000        21.000000\n",
       "50%      3.500000        44.000000\n",
       "75%      7.000000        85.000000\n",
       "max    157.000000       259.000000"
      ]
     },
     "execution_count": 45,
     "metadata": {},
     "output_type": "execute_result"
    }
   ],
   "source": [
    "chain_number.describe()"
   ]
  },
  {
   "cell_type": "code",
   "execution_count": 46,
   "metadata": {},
   "outputs": [
    {
     "name": "stdout",
     "output_type": "stream",
     "text": [
      "<class 'pandas.core.frame.DataFrame'>\n",
      "Index: 250 entries, bocconcino to япоша\n",
      "Data columns (total 2 columns):\n",
      " #   Column           Non-Null Count  Dtype  \n",
      "---  ------           --------------  -----  \n",
      " 0   id_qty           250 non-null    int64  \n",
      " 1   mean_number_qty  250 non-null    float64\n",
      "dtypes: float64(1), int64(1)\n",
      "memory usage: 5.9+ KB\n"
     ]
    }
   ],
   "source": [
    "chain_number.info()"
   ]
  },
  {
   "cell_type": "markdown",
   "metadata": {},
   "source": [
    "Поделим сетевые заведения на 4 категории: мало заведений и мало посадочных мест; мало заведений и много посадочных мест; много заведений и мало посадочных мест; много заведений и много посадочных мест."
   ]
  },
  {
   "cell_type": "markdown",
   "metadata": {},
   "source": [
    "За условную границу возьмем 11 заведений в сети и 60 посадочных мест. Следовательно, если в сети больше 11 заведений и в среднем больше 60 посадочных мест, то она относится к категории много заведений и много посадочных мест (и т.п.)."
   ]
  },
  {
   "cell_type": "code",
   "execution_count": 47,
   "metadata": {},
   "outputs": [],
   "source": [
    "def category (row):\n",
    "    number = row['mean_number_qty']\n",
    "    qty = row['id_qty']\n",
    "    \n",
    "    if number >= 60 and qty >= 11:\n",
    "        return 'много заведений и много посадочных мест'\n",
    "    if number >= 60 and qty <= 11:\n",
    "        return 'мало заведений и много посадочных мест'\n",
    "    if number <= 60 and qty >= 11:\n",
    "        return 'много заведений и мало посадочных мест'\n",
    "    if number <= 60 and qty <= 11:\n",
    "        return 'мало заведений и мало посадочных мест'"
   ]
  },
  {
   "cell_type": "code",
   "execution_count": 48,
   "metadata": {},
   "outputs": [],
   "source": [
    "chain_number['category'] = chain_number.apply(category, axis=1)"
   ]
  },
  {
   "cell_type": "code",
   "execution_count": 49,
   "metadata": {},
   "outputs": [
    {
     "data": {
      "text/html": [
       "<div>\n",
       "<style scoped>\n",
       "    .dataframe tbody tr th:only-of-type {\n",
       "        vertical-align: middle;\n",
       "    }\n",
       "\n",
       "    .dataframe tbody tr th {\n",
       "        vertical-align: top;\n",
       "    }\n",
       "\n",
       "    .dataframe thead th {\n",
       "        text-align: right;\n",
       "    }\n",
       "</style>\n",
       "<table border=\"1\" class=\"dataframe\">\n",
       "  <thead>\n",
       "    <tr style=\"text-align: right;\">\n",
       "      <th></th>\n",
       "      <th>id_qty</th>\n",
       "      <th>mean_number_qty</th>\n",
       "      <th>category</th>\n",
       "    </tr>\n",
       "    <tr>\n",
       "      <th>object_name</th>\n",
       "      <th></th>\n",
       "      <th></th>\n",
       "      <th></th>\n",
       "    </tr>\n",
       "  </thead>\n",
       "  <tbody>\n",
       "    <tr>\n",
       "      <th>bocconcino</th>\n",
       "      <td>3</td>\n",
       "      <td>67.0</td>\n",
       "      <td>мало заведений и много посадочных мест</td>\n",
       "    </tr>\n",
       "    <tr>\n",
       "      <th>burger club</th>\n",
       "      <td>3</td>\n",
       "      <td>20.0</td>\n",
       "      <td>мало заведений и мало посадочных мест</td>\n",
       "    </tr>\n",
       "    <tr>\n",
       "      <th>coffeeshop company</th>\n",
       "      <td>4</td>\n",
       "      <td>47.0</td>\n",
       "      <td>мало заведений и мало посадочных мест</td>\n",
       "    </tr>\n",
       "    <tr>\n",
       "      <th>cofix</th>\n",
       "      <td>25</td>\n",
       "      <td>10.0</td>\n",
       "      <td>много заведений и мало посадочных мест</td>\n",
       "    </tr>\n",
       "    <tr>\n",
       "      <th>correas</th>\n",
       "      <td>3</td>\n",
       "      <td>44.0</td>\n",
       "      <td>мало заведений и мало посадочных мест</td>\n",
       "    </tr>\n",
       "  </tbody>\n",
       "</table>\n",
       "</div>"
      ],
      "text/plain": [
       "                    id_qty  mean_number_qty  \\\n",
       "object_name                                   \n",
       "bocconcino               3             67.0   \n",
       "burger club              3             20.0   \n",
       "coffeeshop company       4             47.0   \n",
       "cofix                   25             10.0   \n",
       "correas                  3             44.0   \n",
       "\n",
       "                                                  category  \n",
       "object_name                                                 \n",
       "bocconcino          мало заведений и много посадочных мест  \n",
       "burger club          мало заведений и мало посадочных мест  \n",
       "coffeeshop company   мало заведений и мало посадочных мест  \n",
       "cofix               много заведений и мало посадочных мест  \n",
       "correas              мало заведений и мало посадочных мест  "
      ]
     },
     "execution_count": 49,
     "metadata": {},
     "output_type": "execute_result"
    }
   ],
   "source": [
    "chain_number.head()"
   ]
  },
  {
   "cell_type": "code",
   "execution_count": 50,
   "metadata": {},
   "outputs": [
    {
     "data": {
      "text/html": [
       "<div>\n",
       "<style scoped>\n",
       "    .dataframe tbody tr th:only-of-type {\n",
       "        vertical-align: middle;\n",
       "    }\n",
       "\n",
       "    .dataframe tbody tr th {\n",
       "        vertical-align: top;\n",
       "    }\n",
       "\n",
       "    .dataframe thead th {\n",
       "        text-align: right;\n",
       "    }\n",
       "</style>\n",
       "<table border=\"1\" class=\"dataframe\">\n",
       "  <thead>\n",
       "    <tr style=\"text-align: right;\">\n",
       "      <th></th>\n",
       "      <th>id_qty</th>\n",
       "    </tr>\n",
       "    <tr>\n",
       "      <th>category</th>\n",
       "      <th></th>\n",
       "    </tr>\n",
       "  </thead>\n",
       "  <tbody>\n",
       "    <tr>\n",
       "      <th>мало заведений и мало посадочных мест</th>\n",
       "      <td>121</td>\n",
       "    </tr>\n",
       "    <tr>\n",
       "      <th>мало заведений и много посадочных мест</th>\n",
       "      <td>83</td>\n",
       "    </tr>\n",
       "    <tr>\n",
       "      <th>много заведений и мало посадочных мест</th>\n",
       "      <td>35</td>\n",
       "    </tr>\n",
       "    <tr>\n",
       "      <th>много заведений и много посадочных мест</th>\n",
       "      <td>11</td>\n",
       "    </tr>\n",
       "  </tbody>\n",
       "</table>\n",
       "</div>"
      ],
      "text/plain": [
       "                                         id_qty\n",
       "category                                       \n",
       "мало заведений и мало посадочных мест       121\n",
       "мало заведений и много посадочных мест       83\n",
       "много заведений и мало посадочных мест       35\n",
       "много заведений и много посадочных мест      11"
      ]
     },
     "execution_count": 50,
     "metadata": {},
     "output_type": "execute_result"
    }
   ],
   "source": [
    "chain_number.groupby('category').agg({'id_qty':'count'})"
   ]
  },
  {
   "cell_type": "code",
   "execution_count": 51,
   "metadata": {},
   "outputs": [
    {
     "data": {
      "image/png": "[encoded data removed]",
      "text/plain": [
       "<Figure size 864x576 with 1 Axes>"
      ]
     },
     "metadata": {
      "needs_background": "light"
     },
     "output_type": "display_data"
    }
   ],
   "source": [
    "plt.figure(figsize=(12, 8))\n",
    "plt.rcParams['font.size'] = '14'\n",
    "sb.scatterplot(x='id_qty', y='mean_number_qty', data=chain_number, hue='category', ec=None)\n",
    "plt.ylabel('Среднее количество мест, шт.')\n",
    "plt.xlabel('Количество ресторанов, шт.')\n",
    "plt.title('Разбивка сетевых заведений по количеству мест')\n",
    "plt.show()"
   ]
  },
  {
   "cell_type": "markdown",
   "metadata": {},
   "source": [
    "Таким образом больше всего заведений с небольшим количеством заведений и небольшим количеством посадочных мест."
   ]
  },
  {
   "cell_type": "markdown",
   "metadata": {},
   "source": [
    "### Для каждого вида объекта общественного питания опишите среднее количество посадочных мест. Какой вид предоставляет в среднем самое большое количество посадочных мест? Постройте графики."
   ]
  },
  {
   "cell_type": "code",
   "execution_count": 52,
   "metadata": {},
   "outputs": [],
   "source": [
    "mean_number_pt = (data.pivot_table(index='object_type_upd', values='number', aggfunc='mean')\n",
    "            .reset_index().sort_values('number', ascending=False))"
   ]
  },
  {
   "cell_type": "code",
   "execution_count": 53,
   "metadata": {},
   "outputs": [
    {
     "data": {
      "image/png": "[encoded data removed]",
      "text/plain": [
       "<Figure size 864x576 with 1 Axes>"
      ]
     },
     "metadata": {
      "needs_background": "light"
     },
     "output_type": "display_data"
    }
   ],
   "source": [
    "plt.figure(figsize=(12, 8))\n",
    "plt.rcParams['font.size'] = '12'\n",
    "sb.barplot(y=mean_number_pt['object_type_upd'], x=mean_number_pt['number'])\n",
    "plt.ylabel('Тип объекта общественного питания')\n",
    "plt.xlabel('Количество мест, шт.')\n",
    "plt.title('Среднее количество посадочных мест по типам объектов общественного питания')\n",
    "plt.show()"
   ]
  },
  {
   "cell_type": "markdown",
   "metadata": {},
   "source": [
    "В среднем в кафе (самом популярном типе заведения) около 40 мест. Больше всего мест в столовых и ресторанах - ~ 130 и 100 мест соответственно. Меньше всего мест в закусочных и отделах кулинарии."
   ]
  },
  {
   "cell_type": "markdown",
   "metadata": {},
   "source": [
    "### Выделите в отдельный столбец информацию об улице из столбца address ."
   ]
  },
  {
   "cell_type": "markdown",
   "metadata": {},
   "source": [
    "Для этого отберем часть строки, начиная со 2 запятой, где указана улица города."
   ]
  },
  {
   "cell_type": "code",
   "execution_count": 54,
   "metadata": {},
   "outputs": [],
   "source": [
    "data['address'] = data['address'].str.replace('ё','е')\n",
    "import re\n",
    "def street (row):\n",
    "    i = row['address']\n",
    "    a=re.search(',[0-9 А-я -]+', i).group()\n",
    "    return a\n",
    "data['street'] = data.apply(street, axis=1)"
   ]
  },
  {
   "cell_type": "code",
   "execution_count": 55,
   "metadata": {},
   "outputs": [
    {
     "data": {
      "text/html": [
       "<div>\n",
       "<style scoped>\n",
       "    .dataframe tbody tr th:only-of-type {\n",
       "        vertical-align: middle;\n",
       "    }\n",
       "\n",
       "    .dataframe tbody tr th {\n",
       "        vertical-align: top;\n",
       "    }\n",
       "\n",
       "    .dataframe thead th {\n",
       "        text-align: right;\n",
       "    }\n",
       "</style>\n",
       "<table border=\"1\" class=\"dataframe\">\n",
       "  <thead>\n",
       "    <tr style=\"text-align: right;\">\n",
       "      <th></th>\n",
       "      <th>id</th>\n",
       "      <th>object_name</th>\n",
       "      <th>chain</th>\n",
       "      <th>object_type</th>\n",
       "      <th>address</th>\n",
       "      <th>number</th>\n",
       "      <th>object_type_upd</th>\n",
       "      <th>street</th>\n",
       "    </tr>\n",
       "  </thead>\n",
       "  <tbody>\n",
       "    <tr>\n",
       "      <th>0</th>\n",
       "      <td>151635</td>\n",
       "      <td>сметана</td>\n",
       "      <td>нет</td>\n",
       "      <td>кафе</td>\n",
       "      <td>город Москва, улица Егора Абакумова, дом 9</td>\n",
       "      <td>48</td>\n",
       "      <td>кафе</td>\n",
       "      <td>, улица Егора Абакумова</td>\n",
       "    </tr>\n",
       "    <tr>\n",
       "      <th>1</th>\n",
       "      <td>77874</td>\n",
       "      <td>родник</td>\n",
       "      <td>нет</td>\n",
       "      <td>кафе</td>\n",
       "      <td>город Москва, улица Талалихина, дом 2/1, корпус 1</td>\n",
       "      <td>35</td>\n",
       "      <td>кафе</td>\n",
       "      <td>, улица Талалихина</td>\n",
       "    </tr>\n",
       "    <tr>\n",
       "      <th>2</th>\n",
       "      <td>24309</td>\n",
       "      <td>кафе академия</td>\n",
       "      <td>нет</td>\n",
       "      <td>кафе</td>\n",
       "      <td>город Москва, Абельмановская улица, дом 6</td>\n",
       "      <td>95</td>\n",
       "      <td>кафе</td>\n",
       "      <td>, Абельмановская улица</td>\n",
       "    </tr>\n",
       "    <tr>\n",
       "      <th>3</th>\n",
       "      <td>21894</td>\n",
       "      <td>пиццетория</td>\n",
       "      <td>да</td>\n",
       "      <td>кафе</td>\n",
       "      <td>город Москва, Абрамцевская улица, дом 1</td>\n",
       "      <td>40</td>\n",
       "      <td>кафе</td>\n",
       "      <td>, Абрамцевская улица</td>\n",
       "    </tr>\n",
       "    <tr>\n",
       "      <th>4</th>\n",
       "      <td>119365</td>\n",
       "      <td>кафе вишневая метель</td>\n",
       "      <td>нет</td>\n",
       "      <td>кафе</td>\n",
       "      <td>город Москва, Абрамцевская улица, дом 9, корпус 1</td>\n",
       "      <td>50</td>\n",
       "      <td>кафе</td>\n",
       "      <td>, Абрамцевская улица</td>\n",
       "    </tr>\n",
       "  </tbody>\n",
       "</table>\n",
       "</div>"
      ],
      "text/plain": [
       "       id           object_name chain object_type  \\\n",
       "0  151635               сметана   нет        кафе   \n",
       "1   77874                родник   нет        кафе   \n",
       "2   24309         кафе академия   нет        кафе   \n",
       "3   21894            пиццетория    да        кафе   \n",
       "4  119365  кафе вишневая метель   нет        кафе   \n",
       "\n",
       "                                             address  number object_type_upd  \\\n",
       "0         город Москва, улица Егора Абакумова, дом 9      48            кафе   \n",
       "1  город Москва, улица Талалихина, дом 2/1, корпус 1      35            кафе   \n",
       "2          город Москва, Абельмановская улица, дом 6      95            кафе   \n",
       "3            город Москва, Абрамцевская улица, дом 1      40            кафе   \n",
       "4  город Москва, Абрамцевская улица, дом 9, корпус 1      50            кафе   \n",
       "\n",
       "                    street  \n",
       "0  , улица Егора Абакумова  \n",
       "1       , улица Талалихина  \n",
       "2   , Абельмановская улица  \n",
       "3     , Абрамцевская улица  \n",
       "4     , Абрамцевская улица  "
      ]
     },
     "execution_count": 55,
     "metadata": {},
     "output_type": "execute_result"
    }
   ],
   "source": [
    "data.head()"
   ]
  },
  {
   "cell_type": "code",
   "execution_count": 57,
   "metadata": {},
   "outputs": [
    {
     "data": {
      "text/html": [
       "<div>\n",
       "<style scoped>\n",
       "    .dataframe tbody tr th:only-of-type {\n",
       "        vertical-align: middle;\n",
       "    }\n",
       "\n",
       "    .dataframe tbody tr th {\n",
       "        vertical-align: top;\n",
       "    }\n",
       "\n",
       "    .dataframe thead th {\n",
       "        text-align: right;\n",
       "    }\n",
       "</style>\n",
       "<table border=\"1\" class=\"dataframe\">\n",
       "  <thead>\n",
       "    <tr style=\"text-align: right;\">\n",
       "      <th></th>\n",
       "      <th>address</th>\n",
       "      <th>street</th>\n",
       "    </tr>\n",
       "  </thead>\n",
       "  <tbody>\n",
       "    <tr>\n",
       "      <th>0</th>\n",
       "      <td>город Москва, улица Егора Абакумова, дом 9</td>\n",
       "      <td>, улица Егора Абакумова</td>\n",
       "    </tr>\n",
       "    <tr>\n",
       "      <th>1</th>\n",
       "      <td>город Москва, улица Талалихина, дом 2/1, корпус 1</td>\n",
       "      <td>, улица Талалихина</td>\n",
       "    </tr>\n",
       "    <tr>\n",
       "      <th>2</th>\n",
       "      <td>город Москва, Абельмановская улица, дом 6</td>\n",
       "      <td>, Абельмановская улица</td>\n",
       "    </tr>\n",
       "    <tr>\n",
       "      <th>3</th>\n",
       "      <td>город Москва, Абрамцевская улица, дом 1</td>\n",
       "      <td>, Абрамцевская улица</td>\n",
       "    </tr>\n",
       "    <tr>\n",
       "      <th>4</th>\n",
       "      <td>город Москва, Абрамцевская улица, дом 9, корпус 1</td>\n",
       "      <td>, Абрамцевская улица</td>\n",
       "    </tr>\n",
       "  </tbody>\n",
       "</table>\n",
       "</div>"
      ],
      "text/plain": [
       "                                             address                   street\n",
       "0         город Москва, улица Егора Абакумова, дом 9  , улица Егора Абакумова\n",
       "1  город Москва, улица Талалихина, дом 2/1, корпус 1       , улица Талалихина\n",
       "2          город Москва, Абельмановская улица, дом 6   , Абельмановская улица\n",
       "3            город Москва, Абрамцевская улица, дом 1     , Абрамцевская улица\n",
       "4  город Москва, Абрамцевская улица, дом 9, корпус 1     , Абрамцевская улица"
      ]
     },
     "execution_count": 57,
     "metadata": {},
     "output_type": "execute_result"
    }
   ],
   "source": [
    "data[['address','street']].head()"
   ]
  },
  {
   "cell_type": "markdown",
   "metadata": {},
   "source": [
    "В данных присутствуют также улицы городов Троицк, Щербинка, Зеленоград, различных поселений. Названия городов и поселений идут после указания города Москвы и поэтому попали в наш фильтр вместо улиц. Создадим отдельный столбец, в котором проверим вхождение слов поселение и город в колонку street. При нахождении, такое заведение не будем рассматривать в топ улиц Москвы."
   ]
  },
  {
   "cell_type": "code",
   "execution_count": 58,
   "metadata": {},
   "outputs": [],
   "source": [
    "data['check'] = data['street'].str.find('поселение ') != -1\n",
    "data['check_2'] = data['street'].str.find('город ') != -1"
   ]
  },
  {
   "cell_type": "code",
   "execution_count": 60,
   "metadata": {},
   "outputs": [
    {
     "data": {
      "text/html": [
       "<div>\n",
       "<style scoped>\n",
       "    .dataframe tbody tr th:only-of-type {\n",
       "        vertical-align: middle;\n",
       "    }\n",
       "\n",
       "    .dataframe tbody tr th {\n",
       "        vertical-align: top;\n",
       "    }\n",
       "\n",
       "    .dataframe thead th {\n",
       "        text-align: right;\n",
       "    }\n",
       "</style>\n",
       "<table border=\"1\" class=\"dataframe\">\n",
       "  <thead>\n",
       "    <tr style=\"text-align: right;\">\n",
       "      <th></th>\n",
       "      <th>id</th>\n",
       "      <th>object_name</th>\n",
       "      <th>chain</th>\n",
       "      <th>object_type</th>\n",
       "      <th>address</th>\n",
       "      <th>number</th>\n",
       "      <th>object_type_upd</th>\n",
       "      <th>street</th>\n",
       "      <th>check</th>\n",
       "      <th>check_2</th>\n",
       "    </tr>\n",
       "  </thead>\n",
       "  <tbody>\n",
       "    <tr>\n",
       "      <th>1853</th>\n",
       "      <td>77651</td>\n",
       "      <td>щербенко ла</td>\n",
       "      <td>нет</td>\n",
       "      <td>кафе</td>\n",
       "      <td>город Москва, поселение Вороновское, село Воро...</td>\n",
       "      <td>50</td>\n",
       "      <td>кафе</td>\n",
       "      <td>, поселение Вороновское</td>\n",
       "      <td>True</td>\n",
       "      <td>False</td>\n",
       "    </tr>\n",
       "    <tr>\n",
       "      <th>1854</th>\n",
       "      <td>128021</td>\n",
       "      <td>кафе мама миа</td>\n",
       "      <td>нет</td>\n",
       "      <td>кафе</td>\n",
       "      <td>город Москва, поселение Внуковское, улица Летч...</td>\n",
       "      <td>12</td>\n",
       "      <td>кафе</td>\n",
       "      <td>, поселение Внуковское</td>\n",
       "      <td>True</td>\n",
       "      <td>False</td>\n",
       "    </tr>\n",
       "    <tr>\n",
       "      <th>1855</th>\n",
       "      <td>120299</td>\n",
       "      <td>пиццерия</td>\n",
       "      <td>нет</td>\n",
       "      <td>кафе</td>\n",
       "      <td>город Москва, поселение Внуковское, улица Летч...</td>\n",
       "      <td>24</td>\n",
       "      <td>кафе</td>\n",
       "      <td>, поселение Внуковское</td>\n",
       "      <td>True</td>\n",
       "      <td>False</td>\n",
       "    </tr>\n",
       "    <tr>\n",
       "      <th>1856</th>\n",
       "      <td>125246</td>\n",
       "      <td>суши wok</td>\n",
       "      <td>да</td>\n",
       "      <td>кафе</td>\n",
       "      <td>город Москва, поселение Внуковское, улица Летч...</td>\n",
       "      <td>5</td>\n",
       "      <td>кафе</td>\n",
       "      <td>, поселение Внуковское</td>\n",
       "      <td>True</td>\n",
       "      <td>False</td>\n",
       "    </tr>\n",
       "    <tr>\n",
       "      <th>1857</th>\n",
       "      <td>151292</td>\n",
       "      <td>редкафе</td>\n",
       "      <td>нет</td>\n",
       "      <td>кафе</td>\n",
       "      <td>город Москва, поселение Новофедоровское, дерев...</td>\n",
       "      <td>45</td>\n",
       "      <td>кафе</td>\n",
       "      <td>, поселение Новофедоровское</td>\n",
       "      <td>True</td>\n",
       "      <td>False</td>\n",
       "    </tr>\n",
       "  </tbody>\n",
       "</table>\n",
       "</div>"
      ],
      "text/plain": [
       "          id    object_name chain object_type  \\\n",
       "1853   77651    щербенко ла   нет        кафе   \n",
       "1854  128021  кафе мама миа   нет        кафе   \n",
       "1855  120299       пиццерия   нет        кафе   \n",
       "1856  125246       суши wok    да        кафе   \n",
       "1857  151292        редкафе   нет        кафе   \n",
       "\n",
       "                                                address  number  \\\n",
       "1853  город Москва, поселение Вороновское, село Воро...      50   \n",
       "1854  город Москва, поселение Внуковское, улица Летч...      12   \n",
       "1855  город Москва, поселение Внуковское, улица Летч...      24   \n",
       "1856  город Москва, поселение Внуковское, улица Летч...       5   \n",
       "1857  город Москва, поселение Новофедоровское, дерев...      45   \n",
       "\n",
       "     object_type_upd                       street  check  check_2  \n",
       "1853            кафе      , поселение Вороновское   True    False  \n",
       "1854            кафе       , поселение Внуковское   True    False  \n",
       "1855            кафе       , поселение Внуковское   True    False  \n",
       "1856            кафе       , поселение Внуковское   True    False  \n",
       "1857            кафе  , поселение Новофедоровское   True    False  "
      ]
     },
     "execution_count": 60,
     "metadata": {},
     "output_type": "execute_result"
    }
   ],
   "source": [
    "data[data['check']==True].head()"
   ]
  },
  {
   "cell_type": "markdown",
   "metadata": {},
   "source": [
    "Удалим запятые из столбца street"
   ]
  },
  {
   "cell_type": "code",
   "execution_count": 61,
   "metadata": {},
   "outputs": [],
   "source": [
    "data['street'] = data['street'].str.replace(\", \",'')"
   ]
  },
  {
   "cell_type": "markdown",
   "metadata": {},
   "source": [
    "### Постройте график топ-10 улиц по количеству объектов общественного питания. Воспользуйтесь внешней информацией и ответьте на вопрос — в каких районах Москвы находятся эти улицы?"
   ]
  },
  {
   "cell_type": "markdown",
   "metadata": {},
   "source": [
    "Загрузим внешний файл с данными о районах Москвы"
   ]
  },
  {
   "cell_type": "code",
   "execution_count": 62,
   "metadata": {},
   "outputs": [],
   "source": [
    "from io import BytesIO\n",
    "import requests\n",
    "spreadsheet_id = '1s5ma2Z0-g2AGLwPBFn8T3WzwUCVZAzXTK50GzO8hrQ0'\n",
    "file_name = 'https://docs.google.com/spreadsheets/d/{}/export?format=csv'.format(spreadsheet_id)\n",
    "r = requests.get(file_name)\n",
    "df = pd.read_csv(BytesIO(r.content))"
   ]
  },
  {
   "cell_type": "code",
   "execution_count": 63,
   "metadata": {},
   "outputs": [
    {
     "data": {
      "text/html": [
       "<div>\n",
       "<style scoped>\n",
       "    .dataframe tbody tr th:only-of-type {\n",
       "        vertical-align: middle;\n",
       "    }\n",
       "\n",
       "    .dataframe tbody tr th {\n",
       "        vertical-align: top;\n",
       "    }\n",
       "\n",
       "    .dataframe thead th {\n",
       "        text-align: right;\n",
       "    }\n",
       "</style>\n",
       "<table border=\"1\" class=\"dataframe\">\n",
       "  <thead>\n",
       "    <tr style=\"text-align: right;\">\n",
       "      <th></th>\n",
       "      <th>streetname</th>\n",
       "      <th>areaid</th>\n",
       "      <th>okrug</th>\n",
       "      <th>area</th>\n",
       "    </tr>\n",
       "  </thead>\n",
       "  <tbody>\n",
       "    <tr>\n",
       "      <th>0</th>\n",
       "      <td>Выставочный переулок</td>\n",
       "      <td>17</td>\n",
       "      <td>ЦАО</td>\n",
       "      <td>Пресненский район</td>\n",
       "    </tr>\n",
       "    <tr>\n",
       "      <th>1</th>\n",
       "      <td>улица Гашека</td>\n",
       "      <td>17</td>\n",
       "      <td>ЦАО</td>\n",
       "      <td>Пресненский район</td>\n",
       "    </tr>\n",
       "    <tr>\n",
       "      <th>2</th>\n",
       "      <td>Большая Никитская улица</td>\n",
       "      <td>17</td>\n",
       "      <td>ЦАО</td>\n",
       "      <td>Пресненский район</td>\n",
       "    </tr>\n",
       "    <tr>\n",
       "      <th>3</th>\n",
       "      <td>Глубокий переулок</td>\n",
       "      <td>17</td>\n",
       "      <td>ЦАО</td>\n",
       "      <td>Пресненский район</td>\n",
       "    </tr>\n",
       "    <tr>\n",
       "      <th>4</th>\n",
       "      <td>Большой Гнездниковский переулок</td>\n",
       "      <td>17</td>\n",
       "      <td>ЦАО</td>\n",
       "      <td>Пресненский район</td>\n",
       "    </tr>\n",
       "  </tbody>\n",
       "</table>\n",
       "</div>"
      ],
      "text/plain": [
       "                        streetname  areaid okrug               area\n",
       "0             Выставочный переулок      17   ЦАО  Пресненский район\n",
       "1                     улица Гашека      17   ЦАО  Пресненский район\n",
       "2          Большая Никитская улица      17   ЦАО  Пресненский район\n",
       "3                Глубокий переулок      17   ЦАО  Пресненский район\n",
       "4  Большой Гнездниковский переулок      17   ЦАО  Пресненский район"
      ]
     },
     "execution_count": 63,
     "metadata": {},
     "output_type": "execute_result"
    }
   ],
   "source": [
    "df.head()"
   ]
  },
  {
   "cell_type": "markdown",
   "metadata": {},
   "source": [
    "Отсортируем данные по улицам и по количеству заведений, отберем 10 наиболее популярных улиц."
   ]
  },
  {
   "cell_type": "code",
   "execution_count": 64,
   "metadata": {},
   "outputs": [],
   "source": [
    "top_streets = data[(data['check']==False) & (data['check_2']==False)].groupby('street').agg({'id':'count'}).sort_values(by='id', ascending=False)"
   ]
  },
  {
   "cell_type": "code",
   "execution_count": 65,
   "metadata": {},
   "outputs": [
    {
     "data": {
      "text/html": [
       "<div>\n",
       "<style scoped>\n",
       "    .dataframe tbody tr th:only-of-type {\n",
       "        vertical-align: middle;\n",
       "    }\n",
       "\n",
       "    .dataframe tbody tr th {\n",
       "        vertical-align: top;\n",
       "    }\n",
       "\n",
       "    .dataframe thead th {\n",
       "        text-align: right;\n",
       "    }\n",
       "</style>\n",
       "<table border=\"1\" class=\"dataframe\">\n",
       "  <thead>\n",
       "    <tr style=\"text-align: right;\">\n",
       "      <th></th>\n",
       "      <th>street</th>\n",
       "      <th>qty</th>\n",
       "    </tr>\n",
       "  </thead>\n",
       "  <tbody>\n",
       "    <tr>\n",
       "      <th>0</th>\n",
       "      <td>проспект Мира</td>\n",
       "      <td>204</td>\n",
       "    </tr>\n",
       "    <tr>\n",
       "      <th>1</th>\n",
       "      <td>Профсоюзная улица</td>\n",
       "      <td>182</td>\n",
       "    </tr>\n",
       "    <tr>\n",
       "      <th>2</th>\n",
       "      <td>Ленинградский проспект</td>\n",
       "      <td>171</td>\n",
       "    </tr>\n",
       "    <tr>\n",
       "      <th>3</th>\n",
       "      <td>Пресненская набережная</td>\n",
       "      <td>167</td>\n",
       "    </tr>\n",
       "    <tr>\n",
       "      <th>4</th>\n",
       "      <td>Варшавское шоссе</td>\n",
       "      <td>161</td>\n",
       "    </tr>\n",
       "    <tr>\n",
       "      <th>5</th>\n",
       "      <td>Ленинский проспект</td>\n",
       "      <td>147</td>\n",
       "    </tr>\n",
       "    <tr>\n",
       "      <th>6</th>\n",
       "      <td>проспект Вернадского</td>\n",
       "      <td>132</td>\n",
       "    </tr>\n",
       "    <tr>\n",
       "      <th>7</th>\n",
       "      <td>Кутузовский проспект</td>\n",
       "      <td>114</td>\n",
       "    </tr>\n",
       "    <tr>\n",
       "      <th>8</th>\n",
       "      <td>Каширское шоссе</td>\n",
       "      <td>112</td>\n",
       "    </tr>\n",
       "    <tr>\n",
       "      <th>9</th>\n",
       "      <td>Кировоградская улица</td>\n",
       "      <td>110</td>\n",
       "    </tr>\n",
       "  </tbody>\n",
       "</table>\n",
       "</div>"
      ],
      "text/plain": [
       "                   street  qty\n",
       "0           проспект Мира  204\n",
       "1       Профсоюзная улица  182\n",
       "2  Ленинградский проспект  171\n",
       "3  Пресненская набережная  167\n",
       "4        Варшавское шоссе  161\n",
       "5      Ленинский проспект  147\n",
       "6    проспект Вернадского  132\n",
       "7    Кутузовский проспект  114\n",
       "8         Каширское шоссе  112\n",
       "9    Кировоградская улица  110"
      ]
     },
     "metadata": {},
     "output_type": "display_data"
    },
    {
     "name": "stdout",
     "output_type": "stream",
     "text": [
      "<class 'pandas.core.frame.DataFrame'>\n",
      "RangeIndex: 10 entries, 0 to 9\n",
      "Data columns (total 2 columns):\n",
      " #   Column  Non-Null Count  Dtype \n",
      "---  ------  --------------  ----- \n",
      " 0   street  10 non-null     object\n",
      " 1   qty     10 non-null     int64 \n",
      "dtypes: int64(1), object(1)\n",
      "memory usage: 288.0+ bytes\n"
     ]
    },
    {
     "data": {
      "text/plain": [
       "None"
      ]
     },
     "metadata": {},
     "output_type": "display_data"
    }
   ],
   "source": [
    "top_10 = top_streets.head(10)\n",
    "top_10.columns = ['qty']\n",
    "top_10 = top_10.reset_index()\n",
    "display(top_10)\n",
    "display(top_10.info())"
   ]
  },
  {
   "cell_type": "markdown",
   "metadata": {},
   "source": [
    "Присоединим названия райнов к таблице с топ 10 улицами."
   ]
  },
  {
   "cell_type": "code",
   "execution_count": 66,
   "metadata": {},
   "outputs": [
    {
     "data": {
      "text/html": [
       "<div>\n",
       "<style scoped>\n",
       "    .dataframe tbody tr th:only-of-type {\n",
       "        vertical-align: middle;\n",
       "    }\n",
       "\n",
       "    .dataframe tbody tr th {\n",
       "        vertical-align: top;\n",
       "    }\n",
       "\n",
       "    .dataframe thead th {\n",
       "        text-align: right;\n",
       "    }\n",
       "</style>\n",
       "<table border=\"1\" class=\"dataframe\">\n",
       "  <thead>\n",
       "    <tr style=\"text-align: right;\">\n",
       "      <th></th>\n",
       "      <th>street</th>\n",
       "      <th>qty</th>\n",
       "      <th>streetname</th>\n",
       "      <th>areaid</th>\n",
       "      <th>okrug</th>\n",
       "      <th>area</th>\n",
       "    </tr>\n",
       "  </thead>\n",
       "  <tbody>\n",
       "    <tr>\n",
       "      <th>0</th>\n",
       "      <td>проспект Мира</td>\n",
       "      <td>204</td>\n",
       "      <td>проспект Мира</td>\n",
       "      <td>70</td>\n",
       "      <td>СВАО</td>\n",
       "      <td>Алексеевский район</td>\n",
       "    </tr>\n",
       "    <tr>\n",
       "      <th>1</th>\n",
       "      <td>проспект Мира</td>\n",
       "      <td>204</td>\n",
       "      <td>проспект Мира</td>\n",
       "      <td>86</td>\n",
       "      <td>СВАО</td>\n",
       "      <td>Ярославский Район</td>\n",
       "    </tr>\n",
       "    <tr>\n",
       "      <th>2</th>\n",
       "      <td>проспект Мира</td>\n",
       "      <td>204</td>\n",
       "      <td>проспект Мира</td>\n",
       "      <td>78</td>\n",
       "      <td>СВАО</td>\n",
       "      <td>Район Марьина роща</td>\n",
       "    </tr>\n",
       "    <tr>\n",
       "      <th>3</th>\n",
       "      <td>проспект Мира</td>\n",
       "      <td>204</td>\n",
       "      <td>проспект Мира</td>\n",
       "      <td>79</td>\n",
       "      <td>СВАО</td>\n",
       "      <td>Останкинский район</td>\n",
       "    </tr>\n",
       "    <tr>\n",
       "      <th>4</th>\n",
       "      <td>проспект Мира</td>\n",
       "      <td>204</td>\n",
       "      <td>проспект Мира</td>\n",
       "      <td>81</td>\n",
       "      <td>СВАО</td>\n",
       "      <td>Район Ростокино</td>\n",
       "    </tr>\n",
       "    <tr>\n",
       "      <th>5</th>\n",
       "      <td>проспект Мира</td>\n",
       "      <td>204</td>\n",
       "      <td>проспект Мира</td>\n",
       "      <td>82</td>\n",
       "      <td>СВАО</td>\n",
       "      <td>Район Свиблово</td>\n",
       "    </tr>\n",
       "    <tr>\n",
       "      <th>6</th>\n",
       "      <td>проспект Мира</td>\n",
       "      <td>204</td>\n",
       "      <td>проспект Мира</td>\n",
       "      <td>16</td>\n",
       "      <td>ЦАО</td>\n",
       "      <td>Мещанский район</td>\n",
       "    </tr>\n",
       "    <tr>\n",
       "      <th>7</th>\n",
       "      <td>Профсоюзная улица</td>\n",
       "      <td>182</td>\n",
       "      <td>Профсоюзная улица</td>\n",
       "      <td>123</td>\n",
       "      <td>ЮЗАО</td>\n",
       "      <td>Академический район</td>\n",
       "    </tr>\n",
       "    <tr>\n",
       "      <th>8</th>\n",
       "      <td>Профсоюзная улица</td>\n",
       "      <td>182</td>\n",
       "      <td>Профсоюзная улица</td>\n",
       "      <td>132</td>\n",
       "      <td>ЮЗАО</td>\n",
       "      <td>Район Черемушки</td>\n",
       "    </tr>\n",
       "    <tr>\n",
       "      <th>9</th>\n",
       "      <td>Профсоюзная улица</td>\n",
       "      <td>182</td>\n",
       "      <td>Профсоюзная улица</td>\n",
       "      <td>134</td>\n",
       "      <td>ЮЗАО</td>\n",
       "      <td>Район Ясенево</td>\n",
       "    </tr>\n",
       "    <tr>\n",
       "      <th>10</th>\n",
       "      <td>Профсоюзная улица</td>\n",
       "      <td>182</td>\n",
       "      <td>Профсоюзная улица</td>\n",
       "      <td>126</td>\n",
       "      <td>ЮЗАО</td>\n",
       "      <td>Район Коньково</td>\n",
       "    </tr>\n",
       "    <tr>\n",
       "      <th>11</th>\n",
       "      <td>Профсоюзная улица</td>\n",
       "      <td>182</td>\n",
       "      <td>Профсоюзная улица</td>\n",
       "      <td>129</td>\n",
       "      <td>ЮЗАО</td>\n",
       "      <td>Обручевский район</td>\n",
       "    </tr>\n",
       "    <tr>\n",
       "      <th>12</th>\n",
       "      <td>Профсоюзная улица</td>\n",
       "      <td>182</td>\n",
       "      <td>Профсоюзная улица</td>\n",
       "      <td>131</td>\n",
       "      <td>ЮЗАО</td>\n",
       "      <td>Район Теплый Стан</td>\n",
       "    </tr>\n",
       "    <tr>\n",
       "      <th>13</th>\n",
       "      <td>Ленинградский проспект</td>\n",
       "      <td>171</td>\n",
       "      <td>Ленинградский проспект</td>\n",
       "      <td>54</td>\n",
       "      <td>САО</td>\n",
       "      <td>Район Аэропорт</td>\n",
       "    </tr>\n",
       "    <tr>\n",
       "      <th>14</th>\n",
       "      <td>Ленинградский проспект</td>\n",
       "      <td>171</td>\n",
       "      <td>Ленинградский проспект</td>\n",
       "      <td>55</td>\n",
       "      <td>САО</td>\n",
       "      <td>Район Беговой</td>\n",
       "    </tr>\n",
       "    <tr>\n",
       "      <th>15</th>\n",
       "      <td>Ленинградский проспект</td>\n",
       "      <td>171</td>\n",
       "      <td>Ленинградский проспект</td>\n",
       "      <td>69</td>\n",
       "      <td>САО</td>\n",
       "      <td>Хорошевский район</td>\n",
       "    </tr>\n",
       "    <tr>\n",
       "      <th>16</th>\n",
       "      <td>Ленинградский проспект</td>\n",
       "      <td>171</td>\n",
       "      <td>Ленинградский проспект</td>\n",
       "      <td>66</td>\n",
       "      <td>САО</td>\n",
       "      <td>Район Сокол</td>\n",
       "    </tr>\n",
       "    <tr>\n",
       "      <th>17</th>\n",
       "      <td>Пресненская набережная</td>\n",
       "      <td>167</td>\n",
       "      <td>Пресненская набережная</td>\n",
       "      <td>17</td>\n",
       "      <td>ЦАО</td>\n",
       "      <td>Пресненский район</td>\n",
       "    </tr>\n",
       "    <tr>\n",
       "      <th>18</th>\n",
       "      <td>Варшавское шоссе</td>\n",
       "      <td>161</td>\n",
       "      <td>Варшавское шоссе</td>\n",
       "      <td>109</td>\n",
       "      <td>ЮАО</td>\n",
       "      <td>Район Чертаново Центральное</td>\n",
       "    </tr>\n",
       "    <tr>\n",
       "      <th>19</th>\n",
       "      <td>Варшавское шоссе</td>\n",
       "      <td>161</td>\n",
       "      <td>Варшавское шоссе</td>\n",
       "      <td>108</td>\n",
       "      <td>ЮАО</td>\n",
       "      <td>Район Чертаново Северное</td>\n",
       "    </tr>\n",
       "    <tr>\n",
       "      <th>20</th>\n",
       "      <td>Варшавское шоссе</td>\n",
       "      <td>161</td>\n",
       "      <td>Варшавское шоссе</td>\n",
       "      <td>110</td>\n",
       "      <td>ЮАО</td>\n",
       "      <td>Район Чертаново Южное</td>\n",
       "    </tr>\n",
       "    <tr>\n",
       "      <th>21</th>\n",
       "      <td>Варшавское шоссе</td>\n",
       "      <td>161</td>\n",
       "      <td>Варшавское шоссе</td>\n",
       "      <td>99</td>\n",
       "      <td>ЮАО</td>\n",
       "      <td>Донской район</td>\n",
       "    </tr>\n",
       "    <tr>\n",
       "      <th>22</th>\n",
       "      <td>Варшавское шоссе</td>\n",
       "      <td>161</td>\n",
       "      <td>Варшавское шоссе</td>\n",
       "      <td>102</td>\n",
       "      <td>ЮАО</td>\n",
       "      <td>Район Нагатино-Садовники</td>\n",
       "    </tr>\n",
       "    <tr>\n",
       "      <th>23</th>\n",
       "      <td>Варшавское шоссе</td>\n",
       "      <td>161</td>\n",
       "      <td>Варшавское шоссе</td>\n",
       "      <td>104</td>\n",
       "      <td>ЮАО</td>\n",
       "      <td>Нагорный район</td>\n",
       "    </tr>\n",
       "    <tr>\n",
       "      <th>24</th>\n",
       "      <td>Варшавское шоссе</td>\n",
       "      <td>161</td>\n",
       "      <td>Варшавское шоссе</td>\n",
       "      <td>130</td>\n",
       "      <td>ЮЗАО</td>\n",
       "      <td>Район Северное Бутово</td>\n",
       "    </tr>\n",
       "    <tr>\n",
       "      <th>25</th>\n",
       "      <td>Варшавское шоссе</td>\n",
       "      <td>161</td>\n",
       "      <td>Варшавское шоссе</td>\n",
       "      <td>133</td>\n",
       "      <td>ЮЗАО</td>\n",
       "      <td>Район Южное Бутово</td>\n",
       "    </tr>\n",
       "    <tr>\n",
       "      <th>26</th>\n",
       "      <td>Ленинский проспект</td>\n",
       "      <td>147</td>\n",
       "      <td>Ленинский проспект</td>\n",
       "      <td>44</td>\n",
       "      <td>ЗАО</td>\n",
       "      <td>Район Проспект Вернадского</td>\n",
       "    </tr>\n",
       "    <tr>\n",
       "      <th>27</th>\n",
       "      <td>Ленинский проспект</td>\n",
       "      <td>147</td>\n",
       "      <td>Ленинский проспект</td>\n",
       "      <td>47</td>\n",
       "      <td>ЗАО</td>\n",
       "      <td>Район Тропарево-Никулино</td>\n",
       "    </tr>\n",
       "    <tr>\n",
       "      <th>28</th>\n",
       "      <td>Ленинский проспект</td>\n",
       "      <td>147</td>\n",
       "      <td>Ленинский проспект</td>\n",
       "      <td>99</td>\n",
       "      <td>ЮАО</td>\n",
       "      <td>Донской район</td>\n",
       "    </tr>\n",
       "    <tr>\n",
       "      <th>29</th>\n",
       "      <td>Ленинский проспект</td>\n",
       "      <td>147</td>\n",
       "      <td>Ленинский проспект</td>\n",
       "      <td>124</td>\n",
       "      <td>ЮЗАО</td>\n",
       "      <td>Район Гагаринский</td>\n",
       "    </tr>\n",
       "    <tr>\n",
       "      <th>30</th>\n",
       "      <td>Ленинский проспект</td>\n",
       "      <td>147</td>\n",
       "      <td>Ленинский проспект</td>\n",
       "      <td>128</td>\n",
       "      <td>ЮЗАО</td>\n",
       "      <td>Ломоносовский район</td>\n",
       "    </tr>\n",
       "    <tr>\n",
       "      <th>31</th>\n",
       "      <td>Ленинский проспект</td>\n",
       "      <td>147</td>\n",
       "      <td>Ленинский проспект</td>\n",
       "      <td>129</td>\n",
       "      <td>ЮЗАО</td>\n",
       "      <td>Обручевский район</td>\n",
       "    </tr>\n",
       "    <tr>\n",
       "      <th>32</th>\n",
       "      <td>Ленинский проспект</td>\n",
       "      <td>147</td>\n",
       "      <td>Ленинский проспект</td>\n",
       "      <td>131</td>\n",
       "      <td>ЮЗАО</td>\n",
       "      <td>Район Теплый Стан</td>\n",
       "    </tr>\n",
       "    <tr>\n",
       "      <th>33</th>\n",
       "      <td>Ленинский проспект</td>\n",
       "      <td>147</td>\n",
       "      <td>Ленинский проспект</td>\n",
       "      <td>21</td>\n",
       "      <td>ЦАО</td>\n",
       "      <td>Район Якиманка</td>\n",
       "    </tr>\n",
       "    <tr>\n",
       "      <th>34</th>\n",
       "      <td>проспект Вернадского</td>\n",
       "      <td>132</td>\n",
       "      <td>проспект Вернадского</td>\n",
       "      <td>44</td>\n",
       "      <td>ЗАО</td>\n",
       "      <td>Район Проспект Вернадского</td>\n",
       "    </tr>\n",
       "    <tr>\n",
       "      <th>35</th>\n",
       "      <td>проспект Вернадского</td>\n",
       "      <td>132</td>\n",
       "      <td>проспект Вернадского</td>\n",
       "      <td>45</td>\n",
       "      <td>ЗАО</td>\n",
       "      <td>Район Раменки</td>\n",
       "    </tr>\n",
       "    <tr>\n",
       "      <th>36</th>\n",
       "      <td>проспект Вернадского</td>\n",
       "      <td>132</td>\n",
       "      <td>проспект Вернадского</td>\n",
       "      <td>47</td>\n",
       "      <td>ЗАО</td>\n",
       "      <td>Район Тропарево-Никулино</td>\n",
       "    </tr>\n",
       "    <tr>\n",
       "      <th>37</th>\n",
       "      <td>проспект Вернадского</td>\n",
       "      <td>132</td>\n",
       "      <td>проспект Вернадского</td>\n",
       "      <td>124</td>\n",
       "      <td>ЮЗАО</td>\n",
       "      <td>Район Гагаринский</td>\n",
       "    </tr>\n",
       "    <tr>\n",
       "      <th>38</th>\n",
       "      <td>проспект Вернадского</td>\n",
       "      <td>132</td>\n",
       "      <td>проспект Вернадского</td>\n",
       "      <td>128</td>\n",
       "      <td>ЮЗАО</td>\n",
       "      <td>Ломоносовский район</td>\n",
       "    </tr>\n",
       "    <tr>\n",
       "      <th>39</th>\n",
       "      <td>Кутузовский проспект</td>\n",
       "      <td>114</td>\n",
       "      <td>Кутузовский проспект</td>\n",
       "      <td>38</td>\n",
       "      <td>ЗАО</td>\n",
       "      <td>Район Дорогомилово</td>\n",
       "    </tr>\n",
       "    <tr>\n",
       "      <th>40</th>\n",
       "      <td>Кутузовский проспект</td>\n",
       "      <td>114</td>\n",
       "      <td>Кутузовский проспект</td>\n",
       "      <td>49</td>\n",
       "      <td>ЗАО</td>\n",
       "      <td>Район Фили-Давыдково</td>\n",
       "    </tr>\n",
       "    <tr>\n",
       "      <th>41</th>\n",
       "      <td>Каширское шоссе</td>\n",
       "      <td>112</td>\n",
       "      <td>Каширское шоссе</td>\n",
       "      <td>101</td>\n",
       "      <td>ЮАО</td>\n",
       "      <td>Район Москворечье-Сабурово</td>\n",
       "    </tr>\n",
       "    <tr>\n",
       "      <th>42</th>\n",
       "      <td>Каширское шоссе</td>\n",
       "      <td>112</td>\n",
       "      <td>Каширское шоссе</td>\n",
       "      <td>102</td>\n",
       "      <td>ЮАО</td>\n",
       "      <td>Район Нагатино-Садовники</td>\n",
       "    </tr>\n",
       "    <tr>\n",
       "      <th>43</th>\n",
       "      <td>Каширское шоссе</td>\n",
       "      <td>112</td>\n",
       "      <td>Каширское шоссе</td>\n",
       "      <td>106</td>\n",
       "      <td>ЮАО</td>\n",
       "      <td>Район Орехово-Борисово Южное</td>\n",
       "    </tr>\n",
       "    <tr>\n",
       "      <th>44</th>\n",
       "      <td>Каширское шоссе</td>\n",
       "      <td>112</td>\n",
       "      <td>Каширское шоссе</td>\n",
       "      <td>105</td>\n",
       "      <td>ЮАО</td>\n",
       "      <td>Район Орехово-Борисово Северное</td>\n",
       "    </tr>\n",
       "    <tr>\n",
       "      <th>45</th>\n",
       "      <td>Кировоградская улица</td>\n",
       "      <td>110</td>\n",
       "      <td>Кировоградская улица</td>\n",
       "      <td>109</td>\n",
       "      <td>ЮАО</td>\n",
       "      <td>Район Чертаново Центральное</td>\n",
       "    </tr>\n",
       "    <tr>\n",
       "      <th>46</th>\n",
       "      <td>Кировоградская улица</td>\n",
       "      <td>110</td>\n",
       "      <td>Кировоградская улица</td>\n",
       "      <td>108</td>\n",
       "      <td>ЮАО</td>\n",
       "      <td>Район Чертаново Северное</td>\n",
       "    </tr>\n",
       "    <tr>\n",
       "      <th>47</th>\n",
       "      <td>Кировоградская улица</td>\n",
       "      <td>110</td>\n",
       "      <td>Кировоградская улица</td>\n",
       "      <td>110</td>\n",
       "      <td>ЮАО</td>\n",
       "      <td>Район Чертаново Южное</td>\n",
       "    </tr>\n",
       "  </tbody>\n",
       "</table>\n",
       "</div>"
      ],
      "text/plain": [
       "                    street  qty              streetname  areaid okrug  \\\n",
       "0            проспект Мира  204           проспект Мира      70  СВАО   \n",
       "1            проспект Мира  204           проспект Мира      86  СВАО   \n",
       "2            проспект Мира  204           проспект Мира      78  СВАО   \n",
       "3            проспект Мира  204           проспект Мира      79  СВАО   \n",
       "4            проспект Мира  204           проспект Мира      81  СВАО   \n",
       "5            проспект Мира  204           проспект Мира      82  СВАО   \n",
       "6            проспект Мира  204           проспект Мира      16   ЦАО   \n",
       "7        Профсоюзная улица  182       Профсоюзная улица     123  ЮЗАО   \n",
       "8        Профсоюзная улица  182       Профсоюзная улица     132  ЮЗАО   \n",
       "9        Профсоюзная улица  182       Профсоюзная улица     134  ЮЗАО   \n",
       "10       Профсоюзная улица  182       Профсоюзная улица     126  ЮЗАО   \n",
       "11       Профсоюзная улица  182       Профсоюзная улица     129  ЮЗАО   \n",
       "12       Профсоюзная улица  182       Профсоюзная улица     131  ЮЗАО   \n",
       "13  Ленинградский проспект  171  Ленинградский проспект      54   САО   \n",
       "14  Ленинградский проспект  171  Ленинградский проспект      55   САО   \n",
       "15  Ленинградский проспект  171  Ленинградский проспект      69   САО   \n",
       "16  Ленинградский проспект  171  Ленинградский проспект      66   САО   \n",
       "17  Пресненская набережная  167  Пресненская набережная      17   ЦАО   \n",
       "18        Варшавское шоссе  161        Варшавское шоссе     109   ЮАО   \n",
       "19        Варшавское шоссе  161        Варшавское шоссе     108   ЮАО   \n",
       "20        Варшавское шоссе  161        Варшавское шоссе     110   ЮАО   \n",
       "21        Варшавское шоссе  161        Варшавское шоссе      99   ЮАО   \n",
       "22        Варшавское шоссе  161        Варшавское шоссе     102   ЮАО   \n",
       "23        Варшавское шоссе  161        Варшавское шоссе     104   ЮАО   \n",
       "24        Варшавское шоссе  161        Варшавское шоссе     130  ЮЗАО   \n",
       "25        Варшавское шоссе  161        Варшавское шоссе     133  ЮЗАО   \n",
       "26      Ленинский проспект  147      Ленинский проспект      44   ЗАО   \n",
       "27      Ленинский проспект  147      Ленинский проспект      47   ЗАО   \n",
       "28      Ленинский проспект  147      Ленинский проспект      99   ЮАО   \n",
       "29      Ленинский проспект  147      Ленинский проспект     124  ЮЗАО   \n",
       "30      Ленинский проспект  147      Ленинский проспект     128  ЮЗАО   \n",
       "31      Ленинский проспект  147      Ленинский проспект     129  ЮЗАО   \n",
       "32      Ленинский проспект  147      Ленинский проспект     131  ЮЗАО   \n",
       "33      Ленинский проспект  147      Ленинский проспект      21   ЦАО   \n",
       "34    проспект Вернадского  132    проспект Вернадского      44   ЗАО   \n",
       "35    проспект Вернадского  132    проспект Вернадского      45   ЗАО   \n",
       "36    проспект Вернадского  132    проспект Вернадского      47   ЗАО   \n",
       "37    проспект Вернадского  132    проспект Вернадского     124  ЮЗАО   \n",
       "38    проспект Вернадского  132    проспект Вернадского     128  ЮЗАО   \n",
       "39    Кутузовский проспект  114    Кутузовский проспект      38   ЗАО   \n",
       "40    Кутузовский проспект  114    Кутузовский проспект      49   ЗАО   \n",
       "41         Каширское шоссе  112         Каширское шоссе     101   ЮАО   \n",
       "42         Каширское шоссе  112         Каширское шоссе     102   ЮАО   \n",
       "43         Каширское шоссе  112         Каширское шоссе     106   ЮАО   \n",
       "44         Каширское шоссе  112         Каширское шоссе     105   ЮАО   \n",
       "45    Кировоградская улица  110    Кировоградская улица     109   ЮАО   \n",
       "46    Кировоградская улица  110    Кировоградская улица     108   ЮАО   \n",
       "47    Кировоградская улица  110    Кировоградская улица     110   ЮАО   \n",
       "\n",
       "                               area  \n",
       "0                Алексеевский район  \n",
       "1                 Ярославский Район  \n",
       "2                Район Марьина роща  \n",
       "3                Останкинский район  \n",
       "4                   Район Ростокино  \n",
       "5                    Район Свиблово  \n",
       "6                   Мещанский район  \n",
       "7               Академический район  \n",
       "8                   Район Черемушки  \n",
       "9                     Район Ясенево  \n",
       "10                   Район Коньково  \n",
       "11                Обручевский район  \n",
       "12                Район Теплый Стан  \n",
       "13                   Район Аэропорт  \n",
       "14                    Район Беговой  \n",
       "15                Хорошевский район  \n",
       "16                      Район Сокол  \n",
       "17                Пресненский район  \n",
       "18      Район Чертаново Центральное  \n",
       "19         Район Чертаново Северное  \n",
       "20            Район Чертаново Южное  \n",
       "21                    Донской район  \n",
       "22         Район Нагатино-Садовники  \n",
       "23                   Нагорный район  \n",
       "24            Район Северное Бутово  \n",
       "25               Район Южное Бутово  \n",
       "26       Район Проспект Вернадского  \n",
       "27         Район Тропарево-Никулино  \n",
       "28                    Донской район  \n",
       "29                Район Гагаринский  \n",
       "30              Ломоносовский район  \n",
       "31                Обручевский район  \n",
       "32                Район Теплый Стан  \n",
       "33                   Район Якиманка  \n",
       "34       Район Проспект Вернадского  \n",
       "35                    Район Раменки  \n",
       "36         Район Тропарево-Никулино  \n",
       "37                Район Гагаринский  \n",
       "38              Ломоносовский район  \n",
       "39               Район Дорогомилово  \n",
       "40             Район Фили-Давыдково  \n",
       "41       Район Москворечье-Сабурово  \n",
       "42         Район Нагатино-Садовники  \n",
       "43     Район Орехово-Борисово Южное  \n",
       "44  Район Орехово-Борисово Северное  \n",
       "45      Район Чертаново Центральное  \n",
       "46         Район Чертаново Северное  \n",
       "47            Район Чертаново Южное  "
      ]
     },
     "execution_count": 66,
     "metadata": {},
     "output_type": "execute_result"
    }
   ],
   "source": [
    "pd.merge(top_10, df, left_on='street', right_on='streetname', validate='one_to_many')"
   ]
  },
  {
   "cell_type": "code",
   "execution_count": 67,
   "metadata": {},
   "outputs": [
    {
     "data": {
      "image/png": "[encoded data removed]",
      "text/plain": [
       "<Figure size 864x576 with 1 Axes>"
      ]
     },
     "metadata": {
      "needs_background": "light"
     },
     "output_type": "display_data"
    }
   ],
   "source": [
    "plt.figure(figsize=(12, 8))\n",
    "plt.rcParams['font.size'] = '12'\n",
    "sb.barplot(y=top_10['street'],x=top_10['qty'])\n",
    "plt.ylabel('Улицы')\n",
    "plt.xlabel('Количество мест общественного питания, шт.')\n",
    "plt.title('Топ-10 улиц по количеству объектов общественного питания')\n",
    "plt.show()"
   ]
  },
  {
   "cell_type": "markdown",
   "metadata": {},
   "source": [
    "Больше всего заведений на проспекте Мира, около 200. Он проходит через Алексеевский, Ярославский, Останкинский, Мещанский район, а также районы Марьина Роща, Ростокино, Свиблово. \n",
    "Как мы видим, большое число заведений находится не в центральном округе. Это можно объяснить более низкой стоимостью аренды, а также тем, что улицы выше одни из самых длинных в Москве, они проходят через большое количество районов. Как следствие, на них может располагаться большее количество заведений."
   ]
  },
  {
   "cell_type": "markdown",
   "metadata": {},
   "source": [
    "### Найдите число улиц с одним объектом общественного питания. Воспользуйтесь внешней информацией и ответьте на вопрос — в каких районах Москвы находятся эти улицы?"
   ]
  },
  {
   "cell_type": "code",
   "execution_count": 68,
   "metadata": {},
   "outputs": [],
   "source": [
    "one_object = data[data['check']==False].groupby('street').agg({'id':'count'}).query('id == 1')"
   ]
  },
  {
   "cell_type": "code",
   "execution_count": 69,
   "metadata": {},
   "outputs": [],
   "source": [
    "one_object_final = pd.merge(one_object, df, left_on='street', right_on='streetname', validate='one_to_many')"
   ]
  },
  {
   "cell_type": "code",
   "execution_count": 70,
   "metadata": {},
   "outputs": [],
   "source": [
    "one_object_final_grouped = one_object_final.groupby(['area','okrug']).agg({'id':'count'}).sort_values(by='id', ascending=False)"
   ]
  },
  {
   "cell_type": "code",
   "execution_count": 71,
   "metadata": {},
   "outputs": [
    {
     "data": {
      "text/html": [
       "<div>\n",
       "<style scoped>\n",
       "    .dataframe tbody tr th:only-of-type {\n",
       "        vertical-align: middle;\n",
       "    }\n",
       "\n",
       "    .dataframe tbody tr th {\n",
       "        vertical-align: top;\n",
       "    }\n",
       "\n",
       "    .dataframe thead th {\n",
       "        text-align: right;\n",
       "    }\n",
       "</style>\n",
       "<table border=\"1\" class=\"dataframe\">\n",
       "  <thead>\n",
       "    <tr style=\"text-align: right;\">\n",
       "      <th></th>\n",
       "      <th>area</th>\n",
       "      <th>okrug</th>\n",
       "      <th>qty</th>\n",
       "    </tr>\n",
       "  </thead>\n",
       "  <tbody>\n",
       "    <tr>\n",
       "      <th>0</th>\n",
       "      <td>Таганский район</td>\n",
       "      <td>ЦАО</td>\n",
       "      <td>27</td>\n",
       "    </tr>\n",
       "    <tr>\n",
       "      <th>1</th>\n",
       "      <td>Район Хамовники</td>\n",
       "      <td>ЦАО</td>\n",
       "      <td>24</td>\n",
       "    </tr>\n",
       "    <tr>\n",
       "      <th>2</th>\n",
       "      <td>Басманный район</td>\n",
       "      <td>ЦАО</td>\n",
       "      <td>21</td>\n",
       "    </tr>\n",
       "    <tr>\n",
       "      <th>3</th>\n",
       "      <td>Тверской район</td>\n",
       "      <td>ЦАО</td>\n",
       "      <td>20</td>\n",
       "    </tr>\n",
       "    <tr>\n",
       "      <th>4</th>\n",
       "      <td>Пресненский район</td>\n",
       "      <td>ЦАО</td>\n",
       "      <td>19</td>\n",
       "    </tr>\n",
       "    <tr>\n",
       "      <th>5</th>\n",
       "      <td>Район Марьина роща</td>\n",
       "      <td>СВАО</td>\n",
       "      <td>18</td>\n",
       "    </tr>\n",
       "    <tr>\n",
       "      <th>6</th>\n",
       "      <td>Район Арбат</td>\n",
       "      <td>ЦАО</td>\n",
       "      <td>17</td>\n",
       "    </tr>\n",
       "    <tr>\n",
       "      <th>7</th>\n",
       "      <td>Мещанский район</td>\n",
       "      <td>ЦАО</td>\n",
       "      <td>16</td>\n",
       "    </tr>\n",
       "    <tr>\n",
       "      <th>8</th>\n",
       "      <td>Район Сокольники</td>\n",
       "      <td>ВАО</td>\n",
       "      <td>15</td>\n",
       "    </tr>\n",
       "    <tr>\n",
       "      <th>9</th>\n",
       "      <td>Район Замоскворечье</td>\n",
       "      <td>ЦАО</td>\n",
       "      <td>14</td>\n",
       "    </tr>\n",
       "  </tbody>\n",
       "</table>\n",
       "</div>"
      ],
      "text/plain": [
       "                  area okrug  qty\n",
       "0      Таганский район   ЦАО   27\n",
       "1      Район Хамовники   ЦАО   24\n",
       "2      Басманный район   ЦАО   21\n",
       "3       Тверской район   ЦАО   20\n",
       "4    Пресненский район   ЦАО   19\n",
       "5   Район Марьина роща  СВАО   18\n",
       "6          Район Арбат   ЦАО   17\n",
       "7      Мещанский район   ЦАО   16\n",
       "8     Район Сокольники   ВАО   15\n",
       "9  Район Замоскворечье   ЦАО   14"
      ]
     },
     "metadata": {},
     "output_type": "display_data"
    },
    {
     "name": "stdout",
     "output_type": "stream",
     "text": [
      "<class 'pandas.core.frame.DataFrame'>\n",
      "RangeIndex: 10 entries, 0 to 9\n",
      "Data columns (total 3 columns):\n",
      " #   Column  Non-Null Count  Dtype \n",
      "---  ------  --------------  ----- \n",
      " 0   area    10 non-null     object\n",
      " 1   okrug   10 non-null     object\n",
      " 2   qty     10 non-null     int64 \n",
      "dtypes: int64(1), object(2)\n",
      "memory usage: 368.0+ bytes\n"
     ]
    },
    {
     "data": {
      "text/plain": [
       "None"
      ]
     },
     "metadata": {},
     "output_type": "display_data"
    },
    {
     "data": {
      "image/png": "[encoded data removed]",
      "text/plain": [
       "<Figure size 864x576 with 1 Axes>"
      ]
     },
     "metadata": {
      "needs_background": "light"
     },
     "output_type": "display_data"
    }
   ],
   "source": [
    "top_10_one_object = one_object_final_grouped.head(10)\n",
    "top_10_one_object.columns = ['qty']\n",
    "top_10_one_object = top_10_one_object.reset_index()\n",
    "display(top_10_one_object)\n",
    "display(top_10_one_object.info())\n",
    "\n",
    "plt.figure(figsize=(12, 8))\n",
    "plt.rcParams['font.size'] = '12'\n",
    "sb.barplot(y=top_10_one_object['area'],x=top_10_one_object['qty'])\n",
    "plt.ylabel('Улицы')\n",
    "plt.xlabel('Количество, шт.')\n",
    "plt.title('Топ-10 улиц с 1 объектом общественного питания')\n",
    "plt.show()"
   ]
  },
  {
   "cell_type": "code",
   "execution_count": 72,
   "metadata": {},
   "outputs": [
    {
     "data": {
      "text/plain": [
       "495"
      ]
     },
     "execution_count": 72,
     "metadata": {},
     "output_type": "execute_result"
    }
   ],
   "source": [
    "one_object_final['streetname'].nunique() #количество улиц с 1 заведением"
   ]
  },
  {
   "cell_type": "code",
   "execution_count": 73,
   "metadata": {},
   "outputs": [
    {
     "data": {
      "text/html": [
       "<div>\n",
       "<style scoped>\n",
       "    .dataframe tbody tr th:only-of-type {\n",
       "        vertical-align: middle;\n",
       "    }\n",
       "\n",
       "    .dataframe tbody tr th {\n",
       "        vertical-align: top;\n",
       "    }\n",
       "\n",
       "    .dataframe thead th {\n",
       "        text-align: right;\n",
       "    }\n",
       "</style>\n",
       "<table border=\"1\" class=\"dataframe\">\n",
       "  <thead>\n",
       "    <tr style=\"text-align: right;\">\n",
       "      <th></th>\n",
       "      <th></th>\n",
       "      <th>id</th>\n",
       "    </tr>\n",
       "    <tr>\n",
       "      <th>area</th>\n",
       "      <th>okrug</th>\n",
       "      <th></th>\n",
       "    </tr>\n",
       "  </thead>\n",
       "  <tbody>\n",
       "    <tr>\n",
       "      <th>Таганский район</th>\n",
       "      <th>ЦАО</th>\n",
       "      <td>27</td>\n",
       "    </tr>\n",
       "    <tr>\n",
       "      <th>Район Хамовники</th>\n",
       "      <th>ЦАО</th>\n",
       "      <td>24</td>\n",
       "    </tr>\n",
       "    <tr>\n",
       "      <th>Басманный район</th>\n",
       "      <th>ЦАО</th>\n",
       "      <td>21</td>\n",
       "    </tr>\n",
       "    <tr>\n",
       "      <th>Тверской район</th>\n",
       "      <th>ЦАО</th>\n",
       "      <td>20</td>\n",
       "    </tr>\n",
       "    <tr>\n",
       "      <th>Пресненский район</th>\n",
       "      <th>ЦАО</th>\n",
       "      <td>19</td>\n",
       "    </tr>\n",
       "    <tr>\n",
       "      <th>Район Марьина роща</th>\n",
       "      <th>СВАО</th>\n",
       "      <td>18</td>\n",
       "    </tr>\n",
       "    <tr>\n",
       "      <th>Район Арбат</th>\n",
       "      <th>ЦАО</th>\n",
       "      <td>17</td>\n",
       "    </tr>\n",
       "    <tr>\n",
       "      <th>Мещанский район</th>\n",
       "      <th>ЦАО</th>\n",
       "      <td>16</td>\n",
       "    </tr>\n",
       "    <tr>\n",
       "      <th>Район Сокольники</th>\n",
       "      <th>ВАО</th>\n",
       "      <td>15</td>\n",
       "    </tr>\n",
       "    <tr>\n",
       "      <th>Район Замоскворечье</th>\n",
       "      <th>ЦАО</th>\n",
       "      <td>14</td>\n",
       "    </tr>\n",
       "    <tr>\n",
       "      <th>Даниловский район</th>\n",
       "      <th>ЮАО</th>\n",
       "      <td>12</td>\n",
       "    </tr>\n",
       "    <tr>\n",
       "      <th>Район Лефортово</th>\n",
       "      <th>ЮВАО</th>\n",
       "      <td>12</td>\n",
       "    </tr>\n",
       "    <tr>\n",
       "      <th>Район Богородское</th>\n",
       "      <th>ВАО</th>\n",
       "      <td>10</td>\n",
       "    </tr>\n",
       "    <tr>\n",
       "      <th>Красносельский район</th>\n",
       "      <th>ЦАО</th>\n",
       "      <td>10</td>\n",
       "    </tr>\n",
       "    <tr>\n",
       "      <th>Район Якиманка</th>\n",
       "      <th>ЦАО</th>\n",
       "      <td>9</td>\n",
       "    </tr>\n",
       "    <tr>\n",
       "      <th>Район Соколиная Гора</th>\n",
       "      <th>ВАО</th>\n",
       "      <td>9</td>\n",
       "    </tr>\n",
       "    <tr>\n",
       "      <th>Район Аэропорт</th>\n",
       "      <th>САО</th>\n",
       "      <td>8</td>\n",
       "    </tr>\n",
       "    <tr>\n",
       "      <th>Можайский Район</th>\n",
       "      <th>ЗАО</th>\n",
       "      <td>8</td>\n",
       "    </tr>\n",
       "    <tr>\n",
       "      <th>Район Люблино</th>\n",
       "      <th>ЮВАО</th>\n",
       "      <td>8</td>\n",
       "    </tr>\n",
       "    <tr>\n",
       "      <th>Нижегородский район</th>\n",
       "      <th>ЮВАО</th>\n",
       "      <td>8</td>\n",
       "    </tr>\n",
       "    <tr>\n",
       "      <th>Район Южное Бутово</th>\n",
       "      <th>ЮЗАО</th>\n",
       "      <td>7</td>\n",
       "    </tr>\n",
       "    <tr>\n",
       "      <th>Тимирязевский Район</th>\n",
       "      <th>САО</th>\n",
       "      <td>7</td>\n",
       "    </tr>\n",
       "    <tr>\n",
       "      <th>Алексеевский район</th>\n",
       "      <th>СВАО</th>\n",
       "      <td>7</td>\n",
       "    </tr>\n",
       "    <tr>\n",
       "      <th>Район Солнцево</th>\n",
       "      <th>ЗАО</th>\n",
       "      <td>6</td>\n",
       "    </tr>\n",
       "    <tr>\n",
       "      <th>Донской район</th>\n",
       "      <th>ЮАО</th>\n",
       "      <td>6</td>\n",
       "    </tr>\n",
       "    <tr>\n",
       "      <th>Дмитровский район</th>\n",
       "      <th>САО</th>\n",
       "      <td>6</td>\n",
       "    </tr>\n",
       "    <tr>\n",
       "      <th>Район Внуково</th>\n",
       "      <th>ЗАО</th>\n",
       "      <td>6</td>\n",
       "    </tr>\n",
       "    <tr>\n",
       "      <th>Лосиноостровский район</th>\n",
       "      <th>СВАО</th>\n",
       "      <td>6</td>\n",
       "    </tr>\n",
       "    <tr>\n",
       "      <th>Район Хорошево-Мневники</th>\n",
       "      <th>СЗАО</th>\n",
       "      <td>6</td>\n",
       "    </tr>\n",
       "    <tr>\n",
       "      <th>Савеловский район</th>\n",
       "      <th>САО</th>\n",
       "      <td>6</td>\n",
       "    </tr>\n",
       "    <tr>\n",
       "      <th>Район Измайлово</th>\n",
       "      <th>ВАО</th>\n",
       "      <td>6</td>\n",
       "    </tr>\n",
       "    <tr>\n",
       "      <th>Район Щукино</th>\n",
       "      <th>СЗАО</th>\n",
       "      <td>5</td>\n",
       "    </tr>\n",
       "    <tr>\n",
       "      <th>Район Кунцево</th>\n",
       "      <th>ЗАО</th>\n",
       "      <td>5</td>\n",
       "    </tr>\n",
       "    <tr>\n",
       "      <th>Район Южное Тушино</th>\n",
       "      <th>СЗАО</th>\n",
       "      <td>5</td>\n",
       "    </tr>\n",
       "    <tr>\n",
       "      <th>Район Ясенево</th>\n",
       "      <th>ЮЗАО</th>\n",
       "      <td>5</td>\n",
       "    </tr>\n",
       "    <tr>\n",
       "      <th>Рязанский район</th>\n",
       "      <th>ЮВАО</th>\n",
       "      <td>5</td>\n",
       "    </tr>\n",
       "    <tr>\n",
       "      <th>Район Ростокино</th>\n",
       "      <th>СВАО</th>\n",
       "      <td>5</td>\n",
       "    </tr>\n",
       "    <tr>\n",
       "      <th>Район Выхино-Жулебино</th>\n",
       "      <th>ЮВАО</th>\n",
       "      <td>5</td>\n",
       "    </tr>\n",
       "    <tr>\n",
       "      <th>Бабушкинский район</th>\n",
       "      <th>СВАО</th>\n",
       "      <td>5</td>\n",
       "    </tr>\n",
       "    <tr>\n",
       "      <th>Хорошевский район</th>\n",
       "      <th>САО</th>\n",
       "      <td>5</td>\n",
       "    </tr>\n",
       "    <tr>\n",
       "      <th>Южнопортовый Район</th>\n",
       "      <th>ЮВАО</th>\n",
       "      <td>5</td>\n",
       "    </tr>\n",
       "    <tr>\n",
       "      <th>Район Ново-Переделкино</th>\n",
       "      <th>ЗАО</th>\n",
       "      <td>4</td>\n",
       "    </tr>\n",
       "    <tr>\n",
       "      <th>Район Свиблово</th>\n",
       "      <th>СВАО</th>\n",
       "      <td>4</td>\n",
       "    </tr>\n",
       "    <tr>\n",
       "      <th>Район Митино</th>\n",
       "      <th>СЗАО</th>\n",
       "      <td>4</td>\n",
       "    </tr>\n",
       "    <tr>\n",
       "      <th>Район Отрадное</th>\n",
       "      <th>СВАО</th>\n",
       "      <td>4</td>\n",
       "    </tr>\n",
       "    <tr>\n",
       "      <th>Район Сокол</th>\n",
       "      <th>САО</th>\n",
       "      <td>4</td>\n",
       "    </tr>\n",
       "    <tr>\n",
       "      <th>Район Преображенское</th>\n",
       "      <th>ВАО</th>\n",
       "      <td>4</td>\n",
       "    </tr>\n",
       "    <tr>\n",
       "      <th>Район Печатники</th>\n",
       "      <th>ЮВАО</th>\n",
       "      <td>4</td>\n",
       "    </tr>\n",
       "    <tr>\n",
       "      <th>Головинский район</th>\n",
       "      <th>САО</th>\n",
       "      <td>4</td>\n",
       "    </tr>\n",
       "    <tr>\n",
       "      <th>Нагорный район</th>\n",
       "      <th>ЮАО</th>\n",
       "      <td>4</td>\n",
       "    </tr>\n",
       "    <tr>\n",
       "      <th>Район Косино-Ухтомский</th>\n",
       "      <th>ВАО</th>\n",
       "      <td>4</td>\n",
       "    </tr>\n",
       "    <tr>\n",
       "      <th>Район Коптево</th>\n",
       "      <th>САО</th>\n",
       "      <td>4</td>\n",
       "    </tr>\n",
       "    <tr>\n",
       "      <th>Район Зюзино</th>\n",
       "      <th>ЮЗАО</th>\n",
       "      <td>4</td>\n",
       "    </tr>\n",
       "    <tr>\n",
       "      <th>Район Дорогомилово</th>\n",
       "      <th>ЗАО</th>\n",
       "      <td>4</td>\n",
       "    </tr>\n",
       "    <tr>\n",
       "      <th>Район Гольяново</th>\n",
       "      <th>ВАО</th>\n",
       "      <td>4</td>\n",
       "    </tr>\n",
       "    <tr>\n",
       "      <th>Район Покровское-Стрешнево</th>\n",
       "      <th>СЗАО</th>\n",
       "      <td>4</td>\n",
       "    </tr>\n",
       "    <tr>\n",
       "      <th>Район Бирюлево Восточное</th>\n",
       "      <th>ЮАО</th>\n",
       "      <td>3</td>\n",
       "    </tr>\n",
       "    <tr>\n",
       "      <th>Район Северное Медведково</th>\n",
       "      <th>СВАО</th>\n",
       "      <td>3</td>\n",
       "    </tr>\n",
       "    <tr>\n",
       "      <th>Бутырский район</th>\n",
       "      <th>СВАО</th>\n",
       "      <td>3</td>\n",
       "    </tr>\n",
       "    <tr>\n",
       "      <th>Район Раменки</th>\n",
       "      <th>ЗАО</th>\n",
       "      <td>3</td>\n",
       "    </tr>\n",
       "    <tr>\n",
       "      <th>Район Беговой</th>\n",
       "      <th>САО</th>\n",
       "      <td>3</td>\n",
       "    </tr>\n",
       "    <tr>\n",
       "      <th>Район Перово</th>\n",
       "      <th>ВАО</th>\n",
       "      <td>3</td>\n",
       "    </tr>\n",
       "    <tr>\n",
       "      <th>Район Кузьминки</th>\n",
       "      <th>ЮВАО</th>\n",
       "      <td>3</td>\n",
       "    </tr>\n",
       "    <tr>\n",
       "      <th>Останкинский район</th>\n",
       "      <th>СВАО</th>\n",
       "      <td>3</td>\n",
       "    </tr>\n",
       "    <tr>\n",
       "      <th>Ярославский Район</th>\n",
       "      <th>СВАО</th>\n",
       "      <td>3</td>\n",
       "    </tr>\n",
       "    <tr>\n",
       "      <th>Район Новогиреево</th>\n",
       "      <th>ВАО</th>\n",
       "      <td>3</td>\n",
       "    </tr>\n",
       "    <tr>\n",
       "      <th>Район Куркино</th>\n",
       "      <th>СЗАО</th>\n",
       "      <td>2</td>\n",
       "    </tr>\n",
       "    <tr>\n",
       "      <th>Войковский Район</th>\n",
       "      <th>САО</th>\n",
       "      <td>2</td>\n",
       "    </tr>\n",
       "    <tr>\n",
       "      <th>Район Восточное Измайлово</th>\n",
       "      <th>ВАО</th>\n",
       "      <td>2</td>\n",
       "    </tr>\n",
       "    <tr>\n",
       "      <th>Район Северный</th>\n",
       "      <th>СВАО</th>\n",
       "      <td>2</td>\n",
       "    </tr>\n",
       "    <tr>\n",
       "      <th>Бескудниковский Район</th>\n",
       "      <th>САО</th>\n",
       "      <td>2</td>\n",
       "    </tr>\n",
       "    <tr>\n",
       "      <th>Район Северное Бутово</th>\n",
       "      <th>ЮЗАО</th>\n",
       "      <td>2</td>\n",
       "    </tr>\n",
       "    <tr>\n",
       "      <th>Район Черемушки</th>\n",
       "      <th>ЮЗАО</th>\n",
       "      <td>2</td>\n",
       "    </tr>\n",
       "    <tr>\n",
       "      <th>Район Котловка</th>\n",
       "      <th>ЮЗАО</th>\n",
       "      <td>2</td>\n",
       "    </tr>\n",
       "    <tr>\n",
       "      <th>Район Текстильщики</th>\n",
       "      <th>ЮВАО</th>\n",
       "      <td>2</td>\n",
       "    </tr>\n",
       "    <tr>\n",
       "      <th>Район Фили-Давыдково</th>\n",
       "      <th>ЗАО</th>\n",
       "      <td>2</td>\n",
       "    </tr>\n",
       "    <tr>\n",
       "      <th>Район Коньково</th>\n",
       "      <th>ЮЗАО</th>\n",
       "      <td>2</td>\n",
       "    </tr>\n",
       "    <tr>\n",
       "      <th>Район Южное Медведково</th>\n",
       "      <th>СВАО</th>\n",
       "      <td>1</td>\n",
       "    </tr>\n",
       "    <tr>\n",
       "      <th>Район Москворечье-Сабурово</th>\n",
       "      <th>ЮАО</th>\n",
       "      <td>1</td>\n",
       "    </tr>\n",
       "    <tr>\n",
       "      <th>Район Нагатино-Садовники</th>\n",
       "      <th>ЮАО</th>\n",
       "      <td>1</td>\n",
       "    </tr>\n",
       "    <tr>\n",
       "      <th>Район Западное Дегунино</th>\n",
       "      <th>САО</th>\n",
       "      <td>1</td>\n",
       "    </tr>\n",
       "    <tr>\n",
       "      <th>Обручевский район</th>\n",
       "      <th>ЮЗАО</th>\n",
       "      <td>1</td>\n",
       "    </tr>\n",
       "    <tr>\n",
       "      <th>Район Восточный</th>\n",
       "      <th>ВАО</th>\n",
       "      <td>1</td>\n",
       "    </tr>\n",
       "    <tr>\n",
       "      <th>Район Ивановское</th>\n",
       "      <th>ВАО</th>\n",
       "      <td>1</td>\n",
       "    </tr>\n",
       "    <tr>\n",
       "      <th>Район Чертаново Северное</th>\n",
       "      <th>ЮАО</th>\n",
       "      <td>1</td>\n",
       "    </tr>\n",
       "    <tr>\n",
       "      <th>Район Чертаново Южное</th>\n",
       "      <th>ЮАО</th>\n",
       "      <td>1</td>\n",
       "    </tr>\n",
       "    <tr>\n",
       "      <th>Район Очаково-Матвеевское</th>\n",
       "      <th>ЗАО</th>\n",
       "      <td>1</td>\n",
       "    </tr>\n",
       "    <tr>\n",
       "      <th>Район Левобережный</th>\n",
       "      <th>САО</th>\n",
       "      <td>1</td>\n",
       "    </tr>\n",
       "    <tr>\n",
       "      <th>Молжаниновский район</th>\n",
       "      <th>САО</th>\n",
       "      <td>1</td>\n",
       "    </tr>\n",
       "    <tr>\n",
       "      <th>Район Строгино</th>\n",
       "      <th>СЗАО</th>\n",
       "      <td>1</td>\n",
       "    </tr>\n",
       "    <tr>\n",
       "      <th>Район Марфино</th>\n",
       "      <th>СВАО</th>\n",
       "      <td>1</td>\n",
       "    </tr>\n",
       "    <tr>\n",
       "      <th>Алтуфьевский район</th>\n",
       "      <th>СВАО</th>\n",
       "      <td>1</td>\n",
       "    </tr>\n",
       "    <tr>\n",
       "      <th>Район Марьино</th>\n",
       "      <th>ЮВАО</th>\n",
       "      <td>1</td>\n",
       "    </tr>\n",
       "    <tr>\n",
       "      <th>Район Матушкино-Савелки</th>\n",
       "      <th>Зеленоград</th>\n",
       "      <td>1</td>\n",
       "    </tr>\n",
       "    <tr>\n",
       "      <th>Район Метрогородок</th>\n",
       "      <th>ВАО</th>\n",
       "      <td>1</td>\n",
       "    </tr>\n",
       "    <tr>\n",
       "      <th>Район Северное Измайлово</th>\n",
       "      <th>ВАО</th>\n",
       "      <td>1</td>\n",
       "    </tr>\n",
       "    <tr>\n",
       "      <th>Район Царицыно</th>\n",
       "      <th>ЮАО</th>\n",
       "      <td>1</td>\n",
       "    </tr>\n",
       "  </tbody>\n",
       "</table>\n",
       "</div>"
      ],
      "text/plain": [
       "                                       id\n",
       "area                       okrug         \n",
       "Таганский район            ЦАО         27\n",
       "Район Хамовники            ЦАО         24\n",
       "Басманный район            ЦАО         21\n",
       "Тверской район             ЦАО         20\n",
       "Пресненский район          ЦАО         19\n",
       "Район Марьина роща         СВАО        18\n",
       "Район Арбат                ЦАО         17\n",
       "Мещанский район            ЦАО         16\n",
       "Район Сокольники           ВАО         15\n",
       "Район Замоскворечье        ЦАО         14\n",
       "Даниловский район          ЮАО         12\n",
       "Район Лефортово            ЮВАО        12\n",
       "Район Богородское          ВАО         10\n",
       "Красносельский район       ЦАО         10\n",
       "Район Якиманка             ЦАО          9\n",
       "Район Соколиная Гора       ВАО          9\n",
       "Район Аэропорт             САО          8\n",
       "Можайский Район            ЗАО          8\n",
       "Район Люблино              ЮВАО         8\n",
       "Нижегородский район        ЮВАО         8\n",
       "Район Южное Бутово         ЮЗАО         7\n",
       "Тимирязевский Район        САО          7\n",
       "Алексеевский район         СВАО         7\n",
       "Район Солнцево             ЗАО          6\n",
       "Донской район              ЮАО          6\n",
       "Дмитровский район          САО          6\n",
       "Район Внуково              ЗАО          6\n",
       "Лосиноостровский район     СВАО         6\n",
       "Район Хорошево-Мневники    СЗАО         6\n",
       "Савеловский район          САО          6\n",
       "Район Измайлово            ВАО          6\n",
       "Район Щукино               СЗАО         5\n",
       "Район Кунцево              ЗАО          5\n",
       "Район Южное Тушино         СЗАО         5\n",
       "Район Ясенево              ЮЗАО         5\n",
       "Рязанский район            ЮВАО         5\n",
       "Район Ростокино            СВАО         5\n",
       "Район Выхино-Жулебино      ЮВАО         5\n",
       "Бабушкинский район         СВАО         5\n",
       "Хорошевский район          САО          5\n",
       "Южнопортовый Район         ЮВАО         5\n",
       "Район Ново-Переделкино     ЗАО          4\n",
       "Район Свиблово             СВАО         4\n",
       "Район Митино               СЗАО         4\n",
       "Район Отрадное             СВАО         4\n",
       "Район Сокол                САО          4\n",
       "Район Преображенское       ВАО          4\n",
       "Район Печатники            ЮВАО         4\n",
       "Головинский район          САО          4\n",
       "Нагорный район             ЮАО          4\n",
       "Район Косино-Ухтомский     ВАО          4\n",
       "Район Коптево              САО          4\n",
       "Район Зюзино               ЮЗАО         4\n",
       "Район Дорогомилово         ЗАО          4\n",
       "Район Гольяново            ВАО          4\n",
       "Район Покровское-Стрешнево СЗАО         4\n",
       "Район Бирюлево Восточное   ЮАО          3\n",
       "Район Северное Медведково  СВАО         3\n",
       "Бутырский район            СВАО         3\n",
       "Район Раменки              ЗАО          3\n",
       "Район Беговой              САО          3\n",
       "Район Перово               ВАО          3\n",
       "Район Кузьминки            ЮВАО         3\n",
       "Останкинский район         СВАО         3\n",
       "Ярославский Район          СВАО         3\n",
       "Район Новогиреево          ВАО          3\n",
       "Район Куркино              СЗАО         2\n",
       "Войковский Район           САО          2\n",
       "Район Восточное Измайлово  ВАО          2\n",
       "Район Северный             СВАО         2\n",
       "Бескудниковский Район      САО          2\n",
       "Район Северное Бутово      ЮЗАО         2\n",
       "Район Черемушки            ЮЗАО         2\n",
       "Район Котловка             ЮЗАО         2\n",
       "Район Текстильщики         ЮВАО         2\n",
       "Район Фили-Давыдково       ЗАО          2\n",
       "Район Коньково             ЮЗАО         2\n",
       "Район Южное Медведково     СВАО         1\n",
       "Район Москворечье-Сабурово ЮАО          1\n",
       "Район Нагатино-Садовники   ЮАО          1\n",
       "Район Западное Дегунино    САО          1\n",
       "Обручевский район          ЮЗАО         1\n",
       "Район Восточный            ВАО          1\n",
       "Район Ивановское           ВАО          1\n",
       "Район Чертаново Северное   ЮАО          1\n",
       "Район Чертаново Южное      ЮАО          1\n",
       "Район Очаково-Матвеевское  ЗАО          1\n",
       "Район Левобережный         САО          1\n",
       "Молжаниновский район       САО          1\n",
       "Район Строгино             СЗАО         1\n",
       "Район Марфино              СВАО         1\n",
       "Алтуфьевский район         СВАО         1\n",
       "Район Марьино              ЮВАО         1\n",
       "Район Матушкино-Савелки    Зеленоград   1\n",
       "Район Метрогородок         ВАО          1\n",
       "Район Северное Измайлово   ВАО          1\n",
       "Район Царицыно             ЮАО          1"
      ]
     },
     "execution_count": 73,
     "metadata": {},
     "output_type": "execute_result"
    }
   ],
   "source": [
    "one_object_final_grouped #все районы,в которых есть улицы с 1 заведением"
   ]
  },
  {
   "cell_type": "markdown",
   "metadata": {},
   "source": [
    "Больше всего улиц с 1 заведением в ЦАО: в Таганском, Басманном, Тверском, Пресненском районах и районе Хамовники.\n",
    "Меньше всего на юго-востоке Москвы (н-р, район Царицыно, Северное Измайлово)."
   ]
  },
  {
   "cell_type": "markdown",
   "metadata": {},
   "source": [
    "### Вывод\n",
    "\n",
    "Самый популярный тип заведения - кафе (50% выборки). При этом 80% заведений не сетевые. \n",
    "\n",
    "Для сетевых заведений характерно много заведений с небольшим числом посадочных мест в каждом. Больше всего сетей с небольшим количеством заведений и с небольшим количеством посадочных мест. \n",
    "\n",
    "Больше всего заведений общественного питания располагается на проспекте Мира (СВАО), который проходит через Алексеевский, Ярославский, Останкинский, Мещанский район, а также районы Марьина Роща, Ростокино, Свиблово.\n",
    "\n",
    "В основном заведения общественного питания находятся не в центральном округе. Это можно объяснить более низкой стоимостью аренды, а также тем, что проспект Мира, Ленинский и Ленинградский проспект, Профсоюзная улица и Варшавское шоссе и т.д. одни из самых длинных в Москве, они проходят через большое количество районов. Как следствие, на них может располагаться большее количество заведений.\n",
    "\n",
    "Всего в Москве 495 улиц с 1 заведением. Больше всего таких улиц в центре города, а именно в Таганском, Басманном, Тверском, Пресненском районах и районе Хамовники."
   ]
  },
  {
   "cell_type": "markdown",
   "metadata": {},
   "source": [
    "## Вывод"
   ]
  },
  {
   "cell_type": "markdown",
   "metadata": {},
   "source": [
    "По итогам проведенного анализа можно сделать следующие выводы:\n",
    "\n",
    "- лучше всего создавать кафе - это самый популярный тип заведения;\n",
    "- с ~40 посадочными местами;\n",
    "- в ЦАО (рассмотреть Таганский, Басманный, Тверской, Пресненский районы, район Хамовники). Именно там располагается наибольшее число улиц всего с 1 заведением. Планируется уникальный не сетевой проект. Его лучше всего расположить не на проходной улице, но в то же время с хорошей транспортной доступностью (ЦАО)."
   ]
  }
 ],
 "metadata": {
  "ExecuteTimeLog": [
   {
    "duration": 2,
    "start_time": "2022-05-22T13:12:15.396Z"
   },
   {
    "duration": 28,
    "start_time": "2022-05-22T13:12:56.262Z"
   },
   {
    "duration": 53,
    "start_time": "2022-05-22T13:13:09.089Z"
   },
   {
    "duration": 13,
    "start_time": "2022-05-22T13:13:19.382Z"
   },
   {
    "duration": 8,
    "start_time": "2022-05-22T13:13:36.294Z"
   },
   {
    "duration": 7,
    "start_time": "2022-05-22T13:15:38.899Z"
   },
   {
    "duration": 5,
    "start_time": "2022-05-22T13:19:39.772Z"
   },
   {
    "duration": 16,
    "start_time": "2022-05-22T13:20:13.815Z"
   },
   {
    "duration": 14,
    "start_time": "2022-05-22T13:20:18.407Z"
   },
   {
    "duration": 14,
    "start_time": "2022-05-22T13:20:23.553Z"
   },
   {
    "duration": 279,
    "start_time": "2022-05-22T13:21:27.919Z"
   },
   {
    "duration": 14,
    "start_time": "2022-05-22T13:22:29.069Z"
   },
   {
    "duration": 7,
    "start_time": "2022-05-22T13:23:23.325Z"
   },
   {
    "duration": 5,
    "start_time": "2022-05-22T13:23:51.966Z"
   },
   {
    "duration": 6,
    "start_time": "2022-05-22T13:24:25.859Z"
   },
   {
    "duration": 21,
    "start_time": "2022-05-22T13:34:27.933Z"
   },
   {
    "duration": 22,
    "start_time": "2022-05-22T13:35:20.534Z"
   },
   {
    "duration": 9,
    "start_time": "2022-05-22T13:37:12.761Z"
   },
   {
    "duration": 54,
    "start_time": "2022-05-22T13:37:28.950Z"
   },
   {
    "duration": 29,
    "start_time": "2022-05-22T13:38:22.258Z"
   },
   {
    "duration": 30,
    "start_time": "2022-05-22T13:39:21.392Z"
   },
   {
    "duration": 28,
    "start_time": "2022-05-22T13:39:57.418Z"
   },
   {
    "duration": 29,
    "start_time": "2022-05-22T13:40:19.192Z"
   },
   {
    "duration": 30,
    "start_time": "2022-05-22T13:42:22.893Z"
   },
   {
    "duration": 663,
    "start_time": "2022-05-22T13:43:03.173Z"
   },
   {
    "duration": 643,
    "start_time": "2022-05-22T13:43:17.930Z"
   },
   {
    "duration": 25,
    "start_time": "2022-05-22T13:43:50.869Z"
   },
   {
    "duration": 74,
    "start_time": "2022-05-22T13:44:22.951Z"
   },
   {
    "duration": 71,
    "start_time": "2022-05-22T13:44:51.487Z"
   },
   {
    "duration": 10,
    "start_time": "2022-05-22T13:58:48.000Z"
   },
   {
    "duration": 159,
    "start_time": "2022-05-22T14:00:12.849Z"
   },
   {
    "duration": 8,
    "start_time": "2022-05-22T14:00:23.169Z"
   },
   {
    "duration": 9,
    "start_time": "2022-05-22T14:00:39.912Z"
   },
   {
    "duration": 16,
    "start_time": "2022-05-22T14:01:16.695Z"
   },
   {
    "duration": 80,
    "start_time": "2022-05-22T14:02:34.518Z"
   },
   {
    "duration": 4,
    "start_time": "2022-05-22T14:15:35.650Z"
   },
   {
    "duration": 5,
    "start_time": "2022-05-22T14:15:45.209Z"
   },
   {
    "duration": 9,
    "start_time": "2022-05-22T14:17:28.524Z"
   },
   {
    "duration": 9,
    "start_time": "2022-05-22T14:17:38.550Z"
   },
   {
    "duration": 11,
    "start_time": "2022-05-22T14:18:21.143Z"
   },
   {
    "duration": 9,
    "start_time": "2022-05-22T14:18:21.845Z"
   },
   {
    "duration": 13,
    "start_time": "2022-05-22T14:18:53.688Z"
   },
   {
    "duration": 11,
    "start_time": "2022-05-22T14:18:54.220Z"
   },
   {
    "duration": 22,
    "start_time": "2022-05-22T14:19:00.604Z"
   },
   {
    "duration": 11,
    "start_time": "2022-05-22T14:19:12.655Z"
   },
   {
    "duration": 8,
    "start_time": "2022-05-22T14:19:13.533Z"
   },
   {
    "duration": 36,
    "start_time": "2022-05-22T14:19:44.607Z"
   },
   {
    "duration": 13,
    "start_time": "2022-05-22T14:19:50.704Z"
   },
   {
    "duration": 9,
    "start_time": "2022-05-22T14:19:51.709Z"
   },
   {
    "duration": 29,
    "start_time": "2022-05-22T14:20:14.373Z"
   },
   {
    "duration": 45,
    "start_time": "2022-05-22T14:20:45.477Z"
   },
   {
    "duration": 40,
    "start_time": "2022-05-22T14:20:55.601Z"
   },
   {
    "duration": 8,
    "start_time": "2022-05-22T14:20:56.477Z"
   },
   {
    "duration": 15,
    "start_time": "2022-05-22T14:21:26.292Z"
   },
   {
    "duration": 20,
    "start_time": "2022-05-22T14:36:03.436Z"
   },
   {
    "duration": 746,
    "start_time": "2022-05-22T14:36:12.534Z"
   },
   {
    "duration": 465,
    "start_time": "2022-05-22T14:46:00.912Z"
   },
   {
    "duration": 11,
    "start_time": "2022-05-22T14:46:59.116Z"
   },
   {
    "duration": 392,
    "start_time": "2022-05-22T14:47:18.058Z"
   },
   {
    "duration": 244,
    "start_time": "2022-05-22T14:59:34.293Z"
   },
   {
    "duration": 10,
    "start_time": "2022-05-22T15:00:14.038Z"
   },
   {
    "duration": 697,
    "start_time": "2022-05-22T15:00:22.794Z"
   },
   {
    "duration": 9,
    "start_time": "2022-05-22T15:01:19.434Z"
   },
   {
    "duration": 10,
    "start_time": "2022-05-22T15:02:01.879Z"
   },
   {
    "duration": 8,
    "start_time": "2022-05-22T15:02:24.523Z"
   },
   {
    "duration": 1348,
    "start_time": "2022-05-22T17:32:44.531Z"
   },
   {
    "duration": 93,
    "start_time": "2022-05-22T17:32:45.882Z"
   },
   {
    "duration": 13,
    "start_time": "2022-05-22T17:32:45.976Z"
   },
   {
    "duration": 13,
    "start_time": "2022-05-22T17:32:45.991Z"
   },
   {
    "duration": 11,
    "start_time": "2022-05-22T17:32:46.006Z"
   },
   {
    "duration": 8,
    "start_time": "2022-05-22T17:32:46.019Z"
   },
   {
    "duration": 127,
    "start_time": "2022-05-22T17:32:46.029Z"
   },
   {
    "duration": 13,
    "start_time": "2022-05-22T17:32:46.157Z"
   },
   {
    "duration": 14,
    "start_time": "2022-05-22T17:32:46.171Z"
   },
   {
    "duration": 44,
    "start_time": "2022-05-22T17:32:46.188Z"
   },
   {
    "duration": 27,
    "start_time": "2022-05-22T17:32:46.233Z"
   },
   {
    "duration": 20,
    "start_time": "2022-05-22T17:32:46.261Z"
   },
   {
    "duration": 20,
    "start_time": "2022-05-22T17:32:46.283Z"
   },
   {
    "duration": 127,
    "start_time": "2022-05-22T17:32:46.304Z"
   },
   {
    "duration": 0,
    "start_time": "2022-05-22T17:32:46.433Z"
   },
   {
    "duration": 0,
    "start_time": "2022-05-22T17:32:46.434Z"
   },
   {
    "duration": 733,
    "start_time": "2022-05-22T17:33:35.101Z"
   },
   {
    "duration": 6,
    "start_time": "2022-05-22T17:38:06.067Z"
   },
   {
    "duration": 13,
    "start_time": "2022-05-22T17:38:22.920Z"
   },
   {
    "duration": 459,
    "start_time": "2022-05-22T17:38:48.932Z"
   },
   {
    "duration": 9,
    "start_time": "2022-05-22T17:39:35.395Z"
   },
   {
    "duration": 8,
    "start_time": "2022-05-22T17:39:40.255Z"
   },
   {
    "duration": 21,
    "start_time": "2022-05-22T17:42:02.984Z"
   },
   {
    "duration": 4,
    "start_time": "2022-05-22T17:42:17.381Z"
   },
   {
    "duration": 3,
    "start_time": "2022-05-22T17:42:25.503Z"
   },
   {
    "duration": 3,
    "start_time": "2022-05-22T17:42:30.505Z"
   },
   {
    "duration": 3,
    "start_time": "2022-05-22T17:42:47.788Z"
   },
   {
    "duration": 9,
    "start_time": "2022-05-22T17:43:01.047Z"
   },
   {
    "duration": 2,
    "start_time": "2022-05-22T17:43:18.880Z"
   },
   {
    "duration": 1179,
    "start_time": "2022-05-22T17:43:28.136Z"
   },
   {
    "duration": 57,
    "start_time": "2022-05-22T17:43:29.317Z"
   },
   {
    "duration": 13,
    "start_time": "2022-05-22T17:43:29.375Z"
   },
   {
    "duration": 13,
    "start_time": "2022-05-22T17:43:29.389Z"
   },
   {
    "duration": 5,
    "start_time": "2022-05-22T17:43:29.404Z"
   },
   {
    "duration": 9,
    "start_time": "2022-05-22T17:43:29.410Z"
   },
   {
    "duration": 139,
    "start_time": "2022-05-22T17:43:29.421Z"
   },
   {
    "duration": 11,
    "start_time": "2022-05-22T17:43:29.562Z"
   },
   {
    "duration": 13,
    "start_time": "2022-05-22T17:43:29.575Z"
   },
   {
    "duration": 69,
    "start_time": "2022-05-22T17:43:29.590Z"
   },
   {
    "duration": 8,
    "start_time": "2022-05-22T17:43:29.661Z"
   },
   {
    "duration": 24,
    "start_time": "2022-05-22T17:43:29.671Z"
   },
   {
    "duration": 20,
    "start_time": "2022-05-22T17:43:29.697Z"
   },
   {
    "duration": 12,
    "start_time": "2022-05-22T17:43:29.720Z"
   },
   {
    "duration": 827,
    "start_time": "2022-05-22T17:43:29.733Z"
   },
   {
    "duration": 4,
    "start_time": "2022-05-22T17:43:30.562Z"
   },
   {
    "duration": 203,
    "start_time": "2022-05-22T17:43:30.568Z"
   },
   {
    "duration": 0,
    "start_time": "2022-05-22T17:43:30.773Z"
   },
   {
    "duration": 52,
    "start_time": "2022-05-22T17:43:50.070Z"
   },
   {
    "duration": 14,
    "start_time": "2022-05-22T17:44:17.662Z"
   },
   {
    "duration": 1192,
    "start_time": "2022-05-22T17:44:28.374Z"
   },
   {
    "duration": 54,
    "start_time": "2022-05-22T17:44:29.569Z"
   },
   {
    "duration": 12,
    "start_time": "2022-05-22T17:44:29.625Z"
   },
   {
    "duration": 21,
    "start_time": "2022-05-22T17:44:29.640Z"
   },
   {
    "duration": 11,
    "start_time": "2022-05-22T17:44:29.663Z"
   },
   {
    "duration": 8,
    "start_time": "2022-05-22T17:44:29.676Z"
   },
   {
    "duration": 181,
    "start_time": "2022-05-22T17:44:29.686Z"
   },
   {
    "duration": 11,
    "start_time": "2022-05-22T17:44:29.869Z"
   },
   {
    "duration": 13,
    "start_time": "2022-05-22T17:44:29.881Z"
   },
   {
    "duration": 56,
    "start_time": "2022-05-22T17:44:29.897Z"
   },
   {
    "duration": 13,
    "start_time": "2022-05-22T17:44:29.955Z"
   },
   {
    "duration": 26,
    "start_time": "2022-05-22T17:44:29.970Z"
   },
   {
    "duration": 22,
    "start_time": "2022-05-22T17:44:29.997Z"
   },
   {
    "duration": 38,
    "start_time": "2022-05-22T17:44:30.020Z"
   },
   {
    "duration": 818,
    "start_time": "2022-05-22T17:44:30.060Z"
   },
   {
    "duration": 4,
    "start_time": "2022-05-22T17:44:30.881Z"
   },
   {
    "duration": 241,
    "start_time": "2022-05-22T17:44:30.886Z"
   },
   {
    "duration": 153,
    "start_time": "2022-05-22T17:44:31.129Z"
   },
   {
    "duration": 0,
    "start_time": "2022-05-22T17:44:31.284Z"
   },
   {
    "duration": 25,
    "start_time": "2022-05-22T17:45:22.914Z"
   },
   {
    "duration": 1218,
    "start_time": "2022-05-22T17:45:29.607Z"
   },
   {
    "duration": 61,
    "start_time": "2022-05-22T17:45:30.827Z"
   },
   {
    "duration": 16,
    "start_time": "2022-05-22T17:45:30.890Z"
   },
   {
    "duration": 14,
    "start_time": "2022-05-22T17:45:30.909Z"
   },
   {
    "duration": 11,
    "start_time": "2022-05-22T17:45:30.925Z"
   },
   {
    "duration": 24,
    "start_time": "2022-05-22T17:45:30.937Z"
   },
   {
    "duration": 172,
    "start_time": "2022-05-22T17:45:30.964Z"
   },
   {
    "duration": 16,
    "start_time": "2022-05-22T17:45:31.138Z"
   },
   {
    "duration": 19,
    "start_time": "2022-05-22T17:45:31.157Z"
   },
   {
    "duration": 55,
    "start_time": "2022-05-22T17:45:31.179Z"
   },
   {
    "duration": 10,
    "start_time": "2022-05-22T17:45:31.235Z"
   },
   {
    "duration": 25,
    "start_time": "2022-05-22T17:45:31.253Z"
   },
   {
    "duration": 29,
    "start_time": "2022-05-22T17:45:31.281Z"
   },
   {
    "duration": 58,
    "start_time": "2022-05-22T17:45:31.312Z"
   },
   {
    "duration": 843,
    "start_time": "2022-05-22T17:45:31.372Z"
   },
   {
    "duration": 265,
    "start_time": "2022-05-22T17:45:32.223Z"
   },
   {
    "duration": 0,
    "start_time": "2022-05-22T17:45:32.490Z"
   },
   {
    "duration": 0,
    "start_time": "2022-05-22T17:45:32.491Z"
   },
   {
    "duration": 0,
    "start_time": "2022-05-22T17:45:32.492Z"
   },
   {
    "duration": 25,
    "start_time": "2022-05-22T17:47:06.486Z"
   },
   {
    "duration": 4,
    "start_time": "2022-05-22T17:48:02.917Z"
   },
   {
    "duration": 348,
    "start_time": "2022-05-22T17:48:05.728Z"
   },
   {
    "duration": 4,
    "start_time": "2022-05-22T17:48:19.888Z"
   },
   {
    "duration": 188,
    "start_time": "2022-05-22T17:48:21.336Z"
   },
   {
    "duration": 1334,
    "start_time": "2022-05-22T17:48:30.628Z"
   },
   {
    "duration": 121,
    "start_time": "2022-05-22T17:48:31.965Z"
   },
   {
    "duration": 16,
    "start_time": "2022-05-22T17:48:32.089Z"
   },
   {
    "duration": 17,
    "start_time": "2022-05-22T17:48:32.109Z"
   },
   {
    "duration": 16,
    "start_time": "2022-05-22T17:48:32.128Z"
   },
   {
    "duration": 67,
    "start_time": "2022-05-22T17:48:32.146Z"
   },
   {
    "duration": 150,
    "start_time": "2022-05-22T17:48:32.215Z"
   },
   {
    "duration": 16,
    "start_time": "2022-05-22T17:48:32.367Z"
   },
   {
    "duration": 27,
    "start_time": "2022-05-22T17:48:32.386Z"
   },
   {
    "duration": 56,
    "start_time": "2022-05-22T17:48:32.417Z"
   },
   {
    "duration": 9,
    "start_time": "2022-05-22T17:48:32.475Z"
   },
   {
    "duration": 37,
    "start_time": "2022-05-22T17:48:32.486Z"
   },
   {
    "duration": 47,
    "start_time": "2022-05-22T17:48:32.525Z"
   },
   {
    "duration": 21,
    "start_time": "2022-05-22T17:48:32.575Z"
   },
   {
    "duration": 862,
    "start_time": "2022-05-22T17:48:32.598Z"
   },
   {
    "duration": 12,
    "start_time": "2022-05-22T17:48:33.462Z"
   },
   {
    "duration": 740,
    "start_time": "2022-05-22T17:48:33.476Z"
   },
   {
    "duration": 286,
    "start_time": "2022-05-22T17:48:34.218Z"
   },
   {
    "duration": 8,
    "start_time": "2022-05-22T17:48:34.506Z"
   },
   {
    "duration": 239,
    "start_time": "2022-05-22T17:49:02.889Z"
   },
   {
    "duration": 12,
    "start_time": "2022-05-22T17:49:36.520Z"
   },
   {
    "duration": 99,
    "start_time": "2022-05-22T17:52:22.795Z"
   },
   {
    "duration": 11,
    "start_time": "2022-05-22T17:52:56.732Z"
   },
   {
    "duration": 106,
    "start_time": "2022-05-22T17:53:08.155Z"
   },
   {
    "duration": 8,
    "start_time": "2022-05-22T17:53:13.673Z"
   },
   {
    "duration": 29,
    "start_time": "2022-05-22T17:53:26.305Z"
   },
   {
    "duration": 11,
    "start_time": "2022-05-22T17:53:31.105Z"
   },
   {
    "duration": 12,
    "start_time": "2022-05-22T17:56:11.773Z"
   },
   {
    "duration": 196,
    "start_time": "2022-05-22T17:56:16.847Z"
   },
   {
    "duration": 26,
    "start_time": "2022-05-22T17:56:43.194Z"
   },
   {
    "duration": 517,
    "start_time": "2022-05-22T17:58:13.729Z"
   },
   {
    "duration": 11,
    "start_time": "2022-05-22T18:02:35.392Z"
   },
   {
    "duration": 9,
    "start_time": "2022-05-22T18:02:42.853Z"
   },
   {
    "duration": 8,
    "start_time": "2022-05-22T18:02:56.448Z"
   },
   {
    "duration": 4,
    "start_time": "2022-05-22T18:03:00.891Z"
   },
   {
    "duration": 8,
    "start_time": "2022-05-22T18:03:19.629Z"
   },
   {
    "duration": 3,
    "start_time": "2022-05-22T18:03:23.804Z"
   },
   {
    "duration": 4,
    "start_time": "2022-05-22T18:03:58.627Z"
   },
   {
    "duration": 10,
    "start_time": "2022-05-22T18:05:18.541Z"
   },
   {
    "duration": 4,
    "start_time": "2022-05-22T18:08:43.614Z"
   },
   {
    "duration": 16,
    "start_time": "2022-05-22T18:15:28.189Z"
   },
   {
    "duration": 16,
    "start_time": "2022-05-22T18:16:49.745Z"
   },
   {
    "duration": 40138,
    "start_time": "2022-05-22T18:32:41.395Z"
   },
   {
    "duration": 664,
    "start_time": "2022-05-22T18:34:21.262Z"
   },
   {
    "duration": 68,
    "start_time": "2022-05-23T07:25:32.681Z"
   },
   {
    "duration": 1466,
    "start_time": "2022-05-23T07:25:37.496Z"
   },
   {
    "duration": 226,
    "start_time": "2022-05-23T07:25:38.964Z"
   },
   {
    "duration": 13,
    "start_time": "2022-05-23T07:25:39.191Z"
   },
   {
    "duration": 22,
    "start_time": "2022-05-23T07:25:39.206Z"
   },
   {
    "duration": 10,
    "start_time": "2022-05-23T07:25:39.230Z"
   },
   {
    "duration": 6,
    "start_time": "2022-05-23T07:25:39.242Z"
   },
   {
    "duration": 135,
    "start_time": "2022-05-23T07:25:39.250Z"
   },
   {
    "duration": 10,
    "start_time": "2022-05-23T07:25:39.387Z"
   },
   {
    "duration": 12,
    "start_time": "2022-05-23T07:25:39.398Z"
   },
   {
    "duration": 56,
    "start_time": "2022-05-23T07:25:39.413Z"
   },
   {
    "duration": 9,
    "start_time": "2022-05-23T07:25:39.471Z"
   },
   {
    "duration": 37,
    "start_time": "2022-05-23T07:25:39.482Z"
   },
   {
    "duration": 14,
    "start_time": "2022-05-23T07:25:39.521Z"
   },
   {
    "duration": 7,
    "start_time": "2022-05-23T07:25:39.536Z"
   },
   {
    "duration": 651,
    "start_time": "2022-05-23T07:25:39.545Z"
   },
   {
    "duration": 27,
    "start_time": "2022-05-23T07:25:40.199Z"
   },
   {
    "duration": 22,
    "start_time": "2022-05-23T07:25:40.231Z"
   },
   {
    "duration": 2,
    "start_time": "2022-05-23T07:25:40.255Z"
   },
   {
    "duration": 4,
    "start_time": "2022-05-23T07:25:40.259Z"
   },
   {
    "duration": 56,
    "start_time": "2022-05-23T07:25:40.264Z"
   },
   {
    "duration": 10,
    "start_time": "2022-05-23T07:25:40.322Z"
   },
   {
    "duration": 26,
    "start_time": "2022-05-23T07:25:40.334Z"
   },
   {
    "duration": 18,
    "start_time": "2022-05-23T07:25:54.979Z"
   },
   {
    "duration": 5,
    "start_time": "2022-05-23T07:27:28.629Z"
   },
   {
    "duration": 13,
    "start_time": "2022-05-23T07:27:37.803Z"
   },
   {
    "duration": 648,
    "start_time": "2022-05-23T07:27:49.131Z"
   },
   {
    "duration": 106,
    "start_time": "2022-05-23T07:28:39.244Z"
   },
   {
    "duration": 4,
    "start_time": "2022-05-23T07:29:00.896Z"
   },
   {
    "duration": 11,
    "start_time": "2022-05-23T07:29:01.414Z"
   },
   {
    "duration": 9,
    "start_time": "2022-05-23T07:29:07.755Z"
   },
   {
    "duration": 1376,
    "start_time": "2022-05-23T07:29:12.120Z"
   },
   {
    "duration": 7,
    "start_time": "2022-05-23T07:30:39.684Z"
   },
   {
    "duration": 9,
    "start_time": "2022-05-23T07:30:45.025Z"
   },
   {
    "duration": 1050,
    "start_time": "2022-05-23T07:32:53.159Z"
   },
   {
    "duration": 65,
    "start_time": "2022-05-23T07:32:54.212Z"
   },
   {
    "duration": 12,
    "start_time": "2022-05-23T07:32:54.279Z"
   },
   {
    "duration": 12,
    "start_time": "2022-05-23T07:32:54.293Z"
   },
   {
    "duration": 5,
    "start_time": "2022-05-23T07:32:54.307Z"
   },
   {
    "duration": 6,
    "start_time": "2022-05-23T07:32:54.314Z"
   },
   {
    "duration": 127,
    "start_time": "2022-05-23T07:32:54.322Z"
   },
   {
    "duration": 10,
    "start_time": "2022-05-23T07:32:54.451Z"
   },
   {
    "duration": 10,
    "start_time": "2022-05-23T07:32:54.463Z"
   },
   {
    "duration": 43,
    "start_time": "2022-05-23T07:32:54.475Z"
   },
   {
    "duration": 7,
    "start_time": "2022-05-23T07:32:54.520Z"
   },
   {
    "duration": 26,
    "start_time": "2022-05-23T07:32:54.528Z"
   },
   {
    "duration": 635,
    "start_time": "2022-05-23T07:32:54.555Z"
   },
   {
    "duration": 165,
    "start_time": "2022-05-23T07:32:55.193Z"
   },
   {
    "duration": 0,
    "start_time": "2022-05-23T07:32:55.359Z"
   },
   {
    "duration": 0,
    "start_time": "2022-05-23T07:32:55.360Z"
   },
   {
    "duration": 0,
    "start_time": "2022-05-23T07:32:55.361Z"
   },
   {
    "duration": 0,
    "start_time": "2022-05-23T07:32:55.362Z"
   },
   {
    "duration": 0,
    "start_time": "2022-05-23T07:32:55.363Z"
   },
   {
    "duration": 0,
    "start_time": "2022-05-23T07:32:55.364Z"
   },
   {
    "duration": 0,
    "start_time": "2022-05-23T07:32:55.365Z"
   },
   {
    "duration": 0,
    "start_time": "2022-05-23T07:32:55.366Z"
   },
   {
    "duration": 0,
    "start_time": "2022-05-23T07:32:55.367Z"
   },
   {
    "duration": 0,
    "start_time": "2022-05-23T07:32:55.367Z"
   },
   {
    "duration": 0,
    "start_time": "2022-05-23T07:32:55.368Z"
   },
   {
    "duration": 0,
    "start_time": "2022-05-23T07:32:55.369Z"
   },
   {
    "duration": 0,
    "start_time": "2022-05-23T07:32:55.370Z"
   },
   {
    "duration": 0,
    "start_time": "2022-05-23T07:32:55.371Z"
   },
   {
    "duration": 20,
    "start_time": "2022-05-23T07:33:47.941Z"
   },
   {
    "duration": 665,
    "start_time": "2022-05-23T07:33:48.923Z"
   },
   {
    "duration": 11,
    "start_time": "2022-05-23T07:37:04.794Z"
   },
   {
    "duration": 3,
    "start_time": "2022-05-23T07:37:35.622Z"
   },
   {
    "duration": 15,
    "start_time": "2022-05-23T07:37:38.187Z"
   },
   {
    "duration": 655,
    "start_time": "2022-05-23T07:38:21.894Z"
   },
   {
    "duration": 15,
    "start_time": "2022-05-23T07:39:23.140Z"
   },
   {
    "duration": 652,
    "start_time": "2022-05-23T07:39:29.581Z"
   },
   {
    "duration": 1077,
    "start_time": "2022-05-23T08:02:25.029Z"
   },
   {
    "duration": 62,
    "start_time": "2022-05-23T08:02:26.108Z"
   },
   {
    "duration": 12,
    "start_time": "2022-05-23T08:02:26.172Z"
   },
   {
    "duration": 38,
    "start_time": "2022-05-23T08:02:26.186Z"
   },
   {
    "duration": 18,
    "start_time": "2022-05-23T08:02:26.226Z"
   },
   {
    "duration": 37,
    "start_time": "2022-05-23T08:02:26.245Z"
   },
   {
    "duration": 122,
    "start_time": "2022-05-23T08:02:26.284Z"
   },
   {
    "duration": 11,
    "start_time": "2022-05-23T08:02:26.407Z"
   },
   {
    "duration": 32,
    "start_time": "2022-05-23T08:02:26.419Z"
   },
   {
    "duration": 61,
    "start_time": "2022-05-23T08:02:26.453Z"
   },
   {
    "duration": 8,
    "start_time": "2022-05-23T08:02:26.516Z"
   },
   {
    "duration": 39,
    "start_time": "2022-05-23T08:02:26.525Z"
   },
   {
    "duration": 634,
    "start_time": "2022-05-23T08:02:26.566Z"
   },
   {
    "duration": 10,
    "start_time": "2022-05-23T08:02:27.203Z"
   },
   {
    "duration": 64,
    "start_time": "2022-05-23T08:02:27.214Z"
   },
   {
    "duration": 49,
    "start_time": "2022-05-23T08:02:27.279Z"
   },
   {
    "duration": 114,
    "start_time": "2022-05-23T08:02:27.329Z"
   },
   {
    "duration": 0,
    "start_time": "2022-05-23T08:02:27.444Z"
   },
   {
    "duration": 0,
    "start_time": "2022-05-23T08:02:27.445Z"
   },
   {
    "duration": 0,
    "start_time": "2022-05-23T08:02:27.446Z"
   },
   {
    "duration": 0,
    "start_time": "2022-05-23T08:02:27.447Z"
   },
   {
    "duration": 0,
    "start_time": "2022-05-23T08:02:27.448Z"
   },
   {
    "duration": 0,
    "start_time": "2022-05-23T08:02:27.449Z"
   },
   {
    "duration": 0,
    "start_time": "2022-05-23T08:02:27.451Z"
   },
   {
    "duration": 0,
    "start_time": "2022-05-23T08:02:27.452Z"
   },
   {
    "duration": 0,
    "start_time": "2022-05-23T08:02:27.453Z"
   },
   {
    "duration": 0,
    "start_time": "2022-05-23T08:02:27.455Z"
   },
   {
    "duration": 0,
    "start_time": "2022-05-23T08:02:27.456Z"
   },
   {
    "duration": 0,
    "start_time": "2022-05-23T08:02:27.458Z"
   },
   {
    "duration": 0,
    "start_time": "2022-05-23T08:02:27.459Z"
   },
   {
    "duration": 0,
    "start_time": "2022-05-23T08:02:27.460Z"
   },
   {
    "duration": 12,
    "start_time": "2022-05-23T08:03:31.231Z"
   },
   {
    "duration": 689,
    "start_time": "2022-05-23T08:03:38.374Z"
   },
   {
    "duration": 12,
    "start_time": "2022-05-23T08:04:45.450Z"
   },
   {
    "duration": 21,
    "start_time": "2022-05-23T08:05:47.650Z"
   },
   {
    "duration": 12,
    "start_time": "2022-05-23T08:05:58.926Z"
   },
   {
    "duration": 10,
    "start_time": "2022-05-23T08:06:06.378Z"
   },
   {
    "duration": 16,
    "start_time": "2022-05-23T08:06:16.398Z"
   },
   {
    "duration": 19,
    "start_time": "2022-05-23T08:07:08.910Z"
   },
   {
    "duration": 11,
    "start_time": "2022-05-23T08:07:09.453Z"
   },
   {
    "duration": 1073,
    "start_time": "2022-05-23T08:07:37.939Z"
   },
   {
    "duration": 64,
    "start_time": "2022-05-23T08:07:39.014Z"
   },
   {
    "duration": 12,
    "start_time": "2022-05-23T08:07:39.079Z"
   },
   {
    "duration": 23,
    "start_time": "2022-05-23T08:07:39.092Z"
   },
   {
    "duration": 18,
    "start_time": "2022-05-23T08:07:39.116Z"
   },
   {
    "duration": 27,
    "start_time": "2022-05-23T08:07:39.135Z"
   },
   {
    "duration": 110,
    "start_time": "2022-05-23T08:07:39.163Z"
   },
   {
    "duration": 10,
    "start_time": "2022-05-23T08:07:39.275Z"
   },
   {
    "duration": 14,
    "start_time": "2022-05-23T08:07:39.286Z"
   },
   {
    "duration": 48,
    "start_time": "2022-05-23T08:07:39.302Z"
   },
   {
    "duration": 8,
    "start_time": "2022-05-23T08:07:39.351Z"
   },
   {
    "duration": 22,
    "start_time": "2022-05-23T08:07:39.361Z"
   },
   {
    "duration": 646,
    "start_time": "2022-05-23T08:07:39.385Z"
   },
   {
    "duration": 3,
    "start_time": "2022-05-23T08:07:40.033Z"
   },
   {
    "duration": 17,
    "start_time": "2022-05-23T08:07:40.038Z"
   },
   {
    "duration": 13,
    "start_time": "2022-05-23T08:07:40.056Z"
   },
   {
    "duration": 10,
    "start_time": "2022-05-23T08:07:40.113Z"
   },
   {
    "duration": 685,
    "start_time": "2022-05-23T08:07:40.125Z"
   },
   {
    "duration": 11,
    "start_time": "2022-05-23T08:07:40.812Z"
   },
   {
    "duration": 12,
    "start_time": "2022-05-23T08:07:40.825Z"
   },
   {
    "duration": 9,
    "start_time": "2022-05-23T08:07:40.838Z"
   },
   {
    "duration": 67,
    "start_time": "2022-05-23T08:07:40.848Z"
   },
   {
    "duration": 2,
    "start_time": "2022-05-23T08:07:40.917Z"
   },
   {
    "duration": 6,
    "start_time": "2022-05-23T08:07:40.920Z"
   },
   {
    "duration": 5,
    "start_time": "2022-05-23T08:07:40.927Z"
   },
   {
    "duration": 6,
    "start_time": "2022-05-23T08:07:40.933Z"
   },
   {
    "duration": 6,
    "start_time": "2022-05-23T08:07:40.940Z"
   },
   {
    "duration": 23,
    "start_time": "2022-05-23T08:07:40.949Z"
   },
   {
    "duration": 179,
    "start_time": "2022-05-23T08:08:31.567Z"
   },
   {
    "duration": 136,
    "start_time": "2022-05-23T08:08:46.839Z"
   },
   {
    "duration": 3,
    "start_time": "2022-05-23T08:09:06.524Z"
   },
   {
    "duration": 113,
    "start_time": "2022-05-23T08:09:11.866Z"
   },
   {
    "duration": 117,
    "start_time": "2022-05-23T08:09:52.981Z"
   },
   {
    "duration": 123,
    "start_time": "2022-05-23T08:10:57.073Z"
   },
   {
    "duration": 1096,
    "start_time": "2022-05-23T08:11:25.921Z"
   },
   {
    "duration": 63,
    "start_time": "2022-05-23T08:11:27.019Z"
   },
   {
    "duration": 12,
    "start_time": "2022-05-23T08:11:27.083Z"
   },
   {
    "duration": 15,
    "start_time": "2022-05-23T08:11:27.097Z"
   },
   {
    "duration": 4,
    "start_time": "2022-05-23T08:11:27.113Z"
   },
   {
    "duration": 9,
    "start_time": "2022-05-23T08:11:27.118Z"
   },
   {
    "duration": 122,
    "start_time": "2022-05-23T08:11:27.128Z"
   },
   {
    "duration": 10,
    "start_time": "2022-05-23T08:11:27.251Z"
   },
   {
    "duration": 12,
    "start_time": "2022-05-23T08:11:27.263Z"
   },
   {
    "duration": 56,
    "start_time": "2022-05-23T08:11:27.277Z"
   },
   {
    "duration": 9,
    "start_time": "2022-05-23T08:11:27.335Z"
   },
   {
    "duration": 22,
    "start_time": "2022-05-23T08:11:27.345Z"
   },
   {
    "duration": 689,
    "start_time": "2022-05-23T08:11:27.369Z"
   },
   {
    "duration": 3,
    "start_time": "2022-05-23T08:11:28.061Z"
   },
   {
    "duration": 52,
    "start_time": "2022-05-23T08:11:28.066Z"
   },
   {
    "duration": 15,
    "start_time": "2022-05-23T08:11:28.120Z"
   },
   {
    "duration": 12,
    "start_time": "2022-05-23T08:11:28.137Z"
   },
   {
    "duration": 736,
    "start_time": "2022-05-23T08:11:28.151Z"
   },
   {
    "duration": 29,
    "start_time": "2022-05-23T08:11:28.889Z"
   },
   {
    "duration": 17,
    "start_time": "2022-05-23T08:11:28.920Z"
   },
   {
    "duration": 13,
    "start_time": "2022-05-23T08:11:28.939Z"
   },
   {
    "duration": 59,
    "start_time": "2022-05-23T08:11:28.953Z"
   },
   {
    "duration": 15,
    "start_time": "2022-05-23T08:11:29.014Z"
   },
   {
    "duration": 141,
    "start_time": "2022-05-23T08:11:29.030Z"
   },
   {
    "duration": 2,
    "start_time": "2022-05-23T08:11:29.173Z"
   },
   {
    "duration": 10,
    "start_time": "2022-05-23T08:11:29.176Z"
   },
   {
    "duration": 5,
    "start_time": "2022-05-23T08:11:29.188Z"
   },
   {
    "duration": 3,
    "start_time": "2022-05-23T08:11:29.211Z"
   },
   {
    "duration": 7,
    "start_time": "2022-05-23T08:11:29.216Z"
   },
   {
    "duration": 27,
    "start_time": "2022-05-23T08:11:29.225Z"
   },
   {
    "duration": 97,
    "start_time": "2022-05-23T08:12:41.727Z"
   },
   {
    "duration": 88,
    "start_time": "2022-05-23T08:14:24.637Z"
   },
   {
    "duration": 28,
    "start_time": "2022-05-23T08:14:57.669Z"
   },
   {
    "duration": 4,
    "start_time": "2022-05-23T08:17:52.892Z"
   },
   {
    "duration": 12,
    "start_time": "2022-05-23T08:18:04.493Z"
   },
   {
    "duration": 119,
    "start_time": "2022-05-23T08:18:16.593Z"
   },
   {
    "duration": 8,
    "start_time": "2022-05-23T08:21:48.051Z"
   },
   {
    "duration": 1057,
    "start_time": "2022-05-23T08:22:10.265Z"
   },
   {
    "duration": 64,
    "start_time": "2022-05-23T08:22:11.325Z"
   },
   {
    "duration": 13,
    "start_time": "2022-05-23T08:22:11.390Z"
   },
   {
    "duration": 38,
    "start_time": "2022-05-23T08:22:11.406Z"
   },
   {
    "duration": 37,
    "start_time": "2022-05-23T08:22:11.447Z"
   },
   {
    "duration": 27,
    "start_time": "2022-05-23T08:22:11.486Z"
   },
   {
    "duration": 167,
    "start_time": "2022-05-23T08:22:11.516Z"
   },
   {
    "duration": 12,
    "start_time": "2022-05-23T08:22:11.685Z"
   },
   {
    "duration": 52,
    "start_time": "2022-05-23T08:22:11.700Z"
   },
   {
    "duration": 81,
    "start_time": "2022-05-23T08:22:11.755Z"
   },
   {
    "duration": 9,
    "start_time": "2022-05-23T08:22:11.837Z"
   },
   {
    "duration": 45,
    "start_time": "2022-05-23T08:22:11.848Z"
   },
   {
    "duration": 652,
    "start_time": "2022-05-23T08:22:11.894Z"
   },
   {
    "duration": 3,
    "start_time": "2022-05-23T08:22:12.548Z"
   },
   {
    "duration": 19,
    "start_time": "2022-05-23T08:22:12.552Z"
   },
   {
    "duration": 46,
    "start_time": "2022-05-23T08:22:12.573Z"
   },
   {
    "duration": 10,
    "start_time": "2022-05-23T08:22:12.620Z"
   },
   {
    "duration": 706,
    "start_time": "2022-05-23T08:22:12.632Z"
   },
   {
    "duration": 8,
    "start_time": "2022-05-23T08:22:13.339Z"
   },
   {
    "duration": 19,
    "start_time": "2022-05-23T08:22:13.348Z"
   },
   {
    "duration": 54,
    "start_time": "2022-05-23T08:22:13.368Z"
   },
   {
    "duration": 14,
    "start_time": "2022-05-23T08:22:13.424Z"
   },
   {
    "duration": 17,
    "start_time": "2022-05-23T08:22:13.440Z"
   },
   {
    "duration": 55,
    "start_time": "2022-05-23T08:22:13.459Z"
   },
   {
    "duration": 9,
    "start_time": "2022-05-23T08:22:13.515Z"
   },
   {
    "duration": 8,
    "start_time": "2022-05-23T08:22:13.526Z"
   },
   {
    "duration": 11,
    "start_time": "2022-05-23T08:22:13.535Z"
   },
   {
    "duration": 10,
    "start_time": "2022-05-23T08:22:13.548Z"
   },
   {
    "duration": 8,
    "start_time": "2022-05-23T08:22:13.559Z"
   },
   {
    "duration": 8,
    "start_time": "2022-05-23T08:22:13.568Z"
   },
   {
    "duration": 26,
    "start_time": "2022-05-23T08:22:13.577Z"
   },
   {
    "duration": 20,
    "start_time": "2022-05-23T08:23:24.512Z"
   },
   {
    "duration": 1247,
    "start_time": "2022-05-23T08:23:30.393Z"
   },
   {
    "duration": 106,
    "start_time": "2022-05-23T08:23:31.643Z"
   },
   {
    "duration": 19,
    "start_time": "2022-05-23T08:23:31.759Z"
   },
   {
    "duration": 32,
    "start_time": "2022-05-23T08:23:31.781Z"
   },
   {
    "duration": 7,
    "start_time": "2022-05-23T08:23:31.815Z"
   },
   {
    "duration": 9,
    "start_time": "2022-05-23T08:23:31.824Z"
   },
   {
    "duration": 155,
    "start_time": "2022-05-23T08:23:31.835Z"
   },
   {
    "duration": 14,
    "start_time": "2022-05-23T08:23:31.993Z"
   },
   {
    "duration": 19,
    "start_time": "2022-05-23T08:23:32.009Z"
   },
   {
    "duration": 64,
    "start_time": "2022-05-23T08:23:32.032Z"
   },
   {
    "duration": 19,
    "start_time": "2022-05-23T08:23:32.098Z"
   },
   {
    "duration": 26,
    "start_time": "2022-05-23T08:23:32.119Z"
   },
   {
    "duration": 770,
    "start_time": "2022-05-23T08:23:32.147Z"
   },
   {
    "duration": 3,
    "start_time": "2022-05-23T08:23:32.920Z"
   },
   {
    "duration": 47,
    "start_time": "2022-05-23T08:23:32.924Z"
   },
   {
    "duration": 14,
    "start_time": "2022-05-23T08:23:33.012Z"
   },
   {
    "duration": 20,
    "start_time": "2022-05-23T08:23:33.028Z"
   },
   {
    "duration": 806,
    "start_time": "2022-05-23T08:23:33.050Z"
   },
   {
    "duration": 10,
    "start_time": "2022-05-23T08:23:33.859Z"
   },
   {
    "duration": 49,
    "start_time": "2022-05-23T08:23:33.871Z"
   },
   {
    "duration": 28,
    "start_time": "2022-05-23T08:23:33.929Z"
   },
   {
    "duration": 54,
    "start_time": "2022-05-23T08:23:33.959Z"
   },
   {
    "duration": 29,
    "start_time": "2022-05-23T08:23:34.015Z"
   },
   {
    "duration": 17,
    "start_time": "2022-05-23T08:23:34.046Z"
   },
   {
    "duration": 13,
    "start_time": "2022-05-23T08:23:34.065Z"
   },
   {
    "duration": 3,
    "start_time": "2022-05-23T08:23:34.080Z"
   },
   {
    "duration": 8,
    "start_time": "2022-05-23T08:23:34.085Z"
   },
   {
    "duration": 2,
    "start_time": "2022-05-23T08:23:34.113Z"
   },
   {
    "duration": 9,
    "start_time": "2022-05-23T08:23:34.117Z"
   },
   {
    "duration": 8,
    "start_time": "2022-05-23T08:23:34.128Z"
   },
   {
    "duration": 29,
    "start_time": "2022-05-23T08:23:34.138Z"
   },
   {
    "duration": 4,
    "start_time": "2022-05-23T08:26:06.103Z"
   },
   {
    "duration": 10,
    "start_time": "2022-05-23T08:26:17.140Z"
   },
   {
    "duration": 20299,
    "start_time": "2022-05-23T09:19:36.242Z"
   },
   {
    "duration": 221,
    "start_time": "2022-05-23T09:20:14.629Z"
   },
   {
    "duration": 23350,
    "start_time": "2022-05-23T09:20:30.794Z"
   },
   {
    "duration": 24675,
    "start_time": "2022-05-23T09:21:02.732Z"
   },
   {
    "duration": 24359,
    "start_time": "2022-05-23T09:23:10.758Z"
   },
   {
    "duration": 26965,
    "start_time": "2022-05-23T09:23:47.100Z"
   },
   {
    "duration": 23364,
    "start_time": "2022-05-23T09:25:34.495Z"
   },
   {
    "duration": 23510,
    "start_time": "2022-05-23T09:28:55.343Z"
   },
   {
    "duration": 26351,
    "start_time": "2022-05-23T09:31:46.525Z"
   },
   {
    "duration": 7084,
    "start_time": "2022-05-23T09:37:33.562Z"
   },
   {
    "duration": 243,
    "start_time": "2022-05-23T09:38:20.417Z"
   },
   {
    "duration": 14,
    "start_time": "2022-05-23T09:39:10.389Z"
   },
   {
    "duration": 15,
    "start_time": "2022-05-23T09:39:58.452Z"
   },
   {
    "duration": 3851,
    "start_time": "2022-05-23T09:40:16.030Z"
   },
   {
    "duration": 18149,
    "start_time": "2022-05-23T09:40:36.555Z"
   },
   {
    "duration": 25741,
    "start_time": "2022-05-23T09:41:22.393Z"
   },
   {
    "duration": 27026,
    "start_time": "2022-05-23T09:43:06.999Z"
   },
   {
    "duration": 144,
    "start_time": "2022-05-23T09:45:00.530Z"
   },
   {
    "duration": 1045,
    "start_time": "2022-05-23T11:26:47.145Z"
   },
   {
    "duration": 1089,
    "start_time": "2022-05-23T11:27:04.486Z"
   },
   {
    "duration": 1105,
    "start_time": "2022-05-23T11:27:26.325Z"
   },
   {
    "duration": 1203,
    "start_time": "2022-05-23T11:27:35.666Z"
   },
   {
    "duration": 1034,
    "start_time": "2022-05-23T11:27:42.166Z"
   },
   {
    "duration": 1075,
    "start_time": "2022-05-23T11:31:13.545Z"
   },
   {
    "duration": 1044,
    "start_time": "2022-05-23T11:31:27.100Z"
   },
   {
    "duration": 1002,
    "start_time": "2022-05-23T11:32:52.333Z"
   },
   {
    "duration": 31676,
    "start_time": "2022-05-23T11:33:27.358Z"
   },
   {
    "duration": 666,
    "start_time": "2022-05-23T11:34:16.387Z"
   },
   {
    "duration": 26,
    "start_time": "2022-05-23T11:56:00.331Z"
   },
   {
    "duration": 1212,
    "start_time": "2022-05-23T11:56:16.611Z"
   },
   {
    "duration": 79,
    "start_time": "2022-05-23T11:56:17.825Z"
   },
   {
    "duration": 24,
    "start_time": "2022-05-23T11:56:17.908Z"
   },
   {
    "duration": 18,
    "start_time": "2022-05-23T11:56:17.934Z"
   },
   {
    "duration": 4,
    "start_time": "2022-05-23T11:56:17.954Z"
   },
   {
    "duration": 7,
    "start_time": "2022-05-23T11:56:17.959Z"
   },
   {
    "duration": 130,
    "start_time": "2022-05-23T11:56:17.968Z"
   },
   {
    "duration": 11,
    "start_time": "2022-05-23T11:56:18.099Z"
   },
   {
    "duration": 38,
    "start_time": "2022-05-23T11:56:18.111Z"
   },
   {
    "duration": 49,
    "start_time": "2022-05-23T11:56:18.152Z"
   },
   {
    "duration": 9,
    "start_time": "2022-05-23T11:56:18.203Z"
   },
   {
    "duration": 50,
    "start_time": "2022-05-23T11:56:18.213Z"
   },
   {
    "duration": 734,
    "start_time": "2022-05-23T11:56:18.264Z"
   },
   {
    "duration": 10,
    "start_time": "2022-05-23T11:56:19.013Z"
   },
   {
    "duration": 26,
    "start_time": "2022-05-23T11:56:19.031Z"
   },
   {
    "duration": 22,
    "start_time": "2022-05-23T11:56:19.059Z"
   },
   {
    "duration": 45,
    "start_time": "2022-05-23T11:56:19.117Z"
   },
   {
    "duration": 726,
    "start_time": "2022-05-23T11:56:19.164Z"
   },
   {
    "duration": 25,
    "start_time": "2022-05-23T11:56:19.892Z"
   },
   {
    "duration": 30,
    "start_time": "2022-05-23T11:56:19.923Z"
   },
   {
    "duration": 22,
    "start_time": "2022-05-23T11:56:19.955Z"
   },
   {
    "duration": 24,
    "start_time": "2022-05-23T11:56:20.015Z"
   },
   {
    "duration": 20,
    "start_time": "2022-05-23T11:56:20.043Z"
   },
   {
    "duration": 23,
    "start_time": "2022-05-23T11:56:20.065Z"
   },
   {
    "duration": 142,
    "start_time": "2022-05-23T11:56:20.090Z"
   },
   {
    "duration": 0,
    "start_time": "2022-05-23T11:56:20.234Z"
   },
   {
    "duration": 0,
    "start_time": "2022-05-23T11:56:20.235Z"
   },
   {
    "duration": 0,
    "start_time": "2022-05-23T11:56:20.237Z"
   },
   {
    "duration": 0,
    "start_time": "2022-05-23T11:56:20.240Z"
   },
   {
    "duration": 0,
    "start_time": "2022-05-23T11:56:20.241Z"
   },
   {
    "duration": 0,
    "start_time": "2022-05-23T11:56:20.242Z"
   },
   {
    "duration": 0,
    "start_time": "2022-05-23T11:56:20.243Z"
   },
   {
    "duration": 0,
    "start_time": "2022-05-23T11:56:20.245Z"
   },
   {
    "duration": 0,
    "start_time": "2022-05-23T11:56:20.247Z"
   },
   {
    "duration": 0,
    "start_time": "2022-05-23T11:56:20.247Z"
   },
   {
    "duration": 0,
    "start_time": "2022-05-23T11:56:20.249Z"
   },
   {
    "duration": 8,
    "start_time": "2022-05-23T11:56:55.092Z"
   },
   {
    "duration": 9,
    "start_time": "2022-05-23T11:56:56.465Z"
   },
   {
    "duration": 20,
    "start_time": "2022-05-23T11:57:00.436Z"
   },
   {
    "duration": 638,
    "start_time": "2022-05-23T11:57:05.938Z"
   },
   {
    "duration": 22856,
    "start_time": "2022-05-23T11:57:25.470Z"
   },
   {
    "duration": 25371,
    "start_time": "2022-05-23T11:59:47.598Z"
   },
   {
    "duration": 12,
    "start_time": "2022-05-23T12:00:45.733Z"
   },
   {
    "duration": 407,
    "start_time": "2022-05-23T12:00:52.097Z"
   },
   {
    "duration": 406,
    "start_time": "2022-05-23T12:01:00.725Z"
   },
   {
    "duration": 10,
    "start_time": "2022-05-23T12:01:44.739Z"
   },
   {
    "duration": 149,
    "start_time": "2022-05-23T12:01:50.894Z"
   },
   {
    "duration": 11,
    "start_time": "2022-05-23T12:02:15.762Z"
   },
   {
    "duration": 14,
    "start_time": "2022-05-23T12:03:26.902Z"
   },
   {
    "duration": 282,
    "start_time": "2022-05-23T12:03:36.761Z"
   },
   {
    "duration": 1031,
    "start_time": "2022-05-23T12:03:48.373Z"
   },
   {
    "duration": 581,
    "start_time": "2022-05-23T12:04:40.355Z"
   },
   {
    "duration": 10,
    "start_time": "2022-05-23T12:04:57.588Z"
   },
   {
    "duration": 2704,
    "start_time": "2022-05-23T12:05:03.105Z"
   },
   {
    "duration": 572,
    "start_time": "2022-05-23T12:05:19.711Z"
   },
   {
    "duration": 1000,
    "start_time": "2022-05-23T12:05:44.093Z"
   },
   {
    "duration": 24548,
    "start_time": "2022-05-23T12:05:55.601Z"
   },
   {
    "duration": 419,
    "start_time": "2022-05-23T12:07:35.661Z"
   },
   {
    "duration": 361,
    "start_time": "2022-05-23T12:07:42.136Z"
   },
   {
    "duration": 207,
    "start_time": "2022-05-23T12:09:35.100Z"
   },
   {
    "duration": 199,
    "start_time": "2022-05-23T12:09:55.948Z"
   },
   {
    "duration": 2792,
    "start_time": "2022-05-23T12:15:54.341Z"
   },
   {
    "duration": 204,
    "start_time": "2022-05-23T12:16:38.063Z"
   },
   {
    "duration": 279,
    "start_time": "2022-05-23T12:17:53.496Z"
   },
   {
    "duration": 4,
    "start_time": "2022-05-23T12:18:23.087Z"
   },
   {
    "duration": 8,
    "start_time": "2022-05-23T12:18:51.782Z"
   },
   {
    "duration": 317,
    "start_time": "2022-05-23T12:19:52.903Z"
   },
   {
    "duration": 590,
    "start_time": "2022-05-23T12:21:39.008Z"
   },
   {
    "duration": 632,
    "start_time": "2022-05-23T12:22:26.702Z"
   },
   {
    "duration": 2087,
    "start_time": "2022-05-23T12:34:16.275Z"
   },
   {
    "duration": 10,
    "start_time": "2022-05-23T12:53:19.115Z"
   },
   {
    "duration": 11,
    "start_time": "2022-05-23T12:53:41.396Z"
   },
   {
    "duration": 16,
    "start_time": "2022-05-23T12:54:15.383Z"
   },
   {
    "duration": 629,
    "start_time": "2022-05-23T12:55:35.556Z"
   },
   {
    "duration": 16,
    "start_time": "2022-05-23T12:55:54.686Z"
   },
   {
    "duration": 21,
    "start_time": "2022-05-23T12:56:46.510Z"
   },
   {
    "duration": 13,
    "start_time": "2022-05-23T13:02:24.394Z"
   },
   {
    "duration": 119,
    "start_time": "2022-05-23T13:08:34.475Z"
   },
   {
    "duration": 2333,
    "start_time": "2022-05-23T13:08:38.068Z"
   },
   {
    "duration": 11,
    "start_time": "2022-05-23T13:09:01.066Z"
   },
   {
    "duration": 116,
    "start_time": "2022-05-23T13:09:44.220Z"
   },
   {
    "duration": 10,
    "start_time": "2022-05-23T13:09:44.901Z"
   },
   {
    "duration": 129,
    "start_time": "2022-05-23T13:10:17.385Z"
   },
   {
    "duration": 11,
    "start_time": "2022-05-23T13:10:18.163Z"
   },
   {
    "duration": 507,
    "start_time": "2022-05-23T13:26:38.908Z"
   },
   {
    "duration": 234,
    "start_time": "2022-05-23T13:26:44.070Z"
   },
   {
    "duration": 1670,
    "start_time": "2022-05-24T07:30:28.935Z"
   },
   {
    "duration": 144,
    "start_time": "2022-05-24T07:30:30.607Z"
   },
   {
    "duration": 15,
    "start_time": "2022-05-24T07:30:30.753Z"
   },
   {
    "duration": 22,
    "start_time": "2022-05-24T07:30:30.770Z"
   },
   {
    "duration": 22,
    "start_time": "2022-05-24T07:30:30.794Z"
   },
   {
    "duration": 36,
    "start_time": "2022-05-24T07:30:30.818Z"
   },
   {
    "duration": 130,
    "start_time": "2022-05-24T07:30:30.856Z"
   },
   {
    "duration": 12,
    "start_time": "2022-05-24T07:30:30.988Z"
   },
   {
    "duration": 22,
    "start_time": "2022-05-24T07:30:31.002Z"
   },
   {
    "duration": 102,
    "start_time": "2022-05-24T07:30:31.028Z"
   },
   {
    "duration": 14,
    "start_time": "2022-05-24T07:30:31.132Z"
   },
   {
    "duration": 41,
    "start_time": "2022-05-24T07:30:31.148Z"
   },
   {
    "duration": 745,
    "start_time": "2022-05-24T07:30:31.191Z"
   },
   {
    "duration": 4,
    "start_time": "2022-05-24T07:30:31.938Z"
   },
   {
    "duration": 48,
    "start_time": "2022-05-24T07:30:31.944Z"
   },
   {
    "duration": 19,
    "start_time": "2022-05-24T07:30:31.994Z"
   },
   {
    "duration": 83,
    "start_time": "2022-05-24T07:30:32.014Z"
   },
   {
    "duration": 759,
    "start_time": "2022-05-24T07:30:32.099Z"
   },
   {
    "duration": 24,
    "start_time": "2022-05-24T07:30:32.860Z"
   },
   {
    "duration": 13,
    "start_time": "2022-05-24T07:30:32.886Z"
   },
   {
    "duration": 24,
    "start_time": "2022-05-24T07:30:32.901Z"
   },
   {
    "duration": 70,
    "start_time": "2022-05-24T07:30:32.927Z"
   },
   {
    "duration": 15,
    "start_time": "2022-05-24T07:30:32.999Z"
   },
   {
    "duration": 68,
    "start_time": "2022-05-24T07:30:33.016Z"
   },
   {
    "duration": 8,
    "start_time": "2022-05-24T07:30:33.086Z"
   },
   {
    "duration": 14,
    "start_time": "2022-05-24T07:30:33.096Z"
   },
   {
    "duration": 22,
    "start_time": "2022-05-24T07:30:33.112Z"
   },
   {
    "duration": 3,
    "start_time": "2022-05-24T07:30:33.139Z"
   },
   {
    "duration": 13,
    "start_time": "2022-05-24T07:30:33.144Z"
   },
   {
    "duration": 3,
    "start_time": "2022-05-24T07:30:33.184Z"
   },
   {
    "duration": 15,
    "start_time": "2022-05-24T07:30:33.189Z"
   },
   {
    "duration": 10,
    "start_time": "2022-05-24T07:30:33.206Z"
   },
   {
    "duration": 359,
    "start_time": "2022-05-24T07:30:33.218Z"
   },
   {
    "duration": 286,
    "start_time": "2022-05-24T07:30:33.579Z"
   },
   {
    "duration": 520,
    "start_time": "2022-05-24T07:30:33.867Z"
   },
   {
    "duration": 373,
    "start_time": "2022-05-24T07:30:34.389Z"
   },
   {
    "duration": 616,
    "start_time": "2022-05-24T07:30:34.764Z"
   },
   {
    "duration": 121,
    "start_time": "2022-05-24T07:30:35.382Z"
   },
   {
    "duration": 11,
    "start_time": "2022-05-24T07:30:35.505Z"
   },
   {
    "duration": 250,
    "start_time": "2022-05-24T07:30:35.518Z"
   },
   {
    "duration": 125,
    "start_time": "2022-05-24T07:48:14.325Z"
   },
   {
    "duration": 12,
    "start_time": "2022-05-24T07:48:15.228Z"
   },
   {
    "duration": 142,
    "start_time": "2022-05-24T07:48:24.439Z"
   },
   {
    "duration": 110,
    "start_time": "2022-05-24T07:48:56.239Z"
   },
   {
    "duration": 13,
    "start_time": "2022-05-24T07:48:56.918Z"
   },
   {
    "duration": 22,
    "start_time": "2022-05-24T07:49:23.581Z"
   },
   {
    "duration": 21,
    "start_time": "2022-05-24T07:49:31.090Z"
   },
   {
    "duration": 126,
    "start_time": "2022-05-24T07:49:43.726Z"
   },
   {
    "duration": 11,
    "start_time": "2022-05-24T07:49:44.566Z"
   },
   {
    "duration": 154,
    "start_time": "2022-05-24T07:51:57.871Z"
   },
   {
    "duration": 23,
    "start_time": "2022-05-24T07:51:58.441Z"
   },
   {
    "duration": 20,
    "start_time": "2022-05-24T07:57:15.279Z"
   },
   {
    "duration": 147,
    "start_time": "2022-05-24T07:59:03.674Z"
   },
   {
    "duration": 21,
    "start_time": "2022-05-24T07:59:37.087Z"
   },
   {
    "duration": 21,
    "start_time": "2022-05-24T07:59:48.838Z"
   },
   {
    "duration": 132,
    "start_time": "2022-05-24T08:00:48.217Z"
   },
   {
    "duration": 10,
    "start_time": "2022-05-24T08:00:49.046Z"
   },
   {
    "duration": 130,
    "start_time": "2022-05-24T08:01:03.409Z"
   },
   {
    "duration": 14,
    "start_time": "2022-05-24T08:01:04.086Z"
   },
   {
    "duration": 114,
    "start_time": "2022-05-24T08:01:12.371Z"
   },
   {
    "duration": 16,
    "start_time": "2022-05-24T08:01:13.002Z"
   },
   {
    "duration": 200,
    "start_time": "2022-05-24T08:01:32.721Z"
   },
   {
    "duration": 958,
    "start_time": "2022-05-24T08:02:15.471Z"
   },
   {
    "duration": 32,
    "start_time": "2022-05-24T08:03:50.494Z"
   },
   {
    "duration": 118,
    "start_time": "2022-05-24T08:04:10.831Z"
   },
   {
    "duration": 14,
    "start_time": "2022-05-24T08:04:12.227Z"
   },
   {
    "duration": 1022,
    "start_time": "2022-05-24T08:04:16.594Z"
   },
   {
    "duration": 136,
    "start_time": "2022-05-24T08:04:48.828Z"
   },
   {
    "duration": 15,
    "start_time": "2022-05-24T08:04:49.401Z"
   },
   {
    "duration": 1073,
    "start_time": "2022-05-24T08:04:52.688Z"
   },
   {
    "duration": 166,
    "start_time": "2022-05-24T08:06:09.176Z"
   },
   {
    "duration": 12,
    "start_time": "2022-05-24T08:06:09.942Z"
   },
   {
    "duration": 12,
    "start_time": "2022-05-24T08:08:39.570Z"
   },
   {
    "duration": 15,
    "start_time": "2022-05-24T08:12:44.656Z"
   },
   {
    "duration": 85,
    "start_time": "2022-05-24T08:12:54.645Z"
   },
   {
    "duration": 174,
    "start_time": "2022-05-24T08:17:52.022Z"
   },
   {
    "duration": 17,
    "start_time": "2022-05-24T08:17:53.300Z"
   },
   {
    "duration": 1093,
    "start_time": "2022-05-24T08:18:02.871Z"
   },
   {
    "duration": 17,
    "start_time": "2022-05-24T08:18:12.014Z"
   },
   {
    "duration": 17,
    "start_time": "2022-05-24T08:18:14.706Z"
   },
   {
    "duration": 71,
    "start_time": "2022-05-24T08:18:17.308Z"
   },
   {
    "duration": 164,
    "start_time": "2022-05-24T08:18:56.035Z"
   },
   {
    "duration": 16,
    "start_time": "2022-05-24T08:18:56.924Z"
   },
   {
    "duration": 1302,
    "start_time": "2022-05-24T08:19:01.535Z"
   },
   {
    "duration": 30,
    "start_time": "2022-05-24T08:19:04.387Z"
   },
   {
    "duration": 15,
    "start_time": "2022-05-24T08:19:11.423Z"
   },
   {
    "duration": 81,
    "start_time": "2022-05-24T08:19:11.940Z"
   },
   {
    "duration": 217,
    "start_time": "2022-05-24T08:20:13.858Z"
   },
   {
    "duration": 15,
    "start_time": "2022-05-24T08:20:15.452Z"
   },
   {
    "duration": 1494,
    "start_time": "2022-05-24T08:20:17.843Z"
   },
   {
    "duration": 19,
    "start_time": "2022-05-24T08:21:08.023Z"
   },
   {
    "duration": 20,
    "start_time": "2022-05-24T08:21:10.039Z"
   },
   {
    "duration": 82,
    "start_time": "2022-05-24T08:21:10.702Z"
   },
   {
    "duration": 182,
    "start_time": "2022-05-24T08:22:26.665Z"
   },
   {
    "duration": 15,
    "start_time": "2022-05-24T08:22:27.531Z"
   },
   {
    "duration": 1230,
    "start_time": "2022-05-24T08:22:29.015Z"
   },
   {
    "duration": 1355,
    "start_time": "2022-05-24T08:23:02.307Z"
   },
   {
    "duration": 78,
    "start_time": "2022-05-24T08:23:03.665Z"
   },
   {
    "duration": 14,
    "start_time": "2022-05-24T08:23:03.746Z"
   },
   {
    "duration": 25,
    "start_time": "2022-05-24T08:23:03.763Z"
   },
   {
    "duration": 5,
    "start_time": "2022-05-24T08:23:03.790Z"
   },
   {
    "duration": 10,
    "start_time": "2022-05-24T08:23:03.796Z"
   },
   {
    "duration": 194,
    "start_time": "2022-05-24T08:23:03.808Z"
   },
   {
    "duration": 18,
    "start_time": "2022-05-24T08:23:04.004Z"
   },
   {
    "duration": 16,
    "start_time": "2022-05-24T08:23:04.025Z"
   },
   {
    "duration": 119,
    "start_time": "2022-05-24T08:23:04.046Z"
   },
   {
    "duration": 23,
    "start_time": "2022-05-24T08:23:04.168Z"
   },
   {
    "duration": 39,
    "start_time": "2022-05-24T08:23:04.194Z"
   },
   {
    "duration": 880,
    "start_time": "2022-05-24T08:23:04.236Z"
   },
   {
    "duration": 3,
    "start_time": "2022-05-24T08:23:05.120Z"
   },
   {
    "duration": 18,
    "start_time": "2022-05-24T08:23:05.125Z"
   },
   {
    "duration": 61,
    "start_time": "2022-05-24T08:23:05.145Z"
   },
   {
    "duration": 87,
    "start_time": "2022-05-24T08:23:05.208Z"
   },
   {
    "duration": 980,
    "start_time": "2022-05-24T08:23:05.297Z"
   },
   {
    "duration": 14,
    "start_time": "2022-05-24T08:23:06.283Z"
   },
   {
    "duration": 26,
    "start_time": "2022-05-24T08:23:06.299Z"
   },
   {
    "duration": 65,
    "start_time": "2022-05-24T08:23:06.327Z"
   },
   {
    "duration": 21,
    "start_time": "2022-05-24T08:23:06.395Z"
   },
   {
    "duration": 13,
    "start_time": "2022-05-24T08:23:06.418Z"
   },
   {
    "duration": 25,
    "start_time": "2022-05-24T08:23:06.485Z"
   },
   {
    "duration": 8,
    "start_time": "2022-05-24T08:23:06.512Z"
   },
   {
    "duration": 9,
    "start_time": "2022-05-24T08:23:06.522Z"
   },
   {
    "duration": 82,
    "start_time": "2022-05-24T08:23:06.533Z"
   },
   {
    "duration": 3,
    "start_time": "2022-05-24T08:23:06.620Z"
   },
   {
    "duration": 6,
    "start_time": "2022-05-24T08:23:06.625Z"
   },
   {
    "duration": 6,
    "start_time": "2022-05-24T08:23:06.632Z"
   },
   {
    "duration": 5,
    "start_time": "2022-05-24T08:23:06.640Z"
   },
   {
    "duration": 5,
    "start_time": "2022-05-24T08:23:06.647Z"
   },
   {
    "duration": 475,
    "start_time": "2022-05-24T08:23:06.654Z"
   },
   {
    "duration": 320,
    "start_time": "2022-05-24T08:23:07.131Z"
   },
   {
    "duration": 752,
    "start_time": "2022-05-24T08:23:07.453Z"
   },
   {
    "duration": 449,
    "start_time": "2022-05-24T08:23:08.209Z"
   },
   {
    "duration": 716,
    "start_time": "2022-05-24T08:23:08.660Z"
   },
   {
    "duration": 170,
    "start_time": "2022-05-24T08:23:09.387Z"
   },
   {
    "duration": 12,
    "start_time": "2022-05-24T08:23:09.559Z"
   },
   {
    "duration": 1212,
    "start_time": "2022-05-24T08:23:09.572Z"
   },
   {
    "duration": 32,
    "start_time": "2022-05-24T08:23:10.788Z"
   },
   {
    "duration": 65,
    "start_time": "2022-05-24T08:23:10.822Z"
   },
   {
    "duration": 295,
    "start_time": "2022-05-24T08:23:10.889Z"
   },
   {
    "duration": 803,
    "start_time": "2022-05-24T08:26:22.947Z"
   },
   {
    "duration": 685,
    "start_time": "2022-05-24T08:26:34.988Z"
   },
   {
    "duration": 58,
    "start_time": "2022-05-24T08:27:05.242Z"
   },
   {
    "duration": 13,
    "start_time": "2022-05-24T08:27:20.125Z"
   },
   {
    "duration": 660,
    "start_time": "2022-05-24T08:27:37.481Z"
   },
   {
    "duration": 569,
    "start_time": "2022-05-24T08:27:45.958Z"
   },
   {
    "duration": 347,
    "start_time": "2022-05-24T08:29:06.881Z"
   },
   {
    "duration": 283,
    "start_time": "2022-05-24T08:29:15.848Z"
   },
   {
    "duration": 1297,
    "start_time": "2022-05-24T08:30:51.469Z"
   },
   {
    "duration": 72,
    "start_time": "2022-05-24T08:30:52.768Z"
   },
   {
    "duration": 15,
    "start_time": "2022-05-24T08:30:52.842Z"
   },
   {
    "duration": 27,
    "start_time": "2022-05-24T08:30:52.859Z"
   },
   {
    "duration": 28,
    "start_time": "2022-05-24T08:30:52.887Z"
   },
   {
    "duration": 7,
    "start_time": "2022-05-24T08:30:52.917Z"
   },
   {
    "duration": 112,
    "start_time": "2022-05-24T08:30:52.925Z"
   },
   {
    "duration": 16,
    "start_time": "2022-05-24T08:30:53.040Z"
   },
   {
    "duration": 26,
    "start_time": "2022-05-24T08:30:53.058Z"
   },
   {
    "duration": 84,
    "start_time": "2022-05-24T08:30:53.089Z"
   },
   {
    "duration": 10,
    "start_time": "2022-05-24T08:30:53.174Z"
   },
   {
    "duration": 51,
    "start_time": "2022-05-24T08:30:53.186Z"
   },
   {
    "duration": 750,
    "start_time": "2022-05-24T08:30:53.239Z"
   },
   {
    "duration": 3,
    "start_time": "2022-05-24T08:30:53.992Z"
   },
   {
    "duration": 25,
    "start_time": "2022-05-24T08:30:53.997Z"
   },
   {
    "duration": 68,
    "start_time": "2022-05-24T08:30:54.024Z"
   },
   {
    "duration": 27,
    "start_time": "2022-05-24T08:30:54.094Z"
   },
   {
    "duration": 852,
    "start_time": "2022-05-24T08:30:54.123Z"
   },
   {
    "duration": 8,
    "start_time": "2022-05-24T08:30:54.984Z"
   },
   {
    "duration": 23,
    "start_time": "2022-05-24T08:30:54.994Z"
   },
   {
    "duration": 78,
    "start_time": "2022-05-24T08:30:55.019Z"
   },
   {
    "duration": 19,
    "start_time": "2022-05-24T08:30:55.099Z"
   },
   {
    "duration": 12,
    "start_time": "2022-05-24T08:30:55.120Z"
   },
   {
    "duration": 66,
    "start_time": "2022-05-24T08:30:55.134Z"
   },
   {
    "duration": 10,
    "start_time": "2022-05-24T08:30:55.202Z"
   },
   {
    "duration": 17,
    "start_time": "2022-05-24T08:30:55.214Z"
   },
   {
    "duration": 26,
    "start_time": "2022-05-24T08:30:55.233Z"
   },
   {
    "duration": 23,
    "start_time": "2022-05-24T08:30:55.262Z"
   },
   {
    "duration": 6,
    "start_time": "2022-05-24T08:30:55.288Z"
   },
   {
    "duration": 12,
    "start_time": "2022-05-24T08:30:55.296Z"
   },
   {
    "duration": 10,
    "start_time": "2022-05-24T08:30:55.310Z"
   },
   {
    "duration": 6,
    "start_time": "2022-05-24T08:30:55.322Z"
   },
   {
    "duration": 370,
    "start_time": "2022-05-24T08:30:55.330Z"
   },
   {
    "duration": 258,
    "start_time": "2022-05-24T08:30:55.703Z"
   },
   {
    "duration": 530,
    "start_time": "2022-05-24T08:30:55.963Z"
   },
   {
    "duration": 388,
    "start_time": "2022-05-24T08:30:56.495Z"
   },
   {
    "duration": 639,
    "start_time": "2022-05-24T08:30:56.885Z"
   },
   {
    "duration": 149,
    "start_time": "2022-05-24T08:30:57.525Z"
   },
   {
    "duration": 15,
    "start_time": "2022-05-24T08:30:57.677Z"
   },
   {
    "duration": 1061,
    "start_time": "2022-05-24T08:30:57.695Z"
   },
   {
    "duration": 31,
    "start_time": "2022-05-24T08:30:58.758Z"
   },
   {
    "duration": 17,
    "start_time": "2022-05-24T08:30:58.791Z"
   },
   {
    "duration": 212,
    "start_time": "2022-05-24T08:30:58.810Z"
   },
   {
    "duration": 4,
    "start_time": "2022-05-24T08:32:28.042Z"
   },
   {
    "duration": 13,
    "start_time": "2022-05-24T08:32:37.970Z"
   },
   {
    "duration": 116,
    "start_time": "2022-05-24T08:33:21.166Z"
   },
   {
    "duration": 8,
    "start_time": "2022-05-24T08:33:28.934Z"
   },
   {
    "duration": 219,
    "start_time": "2022-05-24T08:34:08.126Z"
   },
   {
    "duration": 160,
    "start_time": "2022-05-24T08:34:17.748Z"
   },
   {
    "duration": 14,
    "start_time": "2022-05-24T08:34:40.591Z"
   },
   {
    "duration": 7,
    "start_time": "2022-05-24T08:35:24.234Z"
   },
   {
    "duration": 14,
    "start_time": "2022-05-24T08:35:39.103Z"
   },
   {
    "duration": 19,
    "start_time": "2022-05-24T08:35:50.696Z"
   },
   {
    "duration": 11,
    "start_time": "2022-05-24T08:55:36.363Z"
   },
   {
    "duration": 219,
    "start_time": "2022-05-24T08:55:57.830Z"
   },
   {
    "duration": 1426,
    "start_time": "2022-05-25T11:21:55.265Z"
   },
   {
    "duration": 132,
    "start_time": "2022-05-25T11:21:56.694Z"
   },
   {
    "duration": 13,
    "start_time": "2022-05-25T11:21:56.828Z"
   },
   {
    "duration": 16,
    "start_time": "2022-05-25T11:21:56.844Z"
   },
   {
    "duration": 5,
    "start_time": "2022-05-25T11:21:56.862Z"
   },
   {
    "duration": 13,
    "start_time": "2022-05-25T11:21:56.869Z"
   },
   {
    "duration": 168,
    "start_time": "2022-05-25T11:21:56.884Z"
   },
   {
    "duration": 18,
    "start_time": "2022-05-25T11:21:57.055Z"
   },
   {
    "duration": 15,
    "start_time": "2022-05-25T11:21:57.075Z"
   },
   {
    "duration": 65,
    "start_time": "2022-05-25T11:21:57.093Z"
   },
   {
    "duration": 10,
    "start_time": "2022-05-25T11:21:57.161Z"
   },
   {
    "duration": 48,
    "start_time": "2022-05-25T11:21:57.172Z"
   },
   {
    "duration": 777,
    "start_time": "2022-05-25T11:21:57.222Z"
   },
   {
    "duration": 4,
    "start_time": "2022-05-25T11:21:58.001Z"
   },
   {
    "duration": 31,
    "start_time": "2022-05-25T11:21:58.008Z"
   },
   {
    "duration": 67,
    "start_time": "2022-05-25T11:21:58.041Z"
   },
   {
    "duration": 26,
    "start_time": "2022-05-25T11:21:58.110Z"
   },
   {
    "duration": 894,
    "start_time": "2022-05-25T11:21:58.138Z"
   },
   {
    "duration": 9,
    "start_time": "2022-05-25T11:21:59.034Z"
   },
   {
    "duration": 13,
    "start_time": "2022-05-25T11:21:59.045Z"
   },
   {
    "duration": 55,
    "start_time": "2022-05-25T11:21:59.059Z"
   },
   {
    "duration": 16,
    "start_time": "2022-05-25T11:21:59.119Z"
   },
   {
    "duration": 13,
    "start_time": "2022-05-25T11:21:59.137Z"
   },
   {
    "duration": 64,
    "start_time": "2022-05-25T11:21:59.151Z"
   },
   {
    "duration": 8,
    "start_time": "2022-05-25T11:21:59.220Z"
   },
   {
    "duration": 10,
    "start_time": "2022-05-25T11:21:59.229Z"
   },
   {
    "duration": 75,
    "start_time": "2022-05-25T11:21:59.241Z"
   },
   {
    "duration": 2,
    "start_time": "2022-05-25T11:21:59.321Z"
   },
   {
    "duration": 9,
    "start_time": "2022-05-25T11:21:59.325Z"
   },
   {
    "duration": 4,
    "start_time": "2022-05-25T11:21:59.336Z"
   },
   {
    "duration": 4,
    "start_time": "2022-05-25T11:21:59.342Z"
   },
   {
    "duration": 5,
    "start_time": "2022-05-25T11:21:59.348Z"
   },
   {
    "duration": 411,
    "start_time": "2022-05-25T11:21:59.354Z"
   },
   {
    "duration": 286,
    "start_time": "2022-05-25T11:21:59.767Z"
   },
   {
    "duration": 603,
    "start_time": "2022-05-25T11:22:00.054Z"
   },
   {
    "duration": 373,
    "start_time": "2022-05-25T11:22:00.659Z"
   },
   {
    "duration": 771,
    "start_time": "2022-05-25T11:22:01.034Z"
   },
   {
    "duration": 183,
    "start_time": "2022-05-25T11:22:01.807Z"
   },
   {
    "duration": 21,
    "start_time": "2022-05-25T11:22:01.992Z"
   },
   {
    "duration": 1042,
    "start_time": "2022-05-25T11:22:02.017Z"
   },
   {
    "duration": 45,
    "start_time": "2022-05-25T11:22:03.062Z"
   },
   {
    "duration": 12,
    "start_time": "2022-05-25T11:22:03.117Z"
   },
   {
    "duration": 17,
    "start_time": "2022-05-25T11:22:03.130Z"
   },
   {
    "duration": 390,
    "start_time": "2022-05-25T11:22:03.148Z"
   },
   {
    "duration": 211,
    "start_time": "2022-05-25T11:28:20.750Z"
   },
   {
    "duration": 234,
    "start_time": "2022-05-25T11:28:46.259Z"
   },
   {
    "duration": 143,
    "start_time": "2022-05-25T11:29:03.630Z"
   },
   {
    "duration": 171,
    "start_time": "2022-05-25T11:29:08.090Z"
   },
   {
    "duration": 258,
    "start_time": "2022-05-25T11:29:46.538Z"
   },
   {
    "duration": 686,
    "start_time": "2022-05-25T11:40:34.517Z"
   },
   {
    "duration": 1207,
    "start_time": "2022-05-25T11:47:02.077Z"
   },
   {
    "duration": 1404,
    "start_time": "2022-05-25T11:47:26.733Z"
   },
   {
    "duration": 561,
    "start_time": "2022-05-25T12:02:12.236Z"
   },
   {
    "duration": 150,
    "start_time": "2022-05-25T12:06:02.346Z"
   },
   {
    "duration": 21,
    "start_time": "2022-05-25T12:06:10.306Z"
   },
   {
    "duration": 14,
    "start_time": "2022-05-25T12:06:16.668Z"
   },
   {
    "duration": 707,
    "start_time": "2022-05-25T12:06:24.199Z"
   },
   {
    "duration": 1351,
    "start_time": "2022-05-25T18:42:26.608Z"
   },
   {
    "duration": 255,
    "start_time": "2022-05-25T18:42:27.961Z"
   },
   {
    "duration": 18,
    "start_time": "2022-05-25T18:42:28.218Z"
   },
   {
    "duration": 16,
    "start_time": "2022-05-25T18:42:28.239Z"
   },
   {
    "duration": 5,
    "start_time": "2022-05-25T18:42:28.256Z"
   },
   {
    "duration": 13,
    "start_time": "2022-05-25T18:42:28.262Z"
   },
   {
    "duration": 138,
    "start_time": "2022-05-25T18:42:28.277Z"
   },
   {
    "duration": 14,
    "start_time": "2022-05-25T18:42:28.417Z"
   },
   {
    "duration": 21,
    "start_time": "2022-05-25T18:42:28.433Z"
   },
   {
    "duration": 48,
    "start_time": "2022-05-25T18:42:28.456Z"
   },
   {
    "duration": 7,
    "start_time": "2022-05-25T18:42:28.506Z"
   },
   {
    "duration": 27,
    "start_time": "2022-05-25T18:42:28.522Z"
   },
   {
    "duration": 726,
    "start_time": "2022-05-25T18:42:28.550Z"
   },
   {
    "duration": 3,
    "start_time": "2022-05-25T18:42:29.279Z"
   },
   {
    "duration": 42,
    "start_time": "2022-05-25T18:42:29.283Z"
   },
   {
    "duration": 18,
    "start_time": "2022-05-25T18:42:29.327Z"
   },
   {
    "duration": 20,
    "start_time": "2022-05-25T18:42:29.346Z"
   },
   {
    "duration": 817,
    "start_time": "2022-05-25T18:42:29.367Z"
   },
   {
    "duration": 8,
    "start_time": "2022-05-25T18:42:30.186Z"
   },
   {
    "duration": 37,
    "start_time": "2022-05-25T18:42:30.195Z"
   },
   {
    "duration": 35,
    "start_time": "2022-05-25T18:42:30.234Z"
   },
   {
    "duration": 57,
    "start_time": "2022-05-25T18:42:30.271Z"
   },
   {
    "duration": 12,
    "start_time": "2022-05-25T18:42:30.330Z"
   },
   {
    "duration": 21,
    "start_time": "2022-05-25T18:42:30.344Z"
   },
   {
    "duration": 7,
    "start_time": "2022-05-25T18:42:30.366Z"
   },
   {
    "duration": 14,
    "start_time": "2022-05-25T18:42:30.375Z"
   },
   {
    "duration": 44,
    "start_time": "2022-05-25T18:42:30.390Z"
   },
   {
    "duration": 2,
    "start_time": "2022-05-25T18:42:30.439Z"
   },
   {
    "duration": 11,
    "start_time": "2022-05-25T18:42:30.443Z"
   },
   {
    "duration": 16,
    "start_time": "2022-05-25T18:42:30.456Z"
   },
   {
    "duration": 12,
    "start_time": "2022-05-25T18:42:30.474Z"
   },
   {
    "duration": 21,
    "start_time": "2022-05-25T18:42:30.488Z"
   },
   {
    "duration": 333,
    "start_time": "2022-05-25T18:42:30.511Z"
   },
   {
    "duration": 254,
    "start_time": "2022-05-25T18:42:30.846Z"
   },
   {
    "duration": 529,
    "start_time": "2022-05-25T18:42:31.102Z"
   },
   {
    "duration": 375,
    "start_time": "2022-05-25T18:42:31.633Z"
   },
   {
    "duration": 646,
    "start_time": "2022-05-25T18:42:32.010Z"
   },
   {
    "duration": 160,
    "start_time": "2022-05-25T18:42:32.659Z"
   },
   {
    "duration": 16,
    "start_time": "2022-05-25T18:42:32.820Z"
   },
   {
    "duration": 994,
    "start_time": "2022-05-25T18:42:32.838Z"
   },
   {
    "duration": 15,
    "start_time": "2022-05-25T18:42:33.834Z"
   },
   {
    "duration": 16,
    "start_time": "2022-05-25T18:42:33.851Z"
   },
   {
    "duration": 69,
    "start_time": "2022-05-25T18:42:33.869Z"
   },
   {
    "duration": 227,
    "start_time": "2022-05-25T18:42:33.940Z"
   },
   {
    "duration": 581,
    "start_time": "2022-05-25T18:43:39.272Z"
   },
   {
    "duration": 10,
    "start_time": "2022-05-25T18:44:04.660Z"
   },
   {
    "duration": 10,
    "start_time": "2022-05-25T18:45:30.378Z"
   },
   {
    "duration": 9,
    "start_time": "2022-05-25T18:45:44.880Z"
   },
   {
    "duration": 5,
    "start_time": "2022-05-25T18:46:05.692Z"
   },
   {
    "duration": 5,
    "start_time": "2022-05-25T18:46:19.566Z"
   },
   {
    "duration": 9,
    "start_time": "2022-05-25T18:46:24.856Z"
   },
   {
    "duration": 4,
    "start_time": "2022-05-25T18:47:40.670Z"
   },
   {
    "duration": 159,
    "start_time": "2022-05-25T18:51:37.593Z"
   },
   {
    "duration": 20,
    "start_time": "2022-05-25T18:53:14.535Z"
   },
   {
    "duration": 10,
    "start_time": "2022-05-25T18:53:21.657Z"
   },
   {
    "duration": 19,
    "start_time": "2022-05-25T18:53:41.515Z"
   },
   {
    "duration": 49,
    "start_time": "2022-05-25T18:54:04.639Z"
   },
   {
    "duration": 66,
    "start_time": "2022-05-25T18:54:10.127Z"
   },
   {
    "duration": 25,
    "start_time": "2022-05-25T18:54:35.919Z"
   },
   {
    "duration": 39,
    "start_time": "2022-05-25T18:54:37.082Z"
   },
   {
    "duration": 1268,
    "start_time": "2022-05-25T18:58:48.018Z"
   },
   {
    "duration": 83,
    "start_time": "2022-05-25T18:58:49.288Z"
   },
   {
    "duration": 14,
    "start_time": "2022-05-25T18:58:49.373Z"
   },
   {
    "duration": 19,
    "start_time": "2022-05-25T18:58:49.390Z"
   },
   {
    "duration": 26,
    "start_time": "2022-05-25T18:58:49.411Z"
   },
   {
    "duration": 10,
    "start_time": "2022-05-25T18:58:49.439Z"
   },
   {
    "duration": 128,
    "start_time": "2022-05-25T18:58:49.451Z"
   },
   {
    "duration": 14,
    "start_time": "2022-05-25T18:58:49.580Z"
   },
   {
    "duration": 11,
    "start_time": "2022-05-25T18:58:49.596Z"
   },
   {
    "duration": 65,
    "start_time": "2022-05-25T18:58:49.610Z"
   },
   {
    "duration": 8,
    "start_time": "2022-05-25T18:58:49.678Z"
   },
   {
    "duration": 22,
    "start_time": "2022-05-25T18:58:49.687Z"
   },
   {
    "duration": 715,
    "start_time": "2022-05-25T18:58:49.722Z"
   },
   {
    "duration": 3,
    "start_time": "2022-05-25T18:58:50.439Z"
   },
   {
    "duration": 16,
    "start_time": "2022-05-25T18:58:50.444Z"
   },
   {
    "duration": 12,
    "start_time": "2022-05-25T18:58:50.461Z"
   },
   {
    "duration": 72,
    "start_time": "2022-05-25T18:58:50.475Z"
   },
   {
    "duration": 724,
    "start_time": "2022-05-25T18:58:50.549Z"
   },
   {
    "duration": 9,
    "start_time": "2022-05-25T18:58:51.276Z"
   },
   {
    "duration": 43,
    "start_time": "2022-05-25T18:58:51.287Z"
   },
   {
    "duration": 24,
    "start_time": "2022-05-25T18:58:51.331Z"
   },
   {
    "duration": 16,
    "start_time": "2022-05-25T18:58:51.356Z"
   },
   {
    "duration": 21,
    "start_time": "2022-05-25T18:58:51.424Z"
   },
   {
    "duration": 15,
    "start_time": "2022-05-25T18:58:51.447Z"
   },
   {
    "duration": 6,
    "start_time": "2022-05-25T18:58:51.464Z"
   },
   {
    "duration": 9,
    "start_time": "2022-05-25T18:58:51.471Z"
   },
   {
    "duration": 25,
    "start_time": "2022-05-25T18:58:51.524Z"
   },
   {
    "duration": 2,
    "start_time": "2022-05-25T18:58:51.552Z"
   },
   {
    "duration": 5,
    "start_time": "2022-05-25T18:58:51.556Z"
   },
   {
    "duration": 5,
    "start_time": "2022-05-25T18:58:51.563Z"
   },
   {
    "duration": 5,
    "start_time": "2022-05-25T18:58:51.569Z"
   },
   {
    "duration": 6,
    "start_time": "2022-05-25T18:58:51.575Z"
   },
   {
    "duration": 319,
    "start_time": "2022-05-25T18:58:51.582Z"
   },
   {
    "duration": 255,
    "start_time": "2022-05-25T18:58:51.904Z"
   },
   {
    "duration": 536,
    "start_time": "2022-05-25T18:58:52.161Z"
   },
   {
    "duration": 362,
    "start_time": "2022-05-25T18:58:52.700Z"
   },
   {
    "duration": 599,
    "start_time": "2022-05-25T18:58:53.064Z"
   },
   {
    "duration": 131,
    "start_time": "2022-05-25T18:58:53.665Z"
   },
   {
    "duration": 9,
    "start_time": "2022-05-25T18:58:53.798Z"
   },
   {
    "duration": 27,
    "start_time": "2022-05-25T18:58:53.809Z"
   },
   {
    "duration": 77,
    "start_time": "2022-05-25T18:58:53.838Z"
   },
   {
    "duration": 1008,
    "start_time": "2022-05-25T18:58:53.922Z"
   },
   {
    "duration": 14,
    "start_time": "2022-05-25T18:58:54.932Z"
   },
   {
    "duration": 15,
    "start_time": "2022-05-25T18:58:54.948Z"
   },
   {
    "duration": 65,
    "start_time": "2022-05-25T18:58:54.964Z"
   },
   {
    "duration": 20,
    "start_time": "2022-05-25T18:58:55.031Z"
   },
   {
    "duration": 225,
    "start_time": "2022-05-25T18:58:55.053Z"
   },
   {
    "duration": 12,
    "start_time": "2022-05-25T18:59:53.336Z"
   },
   {
    "duration": 15,
    "start_time": "2022-05-25T18:59:55.679Z"
   },
   {
    "duration": 220,
    "start_time": "2022-05-25T19:00:09.700Z"
   },
   {
    "duration": 723,
    "start_time": "2022-05-25T19:20:37.475Z"
   },
   {
    "duration": 1222,
    "start_time": "2022-05-25T19:20:56.651Z"
   },
   {
    "duration": 15,
    "start_time": "2022-05-25T19:31:56.734Z"
   },
   {
    "duration": 16,
    "start_time": "2022-05-25T19:32:27.008Z"
   },
   {
    "duration": 15,
    "start_time": "2022-05-25T19:32:37.121Z"
   },
   {
    "duration": 20,
    "start_time": "2022-05-25T19:33:58.216Z"
   },
   {
    "duration": 1266,
    "start_time": "2022-05-25T19:34:19.965Z"
   },
   {
    "duration": 273,
    "start_time": "2022-05-25T19:34:21.234Z"
   },
   {
    "duration": 14,
    "start_time": "2022-05-25T19:34:21.509Z"
   },
   {
    "duration": 34,
    "start_time": "2022-05-25T19:34:21.526Z"
   },
   {
    "duration": 4,
    "start_time": "2022-05-25T19:34:21.563Z"
   },
   {
    "duration": 10,
    "start_time": "2022-05-25T19:34:21.569Z"
   },
   {
    "duration": 158,
    "start_time": "2022-05-25T19:34:21.581Z"
   },
   {
    "duration": 11,
    "start_time": "2022-05-25T19:34:21.742Z"
   },
   {
    "duration": 13,
    "start_time": "2022-05-25T19:34:21.755Z"
   },
   {
    "duration": 74,
    "start_time": "2022-05-25T19:34:21.770Z"
   },
   {
    "duration": 9,
    "start_time": "2022-05-25T19:34:21.846Z"
   },
   {
    "duration": 28,
    "start_time": "2022-05-25T19:34:21.856Z"
   },
   {
    "duration": 833,
    "start_time": "2022-05-25T19:34:21.886Z"
   },
   {
    "duration": 5,
    "start_time": "2022-05-25T19:34:22.724Z"
   },
   {
    "duration": 41,
    "start_time": "2022-05-25T19:34:22.731Z"
   },
   {
    "duration": 64,
    "start_time": "2022-05-25T19:34:22.774Z"
   },
   {
    "duration": 42,
    "start_time": "2022-05-25T19:34:22.841Z"
   },
   {
    "duration": 822,
    "start_time": "2022-05-25T19:34:22.923Z"
   },
   {
    "duration": 9,
    "start_time": "2022-05-25T19:34:23.748Z"
   },
   {
    "duration": 13,
    "start_time": "2022-05-25T19:34:23.758Z"
   },
   {
    "duration": 59,
    "start_time": "2022-05-25T19:34:23.773Z"
   },
   {
    "duration": 20,
    "start_time": "2022-05-25T19:34:23.835Z"
   },
   {
    "duration": 65,
    "start_time": "2022-05-25T19:34:23.858Z"
   },
   {
    "duration": 50,
    "start_time": "2022-05-25T19:34:23.925Z"
   },
   {
    "duration": 9,
    "start_time": "2022-05-25T19:34:23.977Z"
   },
   {
    "duration": 37,
    "start_time": "2022-05-25T19:34:23.987Z"
   },
   {
    "duration": 26,
    "start_time": "2022-05-25T19:34:24.026Z"
   },
   {
    "duration": 13,
    "start_time": "2022-05-25T19:34:24.057Z"
   },
   {
    "duration": 7,
    "start_time": "2022-05-25T19:34:24.072Z"
   },
   {
    "duration": 7,
    "start_time": "2022-05-25T19:34:24.082Z"
   },
   {
    "duration": 9,
    "start_time": "2022-05-25T19:34:24.092Z"
   },
   {
    "duration": 5,
    "start_time": "2022-05-25T19:34:24.103Z"
   },
   {
    "duration": 367,
    "start_time": "2022-05-25T19:34:24.110Z"
   },
   {
    "duration": 310,
    "start_time": "2022-05-25T19:34:24.479Z"
   },
   {
    "duration": 547,
    "start_time": "2022-05-25T19:34:24.791Z"
   },
   {
    "duration": 378,
    "start_time": "2022-05-25T19:34:25.340Z"
   },
   {
    "duration": 718,
    "start_time": "2022-05-25T19:34:25.719Z"
   },
   {
    "duration": 155,
    "start_time": "2022-05-25T19:34:26.440Z"
   },
   {
    "duration": 13,
    "start_time": "2022-05-25T19:34:26.596Z"
   },
   {
    "duration": 18,
    "start_time": "2022-05-25T19:34:26.610Z"
   },
   {
    "duration": 124,
    "start_time": "2022-05-25T19:34:26.630Z"
   },
   {
    "duration": 1124,
    "start_time": "2022-05-25T19:34:26.756Z"
   },
   {
    "duration": 60,
    "start_time": "2022-05-25T19:34:27.882Z"
   },
   {
    "duration": 1462,
    "start_time": "2022-05-25T19:34:27.946Z"
   },
   {
    "duration": 24,
    "start_time": "2022-05-25T19:34:29.409Z"
   },
   {
    "duration": 24,
    "start_time": "2022-05-25T19:34:29.435Z"
   },
   {
    "duration": 84,
    "start_time": "2022-05-25T19:34:29.461Z"
   },
   {
    "duration": 274,
    "start_time": "2022-05-25T19:34:29.547Z"
   },
   {
    "duration": 143,
    "start_time": "2022-05-25T19:38:15.972Z"
   },
   {
    "duration": 29,
    "start_time": "2022-05-25T19:38:48.137Z"
   },
   {
    "duration": 13,
    "start_time": "2022-05-25T19:39:24.483Z"
   },
   {
    "duration": 20,
    "start_time": "2022-05-25T19:40:01.069Z"
   },
   {
    "duration": 23,
    "start_time": "2022-05-25T19:40:12.198Z"
   },
   {
    "duration": 24,
    "start_time": "2022-05-25T19:40:58.015Z"
   },
   {
    "duration": 19,
    "start_time": "2022-05-25T19:41:05.775Z"
   },
   {
    "duration": 30,
    "start_time": "2022-05-25T19:41:10.199Z"
   },
   {
    "duration": 82,
    "start_time": "2022-05-25T19:41:50.488Z"
   },
   {
    "duration": 14,
    "start_time": "2022-05-25T19:43:11.524Z"
   },
   {
    "duration": 11,
    "start_time": "2022-05-25T19:43:43.570Z"
   },
   {
    "duration": 20,
    "start_time": "2022-05-25T19:43:46.221Z"
   },
   {
    "duration": 14,
    "start_time": "2022-05-25T19:44:02.077Z"
   },
   {
    "duration": 17,
    "start_time": "2022-05-25T19:45:07.379Z"
   },
   {
    "duration": 1204,
    "start_time": "2022-05-25T19:58:19.869Z"
   },
   {
    "duration": 74,
    "start_time": "2022-05-25T19:58:21.075Z"
   },
   {
    "duration": 12,
    "start_time": "2022-05-25T19:58:21.151Z"
   },
   {
    "duration": 14,
    "start_time": "2022-05-25T19:58:21.165Z"
   },
   {
    "duration": 5,
    "start_time": "2022-05-25T19:58:21.180Z"
   },
   {
    "duration": 12,
    "start_time": "2022-05-25T19:58:21.186Z"
   },
   {
    "duration": 172,
    "start_time": "2022-05-25T19:58:21.199Z"
   },
   {
    "duration": 12,
    "start_time": "2022-05-25T19:58:21.373Z"
   },
   {
    "duration": 16,
    "start_time": "2022-05-25T19:58:21.387Z"
   },
   {
    "duration": 64,
    "start_time": "2022-05-25T19:58:21.405Z"
   },
   {
    "duration": 11,
    "start_time": "2022-05-25T19:58:21.471Z"
   },
   {
    "duration": 57,
    "start_time": "2022-05-25T19:58:21.484Z"
   },
   {
    "duration": 761,
    "start_time": "2022-05-25T19:58:21.544Z"
   },
   {
    "duration": 16,
    "start_time": "2022-05-25T19:58:22.308Z"
   },
   {
    "duration": 31,
    "start_time": "2022-05-25T19:58:22.326Z"
   },
   {
    "duration": 15,
    "start_time": "2022-05-25T19:58:22.359Z"
   },
   {
    "duration": 32,
    "start_time": "2022-05-25T19:58:22.424Z"
   },
   {
    "duration": 925,
    "start_time": "2022-05-25T19:58:22.458Z"
   },
   {
    "duration": 9,
    "start_time": "2022-05-25T19:58:23.385Z"
   },
   {
    "duration": 39,
    "start_time": "2022-05-25T19:58:23.396Z"
   },
   {
    "duration": 28,
    "start_time": "2022-05-25T19:58:23.437Z"
   },
   {
    "duration": 62,
    "start_time": "2022-05-25T19:58:23.467Z"
   },
   {
    "duration": 15,
    "start_time": "2022-05-25T19:58:23.531Z"
   },
   {
    "duration": 27,
    "start_time": "2022-05-25T19:58:23.548Z"
   },
   {
    "duration": 9,
    "start_time": "2022-05-25T19:58:23.577Z"
   },
   {
    "duration": 43,
    "start_time": "2022-05-25T19:58:23.587Z"
   },
   {
    "duration": 31,
    "start_time": "2022-05-25T19:58:23.632Z"
   },
   {
    "duration": 2,
    "start_time": "2022-05-25T19:58:23.667Z"
   },
   {
    "duration": 6,
    "start_time": "2022-05-25T19:58:23.670Z"
   },
   {
    "duration": 7,
    "start_time": "2022-05-25T19:58:23.678Z"
   },
   {
    "duration": 6,
    "start_time": "2022-05-25T19:58:23.687Z"
   },
   {
    "duration": 6,
    "start_time": "2022-05-25T19:58:23.695Z"
   },
   {
    "duration": 358,
    "start_time": "2022-05-25T19:58:23.703Z"
   },
   {
    "duration": 263,
    "start_time": "2022-05-25T19:58:24.062Z"
   },
   {
    "duration": 527,
    "start_time": "2022-05-25T19:58:24.328Z"
   },
   {
    "duration": 420,
    "start_time": "2022-05-25T19:58:24.857Z"
   },
   {
    "duration": 707,
    "start_time": "2022-05-25T19:58:25.279Z"
   },
   {
    "duration": 149,
    "start_time": "2022-05-25T19:58:25.989Z"
   },
   {
    "duration": 13,
    "start_time": "2022-05-25T19:58:26.140Z"
   },
   {
    "duration": 17,
    "start_time": "2022-05-25T19:58:26.156Z"
   },
   {
    "duration": 106,
    "start_time": "2022-05-25T19:58:26.175Z"
   },
   {
    "duration": 1158,
    "start_time": "2022-05-25T19:58:26.283Z"
   },
   {
    "duration": 14,
    "start_time": "2022-05-25T19:58:27.443Z"
   },
   {
    "duration": 1723,
    "start_time": "2022-05-25T19:58:27.459Z"
   },
   {
    "duration": 42,
    "start_time": "2022-05-25T19:58:29.184Z"
   },
   {
    "duration": 27,
    "start_time": "2022-05-25T19:58:29.227Z"
   },
   {
    "duration": 90,
    "start_time": "2022-05-25T19:58:29.256Z"
   },
   {
    "duration": 302,
    "start_time": "2022-05-25T19:58:29.348Z"
   },
   {
    "duration": 17,
    "start_time": "2022-05-25T19:58:29.651Z"
   },
   {
    "duration": 13,
    "start_time": "2022-05-25T19:58:29.670Z"
   },
   {
    "duration": 18,
    "start_time": "2022-05-25T19:58:29.685Z"
   },
   {
    "duration": 1327,
    "start_time": "2022-05-26T05:26:25.990Z"
   },
   {
    "duration": 134,
    "start_time": "2022-05-26T05:26:27.319Z"
   },
   {
    "duration": 18,
    "start_time": "2022-05-26T05:26:27.454Z"
   },
   {
    "duration": 22,
    "start_time": "2022-05-26T05:26:27.474Z"
   },
   {
    "duration": 6,
    "start_time": "2022-05-26T05:26:27.499Z"
   },
   {
    "duration": 17,
    "start_time": "2022-05-26T05:26:27.507Z"
   },
   {
    "duration": 152,
    "start_time": "2022-05-26T05:26:27.526Z"
   },
   {
    "duration": 12,
    "start_time": "2022-05-26T05:26:27.679Z"
   },
   {
    "duration": 15,
    "start_time": "2022-05-26T05:26:27.693Z"
   },
   {
    "duration": 56,
    "start_time": "2022-05-26T05:26:27.710Z"
   },
   {
    "duration": 22,
    "start_time": "2022-05-26T05:26:27.767Z"
   },
   {
    "duration": 27,
    "start_time": "2022-05-26T05:26:27.791Z"
   },
   {
    "duration": 750,
    "start_time": "2022-05-26T05:26:27.820Z"
   },
   {
    "duration": 12,
    "start_time": "2022-05-26T05:26:28.573Z"
   },
   {
    "duration": 20,
    "start_time": "2022-05-26T05:26:28.587Z"
   },
   {
    "duration": 15,
    "start_time": "2022-05-26T05:26:28.609Z"
   },
   {
    "duration": 74,
    "start_time": "2022-05-26T05:26:28.626Z"
   },
   {
    "duration": 723,
    "start_time": "2022-05-26T05:26:28.702Z"
   },
   {
    "duration": 8,
    "start_time": "2022-05-26T05:26:29.427Z"
   },
   {
    "duration": 13,
    "start_time": "2022-05-26T05:26:29.436Z"
   },
   {
    "duration": 42,
    "start_time": "2022-05-26T05:26:29.450Z"
   },
   {
    "duration": 15,
    "start_time": "2022-05-26T05:26:29.494Z"
   },
   {
    "duration": 10,
    "start_time": "2022-05-26T05:26:29.511Z"
   },
   {
    "duration": 69,
    "start_time": "2022-05-26T05:26:29.523Z"
   },
   {
    "duration": 7,
    "start_time": "2022-05-26T05:26:29.594Z"
   },
   {
    "duration": 11,
    "start_time": "2022-05-26T05:26:29.602Z"
   },
   {
    "duration": 22,
    "start_time": "2022-05-26T05:26:29.615Z"
   },
   {
    "duration": 3,
    "start_time": "2022-05-26T05:26:29.640Z"
   },
   {
    "duration": 10,
    "start_time": "2022-05-26T05:26:29.644Z"
   },
   {
    "duration": 3,
    "start_time": "2022-05-26T05:26:29.684Z"
   },
   {
    "duration": 12,
    "start_time": "2022-05-26T05:26:29.689Z"
   },
   {
    "duration": 6,
    "start_time": "2022-05-26T05:26:29.703Z"
   },
   {
    "duration": 311,
    "start_time": "2022-05-26T05:26:29.710Z"
   },
   {
    "duration": 258,
    "start_time": "2022-05-26T05:26:30.023Z"
   },
   {
    "duration": 514,
    "start_time": "2022-05-26T05:26:30.283Z"
   },
   {
    "duration": 359,
    "start_time": "2022-05-26T05:26:30.799Z"
   },
   {
    "duration": 609,
    "start_time": "2022-05-26T05:26:31.160Z"
   },
   {
    "duration": 138,
    "start_time": "2022-05-26T05:26:31.771Z"
   },
   {
    "duration": 11,
    "start_time": "2022-05-26T05:26:31.910Z"
   },
   {
    "duration": 17,
    "start_time": "2022-05-26T05:26:31.923Z"
   },
   {
    "duration": 96,
    "start_time": "2022-05-26T05:26:31.942Z"
   },
   {
    "duration": 988,
    "start_time": "2022-05-26T05:26:32.040Z"
   },
   {
    "duration": 15,
    "start_time": "2022-05-26T05:26:33.029Z"
   },
   {
    "duration": 1572,
    "start_time": "2022-05-26T05:26:33.046Z"
   },
   {
    "duration": 14,
    "start_time": "2022-05-26T05:26:34.620Z"
   },
   {
    "duration": 51,
    "start_time": "2022-05-26T05:26:34.635Z"
   },
   {
    "duration": 23,
    "start_time": "2022-05-26T05:26:34.687Z"
   },
   {
    "duration": 245,
    "start_time": "2022-05-26T05:26:34.711Z"
   },
   {
    "duration": 12,
    "start_time": "2022-05-26T05:26:34.958Z"
   },
   {
    "duration": 20,
    "start_time": "2022-05-26T05:26:34.972Z"
   },
   {
    "duration": 16,
    "start_time": "2022-05-26T05:26:34.994Z"
   },
   {
    "duration": 318,
    "start_time": "2022-05-26T07:21:01.816Z"
   },
   {
    "duration": 1315,
    "start_time": "2022-05-26T07:21:20.200Z"
   },
   {
    "duration": 78,
    "start_time": "2022-05-26T07:21:21.517Z"
   },
   {
    "duration": 19,
    "start_time": "2022-05-26T07:21:21.601Z"
   },
   {
    "duration": 19,
    "start_time": "2022-05-26T07:21:21.623Z"
   },
   {
    "duration": 15,
    "start_time": "2022-05-26T07:21:21.645Z"
   },
   {
    "duration": 11,
    "start_time": "2022-05-26T07:21:21.663Z"
   },
   {
    "duration": 170,
    "start_time": "2022-05-26T07:21:21.684Z"
   },
   {
    "duration": 10,
    "start_time": "2022-05-26T07:21:21.856Z"
   },
   {
    "duration": 14,
    "start_time": "2022-05-26T07:21:21.868Z"
   },
   {
    "duration": 83,
    "start_time": "2022-05-26T07:21:21.885Z"
   },
   {
    "duration": 9,
    "start_time": "2022-05-26T07:21:21.971Z"
   },
   {
    "duration": 56,
    "start_time": "2022-05-26T07:21:21.982Z"
   },
   {
    "duration": 803,
    "start_time": "2022-05-26T07:21:22.040Z"
   },
   {
    "duration": 4,
    "start_time": "2022-05-26T07:21:22.846Z"
   },
   {
    "duration": 47,
    "start_time": "2022-05-26T07:21:22.852Z"
   },
   {
    "duration": 22,
    "start_time": "2022-05-26T07:21:22.901Z"
   },
   {
    "duration": 79,
    "start_time": "2022-05-26T07:21:22.925Z"
   },
   {
    "duration": 924,
    "start_time": "2022-05-26T07:21:23.006Z"
   },
   {
    "duration": 9,
    "start_time": "2022-05-26T07:21:23.932Z"
   },
   {
    "duration": 49,
    "start_time": "2022-05-26T07:21:23.942Z"
   },
   {
    "duration": 33,
    "start_time": "2022-05-26T07:21:23.994Z"
   },
   {
    "duration": 59,
    "start_time": "2022-05-26T07:21:24.029Z"
   },
   {
    "duration": 17,
    "start_time": "2022-05-26T07:21:24.090Z"
   },
   {
    "duration": 34,
    "start_time": "2022-05-26T07:21:24.109Z"
   },
   {
    "duration": 42,
    "start_time": "2022-05-26T07:21:24.146Z"
   },
   {
    "duration": 16,
    "start_time": "2022-05-26T07:21:24.191Z"
   },
   {
    "duration": 29,
    "start_time": "2022-05-26T07:21:24.209Z"
   },
   {
    "duration": 3,
    "start_time": "2022-05-26T07:21:24.243Z"
   },
   {
    "duration": 11,
    "start_time": "2022-05-26T07:21:24.248Z"
   },
   {
    "duration": 10,
    "start_time": "2022-05-26T07:21:24.261Z"
   },
   {
    "duration": 3,
    "start_time": "2022-05-26T07:21:24.285Z"
   },
   {
    "duration": 49,
    "start_time": "2022-05-26T07:21:24.290Z"
   },
   {
    "duration": 405,
    "start_time": "2022-05-26T07:21:24.342Z"
   },
   {
    "duration": 343,
    "start_time": "2022-05-26T07:21:24.750Z"
   },
   {
    "duration": 670,
    "start_time": "2022-05-26T07:21:25.095Z"
   },
   {
    "duration": 737,
    "start_time": "2022-05-26T07:21:25.767Z"
   },
   {
    "duration": 1688,
    "start_time": "2022-05-26T07:21:26.506Z"
   },
   {
    "duration": 410,
    "start_time": "2022-05-26T07:21:28.196Z"
   },
   {
    "duration": 16,
    "start_time": "2022-05-26T07:21:28.609Z"
   },
   {
    "duration": 1391,
    "start_time": "2022-05-26T07:21:28.628Z"
   },
   {
    "duration": 58,
    "start_time": "2022-05-26T07:21:30.029Z"
   },
   {
    "duration": 324,
    "start_time": "2022-05-26T07:21:30.089Z"
   },
   {
    "duration": 15,
    "start_time": "2022-05-26T07:21:30.416Z"
   },
   {
    "duration": 2688,
    "start_time": "2022-05-26T07:21:30.434Z"
   },
   {
    "duration": 76,
    "start_time": "2022-05-26T07:21:33.124Z"
   },
   {
    "duration": 24,
    "start_time": "2022-05-26T07:21:33.203Z"
   },
   {
    "duration": 88,
    "start_time": "2022-05-26T07:21:33.229Z"
   },
   {
    "duration": 504,
    "start_time": "2022-05-26T07:21:33.319Z"
   },
   {
    "duration": 71,
    "start_time": "2022-05-26T07:21:33.825Z"
   },
   {
    "duration": 17,
    "start_time": "2022-05-26T07:21:33.899Z"
   },
   {
    "duration": 76,
    "start_time": "2022-05-26T07:21:33.918Z"
   },
   {
    "duration": 200,
    "start_time": "2022-05-26T07:35:29.620Z"
   },
   {
    "duration": 629,
    "start_time": "2022-05-26T07:37:41.187Z"
   },
   {
    "duration": 3906,
    "start_time": "2022-05-26T07:37:46.981Z"
   },
   {
    "duration": 14,
    "start_time": "2022-05-26T07:40:12.857Z"
   },
   {
    "duration": 10,
    "start_time": "2022-05-26T07:40:17.792Z"
   },
   {
    "duration": 3617,
    "start_time": "2022-05-26T07:40:19.056Z"
   },
   {
    "duration": 218,
    "start_time": "2022-05-26T07:40:40.211Z"
   },
   {
    "duration": 234,
    "start_time": "2022-05-26T07:41:38.952Z"
   },
   {
    "duration": 1170,
    "start_time": "2022-05-26T12:42:04.151Z"
   },
   {
    "duration": 70,
    "start_time": "2022-05-26T12:42:05.323Z"
   },
   {
    "duration": 13,
    "start_time": "2022-05-26T12:42:05.395Z"
   },
   {
    "duration": 14,
    "start_time": "2022-05-26T12:42:05.410Z"
   },
   {
    "duration": 7,
    "start_time": "2022-05-26T12:42:05.425Z"
   },
   {
    "duration": 8,
    "start_time": "2022-05-26T12:42:05.433Z"
   },
   {
    "duration": 134,
    "start_time": "2022-05-26T12:42:05.443Z"
   },
   {
    "duration": 15,
    "start_time": "2022-05-26T12:42:05.580Z"
   },
   {
    "duration": 11,
    "start_time": "2022-05-26T12:42:05.597Z"
   },
   {
    "duration": 66,
    "start_time": "2022-05-26T12:42:05.611Z"
   },
   {
    "duration": 11,
    "start_time": "2022-05-26T12:42:05.680Z"
   },
   {
    "duration": 24,
    "start_time": "2022-05-26T12:42:05.693Z"
   },
   {
    "duration": 685,
    "start_time": "2022-05-26T12:42:05.718Z"
   },
   {
    "duration": 3,
    "start_time": "2022-05-26T12:42:06.405Z"
   },
   {
    "duration": 19,
    "start_time": "2022-05-26T12:42:06.409Z"
   },
   {
    "duration": 55,
    "start_time": "2022-05-26T12:42:06.430Z"
   },
   {
    "duration": 23,
    "start_time": "2022-05-26T12:42:06.487Z"
   },
   {
    "duration": 786,
    "start_time": "2022-05-26T12:42:06.512Z"
   },
   {
    "duration": 9,
    "start_time": "2022-05-26T12:42:07.301Z"
   },
   {
    "duration": 72,
    "start_time": "2022-05-26T12:42:07.312Z"
   },
   {
    "duration": 26,
    "start_time": "2022-05-26T12:42:07.387Z"
   },
   {
    "duration": 25,
    "start_time": "2022-05-26T12:42:07.416Z"
   },
   {
    "duration": 54,
    "start_time": "2022-05-26T12:42:07.443Z"
   },
   {
    "duration": 29,
    "start_time": "2022-05-26T12:42:07.499Z"
   },
   {
    "duration": 19,
    "start_time": "2022-05-26T12:42:07.530Z"
   },
   {
    "duration": 16,
    "start_time": "2022-05-26T12:42:07.551Z"
   },
   {
    "duration": 35,
    "start_time": "2022-05-26T12:42:07.570Z"
   },
   {
    "duration": 354,
    "start_time": "2022-05-26T12:42:07.610Z"
   },
   {
    "duration": 273,
    "start_time": "2022-05-26T12:42:07.967Z"
   },
   {
    "duration": 503,
    "start_time": "2022-05-26T12:42:08.242Z"
   },
   {
    "duration": 343,
    "start_time": "2022-05-26T12:42:08.748Z"
   },
   {
    "duration": 593,
    "start_time": "2022-05-26T12:42:09.093Z"
   },
   {
    "duration": 130,
    "start_time": "2022-05-26T12:42:09.688Z"
   },
   {
    "duration": 10,
    "start_time": "2022-05-26T12:42:09.820Z"
   },
   {
    "duration": 1373,
    "start_time": "2022-05-26T12:42:09.832Z"
   },
   {
    "duration": 14,
    "start_time": "2022-05-26T12:42:11.208Z"
   },
   {
    "duration": 159,
    "start_time": "2022-05-26T12:42:11.223Z"
   },
   {
    "duration": 19,
    "start_time": "2022-05-26T12:42:11.385Z"
   },
   {
    "duration": 1722,
    "start_time": "2022-05-26T12:42:11.405Z"
   },
   {
    "duration": 15,
    "start_time": "2022-05-26T12:42:13.128Z"
   },
   {
    "duration": 46,
    "start_time": "2022-05-26T12:42:13.145Z"
   },
   {
    "duration": 24,
    "start_time": "2022-05-26T12:42:13.193Z"
   },
   {
    "duration": 280,
    "start_time": "2022-05-26T12:42:13.219Z"
   },
   {
    "duration": 14,
    "start_time": "2022-05-26T12:42:13.501Z"
   },
   {
    "duration": 12,
    "start_time": "2022-05-26T12:42:13.517Z"
   },
   {
    "duration": 8,
    "start_time": "2022-05-26T12:42:13.531Z"
   },
   {
    "duration": 235,
    "start_time": "2022-05-26T12:42:13.541Z"
   },
   {
    "duration": 1213,
    "start_time": "2022-05-26T12:46:24.798Z"
   },
   {
    "duration": 75,
    "start_time": "2022-05-26T12:46:26.013Z"
   },
   {
    "duration": 15,
    "start_time": "2022-05-26T12:46:26.090Z"
   },
   {
    "duration": 14,
    "start_time": "2022-05-26T12:46:26.107Z"
   },
   {
    "duration": 5,
    "start_time": "2022-05-26T12:46:26.122Z"
   },
   {
    "duration": 9,
    "start_time": "2022-05-26T12:46:26.128Z"
   },
   {
    "duration": 144,
    "start_time": "2022-05-26T12:46:26.138Z"
   },
   {
    "duration": 12,
    "start_time": "2022-05-26T12:46:26.283Z"
   },
   {
    "duration": 21,
    "start_time": "2022-05-26T12:46:26.297Z"
   },
   {
    "duration": 80,
    "start_time": "2022-05-26T12:46:26.321Z"
   },
   {
    "duration": 9,
    "start_time": "2022-05-26T12:46:26.403Z"
   },
   {
    "duration": 25,
    "start_time": "2022-05-26T12:46:26.414Z"
   },
   {
    "duration": 733,
    "start_time": "2022-05-26T12:46:26.442Z"
   },
   {
    "duration": 6,
    "start_time": "2022-05-26T12:46:27.178Z"
   },
   {
    "duration": 19,
    "start_time": "2022-05-26T12:46:27.186Z"
   },
   {
    "duration": 14,
    "start_time": "2022-05-26T12:46:27.207Z"
   },
   {
    "duration": 75,
    "start_time": "2022-05-26T12:46:27.223Z"
   },
   {
    "duration": 808,
    "start_time": "2022-05-26T12:46:27.300Z"
   },
   {
    "duration": 12,
    "start_time": "2022-05-26T12:46:28.121Z"
   },
   {
    "duration": 57,
    "start_time": "2022-05-26T12:46:28.136Z"
   },
   {
    "duration": 34,
    "start_time": "2022-05-26T12:46:28.195Z"
   },
   {
    "duration": 56,
    "start_time": "2022-05-26T12:46:28.230Z"
   },
   {
    "duration": 11,
    "start_time": "2022-05-26T12:46:28.288Z"
   },
   {
    "duration": 20,
    "start_time": "2022-05-26T12:46:28.301Z"
   },
   {
    "duration": 10,
    "start_time": "2022-05-26T12:46:28.323Z"
   },
   {
    "duration": 18,
    "start_time": "2022-05-26T12:46:28.335Z"
   },
   {
    "duration": 46,
    "start_time": "2022-05-26T12:46:28.355Z"
   },
   {
    "duration": 338,
    "start_time": "2022-05-26T12:46:28.406Z"
   },
   {
    "duration": 230,
    "start_time": "2022-05-26T12:46:28.746Z"
   },
   {
    "duration": 501,
    "start_time": "2022-05-26T12:46:28.977Z"
   },
   {
    "duration": 328,
    "start_time": "2022-05-26T12:46:29.483Z"
   },
   {
    "duration": 617,
    "start_time": "2022-05-26T12:46:29.813Z"
   },
   {
    "duration": 152,
    "start_time": "2022-05-26T12:46:30.432Z"
   },
   {
    "duration": 12,
    "start_time": "2022-05-26T12:46:30.586Z"
   },
   {
    "duration": 976,
    "start_time": "2022-05-26T12:46:30.600Z"
   },
   {
    "duration": 16,
    "start_time": "2022-05-26T12:46:31.584Z"
   },
   {
    "duration": 189,
    "start_time": "2022-05-26T12:46:31.601Z"
   },
   {
    "duration": 15,
    "start_time": "2022-05-26T12:46:31.792Z"
   },
   {
    "duration": 1313,
    "start_time": "2022-05-26T12:46:31.809Z"
   },
   {
    "duration": 19,
    "start_time": "2022-05-26T12:46:33.125Z"
   },
   {
    "duration": 55,
    "start_time": "2022-05-26T12:46:33.146Z"
   },
   {
    "duration": 24,
    "start_time": "2022-05-26T12:46:33.204Z"
   },
   {
    "duration": 260,
    "start_time": "2022-05-26T12:46:33.230Z"
   },
   {
    "duration": 15,
    "start_time": "2022-05-26T12:46:33.491Z"
   },
   {
    "duration": 11,
    "start_time": "2022-05-26T12:46:33.508Z"
   },
   {
    "duration": 8,
    "start_time": "2022-05-26T12:46:33.522Z"
   },
   {
    "duration": 238,
    "start_time": "2022-05-26T12:46:33.532Z"
   },
   {
    "duration": 63,
    "start_time": "2022-05-26T16:04:45.567Z"
   },
   {
    "duration": 1530,
    "start_time": "2022-05-26T16:04:58.090Z"
   },
   {
    "duration": 271,
    "start_time": "2022-05-26T16:04:59.622Z"
   },
   {
    "duration": 20,
    "start_time": "2022-05-26T16:04:59.895Z"
   },
   {
    "duration": 16,
    "start_time": "2022-05-26T16:04:59.917Z"
   },
   {
    "duration": 8,
    "start_time": "2022-05-26T16:04:59.934Z"
   },
   {
    "duration": 22,
    "start_time": "2022-05-26T16:04:59.944Z"
   },
   {
    "duration": 119,
    "start_time": "2022-05-26T16:04:59.968Z"
   },
   {
    "duration": 14,
    "start_time": "2022-05-26T16:05:00.090Z"
   },
   {
    "duration": 17,
    "start_time": "2022-05-26T16:05:00.106Z"
   },
   {
    "duration": 108,
    "start_time": "2022-05-26T16:05:00.128Z"
   },
   {
    "duration": 10,
    "start_time": "2022-05-26T16:05:00.238Z"
   },
   {
    "duration": 32,
    "start_time": "2022-05-26T16:05:00.264Z"
   },
   {
    "duration": 790,
    "start_time": "2022-05-26T16:05:00.298Z"
   },
   {
    "duration": 4,
    "start_time": "2022-05-26T16:05:01.091Z"
   },
   {
    "duration": 70,
    "start_time": "2022-05-26T16:05:01.097Z"
   },
   {
    "duration": 24,
    "start_time": "2022-05-26T16:05:01.170Z"
   },
   {
    "duration": 91,
    "start_time": "2022-05-26T16:05:01.196Z"
   },
   {
    "duration": 923,
    "start_time": "2022-05-26T16:05:01.289Z"
   },
   {
    "duration": 9,
    "start_time": "2022-05-26T16:05:02.214Z"
   },
   {
    "duration": 41,
    "start_time": "2022-05-26T16:05:02.225Z"
   },
   {
    "duration": 24,
    "start_time": "2022-05-26T16:05:02.269Z"
   },
   {
    "duration": 76,
    "start_time": "2022-05-26T16:05:02.296Z"
   },
   {
    "duration": 16,
    "start_time": "2022-05-26T16:05:02.374Z"
   },
   {
    "duration": 75,
    "start_time": "2022-05-26T16:05:02.392Z"
   },
   {
    "duration": 10,
    "start_time": "2022-05-26T16:05:02.471Z"
   },
   {
    "duration": 15,
    "start_time": "2022-05-26T16:05:02.484Z"
   },
   {
    "duration": 86,
    "start_time": "2022-05-26T16:05:02.502Z"
   },
   {
    "duration": 432,
    "start_time": "2022-05-26T16:05:02.593Z"
   },
   {
    "duration": 267,
    "start_time": "2022-05-26T16:05:03.026Z"
   },
   {
    "duration": 555,
    "start_time": "2022-05-26T16:05:03.295Z"
   },
   {
    "duration": 356,
    "start_time": "2022-05-26T16:05:03.852Z"
   },
   {
    "duration": 670,
    "start_time": "2022-05-26T16:05:04.211Z"
   },
   {
    "duration": 176,
    "start_time": "2022-05-26T16:05:04.883Z"
   },
   {
    "duration": 14,
    "start_time": "2022-05-26T16:05:05.061Z"
   },
   {
    "duration": 1032,
    "start_time": "2022-05-26T16:05:05.078Z"
   },
   {
    "duration": 53,
    "start_time": "2022-05-26T16:05:06.119Z"
   },
   {
    "duration": 289,
    "start_time": "2022-05-26T16:05:06.175Z"
   },
   {
    "duration": 27,
    "start_time": "2022-05-26T16:05:06.467Z"
   },
   {
    "duration": 1627,
    "start_time": "2022-05-26T16:05:06.497Z"
   },
   {
    "duration": 44,
    "start_time": "2022-05-26T16:05:08.127Z"
   },
   {
    "duration": 23,
    "start_time": "2022-05-26T16:05:08.174Z"
   },
   {
    "duration": 34,
    "start_time": "2022-05-26T16:05:08.199Z"
   },
   {
    "duration": 257,
    "start_time": "2022-05-26T16:05:08.235Z"
   },
   {
    "duration": 14,
    "start_time": "2022-05-26T16:05:08.494Z"
   },
   {
    "duration": 12,
    "start_time": "2022-05-26T16:05:08.510Z"
   },
   {
    "duration": 24,
    "start_time": "2022-05-26T16:05:08.524Z"
   },
   {
    "duration": 253,
    "start_time": "2022-05-26T16:05:08.550Z"
   },
   {
    "duration": 27,
    "start_time": "2022-05-26T16:06:24.126Z"
   },
   {
    "duration": 11,
    "start_time": "2022-05-26T16:06:29.377Z"
   },
   {
    "duration": 1261,
    "start_time": "2022-05-26T16:10:15.579Z"
   },
   {
    "duration": 76,
    "start_time": "2022-05-26T16:10:16.842Z"
   },
   {
    "duration": 13,
    "start_time": "2022-05-26T16:10:16.920Z"
   },
   {
    "duration": 35,
    "start_time": "2022-05-26T16:10:16.935Z"
   },
   {
    "duration": 8,
    "start_time": "2022-05-26T16:10:16.972Z"
   },
   {
    "duration": 8,
    "start_time": "2022-05-26T16:10:16.982Z"
   },
   {
    "duration": 30,
    "start_time": "2022-05-26T16:10:16.992Z"
   },
   {
    "duration": 13,
    "start_time": "2022-05-26T16:10:17.024Z"
   },
   {
    "duration": 39,
    "start_time": "2022-05-26T16:10:17.039Z"
   },
   {
    "duration": 12,
    "start_time": "2022-05-26T16:10:17.082Z"
   },
   {
    "duration": 77,
    "start_time": "2022-05-26T16:10:17.096Z"
   },
   {
    "duration": 10,
    "start_time": "2022-05-26T16:10:17.175Z"
   },
   {
    "duration": 35,
    "start_time": "2022-05-26T16:10:17.187Z"
   },
   {
    "duration": 2,
    "start_time": "2022-05-26T16:10:17.225Z"
   },
   {
    "duration": 37,
    "start_time": "2022-05-26T16:10:17.229Z"
   },
   {
    "duration": 4,
    "start_time": "2022-05-26T16:10:17.268Z"
   },
   {
    "duration": 25,
    "start_time": "2022-05-26T16:10:17.275Z"
   },
   {
    "duration": 23,
    "start_time": "2022-05-26T16:10:17.303Z"
   },
   {
    "duration": 65,
    "start_time": "2022-05-26T16:10:17.328Z"
   },
   {
    "duration": 3,
    "start_time": "2022-05-26T16:10:17.395Z"
   },
   {
    "duration": 13,
    "start_time": "2022-05-26T16:10:17.400Z"
   },
   {
    "duration": 16,
    "start_time": "2022-05-26T16:10:17.415Z"
   },
   {
    "duration": 36,
    "start_time": "2022-05-26T16:10:17.433Z"
   },
   {
    "duration": 28,
    "start_time": "2022-05-26T16:10:17.472Z"
   },
   {
    "duration": 15,
    "start_time": "2022-05-26T16:10:17.501Z"
   },
   {
    "duration": 10,
    "start_time": "2022-05-26T16:10:17.518Z"
   },
   {
    "duration": 40,
    "start_time": "2022-05-26T16:10:17.530Z"
   },
   {
    "duration": 12,
    "start_time": "2022-05-26T16:10:17.574Z"
   },
   {
    "duration": 11,
    "start_time": "2022-05-26T16:10:17.588Z"
   },
   {
    "duration": 23,
    "start_time": "2022-05-26T16:10:17.600Z"
   },
   {
    "duration": 405,
    "start_time": "2022-05-26T16:10:17.625Z"
   },
   {
    "duration": 313,
    "start_time": "2022-05-26T16:10:18.032Z"
   },
   {
    "duration": 533,
    "start_time": "2022-05-26T16:10:18.347Z"
   },
   {
    "duration": 388,
    "start_time": "2022-05-26T16:10:18.883Z"
   },
   {
    "duration": 596,
    "start_time": "2022-05-26T16:10:19.272Z"
   },
   {
    "duration": 144,
    "start_time": "2022-05-26T16:10:19.870Z"
   },
   {
    "duration": 10,
    "start_time": "2022-05-26T16:10:20.016Z"
   },
   {
    "duration": 6,
    "start_time": "2022-05-26T16:10:20.028Z"
   },
   {
    "duration": 34,
    "start_time": "2022-05-26T16:10:20.035Z"
   },
   {
    "duration": 14,
    "start_time": "2022-05-26T16:10:20.071Z"
   },
   {
    "duration": 6,
    "start_time": "2022-05-26T16:10:20.087Z"
   },
   {
    "duration": 20,
    "start_time": "2022-05-26T16:10:20.095Z"
   },
   {
    "duration": 16,
    "start_time": "2022-05-26T16:10:20.116Z"
   },
   {
    "duration": 1069,
    "start_time": "2022-05-26T16:10:20.134Z"
   },
   {
    "duration": 9,
    "start_time": "2022-05-26T16:10:21.205Z"
   },
   {
    "duration": 22,
    "start_time": "2022-05-26T16:10:21.216Z"
   },
   {
    "duration": 18,
    "start_time": "2022-05-26T16:10:21.239Z"
   },
   {
    "duration": 22,
    "start_time": "2022-05-26T16:10:21.258Z"
   },
   {
    "duration": 227,
    "start_time": "2022-05-26T16:10:21.282Z"
   },
   {
    "duration": 19,
    "start_time": "2022-05-26T16:10:21.511Z"
   },
   {
    "duration": 33,
    "start_time": "2022-05-26T16:10:21.532Z"
   },
   {
    "duration": 9,
    "start_time": "2022-05-26T16:10:21.566Z"
   },
   {
    "duration": 212,
    "start_time": "2022-05-26T16:10:21.590Z"
   },
   {
    "duration": 12,
    "start_time": "2022-05-26T16:10:56.674Z"
   },
   {
    "duration": 108,
    "start_time": "2022-05-26T16:12:14.386Z"
   },
   {
    "duration": 15,
    "start_time": "2022-05-26T16:12:23.543Z"
   },
   {
    "duration": 15,
    "start_time": "2022-05-26T16:13:04.327Z"
   },
   {
    "duration": 1931,
    "start_time": "2022-05-27T07:15:19.817Z"
   },
   {
    "duration": 495,
    "start_time": "2022-05-27T07:15:21.758Z"
   },
   {
    "duration": 41,
    "start_time": "2022-05-27T07:15:22.272Z"
   },
   {
    "duration": 69,
    "start_time": "2022-05-27T07:15:22.315Z"
   },
   {
    "duration": 42,
    "start_time": "2022-05-27T07:15:22.387Z"
   },
   {
    "duration": 17,
    "start_time": "2022-05-27T07:15:22.437Z"
   },
   {
    "duration": 139,
    "start_time": "2022-05-27T07:15:22.456Z"
   },
   {
    "duration": 132,
    "start_time": "2022-05-27T07:15:22.602Z"
   },
   {
    "duration": 58,
    "start_time": "2022-05-27T07:15:22.740Z"
   },
   {
    "duration": 49,
    "start_time": "2022-05-27T07:15:22.805Z"
   },
   {
    "duration": 234,
    "start_time": "2022-05-27T07:15:22.857Z"
   },
   {
    "duration": 20,
    "start_time": "2022-05-27T07:15:23.098Z"
   },
   {
    "duration": 104,
    "start_time": "2022-05-27T07:15:23.126Z"
   },
   {
    "duration": 70,
    "start_time": "2022-05-27T07:15:23.240Z"
   },
   {
    "duration": 44,
    "start_time": "2022-05-27T07:15:23.326Z"
   },
   {
    "duration": 60,
    "start_time": "2022-05-27T07:15:23.376Z"
   },
   {
    "duration": 38,
    "start_time": "2022-05-27T07:15:23.439Z"
   },
   {
    "duration": 52,
    "start_time": "2022-05-27T07:15:23.479Z"
   },
   {
    "duration": 66,
    "start_time": "2022-05-27T07:15:23.538Z"
   },
   {
    "duration": 43,
    "start_time": "2022-05-27T07:15:23.606Z"
   },
   {
    "duration": 82,
    "start_time": "2022-05-27T07:15:23.655Z"
   },
   {
    "duration": 19,
    "start_time": "2022-05-27T07:15:23.739Z"
   },
   {
    "duration": 79,
    "start_time": "2022-05-27T07:15:23.767Z"
   },
   {
    "duration": 85,
    "start_time": "2022-05-27T07:15:23.848Z"
   },
   {
    "duration": 61,
    "start_time": "2022-05-27T07:15:23.935Z"
   },
   {
    "duration": 52,
    "start_time": "2022-05-27T07:15:24.001Z"
   },
   {
    "duration": 111,
    "start_time": "2022-05-27T07:15:24.060Z"
   },
   {
    "duration": 42,
    "start_time": "2022-05-27T07:15:24.173Z"
   },
   {
    "duration": 126,
    "start_time": "2022-05-27T07:15:24.219Z"
   },
   {
    "duration": 51,
    "start_time": "2022-05-27T07:15:24.347Z"
   },
   {
    "duration": 724,
    "start_time": "2022-05-27T07:15:24.400Z"
   },
   {
    "duration": 0,
    "start_time": "2022-05-27T07:15:25.127Z"
   },
   {
    "duration": 0,
    "start_time": "2022-05-27T07:15:25.129Z"
   },
   {
    "duration": 0,
    "start_time": "2022-05-27T07:15:25.130Z"
   },
   {
    "duration": 0,
    "start_time": "2022-05-27T07:15:25.132Z"
   },
   {
    "duration": 0,
    "start_time": "2022-05-27T07:15:25.134Z"
   },
   {
    "duration": 0,
    "start_time": "2022-05-27T07:15:25.135Z"
   },
   {
    "duration": 0,
    "start_time": "2022-05-27T07:15:25.137Z"
   },
   {
    "duration": 0,
    "start_time": "2022-05-27T07:15:25.143Z"
   },
   {
    "duration": 0,
    "start_time": "2022-05-27T07:15:25.145Z"
   },
   {
    "duration": 0,
    "start_time": "2022-05-27T07:15:25.149Z"
   },
   {
    "duration": 0,
    "start_time": "2022-05-27T07:15:25.151Z"
   },
   {
    "duration": 0,
    "start_time": "2022-05-27T07:15:25.153Z"
   },
   {
    "duration": 0,
    "start_time": "2022-05-27T07:15:25.158Z"
   },
   {
    "duration": 0,
    "start_time": "2022-05-27T07:15:25.160Z"
   },
   {
    "duration": 0,
    "start_time": "2022-05-27T07:15:25.162Z"
   },
   {
    "duration": 0,
    "start_time": "2022-05-27T07:15:25.163Z"
   },
   {
    "duration": 0,
    "start_time": "2022-05-27T07:15:25.165Z"
   },
   {
    "duration": 0,
    "start_time": "2022-05-27T07:15:25.171Z"
   },
   {
    "duration": 0,
    "start_time": "2022-05-27T07:15:25.172Z"
   },
   {
    "duration": 0,
    "start_time": "2022-05-27T07:15:25.174Z"
   },
   {
    "duration": 0,
    "start_time": "2022-05-27T07:15:25.175Z"
   },
   {
    "duration": 0,
    "start_time": "2022-05-27T07:15:25.177Z"
   },
   {
    "duration": 837,
    "start_time": "2022-05-27T07:17:00.569Z"
   },
   {
    "duration": 27,
    "start_time": "2022-05-27T07:17:27.006Z"
   },
   {
    "duration": 35,
    "start_time": "2022-05-27T07:17:41.248Z"
   },
   {
    "duration": 527,
    "start_time": "2022-05-27T07:17:54.187Z"
   },
   {
    "duration": 235,
    "start_time": "2022-05-27T07:18:26.934Z"
   },
   {
    "duration": 560,
    "start_time": "2022-05-27T07:18:40.191Z"
   },
   {
    "duration": 1482,
    "start_time": "2022-05-27T07:22:23.750Z"
   },
   {
    "duration": 252,
    "start_time": "2022-05-27T07:22:25.235Z"
   },
   {
    "duration": 21,
    "start_time": "2022-05-27T07:22:25.496Z"
   },
   {
    "duration": 216,
    "start_time": "2022-05-27T07:22:25.519Z"
   },
   {
    "duration": 16,
    "start_time": "2022-05-27T07:22:25.738Z"
   },
   {
    "duration": 92,
    "start_time": "2022-05-27T07:22:25.756Z"
   },
   {
    "duration": 118,
    "start_time": "2022-05-27T07:22:25.850Z"
   },
   {
    "duration": 25,
    "start_time": "2022-05-27T07:22:25.975Z"
   },
   {
    "duration": 74,
    "start_time": "2022-05-27T07:22:26.006Z"
   },
   {
    "duration": 49,
    "start_time": "2022-05-27T07:22:26.088Z"
   },
   {
    "duration": 165,
    "start_time": "2022-05-27T07:22:26.139Z"
   },
   {
    "duration": 45,
    "start_time": "2022-05-27T07:22:26.305Z"
   },
   {
    "duration": 97,
    "start_time": "2022-05-27T07:22:26.357Z"
   },
   {
    "duration": 43,
    "start_time": "2022-05-27T07:22:26.458Z"
   },
   {
    "duration": 82,
    "start_time": "2022-05-27T07:22:26.503Z"
   },
   {
    "duration": 49,
    "start_time": "2022-05-27T07:22:26.587Z"
   },
   {
    "duration": 61,
    "start_time": "2022-05-27T07:22:26.639Z"
   },
   {
    "duration": 110,
    "start_time": "2022-05-27T07:22:26.702Z"
   },
   {
    "duration": 148,
    "start_time": "2022-05-27T07:22:26.815Z"
   },
   {
    "duration": 4,
    "start_time": "2022-05-27T07:22:26.967Z"
   },
   {
    "duration": 83,
    "start_time": "2022-05-27T07:22:26.976Z"
   },
   {
    "duration": 113,
    "start_time": "2022-05-27T07:22:27.061Z"
   },
   {
    "duration": 101,
    "start_time": "2022-05-27T07:22:27.177Z"
   },
   {
    "duration": 96,
    "start_time": "2022-05-27T07:22:27.284Z"
   },
   {
    "duration": 115,
    "start_time": "2022-05-27T07:22:27.382Z"
   },
   {
    "duration": 83,
    "start_time": "2022-05-27T07:22:27.499Z"
   },
   {
    "duration": 93,
    "start_time": "2022-05-27T07:22:27.589Z"
   },
   {
    "duration": 84,
    "start_time": "2022-05-27T07:22:27.685Z"
   },
   {
    "duration": 27,
    "start_time": "2022-05-27T07:22:27.771Z"
   },
   {
    "duration": 120,
    "start_time": "2022-05-27T07:22:27.802Z"
   },
   {
    "duration": 866,
    "start_time": "2022-05-27T07:22:27.928Z"
   },
   {
    "duration": 414,
    "start_time": "2022-05-27T07:22:28.796Z"
   },
   {
    "duration": 812,
    "start_time": "2022-05-27T07:22:29.214Z"
   },
   {
    "duration": 341,
    "start_time": "2022-05-27T07:22:30.029Z"
   },
   {
    "duration": 802,
    "start_time": "2022-05-27T07:22:30.372Z"
   },
   {
    "duration": 194,
    "start_time": "2022-05-27T07:22:31.180Z"
   },
   {
    "duration": 23,
    "start_time": "2022-05-27T07:22:31.381Z"
   },
   {
    "duration": 32,
    "start_time": "2022-05-27T07:22:31.407Z"
   },
   {
    "duration": 87,
    "start_time": "2022-05-27T07:22:31.441Z"
   },
   {
    "duration": 35,
    "start_time": "2022-05-27T07:22:31.530Z"
   },
   {
    "duration": 60,
    "start_time": "2022-05-27T07:22:31.573Z"
   },
   {
    "duration": 49,
    "start_time": "2022-05-27T07:22:31.635Z"
   },
   {
    "duration": 81,
    "start_time": "2022-05-27T07:22:31.691Z"
   },
   {
    "duration": 1447,
    "start_time": "2022-05-27T07:22:31.775Z"
   },
   {
    "duration": 12,
    "start_time": "2022-05-27T07:22:33.224Z"
   },
   {
    "duration": 28,
    "start_time": "2022-05-27T07:22:33.237Z"
   },
   {
    "duration": 38,
    "start_time": "2022-05-27T07:22:33.268Z"
   },
   {
    "duration": 68,
    "start_time": "2022-05-27T07:22:33.314Z"
   },
   {
    "duration": 302,
    "start_time": "2022-05-27T07:22:33.396Z"
   },
   {
    "duration": 27,
    "start_time": "2022-05-27T07:22:33.704Z"
   },
   {
    "duration": 13,
    "start_time": "2022-05-27T07:22:33.733Z"
   },
   {
    "duration": 32,
    "start_time": "2022-05-27T07:22:33.748Z"
   },
   {
    "duration": 318,
    "start_time": "2022-05-27T07:22:33.782Z"
   },
   {
    "duration": 614,
    "start_time": "2022-05-27T07:23:54.029Z"
   },
   {
    "duration": 192,
    "start_time": "2022-05-27T07:26:18.897Z"
   },
   {
    "duration": 439,
    "start_time": "2022-05-27T07:27:12.571Z"
   },
   {
    "duration": 547,
    "start_time": "2022-05-27T07:27:19.145Z"
   },
   {
    "duration": 602,
    "start_time": "2022-05-27T07:27:23.630Z"
   },
   {
    "duration": 1708,
    "start_time": "2022-05-27T07:27:33.187Z"
   },
   {
    "duration": 470,
    "start_time": "2022-05-27T07:27:34.897Z"
   },
   {
    "duration": 38,
    "start_time": "2022-05-27T07:27:35.378Z"
   },
   {
    "duration": 53,
    "start_time": "2022-05-27T07:27:35.426Z"
   },
   {
    "duration": 50,
    "start_time": "2022-05-27T07:27:35.491Z"
   },
   {
    "duration": 20,
    "start_time": "2022-05-27T07:27:35.544Z"
   },
   {
    "duration": 109,
    "start_time": "2022-05-27T07:27:35.566Z"
   },
   {
    "duration": 73,
    "start_time": "2022-05-27T07:27:35.677Z"
   },
   {
    "duration": 98,
    "start_time": "2022-05-27T07:27:35.752Z"
   },
   {
    "duration": 80,
    "start_time": "2022-05-27T07:27:35.852Z"
   },
   {
    "duration": 104,
    "start_time": "2022-05-27T07:27:35.935Z"
   },
   {
    "duration": 14,
    "start_time": "2022-05-27T07:27:36.041Z"
   },
   {
    "duration": 127,
    "start_time": "2022-05-27T07:27:36.067Z"
   },
   {
    "duration": 37,
    "start_time": "2022-05-27T07:27:36.207Z"
   },
   {
    "duration": 46,
    "start_time": "2022-05-27T07:27:36.250Z"
   },
   {
    "duration": 16,
    "start_time": "2022-05-27T07:27:36.302Z"
   },
   {
    "duration": 22,
    "start_time": "2022-05-27T07:27:36.320Z"
   },
   {
    "duration": 22,
    "start_time": "2022-05-27T07:27:36.344Z"
   },
   {
    "duration": 75,
    "start_time": "2022-05-27T07:27:36.368Z"
   },
   {
    "duration": 3,
    "start_time": "2022-05-27T07:27:36.444Z"
   },
   {
    "duration": 58,
    "start_time": "2022-05-27T07:27:36.449Z"
   },
   {
    "duration": 20,
    "start_time": "2022-05-27T07:27:36.511Z"
   },
   {
    "duration": 15,
    "start_time": "2022-05-27T07:27:36.534Z"
   },
   {
    "duration": 31,
    "start_time": "2022-05-27T07:27:36.552Z"
   },
   {
    "duration": 48,
    "start_time": "2022-05-27T07:27:36.585Z"
   },
   {
    "duration": 14,
    "start_time": "2022-05-27T07:27:36.635Z"
   },
   {
    "duration": 83,
    "start_time": "2022-05-27T07:27:36.651Z"
   },
   {
    "duration": 12,
    "start_time": "2022-05-27T07:27:36.736Z"
   },
   {
    "duration": 25,
    "start_time": "2022-05-27T07:27:36.751Z"
   },
   {
    "duration": 89,
    "start_time": "2022-05-27T07:27:36.778Z"
   },
   {
    "duration": 657,
    "start_time": "2022-05-27T07:27:36.869Z"
   },
   {
    "duration": 536,
    "start_time": "2022-05-27T07:27:37.530Z"
   },
   {
    "duration": 737,
    "start_time": "2022-05-27T07:27:38.068Z"
   },
   {
    "duration": 317,
    "start_time": "2022-05-27T07:27:38.812Z"
   },
   {
    "duration": 805,
    "start_time": "2022-05-27T07:27:39.131Z"
   },
   {
    "duration": 229,
    "start_time": "2022-05-27T07:27:39.938Z"
   },
   {
    "duration": 29,
    "start_time": "2022-05-27T07:27:40.169Z"
   },
   {
    "duration": 42,
    "start_time": "2022-05-27T07:27:40.200Z"
   },
   {
    "duration": 30,
    "start_time": "2022-05-27T07:27:40.244Z"
   },
   {
    "duration": 64,
    "start_time": "2022-05-27T07:27:40.276Z"
   },
   {
    "duration": 10,
    "start_time": "2022-05-27T07:27:40.347Z"
   },
   {
    "duration": 84,
    "start_time": "2022-05-27T07:27:40.362Z"
   },
   {
    "duration": 99,
    "start_time": "2022-05-27T07:27:40.448Z"
   },
   {
    "duration": 2109,
    "start_time": "2022-05-27T07:27:40.549Z"
   },
   {
    "duration": 27,
    "start_time": "2022-05-27T07:27:42.661Z"
   },
   {
    "duration": 160,
    "start_time": "2022-05-27T07:27:42.696Z"
   },
   {
    "duration": 28,
    "start_time": "2022-05-27T07:27:42.858Z"
   },
   {
    "duration": 97,
    "start_time": "2022-05-27T07:27:42.889Z"
   },
   {
    "duration": 815,
    "start_time": "2022-05-27T07:27:42.988Z"
   },
   {
    "duration": 67,
    "start_time": "2022-05-27T07:27:43.806Z"
   },
   {
    "duration": 109,
    "start_time": "2022-05-27T07:27:43.875Z"
   },
   {
    "duration": 171,
    "start_time": "2022-05-27T07:27:43.986Z"
   },
   {
    "duration": 431,
    "start_time": "2022-05-27T07:27:44.159Z"
   },
   {
    "duration": 1552,
    "start_time": "2022-05-27T07:28:32.869Z"
   },
   {
    "duration": 122,
    "start_time": "2022-05-27T07:28:34.424Z"
   },
   {
    "duration": 27,
    "start_time": "2022-05-27T07:28:34.548Z"
   },
   {
    "duration": 63,
    "start_time": "2022-05-27T07:28:34.578Z"
   },
   {
    "duration": 5,
    "start_time": "2022-05-27T07:28:34.644Z"
   },
   {
    "duration": 70,
    "start_time": "2022-05-27T07:28:34.650Z"
   },
   {
    "duration": 32,
    "start_time": "2022-05-27T07:28:34.722Z"
   },
   {
    "duration": 17,
    "start_time": "2022-05-27T07:28:34.760Z"
   },
   {
    "duration": 58,
    "start_time": "2022-05-27T07:28:34.779Z"
   },
   {
    "duration": 24,
    "start_time": "2022-05-27T07:28:34.838Z"
   },
   {
    "duration": 146,
    "start_time": "2022-05-27T07:28:34.865Z"
   },
   {
    "duration": 13,
    "start_time": "2022-05-27T07:28:35.014Z"
   },
   {
    "duration": 44,
    "start_time": "2022-05-27T07:28:35.029Z"
   },
   {
    "duration": 2,
    "start_time": "2022-05-27T07:28:35.078Z"
   },
   {
    "duration": 69,
    "start_time": "2022-05-27T07:28:35.082Z"
   },
   {
    "duration": 76,
    "start_time": "2022-05-27T07:28:35.162Z"
   },
   {
    "duration": 32,
    "start_time": "2022-05-27T07:28:35.240Z"
   },
   {
    "duration": 69,
    "start_time": "2022-05-27T07:28:35.274Z"
   },
   {
    "duration": 104,
    "start_time": "2022-05-27T07:28:35.345Z"
   },
   {
    "duration": 5,
    "start_time": "2022-05-27T07:28:35.459Z"
   },
   {
    "duration": 71,
    "start_time": "2022-05-27T07:28:35.466Z"
   },
   {
    "duration": 27,
    "start_time": "2022-05-27T07:28:35.540Z"
   },
   {
    "duration": 70,
    "start_time": "2022-05-27T07:28:35.570Z"
   },
   {
    "duration": 93,
    "start_time": "2022-05-27T07:28:35.642Z"
   },
   {
    "duration": 22,
    "start_time": "2022-05-27T07:28:35.738Z"
   },
   {
    "duration": 64,
    "start_time": "2022-05-27T07:28:35.763Z"
   },
   {
    "duration": 74,
    "start_time": "2022-05-27T07:28:35.830Z"
   },
   {
    "duration": 54,
    "start_time": "2022-05-27T07:28:35.906Z"
   },
   {
    "duration": 78,
    "start_time": "2022-05-27T07:28:35.963Z"
   },
   {
    "duration": 66,
    "start_time": "2022-05-27T07:28:36.044Z"
   },
   {
    "duration": 624,
    "start_time": "2022-05-27T07:28:36.112Z"
   },
   {
    "duration": 481,
    "start_time": "2022-05-27T07:28:36.738Z"
   },
   {
    "duration": 879,
    "start_time": "2022-05-27T07:28:37.224Z"
   },
   {
    "duration": 364,
    "start_time": "2022-05-27T07:28:38.110Z"
   },
   {
    "duration": 801,
    "start_time": "2022-05-27T07:28:38.476Z"
   },
   {
    "duration": 313,
    "start_time": "2022-05-27T07:28:39.280Z"
   },
   {
    "duration": 34,
    "start_time": "2022-05-27T07:28:39.595Z"
   },
   {
    "duration": 4,
    "start_time": "2022-05-27T07:28:39.662Z"
   },
   {
    "duration": 72,
    "start_time": "2022-05-27T07:28:39.668Z"
   },
   {
    "duration": 42,
    "start_time": "2022-05-27T07:28:39.743Z"
   },
   {
    "duration": 66,
    "start_time": "2022-05-27T07:28:39.792Z"
   },
   {
    "duration": 81,
    "start_time": "2022-05-27T07:28:39.860Z"
   },
   {
    "duration": 74,
    "start_time": "2022-05-27T07:28:39.943Z"
   },
   {
    "duration": 1411,
    "start_time": "2022-05-27T07:28:40.020Z"
   },
   {
    "duration": 11,
    "start_time": "2022-05-27T07:28:41.433Z"
   },
   {
    "duration": 20,
    "start_time": "2022-05-27T07:28:41.447Z"
   },
   {
    "duration": 67,
    "start_time": "2022-05-27T07:28:41.469Z"
   },
   {
    "duration": 34,
    "start_time": "2022-05-27T07:28:41.538Z"
   },
   {
    "duration": 390,
    "start_time": "2022-05-27T07:28:41.575Z"
   },
   {
    "duration": 21,
    "start_time": "2022-05-27T07:28:41.967Z"
   },
   {
    "duration": 25,
    "start_time": "2022-05-27T07:28:41.991Z"
   },
   {
    "duration": 16,
    "start_time": "2022-05-27T07:28:42.018Z"
   },
   {
    "duration": 294,
    "start_time": "2022-05-27T07:28:42.036Z"
   },
   {
    "duration": 318,
    "start_time": "2022-05-27T07:29:12.795Z"
   },
   {
    "duration": 705,
    "start_time": "2022-05-27T07:29:18.109Z"
   },
   {
    "duration": 313,
    "start_time": "2022-05-27T07:29:49.441Z"
   },
   {
    "duration": 721,
    "start_time": "2022-05-27T07:29:54.115Z"
   },
   {
    "duration": 698,
    "start_time": "2022-05-27T07:30:00.225Z"
   },
   {
    "duration": 352,
    "start_time": "2022-05-27T07:30:08.891Z"
   },
   {
    "duration": 776,
    "start_time": "2022-05-27T07:30:14.242Z"
   },
   {
    "duration": 447,
    "start_time": "2022-05-27T07:30:48.499Z"
   },
   {
    "duration": 1185,
    "start_time": "2022-05-27T07:33:30.055Z"
   },
   {
    "duration": 823,
    "start_time": "2022-05-27T07:36:18.647Z"
   },
   {
    "duration": 249,
    "start_time": "2022-05-27T07:40:15.499Z"
   },
   {
    "duration": 595,
    "start_time": "2022-05-27T07:40:54.379Z"
   },
   {
    "duration": 29,
    "start_time": "2022-05-27T07:43:33.412Z"
   },
   {
    "duration": 40,
    "start_time": "2022-05-27T07:43:43.958Z"
   },
   {
    "duration": 36,
    "start_time": "2022-05-27T08:09:31.712Z"
   },
   {
    "duration": 342,
    "start_time": "2022-05-27T08:09:48.376Z"
   },
   {
    "duration": 565,
    "start_time": "2022-05-27T08:09:58.469Z"
   },
   {
    "duration": 305,
    "start_time": "2022-05-27T08:10:08.608Z"
   },
   {
    "duration": 52,
    "start_time": "2022-05-27T08:11:01.248Z"
   },
   {
    "duration": 38,
    "start_time": "2022-05-27T08:11:54.646Z"
   },
   {
    "duration": 14,
    "start_time": "2022-05-27T08:15:58.799Z"
   },
   {
    "duration": 33,
    "start_time": "2022-05-27T08:16:01.542Z"
   },
   {
    "duration": 40,
    "start_time": "2022-05-27T08:16:07.190Z"
   },
   {
    "duration": 19,
    "start_time": "2022-05-27T08:16:07.772Z"
   },
   {
    "duration": 20,
    "start_time": "2022-05-27T08:28:29.344Z"
   },
   {
    "duration": 21,
    "start_time": "2022-05-27T08:29:12.127Z"
   },
   {
    "duration": 61,
    "start_time": "2022-05-27T08:29:22.583Z"
   },
   {
    "duration": 30,
    "start_time": "2022-05-27T08:29:47.172Z"
   },
   {
    "duration": 6427,
    "start_time": "2022-05-27T08:31:05.719Z"
   },
   {
    "duration": 1827,
    "start_time": "2022-05-27T08:34:54.626Z"
   },
   {
    "duration": 137,
    "start_time": "2022-05-27T08:34:56.457Z"
   },
   {
    "duration": 26,
    "start_time": "2022-05-27T08:34:56.600Z"
   },
   {
    "duration": 118,
    "start_time": "2022-05-27T08:34:56.632Z"
   },
   {
    "duration": 108,
    "start_time": "2022-05-27T08:34:56.763Z"
   },
   {
    "duration": 118,
    "start_time": "2022-05-27T08:34:56.876Z"
   },
   {
    "duration": 77,
    "start_time": "2022-05-27T08:34:57.000Z"
   },
   {
    "duration": 22,
    "start_time": "2022-05-27T08:34:57.085Z"
   },
   {
    "duration": 104,
    "start_time": "2022-05-27T08:34:57.114Z"
   },
   {
    "duration": 29,
    "start_time": "2022-05-27T08:34:57.226Z"
   },
   {
    "duration": 216,
    "start_time": "2022-05-27T08:34:57.261Z"
   },
   {
    "duration": 36,
    "start_time": "2022-05-27T08:34:57.483Z"
   },
   {
    "duration": 48,
    "start_time": "2022-05-27T08:34:57.528Z"
   },
   {
    "duration": 6,
    "start_time": "2022-05-27T08:34:57.585Z"
   },
   {
    "duration": 40,
    "start_time": "2022-05-27T08:34:57.600Z"
   },
   {
    "duration": 80,
    "start_time": "2022-05-27T08:34:57.647Z"
   },
   {
    "duration": 31,
    "start_time": "2022-05-27T08:34:57.732Z"
   },
   {
    "duration": 34,
    "start_time": "2022-05-27T08:34:57.765Z"
   },
   {
    "duration": 80,
    "start_time": "2022-05-27T08:34:57.802Z"
   },
   {
    "duration": 54,
    "start_time": "2022-05-27T08:34:57.888Z"
   },
   {
    "duration": 26,
    "start_time": "2022-05-27T08:34:57.944Z"
   },
   {
    "duration": 16,
    "start_time": "2022-05-27T08:34:57.972Z"
   },
   {
    "duration": 113,
    "start_time": "2022-05-27T08:34:57.992Z"
   },
   {
    "duration": 48,
    "start_time": "2022-05-27T08:34:58.111Z"
   },
   {
    "duration": 102,
    "start_time": "2022-05-27T08:34:58.162Z"
   },
   {
    "duration": 74,
    "start_time": "2022-05-27T08:34:58.266Z"
   },
   {
    "duration": 52,
    "start_time": "2022-05-27T08:34:58.345Z"
   },
   {
    "duration": 47,
    "start_time": "2022-05-27T08:34:58.403Z"
   },
   {
    "duration": 21,
    "start_time": "2022-05-27T08:34:58.462Z"
   },
   {
    "duration": 65,
    "start_time": "2022-05-27T08:34:58.487Z"
   },
   {
    "duration": 653,
    "start_time": "2022-05-27T08:34:58.567Z"
   },
   {
    "duration": 474,
    "start_time": "2022-05-27T08:34:59.224Z"
   },
   {
    "duration": 847,
    "start_time": "2022-05-27T08:34:59.711Z"
   },
   {
    "duration": 22,
    "start_time": "2022-05-27T08:35:00.564Z"
   },
   {
    "duration": 107,
    "start_time": "2022-05-27T08:35:00.593Z"
   },
   {
    "duration": 437,
    "start_time": "2022-05-27T08:35:00.705Z"
   },
   {
    "duration": 1438,
    "start_time": "2022-05-27T08:36:19.722Z"
   },
   {
    "duration": 110,
    "start_time": "2022-05-27T08:36:21.162Z"
   },
   {
    "duration": 21,
    "start_time": "2022-05-27T08:36:21.274Z"
   },
   {
    "duration": 66,
    "start_time": "2022-05-27T08:36:21.301Z"
   },
   {
    "duration": 75,
    "start_time": "2022-05-27T08:36:21.373Z"
   },
   {
    "duration": 105,
    "start_time": "2022-05-27T08:36:21.450Z"
   },
   {
    "duration": 137,
    "start_time": "2022-05-27T08:36:21.557Z"
   },
   {
    "duration": 114,
    "start_time": "2022-05-27T08:36:21.695Z"
   },
   {
    "duration": 41,
    "start_time": "2022-05-27T08:36:21.820Z"
   },
   {
    "duration": 71,
    "start_time": "2022-05-27T08:36:21.870Z"
   },
   {
    "duration": 326,
    "start_time": "2022-05-27T08:36:21.943Z"
   },
   {
    "duration": 31,
    "start_time": "2022-05-27T08:36:22.272Z"
   },
   {
    "duration": 226,
    "start_time": "2022-05-27T08:36:22.310Z"
   },
   {
    "duration": 95,
    "start_time": "2022-05-27T08:36:22.557Z"
   },
   {
    "duration": 109,
    "start_time": "2022-05-27T08:36:22.655Z"
   },
   {
    "duration": 162,
    "start_time": "2022-05-27T08:36:22.768Z"
   },
   {
    "duration": 128,
    "start_time": "2022-05-27T08:36:22.932Z"
   },
   {
    "duration": 121,
    "start_time": "2022-05-27T08:36:23.065Z"
   },
   {
    "duration": 186,
    "start_time": "2022-05-27T08:36:23.191Z"
   },
   {
    "duration": 45,
    "start_time": "2022-05-27T08:36:23.382Z"
   },
   {
    "duration": 113,
    "start_time": "2022-05-27T08:36:23.429Z"
   },
   {
    "duration": 208,
    "start_time": "2022-05-27T08:36:23.545Z"
   },
   {
    "duration": 99,
    "start_time": "2022-05-27T08:36:23.758Z"
   },
   {
    "duration": 52,
    "start_time": "2022-05-27T08:36:23.858Z"
   },
   {
    "duration": 55,
    "start_time": "2022-05-27T08:36:23.916Z"
   },
   {
    "duration": 60,
    "start_time": "2022-05-27T08:36:23.978Z"
   },
   {
    "duration": 94,
    "start_time": "2022-05-27T08:36:24.043Z"
   },
   {
    "duration": 57,
    "start_time": "2022-05-27T08:36:24.142Z"
   },
   {
    "duration": 87,
    "start_time": "2022-05-27T08:36:24.201Z"
   },
   {
    "duration": 79,
    "start_time": "2022-05-27T08:36:24.290Z"
   },
   {
    "duration": 657,
    "start_time": "2022-05-27T08:36:24.371Z"
   },
   {
    "duration": 497,
    "start_time": "2022-05-27T08:36:25.030Z"
   },
   {
    "duration": 782,
    "start_time": "2022-05-27T08:36:25.531Z"
   },
   {
    "duration": 16,
    "start_time": "2022-05-27T08:36:26.320Z"
   },
   {
    "duration": 115,
    "start_time": "2022-05-27T08:36:26.342Z"
   },
   {
    "duration": 525,
    "start_time": "2022-05-27T08:36:26.459Z"
   },
   {
    "duration": 947,
    "start_time": "2022-05-27T08:36:26.987Z"
   },
   {
    "duration": 233,
    "start_time": "2022-05-27T08:36:27.940Z"
   },
   {
    "duration": 18,
    "start_time": "2022-05-27T08:36:28.174Z"
   },
   {
    "duration": 115,
    "start_time": "2022-05-27T08:36:28.194Z"
   },
   {
    "duration": 142,
    "start_time": "2022-05-27T08:36:28.314Z"
   },
   {
    "duration": 85,
    "start_time": "2022-05-27T08:36:28.462Z"
   },
   {
    "duration": 77,
    "start_time": "2022-05-27T08:36:28.558Z"
   },
   {
    "duration": 61,
    "start_time": "2022-05-27T08:36:28.639Z"
   },
   {
    "duration": 99,
    "start_time": "2022-05-27T08:36:28.703Z"
   },
   {
    "duration": 1681,
    "start_time": "2022-05-27T08:36:28.806Z"
   },
   {
    "duration": 19,
    "start_time": "2022-05-27T08:36:30.493Z"
   },
   {
    "duration": 109,
    "start_time": "2022-05-27T08:36:30.523Z"
   },
   {
    "duration": 200,
    "start_time": "2022-05-27T08:36:30.644Z"
   },
   {
    "duration": 154,
    "start_time": "2022-05-27T08:36:30.851Z"
   },
   {
    "duration": 388,
    "start_time": "2022-05-27T08:36:31.017Z"
   },
   {
    "duration": 19,
    "start_time": "2022-05-27T08:36:31.411Z"
   },
   {
    "duration": 196,
    "start_time": "2022-05-27T08:36:31.436Z"
   },
   {
    "duration": 115,
    "start_time": "2022-05-27T08:36:31.638Z"
   },
   {
    "duration": 444,
    "start_time": "2022-05-27T08:36:31.759Z"
   },
   {
    "duration": 1358,
    "start_time": "2022-05-27T11:25:46.146Z"
   },
   {
    "duration": 115,
    "start_time": "2022-05-27T11:25:47.506Z"
   },
   {
    "duration": 14,
    "start_time": "2022-05-27T11:25:47.622Z"
   },
   {
    "duration": 13,
    "start_time": "2022-05-27T11:25:47.638Z"
   },
   {
    "duration": 4,
    "start_time": "2022-05-27T11:25:47.653Z"
   },
   {
    "duration": 7,
    "start_time": "2022-05-27T11:25:47.658Z"
   },
   {
    "duration": 30,
    "start_time": "2022-05-27T11:25:47.666Z"
   },
   {
    "duration": 10,
    "start_time": "2022-05-27T11:25:47.697Z"
   },
   {
    "duration": 34,
    "start_time": "2022-05-27T11:25:47.708Z"
   },
   {
    "duration": 19,
    "start_time": "2022-05-27T11:25:47.744Z"
   },
   {
    "duration": 56,
    "start_time": "2022-05-27T11:25:47.764Z"
   },
   {
    "duration": 9,
    "start_time": "2022-05-27T11:25:47.821Z"
   },
   {
    "duration": 22,
    "start_time": "2022-05-27T11:25:47.840Z"
   },
   {
    "duration": 3,
    "start_time": "2022-05-27T11:25:47.863Z"
   },
   {
    "duration": 17,
    "start_time": "2022-05-27T11:25:47.867Z"
   },
   {
    "duration": 8,
    "start_time": "2022-05-27T11:25:47.885Z"
   },
   {
    "duration": 23,
    "start_time": "2022-05-27T11:25:47.894Z"
   },
   {
    "duration": 22,
    "start_time": "2022-05-27T11:25:47.919Z"
   },
   {
    "duration": 19,
    "start_time": "2022-05-27T11:25:47.943Z"
   },
   {
    "duration": 2,
    "start_time": "2022-05-27T11:25:47.963Z"
   },
   {
    "duration": 12,
    "start_time": "2022-05-27T11:25:47.967Z"
   },
   {
    "duration": 13,
    "start_time": "2022-05-27T11:25:47.980Z"
   },
   {
    "duration": 11,
    "start_time": "2022-05-27T11:25:47.995Z"
   },
   {
    "duration": 15,
    "start_time": "2022-05-27T11:25:48.008Z"
   },
   {
    "duration": 27,
    "start_time": "2022-05-27T11:25:48.025Z"
   },
   {
    "duration": 9,
    "start_time": "2022-05-27T11:25:48.053Z"
   },
   {
    "duration": 20,
    "start_time": "2022-05-27T11:25:48.063Z"
   },
   {
    "duration": 11,
    "start_time": "2022-05-27T11:25:48.086Z"
   },
   {
    "duration": 17,
    "start_time": "2022-05-27T11:25:48.098Z"
   },
   {
    "duration": 28,
    "start_time": "2022-05-27T11:25:48.116Z"
   },
   {
    "duration": 321,
    "start_time": "2022-05-27T11:25:48.145Z"
   },
   {
    "duration": 301,
    "start_time": "2022-05-27T11:25:48.468Z"
   },
   {
    "duration": 514,
    "start_time": "2022-05-27T11:25:48.771Z"
   },
   {
    "duration": 10,
    "start_time": "2022-05-27T11:25:49.288Z"
   },
   {
    "duration": 10,
    "start_time": "2022-05-27T11:25:49.299Z"
   },
   {
    "duration": 263,
    "start_time": "2022-05-27T11:25:49.310Z"
   },
   {
    "duration": 612,
    "start_time": "2022-05-27T11:25:49.575Z"
   },
   {
    "duration": 127,
    "start_time": "2022-05-27T11:25:50.189Z"
   },
   {
    "duration": 9,
    "start_time": "2022-05-27T11:25:50.318Z"
   },
   {
    "duration": 31,
    "start_time": "2022-05-27T11:25:50.328Z"
   },
   {
    "duration": 19,
    "start_time": "2022-05-27T11:25:50.360Z"
   },
   {
    "duration": 13,
    "start_time": "2022-05-27T11:25:50.380Z"
   },
   {
    "duration": 19,
    "start_time": "2022-05-27T11:25:50.395Z"
   },
   {
    "duration": 19,
    "start_time": "2022-05-27T11:25:50.415Z"
   },
   {
    "duration": 32,
    "start_time": "2022-05-27T11:25:50.435Z"
   },
   {
    "duration": 1783,
    "start_time": "2022-05-27T11:25:50.468Z"
   },
   {
    "duration": 8,
    "start_time": "2022-05-27T11:25:52.252Z"
   },
   {
    "duration": 20,
    "start_time": "2022-05-27T11:25:52.261Z"
   },
   {
    "duration": 71,
    "start_time": "2022-05-27T11:25:52.282Z"
   },
   {
    "duration": 23,
    "start_time": "2022-05-27T11:25:52.355Z"
   },
   {
    "duration": 315,
    "start_time": "2022-05-27T11:25:52.380Z"
   },
   {
    "duration": 14,
    "start_time": "2022-05-27T11:25:52.697Z"
   },
   {
    "duration": 10,
    "start_time": "2022-05-27T11:25:52.713Z"
   },
   {
    "duration": 22,
    "start_time": "2022-05-27T11:25:52.725Z"
   },
   {
    "duration": 211,
    "start_time": "2022-05-27T11:25:52.748Z"
   },
   {
    "duration": 124,
    "start_time": "2022-05-27T11:29:18.453Z"
   },
   {
    "duration": 17,
    "start_time": "2022-05-27T11:30:13.378Z"
   },
   {
    "duration": 11,
    "start_time": "2022-05-27T11:30:36.067Z"
   },
   {
    "duration": 13,
    "start_time": "2022-05-27T11:30:54.940Z"
   },
   {
    "duration": 9,
    "start_time": "2022-05-27T11:30:58.180Z"
   },
   {
    "duration": 10,
    "start_time": "2022-05-27T11:31:35.369Z"
   },
   {
    "duration": 14,
    "start_time": "2022-05-27T11:31:59.782Z"
   },
   {
    "duration": 9,
    "start_time": "2022-05-27T11:32:01.535Z"
   },
   {
    "duration": 11,
    "start_time": "2022-05-27T11:32:04.281Z"
   },
   {
    "duration": 12,
    "start_time": "2022-05-27T11:32:49.099Z"
   },
   {
    "duration": 9,
    "start_time": "2022-05-27T11:33:11.829Z"
   },
   {
    "duration": 30,
    "start_time": "2022-05-27T11:33:38.446Z"
   },
   {
    "duration": 29,
    "start_time": "2022-05-27T11:33:53.730Z"
   },
   {
    "duration": 541,
    "start_time": "2022-05-27T11:39:47.558Z"
   },
   {
    "duration": 3,
    "start_time": "2022-05-27T11:39:56.925Z"
   },
   {
    "duration": 4,
    "start_time": "2022-05-27T11:39:59.430Z"
   },
   {
    "duration": 25,
    "start_time": "2022-05-27T11:40:58.193Z"
   },
   {
    "duration": 155,
    "start_time": "2022-05-27T11:43:30.272Z"
   },
   {
    "duration": 151,
    "start_time": "2022-05-27T11:43:51.926Z"
   },
   {
    "duration": 16,
    "start_time": "2022-05-27T11:44:08.436Z"
   },
   {
    "duration": 16,
    "start_time": "2022-05-27T11:44:30.218Z"
   },
   {
    "duration": 238,
    "start_time": "2022-05-27T11:44:42.925Z"
   },
   {
    "duration": 144,
    "start_time": "2022-05-27T11:45:12.886Z"
   },
   {
    "duration": 157,
    "start_time": "2022-05-27T11:46:03.566Z"
   },
   {
    "duration": 193,
    "start_time": "2022-05-27T11:46:22.264Z"
   },
   {
    "duration": 247,
    "start_time": "2022-05-27T11:46:39.109Z"
   },
   {
    "duration": 232,
    "start_time": "2022-05-27T11:46:50.725Z"
   },
   {
    "duration": 321,
    "start_time": "2022-05-27T11:46:58.344Z"
   },
   {
    "duration": 321,
    "start_time": "2022-05-27T11:51:26.208Z"
   },
   {
    "duration": 319,
    "start_time": "2022-05-27T11:51:43.998Z"
   },
   {
    "duration": 310,
    "start_time": "2022-05-27T11:51:51.992Z"
   },
   {
    "duration": 403,
    "start_time": "2022-05-27T11:52:58.175Z"
   },
   {
    "duration": 304,
    "start_time": "2022-05-27T11:53:10.956Z"
   },
   {
    "duration": 292,
    "start_time": "2022-05-27T11:53:19.449Z"
   },
   {
    "duration": 321,
    "start_time": "2022-05-27T11:53:26.238Z"
   },
   {
    "duration": 301,
    "start_time": "2022-05-27T11:53:37.680Z"
   },
   {
    "duration": 519,
    "start_time": "2022-05-27T11:54:36.630Z"
   },
   {
    "duration": 360,
    "start_time": "2022-05-27T11:54:46.243Z"
   },
   {
    "duration": 204,
    "start_time": "2022-05-27T11:54:54.094Z"
   },
   {
    "duration": 233,
    "start_time": "2022-05-27T11:55:34.351Z"
   },
   {
    "duration": 1150,
    "start_time": "2022-05-27T11:57:16.362Z"
   },
   {
    "duration": 67,
    "start_time": "2022-05-27T11:57:17.514Z"
   },
   {
    "duration": 13,
    "start_time": "2022-05-27T11:57:17.584Z"
   },
   {
    "duration": 15,
    "start_time": "2022-05-27T11:57:17.599Z"
   },
   {
    "duration": 6,
    "start_time": "2022-05-27T11:57:17.616Z"
   },
   {
    "duration": 25,
    "start_time": "2022-05-27T11:57:17.624Z"
   },
   {
    "duration": 32,
    "start_time": "2022-05-27T11:57:17.651Z"
   },
   {
    "duration": 15,
    "start_time": "2022-05-27T11:57:17.685Z"
   },
   {
    "duration": 12,
    "start_time": "2022-05-27T11:57:17.702Z"
   },
   {
    "duration": 18,
    "start_time": "2022-05-27T11:57:17.741Z"
   },
   {
    "duration": 90,
    "start_time": "2022-05-27T11:57:17.761Z"
   },
   {
    "duration": 10,
    "start_time": "2022-05-27T11:57:17.852Z"
   },
   {
    "duration": 26,
    "start_time": "2022-05-27T11:57:17.864Z"
   },
   {
    "duration": 2,
    "start_time": "2022-05-27T11:57:17.892Z"
   },
   {
    "duration": 10,
    "start_time": "2022-05-27T11:57:17.896Z"
   },
   {
    "duration": 7,
    "start_time": "2022-05-27T11:57:17.910Z"
   },
   {
    "duration": 34,
    "start_time": "2022-05-27T11:57:17.919Z"
   },
   {
    "duration": 20,
    "start_time": "2022-05-27T11:57:17.955Z"
   },
   {
    "duration": 32,
    "start_time": "2022-05-27T11:57:17.977Z"
   },
   {
    "duration": 3,
    "start_time": "2022-05-27T11:57:18.011Z"
   },
   {
    "duration": 28,
    "start_time": "2022-05-27T11:57:18.015Z"
   },
   {
    "duration": 18,
    "start_time": "2022-05-27T11:57:18.044Z"
   },
   {
    "duration": 12,
    "start_time": "2022-05-27T11:57:18.064Z"
   },
   {
    "duration": 13,
    "start_time": "2022-05-27T11:57:18.078Z"
   },
   {
    "duration": 15,
    "start_time": "2022-05-27T11:57:18.093Z"
   },
   {
    "duration": 37,
    "start_time": "2022-05-27T11:57:18.109Z"
   },
   {
    "duration": 16,
    "start_time": "2022-05-27T11:57:18.148Z"
   },
   {
    "duration": 10,
    "start_time": "2022-05-27T11:57:18.168Z"
   },
   {
    "duration": 11,
    "start_time": "2022-05-27T11:57:18.180Z"
   },
   {
    "duration": 50,
    "start_time": "2022-05-27T11:57:18.192Z"
   },
   {
    "duration": 343,
    "start_time": "2022-05-27T11:57:18.244Z"
   },
   {
    "duration": 339,
    "start_time": "2022-05-27T11:57:18.588Z"
   },
   {
    "duration": 516,
    "start_time": "2022-05-27T11:57:18.930Z"
   },
   {
    "duration": 14,
    "start_time": "2022-05-27T11:57:19.447Z"
   },
   {
    "duration": 3,
    "start_time": "2022-05-27T11:57:19.463Z"
   },
   {
    "duration": 7,
    "start_time": "2022-05-27T11:57:19.468Z"
   },
   {
    "duration": 267,
    "start_time": "2022-05-27T11:57:19.477Z"
   },
   {
    "duration": 282,
    "start_time": "2022-05-27T11:57:19.746Z"
   },
   {
    "duration": 1013,
    "start_time": "2022-05-27T11:57:20.030Z"
   },
   {
    "duration": 215,
    "start_time": "2022-05-27T11:57:21.045Z"
   },
   {
    "duration": 10,
    "start_time": "2022-05-27T11:57:21.262Z"
   },
   {
    "duration": 4,
    "start_time": "2022-05-27T11:57:21.274Z"
   },
   {
    "duration": 66,
    "start_time": "2022-05-27T11:57:21.280Z"
   },
   {
    "duration": 13,
    "start_time": "2022-05-27T11:57:21.348Z"
   },
   {
    "duration": 8,
    "start_time": "2022-05-27T11:57:21.363Z"
   },
   {
    "duration": 70,
    "start_time": "2022-05-27T11:57:21.373Z"
   },
   {
    "duration": 14,
    "start_time": "2022-05-27T11:57:21.444Z"
   },
   {
    "duration": 1333,
    "start_time": "2022-05-27T11:57:21.460Z"
   },
   {
    "duration": 7,
    "start_time": "2022-05-27T11:57:22.796Z"
   },
   {
    "duration": 19,
    "start_time": "2022-05-27T11:57:22.805Z"
   },
   {
    "duration": 15,
    "start_time": "2022-05-27T11:57:22.825Z"
   },
   {
    "duration": 21,
    "start_time": "2022-05-27T11:57:22.842Z"
   },
   {
    "duration": 228,
    "start_time": "2022-05-27T11:57:22.865Z"
   },
   {
    "duration": 20,
    "start_time": "2022-05-27T11:57:23.095Z"
   },
   {
    "duration": 28,
    "start_time": "2022-05-27T11:57:23.117Z"
   },
   {
    "duration": 9,
    "start_time": "2022-05-27T11:57:23.148Z"
   },
   {
    "duration": 219,
    "start_time": "2022-05-27T11:57:23.158Z"
   },
   {
    "duration": 452,
    "start_time": "2022-05-27T12:05:24.902Z"
   },
   {
    "duration": 565,
    "start_time": "2022-05-27T12:06:15.446Z"
   },
   {
    "duration": 125,
    "start_time": "2022-05-27T12:06:24.449Z"
   },
   {
    "duration": 678,
    "start_time": "2022-05-27T12:06:46.933Z"
   },
   {
    "duration": 188690,
    "start_time": "2022-05-27T12:07:53.583Z"
   },
   {
    "duration": 1442,
    "start_time": "2022-05-27T18:53:31.286Z"
   },
   {
    "duration": 124,
    "start_time": "2022-05-27T18:53:32.730Z"
   },
   {
    "duration": 14,
    "start_time": "2022-05-27T18:53:32.856Z"
   },
   {
    "duration": 15,
    "start_time": "2022-05-27T18:53:32.871Z"
   },
   {
    "duration": 11,
    "start_time": "2022-05-27T18:53:32.888Z"
   },
   {
    "duration": 13,
    "start_time": "2022-05-27T18:53:32.909Z"
   },
   {
    "duration": 38,
    "start_time": "2022-05-27T18:53:32.924Z"
   },
   {
    "duration": 9,
    "start_time": "2022-05-27T18:53:32.964Z"
   },
   {
    "duration": 12,
    "start_time": "2022-05-27T18:53:32.975Z"
   },
   {
    "duration": 14,
    "start_time": "2022-05-27T18:53:32.989Z"
   },
   {
    "duration": 72,
    "start_time": "2022-05-27T18:53:33.005Z"
   },
   {
    "duration": 18,
    "start_time": "2022-05-27T18:53:33.078Z"
   },
   {
    "duration": 32,
    "start_time": "2022-05-27T18:53:33.105Z"
   },
   {
    "duration": 2,
    "start_time": "2022-05-27T18:53:33.140Z"
   },
   {
    "duration": 13,
    "start_time": "2022-05-27T18:53:33.144Z"
   },
   {
    "duration": 14,
    "start_time": "2022-05-27T18:53:33.158Z"
   },
   {
    "duration": 26,
    "start_time": "2022-05-27T18:53:33.173Z"
   },
   {
    "duration": 22,
    "start_time": "2022-05-27T18:53:33.200Z"
   },
   {
    "duration": 22,
    "start_time": "2022-05-27T18:53:33.224Z"
   },
   {
    "duration": 3,
    "start_time": "2022-05-27T18:53:33.247Z"
   },
   {
    "duration": 25,
    "start_time": "2022-05-27T18:53:33.252Z"
   },
   {
    "duration": 31,
    "start_time": "2022-05-27T18:53:33.279Z"
   },
   {
    "duration": 16,
    "start_time": "2022-05-27T18:53:33.312Z"
   },
   {
    "duration": 12,
    "start_time": "2022-05-27T18:53:33.329Z"
   },
   {
    "duration": 13,
    "start_time": "2022-05-27T18:53:33.344Z"
   },
   {
    "duration": 10,
    "start_time": "2022-05-27T18:53:33.358Z"
   },
   {
    "duration": 15,
    "start_time": "2022-05-27T18:53:33.395Z"
   },
   {
    "duration": 11,
    "start_time": "2022-05-27T18:53:33.411Z"
   },
   {
    "duration": 15,
    "start_time": "2022-05-27T18:53:33.423Z"
   },
   {
    "duration": 25,
    "start_time": "2022-05-27T18:53:33.440Z"
   },
   {
    "duration": 398,
    "start_time": "2022-05-27T18:53:33.495Z"
   },
   {
    "duration": 360,
    "start_time": "2022-05-27T18:53:33.895Z"
   },
   {
    "duration": 517,
    "start_time": "2022-05-27T18:53:34.257Z"
   },
   {
    "duration": 28,
    "start_time": "2022-05-27T18:53:34.776Z"
   },
   {
    "duration": 3,
    "start_time": "2022-05-27T18:53:34.805Z"
   },
   {
    "duration": 9,
    "start_time": "2022-05-27T18:53:34.810Z"
   },
   {
    "duration": 264,
    "start_time": "2022-05-27T18:53:34.821Z"
   },
   {
    "duration": 280,
    "start_time": "2022-05-27T18:53:35.087Z"
   },
   {
    "duration": 538,
    "start_time": "2022-05-27T18:53:35.369Z"
   },
   {
    "duration": 20,
    "start_time": "2022-05-27T18:53:35.909Z"
   },
   {
    "duration": 635,
    "start_time": "2022-05-27T18:53:35.934Z"
   },
   {
    "duration": 1150,
    "start_time": "2022-05-27T18:54:53.784Z"
   },
   {
    "duration": 66,
    "start_time": "2022-05-27T18:54:54.936Z"
   },
   {
    "duration": 13,
    "start_time": "2022-05-27T18:54:55.003Z"
   },
   {
    "duration": 15,
    "start_time": "2022-05-27T18:54:55.018Z"
   },
   {
    "duration": 5,
    "start_time": "2022-05-27T18:54:55.035Z"
   },
   {
    "duration": 9,
    "start_time": "2022-05-27T18:54:55.041Z"
   },
   {
    "duration": 46,
    "start_time": "2022-05-27T18:54:55.052Z"
   },
   {
    "duration": 12,
    "start_time": "2022-05-27T18:54:55.100Z"
   },
   {
    "duration": 13,
    "start_time": "2022-05-27T18:54:55.113Z"
   },
   {
    "duration": 12,
    "start_time": "2022-05-27T18:54:55.128Z"
   },
   {
    "duration": 72,
    "start_time": "2022-05-27T18:54:55.142Z"
   },
   {
    "duration": 10,
    "start_time": "2022-05-27T18:54:55.215Z"
   },
   {
    "duration": 27,
    "start_time": "2022-05-27T18:54:55.227Z"
   },
   {
    "duration": 3,
    "start_time": "2022-05-27T18:54:55.257Z"
   },
   {
    "duration": 19,
    "start_time": "2022-05-27T18:54:55.261Z"
   },
   {
    "duration": 16,
    "start_time": "2022-05-27T18:54:55.282Z"
   },
   {
    "duration": 18,
    "start_time": "2022-05-27T18:54:55.301Z"
   },
   {
    "duration": 15,
    "start_time": "2022-05-27T18:54:55.320Z"
   },
   {
    "duration": 29,
    "start_time": "2022-05-27T18:54:55.337Z"
   },
   {
    "duration": 25,
    "start_time": "2022-05-27T18:54:55.369Z"
   },
   {
    "duration": 9,
    "start_time": "2022-05-27T18:54:55.396Z"
   },
   {
    "duration": 26,
    "start_time": "2022-05-27T18:54:55.407Z"
   },
   {
    "duration": 14,
    "start_time": "2022-05-27T18:54:55.434Z"
   },
   {
    "duration": 24,
    "start_time": "2022-05-27T18:54:55.451Z"
   },
   {
    "duration": 24,
    "start_time": "2022-05-27T18:54:55.477Z"
   },
   {
    "duration": 11,
    "start_time": "2022-05-27T18:54:55.503Z"
   },
   {
    "duration": 25,
    "start_time": "2022-05-27T18:54:55.515Z"
   },
   {
    "duration": 10,
    "start_time": "2022-05-27T18:54:55.543Z"
   },
   {
    "duration": 14,
    "start_time": "2022-05-27T18:54:55.555Z"
   },
   {
    "duration": 25,
    "start_time": "2022-05-27T18:54:55.594Z"
   },
   {
    "duration": 351,
    "start_time": "2022-05-27T18:54:55.620Z"
   },
   {
    "duration": 325,
    "start_time": "2022-05-27T18:54:55.973Z"
   },
   {
    "duration": 504,
    "start_time": "2022-05-27T18:54:56.299Z"
   },
   {
    "duration": 14,
    "start_time": "2022-05-27T18:54:56.805Z"
   },
   {
    "duration": 3,
    "start_time": "2022-05-27T18:54:56.821Z"
   },
   {
    "duration": 9,
    "start_time": "2022-05-27T18:54:56.826Z"
   },
   {
    "duration": 264,
    "start_time": "2022-05-27T18:54:56.837Z"
   },
   {
    "duration": 330,
    "start_time": "2022-05-27T18:54:57.102Z"
   },
   {
    "duration": 518,
    "start_time": "2022-05-27T18:54:57.435Z"
   },
   {
    "duration": 11,
    "start_time": "2022-05-27T18:54:57.954Z"
   },
   {
    "duration": 127,
    "start_time": "2022-05-27T18:54:57.969Z"
   },
   {
    "duration": 0,
    "start_time": "2022-05-27T18:54:58.097Z"
   },
   {
    "duration": 0,
    "start_time": "2022-05-27T18:54:58.099Z"
   },
   {
    "duration": 0,
    "start_time": "2022-05-27T18:54:58.101Z"
   },
   {
    "duration": 0,
    "start_time": "2022-05-27T18:54:58.102Z"
   },
   {
    "duration": 0,
    "start_time": "2022-05-27T18:54:58.104Z"
   },
   {
    "duration": 0,
    "start_time": "2022-05-27T18:54:58.105Z"
   },
   {
    "duration": 0,
    "start_time": "2022-05-27T18:54:58.106Z"
   },
   {
    "duration": 0,
    "start_time": "2022-05-27T18:54:58.108Z"
   },
   {
    "duration": 0,
    "start_time": "2022-05-27T18:54:58.110Z"
   },
   {
    "duration": 0,
    "start_time": "2022-05-27T18:54:58.111Z"
   },
   {
    "duration": 0,
    "start_time": "2022-05-27T18:54:58.112Z"
   },
   {
    "duration": 0,
    "start_time": "2022-05-27T18:54:58.114Z"
   },
   {
    "duration": 0,
    "start_time": "2022-05-27T18:54:58.115Z"
   },
   {
    "duration": 0,
    "start_time": "2022-05-27T18:54:58.117Z"
   },
   {
    "duration": 0,
    "start_time": "2022-05-27T18:54:58.118Z"
   },
   {
    "duration": 0,
    "start_time": "2022-05-27T18:54:58.120Z"
   },
   {
    "duration": 0,
    "start_time": "2022-05-27T18:54:58.121Z"
   },
   {
    "duration": 0,
    "start_time": "2022-05-27T18:54:58.123Z"
   },
   {
    "duration": 0,
    "start_time": "2022-05-27T18:54:58.125Z"
   },
   {
    "duration": 0,
    "start_time": "2022-05-27T18:54:58.126Z"
   },
   {
    "duration": 32,
    "start_time": "2022-05-27T18:55:36.423Z"
   },
   {
    "duration": 21,
    "start_time": "2022-05-27T18:55:57.110Z"
   },
   {
    "duration": 593,
    "start_time": "2022-05-27T18:56:48.926Z"
   },
   {
    "duration": 196984,
    "start_time": "2022-05-27T18:56:53.133Z"
   },
   {
    "duration": 12,
    "start_time": "2022-05-27T19:03:41.601Z"
   },
   {
    "duration": 15,
    "start_time": "2022-05-27T19:04:08.568Z"
   },
   {
    "duration": 19,
    "start_time": "2022-05-27T19:06:27.925Z"
   },
   {
    "duration": 147,
    "start_time": "2022-05-27T19:11:53.118Z"
   },
   {
    "duration": 159,
    "start_time": "2022-05-27T19:12:24.835Z"
   },
   {
    "duration": 204,
    "start_time": "2022-05-27T19:12:42.881Z"
   },
   {
    "duration": 177,
    "start_time": "2022-05-27T19:16:12.479Z"
   },
   {
    "duration": 231,
    "start_time": "2022-05-27T19:20:24.531Z"
   },
   {
    "duration": 165,
    "start_time": "2022-05-27T19:21:11.182Z"
   },
   {
    "duration": 171,
    "start_time": "2022-05-27T19:21:27.905Z"
   },
   {
    "duration": 190,
    "start_time": "2022-05-27T19:21:48.359Z"
   },
   {
    "duration": 168,
    "start_time": "2022-05-27T19:21:55.994Z"
   },
   {
    "duration": 207,
    "start_time": "2022-05-27T19:22:15.373Z"
   },
   {
    "duration": 180,
    "start_time": "2022-05-27T19:22:33.463Z"
   },
   {
    "duration": 198,
    "start_time": "2022-05-27T19:23:03.487Z"
   },
   {
    "duration": 236,
    "start_time": "2022-05-27T19:23:36.967Z"
   },
   {
    "duration": 222,
    "start_time": "2022-05-27T19:23:54.031Z"
   },
   {
    "duration": 226,
    "start_time": "2022-05-27T19:24:12.834Z"
   },
   {
    "duration": 1149,
    "start_time": "2022-05-27T19:25:35.819Z"
   },
   {
    "duration": 68,
    "start_time": "2022-05-27T19:25:36.972Z"
   },
   {
    "duration": 20,
    "start_time": "2022-05-27T19:25:37.042Z"
   },
   {
    "duration": 19,
    "start_time": "2022-05-27T19:25:37.064Z"
   },
   {
    "duration": 15,
    "start_time": "2022-05-27T19:25:37.085Z"
   },
   {
    "duration": 8,
    "start_time": "2022-05-27T19:25:37.102Z"
   },
   {
    "duration": 30,
    "start_time": "2022-05-27T19:25:37.112Z"
   },
   {
    "duration": 12,
    "start_time": "2022-05-27T19:25:37.144Z"
   },
   {
    "duration": 42,
    "start_time": "2022-05-27T19:25:37.160Z"
   },
   {
    "duration": 12,
    "start_time": "2022-05-27T19:25:37.204Z"
   },
   {
    "duration": 77,
    "start_time": "2022-05-27T19:25:37.218Z"
   },
   {
    "duration": 12,
    "start_time": "2022-05-27T19:25:37.297Z"
   },
   {
    "duration": 33,
    "start_time": "2022-05-27T19:25:37.311Z"
   },
   {
    "duration": 3,
    "start_time": "2022-05-27T19:25:37.346Z"
   },
   {
    "duration": 20,
    "start_time": "2022-05-27T19:25:37.350Z"
   },
   {
    "duration": 21,
    "start_time": "2022-05-27T19:25:37.372Z"
   },
   {
    "duration": 20,
    "start_time": "2022-05-27T19:25:37.395Z"
   },
   {
    "duration": 20,
    "start_time": "2022-05-27T19:25:37.418Z"
   },
   {
    "duration": 26,
    "start_time": "2022-05-27T19:25:37.441Z"
   },
   {
    "duration": 3,
    "start_time": "2022-05-27T19:25:37.469Z"
   },
   {
    "duration": 28,
    "start_time": "2022-05-27T19:25:37.473Z"
   },
   {
    "duration": 11,
    "start_time": "2022-05-27T19:25:37.503Z"
   },
   {
    "duration": 11,
    "start_time": "2022-05-27T19:25:37.516Z"
   },
   {
    "duration": 26,
    "start_time": "2022-05-27T19:25:37.528Z"
   },
   {
    "duration": 14,
    "start_time": "2022-05-27T19:25:37.556Z"
   },
   {
    "duration": 31,
    "start_time": "2022-05-27T19:25:37.572Z"
   },
   {
    "duration": 16,
    "start_time": "2022-05-27T19:25:37.608Z"
   },
   {
    "duration": 10,
    "start_time": "2022-05-27T19:25:37.627Z"
   },
   {
    "duration": 11,
    "start_time": "2022-05-27T19:25:37.638Z"
   },
   {
    "duration": 47,
    "start_time": "2022-05-27T19:25:37.651Z"
   },
   {
    "duration": 370,
    "start_time": "2022-05-27T19:25:37.700Z"
   },
   {
    "duration": 359,
    "start_time": "2022-05-27T19:25:38.072Z"
   },
   {
    "duration": 514,
    "start_time": "2022-05-27T19:25:38.433Z"
   },
   {
    "duration": 14,
    "start_time": "2022-05-27T19:25:38.948Z"
   },
   {
    "duration": 2,
    "start_time": "2022-05-27T19:25:38.964Z"
   },
   {
    "duration": 15,
    "start_time": "2022-05-27T19:25:38.968Z"
   },
   {
    "duration": 264,
    "start_time": "2022-05-27T19:25:38.985Z"
   },
   {
    "duration": 258,
    "start_time": "2022-05-27T19:25:39.251Z"
   },
   {
    "duration": 10,
    "start_time": "2022-05-27T19:25:39.510Z"
   },
   {
    "duration": 217,
    "start_time": "2022-05-27T19:25:39.522Z"
   },
   {
    "duration": 603,
    "start_time": "2022-05-27T19:25:39.741Z"
   },
   {
    "duration": 226,
    "start_time": "2022-05-27T19:25:40.346Z"
   },
   {
    "duration": 130,
    "start_time": "2022-05-27T19:25:40.573Z"
   },
   {
    "duration": 10,
    "start_time": "2022-05-27T19:25:40.705Z"
   },
   {
    "duration": 6,
    "start_time": "2022-05-27T19:25:40.716Z"
   },
   {
    "duration": 13,
    "start_time": "2022-05-27T19:25:40.723Z"
   },
   {
    "duration": 12,
    "start_time": "2022-05-27T19:25:40.738Z"
   },
   {
    "duration": 2,
    "start_time": "2022-05-27T19:25:40.752Z"
   },
   {
    "duration": 13,
    "start_time": "2022-05-27T19:25:40.755Z"
   },
   {
    "duration": 36,
    "start_time": "2022-05-27T19:25:40.770Z"
   },
   {
    "duration": 1359,
    "start_time": "2022-05-27T19:25:40.808Z"
   },
   {
    "duration": 33,
    "start_time": "2022-05-27T19:25:42.169Z"
   },
   {
    "duration": 22,
    "start_time": "2022-05-27T19:25:42.204Z"
   },
   {
    "duration": 15,
    "start_time": "2022-05-27T19:25:42.228Z"
   },
   {
    "duration": 21,
    "start_time": "2022-05-27T19:25:42.295Z"
   },
   {
    "duration": 327,
    "start_time": "2022-05-27T19:25:42.317Z"
   },
   {
    "duration": 13,
    "start_time": "2022-05-27T19:25:42.645Z"
   },
   {
    "duration": 10,
    "start_time": "2022-05-27T19:25:42.660Z"
   },
   {
    "duration": 26,
    "start_time": "2022-05-27T19:25:42.672Z"
   },
   {
    "duration": 204,
    "start_time": "2022-05-27T19:25:42.699Z"
   },
   {
    "duration": 93,
    "start_time": "2022-05-27T19:27:21.393Z"
   },
   {
    "duration": 1109,
    "start_time": "2022-05-27T19:27:56.022Z"
   },
   {
    "duration": 76,
    "start_time": "2022-05-27T19:27:57.133Z"
   },
   {
    "duration": 12,
    "start_time": "2022-05-27T19:27:57.210Z"
   },
   {
    "duration": 15,
    "start_time": "2022-05-27T19:27:57.224Z"
   },
   {
    "duration": 6,
    "start_time": "2022-05-27T19:27:57.241Z"
   },
   {
    "duration": 10,
    "start_time": "2022-05-27T19:27:57.249Z"
   },
   {
    "duration": 57,
    "start_time": "2022-05-27T19:27:57.261Z"
   },
   {
    "duration": 12,
    "start_time": "2022-05-27T19:27:57.320Z"
   },
   {
    "duration": 17,
    "start_time": "2022-05-27T19:27:57.333Z"
   },
   {
    "duration": 15,
    "start_time": "2022-05-27T19:27:57.353Z"
   },
   {
    "duration": 90,
    "start_time": "2022-05-27T19:27:57.370Z"
   },
   {
    "duration": 11,
    "start_time": "2022-05-27T19:27:57.462Z"
   },
   {
    "duration": 46,
    "start_time": "2022-05-27T19:27:57.475Z"
   },
   {
    "duration": 3,
    "start_time": "2022-05-27T19:27:57.523Z"
   },
   {
    "duration": 20,
    "start_time": "2022-05-27T19:27:57.528Z"
   },
   {
    "duration": 16,
    "start_time": "2022-05-27T19:27:57.550Z"
   },
   {
    "duration": 17,
    "start_time": "2022-05-27T19:27:57.569Z"
   },
   {
    "duration": 13,
    "start_time": "2022-05-27T19:27:57.595Z"
   },
   {
    "duration": 21,
    "start_time": "2022-05-27T19:27:57.610Z"
   },
   {
    "duration": 2,
    "start_time": "2022-05-27T19:27:57.633Z"
   },
   {
    "duration": 9,
    "start_time": "2022-05-27T19:27:57.637Z"
   },
   {
    "duration": 10,
    "start_time": "2022-05-27T19:27:57.648Z"
   },
   {
    "duration": 39,
    "start_time": "2022-05-27T19:27:57.660Z"
   },
   {
    "duration": 14,
    "start_time": "2022-05-27T19:27:57.701Z"
   },
   {
    "duration": 16,
    "start_time": "2022-05-27T19:27:57.717Z"
   },
   {
    "duration": 10,
    "start_time": "2022-05-27T19:27:57.735Z"
   },
   {
    "duration": 15,
    "start_time": "2022-05-27T19:27:57.747Z"
   },
   {
    "duration": 37,
    "start_time": "2022-05-27T19:27:57.766Z"
   },
   {
    "duration": 10,
    "start_time": "2022-05-27T19:27:57.804Z"
   },
   {
    "duration": 21,
    "start_time": "2022-05-27T19:27:57.815Z"
   },
   {
    "duration": 362,
    "start_time": "2022-05-27T19:27:57.837Z"
   },
   {
    "duration": 306,
    "start_time": "2022-05-27T19:27:58.201Z"
   },
   {
    "duration": 485,
    "start_time": "2022-05-27T19:27:58.509Z"
   },
   {
    "duration": 15,
    "start_time": "2022-05-27T19:27:58.996Z"
   },
   {
    "duration": 3,
    "start_time": "2022-05-27T19:27:59.013Z"
   },
   {
    "duration": 8,
    "start_time": "2022-05-27T19:27:59.018Z"
   },
   {
    "duration": 245,
    "start_time": "2022-05-27T19:27:59.028Z"
   },
   {
    "duration": 252,
    "start_time": "2022-05-27T19:27:59.274Z"
   },
   {
    "duration": 10,
    "start_time": "2022-05-27T19:27:59.527Z"
   },
   {
    "duration": 188,
    "start_time": "2022-05-27T19:27:59.538Z"
   },
   {
    "duration": 629,
    "start_time": "2022-05-27T19:27:59.728Z"
   },
   {
    "duration": 243,
    "start_time": "2022-05-27T19:28:00.359Z"
   },
   {
    "duration": 135,
    "start_time": "2022-05-27T19:28:00.603Z"
   },
   {
    "duration": 10,
    "start_time": "2022-05-27T19:28:00.740Z"
   },
   {
    "duration": 15,
    "start_time": "2022-05-27T19:28:00.752Z"
   },
   {
    "duration": 36,
    "start_time": "2022-05-27T19:28:00.769Z"
   },
   {
    "duration": 24,
    "start_time": "2022-05-27T19:28:00.807Z"
   },
   {
    "duration": 82,
    "start_time": "2022-05-27T19:28:00.833Z"
   },
   {
    "duration": 11,
    "start_time": "2022-05-27T19:28:00.917Z"
   },
   {
    "duration": 13,
    "start_time": "2022-05-27T19:28:00.930Z"
   },
   {
    "duration": 1039,
    "start_time": "2022-05-27T19:28:00.944Z"
   },
   {
    "duration": 10,
    "start_time": "2022-05-27T19:28:01.985Z"
   },
   {
    "duration": 19,
    "start_time": "2022-05-27T19:28:01.997Z"
   },
   {
    "duration": 21,
    "start_time": "2022-05-27T19:28:02.018Z"
   },
   {
    "duration": 55,
    "start_time": "2022-05-27T19:28:02.041Z"
   },
   {
    "duration": 237,
    "start_time": "2022-05-27T19:28:02.098Z"
   },
   {
    "duration": 14,
    "start_time": "2022-05-27T19:28:02.337Z"
   },
   {
    "duration": 13,
    "start_time": "2022-05-27T19:28:02.352Z"
   },
   {
    "duration": 28,
    "start_time": "2022-05-27T19:28:02.367Z"
   },
   {
    "duration": 404,
    "start_time": "2022-05-27T19:28:02.397Z"
   },
   {
    "duration": 2,
    "start_time": "2022-05-27T19:28:15.377Z"
   },
   {
    "duration": 107,
    "start_time": "2022-05-27T19:28:44.588Z"
   },
   {
    "duration": 122,
    "start_time": "2022-05-27T19:31:39.341Z"
   },
   {
    "duration": 11,
    "start_time": "2022-05-27T19:31:50.674Z"
   },
   {
    "duration": 73,
    "start_time": "2022-05-27T19:31:52.239Z"
   },
   {
    "duration": 13,
    "start_time": "2022-05-27T19:32:07.142Z"
   },
   {
    "duration": 77,
    "start_time": "2022-05-27T19:32:07.689Z"
   },
   {
    "duration": 13,
    "start_time": "2022-05-27T19:32:19.327Z"
   },
   {
    "duration": 82,
    "start_time": "2022-05-27T19:32:19.905Z"
   },
   {
    "duration": 12,
    "start_time": "2022-05-27T19:32:30.099Z"
   },
   {
    "duration": 11,
    "start_time": "2022-05-27T19:32:35.916Z"
   },
   {
    "duration": 78,
    "start_time": "2022-05-27T19:32:36.674Z"
   },
   {
    "duration": 22,
    "start_time": "2022-05-27T19:32:59.871Z"
   },
   {
    "duration": 79,
    "start_time": "2022-05-27T19:33:00.418Z"
   },
   {
    "duration": 22,
    "start_time": "2022-05-27T19:33:54.266Z"
   },
   {
    "duration": 36,
    "start_time": "2022-05-27T19:34:08.380Z"
   },
   {
    "duration": 20,
    "start_time": "2022-05-27T19:34:13.165Z"
   },
   {
    "duration": 23,
    "start_time": "2022-05-27T19:37:24.290Z"
   },
   {
    "duration": 85,
    "start_time": "2022-05-27T19:37:34.354Z"
   },
   {
    "duration": 102,
    "start_time": "2022-05-27T19:37:49.489Z"
   },
   {
    "duration": 10,
    "start_time": "2022-05-27T19:37:54.664Z"
   },
   {
    "duration": 11,
    "start_time": "2022-05-27T19:43:15.200Z"
   },
   {
    "duration": 155,
    "start_time": "2022-05-27T19:43:28.837Z"
   },
   {
    "duration": 8,
    "start_time": "2022-05-27T19:44:12.718Z"
   },
   {
    "duration": 16,
    "start_time": "2022-05-27T19:44:13.568Z"
   },
   {
    "duration": 21,
    "start_time": "2022-05-27T19:44:25.289Z"
   },
   {
    "duration": 17,
    "start_time": "2022-05-27T19:44:25.866Z"
   },
   {
    "duration": 12,
    "start_time": "2022-05-27T19:44:58.618Z"
   },
   {
    "duration": 17,
    "start_time": "2022-05-27T19:44:59.230Z"
   },
   {
    "duration": 1140,
    "start_time": "2022-05-27T19:45:13.128Z"
   },
   {
    "duration": 66,
    "start_time": "2022-05-27T19:45:14.270Z"
   },
   {
    "duration": 13,
    "start_time": "2022-05-27T19:45:14.337Z"
   },
   {
    "duration": 20,
    "start_time": "2022-05-27T19:45:14.352Z"
   },
   {
    "duration": 9,
    "start_time": "2022-05-27T19:45:14.373Z"
   },
   {
    "duration": 7,
    "start_time": "2022-05-27T19:45:14.394Z"
   },
   {
    "duration": 27,
    "start_time": "2022-05-27T19:45:14.402Z"
   },
   {
    "duration": 10,
    "start_time": "2022-05-27T19:45:14.431Z"
   },
   {
    "duration": 11,
    "start_time": "2022-05-27T19:45:14.442Z"
   },
   {
    "duration": 38,
    "start_time": "2022-05-27T19:45:14.457Z"
   },
   {
    "duration": 51,
    "start_time": "2022-05-27T19:45:14.497Z"
   },
   {
    "duration": 10,
    "start_time": "2022-05-27T19:45:14.550Z"
   },
   {
    "duration": 41,
    "start_time": "2022-05-27T19:45:14.561Z"
   },
   {
    "duration": 3,
    "start_time": "2022-05-27T19:45:14.603Z"
   },
   {
    "duration": 12,
    "start_time": "2022-05-27T19:45:14.607Z"
   },
   {
    "duration": 9,
    "start_time": "2022-05-27T19:45:14.621Z"
   },
   {
    "duration": 19,
    "start_time": "2022-05-27T19:45:14.632Z"
   },
   {
    "duration": 15,
    "start_time": "2022-05-27T19:45:14.652Z"
   },
   {
    "duration": 43,
    "start_time": "2022-05-27T19:45:14.669Z"
   },
   {
    "duration": 2,
    "start_time": "2022-05-27T19:45:14.714Z"
   },
   {
    "duration": 12,
    "start_time": "2022-05-27T19:45:14.718Z"
   },
   {
    "duration": 17,
    "start_time": "2022-05-27T19:45:14.732Z"
   },
   {
    "duration": 13,
    "start_time": "2022-05-27T19:45:14.751Z"
   },
   {
    "duration": 30,
    "start_time": "2022-05-27T19:45:14.766Z"
   },
   {
    "duration": 13,
    "start_time": "2022-05-27T19:45:14.797Z"
   },
   {
    "duration": 11,
    "start_time": "2022-05-27T19:45:14.812Z"
   },
   {
    "duration": 14,
    "start_time": "2022-05-27T19:45:14.824Z"
   },
   {
    "duration": 9,
    "start_time": "2022-05-27T19:45:14.842Z"
   },
   {
    "duration": 12,
    "start_time": "2022-05-27T19:45:14.852Z"
   },
   {
    "duration": 47,
    "start_time": "2022-05-27T19:45:14.865Z"
   },
   {
    "duration": 354,
    "start_time": "2022-05-27T19:45:14.914Z"
   },
   {
    "duration": 344,
    "start_time": "2022-05-27T19:45:15.270Z"
   },
   {
    "duration": 504,
    "start_time": "2022-05-27T19:45:15.616Z"
   },
   {
    "duration": 14,
    "start_time": "2022-05-27T19:45:16.121Z"
   },
   {
    "duration": 3,
    "start_time": "2022-05-27T19:45:16.137Z"
   },
   {
    "duration": 9,
    "start_time": "2022-05-27T19:45:16.142Z"
   },
   {
    "duration": 268,
    "start_time": "2022-05-27T19:45:16.153Z"
   },
   {
    "duration": 246,
    "start_time": "2022-05-27T19:45:16.423Z"
   },
   {
    "duration": 10,
    "start_time": "2022-05-27T19:45:16.670Z"
   },
   {
    "duration": 196,
    "start_time": "2022-05-27T19:45:16.682Z"
   },
   {
    "duration": 686,
    "start_time": "2022-05-27T19:45:16.879Z"
   },
   {
    "duration": 252,
    "start_time": "2022-05-27T19:45:17.567Z"
   },
   {
    "duration": 140,
    "start_time": "2022-05-27T19:45:17.820Z"
   },
   {
    "duration": 11,
    "start_time": "2022-05-27T19:45:17.962Z"
   },
   {
    "duration": 4,
    "start_time": "2022-05-27T19:45:17.975Z"
   },
   {
    "duration": 24,
    "start_time": "2022-05-27T19:45:17.980Z"
   },
   {
    "duration": 23,
    "start_time": "2022-05-27T19:45:18.005Z"
   },
   {
    "duration": 8,
    "start_time": "2022-05-27T19:45:18.029Z"
   },
   {
    "duration": 16,
    "start_time": "2022-05-27T19:45:18.038Z"
   },
   {
    "duration": 44,
    "start_time": "2022-05-27T19:45:18.055Z"
   },
   {
    "duration": 1123,
    "start_time": "2022-05-27T19:45:18.101Z"
   },
   {
    "duration": 8,
    "start_time": "2022-05-27T19:45:19.226Z"
   },
   {
    "duration": 16,
    "start_time": "2022-05-27T19:45:19.235Z"
   },
   {
    "duration": 17,
    "start_time": "2022-05-27T19:45:19.253Z"
   },
   {
    "duration": 41,
    "start_time": "2022-05-27T19:45:19.272Z"
   },
   {
    "duration": 225,
    "start_time": "2022-05-27T19:45:19.315Z"
   },
   {
    "duration": 15,
    "start_time": "2022-05-27T19:45:19.542Z"
   },
   {
    "duration": 17,
    "start_time": "2022-05-27T19:45:19.559Z"
   },
   {
    "duration": 32,
    "start_time": "2022-05-27T19:45:19.577Z"
   },
   {
    "duration": 201,
    "start_time": "2022-05-27T19:45:19.611Z"
   },
   {
    "duration": 307,
    "start_time": "2022-05-27T19:46:31.111Z"
   },
   {
    "duration": 224,
    "start_time": "2022-05-27T19:48:00.017Z"
   },
   {
    "duration": 610,
    "start_time": "2022-05-27T19:49:00.176Z"
   },
   {
    "duration": 60,
    "start_time": "2022-05-27T19:49:41.095Z"
   },
   {
    "duration": 5,
    "start_time": "2022-05-27T19:49:54.872Z"
   },
   {
    "duration": 12,
    "start_time": "2022-05-27T19:51:24.672Z"
   },
   {
    "duration": 1193,
    "start_time": "2022-05-27T19:52:28.764Z"
   },
   {
    "duration": 67,
    "start_time": "2022-05-27T19:52:29.959Z"
   },
   {
    "duration": 12,
    "start_time": "2022-05-27T19:52:30.028Z"
   },
   {
    "duration": 34,
    "start_time": "2022-05-27T19:52:30.042Z"
   },
   {
    "duration": 17,
    "start_time": "2022-05-27T19:52:30.077Z"
   },
   {
    "duration": 13,
    "start_time": "2022-05-27T19:52:30.095Z"
   },
   {
    "duration": 51,
    "start_time": "2022-05-27T19:52:30.110Z"
   },
   {
    "duration": 19,
    "start_time": "2022-05-27T19:52:30.163Z"
   },
   {
    "duration": 42,
    "start_time": "2022-05-27T19:52:30.184Z"
   },
   {
    "duration": 31,
    "start_time": "2022-05-27T19:52:30.229Z"
   },
   {
    "duration": 84,
    "start_time": "2022-05-27T19:52:30.262Z"
   },
   {
    "duration": 9,
    "start_time": "2022-05-27T19:52:30.349Z"
   },
   {
    "duration": 50,
    "start_time": "2022-05-27T19:52:30.360Z"
   },
   {
    "duration": 8,
    "start_time": "2022-05-27T19:52:30.413Z"
   },
   {
    "duration": 26,
    "start_time": "2022-05-27T19:52:30.423Z"
   },
   {
    "duration": 24,
    "start_time": "2022-05-27T19:52:30.451Z"
   },
   {
    "duration": 41,
    "start_time": "2022-05-27T19:52:30.477Z"
   },
   {
    "duration": 24,
    "start_time": "2022-05-27T19:52:30.520Z"
   },
   {
    "duration": 29,
    "start_time": "2022-05-27T19:52:30.546Z"
   },
   {
    "duration": 3,
    "start_time": "2022-05-27T19:52:30.577Z"
   },
   {
    "duration": 32,
    "start_time": "2022-05-27T19:52:30.581Z"
   },
   {
    "duration": 38,
    "start_time": "2022-05-27T19:52:30.614Z"
   },
   {
    "duration": 28,
    "start_time": "2022-05-27T19:52:30.654Z"
   },
   {
    "duration": 40,
    "start_time": "2022-05-27T19:52:30.684Z"
   },
   {
    "duration": 39,
    "start_time": "2022-05-27T19:52:30.725Z"
   },
   {
    "duration": 44,
    "start_time": "2022-05-27T19:52:30.766Z"
   },
   {
    "duration": 32,
    "start_time": "2022-05-27T19:52:30.812Z"
   },
   {
    "duration": 12,
    "start_time": "2022-05-27T19:52:30.848Z"
   },
   {
    "duration": 30,
    "start_time": "2022-05-27T19:52:30.861Z"
   },
   {
    "duration": 29,
    "start_time": "2022-05-27T19:52:30.893Z"
   },
   {
    "duration": 337,
    "start_time": "2022-05-27T19:52:30.924Z"
   },
   {
    "duration": 325,
    "start_time": "2022-05-27T19:52:31.264Z"
   },
   {
    "duration": 555,
    "start_time": "2022-05-27T19:52:31.591Z"
   },
   {
    "duration": 17,
    "start_time": "2022-05-27T19:52:32.148Z"
   },
   {
    "duration": 2,
    "start_time": "2022-05-27T19:52:32.167Z"
   },
   {
    "duration": 24,
    "start_time": "2022-05-27T19:52:32.171Z"
   },
   {
    "duration": 248,
    "start_time": "2022-05-27T19:52:32.197Z"
   },
   {
    "duration": 245,
    "start_time": "2022-05-27T19:52:32.446Z"
   },
   {
    "duration": 10,
    "start_time": "2022-05-27T19:52:32.693Z"
   },
   {
    "duration": 191,
    "start_time": "2022-05-27T19:52:32.705Z"
   },
   {
    "duration": 578,
    "start_time": "2022-05-27T19:52:32.898Z"
   },
   {
    "duration": 234,
    "start_time": "2022-05-27T19:52:33.478Z"
   },
   {
    "duration": 136,
    "start_time": "2022-05-27T19:52:33.714Z"
   },
   {
    "duration": 11,
    "start_time": "2022-05-27T19:52:33.852Z"
   },
   {
    "duration": 4,
    "start_time": "2022-05-27T19:52:33.865Z"
   },
   {
    "duration": 25,
    "start_time": "2022-05-27T19:52:33.871Z"
   },
   {
    "duration": 22,
    "start_time": "2022-05-27T19:52:33.897Z"
   },
   {
    "duration": 2,
    "start_time": "2022-05-27T19:52:33.921Z"
   },
   {
    "duration": 15,
    "start_time": "2022-05-27T19:52:33.924Z"
   },
   {
    "duration": 16,
    "start_time": "2022-05-27T19:52:33.941Z"
   },
   {
    "duration": 1560,
    "start_time": "2022-05-27T19:52:33.959Z"
   },
   {
    "duration": 10,
    "start_time": "2022-05-27T19:52:35.521Z"
   },
   {
    "duration": 23,
    "start_time": "2022-05-27T19:52:35.533Z"
   },
   {
    "duration": 17,
    "start_time": "2022-05-27T19:52:35.557Z"
   },
   {
    "duration": 29,
    "start_time": "2022-05-27T19:52:35.576Z"
   },
   {
    "duration": 242,
    "start_time": "2022-05-27T19:52:35.606Z"
   },
   {
    "duration": 13,
    "start_time": "2022-05-27T19:52:35.850Z"
   },
   {
    "duration": 10,
    "start_time": "2022-05-27T19:52:35.865Z"
   },
   {
    "duration": 23,
    "start_time": "2022-05-27T19:52:35.877Z"
   },
   {
    "duration": 255,
    "start_time": "2022-05-27T19:52:35.902Z"
   },
   {
    "duration": 5,
    "start_time": "2022-05-27T19:52:36.158Z"
   },
   {
    "duration": 15,
    "start_time": "2022-05-27T19:52:36.165Z"
   },
   {
    "duration": 38,
    "start_time": "2022-05-28T08:42:54.454Z"
   },
   {
    "duration": 1226,
    "start_time": "2022-05-28T08:43:01.440Z"
   },
   {
    "duration": 134,
    "start_time": "2022-05-28T08:43:02.668Z"
   },
   {
    "duration": 14,
    "start_time": "2022-05-28T08:43:02.804Z"
   },
   {
    "duration": 17,
    "start_time": "2022-05-28T08:43:02.821Z"
   },
   {
    "duration": 5,
    "start_time": "2022-05-28T08:43:02.840Z"
   },
   {
    "duration": 12,
    "start_time": "2022-05-28T08:43:02.847Z"
   },
   {
    "duration": 28,
    "start_time": "2022-05-28T08:43:02.877Z"
   },
   {
    "duration": 11,
    "start_time": "2022-05-28T08:43:02.907Z"
   },
   {
    "duration": 14,
    "start_time": "2022-05-28T08:43:02.920Z"
   },
   {
    "duration": 17,
    "start_time": "2022-05-28T08:43:02.938Z"
   },
   {
    "duration": 70,
    "start_time": "2022-05-28T08:43:02.957Z"
   },
   {
    "duration": 8,
    "start_time": "2022-05-28T08:43:03.029Z"
   },
   {
    "duration": 37,
    "start_time": "2022-05-28T08:43:03.038Z"
   },
   {
    "duration": 3,
    "start_time": "2022-05-28T08:43:03.076Z"
   },
   {
    "duration": 11,
    "start_time": "2022-05-28T08:43:03.081Z"
   },
   {
    "duration": 5,
    "start_time": "2022-05-28T08:43:03.093Z"
   },
   {
    "duration": 14,
    "start_time": "2022-05-28T08:43:03.099Z"
   },
   {
    "duration": 12,
    "start_time": "2022-05-28T08:43:03.114Z"
   },
   {
    "duration": 18,
    "start_time": "2022-05-28T08:43:03.127Z"
   },
   {
    "duration": 2,
    "start_time": "2022-05-28T08:43:03.146Z"
   },
   {
    "duration": 6,
    "start_time": "2022-05-28T08:43:03.175Z"
   },
   {
    "duration": 9,
    "start_time": "2022-05-28T08:43:03.183Z"
   },
   {
    "duration": 10,
    "start_time": "2022-05-28T08:43:03.194Z"
   },
   {
    "duration": 11,
    "start_time": "2022-05-28T08:43:03.205Z"
   },
   {
    "duration": 11,
    "start_time": "2022-05-28T08:43:03.217Z"
   },
   {
    "duration": 9,
    "start_time": "2022-05-28T08:43:03.229Z"
   },
   {
    "duration": 45,
    "start_time": "2022-05-28T08:43:03.239Z"
   },
   {
    "duration": 9,
    "start_time": "2022-05-28T08:43:03.288Z"
   },
   {
    "duration": 9,
    "start_time": "2022-05-28T08:43:03.298Z"
   },
   {
    "duration": 17,
    "start_time": "2022-05-28T08:43:03.309Z"
   },
   {
    "duration": 336,
    "start_time": "2022-05-28T08:43:03.328Z"
   },
   {
    "duration": 278,
    "start_time": "2022-05-28T08:43:03.674Z"
   },
   {
    "duration": 472,
    "start_time": "2022-05-28T08:43:03.953Z"
   },
   {
    "duration": 13,
    "start_time": "2022-05-28T08:43:04.427Z"
   },
   {
    "duration": 2,
    "start_time": "2022-05-28T08:43:04.441Z"
   },
   {
    "duration": 10,
    "start_time": "2022-05-28T08:43:04.445Z"
   },
   {
    "duration": 244,
    "start_time": "2022-05-28T08:43:04.457Z"
   },
   {
    "duration": 251,
    "start_time": "2022-05-28T08:43:04.703Z"
   },
   {
    "duration": 19,
    "start_time": "2022-05-28T08:43:04.956Z"
   },
   {
    "duration": 174,
    "start_time": "2022-05-28T08:43:04.976Z"
   },
   {
    "duration": 525,
    "start_time": "2022-05-28T08:43:05.152Z"
   },
   {
    "duration": 207,
    "start_time": "2022-05-28T08:43:05.679Z"
   },
   {
    "duration": 125,
    "start_time": "2022-05-28T08:43:05.887Z"
   },
   {
    "duration": 10,
    "start_time": "2022-05-28T08:43:06.013Z"
   },
   {
    "duration": 4,
    "start_time": "2022-05-28T08:43:06.024Z"
   },
   {
    "duration": 12,
    "start_time": "2022-05-28T08:43:06.029Z"
   },
   {
    "duration": 34,
    "start_time": "2022-05-28T08:43:06.042Z"
   },
   {
    "duration": 2,
    "start_time": "2022-05-28T08:43:06.077Z"
   },
   {
    "duration": 13,
    "start_time": "2022-05-28T08:43:06.081Z"
   },
   {
    "duration": 15,
    "start_time": "2022-05-28T08:43:06.095Z"
   },
   {
    "duration": 1313,
    "start_time": "2022-05-28T08:43:06.112Z"
   },
   {
    "duration": 7,
    "start_time": "2022-05-28T08:43:07.427Z"
   },
   {
    "duration": 45,
    "start_time": "2022-05-28T08:43:07.435Z"
   },
   {
    "duration": 14,
    "start_time": "2022-05-28T08:43:07.481Z"
   },
   {
    "duration": 20,
    "start_time": "2022-05-28T08:43:07.496Z"
   },
   {
    "duration": 484,
    "start_time": "2022-05-28T08:43:07.517Z"
   },
   {
    "duration": 12,
    "start_time": "2022-05-28T08:43:08.003Z"
   },
   {
    "duration": 62,
    "start_time": "2022-05-28T08:43:08.016Z"
   },
   {
    "duration": 7,
    "start_time": "2022-05-28T08:43:08.079Z"
   },
   {
    "duration": 321,
    "start_time": "2022-05-28T08:43:08.087Z"
   },
   {
    "duration": 4,
    "start_time": "2022-05-28T08:43:08.410Z"
   },
   {
    "duration": 13,
    "start_time": "2022-05-28T08:43:08.416Z"
   },
   {
    "duration": 1476,
    "start_time": "2022-05-28T10:41:36.861Z"
   },
   {
    "duration": 284,
    "start_time": "2022-05-28T10:41:38.340Z"
   },
   {
    "duration": 19,
    "start_time": "2022-05-28T10:41:38.626Z"
   },
   {
    "duration": 23,
    "start_time": "2022-05-28T10:41:38.647Z"
   },
   {
    "duration": 7,
    "start_time": "2022-05-28T10:41:38.679Z"
   },
   {
    "duration": 16,
    "start_time": "2022-05-28T10:41:38.688Z"
   },
   {
    "duration": 33,
    "start_time": "2022-05-28T10:41:38.705Z"
   },
   {
    "duration": 11,
    "start_time": "2022-05-28T10:41:38.740Z"
   },
   {
    "duration": 34,
    "start_time": "2022-05-28T10:41:38.752Z"
   },
   {
    "duration": 15,
    "start_time": "2022-05-28T10:41:38.788Z"
   },
   {
    "duration": 98,
    "start_time": "2022-05-28T10:41:38.805Z"
   },
   {
    "duration": 16,
    "start_time": "2022-05-28T10:41:38.905Z"
   },
   {
    "duration": 41,
    "start_time": "2022-05-28T10:41:38.923Z"
   },
   {
    "duration": 23,
    "start_time": "2022-05-28T10:41:38.968Z"
   },
   {
    "duration": 19,
    "start_time": "2022-05-28T10:41:38.994Z"
   },
   {
    "duration": 16,
    "start_time": "2022-05-28T10:41:39.016Z"
   },
   {
    "duration": 27,
    "start_time": "2022-05-28T10:41:39.034Z"
   },
   {
    "duration": 51,
    "start_time": "2022-05-28T10:41:39.063Z"
   },
   {
    "duration": 43,
    "start_time": "2022-05-28T10:41:39.116Z"
   },
   {
    "duration": 5,
    "start_time": "2022-05-28T10:41:39.162Z"
   },
   {
    "duration": 33,
    "start_time": "2022-05-28T10:41:39.177Z"
   },
   {
    "duration": 24,
    "start_time": "2022-05-28T10:41:39.212Z"
   },
   {
    "duration": 21,
    "start_time": "2022-05-28T10:41:39.238Z"
   },
   {
    "duration": 45,
    "start_time": "2022-05-28T10:41:39.265Z"
   },
   {
    "duration": 34,
    "start_time": "2022-05-28T10:41:39.312Z"
   },
   {
    "duration": 18,
    "start_time": "2022-05-28T10:41:39.349Z"
   },
   {
    "duration": 40,
    "start_time": "2022-05-28T10:41:39.371Z"
   },
   {
    "duration": 11,
    "start_time": "2022-05-28T10:41:39.413Z"
   },
   {
    "duration": 13,
    "start_time": "2022-05-28T10:41:39.425Z"
   },
   {
    "duration": 30,
    "start_time": "2022-05-28T10:41:39.440Z"
   },
   {
    "duration": 380,
    "start_time": "2022-05-28T10:41:39.472Z"
   },
   {
    "duration": 367,
    "start_time": "2022-05-28T10:41:39.854Z"
   },
   {
    "duration": 592,
    "start_time": "2022-05-28T10:41:40.223Z"
   },
   {
    "duration": 16,
    "start_time": "2022-05-28T10:41:40.817Z"
   },
   {
    "duration": 2,
    "start_time": "2022-05-28T10:41:40.835Z"
   },
   {
    "duration": 31,
    "start_time": "2022-05-28T10:41:40.839Z"
   },
   {
    "duration": 281,
    "start_time": "2022-05-28T10:41:40.878Z"
   },
   {
    "duration": 300,
    "start_time": "2022-05-28T10:41:41.161Z"
   },
   {
    "duration": 15,
    "start_time": "2022-05-28T10:41:41.464Z"
   },
   {
    "duration": 228,
    "start_time": "2022-05-28T10:41:41.484Z"
   },
   {
    "duration": 686,
    "start_time": "2022-05-28T10:41:41.716Z"
   },
   {
    "duration": 278,
    "start_time": "2022-05-28T10:41:42.404Z"
   },
   {
    "duration": 168,
    "start_time": "2022-05-28T10:41:42.684Z"
   },
   {
    "duration": 20,
    "start_time": "2022-05-28T10:41:42.854Z"
   },
   {
    "duration": 6,
    "start_time": "2022-05-28T10:41:42.878Z"
   },
   {
    "duration": 23,
    "start_time": "2022-05-28T10:41:42.887Z"
   },
   {
    "duration": 50,
    "start_time": "2022-05-28T10:41:42.912Z"
   },
   {
    "duration": 11,
    "start_time": "2022-05-28T10:41:42.964Z"
   },
   {
    "duration": 27,
    "start_time": "2022-05-28T10:41:42.977Z"
   },
   {
    "duration": 18,
    "start_time": "2022-05-28T10:41:43.006Z"
   },
   {
    "duration": 1144,
    "start_time": "2022-05-28T10:41:43.026Z"
   },
   {
    "duration": 14,
    "start_time": "2022-05-28T10:41:44.172Z"
   },
   {
    "duration": 16,
    "start_time": "2022-05-28T10:41:44.188Z"
   },
   {
    "duration": 17,
    "start_time": "2022-05-28T10:41:44.206Z"
   },
   {
    "duration": 55,
    "start_time": "2022-05-28T10:41:44.225Z"
   },
   {
    "duration": 255,
    "start_time": "2022-05-28T10:41:44.283Z"
   },
   {
    "duration": 40,
    "start_time": "2022-05-28T10:41:44.540Z"
   },
   {
    "duration": 15,
    "start_time": "2022-05-28T10:41:44.586Z"
   },
   {
    "duration": 12,
    "start_time": "2022-05-28T10:41:44.603Z"
   },
   {
    "duration": 283,
    "start_time": "2022-05-28T10:41:44.617Z"
   },
   {
    "duration": 6,
    "start_time": "2022-05-28T10:41:44.902Z"
   },
   {
    "duration": 19,
    "start_time": "2022-05-28T10:41:44.910Z"
   },
   {
    "duration": 1379,
    "start_time": "2022-05-28T10:47:48.246Z"
   },
   {
    "duration": 88,
    "start_time": "2022-05-28T10:47:49.628Z"
   },
   {
    "duration": 15,
    "start_time": "2022-05-28T10:47:49.717Z"
   },
   {
    "duration": 38,
    "start_time": "2022-05-28T10:47:49.735Z"
   },
   {
    "duration": 8,
    "start_time": "2022-05-28T10:47:49.778Z"
   },
   {
    "duration": 25,
    "start_time": "2022-05-28T10:47:49.787Z"
   },
   {
    "duration": 38,
    "start_time": "2022-05-28T10:47:49.814Z"
   },
   {
    "duration": 13,
    "start_time": "2022-05-28T10:47:49.854Z"
   },
   {
    "duration": 30,
    "start_time": "2022-05-28T10:47:49.869Z"
   },
   {
    "duration": 11,
    "start_time": "2022-05-28T10:47:49.902Z"
   },
   {
    "duration": 70,
    "start_time": "2022-05-28T10:47:49.915Z"
   },
   {
    "duration": 9,
    "start_time": "2022-05-28T10:47:49.987Z"
   },
   {
    "duration": 25,
    "start_time": "2022-05-28T10:47:49.998Z"
   },
   {
    "duration": 3,
    "start_time": "2022-05-28T10:47:50.025Z"
   },
   {
    "duration": 40,
    "start_time": "2022-05-28T10:47:50.030Z"
   },
   {
    "duration": 4,
    "start_time": "2022-05-28T10:47:50.073Z"
   },
   {
    "duration": 28,
    "start_time": "2022-05-28T10:47:50.081Z"
   },
   {
    "duration": 17,
    "start_time": "2022-05-28T10:47:50.111Z"
   },
   {
    "duration": 39,
    "start_time": "2022-05-28T10:47:50.129Z"
   },
   {
    "duration": 11,
    "start_time": "2022-05-28T10:47:50.170Z"
   },
   {
    "duration": 12,
    "start_time": "2022-05-28T10:47:50.184Z"
   },
   {
    "duration": 13,
    "start_time": "2022-05-28T10:47:50.198Z"
   },
   {
    "duration": 16,
    "start_time": "2022-05-28T10:47:50.213Z"
   },
   {
    "duration": 45,
    "start_time": "2022-05-28T10:47:50.232Z"
   },
   {
    "duration": 15,
    "start_time": "2022-05-28T10:47:50.283Z"
   },
   {
    "duration": 15,
    "start_time": "2022-05-28T10:47:50.300Z"
   },
   {
    "duration": 28,
    "start_time": "2022-05-28T10:47:50.317Z"
   },
   {
    "duration": 28,
    "start_time": "2022-05-28T10:47:50.349Z"
   },
   {
    "duration": 19,
    "start_time": "2022-05-28T10:47:50.379Z"
   },
   {
    "duration": 26,
    "start_time": "2022-05-28T10:47:50.400Z"
   },
   {
    "duration": 409,
    "start_time": "2022-05-28T10:47:50.428Z"
   },
   {
    "duration": 383,
    "start_time": "2022-05-28T10:47:50.838Z"
   },
   {
    "duration": 596,
    "start_time": "2022-05-28T10:47:51.223Z"
   },
   {
    "duration": 17,
    "start_time": "2022-05-28T10:47:51.821Z"
   },
   {
    "duration": 4,
    "start_time": "2022-05-28T10:47:51.840Z"
   },
   {
    "duration": 27,
    "start_time": "2022-05-28T10:47:51.846Z"
   },
   {
    "duration": 307,
    "start_time": "2022-05-28T10:47:51.875Z"
   },
   {
    "duration": 296,
    "start_time": "2022-05-28T10:47:52.185Z"
   },
   {
    "duration": 11,
    "start_time": "2022-05-28T10:47:52.485Z"
   },
   {
    "duration": 225,
    "start_time": "2022-05-28T10:47:52.498Z"
   },
   {
    "duration": 733,
    "start_time": "2022-05-28T10:47:52.725Z"
   },
   {
    "duration": 318,
    "start_time": "2022-05-28T10:47:53.459Z"
   },
   {
    "duration": 165,
    "start_time": "2022-05-28T10:47:53.782Z"
   },
   {
    "duration": 12,
    "start_time": "2022-05-28T10:47:53.949Z"
   },
   {
    "duration": 31,
    "start_time": "2022-05-28T10:47:53.963Z"
   },
   {
    "duration": 17,
    "start_time": "2022-05-28T10:47:53.996Z"
   },
   {
    "duration": 29,
    "start_time": "2022-05-28T10:47:54.015Z"
   },
   {
    "duration": 3,
    "start_time": "2022-05-28T10:47:54.046Z"
   },
   {
    "duration": 29,
    "start_time": "2022-05-28T10:47:54.051Z"
   },
   {
    "duration": 34,
    "start_time": "2022-05-28T10:47:54.082Z"
   },
   {
    "duration": 1203,
    "start_time": "2022-05-28T10:47:54.118Z"
   },
   {
    "duration": 56,
    "start_time": "2022-05-28T10:47:55.323Z"
   },
   {
    "duration": 31,
    "start_time": "2022-05-28T10:47:55.381Z"
   },
   {
    "duration": 66,
    "start_time": "2022-05-28T10:47:55.415Z"
   },
   {
    "duration": 88,
    "start_time": "2022-05-28T10:47:55.483Z"
   },
   {
    "duration": 702,
    "start_time": "2022-05-28T10:47:55.574Z"
   },
   {
    "duration": 15,
    "start_time": "2022-05-28T10:47:56.286Z"
   },
   {
    "duration": 12,
    "start_time": "2022-05-28T10:47:56.302Z"
   },
   {
    "duration": 64,
    "start_time": "2022-05-28T10:47:56.316Z"
   },
   {
    "duration": 278,
    "start_time": "2022-05-28T10:47:56.382Z"
   },
   {
    "duration": 15,
    "start_time": "2022-05-28T10:47:56.664Z"
   },
   {
    "duration": 24,
    "start_time": "2022-05-28T10:47:56.683Z"
   },
   {
    "duration": 4,
    "start_time": "2022-05-28T10:48:26.717Z"
   },
   {
    "duration": 332,
    "start_time": "2022-05-28T10:48:27.801Z"
   },
   {
    "duration": 1233,
    "start_time": "2022-05-28T10:48:42.089Z"
   },
   {
    "duration": 90,
    "start_time": "2022-05-28T10:48:43.324Z"
   },
   {
    "duration": 13,
    "start_time": "2022-05-28T10:48:43.416Z"
   },
   {
    "duration": 15,
    "start_time": "2022-05-28T10:48:43.432Z"
   },
   {
    "duration": 8,
    "start_time": "2022-05-28T10:48:43.465Z"
   },
   {
    "duration": 18,
    "start_time": "2022-05-28T10:48:43.474Z"
   },
   {
    "duration": 30,
    "start_time": "2022-05-28T10:48:43.493Z"
   },
   {
    "duration": 11,
    "start_time": "2022-05-28T10:48:43.525Z"
   },
   {
    "duration": 33,
    "start_time": "2022-05-28T10:48:43.537Z"
   },
   {
    "duration": 19,
    "start_time": "2022-05-28T10:48:43.573Z"
   },
   {
    "duration": 61,
    "start_time": "2022-05-28T10:48:43.594Z"
   },
   {
    "duration": 21,
    "start_time": "2022-05-28T10:48:43.657Z"
   },
   {
    "duration": 30,
    "start_time": "2022-05-28T10:48:43.680Z"
   },
   {
    "duration": 4,
    "start_time": "2022-05-28T10:48:43.712Z"
   },
   {
    "duration": 12,
    "start_time": "2022-05-28T10:48:43.718Z"
   },
   {
    "duration": 6,
    "start_time": "2022-05-28T10:48:43.732Z"
   },
   {
    "duration": 34,
    "start_time": "2022-05-28T10:48:43.740Z"
   },
   {
    "duration": 22,
    "start_time": "2022-05-28T10:48:43.781Z"
   },
   {
    "duration": 25,
    "start_time": "2022-05-28T10:48:43.805Z"
   },
   {
    "duration": 3,
    "start_time": "2022-05-28T10:48:43.832Z"
   },
   {
    "duration": 10,
    "start_time": "2022-05-28T10:48:43.836Z"
   },
   {
    "duration": 17,
    "start_time": "2022-05-28T10:48:43.867Z"
   },
   {
    "duration": 16,
    "start_time": "2022-05-28T10:48:43.885Z"
   },
   {
    "duration": 15,
    "start_time": "2022-05-28T10:48:43.902Z"
   },
   {
    "duration": 13,
    "start_time": "2022-05-28T10:48:43.919Z"
   },
   {
    "duration": 10,
    "start_time": "2022-05-28T10:48:43.934Z"
   },
   {
    "duration": 20,
    "start_time": "2022-05-28T10:48:43.969Z"
   },
   {
    "duration": 11,
    "start_time": "2022-05-28T10:48:43.994Z"
   },
   {
    "duration": 9,
    "start_time": "2022-05-28T10:48:44.007Z"
   },
   {
    "duration": 24,
    "start_time": "2022-05-28T10:48:44.018Z"
   },
   {
    "duration": 384,
    "start_time": "2022-05-28T10:48:44.065Z"
   },
   {
    "duration": 357,
    "start_time": "2022-05-28T10:48:44.451Z"
   },
   {
    "duration": 577,
    "start_time": "2022-05-28T10:48:44.811Z"
   },
   {
    "duration": 16,
    "start_time": "2022-05-28T10:48:45.390Z"
   },
   {
    "duration": 5,
    "start_time": "2022-05-28T10:48:45.408Z"
   },
   {
    "duration": 8,
    "start_time": "2022-05-28T10:48:45.415Z"
   },
   {
    "duration": 286,
    "start_time": "2022-05-28T10:48:45.425Z"
   },
   {
    "duration": 290,
    "start_time": "2022-05-28T10:48:45.713Z"
   },
   {
    "duration": 10,
    "start_time": "2022-05-28T10:48:46.005Z"
   },
   {
    "duration": 219,
    "start_time": "2022-05-28T10:48:46.016Z"
   },
   {
    "duration": 698,
    "start_time": "2022-05-28T10:48:46.236Z"
   },
   {
    "duration": 271,
    "start_time": "2022-05-28T10:48:46.936Z"
   },
   {
    "duration": 142,
    "start_time": "2022-05-28T10:48:47.209Z"
   },
   {
    "duration": 21,
    "start_time": "2022-05-28T10:48:47.353Z"
   },
   {
    "duration": 9,
    "start_time": "2022-05-28T10:48:47.380Z"
   },
   {
    "duration": 15,
    "start_time": "2022-05-28T10:48:47.391Z"
   },
   {
    "duration": 38,
    "start_time": "2022-05-28T10:48:47.408Z"
   },
   {
    "duration": 2,
    "start_time": "2022-05-28T10:48:47.448Z"
   },
   {
    "duration": 23,
    "start_time": "2022-05-28T10:48:47.464Z"
   },
   {
    "duration": 23,
    "start_time": "2022-05-28T10:48:47.489Z"
   },
   {
    "duration": 871,
    "start_time": "2022-05-28T10:48:47.513Z"
   },
   {
    "duration": 8,
    "start_time": "2022-05-28T10:48:48.386Z"
   },
   {
    "duration": 17,
    "start_time": "2022-05-28T10:48:48.396Z"
   },
   {
    "duration": 17,
    "start_time": "2022-05-28T10:48:48.415Z"
   },
   {
    "duration": 51,
    "start_time": "2022-05-28T10:48:48.434Z"
   },
   {
    "duration": 262,
    "start_time": "2022-05-28T10:48:48.487Z"
   },
   {
    "duration": 30,
    "start_time": "2022-05-28T10:48:48.750Z"
   },
   {
    "duration": 12,
    "start_time": "2022-05-28T10:48:48.782Z"
   },
   {
    "duration": 18,
    "start_time": "2022-05-28T10:48:48.795Z"
   },
   {
    "duration": 334,
    "start_time": "2022-05-28T10:48:48.815Z"
   },
   {
    "duration": 17,
    "start_time": "2022-05-28T10:48:49.151Z"
   },
   {
    "duration": 52,
    "start_time": "2022-05-28T10:48:49.170Z"
   },
   {
    "duration": 1387,
    "start_time": "2022-05-28T10:53:06.337Z"
   },
   {
    "duration": 92,
    "start_time": "2022-05-28T10:53:07.726Z"
   },
   {
    "duration": 14,
    "start_time": "2022-05-28T10:53:07.820Z"
   },
   {
    "duration": 36,
    "start_time": "2022-05-28T10:53:07.837Z"
   },
   {
    "duration": 6,
    "start_time": "2022-05-28T10:53:07.875Z"
   },
   {
    "duration": 24,
    "start_time": "2022-05-28T10:53:07.884Z"
   },
   {
    "duration": 29,
    "start_time": "2022-05-28T10:53:07.911Z"
   },
   {
    "duration": 27,
    "start_time": "2022-05-28T10:53:07.942Z"
   },
   {
    "duration": 20,
    "start_time": "2022-05-28T10:53:07.971Z"
   },
   {
    "duration": 18,
    "start_time": "2022-05-28T10:53:07.995Z"
   },
   {
    "duration": 105,
    "start_time": "2022-05-28T10:53:08.015Z"
   },
   {
    "duration": 9,
    "start_time": "2022-05-28T10:53:08.123Z"
   },
   {
    "duration": 49,
    "start_time": "2022-05-28T10:53:08.134Z"
   },
   {
    "duration": 4,
    "start_time": "2022-05-28T10:53:08.187Z"
   },
   {
    "duration": 18,
    "start_time": "2022-05-28T10:53:08.196Z"
   },
   {
    "duration": 7,
    "start_time": "2022-05-28T10:53:08.216Z"
   },
   {
    "duration": 21,
    "start_time": "2022-05-28T10:53:08.225Z"
   },
   {
    "duration": 41,
    "start_time": "2022-05-28T10:53:08.248Z"
   },
   {
    "duration": 27,
    "start_time": "2022-05-28T10:53:08.291Z"
   },
   {
    "duration": 3,
    "start_time": "2022-05-28T10:53:08.320Z"
   },
   {
    "duration": 12,
    "start_time": "2022-05-28T10:53:08.325Z"
   },
   {
    "duration": 11,
    "start_time": "2022-05-28T10:53:08.339Z"
   },
   {
    "duration": 57,
    "start_time": "2022-05-28T10:53:08.352Z"
   },
   {
    "duration": 18,
    "start_time": "2022-05-28T10:53:08.412Z"
   },
   {
    "duration": 20,
    "start_time": "2022-05-28T10:53:08.432Z"
   },
   {
    "duration": 17,
    "start_time": "2022-05-28T10:53:08.454Z"
   },
   {
    "duration": 47,
    "start_time": "2022-05-28T10:53:08.473Z"
   },
   {
    "duration": 11,
    "start_time": "2022-05-28T10:53:08.526Z"
   },
   {
    "duration": 21,
    "start_time": "2022-05-28T10:53:08.539Z"
   },
   {
    "duration": 56,
    "start_time": "2022-05-28T10:53:08.563Z"
   },
   {
    "duration": 483,
    "start_time": "2022-05-28T10:53:08.622Z"
   },
   {
    "duration": 430,
    "start_time": "2022-05-28T10:53:09.107Z"
   },
   {
    "duration": 681,
    "start_time": "2022-05-28T10:53:09.539Z"
   },
   {
    "duration": 17,
    "start_time": "2022-05-28T10:53:10.222Z"
   },
   {
    "duration": 4,
    "start_time": "2022-05-28T10:53:10.241Z"
   },
   {
    "duration": 24,
    "start_time": "2022-05-28T10:53:10.247Z"
   },
   {
    "duration": 338,
    "start_time": "2022-05-28T10:53:10.273Z"
   },
   {
    "duration": 336,
    "start_time": "2022-05-28T10:53:10.613Z"
   },
   {
    "duration": 19,
    "start_time": "2022-05-28T10:53:10.953Z"
   },
   {
    "duration": 239,
    "start_time": "2022-05-28T10:53:10.974Z"
   },
   {
    "duration": 739,
    "start_time": "2022-05-28T10:53:11.215Z"
   },
   {
    "duration": 312,
    "start_time": "2022-05-28T10:53:11.956Z"
   },
   {
    "duration": 190,
    "start_time": "2022-05-28T10:53:12.270Z"
   },
   {
    "duration": 29,
    "start_time": "2022-05-28T10:53:12.462Z"
   },
   {
    "duration": 21,
    "start_time": "2022-05-28T10:53:12.493Z"
   },
   {
    "duration": 14,
    "start_time": "2022-05-28T10:53:12.516Z"
   },
   {
    "duration": 38,
    "start_time": "2022-05-28T10:53:12.532Z"
   },
   {
    "duration": 49,
    "start_time": "2022-05-28T10:53:12.573Z"
   },
   {
    "duration": 21,
    "start_time": "2022-05-28T10:53:12.624Z"
   },
   {
    "duration": 15,
    "start_time": "2022-05-28T10:53:12.646Z"
   },
   {
    "duration": 1144,
    "start_time": "2022-05-28T10:53:12.663Z"
   },
   {
    "duration": 9,
    "start_time": "2022-05-28T10:53:13.809Z"
   },
   {
    "duration": 25,
    "start_time": "2022-05-28T10:53:13.820Z"
   },
   {
    "duration": 24,
    "start_time": "2022-05-28T10:53:13.847Z"
   },
   {
    "duration": 36,
    "start_time": "2022-05-28T10:53:13.873Z"
   },
   {
    "duration": 316,
    "start_time": "2022-05-28T10:53:13.911Z"
   },
   {
    "duration": 14,
    "start_time": "2022-05-28T10:53:14.230Z"
   },
   {
    "duration": 36,
    "start_time": "2022-05-28T10:53:14.246Z"
   },
   {
    "duration": 29,
    "start_time": "2022-05-28T10:53:14.284Z"
   },
   {
    "duration": 293,
    "start_time": "2022-05-28T10:53:14.315Z"
   },
   {
    "duration": 8,
    "start_time": "2022-05-28T10:53:14.610Z"
   },
   {
    "duration": 18,
    "start_time": "2022-05-28T10:53:14.620Z"
   },
   {
    "duration": 1133,
    "start_time": "2022-05-28T20:44:08.951Z"
   },
   {
    "duration": 68,
    "start_time": "2022-05-28T20:44:10.086Z"
   },
   {
    "duration": 11,
    "start_time": "2022-05-28T20:44:10.155Z"
   },
   {
    "duration": 11,
    "start_time": "2022-05-28T20:44:10.168Z"
   },
   {
    "duration": 4,
    "start_time": "2022-05-28T20:44:10.181Z"
   },
   {
    "duration": 7,
    "start_time": "2022-05-28T20:44:10.186Z"
   },
   {
    "duration": 62,
    "start_time": "2022-05-28T20:44:10.194Z"
   },
   {
    "duration": 10,
    "start_time": "2022-05-28T20:44:10.258Z"
   },
   {
    "duration": 9,
    "start_time": "2022-05-28T20:44:10.271Z"
   },
   {
    "duration": 11,
    "start_time": "2022-05-28T20:44:10.284Z"
   },
   {
    "duration": 106,
    "start_time": "2022-05-28T20:44:10.297Z"
   },
   {
    "duration": 9,
    "start_time": "2022-05-28T20:44:10.406Z"
   },
   {
    "duration": 28,
    "start_time": "2022-05-28T20:44:10.417Z"
   },
   {
    "duration": 3,
    "start_time": "2022-05-28T20:44:10.446Z"
   },
   {
    "duration": 12,
    "start_time": "2022-05-28T20:44:10.451Z"
   },
   {
    "duration": 7,
    "start_time": "2022-05-28T20:44:10.464Z"
   },
   {
    "duration": 24,
    "start_time": "2022-05-28T20:44:10.473Z"
   },
   {
    "duration": 31,
    "start_time": "2022-05-28T20:44:10.499Z"
   },
   {
    "duration": 21,
    "start_time": "2022-05-28T20:44:10.532Z"
   },
   {
    "duration": 2,
    "start_time": "2022-05-28T20:44:10.555Z"
   },
   {
    "duration": 12,
    "start_time": "2022-05-28T20:44:10.558Z"
   },
   {
    "duration": 12,
    "start_time": "2022-05-28T20:44:10.572Z"
   },
   {
    "duration": 11,
    "start_time": "2022-05-28T20:44:10.586Z"
   },
   {
    "duration": 38,
    "start_time": "2022-05-28T20:44:10.598Z"
   },
   {
    "duration": 16,
    "start_time": "2022-05-28T20:44:10.638Z"
   },
   {
    "duration": 12,
    "start_time": "2022-05-28T20:44:10.656Z"
   },
   {
    "duration": 22,
    "start_time": "2022-05-28T20:44:10.670Z"
   },
   {
    "duration": 32,
    "start_time": "2022-05-28T20:44:10.696Z"
   },
   {
    "duration": 10,
    "start_time": "2022-05-28T20:44:10.730Z"
   },
   {
    "duration": 27,
    "start_time": "2022-05-28T20:44:10.741Z"
   },
   {
    "duration": 374,
    "start_time": "2022-05-28T20:44:10.770Z"
   },
   {
    "duration": 297,
    "start_time": "2022-05-28T20:44:11.150Z"
   },
   {
    "duration": 506,
    "start_time": "2022-05-28T20:44:11.448Z"
   },
   {
    "duration": 18,
    "start_time": "2022-05-28T20:44:11.956Z"
   },
   {
    "duration": 3,
    "start_time": "2022-05-28T20:44:11.976Z"
   },
   {
    "duration": 7,
    "start_time": "2022-05-28T20:44:11.981Z"
   },
   {
    "duration": 251,
    "start_time": "2022-05-28T20:44:11.990Z"
   },
   {
    "duration": 261,
    "start_time": "2022-05-28T20:44:12.243Z"
   },
   {
    "duration": 12,
    "start_time": "2022-05-28T20:44:12.506Z"
   },
   {
    "duration": 192,
    "start_time": "2022-05-28T20:44:12.528Z"
   },
   {
    "duration": 581,
    "start_time": "2022-05-28T20:44:12.726Z"
   },
   {
    "duration": 253,
    "start_time": "2022-05-28T20:44:13.309Z"
   },
   {
    "duration": 131,
    "start_time": "2022-05-28T20:44:13.564Z"
   },
   {
    "duration": 11,
    "start_time": "2022-05-28T20:44:13.696Z"
   },
   {
    "duration": 6,
    "start_time": "2022-05-28T20:44:13.708Z"
   },
   {
    "duration": 20,
    "start_time": "2022-05-28T20:44:13.715Z"
   },
   {
    "duration": 19,
    "start_time": "2022-05-28T20:44:13.737Z"
   },
   {
    "duration": 14,
    "start_time": "2022-05-28T20:44:13.757Z"
   },
   {
    "duration": 14,
    "start_time": "2022-05-28T20:44:13.772Z"
   },
   {
    "duration": 14,
    "start_time": "2022-05-28T20:44:13.788Z"
   },
   {
    "duration": 1267,
    "start_time": "2022-05-28T20:44:13.804Z"
   },
   {
    "duration": 10,
    "start_time": "2022-05-28T20:44:15.072Z"
   },
   {
    "duration": 25,
    "start_time": "2022-05-28T20:44:15.084Z"
   },
   {
    "duration": 18,
    "start_time": "2022-05-28T20:44:15.110Z"
   },
   {
    "duration": 26,
    "start_time": "2022-05-28T20:44:15.130Z"
   },
   {
    "duration": 258,
    "start_time": "2022-05-28T20:44:15.158Z"
   },
   {
    "duration": 19,
    "start_time": "2022-05-28T20:44:15.418Z"
   },
   {
    "duration": 14,
    "start_time": "2022-05-28T20:44:15.439Z"
   },
   {
    "duration": 8,
    "start_time": "2022-05-28T20:44:15.455Z"
   },
   {
    "duration": 233,
    "start_time": "2022-05-28T20:44:15.465Z"
   },
   {
    "duration": 5,
    "start_time": "2022-05-28T20:44:15.700Z"
   },
   {
    "duration": 26,
    "start_time": "2022-05-28T20:44:15.706Z"
   },
   {
    "duration": 1236,
    "start_time": "2022-05-29T06:31:43.660Z"
   },
   {
    "duration": 267,
    "start_time": "2022-05-29T06:31:44.899Z"
   },
   {
    "duration": 14,
    "start_time": "2022-05-29T06:31:45.167Z"
   },
   {
    "duration": 14,
    "start_time": "2022-05-29T06:31:45.182Z"
   },
   {
    "duration": 6,
    "start_time": "2022-05-29T06:31:45.199Z"
   },
   {
    "duration": 11,
    "start_time": "2022-05-29T06:31:45.207Z"
   },
   {
    "duration": 48,
    "start_time": "2022-05-29T06:31:45.220Z"
   },
   {
    "duration": 11,
    "start_time": "2022-05-29T06:31:45.270Z"
   },
   {
    "duration": 11,
    "start_time": "2022-05-29T06:31:45.283Z"
   },
   {
    "duration": 10,
    "start_time": "2022-05-29T06:31:45.295Z"
   },
   {
    "duration": 69,
    "start_time": "2022-05-29T06:31:45.306Z"
   },
   {
    "duration": 10,
    "start_time": "2022-05-29T06:31:45.376Z"
   },
   {
    "duration": 36,
    "start_time": "2022-05-29T06:31:45.387Z"
   },
   {
    "duration": 2,
    "start_time": "2022-05-29T06:31:45.426Z"
   },
   {
    "duration": 12,
    "start_time": "2022-05-29T06:31:45.429Z"
   },
   {
    "duration": 20,
    "start_time": "2022-05-29T06:31:45.442Z"
   },
   {
    "duration": 23,
    "start_time": "2022-05-29T06:31:45.464Z"
   },
   {
    "duration": 23,
    "start_time": "2022-05-29T06:31:45.489Z"
   },
   {
    "duration": 27,
    "start_time": "2022-05-29T06:31:45.513Z"
   },
   {
    "duration": 3,
    "start_time": "2022-05-29T06:31:45.541Z"
   },
   {
    "duration": 24,
    "start_time": "2022-05-29T06:31:45.545Z"
   },
   {
    "duration": 15,
    "start_time": "2022-05-29T06:31:45.570Z"
   },
   {
    "duration": 15,
    "start_time": "2022-05-29T06:31:45.586Z"
   },
   {
    "duration": 22,
    "start_time": "2022-05-29T06:31:45.602Z"
   },
   {
    "duration": 39,
    "start_time": "2022-05-29T06:31:45.626Z"
   },
   {
    "duration": 16,
    "start_time": "2022-05-29T06:31:45.667Z"
   },
   {
    "duration": 33,
    "start_time": "2022-05-29T06:31:45.684Z"
   },
   {
    "duration": 29,
    "start_time": "2022-05-29T06:31:45.719Z"
   },
   {
    "duration": 15,
    "start_time": "2022-05-29T06:31:45.750Z"
   },
   {
    "duration": 40,
    "start_time": "2022-05-29T06:31:45.767Z"
   },
   {
    "duration": 345,
    "start_time": "2022-05-29T06:31:45.809Z"
   },
   {
    "duration": 336,
    "start_time": "2022-05-29T06:31:46.156Z"
   },
   {
    "duration": 481,
    "start_time": "2022-05-29T06:31:46.494Z"
   },
   {
    "duration": 16,
    "start_time": "2022-05-29T06:31:46.977Z"
   },
   {
    "duration": 4,
    "start_time": "2022-05-29T06:31:46.994Z"
   },
   {
    "duration": 23,
    "start_time": "2022-05-29T06:31:47.000Z"
   },
   {
    "duration": 239,
    "start_time": "2022-05-29T06:31:47.025Z"
   },
   {
    "duration": 319,
    "start_time": "2022-05-29T06:31:47.266Z"
   },
   {
    "duration": 12,
    "start_time": "2022-05-29T06:31:47.587Z"
   },
   {
    "duration": 214,
    "start_time": "2022-05-29T06:31:47.601Z"
   },
   {
    "duration": 680,
    "start_time": "2022-05-29T06:31:47.827Z"
   },
   {
    "duration": 239,
    "start_time": "2022-05-29T06:31:48.509Z"
   },
   {
    "duration": 136,
    "start_time": "2022-05-29T06:31:48.750Z"
   },
   {
    "duration": 13,
    "start_time": "2022-05-29T06:31:48.888Z"
   },
   {
    "duration": 18,
    "start_time": "2022-05-29T06:31:48.902Z"
   },
   {
    "duration": 35,
    "start_time": "2022-05-29T06:31:48.922Z"
   },
   {
    "duration": 54,
    "start_time": "2022-05-29T06:31:48.959Z"
   },
   {
    "duration": 18,
    "start_time": "2022-05-29T06:31:49.016Z"
   },
   {
    "duration": 41,
    "start_time": "2022-05-29T06:31:49.039Z"
   },
   {
    "duration": 25,
    "start_time": "2022-05-29T06:31:49.082Z"
   },
   {
    "duration": 1233,
    "start_time": "2022-05-29T06:31:49.109Z"
   },
   {
    "duration": 9,
    "start_time": "2022-05-29T06:31:50.343Z"
   },
   {
    "duration": 32,
    "start_time": "2022-05-29T06:31:50.354Z"
   },
   {
    "duration": 19,
    "start_time": "2022-05-29T06:31:50.388Z"
   },
   {
    "duration": 34,
    "start_time": "2022-05-29T06:31:50.408Z"
   },
   {
    "duration": 293,
    "start_time": "2022-05-29T06:31:50.444Z"
   },
   {
    "duration": 18,
    "start_time": "2022-05-29T06:31:50.739Z"
   },
   {
    "duration": 13,
    "start_time": "2022-05-29T06:31:50.759Z"
   },
   {
    "duration": 8,
    "start_time": "2022-05-29T06:31:50.774Z"
   },
   {
    "duration": 301,
    "start_time": "2022-05-29T06:31:50.785Z"
   },
   {
    "duration": 7,
    "start_time": "2022-05-29T06:31:51.087Z"
   },
   {
    "duration": 33,
    "start_time": "2022-05-29T06:31:51.096Z"
   },
   {
    "duration": 45,
    "start_time": "2022-05-29T06:36:09.757Z"
   },
   {
    "duration": 261,
    "start_time": "2022-05-29T06:38:04.668Z"
   },
   {
    "duration": 10,
    "start_time": "2022-05-29T06:38:40.412Z"
   },
   {
    "duration": 182,
    "start_time": "2022-05-29T06:39:41.469Z"
   },
   {
    "duration": 105,
    "start_time": "2022-05-29T06:54:38.988Z"
   },
   {
    "duration": 20,
    "start_time": "2022-05-29T06:54:50.577Z"
   },
   {
    "duration": 19,
    "start_time": "2022-05-29T06:54:54.890Z"
   },
   {
    "duration": 1425,
    "start_time": "2022-05-29T13:11:28.209Z"
   },
   {
    "duration": 234,
    "start_time": "2022-05-29T13:11:29.636Z"
   },
   {
    "duration": 14,
    "start_time": "2022-05-29T13:11:29.872Z"
   },
   {
    "duration": 15,
    "start_time": "2022-05-29T13:11:29.887Z"
   },
   {
    "duration": 5,
    "start_time": "2022-05-29T13:11:29.903Z"
   },
   {
    "duration": 6,
    "start_time": "2022-05-29T13:11:29.909Z"
   },
   {
    "duration": 30,
    "start_time": "2022-05-29T13:11:29.916Z"
   },
   {
    "duration": 11,
    "start_time": "2022-05-29T13:11:29.947Z"
   },
   {
    "duration": 14,
    "start_time": "2022-05-29T13:11:29.960Z"
   },
   {
    "duration": 12,
    "start_time": "2022-05-29T13:11:29.976Z"
   },
   {
    "duration": 70,
    "start_time": "2022-05-29T13:11:29.989Z"
   },
   {
    "duration": 9,
    "start_time": "2022-05-29T13:11:30.061Z"
   },
   {
    "duration": 33,
    "start_time": "2022-05-29T13:11:30.071Z"
   },
   {
    "duration": 3,
    "start_time": "2022-05-29T13:11:30.105Z"
   },
   {
    "duration": 32,
    "start_time": "2022-05-29T13:11:30.110Z"
   },
   {
    "duration": 16,
    "start_time": "2022-05-29T13:11:30.143Z"
   },
   {
    "duration": 35,
    "start_time": "2022-05-29T13:11:30.161Z"
   },
   {
    "duration": 14,
    "start_time": "2022-05-29T13:11:30.198Z"
   },
   {
    "duration": 26,
    "start_time": "2022-05-29T13:11:30.214Z"
   },
   {
    "duration": 2,
    "start_time": "2022-05-29T13:11:30.242Z"
   },
   {
    "duration": 21,
    "start_time": "2022-05-29T13:11:30.246Z"
   },
   {
    "duration": 10,
    "start_time": "2022-05-29T13:11:30.269Z"
   },
   {
    "duration": 24,
    "start_time": "2022-05-29T13:11:30.280Z"
   },
   {
    "duration": 32,
    "start_time": "2022-05-29T13:11:30.306Z"
   },
   {
    "duration": 16,
    "start_time": "2022-05-29T13:11:30.340Z"
   },
   {
    "duration": 11,
    "start_time": "2022-05-29T13:11:30.358Z"
   },
   {
    "duration": 19,
    "start_time": "2022-05-29T13:11:30.370Z"
   },
   {
    "duration": 36,
    "start_time": "2022-05-29T13:11:30.394Z"
   },
   {
    "duration": 14,
    "start_time": "2022-05-29T13:11:30.432Z"
   },
   {
    "duration": 30,
    "start_time": "2022-05-29T13:11:30.448Z"
   },
   {
    "duration": 333,
    "start_time": "2022-05-29T13:11:30.480Z"
   },
   {
    "duration": 614,
    "start_time": "2022-05-29T13:11:30.815Z"
   },
   {
    "duration": 505,
    "start_time": "2022-05-29T13:11:31.431Z"
   },
   {
    "duration": 15,
    "start_time": "2022-05-29T13:11:31.937Z"
   },
   {
    "duration": 5,
    "start_time": "2022-05-29T13:11:31.953Z"
   },
   {
    "duration": 19,
    "start_time": "2022-05-29T13:11:31.960Z"
   },
   {
    "duration": 238,
    "start_time": "2022-05-29T13:11:31.981Z"
   },
   {
    "duration": 233,
    "start_time": "2022-05-29T13:11:32.221Z"
   },
   {
    "duration": 9,
    "start_time": "2022-05-29T13:11:32.455Z"
   },
   {
    "duration": 201,
    "start_time": "2022-05-29T13:11:32.465Z"
   },
   {
    "duration": 567,
    "start_time": "2022-05-29T13:11:32.669Z"
   },
   {
    "duration": 222,
    "start_time": "2022-05-29T13:11:33.238Z"
   },
   {
    "duration": 123,
    "start_time": "2022-05-29T13:11:33.462Z"
   },
   {
    "duration": 37,
    "start_time": "2022-05-29T13:11:33.587Z"
   },
   {
    "duration": 2,
    "start_time": "2022-05-29T13:11:33.626Z"
   },
   {
    "duration": 14,
    "start_time": "2022-05-29T13:11:33.629Z"
   },
   {
    "duration": 18,
    "start_time": "2022-05-29T13:11:33.644Z"
   },
   {
    "duration": 2,
    "start_time": "2022-05-29T13:11:33.664Z"
   },
   {
    "duration": 64,
    "start_time": "2022-05-29T13:11:33.667Z"
   },
   {
    "duration": 18,
    "start_time": "2022-05-29T13:11:33.733Z"
   },
   {
    "duration": 1162,
    "start_time": "2022-05-29T13:11:33.752Z"
   },
   {
    "duration": 7,
    "start_time": "2022-05-29T13:11:34.916Z"
   },
   {
    "duration": 19,
    "start_time": "2022-05-29T13:11:34.924Z"
   },
   {
    "duration": 15,
    "start_time": "2022-05-29T13:11:34.944Z"
   },
   {
    "duration": 20,
    "start_time": "2022-05-29T13:11:34.960Z"
   },
   {
    "duration": 229,
    "start_time": "2022-05-29T13:11:34.981Z"
   },
   {
    "duration": 23,
    "start_time": "2022-05-29T13:11:35.211Z"
   },
   {
    "duration": 10,
    "start_time": "2022-05-29T13:11:35.236Z"
   },
   {
    "duration": 7,
    "start_time": "2022-05-29T13:11:35.247Z"
   },
   {
    "duration": 232,
    "start_time": "2022-05-29T13:11:35.255Z"
   },
   {
    "duration": 4,
    "start_time": "2022-05-29T13:11:35.489Z"
   },
   {
    "duration": 19,
    "start_time": "2022-05-29T13:11:35.494Z"
   },
   {
    "duration": 603,
    "start_time": "2022-05-29T13:13:17.855Z"
   },
   {
    "duration": 308,
    "start_time": "2022-05-29T13:13:44.046Z"
   },
   {
    "duration": 1368,
    "start_time": "2022-05-29T13:14:03.147Z"
   },
   {
    "duration": 282,
    "start_time": "2022-05-29T13:14:18.688Z"
   },
   {
    "duration": 13,
    "start_time": "2022-05-29T13:14:31.740Z"
   },
   {
    "duration": 11,
    "start_time": "2022-05-29T13:14:57.447Z"
   },
   {
    "duration": 114,
    "start_time": "2022-05-29T13:15:45.942Z"
   },
   {
    "duration": 12,
    "start_time": "2022-05-29T13:16:10.349Z"
   },
   {
    "duration": 10,
    "start_time": "2022-05-29T13:16:18.688Z"
   },
   {
    "duration": 101,
    "start_time": "2022-05-29T13:18:25.454Z"
   },
   {
    "duration": 239,
    "start_time": "2022-05-29T13:18:45.993Z"
   },
   {
    "duration": 3,
    "start_time": "2022-05-29T13:20:02.293Z"
   },
   {
    "duration": 211,
    "start_time": "2022-05-29T13:20:04.442Z"
   },
   {
    "duration": 178,
    "start_time": "2022-05-29T13:20:36.307Z"
   },
   {
    "duration": 210,
    "start_time": "2022-05-29T13:20:43.743Z"
   },
   {
    "duration": 401,
    "start_time": "2022-05-29T13:21:24.983Z"
   },
   {
    "duration": 269,
    "start_time": "2022-05-29T13:21:35.823Z"
   },
   {
    "duration": 22,
    "start_time": "2022-05-29T13:22:03.481Z"
   },
   {
    "duration": 212,
    "start_time": "2022-05-29T13:22:11.221Z"
   },
   {
    "duration": 355,
    "start_time": "2022-05-29T13:22:31.762Z"
   },
   {
    "duration": 215,
    "start_time": "2022-05-29T13:22:37.830Z"
   },
   {
    "duration": 203,
    "start_time": "2022-05-29T13:23:34.342Z"
   },
   {
    "duration": 24,
    "start_time": "2022-05-29T13:24:06.244Z"
   },
   {
    "duration": 235,
    "start_time": "2022-05-29T13:24:27.260Z"
   },
   {
    "duration": 212,
    "start_time": "2022-05-29T13:24:45.783Z"
   },
   {
    "duration": 18,
    "start_time": "2022-05-29T13:29:15.710Z"
   },
   {
    "duration": 19,
    "start_time": "2022-05-29T13:29:17.863Z"
   },
   {
    "duration": 11,
    "start_time": "2022-05-29T13:29:23.465Z"
   },
   {
    "duration": 12,
    "start_time": "2022-05-29T13:30:18.390Z"
   },
   {
    "duration": 197,
    "start_time": "2022-05-29T13:30:31.618Z"
   },
   {
    "duration": 32,
    "start_time": "2022-05-29T13:33:05.551Z"
   },
   {
    "duration": 17,
    "start_time": "2022-05-29T13:34:17.297Z"
   },
   {
    "duration": 30,
    "start_time": "2022-05-29T13:41:44.369Z"
   },
   {
    "duration": 10,
    "start_time": "2022-05-29T13:42:23.867Z"
   },
   {
    "duration": 16,
    "start_time": "2022-05-29T13:42:24.542Z"
   },
   {
    "duration": 42,
    "start_time": "2022-05-29T13:42:26.244Z"
   },
   {
    "duration": 3,
    "start_time": "2022-05-29T13:43:36.841Z"
   },
   {
    "duration": 15,
    "start_time": "2022-05-29T13:43:37.375Z"
   },
   {
    "duration": 36,
    "start_time": "2022-05-29T13:43:54.340Z"
   },
   {
    "duration": 566,
    "start_time": "2022-05-29T13:51:41.811Z"
   },
   {
    "duration": 12,
    "start_time": "2022-05-29T13:52:22.717Z"
   },
   {
    "duration": 3,
    "start_time": "2022-05-29T13:52:23.556Z"
   },
   {
    "duration": 15,
    "start_time": "2022-05-29T13:52:24.254Z"
   },
   {
    "duration": 34,
    "start_time": "2022-05-29T13:52:32.188Z"
   },
   {
    "duration": 6,
    "start_time": "2022-05-29T13:57:11.994Z"
   },
   {
    "duration": 20,
    "start_time": "2022-05-29T13:57:13.348Z"
   },
   {
    "duration": 14,
    "start_time": "2022-05-29T13:57:15.884Z"
   },
   {
    "duration": 18,
    "start_time": "2022-05-29T13:57:27.921Z"
   },
   {
    "duration": 1168,
    "start_time": "2022-05-29T13:57:54.820Z"
   },
   {
    "duration": 232,
    "start_time": "2022-05-29T13:57:55.991Z"
   },
   {
    "duration": 13,
    "start_time": "2022-05-29T13:57:56.225Z"
   },
   {
    "duration": 17,
    "start_time": "2022-05-29T13:57:56.240Z"
   },
   {
    "duration": 5,
    "start_time": "2022-05-29T13:57:56.258Z"
   },
   {
    "duration": 8,
    "start_time": "2022-05-29T13:57:56.265Z"
   },
   {
    "duration": 50,
    "start_time": "2022-05-29T13:57:56.275Z"
   },
   {
    "duration": 14,
    "start_time": "2022-05-29T13:57:56.327Z"
   },
   {
    "duration": 11,
    "start_time": "2022-05-29T13:57:56.343Z"
   },
   {
    "duration": 11,
    "start_time": "2022-05-29T13:57:56.356Z"
   },
   {
    "duration": 73,
    "start_time": "2022-05-29T13:57:56.368Z"
   },
   {
    "duration": 9,
    "start_time": "2022-05-29T13:57:56.443Z"
   },
   {
    "duration": 25,
    "start_time": "2022-05-29T13:57:56.453Z"
   },
   {
    "duration": 2,
    "start_time": "2022-05-29T13:57:56.480Z"
   },
   {
    "duration": 10,
    "start_time": "2022-05-29T13:57:56.483Z"
   },
   {
    "duration": 5,
    "start_time": "2022-05-29T13:57:56.495Z"
   },
   {
    "duration": 35,
    "start_time": "2022-05-29T13:57:56.501Z"
   },
   {
    "duration": 14,
    "start_time": "2022-05-29T13:57:56.537Z"
   },
   {
    "duration": 20,
    "start_time": "2022-05-29T13:57:56.553Z"
   },
   {
    "duration": 2,
    "start_time": "2022-05-29T13:57:56.575Z"
   },
   {
    "duration": 11,
    "start_time": "2022-05-29T13:57:56.579Z"
   },
   {
    "duration": 38,
    "start_time": "2022-05-29T13:57:56.591Z"
   },
   {
    "duration": 13,
    "start_time": "2022-05-29T13:57:56.631Z"
   },
   {
    "duration": 15,
    "start_time": "2022-05-29T13:57:56.645Z"
   },
   {
    "duration": 17,
    "start_time": "2022-05-29T13:57:56.662Z"
   },
   {
    "duration": 12,
    "start_time": "2022-05-29T13:57:56.681Z"
   },
   {
    "duration": 45,
    "start_time": "2022-05-29T13:57:56.694Z"
   },
   {
    "duration": 10,
    "start_time": "2022-05-29T13:57:56.743Z"
   },
   {
    "duration": 10,
    "start_time": "2022-05-29T13:57:56.755Z"
   },
   {
    "duration": 56,
    "start_time": "2022-05-29T13:57:56.767Z"
   },
   {
    "duration": 372,
    "start_time": "2022-05-29T13:57:56.826Z"
   },
   {
    "duration": 334,
    "start_time": "2022-05-29T13:57:57.199Z"
   },
   {
    "duration": 555,
    "start_time": "2022-05-29T13:57:57.534Z"
   },
   {
    "duration": 16,
    "start_time": "2022-05-29T13:57:58.091Z"
   },
   {
    "duration": 3,
    "start_time": "2022-05-29T13:57:58.109Z"
   },
   {
    "duration": 15,
    "start_time": "2022-05-29T13:57:58.124Z"
   },
   {
    "duration": 11,
    "start_time": "2022-05-29T13:57:58.140Z"
   },
   {
    "duration": 226,
    "start_time": "2022-05-29T13:57:58.152Z"
   },
   {
    "duration": 10,
    "start_time": "2022-05-29T13:57:58.380Z"
   },
   {
    "duration": 5,
    "start_time": "2022-05-29T13:57:58.392Z"
   },
   {
    "duration": 32,
    "start_time": "2022-05-29T13:57:58.399Z"
   },
   {
    "duration": 5,
    "start_time": "2022-05-29T13:57:58.433Z"
   },
   {
    "duration": 24,
    "start_time": "2022-05-29T13:57:58.439Z"
   },
   {
    "duration": 20,
    "start_time": "2022-05-29T13:57:58.465Z"
   },
   {
    "duration": 299,
    "start_time": "2022-05-29T13:57:58.486Z"
   },
   {
    "duration": 0,
    "start_time": "2022-05-29T13:57:58.787Z"
   },
   {
    "duration": 0,
    "start_time": "2022-05-29T13:57:58.789Z"
   },
   {
    "duration": 0,
    "start_time": "2022-05-29T13:57:58.790Z"
   },
   {
    "duration": 0,
    "start_time": "2022-05-29T13:57:58.791Z"
   },
   {
    "duration": 0,
    "start_time": "2022-05-29T13:57:58.792Z"
   },
   {
    "duration": 0,
    "start_time": "2022-05-29T13:57:58.793Z"
   },
   {
    "duration": 0,
    "start_time": "2022-05-29T13:57:58.794Z"
   },
   {
    "duration": 0,
    "start_time": "2022-05-29T13:57:58.795Z"
   },
   {
    "duration": 0,
    "start_time": "2022-05-29T13:57:58.796Z"
   },
   {
    "duration": 0,
    "start_time": "2022-05-29T13:57:58.798Z"
   },
   {
    "duration": 0,
    "start_time": "2022-05-29T13:57:58.799Z"
   },
   {
    "duration": 0,
    "start_time": "2022-05-29T13:57:58.823Z"
   },
   {
    "duration": 0,
    "start_time": "2022-05-29T13:57:58.825Z"
   },
   {
    "duration": 0,
    "start_time": "2022-05-29T13:57:58.826Z"
   },
   {
    "duration": 0,
    "start_time": "2022-05-29T13:57:58.827Z"
   },
   {
    "duration": 0,
    "start_time": "2022-05-29T13:57:58.828Z"
   },
   {
    "duration": 0,
    "start_time": "2022-05-29T13:57:58.829Z"
   },
   {
    "duration": 0,
    "start_time": "2022-05-29T13:57:58.830Z"
   },
   {
    "duration": 0,
    "start_time": "2022-05-29T13:57:58.831Z"
   },
   {
    "duration": 0,
    "start_time": "2022-05-29T13:57:58.831Z"
   },
   {
    "duration": 0,
    "start_time": "2022-05-29T13:57:58.832Z"
   },
   {
    "duration": 0,
    "start_time": "2022-05-29T13:57:58.833Z"
   },
   {
    "duration": 4,
    "start_time": "2022-05-29T13:59:59.515Z"
   },
   {
    "duration": 14,
    "start_time": "2022-05-29T14:00:00.673Z"
   },
   {
    "duration": 5,
    "start_time": "2022-05-29T14:00:05.266Z"
   },
   {
    "duration": 20,
    "start_time": "2022-05-29T14:00:05.975Z"
   },
   {
    "duration": 1218,
    "start_time": "2022-05-29T14:01:34.916Z"
   },
   {
    "duration": 67,
    "start_time": "2022-05-29T14:01:36.136Z"
   },
   {
    "duration": 12,
    "start_time": "2022-05-29T14:01:36.205Z"
   },
   {
    "duration": 13,
    "start_time": "2022-05-29T14:01:36.219Z"
   },
   {
    "duration": 6,
    "start_time": "2022-05-29T14:01:36.234Z"
   },
   {
    "duration": 7,
    "start_time": "2022-05-29T14:01:36.241Z"
   },
   {
    "duration": 27,
    "start_time": "2022-05-29T14:01:36.250Z"
   },
   {
    "duration": 11,
    "start_time": "2022-05-29T14:01:36.279Z"
   },
   {
    "duration": 42,
    "start_time": "2022-05-29T14:01:36.292Z"
   },
   {
    "duration": 13,
    "start_time": "2022-05-29T14:01:36.337Z"
   },
   {
    "duration": 53,
    "start_time": "2022-05-29T14:01:36.351Z"
   },
   {
    "duration": 9,
    "start_time": "2022-05-29T14:01:36.423Z"
   },
   {
    "duration": 27,
    "start_time": "2022-05-29T14:01:36.434Z"
   },
   {
    "duration": 3,
    "start_time": "2022-05-29T14:01:36.462Z"
   },
   {
    "duration": 14,
    "start_time": "2022-05-29T14:01:36.467Z"
   },
   {
    "duration": 5,
    "start_time": "2022-05-29T14:01:36.483Z"
   },
   {
    "duration": 41,
    "start_time": "2022-05-29T14:01:36.489Z"
   },
   {
    "duration": 14,
    "start_time": "2022-05-29T14:01:36.532Z"
   },
   {
    "duration": 24,
    "start_time": "2022-05-29T14:01:36.549Z"
   },
   {
    "duration": 2,
    "start_time": "2022-05-29T14:01:36.575Z"
   },
   {
    "duration": 15,
    "start_time": "2022-05-29T14:01:36.579Z"
   },
   {
    "duration": 32,
    "start_time": "2022-05-29T14:01:36.596Z"
   },
   {
    "duration": 12,
    "start_time": "2022-05-29T14:01:36.630Z"
   },
   {
    "duration": 16,
    "start_time": "2022-05-29T14:01:36.644Z"
   },
   {
    "duration": 20,
    "start_time": "2022-05-29T14:01:36.662Z"
   },
   {
    "duration": 10,
    "start_time": "2022-05-29T14:01:36.683Z"
   },
   {
    "duration": 41,
    "start_time": "2022-05-29T14:01:36.695Z"
   },
   {
    "duration": 11,
    "start_time": "2022-05-29T14:01:36.740Z"
   },
   {
    "duration": 10,
    "start_time": "2022-05-29T14:01:36.752Z"
   },
   {
    "duration": 33,
    "start_time": "2022-05-29T14:01:36.763Z"
   },
   {
    "duration": 367,
    "start_time": "2022-05-29T14:01:36.797Z"
   },
   {
    "duration": 328,
    "start_time": "2022-05-29T14:01:37.165Z"
   },
   {
    "duration": 511,
    "start_time": "2022-05-29T14:01:37.495Z"
   },
   {
    "duration": 25,
    "start_time": "2022-05-29T14:01:38.008Z"
   },
   {
    "duration": 3,
    "start_time": "2022-05-29T14:01:38.035Z"
   },
   {
    "duration": 7,
    "start_time": "2022-05-29T14:01:38.039Z"
   },
   {
    "duration": 6,
    "start_time": "2022-05-29T14:01:38.047Z"
   },
   {
    "duration": 210,
    "start_time": "2022-05-29T14:01:38.055Z"
   },
   {
    "duration": 9,
    "start_time": "2022-05-29T14:01:38.267Z"
   },
   {
    "duration": 3,
    "start_time": "2022-05-29T14:01:38.278Z"
   },
   {
    "duration": 8,
    "start_time": "2022-05-29T14:01:38.282Z"
   },
   {
    "duration": 33,
    "start_time": "2022-05-29T14:01:38.291Z"
   },
   {
    "duration": 4,
    "start_time": "2022-05-29T14:01:38.325Z"
   },
   {
    "duration": 16,
    "start_time": "2022-05-29T14:01:38.331Z"
   },
   {
    "duration": 26,
    "start_time": "2022-05-29T14:01:38.349Z"
   },
   {
    "duration": 272,
    "start_time": "2022-05-29T14:01:38.377Z"
   },
   {
    "duration": 0,
    "start_time": "2022-05-29T14:01:38.651Z"
   },
   {
    "duration": 0,
    "start_time": "2022-05-29T14:01:38.653Z"
   },
   {
    "duration": 0,
    "start_time": "2022-05-29T14:01:38.654Z"
   },
   {
    "duration": 0,
    "start_time": "2022-05-29T14:01:38.656Z"
   },
   {
    "duration": 0,
    "start_time": "2022-05-29T14:01:38.657Z"
   },
   {
    "duration": 0,
    "start_time": "2022-05-29T14:01:38.658Z"
   },
   {
    "duration": 0,
    "start_time": "2022-05-29T14:01:38.660Z"
   },
   {
    "duration": 0,
    "start_time": "2022-05-29T14:01:38.661Z"
   },
   {
    "duration": 0,
    "start_time": "2022-05-29T14:01:38.663Z"
   },
   {
    "duration": 0,
    "start_time": "2022-05-29T14:01:38.664Z"
   },
   {
    "duration": 0,
    "start_time": "2022-05-29T14:01:38.665Z"
   },
   {
    "duration": 0,
    "start_time": "2022-05-29T14:01:38.667Z"
   },
   {
    "duration": 0,
    "start_time": "2022-05-29T14:01:38.668Z"
   },
   {
    "duration": 0,
    "start_time": "2022-05-29T14:01:38.669Z"
   },
   {
    "duration": 0,
    "start_time": "2022-05-29T14:01:38.671Z"
   },
   {
    "duration": 0,
    "start_time": "2022-05-29T14:01:38.672Z"
   },
   {
    "duration": 0,
    "start_time": "2022-05-29T14:01:38.673Z"
   },
   {
    "duration": 0,
    "start_time": "2022-05-29T14:01:38.675Z"
   },
   {
    "duration": 0,
    "start_time": "2022-05-29T14:01:38.676Z"
   },
   {
    "duration": 0,
    "start_time": "2022-05-29T14:01:38.677Z"
   },
   {
    "duration": 0,
    "start_time": "2022-05-29T14:01:38.724Z"
   },
   {
    "duration": 0,
    "start_time": "2022-05-29T14:01:38.724Z"
   },
   {
    "duration": 13,
    "start_time": "2022-05-29T14:02:13.709Z"
   },
   {
    "duration": 13,
    "start_time": "2022-05-29T14:02:23.337Z"
   },
   {
    "duration": 16,
    "start_time": "2022-05-29T14:03:09.470Z"
   },
   {
    "duration": 13,
    "start_time": "2022-05-29T14:03:17.455Z"
   },
   {
    "duration": 3,
    "start_time": "2022-05-29T14:04:22.313Z"
   },
   {
    "duration": 12,
    "start_time": "2022-05-29T14:04:33.001Z"
   },
   {
    "duration": 4,
    "start_time": "2022-05-29T14:15:50.280Z"
   },
   {
    "duration": 624,
    "start_time": "2022-05-29T14:16:29.952Z"
   },
   {
    "duration": 9,
    "start_time": "2022-05-29T14:16:43.580Z"
   },
   {
    "duration": 420,
    "start_time": "2022-05-29T14:18:08.762Z"
   },
   {
    "duration": 4,
    "start_time": "2022-05-29T14:19:06.741Z"
   },
   {
    "duration": 399,
    "start_time": "2022-05-29T14:19:09.775Z"
   },
   {
    "duration": 4,
    "start_time": "2022-05-29T14:24:41.324Z"
   },
   {
    "duration": 322,
    "start_time": "2022-05-29T14:24:44.505Z"
   },
   {
    "duration": 27,
    "start_time": "2022-05-29T14:25:50.020Z"
   },
   {
    "duration": 1072,
    "start_time": "2022-05-29T14:26:03.864Z"
   },
   {
    "duration": 68,
    "start_time": "2022-05-29T14:26:04.938Z"
   },
   {
    "duration": 11,
    "start_time": "2022-05-29T14:26:05.008Z"
   },
   {
    "duration": 24,
    "start_time": "2022-05-29T14:26:05.021Z"
   },
   {
    "duration": 7,
    "start_time": "2022-05-29T14:26:05.047Z"
   },
   {
    "duration": 8,
    "start_time": "2022-05-29T14:26:05.055Z"
   },
   {
    "duration": 31,
    "start_time": "2022-05-29T14:26:05.064Z"
   },
   {
    "duration": 9,
    "start_time": "2022-05-29T14:26:05.097Z"
   },
   {
    "duration": 15,
    "start_time": "2022-05-29T14:26:05.108Z"
   },
   {
    "duration": 9,
    "start_time": "2022-05-29T14:26:05.125Z"
   },
   {
    "duration": 55,
    "start_time": "2022-05-29T14:26:05.135Z"
   },
   {
    "duration": 8,
    "start_time": "2022-05-29T14:26:05.191Z"
   },
   {
    "duration": 36,
    "start_time": "2022-05-29T14:26:05.201Z"
   },
   {
    "duration": 7,
    "start_time": "2022-05-29T14:26:05.239Z"
   },
   {
    "duration": 19,
    "start_time": "2022-05-29T14:26:05.248Z"
   },
   {
    "duration": 8,
    "start_time": "2022-05-29T14:26:05.268Z"
   },
   {
    "duration": 21,
    "start_time": "2022-05-29T14:26:05.278Z"
   },
   {
    "duration": 14,
    "start_time": "2022-05-29T14:26:05.300Z"
   },
   {
    "duration": 28,
    "start_time": "2022-05-29T14:26:05.315Z"
   },
   {
    "duration": 7,
    "start_time": "2022-05-29T14:26:05.344Z"
   },
   {
    "duration": 15,
    "start_time": "2022-05-29T14:26:05.352Z"
   },
   {
    "duration": 20,
    "start_time": "2022-05-29T14:26:05.369Z"
   },
   {
    "duration": 10,
    "start_time": "2022-05-29T14:26:05.391Z"
   },
   {
    "duration": 15,
    "start_time": "2022-05-29T14:26:05.402Z"
   },
   {
    "duration": 14,
    "start_time": "2022-05-29T14:26:05.418Z"
   },
   {
    "duration": 15,
    "start_time": "2022-05-29T14:26:05.433Z"
   },
   {
    "duration": 17,
    "start_time": "2022-05-29T14:26:05.450Z"
   },
   {
    "duration": 9,
    "start_time": "2022-05-29T14:26:05.472Z"
   },
   {
    "duration": 10,
    "start_time": "2022-05-29T14:26:05.483Z"
   },
   {
    "duration": 44,
    "start_time": "2022-05-29T14:26:05.494Z"
   },
   {
    "duration": 318,
    "start_time": "2022-05-29T14:26:05.539Z"
   },
   {
    "duration": 317,
    "start_time": "2022-05-29T14:26:05.859Z"
   },
   {
    "duration": 506,
    "start_time": "2022-05-29T14:26:06.177Z"
   },
   {
    "duration": 15,
    "start_time": "2022-05-29T14:26:06.684Z"
   },
   {
    "duration": 3,
    "start_time": "2022-05-29T14:26:06.701Z"
   },
   {
    "duration": 5,
    "start_time": "2022-05-29T14:26:06.722Z"
   },
   {
    "duration": 12,
    "start_time": "2022-05-29T14:26:06.728Z"
   },
   {
    "duration": 211,
    "start_time": "2022-05-29T14:26:06.742Z"
   },
   {
    "duration": 10,
    "start_time": "2022-05-29T14:26:06.954Z"
   },
   {
    "duration": 12,
    "start_time": "2022-05-29T14:26:06.965Z"
   },
   {
    "duration": 7,
    "start_time": "2022-05-29T14:26:06.979Z"
   },
   {
    "duration": 25,
    "start_time": "2022-05-29T14:26:06.988Z"
   },
   {
    "duration": 6,
    "start_time": "2022-05-29T14:26:07.022Z"
   },
   {
    "duration": 26,
    "start_time": "2022-05-29T14:26:07.030Z"
   },
   {
    "duration": 9,
    "start_time": "2022-05-29T14:26:07.058Z"
   },
   {
    "duration": 18,
    "start_time": "2022-05-29T14:26:07.069Z"
   },
   {
    "duration": 68,
    "start_time": "2022-05-29T14:26:07.088Z"
   },
   {
    "duration": 279,
    "start_time": "2022-05-29T14:26:07.158Z"
   },
   {
    "duration": 0,
    "start_time": "2022-05-29T14:26:07.440Z"
   },
   {
    "duration": 0,
    "start_time": "2022-05-29T14:26:07.441Z"
   },
   {
    "duration": 0,
    "start_time": "2022-05-29T14:26:07.443Z"
   },
   {
    "duration": 0,
    "start_time": "2022-05-29T14:26:07.444Z"
   },
   {
    "duration": 0,
    "start_time": "2022-05-29T14:26:07.446Z"
   },
   {
    "duration": 0,
    "start_time": "2022-05-29T14:26:07.447Z"
   },
   {
    "duration": 0,
    "start_time": "2022-05-29T14:26:07.449Z"
   },
   {
    "duration": 0,
    "start_time": "2022-05-29T14:26:07.450Z"
   },
   {
    "duration": 0,
    "start_time": "2022-05-29T14:26:07.451Z"
   },
   {
    "duration": 0,
    "start_time": "2022-05-29T14:26:07.452Z"
   },
   {
    "duration": 0,
    "start_time": "2022-05-29T14:26:07.454Z"
   },
   {
    "duration": 0,
    "start_time": "2022-05-29T14:26:07.455Z"
   },
   {
    "duration": 0,
    "start_time": "2022-05-29T14:26:07.456Z"
   },
   {
    "duration": 0,
    "start_time": "2022-05-29T14:26:07.457Z"
   },
   {
    "duration": 0,
    "start_time": "2022-05-29T14:26:07.459Z"
   },
   {
    "duration": 0,
    "start_time": "2022-05-29T14:26:07.460Z"
   },
   {
    "duration": 0,
    "start_time": "2022-05-29T14:26:07.461Z"
   },
   {
    "duration": 0,
    "start_time": "2022-05-29T14:26:07.463Z"
   },
   {
    "duration": 0,
    "start_time": "2022-05-29T14:26:07.464Z"
   },
   {
    "duration": 0,
    "start_time": "2022-05-29T14:26:07.466Z"
   },
   {
    "duration": 0,
    "start_time": "2022-05-29T14:26:07.467Z"
   },
   {
    "duration": 0,
    "start_time": "2022-05-29T14:26:07.469Z"
   },
   {
    "duration": 4,
    "start_time": "2022-05-29T14:26:55.446Z"
   },
   {
    "duration": 6,
    "start_time": "2022-05-29T14:26:56.002Z"
   },
   {
    "duration": 37,
    "start_time": "2022-05-29T14:26:57.688Z"
   },
   {
    "duration": 4,
    "start_time": "2022-05-29T14:27:24.309Z"
   },
   {
    "duration": 7,
    "start_time": "2022-05-29T14:27:24.751Z"
   },
   {
    "duration": 34,
    "start_time": "2022-05-29T14:27:25.256Z"
   },
   {
    "duration": 4,
    "start_time": "2022-05-29T14:28:34.493Z"
   },
   {
    "duration": 6,
    "start_time": "2022-05-29T14:28:35.070Z"
   },
   {
    "duration": 32,
    "start_time": "2022-05-29T14:28:35.512Z"
   },
   {
    "duration": 29,
    "start_time": "2022-05-29T14:29:33.949Z"
   },
   {
    "duration": 5,
    "start_time": "2022-05-29T14:30:22.699Z"
   },
   {
    "duration": 7,
    "start_time": "2022-05-29T14:30:23.566Z"
   },
   {
    "duration": 32,
    "start_time": "2022-05-29T14:30:24.058Z"
   },
   {
    "duration": 8,
    "start_time": "2022-05-29T14:30:52.258Z"
   },
   {
    "duration": 1197,
    "start_time": "2022-05-29T14:30:59.583Z"
   },
   {
    "duration": 70,
    "start_time": "2022-05-29T14:31:00.782Z"
   },
   {
    "duration": 13,
    "start_time": "2022-05-29T14:31:00.853Z"
   },
   {
    "duration": 15,
    "start_time": "2022-05-29T14:31:00.867Z"
   },
   {
    "duration": 5,
    "start_time": "2022-05-29T14:31:00.885Z"
   },
   {
    "duration": 14,
    "start_time": "2022-05-29T14:31:00.891Z"
   },
   {
    "duration": 35,
    "start_time": "2022-05-29T14:31:00.907Z"
   },
   {
    "duration": 10,
    "start_time": "2022-05-29T14:31:00.944Z"
   },
   {
    "duration": 11,
    "start_time": "2022-05-29T14:31:00.956Z"
   },
   {
    "duration": 18,
    "start_time": "2022-05-29T14:31:00.969Z"
   },
   {
    "duration": 73,
    "start_time": "2022-05-29T14:31:00.989Z"
   },
   {
    "duration": 9,
    "start_time": "2022-05-29T14:31:01.064Z"
   },
   {
    "duration": 43,
    "start_time": "2022-05-29T14:31:01.075Z"
   },
   {
    "duration": 3,
    "start_time": "2022-05-29T14:31:01.121Z"
   },
   {
    "duration": 31,
    "start_time": "2022-05-29T14:31:01.126Z"
   },
   {
    "duration": 11,
    "start_time": "2022-05-29T14:31:01.159Z"
   },
   {
    "duration": 37,
    "start_time": "2022-05-29T14:31:01.171Z"
   },
   {
    "duration": 16,
    "start_time": "2022-05-29T14:31:01.210Z"
   },
   {
    "duration": 30,
    "start_time": "2022-05-29T14:31:01.228Z"
   },
   {
    "duration": 3,
    "start_time": "2022-05-29T14:31:01.260Z"
   },
   {
    "duration": 41,
    "start_time": "2022-05-29T14:31:01.265Z"
   },
   {
    "duration": 36,
    "start_time": "2022-05-29T14:31:01.308Z"
   },
   {
    "duration": 37,
    "start_time": "2022-05-29T14:31:01.345Z"
   },
   {
    "duration": 43,
    "start_time": "2022-05-29T14:31:01.384Z"
   },
   {
    "duration": 27,
    "start_time": "2022-05-29T14:31:01.429Z"
   },
   {
    "duration": 25,
    "start_time": "2022-05-29T14:31:01.458Z"
   },
   {
    "duration": 46,
    "start_time": "2022-05-29T14:31:01.485Z"
   },
   {
    "duration": 21,
    "start_time": "2022-05-29T14:31:01.533Z"
   },
   {
    "duration": 21,
    "start_time": "2022-05-29T14:31:01.556Z"
   },
   {
    "duration": 37,
    "start_time": "2022-05-29T14:31:01.579Z"
   },
   {
    "duration": 400,
    "start_time": "2022-05-29T14:31:01.618Z"
   },
   {
    "duration": 359,
    "start_time": "2022-05-29T14:31:02.019Z"
   },
   {
    "duration": 565,
    "start_time": "2022-05-29T14:31:02.380Z"
   },
   {
    "duration": 14,
    "start_time": "2022-05-29T14:31:02.947Z"
   },
   {
    "duration": 3,
    "start_time": "2022-05-29T14:31:02.964Z"
   },
   {
    "duration": 9,
    "start_time": "2022-05-29T14:31:02.968Z"
   },
   {
    "duration": 7,
    "start_time": "2022-05-29T14:31:02.978Z"
   },
   {
    "duration": 213,
    "start_time": "2022-05-29T14:31:02.987Z"
   },
   {
    "duration": 8,
    "start_time": "2022-05-29T14:31:03.202Z"
   },
   {
    "duration": 12,
    "start_time": "2022-05-29T14:31:03.212Z"
   },
   {
    "duration": 6,
    "start_time": "2022-05-29T14:31:03.228Z"
   },
   {
    "duration": 17,
    "start_time": "2022-05-29T14:31:03.236Z"
   },
   {
    "duration": 4,
    "start_time": "2022-05-29T14:31:03.254Z"
   },
   {
    "duration": 18,
    "start_time": "2022-05-29T14:31:03.259Z"
   },
   {
    "duration": 8,
    "start_time": "2022-05-29T14:31:03.279Z"
   },
   {
    "duration": 14,
    "start_time": "2022-05-29T14:31:03.288Z"
   },
   {
    "duration": 26,
    "start_time": "2022-05-29T14:31:03.303Z"
   },
   {
    "duration": 268,
    "start_time": "2022-05-29T14:31:03.330Z"
   },
   {
    "duration": 0,
    "start_time": "2022-05-29T14:31:03.600Z"
   },
   {
    "duration": 0,
    "start_time": "2022-05-29T14:31:03.601Z"
   },
   {
    "duration": 0,
    "start_time": "2022-05-29T14:31:03.602Z"
   },
   {
    "duration": 0,
    "start_time": "2022-05-29T14:31:03.603Z"
   },
   {
    "duration": 0,
    "start_time": "2022-05-29T14:31:03.605Z"
   },
   {
    "duration": 0,
    "start_time": "2022-05-29T14:31:03.606Z"
   },
   {
    "duration": 0,
    "start_time": "2022-05-29T14:31:03.622Z"
   },
   {
    "duration": 0,
    "start_time": "2022-05-29T14:31:03.624Z"
   },
   {
    "duration": 0,
    "start_time": "2022-05-29T14:31:03.624Z"
   },
   {
    "duration": 0,
    "start_time": "2022-05-29T14:31:03.626Z"
   },
   {
    "duration": 0,
    "start_time": "2022-05-29T14:31:03.627Z"
   },
   {
    "duration": 0,
    "start_time": "2022-05-29T14:31:03.628Z"
   },
   {
    "duration": 0,
    "start_time": "2022-05-29T14:31:03.629Z"
   },
   {
    "duration": 0,
    "start_time": "2022-05-29T14:31:03.630Z"
   },
   {
    "duration": 0,
    "start_time": "2022-05-29T14:31:03.631Z"
   },
   {
    "duration": 0,
    "start_time": "2022-05-29T14:31:03.632Z"
   },
   {
    "duration": 0,
    "start_time": "2022-05-29T14:31:03.633Z"
   },
   {
    "duration": 0,
    "start_time": "2022-05-29T14:31:03.634Z"
   },
   {
    "duration": 0,
    "start_time": "2022-05-29T14:31:03.634Z"
   },
   {
    "duration": 0,
    "start_time": "2022-05-29T14:31:03.635Z"
   },
   {
    "duration": 0,
    "start_time": "2022-05-29T14:31:03.636Z"
   },
   {
    "duration": 0,
    "start_time": "2022-05-29T14:31:03.637Z"
   },
   {
    "duration": 155,
    "start_time": "2022-05-29T14:31:48.875Z"
   },
   {
    "duration": 247,
    "start_time": "2022-05-29T14:33:13.079Z"
   },
   {
    "duration": 343,
    "start_time": "2022-05-29T14:33:32.616Z"
   },
   {
    "duration": 1226,
    "start_time": "2022-05-29T14:33:42.311Z"
   },
   {
    "duration": 66,
    "start_time": "2022-05-29T14:33:43.539Z"
   },
   {
    "duration": 11,
    "start_time": "2022-05-29T14:33:43.606Z"
   },
   {
    "duration": 12,
    "start_time": "2022-05-29T14:33:43.619Z"
   },
   {
    "duration": 4,
    "start_time": "2022-05-29T14:33:43.632Z"
   },
   {
    "duration": 7,
    "start_time": "2022-05-29T14:33:43.637Z"
   },
   {
    "duration": 26,
    "start_time": "2022-05-29T14:33:43.645Z"
   },
   {
    "duration": 9,
    "start_time": "2022-05-29T14:33:43.673Z"
   },
   {
    "duration": 14,
    "start_time": "2022-05-29T14:33:43.684Z"
   },
   {
    "duration": 24,
    "start_time": "2022-05-29T14:33:43.701Z"
   },
   {
    "duration": 49,
    "start_time": "2022-05-29T14:33:43.727Z"
   },
   {
    "duration": 8,
    "start_time": "2022-05-29T14:33:43.778Z"
   },
   {
    "duration": 40,
    "start_time": "2022-05-29T14:33:43.787Z"
   },
   {
    "duration": 2,
    "start_time": "2022-05-29T14:33:43.829Z"
   },
   {
    "duration": 9,
    "start_time": "2022-05-29T14:33:43.833Z"
   },
   {
    "duration": 5,
    "start_time": "2022-05-29T14:33:43.844Z"
   },
   {
    "duration": 18,
    "start_time": "2022-05-29T14:33:43.850Z"
   },
   {
    "duration": 12,
    "start_time": "2022-05-29T14:33:43.870Z"
   },
   {
    "duration": 44,
    "start_time": "2022-05-29T14:33:43.884Z"
   },
   {
    "duration": 3,
    "start_time": "2022-05-29T14:33:43.929Z"
   },
   {
    "duration": 13,
    "start_time": "2022-05-29T14:33:43.934Z"
   },
   {
    "duration": 11,
    "start_time": "2022-05-29T14:33:43.949Z"
   },
   {
    "duration": 14,
    "start_time": "2022-05-29T14:33:43.961Z"
   },
   {
    "duration": 13,
    "start_time": "2022-05-29T14:33:43.977Z"
   },
   {
    "duration": 33,
    "start_time": "2022-05-29T14:33:43.991Z"
   },
   {
    "duration": 9,
    "start_time": "2022-05-29T14:33:44.026Z"
   },
   {
    "duration": 21,
    "start_time": "2022-05-29T14:33:44.037Z"
   },
   {
    "duration": 10,
    "start_time": "2022-05-29T14:33:44.061Z"
   },
   {
    "duration": 9,
    "start_time": "2022-05-29T14:33:44.074Z"
   },
   {
    "duration": 44,
    "start_time": "2022-05-29T14:33:44.085Z"
   },
   {
    "duration": 325,
    "start_time": "2022-05-29T14:33:44.130Z"
   },
   {
    "duration": 289,
    "start_time": "2022-05-29T14:33:44.456Z"
   },
   {
    "duration": 470,
    "start_time": "2022-05-29T14:33:44.747Z"
   },
   {
    "duration": 13,
    "start_time": "2022-05-29T14:33:45.223Z"
   },
   {
    "duration": 8,
    "start_time": "2022-05-29T14:33:45.238Z"
   },
   {
    "duration": 12,
    "start_time": "2022-05-29T14:33:45.248Z"
   },
   {
    "duration": 6,
    "start_time": "2022-05-29T14:33:45.262Z"
   },
   {
    "duration": 199,
    "start_time": "2022-05-29T14:33:45.270Z"
   },
   {
    "duration": 10,
    "start_time": "2022-05-29T14:33:45.470Z"
   },
   {
    "duration": 3,
    "start_time": "2022-05-29T14:33:45.481Z"
   },
   {
    "duration": 6,
    "start_time": "2022-05-29T14:33:45.486Z"
   },
   {
    "duration": 30,
    "start_time": "2022-05-29T14:33:45.494Z"
   },
   {
    "duration": 5,
    "start_time": "2022-05-29T14:33:45.525Z"
   },
   {
    "duration": 17,
    "start_time": "2022-05-29T14:33:45.531Z"
   },
   {
    "duration": 4,
    "start_time": "2022-05-29T14:33:45.549Z"
   },
   {
    "duration": 10,
    "start_time": "2022-05-29T14:33:45.554Z"
   },
   {
    "duration": 7,
    "start_time": "2022-05-29T14:33:45.565Z"
   },
   {
    "duration": 318,
    "start_time": "2022-05-29T14:33:45.573Z"
   },
   {
    "duration": 11,
    "start_time": "2022-05-29T14:33:45.893Z"
   },
   {
    "duration": 204,
    "start_time": "2022-05-29T14:33:45.905Z"
   },
   {
    "duration": 123,
    "start_time": "2022-05-29T14:33:46.111Z"
   },
   {
    "duration": 9,
    "start_time": "2022-05-29T14:33:46.236Z"
   },
   {
    "duration": 6,
    "start_time": "2022-05-29T14:33:46.246Z"
   },
   {
    "duration": 11,
    "start_time": "2022-05-29T14:33:46.254Z"
   },
   {
    "duration": 20,
    "start_time": "2022-05-29T14:33:46.267Z"
   },
   {
    "duration": 3,
    "start_time": "2022-05-29T14:33:46.288Z"
   },
   {
    "duration": 32,
    "start_time": "2022-05-29T14:33:46.292Z"
   },
   {
    "duration": 14,
    "start_time": "2022-05-29T14:33:46.325Z"
   },
   {
    "duration": 1217,
    "start_time": "2022-05-29T14:33:46.340Z"
   },
   {
    "duration": 7,
    "start_time": "2022-05-29T14:33:47.558Z"
   },
   {
    "duration": 56,
    "start_time": "2022-05-29T14:33:47.567Z"
   },
   {
    "duration": 18,
    "start_time": "2022-05-29T14:33:47.625Z"
   },
   {
    "duration": 21,
    "start_time": "2022-05-29T14:33:47.645Z"
   },
   {
    "duration": 426,
    "start_time": "2022-05-29T14:33:47.724Z"
   },
   {
    "duration": 13,
    "start_time": "2022-05-29T14:33:48.152Z"
   },
   {
    "duration": 11,
    "start_time": "2022-05-29T14:33:48.223Z"
   },
   {
    "duration": 15,
    "start_time": "2022-05-29T14:33:48.236Z"
   },
   {
    "duration": 419,
    "start_time": "2022-05-29T14:33:48.253Z"
   },
   {
    "duration": 5,
    "start_time": "2022-05-29T14:33:48.673Z"
   },
   {
    "duration": 50,
    "start_time": "2022-05-29T14:33:48.680Z"
   },
   {
    "duration": 293,
    "start_time": "2022-05-29T14:34:08.167Z"
   },
   {
    "duration": 9,
    "start_time": "2022-05-29T14:37:50.954Z"
   },
   {
    "duration": 11,
    "start_time": "2022-05-29T14:39:14.849Z"
   },
   {
    "duration": 11,
    "start_time": "2022-05-29T14:40:01.548Z"
   },
   {
    "duration": 1225,
    "start_time": "2022-05-29T14:40:07.556Z"
   },
   {
    "duration": 70,
    "start_time": "2022-05-29T14:40:08.783Z"
   },
   {
    "duration": 14,
    "start_time": "2022-05-29T14:40:08.855Z"
   },
   {
    "duration": 13,
    "start_time": "2022-05-29T14:40:08.871Z"
   },
   {
    "duration": 12,
    "start_time": "2022-05-29T14:40:08.885Z"
   },
   {
    "duration": 6,
    "start_time": "2022-05-29T14:40:08.898Z"
   },
   {
    "duration": 39,
    "start_time": "2022-05-29T14:40:08.906Z"
   },
   {
    "duration": 13,
    "start_time": "2022-05-29T14:40:08.946Z"
   },
   {
    "duration": 15,
    "start_time": "2022-05-29T14:40:08.961Z"
   },
   {
    "duration": 10,
    "start_time": "2022-05-29T14:40:08.978Z"
   },
   {
    "duration": 77,
    "start_time": "2022-05-29T14:40:08.989Z"
   },
   {
    "duration": 8,
    "start_time": "2022-05-29T14:40:09.068Z"
   },
   {
    "duration": 25,
    "start_time": "2022-05-29T14:40:09.077Z"
   },
   {
    "duration": 2,
    "start_time": "2022-05-29T14:40:09.104Z"
   },
   {
    "duration": 23,
    "start_time": "2022-05-29T14:40:09.108Z"
   },
   {
    "duration": 9,
    "start_time": "2022-05-29T14:40:09.133Z"
   },
   {
    "duration": 16,
    "start_time": "2022-05-29T14:40:09.143Z"
   },
   {
    "duration": 13,
    "start_time": "2022-05-29T14:40:09.161Z"
   },
   {
    "duration": 19,
    "start_time": "2022-05-29T14:40:09.176Z"
   },
   {
    "duration": 26,
    "start_time": "2022-05-29T14:40:09.197Z"
   },
   {
    "duration": 8,
    "start_time": "2022-05-29T14:40:09.225Z"
   },
   {
    "duration": 16,
    "start_time": "2022-05-29T14:40:09.236Z"
   },
   {
    "duration": 11,
    "start_time": "2022-05-29T14:40:09.254Z"
   },
   {
    "duration": 17,
    "start_time": "2022-05-29T14:40:09.266Z"
   },
   {
    "duration": 27,
    "start_time": "2022-05-29T14:40:09.285Z"
   },
   {
    "duration": 10,
    "start_time": "2022-05-29T14:40:09.324Z"
   },
   {
    "duration": 19,
    "start_time": "2022-05-29T14:40:09.335Z"
   },
   {
    "duration": 9,
    "start_time": "2022-05-29T14:40:09.358Z"
   },
   {
    "duration": 11,
    "start_time": "2022-05-29T14:40:09.368Z"
   },
   {
    "duration": 44,
    "start_time": "2022-05-29T14:40:09.380Z"
   },
   {
    "duration": 333,
    "start_time": "2022-05-29T14:40:09.426Z"
   },
   {
    "duration": 312,
    "start_time": "2022-05-29T14:40:09.761Z"
   },
   {
    "duration": 496,
    "start_time": "2022-05-29T14:40:10.075Z"
   },
   {
    "duration": 14,
    "start_time": "2022-05-29T14:40:10.573Z"
   },
   {
    "duration": 3,
    "start_time": "2022-05-29T14:40:10.588Z"
   },
   {
    "duration": 6,
    "start_time": "2022-05-29T14:40:10.592Z"
   },
   {
    "duration": 6,
    "start_time": "2022-05-29T14:40:10.599Z"
   },
   {
    "duration": 227,
    "start_time": "2022-05-29T14:40:10.606Z"
   },
   {
    "duration": 9,
    "start_time": "2022-05-29T14:40:10.835Z"
   },
   {
    "duration": 2,
    "start_time": "2022-05-29T14:40:10.846Z"
   },
   {
    "duration": 6,
    "start_time": "2022-05-29T14:40:10.850Z"
   },
   {
    "duration": 23,
    "start_time": "2022-05-29T14:40:10.857Z"
   },
   {
    "duration": 11,
    "start_time": "2022-05-29T14:40:10.881Z"
   },
   {
    "duration": 7,
    "start_time": "2022-05-29T14:40:10.893Z"
   },
   {
    "duration": 36,
    "start_time": "2022-05-29T14:40:10.901Z"
   },
   {
    "duration": 4,
    "start_time": "2022-05-29T14:40:10.939Z"
   },
   {
    "duration": 9,
    "start_time": "2022-05-29T14:40:10.945Z"
   },
   {
    "duration": 9,
    "start_time": "2022-05-29T14:40:10.956Z"
   },
   {
    "duration": 12,
    "start_time": "2022-05-29T14:40:10.966Z"
   },
   {
    "duration": 21,
    "start_time": "2022-05-29T14:40:10.980Z"
   },
   {
    "duration": 336,
    "start_time": "2022-05-29T14:40:11.003Z"
   },
   {
    "duration": 11,
    "start_time": "2022-05-29T14:40:11.341Z"
   },
   {
    "duration": 192,
    "start_time": "2022-05-29T14:40:11.353Z"
   },
   {
    "duration": 129,
    "start_time": "2022-05-29T14:40:11.546Z"
   },
   {
    "duration": 11,
    "start_time": "2022-05-29T14:40:11.677Z"
   },
   {
    "duration": 9,
    "start_time": "2022-05-29T14:40:11.690Z"
   },
   {
    "duration": 15,
    "start_time": "2022-05-29T14:40:11.700Z"
   },
   {
    "duration": 19,
    "start_time": "2022-05-29T14:40:11.723Z"
   },
   {
    "duration": 2,
    "start_time": "2022-05-29T14:40:11.744Z"
   },
   {
    "duration": 24,
    "start_time": "2022-05-29T14:40:11.748Z"
   },
   {
    "duration": 14,
    "start_time": "2022-05-29T14:40:11.774Z"
   },
   {
    "duration": 1381,
    "start_time": "2022-05-29T14:40:11.790Z"
   },
   {
    "duration": 8,
    "start_time": "2022-05-29T14:40:13.173Z"
   },
   {
    "duration": 50,
    "start_time": "2022-05-29T14:40:13.182Z"
   },
   {
    "duration": 16,
    "start_time": "2022-05-29T14:40:13.233Z"
   },
   {
    "duration": 73,
    "start_time": "2022-05-29T14:40:13.251Z"
   },
   {
    "duration": 425,
    "start_time": "2022-05-29T14:40:13.326Z"
   },
   {
    "duration": 14,
    "start_time": "2022-05-29T14:40:13.753Z"
   },
   {
    "duration": 63,
    "start_time": "2022-05-29T14:40:13.769Z"
   },
   {
    "duration": 7,
    "start_time": "2022-05-29T14:40:13.834Z"
   },
   {
    "duration": 482,
    "start_time": "2022-05-29T14:40:13.842Z"
   },
   {
    "duration": 5,
    "start_time": "2022-05-29T14:40:14.326Z"
   },
   {
    "duration": 18,
    "start_time": "2022-05-29T14:40:14.332Z"
   },
   {
    "duration": 1239,
    "start_time": "2022-05-29T14:40:31.007Z"
   },
   {
    "duration": 65,
    "start_time": "2022-05-29T14:40:32.248Z"
   },
   {
    "duration": 13,
    "start_time": "2022-05-29T14:40:32.315Z"
   },
   {
    "duration": 13,
    "start_time": "2022-05-29T14:40:32.330Z"
   },
   {
    "duration": 5,
    "start_time": "2022-05-29T14:40:32.345Z"
   },
   {
    "duration": 8,
    "start_time": "2022-05-29T14:40:32.351Z"
   },
   {
    "duration": 27,
    "start_time": "2022-05-29T14:40:32.361Z"
   },
   {
    "duration": 11,
    "start_time": "2022-05-29T14:40:32.390Z"
   },
   {
    "duration": 12,
    "start_time": "2022-05-29T14:40:32.424Z"
   },
   {
    "duration": 10,
    "start_time": "2022-05-29T14:40:32.438Z"
   },
   {
    "duration": 78,
    "start_time": "2022-05-29T14:40:32.450Z"
   },
   {
    "duration": 12,
    "start_time": "2022-05-29T14:40:32.531Z"
   },
   {
    "duration": 37,
    "start_time": "2022-05-29T14:40:32.546Z"
   },
   {
    "duration": 2,
    "start_time": "2022-05-29T14:40:32.586Z"
   },
   {
    "duration": 20,
    "start_time": "2022-05-29T14:40:32.590Z"
   },
   {
    "duration": 11,
    "start_time": "2022-05-29T14:40:32.624Z"
   },
   {
    "duration": 27,
    "start_time": "2022-05-29T14:40:32.636Z"
   },
   {
    "duration": 29,
    "start_time": "2022-05-29T14:40:32.666Z"
   },
   {
    "duration": 38,
    "start_time": "2022-05-29T14:40:32.697Z"
   },
   {
    "duration": 3,
    "start_time": "2022-05-29T14:40:32.738Z"
   },
   {
    "duration": 19,
    "start_time": "2022-05-29T14:40:32.743Z"
   },
   {
    "duration": 18,
    "start_time": "2022-05-29T14:40:32.764Z"
   },
   {
    "duration": 40,
    "start_time": "2022-05-29T14:40:32.784Z"
   },
   {
    "duration": 19,
    "start_time": "2022-05-29T14:40:32.826Z"
   },
   {
    "duration": 22,
    "start_time": "2022-05-29T14:40:32.847Z"
   },
   {
    "duration": 23,
    "start_time": "2022-05-29T14:40:32.871Z"
   },
   {
    "duration": 30,
    "start_time": "2022-05-29T14:40:32.896Z"
   },
   {
    "duration": 11,
    "start_time": "2022-05-29T14:40:32.931Z"
   },
   {
    "duration": 12,
    "start_time": "2022-05-29T14:40:32.944Z"
   },
   {
    "duration": 24,
    "start_time": "2022-05-29T14:40:32.958Z"
   },
   {
    "duration": 350,
    "start_time": "2022-05-29T14:40:32.984Z"
   },
   {
    "duration": 304,
    "start_time": "2022-05-29T14:40:33.336Z"
   },
   {
    "duration": 510,
    "start_time": "2022-05-29T14:40:33.642Z"
   },
   {
    "duration": 15,
    "start_time": "2022-05-29T14:40:34.153Z"
   },
   {
    "duration": 3,
    "start_time": "2022-05-29T14:40:34.169Z"
   },
   {
    "duration": 9,
    "start_time": "2022-05-29T14:40:34.174Z"
   },
   {
    "duration": 10,
    "start_time": "2022-05-29T14:40:34.184Z"
   },
   {
    "duration": 211,
    "start_time": "2022-05-29T14:40:34.196Z"
   },
   {
    "duration": 19,
    "start_time": "2022-05-29T14:40:34.408Z"
   },
   {
    "duration": 6,
    "start_time": "2022-05-29T14:40:34.429Z"
   },
   {
    "duration": 5,
    "start_time": "2022-05-29T14:40:34.437Z"
   },
   {
    "duration": 17,
    "start_time": "2022-05-29T14:40:34.443Z"
   },
   {
    "duration": 10,
    "start_time": "2022-05-29T14:40:34.461Z"
   },
   {
    "duration": 4,
    "start_time": "2022-05-29T14:40:34.473Z"
   },
   {
    "duration": 16,
    "start_time": "2022-05-29T14:40:34.479Z"
   },
   {
    "duration": 40,
    "start_time": "2022-05-29T14:40:34.497Z"
   },
   {
    "duration": 21,
    "start_time": "2022-05-29T14:40:34.539Z"
   },
   {
    "duration": 20,
    "start_time": "2022-05-29T14:40:34.562Z"
   },
   {
    "duration": 14,
    "start_time": "2022-05-29T14:40:34.583Z"
   },
   {
    "duration": 13,
    "start_time": "2022-05-29T14:40:34.599Z"
   },
   {
    "duration": 17,
    "start_time": "2022-05-29T14:40:34.614Z"
   },
   {
    "duration": 326,
    "start_time": "2022-05-29T14:40:34.633Z"
   },
   {
    "duration": 11,
    "start_time": "2022-05-29T14:40:34.961Z"
   },
   {
    "duration": 221,
    "start_time": "2022-05-29T14:40:34.973Z"
   },
   {
    "duration": 121,
    "start_time": "2022-05-29T14:40:35.196Z"
   },
   {
    "duration": 14,
    "start_time": "2022-05-29T14:40:35.319Z"
   },
   {
    "duration": 13,
    "start_time": "2022-05-29T14:40:35.335Z"
   },
   {
    "duration": 15,
    "start_time": "2022-05-29T14:40:35.349Z"
   },
   {
    "duration": 19,
    "start_time": "2022-05-29T14:40:35.366Z"
   },
   {
    "duration": 7,
    "start_time": "2022-05-29T14:40:35.387Z"
   },
   {
    "duration": 27,
    "start_time": "2022-05-29T14:40:35.396Z"
   },
   {
    "duration": 21,
    "start_time": "2022-05-29T14:40:35.425Z"
   },
   {
    "duration": 1153,
    "start_time": "2022-05-29T14:40:35.448Z"
   },
   {
    "duration": 25,
    "start_time": "2022-05-29T14:40:36.603Z"
   },
   {
    "duration": 20,
    "start_time": "2022-05-29T14:40:36.630Z"
   },
   {
    "duration": 71,
    "start_time": "2022-05-29T14:40:36.652Z"
   },
   {
    "duration": 22,
    "start_time": "2022-05-29T14:40:36.725Z"
   },
   {
    "duration": 481,
    "start_time": "2022-05-29T14:40:36.748Z"
   },
   {
    "duration": 13,
    "start_time": "2022-05-29T14:40:37.231Z"
   },
   {
    "duration": 31,
    "start_time": "2022-05-29T14:40:37.245Z"
   },
   {
    "duration": 50,
    "start_time": "2022-05-29T14:40:37.278Z"
   },
   {
    "duration": 403,
    "start_time": "2022-05-29T14:40:37.330Z"
   },
   {
    "duration": 5,
    "start_time": "2022-05-29T14:40:37.735Z"
   },
   {
    "duration": 24,
    "start_time": "2022-05-29T14:40:37.741Z"
   },
   {
    "duration": 4,
    "start_time": "2022-05-29T14:42:35.374Z"
   },
   {
    "duration": 6,
    "start_time": "2022-05-29T14:42:37.346Z"
   },
   {
    "duration": 1188,
    "start_time": "2022-05-29T14:43:00.721Z"
   },
   {
    "duration": 76,
    "start_time": "2022-05-29T14:43:01.911Z"
   },
   {
    "duration": 15,
    "start_time": "2022-05-29T14:43:01.989Z"
   },
   {
    "duration": 21,
    "start_time": "2022-05-29T14:43:02.006Z"
   },
   {
    "duration": 9,
    "start_time": "2022-05-29T14:43:02.028Z"
   },
   {
    "duration": 13,
    "start_time": "2022-05-29T14:43:02.038Z"
   },
   {
    "duration": 38,
    "start_time": "2022-05-29T14:43:02.052Z"
   },
   {
    "duration": 10,
    "start_time": "2022-05-29T14:43:02.092Z"
   },
   {
    "duration": 36,
    "start_time": "2022-05-29T14:43:02.103Z"
   },
   {
    "duration": 26,
    "start_time": "2022-05-29T14:43:02.142Z"
   },
   {
    "duration": 62,
    "start_time": "2022-05-29T14:43:02.170Z"
   },
   {
    "duration": 9,
    "start_time": "2022-05-29T14:43:02.234Z"
   },
   {
    "duration": 25,
    "start_time": "2022-05-29T14:43:02.244Z"
   },
   {
    "duration": 2,
    "start_time": "2022-05-29T14:43:02.271Z"
   },
   {
    "duration": 11,
    "start_time": "2022-05-29T14:43:02.275Z"
   },
   {
    "duration": 6,
    "start_time": "2022-05-29T14:43:02.288Z"
   },
   {
    "duration": 35,
    "start_time": "2022-05-29T14:43:02.295Z"
   },
   {
    "duration": 13,
    "start_time": "2022-05-29T14:43:02.331Z"
   },
   {
    "duration": 26,
    "start_time": "2022-05-29T14:43:02.345Z"
   },
   {
    "duration": 2,
    "start_time": "2022-05-29T14:43:02.373Z"
   },
   {
    "duration": 13,
    "start_time": "2022-05-29T14:43:02.378Z"
   },
   {
    "duration": 10,
    "start_time": "2022-05-29T14:43:02.393Z"
   },
   {
    "duration": 13,
    "start_time": "2022-05-29T14:43:02.423Z"
   },
   {
    "duration": 13,
    "start_time": "2022-05-29T14:43:02.438Z"
   },
   {
    "duration": 13,
    "start_time": "2022-05-29T14:43:02.453Z"
   },
   {
    "duration": 11,
    "start_time": "2022-05-29T14:43:02.467Z"
   },
   {
    "duration": 44,
    "start_time": "2022-05-29T14:43:02.480Z"
   },
   {
    "duration": 13,
    "start_time": "2022-05-29T14:43:02.530Z"
   },
   {
    "duration": 13,
    "start_time": "2022-05-29T14:43:02.544Z"
   },
   {
    "duration": 31,
    "start_time": "2022-05-29T14:43:02.559Z"
   },
   {
    "duration": 377,
    "start_time": "2022-05-29T14:43:02.592Z"
   },
   {
    "duration": 296,
    "start_time": "2022-05-29T14:43:02.970Z"
   },
   {
    "duration": 489,
    "start_time": "2022-05-29T14:43:03.267Z"
   },
   {
    "duration": 20,
    "start_time": "2022-05-29T14:43:03.757Z"
   },
   {
    "duration": 5,
    "start_time": "2022-05-29T14:43:03.779Z"
   },
   {
    "duration": 11,
    "start_time": "2022-05-29T14:43:03.785Z"
   },
   {
    "duration": 7,
    "start_time": "2022-05-29T14:43:03.798Z"
   },
   {
    "duration": 223,
    "start_time": "2022-05-29T14:43:03.807Z"
   },
   {
    "duration": 11,
    "start_time": "2022-05-29T14:43:04.032Z"
   },
   {
    "duration": 3,
    "start_time": "2022-05-29T14:43:04.045Z"
   },
   {
    "duration": 6,
    "start_time": "2022-05-29T14:43:04.049Z"
   },
   {
    "duration": 18,
    "start_time": "2022-05-29T14:43:04.057Z"
   },
   {
    "duration": 10,
    "start_time": "2022-05-29T14:43:04.076Z"
   },
   {
    "duration": 37,
    "start_time": "2022-05-29T14:43:04.088Z"
   },
   {
    "duration": 27,
    "start_time": "2022-05-29T14:43:04.127Z"
   },
   {
    "duration": 11,
    "start_time": "2022-05-29T14:43:04.155Z"
   },
   {
    "duration": 6,
    "start_time": "2022-05-29T14:43:04.167Z"
   },
   {
    "duration": 8,
    "start_time": "2022-05-29T14:43:04.174Z"
   },
   {
    "duration": 11,
    "start_time": "2022-05-29T14:43:04.184Z"
   },
   {
    "duration": 7,
    "start_time": "2022-05-29T14:43:04.197Z"
   },
   {
    "duration": 25,
    "start_time": "2022-05-29T14:43:04.205Z"
   },
   {
    "duration": 12,
    "start_time": "2022-05-29T14:43:04.231Z"
   },
   {
    "duration": 19,
    "start_time": "2022-05-29T14:43:04.244Z"
   },
   {
    "duration": 16,
    "start_time": "2022-05-29T14:43:04.265Z"
   },
   {
    "duration": 312,
    "start_time": "2022-05-29T14:43:04.283Z"
   },
   {
    "duration": 12,
    "start_time": "2022-05-29T14:43:04.597Z"
   },
   {
    "duration": 199,
    "start_time": "2022-05-29T14:43:04.611Z"
   },
   {
    "duration": 128,
    "start_time": "2022-05-29T14:43:04.812Z"
   },
   {
    "duration": 10,
    "start_time": "2022-05-29T14:43:04.942Z"
   },
   {
    "duration": 7,
    "start_time": "2022-05-29T14:43:04.953Z"
   },
   {
    "duration": 14,
    "start_time": "2022-05-29T14:43:04.961Z"
   },
   {
    "duration": 20,
    "start_time": "2022-05-29T14:43:04.976Z"
   },
   {
    "duration": 3,
    "start_time": "2022-05-29T14:43:04.998Z"
   },
   {
    "duration": 14,
    "start_time": "2022-05-29T14:43:05.024Z"
   },
   {
    "duration": 16,
    "start_time": "2022-05-29T14:43:05.039Z"
   },
   {
    "duration": 1118,
    "start_time": "2022-05-29T14:43:05.057Z"
   },
   {
    "duration": 8,
    "start_time": "2022-05-29T14:43:06.177Z"
   },
   {
    "duration": 47,
    "start_time": "2022-05-29T14:43:06.186Z"
   },
   {
    "duration": 17,
    "start_time": "2022-05-29T14:43:06.235Z"
   },
   {
    "duration": 83,
    "start_time": "2022-05-29T14:43:06.253Z"
   },
   {
    "duration": 421,
    "start_time": "2022-05-29T14:43:06.338Z"
   },
   {
    "duration": 63,
    "start_time": "2022-05-29T14:43:06.760Z"
   },
   {
    "duration": 11,
    "start_time": "2022-05-29T14:43:06.825Z"
   },
   {
    "duration": 7,
    "start_time": "2022-05-29T14:43:06.838Z"
   },
   {
    "duration": 477,
    "start_time": "2022-05-29T14:43:06.846Z"
   },
   {
    "duration": 5,
    "start_time": "2022-05-29T14:43:07.325Z"
   },
   {
    "duration": 22,
    "start_time": "2022-05-29T14:43:07.332Z"
   },
   {
    "duration": 1109,
    "start_time": "2022-05-29T14:43:45.268Z"
   },
   {
    "duration": 71,
    "start_time": "2022-05-29T14:43:46.379Z"
   },
   {
    "duration": 11,
    "start_time": "2022-05-29T14:43:46.452Z"
   },
   {
    "duration": 13,
    "start_time": "2022-05-29T14:43:46.465Z"
   },
   {
    "duration": 4,
    "start_time": "2022-05-29T14:43:46.480Z"
   },
   {
    "duration": 7,
    "start_time": "2022-05-29T14:43:46.486Z"
   },
   {
    "duration": 44,
    "start_time": "2022-05-29T14:43:46.495Z"
   },
   {
    "duration": 11,
    "start_time": "2022-05-29T14:43:46.541Z"
   },
   {
    "duration": 10,
    "start_time": "2022-05-29T14:43:46.554Z"
   },
   {
    "duration": 11,
    "start_time": "2022-05-29T14:43:46.567Z"
   },
   {
    "duration": 71,
    "start_time": "2022-05-29T14:43:46.580Z"
   },
   {
    "duration": 9,
    "start_time": "2022-05-29T14:43:46.653Z"
   },
   {
    "duration": 24,
    "start_time": "2022-05-29T14:43:46.664Z"
   },
   {
    "duration": 2,
    "start_time": "2022-05-29T14:43:46.690Z"
   },
   {
    "duration": 10,
    "start_time": "2022-05-29T14:43:46.694Z"
   },
   {
    "duration": 3,
    "start_time": "2022-05-29T14:43:46.722Z"
   },
   {
    "duration": 30,
    "start_time": "2022-05-29T14:43:46.727Z"
   },
   {
    "duration": 13,
    "start_time": "2022-05-29T14:43:46.759Z"
   },
   {
    "duration": 30,
    "start_time": "2022-05-29T14:43:46.773Z"
   },
   {
    "duration": 2,
    "start_time": "2022-05-29T14:43:46.805Z"
   },
   {
    "duration": 15,
    "start_time": "2022-05-29T14:43:46.809Z"
   },
   {
    "duration": 10,
    "start_time": "2022-05-29T14:43:46.825Z"
   },
   {
    "duration": 12,
    "start_time": "2022-05-29T14:43:46.836Z"
   },
   {
    "duration": 29,
    "start_time": "2022-05-29T14:43:46.849Z"
   },
   {
    "duration": 13,
    "start_time": "2022-05-29T14:43:46.880Z"
   },
   {
    "duration": 10,
    "start_time": "2022-05-29T14:43:46.895Z"
   },
   {
    "duration": 27,
    "start_time": "2022-05-29T14:43:46.907Z"
   },
   {
    "duration": 10,
    "start_time": "2022-05-29T14:43:46.939Z"
   },
   {
    "duration": 11,
    "start_time": "2022-05-29T14:43:46.950Z"
   },
   {
    "duration": 22,
    "start_time": "2022-05-29T14:43:46.962Z"
   },
   {
    "duration": 378,
    "start_time": "2022-05-29T14:43:46.986Z"
   },
   {
    "duration": 345,
    "start_time": "2022-05-29T14:43:47.367Z"
   },
   {
    "duration": 533,
    "start_time": "2022-05-29T14:43:47.715Z"
   },
   {
    "duration": 15,
    "start_time": "2022-05-29T14:43:48.250Z"
   },
   {
    "duration": 3,
    "start_time": "2022-05-29T14:43:48.267Z"
   },
   {
    "duration": 6,
    "start_time": "2022-05-29T14:43:48.272Z"
   },
   {
    "duration": 5,
    "start_time": "2022-05-29T14:43:48.279Z"
   },
   {
    "duration": 218,
    "start_time": "2022-05-29T14:43:48.286Z"
   },
   {
    "duration": 17,
    "start_time": "2022-05-29T14:43:48.506Z"
   },
   {
    "duration": 3,
    "start_time": "2022-05-29T14:43:48.525Z"
   },
   {
    "duration": 7,
    "start_time": "2022-05-29T14:43:48.529Z"
   },
   {
    "duration": 16,
    "start_time": "2022-05-29T14:43:48.537Z"
   },
   {
    "duration": 9,
    "start_time": "2022-05-29T14:43:48.555Z"
   },
   {
    "duration": 6,
    "start_time": "2022-05-29T14:43:48.566Z"
   },
   {
    "duration": 15,
    "start_time": "2022-05-29T14:43:48.573Z"
   },
   {
    "duration": 39,
    "start_time": "2022-05-29T14:43:48.590Z"
   },
   {
    "duration": 7,
    "start_time": "2022-05-29T14:43:48.631Z"
   },
   {
    "duration": 6,
    "start_time": "2022-05-29T14:43:48.640Z"
   },
   {
    "duration": 11,
    "start_time": "2022-05-29T14:43:48.648Z"
   },
   {
    "duration": 11,
    "start_time": "2022-05-29T14:43:48.660Z"
   },
   {
    "duration": 16,
    "start_time": "2022-05-29T14:43:48.673Z"
   },
   {
    "duration": 18,
    "start_time": "2022-05-29T14:43:48.691Z"
   },
   {
    "duration": 19,
    "start_time": "2022-05-29T14:43:48.710Z"
   },
   {
    "duration": 18,
    "start_time": "2022-05-29T14:43:48.731Z"
   },
   {
    "duration": 423,
    "start_time": "2022-05-29T14:43:48.751Z"
   },
   {
    "duration": 11,
    "start_time": "2022-05-29T14:43:49.176Z"
   },
   {
    "duration": 204,
    "start_time": "2022-05-29T14:43:49.189Z"
   },
   {
    "duration": 117,
    "start_time": "2022-05-29T14:43:49.395Z"
   },
   {
    "duration": 17,
    "start_time": "2022-05-29T14:43:49.514Z"
   },
   {
    "duration": 6,
    "start_time": "2022-05-29T14:43:49.532Z"
   },
   {
    "duration": 15,
    "start_time": "2022-05-29T14:43:49.539Z"
   },
   {
    "duration": 19,
    "start_time": "2022-05-29T14:43:49.556Z"
   },
   {
    "duration": 2,
    "start_time": "2022-05-29T14:43:49.576Z"
   },
   {
    "duration": 14,
    "start_time": "2022-05-29T14:43:49.580Z"
   },
   {
    "duration": 33,
    "start_time": "2022-05-29T14:43:49.595Z"
   },
   {
    "duration": 1173,
    "start_time": "2022-05-29T14:43:49.630Z"
   },
   {
    "duration": 20,
    "start_time": "2022-05-29T14:43:50.805Z"
   },
   {
    "duration": 15,
    "start_time": "2022-05-29T14:43:50.827Z"
   },
   {
    "duration": 21,
    "start_time": "2022-05-29T14:43:50.844Z"
   },
   {
    "duration": 34,
    "start_time": "2022-05-29T14:43:50.923Z"
   },
   {
    "duration": 580,
    "start_time": "2022-05-29T14:43:50.959Z"
   },
   {
    "duration": 13,
    "start_time": "2022-05-29T14:43:51.540Z"
   },
   {
    "duration": 10,
    "start_time": "2022-05-29T14:43:51.555Z"
   },
   {
    "duration": 61,
    "start_time": "2022-05-29T14:43:51.566Z"
   },
   {
    "duration": 432,
    "start_time": "2022-05-29T14:43:51.629Z"
   },
   {
    "duration": 4,
    "start_time": "2022-05-29T14:43:52.063Z"
   },
   {
    "duration": 64,
    "start_time": "2022-05-29T14:43:52.069Z"
   },
   {
    "duration": 1068,
    "start_time": "2022-05-29T14:46:50.979Z"
   },
   {
    "duration": 65,
    "start_time": "2022-05-29T14:46:52.049Z"
   },
   {
    "duration": 12,
    "start_time": "2022-05-29T14:46:52.115Z"
   },
   {
    "duration": 18,
    "start_time": "2022-05-29T14:46:52.129Z"
   },
   {
    "duration": 6,
    "start_time": "2022-05-29T14:46:52.149Z"
   },
   {
    "duration": 8,
    "start_time": "2022-05-29T14:46:52.157Z"
   },
   {
    "duration": 33,
    "start_time": "2022-05-29T14:46:52.167Z"
   },
   {
    "duration": 11,
    "start_time": "2022-05-29T14:46:52.202Z"
   },
   {
    "duration": 10,
    "start_time": "2022-05-29T14:46:52.223Z"
   },
   {
    "duration": 18,
    "start_time": "2022-05-29T14:46:52.236Z"
   },
   {
    "duration": 49,
    "start_time": "2022-05-29T14:46:52.255Z"
   },
   {
    "duration": 18,
    "start_time": "2022-05-29T14:46:52.306Z"
   },
   {
    "duration": 32,
    "start_time": "2022-05-29T14:46:52.325Z"
   },
   {
    "duration": 3,
    "start_time": "2022-05-29T14:46:52.359Z"
   },
   {
    "duration": 15,
    "start_time": "2022-05-29T14:46:52.363Z"
   },
   {
    "duration": 15,
    "start_time": "2022-05-29T14:46:52.379Z"
   },
   {
    "duration": 20,
    "start_time": "2022-05-29T14:46:52.395Z"
   },
   {
    "duration": 15,
    "start_time": "2022-05-29T14:46:52.416Z"
   },
   {
    "duration": 20,
    "start_time": "2022-05-29T14:46:52.433Z"
   },
   {
    "duration": 2,
    "start_time": "2022-05-29T14:46:52.455Z"
   },
   {
    "duration": 20,
    "start_time": "2022-05-29T14:46:52.459Z"
   },
   {
    "duration": 14,
    "start_time": "2022-05-29T14:46:52.480Z"
   },
   {
    "duration": 20,
    "start_time": "2022-05-29T14:46:52.495Z"
   },
   {
    "duration": 28,
    "start_time": "2022-05-29T14:46:52.517Z"
   },
   {
    "duration": 21,
    "start_time": "2022-05-29T14:46:52.547Z"
   },
   {
    "duration": 34,
    "start_time": "2022-05-29T14:46:52.570Z"
   },
   {
    "duration": 24,
    "start_time": "2022-05-29T14:46:52.606Z"
   },
   {
    "duration": 19,
    "start_time": "2022-05-29T14:46:52.635Z"
   },
   {
    "duration": 20,
    "start_time": "2022-05-29T14:46:52.656Z"
   },
   {
    "duration": 32,
    "start_time": "2022-05-29T14:46:52.678Z"
   },
   {
    "duration": 349,
    "start_time": "2022-05-29T14:46:52.712Z"
   },
   {
    "duration": 306,
    "start_time": "2022-05-29T14:46:53.062Z"
   },
   {
    "duration": 465,
    "start_time": "2022-05-29T14:46:53.370Z"
   },
   {
    "duration": 15,
    "start_time": "2022-05-29T14:46:53.837Z"
   },
   {
    "duration": 2,
    "start_time": "2022-05-29T14:46:53.854Z"
   },
   {
    "duration": 7,
    "start_time": "2022-05-29T14:46:53.857Z"
   },
   {
    "duration": 6,
    "start_time": "2022-05-29T14:46:53.866Z"
   },
   {
    "duration": 209,
    "start_time": "2022-05-29T14:46:53.873Z"
   },
   {
    "duration": 10,
    "start_time": "2022-05-29T14:46:54.084Z"
   },
   {
    "duration": 3,
    "start_time": "2022-05-29T14:46:54.095Z"
   },
   {
    "duration": 23,
    "start_time": "2022-05-29T14:46:54.100Z"
   },
   {
    "duration": 16,
    "start_time": "2022-05-29T14:46:54.125Z"
   },
   {
    "duration": 9,
    "start_time": "2022-05-29T14:46:54.143Z"
   },
   {
    "duration": 7,
    "start_time": "2022-05-29T14:46:54.154Z"
   },
   {
    "duration": 14,
    "start_time": "2022-05-29T14:46:54.163Z"
   },
   {
    "duration": 11,
    "start_time": "2022-05-29T14:46:54.178Z"
   },
   {
    "duration": 33,
    "start_time": "2022-05-29T14:46:54.191Z"
   },
   {
    "duration": 7,
    "start_time": "2022-05-29T14:46:54.226Z"
   },
   {
    "duration": 11,
    "start_time": "2022-05-29T14:46:54.234Z"
   },
   {
    "duration": 6,
    "start_time": "2022-05-29T14:46:54.247Z"
   },
   {
    "duration": 10,
    "start_time": "2022-05-29T14:46:54.255Z"
   },
   {
    "duration": 9,
    "start_time": "2022-05-29T14:46:54.267Z"
   },
   {
    "duration": 10,
    "start_time": "2022-05-29T14:46:54.277Z"
   },
   {
    "duration": 36,
    "start_time": "2022-05-29T14:46:54.288Z"
   },
   {
    "duration": 326,
    "start_time": "2022-05-29T14:46:54.325Z"
   },
   {
    "duration": 12,
    "start_time": "2022-05-29T14:46:54.653Z"
   },
   {
    "duration": 189,
    "start_time": "2022-05-29T14:46:54.666Z"
   },
   {
    "duration": 117,
    "start_time": "2022-05-29T14:46:54.856Z"
   },
   {
    "duration": 9,
    "start_time": "2022-05-29T14:46:54.975Z"
   },
   {
    "duration": 5,
    "start_time": "2022-05-29T14:46:54.985Z"
   },
   {
    "duration": 12,
    "start_time": "2022-05-29T14:46:54.991Z"
   },
   {
    "duration": 34,
    "start_time": "2022-05-29T14:46:55.004Z"
   },
   {
    "duration": 3,
    "start_time": "2022-05-29T14:46:55.039Z"
   },
   {
    "duration": 15,
    "start_time": "2022-05-29T14:46:55.043Z"
   },
   {
    "duration": 13,
    "start_time": "2022-05-29T14:46:55.059Z"
   },
   {
    "duration": 1152,
    "start_time": "2022-05-29T14:46:55.073Z"
   },
   {
    "duration": 8,
    "start_time": "2022-05-29T14:46:56.226Z"
   },
   {
    "duration": 16,
    "start_time": "2022-05-29T14:46:56.235Z"
   },
   {
    "duration": 15,
    "start_time": "2022-05-29T14:46:56.253Z"
   },
   {
    "duration": 23,
    "start_time": "2022-05-29T14:46:56.322Z"
   },
   {
    "duration": 509,
    "start_time": "2022-05-29T14:46:56.346Z"
   },
   {
    "duration": 68,
    "start_time": "2022-05-29T14:46:56.856Z"
   },
   {
    "duration": 11,
    "start_time": "2022-05-29T14:46:56.926Z"
   },
   {
    "duration": 8,
    "start_time": "2022-05-29T14:46:56.939Z"
   },
   {
    "duration": 491,
    "start_time": "2022-05-29T14:46:56.948Z"
   },
   {
    "duration": 4,
    "start_time": "2022-05-29T14:46:57.441Z"
   },
   {
    "duration": 14,
    "start_time": "2022-05-29T14:46:57.447Z"
   },
   {
    "duration": 1167,
    "start_time": "2022-05-29T14:48:29.224Z"
   },
   {
    "duration": 64,
    "start_time": "2022-05-29T14:48:30.393Z"
   },
   {
    "duration": 12,
    "start_time": "2022-05-29T14:48:30.459Z"
   },
   {
    "duration": 26,
    "start_time": "2022-05-29T14:48:30.473Z"
   },
   {
    "duration": 14,
    "start_time": "2022-05-29T14:48:30.501Z"
   },
   {
    "duration": 20,
    "start_time": "2022-05-29T14:48:30.517Z"
   },
   {
    "duration": 40,
    "start_time": "2022-05-29T14:48:30.539Z"
   },
   {
    "duration": 19,
    "start_time": "2022-05-29T14:48:30.581Z"
   },
   {
    "duration": 10,
    "start_time": "2022-05-29T14:48:30.601Z"
   },
   {
    "duration": 20,
    "start_time": "2022-05-29T14:48:30.613Z"
   },
   {
    "duration": 51,
    "start_time": "2022-05-29T14:48:30.635Z"
   },
   {
    "duration": 9,
    "start_time": "2022-05-29T14:48:30.687Z"
   },
   {
    "duration": 31,
    "start_time": "2022-05-29T14:48:30.697Z"
   },
   {
    "duration": 2,
    "start_time": "2022-05-29T14:48:30.730Z"
   },
   {
    "duration": 13,
    "start_time": "2022-05-29T14:48:30.733Z"
   },
   {
    "duration": 18,
    "start_time": "2022-05-29T14:48:30.748Z"
   },
   {
    "duration": 26,
    "start_time": "2022-05-29T14:48:30.768Z"
   },
   {
    "duration": 14,
    "start_time": "2022-05-29T14:48:30.796Z"
   },
   {
    "duration": 22,
    "start_time": "2022-05-29T14:48:30.811Z"
   },
   {
    "duration": 3,
    "start_time": "2022-05-29T14:48:30.834Z"
   },
   {
    "duration": 36,
    "start_time": "2022-05-29T14:48:30.838Z"
   },
   {
    "duration": 15,
    "start_time": "2022-05-29T14:48:30.876Z"
   },
   {
    "duration": 13,
    "start_time": "2022-05-29T14:48:30.892Z"
   },
   {
    "duration": 25,
    "start_time": "2022-05-29T14:48:30.906Z"
   },
   {
    "duration": 18,
    "start_time": "2022-05-29T14:48:30.933Z"
   },
   {
    "duration": 18,
    "start_time": "2022-05-29T14:48:30.953Z"
   },
   {
    "duration": 24,
    "start_time": "2022-05-29T14:48:30.973Z"
   },
   {
    "duration": 10,
    "start_time": "2022-05-29T14:48:31.001Z"
   },
   {
    "duration": 20,
    "start_time": "2022-05-29T14:48:31.013Z"
   },
   {
    "duration": 37,
    "start_time": "2022-05-29T14:48:31.034Z"
   },
   {
    "duration": 314,
    "start_time": "2022-05-29T14:48:31.072Z"
   },
   {
    "duration": 301,
    "start_time": "2022-05-29T14:48:31.388Z"
   },
   {
    "duration": 499,
    "start_time": "2022-05-29T14:48:31.691Z"
   },
   {
    "duration": 14,
    "start_time": "2022-05-29T14:48:32.192Z"
   },
   {
    "duration": 2,
    "start_time": "2022-05-29T14:48:32.208Z"
   },
   {
    "duration": 4,
    "start_time": "2022-05-29T14:48:32.223Z"
   },
   {
    "duration": 6,
    "start_time": "2022-05-29T14:48:32.229Z"
   },
   {
    "duration": 213,
    "start_time": "2022-05-29T14:48:32.237Z"
   },
   {
    "duration": 9,
    "start_time": "2022-05-29T14:48:32.452Z"
   },
   {
    "duration": 6,
    "start_time": "2022-05-29T14:48:32.462Z"
   },
   {
    "duration": 8,
    "start_time": "2022-05-29T14:48:32.470Z"
   },
   {
    "duration": 17,
    "start_time": "2022-05-29T14:48:32.480Z"
   },
   {
    "duration": 8,
    "start_time": "2022-05-29T14:48:32.498Z"
   },
   {
    "duration": 18,
    "start_time": "2022-05-29T14:48:32.508Z"
   },
   {
    "duration": 18,
    "start_time": "2022-05-29T14:48:32.528Z"
   },
   {
    "duration": 16,
    "start_time": "2022-05-29T14:48:32.548Z"
   },
   {
    "duration": 7,
    "start_time": "2022-05-29T14:48:32.566Z"
   },
   {
    "duration": 15,
    "start_time": "2022-05-29T14:48:32.575Z"
   },
   {
    "duration": 37,
    "start_time": "2022-05-29T14:48:32.592Z"
   },
   {
    "duration": 18,
    "start_time": "2022-05-29T14:48:32.631Z"
   },
   {
    "duration": 391,
    "start_time": "2022-05-29T14:48:32.652Z"
   },
   {
    "duration": 11,
    "start_time": "2022-05-29T14:48:33.045Z"
   },
   {
    "duration": 190,
    "start_time": "2022-05-29T14:48:33.057Z"
   },
   {
    "duration": 123,
    "start_time": "2022-05-29T14:48:33.249Z"
   },
   {
    "duration": 9,
    "start_time": "2022-05-29T14:48:33.373Z"
   },
   {
    "duration": 5,
    "start_time": "2022-05-29T14:48:33.384Z"
   },
   {
    "duration": 12,
    "start_time": "2022-05-29T14:48:33.390Z"
   },
   {
    "duration": 28,
    "start_time": "2022-05-29T14:48:33.403Z"
   },
   {
    "duration": 2,
    "start_time": "2022-05-29T14:48:33.433Z"
   },
   {
    "duration": 16,
    "start_time": "2022-05-29T14:48:33.436Z"
   },
   {
    "duration": 15,
    "start_time": "2022-05-29T14:48:33.453Z"
   },
   {
    "duration": 1092,
    "start_time": "2022-05-29T14:48:33.470Z"
   },
   {
    "duration": 7,
    "start_time": "2022-05-29T14:48:34.563Z"
   },
   {
    "duration": 20,
    "start_time": "2022-05-29T14:48:34.571Z"
   },
   {
    "duration": 15,
    "start_time": "2022-05-29T14:48:34.593Z"
   },
   {
    "duration": 19,
    "start_time": "2022-05-29T14:48:34.609Z"
   },
   {
    "duration": 205,
    "start_time": "2022-05-29T14:48:34.630Z"
   },
   {
    "duration": 12,
    "start_time": "2022-05-29T14:48:34.836Z"
   },
   {
    "duration": 10,
    "start_time": "2022-05-29T14:48:34.850Z"
   },
   {
    "duration": 6,
    "start_time": "2022-05-29T14:48:34.862Z"
   },
   {
    "duration": 223,
    "start_time": "2022-05-29T14:48:34.870Z"
   },
   {
    "duration": 5,
    "start_time": "2022-05-29T14:48:35.094Z"
   },
   {
    "duration": 24,
    "start_time": "2022-05-29T14:48:35.100Z"
   },
   {
    "duration": 1160,
    "start_time": "2022-05-29T14:58:46.195Z"
   },
   {
    "duration": 68,
    "start_time": "2022-05-29T14:58:47.357Z"
   },
   {
    "duration": 12,
    "start_time": "2022-05-29T14:58:47.427Z"
   },
   {
    "duration": 16,
    "start_time": "2022-05-29T14:58:47.441Z"
   },
   {
    "duration": 5,
    "start_time": "2022-05-29T14:58:47.459Z"
   },
   {
    "duration": 10,
    "start_time": "2022-05-29T14:58:47.466Z"
   },
   {
    "duration": 49,
    "start_time": "2022-05-29T14:58:47.477Z"
   },
   {
    "duration": 11,
    "start_time": "2022-05-29T14:58:47.527Z"
   },
   {
    "duration": 11,
    "start_time": "2022-05-29T14:58:47.540Z"
   },
   {
    "duration": 9,
    "start_time": "2022-05-29T14:58:47.554Z"
   },
   {
    "duration": 72,
    "start_time": "2022-05-29T14:58:47.565Z"
   },
   {
    "duration": 9,
    "start_time": "2022-05-29T14:58:47.639Z"
   },
   {
    "duration": 23,
    "start_time": "2022-05-29T14:58:47.650Z"
   },
   {
    "duration": 2,
    "start_time": "2022-05-29T14:58:47.675Z"
   },
   {
    "duration": 9,
    "start_time": "2022-05-29T14:58:47.679Z"
   },
   {
    "duration": 5,
    "start_time": "2022-05-29T14:58:47.689Z"
   },
   {
    "duration": 38,
    "start_time": "2022-05-29T14:58:47.695Z"
   },
   {
    "duration": 13,
    "start_time": "2022-05-29T14:58:47.734Z"
   },
   {
    "duration": 19,
    "start_time": "2022-05-29T14:58:47.749Z"
   },
   {
    "duration": 3,
    "start_time": "2022-05-29T14:58:47.769Z"
   },
   {
    "duration": 10,
    "start_time": "2022-05-29T14:58:47.773Z"
   },
   {
    "duration": 12,
    "start_time": "2022-05-29T14:58:47.784Z"
   },
   {
    "duration": 32,
    "start_time": "2022-05-29T14:58:47.798Z"
   },
   {
    "duration": 18,
    "start_time": "2022-05-29T14:58:47.832Z"
   },
   {
    "duration": 15,
    "start_time": "2022-05-29T14:58:47.851Z"
   },
   {
    "duration": 12,
    "start_time": "2022-05-29T14:58:47.868Z"
   },
   {
    "duration": 18,
    "start_time": "2022-05-29T14:58:47.881Z"
   },
   {
    "duration": 11,
    "start_time": "2022-05-29T14:58:47.922Z"
   },
   {
    "duration": 11,
    "start_time": "2022-05-29T14:58:47.935Z"
   },
   {
    "duration": 21,
    "start_time": "2022-05-29T14:58:47.947Z"
   },
   {
    "duration": 358,
    "start_time": "2022-05-29T14:58:47.970Z"
   },
   {
    "duration": 305,
    "start_time": "2022-05-29T14:58:48.330Z"
   },
   {
    "duration": 489,
    "start_time": "2022-05-29T14:58:48.637Z"
   },
   {
    "duration": 15,
    "start_time": "2022-05-29T14:58:49.127Z"
   },
   {
    "duration": 2,
    "start_time": "2022-05-29T14:58:49.143Z"
   },
   {
    "duration": 6,
    "start_time": "2022-05-29T14:58:49.147Z"
   },
   {
    "duration": 6,
    "start_time": "2022-05-29T14:58:49.154Z"
   },
   {
    "duration": 222,
    "start_time": "2022-05-29T14:58:49.162Z"
   },
   {
    "duration": 9,
    "start_time": "2022-05-29T14:58:49.386Z"
   },
   {
    "duration": 5,
    "start_time": "2022-05-29T14:58:49.396Z"
   },
   {
    "duration": 5,
    "start_time": "2022-05-29T14:58:49.403Z"
   },
   {
    "duration": 26,
    "start_time": "2022-05-29T14:58:49.410Z"
   },
   {
    "duration": 9,
    "start_time": "2022-05-29T14:58:49.438Z"
   },
   {
    "duration": 8,
    "start_time": "2022-05-29T14:58:49.448Z"
   },
   {
    "duration": 16,
    "start_time": "2022-05-29T14:58:49.458Z"
   },
   {
    "duration": 11,
    "start_time": "2022-05-29T14:58:49.476Z"
   },
   {
    "duration": 6,
    "start_time": "2022-05-29T14:58:49.489Z"
   },
   {
    "duration": 28,
    "start_time": "2022-05-29T14:58:49.496Z"
   },
   {
    "duration": 8,
    "start_time": "2022-05-29T14:58:49.526Z"
   },
   {
    "duration": 15,
    "start_time": "2022-05-29T14:58:49.535Z"
   },
   {
    "duration": 331,
    "start_time": "2022-05-29T14:58:49.552Z"
   },
   {
    "duration": 12,
    "start_time": "2022-05-29T14:58:49.884Z"
   },
   {
    "duration": 207,
    "start_time": "2022-05-29T14:58:49.897Z"
   },
   {
    "duration": 119,
    "start_time": "2022-05-29T14:58:50.106Z"
   },
   {
    "duration": 9,
    "start_time": "2022-05-29T14:58:50.227Z"
   },
   {
    "duration": 5,
    "start_time": "2022-05-29T14:58:50.237Z"
   },
   {
    "duration": 11,
    "start_time": "2022-05-29T14:58:50.244Z"
   },
   {
    "duration": 19,
    "start_time": "2022-05-29T14:58:50.256Z"
   },
   {
    "duration": 2,
    "start_time": "2022-05-29T14:58:50.276Z"
   },
   {
    "duration": 14,
    "start_time": "2022-05-29T14:58:50.279Z"
   },
   {
    "duration": 40,
    "start_time": "2022-05-29T14:58:50.294Z"
   },
   {
    "duration": 1507,
    "start_time": "2022-05-29T14:58:50.336Z"
   },
   {
    "duration": 8,
    "start_time": "2022-05-29T14:58:51.844Z"
   },
   {
    "duration": 14,
    "start_time": "2022-05-29T14:58:51.853Z"
   },
   {
    "duration": 15,
    "start_time": "2022-05-29T14:58:51.869Z"
   },
   {
    "duration": 20,
    "start_time": "2022-05-29T14:58:51.885Z"
   },
   {
    "duration": 235,
    "start_time": "2022-05-29T14:58:51.906Z"
   },
   {
    "duration": 13,
    "start_time": "2022-05-29T14:58:52.143Z"
   },
   {
    "duration": 11,
    "start_time": "2022-05-29T14:58:52.157Z"
   },
   {
    "duration": 6,
    "start_time": "2022-05-29T14:58:52.170Z"
   },
   {
    "duration": 231,
    "start_time": "2022-05-29T14:58:52.178Z"
   },
   {
    "duration": 13,
    "start_time": "2022-05-29T14:58:52.411Z"
   },
   {
    "duration": 13,
    "start_time": "2022-05-29T14:58:52.426Z"
   },
   {
    "duration": 1265,
    "start_time": "2022-05-29T17:38:50.617Z"
   },
   {
    "duration": 312,
    "start_time": "2022-05-29T17:38:51.884Z"
   },
   {
    "duration": 13,
    "start_time": "2022-05-29T17:38:52.198Z"
   },
   {
    "duration": 15,
    "start_time": "2022-05-29T17:38:52.213Z"
   },
   {
    "duration": 8,
    "start_time": "2022-05-29T17:38:52.229Z"
   },
   {
    "duration": 8,
    "start_time": "2022-05-29T17:38:52.239Z"
   },
   {
    "duration": 50,
    "start_time": "2022-05-29T17:38:52.249Z"
   },
   {
    "duration": 12,
    "start_time": "2022-05-29T17:38:52.300Z"
   },
   {
    "duration": 12,
    "start_time": "2022-05-29T17:38:52.314Z"
   },
   {
    "duration": 39,
    "start_time": "2022-05-29T17:38:52.329Z"
   },
   {
    "duration": 70,
    "start_time": "2022-05-29T17:38:52.371Z"
   },
   {
    "duration": 11,
    "start_time": "2022-05-29T17:38:52.443Z"
   },
   {
    "duration": 50,
    "start_time": "2022-05-29T17:38:52.456Z"
   },
   {
    "duration": 2,
    "start_time": "2022-05-29T17:38:52.509Z"
   },
   {
    "duration": 15,
    "start_time": "2022-05-29T17:38:52.513Z"
   },
   {
    "duration": 5,
    "start_time": "2022-05-29T17:38:52.530Z"
   },
   {
    "duration": 33,
    "start_time": "2022-05-29T17:38:52.536Z"
   },
   {
    "duration": 19,
    "start_time": "2022-05-29T17:38:52.572Z"
   },
   {
    "duration": 24,
    "start_time": "2022-05-29T17:38:52.594Z"
   },
   {
    "duration": 3,
    "start_time": "2022-05-29T17:38:52.620Z"
   },
   {
    "duration": 15,
    "start_time": "2022-05-29T17:38:52.625Z"
   },
   {
    "duration": 40,
    "start_time": "2022-05-29T17:38:52.642Z"
   },
   {
    "duration": 12,
    "start_time": "2022-05-29T17:38:52.684Z"
   },
   {
    "duration": 17,
    "start_time": "2022-05-29T17:38:52.697Z"
   },
   {
    "duration": 21,
    "start_time": "2022-05-29T17:38:52.716Z"
   },
   {
    "duration": 38,
    "start_time": "2022-05-29T17:38:52.739Z"
   },
   {
    "duration": 17,
    "start_time": "2022-05-29T17:38:52.779Z"
   },
   {
    "duration": 10,
    "start_time": "2022-05-29T17:38:52.799Z"
   },
   {
    "duration": 11,
    "start_time": "2022-05-29T17:38:52.811Z"
   },
   {
    "duration": 42,
    "start_time": "2022-05-29T17:38:52.824Z"
   },
   {
    "duration": 394,
    "start_time": "2022-05-29T17:38:52.872Z"
   },
   {
    "duration": 377,
    "start_time": "2022-05-29T17:38:53.274Z"
   },
   {
    "duration": 582,
    "start_time": "2022-05-29T17:38:53.653Z"
   },
   {
    "duration": 15,
    "start_time": "2022-05-29T17:38:54.237Z"
   },
   {
    "duration": 11,
    "start_time": "2022-05-29T17:38:54.254Z"
   },
   {
    "duration": 8,
    "start_time": "2022-05-29T17:38:54.271Z"
   },
   {
    "duration": 9,
    "start_time": "2022-05-29T17:38:54.281Z"
   },
   {
    "duration": 238,
    "start_time": "2022-05-29T17:38:54.292Z"
   },
   {
    "duration": 10,
    "start_time": "2022-05-29T17:38:54.532Z"
   },
   {
    "duration": 3,
    "start_time": "2022-05-29T17:38:54.544Z"
   },
   {
    "duration": 39,
    "start_time": "2022-05-29T17:38:54.549Z"
   },
   {
    "duration": 19,
    "start_time": "2022-05-29T17:38:54.590Z"
   },
   {
    "duration": 10,
    "start_time": "2022-05-29T17:38:54.611Z"
   },
   {
    "duration": 6,
    "start_time": "2022-05-29T17:38:54.623Z"
   },
   {
    "duration": 15,
    "start_time": "2022-05-29T17:38:54.631Z"
   },
   {
    "duration": 19,
    "start_time": "2022-05-29T17:38:54.648Z"
   },
   {
    "duration": 20,
    "start_time": "2022-05-29T17:38:54.671Z"
   },
   {
    "duration": 11,
    "start_time": "2022-05-29T17:38:54.693Z"
   },
   {
    "duration": 10,
    "start_time": "2022-05-29T17:38:54.705Z"
   },
   {
    "duration": 9,
    "start_time": "2022-05-29T17:38:54.717Z"
   },
   {
    "duration": 357,
    "start_time": "2022-05-29T17:38:54.728Z"
   },
   {
    "duration": 12,
    "start_time": "2022-05-29T17:38:55.087Z"
   },
   {
    "duration": 257,
    "start_time": "2022-05-29T17:38:55.101Z"
   },
   {
    "duration": 147,
    "start_time": "2022-05-29T17:38:55.360Z"
   },
   {
    "duration": 11,
    "start_time": "2022-05-29T17:38:55.508Z"
   },
   {
    "duration": 4,
    "start_time": "2022-05-29T17:38:55.521Z"
   },
   {
    "duration": 11,
    "start_time": "2022-05-29T17:38:55.527Z"
   },
   {
    "duration": 58,
    "start_time": "2022-05-29T17:38:55.540Z"
   },
   {
    "duration": 3,
    "start_time": "2022-05-29T17:38:55.600Z"
   },
   {
    "duration": 15,
    "start_time": "2022-05-29T17:38:55.605Z"
   },
   {
    "duration": 16,
    "start_time": "2022-05-29T17:38:55.623Z"
   },
   {
    "duration": 1250,
    "start_time": "2022-05-29T17:38:55.641Z"
   },
   {
    "duration": 11,
    "start_time": "2022-05-29T17:38:56.893Z"
   },
   {
    "duration": 22,
    "start_time": "2022-05-29T17:38:56.906Z"
   },
   {
    "duration": 18,
    "start_time": "2022-05-29T17:38:56.930Z"
   },
   {
    "duration": 34,
    "start_time": "2022-05-29T17:38:56.950Z"
   },
   {
    "duration": 258,
    "start_time": "2022-05-29T17:38:56.985Z"
   },
   {
    "duration": 32,
    "start_time": "2022-05-29T17:38:57.246Z"
   },
   {
    "duration": 12,
    "start_time": "2022-05-29T17:38:57.280Z"
   },
   {
    "duration": 12,
    "start_time": "2022-05-29T17:38:57.294Z"
   },
   {
    "duration": 298,
    "start_time": "2022-05-29T17:38:57.308Z"
   },
   {
    "duration": 5,
    "start_time": "2022-05-29T17:38:57.608Z"
   },
   {
    "duration": 15,
    "start_time": "2022-05-29T17:38:57.615Z"
   },
   {
    "duration": 1263,
    "start_time": "2022-05-30T11:32:59.415Z"
   },
   {
    "duration": 114,
    "start_time": "2022-05-30T11:33:00.680Z"
   },
   {
    "duration": 18,
    "start_time": "2022-05-30T11:33:00.796Z"
   },
   {
    "duration": 34,
    "start_time": "2022-05-30T11:33:00.816Z"
   },
   {
    "duration": 10,
    "start_time": "2022-05-30T11:33:00.852Z"
   },
   {
    "duration": 12,
    "start_time": "2022-05-30T11:33:00.864Z"
   },
   {
    "duration": 45,
    "start_time": "2022-05-30T11:33:00.878Z"
   },
   {
    "duration": 17,
    "start_time": "2022-05-30T11:33:00.924Z"
   },
   {
    "duration": 20,
    "start_time": "2022-05-30T11:33:00.943Z"
   },
   {
    "duration": 48,
    "start_time": "2022-05-30T11:33:00.966Z"
   },
   {
    "duration": 60,
    "start_time": "2022-05-30T11:33:01.016Z"
   },
   {
    "duration": 10,
    "start_time": "2022-05-30T11:33:01.078Z"
   },
   {
    "duration": 38,
    "start_time": "2022-05-30T11:33:01.090Z"
   },
   {
    "duration": 29,
    "start_time": "2022-05-30T11:33:01.130Z"
   },
   {
    "duration": 15,
    "start_time": "2022-05-30T11:33:01.162Z"
   },
   {
    "duration": 8,
    "start_time": "2022-05-30T11:33:01.178Z"
   },
   {
    "duration": 41,
    "start_time": "2022-05-30T11:33:01.188Z"
   },
   {
    "duration": 14,
    "start_time": "2022-05-30T11:33:01.230Z"
   },
   {
    "duration": 24,
    "start_time": "2022-05-30T11:33:01.245Z"
   },
   {
    "duration": 5,
    "start_time": "2022-05-30T11:33:01.271Z"
   },
   {
    "duration": 23,
    "start_time": "2022-05-30T11:33:01.278Z"
   },
   {
    "duration": 19,
    "start_time": "2022-05-30T11:33:01.303Z"
   },
   {
    "duration": 16,
    "start_time": "2022-05-30T11:33:01.324Z"
   },
   {
    "duration": 20,
    "start_time": "2022-05-30T11:33:01.342Z"
   },
   {
    "duration": 25,
    "start_time": "2022-05-30T11:33:01.364Z"
   },
   {
    "duration": 15,
    "start_time": "2022-05-30T11:33:01.392Z"
   },
   {
    "duration": 33,
    "start_time": "2022-05-30T11:33:01.409Z"
   },
   {
    "duration": 10,
    "start_time": "2022-05-30T11:33:01.446Z"
   },
   {
    "duration": 17,
    "start_time": "2022-05-30T11:33:01.458Z"
   },
   {
    "duration": 31,
    "start_time": "2022-05-30T11:33:01.477Z"
   },
   {
    "duration": 395,
    "start_time": "2022-05-30T11:33:01.509Z"
   },
   {
    "duration": 332,
    "start_time": "2022-05-30T11:33:01.906Z"
   },
   {
    "duration": 497,
    "start_time": "2022-05-30T11:33:02.241Z"
   },
   {
    "duration": 15,
    "start_time": "2022-05-30T11:33:02.740Z"
   },
   {
    "duration": 3,
    "start_time": "2022-05-30T11:33:02.757Z"
   },
   {
    "duration": 9,
    "start_time": "2022-05-30T11:33:02.762Z"
   },
   {
    "duration": 7,
    "start_time": "2022-05-30T11:33:02.772Z"
   },
   {
    "duration": 242,
    "start_time": "2022-05-30T11:33:02.780Z"
   },
   {
    "duration": 19,
    "start_time": "2022-05-30T11:33:03.024Z"
   },
   {
    "duration": 2,
    "start_time": "2022-05-30T11:33:03.045Z"
   },
   {
    "duration": 7,
    "start_time": "2022-05-30T11:33:03.049Z"
   },
   {
    "duration": 17,
    "start_time": "2022-05-30T11:33:03.057Z"
   },
   {
    "duration": 9,
    "start_time": "2022-05-30T11:33:03.076Z"
   },
   {
    "duration": 8,
    "start_time": "2022-05-30T11:33:03.086Z"
   },
   {
    "duration": 46,
    "start_time": "2022-05-30T11:33:03.096Z"
   },
   {
    "duration": 12,
    "start_time": "2022-05-30T11:33:03.144Z"
   },
   {
    "duration": 7,
    "start_time": "2022-05-30T11:33:03.157Z"
   },
   {
    "duration": 16,
    "start_time": "2022-05-30T11:33:03.165Z"
   },
   {
    "duration": 12,
    "start_time": "2022-05-30T11:33:03.182Z"
   },
   {
    "duration": 10,
    "start_time": "2022-05-30T11:33:03.195Z"
   },
   {
    "duration": 326,
    "start_time": "2022-05-30T11:33:03.207Z"
   },
   {
    "duration": 14,
    "start_time": "2022-05-30T11:33:03.535Z"
   },
   {
    "duration": 226,
    "start_time": "2022-05-30T11:33:03.551Z"
   },
   {
    "duration": 129,
    "start_time": "2022-05-30T11:33:03.779Z"
   },
   {
    "duration": 10,
    "start_time": "2022-05-30T11:33:03.910Z"
   },
   {
    "duration": 4,
    "start_time": "2022-05-30T11:33:03.921Z"
   },
   {
    "duration": 10,
    "start_time": "2022-05-30T11:33:03.941Z"
   },
   {
    "duration": 20,
    "start_time": "2022-05-30T11:33:03.953Z"
   },
   {
    "duration": 6,
    "start_time": "2022-05-30T11:33:03.974Z"
   },
   {
    "duration": 15,
    "start_time": "2022-05-30T11:33:03.981Z"
   },
   {
    "duration": 14,
    "start_time": "2022-05-30T11:33:03.997Z"
   },
   {
    "duration": 1534,
    "start_time": "2022-05-30T11:33:04.012Z"
   },
   {
    "duration": 9,
    "start_time": "2022-05-30T11:33:05.548Z"
   },
   {
    "duration": 16,
    "start_time": "2022-05-30T11:33:05.558Z"
   },
   {
    "duration": 18,
    "start_time": "2022-05-30T11:33:05.576Z"
   },
   {
    "duration": 60,
    "start_time": "2022-05-30T11:33:05.597Z"
   },
   {
    "duration": 301,
    "start_time": "2022-05-30T11:33:05.659Z"
   },
   {
    "duration": 21,
    "start_time": "2022-05-30T11:33:05.962Z"
   },
   {
    "duration": 17,
    "start_time": "2022-05-30T11:33:05.986Z"
   },
   {
    "duration": 11,
    "start_time": "2022-05-30T11:33:06.005Z"
   },
   {
    "duration": 304,
    "start_time": "2022-05-30T11:33:06.018Z"
   },
   {
    "duration": 5,
    "start_time": "2022-05-30T11:33:06.324Z"
   },
   {
    "duration": 24,
    "start_time": "2022-05-30T11:33:06.331Z"
   }
  ],
  "kernelspec": {
   "display_name": "Python 3 (ipykernel)",
   "language": "python",
   "name": "python3"
  },
  "language_info": {
   "codemirror_mode": {
    "name": "ipython",
    "version": 3
   },
   "file_extension": ".py",
   "mimetype": "text/x-python",
   "name": "python",
   "nbconvert_exporter": "python",
   "pygments_lexer": "ipython3",
   "version": "3.9.7"
  },
  "toc": {
   "base_numbering": 1,
   "nav_menu": {},
   "number_sections": true,
   "sideBar": true,
   "skip_h1_title": true,
   "title_cell": "Table of Contents",
   "title_sidebar": "Contents",
   "toc_cell": false,
   "toc_position": {
    "height": "calc(100% - 180px)",
    "left": "10px",
    "top": "150px",
    "width": "270.37px"
   },
   "toc_section_display": true,
   "toc_window_display": true
  }
 },
 "nbformat": 4,
 "nbformat_minor": 2
}
