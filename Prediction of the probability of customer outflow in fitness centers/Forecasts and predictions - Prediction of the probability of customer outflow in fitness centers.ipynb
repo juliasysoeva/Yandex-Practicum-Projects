{
 "cells": [
  {
   "cell_type": "markdown",
   "metadata": {},
   "source": [
    "# Прогнозирование вероятности оттока пользователей для фитнес-центров"
   ]
  },
  {
   "cell_type": "markdown",
   "metadata": {},
   "source": [
    "## Загрузка данных"
   ]
  },
  {
   "cell_type": "code",
   "execution_count": 1,
   "metadata": {},
   "outputs": [],
   "source": [
    "import pandas as pd\n",
    "import seaborn as sns\n",
    "from sklearn.preprocessing import StandardScaler\n",
    "from sklearn.model_selection import train_test_split\n",
    "from sklearn.linear_model import Lasso, Ridge\n",
    "from sklearn.tree import DecisionTreeRegressor\n",
    "from sklearn.ensemble import RandomForestRegressor, GradientBoostingRegressor\n",
    "import matplotlib.pyplot as plt\n",
    "from sklearn.metrics import mean_absolute_error, mean_squared_error, r2_score\n",
    "from sklearn.linear_model import LogisticRegression\n",
    "from sklearn.ensemble import RandomForestClassifier\n",
    "from sklearn.metrics import accuracy_score, precision_score, recall_score, f1_score\n",
    "from scipy.cluster.hierarchy import dendrogram, linkage \n",
    "from sklearn.cluster import KMeans\n",
    "import itertools"
   ]
  },
  {
   "cell_type": "markdown",
   "metadata": {},
   "source": [
    "<div style=\"border:solid blue 1px; padding: 20px\"> \n",
    "Сохраним данные в переменной data"
   ]
  },
  {
   "cell_type": "code",
   "execution_count": 2,
   "metadata": {},
   "outputs": [],
   "source": [
    "data = pd.read_csv('/datasets/gym_churn.csv')"
   ]
  },
  {
   "cell_type": "markdown",
   "metadata": {},
   "source": [
    "## Исследовательский анализ данных (EDA)"
   ]
  },
  {
   "cell_type": "markdown",
   "metadata": {},
   "source": [
    "<div style=\"border:solid blue 1px; padding: 20px\"> \n",
    "Изучим датасет"
   ]
  },
  {
   "cell_type": "code",
   "execution_count": 3,
   "metadata": {},
   "outputs": [
    {
     "data": {
      "text/html": [
       "<div>\n",
       "<style scoped>\n",
       "    .dataframe tbody tr th:only-of-type {\n",
       "        vertical-align: middle;\n",
       "    }\n",
       "\n",
       "    .dataframe tbody tr th {\n",
       "        vertical-align: top;\n",
       "    }\n",
       "\n",
       "    .dataframe thead th {\n",
       "        text-align: right;\n",
       "    }\n",
       "</style>\n",
       "<table border=\"1\" class=\"dataframe\">\n",
       "  <thead>\n",
       "    <tr style=\"text-align: right;\">\n",
       "      <th></th>\n",
       "      <th>gender</th>\n",
       "      <th>Near_Location</th>\n",
       "      <th>Partner</th>\n",
       "      <th>Promo_friends</th>\n",
       "      <th>Phone</th>\n",
       "      <th>Contract_period</th>\n",
       "      <th>Group_visits</th>\n",
       "      <th>Age</th>\n",
       "      <th>Avg_additional_charges_total</th>\n",
       "      <th>Month_to_end_contract</th>\n",
       "      <th>Lifetime</th>\n",
       "      <th>Avg_class_frequency_total</th>\n",
       "      <th>Avg_class_frequency_current_month</th>\n",
       "      <th>Churn</th>\n",
       "    </tr>\n",
       "  </thead>\n",
       "  <tbody>\n",
       "    <tr>\n",
       "      <th>0</th>\n",
       "      <td>1</td>\n",
       "      <td>1</td>\n",
       "      <td>1</td>\n",
       "      <td>1</td>\n",
       "      <td>0</td>\n",
       "      <td>6</td>\n",
       "      <td>1</td>\n",
       "      <td>29</td>\n",
       "      <td>14.227470</td>\n",
       "      <td>5.0</td>\n",
       "      <td>3</td>\n",
       "      <td>0.020398</td>\n",
       "      <td>0.000000</td>\n",
       "      <td>0</td>\n",
       "    </tr>\n",
       "    <tr>\n",
       "      <th>1</th>\n",
       "      <td>0</td>\n",
       "      <td>1</td>\n",
       "      <td>0</td>\n",
       "      <td>0</td>\n",
       "      <td>1</td>\n",
       "      <td>12</td>\n",
       "      <td>1</td>\n",
       "      <td>31</td>\n",
       "      <td>113.202938</td>\n",
       "      <td>12.0</td>\n",
       "      <td>7</td>\n",
       "      <td>1.922936</td>\n",
       "      <td>1.910244</td>\n",
       "      <td>0</td>\n",
       "    </tr>\n",
       "    <tr>\n",
       "      <th>2</th>\n",
       "      <td>0</td>\n",
       "      <td>1</td>\n",
       "      <td>1</td>\n",
       "      <td>0</td>\n",
       "      <td>1</td>\n",
       "      <td>1</td>\n",
       "      <td>0</td>\n",
       "      <td>28</td>\n",
       "      <td>129.448479</td>\n",
       "      <td>1.0</td>\n",
       "      <td>2</td>\n",
       "      <td>1.859098</td>\n",
       "      <td>1.736502</td>\n",
       "      <td>0</td>\n",
       "    </tr>\n",
       "    <tr>\n",
       "      <th>3</th>\n",
       "      <td>0</td>\n",
       "      <td>1</td>\n",
       "      <td>1</td>\n",
       "      <td>1</td>\n",
       "      <td>1</td>\n",
       "      <td>12</td>\n",
       "      <td>1</td>\n",
       "      <td>33</td>\n",
       "      <td>62.669863</td>\n",
       "      <td>12.0</td>\n",
       "      <td>2</td>\n",
       "      <td>3.205633</td>\n",
       "      <td>3.357215</td>\n",
       "      <td>0</td>\n",
       "    </tr>\n",
       "    <tr>\n",
       "      <th>4</th>\n",
       "      <td>1</td>\n",
       "      <td>1</td>\n",
       "      <td>1</td>\n",
       "      <td>1</td>\n",
       "      <td>1</td>\n",
       "      <td>1</td>\n",
       "      <td>0</td>\n",
       "      <td>26</td>\n",
       "      <td>198.362265</td>\n",
       "      <td>1.0</td>\n",
       "      <td>3</td>\n",
       "      <td>1.113884</td>\n",
       "      <td>1.120078</td>\n",
       "      <td>0</td>\n",
       "    </tr>\n",
       "  </tbody>\n",
       "</table>\n",
       "</div>"
      ],
      "text/plain": [
       "   gender  Near_Location  Partner  Promo_friends  Phone  Contract_period  \\\n",
       "0       1              1        1              1      0                6   \n",
       "1       0              1        0              0      1               12   \n",
       "2       0              1        1              0      1                1   \n",
       "3       0              1        1              1      1               12   \n",
       "4       1              1        1              1      1                1   \n",
       "\n",
       "   Group_visits  Age  Avg_additional_charges_total  Month_to_end_contract  \\\n",
       "0             1   29                     14.227470                    5.0   \n",
       "1             1   31                    113.202938                   12.0   \n",
       "2             0   28                    129.448479                    1.0   \n",
       "3             1   33                     62.669863                   12.0   \n",
       "4             0   26                    198.362265                    1.0   \n",
       "\n",
       "   Lifetime  Avg_class_frequency_total  Avg_class_frequency_current_month  \\\n",
       "0         3                   0.020398                           0.000000   \n",
       "1         7                   1.922936                           1.910244   \n",
       "2         2                   1.859098                           1.736502   \n",
       "3         2                   3.205633                           3.357215   \n",
       "4         3                   1.113884                           1.120078   \n",
       "\n",
       "   Churn  \n",
       "0      0  \n",
       "1      0  \n",
       "2      0  \n",
       "3      0  \n",
       "4      0  "
      ]
     },
     "execution_count": 3,
     "metadata": {},
     "output_type": "execute_result"
    }
   ],
   "source": [
    "data.head()"
   ]
  },
  {
   "cell_type": "code",
   "execution_count": 4,
   "metadata": {},
   "outputs": [
    {
     "name": "stdout",
     "output_type": "stream",
     "text": [
      "<class 'pandas.core.frame.DataFrame'>\n",
      "RangeIndex: 4000 entries, 0 to 3999\n",
      "Data columns (total 14 columns):\n",
      " #   Column                             Non-Null Count  Dtype  \n",
      "---  ------                             --------------  -----  \n",
      " 0   gender                             4000 non-null   int64  \n",
      " 1   Near_Location                      4000 non-null   int64  \n",
      " 2   Partner                            4000 non-null   int64  \n",
      " 3   Promo_friends                      4000 non-null   int64  \n",
      " 4   Phone                              4000 non-null   int64  \n",
      " 5   Contract_period                    4000 non-null   int64  \n",
      " 6   Group_visits                       4000 non-null   int64  \n",
      " 7   Age                                4000 non-null   int64  \n",
      " 8   Avg_additional_charges_total       4000 non-null   float64\n",
      " 9   Month_to_end_contract              4000 non-null   float64\n",
      " 10  Lifetime                           4000 non-null   int64  \n",
      " 11  Avg_class_frequency_total          4000 non-null   float64\n",
      " 12  Avg_class_frequency_current_month  4000 non-null   float64\n",
      " 13  Churn                              4000 non-null   int64  \n",
      "dtypes: float64(4), int64(10)\n",
      "memory usage: 437.6 KB\n"
     ]
    }
   ],
   "source": [
    "data.info()"
   ]
  },
  {
   "cell_type": "code",
   "execution_count": 5,
   "metadata": {},
   "outputs": [
    {
     "data": {
      "text/html": [
       "<div>\n",
       "<style scoped>\n",
       "    .dataframe tbody tr th:only-of-type {\n",
       "        vertical-align: middle;\n",
       "    }\n",
       "\n",
       "    .dataframe tbody tr th {\n",
       "        vertical-align: top;\n",
       "    }\n",
       "\n",
       "    .dataframe thead th {\n",
       "        text-align: right;\n",
       "    }\n",
       "</style>\n",
       "<table border=\"1\" class=\"dataframe\">\n",
       "  <thead>\n",
       "    <tr style=\"text-align: right;\">\n",
       "      <th></th>\n",
       "      <th>gender</th>\n",
       "      <th>Near_Location</th>\n",
       "      <th>Partner</th>\n",
       "      <th>Promo_friends</th>\n",
       "      <th>Phone</th>\n",
       "      <th>Contract_period</th>\n",
       "      <th>Group_visits</th>\n",
       "      <th>Age</th>\n",
       "      <th>Avg_additional_charges_total</th>\n",
       "      <th>Month_to_end_contract</th>\n",
       "      <th>Lifetime</th>\n",
       "      <th>Avg_class_frequency_total</th>\n",
       "      <th>Avg_class_frequency_current_month</th>\n",
       "      <th>Churn</th>\n",
       "    </tr>\n",
       "  </thead>\n",
       "  <tbody>\n",
       "    <tr>\n",
       "      <th>count</th>\n",
       "      <td>4000.000000</td>\n",
       "      <td>4000.000000</td>\n",
       "      <td>4000.000000</td>\n",
       "      <td>4000.000000</td>\n",
       "      <td>4000.000000</td>\n",
       "      <td>4000.000000</td>\n",
       "      <td>4000.000000</td>\n",
       "      <td>4000.000000</td>\n",
       "      <td>4000.000000</td>\n",
       "      <td>4000.000000</td>\n",
       "      <td>4000.000000</td>\n",
       "      <td>4000.000000</td>\n",
       "      <td>4000.000000</td>\n",
       "      <td>4000.000000</td>\n",
       "    </tr>\n",
       "    <tr>\n",
       "      <th>mean</th>\n",
       "      <td>0.510250</td>\n",
       "      <td>0.845250</td>\n",
       "      <td>0.486750</td>\n",
       "      <td>0.308500</td>\n",
       "      <td>0.903500</td>\n",
       "      <td>4.681250</td>\n",
       "      <td>0.412250</td>\n",
       "      <td>29.184250</td>\n",
       "      <td>146.943728</td>\n",
       "      <td>4.322750</td>\n",
       "      <td>3.724750</td>\n",
       "      <td>1.879020</td>\n",
       "      <td>1.767052</td>\n",
       "      <td>0.265250</td>\n",
       "    </tr>\n",
       "    <tr>\n",
       "      <th>std</th>\n",
       "      <td>0.499957</td>\n",
       "      <td>0.361711</td>\n",
       "      <td>0.499887</td>\n",
       "      <td>0.461932</td>\n",
       "      <td>0.295313</td>\n",
       "      <td>4.549706</td>\n",
       "      <td>0.492301</td>\n",
       "      <td>3.258367</td>\n",
       "      <td>96.355602</td>\n",
       "      <td>4.191297</td>\n",
       "      <td>3.749267</td>\n",
       "      <td>0.972245</td>\n",
       "      <td>1.052906</td>\n",
       "      <td>0.441521</td>\n",
       "    </tr>\n",
       "    <tr>\n",
       "      <th>min</th>\n",
       "      <td>0.000000</td>\n",
       "      <td>0.000000</td>\n",
       "      <td>0.000000</td>\n",
       "      <td>0.000000</td>\n",
       "      <td>0.000000</td>\n",
       "      <td>1.000000</td>\n",
       "      <td>0.000000</td>\n",
       "      <td>18.000000</td>\n",
       "      <td>0.148205</td>\n",
       "      <td>1.000000</td>\n",
       "      <td>0.000000</td>\n",
       "      <td>0.000000</td>\n",
       "      <td>0.000000</td>\n",
       "      <td>0.000000</td>\n",
       "    </tr>\n",
       "    <tr>\n",
       "      <th>25%</th>\n",
       "      <td>0.000000</td>\n",
       "      <td>1.000000</td>\n",
       "      <td>0.000000</td>\n",
       "      <td>0.000000</td>\n",
       "      <td>1.000000</td>\n",
       "      <td>1.000000</td>\n",
       "      <td>0.000000</td>\n",
       "      <td>27.000000</td>\n",
       "      <td>68.868830</td>\n",
       "      <td>1.000000</td>\n",
       "      <td>1.000000</td>\n",
       "      <td>1.180875</td>\n",
       "      <td>0.963003</td>\n",
       "      <td>0.000000</td>\n",
       "    </tr>\n",
       "    <tr>\n",
       "      <th>50%</th>\n",
       "      <td>1.000000</td>\n",
       "      <td>1.000000</td>\n",
       "      <td>0.000000</td>\n",
       "      <td>0.000000</td>\n",
       "      <td>1.000000</td>\n",
       "      <td>1.000000</td>\n",
       "      <td>0.000000</td>\n",
       "      <td>29.000000</td>\n",
       "      <td>136.220159</td>\n",
       "      <td>1.000000</td>\n",
       "      <td>3.000000</td>\n",
       "      <td>1.832768</td>\n",
       "      <td>1.719574</td>\n",
       "      <td>0.000000</td>\n",
       "    </tr>\n",
       "    <tr>\n",
       "      <th>75%</th>\n",
       "      <td>1.000000</td>\n",
       "      <td>1.000000</td>\n",
       "      <td>1.000000</td>\n",
       "      <td>1.000000</td>\n",
       "      <td>1.000000</td>\n",
       "      <td>6.000000</td>\n",
       "      <td>1.000000</td>\n",
       "      <td>31.000000</td>\n",
       "      <td>210.949625</td>\n",
       "      <td>6.000000</td>\n",
       "      <td>5.000000</td>\n",
       "      <td>2.536078</td>\n",
       "      <td>2.510336</td>\n",
       "      <td>1.000000</td>\n",
       "    </tr>\n",
       "    <tr>\n",
       "      <th>max</th>\n",
       "      <td>1.000000</td>\n",
       "      <td>1.000000</td>\n",
       "      <td>1.000000</td>\n",
       "      <td>1.000000</td>\n",
       "      <td>1.000000</td>\n",
       "      <td>12.000000</td>\n",
       "      <td>1.000000</td>\n",
       "      <td>41.000000</td>\n",
       "      <td>552.590740</td>\n",
       "      <td>12.000000</td>\n",
       "      <td>31.000000</td>\n",
       "      <td>6.023668</td>\n",
       "      <td>6.146783</td>\n",
       "      <td>1.000000</td>\n",
       "    </tr>\n",
       "  </tbody>\n",
       "</table>\n",
       "</div>"
      ],
      "text/plain": [
       "            gender  Near_Location      Partner  Promo_friends        Phone  \\\n",
       "count  4000.000000    4000.000000  4000.000000    4000.000000  4000.000000   \n",
       "mean      0.510250       0.845250     0.486750       0.308500     0.903500   \n",
       "std       0.499957       0.361711     0.499887       0.461932     0.295313   \n",
       "min       0.000000       0.000000     0.000000       0.000000     0.000000   \n",
       "25%       0.000000       1.000000     0.000000       0.000000     1.000000   \n",
       "50%       1.000000       1.000000     0.000000       0.000000     1.000000   \n",
       "75%       1.000000       1.000000     1.000000       1.000000     1.000000   \n",
       "max       1.000000       1.000000     1.000000       1.000000     1.000000   \n",
       "\n",
       "       Contract_period  Group_visits          Age  \\\n",
       "count      4000.000000   4000.000000  4000.000000   \n",
       "mean          4.681250      0.412250    29.184250   \n",
       "std           4.549706      0.492301     3.258367   \n",
       "min           1.000000      0.000000    18.000000   \n",
       "25%           1.000000      0.000000    27.000000   \n",
       "50%           1.000000      0.000000    29.000000   \n",
       "75%           6.000000      1.000000    31.000000   \n",
       "max          12.000000      1.000000    41.000000   \n",
       "\n",
       "       Avg_additional_charges_total  Month_to_end_contract     Lifetime  \\\n",
       "count                   4000.000000            4000.000000  4000.000000   \n",
       "mean                     146.943728               4.322750     3.724750   \n",
       "std                       96.355602               4.191297     3.749267   \n",
       "min                        0.148205               1.000000     0.000000   \n",
       "25%                       68.868830               1.000000     1.000000   \n",
       "50%                      136.220159               1.000000     3.000000   \n",
       "75%                      210.949625               6.000000     5.000000   \n",
       "max                      552.590740              12.000000    31.000000   \n",
       "\n",
       "       Avg_class_frequency_total  Avg_class_frequency_current_month  \\\n",
       "count                4000.000000                        4000.000000   \n",
       "mean                    1.879020                           1.767052   \n",
       "std                     0.972245                           1.052906   \n",
       "min                     0.000000                           0.000000   \n",
       "25%                     1.180875                           0.963003   \n",
       "50%                     1.832768                           1.719574   \n",
       "75%                     2.536078                           2.510336   \n",
       "max                     6.023668                           6.146783   \n",
       "\n",
       "             Churn  \n",
       "count  4000.000000  \n",
       "mean      0.265250  \n",
       "std       0.441521  \n",
       "min       0.000000  \n",
       "25%       0.000000  \n",
       "50%       0.000000  \n",
       "75%       1.000000  \n",
       "max       1.000000  "
      ]
     },
     "execution_count": 5,
     "metadata": {},
     "output_type": "execute_result"
    }
   ],
   "source": [
    "data.describe()"
   ]
  },
  {
   "cell_type": "markdown",
   "metadata": {},
   "source": [
    "<div style=\"border:solid blue 1px; padding: 20px\"> \n",
    "Данные представлены в виде целых и вещественных чисел, в них нет пропусков.\n",
    "\n",
    "Признаки \"пол\", \"проживание или работа в районе, где находится фитнес-центр\", \"сотрудник компании-партнёра клуба\", \"факт первоначальной записи в рамках акции «приведи друга»\", \"наличие контактного телефона\", \"факт посещения групповых занятий\" представлены в виде бинарной классификации.\n",
    "Примем за 1 и 0 следующее:\n",
    "- \"пол\":\n",
    "    - 1 - женщина;\n",
    "    - 0 - мужчина;\n",
    "- \"проживание или работа в районе, где находится фитнес-центр\":\n",
    "    - 1 - да;\n",
    "    - 0 - нет;\n",
    "- \"сотрудник компании-партнёра клуба\":\n",
    "    - 1 - да;\n",
    "    - 0 - нет;\n",
    "- \"факт первоначальной записи в рамках акции «приведи друга»\":\n",
    "    - 1 - да;\n",
    "    - 0 - нет;\n",
    "- \"наличие контактного телефона\":\n",
    "    - 1 - да;\n",
    "    - 0 - нет;\n",
    "- \"факт посещения групповых занятий\":\n",
    "    - 1 - да;\n",
    "    - 0 - нет;  \n",
    "- \"факт оттока в текущем месяце\":\n",
    "    - 1 - да;\n",
    "    - 0 - нет;    \n",
    "\n",
    "Таким образом 51% клиентов фитнес-центра - женщины, 84,5% живут или работают поблизости, 48,7% - сотрудники компании-партнёра клуба, 30,8% записались в рамках акции \"приведи друга\", 90,4% предоставили свой контактный телефон, 41,2% посещают групповые занятия и 26,5% клиентов покинули фитнес-клуб в текущем месяце\n",
    "\n",
    "Самый популярный тариф - 1 месяц, им пользуется 50% клиентов. Также можно оформить абонемент на 6 месяцев и на год.\n",
    "\n",
    "Минимальный возраст клиента - 18 лет, максимальный - 41 год.\n",
    "\n",
    "Суммарная выручка от других услуг фитнес-центра в среднем составляет 146,94.\n",
    "\n",
    "В среднем по выборке с момента первого обращения в фитнес-центр прошло ~4 месяцев. Самый преданный клиент посещает фитнес-клуб уже 31 месяц (2,5 года).\n",
    "\n",
    "Так как самый популярный тариф на 1 месяц, то и самый распространенный срок до конца действия абонемента - 1 месяц.\n",
    "\n",
    "Средняя частота посещений в неделю в неделю за предыдущий месяц и за все время с начала действия абонемента в целом по выборке примерно одинаковая."
   ]
  },
  {
   "cell_type": "markdown",
   "metadata": {},
   "source": [
    "<div style=\"border:solid blue 1px; padding: 20px\"> \n",
    "Приведем названия столбцов к нижнему регистру"
   ]
  },
  {
   "cell_type": "code",
   "execution_count": 6,
   "metadata": {},
   "outputs": [],
   "source": [
    "data.columns = data.columns.str.lower()"
   ]
  },
  {
   "cell_type": "markdown",
   "metadata": {},
   "source": [
    "<div style=\"border:solid blue 1px; padding: 20px\"> \n",
    "Проверим данные на явные дубликаты"
   ]
  },
  {
   "cell_type": "code",
   "execution_count": 7,
   "metadata": {},
   "outputs": [
    {
     "data": {
      "text/plain": [
       "0"
      ]
     },
     "execution_count": 7,
     "metadata": {},
     "output_type": "execute_result"
    }
   ],
   "source": [
    "data.duplicated().sum()"
   ]
  },
  {
   "cell_type": "markdown",
   "metadata": {},
   "source": [
    "<div style=\"border:solid blue 1px; padding: 20px\"> \n",
    "Явных дубликатов нет"
   ]
  },
  {
   "cell_type": "markdown",
   "metadata": {},
   "source": [
    "<div style=\"border:solid blue 1px; padding: 20px\"> \n",
    "Посмотрим на средние значения признаков в двух группах — тех, кто ушел в отток и тех, кто остался"
   ]
  },
  {
   "cell_type": "code",
   "execution_count": 8,
   "metadata": {},
   "outputs": [
    {
     "data": {
      "text/html": [
       "<div>\n",
       "<style scoped>\n",
       "    .dataframe tbody tr th:only-of-type {\n",
       "        vertical-align: middle;\n",
       "    }\n",
       "\n",
       "    .dataframe tbody tr th {\n",
       "        vertical-align: top;\n",
       "    }\n",
       "\n",
       "    .dataframe thead th {\n",
       "        text-align: right;\n",
       "    }\n",
       "</style>\n",
       "<table border=\"1\" class=\"dataframe\">\n",
       "  <thead>\n",
       "    <tr style=\"text-align: right;\">\n",
       "      <th></th>\n",
       "      <th>gender</th>\n",
       "      <th>near_location</th>\n",
       "      <th>partner</th>\n",
       "      <th>promo_friends</th>\n",
       "      <th>phone</th>\n",
       "      <th>contract_period</th>\n",
       "      <th>group_visits</th>\n",
       "      <th>age</th>\n",
       "      <th>avg_additional_charges_total</th>\n",
       "      <th>month_to_end_contract</th>\n",
       "      <th>lifetime</th>\n",
       "      <th>avg_class_frequency_total</th>\n",
       "      <th>avg_class_frequency_current_month</th>\n",
       "    </tr>\n",
       "    <tr>\n",
       "      <th>churn</th>\n",
       "      <th></th>\n",
       "      <th></th>\n",
       "      <th></th>\n",
       "      <th></th>\n",
       "      <th></th>\n",
       "      <th></th>\n",
       "      <th></th>\n",
       "      <th></th>\n",
       "      <th></th>\n",
       "      <th></th>\n",
       "      <th></th>\n",
       "      <th></th>\n",
       "      <th></th>\n",
       "    </tr>\n",
       "  </thead>\n",
       "  <tbody>\n",
       "    <tr>\n",
       "      <th>0</th>\n",
       "      <td>0.510037</td>\n",
       "      <td>0.873086</td>\n",
       "      <td>0.534195</td>\n",
       "      <td>0.353522</td>\n",
       "      <td>0.903709</td>\n",
       "      <td>5.747193</td>\n",
       "      <td>0.464103</td>\n",
       "      <td>29.976523</td>\n",
       "      <td>158.445715</td>\n",
       "      <td>5.283089</td>\n",
       "      <td>4.711807</td>\n",
       "      <td>2.024876</td>\n",
       "      <td>2.027882</td>\n",
       "    </tr>\n",
       "    <tr>\n",
       "      <th>1</th>\n",
       "      <td>0.510839</td>\n",
       "      <td>0.768143</td>\n",
       "      <td>0.355325</td>\n",
       "      <td>0.183789</td>\n",
       "      <td>0.902922</td>\n",
       "      <td>1.728558</td>\n",
       "      <td>0.268615</td>\n",
       "      <td>26.989632</td>\n",
       "      <td>115.082899</td>\n",
       "      <td>1.662582</td>\n",
       "      <td>0.990575</td>\n",
       "      <td>1.474995</td>\n",
       "      <td>1.044546</td>\n",
       "    </tr>\n",
       "  </tbody>\n",
       "</table>\n",
       "</div>"
      ],
      "text/plain": [
       "         gender  near_location   partner  promo_friends     phone  \\\n",
       "churn                                                               \n",
       "0      0.510037       0.873086  0.534195       0.353522  0.903709   \n",
       "1      0.510839       0.768143  0.355325       0.183789  0.902922   \n",
       "\n",
       "       contract_period  group_visits        age  avg_additional_charges_total  \\\n",
       "churn                                                                           \n",
       "0             5.747193      0.464103  29.976523                    158.445715   \n",
       "1             1.728558      0.268615  26.989632                    115.082899   \n",
       "\n",
       "       month_to_end_contract  lifetime  avg_class_frequency_total  \\\n",
       "churn                                                               \n",
       "0                   5.283089  4.711807                   2.024876   \n",
       "1                   1.662582  0.990575                   1.474995   \n",
       "\n",
       "       avg_class_frequency_current_month  \n",
       "churn                                     \n",
       "0                               2.027882  \n",
       "1                               1.044546  "
      ]
     },
     "execution_count": 8,
     "metadata": {},
     "output_type": "execute_result"
    }
   ],
   "source": [
    "data.groupby('churn').mean()"
   ]
  },
  {
   "cell_type": "markdown",
   "metadata": {},
   "source": [
    "<div style=\"border:solid blue 1px; padding: 20px\"> \n",
    "Различия среди клиентов, кто ушел и тех, кто остался наблюдаются в следующих признаках:\n",
    "\n",
    "- <b> Среди тех, кто ушел </b> меньше клиентов, живущих/работающих поблизости от фитнес-центра (76,8% против 87,3%);\n",
    "- Меньше клиентов, записавшихся в рамках акции \"приведи друга\" (35,5% против 53,4%);\n",
    "- Меньше клиентов, являющихся сотрудниками компании-партнёра клуба (18,4% против 35,4%);\n",
    "- Длительность абонемента в среднем ставляет ~2 месяца, в отличие от ~6 месяцев у оставшихся клиентов;\n",
    "- Меньше клиентов, посещающих групповые занятия (26,9% против 46,4%);\n",
    "- Меньше суммарная выручка от других услуг фитнес-центра (115 против 158);\n",
    "- С момента первого обращения в фитнес-центр прошло в среднем менее месяца;\n",
    "- Посещаемость занятий снизилась с 1,5 занятий в неделю за все время действия абонемента до 1 за предыдущий месяц."
   ]
  },
  {
   "cell_type": "markdown",
   "metadata": {},
   "source": [
    "<div style=\"border:solid blue 1px; padding: 20px\"> \n",
    "Построим графики распределения клиентов по признакам для тех, кто ушёл (отток) и тех, кто остался (не попали в отток)"
   ]
  },
  {
   "cell_type": "code",
   "execution_count": 9,
   "metadata": {},
   "outputs": [],
   "source": [
    "category_columns = ['gender', 'near_location', 'partner', 'promo_friends', 'phone', 'group_visits', 'churn']\n",
    "discrete_columns = ['contract_period', 'age', 'month_to_end_contract', 'lifetime']\n",
    "numeric_columns = ['avg_additional_charges_total', 'avg_class_frequency_total', 'avg_class_frequency_current_month']"
   ]
  },
  {
   "cell_type": "code",
   "execution_count": 10,
   "metadata": {
    "scrolled": false
   },
   "outputs": [
    {
     "data": {
      "image/png": "[encoded data removed]",
      "text/plain": [
       "<Figure size 864x432 with 1 Axes>"
      ]
     },
     "metadata": {
      "needs_background": "light"
     },
     "output_type": "display_data"
    },
    {
     "data": {
      "image/png": "[encoded data removed]",
      "text/plain": [
       "<Figure size 864x432 with 1 Axes>"
      ]
     },
     "metadata": {
      "needs_background": "light"
     },
     "output_type": "display_data"
    },
    {
     "data": {
      "image/png": "[encoded data removed]",
      "text/plain": [
       "<Figure size 864x432 with 1 Axes>"
      ]
     },
     "metadata": {
      "needs_background": "light"
     },
     "output_type": "display_data"
    },
    {
     "data": {
      "image/png": "[encoded data removed]",
      "text/plain": [
       "<Figure size 864x432 with 1 Axes>"
      ]
     },
     "metadata": {
      "needs_background": "light"
     },
     "output_type": "display_data"
    },
    {
     "data": {
      "image/png": "[encoded data removed]",
      "text/plain": [
       "<Figure size 864x432 with 1 Axes>"
      ]
     },
     "metadata": {
      "needs_background": "light"
     },
     "output_type": "display_data"
    },
    {
     "data": {
      "image/png": "[encoded data removed]",
      "text/plain": [
       "<Figure size 864x432 with 1 Axes>"
      ]
     },
     "metadata": {
      "needs_background": "light"
     },
     "output_type": "display_data"
    },
    {
     "data": {
      "image/png": "[encoded data removed]",
      "text/plain": [
       "<Figure size 864x432 with 1 Axes>"
      ]
     },
     "metadata": {
      "needs_background": "light"
     },
     "output_type": "display_data"
    }
   ],
   "source": [
    "for feature in category_columns:\n",
    "    plt.figure(figsize = (12,6))\n",
    "    sns.countplot(data=data, x=feature, hue='churn')\n",
    "    plt.title('Распределение клиентов по признаку: ' + feature)\n",
    "    plt.show()"
   ]
  },
  {
   "cell_type": "markdown",
   "metadata": {},
   "source": [
    "<div style=\"border:solid blue 1px; padding: 20px\"> \n",
    "На графиках выше отображено распределение клиентов по бинарным признакам. По ним можно отметить следующее:\n",
    "\n",
    "- Доля мужчин и женщин среди клиентов фитнес-клуба почти одинакова, как среди покинувших клуб клиентов, так и среди оставшихся;\n",
    "- Большая часть клиентов живет или работает рядом с фитнес-клубом. Если среди клиентов, живущих рядом с домом, доля оставшихся в клубе сильно больше доли покинувших его, то среди клиентов, живущих или работающих вдалеке от фитнес-клуба, доли примерно одинаковы;\n",
    "- Клиенты, не являющиеся сотрудниками компании-партнёра клуба, скорее покидали фитнес-клуб;\n",
    "- Клиенты, не записавшиеся в рамках акции «приведи друга», скорее покидали фитнес-клуб;\n",
    "- Почти все клиенты оставили свой контактный телефон. Доля ушедших клиентов в разбивке по этому признаку примерно одинакова;\n",
    "- Клиентов, не посещающих групповые занятие, больше как среди ушедших, так и среди оставшихся;\n",
    "- Примерно четверть клиентов покинула фитнес-клуб в текущем месяце."
   ]
  },
  {
   "cell_type": "code",
   "execution_count": 11,
   "metadata": {},
   "outputs": [
    {
     "data": {
      "image/png": "[encoded data removed]",
      "text/plain": [
       "<Figure size 864x432 with 2 Axes>"
      ]
     },
     "metadata": {
      "needs_background": "light"
     },
     "output_type": "display_data"
    },
    {
     "data": {
      "image/png": "[encoded data removed]",
      "text/plain": [
       "<Figure size 864x432 with 2 Axes>"
      ]
     },
     "metadata": {
      "needs_background": "light"
     },
     "output_type": "display_data"
    },
    {
     "data": {
      "image/png": "[encoded data removed]",
      "text/plain": [
       "<Figure size 864x432 with 2 Axes>"
      ]
     },
     "metadata": {
      "needs_background": "light"
     },
     "output_type": "display_data"
    },
    {
     "data": {
      "image/png": "[encoded data removed]",
      "text/plain": [
       "<Figure size 864x432 with 2 Axes>"
      ]
     },
     "metadata": {
      "needs_background": "light"
     },
     "output_type": "display_data"
    }
   ],
   "source": [
    "for feature in discrete_columns:\n",
    "    pt = pd.pivot_table(data, index=feature, columns='churn', values='gender', aggfunc='count')\n",
    "    plt.figure(figsize = (12,6))\n",
    "    sns.heatmap(pt, annot=True, fmt='.1f', cmap='coolwarm')\n",
    "    plt.title('Тепловая карта распределения клиентов по признаку: ' + feature)\n",
    "    plt.show()"
   ]
  },
  {
   "cell_type": "markdown",
   "metadata": {},
   "source": [
    "<div style=\"border:solid blue 1px; padding: 20px\"> \n",
    "На графиках выше отображено распределение клиентов по дискретным признакам. По ним можно отметить следующее:\n",
    "\n",
    "- Больше половины клиентов заключают контракт на 1 месяц;\n",
    "- ~ половина из них покинула клуб в текущем месяце;\n",
    "- Активнее всего покидали фитнес-клуб клиенты 25-28 лет;\n",
    "- Среди оставшихся клиентов больше всего лиц 28-32 лет;\n",
    "- Почти все покинувшие клуб клиенты посещали его не больше 2 месяцев;"
   ]
  },
  {
   "cell_type": "code",
   "execution_count": 12,
   "metadata": {},
   "outputs": [
    {
     "name": "stderr",
     "output_type": "stream",
     "text": [
      "/opt/conda/lib/python3.9/site-packages/seaborn/distributions.py:2557: FutureWarning: `distplot` is a deprecated function and will be removed in a future version. Please adapt your code to use either `displot` (a figure-level function with similar flexibility) or `histplot` (an axes-level function for histograms).\n",
      "  warnings.warn(msg, FutureWarning)\n",
      "/opt/conda/lib/python3.9/site-packages/seaborn/distributions.py:2557: FutureWarning: `distplot` is a deprecated function and will be removed in a future version. Please adapt your code to use either `displot` (a figure-level function with similar flexibility) or `histplot` (an axes-level function for histograms).\n",
      "  warnings.warn(msg, FutureWarning)\n"
     ]
    },
    {
     "data": {
      "image/png": "[encoded data removed]",
      "text/plain": [
       "<Figure size 864x432 with 1 Axes>"
      ]
     },
     "metadata": {
      "needs_background": "light"
     },
     "output_type": "display_data"
    },
    {
     "name": "stderr",
     "output_type": "stream",
     "text": [
      "/opt/conda/lib/python3.9/site-packages/seaborn/distributions.py:2557: FutureWarning: `distplot` is a deprecated function and will be removed in a future version. Please adapt your code to use either `displot` (a figure-level function with similar flexibility) or `histplot` (an axes-level function for histograms).\n",
      "  warnings.warn(msg, FutureWarning)\n",
      "/opt/conda/lib/python3.9/site-packages/seaborn/distributions.py:2557: FutureWarning: `distplot` is a deprecated function and will be removed in a future version. Please adapt your code to use either `displot` (a figure-level function with similar flexibility) or `histplot` (an axes-level function for histograms).\n",
      "  warnings.warn(msg, FutureWarning)\n"
     ]
    },
    {
     "data": {
      "image/png": "[encoded data removed]",
      "text/plain": [
       "<Figure size 864x432 with 1 Axes>"
      ]
     },
     "metadata": {
      "needs_background": "light"
     },
     "output_type": "display_data"
    },
    {
     "name": "stderr",
     "output_type": "stream",
     "text": [
      "/opt/conda/lib/python3.9/site-packages/seaborn/distributions.py:2557: FutureWarning: `distplot` is a deprecated function and will be removed in a future version. Please adapt your code to use either `displot` (a figure-level function with similar flexibility) or `histplot` (an axes-level function for histograms).\n",
      "  warnings.warn(msg, FutureWarning)\n",
      "/opt/conda/lib/python3.9/site-packages/seaborn/distributions.py:2557: FutureWarning: `distplot` is a deprecated function and will be removed in a future version. Please adapt your code to use either `displot` (a figure-level function with similar flexibility) or `histplot` (an axes-level function for histograms).\n",
      "  warnings.warn(msg, FutureWarning)\n"
     ]
    },
    {
     "data": {
      "image/png": "[encoded data removed]",
      "text/plain": [
       "<Figure size 864x432 with 1 Axes>"
      ]
     },
     "metadata": {
      "needs_background": "light"
     },
     "output_type": "display_data"
    }
   ],
   "source": [
    "for feature in numeric_columns:\n",
    "    plt.figure(figsize = (12,6))\n",
    "    sns.distplot(data[data['churn']==1][feature], bins=10)\n",
    "    plt.title('Распределение клиентов по признаку: '+ feature)\n",
    "        \n",
    "    sns.distplot(data[data['churn']==0][feature], bins=10)\n",
    "    plt.title('Распределение клиентов по признаку: '+ feature)\n",
    "    plt.legend(labels=['churn1', 'churn0'])\n",
    "    plt.show() "
   ]
  },
  {
   "cell_type": "markdown",
   "metadata": {},
   "source": [
    "<div style=\"border:solid blue 1px; padding: 20px\"> \n",
    "На графиках выше отображено распределение клиентов по числовым непрерывным признакам. По ним можно отметить следующее:\n",
    "\n",
    "- Клиенты, покинувшие фитнес-клуб в текущем месяце, тратят меньше на другие услуги фитнес-центра, чем оставшиеся;\n",
    "- Ушедшие клиенты в основном посещали клуб не больше 2 раз в неделю. Причем за последний месяц многие не посетили его ни разу;"
   ]
  },
  {
   "cell_type": "markdown",
   "metadata": {},
   "source": [
    "<div style=\"border:solid blue 1px; padding: 20px\"> \n",
    "Построим также матрицу корреляций"
   ]
  },
  {
   "cell_type": "code",
   "execution_count": 13,
   "metadata": {},
   "outputs": [],
   "source": [
    "cm = data.corr()"
   ]
  },
  {
   "cell_type": "code",
   "execution_count": 14,
   "metadata": {},
   "outputs": [
    {
     "data": {
      "text/html": [
       "<div>\n",
       "<style scoped>\n",
       "    .dataframe tbody tr th:only-of-type {\n",
       "        vertical-align: middle;\n",
       "    }\n",
       "\n",
       "    .dataframe tbody tr th {\n",
       "        vertical-align: top;\n",
       "    }\n",
       "\n",
       "    .dataframe thead th {\n",
       "        text-align: right;\n",
       "    }\n",
       "</style>\n",
       "<table border=\"1\" class=\"dataframe\">\n",
       "  <thead>\n",
       "    <tr style=\"text-align: right;\">\n",
       "      <th></th>\n",
       "      <th>gender</th>\n",
       "      <th>near_location</th>\n",
       "      <th>partner</th>\n",
       "      <th>promo_friends</th>\n",
       "      <th>phone</th>\n",
       "      <th>contract_period</th>\n",
       "      <th>group_visits</th>\n",
       "      <th>age</th>\n",
       "      <th>avg_additional_charges_total</th>\n",
       "      <th>month_to_end_contract</th>\n",
       "      <th>lifetime</th>\n",
       "      <th>avg_class_frequency_total</th>\n",
       "      <th>avg_class_frequency_current_month</th>\n",
       "      <th>churn</th>\n",
       "    </tr>\n",
       "  </thead>\n",
       "  <tbody>\n",
       "    <tr>\n",
       "      <th>gender</th>\n",
       "      <td>1.000000</td>\n",
       "      <td>0.006699</td>\n",
       "      <td>-0.010463</td>\n",
       "      <td>-0.005033</td>\n",
       "      <td>-0.008542</td>\n",
       "      <td>0.000502</td>\n",
       "      <td>0.017879</td>\n",
       "      <td>0.013807</td>\n",
       "      <td>-0.009334</td>\n",
       "      <td>-0.001281</td>\n",
       "      <td>0.013579</td>\n",
       "      <td>0.014620</td>\n",
       "      <td>0.009156</td>\n",
       "      <td>0.000708</td>\n",
       "    </tr>\n",
       "    <tr>\n",
       "      <th>near_location</th>\n",
       "      <td>0.006699</td>\n",
       "      <td>1.000000</td>\n",
       "      <td>-0.005119</td>\n",
       "      <td>0.210964</td>\n",
       "      <td>-0.015763</td>\n",
       "      <td>0.150233</td>\n",
       "      <td>0.154728</td>\n",
       "      <td>0.058358</td>\n",
       "      <td>0.040761</td>\n",
       "      <td>0.143961</td>\n",
       "      <td>0.070921</td>\n",
       "      <td>0.043127</td>\n",
       "      <td>0.062664</td>\n",
       "      <td>-0.128098</td>\n",
       "    </tr>\n",
       "    <tr>\n",
       "      <th>partner</th>\n",
       "      <td>-0.010463</td>\n",
       "      <td>-0.005119</td>\n",
       "      <td>1.000000</td>\n",
       "      <td>0.451960</td>\n",
       "      <td>0.009970</td>\n",
       "      <td>0.306166</td>\n",
       "      <td>0.022710</td>\n",
       "      <td>0.047480</td>\n",
       "      <td>0.022941</td>\n",
       "      <td>0.294632</td>\n",
       "      <td>0.061229</td>\n",
       "      <td>0.024938</td>\n",
       "      <td>0.045561</td>\n",
       "      <td>-0.157986</td>\n",
       "    </tr>\n",
       "    <tr>\n",
       "      <th>promo_friends</th>\n",
       "      <td>-0.005033</td>\n",
       "      <td>0.210964</td>\n",
       "      <td>0.451960</td>\n",
       "      <td>1.000000</td>\n",
       "      <td>0.001982</td>\n",
       "      <td>0.244552</td>\n",
       "      <td>0.120170</td>\n",
       "      <td>0.050113</td>\n",
       "      <td>0.036898</td>\n",
       "      <td>0.239553</td>\n",
       "      <td>0.072721</td>\n",
       "      <td>0.028063</td>\n",
       "      <td>0.053768</td>\n",
       "      <td>-0.162233</td>\n",
       "    </tr>\n",
       "    <tr>\n",
       "      <th>phone</th>\n",
       "      <td>-0.008542</td>\n",
       "      <td>-0.015763</td>\n",
       "      <td>0.009970</td>\n",
       "      <td>0.001982</td>\n",
       "      <td>1.000000</td>\n",
       "      <td>-0.006893</td>\n",
       "      <td>-0.010099</td>\n",
       "      <td>-0.011403</td>\n",
       "      <td>0.009279</td>\n",
       "      <td>-0.011196</td>\n",
       "      <td>-0.018801</td>\n",
       "      <td>0.008340</td>\n",
       "      <td>0.013375</td>\n",
       "      <td>-0.001177</td>\n",
       "    </tr>\n",
       "    <tr>\n",
       "      <th>contract_period</th>\n",
       "      <td>0.000502</td>\n",
       "      <td>0.150233</td>\n",
       "      <td>0.306166</td>\n",
       "      <td>0.244552</td>\n",
       "      <td>-0.006893</td>\n",
       "      <td>1.000000</td>\n",
       "      <td>0.169991</td>\n",
       "      <td>0.138249</td>\n",
       "      <td>0.111445</td>\n",
       "      <td>0.973064</td>\n",
       "      <td>0.170725</td>\n",
       "      <td>0.096211</td>\n",
       "      <td>0.159407</td>\n",
       "      <td>-0.389984</td>\n",
       "    </tr>\n",
       "    <tr>\n",
       "      <th>group_visits</th>\n",
       "      <td>0.017879</td>\n",
       "      <td>0.154728</td>\n",
       "      <td>0.022710</td>\n",
       "      <td>0.120170</td>\n",
       "      <td>-0.010099</td>\n",
       "      <td>0.169991</td>\n",
       "      <td>1.000000</td>\n",
       "      <td>0.080934</td>\n",
       "      <td>0.032079</td>\n",
       "      <td>0.163703</td>\n",
       "      <td>0.075853</td>\n",
       "      <td>0.056695</td>\n",
       "      <td>0.075923</td>\n",
       "      <td>-0.175325</td>\n",
       "    </tr>\n",
       "    <tr>\n",
       "      <th>age</th>\n",
       "      <td>0.013807</td>\n",
       "      <td>0.058358</td>\n",
       "      <td>0.047480</td>\n",
       "      <td>0.050113</td>\n",
       "      <td>-0.011403</td>\n",
       "      <td>0.138249</td>\n",
       "      <td>0.080934</td>\n",
       "      <td>1.000000</td>\n",
       "      <td>0.080240</td>\n",
       "      <td>0.134511</td>\n",
       "      <td>0.164693</td>\n",
       "      <td>0.119953</td>\n",
       "      <td>0.183095</td>\n",
       "      <td>-0.404735</td>\n",
       "    </tr>\n",
       "    <tr>\n",
       "      <th>avg_additional_charges_total</th>\n",
       "      <td>-0.009334</td>\n",
       "      <td>0.040761</td>\n",
       "      <td>0.022941</td>\n",
       "      <td>0.036898</td>\n",
       "      <td>0.009279</td>\n",
       "      <td>0.111445</td>\n",
       "      <td>0.032079</td>\n",
       "      <td>0.080240</td>\n",
       "      <td>1.000000</td>\n",
       "      <td>0.113958</td>\n",
       "      <td>0.079028</td>\n",
       "      <td>0.044426</td>\n",
       "      <td>0.079570</td>\n",
       "      <td>-0.198697</td>\n",
       "    </tr>\n",
       "    <tr>\n",
       "      <th>month_to_end_contract</th>\n",
       "      <td>-0.001281</td>\n",
       "      <td>0.143961</td>\n",
       "      <td>0.294632</td>\n",
       "      <td>0.239553</td>\n",
       "      <td>-0.011196</td>\n",
       "      <td>0.973064</td>\n",
       "      <td>0.163703</td>\n",
       "      <td>0.134511</td>\n",
       "      <td>0.113958</td>\n",
       "      <td>1.000000</td>\n",
       "      <td>0.161078</td>\n",
       "      <td>0.085387</td>\n",
       "      <td>0.147605</td>\n",
       "      <td>-0.381393</td>\n",
       "    </tr>\n",
       "    <tr>\n",
       "      <th>lifetime</th>\n",
       "      <td>0.013579</td>\n",
       "      <td>0.070921</td>\n",
       "      <td>0.061229</td>\n",
       "      <td>0.072721</td>\n",
       "      <td>-0.018801</td>\n",
       "      <td>0.170725</td>\n",
       "      <td>0.075853</td>\n",
       "      <td>0.164693</td>\n",
       "      <td>0.079028</td>\n",
       "      <td>0.161078</td>\n",
       "      <td>1.000000</td>\n",
       "      <td>0.112338</td>\n",
       "      <td>0.181975</td>\n",
       "      <td>-0.438220</td>\n",
       "    </tr>\n",
       "    <tr>\n",
       "      <th>avg_class_frequency_total</th>\n",
       "      <td>0.014620</td>\n",
       "      <td>0.043127</td>\n",
       "      <td>0.024938</td>\n",
       "      <td>0.028063</td>\n",
       "      <td>0.008340</td>\n",
       "      <td>0.096211</td>\n",
       "      <td>0.056695</td>\n",
       "      <td>0.119953</td>\n",
       "      <td>0.044426</td>\n",
       "      <td>0.085387</td>\n",
       "      <td>0.112338</td>\n",
       "      <td>1.000000</td>\n",
       "      <td>0.952739</td>\n",
       "      <td>-0.249715</td>\n",
       "    </tr>\n",
       "    <tr>\n",
       "      <th>avg_class_frequency_current_month</th>\n",
       "      <td>0.009156</td>\n",
       "      <td>0.062664</td>\n",
       "      <td>0.045561</td>\n",
       "      <td>0.053768</td>\n",
       "      <td>0.013375</td>\n",
       "      <td>0.159407</td>\n",
       "      <td>0.075923</td>\n",
       "      <td>0.183095</td>\n",
       "      <td>0.079570</td>\n",
       "      <td>0.147605</td>\n",
       "      <td>0.181975</td>\n",
       "      <td>0.952739</td>\n",
       "      <td>1.000000</td>\n",
       "      <td>-0.412348</td>\n",
       "    </tr>\n",
       "    <tr>\n",
       "      <th>churn</th>\n",
       "      <td>0.000708</td>\n",
       "      <td>-0.128098</td>\n",
       "      <td>-0.157986</td>\n",
       "      <td>-0.162233</td>\n",
       "      <td>-0.001177</td>\n",
       "      <td>-0.389984</td>\n",
       "      <td>-0.175325</td>\n",
       "      <td>-0.404735</td>\n",
       "      <td>-0.198697</td>\n",
       "      <td>-0.381393</td>\n",
       "      <td>-0.438220</td>\n",
       "      <td>-0.249715</td>\n",
       "      <td>-0.412348</td>\n",
       "      <td>1.000000</td>\n",
       "    </tr>\n",
       "  </tbody>\n",
       "</table>\n",
       "</div>"
      ],
      "text/plain": [
       "                                     gender  near_location   partner  \\\n",
       "gender                             1.000000       0.006699 -0.010463   \n",
       "near_location                      0.006699       1.000000 -0.005119   \n",
       "partner                           -0.010463      -0.005119  1.000000   \n",
       "promo_friends                     -0.005033       0.210964  0.451960   \n",
       "phone                             -0.008542      -0.015763  0.009970   \n",
       "contract_period                    0.000502       0.150233  0.306166   \n",
       "group_visits                       0.017879       0.154728  0.022710   \n",
       "age                                0.013807       0.058358  0.047480   \n",
       "avg_additional_charges_total      -0.009334       0.040761  0.022941   \n",
       "month_to_end_contract             -0.001281       0.143961  0.294632   \n",
       "lifetime                           0.013579       0.070921  0.061229   \n",
       "avg_class_frequency_total          0.014620       0.043127  0.024938   \n",
       "avg_class_frequency_current_month  0.009156       0.062664  0.045561   \n",
       "churn                              0.000708      -0.128098 -0.157986   \n",
       "\n",
       "                                   promo_friends     phone  contract_period  \\\n",
       "gender                                 -0.005033 -0.008542         0.000502   \n",
       "near_location                           0.210964 -0.015763         0.150233   \n",
       "partner                                 0.451960  0.009970         0.306166   \n",
       "promo_friends                           1.000000  0.001982         0.244552   \n",
       "phone                                   0.001982  1.000000        -0.006893   \n",
       "contract_period                         0.244552 -0.006893         1.000000   \n",
       "group_visits                            0.120170 -0.010099         0.169991   \n",
       "age                                     0.050113 -0.011403         0.138249   \n",
       "avg_additional_charges_total            0.036898  0.009279         0.111445   \n",
       "month_to_end_contract                   0.239553 -0.011196         0.973064   \n",
       "lifetime                                0.072721 -0.018801         0.170725   \n",
       "avg_class_frequency_total               0.028063  0.008340         0.096211   \n",
       "avg_class_frequency_current_month       0.053768  0.013375         0.159407   \n",
       "churn                                  -0.162233 -0.001177        -0.389984   \n",
       "\n",
       "                                   group_visits       age  \\\n",
       "gender                                 0.017879  0.013807   \n",
       "near_location                          0.154728  0.058358   \n",
       "partner                                0.022710  0.047480   \n",
       "promo_friends                          0.120170  0.050113   \n",
       "phone                                 -0.010099 -0.011403   \n",
       "contract_period                        0.169991  0.138249   \n",
       "group_visits                           1.000000  0.080934   \n",
       "age                                    0.080934  1.000000   \n",
       "avg_additional_charges_total           0.032079  0.080240   \n",
       "month_to_end_contract                  0.163703  0.134511   \n",
       "lifetime                               0.075853  0.164693   \n",
       "avg_class_frequency_total              0.056695  0.119953   \n",
       "avg_class_frequency_current_month      0.075923  0.183095   \n",
       "churn                                 -0.175325 -0.404735   \n",
       "\n",
       "                                   avg_additional_charges_total  \\\n",
       "gender                                                -0.009334   \n",
       "near_location                                          0.040761   \n",
       "partner                                                0.022941   \n",
       "promo_friends                                          0.036898   \n",
       "phone                                                  0.009279   \n",
       "contract_period                                        0.111445   \n",
       "group_visits                                           0.032079   \n",
       "age                                                    0.080240   \n",
       "avg_additional_charges_total                           1.000000   \n",
       "month_to_end_contract                                  0.113958   \n",
       "lifetime                                               0.079028   \n",
       "avg_class_frequency_total                              0.044426   \n",
       "avg_class_frequency_current_month                      0.079570   \n",
       "churn                                                 -0.198697   \n",
       "\n",
       "                                   month_to_end_contract  lifetime  \\\n",
       "gender                                         -0.001281  0.013579   \n",
       "near_location                                   0.143961  0.070921   \n",
       "partner                                         0.294632  0.061229   \n",
       "promo_friends                                   0.239553  0.072721   \n",
       "phone                                          -0.011196 -0.018801   \n",
       "contract_period                                 0.973064  0.170725   \n",
       "group_visits                                    0.163703  0.075853   \n",
       "age                                             0.134511  0.164693   \n",
       "avg_additional_charges_total                    0.113958  0.079028   \n",
       "month_to_end_contract                           1.000000  0.161078   \n",
       "lifetime                                        0.161078  1.000000   \n",
       "avg_class_frequency_total                       0.085387  0.112338   \n",
       "avg_class_frequency_current_month               0.147605  0.181975   \n",
       "churn                                          -0.381393 -0.438220   \n",
       "\n",
       "                                   avg_class_frequency_total  \\\n",
       "gender                                              0.014620   \n",
       "near_location                                       0.043127   \n",
       "partner                                             0.024938   \n",
       "promo_friends                                       0.028063   \n",
       "phone                                               0.008340   \n",
       "contract_period                                     0.096211   \n",
       "group_visits                                        0.056695   \n",
       "age                                                 0.119953   \n",
       "avg_additional_charges_total                        0.044426   \n",
       "month_to_end_contract                               0.085387   \n",
       "lifetime                                            0.112338   \n",
       "avg_class_frequency_total                           1.000000   \n",
       "avg_class_frequency_current_month                   0.952739   \n",
       "churn                                              -0.249715   \n",
       "\n",
       "                                   avg_class_frequency_current_month     churn  \n",
       "gender                                                      0.009156  0.000708  \n",
       "near_location                                               0.062664 -0.128098  \n",
       "partner                                                     0.045561 -0.157986  \n",
       "promo_friends                                               0.053768 -0.162233  \n",
       "phone                                                       0.013375 -0.001177  \n",
       "contract_period                                             0.159407 -0.389984  \n",
       "group_visits                                                0.075923 -0.175325  \n",
       "age                                                         0.183095 -0.404735  \n",
       "avg_additional_charges_total                                0.079570 -0.198697  \n",
       "month_to_end_contract                                       0.147605 -0.381393  \n",
       "lifetime                                                    0.181975 -0.438220  \n",
       "avg_class_frequency_total                                   0.952739 -0.249715  \n",
       "avg_class_frequency_current_month                           1.000000 -0.412348  \n",
       "churn                                                      -0.412348  1.000000  "
      ]
     },
     "execution_count": 14,
     "metadata": {},
     "output_type": "execute_result"
    }
   ],
   "source": [
    "cm"
   ]
  },
  {
   "cell_type": "code",
   "execution_count": 15,
   "metadata": {},
   "outputs": [
    {
     "data": {
      "image/png": "[encoded data removed]",
      "text/plain": [
       "<Figure size 864x432 with 2 Axes>"
      ]
     },
     "metadata": {
      "needs_background": "light"
     },
     "output_type": "display_data"
    }
   ],
   "source": [
    "plt.figure(figsize = (12,6))\n",
    "sns.heatmap(cm, annot=True, cmap='coolwarm')\n",
    "plt.title('Матрица корреляций')\n",
    "plt.show()"
   ]
  },
  {
   "cell_type": "markdown",
   "metadata": {},
   "source": [
    "<div style=\"border:solid blue 1px; padding: 20px\"> \n",
    "По матрице корреляций видно, что сильно коррелируют между собой признаки \"длительность текущего действующего абонемента\" и \"срок до окончания текущего действующего абонемента\", а также \"средняя частота посещений в неделю за предыдущий месяц\" и \"средняя частота посещений в неделю за все время с начала действия абонемента\""
   ]
  },
  {
   "cell_type": "markdown",
   "metadata": {},
   "source": [
    "<div style=\"border:solid blue 1px; padding: 20px\"> \n",
    "Относительно корреляции с целевым признаком (факт оттока в текущем месяце), сильнее всего с ним отрицательно коррелируют признаки \"время с момента первого обращения в фитнес-центр\", \"средняя частота посещений в неделю за предыдущий месяц\", \"возраст\", \"длительность текущего действующего абонемента\", \"срок до окончания текущего действующего абонемента\" (т.е., чем они меньше, тем сильнее факт оттока)"
   ]
  },
  {
   "cell_type": "markdown",
   "metadata": {},
   "source": [
    "### Вывод"
   ]
  },
  {
   "cell_type": "markdown",
   "metadata": {},
   "source": [
    "Данные представлены в виде целых и вещественных чисел, в них нет пропусков.\n",
    "Часть признаков (например, \"пол\", \"проживание или работа в районе, где находится фитнес-центр\", \"сотрудник компании-партнёра клуба\" и т.д.) представлены в виде бинарной классификации.\n",
    "\n",
    "- 51% клиентов фитнес-центра - женщины\n",
    "- 84,5% живут или работают поблизости\n",
    "- 48,7% - сотрудники компании-партнёра клуба\n",
    "- 30,8% записались в рамках акции \"приведи друга\"\n",
    "- 90,4% предоставили свой контактный телефон\n",
    "- 41,2% посещают групповые занятия\n",
    "- 26,5% клиентов покинули фитнес-клуб в текущем месяце\n",
    "- Самый популярный тариф - 1 месяц, им пользуется 50% клиентов. Также можно оформить абонемент на 6 месяцев и на год.\n",
    "- Минимальный возраст клиента - 18 лет, максимальный - 41 год.\n",
    "- Суммарная выручка от других услуг фитнес-центра в среднем составляет 146,94.\n",
    "- В среднем по выборке с момента первого обращения в фитнес-центр прошло ~4 месяцев. Самый преданный клиент посещает фитнес-клуб уже 31 месяц (2,5 года).\n",
    "\n",
    "Различия среди клиентов, кто ушел и тех, кто остался наблюдаются в следующих признаках:\n",
    "- Среди тех, кто ушел меньше клиентов, живущих/работающих поблизости от фитнес-центра (76,8% против 87,3%);\n",
    "- Меньше клиентов, записавшихся в рамках акции \"приведи друга\" (35,5% против 53,4%);\n",
    "- Меньше клиентов, являющихся сотрудниками компании-партнёра клуба (18,4% против 35,4%);\n",
    "- Длительность абонемента в среднем ставляет ~2 месяца, в отличие от ~6 месяцев у оставшихся клиентов;\n",
    "- Меньше клиентов, посещающих групповые занятия (26,9% против 46,4%);\n",
    "- Меньше суммарная выручка от других услуг фитнес-центра (115 против 158);\n",
    "- С момента первого обращения в фитнес-центр прошло в среднем менее месяца;\n",
    "- Посещаемость занятий снизилась с 1,5 занятий в неделю за все время действия абонемента до 1 за предыдущий месяц.\n",
    "\n",
    "Сильно коррелируют между собой признаки \"длительность текущего действующего абонемента\" и \"срок до окончания текущего действующего абонемента\", а также \"средняя частота посещений в неделю за предыдущий месяц\" и \"средняя частота посещений в неделю за все время с начала действия абонемента\"."
   ]
  },
  {
   "cell_type": "markdown",
   "metadata": {},
   "source": [
    "## Модель прогнозирования оттока клиентов"
   ]
  },
  {
   "cell_type": "markdown",
   "metadata": {},
   "source": [
    "<div style=\"border:solid blue 1px; padding: 20px\"> \n",
    "Построим модель бинарной классификации клиентов, где целевой признак — факт оттока клиента в следующем месяце"
   ]
  },
  {
   "cell_type": "markdown",
   "metadata": {},
   "source": [
    "<div style=\"border:solid blue 1px; padding: 20px\"> \n",
    "Разделим наши данные на признаки (матрица X) и целевую переменную (y)"
   ]
  },
  {
   "cell_type": "code",
   "execution_count": 16,
   "metadata": {},
   "outputs": [],
   "source": [
    "X = data.drop('churn', axis=1)\n",
    "y = data['churn']"
   ]
  },
  {
   "cell_type": "markdown",
   "metadata": {},
   "source": [
    "<div style=\"border:solid blue 1px; padding: 20px\"> \n",
    "Разделим модель на обучающую и валидационную выборку"
   ]
  },
  {
   "cell_type": "code",
   "execution_count": 17,
   "metadata": {},
   "outputs": [],
   "source": [
    "X_train, X_test, y_train, y_test = train_test_split(X, y, test_size=0.2, random_state=0)"
   ]
  },
  {
   "cell_type": "markdown",
   "metadata": {},
   "source": [
    "<div style=\"border:solid blue 1px; padding: 20px\"> \n",
    "Как было видно на графиках столбчатых гистограмм и распределения признаков данные не стандартизированы. Поэтому сначала стандартизируем их."
   ]
  },
  {
   "cell_type": "code",
   "execution_count": 18,
   "metadata": {},
   "outputs": [],
   "source": [
    "scaler = StandardScaler()\n",
    "scaler.fit(X_train)\n",
    "X_train_st = scaler.transform(X_train)\n",
    "X_test_st = scaler.transform(X_test)"
   ]
  },
  {
   "cell_type": "markdown",
   "metadata": {},
   "source": [
    "<div style=\"border:solid blue 1px; padding: 20px\"> \n",
    "Обучим модель на train-выборке логистической регрессией"
   ]
  },
  {
   "cell_type": "code",
   "execution_count": 19,
   "metadata": {},
   "outputs": [],
   "source": [
    "lr_model = LogisticRegression(solver='liblinear')"
   ]
  },
  {
   "cell_type": "code",
   "execution_count": 20,
   "metadata": {},
   "outputs": [
    {
     "data": {
      "text/plain": [
       "LogisticRegression(solver='liblinear')"
      ]
     },
     "execution_count": 20,
     "metadata": {},
     "output_type": "execute_result"
    }
   ],
   "source": [
    "lr_model.fit(X_train_st, y_train)"
   ]
  },
  {
   "cell_type": "code",
   "execution_count": 21,
   "metadata": {},
   "outputs": [],
   "source": [
    "lr_predictions = lr_model.predict(X_test_st)\n",
    "lr_probabilities = lr_model.predict_proba(X_test_st)[:,1]"
   ]
  },
  {
   "cell_type": "code",
   "execution_count": 22,
   "metadata": {},
   "outputs": [
    {
     "name": "stdout",
     "output_type": "stream",
     "text": [
      "Метрики для модели логической регрессии\n",
      "Accuracy: 0.92\n",
      "Precision: 0.85\n",
      "Recall: 0.83\n"
     ]
    }
   ],
   "source": [
    "print('Метрики для модели логической регрессии')\n",
    "print('Accuracy: {:.2f}'.format(accuracy_score(y_test, lr_predictions)))\n",
    "print('Precision: {:.2f}'.format(precision_score(y_test, lr_predictions)))\n",
    "print('Recall: {:.2f}'.format(recall_score(y_test, lr_predictions)))"
   ]
  },
  {
   "cell_type": "code",
   "execution_count": 24,
   "metadata": {},
   "outputs": [
    {
     "data": {
      "text/plain": [
       "Index(['gender', 'near_location', 'partner', 'promo_friends', 'phone',\n",
       "       'contract_period', 'group_visits', 'age',\n",
       "       'avg_additional_charges_total', 'month_to_end_contract', 'lifetime',\n",
       "       'avg_class_frequency_total', 'avg_class_frequency_current_month'],\n",
       "      dtype='object')"
      ]
     },
     "execution_count": 24,
     "metadata": {},
     "output_type": "execute_result"
    }
   ],
   "source": [
    "X_train.columns"
   ]
  },
  {
   "cell_type": "code",
   "execution_count": 25,
   "metadata": {},
   "outputs": [
    {
     "data": {
      "text/plain": [
       "array([[-0.01305072, -0.07530101, -0.08284545, -0.26818022,  0.00521962,\n",
       "        -0.70374129, -0.38577798, -1.07435913, -0.54101953, -0.52008862,\n",
       "        -3.72005718,  3.29050594, -4.42649218]])"
      ]
     },
     "execution_count": 25,
     "metadata": {},
     "output_type": "execute_result"
    }
   ],
   "source": [
    "lr_model.coef_"
   ]
  },
  {
   "cell_type": "markdown",
   "metadata": {},
   "source": [
    "<div style=\"border:solid blue 1px; padding: 20px\"> \n",
    "Самый большой вес у коэффициента  \"средняя частота посещений в неделю за предыдущий месяц\""
   ]
  },
  {
   "cell_type": "markdown",
   "metadata": {},
   "source": [
    "<div style=\"border:solid blue 1px; padding: 20px\"> \n",
    "Теперь обучим модель на train-выборке случайным лесом"
   ]
  },
  {
   "cell_type": "code",
   "execution_count": 26,
   "metadata": {},
   "outputs": [],
   "source": [
    "rf_model = RandomForestClassifier(n_estimators = 100, random_state = 0)"
   ]
  },
  {
   "cell_type": "code",
   "execution_count": 27,
   "metadata": {},
   "outputs": [
    {
     "data": {
      "text/plain": [
       "RandomForestClassifier(random_state=0)"
      ]
     },
     "execution_count": 27,
     "metadata": {},
     "output_type": "execute_result"
    }
   ],
   "source": [
    "rf_model.fit(X_train_st, y_train)"
   ]
  },
  {
   "cell_type": "code",
   "execution_count": 28,
   "metadata": {},
   "outputs": [],
   "source": [
    "rf_predictions = rf_model.predict(X_test_st)\n",
    "rf_probabilities = rf_model.predict_proba(X_test_st)[:,1]"
   ]
  },
  {
   "cell_type": "code",
   "execution_count": 29,
   "metadata": {},
   "outputs": [
    {
     "name": "stdout",
     "output_type": "stream",
     "text": [
      "Метрики для модели случайного леса\n",
      "Accuracy: 0.92\n",
      "Precision: 0.84\n",
      "Recall: 0.81\n"
     ]
    }
   ],
   "source": [
    "print('Метрики для модели случайного леса')\n",
    "print('Accuracy: {:.2f}'.format(accuracy_score(y_test, rf_predictions)))\n",
    "print('Precision: {:.2f}'.format(precision_score(y_test, rf_predictions)))\n",
    "print('Recall: {:.2f}'.format(recall_score(y_test, rf_predictions)))"
   ]
  },
  {
   "cell_type": "code",
   "execution_count": 30,
   "metadata": {},
   "outputs": [
    {
     "data": {
      "text/html": [
       "<div>\n",
       "<style scoped>\n",
       "    .dataframe tbody tr th:only-of-type {\n",
       "        vertical-align: middle;\n",
       "    }\n",
       "\n",
       "    .dataframe tbody tr th {\n",
       "        vertical-align: top;\n",
       "    }\n",
       "\n",
       "    .dataframe thead th {\n",
       "        text-align: right;\n",
       "    }\n",
       "</style>\n",
       "<table border=\"1\" class=\"dataframe\">\n",
       "  <thead>\n",
       "    <tr style=\"text-align: right;\">\n",
       "      <th></th>\n",
       "      <th>feature</th>\n",
       "      <th>importance</th>\n",
       "    </tr>\n",
       "  </thead>\n",
       "  <tbody>\n",
       "    <tr>\n",
       "      <th>10</th>\n",
       "      <td>lifetime</td>\n",
       "      <td>0.276499</td>\n",
       "    </tr>\n",
       "    <tr>\n",
       "      <th>12</th>\n",
       "      <td>avg_class_frequency_current_month</td>\n",
       "      <td>0.180170</td>\n",
       "    </tr>\n",
       "    <tr>\n",
       "      <th>11</th>\n",
       "      <td>avg_class_frequency_total</td>\n",
       "      <td>0.129883</td>\n",
       "    </tr>\n",
       "    <tr>\n",
       "      <th>7</th>\n",
       "      <td>age</td>\n",
       "      <td>0.119129</td>\n",
       "    </tr>\n",
       "    <tr>\n",
       "      <th>8</th>\n",
       "      <td>avg_additional_charges_total</td>\n",
       "      <td>0.091473</td>\n",
       "    </tr>\n",
       "    <tr>\n",
       "      <th>9</th>\n",
       "      <td>month_to_end_contract</td>\n",
       "      <td>0.068855</td>\n",
       "    </tr>\n",
       "    <tr>\n",
       "      <th>5</th>\n",
       "      <td>contract_period</td>\n",
       "      <td>0.065964</td>\n",
       "    </tr>\n",
       "    <tr>\n",
       "      <th>6</th>\n",
       "      <td>group_visits</td>\n",
       "      <td>0.015652</td>\n",
       "    </tr>\n",
       "    <tr>\n",
       "      <th>0</th>\n",
       "      <td>gender</td>\n",
       "      <td>0.012425</td>\n",
       "    </tr>\n",
       "    <tr>\n",
       "      <th>2</th>\n",
       "      <td>partner</td>\n",
       "      <td>0.012285</td>\n",
       "    </tr>\n",
       "    <tr>\n",
       "      <th>3</th>\n",
       "      <td>promo_friends</td>\n",
       "      <td>0.012053</td>\n",
       "    </tr>\n",
       "    <tr>\n",
       "      <th>1</th>\n",
       "      <td>near_location</td>\n",
       "      <td>0.009421</td>\n",
       "    </tr>\n",
       "    <tr>\n",
       "      <th>4</th>\n",
       "      <td>phone</td>\n",
       "      <td>0.006192</td>\n",
       "    </tr>\n",
       "  </tbody>\n",
       "</table>\n",
       "</div>"
      ],
      "text/plain": [
       "                              feature  importance\n",
       "10                           lifetime    0.276499\n",
       "12  avg_class_frequency_current_month    0.180170\n",
       "11          avg_class_frequency_total    0.129883\n",
       "7                                 age    0.119129\n",
       "8        avg_additional_charges_total    0.091473\n",
       "9               month_to_end_contract    0.068855\n",
       "5                     contract_period    0.065964\n",
       "6                        group_visits    0.015652\n",
       "0                              gender    0.012425\n",
       "2                             partner    0.012285\n",
       "3                       promo_friends    0.012053\n",
       "1                       near_location    0.009421\n",
       "4                               phone    0.006192"
      ]
     },
     "execution_count": 30,
     "metadata": {},
     "output_type": "execute_result"
    }
   ],
   "source": [
    "pd.DataFrame({'feature': X_train.columns, 'importance': rf_model.feature_importances_}).sort_values(by='importance', ascending=False)"
   ]
  },
  {
   "cell_type": "markdown",
   "metadata": {},
   "source": [
    "<div style=\"border:solid blue 1px; padding: 20px\"> \n",
    "Самый большой вес у коэффициента  \"время с момента первого обращения в фитнес-центр\""
   ]
  },
  {
   "cell_type": "markdown",
   "metadata": {},
   "source": [
    "<div style=\"border:solid blue 1px; padding: 20px\"> \n",
    "По метрикам лучше себя показала модель логической регрессии. Но как мы выяснили на предыдущем шаге у нас есть 2 пары сильно коррелирующих признаков. Попробуем удалить по одному признаку из каждой пары и обучить модели заново."
   ]
  },
  {
   "cell_type": "markdown",
   "metadata": {},
   "source": [
    "<div style=\"border:solid blue 1px; padding: 20px\"> \n",
    "Чтобы избавиться от мультиколлинеарности, удалим из датафрейма \"срок до окончания текущего действующего абонемента\" и \"средняя частота посещений в неделю за предыдущий месяц\". "
   ]
  },
  {
   "cell_type": "code",
   "execution_count": 31,
   "metadata": {},
   "outputs": [],
   "source": [
    "data_2 = data.drop(['month_to_end_contract', 'avg_class_frequency_current_month'], axis = 1)"
   ]
  },
  {
   "cell_type": "code",
   "execution_count": 32,
   "metadata": {},
   "outputs": [
    {
     "name": "stdout",
     "output_type": "stream",
     "text": [
      "Метрики для модели логической регрессии\n",
      "Accuracy: 0.90\n",
      "Precision: 0.79\n",
      "Recall: 0.81\n",
      "Метрики для модели случайного леса\n",
      "Accuracy: 0.89\n",
      "Precision: 0.79\n",
      "Recall: 0.76\n"
     ]
    }
   ],
   "source": [
    "X_2 = data_2.drop('churn', axis=1)\n",
    "y_2 = data_2['churn']\n",
    "\n",
    "X_train_2, X_test_2, y_train_2, y_test_2 = train_test_split(X_2, y_2, test_size=0.2, random_state=0)\n",
    "\n",
    "scaler = StandardScaler()\n",
    "scaler.fit(X_train_2)\n",
    "X_train_st_2 = scaler.transform(X_train_2)\n",
    "X_test_st_2 = scaler.transform(X_test_2)\n",
    "\n",
    "lr_model_2 = LogisticRegression(solver='liblinear')\n",
    "lr_model_2.fit(X_train_st_2, y_train_2)\n",
    "lr_predictions_2 = lr_model_2.predict(X_test_st_2)\n",
    "lr_probabilities_2 = lr_model_2.predict_proba(X_test_st_2)[:,1]\n",
    "print('Метрики для модели логической регрессии')\n",
    "print('Accuracy: {:.2f}'.format(accuracy_score(y_test_2, lr_predictions_2)))\n",
    "print('Precision: {:.2f}'.format(precision_score(y_test_2, lr_predictions_2)))\n",
    "print('Recall: {:.2f}'.format(recall_score(y_test_2, lr_predictions_2)))\n",
    "\n",
    "rf_model_2 = RandomForestClassifier(n_estimators = 100, random_state = 0)\n",
    "rf_model_2.fit(X_train_st_2, y_train_2)\n",
    "rf_predictions_2 = rf_model_2.predict(X_test_st_2)\n",
    "rf_probabilities_2 = rf_model_2.predict_proba(X_test_st_2)[:,1]\n",
    "print('Метрики для модели случайного леса')\n",
    "print('Accuracy: {:.2f}'.format(accuracy_score(y_test_2, rf_predictions_2)))\n",
    "print('Precision: {:.2f}'.format(precision_score(y_test_2, rf_predictions_2)))\n",
    "print('Recall: {:.2f}'.format(recall_score(y_test_2, rf_predictions_2)))"
   ]
  },
  {
   "cell_type": "code",
   "execution_count": 33,
   "metadata": {},
   "outputs": [
    {
     "data": {
      "text/plain": [
       "Index(['gender', 'near_location', 'partner', 'promo_friends', 'phone',\n",
       "       'contract_period', 'group_visits', 'age',\n",
       "       'avg_additional_charges_total', 'lifetime',\n",
       "       'avg_class_frequency_total'],\n",
       "      dtype='object')"
      ]
     },
     "metadata": {},
     "output_type": "display_data"
    },
    {
     "data": {
      "text/plain": [
       "array([[ 0.04880859, -0.08713747, -0.0531401 , -0.21410759, -0.11685712,\n",
       "        -1.29532112, -0.35411787, -1.08031634, -0.55904449, -3.78566134,\n",
       "        -0.71948585]])"
      ]
     },
     "metadata": {},
     "output_type": "display_data"
    }
   ],
   "source": [
    "display(X_train_2.columns)\n",
    "display(lr_model_2.coef_)"
   ]
  },
  {
   "cell_type": "code",
   "execution_count": 34,
   "metadata": {},
   "outputs": [
    {
     "data": {
      "text/html": [
       "<div>\n",
       "<style scoped>\n",
       "    .dataframe tbody tr th:only-of-type {\n",
       "        vertical-align: middle;\n",
       "    }\n",
       "\n",
       "    .dataframe tbody tr th {\n",
       "        vertical-align: top;\n",
       "    }\n",
       "\n",
       "    .dataframe thead th {\n",
       "        text-align: right;\n",
       "    }\n",
       "</style>\n",
       "<table border=\"1\" class=\"dataframe\">\n",
       "  <thead>\n",
       "    <tr style=\"text-align: right;\">\n",
       "      <th></th>\n",
       "      <th>feature</th>\n",
       "      <th>importance</th>\n",
       "    </tr>\n",
       "  </thead>\n",
       "  <tbody>\n",
       "    <tr>\n",
       "      <th>9</th>\n",
       "      <td>lifetime</td>\n",
       "      <td>0.336627</td>\n",
       "    </tr>\n",
       "    <tr>\n",
       "      <th>10</th>\n",
       "      <td>avg_class_frequency_total</td>\n",
       "      <td>0.167682</td>\n",
       "    </tr>\n",
       "    <tr>\n",
       "      <th>7</th>\n",
       "      <td>age</td>\n",
       "      <td>0.145872</td>\n",
       "    </tr>\n",
       "    <tr>\n",
       "      <th>8</th>\n",
       "      <td>avg_additional_charges_total</td>\n",
       "      <td>0.137607</td>\n",
       "    </tr>\n",
       "    <tr>\n",
       "      <th>5</th>\n",
       "      <td>contract_period</td>\n",
       "      <td>0.113528</td>\n",
       "    </tr>\n",
       "    <tr>\n",
       "      <th>6</th>\n",
       "      <td>group_visits</td>\n",
       "      <td>0.022918</td>\n",
       "    </tr>\n",
       "    <tr>\n",
       "      <th>3</th>\n",
       "      <td>promo_friends</td>\n",
       "      <td>0.017572</td>\n",
       "    </tr>\n",
       "    <tr>\n",
       "      <th>2</th>\n",
       "      <td>partner</td>\n",
       "      <td>0.017395</td>\n",
       "    </tr>\n",
       "    <tr>\n",
       "      <th>0</th>\n",
       "      <td>gender</td>\n",
       "      <td>0.017353</td>\n",
       "    </tr>\n",
       "    <tr>\n",
       "      <th>1</th>\n",
       "      <td>near_location</td>\n",
       "      <td>0.013489</td>\n",
       "    </tr>\n",
       "    <tr>\n",
       "      <th>4</th>\n",
       "      <td>phone</td>\n",
       "      <td>0.009955</td>\n",
       "    </tr>\n",
       "  </tbody>\n",
       "</table>\n",
       "</div>"
      ],
      "text/plain": [
       "                         feature  importance\n",
       "9                       lifetime    0.336627\n",
       "10     avg_class_frequency_total    0.167682\n",
       "7                            age    0.145872\n",
       "8   avg_additional_charges_total    0.137607\n",
       "5                contract_period    0.113528\n",
       "6                   group_visits    0.022918\n",
       "3                  promo_friends    0.017572\n",
       "2                        partner    0.017395\n",
       "0                         gender    0.017353\n",
       "1                  near_location    0.013489\n",
       "4                          phone    0.009955"
      ]
     },
     "execution_count": 34,
     "metadata": {},
     "output_type": "execute_result"
    }
   ],
   "source": [
    "pd.DataFrame({'feature': X_train_2.columns, 'importance': rf_model_2.feature_importances_}).sort_values(by='importance', ascending=False)"
   ]
  },
  {
   "cell_type": "markdown",
   "metadata": {},
   "source": [
    "<div style=\"border:solid blue 1px; padding: 20px\"> \n",
    "Самый большой вес по обоим методам у коэффициента  \"время с момента первого обращения в фитнес-центр\""
   ]
  },
  {
   "cell_type": "markdown",
   "metadata": {},
   "source": [
    "<div style=\"border:solid blue 1px; padding: 20px\"> \n",
    "Качество модели упало, значит удаленный признак нужно вернуть"
   ]
  },
  {
   "cell_type": "markdown",
   "metadata": {},
   "source": [
    "<div style=\"border:solid blue 1px; padding: 20px\"> \n",
    "Попробуем также удалить признаки с нулевой корреляцией с основным признаком, а именно \"пол\" и \"наличие контактного телефона\" и обучить модели заново"
   ]
  },
  {
   "cell_type": "code",
   "execution_count": 35,
   "metadata": {},
   "outputs": [
    {
     "name": "stdout",
     "output_type": "stream",
     "text": [
      "Метрики для модели логической регрессии\n",
      "Accuracy: 0.91\n",
      "Precision: 0.80\n",
      "Recall: 0.83\n",
      "Метрики для модели случайного леса\n",
      "Accuracy: 0.91\n",
      "Precision: 0.80\n",
      "Recall: 0.83\n"
     ]
    }
   ],
   "source": [
    "data_3 = data.drop(['age', 'phone'], axis = 1)\n",
    "\n",
    "X_3 = data_3.drop('churn', axis=1)\n",
    "y_3 = data_3['churn']\n",
    "\n",
    "X_train_3, X_test_3, y_train_3, y_test_3 = train_test_split(X_3, y_3, test_size=0.2, random_state=0)\n",
    "\n",
    "scaler = StandardScaler()\n",
    "scaler.fit(X_train_3)\n",
    "X_train_st_3 = scaler.transform(X_train_3)\n",
    "X_test_st_3 = scaler.transform(X_test_3)\n",
    "\n",
    "lr_model_3 = LogisticRegression(solver='liblinear')\n",
    "lr_model_3.fit(X_train_st_3, y_train_3)\n",
    "lr_predictions_3 = lr_model_3.predict(X_test_st_3)\n",
    "lr_probabilities_3 = lr_model_3.predict_proba(X_test_st_3)[:,1]\n",
    "print('Метрики для модели логической регрессии')\n",
    "print('Accuracy: {:.2f}'.format(accuracy_score(y_test_3, lr_predictions_3)))\n",
    "print('Precision: {:.2f}'.format(precision_score(y_test_3, lr_predictions_3)))\n",
    "print('Recall: {:.2f}'.format(recall_score(y_test_3, lr_predictions_3)))\n",
    "\n",
    "rf_model_3 = RandomForestClassifier(n_estimators = 100, random_state = 0)\n",
    "rf_model_3.fit(X_train_st_3, y_train_3)\n",
    "rf_predictions_3 = rf_model_3.predict(X_test_st_3)\n",
    "rf_probabilities_3 = rf_model_3.predict_proba(X_test_st_3)[:,1]\n",
    "print('Метрики для модели случайного леса')\n",
    "print('Accuracy: {:.2f}'.format(accuracy_score(y_test_3, rf_predictions_3)))\n",
    "print('Precision: {:.2f}'.format(precision_score(y_test_3, rf_predictions_3)))\n",
    "print('Recall: {:.2f}'.format(recall_score(y_test_3, rf_predictions_3)))"
   ]
  },
  {
   "cell_type": "code",
   "execution_count": 36,
   "metadata": {},
   "outputs": [
    {
     "data": {
      "text/plain": [
       "Index(['gender', 'near_location', 'partner', 'promo_friends',\n",
       "       'contract_period', 'group_visits', 'avg_additional_charges_total',\n",
       "       'month_to_end_contract', 'lifetime', 'avg_class_frequency_total',\n",
       "       'avg_class_frequency_current_month'],\n",
       "      dtype='object')"
      ]
     },
     "metadata": {},
     "output_type": "display_data"
    },
    {
     "data": {
      "text/plain": [
       "array([[-0.00550577, -0.06098794, -0.0703693 , -0.22763012, -0.85811264,\n",
       "        -0.38743426, -0.52278601, -0.30186557, -3.75207365,  3.3379607 ,\n",
       "        -4.465988  ]])"
      ]
     },
     "metadata": {},
     "output_type": "display_data"
    }
   ],
   "source": [
    "display(X_train_3.columns)\n",
    "display(lr_model_3.coef_)"
   ]
  },
  {
   "cell_type": "code",
   "execution_count": 37,
   "metadata": {},
   "outputs": [
    {
     "data": {
      "text/html": [
       "<div>\n",
       "<style scoped>\n",
       "    .dataframe tbody tr th:only-of-type {\n",
       "        vertical-align: middle;\n",
       "    }\n",
       "\n",
       "    .dataframe tbody tr th {\n",
       "        vertical-align: top;\n",
       "    }\n",
       "\n",
       "    .dataframe thead th {\n",
       "        text-align: right;\n",
       "    }\n",
       "</style>\n",
       "<table border=\"1\" class=\"dataframe\">\n",
       "  <thead>\n",
       "    <tr style=\"text-align: right;\">\n",
       "      <th></th>\n",
       "      <th>feature</th>\n",
       "      <th>importance</th>\n",
       "    </tr>\n",
       "  </thead>\n",
       "  <tbody>\n",
       "    <tr>\n",
       "      <th>8</th>\n",
       "      <td>lifetime</td>\n",
       "      <td>0.295695</td>\n",
       "    </tr>\n",
       "    <tr>\n",
       "      <th>10</th>\n",
       "      <td>avg_class_frequency_current_month</td>\n",
       "      <td>0.223218</td>\n",
       "    </tr>\n",
       "    <tr>\n",
       "      <th>9</th>\n",
       "      <td>avg_class_frequency_total</td>\n",
       "      <td>0.168657</td>\n",
       "    </tr>\n",
       "    <tr>\n",
       "      <th>6</th>\n",
       "      <td>avg_additional_charges_total</td>\n",
       "      <td>0.110367</td>\n",
       "    </tr>\n",
       "    <tr>\n",
       "      <th>4</th>\n",
       "      <td>contract_period</td>\n",
       "      <td>0.070542</td>\n",
       "    </tr>\n",
       "    <tr>\n",
       "      <th>7</th>\n",
       "      <td>month_to_end_contract</td>\n",
       "      <td>0.068443</td>\n",
       "    </tr>\n",
       "    <tr>\n",
       "      <th>5</th>\n",
       "      <td>group_visits</td>\n",
       "      <td>0.015302</td>\n",
       "    </tr>\n",
       "    <tr>\n",
       "      <th>2</th>\n",
       "      <td>partner</td>\n",
       "      <td>0.012505</td>\n",
       "    </tr>\n",
       "    <tr>\n",
       "      <th>3</th>\n",
       "      <td>promo_friends</td>\n",
       "      <td>0.012300</td>\n",
       "    </tr>\n",
       "    <tr>\n",
       "      <th>0</th>\n",
       "      <td>gender</td>\n",
       "      <td>0.012128</td>\n",
       "    </tr>\n",
       "    <tr>\n",
       "      <th>1</th>\n",
       "      <td>near_location</td>\n",
       "      <td>0.010843</td>\n",
       "    </tr>\n",
       "  </tbody>\n",
       "</table>\n",
       "</div>"
      ],
      "text/plain": [
       "                              feature  importance\n",
       "8                            lifetime    0.295695\n",
       "10  avg_class_frequency_current_month    0.223218\n",
       "9           avg_class_frequency_total    0.168657\n",
       "6        avg_additional_charges_total    0.110367\n",
       "4                     contract_period    0.070542\n",
       "7               month_to_end_contract    0.068443\n",
       "5                        group_visits    0.015302\n",
       "2                             partner    0.012505\n",
       "3                       promo_friends    0.012300\n",
       "0                              gender    0.012128\n",
       "1                       near_location    0.010843"
      ]
     },
     "execution_count": 37,
     "metadata": {},
     "output_type": "execute_result"
    }
   ],
   "source": [
    "pd.DataFrame({'feature': X_train_3.columns, 'importance': rf_model_3.feature_importances_}).sort_values(by='importance', ascending=False)"
   ]
  },
  {
   "cell_type": "markdown",
   "metadata": {},
   "source": [
    "<div style=\"border:solid blue 1px; padding: 20px\"> \n",
    "Самый большой вес по методу случайного леса у коэффициента \"время с момента первого обращения в фитнес-центр\", а по методу логической регрессии - \"средняя частота посещений в неделю за предыдущий месяц\""
   ]
  },
  {
   "cell_type": "markdown",
   "metadata": {},
   "source": [
    "<div style=\"border:solid blue 1px; padding: 20px\"> \n",
    "Качество модели упало, значит удаленные признаки нужно также вернуть"
   ]
  },
  {
   "cell_type": "markdown",
   "metadata": {},
   "source": [
    "### Вывод"
   ]
  },
  {
   "cell_type": "markdown",
   "metadata": {},
   "source": [
    "Эффективнее оказалась модель прогнозирования оттока клиентов, построенная методом логической регрессии. По ней accuracy составила 0,92, precision - 0,85, recall - 0,83 (в отличие от метода случайного леса: 0,92; 0,84 и 0,81 соответственно).\n",
    "\n",
    "Для сравнения модель была обучена после удаления сильно коррелирующих признаков, таких как \"срок до окончания текущего действующего абонемента\" (из пары  \"длительность текущего действующего абонемента\" и \"срок до окончания текущего действующего абонемента\") и \"средняя частота посещений в неделю за предыдущий месяц\" (из пары  \"средняя частота посещений в неделю за предыдущий месяц\" и \"средняя частота посещений в неделю за все время с начала действия абонемента\"); а также после удаления признаков с нулевой корреляцией - \"пол\" и \"наличие контактного телефона\". Но это ухудшило качество модели, поэтому остановимся на первом варианте построения, использующего все признаки."
   ]
  },
  {
   "cell_type": "markdown",
   "metadata": {},
   "source": [
    "## Кластеризация клиентов"
   ]
  },
  {
   "cell_type": "markdown",
   "metadata": {},
   "source": [
    "<div style=\"border:solid blue 1px; padding: 20px\"> \n",
    "Построим матрицу расстояний на стандартизованной матрице признаков и нарисуем дендрограмму"
   ]
  },
  {
   "cell_type": "code",
   "execution_count": 38,
   "metadata": {},
   "outputs": [
    {
     "data": {
      "image/png": "[encoded data removed]",
      "text/plain": [
       "<Figure size 1080x720 with 1 Axes>"
      ]
     },
     "metadata": {
      "needs_background": "light"
     },
     "output_type": "display_data"
    }
   ],
   "source": [
    "X_sc = scaler.fit_transform(X)\n",
    "\n",
    "linked = linkage(X_sc, method = 'ward')\n",
    "\n",
    "plt.figure(figsize=(15, 10))  \n",
    "dendrogram(linked, orientation='top')\n",
    "plt.title('Иерархическая кластеризация')\n",
    "plt.show() "
   ]
  },
  {
   "cell_type": "markdown",
   "metadata": {},
   "source": [
    "<div style=\"border:solid blue 1px; padding: 20px\"> \n",
    "Предложенное оптимальное число кластеров 5 — пять разных цветов на графике."
   ]
  },
  {
   "cell_type": "markdown",
   "metadata": {},
   "source": [
    "<div style=\"border:solid blue 1px; padding: 20px\"> \n",
    "Обучим модель кластеризации на основании алгоритма K-Means и спрогнозируем кластеры клиентов. Число кластеров примем равным 5."
   ]
  },
  {
   "cell_type": "code",
   "execution_count": 39,
   "metadata": {},
   "outputs": [],
   "source": [
    "km = KMeans(n_clusters=5, random_state=0)\n",
    "labels = km.fit_predict(X_sc) "
   ]
  },
  {
   "cell_type": "markdown",
   "metadata": {},
   "source": [
    "<div style=\"border:solid blue 1px; padding: 20px\"> \n",
    "Сохраняем метки кластера в поле нашего датасета"
   ]
  },
  {
   "cell_type": "code",
   "execution_count": 40,
   "metadata": {},
   "outputs": [],
   "source": [
    "data['cluster'] = labels"
   ]
  },
  {
   "cell_type": "markdown",
   "metadata": {},
   "source": [
    "<div style=\"border:solid blue 1px; padding: 20px\"> \n",
    "Выведем статистику по средним значениям наших признаков по кластеру"
   ]
  },
  {
   "cell_type": "code",
   "execution_count": 41,
   "metadata": {},
   "outputs": [
    {
     "data": {
      "text/plain": [
       "cluster\n",
       "0    1010\n",
       "1     385\n",
       "2     505\n",
       "3    1262\n",
       "4     838\n",
       "Name: age, dtype: int64"
      ]
     },
     "execution_count": 41,
     "metadata": {},
     "output_type": "execute_result"
    }
   ],
   "source": [
    "data.groupby('cluster')['age'].count()"
   ]
  },
  {
   "cell_type": "code",
   "execution_count": 42,
   "metadata": {},
   "outputs": [
    {
     "data": {
      "text/html": [
       "<div>\n",
       "<style scoped>\n",
       "    .dataframe tbody tr th:only-of-type {\n",
       "        vertical-align: middle;\n",
       "    }\n",
       "\n",
       "    .dataframe tbody tr th {\n",
       "        vertical-align: top;\n",
       "    }\n",
       "\n",
       "    .dataframe thead th {\n",
       "        text-align: right;\n",
       "    }\n",
       "</style>\n",
       "<table border=\"1\" class=\"dataframe\">\n",
       "  <thead>\n",
       "    <tr style=\"text-align: right;\">\n",
       "      <th></th>\n",
       "      <th>gender</th>\n",
       "      <th>near_location</th>\n",
       "      <th>partner</th>\n",
       "      <th>promo_friends</th>\n",
       "      <th>phone</th>\n",
       "      <th>contract_period</th>\n",
       "      <th>group_visits</th>\n",
       "      <th>age</th>\n",
       "      <th>avg_additional_charges_total</th>\n",
       "      <th>month_to_end_contract</th>\n",
       "      <th>lifetime</th>\n",
       "      <th>avg_class_frequency_total</th>\n",
       "      <th>avg_class_frequency_current_month</th>\n",
       "      <th>churn</th>\n",
       "    </tr>\n",
       "    <tr>\n",
       "      <th>cluster</th>\n",
       "      <th></th>\n",
       "      <th></th>\n",
       "      <th></th>\n",
       "      <th></th>\n",
       "      <th></th>\n",
       "      <th></th>\n",
       "      <th></th>\n",
       "      <th></th>\n",
       "      <th></th>\n",
       "      <th></th>\n",
       "      <th></th>\n",
       "      <th></th>\n",
       "      <th></th>\n",
       "      <th></th>\n",
       "    </tr>\n",
       "  </thead>\n",
       "  <tbody>\n",
       "    <tr>\n",
       "      <th>0</th>\n",
       "      <td>0.502970</td>\n",
       "      <td>0.959406</td>\n",
       "      <td>0.783168</td>\n",
       "      <td>0.574257</td>\n",
       "      <td>1.000000</td>\n",
       "      <td>10.889109</td>\n",
       "      <td>0.542574</td>\n",
       "      <td>29.982178</td>\n",
       "      <td>160.761016</td>\n",
       "      <td>9.954455</td>\n",
       "      <td>4.736634</td>\n",
       "      <td>1.982055</td>\n",
       "      <td>1.974789</td>\n",
       "      <td>0.027723</td>\n",
       "    </tr>\n",
       "    <tr>\n",
       "      <th>1</th>\n",
       "      <td>0.522078</td>\n",
       "      <td>0.862338</td>\n",
       "      <td>0.470130</td>\n",
       "      <td>0.306494</td>\n",
       "      <td>0.000000</td>\n",
       "      <td>4.787013</td>\n",
       "      <td>0.425974</td>\n",
       "      <td>29.301299</td>\n",
       "      <td>143.957664</td>\n",
       "      <td>4.475325</td>\n",
       "      <td>3.924675</td>\n",
       "      <td>1.847220</td>\n",
       "      <td>1.716369</td>\n",
       "      <td>0.267532</td>\n",
       "    </tr>\n",
       "    <tr>\n",
       "      <th>2</th>\n",
       "      <td>0.495050</td>\n",
       "      <td>0.000000</td>\n",
       "      <td>0.463366</td>\n",
       "      <td>0.079208</td>\n",
       "      <td>1.000000</td>\n",
       "      <td>2.352475</td>\n",
       "      <td>0.215842</td>\n",
       "      <td>28.477228</td>\n",
       "      <td>135.457501</td>\n",
       "      <td>2.198020</td>\n",
       "      <td>2.809901</td>\n",
       "      <td>1.660461</td>\n",
       "      <td>1.477324</td>\n",
       "      <td>0.443564</td>\n",
       "    </tr>\n",
       "    <tr>\n",
       "      <th>3</th>\n",
       "      <td>0.485737</td>\n",
       "      <td>1.000000</td>\n",
       "      <td>0.350238</td>\n",
       "      <td>0.240095</td>\n",
       "      <td>1.000000</td>\n",
       "      <td>1.948494</td>\n",
       "      <td>0.341521</td>\n",
       "      <td>28.167987</td>\n",
       "      <td>131.622204</td>\n",
       "      <td>1.856577</td>\n",
       "      <td>2.440571</td>\n",
       "      <td>1.247634</td>\n",
       "      <td>1.012983</td>\n",
       "      <td>0.514263</td>\n",
       "    </tr>\n",
       "    <tr>\n",
       "      <th>4</th>\n",
       "      <td>0.559666</td>\n",
       "      <td>0.976134</td>\n",
       "      <td>0.356802</td>\n",
       "      <td>0.230310</td>\n",
       "      <td>0.998807</td>\n",
       "      <td>2.669451</td>\n",
       "      <td>0.473747</td>\n",
       "      <td>30.125298</td>\n",
       "      <td>161.657905</td>\n",
       "      <td>2.459427</td>\n",
       "      <td>4.898568</td>\n",
       "      <td>2.852002</td>\n",
       "      <td>2.850161</td>\n",
       "      <td>0.068019</td>\n",
       "    </tr>\n",
       "  </tbody>\n",
       "</table>\n",
       "</div>"
      ],
      "text/plain": [
       "           gender  near_location   partner  promo_friends     phone  \\\n",
       "cluster                                                               \n",
       "0        0.502970       0.959406  0.783168       0.574257  1.000000   \n",
       "1        0.522078       0.862338  0.470130       0.306494  0.000000   \n",
       "2        0.495050       0.000000  0.463366       0.079208  1.000000   \n",
       "3        0.485737       1.000000  0.350238       0.240095  1.000000   \n",
       "4        0.559666       0.976134  0.356802       0.230310  0.998807   \n",
       "\n",
       "         contract_period  group_visits        age  \\\n",
       "cluster                                             \n",
       "0              10.889109      0.542574  29.982178   \n",
       "1               4.787013      0.425974  29.301299   \n",
       "2               2.352475      0.215842  28.477228   \n",
       "3               1.948494      0.341521  28.167987   \n",
       "4               2.669451      0.473747  30.125298   \n",
       "\n",
       "         avg_additional_charges_total  month_to_end_contract  lifetime  \\\n",
       "cluster                                                                  \n",
       "0                          160.761016               9.954455  4.736634   \n",
       "1                          143.957664               4.475325  3.924675   \n",
       "2                          135.457501               2.198020  2.809901   \n",
       "3                          131.622204               1.856577  2.440571   \n",
       "4                          161.657905               2.459427  4.898568   \n",
       "\n",
       "         avg_class_frequency_total  avg_class_frequency_current_month  \\\n",
       "cluster                                                                 \n",
       "0                         1.982055                           1.974789   \n",
       "1                         1.847220                           1.716369   \n",
       "2                         1.660461                           1.477324   \n",
       "3                         1.247634                           1.012983   \n",
       "4                         2.852002                           2.850161   \n",
       "\n",
       "            churn  \n",
       "cluster            \n",
       "0        0.027723  \n",
       "1        0.267532  \n",
       "2        0.443564  \n",
       "3        0.514263  \n",
       "4        0.068019  "
      ]
     },
     "execution_count": 42,
     "metadata": {},
     "output_type": "execute_result"
    }
   ],
   "source": [
    "data.groupby('cluster').mean()"
   ]
  },
  {
   "cell_type": "markdown",
   "metadata": {},
   "source": [
    "<div style=\"border:solid blue 1px; padding: 20px\"> \n",
    "Можно отметить, что в 1 кластере большая часть клиентов заключила годовой контракт, также высока доля клиентов, записавшихся в рамках акции «приведи друга» и являющихся сотрудниками компании-партнёра клуба.\n",
    "\n",
    "В 2 кластере ни один пользователь не предоставил свой контактный телефон, 26% из них покинули клуб в текущем месяце.\n",
    "\n",
    "В 3 кластере все пользователи живут/работают далеко от клуба, 44% из них покинули клуб в текущем месяце.\n",
    "    \n",
    "В 4 кластере все пользователи живут/работают рядом с клубом, 51% клиентов покинули клуб в текущем месяце.\n",
    "\n",
    "В 5 кластере собраны самые активные пользователи клуба (в среднем ~3 посещения в неделю).\n",
    "\n",
    "Таким образом самые надежные кластеры - 1 и 5, в них самая маленькая доля оттока."
   ]
  },
  {
   "cell_type": "markdown",
   "metadata": {},
   "source": [
    "### Вывод"
   ]
  },
  {
   "cell_type": "markdown",
   "metadata": {},
   "source": [
    "Всего представлено 5 кластеров, из них 1 и 5 самые надежные: в них наименьшая доля оттока (всего ~3% и ~7%).\n",
    "Особое внимание стоит уделить 4 кластеру. Это самый многочисленный кластер и среди его представителей 51% покинули фитнес-клуб в текущем месяце."
   ]
  },
  {
   "cell_type": "markdown",
   "metadata": {},
   "source": [
    "## Выводы"
   ]
  },
  {
   "cell_type": "markdown",
   "metadata": {},
   "source": [
    "Таким образом на основании проведенного анализа можно предложить следующие рекомендации:\n",
    "1) Золотые клиенты - представители первого кластера. Это второй по численности кластер. Большая часть его клиентов заключает долгосрочный контракт, активно посещает клуб (~ 2 раза в неделю), также по ним велика суммарная выручка от других услуг фитнес-центра. Таких клиентов стоит выделить и предложить дополнительные привилегии (программа лояльности). Такая мера мотивирует их на дальнейшее продолжение контракта, а также \"подстягнет\" остальных членов клуба к попаданию в \"высшую лигу\".\n",
    "\n",
    "2) Представители пятого кластера. Третий по численности кластер, по характеристикам похож на первый. Его представители еще активнее посещают клуб (~ 3 раза в неделю), по ним самая высокая выручка от других услуг фитнес-центра, но здесь меньше продолжительность контрактов (в среднем ~3 месяца против ~11 месяцев). Введя предложенную выше меру мы сможем перевести клиентов из пятого кластера в первый. Долгосрочные контракты куда более выгодны.\n",
    "\n",
    "3) Представители 4 кластера. Это самый многочисленный кластер и в нем самая высокая доля оттока. С такими клиентами нужно быть \"на связи\" (писать письма/рассылки со спец. предложениями). Среди данных клиентов самая низкая выручка от других услуг фитнес-центра. Стоит рассмотреть вопрос предложения бесплатных пробных доп. занятий/сеансов массажа/напитков в кафе, чтобы клиенты смогли \"распробовать\" товар. Также нужно получить обратную связь от тех клиентов, кто уже ушел, чтобы узнать причины и не допустить подобных ошибок в будущем."
   ]
  }
 ],
 "metadata": {
  "ExecuteTimeLog": [
   {
    "duration": 1780,
    "start_time": "2022-07-07T12:16:34.869Z"
   },
   {
    "duration": 139,
    "start_time": "2022-07-07T12:17:01.728Z"
   },
   {
    "duration": 31,
    "start_time": "2022-07-07T12:17:08.737Z"
   },
   {
    "duration": 14,
    "start_time": "2022-07-07T12:17:22.736Z"
   },
   {
    "duration": 54,
    "start_time": "2022-07-07T12:17:38.635Z"
   },
   {
    "duration": 21,
    "start_time": "2022-07-07T13:08:34.581Z"
   },
   {
    "duration": 2727,
    "start_time": "2022-07-07T13:45:33.578Z"
   },
   {
    "duration": 76,
    "start_time": "2022-07-07T13:46:55.957Z"
   },
   {
    "duration": 1491,
    "start_time": "2022-07-07T13:47:02.705Z"
   },
   {
    "duration": 2773,
    "start_time": "2022-07-07T13:47:16.374Z"
   },
   {
    "duration": 1372,
    "start_time": "2022-07-07T13:49:16.998Z"
   },
   {
    "duration": 2545,
    "start_time": "2022-07-07T13:49:31.524Z"
   },
   {
    "duration": 1257,
    "start_time": "2022-07-07T13:52:04.353Z"
   },
   {
    "duration": 1360,
    "start_time": "2022-07-07T13:52:15.716Z"
   },
   {
    "duration": 1524,
    "start_time": "2022-07-07T13:57:22.225Z"
   },
   {
    "duration": 33,
    "start_time": "2022-07-07T13:57:23.751Z"
   },
   {
    "duration": 18,
    "start_time": "2022-07-07T13:57:23.785Z"
   },
   {
    "duration": 16,
    "start_time": "2022-07-07T13:57:23.805Z"
   },
   {
    "duration": 51,
    "start_time": "2022-07-07T13:57:23.823Z"
   },
   {
    "duration": 37,
    "start_time": "2022-07-07T13:57:23.876Z"
   },
   {
    "duration": 2655,
    "start_time": "2022-07-07T13:57:23.915Z"
   },
   {
    "duration": 116,
    "start_time": "2022-07-07T14:03:09.743Z"
   },
   {
    "duration": 2919,
    "start_time": "2022-07-07T14:03:20.083Z"
   },
   {
    "duration": 1380,
    "start_time": "2022-07-07T14:07:02.815Z"
   },
   {
    "duration": 53,
    "start_time": "2022-07-08T06:04:48.744Z"
   },
   {
    "duration": 1640,
    "start_time": "2022-07-08T06:04:54.085Z"
   },
   {
    "duration": 147,
    "start_time": "2022-07-08T06:04:55.727Z"
   },
   {
    "duration": 17,
    "start_time": "2022-07-08T06:04:55.876Z"
   },
   {
    "duration": 14,
    "start_time": "2022-07-08T06:04:55.895Z"
   },
   {
    "duration": 47,
    "start_time": "2022-07-08T06:04:55.911Z"
   },
   {
    "duration": 3,
    "start_time": "2022-07-08T06:04:55.960Z"
   },
   {
    "duration": 137,
    "start_time": "2022-07-08T06:04:55.965Z"
   },
   {
    "duration": 0,
    "start_time": "2022-07-08T06:04:56.103Z"
   },
   {
    "duration": 19,
    "start_time": "2022-07-08T06:05:00.665Z"
   },
   {
    "duration": 2661,
    "start_time": "2022-07-08T06:05:07.673Z"
   },
   {
    "duration": 2544,
    "start_time": "2022-07-08T06:11:35.140Z"
   },
   {
    "duration": 4939,
    "start_time": "2022-07-08T06:11:51.010Z"
   },
   {
    "duration": 2889,
    "start_time": "2022-07-08T06:12:21.423Z"
   },
   {
    "duration": 3518,
    "start_time": "2022-07-08T06:14:49.235Z"
   },
   {
    "duration": 3240,
    "start_time": "2022-07-08T06:15:00.832Z"
   },
   {
    "duration": 3240,
    "start_time": "2022-07-08T06:27:35.061Z"
   },
   {
    "duration": 1569,
    "start_time": "2022-07-08T06:27:52.981Z"
   },
   {
    "duration": 34,
    "start_time": "2022-07-08T06:27:54.553Z"
   },
   {
    "duration": 17,
    "start_time": "2022-07-08T06:27:54.591Z"
   },
   {
    "duration": 13,
    "start_time": "2022-07-08T06:27:54.611Z"
   },
   {
    "duration": 51,
    "start_time": "2022-07-08T06:27:54.626Z"
   },
   {
    "duration": 5,
    "start_time": "2022-07-08T06:27:54.697Z"
   },
   {
    "duration": 19,
    "start_time": "2022-07-08T06:27:54.704Z"
   },
   {
    "duration": 3295,
    "start_time": "2022-07-08T06:27:54.725Z"
   },
   {
    "duration": 3328,
    "start_time": "2022-07-08T06:30:25.075Z"
   },
   {
    "duration": 3605,
    "start_time": "2022-07-08T06:31:25.286Z"
   },
   {
    "duration": 9,
    "start_time": "2022-07-08T06:34:00.540Z"
   },
   {
    "duration": 76,
    "start_time": "2022-07-08T06:34:46.465Z"
   },
   {
    "duration": 6,
    "start_time": "2022-07-08T07:12:41.938Z"
   },
   {
    "duration": 20,
    "start_time": "2022-07-08T07:12:46.199Z"
   },
   {
    "duration": 1556,
    "start_time": "2022-07-08T07:21:32.554Z"
   },
   {
    "duration": 1572,
    "start_time": "2022-07-08T07:22:07.289Z"
   },
   {
    "duration": 1694,
    "start_time": "2022-07-08T07:22:48.721Z"
   },
   {
    "duration": 1528,
    "start_time": "2022-07-08T07:23:50.060Z"
   },
   {
    "duration": 1563,
    "start_time": "2022-07-08T07:24:29.355Z"
   },
   {
    "duration": 1641,
    "start_time": "2022-07-08T07:24:40.503Z"
   },
   {
    "duration": 2,
    "start_time": "2022-07-08T07:37:26.041Z"
   },
   {
    "duration": 4,
    "start_time": "2022-07-08T07:52:50.444Z"
   },
   {
    "duration": 118,
    "start_time": "2022-07-08T07:52:59.117Z"
   },
   {
    "duration": 1533,
    "start_time": "2022-07-08T07:53:30.785Z"
   },
   {
    "duration": 35,
    "start_time": "2022-07-08T07:53:32.320Z"
   },
   {
    "duration": 16,
    "start_time": "2022-07-08T07:53:32.357Z"
   },
   {
    "duration": 15,
    "start_time": "2022-07-08T07:53:32.375Z"
   },
   {
    "duration": 49,
    "start_time": "2022-07-08T07:53:32.393Z"
   },
   {
    "duration": 3,
    "start_time": "2022-07-08T07:53:32.445Z"
   },
   {
    "duration": 13,
    "start_time": "2022-07-08T07:53:32.450Z"
   },
   {
    "duration": 36,
    "start_time": "2022-07-08T07:53:32.464Z"
   },
   {
    "duration": 3767,
    "start_time": "2022-07-08T07:53:32.502Z"
   },
   {
    "duration": 6,
    "start_time": "2022-07-08T07:53:36.271Z"
   },
   {
    "duration": 33,
    "start_time": "2022-07-08T07:53:36.279Z"
   },
   {
    "duration": 1764,
    "start_time": "2022-07-08T07:53:36.314Z"
   },
   {
    "duration": 3,
    "start_time": "2022-07-08T07:53:38.081Z"
   },
   {
    "duration": 18,
    "start_time": "2022-07-08T07:53:38.087Z"
   },
   {
    "duration": 10,
    "start_time": "2022-07-08T07:53:38.107Z"
   },
   {
    "duration": 7,
    "start_time": "2022-07-08T07:55:03.410Z"
   },
   {
    "duration": 127,
    "start_time": "2022-07-08T07:56:51.000Z"
   },
   {
    "duration": 33,
    "start_time": "2022-07-08T07:56:57.080Z"
   },
   {
    "duration": 13,
    "start_time": "2022-07-08T07:57:22.395Z"
   },
   {
    "duration": 13,
    "start_time": "2022-07-08T07:59:19.448Z"
   },
   {
    "duration": 1571,
    "start_time": "2022-07-08T08:00:07.686Z"
   },
   {
    "duration": 34,
    "start_time": "2022-07-08T08:00:09.259Z"
   },
   {
    "duration": 19,
    "start_time": "2022-07-08T08:00:09.295Z"
   },
   {
    "duration": 16,
    "start_time": "2022-07-08T08:00:09.317Z"
   },
   {
    "duration": 64,
    "start_time": "2022-07-08T08:00:09.335Z"
   },
   {
    "duration": 4,
    "start_time": "2022-07-08T08:00:09.401Z"
   },
   {
    "duration": 17,
    "start_time": "2022-07-08T08:00:09.406Z"
   },
   {
    "duration": 24,
    "start_time": "2022-07-08T08:00:09.425Z"
   },
   {
    "duration": 3805,
    "start_time": "2022-07-08T08:00:09.450Z"
   },
   {
    "duration": 7,
    "start_time": "2022-07-08T08:00:13.257Z"
   },
   {
    "duration": 36,
    "start_time": "2022-07-08T08:00:13.265Z"
   },
   {
    "duration": 1670,
    "start_time": "2022-07-08T08:00:13.303Z"
   },
   {
    "duration": 3,
    "start_time": "2022-07-08T08:00:14.975Z"
   },
   {
    "duration": 18,
    "start_time": "2022-07-08T08:00:14.982Z"
   },
   {
    "duration": 25,
    "start_time": "2022-07-08T08:00:15.002Z"
   },
   {
    "duration": 37,
    "start_time": "2022-07-08T08:00:15.029Z"
   },
   {
    "duration": 70,
    "start_time": "2022-07-08T08:00:15.070Z"
   },
   {
    "duration": 16,
    "start_time": "2022-07-08T08:00:15.142Z"
   },
   {
    "duration": 100,
    "start_time": "2022-07-08T08:00:15.199Z"
   },
   {
    "duration": 358,
    "start_time": "2022-07-08T08:02:32.861Z"
   },
   {
    "duration": 56,
    "start_time": "2022-07-08T08:02:58.547Z"
   },
   {
    "duration": 8,
    "start_time": "2022-07-08T08:06:40.073Z"
   },
   {
    "duration": 1468,
    "start_time": "2022-07-08T08:07:01.993Z"
   },
   {
    "duration": 35,
    "start_time": "2022-07-08T08:07:03.464Z"
   },
   {
    "duration": 17,
    "start_time": "2022-07-08T08:07:03.501Z"
   },
   {
    "duration": 30,
    "start_time": "2022-07-08T08:07:03.520Z"
   },
   {
    "duration": 57,
    "start_time": "2022-07-08T08:07:03.553Z"
   },
   {
    "duration": 4,
    "start_time": "2022-07-08T08:07:03.611Z"
   },
   {
    "duration": 22,
    "start_time": "2022-07-08T08:07:03.617Z"
   },
   {
    "duration": 17,
    "start_time": "2022-07-08T08:07:03.641Z"
   },
   {
    "duration": 3864,
    "start_time": "2022-07-08T08:07:03.659Z"
   },
   {
    "duration": 8,
    "start_time": "2022-07-08T08:07:07.524Z"
   },
   {
    "duration": 24,
    "start_time": "2022-07-08T08:07:07.534Z"
   },
   {
    "duration": 1709,
    "start_time": "2022-07-08T08:07:07.560Z"
   },
   {
    "duration": 3,
    "start_time": "2022-07-08T08:07:09.271Z"
   },
   {
    "duration": 10,
    "start_time": "2022-07-08T08:07:09.276Z"
   },
   {
    "duration": 5,
    "start_time": "2022-07-08T08:07:09.298Z"
   },
   {
    "duration": 12,
    "start_time": "2022-07-08T08:07:09.305Z"
   },
   {
    "duration": 4,
    "start_time": "2022-07-08T08:07:09.319Z"
   },
   {
    "duration": 28,
    "start_time": "2022-07-08T08:07:09.325Z"
   },
   {
    "duration": 145,
    "start_time": "2022-07-08T08:07:09.355Z"
   },
   {
    "duration": 3,
    "start_time": "2022-07-08T08:07:09.503Z"
   },
   {
    "duration": 446,
    "start_time": "2022-07-08T08:07:09.509Z"
   },
   {
    "duration": 61,
    "start_time": "2022-07-08T08:07:09.956Z"
   },
   {
    "duration": 1477,
    "start_time": "2022-07-08T08:08:21.999Z"
   },
   {
    "duration": 36,
    "start_time": "2022-07-08T08:08:23.478Z"
   },
   {
    "duration": 16,
    "start_time": "2022-07-08T08:08:23.516Z"
   },
   {
    "duration": 16,
    "start_time": "2022-07-08T08:08:23.534Z"
   },
   {
    "duration": 63,
    "start_time": "2022-07-08T08:08:23.553Z"
   },
   {
    "duration": 3,
    "start_time": "2022-07-08T08:08:23.622Z"
   },
   {
    "duration": 17,
    "start_time": "2022-07-08T08:08:23.627Z"
   },
   {
    "duration": 24,
    "start_time": "2022-07-08T08:08:23.647Z"
   },
   {
    "duration": 3869,
    "start_time": "2022-07-08T08:08:23.674Z"
   },
   {
    "duration": 7,
    "start_time": "2022-07-08T08:08:27.545Z"
   },
   {
    "duration": 44,
    "start_time": "2022-07-08T08:08:27.554Z"
   },
   {
    "duration": 1680,
    "start_time": "2022-07-08T08:08:27.601Z"
   },
   {
    "duration": 3,
    "start_time": "2022-07-08T08:08:29.283Z"
   },
   {
    "duration": 5,
    "start_time": "2022-07-08T08:08:29.297Z"
   },
   {
    "duration": 9,
    "start_time": "2022-07-08T08:08:29.303Z"
   },
   {
    "duration": 11,
    "start_time": "2022-07-08T08:08:29.313Z"
   },
   {
    "duration": 3,
    "start_time": "2022-07-08T08:08:29.326Z"
   },
   {
    "duration": 17,
    "start_time": "2022-07-08T08:08:29.330Z"
   },
   {
    "duration": 58,
    "start_time": "2022-07-08T08:08:29.348Z"
   },
   {
    "duration": 3,
    "start_time": "2022-07-08T08:08:29.408Z"
   },
   {
    "duration": 571,
    "start_time": "2022-07-08T08:08:29.413Z"
   },
   {
    "duration": 59,
    "start_time": "2022-07-08T08:08:29.985Z"
   },
   {
    "duration": 126,
    "start_time": "2022-07-08T08:14:13.562Z"
   },
   {
    "duration": 1660,
    "start_time": "2022-07-08T08:14:39.001Z"
   },
   {
    "duration": 42,
    "start_time": "2022-07-08T08:14:40.663Z"
   },
   {
    "duration": 22,
    "start_time": "2022-07-08T08:14:40.708Z"
   },
   {
    "duration": 23,
    "start_time": "2022-07-08T08:14:40.734Z"
   },
   {
    "duration": 82,
    "start_time": "2022-07-08T08:14:40.759Z"
   },
   {
    "duration": 3,
    "start_time": "2022-07-08T08:14:40.843Z"
   },
   {
    "duration": 11,
    "start_time": "2022-07-08T08:14:40.848Z"
   },
   {
    "duration": 47,
    "start_time": "2022-07-08T08:14:40.861Z"
   },
   {
    "duration": 4154,
    "start_time": "2022-07-08T08:14:40.910Z"
   },
   {
    "duration": 9,
    "start_time": "2022-07-08T08:14:45.069Z"
   },
   {
    "duration": 32,
    "start_time": "2022-07-08T08:14:45.080Z"
   },
   {
    "duration": 1714,
    "start_time": "2022-07-08T08:14:45.114Z"
   },
   {
    "duration": 3,
    "start_time": "2022-07-08T08:14:46.832Z"
   },
   {
    "duration": 21,
    "start_time": "2022-07-08T08:14:46.838Z"
   },
   {
    "duration": 16,
    "start_time": "2022-07-08T08:14:46.863Z"
   },
   {
    "duration": 21,
    "start_time": "2022-07-08T08:14:46.882Z"
   },
   {
    "duration": 9,
    "start_time": "2022-07-08T08:14:46.905Z"
   },
   {
    "duration": 26,
    "start_time": "2022-07-08T08:14:46.918Z"
   },
   {
    "duration": 52,
    "start_time": "2022-07-08T08:14:46.947Z"
   },
   {
    "duration": 217,
    "start_time": "2022-07-08T08:14:47.002Z"
   },
   {
    "duration": 0,
    "start_time": "2022-07-08T08:14:47.220Z"
   },
   {
    "duration": 0,
    "start_time": "2022-07-08T08:14:47.221Z"
   },
   {
    "duration": 0,
    "start_time": "2022-07-08T08:14:47.223Z"
   },
   {
    "duration": 8,
    "start_time": "2022-07-08T08:15:06.486Z"
   },
   {
    "duration": 1530,
    "start_time": "2022-07-08T08:15:30.123Z"
   },
   {
    "duration": 35,
    "start_time": "2022-07-08T08:15:31.657Z"
   },
   {
    "duration": 19,
    "start_time": "2022-07-08T08:15:31.694Z"
   },
   {
    "duration": 16,
    "start_time": "2022-07-08T08:15:31.715Z"
   },
   {
    "duration": 73,
    "start_time": "2022-07-08T08:15:31.733Z"
   },
   {
    "duration": 4,
    "start_time": "2022-07-08T08:15:31.808Z"
   },
   {
    "duration": 16,
    "start_time": "2022-07-08T08:15:31.814Z"
   },
   {
    "duration": 20,
    "start_time": "2022-07-08T08:15:31.833Z"
   },
   {
    "duration": 3756,
    "start_time": "2022-07-08T08:15:31.856Z"
   },
   {
    "duration": 7,
    "start_time": "2022-07-08T08:15:35.615Z"
   },
   {
    "duration": 30,
    "start_time": "2022-07-08T08:15:35.624Z"
   },
   {
    "duration": 1744,
    "start_time": "2022-07-08T08:15:35.656Z"
   },
   {
    "duration": 2,
    "start_time": "2022-07-08T08:15:37.402Z"
   },
   {
    "duration": 11,
    "start_time": "2022-07-08T08:15:37.407Z"
   },
   {
    "duration": 9,
    "start_time": "2022-07-08T08:15:37.420Z"
   },
   {
    "duration": 12,
    "start_time": "2022-07-08T08:15:37.431Z"
   },
   {
    "duration": 3,
    "start_time": "2022-07-08T08:15:37.445Z"
   },
   {
    "duration": 17,
    "start_time": "2022-07-08T08:15:37.451Z"
   },
   {
    "duration": 29,
    "start_time": "2022-07-08T08:15:37.470Z"
   },
   {
    "duration": 106,
    "start_time": "2022-07-08T08:15:37.501Z"
   },
   {
    "duration": 99,
    "start_time": "2022-07-08T08:15:37.608Z"
   },
   {
    "duration": 372,
    "start_time": "2022-07-08T08:15:37.710Z"
   },
   {
    "duration": 58,
    "start_time": "2022-07-08T08:15:38.084Z"
   },
   {
    "duration": 8,
    "start_time": "2022-07-08T08:15:38.144Z"
   },
   {
    "duration": 4,
    "start_time": "2022-07-08T08:36:46.004Z"
   },
   {
    "duration": 178,
    "start_time": "2022-07-08T08:37:16.942Z"
   },
   {
    "duration": 1646,
    "start_time": "2022-07-08T08:37:26.583Z"
   },
   {
    "duration": 35,
    "start_time": "2022-07-08T08:37:28.231Z"
   },
   {
    "duration": 18,
    "start_time": "2022-07-08T08:37:28.268Z"
   },
   {
    "duration": 14,
    "start_time": "2022-07-08T08:37:28.288Z"
   },
   {
    "duration": 55,
    "start_time": "2022-07-08T08:37:28.305Z"
   },
   {
    "duration": 4,
    "start_time": "2022-07-08T08:37:28.362Z"
   },
   {
    "duration": 33,
    "start_time": "2022-07-08T08:37:28.367Z"
   },
   {
    "duration": 33,
    "start_time": "2022-07-08T08:37:28.401Z"
   },
   {
    "duration": 3927,
    "start_time": "2022-07-08T08:37:28.436Z"
   },
   {
    "duration": 7,
    "start_time": "2022-07-08T08:37:32.365Z"
   },
   {
    "duration": 34,
    "start_time": "2022-07-08T08:37:32.373Z"
   },
   {
    "duration": 1708,
    "start_time": "2022-07-08T08:37:32.409Z"
   },
   {
    "duration": 5,
    "start_time": "2022-07-08T08:37:34.120Z"
   },
   {
    "duration": 16,
    "start_time": "2022-07-08T08:37:34.130Z"
   },
   {
    "duration": 15,
    "start_time": "2022-07-08T08:37:34.148Z"
   },
   {
    "duration": 3,
    "start_time": "2022-07-08T08:37:34.165Z"
   },
   {
    "duration": 37,
    "start_time": "2022-07-08T08:37:34.170Z"
   },
   {
    "duration": 89,
    "start_time": "2022-07-08T08:37:34.210Z"
   },
   {
    "duration": 97,
    "start_time": "2022-07-08T08:37:34.302Z"
   },
   {
    "duration": 4,
    "start_time": "2022-07-08T08:37:34.400Z"
   },
   {
    "duration": 372,
    "start_time": "2022-07-08T08:37:34.406Z"
   },
   {
    "duration": 65,
    "start_time": "2022-07-08T08:37:34.780Z"
   },
   {
    "duration": 8,
    "start_time": "2022-07-08T08:37:34.847Z"
   },
   {
    "duration": 130,
    "start_time": "2022-07-08T08:37:34.857Z"
   },
   {
    "duration": 17,
    "start_time": "2022-07-08T08:37:58.117Z"
   },
   {
    "duration": 1559,
    "start_time": "2022-07-08T08:38:07.544Z"
   },
   {
    "duration": 35,
    "start_time": "2022-07-08T08:38:09.105Z"
   },
   {
    "duration": 27,
    "start_time": "2022-07-08T08:38:09.142Z"
   },
   {
    "duration": 14,
    "start_time": "2022-07-08T08:38:09.171Z"
   },
   {
    "duration": 49,
    "start_time": "2022-07-08T08:38:09.187Z"
   },
   {
    "duration": 4,
    "start_time": "2022-07-08T08:38:09.239Z"
   },
   {
    "duration": 15,
    "start_time": "2022-07-08T08:38:09.245Z"
   },
   {
    "duration": 49,
    "start_time": "2022-07-08T08:38:09.262Z"
   },
   {
    "duration": 3662,
    "start_time": "2022-07-08T08:38:09.313Z"
   },
   {
    "duration": 21,
    "start_time": "2022-07-08T08:38:12.977Z"
   },
   {
    "duration": 21,
    "start_time": "2022-07-08T08:38:13.000Z"
   },
   {
    "duration": 1700,
    "start_time": "2022-07-08T08:38:13.023Z"
   },
   {
    "duration": 5,
    "start_time": "2022-07-08T08:38:14.726Z"
   },
   {
    "duration": 9,
    "start_time": "2022-07-08T08:38:14.734Z"
   },
   {
    "duration": 12,
    "start_time": "2022-07-08T08:38:14.745Z"
   },
   {
    "duration": 3,
    "start_time": "2022-07-08T08:38:14.759Z"
   },
   {
    "duration": 39,
    "start_time": "2022-07-08T08:38:14.764Z"
   },
   {
    "duration": 102,
    "start_time": "2022-07-08T08:38:14.805Z"
   },
   {
    "duration": 90,
    "start_time": "2022-07-08T08:38:14.909Z"
   },
   {
    "duration": 19,
    "start_time": "2022-07-08T08:38:15.002Z"
   },
   {
    "duration": 395,
    "start_time": "2022-07-08T08:38:15.023Z"
   },
   {
    "duration": 52,
    "start_time": "2022-07-08T08:38:15.419Z"
   },
   {
    "duration": 8,
    "start_time": "2022-07-08T08:38:15.472Z"
   },
   {
    "duration": 26,
    "start_time": "2022-07-08T08:38:15.482Z"
   },
   {
    "duration": 406,
    "start_time": "2022-07-08T08:39:47.144Z"
   },
   {
    "duration": 120,
    "start_time": "2022-07-08T08:41:32.631Z"
   },
   {
    "duration": 1483,
    "start_time": "2022-07-08T08:42:18.983Z"
   },
   {
    "duration": 35,
    "start_time": "2022-07-08T08:42:20.469Z"
   },
   {
    "duration": 18,
    "start_time": "2022-07-08T08:42:20.506Z"
   },
   {
    "duration": 14,
    "start_time": "2022-07-08T08:42:20.527Z"
   },
   {
    "duration": 66,
    "start_time": "2022-07-08T08:42:20.544Z"
   },
   {
    "duration": 4,
    "start_time": "2022-07-08T08:42:20.612Z"
   },
   {
    "duration": 16,
    "start_time": "2022-07-08T08:42:20.618Z"
   },
   {
    "duration": 17,
    "start_time": "2022-07-08T08:42:20.636Z"
   },
   {
    "duration": 3760,
    "start_time": "2022-07-08T08:42:20.654Z"
   },
   {
    "duration": 6,
    "start_time": "2022-07-08T08:42:24.416Z"
   },
   {
    "duration": 24,
    "start_time": "2022-07-08T08:42:24.424Z"
   },
   {
    "duration": 1718,
    "start_time": "2022-07-08T08:42:24.451Z"
   },
   {
    "duration": 5,
    "start_time": "2022-07-08T08:42:26.172Z"
   },
   {
    "duration": 20,
    "start_time": "2022-07-08T08:42:26.182Z"
   },
   {
    "duration": 15,
    "start_time": "2022-07-08T08:42:26.205Z"
   },
   {
    "duration": 3,
    "start_time": "2022-07-08T08:42:26.222Z"
   },
   {
    "duration": 23,
    "start_time": "2022-07-08T08:42:26.227Z"
   },
   {
    "duration": 47,
    "start_time": "2022-07-08T08:42:26.252Z"
   },
   {
    "duration": 103,
    "start_time": "2022-07-08T08:42:26.303Z"
   },
   {
    "duration": 92,
    "start_time": "2022-07-08T08:42:26.408Z"
   },
   {
    "duration": 432,
    "start_time": "2022-07-08T08:42:26.502Z"
   },
   {
    "duration": 74,
    "start_time": "2022-07-08T08:42:26.937Z"
   },
   {
    "duration": 10,
    "start_time": "2022-07-08T08:42:27.013Z"
   },
   {
    "duration": 159,
    "start_time": "2022-07-08T08:42:27.025Z"
   },
   {
    "duration": 0,
    "start_time": "2022-07-08T08:42:27.185Z"
   },
   {
    "duration": 11,
    "start_time": "2022-07-08T08:42:40.941Z"
   },
   {
    "duration": 5,
    "start_time": "2022-07-08T08:42:47.133Z"
   },
   {
    "duration": 369,
    "start_time": "2022-07-08T08:42:48.094Z"
   },
   {
    "duration": 436,
    "start_time": "2022-07-08T08:43:45.241Z"
   },
   {
    "duration": 1564,
    "start_time": "2022-07-08T08:43:50.643Z"
   },
   {
    "duration": 51,
    "start_time": "2022-07-08T08:43:52.209Z"
   },
   {
    "duration": 28,
    "start_time": "2022-07-08T08:43:52.262Z"
   },
   {
    "duration": 17,
    "start_time": "2022-07-08T08:43:52.292Z"
   },
   {
    "duration": 51,
    "start_time": "2022-07-08T08:43:52.312Z"
   },
   {
    "duration": 3,
    "start_time": "2022-07-08T08:43:52.365Z"
   },
   {
    "duration": 29,
    "start_time": "2022-07-08T08:43:52.370Z"
   },
   {
    "duration": 17,
    "start_time": "2022-07-08T08:43:52.401Z"
   },
   {
    "duration": 3749,
    "start_time": "2022-07-08T08:43:52.420Z"
   },
   {
    "duration": 6,
    "start_time": "2022-07-08T08:43:56.171Z"
   },
   {
    "duration": 38,
    "start_time": "2022-07-08T08:43:56.179Z"
   },
   {
    "duration": 1715,
    "start_time": "2022-07-08T08:43:56.220Z"
   },
   {
    "duration": 6,
    "start_time": "2022-07-08T08:43:57.937Z"
   },
   {
    "duration": 10,
    "start_time": "2022-07-08T08:43:57.947Z"
   },
   {
    "duration": 12,
    "start_time": "2022-07-08T08:43:57.959Z"
   },
   {
    "duration": 26,
    "start_time": "2022-07-08T08:43:57.973Z"
   },
   {
    "duration": 25,
    "start_time": "2022-07-08T08:43:58.001Z"
   },
   {
    "duration": 10,
    "start_time": "2022-07-08T08:43:58.029Z"
   },
   {
    "duration": 107,
    "start_time": "2022-07-08T08:43:58.099Z"
   },
   {
    "duration": 7,
    "start_time": "2022-07-08T08:43:58.208Z"
   },
   {
    "duration": 363,
    "start_time": "2022-07-08T08:43:58.216Z"
   },
   {
    "duration": 55,
    "start_time": "2022-07-08T08:43:58.581Z"
   },
   {
    "duration": 8,
    "start_time": "2022-07-08T08:43:58.638Z"
   },
   {
    "duration": 5,
    "start_time": "2022-07-08T08:43:58.647Z"
   },
   {
    "duration": 446,
    "start_time": "2022-07-08T08:43:58.653Z"
   },
   {
    "duration": 1558,
    "start_time": "2022-07-08T09:15:26.015Z"
   },
   {
    "duration": 35,
    "start_time": "2022-07-08T09:15:27.575Z"
   },
   {
    "duration": 19,
    "start_time": "2022-07-08T09:15:27.612Z"
   },
   {
    "duration": 13,
    "start_time": "2022-07-08T09:15:27.633Z"
   },
   {
    "duration": 69,
    "start_time": "2022-07-08T09:15:27.649Z"
   },
   {
    "duration": 4,
    "start_time": "2022-07-08T09:15:27.721Z"
   },
   {
    "duration": 12,
    "start_time": "2022-07-08T09:15:27.727Z"
   },
   {
    "duration": 17,
    "start_time": "2022-07-08T09:15:27.741Z"
   },
   {
    "duration": 3804,
    "start_time": "2022-07-08T09:15:27.759Z"
   },
   {
    "duration": 6,
    "start_time": "2022-07-08T09:15:31.564Z"
   },
   {
    "duration": 38,
    "start_time": "2022-07-08T09:15:31.572Z"
   },
   {
    "duration": 1636,
    "start_time": "2022-07-08T09:15:31.612Z"
   },
   {
    "duration": 4,
    "start_time": "2022-07-08T09:15:33.250Z"
   },
   {
    "duration": 9,
    "start_time": "2022-07-08T09:15:33.257Z"
   },
   {
    "duration": 30,
    "start_time": "2022-07-08T09:15:33.268Z"
   },
   {
    "duration": 2,
    "start_time": "2022-07-08T09:15:33.300Z"
   },
   {
    "duration": 17,
    "start_time": "2022-07-08T09:15:33.304Z"
   },
   {
    "duration": 6,
    "start_time": "2022-07-08T09:15:33.322Z"
   },
   {
    "duration": 82,
    "start_time": "2022-07-08T09:15:33.330Z"
   },
   {
    "duration": 3,
    "start_time": "2022-07-08T09:15:33.499Z"
   },
   {
    "duration": 374,
    "start_time": "2022-07-08T09:15:33.504Z"
   },
   {
    "duration": 59,
    "start_time": "2022-07-08T09:15:33.880Z"
   },
   {
    "duration": 8,
    "start_time": "2022-07-08T09:15:33.941Z"
   },
   {
    "duration": 4,
    "start_time": "2022-07-08T09:15:33.951Z"
   },
   {
    "duration": 473,
    "start_time": "2022-07-08T09:15:33.956Z"
   },
   {
    "duration": 127032,
    "start_time": "2022-07-08T09:15:34.431Z"
   },
   {
    "duration": 1471,
    "start_time": "2022-07-08T09:48:56.952Z"
   },
   {
    "duration": 35,
    "start_time": "2022-07-08T09:48:58.425Z"
   },
   {
    "duration": 19,
    "start_time": "2022-07-08T09:48:58.462Z"
   },
   {
    "duration": 14,
    "start_time": "2022-07-08T09:48:58.483Z"
   },
   {
    "duration": 48,
    "start_time": "2022-07-08T09:48:58.499Z"
   },
   {
    "duration": 3,
    "start_time": "2022-07-08T09:48:58.549Z"
   },
   {
    "duration": 12,
    "start_time": "2022-07-08T09:48:58.553Z"
   },
   {
    "duration": 34,
    "start_time": "2022-07-08T09:48:58.567Z"
   },
   {
    "duration": 3723,
    "start_time": "2022-07-08T09:48:58.603Z"
   },
   {
    "duration": 6,
    "start_time": "2022-07-08T09:49:02.328Z"
   },
   {
    "duration": 36,
    "start_time": "2022-07-08T09:49:02.336Z"
   },
   {
    "duration": 1702,
    "start_time": "2022-07-08T09:49:02.373Z"
   },
   {
    "duration": 4,
    "start_time": "2022-07-08T09:49:04.077Z"
   },
   {
    "duration": 13,
    "start_time": "2022-07-08T09:49:04.085Z"
   },
   {
    "duration": 16,
    "start_time": "2022-07-08T09:49:04.100Z"
   },
   {
    "duration": 6,
    "start_time": "2022-07-08T09:49:04.118Z"
   },
   {
    "duration": 16,
    "start_time": "2022-07-08T09:49:04.126Z"
   },
   {
    "duration": 7,
    "start_time": "2022-07-08T09:49:04.144Z"
   },
   {
    "duration": 145,
    "start_time": "2022-07-08T09:49:04.153Z"
   },
   {
    "duration": 7,
    "start_time": "2022-07-08T09:49:04.300Z"
   },
   {
    "duration": 355,
    "start_time": "2022-07-08T09:49:04.309Z"
   },
   {
    "duration": 65,
    "start_time": "2022-07-08T09:49:04.666Z"
   },
   {
    "duration": 8,
    "start_time": "2022-07-08T09:49:04.733Z"
   },
   {
    "duration": 4,
    "start_time": "2022-07-08T09:49:04.743Z"
   },
   {
    "duration": 456,
    "start_time": "2022-07-08T09:49:04.749Z"
   },
   {
    "duration": 124374,
    "start_time": "2022-07-08T09:49:05.207Z"
   },
   {
    "duration": 925,
    "start_time": "2022-07-08T09:51:09.582Z"
   },
   {
    "duration": 90,
    "start_time": "2022-07-08T09:51:10.511Z"
   },
   {
    "duration": 26,
    "start_time": "2022-07-08T09:51:10.603Z"
   },
   {
    "duration": 129,
    "start_time": "2022-07-08T09:51:10.631Z"
   },
   {
    "duration": 38843,
    "start_time": "2022-07-08T09:53:23.255Z"
   },
   {
    "duration": 6,
    "start_time": "2022-07-08T10:03:34.345Z"
   },
   {
    "duration": 7,
    "start_time": "2022-07-08T10:03:53.172Z"
   },
   {
    "duration": 7,
    "start_time": "2022-07-08T10:04:00.159Z"
   },
   {
    "duration": 6,
    "start_time": "2022-07-08T10:04:09.727Z"
   },
   {
    "duration": 6,
    "start_time": "2022-07-08T10:04:13.176Z"
   },
   {
    "duration": 1596,
    "start_time": "2022-07-08T11:02:18.944Z"
   },
   {
    "duration": 35,
    "start_time": "2022-07-08T11:02:20.543Z"
   },
   {
    "duration": 20,
    "start_time": "2022-07-08T11:02:20.580Z"
   },
   {
    "duration": 12,
    "start_time": "2022-07-08T11:02:20.610Z"
   },
   {
    "duration": 46,
    "start_time": "2022-07-08T11:02:20.625Z"
   },
   {
    "duration": 3,
    "start_time": "2022-07-08T11:02:20.673Z"
   },
   {
    "duration": 32,
    "start_time": "2022-07-08T11:02:20.678Z"
   },
   {
    "duration": 21,
    "start_time": "2022-07-08T11:02:20.712Z"
   },
   {
    "duration": 3839,
    "start_time": "2022-07-08T11:02:20.735Z"
   },
   {
    "duration": 6,
    "start_time": "2022-07-08T11:02:24.575Z"
   },
   {
    "duration": 49,
    "start_time": "2022-07-08T11:02:24.583Z"
   },
   {
    "duration": 1711,
    "start_time": "2022-07-08T11:02:24.634Z"
   },
   {
    "duration": 5,
    "start_time": "2022-07-08T11:02:26.347Z"
   },
   {
    "duration": 17,
    "start_time": "2022-07-08T11:02:26.354Z"
   },
   {
    "duration": 11,
    "start_time": "2022-07-08T11:02:26.373Z"
   },
   {
    "duration": 18,
    "start_time": "2022-07-08T11:02:26.386Z"
   },
   {
    "duration": 17,
    "start_time": "2022-07-08T11:02:26.411Z"
   },
   {
    "duration": 5,
    "start_time": "2022-07-08T11:02:26.430Z"
   },
   {
    "duration": 173,
    "start_time": "2022-07-08T11:02:26.437Z"
   },
   {
    "duration": 6,
    "start_time": "2022-07-08T11:02:26.612Z"
   },
   {
    "duration": 400,
    "start_time": "2022-07-08T11:02:26.620Z"
   },
   {
    "duration": 49,
    "start_time": "2022-07-08T11:02:27.023Z"
   },
   {
    "duration": 8,
    "start_time": "2022-07-08T11:02:27.074Z"
   },
   {
    "duration": 5,
    "start_time": "2022-07-08T11:02:27.108Z"
   },
   {
    "duration": 425,
    "start_time": "2022-07-08T11:02:27.115Z"
   },
   {
    "duration": 126515,
    "start_time": "2022-07-08T11:02:27.543Z"
   },
   {
    "duration": 1143,
    "start_time": "2022-07-08T11:04:34.060Z"
   },
   {
    "duration": 6,
    "start_time": "2022-07-08T11:04:35.204Z"
   },
   {
    "duration": 111,
    "start_time": "2022-07-08T11:04:35.211Z"
   },
   {
    "duration": 19,
    "start_time": "2022-07-08T11:04:35.324Z"
   },
   {
    "duration": 42065,
    "start_time": "2022-07-08T11:04:35.344Z"
   },
   {
    "duration": 1749,
    "start_time": "2022-07-08T18:52:54.877Z"
   },
   {
    "duration": 56,
    "start_time": "2022-07-08T18:52:56.628Z"
   },
   {
    "duration": 24,
    "start_time": "2022-07-08T18:52:56.686Z"
   },
   {
    "duration": 14,
    "start_time": "2022-07-08T18:52:56.713Z"
   },
   {
    "duration": 75,
    "start_time": "2022-07-08T18:52:56.729Z"
   },
   {
    "duration": 3,
    "start_time": "2022-07-08T18:52:56.805Z"
   },
   {
    "duration": 12,
    "start_time": "2022-07-08T18:52:56.810Z"
   },
   {
    "duration": 17,
    "start_time": "2022-07-08T18:52:56.824Z"
   },
   {
    "duration": 3351,
    "start_time": "2022-07-08T18:52:56.843Z"
   },
   {
    "duration": 5,
    "start_time": "2022-07-08T18:53:00.197Z"
   },
   {
    "duration": 25,
    "start_time": "2022-07-08T18:53:00.204Z"
   },
   {
    "duration": 1649,
    "start_time": "2022-07-08T18:53:00.231Z"
   },
   {
    "duration": 4,
    "start_time": "2022-07-08T18:53:01.882Z"
   },
   {
    "duration": 14,
    "start_time": "2022-07-08T18:53:01.888Z"
   },
   {
    "duration": 15,
    "start_time": "2022-07-08T18:53:01.903Z"
   },
   {
    "duration": 6,
    "start_time": "2022-07-08T18:53:01.920Z"
   },
   {
    "duration": 29,
    "start_time": "2022-07-08T18:53:01.928Z"
   },
   {
    "duration": 17,
    "start_time": "2022-07-08T18:53:01.959Z"
   },
   {
    "duration": 208,
    "start_time": "2022-07-08T18:53:01.978Z"
   },
   {
    "duration": 18,
    "start_time": "2022-07-08T18:53:02.188Z"
   },
   {
    "duration": 336,
    "start_time": "2022-07-08T18:53:02.208Z"
   },
   {
    "duration": 52,
    "start_time": "2022-07-08T18:53:02.546Z"
   },
   {
    "duration": 8,
    "start_time": "2022-07-08T18:53:02.600Z"
   },
   {
    "duration": 10,
    "start_time": "2022-07-08T18:53:02.610Z"
   },
   {
    "duration": 411,
    "start_time": "2022-07-08T18:53:02.622Z"
   },
   {
    "duration": 117846,
    "start_time": "2022-07-08T18:53:03.035Z"
   },
   {
    "duration": 1089,
    "start_time": "2022-07-08T18:55:00.883Z"
   },
   {
    "duration": 6,
    "start_time": "2022-07-08T18:55:01.976Z"
   },
   {
    "duration": 100,
    "start_time": "2022-07-08T18:55:01.984Z"
   },
   {
    "duration": 23,
    "start_time": "2022-07-08T18:55:02.086Z"
   },
   {
    "duration": 37893,
    "start_time": "2022-07-08T18:55:02.110Z"
   },
   {
    "duration": 1736,
    "start_time": "2022-07-09T07:39:57.982Z"
   },
   {
    "duration": 20,
    "start_time": "2022-07-09T07:39:59.720Z"
   },
   {
    "duration": 39,
    "start_time": "2022-07-09T07:39:59.741Z"
   },
   {
    "duration": 11,
    "start_time": "2022-07-09T07:39:59.784Z"
   },
   {
    "duration": 44,
    "start_time": "2022-07-09T07:39:59.796Z"
   },
   {
    "duration": 14,
    "start_time": "2022-07-09T07:39:59.842Z"
   },
   {
    "duration": 24,
    "start_time": "2022-07-09T07:39:59.864Z"
   },
   {
    "duration": 15,
    "start_time": "2022-07-09T07:39:59.890Z"
   },
   {
    "duration": 3520,
    "start_time": "2022-07-09T07:39:59.907Z"
   },
   {
    "duration": 15,
    "start_time": "2022-07-09T07:40:03.430Z"
   },
   {
    "duration": 35,
    "start_time": "2022-07-09T07:40:03.446Z"
   },
   {
    "duration": 1674,
    "start_time": "2022-07-09T07:40:03.484Z"
   },
   {
    "duration": 6,
    "start_time": "2022-07-09T07:40:05.159Z"
   },
   {
    "duration": 25,
    "start_time": "2022-07-09T07:40:05.167Z"
   },
   {
    "duration": 11,
    "start_time": "2022-07-09T07:40:05.194Z"
   },
   {
    "duration": 5,
    "start_time": "2022-07-09T07:40:05.207Z"
   },
   {
    "duration": 15,
    "start_time": "2022-07-09T07:40:05.214Z"
   },
   {
    "duration": 16,
    "start_time": "2022-07-09T07:40:05.230Z"
   },
   {
    "duration": 142,
    "start_time": "2022-07-09T07:40:05.249Z"
   },
   {
    "duration": 3,
    "start_time": "2022-07-09T07:40:05.393Z"
   },
   {
    "duration": 340,
    "start_time": "2022-07-09T07:40:05.397Z"
   },
   {
    "duration": 73,
    "start_time": "2022-07-09T07:40:05.738Z"
   },
   {
    "duration": 7,
    "start_time": "2022-07-09T07:40:05.813Z"
   },
   {
    "duration": 5,
    "start_time": "2022-07-09T07:40:05.822Z"
   },
   {
    "duration": 439,
    "start_time": "2022-07-09T07:40:05.828Z"
   },
   {
    "duration": 117543,
    "start_time": "2022-07-09T07:40:06.277Z"
   },
   {
    "duration": 834,
    "start_time": "2022-07-09T07:42:03.821Z"
   },
   {
    "duration": 7,
    "start_time": "2022-07-09T07:42:04.659Z"
   },
   {
    "duration": 20,
    "start_time": "2022-07-09T07:42:04.668Z"
   },
   {
    "duration": 44,
    "start_time": "2022-07-09T07:42:04.743Z"
   },
   {
    "duration": 35424,
    "start_time": "2022-07-09T07:42:04.788Z"
   },
   {
    "duration": 1650,
    "start_time": "2022-07-09T10:24:20.939Z"
   },
   {
    "duration": 57,
    "start_time": "2022-07-09T10:24:22.591Z"
   },
   {
    "duration": 15,
    "start_time": "2022-07-09T10:24:22.650Z"
   },
   {
    "duration": 14,
    "start_time": "2022-07-09T10:24:22.667Z"
   },
   {
    "duration": 55,
    "start_time": "2022-07-09T10:24:22.682Z"
   },
   {
    "duration": 3,
    "start_time": "2022-07-09T10:24:22.738Z"
   },
   {
    "duration": 13,
    "start_time": "2022-07-09T10:24:22.743Z"
   },
   {
    "duration": 15,
    "start_time": "2022-07-09T10:24:22.757Z"
   },
   {
    "duration": 3,
    "start_time": "2022-07-09T10:24:22.774Z"
   },
   {
    "duration": 3664,
    "start_time": "2022-07-09T10:24:22.779Z"
   },
   {
    "duration": 6,
    "start_time": "2022-07-09T10:24:26.445Z"
   },
   {
    "duration": 20,
    "start_time": "2022-07-09T10:24:26.453Z"
   },
   {
    "duration": 1767,
    "start_time": "2022-07-09T10:24:26.475Z"
   },
   {
    "duration": 4,
    "start_time": "2022-07-09T10:24:28.244Z"
   },
   {
    "duration": 15,
    "start_time": "2022-07-09T10:24:28.249Z"
   },
   {
    "duration": 10,
    "start_time": "2022-07-09T10:24:28.266Z"
   },
   {
    "duration": 14,
    "start_time": "2022-07-09T10:24:28.278Z"
   },
   {
    "duration": 21,
    "start_time": "2022-07-09T10:24:28.294Z"
   },
   {
    "duration": 15,
    "start_time": "2022-07-09T10:24:28.316Z"
   },
   {
    "duration": 100,
    "start_time": "2022-07-09T10:24:28.333Z"
   },
   {
    "duration": 107,
    "start_time": "2022-07-09T10:24:28.435Z"
   },
   {
    "duration": 330,
    "start_time": "2022-07-09T10:24:28.544Z"
   },
   {
    "duration": 57,
    "start_time": "2022-07-09T10:24:28.876Z"
   },
   {
    "duration": 11,
    "start_time": "2022-07-09T10:24:28.938Z"
   },
   {
    "duration": 4,
    "start_time": "2022-07-09T10:24:28.950Z"
   },
   {
    "duration": 404,
    "start_time": "2022-07-09T10:24:28.956Z"
   },
   {
    "duration": 117830,
    "start_time": "2022-07-09T10:24:29.361Z"
   },
   {
    "duration": 1136,
    "start_time": "2022-07-09T10:26:27.194Z"
   },
   {
    "duration": 4,
    "start_time": "2022-07-09T10:26:28.332Z"
   },
   {
    "duration": 109,
    "start_time": "2022-07-09T10:26:28.337Z"
   },
   {
    "duration": 38,
    "start_time": "2022-07-09T10:26:28.447Z"
   },
   {
    "duration": 37908,
    "start_time": "2022-07-09T10:26:28.486Z"
   },
   {
    "duration": 832,
    "start_time": "2022-07-09T10:29:17.011Z"
   },
   {
    "duration": 141,
    "start_time": "2022-07-09T10:40:34.239Z"
   },
   {
    "duration": 46023,
    "start_time": "2022-07-09T10:44:24.336Z"
   },
   {
    "duration": 48,
    "start_time": "2022-07-09T10:45:20.843Z"
   },
   {
    "duration": 15,
    "start_time": "2022-07-09T10:47:51.979Z"
   },
   {
    "duration": 19,
    "start_time": "2022-07-09T10:47:55.290Z"
   },
   {
    "duration": 10,
    "start_time": "2022-07-09T10:48:48.301Z"
   },
   {
    "duration": 7,
    "start_time": "2022-07-09T10:48:50.882Z"
   },
   {
    "duration": 13,
    "start_time": "2022-07-09T10:50:22.394Z"
   },
   {
    "duration": 9,
    "start_time": "2022-07-09T10:50:24.506Z"
   },
   {
    "duration": 49070,
    "start_time": "2022-07-09T10:53:32.460Z"
   },
   {
    "duration": 1929,
    "start_time": "2022-07-09T10:54:57.376Z"
   },
   {
    "duration": 48,
    "start_time": "2022-07-09T10:56:47.959Z"
   },
   {
    "duration": 1963,
    "start_time": "2022-07-09T10:56:54.464Z"
   },
   {
    "duration": 2347,
    "start_time": "2022-07-09T11:06:48.567Z"
   },
   {
    "duration": 2009,
    "start_time": "2022-07-09T11:09:26.662Z"
   },
   {
    "duration": 1640,
    "start_time": "2022-07-09T11:09:59.443Z"
   },
   {
    "duration": 1019,
    "start_time": "2022-07-09T11:13:47.016Z"
   },
   {
    "duration": 1416,
    "start_time": "2022-07-09T11:14:03.267Z"
   },
   {
    "duration": 23,
    "start_time": "2022-07-09T11:14:04.686Z"
   },
   {
    "duration": 17,
    "start_time": "2022-07-09T11:14:04.710Z"
   },
   {
    "duration": 12,
    "start_time": "2022-07-09T11:14:04.728Z"
   },
   {
    "duration": 47,
    "start_time": "2022-07-09T11:14:04.742Z"
   },
   {
    "duration": 3,
    "start_time": "2022-07-09T11:14:04.791Z"
   },
   {
    "duration": 32,
    "start_time": "2022-07-09T11:14:04.796Z"
   },
   {
    "duration": 16,
    "start_time": "2022-07-09T11:14:04.830Z"
   },
   {
    "duration": 3,
    "start_time": "2022-07-09T11:14:04.847Z"
   },
   {
    "duration": 1154,
    "start_time": "2022-07-09T11:14:04.851Z"
   },
   {
    "duration": 1959,
    "start_time": "2022-07-09T11:14:06.007Z"
   },
   {
    "duration": 946,
    "start_time": "2022-07-09T11:14:07.970Z"
   },
   {
    "duration": 3811,
    "start_time": "2022-07-09T11:14:08.923Z"
   },
   {
    "duration": 6,
    "start_time": "2022-07-09T11:14:12.737Z"
   },
   {
    "duration": 22,
    "start_time": "2022-07-09T11:14:12.745Z"
   },
   {
    "duration": 1502,
    "start_time": "2022-07-09T11:14:12.768Z"
   },
   {
    "duration": 4,
    "start_time": "2022-07-09T11:14:14.272Z"
   },
   {
    "duration": 16,
    "start_time": "2022-07-09T11:14:14.277Z"
   },
   {
    "duration": 12,
    "start_time": "2022-07-09T11:14:14.295Z"
   },
   {
    "duration": 9,
    "start_time": "2022-07-09T11:14:14.308Z"
   },
   {
    "duration": 18,
    "start_time": "2022-07-09T11:14:14.319Z"
   },
   {
    "duration": 4,
    "start_time": "2022-07-09T11:14:14.339Z"
   },
   {
    "duration": 188,
    "start_time": "2022-07-09T11:14:14.345Z"
   },
   {
    "duration": 5,
    "start_time": "2022-07-09T11:14:14.535Z"
   },
   {
    "duration": 358,
    "start_time": "2022-07-09T11:14:14.542Z"
   },
   {
    "duration": 58,
    "start_time": "2022-07-09T11:14:14.902Z"
   },
   {
    "duration": 7,
    "start_time": "2022-07-09T11:14:14.961Z"
   },
   {
    "duration": 6,
    "start_time": "2022-07-09T11:14:14.970Z"
   },
   {
    "duration": 403,
    "start_time": "2022-07-09T11:14:14.978Z"
   },
   {
    "duration": 116666,
    "start_time": "2022-07-09T11:14:15.382Z"
   },
   {
    "duration": 1675,
    "start_time": "2022-07-09T11:16:12.051Z"
   },
   {
    "duration": 5,
    "start_time": "2022-07-09T11:16:13.728Z"
   },
   {
    "duration": 16,
    "start_time": "2022-07-09T11:16:13.735Z"
   },
   {
    "duration": 22,
    "start_time": "2022-07-09T11:16:13.752Z"
   },
   {
    "duration": 37890,
    "start_time": "2022-07-09T11:16:13.776Z"
   },
   {
    "duration": 1191,
    "start_time": "2022-07-09T11:26:12.773Z"
   },
   {
    "duration": 698,
    "start_time": "2022-07-09T12:12:08.572Z"
   },
   {
    "duration": 117,
    "start_time": "2022-07-09T12:15:21.871Z"
   },
   {
    "duration": 10,
    "start_time": "2022-07-09T12:18:37.211Z"
   },
   {
    "duration": 31,
    "start_time": "2022-07-09T12:18:46.049Z"
   },
   {
    "duration": 29,
    "start_time": "2022-07-09T12:19:30.041Z"
   },
   {
    "duration": 23,
    "start_time": "2022-07-09T12:19:54.409Z"
   },
   {
    "duration": 13,
    "start_time": "2022-07-09T12:21:03.323Z"
   },
   {
    "duration": 17,
    "start_time": "2022-07-09T12:21:11.837Z"
   },
   {
    "duration": 4,
    "start_time": "2022-07-09T12:22:55.353Z"
   },
   {
    "duration": 5,
    "start_time": "2022-07-09T12:25:04.512Z"
   },
   {
    "duration": 15,
    "start_time": "2022-07-09T12:25:47.500Z"
   },
   {
    "duration": 15,
    "start_time": "2022-07-09T12:34:34.870Z"
   },
   {
    "duration": 18,
    "start_time": "2022-07-09T12:35:14.039Z"
   },
   {
    "duration": 16,
    "start_time": "2022-07-09T12:36:00.660Z"
   },
   {
    "duration": 1386,
    "start_time": "2022-07-09T12:36:20.157Z"
   },
   {
    "duration": 42,
    "start_time": "2022-07-09T12:36:21.545Z"
   },
   {
    "duration": 18,
    "start_time": "2022-07-09T12:36:21.589Z"
   },
   {
    "duration": 12,
    "start_time": "2022-07-09T12:36:21.608Z"
   },
   {
    "duration": 45,
    "start_time": "2022-07-09T12:36:21.622Z"
   },
   {
    "duration": 3,
    "start_time": "2022-07-09T12:36:21.669Z"
   },
   {
    "duration": 14,
    "start_time": "2022-07-09T12:36:21.674Z"
   },
   {
    "duration": 37,
    "start_time": "2022-07-09T12:36:21.690Z"
   },
   {
    "duration": 3,
    "start_time": "2022-07-09T12:36:21.729Z"
   },
   {
    "duration": 1197,
    "start_time": "2022-07-09T12:36:21.733Z"
   },
   {
    "duration": 2192,
    "start_time": "2022-07-09T12:36:22.932Z"
   },
   {
    "duration": 889,
    "start_time": "2022-07-09T12:36:25.126Z"
   },
   {
    "duration": 9,
    "start_time": "2022-07-09T12:36:26.018Z"
   },
   {
    "duration": 33,
    "start_time": "2022-07-09T12:36:26.031Z"
   },
   {
    "duration": 1696,
    "start_time": "2022-07-09T12:36:26.066Z"
   },
   {
    "duration": 5,
    "start_time": "2022-07-09T12:36:27.764Z"
   },
   {
    "duration": 11,
    "start_time": "2022-07-09T12:36:27.771Z"
   },
   {
    "duration": 19,
    "start_time": "2022-07-09T12:36:27.784Z"
   },
   {
    "duration": 3,
    "start_time": "2022-07-09T12:36:27.805Z"
   },
   {
    "duration": 25,
    "start_time": "2022-07-09T12:36:27.810Z"
   },
   {
    "duration": 9,
    "start_time": "2022-07-09T12:36:27.837Z"
   },
   {
    "duration": 182,
    "start_time": "2022-07-09T12:36:27.852Z"
   },
   {
    "duration": 142,
    "start_time": "2022-07-09T12:36:28.036Z"
   },
   {
    "duration": 0,
    "start_time": "2022-07-09T12:36:28.181Z"
   },
   {
    "duration": 0,
    "start_time": "2022-07-09T12:36:28.182Z"
   },
   {
    "duration": 0,
    "start_time": "2022-07-09T12:36:28.183Z"
   },
   {
    "duration": 0,
    "start_time": "2022-07-09T12:36:28.186Z"
   },
   {
    "duration": 0,
    "start_time": "2022-07-09T12:36:28.188Z"
   },
   {
    "duration": 0,
    "start_time": "2022-07-09T12:36:28.189Z"
   },
   {
    "duration": 0,
    "start_time": "2022-07-09T12:36:28.191Z"
   },
   {
    "duration": 0,
    "start_time": "2022-07-09T12:36:28.192Z"
   },
   {
    "duration": 0,
    "start_time": "2022-07-09T12:36:28.193Z"
   },
   {
    "duration": 0,
    "start_time": "2022-07-09T12:36:28.194Z"
   },
   {
    "duration": 0,
    "start_time": "2022-07-09T12:36:28.195Z"
   },
   {
    "duration": 0,
    "start_time": "2022-07-09T12:36:28.222Z"
   },
   {
    "duration": 0,
    "start_time": "2022-07-09T12:36:28.224Z"
   },
   {
    "duration": 0,
    "start_time": "2022-07-09T12:36:28.226Z"
   },
   {
    "duration": 0,
    "start_time": "2022-07-09T12:36:28.228Z"
   },
   {
    "duration": 0,
    "start_time": "2022-07-09T12:36:28.229Z"
   },
   {
    "duration": 0,
    "start_time": "2022-07-09T12:36:28.231Z"
   },
   {
    "duration": 0,
    "start_time": "2022-07-09T12:36:28.233Z"
   },
   {
    "duration": 1559,
    "start_time": "2022-07-09T12:37:08.129Z"
   },
   {
    "duration": 22,
    "start_time": "2022-07-09T12:37:09.690Z"
   },
   {
    "duration": 18,
    "start_time": "2022-07-09T12:37:09.714Z"
   },
   {
    "duration": 13,
    "start_time": "2022-07-09T12:37:09.734Z"
   },
   {
    "duration": 58,
    "start_time": "2022-07-09T12:37:09.750Z"
   },
   {
    "duration": 4,
    "start_time": "2022-07-09T12:37:09.823Z"
   },
   {
    "duration": 18,
    "start_time": "2022-07-09T12:37:09.829Z"
   },
   {
    "duration": 18,
    "start_time": "2022-07-09T12:37:09.849Z"
   },
   {
    "duration": 3,
    "start_time": "2022-07-09T12:37:09.869Z"
   },
   {
    "duration": 1223,
    "start_time": "2022-07-09T12:37:09.874Z"
   },
   {
    "duration": 1924,
    "start_time": "2022-07-09T12:37:11.099Z"
   },
   {
    "duration": 874,
    "start_time": "2022-07-09T12:37:13.025Z"
   },
   {
    "duration": 7,
    "start_time": "2022-07-09T12:37:13.901Z"
   },
   {
    "duration": 31,
    "start_time": "2022-07-09T12:37:13.911Z"
   },
   {
    "duration": 1598,
    "start_time": "2022-07-09T12:37:13.944Z"
   },
   {
    "duration": 4,
    "start_time": "2022-07-09T12:37:15.544Z"
   },
   {
    "duration": 9,
    "start_time": "2022-07-09T12:37:15.550Z"
   },
   {
    "duration": 13,
    "start_time": "2022-07-09T12:37:15.561Z"
   },
   {
    "duration": 2,
    "start_time": "2022-07-09T12:37:15.576Z"
   },
   {
    "duration": 17,
    "start_time": "2022-07-09T12:37:15.580Z"
   },
   {
    "duration": 26,
    "start_time": "2022-07-09T12:37:15.599Z"
   },
   {
    "duration": 101,
    "start_time": "2022-07-09T12:37:15.627Z"
   },
   {
    "duration": 93,
    "start_time": "2022-07-09T12:37:15.731Z"
   },
   {
    "duration": 8,
    "start_time": "2022-07-09T12:37:15.826Z"
   },
   {
    "duration": 8,
    "start_time": "2022-07-09T12:37:15.836Z"
   },
   {
    "duration": 8,
    "start_time": "2022-07-09T12:37:15.845Z"
   },
   {
    "duration": 347,
    "start_time": "2022-07-09T12:37:15.855Z"
   },
   {
    "duration": 54,
    "start_time": "2022-07-09T12:37:16.204Z"
   },
   {
    "duration": 9,
    "start_time": "2022-07-09T12:37:16.259Z"
   },
   {
    "duration": 22,
    "start_time": "2022-07-09T12:37:16.270Z"
   },
   {
    "duration": 3,
    "start_time": "2022-07-09T12:37:16.294Z"
   },
   {
    "duration": 457,
    "start_time": "2022-07-09T12:37:16.299Z"
   },
   {
    "duration": 80,
    "start_time": "2022-07-09T12:37:16.759Z"
   },
   {
    "duration": 1123,
    "start_time": "2022-07-09T12:37:16.842Z"
   },
   {
    "duration": 79,
    "start_time": "2022-07-09T12:37:17.968Z"
   },
   {
    "duration": 126152,
    "start_time": "2022-07-09T12:37:18.049Z"
   },
   {
    "duration": 1123,
    "start_time": "2022-07-09T12:39:24.203Z"
   },
   {
    "duration": 5,
    "start_time": "2022-07-09T12:39:25.329Z"
   },
   {
    "duration": 20,
    "start_time": "2022-07-09T12:39:25.338Z"
   },
   {
    "duration": 82,
    "start_time": "2022-07-09T12:39:25.360Z"
   },
   {
    "duration": 41416,
    "start_time": "2022-07-09T12:39:25.446Z"
   },
   {
    "duration": 9,
    "start_time": "2022-07-09T12:42:00.938Z"
   },
   {
    "duration": 7,
    "start_time": "2022-07-09T12:42:37.589Z"
   },
   {
    "duration": 8,
    "start_time": "2022-07-09T12:43:16.960Z"
   },
   {
    "duration": 1525,
    "start_time": "2022-07-09T12:47:05.501Z"
   },
   {
    "duration": 25,
    "start_time": "2022-07-09T12:47:07.029Z"
   },
   {
    "duration": 19,
    "start_time": "2022-07-09T12:47:07.056Z"
   },
   {
    "duration": 21,
    "start_time": "2022-07-09T12:47:07.077Z"
   },
   {
    "duration": 61,
    "start_time": "2022-07-09T12:47:07.100Z"
   },
   {
    "duration": 4,
    "start_time": "2022-07-09T12:47:07.164Z"
   },
   {
    "duration": 16,
    "start_time": "2022-07-09T12:47:07.170Z"
   },
   {
    "duration": 37,
    "start_time": "2022-07-09T12:47:07.188Z"
   },
   {
    "duration": 5,
    "start_time": "2022-07-09T12:47:07.227Z"
   },
   {
    "duration": 1177,
    "start_time": "2022-07-09T12:47:07.235Z"
   },
   {
    "duration": 2057,
    "start_time": "2022-07-09T12:47:08.414Z"
   },
   {
    "duration": 964,
    "start_time": "2022-07-09T12:47:10.473Z"
   },
   {
    "duration": 7,
    "start_time": "2022-07-09T12:47:11.440Z"
   },
   {
    "duration": 28,
    "start_time": "2022-07-09T12:47:11.450Z"
   },
   {
    "duration": 1630,
    "start_time": "2022-07-09T12:47:11.480Z"
   },
   {
    "duration": 5,
    "start_time": "2022-07-09T12:47:13.111Z"
   },
   {
    "duration": 10,
    "start_time": "2022-07-09T12:47:13.118Z"
   },
   {
    "duration": 13,
    "start_time": "2022-07-09T12:47:13.130Z"
   },
   {
    "duration": 2,
    "start_time": "2022-07-09T12:47:13.146Z"
   },
   {
    "duration": 17,
    "start_time": "2022-07-09T12:47:13.150Z"
   },
   {
    "duration": 70,
    "start_time": "2022-07-09T12:47:13.169Z"
   },
   {
    "duration": 190,
    "start_time": "2022-07-09T12:47:13.242Z"
   },
   {
    "duration": 3,
    "start_time": "2022-07-09T12:47:13.435Z"
   },
   {
    "duration": 14,
    "start_time": "2022-07-09T12:47:13.439Z"
   },
   {
    "duration": 11,
    "start_time": "2022-07-09T12:47:13.455Z"
   },
   {
    "duration": 4,
    "start_time": "2022-07-09T12:47:13.469Z"
   },
   {
    "duration": 368,
    "start_time": "2022-07-09T12:47:13.475Z"
   },
   {
    "duration": 63,
    "start_time": "2022-07-09T12:47:13.846Z"
   },
   {
    "duration": 21,
    "start_time": "2022-07-09T12:47:13.911Z"
   },
   {
    "duration": 22,
    "start_time": "2022-07-09T12:47:13.934Z"
   },
   {
    "duration": 7,
    "start_time": "2022-07-09T12:47:13.958Z"
   },
   {
    "duration": 489,
    "start_time": "2022-07-09T12:47:13.967Z"
   },
   {
    "duration": 10,
    "start_time": "2022-07-09T12:47:14.459Z"
   },
   {
    "duration": 42,
    "start_time": "2022-07-09T12:47:14.472Z"
   },
   {
    "duration": 477,
    "start_time": "2022-07-09T12:47:14.522Z"
   },
   {
    "duration": 7,
    "start_time": "2022-07-09T12:47:15.001Z"
   },
   {
    "duration": 28,
    "start_time": "2022-07-09T12:47:15.022Z"
   },
   {
    "duration": 119516,
    "start_time": "2022-07-09T12:47:15.051Z"
   },
   {
    "duration": 1154,
    "start_time": "2022-07-09T12:49:14.570Z"
   },
   {
    "duration": 7,
    "start_time": "2022-07-09T12:49:15.730Z"
   },
   {
    "duration": 11,
    "start_time": "2022-07-09T12:49:15.824Z"
   },
   {
    "duration": 26,
    "start_time": "2022-07-09T12:49:15.837Z"
   },
   {
    "duration": 1775,
    "start_time": "2022-07-10T07:31:51.697Z"
   },
   {
    "duration": 47,
    "start_time": "2022-07-10T07:31:53.474Z"
   },
   {
    "duration": 15,
    "start_time": "2022-07-10T07:31:53.523Z"
   },
   {
    "duration": 12,
    "start_time": "2022-07-10T07:31:53.539Z"
   },
   {
    "duration": 45,
    "start_time": "2022-07-10T07:31:53.553Z"
   },
   {
    "duration": 4,
    "start_time": "2022-07-10T07:31:53.599Z"
   },
   {
    "duration": 11,
    "start_time": "2022-07-10T07:31:53.604Z"
   },
   {
    "duration": 14,
    "start_time": "2022-07-10T07:31:53.617Z"
   },
   {
    "duration": 3,
    "start_time": "2022-07-10T07:31:53.632Z"
   },
   {
    "duration": 1080,
    "start_time": "2022-07-10T07:31:53.636Z"
   },
   {
    "duration": 1968,
    "start_time": "2022-07-10T07:31:54.717Z"
   },
   {
    "duration": 797,
    "start_time": "2022-07-10T07:31:56.687Z"
   },
   {
    "duration": 6,
    "start_time": "2022-07-10T07:31:57.485Z"
   },
   {
    "duration": 18,
    "start_time": "2022-07-10T07:31:57.495Z"
   },
   {
    "duration": 1490,
    "start_time": "2022-07-10T07:31:57.514Z"
   },
   {
    "duration": 5,
    "start_time": "2022-07-10T07:31:59.006Z"
   },
   {
    "duration": 9,
    "start_time": "2022-07-10T07:31:59.012Z"
   },
   {
    "duration": 11,
    "start_time": "2022-07-10T07:31:59.022Z"
   },
   {
    "duration": 2,
    "start_time": "2022-07-10T07:31:59.034Z"
   },
   {
    "duration": 19,
    "start_time": "2022-07-10T07:31:59.038Z"
   },
   {
    "duration": 119,
    "start_time": "2022-07-10T07:31:59.058Z"
   },
   {
    "duration": 190,
    "start_time": "2022-07-10T07:31:59.180Z"
   },
   {
    "duration": 9,
    "start_time": "2022-07-10T07:31:59.372Z"
   },
   {
    "duration": 7,
    "start_time": "2022-07-10T07:31:59.382Z"
   },
   {
    "duration": 10,
    "start_time": "2022-07-10T07:31:59.391Z"
   },
   {
    "duration": 4,
    "start_time": "2022-07-10T07:31:59.403Z"
   },
   {
    "duration": 307,
    "start_time": "2022-07-10T07:31:59.408Z"
   },
   {
    "duration": 55,
    "start_time": "2022-07-10T07:31:59.716Z"
   },
   {
    "duration": 9,
    "start_time": "2022-07-10T07:31:59.773Z"
   },
   {
    "duration": 18,
    "start_time": "2022-07-10T07:31:59.783Z"
   },
   {
    "duration": 3,
    "start_time": "2022-07-10T07:31:59.803Z"
   },
   {
    "duration": 377,
    "start_time": "2022-07-10T07:31:59.808Z"
   },
   {
    "duration": 6,
    "start_time": "2022-07-10T07:32:00.187Z"
   },
   {
    "duration": 22,
    "start_time": "2022-07-10T07:32:00.194Z"
   },
   {
    "duration": 416,
    "start_time": "2022-07-10T07:32:00.218Z"
   },
   {
    "duration": 5,
    "start_time": "2022-07-10T07:32:00.635Z"
   },
   {
    "duration": 50,
    "start_time": "2022-07-10T07:32:00.641Z"
   },
   {
    "duration": 111320,
    "start_time": "2022-07-10T07:32:00.693Z"
   },
   {
    "duration": 746,
    "start_time": "2022-07-10T07:33:52.015Z"
   },
   {
    "duration": 10,
    "start_time": "2022-07-10T07:33:52.771Z"
   },
   {
    "duration": 94,
    "start_time": "2022-07-10T07:33:52.789Z"
   },
   {
    "duration": 16,
    "start_time": "2022-07-10T07:33:52.885Z"
   }
  ],
  "kernelspec": {
   "display_name": "Python 3 (ipykernel)",
   "language": "python",
   "name": "python3"
  },
  "language_info": {
   "codemirror_mode": {
    "name": "ipython",
    "version": 3
   },
   "file_extension": ".py",
   "mimetype": "text/x-python",
   "name": "python",
   "nbconvert_exporter": "python",
   "pygments_lexer": "ipython3",
   "version": "3.9.7"
  },
  "toc": {
   "base_numbering": 1,
   "nav_menu": {},
   "number_sections": true,
   "sideBar": true,
   "skip_h1_title": true,
   "title_cell": "Table of Contents",
   "title_sidebar": "Contents",
   "toc_cell": false,
   "toc_position": {
    "height": "calc(100% - 180px)",
    "left": "10px",
    "top": "150px",
    "width": "302.512px"
   },
   "toc_section_display": true,
   "toc_window_display": true
  }
 },
 "nbformat": 4,
 "nbformat_minor": 2
}
