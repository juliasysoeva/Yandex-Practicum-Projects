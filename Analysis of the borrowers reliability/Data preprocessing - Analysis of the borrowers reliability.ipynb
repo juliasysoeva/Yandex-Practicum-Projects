{
 "cells": [
  {
   "cell_type": "markdown",
   "id": "155710dc",
   "metadata": {},
   "source": [
    "# Исследование надежности заемщиков"
   ]
  },
  {
   "cell_type": "markdown",
   "id": "50a9ad97",
   "metadata": {},
   "source": [
    "## 1. Обзор данных"
   ]
  },
  {
   "cell_type": "code",
   "execution_count": 1,
   "id": "37c46ae8",
   "metadata": {},
   "outputs": [],
   "source": [
    "import pandas as pd"
   ]
  },
  {
   "cell_type": "code",
   "execution_count": 2,
   "id": "aaf4be45",
   "metadata": {},
   "outputs": [
    {
     "data": {
      "text/html": [
       "<div>\n",
       "<style scoped>\n",
       "    .dataframe tbody tr th:only-of-type {\n",
       "        vertical-align: middle;\n",
       "    }\n",
       "\n",
       "    .dataframe tbody tr th {\n",
       "        vertical-align: top;\n",
       "    }\n",
       "\n",
       "    .dataframe thead th {\n",
       "        text-align: right;\n",
       "    }\n",
       "</style>\n",
       "<table border=\"1\" class=\"dataframe\">\n",
       "  <thead>\n",
       "    <tr style=\"text-align: right;\">\n",
       "      <th></th>\n",
       "      <th>children</th>\n",
       "      <th>days_employed</th>\n",
       "      <th>dob_years</th>\n",
       "      <th>education</th>\n",
       "      <th>education_id</th>\n",
       "      <th>family_status</th>\n",
       "      <th>family_status_id</th>\n",
       "      <th>gender</th>\n",
       "      <th>income_type</th>\n",
       "      <th>debt</th>\n",
       "      <th>total_income</th>\n",
       "      <th>purpose</th>\n",
       "    </tr>\n",
       "  </thead>\n",
       "  <tbody>\n",
       "    <tr>\n",
       "      <th>0</th>\n",
       "      <td>1</td>\n",
       "      <td>-8437.673028</td>\n",
       "      <td>42</td>\n",
       "      <td>высшее</td>\n",
       "      <td>0</td>\n",
       "      <td>женат / замужем</td>\n",
       "      <td>0</td>\n",
       "      <td>F</td>\n",
       "      <td>сотрудник</td>\n",
       "      <td>0</td>\n",
       "      <td>253875.639453</td>\n",
       "      <td>покупка жилья</td>\n",
       "    </tr>\n",
       "    <tr>\n",
       "      <th>1</th>\n",
       "      <td>1</td>\n",
       "      <td>-4024.803754</td>\n",
       "      <td>36</td>\n",
       "      <td>среднее</td>\n",
       "      <td>1</td>\n",
       "      <td>женат / замужем</td>\n",
       "      <td>0</td>\n",
       "      <td>F</td>\n",
       "      <td>сотрудник</td>\n",
       "      <td>0</td>\n",
       "      <td>112080.014102</td>\n",
       "      <td>приобретение автомобиля</td>\n",
       "    </tr>\n",
       "    <tr>\n",
       "      <th>2</th>\n",
       "      <td>0</td>\n",
       "      <td>-5623.422610</td>\n",
       "      <td>33</td>\n",
       "      <td>Среднее</td>\n",
       "      <td>1</td>\n",
       "      <td>женат / замужем</td>\n",
       "      <td>0</td>\n",
       "      <td>M</td>\n",
       "      <td>сотрудник</td>\n",
       "      <td>0</td>\n",
       "      <td>145885.952297</td>\n",
       "      <td>покупка жилья</td>\n",
       "    </tr>\n",
       "    <tr>\n",
       "      <th>3</th>\n",
       "      <td>3</td>\n",
       "      <td>-4124.747207</td>\n",
       "      <td>32</td>\n",
       "      <td>среднее</td>\n",
       "      <td>1</td>\n",
       "      <td>женат / замужем</td>\n",
       "      <td>0</td>\n",
       "      <td>M</td>\n",
       "      <td>сотрудник</td>\n",
       "      <td>0</td>\n",
       "      <td>267628.550329</td>\n",
       "      <td>дополнительное образование</td>\n",
       "    </tr>\n",
       "    <tr>\n",
       "      <th>4</th>\n",
       "      <td>0</td>\n",
       "      <td>340266.072047</td>\n",
       "      <td>53</td>\n",
       "      <td>среднее</td>\n",
       "      <td>1</td>\n",
       "      <td>гражданский брак</td>\n",
       "      <td>1</td>\n",
       "      <td>F</td>\n",
       "      <td>пенсионер</td>\n",
       "      <td>0</td>\n",
       "      <td>158616.077870</td>\n",
       "      <td>сыграть свадьбу</td>\n",
       "    </tr>\n",
       "    <tr>\n",
       "      <th>5</th>\n",
       "      <td>0</td>\n",
       "      <td>-926.185831</td>\n",
       "      <td>27</td>\n",
       "      <td>высшее</td>\n",
       "      <td>0</td>\n",
       "      <td>гражданский брак</td>\n",
       "      <td>1</td>\n",
       "      <td>M</td>\n",
       "      <td>компаньон</td>\n",
       "      <td>0</td>\n",
       "      <td>255763.565419</td>\n",
       "      <td>покупка жилья</td>\n",
       "    </tr>\n",
       "    <tr>\n",
       "      <th>6</th>\n",
       "      <td>0</td>\n",
       "      <td>-2879.202052</td>\n",
       "      <td>43</td>\n",
       "      <td>высшее</td>\n",
       "      <td>0</td>\n",
       "      <td>женат / замужем</td>\n",
       "      <td>0</td>\n",
       "      <td>F</td>\n",
       "      <td>компаньон</td>\n",
       "      <td>0</td>\n",
       "      <td>240525.971920</td>\n",
       "      <td>операции с жильем</td>\n",
       "    </tr>\n",
       "    <tr>\n",
       "      <th>7</th>\n",
       "      <td>0</td>\n",
       "      <td>-152.779569</td>\n",
       "      <td>50</td>\n",
       "      <td>СРЕДНЕЕ</td>\n",
       "      <td>1</td>\n",
       "      <td>женат / замужем</td>\n",
       "      <td>0</td>\n",
       "      <td>M</td>\n",
       "      <td>сотрудник</td>\n",
       "      <td>0</td>\n",
       "      <td>135823.934197</td>\n",
       "      <td>образование</td>\n",
       "    </tr>\n",
       "    <tr>\n",
       "      <th>8</th>\n",
       "      <td>2</td>\n",
       "      <td>-6929.865299</td>\n",
       "      <td>35</td>\n",
       "      <td>ВЫСШЕЕ</td>\n",
       "      <td>0</td>\n",
       "      <td>гражданский брак</td>\n",
       "      <td>1</td>\n",
       "      <td>F</td>\n",
       "      <td>сотрудник</td>\n",
       "      <td>0</td>\n",
       "      <td>95856.832424</td>\n",
       "      <td>на проведение свадьбы</td>\n",
       "    </tr>\n",
       "    <tr>\n",
       "      <th>9</th>\n",
       "      <td>0</td>\n",
       "      <td>-2188.756445</td>\n",
       "      <td>41</td>\n",
       "      <td>среднее</td>\n",
       "      <td>1</td>\n",
       "      <td>женат / замужем</td>\n",
       "      <td>0</td>\n",
       "      <td>M</td>\n",
       "      <td>сотрудник</td>\n",
       "      <td>0</td>\n",
       "      <td>144425.938277</td>\n",
       "      <td>покупка жилья для семьи</td>\n",
       "    </tr>\n",
       "  </tbody>\n",
       "</table>\n",
       "</div>"
      ],
      "text/plain": [
       "   children  days_employed  dob_years education  education_id  \\\n",
       "0         1   -8437.673028         42    высшее             0   \n",
       "1         1   -4024.803754         36   среднее             1   \n",
       "2         0   -5623.422610         33   Среднее             1   \n",
       "3         3   -4124.747207         32   среднее             1   \n",
       "4         0  340266.072047         53   среднее             1   \n",
       "5         0    -926.185831         27    высшее             0   \n",
       "6         0   -2879.202052         43    высшее             0   \n",
       "7         0    -152.779569         50   СРЕДНЕЕ             1   \n",
       "8         2   -6929.865299         35    ВЫСШЕЕ             0   \n",
       "9         0   -2188.756445         41   среднее             1   \n",
       "\n",
       "      family_status  family_status_id gender income_type  debt   total_income  \\\n",
       "0   женат / замужем                 0      F   сотрудник     0  253875.639453   \n",
       "1   женат / замужем                 0      F   сотрудник     0  112080.014102   \n",
       "2   женат / замужем                 0      M   сотрудник     0  145885.952297   \n",
       "3   женат / замужем                 0      M   сотрудник     0  267628.550329   \n",
       "4  гражданский брак                 1      F   пенсионер     0  158616.077870   \n",
       "5  гражданский брак                 1      M   компаньон     0  255763.565419   \n",
       "6   женат / замужем                 0      F   компаньон     0  240525.971920   \n",
       "7   женат / замужем                 0      M   сотрудник     0  135823.934197   \n",
       "8  гражданский брак                 1      F   сотрудник     0   95856.832424   \n",
       "9   женат / замужем                 0      M   сотрудник     0  144425.938277   \n",
       "\n",
       "                      purpose  \n",
       "0               покупка жилья  \n",
       "1     приобретение автомобиля  \n",
       "2               покупка жилья  \n",
       "3  дополнительное образование  \n",
       "4             сыграть свадьбу  \n",
       "5               покупка жилья  \n",
       "6           операции с жильем  \n",
       "7                 образование  \n",
       "8       на проведение свадьбы  \n",
       "9     покупка жилья для семьи  "
      ]
     },
     "metadata": {},
     "output_type": "display_data"
    },
    {
     "name": "stdout",
     "output_type": "stream",
     "text": [
      "<class 'pandas.core.frame.DataFrame'>\n",
      "RangeIndex: 21525 entries, 0 to 21524\n",
      "Data columns (total 12 columns):\n",
      " #   Column            Non-Null Count  Dtype  \n",
      "---  ------            --------------  -----  \n",
      " 0   children          21525 non-null  int64  \n",
      " 1   days_employed     19351 non-null  float64\n",
      " 2   dob_years         21525 non-null  int64  \n",
      " 3   education         21525 non-null  object \n",
      " 4   education_id      21525 non-null  int64  \n",
      " 5   family_status     21525 non-null  object \n",
      " 6   family_status_id  21525 non-null  int64  \n",
      " 7   gender            21525 non-null  object \n",
      " 8   income_type       21525 non-null  object \n",
      " 9   debt              21525 non-null  int64  \n",
      " 10  total_income      19351 non-null  float64\n",
      " 11  purpose           21525 non-null  object \n",
      "dtypes: float64(2), int64(5), object(5)\n",
      "memory usage: 2.0+ MB\n"
     ]
    }
   ],
   "source": [
    "data = pd.read_csv('D:/Downloads/data.csv')\n",
    "display(data.head(10))\n",
    "data.info()"
   ]
  },
  {
   "cell_type": "markdown",
   "id": "95550b23",
   "metadata": {},
   "source": [
    "## 2. Предобработка данных"
   ]
  },
  {
   "cell_type": "markdown",
   "id": "d20c26a8",
   "metadata": {},
   "source": [
    "### 2.1 Заполнение пропусков"
   ]
  },
  {
   "cell_type": "code",
   "execution_count": 3,
   "id": "c430ed0a",
   "metadata": {},
   "outputs": [
    {
     "name": "stderr",
     "output_type": "stream",
     "text": [
      "C:\\Users\\0E3B~1\\AppData\\Local\\Temp/ipykernel_18416/655079050.py:1: FutureWarning: Indexing with multiple keys (implicitly converted to a tuple of keys) will be deprecated, use a list instead.\n",
      "  data.groupby('income_type')['days_employed', 'total_income', 'purpose'].count()\n"
     ]
    },
    {
     "data": {
      "text/html": [
       "<div>\n",
       "<style scoped>\n",
       "    .dataframe tbody tr th:only-of-type {\n",
       "        vertical-align: middle;\n",
       "    }\n",
       "\n",
       "    .dataframe tbody tr th {\n",
       "        vertical-align: top;\n",
       "    }\n",
       "\n",
       "    .dataframe thead th {\n",
       "        text-align: right;\n",
       "    }\n",
       "</style>\n",
       "<table border=\"1\" class=\"dataframe\">\n",
       "  <thead>\n",
       "    <tr style=\"text-align: right;\">\n",
       "      <th></th>\n",
       "      <th>days_employed</th>\n",
       "      <th>total_income</th>\n",
       "      <th>purpose</th>\n",
       "    </tr>\n",
       "    <tr>\n",
       "      <th>income_type</th>\n",
       "      <th></th>\n",
       "      <th></th>\n",
       "      <th></th>\n",
       "    </tr>\n",
       "  </thead>\n",
       "  <tbody>\n",
       "    <tr>\n",
       "      <th>безработный</th>\n",
       "      <td>2</td>\n",
       "      <td>2</td>\n",
       "      <td>2</td>\n",
       "    </tr>\n",
       "    <tr>\n",
       "      <th>в декрете</th>\n",
       "      <td>1</td>\n",
       "      <td>1</td>\n",
       "      <td>1</td>\n",
       "    </tr>\n",
       "    <tr>\n",
       "      <th>госслужащий</th>\n",
       "      <td>1312</td>\n",
       "      <td>1312</td>\n",
       "      <td>1459</td>\n",
       "    </tr>\n",
       "    <tr>\n",
       "      <th>компаньон</th>\n",
       "      <td>4577</td>\n",
       "      <td>4577</td>\n",
       "      <td>5085</td>\n",
       "    </tr>\n",
       "    <tr>\n",
       "      <th>пенсионер</th>\n",
       "      <td>3443</td>\n",
       "      <td>3443</td>\n",
       "      <td>3856</td>\n",
       "    </tr>\n",
       "    <tr>\n",
       "      <th>предприниматель</th>\n",
       "      <td>1</td>\n",
       "      <td>1</td>\n",
       "      <td>2</td>\n",
       "    </tr>\n",
       "    <tr>\n",
       "      <th>сотрудник</th>\n",
       "      <td>10014</td>\n",
       "      <td>10014</td>\n",
       "      <td>11119</td>\n",
       "    </tr>\n",
       "    <tr>\n",
       "      <th>студент</th>\n",
       "      <td>1</td>\n",
       "      <td>1</td>\n",
       "      <td>1</td>\n",
       "    </tr>\n",
       "  </tbody>\n",
       "</table>\n",
       "</div>"
      ],
      "text/plain": [
       "                 days_employed  total_income  purpose\n",
       "income_type                                          \n",
       "безработный                  2             2        2\n",
       "в декрете                    1             1        1\n",
       "госслужащий               1312          1312     1459\n",
       "компаньон                 4577          4577     5085\n",
       "пенсионер                 3443          3443     3856\n",
       "предприниматель              1             1        2\n",
       "сотрудник                10014         10014    11119\n",
       "студент                      1             1        1"
      ]
     },
     "execution_count": 3,
     "metadata": {},
     "output_type": "execute_result"
    }
   ],
   "source": [
    "data.groupby('income_type')['days_employed', 'total_income', 'purpose'].count()"
   ]
  },
  {
   "cell_type": "markdown",
   "id": "07b06104",
   "metadata": {},
   "source": [
    "<div style=\"border:solid blue 1px; padding: 20px\"> \n",
    "В разбивке по типу занятности не хватает данных по всем целевым категориям (т.е. кроме берзработных, в декрете и студентов). Скорее всего допущена техническая ошибка, или же данные не были предоставлены клиентами."
   ]
  },
  {
   "cell_type": "code",
   "execution_count": 4,
   "id": "0a71bd6b",
   "metadata": {},
   "outputs": [],
   "source": [
    "pass_ = data.isna().sum() / len(data)"
   ]
  },
  {
   "cell_type": "code",
   "execution_count": 5,
   "id": "1ee6628a",
   "metadata": {},
   "outputs": [
    {
     "name": "stdout",
     "output_type": "stream",
     "text": [
      "children            0.000000\n",
      "days_employed       0.100999\n",
      "dob_years           0.000000\n",
      "education           0.000000\n",
      "education_id        0.000000\n",
      "family_status       0.000000\n",
      "family_status_id    0.000000\n",
      "gender              0.000000\n",
      "income_type         0.000000\n",
      "debt                0.000000\n",
      "total_income        0.100999\n",
      "purpose             0.000000\n",
      "dtype: float64\n"
     ]
    }
   ],
   "source": [
    "print(pass_)"
   ]
  },
  {
   "cell_type": "markdown",
   "id": "58c06a3a",
   "metadata": {},
   "source": [
    "<div style=\"border:solid blue 1px; padding: 20px\"> \n",
    "Доля пропусков в колонках days_employed и total_income составила 10,09%.\n",
    "Значения в данных колонках являются количественными. Заменим их медианными значениями.\n",
    "Медиана в отличие от среднего арифметического даст более точное значение, так как значения в данных столбцах сильно разнятся."
   ]
  },
  {
   "cell_type": "code",
   "execution_count": 6,
   "id": "2d9e0608",
   "metadata": {},
   "outputs": [],
   "source": [
    "days_employed_median = data['days_employed'].median()\n",
    "total_income_median = data['total_income'].median()\n",
    "\n",
    "data['days_employed'] = data['days_employed'].fillna(days_employed_median)\n",
    "data['total_income'] = data['total_income'].fillna(total_income_median)"
   ]
  },
  {
   "cell_type": "code",
   "execution_count": 7,
   "id": "815249d4",
   "metadata": {},
   "outputs": [
    {
     "name": "stdout",
     "output_type": "stream",
     "text": [
      "<class 'pandas.core.frame.DataFrame'>\n",
      "RangeIndex: 21525 entries, 0 to 21524\n",
      "Data columns (total 12 columns):\n",
      " #   Column            Non-Null Count  Dtype  \n",
      "---  ------            --------------  -----  \n",
      " 0   children          21525 non-null  int64  \n",
      " 1   days_employed     21525 non-null  float64\n",
      " 2   dob_years         21525 non-null  int64  \n",
      " 3   education         21525 non-null  object \n",
      " 4   education_id      21525 non-null  int64  \n",
      " 5   family_status     21525 non-null  object \n",
      " 6   family_status_id  21525 non-null  int64  \n",
      " 7   gender            21525 non-null  object \n",
      " 8   income_type       21525 non-null  object \n",
      " 9   debt              21525 non-null  int64  \n",
      " 10  total_income      21525 non-null  float64\n",
      " 11  purpose           21525 non-null  object \n",
      "dtypes: float64(2), int64(5), object(5)\n",
      "memory usage: 2.0+ MB\n"
     ]
    }
   ],
   "source": [
    "data.info()"
   ]
  },
  {
   "cell_type": "markdown",
   "id": "5636b45c",
   "metadata": {},
   "source": [
    "<div style=\"border:solid blue 1px; padding: 20px\"> \n",
    "Пропуски заполнены"
   ]
  },
  {
   "cell_type": "markdown",
   "id": "aea95a3a",
   "metadata": {},
   "source": [
    "### 2.2 Проверка данных на аномалии и исправления"
   ]
  },
  {
   "cell_type": "code",
   "execution_count": 8,
   "id": "5b24a296",
   "metadata": {},
   "outputs": [
    {
     "data": {
      "text/html": [
       "<div>\n",
       "<style scoped>\n",
       "    .dataframe tbody tr th:only-of-type {\n",
       "        vertical-align: middle;\n",
       "    }\n",
       "\n",
       "    .dataframe tbody tr th {\n",
       "        vertical-align: top;\n",
       "    }\n",
       "\n",
       "    .dataframe thead th {\n",
       "        text-align: right;\n",
       "    }\n",
       "</style>\n",
       "<table border=\"1\" class=\"dataframe\">\n",
       "  <thead>\n",
       "    <tr style=\"text-align: right;\">\n",
       "      <th></th>\n",
       "      <th>children</th>\n",
       "      <th>days_employed</th>\n",
       "      <th>dob_years</th>\n",
       "      <th>education</th>\n",
       "      <th>education_id</th>\n",
       "      <th>family_status</th>\n",
       "      <th>family_status_id</th>\n",
       "      <th>gender</th>\n",
       "      <th>income_type</th>\n",
       "      <th>debt</th>\n",
       "      <th>total_income</th>\n",
       "      <th>purpose</th>\n",
       "    </tr>\n",
       "  </thead>\n",
       "  <tbody>\n",
       "    <tr>\n",
       "      <th>0</th>\n",
       "      <td>1</td>\n",
       "      <td>-8437.673028</td>\n",
       "      <td>42</td>\n",
       "      <td>высшее</td>\n",
       "      <td>0</td>\n",
       "      <td>женат / замужем</td>\n",
       "      <td>0</td>\n",
       "      <td>F</td>\n",
       "      <td>сотрудник</td>\n",
       "      <td>0</td>\n",
       "      <td>253875.639453</td>\n",
       "      <td>покупка жилья</td>\n",
       "    </tr>\n",
       "    <tr>\n",
       "      <th>1</th>\n",
       "      <td>1</td>\n",
       "      <td>-4024.803754</td>\n",
       "      <td>36</td>\n",
       "      <td>среднее</td>\n",
       "      <td>1</td>\n",
       "      <td>женат / замужем</td>\n",
       "      <td>0</td>\n",
       "      <td>F</td>\n",
       "      <td>сотрудник</td>\n",
       "      <td>0</td>\n",
       "      <td>112080.014102</td>\n",
       "      <td>приобретение автомобиля</td>\n",
       "    </tr>\n",
       "    <tr>\n",
       "      <th>2</th>\n",
       "      <td>0</td>\n",
       "      <td>-5623.422610</td>\n",
       "      <td>33</td>\n",
       "      <td>Среднее</td>\n",
       "      <td>1</td>\n",
       "      <td>женат / замужем</td>\n",
       "      <td>0</td>\n",
       "      <td>M</td>\n",
       "      <td>сотрудник</td>\n",
       "      <td>0</td>\n",
       "      <td>145885.952297</td>\n",
       "      <td>покупка жилья</td>\n",
       "    </tr>\n",
       "    <tr>\n",
       "      <th>3</th>\n",
       "      <td>3</td>\n",
       "      <td>-4124.747207</td>\n",
       "      <td>32</td>\n",
       "      <td>среднее</td>\n",
       "      <td>1</td>\n",
       "      <td>женат / замужем</td>\n",
       "      <td>0</td>\n",
       "      <td>M</td>\n",
       "      <td>сотрудник</td>\n",
       "      <td>0</td>\n",
       "      <td>267628.550329</td>\n",
       "      <td>дополнительное образование</td>\n",
       "    </tr>\n",
       "    <tr>\n",
       "      <th>4</th>\n",
       "      <td>0</td>\n",
       "      <td>340266.072047</td>\n",
       "      <td>53</td>\n",
       "      <td>среднее</td>\n",
       "      <td>1</td>\n",
       "      <td>гражданский брак</td>\n",
       "      <td>1</td>\n",
       "      <td>F</td>\n",
       "      <td>пенсионер</td>\n",
       "      <td>0</td>\n",
       "      <td>158616.077870</td>\n",
       "      <td>сыграть свадьбу</td>\n",
       "    </tr>\n",
       "    <tr>\n",
       "      <th>5</th>\n",
       "      <td>0</td>\n",
       "      <td>-926.185831</td>\n",
       "      <td>27</td>\n",
       "      <td>высшее</td>\n",
       "      <td>0</td>\n",
       "      <td>гражданский брак</td>\n",
       "      <td>1</td>\n",
       "      <td>M</td>\n",
       "      <td>компаньон</td>\n",
       "      <td>0</td>\n",
       "      <td>255763.565419</td>\n",
       "      <td>покупка жилья</td>\n",
       "    </tr>\n",
       "    <tr>\n",
       "      <th>6</th>\n",
       "      <td>0</td>\n",
       "      <td>-2879.202052</td>\n",
       "      <td>43</td>\n",
       "      <td>высшее</td>\n",
       "      <td>0</td>\n",
       "      <td>женат / замужем</td>\n",
       "      <td>0</td>\n",
       "      <td>F</td>\n",
       "      <td>компаньон</td>\n",
       "      <td>0</td>\n",
       "      <td>240525.971920</td>\n",
       "      <td>операции с жильем</td>\n",
       "    </tr>\n",
       "    <tr>\n",
       "      <th>7</th>\n",
       "      <td>0</td>\n",
       "      <td>-152.779569</td>\n",
       "      <td>50</td>\n",
       "      <td>СРЕДНЕЕ</td>\n",
       "      <td>1</td>\n",
       "      <td>женат / замужем</td>\n",
       "      <td>0</td>\n",
       "      <td>M</td>\n",
       "      <td>сотрудник</td>\n",
       "      <td>0</td>\n",
       "      <td>135823.934197</td>\n",
       "      <td>образование</td>\n",
       "    </tr>\n",
       "    <tr>\n",
       "      <th>8</th>\n",
       "      <td>2</td>\n",
       "      <td>-6929.865299</td>\n",
       "      <td>35</td>\n",
       "      <td>ВЫСШЕЕ</td>\n",
       "      <td>0</td>\n",
       "      <td>гражданский брак</td>\n",
       "      <td>1</td>\n",
       "      <td>F</td>\n",
       "      <td>сотрудник</td>\n",
       "      <td>0</td>\n",
       "      <td>95856.832424</td>\n",
       "      <td>на проведение свадьбы</td>\n",
       "    </tr>\n",
       "    <tr>\n",
       "      <th>9</th>\n",
       "      <td>0</td>\n",
       "      <td>-2188.756445</td>\n",
       "      <td>41</td>\n",
       "      <td>среднее</td>\n",
       "      <td>1</td>\n",
       "      <td>женат / замужем</td>\n",
       "      <td>0</td>\n",
       "      <td>M</td>\n",
       "      <td>сотрудник</td>\n",
       "      <td>0</td>\n",
       "      <td>144425.938277</td>\n",
       "      <td>покупка жилья для семьи</td>\n",
       "    </tr>\n",
       "  </tbody>\n",
       "</table>\n",
       "</div>"
      ],
      "text/plain": [
       "   children  days_employed  dob_years education  education_id  \\\n",
       "0         1   -8437.673028         42    высшее             0   \n",
       "1         1   -4024.803754         36   среднее             1   \n",
       "2         0   -5623.422610         33   Среднее             1   \n",
       "3         3   -4124.747207         32   среднее             1   \n",
       "4         0  340266.072047         53   среднее             1   \n",
       "5         0    -926.185831         27    высшее             0   \n",
       "6         0   -2879.202052         43    высшее             0   \n",
       "7         0    -152.779569         50   СРЕДНЕЕ             1   \n",
       "8         2   -6929.865299         35    ВЫСШЕЕ             0   \n",
       "9         0   -2188.756445         41   среднее             1   \n",
       "\n",
       "      family_status  family_status_id gender income_type  debt   total_income  \\\n",
       "0   женат / замужем                 0      F   сотрудник     0  253875.639453   \n",
       "1   женат / замужем                 0      F   сотрудник     0  112080.014102   \n",
       "2   женат / замужем                 0      M   сотрудник     0  145885.952297   \n",
       "3   женат / замужем                 0      M   сотрудник     0  267628.550329   \n",
       "4  гражданский брак                 1      F   пенсионер     0  158616.077870   \n",
       "5  гражданский брак                 1      M   компаньон     0  255763.565419   \n",
       "6   женат / замужем                 0      F   компаньон     0  240525.971920   \n",
       "7   женат / замужем                 0      M   сотрудник     0  135823.934197   \n",
       "8  гражданский брак                 1      F   сотрудник     0   95856.832424   \n",
       "9   женат / замужем                 0      M   сотрудник     0  144425.938277   \n",
       "\n",
       "                      purpose  \n",
       "0               покупка жилья  \n",
       "1     приобретение автомобиля  \n",
       "2               покупка жилья  \n",
       "3  дополнительное образование  \n",
       "4             сыграть свадьбу  \n",
       "5               покупка жилья  \n",
       "6           операции с жильем  \n",
       "7                 образование  \n",
       "8       на проведение свадьбы  \n",
       "9     покупка жилья для семьи  "
      ]
     },
     "execution_count": 8,
     "metadata": {},
     "output_type": "execute_result"
    }
   ],
   "source": [
    "data.head(10)"
   ]
  },
  {
   "cell_type": "markdown",
   "id": "723e3e7d",
   "metadata": {},
   "source": [
    "<div style=\"border:solid blue 1px; padding: 20px\"> \n",
    "Проверим данные в колонках с категориальными переменными."
   ]
  },
  {
   "cell_type": "code",
   "execution_count": 9,
   "id": "7f432044",
   "metadata": {},
   "outputs": [
    {
     "data": {
      "text/plain": [
       "array([ 1,  0,  3,  2, -1,  4, 20,  5], dtype=int64)"
      ]
     },
     "execution_count": 9,
     "metadata": {},
     "output_type": "execute_result"
    }
   ],
   "source": [
    "data['children'].unique()"
   ]
  },
  {
   "cell_type": "markdown",
   "id": "8afe0fbd",
   "metadata": {},
   "source": [
    "<div style=\"border:solid blue 1px; padding: 20px\"> \n",
    "При записи данных о количесте детей также произошла ошибка: некоторые цифры отражены в отрицательном виде. Приведем их к значению по модулю."
   ]
  },
  {
   "cell_type": "code",
   "execution_count": 10,
   "id": "b56ba549",
   "metadata": {},
   "outputs": [
    {
     "data": {
      "text/plain": [
       "array([ 1,  0,  3,  2,  4, 20,  5], dtype=int64)"
      ]
     },
     "execution_count": 10,
     "metadata": {},
     "output_type": "execute_result"
    }
   ],
   "source": [
    "data['children'] = abs(data['children'])\n",
    "data['children'].unique()"
   ]
  },
  {
   "cell_type": "code",
   "execution_count": 11,
   "id": "c03e554e",
   "metadata": {},
   "outputs": [
    {
     "data": {
      "text/plain": [
       "array([0, 1, 2, 3, 4], dtype=int64)"
      ]
     },
     "execution_count": 11,
     "metadata": {},
     "output_type": "execute_result"
    }
   ],
   "source": [
    "data['education_id'].unique()"
   ]
  },
  {
   "cell_type": "code",
   "execution_count": 12,
   "id": "f4d38dfa",
   "metadata": {},
   "outputs": [
    {
     "data": {
      "text/plain": [
       "array(['женат / замужем', 'гражданский брак', 'вдовец / вдова',\n",
       "       'в разводе', 'Не женат / не замужем'], dtype=object)"
      ]
     },
     "execution_count": 12,
     "metadata": {},
     "output_type": "execute_result"
    }
   ],
   "source": [
    "data['family_status'].unique()"
   ]
  },
  {
   "cell_type": "code",
   "execution_count": 13,
   "id": "aea9d366",
   "metadata": {},
   "outputs": [
    {
     "data": {
      "text/plain": [
       "array([0, 1, 2, 3, 4], dtype=int64)"
      ]
     },
     "execution_count": 13,
     "metadata": {},
     "output_type": "execute_result"
    }
   ],
   "source": [
    "data['family_status_id'].unique()"
   ]
  },
  {
   "cell_type": "code",
   "execution_count": 14,
   "id": "c0c870d9",
   "metadata": {},
   "outputs": [
    {
     "data": {
      "text/html": [
       "<div>\n",
       "<style scoped>\n",
       "    .dataframe tbody tr th:only-of-type {\n",
       "        vertical-align: middle;\n",
       "    }\n",
       "\n",
       "    .dataframe tbody tr th {\n",
       "        vertical-align: top;\n",
       "    }\n",
       "\n",
       "    .dataframe thead th {\n",
       "        text-align: right;\n",
       "    }\n",
       "</style>\n",
       "<table border=\"1\" class=\"dataframe\">\n",
       "  <thead>\n",
       "    <tr style=\"text-align: right;\">\n",
       "      <th></th>\n",
       "      <th>children</th>\n",
       "      <th>days_employed</th>\n",
       "      <th>dob_years</th>\n",
       "      <th>education</th>\n",
       "      <th>education_id</th>\n",
       "      <th>family_status</th>\n",
       "      <th>family_status_id</th>\n",
       "      <th>gender</th>\n",
       "      <th>income_type</th>\n",
       "      <th>debt</th>\n",
       "      <th>total_income</th>\n",
       "      <th>purpose</th>\n",
       "    </tr>\n",
       "  </thead>\n",
       "  <tbody>\n",
       "    <tr>\n",
       "      <th>10701</th>\n",
       "      <td>0</td>\n",
       "      <td>-2358.600502</td>\n",
       "      <td>24</td>\n",
       "      <td>неоконченное высшее</td>\n",
       "      <td>2</td>\n",
       "      <td>гражданский брак</td>\n",
       "      <td>1</td>\n",
       "      <td>XNA</td>\n",
       "      <td>компаньон</td>\n",
       "      <td>0</td>\n",
       "      <td>203905.157261</td>\n",
       "      <td>покупка недвижимости</td>\n",
       "    </tr>\n",
       "  </tbody>\n",
       "</table>\n",
       "</div>"
      ],
      "text/plain": [
       "       children  days_employed  dob_years            education  education_id  \\\n",
       "10701         0   -2358.600502         24  неоконченное высшее             2   \n",
       "\n",
       "          family_status  family_status_id gender income_type  debt  \\\n",
       "10701  гражданский брак                 1    XNA   компаньон     0   \n",
       "\n",
       "        total_income               purpose  \n",
       "10701  203905.157261  покупка недвижимости  "
      ]
     },
     "execution_count": 14,
     "metadata": {},
     "output_type": "execute_result"
    }
   ],
   "source": [
    "data['gender'].unique()\n",
    "data[data['gender']=='XNA']"
   ]
  },
  {
   "cell_type": "markdown",
   "id": "3f0ee6d3",
   "metadata": {},
   "source": [
    "<div style=\"border:solid blue 1px; padding: 20px\"> \n",
    "Обнаружена 1 строка с пропущушенной информацией по полу клиента. По остальным столбцам информация есть. В данном исследовании пол клиента - не ключевая информация. Можем оставить эту строку."
   ]
  },
  {
   "cell_type": "code",
   "execution_count": 15,
   "id": "09818eaa",
   "metadata": {},
   "outputs": [
    {
     "data": {
      "text/plain": [
       "array([0, 1], dtype=int64)"
      ]
     },
     "execution_count": 15,
     "metadata": {},
     "output_type": "execute_result"
    }
   ],
   "source": [
    "data['debt'].unique()"
   ]
  },
  {
   "cell_type": "markdown",
   "id": "aae8af09",
   "metadata": {},
   "source": [
    "<div style=\"border:solid blue 1px; padding: 20px\"> \n",
    "Далее проверим колонки с количественными переменными.\n",
    "При записи данных о трудовом стаже произошла ошибка: некоторые цифры отражены в отрицательном виде. Приведем их к значению по модулю, а также округлим до целого числа."
   ]
  },
  {
   "cell_type": "code",
   "execution_count": 16,
   "id": "f57427f4",
   "metadata": {},
   "outputs": [],
   "source": [
    "data['days_employed'] = abs(data['days_employed']).astype(int)"
   ]
  },
  {
   "cell_type": "code",
   "execution_count": 17,
   "id": "cee58d0d",
   "metadata": {},
   "outputs": [
    {
     "data": {
      "text/plain": [
       "401755"
      ]
     },
     "execution_count": 17,
     "metadata": {},
     "output_type": "execute_result"
    }
   ],
   "source": [
    "data['days_employed'].max()"
   ]
  },
  {
   "cell_type": "markdown",
   "id": "3d3c47aa",
   "metadata": {},
   "source": [
    "<div style=\"border:solid blue 1px; padding: 20px\"> \n",
    "При записи данных о трудовом стаже есть еще ошибки. Максимальное значение в столбце - 401755 дней (или 1100 лет)."
   ]
  },
  {
   "cell_type": "code",
   "execution_count": 18,
   "id": "953f7ffb",
   "metadata": {},
   "outputs": [
    {
     "data": {
      "text/plain": [
       "6954     401755\n",
       "10006    401715\n",
       "7664     401675\n",
       "2156     401674\n",
       "7794     401663\n",
       "          ...  \n",
       "9328     328734\n",
       "20444    328728\n",
       "16335     18388\n",
       "4299      17615\n",
       "7329      16593\n",
       "Name: days_employed, Length: 3448, dtype: int32"
      ]
     },
     "execution_count": 18,
     "metadata": {},
     "output_type": "execute_result"
    }
   ],
   "source": [
    "data['days_employed'].sort_values(ascending=False).head(3448)"
   ]
  },
  {
   "cell_type": "code",
   "execution_count": 19,
   "id": "a0216b45",
   "metadata": {},
   "outputs": [
    {
     "data": {
      "text/plain": [
       "dob_years\n",
       "0      17\n",
       "22      1\n",
       "26      2\n",
       "27      3\n",
       "28      1\n",
       "31      1\n",
       "32      3\n",
       "33      2\n",
       "34      3\n",
       "35      1\n",
       "36      3\n",
       "37      5\n",
       "38      8\n",
       "39      4\n",
       "40      7\n",
       "41      6\n",
       "42      9\n",
       "43      9\n",
       "44     10\n",
       "45     11\n",
       "46     13\n",
       "47     13\n",
       "48     20\n",
       "49     30\n",
       "50     61\n",
       "51     73\n",
       "52     95\n",
       "53    105\n",
       "54    145\n",
       "55    162\n",
       "56    184\n",
       "57    212\n",
       "58    208\n",
       "59    254\n",
       "60    243\n",
       "61    214\n",
       "62    235\n",
       "63    192\n",
       "64    179\n",
       "65    136\n",
       "66    139\n",
       "67    132\n",
       "68     80\n",
       "69     74\n",
       "70     54\n",
       "71     48\n",
       "72     28\n",
       "73      6\n",
       "74      4\n",
       "Name: days_employed, dtype: int64"
      ]
     },
     "execution_count": 19,
     "metadata": {},
     "output_type": "execute_result"
    }
   ],
   "source": [
    "data[data['days_employed']>300000].groupby('dob_years')['days_employed'].count()"
   ]
  },
  {
   "cell_type": "markdown",
   "id": "c9bc2d1e",
   "metadata": {},
   "source": [
    "<div style=\"border:solid blue 1px; padding: 20px\"> \n",
    "Даже если предположить, что 401755 - это количество отработанных часов, то все равно 45 лет стажа выглядит нереально, учитывая, что в нашей выборке есть лица, не достигшие такого возраста.\n",
    "Заменим все значения больше 300000 медианным значением."
   ]
  },
  {
   "cell_type": "code",
   "execution_count": 20,
   "id": "e79433a2",
   "metadata": {},
   "outputs": [
    {
     "data": {
      "text/plain": [
       "16335    18388.0\n",
       "4299     17615.0\n",
       "7329     16593.0\n",
       "17838    16264.0\n",
       "16825    16119.0\n",
       "Name: days_employed, dtype: float64"
      ]
     },
     "execution_count": 20,
     "metadata": {},
     "output_type": "execute_result"
    }
   ],
   "source": [
    "def replace_wrong_values(wrong_values, correct_value):\n",
    "    for wrong_value in wrong_values:\n",
    "        data['days_employed'] = data['days_employed'].replace(wrong_value, correct_value)\n",
    "\n",
    "wrong_values = range(300000,402000)\n",
    "correct_value = days_employed_median\n",
    "replace_wrong_values(wrong_values, correct_value)\n",
    "data['days_employed'].sort_values(ascending=False).head()"
   ]
  },
  {
   "cell_type": "code",
   "execution_count": 21,
   "id": "b0b6a96e",
   "metadata": {},
   "outputs": [
    {
     "data": {
      "text/plain": [
       "array([42, 36, 33, 32, 53, 27, 43, 50, 35, 41, 40, 65, 54, 56, 26, 48, 24,\n",
       "       21, 57, 67, 28, 63, 62, 47, 34, 68, 25, 31, 30, 20, 49, 37, 45, 61,\n",
       "       64, 44, 52, 46, 23, 38, 39, 51,  0, 59, 29, 60, 55, 58, 71, 22, 73,\n",
       "       66, 69, 19, 72, 70, 74, 75], dtype=int64)"
      ]
     },
     "execution_count": 21,
     "metadata": {},
     "output_type": "execute_result"
    }
   ],
   "source": [
    "data['dob_years'].unique()"
   ]
  },
  {
   "cell_type": "markdown",
   "id": "b9e0d5ba",
   "metadata": {},
   "source": [
    "<div style=\"border:solid blue 1px; padding: 20px\"> \n",
    "В данных некоторых пользователей не указан возраст. Заменим нули медианным значением."
   ]
  },
  {
   "cell_type": "code",
   "execution_count": 22,
   "id": "347a2e9e",
   "metadata": {},
   "outputs": [
    {
     "data": {
      "text/plain": [
       "array([42, 36, 33, 32, 53, 27, 43, 50, 35, 41, 40, 65, 54, 56, 26, 48, 24,\n",
       "       21, 57, 67, 28, 63, 62, 47, 34, 68, 25, 31, 30, 20, 49, 37, 45, 61,\n",
       "       64, 44, 52, 46, 23, 38, 39, 51, 59, 29, 60, 55, 58, 71, 22, 73, 66,\n",
       "       69, 19, 72, 70, 74, 75], dtype=int64)"
      ]
     },
     "execution_count": 22,
     "metadata": {},
     "output_type": "execute_result"
    }
   ],
   "source": [
    "dob_years_median = data['dob_years'].median()\n",
    "data['dob_years'] = data['dob_years'].replace(0,dob_years_median)\n",
    "data['dob_years'].unique()"
   ]
  },
  {
   "cell_type": "markdown",
   "id": "5dea0bee",
   "metadata": {},
   "source": [
    "### 2.3 Изменение типов данных"
   ]
  },
  {
   "cell_type": "markdown",
   "id": "4c3f5c14",
   "metadata": {},
   "source": [
    "<div style=\"border:solid blue 1px; padding: 20px\"> \n",
    "Также округлим до целого числа значения в колонке total_income."
   ]
  },
  {
   "cell_type": "code",
   "execution_count": 23,
   "id": "3e1c503d",
   "metadata": {},
   "outputs": [],
   "source": [
    "data['total_income'] = data['total_income'].astype(int)"
   ]
  },
  {
   "cell_type": "code",
   "execution_count": 24,
   "id": "9d28ad09",
   "metadata": {},
   "outputs": [
    {
     "name": "stdout",
     "output_type": "stream",
     "text": [
      "<class 'pandas.core.frame.DataFrame'>\n",
      "RangeIndex: 21525 entries, 0 to 21524\n",
      "Data columns (total 12 columns):\n",
      " #   Column            Non-Null Count  Dtype  \n",
      "---  ------            --------------  -----  \n",
      " 0   children          21525 non-null  int64  \n",
      " 1   days_employed     21525 non-null  float64\n",
      " 2   dob_years         21525 non-null  int64  \n",
      " 3   education         21525 non-null  object \n",
      " 4   education_id      21525 non-null  int64  \n",
      " 5   family_status     21525 non-null  object \n",
      " 6   family_status_id  21525 non-null  int64  \n",
      " 7   gender            21525 non-null  object \n",
      " 8   income_type       21525 non-null  object \n",
      " 9   debt              21525 non-null  int64  \n",
      " 10  total_income      21525 non-null  int32  \n",
      " 11  purpose           21525 non-null  object \n",
      "dtypes: float64(1), int32(1), int64(5), object(5)\n",
      "memory usage: 1.9+ MB\n"
     ]
    }
   ],
   "source": [
    "data.info()"
   ]
  },
  {
   "cell_type": "markdown",
   "id": "8cf41147",
   "metadata": {},
   "source": [
    "### 2.4 Удаление дубликатов"
   ]
  },
  {
   "cell_type": "markdown",
   "id": "4cf8efc1",
   "metadata": {},
   "source": [
    "<div style=\"border:solid blue 1px; padding: 20px\"> \n",
    "Проверим данные на неявные дубликаты."
   ]
  },
  {
   "cell_type": "code",
   "execution_count": 25,
   "id": "c1f6512c",
   "metadata": {},
   "outputs": [
    {
     "data": {
      "text/plain": [
       "array(['высшее', 'среднее', 'Среднее', 'СРЕДНЕЕ', 'ВЫСШЕЕ',\n",
       "       'неоконченное высшее', 'начальное', 'Высшее',\n",
       "       'НЕОКОНЧЕННОЕ ВЫСШЕЕ', 'Неоконченное высшее', 'НАЧАЛЬНОЕ',\n",
       "       'Начальное', 'Ученая степень', 'УЧЕНАЯ СТЕПЕНЬ', 'ученая степень'],\n",
       "      dtype=object)"
      ]
     },
     "execution_count": 25,
     "metadata": {},
     "output_type": "execute_result"
    }
   ],
   "source": [
    "data['education'].unique()"
   ]
  },
  {
   "cell_type": "code",
   "execution_count": 26,
   "id": "e1021938",
   "metadata": {},
   "outputs": [],
   "source": [
    "data['education'] = data['education'].str.lower()"
   ]
  },
  {
   "cell_type": "code",
   "execution_count": 27,
   "id": "f4163927",
   "metadata": {},
   "outputs": [
    {
     "data": {
      "text/plain": [
       "array(['высшее', 'среднее', 'неоконченное высшее', 'начальное',\n",
       "       'ученая степень'], dtype=object)"
      ]
     },
     "execution_count": 27,
     "metadata": {},
     "output_type": "execute_result"
    }
   ],
   "source": [
    "data['education'].unique()"
   ]
  },
  {
   "cell_type": "code",
   "execution_count": 28,
   "id": "ff64bdf4",
   "metadata": {},
   "outputs": [
    {
     "data": {
      "text/plain": [
       "array(['женат / замужем', 'гражданский брак', 'вдовец / вдова',\n",
       "       'в разводе', 'Не женат / не замужем'], dtype=object)"
      ]
     },
     "execution_count": 28,
     "metadata": {},
     "output_type": "execute_result"
    }
   ],
   "source": [
    "data['family_status'].unique()"
   ]
  },
  {
   "cell_type": "code",
   "execution_count": 29,
   "id": "5f0eb5af",
   "metadata": {},
   "outputs": [
    {
     "data": {
      "text/plain": [
       "array(['покупка жилья', 'приобретение автомобиля',\n",
       "       'дополнительное образование', 'сыграть свадьбу',\n",
       "       'операции с жильем', 'образование', 'на проведение свадьбы',\n",
       "       'покупка жилья для семьи', 'покупка недвижимости',\n",
       "       'покупка коммерческой недвижимости', 'покупка жилой недвижимости',\n",
       "       'строительство собственной недвижимости', 'недвижимость',\n",
       "       'строительство недвижимости', 'на покупку подержанного автомобиля',\n",
       "       'на покупку своего автомобиля',\n",
       "       'операции с коммерческой недвижимостью',\n",
       "       'строительство жилой недвижимости', 'жилье',\n",
       "       'операции со своей недвижимостью', 'автомобили',\n",
       "       'заняться образованием', 'сделка с подержанным автомобилем',\n",
       "       'получение образования', 'автомобиль', 'свадьба',\n",
       "       'получение дополнительного образования', 'покупка своего жилья',\n",
       "       'операции с недвижимостью', 'получение высшего образования',\n",
       "       'свой автомобиль', 'сделка с автомобилем',\n",
       "       'профильное образование', 'высшее образование',\n",
       "       'покупка жилья для сдачи', 'на покупку автомобиля', 'ремонт жилью',\n",
       "       'заняться высшим образованием'], dtype=object)"
      ]
     },
     "execution_count": 29,
     "metadata": {},
     "output_type": "execute_result"
    }
   ],
   "source": [
    "data['purpose'].unique()"
   ]
  },
  {
   "cell_type": "markdown",
   "id": "2eaa12d9",
   "metadata": {},
   "source": [
    "<div style=\"border:solid blue 1px; padding: 20px\"> \n",
    "Неявные дубликаты в столбце education удалены. В столбце purpose очень много похожих значений. Далее сгрупируем их в несколько укрупненных категорий."
   ]
  },
  {
   "cell_type": "markdown",
   "id": "335fe02c",
   "metadata": {},
   "source": [
    "<div style=\"border:solid blue 1px; padding: 20px\"> \n",
    "Проверим данные на явные дубликаты."
   ]
  },
  {
   "cell_type": "code",
   "execution_count": 30,
   "id": "e4081935",
   "metadata": {},
   "outputs": [
    {
     "data": {
      "text/plain": [
       "72"
      ]
     },
     "execution_count": 30,
     "metadata": {},
     "output_type": "execute_result"
    }
   ],
   "source": [
    "data.duplicated().sum()"
   ]
  },
  {
   "cell_type": "markdown",
   "id": "29f9b465",
   "metadata": {},
   "source": [
    "<div style=\"border:solid blue 1px; padding: 20px\"> \n",
    "Всего в данных 72 явных дубликата"
   ]
  },
  {
   "cell_type": "code",
   "execution_count": 31,
   "id": "0d9a6cc3",
   "metadata": {},
   "outputs": [],
   "source": [
    "data = data.drop_duplicates().reset_index(drop=True)"
   ]
  },
  {
   "cell_type": "code",
   "execution_count": 32,
   "id": "82435859",
   "metadata": {},
   "outputs": [
    {
     "data": {
      "text/plain": [
       "0"
      ]
     },
     "execution_count": 32,
     "metadata": {},
     "output_type": "execute_result"
    }
   ],
   "source": [
    "data.duplicated().sum()"
   ]
  },
  {
   "cell_type": "markdown",
   "id": "9d83ed8a",
   "metadata": {},
   "source": [
    "### 2.5 Формирование дополнительных датафреймов словарей, декомпозиция исходного датафрейма"
   ]
  },
  {
   "cell_type": "code",
   "execution_count": 33,
   "id": "d9f4dbbc",
   "metadata": {},
   "outputs": [],
   "source": [
    "education_dict = data[['education_id', 'education']]\n",
    "family_status_dict = data[['family_status_id', 'family_status']]"
   ]
  },
  {
   "cell_type": "markdown",
   "id": "004a0f9e",
   "metadata": {},
   "source": [
    "<div style=\"border:solid blue 1px; padding: 20px\"> \n",
    "Удалим дубликаты"
   ]
  },
  {
   "cell_type": "code",
   "execution_count": 34,
   "id": "565da7c1",
   "metadata": {},
   "outputs": [],
   "source": [
    "education_dict = education_dict.drop_duplicates().reset_index(drop=True)\n",
    "family_status_dict = family_status_dict.drop_duplicates().reset_index(drop=True)"
   ]
  },
  {
   "cell_type": "code",
   "execution_count": 35,
   "id": "babe3a3d",
   "metadata": {},
   "outputs": [
    {
     "name": "stderr",
     "output_type": "stream",
     "text": [
      "C:\\Users\\0E3B~1\\AppData\\Local\\Temp/ipykernel_18416/434605108.py:1: FutureWarning: In a future version of pandas all arguments of DataFrame.drop except for the argument 'labels' will be keyword-only\n",
      "  data = data.drop('education', 1)\n",
      "C:\\Users\\0E3B~1\\AppData\\Local\\Temp/ipykernel_18416/434605108.py:2: FutureWarning: In a future version of pandas all arguments of DataFrame.drop except for the argument 'labels' will be keyword-only\n",
      "  data = data.drop('family_status', 1)\n"
     ]
    }
   ],
   "source": [
    "data = data.drop('education', 1)\n",
    "data = data.drop('family_status', 1)"
   ]
  },
  {
   "cell_type": "markdown",
   "id": "8a2ab90d",
   "metadata": {},
   "source": [
    "### 2.6 Категоризация дохода"
   ]
  },
  {
   "cell_type": "markdown",
   "id": "a4855c7d",
   "metadata": {},
   "source": [
    "<div style=\"border:solid blue 1px; padding: 20px\"> \n",
    "Создадим категории по доходам клиентов"
   ]
  },
  {
   "cell_type": "code",
   "execution_count": 36,
   "id": "57ff194f",
   "metadata": {},
   "outputs": [],
   "source": [
    "def income_category (row):\n",
    "    income = row['total_income']\n",
    "    if income < 30001:\n",
    "        return 'E'\n",
    "    if income < 50001:\n",
    "        return 'D'\n",
    "    if income < 200001:\n",
    "        return 'C'\n",
    "    if income < 1000001:\n",
    "        return 'B'\n",
    "    else:\n",
    "        return 'A'\n",
    "data['total_income_category'] = data.apply(income_category, axis=1)"
   ]
  },
  {
   "cell_type": "code",
   "execution_count": 37,
   "id": "1015185c",
   "metadata": {},
   "outputs": [
    {
     "data": {
      "text/plain": [
       "C    16015\n",
       "B     5041\n",
       "D      350\n",
       "A       25\n",
       "E       22\n",
       "Name: total_income_category, dtype: int64"
      ]
     },
     "execution_count": 37,
     "metadata": {},
     "output_type": "execute_result"
    }
   ],
   "source": [
    "data['total_income_category'].value_counts()"
   ]
  },
  {
   "cell_type": "markdown",
   "id": "a647bd6d",
   "metadata": {},
   "source": [
    "### 2.7 Категоризация целей кредита"
   ]
  },
  {
   "cell_type": "markdown",
   "id": "cf6667b5",
   "metadata": {},
   "source": [
    "<div style=\"border:solid blue 1px; padding: 20px\"> \n",
    "Создадим категории по целям кредита"
   ]
  },
  {
   "cell_type": "code",
   "execution_count": 38,
   "id": "708e7f98",
   "metadata": {},
   "outputs": [],
   "source": [
    "def purpose_category (row):\n",
    "    purpose = row['purpose']\n",
    "    if 'свадьб' in purpose:\n",
    "        return 'проведение свадьбы'\n",
    "    if 'автомоб' in purpose:\n",
    "        return 'операции с автомобилем'\n",
    "    if 'образ' in purpose:\n",
    "        return 'получение образования'\n",
    "    if 'жиль' or 'недвиж' in purpose:\n",
    "        return 'операции с недвижимостью'\n",
    "    else:\n",
    "        return 'другое'\n",
    "data['purpose_category'] = data.apply(purpose_category, axis=1)      "
   ]
  },
  {
   "cell_type": "code",
   "execution_count": 39,
   "id": "6b0af2f3",
   "metadata": {},
   "outputs": [],
   "source": [
    "def purpose_category_2 (row):\n",
    "    purpose = row['children']\n",
    "    if purpose == 0:\n",
    "        return '0'\n",
    "    if purpose < 3:\n",
    "        return '1-2'\n",
    "    else:\n",
    "        return '3+'\n",
    "data['purpose_category_2'] = data.apply(purpose_category_2, axis=1)  "
   ]
  },
  {
   "cell_type": "code",
   "execution_count": 40,
   "id": "8525a706",
   "metadata": {},
   "outputs": [
    {
     "data": {
      "text/html": [
       "<div>\n",
       "<style scoped>\n",
       "    .dataframe tbody tr th:only-of-type {\n",
       "        vertical-align: middle;\n",
       "    }\n",
       "\n",
       "    .dataframe tbody tr th {\n",
       "        vertical-align: top;\n",
       "    }\n",
       "\n",
       "    .dataframe thead th {\n",
       "        text-align: right;\n",
       "    }\n",
       "</style>\n",
       "<table border=\"1\" class=\"dataframe\">\n",
       "  <thead>\n",
       "    <tr style=\"text-align: right;\">\n",
       "      <th></th>\n",
       "      <th>children</th>\n",
       "      <th>days_employed</th>\n",
       "      <th>dob_years</th>\n",
       "      <th>education_id</th>\n",
       "      <th>family_status_id</th>\n",
       "      <th>gender</th>\n",
       "      <th>income_type</th>\n",
       "      <th>debt</th>\n",
       "      <th>total_income</th>\n",
       "      <th>purpose</th>\n",
       "      <th>total_income_category</th>\n",
       "      <th>purpose_category</th>\n",
       "      <th>purpose_category_2</th>\n",
       "    </tr>\n",
       "  </thead>\n",
       "  <tbody>\n",
       "    <tr>\n",
       "      <th>0</th>\n",
       "      <td>1</td>\n",
       "      <td>8437.000000</td>\n",
       "      <td>42</td>\n",
       "      <td>0</td>\n",
       "      <td>0</td>\n",
       "      <td>F</td>\n",
       "      <td>сотрудник</td>\n",
       "      <td>0</td>\n",
       "      <td>253875</td>\n",
       "      <td>покупка жилья</td>\n",
       "      <td>B</td>\n",
       "      <td>операции с недвижимостью</td>\n",
       "      <td>1-2</td>\n",
       "    </tr>\n",
       "    <tr>\n",
       "      <th>1</th>\n",
       "      <td>1</td>\n",
       "      <td>4024.000000</td>\n",
       "      <td>36</td>\n",
       "      <td>1</td>\n",
       "      <td>0</td>\n",
       "      <td>F</td>\n",
       "      <td>сотрудник</td>\n",
       "      <td>0</td>\n",
       "      <td>112080</td>\n",
       "      <td>приобретение автомобиля</td>\n",
       "      <td>C</td>\n",
       "      <td>операции с автомобилем</td>\n",
       "      <td>1-2</td>\n",
       "    </tr>\n",
       "    <tr>\n",
       "      <th>2</th>\n",
       "      <td>0</td>\n",
       "      <td>5623.000000</td>\n",
       "      <td>33</td>\n",
       "      <td>1</td>\n",
       "      <td>0</td>\n",
       "      <td>M</td>\n",
       "      <td>сотрудник</td>\n",
       "      <td>0</td>\n",
       "      <td>145885</td>\n",
       "      <td>покупка жилья</td>\n",
       "      <td>C</td>\n",
       "      <td>операции с недвижимостью</td>\n",
       "      <td>0</td>\n",
       "    </tr>\n",
       "    <tr>\n",
       "      <th>3</th>\n",
       "      <td>3</td>\n",
       "      <td>4124.000000</td>\n",
       "      <td>32</td>\n",
       "      <td>1</td>\n",
       "      <td>0</td>\n",
       "      <td>M</td>\n",
       "      <td>сотрудник</td>\n",
       "      <td>0</td>\n",
       "      <td>267628</td>\n",
       "      <td>дополнительное образование</td>\n",
       "      <td>B</td>\n",
       "      <td>получение образования</td>\n",
       "      <td>3+</td>\n",
       "    </tr>\n",
       "    <tr>\n",
       "      <th>4</th>\n",
       "      <td>0</td>\n",
       "      <td>-1203.369529</td>\n",
       "      <td>53</td>\n",
       "      <td>1</td>\n",
       "      <td>1</td>\n",
       "      <td>F</td>\n",
       "      <td>пенсионер</td>\n",
       "      <td>0</td>\n",
       "      <td>158616</td>\n",
       "      <td>сыграть свадьбу</td>\n",
       "      <td>C</td>\n",
       "      <td>проведение свадьбы</td>\n",
       "      <td>0</td>\n",
       "    </tr>\n",
       "  </tbody>\n",
       "</table>\n",
       "</div>"
      ],
      "text/plain": [
       "   children  days_employed  dob_years  education_id  family_status_id gender  \\\n",
       "0         1    8437.000000         42             0                 0      F   \n",
       "1         1    4024.000000         36             1                 0      F   \n",
       "2         0    5623.000000         33             1                 0      M   \n",
       "3         3    4124.000000         32             1                 0      M   \n",
       "4         0   -1203.369529         53             1                 1      F   \n",
       "\n",
       "  income_type  debt  total_income                     purpose  \\\n",
       "0   сотрудник     0        253875               покупка жилья   \n",
       "1   сотрудник     0        112080     приобретение автомобиля   \n",
       "2   сотрудник     0        145885               покупка жилья   \n",
       "3   сотрудник     0        267628  дополнительное образование   \n",
       "4   пенсионер     0        158616             сыграть свадьбу   \n",
       "\n",
       "  total_income_category          purpose_category purpose_category_2  \n",
       "0                     B  операции с недвижимостью                1-2  \n",
       "1                     C    операции с автомобилем                1-2  \n",
       "2                     C  операции с недвижимостью                  0  \n",
       "3                     B     получение образования                 3+  \n",
       "4                     C        проведение свадьбы                  0  "
      ]
     },
     "execution_count": 40,
     "metadata": {},
     "output_type": "execute_result"
    }
   ],
   "source": [
    "data.head(5)"
   ]
  },
  {
   "cell_type": "markdown",
   "id": "251a7b57",
   "metadata": {},
   "source": [
    "## 3. Ответы на вопросы"
   ]
  },
  {
   "cell_type": "markdown",
   "id": "a9603a2c",
   "metadata": {},
   "source": [
    "### Вопрос 1: Есть ли зависимость между количеством детей и возвратом кредита в срок?"
   ]
  },
  {
   "cell_type": "code",
   "execution_count": 41,
   "id": "2f605d08",
   "metadata": {},
   "outputs": [
    {
     "data": {
      "text/html": [
       "<div>\n",
       "<style scoped>\n",
       "    .dataframe tbody tr th:only-of-type {\n",
       "        vertical-align: middle;\n",
       "    }\n",
       "\n",
       "    .dataframe tbody tr th {\n",
       "        vertical-align: top;\n",
       "    }\n",
       "\n",
       "    .dataframe thead th {\n",
       "        text-align: right;\n",
       "    }\n",
       "</style>\n",
       "<table border=\"1\" class=\"dataframe\">\n",
       "  <thead>\n",
       "    <tr style=\"text-align: right;\">\n",
       "      <th></th>\n",
       "      <th>debt</th>\n",
       "    </tr>\n",
       "    <tr>\n",
       "      <th>purpose_category_2</th>\n",
       "      <th></th>\n",
       "    </tr>\n",
       "  </thead>\n",
       "  <tbody>\n",
       "    <tr>\n",
       "      <th>0</th>\n",
       "      <td>0.075</td>\n",
       "    </tr>\n",
       "    <tr>\n",
       "      <th>1-2</th>\n",
       "      <td>0.093</td>\n",
       "    </tr>\n",
       "    <tr>\n",
       "      <th>3+</th>\n",
       "      <td>0.086</td>\n",
       "    </tr>\n",
       "  </tbody>\n",
       "</table>\n",
       "</div>"
      ],
      "text/plain": [
       "                     debt\n",
       "purpose_category_2       \n",
       "0                   0.075\n",
       "1-2                 0.093\n",
       "3+                  0.086"
      ]
     },
     "execution_count": 41,
     "metadata": {},
     "output_type": "execute_result"
    }
   ],
   "source": [
    "round(data.pivot_table(index='purpose_category_2', values='debt', aggfunc='mean'),3)"
   ]
  },
  {
   "cell_type": "markdown",
   "id": "8a6a1a56",
   "metadata": {},
   "source": [
    "### Вывод 1:\n",
    "Доли по всем категориям примерно одинаковые. Около 90% клиентов не имели проблем с возвратом кредита.\n",
    "Быстрее выплачивают кредиты семьи без детей (у 92,5% не было задолженностей). Хуже всего возвращают кредиты с 1-2 детьми(9,3% имели задолженность по кредиту)."
   ]
  },
  {
   "cell_type": "markdown",
   "id": "09ad91bc",
   "metadata": {},
   "source": [
    "### Вопрос 2: Есть ли зависимость между семейным положением и возвратом кредита в срок?"
   ]
  },
  {
   "cell_type": "code",
   "execution_count": 42,
   "id": "4e670bef",
   "metadata": {},
   "outputs": [
    {
     "data": {
      "text/html": [
       "<div>\n",
       "<style scoped>\n",
       "    .dataframe tbody tr th:only-of-type {\n",
       "        vertical-align: middle;\n",
       "    }\n",
       "\n",
       "    .dataframe tbody tr th {\n",
       "        vertical-align: top;\n",
       "    }\n",
       "\n",
       "    .dataframe thead th {\n",
       "        text-align: right;\n",
       "    }\n",
       "</style>\n",
       "<table border=\"1\" class=\"dataframe\">\n",
       "  <thead>\n",
       "    <tr style=\"text-align: right;\">\n",
       "      <th></th>\n",
       "      <th>debt</th>\n",
       "    </tr>\n",
       "    <tr>\n",
       "      <th>family_status_id</th>\n",
       "      <th></th>\n",
       "    </tr>\n",
       "  </thead>\n",
       "  <tbody>\n",
       "    <tr>\n",
       "      <th>0</th>\n",
       "      <td>0.075</td>\n",
       "    </tr>\n",
       "    <tr>\n",
       "      <th>1</th>\n",
       "      <td>0.093</td>\n",
       "    </tr>\n",
       "    <tr>\n",
       "      <th>2</th>\n",
       "      <td>0.066</td>\n",
       "    </tr>\n",
       "    <tr>\n",
       "      <th>3</th>\n",
       "      <td>0.071</td>\n",
       "    </tr>\n",
       "    <tr>\n",
       "      <th>4</th>\n",
       "      <td>0.098</td>\n",
       "    </tr>\n",
       "  </tbody>\n",
       "</table>\n",
       "</div>"
      ],
      "text/plain": [
       "                   debt\n",
       "family_status_id       \n",
       "0                 0.075\n",
       "1                 0.093\n",
       "2                 0.066\n",
       "3                 0.071\n",
       "4                 0.098"
      ]
     },
     "execution_count": 42,
     "metadata": {},
     "output_type": "execute_result"
    }
   ],
   "source": [
    "round(data.pivot_table(index='family_status_id', values='debt', aggfunc='mean'),3)"
   ]
  },
  {
   "cell_type": "code",
   "execution_count": 43,
   "id": "8e059242",
   "metadata": {},
   "outputs": [
    {
     "data": {
      "text/html": [
       "<div>\n",
       "<style scoped>\n",
       "    .dataframe tbody tr th:only-of-type {\n",
       "        vertical-align: middle;\n",
       "    }\n",
       "\n",
       "    .dataframe tbody tr th {\n",
       "        vertical-align: top;\n",
       "    }\n",
       "\n",
       "    .dataframe thead th {\n",
       "        text-align: right;\n",
       "    }\n",
       "</style>\n",
       "<table border=\"1\" class=\"dataframe\">\n",
       "  <thead>\n",
       "    <tr style=\"text-align: right;\">\n",
       "      <th></th>\n",
       "      <th>family_status_id</th>\n",
       "      <th>family_status</th>\n",
       "    </tr>\n",
       "  </thead>\n",
       "  <tbody>\n",
       "    <tr>\n",
       "      <th>0</th>\n",
       "      <td>0</td>\n",
       "      <td>женат / замужем</td>\n",
       "    </tr>\n",
       "    <tr>\n",
       "      <th>1</th>\n",
       "      <td>1</td>\n",
       "      <td>гражданский брак</td>\n",
       "    </tr>\n",
       "    <tr>\n",
       "      <th>2</th>\n",
       "      <td>2</td>\n",
       "      <td>вдовец / вдова</td>\n",
       "    </tr>\n",
       "    <tr>\n",
       "      <th>3</th>\n",
       "      <td>3</td>\n",
       "      <td>в разводе</td>\n",
       "    </tr>\n",
       "    <tr>\n",
       "      <th>4</th>\n",
       "      <td>4</td>\n",
       "      <td>Не женат / не замужем</td>\n",
       "    </tr>\n",
       "  </tbody>\n",
       "</table>\n",
       "</div>"
      ],
      "text/plain": [
       "   family_status_id          family_status\n",
       "0                 0        женат / замужем\n",
       "1                 1       гражданский брак\n",
       "2                 2         вдовец / вдова\n",
       "3                 3              в разводе\n",
       "4                 4  Не женат / не замужем"
      ]
     },
     "execution_count": 43,
     "metadata": {},
     "output_type": "execute_result"
    }
   ],
   "source": [
    "family_status_dict"
   ]
  },
  {
   "cell_type": "markdown",
   "id": "a8a70ebe",
   "metadata": {},
   "source": [
    "### Вывод 2:"
   ]
  },
  {
   "cell_type": "markdown",
   "id": "c5e61c7a",
   "metadata": {},
   "source": [
    "Доли по всем категориям примерно одинаковые. Около 90% клиентов не имели проблем с возвратом кредита.\n",
    "Тем не менее лучше остальных выплачивают кредиты вдовцы/вдовы (6,6% имели задолженность), а хуже всех не женатые/не замужние и лица в гражданском браке (9,8% и 9,3% соответственно имели задолженность)."
   ]
  },
  {
   "cell_type": "markdown",
   "id": "db05f815",
   "metadata": {},
   "source": [
    "### Вопрос 3: Есть ли зависимость между уровнем дохода и возвратом кредита в срок?"
   ]
  },
  {
   "cell_type": "code",
   "execution_count": 44,
   "id": "015e7e5b",
   "metadata": {},
   "outputs": [
    {
     "data": {
      "text/html": [
       "<div>\n",
       "<style scoped>\n",
       "    .dataframe tbody tr th:only-of-type {\n",
       "        vertical-align: middle;\n",
       "    }\n",
       "\n",
       "    .dataframe tbody tr th {\n",
       "        vertical-align: top;\n",
       "    }\n",
       "\n",
       "    .dataframe thead th {\n",
       "        text-align: right;\n",
       "    }\n",
       "</style>\n",
       "<table border=\"1\" class=\"dataframe\">\n",
       "  <thead>\n",
       "    <tr style=\"text-align: right;\">\n",
       "      <th></th>\n",
       "      <th>debt</th>\n",
       "    </tr>\n",
       "    <tr>\n",
       "      <th>total_income_category</th>\n",
       "      <th></th>\n",
       "    </tr>\n",
       "  </thead>\n",
       "  <tbody>\n",
       "    <tr>\n",
       "      <th>A</th>\n",
       "      <td>0.080</td>\n",
       "    </tr>\n",
       "    <tr>\n",
       "      <th>B</th>\n",
       "      <td>0.071</td>\n",
       "    </tr>\n",
       "    <tr>\n",
       "      <th>C</th>\n",
       "      <td>0.085</td>\n",
       "    </tr>\n",
       "    <tr>\n",
       "      <th>D</th>\n",
       "      <td>0.060</td>\n",
       "    </tr>\n",
       "    <tr>\n",
       "      <th>E</th>\n",
       "      <td>0.091</td>\n",
       "    </tr>\n",
       "  </tbody>\n",
       "</table>\n",
       "</div>"
      ],
      "text/plain": [
       "                        debt\n",
       "total_income_category       \n",
       "A                      0.080\n",
       "B                      0.071\n",
       "C                      0.085\n",
       "D                      0.060\n",
       "E                      0.091"
      ]
     },
     "execution_count": 44,
     "metadata": {},
     "output_type": "execute_result"
    }
   ],
   "source": [
    "round(data.pivot_table(index='total_income_category', values='debt', aggfunc='mean'),3)"
   ]
  },
  {
   "cell_type": "markdown",
   "id": "e93e98c9",
   "metadata": {},
   "source": [
    "### Вывод 3:\n",
    "Доли по всем категориям примерно одинаковые. Около 90% клиентов не имели проблем с возвратом кредита.\n",
    "Лучше всего возвращают кредиты клиенты с доходом категории D (30001–50000 руб.), только у 6% была задолженность по выплате кредита. Хуже всего лица с самым маленьким доходом (категория E, до 30000 руб.), 9,1% имели проблемы с выплатой кредита."
   ]
  },
  {
   "cell_type": "markdown",
   "id": "e41613dc",
   "metadata": {},
   "source": [
    "### Вопрос 4: Как разные цели кредита влияют на его возврат в срок?"
   ]
  },
  {
   "cell_type": "code",
   "execution_count": 45,
   "id": "5676527e",
   "metadata": {},
   "outputs": [
    {
     "data": {
      "text/html": [
       "<div>\n",
       "<style scoped>\n",
       "    .dataframe tbody tr th:only-of-type {\n",
       "        vertical-align: middle;\n",
       "    }\n",
       "\n",
       "    .dataframe tbody tr th {\n",
       "        vertical-align: top;\n",
       "    }\n",
       "\n",
       "    .dataframe thead th {\n",
       "        text-align: right;\n",
       "    }\n",
       "</style>\n",
       "<table border=\"1\" class=\"dataframe\">\n",
       "  <thead>\n",
       "    <tr style=\"text-align: right;\">\n",
       "      <th></th>\n",
       "      <th>debt</th>\n",
       "    </tr>\n",
       "    <tr>\n",
       "      <th>purpose_category</th>\n",
       "      <th></th>\n",
       "    </tr>\n",
       "  </thead>\n",
       "  <tbody>\n",
       "    <tr>\n",
       "      <th>операции с автомобилем</th>\n",
       "      <td>0.094</td>\n",
       "    </tr>\n",
       "    <tr>\n",
       "      <th>операции с недвижимостью</th>\n",
       "      <td>0.072</td>\n",
       "    </tr>\n",
       "    <tr>\n",
       "      <th>получение образования</th>\n",
       "      <td>0.092</td>\n",
       "    </tr>\n",
       "    <tr>\n",
       "      <th>проведение свадьбы</th>\n",
       "      <td>0.080</td>\n",
       "    </tr>\n",
       "  </tbody>\n",
       "</table>\n",
       "</div>"
      ],
      "text/plain": [
       "                           debt\n",
       "purpose_category               \n",
       "операции с автомобилем    0.094\n",
       "операции с недвижимостью  0.072\n",
       "получение образования     0.092\n",
       "проведение свадьбы        0.080"
      ]
     },
     "execution_count": 45,
     "metadata": {},
     "output_type": "execute_result"
    }
   ],
   "source": [
    "round(data.pivot_table(index='purpose_category', values='debt', aggfunc='mean'),3)"
   ]
  },
  {
   "cell_type": "markdown",
   "id": "eb578f78",
   "metadata": {},
   "source": [
    "### Вывод 4:\n",
    "Доли по всем категориям примерно одинаковые. Около 90% клиентов не имели проблем с возвратом кредита.\n",
    "Лучше всего возвращались кредиты по операциям с недвижимостью и на проведение свадьбы (задолженность была только у 7,2% и 8% соответственно). Кредиты на операции с автомобилем и получение образования выплачивались чуть хуже, ~9% была выплачены с задержкой."
   ]
  },
  {
   "cell_type": "markdown",
   "id": "db26d006",
   "metadata": {},
   "source": [
    "## Общий вывод:"
   ]
  },
  {
   "cell_type": "markdown",
   "id": "aa3a84cc",
   "metadata": {},
   "source": [
    "<div style=\"border:solid blue 1px; padding: 20px\"> \n",
    "В целом можно сделать вывод, что большинство клиентов банка исправно выплачивают кредиты (порядка 90% клиентов не имели проблем с выплатой задолженности). Есть небольшие отклонения по категориям дохода, целям кредита, семейному положению и наличию детей. Но эти факторы не оказывают сильного влияния на факт выплаты."
   ]
  },
  {
   "cell_type": "code",
   "execution_count": null,
   "id": "30aded2d",
   "metadata": {},
   "outputs": [],
   "source": []
  }
 ],
 "metadata": {
  "ExecuteTimeLog": [
   {
    "duration": 614,
    "start_time": "2022-02-14T17:28:41.271Z"
   },
   {
    "duration": 51,
    "start_time": "2022-02-14T17:29:19.514Z"
   },
   {
    "duration": 50,
    "start_time": "2022-02-14T17:29:41.686Z"
   },
   {
    "duration": 52,
    "start_time": "2022-02-14T17:29:52.320Z"
   },
   {
    "duration": 48,
    "start_time": "2022-02-14T17:29:58.373Z"
   },
   {
    "duration": 9,
    "start_time": "2022-02-14T17:31:55.921Z"
   },
   {
    "duration": 7,
    "start_time": "2022-02-14T17:36:19.808Z"
   },
   {
    "duration": 3,
    "start_time": "2022-02-14T17:39:27.559Z"
   },
   {
    "duration": 6,
    "start_time": "2022-02-14T17:40:25.243Z"
   },
   {
    "duration": 5,
    "start_time": "2022-02-14T17:41:20.968Z"
   },
   {
    "duration": 13,
    "start_time": "2022-02-14T17:41:30.942Z"
   },
   {
    "duration": 9,
    "start_time": "2022-02-14T17:45:12.591Z"
   },
   {
    "duration": 8,
    "start_time": "2022-02-14T17:45:32.716Z"
   },
   {
    "duration": 226,
    "start_time": "2022-02-14T17:47:28.007Z"
   },
   {
    "duration": 9,
    "start_time": "2022-02-14T17:47:39.083Z"
   },
   {
    "duration": 9,
    "start_time": "2022-02-14T17:47:48.482Z"
   },
   {
    "duration": 55,
    "start_time": "2022-02-14T17:48:01.382Z"
   },
   {
    "duration": 9,
    "start_time": "2022-02-14T17:48:04.104Z"
   },
   {
    "duration": 10,
    "start_time": "2022-02-14T17:48:22.606Z"
   },
   {
    "duration": 178,
    "start_time": "2022-02-14T17:48:38.910Z"
   },
   {
    "duration": 9,
    "start_time": "2022-02-14T17:48:50.445Z"
   },
   {
    "duration": 7,
    "start_time": "2022-02-14T17:49:50.509Z"
   },
   {
    "duration": 16,
    "start_time": "2022-02-14T17:50:10.439Z"
   },
   {
    "duration": 18,
    "start_time": "2022-02-14T17:51:25.098Z"
   },
   {
    "duration": 18,
    "start_time": "2022-02-14T17:53:59.394Z"
   },
   {
    "duration": 8,
    "start_time": "2022-02-14T17:55:40.742Z"
   },
   {
    "duration": 179,
    "start_time": "2022-02-14T17:58:49.413Z"
   },
   {
    "duration": 204,
    "start_time": "2022-02-14T18:00:47.306Z"
   },
   {
    "duration": 173,
    "start_time": "2022-02-14T18:01:34.665Z"
   },
   {
    "duration": 194,
    "start_time": "2022-02-14T18:01:47.398Z"
   },
   {
    "duration": 7,
    "start_time": "2022-02-14T18:02:40.201Z"
   },
   {
    "duration": 8,
    "start_time": "2022-02-14T18:04:15.803Z"
   },
   {
    "duration": 8,
    "start_time": "2022-02-14T18:04:31.657Z"
   },
   {
    "duration": 241,
    "start_time": "2022-02-14T18:05:35.589Z"
   },
   {
    "duration": 201,
    "start_time": "2022-02-14T18:05:57.907Z"
   },
   {
    "duration": 9,
    "start_time": "2022-02-14T18:06:52.472Z"
   },
   {
    "duration": 61,
    "start_time": "2022-02-14T18:07:14.718Z"
   },
   {
    "duration": 23,
    "start_time": "2022-02-14T18:07:22.006Z"
   },
   {
    "duration": 16,
    "start_time": "2022-02-14T18:07:33.632Z"
   },
   {
    "duration": 9,
    "start_time": "2022-02-14T18:07:45.753Z"
   },
   {
    "duration": 53,
    "start_time": "2022-02-14T18:08:13.727Z"
   },
   {
    "duration": 8,
    "start_time": "2022-02-14T18:08:17.575Z"
   },
   {
    "duration": 7,
    "start_time": "2022-02-14T18:08:22.021Z"
   },
   {
    "duration": 10,
    "start_time": "2022-02-14T18:09:40.353Z"
   },
   {
    "duration": 57,
    "start_time": "2022-02-14T18:10:01.730Z"
   },
   {
    "duration": 8,
    "start_time": "2022-02-14T18:10:03.850Z"
   },
   {
    "duration": 8,
    "start_time": "2022-02-14T18:10:05.844Z"
   },
   {
    "duration": 10,
    "start_time": "2022-02-14T18:10:07.870Z"
   },
   {
    "duration": 26,
    "start_time": "2022-02-14T18:18:27.997Z"
   },
   {
    "duration": 20,
    "start_time": "2022-02-14T18:18:49.393Z"
   },
   {
    "duration": 210,
    "start_time": "2022-02-14T18:30:03.746Z"
   },
   {
    "duration": 95,
    "start_time": "2022-02-14T18:31:00.321Z"
   },
   {
    "duration": 178,
    "start_time": "2022-02-14T18:31:17.456Z"
   },
   {
    "duration": 190,
    "start_time": "2022-02-14T18:31:22.036Z"
   },
   {
    "duration": 11,
    "start_time": "2022-02-14T18:31:49.094Z"
   },
   {
    "duration": 12,
    "start_time": "2022-02-14T18:33:17.587Z"
   },
   {
    "duration": 13,
    "start_time": "2022-02-14T18:36:49.050Z"
   },
   {
    "duration": 14,
    "start_time": "2022-02-14T18:36:53.790Z"
   },
   {
    "duration": 729,
    "start_time": "2022-02-14T18:37:00.570Z"
   },
   {
    "duration": 15,
    "start_time": "2022-02-14T18:37:57.855Z"
   },
   {
    "duration": 15,
    "start_time": "2022-02-14T18:38:04.741Z"
   },
   {
    "duration": 15,
    "start_time": "2022-02-14T18:38:07.028Z"
   },
   {
    "duration": 9,
    "start_time": "2022-02-14T18:40:34.095Z"
   },
   {
    "duration": 73,
    "start_time": "2022-02-14T18:41:02.350Z"
   },
   {
    "duration": 14,
    "start_time": "2022-02-14T18:41:06.365Z"
   },
   {
    "duration": 10,
    "start_time": "2022-02-14T18:41:13.940Z"
   },
   {
    "duration": 55,
    "start_time": "2022-02-14T18:42:54.462Z"
   },
   {
    "duration": 8,
    "start_time": "2022-02-14T18:43:04.344Z"
   },
   {
    "duration": 10,
    "start_time": "2022-02-14T18:43:15.090Z"
   },
   {
    "duration": 4,
    "start_time": "2022-02-14T18:43:26.051Z"
   },
   {
    "duration": 8,
    "start_time": "2022-02-14T18:43:53.147Z"
   },
   {
    "duration": 5,
    "start_time": "2022-02-14T18:43:54.497Z"
   },
   {
    "duration": 18,
    "start_time": "2022-02-14T18:51:09.083Z"
   },
   {
    "duration": 21,
    "start_time": "2022-02-14T18:52:18.891Z"
   },
   {
    "duration": 24,
    "start_time": "2022-02-14T19:11:20.248Z"
   },
   {
    "duration": 633,
    "start_time": "2022-02-15T08:07:08.880Z"
   },
   {
    "duration": 16,
    "start_time": "2022-02-15T08:07:12.497Z"
   },
   {
    "duration": 12,
    "start_time": "2022-02-15T08:07:15.244Z"
   },
   {
    "duration": 4,
    "start_time": "2022-02-15T08:07:17.848Z"
   },
   {
    "duration": 26,
    "start_time": "2022-02-15T08:07:23.841Z"
   },
   {
    "duration": 29,
    "start_time": "2022-02-15T08:10:04.698Z"
   },
   {
    "duration": 424,
    "start_time": "2022-02-15T08:17:47.032Z"
   },
   {
    "duration": 123,
    "start_time": "2022-02-15T08:19:13.621Z"
   },
   {
    "duration": 116,
    "start_time": "2022-02-15T08:19:51.113Z"
   },
   {
    "duration": 55,
    "start_time": "2022-02-15T08:26:12.179Z"
   },
   {
    "duration": 10,
    "start_time": "2022-02-15T08:26:15.169Z"
   },
   {
    "duration": 11,
    "start_time": "2022-02-15T08:26:17.158Z"
   },
   {
    "duration": 7,
    "start_time": "2022-02-15T08:26:26.803Z"
   },
   {
    "duration": 3,
    "start_time": "2022-02-15T08:26:28.288Z"
   },
   {
    "duration": 331,
    "start_time": "2022-02-15T08:26:30.027Z"
   },
   {
    "duration": 336,
    "start_time": "2022-02-15T08:30:40.132Z"
   },
   {
    "duration": 5,
    "start_time": "2022-02-15T08:30:53.052Z"
   },
   {
    "duration": 328,
    "start_time": "2022-02-15T08:31:59.656Z"
   },
   {
    "duration": 5,
    "start_time": "2022-02-15T08:32:26.443Z"
   },
   {
    "duration": 7,
    "start_time": "2022-02-15T08:32:46.188Z"
   },
   {
    "duration": 9,
    "start_time": "2022-02-15T08:35:42.915Z"
   },
   {
    "duration": 340,
    "start_time": "2022-02-15T08:42:55.577Z"
   },
   {
    "duration": 760,
    "start_time": "2022-02-15T08:44:00.059Z"
   },
   {
    "duration": 335,
    "start_time": "2022-02-15T08:48:02.359Z"
   },
   {
    "duration": 4,
    "start_time": "2022-02-15T08:49:12.134Z"
   },
   {
    "duration": 364,
    "start_time": "2022-02-15T08:49:32.556Z"
   },
   {
    "duration": 4,
    "start_time": "2022-02-15T08:50:21.475Z"
   },
   {
    "duration": 5,
    "start_time": "2022-02-15T08:50:37.757Z"
   },
   {
    "duration": 5,
    "start_time": "2022-02-15T08:51:21.595Z"
   },
   {
    "duration": 10,
    "start_time": "2022-02-15T08:51:44.105Z"
   },
   {
    "duration": 11,
    "start_time": "2022-02-15T08:58:54.110Z"
   },
   {
    "duration": 341,
    "start_time": "2022-02-15T09:04:00.906Z"
   },
   {
    "duration": 360,
    "start_time": "2022-02-15T09:04:19.550Z"
   },
   {
    "duration": 114,
    "start_time": "2022-02-15T09:04:25.440Z"
   },
   {
    "duration": 331,
    "start_time": "2022-02-15T09:04:29.394Z"
   },
   {
    "duration": 3,
    "start_time": "2022-02-15T09:06:33.829Z"
   },
   {
    "duration": 4,
    "start_time": "2022-02-15T09:06:37.027Z"
   },
   {
    "duration": 11,
    "start_time": "2022-02-15T09:06:55.030Z"
   },
   {
    "duration": 333,
    "start_time": "2022-02-15T09:07:24.014Z"
   },
   {
    "duration": 309,
    "start_time": "2022-02-15T09:07:42.567Z"
   },
   {
    "duration": 4,
    "start_time": "2022-02-15T09:07:49.955Z"
   },
   {
    "duration": 387,
    "start_time": "2022-02-15T09:08:24.230Z"
   },
   {
    "duration": 4,
    "start_time": "2022-02-15T09:08:50.165Z"
   },
   {
    "duration": 11,
    "start_time": "2022-02-15T09:08:52.501Z"
   },
   {
    "duration": 5,
    "start_time": "2022-02-15T09:10:41.275Z"
   },
   {
    "duration": 11,
    "start_time": "2022-02-15T09:10:47.382Z"
   },
   {
    "duration": 4,
    "start_time": "2022-02-15T09:10:59.798Z"
   },
   {
    "duration": 11,
    "start_time": "2022-02-15T09:11:01.405Z"
   },
   {
    "duration": 347,
    "start_time": "2022-02-15T09:12:20.802Z"
   },
   {
    "duration": 9,
    "start_time": "2022-02-15T09:12:41.897Z"
   },
   {
    "duration": 10,
    "start_time": "2022-02-15T09:14:25.490Z"
   },
   {
    "duration": 4,
    "start_time": "2022-02-15T09:14:33.861Z"
   },
   {
    "duration": 3,
    "start_time": "2022-02-15T09:14:35.964Z"
   },
   {
    "duration": 360,
    "start_time": "2022-02-15T09:23:08.078Z"
   },
   {
    "duration": 325,
    "start_time": "2022-02-15T09:23:20.255Z"
   },
   {
    "duration": 339,
    "start_time": "2022-02-15T09:23:39.317Z"
   },
   {
    "duration": 16,
    "start_time": "2022-02-15T09:24:22.383Z"
   },
   {
    "duration": 13,
    "start_time": "2022-02-15T09:25:16.135Z"
   },
   {
    "duration": 15,
    "start_time": "2022-02-15T09:25:24.060Z"
   },
   {
    "duration": 17,
    "start_time": "2022-02-15T09:26:08.859Z"
   },
   {
    "duration": 15,
    "start_time": "2022-02-15T09:26:10.340Z"
   },
   {
    "duration": 6,
    "start_time": "2022-02-15T09:27:19.987Z"
   },
   {
    "duration": 648,
    "start_time": "2022-02-15T09:35:49.803Z"
   },
   {
    "duration": 464,
    "start_time": "2022-02-15T09:37:42.189Z"
   },
   {
    "duration": 332,
    "start_time": "2022-02-15T09:38:34.655Z"
   },
   {
    "duration": 353,
    "start_time": "2022-02-15T09:39:05.352Z"
   },
   {
    "duration": 386,
    "start_time": "2022-02-15T09:41:58.998Z"
   },
   {
    "duration": 455,
    "start_time": "2022-02-15T09:42:22.121Z"
   },
   {
    "duration": 336,
    "start_time": "2022-02-15T09:45:28.720Z"
   },
   {
    "duration": 14,
    "start_time": "2022-02-15T09:47:03.370Z"
   },
   {
    "duration": 5,
    "start_time": "2022-02-15T09:47:25.836Z"
   },
   {
    "duration": 12,
    "start_time": "2022-02-15T09:47:34.765Z"
   },
   {
    "duration": 8,
    "start_time": "2022-02-15T09:47:36.238Z"
   },
   {
    "duration": 5,
    "start_time": "2022-02-15T09:47:59.973Z"
   },
   {
    "duration": 5,
    "start_time": "2022-02-15T09:48:37.585Z"
   },
   {
    "duration": 8694,
    "start_time": "2022-02-15T10:03:26.947Z"
   },
   {
    "duration": 8698,
    "start_time": "2022-02-15T10:04:03.004Z"
   },
   {
    "duration": 2622,
    "start_time": "2022-02-15T10:04:29.317Z"
   },
   {
    "duration": 365,
    "start_time": "2022-02-15T10:04:54.109Z"
   },
   {
    "duration": 4,
    "start_time": "2022-02-15T10:06:55.240Z"
   },
   {
    "duration": 5,
    "start_time": "2022-02-15T10:07:38.085Z"
   },
   {
    "duration": 5,
    "start_time": "2022-02-15T10:10:36.538Z"
   },
   {
    "duration": 9,
    "start_time": "2022-02-15T10:12:12.950Z"
   },
   {
    "duration": 5,
    "start_time": "2022-02-15T10:12:14.602Z"
   },
   {
    "duration": 6,
    "start_time": "2022-02-15T10:12:21.942Z"
   },
   {
    "duration": 843,
    "start_time": "2022-02-15T10:14:02.998Z"
   },
   {
    "duration": 335,
    "start_time": "2022-02-15T10:14:14.498Z"
   },
   {
    "duration": 311,
    "start_time": "2022-02-15T10:14:23.449Z"
   },
   {
    "duration": 376,
    "start_time": "2022-02-15T10:15:24.079Z"
   },
   {
    "duration": 5,
    "start_time": "2022-02-15T10:15:47.057Z"
   },
   {
    "duration": 323,
    "start_time": "2022-02-15T10:16:01.331Z"
   },
   {
    "duration": 329,
    "start_time": "2022-02-15T10:16:25.492Z"
   },
   {
    "duration": 821,
    "start_time": "2022-02-15T12:22:45.681Z"
   },
   {
    "duration": 3147,
    "start_time": "2022-02-15T12:22:52.686Z"
   },
   {
    "duration": 16,
    "start_time": "2022-02-15T12:23:00.288Z"
   },
   {
    "duration": 17,
    "start_time": "2022-02-15T12:23:12.444Z"
   },
   {
    "duration": 4,
    "start_time": "2022-02-15T12:23:15.052Z"
   },
   {
    "duration": 6,
    "start_time": "2022-02-15T12:23:26.409Z"
   },
   {
    "duration": 9,
    "start_time": "2022-02-15T12:23:42.399Z"
   },
   {
    "duration": 12,
    "start_time": "2022-02-15T12:23:46.204Z"
   },
   {
    "duration": 4,
    "start_time": "2022-02-15T12:23:53.763Z"
   },
   {
    "duration": 3,
    "start_time": "2022-02-15T12:23:55.601Z"
   },
   {
    "duration": 15,
    "start_time": "2022-02-15T12:23:58.325Z"
   },
   {
    "duration": 17,
    "start_time": "2022-02-15T12:24:00.551Z"
   },
   {
    "duration": 15,
    "start_time": "2022-02-15T12:24:01.925Z"
   },
   {
    "duration": 4,
    "start_time": "2022-02-15T12:24:05.149Z"
   },
   {
    "duration": 12,
    "start_time": "2022-02-15T12:24:07.421Z"
   },
   {
    "duration": 6,
    "start_time": "2022-02-15T12:24:09.513Z"
   },
   {
    "duration": 5,
    "start_time": "2022-02-15T12:24:12.439Z"
   },
   {
    "duration": 5,
    "start_time": "2022-02-15T12:24:14.402Z"
   },
   {
    "duration": 5,
    "start_time": "2022-02-15T12:24:19.217Z"
   },
   {
    "duration": 9,
    "start_time": "2022-02-15T12:24:41.170Z"
   },
   {
    "duration": 13,
    "start_time": "2022-02-15T12:24:43.098Z"
   },
   {
    "duration": 353,
    "start_time": "2022-02-15T12:25:11.563Z"
   },
   {
    "duration": 453,
    "start_time": "2022-02-15T12:25:48.733Z"
   },
   {
    "duration": 13,
    "start_time": "2022-02-15T12:25:57.416Z"
   },
   {
    "duration": 5,
    "start_time": "2022-02-15T13:42:24.945Z"
   },
   {
    "duration": 868,
    "start_time": "2022-02-15T13:42:34.709Z"
   },
   {
    "duration": 27,
    "start_time": "2022-02-15T13:42:38.627Z"
   },
   {
    "duration": 15,
    "start_time": "2022-02-15T13:42:43.049Z"
   },
   {
    "duration": 5,
    "start_time": "2022-02-15T13:42:44.509Z"
   },
   {
    "duration": 8,
    "start_time": "2022-02-15T13:42:46.441Z"
   },
   {
    "duration": 14,
    "start_time": "2022-02-15T13:42:52.561Z"
   },
   {
    "duration": 19,
    "start_time": "2022-02-15T13:42:54.693Z"
   },
   {
    "duration": 5,
    "start_time": "2022-02-15T13:42:59.147Z"
   },
   {
    "duration": 5,
    "start_time": "2022-02-15T13:43:01.116Z"
   },
   {
    "duration": 24,
    "start_time": "2022-02-15T13:43:02.358Z"
   },
   {
    "duration": 27,
    "start_time": "2022-02-15T13:43:03.970Z"
   },
   {
    "duration": 23,
    "start_time": "2022-02-15T13:43:05.230Z"
   },
   {
    "duration": 6,
    "start_time": "2022-02-15T13:43:06.907Z"
   },
   {
    "duration": 16,
    "start_time": "2022-02-15T13:43:08.902Z"
   },
   {
    "duration": 9,
    "start_time": "2022-02-15T13:43:10.184Z"
   },
   {
    "duration": 7,
    "start_time": "2022-02-15T13:43:11.496Z"
   },
   {
    "duration": 7,
    "start_time": "2022-02-15T13:43:13.963Z"
   },
   {
    "duration": 14,
    "start_time": "2022-02-15T13:43:16.000Z"
   },
   {
    "duration": 23,
    "start_time": "2022-02-15T13:43:21.219Z"
   },
   {
    "duration": 5,
    "start_time": "2022-02-15T13:43:27.468Z"
   },
   {
    "duration": 5,
    "start_time": "2022-02-15T13:46:08.670Z"
   },
   {
    "duration": 386,
    "start_time": "2022-02-15T13:46:10.709Z"
   },
   {
    "duration": 18,
    "start_time": "2022-02-15T13:46:27.978Z"
   },
   {
    "duration": 565,
    "start_time": "2022-02-15T13:48:33.715Z"
   },
   {
    "duration": 5,
    "start_time": "2022-02-15T13:55:15.928Z"
   },
   {
    "duration": 364,
    "start_time": "2022-02-15T13:55:49.518Z"
   },
   {
    "duration": 20,
    "start_time": "2022-02-15T13:56:41.972Z"
   },
   {
    "duration": 22,
    "start_time": "2022-02-15T14:25:36.590Z"
   },
   {
    "duration": 28,
    "start_time": "2022-02-15T14:25:49.460Z"
   },
   {
    "duration": 65,
    "start_time": "2022-02-15T14:28:53.634Z"
   },
   {
    "duration": 24,
    "start_time": "2022-02-15T14:29:09.263Z"
   },
   {
    "duration": 12,
    "start_time": "2022-02-15T14:29:17.987Z"
   },
   {
    "duration": 7,
    "start_time": "2022-02-15T14:29:19.449Z"
   },
   {
    "duration": 8,
    "start_time": "2022-02-15T14:29:27.092Z"
   },
   {
    "duration": 15,
    "start_time": "2022-02-15T14:29:29.785Z"
   },
   {
    "duration": 19,
    "start_time": "2022-02-15T14:29:39.688Z"
   },
   {
    "duration": 8,
    "start_time": "2022-02-15T14:30:26.977Z"
   },
   {
    "duration": 108,
    "start_time": "2022-02-15T14:30:55.337Z"
   },
   {
    "duration": 5,
    "start_time": "2022-02-15T14:31:33.690Z"
   },
   {
    "duration": 8,
    "start_time": "2022-02-15T14:31:45.734Z"
   },
   {
    "duration": 7,
    "start_time": "2022-02-15T14:32:06.281Z"
   },
   {
    "duration": 6,
    "start_time": "2022-02-15T14:32:57.988Z"
   },
   {
    "duration": 410,
    "start_time": "2022-02-15T14:39:51.073Z"
   },
   {
    "duration": 8,
    "start_time": "2022-02-15T14:43:00.160Z"
   },
   {
    "duration": 11,
    "start_time": "2022-02-15T14:43:10.375Z"
   },
   {
    "duration": 8,
    "start_time": "2022-02-15T14:43:44.341Z"
   },
   {
    "duration": 8,
    "start_time": "2022-02-15T14:44:00.791Z"
   },
   {
    "duration": 6,
    "start_time": "2022-02-15T14:44:33.852Z"
   },
   {
    "duration": 9,
    "start_time": "2022-02-15T14:44:57.692Z"
   },
   {
    "duration": 14,
    "start_time": "2022-02-15T14:46:44.498Z"
   },
   {
    "duration": 28,
    "start_time": "2022-02-15T14:47:26.699Z"
   },
   {
    "duration": 6,
    "start_time": "2022-02-15T14:49:43.681Z"
   },
   {
    "duration": 10,
    "start_time": "2022-02-15T14:50:20.760Z"
   },
   {
    "duration": 99,
    "start_time": "2022-02-15T14:53:50.179Z"
   },
   {
    "duration": 21,
    "start_time": "2022-02-15T14:53:52.550Z"
   },
   {
    "duration": 15,
    "start_time": "2022-02-15T14:53:57.111Z"
   },
   {
    "duration": 6,
    "start_time": "2022-02-15T14:53:58.607Z"
   },
   {
    "duration": 10,
    "start_time": "2022-02-15T14:54:01.594Z"
   },
   {
    "duration": 21,
    "start_time": "2022-02-15T14:54:06.708Z"
   },
   {
    "duration": 27,
    "start_time": "2022-02-15T14:54:13.279Z"
   },
   {
    "duration": 6,
    "start_time": "2022-02-15T14:55:57.547Z"
   },
   {
    "duration": 7,
    "start_time": "2022-02-15T14:56:01.397Z"
   },
   {
    "duration": 6,
    "start_time": "2022-02-15T14:56:07.092Z"
   },
   {
    "duration": 8,
    "start_time": "2022-02-15T14:56:09.292Z"
   },
   {
    "duration": 7,
    "start_time": "2022-02-15T14:56:12.233Z"
   },
   {
    "duration": 7,
    "start_time": "2022-02-15T14:56:14.275Z"
   },
   {
    "duration": 18,
    "start_time": "2022-02-15T14:57:49.415Z"
   },
   {
    "duration": 19,
    "start_time": "2022-02-15T14:58:33.555Z"
   },
   {
    "duration": 5,
    "start_time": "2022-02-15T15:03:26.232Z"
   },
   {
    "duration": 6,
    "start_time": "2022-02-15T15:03:28.567Z"
   },
   {
    "duration": 9,
    "start_time": "2022-02-15T15:03:40.204Z"
   },
   {
    "duration": 8,
    "start_time": "2022-02-15T15:03:45.237Z"
   },
   {
    "duration": 26,
    "start_time": "2022-02-15T15:03:56.711Z"
   },
   {
    "duration": 29,
    "start_time": "2022-02-15T15:04:11.590Z"
   },
   {
    "duration": 22,
    "start_time": "2022-02-15T15:04:13.423Z"
   },
   {
    "duration": 7,
    "start_time": "2022-02-15T15:04:27.138Z"
   },
   {
    "duration": 16,
    "start_time": "2022-02-15T15:04:29.760Z"
   },
   {
    "duration": 13,
    "start_time": "2022-02-15T15:04:32.477Z"
   },
   {
    "duration": 7,
    "start_time": "2022-02-15T15:05:52.476Z"
   },
   {
    "duration": 5,
    "start_time": "2022-02-15T15:05:55.541Z"
   },
   {
    "duration": 8,
    "start_time": "2022-02-15T15:05:57.420Z"
   },
   {
    "duration": 10,
    "start_time": "2022-02-15T15:06:04.649Z"
   },
   {
    "duration": 5,
    "start_time": "2022-02-15T15:06:07.744Z"
   },
   {
    "duration": 24,
    "start_time": "2022-02-15T15:06:09.660Z"
   },
   {
    "duration": 68,
    "start_time": "2022-02-15T15:06:14.661Z"
   },
   {
    "duration": 16,
    "start_time": "2022-02-15T15:06:17.269Z"
   },
   {
    "duration": 11,
    "start_time": "2022-02-15T15:06:21.037Z"
   },
   {
    "duration": 5,
    "start_time": "2022-02-15T15:06:22.793Z"
   },
   {
    "duration": 8,
    "start_time": "2022-02-15T15:06:24.637Z"
   },
   {
    "duration": 15,
    "start_time": "2022-02-15T15:06:27.096Z"
   },
   {
    "duration": 21,
    "start_time": "2022-02-15T15:06:30.035Z"
   },
   {
    "duration": 7,
    "start_time": "2022-02-15T15:06:38.225Z"
   },
   {
    "duration": 10,
    "start_time": "2022-02-15T15:06:41.015Z"
   },
   {
    "duration": 7,
    "start_time": "2022-02-15T15:06:41.454Z"
   },
   {
    "duration": 7,
    "start_time": "2022-02-15T15:06:42.033Z"
   },
   {
    "duration": 6,
    "start_time": "2022-02-15T15:06:42.495Z"
   },
   {
    "duration": 25,
    "start_time": "2022-02-15T15:06:43.262Z"
   },
   {
    "duration": 6,
    "start_time": "2022-02-15T15:06:46.235Z"
   },
   {
    "duration": 7,
    "start_time": "2022-02-15T15:06:49.001Z"
   },
   {
    "duration": 7,
    "start_time": "2022-02-15T15:06:49.846Z"
   },
   {
    "duration": 11,
    "start_time": "2022-02-15T15:06:51.150Z"
   },
   {
    "duration": 5,
    "start_time": "2022-02-15T15:06:53.333Z"
   },
   {
    "duration": 22,
    "start_time": "2022-02-15T15:06:54.955Z"
   },
   {
    "duration": 25,
    "start_time": "2022-02-15T15:06:56.899Z"
   },
   {
    "duration": 21,
    "start_time": "2022-02-15T15:06:57.664Z"
   },
   {
    "duration": 7,
    "start_time": "2022-02-15T15:06:59.612Z"
   },
   {
    "duration": 16,
    "start_time": "2022-02-15T15:07:00.842Z"
   },
   {
    "duration": 10,
    "start_time": "2022-02-15T15:07:01.588Z"
   },
   {
    "duration": 8,
    "start_time": "2022-02-15T15:07:02.784Z"
   },
   {
    "duration": 9,
    "start_time": "2022-02-15T15:07:05.121Z"
   },
   {
    "duration": 10,
    "start_time": "2022-02-15T15:07:09.697Z"
   },
   {
    "duration": 20,
    "start_time": "2022-02-15T15:07:12.694Z"
   },
   {
    "duration": 12,
    "start_time": "2022-02-15T15:07:21.917Z"
   },
   {
    "duration": 722,
    "start_time": "2022-02-15T15:07:28.318Z"
   },
   {
    "duration": 737,
    "start_time": "2022-02-15T15:07:39.975Z"
   },
   {
    "duration": 42,
    "start_time": "2022-02-15T15:07:43.853Z"
   },
   {
    "duration": 33,
    "start_time": "2022-02-15T15:08:23.132Z"
   },
   {
    "duration": 26,
    "start_time": "2022-02-15T15:10:56.574Z"
   },
   {
    "duration": 2140,
    "start_time": "2022-02-15T15:21:10.603Z"
   },
   {
    "duration": 324,
    "start_time": "2022-02-15T15:21:38.198Z"
   },
   {
    "duration": 2274,
    "start_time": "2022-02-15T15:21:42.457Z"
   },
   {
    "duration": 275,
    "start_time": "2022-02-15T15:21:52.379Z"
   },
   {
    "duration": 19,
    "start_time": "2022-02-15T15:23:06.187Z"
   },
   {
    "duration": 7,
    "start_time": "2022-02-15T15:23:36.559Z"
   },
   {
    "duration": 95,
    "start_time": "2022-02-15T15:24:03.397Z"
   },
   {
    "duration": 7,
    "start_time": "2022-02-15T15:24:08.402Z"
   },
   {
    "duration": 49,
    "start_time": "2022-02-15T15:27:09.120Z"
   },
   {
    "duration": 29,
    "start_time": "2022-02-15T15:27:40.569Z"
   },
   {
    "duration": 21,
    "start_time": "2022-02-15T15:27:53.862Z"
   },
   {
    "duration": 30,
    "start_time": "2022-02-15T16:17:55.235Z"
   },
   {
    "duration": 38,
    "start_time": "2022-02-15T16:18:25.349Z"
   },
   {
    "duration": 32,
    "start_time": "2022-02-15T16:19:03.450Z"
   },
   {
    "duration": 66,
    "start_time": "2022-02-15T16:36:32.636Z"
   },
   {
    "duration": 293,
    "start_time": "2022-02-15T16:50:30.467Z"
   },
   {
    "duration": 289,
    "start_time": "2022-02-15T16:50:53.920Z"
   },
   {
    "duration": 276,
    "start_time": "2022-02-15T16:51:02.592Z"
   },
   {
    "duration": 21,
    "start_time": "2022-02-15T16:51:13.816Z"
   },
   {
    "duration": 11,
    "start_time": "2022-02-15T16:51:40.905Z"
   },
   {
    "duration": 20,
    "start_time": "2022-02-15T16:51:52.447Z"
   },
   {
    "duration": 20,
    "start_time": "2022-02-15T16:52:16.815Z"
   },
   {
    "duration": 95,
    "start_time": "2022-02-15T16:52:54.932Z"
   },
   {
    "duration": 118,
    "start_time": "2022-02-15T16:53:01.044Z"
   },
   {
    "duration": 131,
    "start_time": "2022-02-15T16:53:09.329Z"
   },
   {
    "duration": 99,
    "start_time": "2022-02-15T16:53:19.581Z"
   },
   {
    "duration": 15,
    "start_time": "2022-02-15T16:53:42.954Z"
   },
   {
    "duration": 18,
    "start_time": "2022-02-15T16:54:19.038Z"
   },
   {
    "duration": 17,
    "start_time": "2022-02-15T16:54:41.377Z"
   },
   {
    "duration": 29,
    "start_time": "2022-02-15T16:54:50.397Z"
   },
   {
    "duration": 15,
    "start_time": "2022-02-15T16:59:06.903Z"
   },
   {
    "duration": 19,
    "start_time": "2022-02-15T16:59:19.013Z"
   },
   {
    "duration": 88,
    "start_time": "2022-02-15T16:59:34.199Z"
   },
   {
    "duration": 19,
    "start_time": "2022-02-15T16:59:36.429Z"
   },
   {
    "duration": 3,
    "start_time": "2022-02-15T17:01:19.660Z"
   },
   {
    "duration": 27,
    "start_time": "2022-02-15T17:03:59.693Z"
   },
   {
    "duration": 39,
    "start_time": "2022-02-15T17:05:41.220Z"
   },
   {
    "duration": 36,
    "start_time": "2022-02-15T17:08:13.816Z"
   },
   {
    "duration": 40,
    "start_time": "2022-02-15T17:08:29.974Z"
   },
   {
    "duration": 38,
    "start_time": "2022-02-15T17:08:35.576Z"
   },
   {
    "duration": 41,
    "start_time": "2022-02-15T17:21:37.334Z"
   },
   {
    "duration": 213,
    "start_time": "2022-02-15T20:32:25.512Z"
   },
   {
    "duration": 629,
    "start_time": "2022-02-15T20:32:50.096Z"
   },
   {
    "duration": 18,
    "start_time": "2022-02-15T20:32:54.217Z"
   },
   {
    "duration": 10,
    "start_time": "2022-02-15T20:32:59.360Z"
   },
   {
    "duration": 4,
    "start_time": "2022-02-15T20:33:07.918Z"
   },
   {
    "duration": 7,
    "start_time": "2022-02-15T20:33:10.654Z"
   },
   {
    "duration": 11,
    "start_time": "2022-02-15T20:33:13.944Z"
   },
   {
    "duration": 13,
    "start_time": "2022-02-15T20:33:18.004Z"
   },
   {
    "duration": 5,
    "start_time": "2022-02-15T20:33:22.448Z"
   },
   {
    "duration": 5,
    "start_time": "2022-02-15T20:33:27.413Z"
   },
   {
    "duration": 5,
    "start_time": "2022-02-15T20:33:30.442Z"
   },
   {
    "duration": 7,
    "start_time": "2022-02-15T20:33:33.308Z"
   },
   {
    "duration": 5,
    "start_time": "2022-02-15T20:33:35.663Z"
   },
   {
    "duration": 19,
    "start_time": "2022-02-15T20:33:38.823Z"
   },
   {
    "duration": 6,
    "start_time": "2022-02-15T20:33:42.787Z"
   },
   {
    "duration": 6,
    "start_time": "2022-02-15T20:33:46.344Z"
   },
   {
    "duration": 5,
    "start_time": "2022-02-15T20:33:50.366Z"
   },
   {
    "duration": 10,
    "start_time": "2022-02-15T20:34:27.252Z"
   },
   {
    "duration": 8,
    "start_time": "2022-02-15T20:35:16.363Z"
   },
   {
    "duration": 12,
    "start_time": "2022-02-15T20:35:24.381Z"
   },
   {
    "duration": 4,
    "start_time": "2022-02-15T20:52:51.511Z"
   },
   {
    "duration": 4393,
    "start_time": "2022-02-15T20:53:23.571Z"
   },
   {
    "duration": 4,
    "start_time": "2022-02-15T20:53:38.595Z"
   },
   {
    "duration": 5,
    "start_time": "2022-02-15T20:53:58.556Z"
   },
   {
    "duration": 4,
    "start_time": "2022-02-15T20:54:50.096Z"
   },
   {
    "duration": 8,
    "start_time": "2022-02-15T20:58:26.143Z"
   },
   {
    "duration": 176,
    "start_time": "2022-02-15T21:00:27.491Z"
   },
   {
    "duration": 5,
    "start_time": "2022-02-15T21:00:33.215Z"
   },
   {
    "duration": 5,
    "start_time": "2022-02-15T21:00:55.169Z"
   },
   {
    "duration": 9,
    "start_time": "2022-02-15T21:01:49.348Z"
   },
   {
    "duration": 8,
    "start_time": "2022-02-15T21:01:57.898Z"
   },
   {
    "duration": 8,
    "start_time": "2022-02-15T21:02:03.999Z"
   },
   {
    "duration": 8,
    "start_time": "2022-02-15T21:02:12.317Z"
   },
   {
    "duration": 9,
    "start_time": "2022-02-15T21:02:17.766Z"
   },
   {
    "duration": 8,
    "start_time": "2022-02-15T21:02:23.284Z"
   },
   {
    "duration": 8,
    "start_time": "2022-02-15T21:02:31.165Z"
   },
   {
    "duration": 8,
    "start_time": "2022-02-15T21:02:54.398Z"
   },
   {
    "duration": 8,
    "start_time": "2022-02-15T21:03:03.694Z"
   },
   {
    "duration": 8,
    "start_time": "2022-02-15T21:03:08.905Z"
   },
   {
    "duration": 8,
    "start_time": "2022-02-15T21:03:16.387Z"
   },
   {
    "duration": 8,
    "start_time": "2022-02-15T21:03:27.003Z"
   },
   {
    "duration": 8,
    "start_time": "2022-02-15T21:03:31.735Z"
   },
   {
    "duration": 8,
    "start_time": "2022-02-15T21:03:37.039Z"
   },
   {
    "duration": 8,
    "start_time": "2022-02-15T21:03:41.722Z"
   },
   {
    "duration": 8,
    "start_time": "2022-02-15T21:03:50.102Z"
   },
   {
    "duration": 8,
    "start_time": "2022-02-15T21:03:56.367Z"
   },
   {
    "duration": 9,
    "start_time": "2022-02-15T21:04:01.511Z"
   },
   {
    "duration": 10,
    "start_time": "2022-02-15T21:04:06.375Z"
   },
   {
    "duration": 9,
    "start_time": "2022-02-15T21:04:15.077Z"
   },
   {
    "duration": 9,
    "start_time": "2022-02-15T21:04:23.935Z"
   },
   {
    "duration": 8,
    "start_time": "2022-02-15T21:04:29.955Z"
   },
   {
    "duration": 9,
    "start_time": "2022-02-15T21:04:35.192Z"
   },
   {
    "duration": 8,
    "start_time": "2022-02-15T21:04:40.326Z"
   },
   {
    "duration": 11,
    "start_time": "2022-02-15T21:04:45.842Z"
   },
   {
    "duration": 10,
    "start_time": "2022-02-15T21:04:51.798Z"
   },
   {
    "duration": 8,
    "start_time": "2022-02-15T21:04:59.106Z"
   },
   {
    "duration": 8,
    "start_time": "2022-02-15T21:05:04.692Z"
   },
   {
    "duration": 9,
    "start_time": "2022-02-15T21:05:10.977Z"
   },
   {
    "duration": 9,
    "start_time": "2022-02-15T21:05:17.686Z"
   },
   {
    "duration": 9,
    "start_time": "2022-02-15T21:05:23.392Z"
   },
   {
    "duration": 7,
    "start_time": "2022-02-15T21:06:52.056Z"
   },
   {
    "duration": 21,
    "start_time": "2022-02-15T21:07:06.975Z"
   },
   {
    "duration": 9,
    "start_time": "2022-02-15T21:08:13.556Z"
   },
   {
    "duration": 180,
    "start_time": "2022-02-15T21:14:43.483Z"
   },
   {
    "duration": 182,
    "start_time": "2022-02-15T21:15:20.752Z"
   },
   {
    "duration": 192,
    "start_time": "2022-02-15T21:18:48.112Z"
   },
   {
    "duration": 172,
    "start_time": "2022-02-15T21:21:32.016Z"
   },
   {
    "duration": 36627,
    "start_time": "2022-02-15T21:26:37.666Z"
   },
   {
    "duration": 6,
    "start_time": "2022-02-15T21:27:14.295Z"
   },
   {
    "duration": 9,
    "start_time": "2022-02-15T21:27:54.681Z"
   },
   {
    "duration": 5,
    "start_time": "2022-02-15T21:27:59.463Z"
   },
   {
    "duration": 25,
    "start_time": "2022-02-15T21:28:03.444Z"
   },
   {
    "duration": 28,
    "start_time": "2022-02-15T21:28:06.886Z"
   },
   {
    "duration": 23,
    "start_time": "2022-02-15T21:28:09.428Z"
   },
   {
    "duration": 7,
    "start_time": "2022-02-15T21:28:12.338Z"
   },
   {
    "duration": 19,
    "start_time": "2022-02-15T21:28:15.582Z"
   },
   {
    "duration": 10,
    "start_time": "2022-02-15T21:28:50.704Z"
   },
   {
    "duration": 8,
    "start_time": "2022-02-15T21:28:54.753Z"
   },
   {
    "duration": 9,
    "start_time": "2022-02-15T21:28:58.394Z"
   },
   {
    "duration": 7,
    "start_time": "2022-02-15T21:29:02.453Z"
   },
   {
    "duration": 11,
    "start_time": "2022-02-15T21:29:05.585Z"
   },
   {
    "duration": 7,
    "start_time": "2022-02-15T21:29:06.511Z"
   },
   {
    "duration": 219,
    "start_time": "2022-02-15T21:29:09.757Z"
   },
   {
    "duration": 224,
    "start_time": "2022-02-15T21:29:14.058Z"
   },
   {
    "duration": 27,
    "start_time": "2022-02-15T21:29:17.106Z"
   },
   {
    "duration": 31,
    "start_time": "2022-02-15T21:30:46.359Z"
   },
   {
    "duration": 32,
    "start_time": "2022-02-15T21:31:01.455Z"
   },
   {
    "duration": 30,
    "start_time": "2022-02-15T21:31:20.994Z"
   },
   {
    "duration": 94,
    "start_time": "2022-02-23T13:36:58.528Z"
   },
   {
    "duration": 699,
    "start_time": "2022-02-24T17:14:17.434Z"
   },
   {
    "duration": 15,
    "start_time": "2022-02-24T17:21:02.116Z"
   },
   {
    "duration": 10,
    "start_time": "2022-02-24T17:21:06.556Z"
   },
   {
    "duration": 4,
    "start_time": "2022-02-24T17:21:08.395Z"
   },
   {
    "duration": 8,
    "start_time": "2022-02-24T17:21:15.025Z"
   },
   {
    "duration": 11,
    "start_time": "2022-02-24T17:21:16.958Z"
   },
   {
    "duration": 12,
    "start_time": "2022-02-24T17:21:20.246Z"
   },
   {
    "duration": 6,
    "start_time": "2022-02-24T17:21:23.485Z"
   },
   {
    "duration": 6,
    "start_time": "2022-02-24T17:21:25.247Z"
   },
   {
    "duration": 4,
    "start_time": "2022-02-24T17:21:26.717Z"
   },
   {
    "duration": 6,
    "start_time": "2022-02-24T17:21:27.745Z"
   },
   {
    "duration": 5,
    "start_time": "2022-02-24T17:21:28.765Z"
   },
   {
    "duration": 13,
    "start_time": "2022-02-24T17:21:29.673Z"
   },
   {
    "duration": 5,
    "start_time": "2022-02-24T17:21:34.059Z"
   },
   {
    "duration": 5,
    "start_time": "2022-02-24T17:21:36.579Z"
   },
   {
    "duration": 7,
    "start_time": "2022-02-24T17:21:37.503Z"
   },
   {
    "duration": 8,
    "start_time": "2022-02-24T17:21:40.090Z"
   },
   {
    "duration": 9,
    "start_time": "2022-02-24T17:21:47.766Z"
   },
   {
    "duration": 37785,
    "start_time": "2022-02-24T17:21:51.715Z"
   },
   {
    "duration": 5,
    "start_time": "2022-02-24T17:22:33.145Z"
   },
   {
    "duration": 8,
    "start_time": "2022-02-24T17:22:36.608Z"
   },
   {
    "duration": 4,
    "start_time": "2022-02-24T17:22:41.147Z"
   },
   {
    "duration": 12,
    "start_time": "2022-02-24T17:22:57.925Z"
   },
   {
    "duration": 17,
    "start_time": "2022-02-24T17:23:15.228Z"
   },
   {
    "duration": 5,
    "start_time": "2022-02-24T17:24:06.034Z"
   },
   {
    "duration": 13,
    "start_time": "2022-02-24T17:24:09.431Z"
   },
   {
    "duration": 8,
    "start_time": "2022-02-24T17:24:10.089Z"
   },
   {
    "duration": 6,
    "start_time": "2022-02-24T17:24:13.285Z"
   },
   {
    "duration": 7,
    "start_time": "2022-02-24T17:24:17.126Z"
   },
   {
    "duration": 16,
    "start_time": "2022-02-24T17:25:04.922Z"
   },
   {
    "duration": 21,
    "start_time": "2022-02-24T17:25:31.369Z"
   },
   {
    "duration": 24,
    "start_time": "2022-02-24T17:25:46.452Z"
   },
   {
    "duration": 6,
    "start_time": "2022-02-24T17:30:37.136Z"
   },
   {
    "duration": 12,
    "start_time": "2022-02-24T17:30:39.299Z"
   },
   {
    "duration": 9,
    "start_time": "2022-02-24T17:30:46.582Z"
   },
   {
    "duration": 213,
    "start_time": "2022-02-24T17:30:55.994Z"
   },
   {
    "duration": 8,
    "start_time": "2022-02-24T17:31:21.968Z"
   },
   {
    "duration": 231,
    "start_time": "2022-02-24T17:31:57.029Z"
   },
   {
    "duration": 228,
    "start_time": "2022-02-24T17:41:38.006Z"
   },
   {
    "duration": 272,
    "start_time": "2022-02-24T17:43:52.617Z"
   },
   {
    "duration": 220,
    "start_time": "2022-02-24T17:44:27.274Z"
   },
   {
    "duration": 191,
    "start_time": "2022-02-24T17:44:31.891Z"
   },
   {
    "duration": 15,
    "start_time": "2022-02-24T17:45:10.920Z"
   },
   {
    "duration": 16,
    "start_time": "2022-02-24T17:45:45.378Z"
   },
   {
    "duration": 16,
    "start_time": "2022-02-24T17:45:51.381Z"
   },
   {
    "duration": 19,
    "start_time": "2022-02-24T17:46:02.295Z"
   },
   {
    "duration": 183,
    "start_time": "2022-02-24T17:48:05.961Z"
   },
   {
    "duration": 19,
    "start_time": "2022-02-24T17:48:24.158Z"
   },
   {
    "duration": 31,
    "start_time": "2022-02-24T17:49:48.122Z"
   },
   {
    "duration": 29,
    "start_time": "2022-02-24T17:49:55.897Z"
   },
   {
    "duration": 27,
    "start_time": "2022-02-24T17:51:37.252Z"
   },
   {
    "duration": 26,
    "start_time": "2022-02-24T17:51:49.907Z"
   },
   {
    "duration": 26,
    "start_time": "2022-02-24T17:54:29.340Z"
   },
   {
    "duration": 25,
    "start_time": "2022-02-24T17:54:42.797Z"
   },
   {
    "duration": 26,
    "start_time": "2022-02-24T17:54:46.585Z"
   },
   {
    "duration": 213,
    "start_time": "2022-02-24T17:56:53.425Z"
   },
   {
    "duration": 35,
    "start_time": "2022-02-24T17:57:11.942Z"
   },
   {
    "duration": 206,
    "start_time": "2022-02-24T17:59:03.335Z"
   },
   {
    "duration": 30,
    "start_time": "2022-02-24T17:59:08.002Z"
   },
   {
    "duration": 27,
    "start_time": "2022-02-24T17:59:21.943Z"
   },
   {
    "duration": 53,
    "start_time": "2022-02-24T17:59:39.379Z"
   },
   {
    "duration": 178,
    "start_time": "2022-02-24T18:01:18.889Z"
   },
   {
    "duration": 32,
    "start_time": "2022-02-24T18:01:29.855Z"
   },
   {
    "duration": 29,
    "start_time": "2022-02-24T18:02:21.883Z"
   },
   {
    "duration": 28,
    "start_time": "2022-02-24T18:02:42.499Z"
   },
   {
    "duration": 28,
    "start_time": "2022-02-24T18:04:28.073Z"
   },
   {
    "duration": 31,
    "start_time": "2022-02-24T18:05:51.704Z"
   },
   {
    "duration": 196,
    "start_time": "2022-02-24T18:06:48.030Z"
   },
   {
    "duration": 32,
    "start_time": "2022-02-24T18:07:20.513Z"
   },
   {
    "duration": 646,
    "start_time": "2022-02-25T05:34:56.221Z"
   },
   {
    "duration": 12,
    "start_time": "2022-02-25T05:34:57.077Z"
   },
   {
    "duration": 10,
    "start_time": "2022-02-25T05:34:57.425Z"
   },
   {
    "duration": 4,
    "start_time": "2022-02-25T05:34:57.602Z"
   },
   {
    "duration": 6,
    "start_time": "2022-02-25T05:34:58.282Z"
   },
   {
    "duration": 11,
    "start_time": "2022-02-25T05:34:58.585Z"
   },
   {
    "duration": 12,
    "start_time": "2022-02-25T05:34:59.178Z"
   },
   {
    "duration": 5,
    "start_time": "2022-02-25T05:34:59.473Z"
   },
   {
    "duration": 5,
    "start_time": "2022-02-25T05:34:59.781Z"
   },
   {
    "duration": 4,
    "start_time": "2022-02-25T05:34:59.930Z"
   },
   {
    "duration": 6,
    "start_time": "2022-02-25T05:35:00.082Z"
   },
   {
    "duration": 4,
    "start_time": "2022-02-25T05:35:00.226Z"
   },
   {
    "duration": 12,
    "start_time": "2022-02-25T05:35:00.370Z"
   },
   {
    "duration": 4,
    "start_time": "2022-02-25T05:35:00.676Z"
   },
   {
    "duration": 4,
    "start_time": "2022-02-25T05:35:00.977Z"
   },
   {
    "duration": 4,
    "start_time": "2022-02-25T05:35:01.138Z"
   },
   {
    "duration": 9,
    "start_time": "2022-02-25T05:35:01.465Z"
   },
   {
    "duration": 10,
    "start_time": "2022-02-25T05:35:01.643Z"
   },
   {
    "duration": 36193,
    "start_time": "2022-02-25T05:35:02.002Z"
   },
   {
    "duration": 4,
    "start_time": "2022-02-25T05:35:38.197Z"
   },
   {
    "duration": 6,
    "start_time": "2022-02-25T05:35:38.203Z"
   },
   {
    "duration": 20,
    "start_time": "2022-02-25T05:35:38.211Z"
   },
   {
    "duration": 12,
    "start_time": "2022-02-25T05:35:38.233Z"
   },
   {
    "duration": 5,
    "start_time": "2022-02-25T05:35:38.246Z"
   },
   {
    "duration": 12,
    "start_time": "2022-02-25T05:35:38.252Z"
   },
   {
    "duration": 6,
    "start_time": "2022-02-25T05:35:38.267Z"
   },
   {
    "duration": 5,
    "start_time": "2022-02-25T05:35:38.275Z"
   },
   {
    "duration": 6,
    "start_time": "2022-02-25T05:35:38.281Z"
   },
   {
    "duration": 48,
    "start_time": "2022-02-25T05:35:38.288Z"
   },
   {
    "duration": 16,
    "start_time": "2022-02-25T05:35:38.338Z"
   },
   {
    "duration": 14,
    "start_time": "2022-02-25T05:35:38.355Z"
   },
   {
    "duration": 5,
    "start_time": "2022-02-25T05:35:38.370Z"
   },
   {
    "duration": 10,
    "start_time": "2022-02-25T05:35:38.376Z"
   },
   {
    "duration": 7,
    "start_time": "2022-02-25T05:35:38.387Z"
   },
   {
    "duration": 257,
    "start_time": "2022-02-25T05:35:38.395Z"
   },
   {
    "duration": 7,
    "start_time": "2022-02-25T05:35:38.654Z"
   },
   {
    "duration": 245,
    "start_time": "2022-02-25T05:35:38.662Z"
   },
   {
    "duration": 223,
    "start_time": "2022-02-25T05:35:38.909Z"
   },
   {
    "duration": 11,
    "start_time": "2022-02-25T05:35:39.134Z"
   },
   {
    "duration": 32,
    "start_time": "2022-02-25T05:35:39.147Z"
   },
   {
    "duration": 245,
    "start_time": "2022-02-25T05:35:39.181Z"
   },
   {
    "duration": 13,
    "start_time": "2022-02-25T05:35:56.851Z"
   }
  ],
  "kernelspec": {
   "display_name": "Python 3 (ipykernel)",
   "language": "python",
   "name": "python3"
  },
  "language_info": {
   "codemirror_mode": {
    "name": "ipython",
    "version": 3
   },
   "file_extension": ".py",
   "mimetype": "text/x-python",
   "name": "python",
   "nbconvert_exporter": "python",
   "pygments_lexer": "ipython3",
   "version": "3.9.7"
  },
  "toc": {
   "base_numbering": 1,
   "nav_menu": {},
   "number_sections": true,
   "sideBar": true,
   "skip_h1_title": true,
   "title_cell": "Table of Contents",
   "title_sidebar": "Contents",
   "toc_cell": false,
   "toc_position": {},
   "toc_section_display": true,
   "toc_window_display": false
  }
 },
 "nbformat": 4,
 "nbformat_minor": 5
}
