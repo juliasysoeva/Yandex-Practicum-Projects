{
 "cells": [
  {
   "cell_type": "markdown",
   "metadata": {},
   "source": [
    "# Определение перспективного тарифа для телеком-компании"
   ]
  },
  {
   "cell_type": "markdown",
   "metadata": {
    "toc": true
   },
   "source": [
    "<h1>Содержание<span class=\"tocSkip\"></span></h1>\n",
    "<div class=\"toc\"><ul class=\"toc-item\"><li><span><a href=\"#Изучение-данных\" data-toc-modified-id=\"Изучение-данных-1\"><span class=\"toc-item-num\">1&nbsp;&nbsp;</span>Изучение данных</a></span></li><li><span><a href=\"#Предобработка-данных\" data-toc-modified-id=\"Предобработка-данных-2\"><span class=\"toc-item-num\">2&nbsp;&nbsp;</span>Предобработка данных</a></span><ul class=\"toc-item\"><li><span><a href=\"#Изменение-типов-данных\" data-toc-modified-id=\"Изменение-типов-данных-2.1\"><span class=\"toc-item-num\">2.1&nbsp;&nbsp;</span>Изменение типов данных</a></span></li><li><span><a href=\"#Поиск-дубликатов\" data-toc-modified-id=\"Поиск-дубликатов-2.2\"><span class=\"toc-item-num\">2.2&nbsp;&nbsp;</span>Поиск дубликатов</a></span></li><li><span><a href=\"#Вывод\" data-toc-modified-id=\"Вывод-2.3\"><span class=\"toc-item-num\">2.3&nbsp;&nbsp;</span>Вывод</a></span></li></ul></li><li><span><a href=\"#Расчёты-и-добавление-результатов-в-таблицу\" data-toc-modified-id=\"Расчёты-и-добавление-результатов-в-таблицу-3\"><span class=\"toc-item-num\">3&nbsp;&nbsp;</span>Расчёты и добавление результатов в таблицу</a></span><ul class=\"toc-item\"><li><span><a href=\"#Год-и-месяц-совершения-звонка,-написания-сообщения-и-выхода-в-интернет\" data-toc-modified-id=\"Год-и-месяц-совершения-звонка,-написания-сообщения-и-выхода-в-интернет-3.1\"><span class=\"toc-item-num\">3.1&nbsp;&nbsp;</span>Год и месяц совершения звонка, написания сообщения и выхода в интернет</a></span></li></ul></li><ul class=\"toc-item\"><li><span><a href=\"#Количество-сделанных-звонков-и-израсходованных-минут-разговора-по-месяцам\" data-toc-modified-id=\"Количество-сделанных-звонков-и-израсходованных-минут-разговора-по-месяцам-3.1\"><span class=\"toc-item-num\">3.1&nbsp;&nbsp;</span>Количество сделанных звонков и израсходованных минут разговора по месяцам</a></span></li><li><span><a href=\"#Количество-отправленных-сообщений-по-месяцам\" data-toc-modified-id=\"Количество-отправленных-сообщений-по-месяцам-3.2\"><span class=\"toc-item-num\">3.2&nbsp;&nbsp;</span>Количество отправленных сообщений по месяцам</a></span></li><li><span><a href=\"#Объем-израсходованного-интернет-трафика-по-месяцам\" data-toc-modified-id=\"Объем-израсходованного-интернет-трафика-по-месяцам-3.3\"><span class=\"toc-item-num\">3.3&nbsp;&nbsp;</span>Объем израсходованного интернет-трафика по месяцам</a></span></li><li><span><a href=\"#Помесячная-выручка-с-каждого-пользователя\" data-toc-modified-id=\"Помесячная-выручка-с-каждого-пользователя-3.4\"><span class=\"toc-item-num\">3.4&nbsp;&nbsp;</span>Помесячная выручка с каждого пользователя</a></span></li></ul></li><ul class=\"toc-item\"><li><span><a href=\"#Вывод\" data-toc-modified-id=\"Вывод-3.5\"><span class=\"toc-item-num\">3.5&nbsp;&nbsp;</span>Вывод</a></span></li></ul></li><li><span><a href=\"#Исследовательский-анализ-данных\" data-toc-modified-id=\"Исследовательский-анализ-данных-4\"><span class=\"toc-item-num\">4&nbsp;&nbsp;</span>Исследовательский анализ данных</a></span><ul class=\"toc-item\"><li><span><a href=\"#Среднее,-дисперсия-и-стандартное-отклонение\" data-toc-modified-id=\"Среднее,-дисперсия-и-стандартное-отклонение-4.1\"><span class=\"toc-item-num\">4.1&nbsp;&nbsp;</span>Среднее, дисперсия и стандартное отклонение</a></span></li></ul></li></a></span><ul class=\"toc-item\"><li><span><a href=\"#Вывод\" data-toc-modified-id=\"Вывод-4.2\"><span class=\"toc-item-num\">4.2&nbsp;&nbsp;</span>Вывод</a></span></li></ul></li><li><span><a href=\"#Проверка-гипотез\" data-toc-modified-id=\"Проверка-гипотез-5\"><span class=\"toc-item-num\">5&nbsp;&nbsp;</span>Проверка гипотез</a></span><ul class=\"toc-item\"><li><span><a href=\"#Средняя-выручка-пользователей-тарифов-«Ультра»-и-«Смарт»-различаются\" data-toc-modified-id=\"Средняя-выручка-пользователей-тарифов-«Ультра»-и-«Смарт»-различаются-5.1\"><span class=\"toc-item-num\">5.1&nbsp;&nbsp;</span>Средняя выручка пользователей тарифов «Ультра» и «Смарт» различаются</a></span></li></ul></li><li><span><a href=\"#Средняя-выручка-пользователей-из-Москвы-отличается-от-выручки-пользователей-из-других-регионов\" data-toc-modified-id=\"Средняя-выручка-пользователей-из-Москвы-отличается-от-выручки-пользователей-из-других-регионов-5.2\"><span class=\"toc-item-num\">5.2&nbsp;&nbsp;</span>Средняя выручка пользователей из Москвы отличается от выручки пользователей из других регионов</a></span></li></ul></li><li><span><a href=\"#Вывод\" data-toc-modified-id=\"Вывод-6\"><span class=\"toc-item-num\">6&nbsp;&nbsp;</span>Вывод</a></span></li></ul></div>"
   ]
  },
  {
   "cell_type": "markdown",
   "metadata": {},
   "source": [
    "## Изучение данных"
   ]
  },
  {
   "cell_type": "code",
   "execution_count": 1,
   "metadata": {},
   "outputs": [],
   "source": [
    "import pandas as pd\n",
    "from datetime import timedelta, datetime\n",
    "import numpy as np\n",
    "import matplotlib.pyplot as plt\n",
    "from scipy import stats as st\n",
    "import math\n",
    "import seaborn as sb"
   ]
  },
  {
   "cell_type": "code",
   "execution_count": 2,
   "metadata": {},
   "outputs": [],
   "source": [
    "calls = pd.read_csv('/datasets/calls.csv')\n",
    "internet = pd.read_csv('/datasets/internet.csv')\n",
    "messages = pd.read_csv('/datasets/messages.csv')\n",
    "tariffs = pd.read_csv('/datasets/tariffs.csv')\n",
    "users = pd.read_csv('/datasets/users.csv')"
   ]
  },
  {
   "cell_type": "code",
   "execution_count": 3,
   "metadata": {},
   "outputs": [
    {
     "data": {
      "text/html": [
       "<div>\n",
       "<style scoped>\n",
       "    .dataframe tbody tr th:only-of-type {\n",
       "        vertical-align: middle;\n",
       "    }\n",
       "\n",
       "    .dataframe tbody tr th {\n",
       "        vertical-align: top;\n",
       "    }\n",
       "\n",
       "    .dataframe thead th {\n",
       "        text-align: right;\n",
       "    }\n",
       "</style>\n",
       "<table border=\"1\" class=\"dataframe\">\n",
       "  <thead>\n",
       "    <tr style=\"text-align: right;\">\n",
       "      <th></th>\n",
       "      <th>id</th>\n",
       "      <th>call_date</th>\n",
       "      <th>duration</th>\n",
       "      <th>user_id</th>\n",
       "    </tr>\n",
       "  </thead>\n",
       "  <tbody>\n",
       "    <tr>\n",
       "      <th>0</th>\n",
       "      <td>1000_0</td>\n",
       "      <td>2018-07-25</td>\n",
       "      <td>0.00</td>\n",
       "      <td>1000</td>\n",
       "    </tr>\n",
       "    <tr>\n",
       "      <th>1</th>\n",
       "      <td>1000_1</td>\n",
       "      <td>2018-08-17</td>\n",
       "      <td>0.00</td>\n",
       "      <td>1000</td>\n",
       "    </tr>\n",
       "    <tr>\n",
       "      <th>2</th>\n",
       "      <td>1000_2</td>\n",
       "      <td>2018-06-11</td>\n",
       "      <td>2.85</td>\n",
       "      <td>1000</td>\n",
       "    </tr>\n",
       "    <tr>\n",
       "      <th>3</th>\n",
       "      <td>1000_3</td>\n",
       "      <td>2018-09-21</td>\n",
       "      <td>13.80</td>\n",
       "      <td>1000</td>\n",
       "    </tr>\n",
       "    <tr>\n",
       "      <th>4</th>\n",
       "      <td>1000_4</td>\n",
       "      <td>2018-12-15</td>\n",
       "      <td>5.18</td>\n",
       "      <td>1000</td>\n",
       "    </tr>\n",
       "  </tbody>\n",
       "</table>\n",
       "</div>"
      ],
      "text/plain": [
       "       id   call_date  duration  user_id\n",
       "0  1000_0  2018-07-25      0.00     1000\n",
       "1  1000_1  2018-08-17      0.00     1000\n",
       "2  1000_2  2018-06-11      2.85     1000\n",
       "3  1000_3  2018-09-21     13.80     1000\n",
       "4  1000_4  2018-12-15      5.18     1000"
      ]
     },
     "execution_count": 3,
     "metadata": {},
     "output_type": "execute_result"
    }
   ],
   "source": [
    "calls.head()"
   ]
  },
  {
   "cell_type": "code",
   "execution_count": 4,
   "metadata": {},
   "outputs": [
    {
     "name": "stdout",
     "output_type": "stream",
     "text": [
      "<class 'pandas.core.frame.DataFrame'>\n",
      "RangeIndex: 202607 entries, 0 to 202606\n",
      "Data columns (total 4 columns):\n",
      " #   Column     Non-Null Count   Dtype  \n",
      "---  ------     --------------   -----  \n",
      " 0   id         202607 non-null  object \n",
      " 1   call_date  202607 non-null  object \n",
      " 2   duration   202607 non-null  float64\n",
      " 3   user_id    202607 non-null  int64  \n",
      "dtypes: float64(1), int64(1), object(2)\n",
      "memory usage: 6.2+ MB\n"
     ]
    }
   ],
   "source": [
    "calls.info()"
   ]
  },
  {
   "cell_type": "code",
   "execution_count": 5,
   "metadata": {},
   "outputs": [
    {
     "data": {
      "text/html": [
       "<div>\n",
       "<style scoped>\n",
       "    .dataframe tbody tr th:only-of-type {\n",
       "        vertical-align: middle;\n",
       "    }\n",
       "\n",
       "    .dataframe tbody tr th {\n",
       "        vertical-align: top;\n",
       "    }\n",
       "\n",
       "    .dataframe thead th {\n",
       "        text-align: right;\n",
       "    }\n",
       "</style>\n",
       "<table border=\"1\" class=\"dataframe\">\n",
       "  <thead>\n",
       "    <tr style=\"text-align: right;\">\n",
       "      <th></th>\n",
       "      <th>Unnamed: 0</th>\n",
       "      <th>id</th>\n",
       "      <th>mb_used</th>\n",
       "      <th>session_date</th>\n",
       "      <th>user_id</th>\n",
       "    </tr>\n",
       "  </thead>\n",
       "  <tbody>\n",
       "    <tr>\n",
       "      <th>0</th>\n",
       "      <td>0</td>\n",
       "      <td>1000_0</td>\n",
       "      <td>112.95</td>\n",
       "      <td>2018-11-25</td>\n",
       "      <td>1000</td>\n",
       "    </tr>\n",
       "    <tr>\n",
       "      <th>1</th>\n",
       "      <td>1</td>\n",
       "      <td>1000_1</td>\n",
       "      <td>1052.81</td>\n",
       "      <td>2018-09-07</td>\n",
       "      <td>1000</td>\n",
       "    </tr>\n",
       "    <tr>\n",
       "      <th>2</th>\n",
       "      <td>2</td>\n",
       "      <td>1000_2</td>\n",
       "      <td>1197.26</td>\n",
       "      <td>2018-06-25</td>\n",
       "      <td>1000</td>\n",
       "    </tr>\n",
       "    <tr>\n",
       "      <th>3</th>\n",
       "      <td>3</td>\n",
       "      <td>1000_3</td>\n",
       "      <td>550.27</td>\n",
       "      <td>2018-08-22</td>\n",
       "      <td>1000</td>\n",
       "    </tr>\n",
       "    <tr>\n",
       "      <th>4</th>\n",
       "      <td>4</td>\n",
       "      <td>1000_4</td>\n",
       "      <td>302.56</td>\n",
       "      <td>2018-09-24</td>\n",
       "      <td>1000</td>\n",
       "    </tr>\n",
       "  </tbody>\n",
       "</table>\n",
       "</div>"
      ],
      "text/plain": [
       "   Unnamed: 0      id  mb_used session_date  user_id\n",
       "0           0  1000_0   112.95   2018-11-25     1000\n",
       "1           1  1000_1  1052.81   2018-09-07     1000\n",
       "2           2  1000_2  1197.26   2018-06-25     1000\n",
       "3           3  1000_3   550.27   2018-08-22     1000\n",
       "4           4  1000_4   302.56   2018-09-24     1000"
      ]
     },
     "execution_count": 5,
     "metadata": {},
     "output_type": "execute_result"
    }
   ],
   "source": [
    "internet.head()"
   ]
  },
  {
   "cell_type": "code",
   "execution_count": 6,
   "metadata": {},
   "outputs": [
    {
     "name": "stdout",
     "output_type": "stream",
     "text": [
      "<class 'pandas.core.frame.DataFrame'>\n",
      "RangeIndex: 149396 entries, 0 to 149395\n",
      "Data columns (total 5 columns):\n",
      " #   Column        Non-Null Count   Dtype  \n",
      "---  ------        --------------   -----  \n",
      " 0   Unnamed: 0    149396 non-null  int64  \n",
      " 1   id            149396 non-null  object \n",
      " 2   mb_used       149396 non-null  float64\n",
      " 3   session_date  149396 non-null  object \n",
      " 4   user_id       149396 non-null  int64  \n",
      "dtypes: float64(1), int64(2), object(2)\n",
      "memory usage: 5.7+ MB\n"
     ]
    }
   ],
   "source": [
    "internet.info()"
   ]
  },
  {
   "cell_type": "code",
   "execution_count": 7,
   "metadata": {},
   "outputs": [
    {
     "data": {
      "text/html": [
       "<div>\n",
       "<style scoped>\n",
       "    .dataframe tbody tr th:only-of-type {\n",
       "        vertical-align: middle;\n",
       "    }\n",
       "\n",
       "    .dataframe tbody tr th {\n",
       "        vertical-align: top;\n",
       "    }\n",
       "\n",
       "    .dataframe thead th {\n",
       "        text-align: right;\n",
       "    }\n",
       "</style>\n",
       "<table border=\"1\" class=\"dataframe\">\n",
       "  <thead>\n",
       "    <tr style=\"text-align: right;\">\n",
       "      <th></th>\n",
       "      <th>id</th>\n",
       "      <th>message_date</th>\n",
       "      <th>user_id</th>\n",
       "    </tr>\n",
       "  </thead>\n",
       "  <tbody>\n",
       "    <tr>\n",
       "      <th>0</th>\n",
       "      <td>1000_0</td>\n",
       "      <td>2018-06-27</td>\n",
       "      <td>1000</td>\n",
       "    </tr>\n",
       "    <tr>\n",
       "      <th>1</th>\n",
       "      <td>1000_1</td>\n",
       "      <td>2018-10-08</td>\n",
       "      <td>1000</td>\n",
       "    </tr>\n",
       "    <tr>\n",
       "      <th>2</th>\n",
       "      <td>1000_2</td>\n",
       "      <td>2018-08-04</td>\n",
       "      <td>1000</td>\n",
       "    </tr>\n",
       "    <tr>\n",
       "      <th>3</th>\n",
       "      <td>1000_3</td>\n",
       "      <td>2018-06-16</td>\n",
       "      <td>1000</td>\n",
       "    </tr>\n",
       "    <tr>\n",
       "      <th>4</th>\n",
       "      <td>1000_4</td>\n",
       "      <td>2018-12-05</td>\n",
       "      <td>1000</td>\n",
       "    </tr>\n",
       "  </tbody>\n",
       "</table>\n",
       "</div>"
      ],
      "text/plain": [
       "       id message_date  user_id\n",
       "0  1000_0   2018-06-27     1000\n",
       "1  1000_1   2018-10-08     1000\n",
       "2  1000_2   2018-08-04     1000\n",
       "3  1000_3   2018-06-16     1000\n",
       "4  1000_4   2018-12-05     1000"
      ]
     },
     "execution_count": 7,
     "metadata": {},
     "output_type": "execute_result"
    }
   ],
   "source": [
    "messages.head()"
   ]
  },
  {
   "cell_type": "code",
   "execution_count": 8,
   "metadata": {},
   "outputs": [
    {
     "name": "stdout",
     "output_type": "stream",
     "text": [
      "<class 'pandas.core.frame.DataFrame'>\n",
      "RangeIndex: 123036 entries, 0 to 123035\n",
      "Data columns (total 3 columns):\n",
      " #   Column        Non-Null Count   Dtype \n",
      "---  ------        --------------   ----- \n",
      " 0   id            123036 non-null  object\n",
      " 1   message_date  123036 non-null  object\n",
      " 2   user_id       123036 non-null  int64 \n",
      "dtypes: int64(1), object(2)\n",
      "memory usage: 2.8+ MB\n"
     ]
    }
   ],
   "source": [
    "messages.info()"
   ]
  },
  {
   "cell_type": "code",
   "execution_count": 9,
   "metadata": {},
   "outputs": [
    {
     "data": {
      "text/html": [
       "<div>\n",
       "<style scoped>\n",
       "    .dataframe tbody tr th:only-of-type {\n",
       "        vertical-align: middle;\n",
       "    }\n",
       "\n",
       "    .dataframe tbody tr th {\n",
       "        vertical-align: top;\n",
       "    }\n",
       "\n",
       "    .dataframe thead th {\n",
       "        text-align: right;\n",
       "    }\n",
       "</style>\n",
       "<table border=\"1\" class=\"dataframe\">\n",
       "  <thead>\n",
       "    <tr style=\"text-align: right;\">\n",
       "      <th></th>\n",
       "      <th>messages_included</th>\n",
       "      <th>mb_per_month_included</th>\n",
       "      <th>minutes_included</th>\n",
       "      <th>rub_monthly_fee</th>\n",
       "      <th>rub_per_gb</th>\n",
       "      <th>rub_per_message</th>\n",
       "      <th>rub_per_minute</th>\n",
       "      <th>tariff_name</th>\n",
       "    </tr>\n",
       "  </thead>\n",
       "  <tbody>\n",
       "    <tr>\n",
       "      <th>0</th>\n",
       "      <td>50</td>\n",
       "      <td>15360</td>\n",
       "      <td>500</td>\n",
       "      <td>550</td>\n",
       "      <td>200</td>\n",
       "      <td>3</td>\n",
       "      <td>3</td>\n",
       "      <td>smart</td>\n",
       "    </tr>\n",
       "    <tr>\n",
       "      <th>1</th>\n",
       "      <td>1000</td>\n",
       "      <td>30720</td>\n",
       "      <td>3000</td>\n",
       "      <td>1950</td>\n",
       "      <td>150</td>\n",
       "      <td>1</td>\n",
       "      <td>1</td>\n",
       "      <td>ultra</td>\n",
       "    </tr>\n",
       "  </tbody>\n",
       "</table>\n",
       "</div>"
      ],
      "text/plain": [
       "   messages_included  mb_per_month_included  minutes_included  \\\n",
       "0                 50                  15360               500   \n",
       "1               1000                  30720              3000   \n",
       "\n",
       "   rub_monthly_fee  rub_per_gb  rub_per_message  rub_per_minute tariff_name  \n",
       "0              550         200                3               3       smart  \n",
       "1             1950         150                1               1       ultra  "
      ]
     },
     "execution_count": 9,
     "metadata": {},
     "output_type": "execute_result"
    }
   ],
   "source": [
    "tariffs.head()"
   ]
  },
  {
   "cell_type": "code",
   "execution_count": 10,
   "metadata": {},
   "outputs": [],
   "source": [
    "tariffs.rename(columns = {'messages_included':'messages_included', 'mb_per_month_included':'mb_per_month_included', 'minutes_included':'minutes_included', 'rub_monthly_fee':'rub_monthly_fee', 'rub_per_gb':'rub_per_gb', 'rub_per_message':'rub_per_message', 'rub_per_minute':'rub_per_minute' ,'tariff_name':'tariff'}, inplace = True)"
   ]
  },
  {
   "cell_type": "code",
   "execution_count": 11,
   "metadata": {},
   "outputs": [
    {
     "name": "stdout",
     "output_type": "stream",
     "text": [
      "<class 'pandas.core.frame.DataFrame'>\n",
      "RangeIndex: 2 entries, 0 to 1\n",
      "Data columns (total 8 columns):\n",
      " #   Column                 Non-Null Count  Dtype \n",
      "---  ------                 --------------  ----- \n",
      " 0   messages_included      2 non-null      int64 \n",
      " 1   mb_per_month_included  2 non-null      int64 \n",
      " 2   minutes_included       2 non-null      int64 \n",
      " 3   rub_monthly_fee        2 non-null      int64 \n",
      " 4   rub_per_gb             2 non-null      int64 \n",
      " 5   rub_per_message        2 non-null      int64 \n",
      " 6   rub_per_minute         2 non-null      int64 \n",
      " 7   tariff                 2 non-null      object\n",
      "dtypes: int64(7), object(1)\n",
      "memory usage: 256.0+ bytes\n"
     ]
    }
   ],
   "source": [
    "tariffs.info()"
   ]
  },
  {
   "cell_type": "code",
   "execution_count": 12,
   "metadata": {},
   "outputs": [
    {
     "data": {
      "text/html": [
       "<div>\n",
       "<style scoped>\n",
       "    .dataframe tbody tr th:only-of-type {\n",
       "        vertical-align: middle;\n",
       "    }\n",
       "\n",
       "    .dataframe tbody tr th {\n",
       "        vertical-align: top;\n",
       "    }\n",
       "\n",
       "    .dataframe thead th {\n",
       "        text-align: right;\n",
       "    }\n",
       "</style>\n",
       "<table border=\"1\" class=\"dataframe\">\n",
       "  <thead>\n",
       "    <tr style=\"text-align: right;\">\n",
       "      <th></th>\n",
       "      <th>user_id</th>\n",
       "      <th>age</th>\n",
       "      <th>churn_date</th>\n",
       "      <th>city</th>\n",
       "      <th>first_name</th>\n",
       "      <th>last_name</th>\n",
       "      <th>reg_date</th>\n",
       "      <th>tariff</th>\n",
       "    </tr>\n",
       "  </thead>\n",
       "  <tbody>\n",
       "    <tr>\n",
       "      <th>0</th>\n",
       "      <td>1000</td>\n",
       "      <td>52</td>\n",
       "      <td>NaN</td>\n",
       "      <td>Краснодар</td>\n",
       "      <td>Рафаил</td>\n",
       "      <td>Верещагин</td>\n",
       "      <td>2018-05-25</td>\n",
       "      <td>ultra</td>\n",
       "    </tr>\n",
       "    <tr>\n",
       "      <th>1</th>\n",
       "      <td>1001</td>\n",
       "      <td>41</td>\n",
       "      <td>NaN</td>\n",
       "      <td>Москва</td>\n",
       "      <td>Иван</td>\n",
       "      <td>Ежов</td>\n",
       "      <td>2018-11-01</td>\n",
       "      <td>smart</td>\n",
       "    </tr>\n",
       "    <tr>\n",
       "      <th>2</th>\n",
       "      <td>1002</td>\n",
       "      <td>59</td>\n",
       "      <td>NaN</td>\n",
       "      <td>Стерлитамак</td>\n",
       "      <td>Евгений</td>\n",
       "      <td>Абрамович</td>\n",
       "      <td>2018-06-17</td>\n",
       "      <td>smart</td>\n",
       "    </tr>\n",
       "    <tr>\n",
       "      <th>3</th>\n",
       "      <td>1003</td>\n",
       "      <td>23</td>\n",
       "      <td>NaN</td>\n",
       "      <td>Москва</td>\n",
       "      <td>Белла</td>\n",
       "      <td>Белякова</td>\n",
       "      <td>2018-08-17</td>\n",
       "      <td>ultra</td>\n",
       "    </tr>\n",
       "    <tr>\n",
       "      <th>4</th>\n",
       "      <td>1004</td>\n",
       "      <td>68</td>\n",
       "      <td>NaN</td>\n",
       "      <td>Новокузнецк</td>\n",
       "      <td>Татьяна</td>\n",
       "      <td>Авдеенко</td>\n",
       "      <td>2018-05-14</td>\n",
       "      <td>ultra</td>\n",
       "    </tr>\n",
       "  </tbody>\n",
       "</table>\n",
       "</div>"
      ],
      "text/plain": [
       "   user_id  age churn_date         city first_name  last_name    reg_date  \\\n",
       "0     1000   52        NaN    Краснодар     Рафаил  Верещагин  2018-05-25   \n",
       "1     1001   41        NaN       Москва       Иван       Ежов  2018-11-01   \n",
       "2     1002   59        NaN  Стерлитамак    Евгений  Абрамович  2018-06-17   \n",
       "3     1003   23        NaN       Москва      Белла   Белякова  2018-08-17   \n",
       "4     1004   68        NaN  Новокузнецк    Татьяна   Авдеенко  2018-05-14   \n",
       "\n",
       "  tariff  \n",
       "0  ultra  \n",
       "1  smart  \n",
       "2  smart  \n",
       "3  ultra  \n",
       "4  ultra  "
      ]
     },
     "execution_count": 12,
     "metadata": {},
     "output_type": "execute_result"
    }
   ],
   "source": [
    "users.head()"
   ]
  },
  {
   "cell_type": "code",
   "execution_count": 13,
   "metadata": {},
   "outputs": [
    {
     "name": "stdout",
     "output_type": "stream",
     "text": [
      "<class 'pandas.core.frame.DataFrame'>\n",
      "RangeIndex: 500 entries, 0 to 499\n",
      "Data columns (total 8 columns):\n",
      " #   Column      Non-Null Count  Dtype \n",
      "---  ------      --------------  ----- \n",
      " 0   user_id     500 non-null    int64 \n",
      " 1   age         500 non-null    int64 \n",
      " 2   churn_date  38 non-null     object\n",
      " 3   city        500 non-null    object\n",
      " 4   first_name  500 non-null    object\n",
      " 5   last_name   500 non-null    object\n",
      " 6   reg_date    500 non-null    object\n",
      " 7   tariff      500 non-null    object\n",
      "dtypes: int64(2), object(6)\n",
      "memory usage: 31.4+ KB\n"
     ]
    }
   ],
   "source": [
    "users.info()"
   ]
  },
  {
   "cell_type": "markdown",
   "metadata": {},
   "source": [
    "### Вывод"
   ]
  },
  {
   "cell_type": "markdown",
   "metadata": {},
   "source": [
    "<div style=\"border:solid blue 1px; padding: 20px\"> \n",
    "Пропуски есть только в таблице \"users\" в колонке \"дата прекращения пользования тарифом\". Если значение пропущено, то тариф ещё действовал на момент выгрузки данных. Не будем удалять или заполнять данные пропуски."
   ]
  },
  {
   "cell_type": "markdown",
   "metadata": {},
   "source": [
    "## Предобработка данных"
   ]
  },
  {
   "cell_type": "markdown",
   "metadata": {},
   "source": [
    "### Изменение типов данных"
   ]
  },
  {
   "cell_type": "markdown",
   "metadata": {},
   "source": [
    "<div style=\"border:solid blue 1px; padding: 20px\"> \n",
    "В таблице \"calls\" изменим тип данных в столбцах \"дата звонка\" и длительность звонка в минутах, округлив данные до целого значения в большую сторону."
   ]
  },
  {
   "cell_type": "code",
   "execution_count": 14,
   "metadata": {},
   "outputs": [],
   "source": [
    "calls['call_date'] = pd.to_datetime(calls['call_date'],format='%Y-%m-%d')"
   ]
  },
  {
   "cell_type": "code",
   "execution_count": 15,
   "metadata": {},
   "outputs": [
    {
     "data": {
      "text/html": [
       "<div>\n",
       "<style scoped>\n",
       "    .dataframe tbody tr th:only-of-type {\n",
       "        vertical-align: middle;\n",
       "    }\n",
       "\n",
       "    .dataframe tbody tr th {\n",
       "        vertical-align: top;\n",
       "    }\n",
       "\n",
       "    .dataframe thead th {\n",
       "        text-align: right;\n",
       "    }\n",
       "</style>\n",
       "<table border=\"1\" class=\"dataframe\">\n",
       "  <thead>\n",
       "    <tr style=\"text-align: right;\">\n",
       "      <th></th>\n",
       "      <th>id</th>\n",
       "      <th>call_date</th>\n",
       "      <th>duration</th>\n",
       "      <th>user_id</th>\n",
       "    </tr>\n",
       "  </thead>\n",
       "  <tbody>\n",
       "    <tr>\n",
       "      <th>0</th>\n",
       "      <td>1000_0</td>\n",
       "      <td>2018-07-25</td>\n",
       "      <td>0</td>\n",
       "      <td>1000</td>\n",
       "    </tr>\n",
       "    <tr>\n",
       "      <th>1</th>\n",
       "      <td>1000_1</td>\n",
       "      <td>2018-08-17</td>\n",
       "      <td>0</td>\n",
       "      <td>1000</td>\n",
       "    </tr>\n",
       "    <tr>\n",
       "      <th>2</th>\n",
       "      <td>1000_2</td>\n",
       "      <td>2018-06-11</td>\n",
       "      <td>3</td>\n",
       "      <td>1000</td>\n",
       "    </tr>\n",
       "    <tr>\n",
       "      <th>3</th>\n",
       "      <td>1000_3</td>\n",
       "      <td>2018-09-21</td>\n",
       "      <td>14</td>\n",
       "      <td>1000</td>\n",
       "    </tr>\n",
       "    <tr>\n",
       "      <th>4</th>\n",
       "      <td>1000_4</td>\n",
       "      <td>2018-12-15</td>\n",
       "      <td>6</td>\n",
       "      <td>1000</td>\n",
       "    </tr>\n",
       "  </tbody>\n",
       "</table>\n",
       "</div>"
      ],
      "text/plain": [
       "       id  call_date  duration  user_id\n",
       "0  1000_0 2018-07-25         0     1000\n",
       "1  1000_1 2018-08-17         0     1000\n",
       "2  1000_2 2018-06-11         3     1000\n",
       "3  1000_3 2018-09-21        14     1000\n",
       "4  1000_4 2018-12-15         6     1000"
      ]
     },
     "execution_count": 15,
     "metadata": {},
     "output_type": "execute_result"
    }
   ],
   "source": [
    "def duration_round (row):\n",
    "    num = row['duration']\n",
    "    return math.ceil(num)\n",
    "\n",
    "calls['duration'] = calls.apply(duration_round, axis=1)\n",
    "calls.head()"
   ]
  },
  {
   "cell_type": "code",
   "execution_count": 16,
   "metadata": {},
   "outputs": [
    {
     "name": "stdout",
     "output_type": "stream",
     "text": [
      "<class 'pandas.core.frame.DataFrame'>\n",
      "RangeIndex: 202607 entries, 0 to 202606\n",
      "Data columns (total 4 columns):\n",
      " #   Column     Non-Null Count   Dtype         \n",
      "---  ------     --------------   -----         \n",
      " 0   id         202607 non-null  object        \n",
      " 1   call_date  202607 non-null  datetime64[ns]\n",
      " 2   duration   202607 non-null  int64         \n",
      " 3   user_id    202607 non-null  int64         \n",
      "dtypes: datetime64[ns](1), int64(2), object(1)\n",
      "memory usage: 6.2+ MB\n"
     ]
    }
   ],
   "source": [
    "calls.info()"
   ]
  },
  {
   "cell_type": "markdown",
   "metadata": {},
   "source": [
    "<div style=\"border:solid blue 1px; padding: 20px\"> \n",
    "В таблице \"internet\" изменим тип данных в столбце \"дата интернет-сессии\"."
   ]
  },
  {
   "cell_type": "code",
   "execution_count": 17,
   "metadata": {},
   "outputs": [],
   "source": [
    "internet['session_date'] = pd.to_datetime(internet['session_date'],format='%Y-%m-%d')"
   ]
  },
  {
   "cell_type": "code",
   "execution_count": 18,
   "metadata": {},
   "outputs": [
    {
     "name": "stdout",
     "output_type": "stream",
     "text": [
      "<class 'pandas.core.frame.DataFrame'>\n",
      "RangeIndex: 149396 entries, 0 to 149395\n",
      "Data columns (total 5 columns):\n",
      " #   Column        Non-Null Count   Dtype         \n",
      "---  ------        --------------   -----         \n",
      " 0   Unnamed: 0    149396 non-null  int64         \n",
      " 1   id            149396 non-null  object        \n",
      " 2   mb_used       149396 non-null  float64       \n",
      " 3   session_date  149396 non-null  datetime64[ns]\n",
      " 4   user_id       149396 non-null  int64         \n",
      "dtypes: datetime64[ns](1), float64(1), int64(2), object(1)\n",
      "memory usage: 5.7+ MB\n"
     ]
    }
   ],
   "source": [
    "internet.info()"
   ]
  },
  {
   "cell_type": "markdown",
   "metadata": {},
   "source": [
    "<div style=\"border:solid blue 1px; padding: 20px\"> \n",
    "В таблице \"messages\" изменим тип данных в столбце \"дата сообщения\"."
   ]
  },
  {
   "cell_type": "code",
   "execution_count": 19,
   "metadata": {},
   "outputs": [],
   "source": [
    "messages['message_date'] = pd.to_datetime(messages['message_date'],format='%Y-%m-%d')"
   ]
  },
  {
   "cell_type": "code",
   "execution_count": 20,
   "metadata": {},
   "outputs": [
    {
     "name": "stdout",
     "output_type": "stream",
     "text": [
      "<class 'pandas.core.frame.DataFrame'>\n",
      "RangeIndex: 123036 entries, 0 to 123035\n",
      "Data columns (total 3 columns):\n",
      " #   Column        Non-Null Count   Dtype         \n",
      "---  ------        --------------   -----         \n",
      " 0   id            123036 non-null  object        \n",
      " 1   message_date  123036 non-null  datetime64[ns]\n",
      " 2   user_id       123036 non-null  int64         \n",
      "dtypes: datetime64[ns](1), int64(1), object(1)\n",
      "memory usage: 2.8+ MB\n"
     ]
    }
   ],
   "source": [
    "messages.info()"
   ]
  },
  {
   "cell_type": "markdown",
   "metadata": {},
   "source": [
    "<div style=\"border:solid blue 1px; padding: 20px\"> \n",
    "В таблице \"users\" изменим тип данных в столбцах \"дата подключения тарифа\"и \"дата прекращения пользования тарифом\"."
   ]
  },
  {
   "cell_type": "code",
   "execution_count": 21,
   "metadata": {},
   "outputs": [],
   "source": [
    "users['churn_date'] = pd.to_datetime(users['churn_date'],format='%Y-%m-%d')\n",
    "users['reg_date'] = pd.to_datetime(users['reg_date'],format='%Y-%m-%d')"
   ]
  },
  {
   "cell_type": "code",
   "execution_count": 22,
   "metadata": {},
   "outputs": [
    {
     "name": "stdout",
     "output_type": "stream",
     "text": [
      "<class 'pandas.core.frame.DataFrame'>\n",
      "RangeIndex: 500 entries, 0 to 499\n",
      "Data columns (total 8 columns):\n",
      " #   Column      Non-Null Count  Dtype         \n",
      "---  ------      --------------  -----         \n",
      " 0   user_id     500 non-null    int64         \n",
      " 1   age         500 non-null    int64         \n",
      " 2   churn_date  38 non-null     datetime64[ns]\n",
      " 3   city        500 non-null    object        \n",
      " 4   first_name  500 non-null    object        \n",
      " 5   last_name   500 non-null    object        \n",
      " 6   reg_date    500 non-null    datetime64[ns]\n",
      " 7   tariff      500 non-null    object        \n",
      "dtypes: datetime64[ns](2), int64(2), object(4)\n",
      "memory usage: 31.4+ KB\n"
     ]
    }
   ],
   "source": [
    "users.info()"
   ]
  },
  {
   "cell_type": "markdown",
   "metadata": {},
   "source": [
    "### Поиск дубликатов"
   ]
  },
  {
   "cell_type": "code",
   "execution_count": 23,
   "metadata": {},
   "outputs": [
    {
     "data": {
      "text/plain": [
       "0"
      ]
     },
     "execution_count": 23,
     "metadata": {},
     "output_type": "execute_result"
    }
   ],
   "source": [
    "users.duplicated().sum()"
   ]
  },
  {
   "cell_type": "code",
   "execution_count": 24,
   "metadata": {},
   "outputs": [
    {
     "data": {
      "text/plain": [
       "0"
      ]
     },
     "execution_count": 24,
     "metadata": {},
     "output_type": "execute_result"
    }
   ],
   "source": [
    "internet.duplicated().sum()"
   ]
  },
  {
   "cell_type": "code",
   "execution_count": 25,
   "metadata": {},
   "outputs": [
    {
     "data": {
      "text/plain": [
       "0"
      ]
     },
     "execution_count": 25,
     "metadata": {},
     "output_type": "execute_result"
    }
   ],
   "source": [
    "messages.duplicated().sum()"
   ]
  },
  {
   "cell_type": "code",
   "execution_count": 26,
   "metadata": {},
   "outputs": [
    {
     "data": {
      "text/plain": [
       "0"
      ]
     },
     "execution_count": 26,
     "metadata": {},
     "output_type": "execute_result"
    }
   ],
   "source": [
    "calls.duplicated().sum()"
   ]
  },
  {
   "cell_type": "code",
   "execution_count": 27,
   "metadata": {},
   "outputs": [
    {
     "data": {
      "text/plain": [
       "0"
      ]
     },
     "execution_count": 27,
     "metadata": {},
     "output_type": "execute_result"
    }
   ],
   "source": [
    "tariffs.duplicated().sum()"
   ]
  },
  {
   "cell_type": "markdown",
   "metadata": {},
   "source": [
    "<div style=\"border:solid blue 1px; padding: 20px\"> \n",
    "Явных дубликатов не выявлено."
   ]
  },
  {
   "cell_type": "markdown",
   "metadata": {},
   "source": [
    "### Вывод"
   ]
  },
  {
   "cell_type": "markdown",
   "metadata": {},
   "source": [
    "<div style=\"border:solid blue 1px; padding: 20px\"> \n",
    "Были изменены типы данных в столбцах с датами. Явных дубликатов не выявлено."
   ]
  },
  {
   "cell_type": "markdown",
   "metadata": {},
   "source": [
    "## Расчёты и добавление результатов в таблицу"
   ]
  },
  {
   "cell_type": "markdown",
   "metadata": {},
   "source": [
    "### Год и месяц совершения звонка, написания сообщения и выхода в интернет"
   ]
  },
  {
   "cell_type": "markdown",
   "metadata": {},
   "source": [
    "<div style=\"border:solid blue 1px; padding: 20px\"> \n",
    "Добавим в таблицы год и месяц совершения звонка, написания сообщения и выхода в интернет."
   ]
  },
  {
   "cell_type": "code",
   "execution_count": 28,
   "metadata": {},
   "outputs": [],
   "source": [
    "calls['month'] = calls['call_date'].dt.month\n",
    "calls['year'] = calls['call_date'].dt.year\n",
    "\n",
    "messages['month'] = messages['message_date'].dt.month\n",
    "messages['year'] = messages['message_date'].dt.year\n",
    "\n",
    "internet['month'] = internet['session_date'].dt.month\n",
    "internet['year'] = internet['session_date'].dt.year"
   ]
  },
  {
   "cell_type": "code",
   "execution_count": 29,
   "metadata": {},
   "outputs": [
    {
     "data": {
      "text/html": [
       "<div>\n",
       "<style scoped>\n",
       "    .dataframe tbody tr th:only-of-type {\n",
       "        vertical-align: middle;\n",
       "    }\n",
       "\n",
       "    .dataframe tbody tr th {\n",
       "        vertical-align: top;\n",
       "    }\n",
       "\n",
       "    .dataframe thead th {\n",
       "        text-align: right;\n",
       "    }\n",
       "</style>\n",
       "<table border=\"1\" class=\"dataframe\">\n",
       "  <thead>\n",
       "    <tr style=\"text-align: right;\">\n",
       "      <th></th>\n",
       "      <th>id</th>\n",
       "      <th>call_date</th>\n",
       "      <th>duration</th>\n",
       "      <th>user_id</th>\n",
       "      <th>month</th>\n",
       "      <th>year</th>\n",
       "    </tr>\n",
       "  </thead>\n",
       "  <tbody>\n",
       "    <tr>\n",
       "      <th>0</th>\n",
       "      <td>1000_0</td>\n",
       "      <td>2018-07-25</td>\n",
       "      <td>0</td>\n",
       "      <td>1000</td>\n",
       "      <td>7</td>\n",
       "      <td>2018</td>\n",
       "    </tr>\n",
       "    <tr>\n",
       "      <th>1</th>\n",
       "      <td>1000_1</td>\n",
       "      <td>2018-08-17</td>\n",
       "      <td>0</td>\n",
       "      <td>1000</td>\n",
       "      <td>8</td>\n",
       "      <td>2018</td>\n",
       "    </tr>\n",
       "    <tr>\n",
       "      <th>2</th>\n",
       "      <td>1000_2</td>\n",
       "      <td>2018-06-11</td>\n",
       "      <td>3</td>\n",
       "      <td>1000</td>\n",
       "      <td>6</td>\n",
       "      <td>2018</td>\n",
       "    </tr>\n",
       "    <tr>\n",
       "      <th>3</th>\n",
       "      <td>1000_3</td>\n",
       "      <td>2018-09-21</td>\n",
       "      <td>14</td>\n",
       "      <td>1000</td>\n",
       "      <td>9</td>\n",
       "      <td>2018</td>\n",
       "    </tr>\n",
       "    <tr>\n",
       "      <th>4</th>\n",
       "      <td>1000_4</td>\n",
       "      <td>2018-12-15</td>\n",
       "      <td>6</td>\n",
       "      <td>1000</td>\n",
       "      <td>12</td>\n",
       "      <td>2018</td>\n",
       "    </tr>\n",
       "  </tbody>\n",
       "</table>\n",
       "</div>"
      ],
      "text/plain": [
       "       id  call_date  duration  user_id  month  year\n",
       "0  1000_0 2018-07-25         0     1000      7  2018\n",
       "1  1000_1 2018-08-17         0     1000      8  2018\n",
       "2  1000_2 2018-06-11         3     1000      6  2018\n",
       "3  1000_3 2018-09-21        14     1000      9  2018\n",
       "4  1000_4 2018-12-15         6     1000     12  2018"
      ]
     },
     "execution_count": 29,
     "metadata": {},
     "output_type": "execute_result"
    }
   ],
   "source": [
    "calls.head()"
   ]
  },
  {
   "cell_type": "code",
   "execution_count": 30,
   "metadata": {},
   "outputs": [
    {
     "data": {
      "text/html": [
       "<div>\n",
       "<style scoped>\n",
       "    .dataframe tbody tr th:only-of-type {\n",
       "        vertical-align: middle;\n",
       "    }\n",
       "\n",
       "    .dataframe tbody tr th {\n",
       "        vertical-align: top;\n",
       "    }\n",
       "\n",
       "    .dataframe thead th {\n",
       "        text-align: right;\n",
       "    }\n",
       "</style>\n",
       "<table border=\"1\" class=\"dataframe\">\n",
       "  <thead>\n",
       "    <tr style=\"text-align: right;\">\n",
       "      <th></th>\n",
       "      <th>id</th>\n",
       "      <th>message_date</th>\n",
       "      <th>user_id</th>\n",
       "      <th>month</th>\n",
       "      <th>year</th>\n",
       "    </tr>\n",
       "  </thead>\n",
       "  <tbody>\n",
       "    <tr>\n",
       "      <th>0</th>\n",
       "      <td>1000_0</td>\n",
       "      <td>2018-06-27</td>\n",
       "      <td>1000</td>\n",
       "      <td>6</td>\n",
       "      <td>2018</td>\n",
       "    </tr>\n",
       "    <tr>\n",
       "      <th>1</th>\n",
       "      <td>1000_1</td>\n",
       "      <td>2018-10-08</td>\n",
       "      <td>1000</td>\n",
       "      <td>10</td>\n",
       "      <td>2018</td>\n",
       "    </tr>\n",
       "    <tr>\n",
       "      <th>2</th>\n",
       "      <td>1000_2</td>\n",
       "      <td>2018-08-04</td>\n",
       "      <td>1000</td>\n",
       "      <td>8</td>\n",
       "      <td>2018</td>\n",
       "    </tr>\n",
       "    <tr>\n",
       "      <th>3</th>\n",
       "      <td>1000_3</td>\n",
       "      <td>2018-06-16</td>\n",
       "      <td>1000</td>\n",
       "      <td>6</td>\n",
       "      <td>2018</td>\n",
       "    </tr>\n",
       "    <tr>\n",
       "      <th>4</th>\n",
       "      <td>1000_4</td>\n",
       "      <td>2018-12-05</td>\n",
       "      <td>1000</td>\n",
       "      <td>12</td>\n",
       "      <td>2018</td>\n",
       "    </tr>\n",
       "  </tbody>\n",
       "</table>\n",
       "</div>"
      ],
      "text/plain": [
       "       id message_date  user_id  month  year\n",
       "0  1000_0   2018-06-27     1000      6  2018\n",
       "1  1000_1   2018-10-08     1000     10  2018\n",
       "2  1000_2   2018-08-04     1000      8  2018\n",
       "3  1000_3   2018-06-16     1000      6  2018\n",
       "4  1000_4   2018-12-05     1000     12  2018"
      ]
     },
     "execution_count": 30,
     "metadata": {},
     "output_type": "execute_result"
    }
   ],
   "source": [
    "messages.head()"
   ]
  },
  {
   "cell_type": "code",
   "execution_count": 31,
   "metadata": {},
   "outputs": [
    {
     "data": {
      "text/html": [
       "<div>\n",
       "<style scoped>\n",
       "    .dataframe tbody tr th:only-of-type {\n",
       "        vertical-align: middle;\n",
       "    }\n",
       "\n",
       "    .dataframe tbody tr th {\n",
       "        vertical-align: top;\n",
       "    }\n",
       "\n",
       "    .dataframe thead th {\n",
       "        text-align: right;\n",
       "    }\n",
       "</style>\n",
       "<table border=\"1\" class=\"dataframe\">\n",
       "  <thead>\n",
       "    <tr style=\"text-align: right;\">\n",
       "      <th></th>\n",
       "      <th>Unnamed: 0</th>\n",
       "      <th>id</th>\n",
       "      <th>mb_used</th>\n",
       "      <th>session_date</th>\n",
       "      <th>user_id</th>\n",
       "      <th>month</th>\n",
       "      <th>year</th>\n",
       "    </tr>\n",
       "  </thead>\n",
       "  <tbody>\n",
       "    <tr>\n",
       "      <th>0</th>\n",
       "      <td>0</td>\n",
       "      <td>1000_0</td>\n",
       "      <td>112.95</td>\n",
       "      <td>2018-11-25</td>\n",
       "      <td>1000</td>\n",
       "      <td>11</td>\n",
       "      <td>2018</td>\n",
       "    </tr>\n",
       "    <tr>\n",
       "      <th>1</th>\n",
       "      <td>1</td>\n",
       "      <td>1000_1</td>\n",
       "      <td>1052.81</td>\n",
       "      <td>2018-09-07</td>\n",
       "      <td>1000</td>\n",
       "      <td>9</td>\n",
       "      <td>2018</td>\n",
       "    </tr>\n",
       "    <tr>\n",
       "      <th>2</th>\n",
       "      <td>2</td>\n",
       "      <td>1000_2</td>\n",
       "      <td>1197.26</td>\n",
       "      <td>2018-06-25</td>\n",
       "      <td>1000</td>\n",
       "      <td>6</td>\n",
       "      <td>2018</td>\n",
       "    </tr>\n",
       "    <tr>\n",
       "      <th>3</th>\n",
       "      <td>3</td>\n",
       "      <td>1000_3</td>\n",
       "      <td>550.27</td>\n",
       "      <td>2018-08-22</td>\n",
       "      <td>1000</td>\n",
       "      <td>8</td>\n",
       "      <td>2018</td>\n",
       "    </tr>\n",
       "    <tr>\n",
       "      <th>4</th>\n",
       "      <td>4</td>\n",
       "      <td>1000_4</td>\n",
       "      <td>302.56</td>\n",
       "      <td>2018-09-24</td>\n",
       "      <td>1000</td>\n",
       "      <td>9</td>\n",
       "      <td>2018</td>\n",
       "    </tr>\n",
       "  </tbody>\n",
       "</table>\n",
       "</div>"
      ],
      "text/plain": [
       "   Unnamed: 0      id  mb_used session_date  user_id  month  year\n",
       "0           0  1000_0   112.95   2018-11-25     1000     11  2018\n",
       "1           1  1000_1  1052.81   2018-09-07     1000      9  2018\n",
       "2           2  1000_2  1197.26   2018-06-25     1000      6  2018\n",
       "3           3  1000_3   550.27   2018-08-22     1000      8  2018\n",
       "4           4  1000_4   302.56   2018-09-24     1000      9  2018"
      ]
     },
     "execution_count": 31,
     "metadata": {},
     "output_type": "execute_result"
    }
   ],
   "source": [
    "internet.head()"
   ]
  },
  {
   "cell_type": "code",
   "execution_count": 32,
   "metadata": {},
   "outputs": [
    {
     "data": {
      "text/plain": [
       "array([2018])"
      ]
     },
     "metadata": {},
     "output_type": "display_data"
    }
   ],
   "source": [
    "display(calls['year'].unique())"
   ]
  },
  {
   "cell_type": "code",
   "execution_count": 33,
   "metadata": {},
   "outputs": [
    {
     "data": {
      "text/plain": [
       "array([2018])"
      ]
     },
     "metadata": {},
     "output_type": "display_data"
    }
   ],
   "source": [
    "display(messages['year'].unique())"
   ]
  },
  {
   "cell_type": "code",
   "execution_count": 34,
   "metadata": {},
   "outputs": [
    {
     "data": {
      "text/plain": [
       "array([2018])"
      ]
     },
     "metadata": {},
     "output_type": "display_data"
    }
   ],
   "source": [
    "display(internet['year'].unique())"
   ]
  },
  {
   "cell_type": "markdown",
   "metadata": {},
   "source": [
    "<div style=\"border:solid blue 1px; padding: 20px\"> \n",
    "Для исследования даны данные только за 2018 год."
   ]
  },
  {
   "cell_type": "markdown",
   "metadata": {},
   "source": [
    "### Количество сделанных звонков и израсходованных минут разговора по месяцам"
   ]
  },
  {
   "cell_type": "markdown",
   "metadata": {},
   "source": [
    "<div style=\"border:solid blue 1px; padding: 20px\"> \n",
    "Посчитаем для каждого пользователя количество сделанных звонков и израсходованных минут разговора по месяцам."
   ]
  },
  {
   "cell_type": "code",
   "execution_count": 35,
   "metadata": {},
   "outputs": [
    {
     "data": {
      "text/html": [
       "<div>\n",
       "<style scoped>\n",
       "    .dataframe tbody tr th:only-of-type {\n",
       "        vertical-align: middle;\n",
       "    }\n",
       "\n",
       "    .dataframe tbody tr th {\n",
       "        vertical-align: top;\n",
       "    }\n",
       "\n",
       "    .dataframe thead th {\n",
       "        text-align: right;\n",
       "    }\n",
       "</style>\n",
       "<table border=\"1\" class=\"dataframe\">\n",
       "  <thead>\n",
       "    <tr style=\"text-align: right;\">\n",
       "      <th></th>\n",
       "      <th></th>\n",
       "      <th>calls</th>\n",
       "      <th>calls_duration</th>\n",
       "    </tr>\n",
       "    <tr>\n",
       "      <th>user_id</th>\n",
       "      <th>month</th>\n",
       "      <th></th>\n",
       "      <th></th>\n",
       "    </tr>\n",
       "  </thead>\n",
       "  <tbody>\n",
       "    <tr>\n",
       "      <th rowspan=\"5\" valign=\"top\">1000</th>\n",
       "      <th>5</th>\n",
       "      <td>22</td>\n",
       "      <td>159</td>\n",
       "    </tr>\n",
       "    <tr>\n",
       "      <th>6</th>\n",
       "      <td>43</td>\n",
       "      <td>172</td>\n",
       "    </tr>\n",
       "    <tr>\n",
       "      <th>7</th>\n",
       "      <td>47</td>\n",
       "      <td>340</td>\n",
       "    </tr>\n",
       "    <tr>\n",
       "      <th>8</th>\n",
       "      <td>52</td>\n",
       "      <td>408</td>\n",
       "    </tr>\n",
       "    <tr>\n",
       "      <th>9</th>\n",
       "      <td>58</td>\n",
       "      <td>466</td>\n",
       "    </tr>\n",
       "    <tr>\n",
       "      <th>...</th>\n",
       "      <th>...</th>\n",
       "      <td>...</td>\n",
       "      <td>...</td>\n",
       "    </tr>\n",
       "    <tr>\n",
       "      <th>1498</th>\n",
       "      <th>10</th>\n",
       "      <td>41</td>\n",
       "      <td>247</td>\n",
       "    </tr>\n",
       "    <tr>\n",
       "      <th rowspan=\"4\" valign=\"top\">1499</th>\n",
       "      <th>9</th>\n",
       "      <td>9</td>\n",
       "      <td>70</td>\n",
       "    </tr>\n",
       "    <tr>\n",
       "      <th>10</th>\n",
       "      <td>68</td>\n",
       "      <td>449</td>\n",
       "    </tr>\n",
       "    <tr>\n",
       "      <th>11</th>\n",
       "      <td>74</td>\n",
       "      <td>612</td>\n",
       "    </tr>\n",
       "    <tr>\n",
       "      <th>12</th>\n",
       "      <td>69</td>\n",
       "      <td>492</td>\n",
       "    </tr>\n",
       "  </tbody>\n",
       "</table>\n",
       "<p>3174 rows × 2 columns</p>\n",
       "</div>"
      ],
      "text/plain": [
       "               calls  calls_duration\n",
       "user_id month                       \n",
       "1000    5         22             159\n",
       "        6         43             172\n",
       "        7         47             340\n",
       "        8         52             408\n",
       "        9         58             466\n",
       "...              ...             ...\n",
       "1498    10        41             247\n",
       "1499    9          9              70\n",
       "        10        68             449\n",
       "        11        74             612\n",
       "        12        69             492\n",
       "\n",
       "[3174 rows x 2 columns]"
      ]
     },
     "metadata": {},
     "output_type": "display_data"
    }
   ],
   "source": [
    "pt_calls = calls.pivot_table(index=['user_id', 'month'], values='duration', aggfunc=['count', 'sum'])\n",
    "pt_calls.columns = ['calls', 'calls_duration']\n",
    "display(pt_calls)"
   ]
  },
  {
   "cell_type": "markdown",
   "metadata": {},
   "source": [
    "### Количество отправленных сообщений по месяцам"
   ]
  },
  {
   "cell_type": "markdown",
   "metadata": {},
   "source": [
    "<div style=\"border:solid blue 1px; padding: 20px\"> \n",
    "Посчитаем количество отправленных сообщений по месяцам"
   ]
  },
  {
   "cell_type": "code",
   "execution_count": 36,
   "metadata": {},
   "outputs": [
    {
     "data": {
      "text/html": [
       "<div>\n",
       "<style scoped>\n",
       "    .dataframe tbody tr th:only-of-type {\n",
       "        vertical-align: middle;\n",
       "    }\n",
       "\n",
       "    .dataframe tbody tr th {\n",
       "        vertical-align: top;\n",
       "    }\n",
       "\n",
       "    .dataframe thead th {\n",
       "        text-align: right;\n",
       "    }\n",
       "</style>\n",
       "<table border=\"1\" class=\"dataframe\">\n",
       "  <thead>\n",
       "    <tr style=\"text-align: right;\">\n",
       "      <th></th>\n",
       "      <th></th>\n",
       "      <th>messages</th>\n",
       "    </tr>\n",
       "    <tr>\n",
       "      <th>user_id</th>\n",
       "      <th>month</th>\n",
       "      <th></th>\n",
       "    </tr>\n",
       "  </thead>\n",
       "  <tbody>\n",
       "    <tr>\n",
       "      <th rowspan=\"5\" valign=\"top\">1000</th>\n",
       "      <th>5</th>\n",
       "      <td>22</td>\n",
       "    </tr>\n",
       "    <tr>\n",
       "      <th>6</th>\n",
       "      <td>60</td>\n",
       "    </tr>\n",
       "    <tr>\n",
       "      <th>7</th>\n",
       "      <td>75</td>\n",
       "    </tr>\n",
       "    <tr>\n",
       "      <th>8</th>\n",
       "      <td>81</td>\n",
       "    </tr>\n",
       "    <tr>\n",
       "      <th>9</th>\n",
       "      <td>57</td>\n",
       "    </tr>\n",
       "    <tr>\n",
       "      <th>...</th>\n",
       "      <th>...</th>\n",
       "      <td>...</td>\n",
       "    </tr>\n",
       "    <tr>\n",
       "      <th>1498</th>\n",
       "      <th>10</th>\n",
       "      <td>42</td>\n",
       "    </tr>\n",
       "    <tr>\n",
       "      <th rowspan=\"4\" valign=\"top\">1499</th>\n",
       "      <th>9</th>\n",
       "      <td>11</td>\n",
       "    </tr>\n",
       "    <tr>\n",
       "      <th>10</th>\n",
       "      <td>48</td>\n",
       "    </tr>\n",
       "    <tr>\n",
       "      <th>11</th>\n",
       "      <td>59</td>\n",
       "    </tr>\n",
       "    <tr>\n",
       "      <th>12</th>\n",
       "      <td>66</td>\n",
       "    </tr>\n",
       "  </tbody>\n",
       "</table>\n",
       "<p>2717 rows × 1 columns</p>\n",
       "</div>"
      ],
      "text/plain": [
       "               messages\n",
       "user_id month          \n",
       "1000    5            22\n",
       "        6            60\n",
       "        7            75\n",
       "        8            81\n",
       "        9            57\n",
       "...                 ...\n",
       "1498    10           42\n",
       "1499    9            11\n",
       "        10           48\n",
       "        11           59\n",
       "        12           66\n",
       "\n",
       "[2717 rows x 1 columns]"
      ]
     },
     "metadata": {},
     "output_type": "display_data"
    }
   ],
   "source": [
    "pt_messages = messages.pivot_table(index=['user_id', 'month'], values='id', aggfunc='count')\n",
    "pt_messages.columns = ['messages']\n",
    "display(pt_messages)"
   ]
  },
  {
   "cell_type": "markdown",
   "metadata": {},
   "source": [
    "### Объем израсходованного интернет-трафика по месяцам"
   ]
  },
  {
   "cell_type": "markdown",
   "metadata": {},
   "source": [
    "<div style=\"border:solid blue 1px; padding: 20px\"> \n",
    "Посчитаем объем израсходованного интернет-трафика по месяцам"
   ]
  },
  {
   "cell_type": "code",
   "execution_count": 37,
   "metadata": {},
   "outputs": [
    {
     "data": {
      "text/html": [
       "<div>\n",
       "<style scoped>\n",
       "    .dataframe tbody tr th:only-of-type {\n",
       "        vertical-align: middle;\n",
       "    }\n",
       "\n",
       "    .dataframe tbody tr th {\n",
       "        vertical-align: top;\n",
       "    }\n",
       "\n",
       "    .dataframe thead th {\n",
       "        text-align: right;\n",
       "    }\n",
       "</style>\n",
       "<table border=\"1\" class=\"dataframe\">\n",
       "  <thead>\n",
       "    <tr style=\"text-align: right;\">\n",
       "      <th></th>\n",
       "      <th></th>\n",
       "      <th>mb_used</th>\n",
       "    </tr>\n",
       "    <tr>\n",
       "      <th>user_id</th>\n",
       "      <th>month</th>\n",
       "      <th></th>\n",
       "    </tr>\n",
       "  </thead>\n",
       "  <tbody>\n",
       "    <tr>\n",
       "      <th rowspan=\"5\" valign=\"top\">1000</th>\n",
       "      <th>5</th>\n",
       "      <td>2253.49</td>\n",
       "    </tr>\n",
       "    <tr>\n",
       "      <th>6</th>\n",
       "      <td>23233.77</td>\n",
       "    </tr>\n",
       "    <tr>\n",
       "      <th>7</th>\n",
       "      <td>14003.64</td>\n",
       "    </tr>\n",
       "    <tr>\n",
       "      <th>8</th>\n",
       "      <td>14055.93</td>\n",
       "    </tr>\n",
       "    <tr>\n",
       "      <th>9</th>\n",
       "      <td>14568.91</td>\n",
       "    </tr>\n",
       "    <tr>\n",
       "      <th>...</th>\n",
       "      <th>...</th>\n",
       "      <td>...</td>\n",
       "    </tr>\n",
       "    <tr>\n",
       "      <th>1498</th>\n",
       "      <th>10</th>\n",
       "      <td>20579.36</td>\n",
       "    </tr>\n",
       "    <tr>\n",
       "      <th rowspan=\"4\" valign=\"top\">1499</th>\n",
       "      <th>9</th>\n",
       "      <td>1845.75</td>\n",
       "    </tr>\n",
       "    <tr>\n",
       "      <th>10</th>\n",
       "      <td>17788.51</td>\n",
       "    </tr>\n",
       "    <tr>\n",
       "      <th>11</th>\n",
       "      <td>17963.31</td>\n",
       "    </tr>\n",
       "    <tr>\n",
       "      <th>12</th>\n",
       "      <td>13055.58</td>\n",
       "    </tr>\n",
       "  </tbody>\n",
       "</table>\n",
       "<p>3203 rows × 1 columns</p>\n",
       "</div>"
      ],
      "text/plain": [
       "                mb_used\n",
       "user_id month          \n",
       "1000    5       2253.49\n",
       "        6      23233.77\n",
       "        7      14003.64\n",
       "        8      14055.93\n",
       "        9      14568.91\n",
       "...                 ...\n",
       "1498    10     20579.36\n",
       "1499    9       1845.75\n",
       "        10     17788.51\n",
       "        11     17963.31\n",
       "        12     13055.58\n",
       "\n",
       "[3203 rows x 1 columns]"
      ]
     },
     "metadata": {},
     "output_type": "display_data"
    }
   ],
   "source": [
    "pt_internet = internet.pivot_table(index=['user_id', 'month'], values='mb_used', aggfunc='sum')\n",
    "display(pt_internet)"
   ]
  },
  {
   "cell_type": "markdown",
   "metadata": {},
   "source": [
    "<div style=\"border:solid blue 1px; padding: 20px\"> \n",
    "Посчитаем объем израсходованного интернет-трафика по месяцам в ГБ"
   ]
  },
  {
   "cell_type": "code",
   "execution_count": 38,
   "metadata": {},
   "outputs": [],
   "source": [
    "pt_internet['gb_used'] = pt_internet['mb_used'] / 1024"
   ]
  },
  {
   "cell_type": "code",
   "execution_count": 39,
   "metadata": {},
   "outputs": [
    {
     "data": {
      "text/html": [
       "<div>\n",
       "<style scoped>\n",
       "    .dataframe tbody tr th:only-of-type {\n",
       "        vertical-align: middle;\n",
       "    }\n",
       "\n",
       "    .dataframe tbody tr th {\n",
       "        vertical-align: top;\n",
       "    }\n",
       "\n",
       "    .dataframe thead th {\n",
       "        text-align: right;\n",
       "    }\n",
       "</style>\n",
       "<table border=\"1\" class=\"dataframe\">\n",
       "  <thead>\n",
       "    <tr style=\"text-align: right;\">\n",
       "      <th></th>\n",
       "      <th></th>\n",
       "      <th>mb_used</th>\n",
       "      <th>gb_used</th>\n",
       "    </tr>\n",
       "    <tr>\n",
       "      <th>user_id</th>\n",
       "      <th>month</th>\n",
       "      <th></th>\n",
       "      <th></th>\n",
       "    </tr>\n",
       "  </thead>\n",
       "  <tbody>\n",
       "    <tr>\n",
       "      <th rowspan=\"5\" valign=\"top\">1000</th>\n",
       "      <th>5</th>\n",
       "      <td>2253.49</td>\n",
       "      <td>2.200674</td>\n",
       "    </tr>\n",
       "    <tr>\n",
       "      <th>6</th>\n",
       "      <td>23233.77</td>\n",
       "      <td>22.689229</td>\n",
       "    </tr>\n",
       "    <tr>\n",
       "      <th>7</th>\n",
       "      <td>14003.64</td>\n",
       "      <td>13.675430</td>\n",
       "    </tr>\n",
       "    <tr>\n",
       "      <th>8</th>\n",
       "      <td>14055.93</td>\n",
       "      <td>13.726494</td>\n",
       "    </tr>\n",
       "    <tr>\n",
       "      <th>9</th>\n",
       "      <td>14568.91</td>\n",
       "      <td>14.227451</td>\n",
       "    </tr>\n",
       "    <tr>\n",
       "      <th>...</th>\n",
       "      <th>...</th>\n",
       "      <td>...</td>\n",
       "      <td>...</td>\n",
       "    </tr>\n",
       "    <tr>\n",
       "      <th>1498</th>\n",
       "      <th>10</th>\n",
       "      <td>20579.36</td>\n",
       "      <td>20.097031</td>\n",
       "    </tr>\n",
       "    <tr>\n",
       "      <th rowspan=\"4\" valign=\"top\">1499</th>\n",
       "      <th>9</th>\n",
       "      <td>1845.75</td>\n",
       "      <td>1.802490</td>\n",
       "    </tr>\n",
       "    <tr>\n",
       "      <th>10</th>\n",
       "      <td>17788.51</td>\n",
       "      <td>17.371592</td>\n",
       "    </tr>\n",
       "    <tr>\n",
       "      <th>11</th>\n",
       "      <td>17963.31</td>\n",
       "      <td>17.542295</td>\n",
       "    </tr>\n",
       "    <tr>\n",
       "      <th>12</th>\n",
       "      <td>13055.58</td>\n",
       "      <td>12.749590</td>\n",
       "    </tr>\n",
       "  </tbody>\n",
       "</table>\n",
       "<p>3203 rows × 2 columns</p>\n",
       "</div>"
      ],
      "text/plain": [
       "                mb_used    gb_used\n",
       "user_id month                     \n",
       "1000    5       2253.49   2.200674\n",
       "        6      23233.77  22.689229\n",
       "        7      14003.64  13.675430\n",
       "        8      14055.93  13.726494\n",
       "        9      14568.91  14.227451\n",
       "...                 ...        ...\n",
       "1498    10     20579.36  20.097031\n",
       "1499    9       1845.75   1.802490\n",
       "        10     17788.51  17.371592\n",
       "        11     17963.31  17.542295\n",
       "        12     13055.58  12.749590\n",
       "\n",
       "[3203 rows x 2 columns]"
      ]
     },
     "execution_count": 39,
     "metadata": {},
     "output_type": "execute_result"
    }
   ],
   "source": [
    "pt_internet"
   ]
  },
  {
   "cell_type": "markdown",
   "metadata": {},
   "source": [
    "<div style=\"border:solid blue 1px; padding: 20px\"> \n",
    "Округлим объем потраченных пользователем за месяц ГБ в большую сторону"
   ]
  },
  {
   "cell_type": "code",
   "execution_count": 40,
   "metadata": {},
   "outputs": [
    {
     "data": {
      "text/html": [
       "<div>\n",
       "<style scoped>\n",
       "    .dataframe tbody tr th:only-of-type {\n",
       "        vertical-align: middle;\n",
       "    }\n",
       "\n",
       "    .dataframe tbody tr th {\n",
       "        vertical-align: top;\n",
       "    }\n",
       "\n",
       "    .dataframe thead th {\n",
       "        text-align: right;\n",
       "    }\n",
       "</style>\n",
       "<table border=\"1\" class=\"dataframe\">\n",
       "  <thead>\n",
       "    <tr style=\"text-align: right;\">\n",
       "      <th></th>\n",
       "      <th></th>\n",
       "      <th>mb_used</th>\n",
       "      <th>gb_used</th>\n",
       "      <th>gb</th>\n",
       "    </tr>\n",
       "    <tr>\n",
       "      <th>user_id</th>\n",
       "      <th>month</th>\n",
       "      <th></th>\n",
       "      <th></th>\n",
       "      <th></th>\n",
       "    </tr>\n",
       "  </thead>\n",
       "  <tbody>\n",
       "    <tr>\n",
       "      <th rowspan=\"5\" valign=\"top\">1000</th>\n",
       "      <th>5</th>\n",
       "      <td>2253.49</td>\n",
       "      <td>2.200674</td>\n",
       "      <td>3</td>\n",
       "    </tr>\n",
       "    <tr>\n",
       "      <th>6</th>\n",
       "      <td>23233.77</td>\n",
       "      <td>22.689229</td>\n",
       "      <td>23</td>\n",
       "    </tr>\n",
       "    <tr>\n",
       "      <th>7</th>\n",
       "      <td>14003.64</td>\n",
       "      <td>13.675430</td>\n",
       "      <td>14</td>\n",
       "    </tr>\n",
       "    <tr>\n",
       "      <th>8</th>\n",
       "      <td>14055.93</td>\n",
       "      <td>13.726494</td>\n",
       "      <td>14</td>\n",
       "    </tr>\n",
       "    <tr>\n",
       "      <th>9</th>\n",
       "      <td>14568.91</td>\n",
       "      <td>14.227451</td>\n",
       "      <td>15</td>\n",
       "    </tr>\n",
       "    <tr>\n",
       "      <th>...</th>\n",
       "      <th>...</th>\n",
       "      <td>...</td>\n",
       "      <td>...</td>\n",
       "      <td>...</td>\n",
       "    </tr>\n",
       "    <tr>\n",
       "      <th>1498</th>\n",
       "      <th>10</th>\n",
       "      <td>20579.36</td>\n",
       "      <td>20.097031</td>\n",
       "      <td>21</td>\n",
       "    </tr>\n",
       "    <tr>\n",
       "      <th rowspan=\"4\" valign=\"top\">1499</th>\n",
       "      <th>9</th>\n",
       "      <td>1845.75</td>\n",
       "      <td>1.802490</td>\n",
       "      <td>2</td>\n",
       "    </tr>\n",
       "    <tr>\n",
       "      <th>10</th>\n",
       "      <td>17788.51</td>\n",
       "      <td>17.371592</td>\n",
       "      <td>18</td>\n",
       "    </tr>\n",
       "    <tr>\n",
       "      <th>11</th>\n",
       "      <td>17963.31</td>\n",
       "      <td>17.542295</td>\n",
       "      <td>18</td>\n",
       "    </tr>\n",
       "    <tr>\n",
       "      <th>12</th>\n",
       "      <td>13055.58</td>\n",
       "      <td>12.749590</td>\n",
       "      <td>13</td>\n",
       "    </tr>\n",
       "  </tbody>\n",
       "</table>\n",
       "<p>3203 rows × 3 columns</p>\n",
       "</div>"
      ],
      "text/plain": [
       "                mb_used    gb_used  gb\n",
       "user_id month                         \n",
       "1000    5       2253.49   2.200674   3\n",
       "        6      23233.77  22.689229  23\n",
       "        7      14003.64  13.675430  14\n",
       "        8      14055.93  13.726494  14\n",
       "        9      14568.91  14.227451  15\n",
       "...                 ...        ...  ..\n",
       "1498    10     20579.36  20.097031  21\n",
       "1499    9       1845.75   1.802490   2\n",
       "        10     17788.51  17.371592  18\n",
       "        11     17963.31  17.542295  18\n",
       "        12     13055.58  12.749590  13\n",
       "\n",
       "[3203 rows x 3 columns]"
      ]
     },
     "execution_count": 40,
     "metadata": {},
     "output_type": "execute_result"
    }
   ],
   "source": [
    "def gb_round (row):\n",
    "    gb = row['gb_used']\n",
    "    return math.ceil(gb)\n",
    "\n",
    "pt_internet['gb'] = pt_internet.apply(gb_round, axis=1)\n",
    "pt_internet"
   ]
  },
  {
   "cell_type": "markdown",
   "metadata": {},
   "source": [
    "### Помесячная выручка с каждого пользователя"
   ]
  },
  {
   "cell_type": "markdown",
   "metadata": {},
   "source": [
    "<div style=\"border:solid blue 1px; padding: 20px\"> \n",
    "Посчитаем помесячную выручку с каждого пользователя. Объединим данные из всех 5 таблиц в одну."
   ]
  },
  {
   "cell_type": "code",
   "execution_count": 41,
   "metadata": {},
   "outputs": [],
   "source": [
    "svod = pt_internet.merge(pt_messages, on = ['user_id','month'], how='outer')"
   ]
  },
  {
   "cell_type": "code",
   "execution_count": 42,
   "metadata": {},
   "outputs": [],
   "source": [
    "svod = svod.merge(pt_calls, on = ['user_id','month'], how='outer')"
   ]
  },
  {
   "cell_type": "code",
   "execution_count": 43,
   "metadata": {},
   "outputs": [
    {
     "data": {
      "text/html": [
       "<div>\n",
       "<style scoped>\n",
       "    .dataframe tbody tr th:only-of-type {\n",
       "        vertical-align: middle;\n",
       "    }\n",
       "\n",
       "    .dataframe tbody tr th {\n",
       "        vertical-align: top;\n",
       "    }\n",
       "\n",
       "    .dataframe thead th {\n",
       "        text-align: right;\n",
       "    }\n",
       "</style>\n",
       "<table border=\"1\" class=\"dataframe\">\n",
       "  <thead>\n",
       "    <tr style=\"text-align: right;\">\n",
       "      <th></th>\n",
       "      <th></th>\n",
       "      <th>mb_used</th>\n",
       "      <th>gb_used</th>\n",
       "      <th>gb</th>\n",
       "      <th>messages</th>\n",
       "      <th>calls</th>\n",
       "      <th>calls_duration</th>\n",
       "    </tr>\n",
       "    <tr>\n",
       "      <th>user_id</th>\n",
       "      <th>month</th>\n",
       "      <th></th>\n",
       "      <th></th>\n",
       "      <th></th>\n",
       "      <th></th>\n",
       "      <th></th>\n",
       "      <th></th>\n",
       "    </tr>\n",
       "  </thead>\n",
       "  <tbody>\n",
       "    <tr>\n",
       "      <th rowspan=\"5\" valign=\"top\">1000</th>\n",
       "      <th>5</th>\n",
       "      <td>2253.49</td>\n",
       "      <td>2.200674</td>\n",
       "      <td>3.0</td>\n",
       "      <td>22.0</td>\n",
       "      <td>22.0</td>\n",
       "      <td>159.0</td>\n",
       "    </tr>\n",
       "    <tr>\n",
       "      <th>6</th>\n",
       "      <td>23233.77</td>\n",
       "      <td>22.689229</td>\n",
       "      <td>23.0</td>\n",
       "      <td>60.0</td>\n",
       "      <td>43.0</td>\n",
       "      <td>172.0</td>\n",
       "    </tr>\n",
       "    <tr>\n",
       "      <th>7</th>\n",
       "      <td>14003.64</td>\n",
       "      <td>13.675430</td>\n",
       "      <td>14.0</td>\n",
       "      <td>75.0</td>\n",
       "      <td>47.0</td>\n",
       "      <td>340.0</td>\n",
       "    </tr>\n",
       "    <tr>\n",
       "      <th>8</th>\n",
       "      <td>14055.93</td>\n",
       "      <td>13.726494</td>\n",
       "      <td>14.0</td>\n",
       "      <td>81.0</td>\n",
       "      <td>52.0</td>\n",
       "      <td>408.0</td>\n",
       "    </tr>\n",
       "    <tr>\n",
       "      <th>9</th>\n",
       "      <td>14568.91</td>\n",
       "      <td>14.227451</td>\n",
       "      <td>15.0</td>\n",
       "      <td>57.0</td>\n",
       "      <td>58.0</td>\n",
       "      <td>466.0</td>\n",
       "    </tr>\n",
       "  </tbody>\n",
       "</table>\n",
       "</div>"
      ],
      "text/plain": [
       "                mb_used    gb_used    gb  messages  calls  calls_duration\n",
       "user_id month                                                            \n",
       "1000    5       2253.49   2.200674   3.0      22.0   22.0           159.0\n",
       "        6      23233.77  22.689229  23.0      60.0   43.0           172.0\n",
       "        7      14003.64  13.675430  14.0      75.0   47.0           340.0\n",
       "        8      14055.93  13.726494  14.0      81.0   52.0           408.0\n",
       "        9      14568.91  14.227451  15.0      57.0   58.0           466.0"
      ]
     },
     "execution_count": 43,
     "metadata": {},
     "output_type": "execute_result"
    }
   ],
   "source": [
    "svod.head()"
   ]
  },
  {
   "cell_type": "code",
   "execution_count": 44,
   "metadata": {},
   "outputs": [
    {
     "name": "stdout",
     "output_type": "stream",
     "text": [
      "<class 'pandas.core.frame.DataFrame'>\n",
      "MultiIndex: 3214 entries, (1000, 5) to (1446, 8)\n",
      "Data columns (total 6 columns):\n",
      " #   Column          Non-Null Count  Dtype  \n",
      "---  ------          --------------  -----  \n",
      " 0   mb_used         3203 non-null   float64\n",
      " 1   gb_used         3203 non-null   float64\n",
      " 2   gb              3203 non-null   float64\n",
      " 3   messages        2717 non-null   float64\n",
      " 4   calls           3174 non-null   float64\n",
      " 5   calls_duration  3174 non-null   float64\n",
      "dtypes: float64(6)\n",
      "memory usage: 180.6 KB\n"
     ]
    }
   ],
   "source": [
    "svod.info()"
   ]
  },
  {
   "cell_type": "code",
   "execution_count": 45,
   "metadata": {},
   "outputs": [],
   "source": [
    "svod.drop(columns = ['mb_used', 'gb_used'],axis = 1, inplace=True)"
   ]
  },
  {
   "cell_type": "code",
   "execution_count": 46,
   "metadata": {},
   "outputs": [
    {
     "data": {
      "text/html": [
       "<div>\n",
       "<style scoped>\n",
       "    .dataframe tbody tr th:only-of-type {\n",
       "        vertical-align: middle;\n",
       "    }\n",
       "\n",
       "    .dataframe tbody tr th {\n",
       "        vertical-align: top;\n",
       "    }\n",
       "\n",
       "    .dataframe thead th {\n",
       "        text-align: right;\n",
       "    }\n",
       "</style>\n",
       "<table border=\"1\" class=\"dataframe\">\n",
       "  <thead>\n",
       "    <tr style=\"text-align: right;\">\n",
       "      <th></th>\n",
       "      <th></th>\n",
       "      <th>gb</th>\n",
       "      <th>messages</th>\n",
       "      <th>calls</th>\n",
       "      <th>calls_duration</th>\n",
       "    </tr>\n",
       "    <tr>\n",
       "      <th>user_id</th>\n",
       "      <th>month</th>\n",
       "      <th></th>\n",
       "      <th></th>\n",
       "      <th></th>\n",
       "      <th></th>\n",
       "    </tr>\n",
       "  </thead>\n",
       "  <tbody>\n",
       "    <tr>\n",
       "      <th rowspan=\"5\" valign=\"top\">1000</th>\n",
       "      <th>5</th>\n",
       "      <td>3.0</td>\n",
       "      <td>22.0</td>\n",
       "      <td>22.0</td>\n",
       "      <td>159.0</td>\n",
       "    </tr>\n",
       "    <tr>\n",
       "      <th>6</th>\n",
       "      <td>23.0</td>\n",
       "      <td>60.0</td>\n",
       "      <td>43.0</td>\n",
       "      <td>172.0</td>\n",
       "    </tr>\n",
       "    <tr>\n",
       "      <th>7</th>\n",
       "      <td>14.0</td>\n",
       "      <td>75.0</td>\n",
       "      <td>47.0</td>\n",
       "      <td>340.0</td>\n",
       "    </tr>\n",
       "    <tr>\n",
       "      <th>8</th>\n",
       "      <td>14.0</td>\n",
       "      <td>81.0</td>\n",
       "      <td>52.0</td>\n",
       "      <td>408.0</td>\n",
       "    </tr>\n",
       "    <tr>\n",
       "      <th>9</th>\n",
       "      <td>15.0</td>\n",
       "      <td>57.0</td>\n",
       "      <td>58.0</td>\n",
       "      <td>466.0</td>\n",
       "    </tr>\n",
       "  </tbody>\n",
       "</table>\n",
       "</div>"
      ],
      "text/plain": [
       "                 gb  messages  calls  calls_duration\n",
       "user_id month                                       \n",
       "1000    5       3.0      22.0   22.0           159.0\n",
       "        6      23.0      60.0   43.0           172.0\n",
       "        7      14.0      75.0   47.0           340.0\n",
       "        8      14.0      81.0   52.0           408.0\n",
       "        9      15.0      57.0   58.0           466.0"
      ]
     },
     "execution_count": 46,
     "metadata": {},
     "output_type": "execute_result"
    }
   ],
   "source": [
    "svod.head()"
   ]
  },
  {
   "cell_type": "code",
   "execution_count": 47,
   "metadata": {},
   "outputs": [],
   "source": [
    "svod = svod.reset_index()"
   ]
  },
  {
   "cell_type": "code",
   "execution_count": 48,
   "metadata": {},
   "outputs": [
    {
     "name": "stdout",
     "output_type": "stream",
     "text": [
      "<class 'pandas.core.frame.DataFrame'>\n",
      "RangeIndex: 3214 entries, 0 to 3213\n",
      "Data columns (total 6 columns):\n",
      " #   Column          Non-Null Count  Dtype  \n",
      "---  ------          --------------  -----  \n",
      " 0   user_id         3214 non-null   int64  \n",
      " 1   month           3214 non-null   int64  \n",
      " 2   gb              3203 non-null   float64\n",
      " 3   messages        2717 non-null   float64\n",
      " 4   calls           3174 non-null   float64\n",
      " 5   calls_duration  3174 non-null   float64\n",
      "dtypes: float64(4), int64(2)\n",
      "memory usage: 150.8 KB\n"
     ]
    }
   ],
   "source": [
    "svod.info()"
   ]
  },
  {
   "cell_type": "code",
   "execution_count": 49,
   "metadata": {},
   "outputs": [],
   "source": [
    "svod = svod.merge(users, on = 'user_id')"
   ]
  },
  {
   "cell_type": "code",
   "execution_count": 50,
   "metadata": {},
   "outputs": [
    {
     "data": {
      "text/html": [
       "<div>\n",
       "<style scoped>\n",
       "    .dataframe tbody tr th:only-of-type {\n",
       "        vertical-align: middle;\n",
       "    }\n",
       "\n",
       "    .dataframe tbody tr th {\n",
       "        vertical-align: top;\n",
       "    }\n",
       "\n",
       "    .dataframe thead th {\n",
       "        text-align: right;\n",
       "    }\n",
       "</style>\n",
       "<table border=\"1\" class=\"dataframe\">\n",
       "  <thead>\n",
       "    <tr style=\"text-align: right;\">\n",
       "      <th></th>\n",
       "      <th>user_id</th>\n",
       "      <th>month</th>\n",
       "      <th>gb</th>\n",
       "      <th>messages</th>\n",
       "      <th>calls</th>\n",
       "      <th>calls_duration</th>\n",
       "      <th>age</th>\n",
       "      <th>churn_date</th>\n",
       "      <th>city</th>\n",
       "      <th>first_name</th>\n",
       "      <th>last_name</th>\n",
       "      <th>reg_date</th>\n",
       "      <th>tariff</th>\n",
       "    </tr>\n",
       "  </thead>\n",
       "  <tbody>\n",
       "    <tr>\n",
       "      <th>0</th>\n",
       "      <td>1000</td>\n",
       "      <td>5</td>\n",
       "      <td>3.0</td>\n",
       "      <td>22.0</td>\n",
       "      <td>22.0</td>\n",
       "      <td>159.0</td>\n",
       "      <td>52</td>\n",
       "      <td>NaT</td>\n",
       "      <td>Краснодар</td>\n",
       "      <td>Рафаил</td>\n",
       "      <td>Верещагин</td>\n",
       "      <td>2018-05-25</td>\n",
       "      <td>ultra</td>\n",
       "    </tr>\n",
       "    <tr>\n",
       "      <th>1</th>\n",
       "      <td>1000</td>\n",
       "      <td>6</td>\n",
       "      <td>23.0</td>\n",
       "      <td>60.0</td>\n",
       "      <td>43.0</td>\n",
       "      <td>172.0</td>\n",
       "      <td>52</td>\n",
       "      <td>NaT</td>\n",
       "      <td>Краснодар</td>\n",
       "      <td>Рафаил</td>\n",
       "      <td>Верещагин</td>\n",
       "      <td>2018-05-25</td>\n",
       "      <td>ultra</td>\n",
       "    </tr>\n",
       "    <tr>\n",
       "      <th>2</th>\n",
       "      <td>1000</td>\n",
       "      <td>7</td>\n",
       "      <td>14.0</td>\n",
       "      <td>75.0</td>\n",
       "      <td>47.0</td>\n",
       "      <td>340.0</td>\n",
       "      <td>52</td>\n",
       "      <td>NaT</td>\n",
       "      <td>Краснодар</td>\n",
       "      <td>Рафаил</td>\n",
       "      <td>Верещагин</td>\n",
       "      <td>2018-05-25</td>\n",
       "      <td>ultra</td>\n",
       "    </tr>\n",
       "    <tr>\n",
       "      <th>3</th>\n",
       "      <td>1000</td>\n",
       "      <td>8</td>\n",
       "      <td>14.0</td>\n",
       "      <td>81.0</td>\n",
       "      <td>52.0</td>\n",
       "      <td>408.0</td>\n",
       "      <td>52</td>\n",
       "      <td>NaT</td>\n",
       "      <td>Краснодар</td>\n",
       "      <td>Рафаил</td>\n",
       "      <td>Верещагин</td>\n",
       "      <td>2018-05-25</td>\n",
       "      <td>ultra</td>\n",
       "    </tr>\n",
       "    <tr>\n",
       "      <th>4</th>\n",
       "      <td>1000</td>\n",
       "      <td>9</td>\n",
       "      <td>15.0</td>\n",
       "      <td>57.0</td>\n",
       "      <td>58.0</td>\n",
       "      <td>466.0</td>\n",
       "      <td>52</td>\n",
       "      <td>NaT</td>\n",
       "      <td>Краснодар</td>\n",
       "      <td>Рафаил</td>\n",
       "      <td>Верещагин</td>\n",
       "      <td>2018-05-25</td>\n",
       "      <td>ultra</td>\n",
       "    </tr>\n",
       "  </tbody>\n",
       "</table>\n",
       "</div>"
      ],
      "text/plain": [
       "   user_id  month    gb  messages  calls  calls_duration  age churn_date  \\\n",
       "0     1000      5   3.0      22.0   22.0           159.0   52        NaT   \n",
       "1     1000      6  23.0      60.0   43.0           172.0   52        NaT   \n",
       "2     1000      7  14.0      75.0   47.0           340.0   52        NaT   \n",
       "3     1000      8  14.0      81.0   52.0           408.0   52        NaT   \n",
       "4     1000      9  15.0      57.0   58.0           466.0   52        NaT   \n",
       "\n",
       "        city first_name  last_name   reg_date tariff  \n",
       "0  Краснодар     Рафаил  Верещагин 2018-05-25  ultra  \n",
       "1  Краснодар     Рафаил  Верещагин 2018-05-25  ultra  \n",
       "2  Краснодар     Рафаил  Верещагин 2018-05-25  ultra  \n",
       "3  Краснодар     Рафаил  Верещагин 2018-05-25  ultra  \n",
       "4  Краснодар     Рафаил  Верещагин 2018-05-25  ultra  "
      ]
     },
     "execution_count": 50,
     "metadata": {},
     "output_type": "execute_result"
    }
   ],
   "source": [
    "svod.head()"
   ]
  },
  {
   "cell_type": "code",
   "execution_count": 51,
   "metadata": {},
   "outputs": [
    {
     "name": "stdout",
     "output_type": "stream",
     "text": [
      "<class 'pandas.core.frame.DataFrame'>\n",
      "Int64Index: 3214 entries, 0 to 3213\n",
      "Data columns (total 13 columns):\n",
      " #   Column          Non-Null Count  Dtype         \n",
      "---  ------          --------------  -----         \n",
      " 0   user_id         3214 non-null   int64         \n",
      " 1   month           3214 non-null   int64         \n",
      " 2   gb              3203 non-null   float64       \n",
      " 3   messages        2717 non-null   float64       \n",
      " 4   calls           3174 non-null   float64       \n",
      " 5   calls_duration  3174 non-null   float64       \n",
      " 6   age             3214 non-null   int64         \n",
      " 7   churn_date      187 non-null    datetime64[ns]\n",
      " 8   city            3214 non-null   object        \n",
      " 9   first_name      3214 non-null   object        \n",
      " 10  last_name       3214 non-null   object        \n",
      " 11  reg_date        3214 non-null   datetime64[ns]\n",
      " 12  tariff          3214 non-null   object        \n",
      "dtypes: datetime64[ns](2), float64(4), int64(3), object(4)\n",
      "memory usage: 351.5+ KB\n"
     ]
    }
   ],
   "source": [
    "svod.info()"
   ]
  },
  {
   "cell_type": "markdown",
   "metadata": {},
   "source": [
    "<div style=\"border:solid blue 1px; padding: 20px\"> \n",
    "Заменим пропуски в столбцах messages, calls и gb нулями"
   ]
  },
  {
   "cell_type": "code",
   "execution_count": 52,
   "metadata": {},
   "outputs": [],
   "source": [
    "svod['gb'] = svod['gb'].fillna(0)\n",
    "svod['messages'] = svod['messages'].fillna(0)\n",
    "svod['calls'] = svod['calls'].fillna(0)\n",
    "svod['calls_duration'] = svod['calls_duration'].fillna(0)"
   ]
  },
  {
   "cell_type": "code",
   "execution_count": 53,
   "metadata": {},
   "outputs": [
    {
     "name": "stdout",
     "output_type": "stream",
     "text": [
      "<class 'pandas.core.frame.DataFrame'>\n",
      "Int64Index: 3214 entries, 0 to 3213\n",
      "Data columns (total 13 columns):\n",
      " #   Column          Non-Null Count  Dtype         \n",
      "---  ------          --------------  -----         \n",
      " 0   user_id         3214 non-null   int64         \n",
      " 1   month           3214 non-null   int64         \n",
      " 2   gb              3214 non-null   float64       \n",
      " 3   messages        3214 non-null   float64       \n",
      " 4   calls           3214 non-null   float64       \n",
      " 5   calls_duration  3214 non-null   float64       \n",
      " 6   age             3214 non-null   int64         \n",
      " 7   churn_date      187 non-null    datetime64[ns]\n",
      " 8   city            3214 non-null   object        \n",
      " 9   first_name      3214 non-null   object        \n",
      " 10  last_name       3214 non-null   object        \n",
      " 11  reg_date        3214 non-null   datetime64[ns]\n",
      " 12  tariff          3214 non-null   object        \n",
      "dtypes: datetime64[ns](2), float64(4), int64(3), object(4)\n",
      "memory usage: 351.5+ KB\n"
     ]
    }
   ],
   "source": [
    "svod.info()"
   ]
  },
  {
   "cell_type": "code",
   "execution_count": 54,
   "metadata": {},
   "outputs": [],
   "source": [
    "svod = svod.merge(tariffs, on = 'tariff')"
   ]
  },
  {
   "cell_type": "code",
   "execution_count": 55,
   "metadata": {},
   "outputs": [
    {
     "data": {
      "text/html": [
       "<div>\n",
       "<style scoped>\n",
       "    .dataframe tbody tr th:only-of-type {\n",
       "        vertical-align: middle;\n",
       "    }\n",
       "\n",
       "    .dataframe tbody tr th {\n",
       "        vertical-align: top;\n",
       "    }\n",
       "\n",
       "    .dataframe thead th {\n",
       "        text-align: right;\n",
       "    }\n",
       "</style>\n",
       "<table border=\"1\" class=\"dataframe\">\n",
       "  <thead>\n",
       "    <tr style=\"text-align: right;\">\n",
       "      <th></th>\n",
       "      <th>user_id</th>\n",
       "      <th>month</th>\n",
       "      <th>gb</th>\n",
       "      <th>messages</th>\n",
       "      <th>calls</th>\n",
       "      <th>calls_duration</th>\n",
       "      <th>age</th>\n",
       "      <th>churn_date</th>\n",
       "      <th>city</th>\n",
       "      <th>first_name</th>\n",
       "      <th>last_name</th>\n",
       "      <th>reg_date</th>\n",
       "      <th>tariff</th>\n",
       "      <th>messages_included</th>\n",
       "      <th>mb_per_month_included</th>\n",
       "      <th>minutes_included</th>\n",
       "      <th>rub_monthly_fee</th>\n",
       "      <th>rub_per_gb</th>\n",
       "      <th>rub_per_message</th>\n",
       "      <th>rub_per_minute</th>\n",
       "    </tr>\n",
       "  </thead>\n",
       "  <tbody>\n",
       "    <tr>\n",
       "      <th>0</th>\n",
       "      <td>1000</td>\n",
       "      <td>5</td>\n",
       "      <td>3.0</td>\n",
       "      <td>22.0</td>\n",
       "      <td>22.0</td>\n",
       "      <td>159.0</td>\n",
       "      <td>52</td>\n",
       "      <td>NaT</td>\n",
       "      <td>Краснодар</td>\n",
       "      <td>Рафаил</td>\n",
       "      <td>Верещагин</td>\n",
       "      <td>2018-05-25</td>\n",
       "      <td>ultra</td>\n",
       "      <td>1000</td>\n",
       "      <td>30720</td>\n",
       "      <td>3000</td>\n",
       "      <td>1950</td>\n",
       "      <td>150</td>\n",
       "      <td>1</td>\n",
       "      <td>1</td>\n",
       "    </tr>\n",
       "    <tr>\n",
       "      <th>1</th>\n",
       "      <td>1000</td>\n",
       "      <td>6</td>\n",
       "      <td>23.0</td>\n",
       "      <td>60.0</td>\n",
       "      <td>43.0</td>\n",
       "      <td>172.0</td>\n",
       "      <td>52</td>\n",
       "      <td>NaT</td>\n",
       "      <td>Краснодар</td>\n",
       "      <td>Рафаил</td>\n",
       "      <td>Верещагин</td>\n",
       "      <td>2018-05-25</td>\n",
       "      <td>ultra</td>\n",
       "      <td>1000</td>\n",
       "      <td>30720</td>\n",
       "      <td>3000</td>\n",
       "      <td>1950</td>\n",
       "      <td>150</td>\n",
       "      <td>1</td>\n",
       "      <td>1</td>\n",
       "    </tr>\n",
       "    <tr>\n",
       "      <th>2</th>\n",
       "      <td>1000</td>\n",
       "      <td>7</td>\n",
       "      <td>14.0</td>\n",
       "      <td>75.0</td>\n",
       "      <td>47.0</td>\n",
       "      <td>340.0</td>\n",
       "      <td>52</td>\n",
       "      <td>NaT</td>\n",
       "      <td>Краснодар</td>\n",
       "      <td>Рафаил</td>\n",
       "      <td>Верещагин</td>\n",
       "      <td>2018-05-25</td>\n",
       "      <td>ultra</td>\n",
       "      <td>1000</td>\n",
       "      <td>30720</td>\n",
       "      <td>3000</td>\n",
       "      <td>1950</td>\n",
       "      <td>150</td>\n",
       "      <td>1</td>\n",
       "      <td>1</td>\n",
       "    </tr>\n",
       "    <tr>\n",
       "      <th>3</th>\n",
       "      <td>1000</td>\n",
       "      <td>8</td>\n",
       "      <td>14.0</td>\n",
       "      <td>81.0</td>\n",
       "      <td>52.0</td>\n",
       "      <td>408.0</td>\n",
       "      <td>52</td>\n",
       "      <td>NaT</td>\n",
       "      <td>Краснодар</td>\n",
       "      <td>Рафаил</td>\n",
       "      <td>Верещагин</td>\n",
       "      <td>2018-05-25</td>\n",
       "      <td>ultra</td>\n",
       "      <td>1000</td>\n",
       "      <td>30720</td>\n",
       "      <td>3000</td>\n",
       "      <td>1950</td>\n",
       "      <td>150</td>\n",
       "      <td>1</td>\n",
       "      <td>1</td>\n",
       "    </tr>\n",
       "    <tr>\n",
       "      <th>4</th>\n",
       "      <td>1000</td>\n",
       "      <td>9</td>\n",
       "      <td>15.0</td>\n",
       "      <td>57.0</td>\n",
       "      <td>58.0</td>\n",
       "      <td>466.0</td>\n",
       "      <td>52</td>\n",
       "      <td>NaT</td>\n",
       "      <td>Краснодар</td>\n",
       "      <td>Рафаил</td>\n",
       "      <td>Верещагин</td>\n",
       "      <td>2018-05-25</td>\n",
       "      <td>ultra</td>\n",
       "      <td>1000</td>\n",
       "      <td>30720</td>\n",
       "      <td>3000</td>\n",
       "      <td>1950</td>\n",
       "      <td>150</td>\n",
       "      <td>1</td>\n",
       "      <td>1</td>\n",
       "    </tr>\n",
       "  </tbody>\n",
       "</table>\n",
       "</div>"
      ],
      "text/plain": [
       "   user_id  month    gb  messages  calls  calls_duration  age churn_date  \\\n",
       "0     1000      5   3.0      22.0   22.0           159.0   52        NaT   \n",
       "1     1000      6  23.0      60.0   43.0           172.0   52        NaT   \n",
       "2     1000      7  14.0      75.0   47.0           340.0   52        NaT   \n",
       "3     1000      8  14.0      81.0   52.0           408.0   52        NaT   \n",
       "4     1000      9  15.0      57.0   58.0           466.0   52        NaT   \n",
       "\n",
       "        city first_name  last_name   reg_date tariff  messages_included  \\\n",
       "0  Краснодар     Рафаил  Верещагин 2018-05-25  ultra               1000   \n",
       "1  Краснодар     Рафаил  Верещагин 2018-05-25  ultra               1000   \n",
       "2  Краснодар     Рафаил  Верещагин 2018-05-25  ultra               1000   \n",
       "3  Краснодар     Рафаил  Верещагин 2018-05-25  ultra               1000   \n",
       "4  Краснодар     Рафаил  Верещагин 2018-05-25  ultra               1000   \n",
       "\n",
       "   mb_per_month_included  minutes_included  rub_monthly_fee  rub_per_gb  \\\n",
       "0                  30720              3000             1950         150   \n",
       "1                  30720              3000             1950         150   \n",
       "2                  30720              3000             1950         150   \n",
       "3                  30720              3000             1950         150   \n",
       "4                  30720              3000             1950         150   \n",
       "\n",
       "   rub_per_message  rub_per_minute  \n",
       "0                1               1  \n",
       "1                1               1  \n",
       "2                1               1  \n",
       "3                1               1  \n",
       "4                1               1  "
      ]
     },
     "execution_count": 55,
     "metadata": {},
     "output_type": "execute_result"
    }
   ],
   "source": [
    "svod.head()"
   ]
  },
  {
   "cell_type": "code",
   "execution_count": 56,
   "metadata": {},
   "outputs": [
    {
     "name": "stdout",
     "output_type": "stream",
     "text": [
      "<class 'pandas.core.frame.DataFrame'>\n",
      "Int64Index: 3214 entries, 0 to 3213\n",
      "Data columns (total 20 columns):\n",
      " #   Column                 Non-Null Count  Dtype         \n",
      "---  ------                 --------------  -----         \n",
      " 0   user_id                3214 non-null   int64         \n",
      " 1   month                  3214 non-null   int64         \n",
      " 2   gb                     3214 non-null   float64       \n",
      " 3   messages               3214 non-null   float64       \n",
      " 4   calls                  3214 non-null   float64       \n",
      " 5   calls_duration         3214 non-null   float64       \n",
      " 6   age                    3214 non-null   int64         \n",
      " 7   churn_date             187 non-null    datetime64[ns]\n",
      " 8   city                   3214 non-null   object        \n",
      " 9   first_name             3214 non-null   object        \n",
      " 10  last_name              3214 non-null   object        \n",
      " 11  reg_date               3214 non-null   datetime64[ns]\n",
      " 12  tariff                 3214 non-null   object        \n",
      " 13  messages_included      3214 non-null   int64         \n",
      " 14  mb_per_month_included  3214 non-null   int64         \n",
      " 15  minutes_included       3214 non-null   int64         \n",
      " 16  rub_monthly_fee        3214 non-null   int64         \n",
      " 17  rub_per_gb             3214 non-null   int64         \n",
      " 18  rub_per_message        3214 non-null   int64         \n",
      " 19  rub_per_minute         3214 non-null   int64         \n",
      "dtypes: datetime64[ns](2), float64(4), int64(10), object(4)\n",
      "memory usage: 527.3+ KB\n"
     ]
    }
   ],
   "source": [
    "svod.info()"
   ]
  },
  {
   "cell_type": "code",
   "execution_count": 57,
   "metadata": {},
   "outputs": [],
   "source": [
    "svod['gb_included'] = svod['mb_per_month_included'] / 1024"
   ]
  },
  {
   "cell_type": "code",
   "execution_count": 58,
   "metadata": {
    "scrolled": true
   },
   "outputs": [
    {
     "data": {
      "text/html": [
       "<div>\n",
       "<style scoped>\n",
       "    .dataframe tbody tr th:only-of-type {\n",
       "        vertical-align: middle;\n",
       "    }\n",
       "\n",
       "    .dataframe tbody tr th {\n",
       "        vertical-align: top;\n",
       "    }\n",
       "\n",
       "    .dataframe thead th {\n",
       "        text-align: right;\n",
       "    }\n",
       "</style>\n",
       "<table border=\"1\" class=\"dataframe\">\n",
       "  <thead>\n",
       "    <tr style=\"text-align: right;\">\n",
       "      <th></th>\n",
       "      <th>user_id</th>\n",
       "      <th>month</th>\n",
       "      <th>gb</th>\n",
       "      <th>messages</th>\n",
       "      <th>calls</th>\n",
       "      <th>calls_duration</th>\n",
       "      <th>age</th>\n",
       "      <th>churn_date</th>\n",
       "      <th>city</th>\n",
       "      <th>first_name</th>\n",
       "      <th>...</th>\n",
       "      <th>reg_date</th>\n",
       "      <th>tariff</th>\n",
       "      <th>messages_included</th>\n",
       "      <th>mb_per_month_included</th>\n",
       "      <th>minutes_included</th>\n",
       "      <th>rub_monthly_fee</th>\n",
       "      <th>rub_per_gb</th>\n",
       "      <th>rub_per_message</th>\n",
       "      <th>rub_per_minute</th>\n",
       "      <th>gb_included</th>\n",
       "    </tr>\n",
       "  </thead>\n",
       "  <tbody>\n",
       "    <tr>\n",
       "      <th>0</th>\n",
       "      <td>1000</td>\n",
       "      <td>5</td>\n",
       "      <td>3.0</td>\n",
       "      <td>22.0</td>\n",
       "      <td>22.0</td>\n",
       "      <td>159.0</td>\n",
       "      <td>52</td>\n",
       "      <td>NaT</td>\n",
       "      <td>Краснодар</td>\n",
       "      <td>Рафаил</td>\n",
       "      <td>...</td>\n",
       "      <td>2018-05-25</td>\n",
       "      <td>ultra</td>\n",
       "      <td>1000</td>\n",
       "      <td>30720</td>\n",
       "      <td>3000</td>\n",
       "      <td>1950</td>\n",
       "      <td>150</td>\n",
       "      <td>1</td>\n",
       "      <td>1</td>\n",
       "      <td>30.0</td>\n",
       "    </tr>\n",
       "    <tr>\n",
       "      <th>1</th>\n",
       "      <td>1000</td>\n",
       "      <td>6</td>\n",
       "      <td>23.0</td>\n",
       "      <td>60.0</td>\n",
       "      <td>43.0</td>\n",
       "      <td>172.0</td>\n",
       "      <td>52</td>\n",
       "      <td>NaT</td>\n",
       "      <td>Краснодар</td>\n",
       "      <td>Рафаил</td>\n",
       "      <td>...</td>\n",
       "      <td>2018-05-25</td>\n",
       "      <td>ultra</td>\n",
       "      <td>1000</td>\n",
       "      <td>30720</td>\n",
       "      <td>3000</td>\n",
       "      <td>1950</td>\n",
       "      <td>150</td>\n",
       "      <td>1</td>\n",
       "      <td>1</td>\n",
       "      <td>30.0</td>\n",
       "    </tr>\n",
       "    <tr>\n",
       "      <th>2</th>\n",
       "      <td>1000</td>\n",
       "      <td>7</td>\n",
       "      <td>14.0</td>\n",
       "      <td>75.0</td>\n",
       "      <td>47.0</td>\n",
       "      <td>340.0</td>\n",
       "      <td>52</td>\n",
       "      <td>NaT</td>\n",
       "      <td>Краснодар</td>\n",
       "      <td>Рафаил</td>\n",
       "      <td>...</td>\n",
       "      <td>2018-05-25</td>\n",
       "      <td>ultra</td>\n",
       "      <td>1000</td>\n",
       "      <td>30720</td>\n",
       "      <td>3000</td>\n",
       "      <td>1950</td>\n",
       "      <td>150</td>\n",
       "      <td>1</td>\n",
       "      <td>1</td>\n",
       "      <td>30.0</td>\n",
       "    </tr>\n",
       "    <tr>\n",
       "      <th>3</th>\n",
       "      <td>1000</td>\n",
       "      <td>8</td>\n",
       "      <td>14.0</td>\n",
       "      <td>81.0</td>\n",
       "      <td>52.0</td>\n",
       "      <td>408.0</td>\n",
       "      <td>52</td>\n",
       "      <td>NaT</td>\n",
       "      <td>Краснодар</td>\n",
       "      <td>Рафаил</td>\n",
       "      <td>...</td>\n",
       "      <td>2018-05-25</td>\n",
       "      <td>ultra</td>\n",
       "      <td>1000</td>\n",
       "      <td>30720</td>\n",
       "      <td>3000</td>\n",
       "      <td>1950</td>\n",
       "      <td>150</td>\n",
       "      <td>1</td>\n",
       "      <td>1</td>\n",
       "      <td>30.0</td>\n",
       "    </tr>\n",
       "    <tr>\n",
       "      <th>4</th>\n",
       "      <td>1000</td>\n",
       "      <td>9</td>\n",
       "      <td>15.0</td>\n",
       "      <td>57.0</td>\n",
       "      <td>58.0</td>\n",
       "      <td>466.0</td>\n",
       "      <td>52</td>\n",
       "      <td>NaT</td>\n",
       "      <td>Краснодар</td>\n",
       "      <td>Рафаил</td>\n",
       "      <td>...</td>\n",
       "      <td>2018-05-25</td>\n",
       "      <td>ultra</td>\n",
       "      <td>1000</td>\n",
       "      <td>30720</td>\n",
       "      <td>3000</td>\n",
       "      <td>1950</td>\n",
       "      <td>150</td>\n",
       "      <td>1</td>\n",
       "      <td>1</td>\n",
       "      <td>30.0</td>\n",
       "    </tr>\n",
       "  </tbody>\n",
       "</table>\n",
       "<p>5 rows × 21 columns</p>\n",
       "</div>"
      ],
      "text/plain": [
       "   user_id  month    gb  messages  calls  calls_duration  age churn_date  \\\n",
       "0     1000      5   3.0      22.0   22.0           159.0   52        NaT   \n",
       "1     1000      6  23.0      60.0   43.0           172.0   52        NaT   \n",
       "2     1000      7  14.0      75.0   47.0           340.0   52        NaT   \n",
       "3     1000      8  14.0      81.0   52.0           408.0   52        NaT   \n",
       "4     1000      9  15.0      57.0   58.0           466.0   52        NaT   \n",
       "\n",
       "        city first_name  ...   reg_date tariff messages_included  \\\n",
       "0  Краснодар     Рафаил  ... 2018-05-25  ultra              1000   \n",
       "1  Краснодар     Рафаил  ... 2018-05-25  ultra              1000   \n",
       "2  Краснодар     Рафаил  ... 2018-05-25  ultra              1000   \n",
       "3  Краснодар     Рафаил  ... 2018-05-25  ultra              1000   \n",
       "4  Краснодар     Рафаил  ... 2018-05-25  ultra              1000   \n",
       "\n",
       "   mb_per_month_included  minutes_included  rub_monthly_fee  rub_per_gb  \\\n",
       "0                  30720              3000             1950         150   \n",
       "1                  30720              3000             1950         150   \n",
       "2                  30720              3000             1950         150   \n",
       "3                  30720              3000             1950         150   \n",
       "4                  30720              3000             1950         150   \n",
       "\n",
       "   rub_per_message  rub_per_minute  gb_included  \n",
       "0                1               1         30.0  \n",
       "1                1               1         30.0  \n",
       "2                1               1         30.0  \n",
       "3                1               1         30.0  \n",
       "4                1               1         30.0  \n",
       "\n",
       "[5 rows x 21 columns]"
      ]
     },
     "execution_count": 58,
     "metadata": {},
     "output_type": "execute_result"
    }
   ],
   "source": [
    "svod.head()"
   ]
  },
  {
   "cell_type": "markdown",
   "metadata": {},
   "source": [
    "<div style=\"border:solid blue 1px; padding: 20px\"> \n",
    "Посчитаем дополнительное количество минут, сообщений и гб по пакетам"
   ]
  },
  {
   "cell_type": "code",
   "execution_count": 59,
   "metadata": {
    "scrolled": true
   },
   "outputs": [
    {
     "data": {
      "text/html": [
       "<div>\n",
       "<style scoped>\n",
       "    .dataframe tbody tr th:only-of-type {\n",
       "        vertical-align: middle;\n",
       "    }\n",
       "\n",
       "    .dataframe tbody tr th {\n",
       "        vertical-align: top;\n",
       "    }\n",
       "\n",
       "    .dataframe thead th {\n",
       "        text-align: right;\n",
       "    }\n",
       "</style>\n",
       "<table border=\"1\" class=\"dataframe\">\n",
       "  <thead>\n",
       "    <tr style=\"text-align: right;\">\n",
       "      <th></th>\n",
       "      <th>user_id</th>\n",
       "      <th>month</th>\n",
       "      <th>gb</th>\n",
       "      <th>messages</th>\n",
       "      <th>calls</th>\n",
       "      <th>calls_duration</th>\n",
       "      <th>age</th>\n",
       "      <th>churn_date</th>\n",
       "      <th>city</th>\n",
       "      <th>first_name</th>\n",
       "      <th>last_name</th>\n",
       "      <th>reg_date</th>\n",
       "      <th>tariff</th>\n",
       "      <th>messages_included</th>\n",
       "      <th>mb_per_month_included</th>\n",
       "      <th>minutes_included</th>\n",
       "      <th>rub_monthly_fee</th>\n",
       "      <th>rub_per_gb</th>\n",
       "      <th>rub_per_message</th>\n",
       "      <th>rub_per_minute</th>\n",
       "      <th>gb_included</th>\n",
       "      <th>calls_add</th>\n",
       "      <th>messages_add</th>\n",
       "      <th>gb_add</th>\n",
       "    </tr>\n",
       "  </thead>\n",
       "  <tbody>\n",
       "    <tr>\n",
       "      <th>0</th>\n",
       "      <td>1000</td>\n",
       "      <td>5</td>\n",
       "      <td>3.0</td>\n",
       "      <td>22.0</td>\n",
       "      <td>22.0</td>\n",
       "      <td>159.0</td>\n",
       "      <td>52</td>\n",
       "      <td>NaT</td>\n",
       "      <td>Краснодар</td>\n",
       "      <td>Рафаил</td>\n",
       "      <td>Верещагин</td>\n",
       "      <td>2018-05-25</td>\n",
       "      <td>ultra</td>\n",
       "      <td>1000</td>\n",
       "      <td>30720</td>\n",
       "      <td>3000</td>\n",
       "      <td>1950</td>\n",
       "      <td>150</td>\n",
       "      <td>1</td>\n",
       "      <td>1</td>\n",
       "      <td>30.0</td>\n",
       "      <td>0.0</td>\n",
       "      <td>0.0</td>\n",
       "      <td>0.0</td>\n",
       "    </tr>\n",
       "    <tr>\n",
       "      <th>1</th>\n",
       "      <td>1000</td>\n",
       "      <td>6</td>\n",
       "      <td>23.0</td>\n",
       "      <td>60.0</td>\n",
       "      <td>43.0</td>\n",
       "      <td>172.0</td>\n",
       "      <td>52</td>\n",
       "      <td>NaT</td>\n",
       "      <td>Краснодар</td>\n",
       "      <td>Рафаил</td>\n",
       "      <td>Верещагин</td>\n",
       "      <td>2018-05-25</td>\n",
       "      <td>ultra</td>\n",
       "      <td>1000</td>\n",
       "      <td>30720</td>\n",
       "      <td>3000</td>\n",
       "      <td>1950</td>\n",
       "      <td>150</td>\n",
       "      <td>1</td>\n",
       "      <td>1</td>\n",
       "      <td>30.0</td>\n",
       "      <td>0.0</td>\n",
       "      <td>0.0</td>\n",
       "      <td>0.0</td>\n",
       "    </tr>\n",
       "    <tr>\n",
       "      <th>2</th>\n",
       "      <td>1000</td>\n",
       "      <td>7</td>\n",
       "      <td>14.0</td>\n",
       "      <td>75.0</td>\n",
       "      <td>47.0</td>\n",
       "      <td>340.0</td>\n",
       "      <td>52</td>\n",
       "      <td>NaT</td>\n",
       "      <td>Краснодар</td>\n",
       "      <td>Рафаил</td>\n",
       "      <td>Верещагин</td>\n",
       "      <td>2018-05-25</td>\n",
       "      <td>ultra</td>\n",
       "      <td>1000</td>\n",
       "      <td>30720</td>\n",
       "      <td>3000</td>\n",
       "      <td>1950</td>\n",
       "      <td>150</td>\n",
       "      <td>1</td>\n",
       "      <td>1</td>\n",
       "      <td>30.0</td>\n",
       "      <td>0.0</td>\n",
       "      <td>0.0</td>\n",
       "      <td>0.0</td>\n",
       "    </tr>\n",
       "    <tr>\n",
       "      <th>3</th>\n",
       "      <td>1000</td>\n",
       "      <td>8</td>\n",
       "      <td>14.0</td>\n",
       "      <td>81.0</td>\n",
       "      <td>52.0</td>\n",
       "      <td>408.0</td>\n",
       "      <td>52</td>\n",
       "      <td>NaT</td>\n",
       "      <td>Краснодар</td>\n",
       "      <td>Рафаил</td>\n",
       "      <td>Верещагин</td>\n",
       "      <td>2018-05-25</td>\n",
       "      <td>ultra</td>\n",
       "      <td>1000</td>\n",
       "      <td>30720</td>\n",
       "      <td>3000</td>\n",
       "      <td>1950</td>\n",
       "      <td>150</td>\n",
       "      <td>1</td>\n",
       "      <td>1</td>\n",
       "      <td>30.0</td>\n",
       "      <td>0.0</td>\n",
       "      <td>0.0</td>\n",
       "      <td>0.0</td>\n",
       "    </tr>\n",
       "    <tr>\n",
       "      <th>4</th>\n",
       "      <td>1000</td>\n",
       "      <td>9</td>\n",
       "      <td>15.0</td>\n",
       "      <td>57.0</td>\n",
       "      <td>58.0</td>\n",
       "      <td>466.0</td>\n",
       "      <td>52</td>\n",
       "      <td>NaT</td>\n",
       "      <td>Краснодар</td>\n",
       "      <td>Рафаил</td>\n",
       "      <td>Верещагин</td>\n",
       "      <td>2018-05-25</td>\n",
       "      <td>ultra</td>\n",
       "      <td>1000</td>\n",
       "      <td>30720</td>\n",
       "      <td>3000</td>\n",
       "      <td>1950</td>\n",
       "      <td>150</td>\n",
       "      <td>1</td>\n",
       "      <td>1</td>\n",
       "      <td>30.0</td>\n",
       "      <td>0.0</td>\n",
       "      <td>0.0</td>\n",
       "      <td>0.0</td>\n",
       "    </tr>\n",
       "  </tbody>\n",
       "</table>\n",
       "</div>"
      ],
      "text/plain": [
       "   user_id  month    gb  messages  calls  calls_duration  age churn_date  \\\n",
       "0     1000      5   3.0      22.0   22.0           159.0   52        NaT   \n",
       "1     1000      6  23.0      60.0   43.0           172.0   52        NaT   \n",
       "2     1000      7  14.0      75.0   47.0           340.0   52        NaT   \n",
       "3     1000      8  14.0      81.0   52.0           408.0   52        NaT   \n",
       "4     1000      9  15.0      57.0   58.0           466.0   52        NaT   \n",
       "\n",
       "        city first_name  last_name   reg_date tariff  messages_included  \\\n",
       "0  Краснодар     Рафаил  Верещагин 2018-05-25  ultra               1000   \n",
       "1  Краснодар     Рафаил  Верещагин 2018-05-25  ultra               1000   \n",
       "2  Краснодар     Рафаил  Верещагин 2018-05-25  ultra               1000   \n",
       "3  Краснодар     Рафаил  Верещагин 2018-05-25  ultra               1000   \n",
       "4  Краснодар     Рафаил  Верещагин 2018-05-25  ultra               1000   \n",
       "\n",
       "   mb_per_month_included  minutes_included  rub_monthly_fee  rub_per_gb  \\\n",
       "0                  30720              3000             1950         150   \n",
       "1                  30720              3000             1950         150   \n",
       "2                  30720              3000             1950         150   \n",
       "3                  30720              3000             1950         150   \n",
       "4                  30720              3000             1950         150   \n",
       "\n",
       "   rub_per_message  rub_per_minute  gb_included  calls_add  messages_add  \\\n",
       "0                1               1         30.0        0.0           0.0   \n",
       "1                1               1         30.0        0.0           0.0   \n",
       "2                1               1         30.0        0.0           0.0   \n",
       "3                1               1         30.0        0.0           0.0   \n",
       "4                1               1         30.0        0.0           0.0   \n",
       "\n",
       "   gb_add  \n",
       "0     0.0  \n",
       "1     0.0  \n",
       "2     0.0  \n",
       "3     0.0  \n",
       "4     0.0  "
      ]
     },
     "execution_count": 59,
     "metadata": {},
     "output_type": "execute_result"
    }
   ],
   "source": [
    "def calls_add (row):\n",
    "    minutes_included = row['minutes_included']\n",
    "    calls_duration = row['calls_duration']\n",
    "    if minutes_included - calls_duration > 0:\n",
    "        return 0\n",
    "    if minutes_included - calls_duration < 0:\n",
    "        return calls_duration - minutes_included\n",
    "    else:\n",
    "        return 0\n",
    "svod['calls_add'] = svod.apply(calls_add, axis=1)\n",
    "\n",
    "\n",
    "def messages_add (row):\n",
    "    messages_included = row['messages_included']\n",
    "    messages = row['messages']\n",
    "    if messages_included - messages > 0:\n",
    "        return 0\n",
    "    if messages_included - messages < 0:\n",
    "        return messages - messages_included\n",
    "    else:\n",
    "        return 0\n",
    "svod['messages_add'] = svod.apply(messages_add, axis=1)\n",
    "\n",
    "def gb_add (row):\n",
    "    gb_included = row['gb_included']\n",
    "    gb = row['gb']\n",
    "    if gb_included - gb > 0:\n",
    "        return 0\n",
    "    if gb_included - gb < 0:\n",
    "        return gb - gb_included\n",
    "    else:\n",
    "        return 0\n",
    "svod['gb_add'] = svod.apply(gb_add, axis=1)\n",
    "\n",
    "\n",
    "pd.set_option('display.max_columns', None)\n",
    "pd.set_option('display.max_rows', None)\n",
    "svod.head()"
   ]
  },
  {
   "cell_type": "code",
   "execution_count": 60,
   "metadata": {},
   "outputs": [
    {
     "name": "stdout",
     "output_type": "stream",
     "text": [
      "<class 'pandas.core.frame.DataFrame'>\n",
      "Int64Index: 3214 entries, 0 to 3213\n",
      "Data columns (total 24 columns):\n",
      " #   Column                 Non-Null Count  Dtype         \n",
      "---  ------                 --------------  -----         \n",
      " 0   user_id                3214 non-null   int64         \n",
      " 1   month                  3214 non-null   int64         \n",
      " 2   gb                     3214 non-null   float64       \n",
      " 3   messages               3214 non-null   float64       \n",
      " 4   calls                  3214 non-null   float64       \n",
      " 5   calls_duration         3214 non-null   float64       \n",
      " 6   age                    3214 non-null   int64         \n",
      " 7   churn_date             187 non-null    datetime64[ns]\n",
      " 8   city                   3214 non-null   object        \n",
      " 9   first_name             3214 non-null   object        \n",
      " 10  last_name              3214 non-null   object        \n",
      " 11  reg_date               3214 non-null   datetime64[ns]\n",
      " 12  tariff                 3214 non-null   object        \n",
      " 13  messages_included      3214 non-null   int64         \n",
      " 14  mb_per_month_included  3214 non-null   int64         \n",
      " 15  minutes_included       3214 non-null   int64         \n",
      " 16  rub_monthly_fee        3214 non-null   int64         \n",
      " 17  rub_per_gb             3214 non-null   int64         \n",
      " 18  rub_per_message        3214 non-null   int64         \n",
      " 19  rub_per_minute         3214 non-null   int64         \n",
      " 20  gb_included            3214 non-null   float64       \n",
      " 21  calls_add              3214 non-null   float64       \n",
      " 22  messages_add           3214 non-null   float64       \n",
      " 23  gb_add                 3214 non-null   float64       \n",
      "dtypes: datetime64[ns](2), float64(8), int64(10), object(4)\n",
      "memory usage: 627.7+ KB\n"
     ]
    }
   ],
   "source": [
    "svod.info()"
   ]
  },
  {
   "cell_type": "code",
   "execution_count": 61,
   "metadata": {},
   "outputs": [],
   "source": [
    "svod['id_revenue_per_month'] = (svod['rub_monthly_fee'] + (svod['calls_add'] * svod['rub_per_minute'])\n",
    "                                + (svod['messages_add'] * svod['rub_per_message'])\n",
    "                                + (svod['gb_add'] * svod['rub_per_gb']))"
   ]
  },
  {
   "cell_type": "code",
   "execution_count": 62,
   "metadata": {},
   "outputs": [
    {
     "data": {
      "text/html": [
       "<div>\n",
       "<style scoped>\n",
       "    .dataframe tbody tr th:only-of-type {\n",
       "        vertical-align: middle;\n",
       "    }\n",
       "\n",
       "    .dataframe tbody tr th {\n",
       "        vertical-align: top;\n",
       "    }\n",
       "\n",
       "    .dataframe thead th {\n",
       "        text-align: right;\n",
       "    }\n",
       "</style>\n",
       "<table border=\"1\" class=\"dataframe\">\n",
       "  <thead>\n",
       "    <tr style=\"text-align: right;\">\n",
       "      <th></th>\n",
       "      <th>user_id</th>\n",
       "      <th>month</th>\n",
       "      <th>gb</th>\n",
       "      <th>messages</th>\n",
       "      <th>calls</th>\n",
       "      <th>calls_duration</th>\n",
       "      <th>age</th>\n",
       "      <th>churn_date</th>\n",
       "      <th>city</th>\n",
       "      <th>first_name</th>\n",
       "      <th>last_name</th>\n",
       "      <th>reg_date</th>\n",
       "      <th>tariff</th>\n",
       "      <th>messages_included</th>\n",
       "      <th>mb_per_month_included</th>\n",
       "      <th>minutes_included</th>\n",
       "      <th>rub_monthly_fee</th>\n",
       "      <th>rub_per_gb</th>\n",
       "      <th>rub_per_message</th>\n",
       "      <th>rub_per_minute</th>\n",
       "      <th>gb_included</th>\n",
       "      <th>calls_add</th>\n",
       "      <th>messages_add</th>\n",
       "      <th>gb_add</th>\n",
       "      <th>id_revenue_per_month</th>\n",
       "    </tr>\n",
       "  </thead>\n",
       "  <tbody>\n",
       "    <tr>\n",
       "      <th>3157</th>\n",
       "      <td>1486</td>\n",
       "      <td>12</td>\n",
       "      <td>38.0</td>\n",
       "      <td>83.0</td>\n",
       "      <td>133.0</td>\n",
       "      <td>1007.0</td>\n",
       "      <td>35</td>\n",
       "      <td>NaT</td>\n",
       "      <td>Нижний Новгород</td>\n",
       "      <td>Матвей</td>\n",
       "      <td>Моргунов</td>\n",
       "      <td>2018-10-31</td>\n",
       "      <td>smart</td>\n",
       "      <td>50</td>\n",
       "      <td>15360</td>\n",
       "      <td>500</td>\n",
       "      <td>550</td>\n",
       "      <td>200</td>\n",
       "      <td>3</td>\n",
       "      <td>3</td>\n",
       "      <td>15.0</td>\n",
       "      <td>507.0</td>\n",
       "      <td>33.0</td>\n",
       "      <td>23.0</td>\n",
       "      <td>6770.0</td>\n",
       "    </tr>\n",
       "    <tr>\n",
       "      <th>1183</th>\n",
       "      <td>1042</td>\n",
       "      <td>12</td>\n",
       "      <td>37.0</td>\n",
       "      <td>75.0</td>\n",
       "      <td>121.0</td>\n",
       "      <td>728.0</td>\n",
       "      <td>42</td>\n",
       "      <td>NaT</td>\n",
       "      <td>Хабаровск</td>\n",
       "      <td>Константин</td>\n",
       "      <td>Добрынин</td>\n",
       "      <td>2018-11-25</td>\n",
       "      <td>smart</td>\n",
       "      <td>50</td>\n",
       "      <td>15360</td>\n",
       "      <td>500</td>\n",
       "      <td>550</td>\n",
       "      <td>200</td>\n",
       "      <td>3</td>\n",
       "      <td>3</td>\n",
       "      <td>15.0</td>\n",
       "      <td>228.0</td>\n",
       "      <td>25.0</td>\n",
       "      <td>22.0</td>\n",
       "      <td>5709.0</td>\n",
       "    </tr>\n",
       "    <tr>\n",
       "      <th>3156</th>\n",
       "      <td>1486</td>\n",
       "      <td>11</td>\n",
       "      <td>36.0</td>\n",
       "      <td>96.0</td>\n",
       "      <td>108.0</td>\n",
       "      <td>764.0</td>\n",
       "      <td>35</td>\n",
       "      <td>NaT</td>\n",
       "      <td>Нижний Новгород</td>\n",
       "      <td>Матвей</td>\n",
       "      <td>Моргунов</td>\n",
       "      <td>2018-10-31</td>\n",
       "      <td>smart</td>\n",
       "      <td>50</td>\n",
       "      <td>15360</td>\n",
       "      <td>500</td>\n",
       "      <td>550</td>\n",
       "      <td>200</td>\n",
       "      <td>3</td>\n",
       "      <td>3</td>\n",
       "      <td>15.0</td>\n",
       "      <td>264.0</td>\n",
       "      <td>46.0</td>\n",
       "      <td>21.0</td>\n",
       "      <td>5680.0</td>\n",
       "    </tr>\n",
       "    <tr>\n",
       "      <th>2177</th>\n",
       "      <td>1261</td>\n",
       "      <td>12</td>\n",
       "      <td>32.0</td>\n",
       "      <td>22.0</td>\n",
       "      <td>141.0</td>\n",
       "      <td>1074.0</td>\n",
       "      <td>46</td>\n",
       "      <td>NaT</td>\n",
       "      <td>Казань</td>\n",
       "      <td>Мадина</td>\n",
       "      <td>Пантелеева</td>\n",
       "      <td>2018-10-30</td>\n",
       "      <td>smart</td>\n",
       "      <td>50</td>\n",
       "      <td>15360</td>\n",
       "      <td>500</td>\n",
       "      <td>550</td>\n",
       "      <td>200</td>\n",
       "      <td>3</td>\n",
       "      <td>3</td>\n",
       "      <td>15.0</td>\n",
       "      <td>574.0</td>\n",
       "      <td>0.0</td>\n",
       "      <td>17.0</td>\n",
       "      <td>5672.0</td>\n",
       "    </tr>\n",
       "    <tr>\n",
       "      <th>2298</th>\n",
       "      <td>1286</td>\n",
       "      <td>12</td>\n",
       "      <td>35.0</td>\n",
       "      <td>68.0</td>\n",
       "      <td>95.0</td>\n",
       "      <td>739.0</td>\n",
       "      <td>19</td>\n",
       "      <td>NaT</td>\n",
       "      <td>Москва</td>\n",
       "      <td>Рашид</td>\n",
       "      <td>Троицкий</td>\n",
       "      <td>2018-11-27</td>\n",
       "      <td>smart</td>\n",
       "      <td>50</td>\n",
       "      <td>15360</td>\n",
       "      <td>500</td>\n",
       "      <td>550</td>\n",
       "      <td>200</td>\n",
       "      <td>3</td>\n",
       "      <td>3</td>\n",
       "      <td>15.0</td>\n",
       "      <td>239.0</td>\n",
       "      <td>18.0</td>\n",
       "      <td>20.0</td>\n",
       "      <td>5321.0</td>\n",
       "    </tr>\n",
       "  </tbody>\n",
       "</table>\n",
       "</div>"
      ],
      "text/plain": [
       "      user_id  month    gb  messages  calls  calls_duration  age churn_date  \\\n",
       "3157     1486     12  38.0      83.0  133.0          1007.0   35        NaT   \n",
       "1183     1042     12  37.0      75.0  121.0           728.0   42        NaT   \n",
       "3156     1486     11  36.0      96.0  108.0           764.0   35        NaT   \n",
       "2177     1261     12  32.0      22.0  141.0          1074.0   46        NaT   \n",
       "2298     1286     12  35.0      68.0   95.0           739.0   19        NaT   \n",
       "\n",
       "                 city  first_name   last_name   reg_date tariff  \\\n",
       "3157  Нижний Новгород      Матвей    Моргунов 2018-10-31  smart   \n",
       "1183        Хабаровск  Константин    Добрынин 2018-11-25  smart   \n",
       "3156  Нижний Новгород      Матвей    Моргунов 2018-10-31  smart   \n",
       "2177           Казань      Мадина  Пантелеева 2018-10-30  smart   \n",
       "2298           Москва       Рашид    Троицкий 2018-11-27  smart   \n",
       "\n",
       "      messages_included  mb_per_month_included  minutes_included  \\\n",
       "3157                 50                  15360               500   \n",
       "1183                 50                  15360               500   \n",
       "3156                 50                  15360               500   \n",
       "2177                 50                  15360               500   \n",
       "2298                 50                  15360               500   \n",
       "\n",
       "      rub_monthly_fee  rub_per_gb  rub_per_message  rub_per_minute  \\\n",
       "3157              550         200                3               3   \n",
       "1183              550         200                3               3   \n",
       "3156              550         200                3               3   \n",
       "2177              550         200                3               3   \n",
       "2298              550         200                3               3   \n",
       "\n",
       "      gb_included  calls_add  messages_add  gb_add  id_revenue_per_month  \n",
       "3157         15.0      507.0          33.0    23.0                6770.0  \n",
       "1183         15.0      228.0          25.0    22.0                5709.0  \n",
       "3156         15.0      264.0          46.0    21.0                5680.0  \n",
       "2177         15.0      574.0           0.0    17.0                5672.0  \n",
       "2298         15.0      239.0          18.0    20.0                5321.0  "
      ]
     },
     "execution_count": 62,
     "metadata": {},
     "output_type": "execute_result"
    }
   ],
   "source": [
    "svod.sort_values('id_revenue_per_month', ascending=False).head()"
   ]
  },
  {
   "cell_type": "code",
   "execution_count": 63,
   "metadata": {},
   "outputs": [
    {
     "name": "stdout",
     "output_type": "stream",
     "text": [
      "<class 'pandas.core.frame.DataFrame'>\n",
      "Int64Index: 3214 entries, 0 to 3213\n",
      "Data columns (total 25 columns):\n",
      " #   Column                 Non-Null Count  Dtype         \n",
      "---  ------                 --------------  -----         \n",
      " 0   user_id                3214 non-null   int64         \n",
      " 1   month                  3214 non-null   int64         \n",
      " 2   gb                     3214 non-null   float64       \n",
      " 3   messages               3214 non-null   float64       \n",
      " 4   calls                  3214 non-null   float64       \n",
      " 5   calls_duration         3214 non-null   float64       \n",
      " 6   age                    3214 non-null   int64         \n",
      " 7   churn_date             187 non-null    datetime64[ns]\n",
      " 8   city                   3214 non-null   object        \n",
      " 9   first_name             3214 non-null   object        \n",
      " 10  last_name              3214 non-null   object        \n",
      " 11  reg_date               3214 non-null   datetime64[ns]\n",
      " 12  tariff                 3214 non-null   object        \n",
      " 13  messages_included      3214 non-null   int64         \n",
      " 14  mb_per_month_included  3214 non-null   int64         \n",
      " 15  minutes_included       3214 non-null   int64         \n",
      " 16  rub_monthly_fee        3214 non-null   int64         \n",
      " 17  rub_per_gb             3214 non-null   int64         \n",
      " 18  rub_per_message        3214 non-null   int64         \n",
      " 19  rub_per_minute         3214 non-null   int64         \n",
      " 20  gb_included            3214 non-null   float64       \n",
      " 21  calls_add              3214 non-null   float64       \n",
      " 22  messages_add           3214 non-null   float64       \n",
      " 23  gb_add                 3214 non-null   float64       \n",
      " 24  id_revenue_per_month   3214 non-null   float64       \n",
      "dtypes: datetime64[ns](2), float64(9), int64(10), object(4)\n",
      "memory usage: 652.8+ KB\n"
     ]
    }
   ],
   "source": [
    "svod.info()"
   ]
  },
  {
   "cell_type": "markdown",
   "metadata": {},
   "source": [
    "### Вывод"
   ]
  },
  {
   "cell_type": "markdown",
   "metadata": {},
   "source": [
    "<div style=\"border:solid blue 1px; padding: 20px\">\n",
    "Было посчитано количество сделанных звонов, отправленных сообщений, объем израсходанного трафика, а также выручка по каждому пользователю за месяц. Анализ полученных данных будет проведен в следующем разделе."
   ]
  },
  {
   "cell_type": "markdown",
   "metadata": {},
   "source": [
    "## Исследовательский анализ данных"
   ]
  },
  {
   "cell_type": "markdown",
   "metadata": {},
   "source": [
    "### Среднее, дисперсия и стандартное отклонение"
   ]
  },
  {
   "cell_type": "markdown",
   "metadata": {},
   "source": [
    "<div style=\"border:solid blue 1px; padding: 20px\">\n",
    "Изучим поведение клиентов оператора, исходя из выборки"
   ]
  },
  {
   "cell_type": "markdown",
   "metadata": {},
   "source": [
    "<div style=\"border:solid blue 1px; padding: 20px\">\n",
    "Посчитаем сколько минут разговора, сколько сообщений и какой объём интернет-трафика требуется пользователям каждого тарифа в месяц, а также среднее количество, дисперсию и стандартное отклонение."
   ]
  },
  {
   "cell_type": "code",
   "execution_count": 64,
   "metadata": {},
   "outputs": [
    {
     "name": "stdout",
     "output_type": "stream",
     "text": [
      "Число пользователей тарифа ultra: 985\n",
      "Число пользователей тарифа smart: 2229\n"
     ]
    },
    {
     "data": {
      "image/png": "[encoded data removed]",
      "text/plain": [
       "<Figure size 432x288 with 1 Axes>"
      ]
     },
     "metadata": {
      "needs_background": "light"
     },
     "output_type": "display_data"
    }
   ],
   "source": [
    "svod.pivot_table(index='tariff', values='user_id', aggfunc='count').plot(title='число пользователей', kind='bar')\n",
    "print('Число пользователей тарифа ultra:', svod[svod['tariff']=='ultra']['user_id'].count())\n",
    "print('Число пользователей тарифа smart:', svod[svod['tariff']=='smart']['user_id'].count())"
   ]
  },
  {
   "cell_type": "markdown",
   "metadata": {},
   "source": [
    "<div style=\"border:solid blue 1px; padding: 20px\">\n",
    "Большинство пользователей выбирают тариф smart"
   ]
  },
  {
   "cell_type": "code",
   "execution_count": 65,
   "metadata": {},
   "outputs": [
    {
     "name": "stdout",
     "output_type": "stream",
     "text": [
      "Средний объём интернет-трафика по тарифу ultra: 19 gb\n",
      "Средний объём интернет-трафика по тарифу smart: 16 gb\n"
     ]
    },
    {
     "data": {
      "image/png": "[encoded data removed]",
      "text/plain": [
       "<Figure size 432x288 with 1 Axes>"
      ]
     },
     "metadata": {
      "needs_background": "light"
     },
     "output_type": "display_data"
    },
    {
     "data": {
      "image/png": "[encoded data removed]",
      "text/plain": [
       "<Figure size 432x288 with 1 Axes>"
      ]
     },
     "metadata": {
      "needs_background": "light"
     },
     "output_type": "display_data"
    }
   ],
   "source": [
    "svod[svod['tariff']=='ultra'].pivot_table(index='month', values='gb', aggfunc='mean').plot(title='объём интернет-трафика по тарифу ultra (гб)', kind='bar')\n",
    "svod[svod['tariff']=='smart'].pivot_table(index='month', values='gb', aggfunc='mean').plot(title='объём интернет-трафика по тарифу smart (гб)', kind='bar')\n",
    "print('Средний объём интернет-трафика по тарифу ultra:', round(svod[svod['tariff']=='ultra']['gb'].mean()), 'gb')\n",
    "print('Средний объём интернет-трафика по тарифу smart:',  round(svod[svod['tariff']=='smart']['gb'].mean()), 'gb')"
   ]
  },
  {
   "cell_type": "code",
   "execution_count": 66,
   "metadata": {},
   "outputs": [
    {
     "data": {
      "text/plain": [
       "Text(0, 0.5, 'частотность')"
      ]
     },
     "execution_count": 66,
     "metadata": {},
     "output_type": "execute_result"
    },
    {
     "data": {
      "image/png": "[encoded data removed]",
      "text/plain": [
       "<Figure size 432x288 with 1 Axes>"
      ]
     },
     "metadata": {
      "needs_background": "light"
     },
     "output_type": "display_data"
    }
   ],
   "source": [
    "svod[svod['tariff']=='smart']['gb'].hist(alpha=0.5, label='smart')\n",
    "svod[svod['tariff']=='ultra']['gb'].hist(alpha=0.5, label='ultra')\n",
    "plt.legend()\n",
    "plt.title('Гистограмма распределения среднего использования трафика по тарифам в месяц, гб')\n",
    "plt.xlabel('гб')\n",
    "plt.ylabel('частотность')"
   ]
  },
  {
   "cell_type": "markdown",
   "metadata": {},
   "source": [
    "<div style=\"border:solid blue 1px; padding: 20px\">\n",
    "По гистограмме выше можно отметить, что по тарифу \"Ультра\" распределение достаточно равномерно. Большая часть пользователей использует от 10 до 30 гб в месяц. Небольшая доля пользоваталей берет дополнительные гб (в тариф включено 30 гб).\n",
    "По тарифу \"Смарт\" большая часть пользователей используют 11-21 гб. Большая часть пользователей используют дополнительные пакеты трафика (в тариф включено 15 гб)."
   ]
  },
  {
   "cell_type": "markdown",
   "metadata": {},
   "source": [
    "<div style=\"border:solid blue 1px; padding: 20px\">\n",
    "В среднем пользователи используют примерно одинаковое количество трафика по обоим тарифам (16 и 19 гб соответственно)"
   ]
  },
  {
   "cell_type": "markdown",
   "metadata": {},
   "source": [
    "<div style=\"border:solid blue 1px; padding: 20px\">\n",
    "Посчитаем дисперсию и стандартное отклонение количества использованного трафика. Поскольку мы проводим анализ на небольшой выборке клиентов, используем формулу не для генеральной совокупности, а для выборки."
   ]
  },
  {
   "cell_type": "code",
   "execution_count": 67,
   "metadata": {},
   "outputs": [
    {
     "data": {
      "text/plain": [
       "97.09168626965457"
      ]
     },
     "metadata": {},
     "output_type": "display_data"
    },
    {
     "data": {
      "text/plain": [
       "9.853511367510293"
      ]
     },
     "metadata": {},
     "output_type": "display_data"
    },
    {
     "data": {
      "text/plain": [
       "33.02870517811161"
      ]
     },
     "metadata": {},
     "output_type": "display_data"
    },
    {
     "data": {
      "text/plain": [
       "5.7470605685090534"
      ]
     },
     "metadata": {},
     "output_type": "display_data"
    }
   ],
   "source": [
    "gb_series_ultra = svod[svod['tariff']=='ultra']['gb']\n",
    "variance_gb_ultra = np.var(gb_series_ultra, ddof=1)\n",
    "standard_dev_gb_ultra = np.std(gb_series_ultra, ddof=1)\n",
    "display(variance_gb_ultra, standard_dev_gb_ultra)\n",
    "\n",
    "gb_series_smart = svod[svod['tariff']=='smart']['gb']\n",
    "variance_gb_smart = np.var(gb_series_smart, ddof=1)\n",
    "standard_dev_gb_smart = np.std(gb_series_smart, ddof=1)\n",
    "display(variance_gb_smart, standard_dev_gb_smart)"
   ]
  },
  {
   "cell_type": "markdown",
   "metadata": {},
   "source": [
    "<div style=\"border:solid blue 1px; padding: 20px\">\n",
    "По тарифу ultra дисперсия составила 97, а стандартное отклонение (среднее расстояние между значениями и средним) - 10\n",
    "По тарифу smart дисперсия составила 33, а стандартное отклонение - 6"
   ]
  },
  {
   "cell_type": "code",
   "execution_count": 68,
   "metadata": {},
   "outputs": [
    {
     "name": "stdout",
     "output_type": "stream",
     "text": [
      "Среднее количество отправленных смс по тарифу ultra: 49\n",
      "Среднее количество отправленных смс по тарифу smart: 33\n"
     ]
    },
    {
     "data": {
      "image/png": "[encoded data removed]",
      "text/plain": [
       "<Figure size 432x288 with 1 Axes>"
      ]
     },
     "metadata": {
      "needs_background": "light"
     },
     "output_type": "display_data"
    },
    {
     "data": {
      "image/png": "[encoded data removed]",
      "text/plain": [
       "<Figure size 432x288 with 1 Axes>"
      ]
     },
     "metadata": {
      "needs_background": "light"
     },
     "output_type": "display_data"
    }
   ],
   "source": [
    "svod[svod['tariff']=='ultra'].pivot_table(index='month', values='messages', aggfunc='mean').plot(title='количество отправленных смс по тарифу ultra', kind='bar')\n",
    "svod[svod['tariff']=='smart'].pivot_table(index='month', values='messages', aggfunc='mean').plot(title='количество отправленных смс по тарифу smart', kind='bar')\n",
    "print('Среднее количество отправленных смс по тарифу ultra:', round(svod[svod['tariff']=='ultra']['messages'].mean()))\n",
    "print('Среднее количество отправленных смс по тарифу smart:', round(svod[svod['tariff']=='smart']['messages'].mean()))"
   ]
  },
  {
   "cell_type": "code",
   "execution_count": 69,
   "metadata": {},
   "outputs": [
    {
     "data": {
      "text/plain": [
       "Text(0, 0.5, 'частотность')"
      ]
     },
     "execution_count": 69,
     "metadata": {},
     "output_type": "execute_result"
    },
    {
     "data": {
      "image/png": "[encoded data removed]",
      "text/plain": [
       "<Figure size 432x288 with 1 Axes>"
      ]
     },
     "metadata": {
      "needs_background": "light"
     },
     "output_type": "display_data"
    }
   ],
   "source": [
    "svod[svod['tariff']=='smart']['messages'].hist(alpha=0.5, label='smart')\n",
    "svod[svod['tariff']=='ultra']['messages'].hist(alpha=0.5, label='ultra')\n",
    "plt.legend()\n",
    "plt.title('Гистограмма распределения среднего количества сообщений по тарифам в месяц')\n",
    "plt.xlabel('количество смс')\n",
    "plt.ylabel('частотность')"
   ]
  },
  {
   "cell_type": "markdown",
   "metadata": {},
   "source": [
    "<div style=\"border:solid blue 1px; padding: 20px\">\n",
    "В пакет тарифа \"Ультра\" включена 1000 сообщений, \"Смарт\" - 50 сообщений.\n",
    "Распределение по тарифам симметрично. По тарифу \"Ультра\" выделяется группа пользователей, которая пишет до 25 сообщений в месяц, по тарифу \"Смарт\" до 15. Большинство пользователей тарифа \"Ультра\" и \"Смарт\" отправляют до 80 сообщений.\n",
    "Часть пользователей тарифа \"Смарт\" не укладывается в количество смс, включенных в пакет. Никто из пользователей тарифа \"Ультра\" не берет дополнительный пакет сообщений."
   ]
  },
  {
   "cell_type": "markdown",
   "metadata": {},
   "source": [
    "<div style=\"border:solid blue 1px; padding: 20px\">\n",
    "В среднем пользователи тарифа ultra отправляют 49 сообщений в месяц, а тарифа smart - 33."
   ]
  },
  {
   "cell_type": "code",
   "execution_count": 70,
   "metadata": {},
   "outputs": [
    {
     "data": {
      "text/plain": [
       "2285.266142544674"
      ]
     },
     "metadata": {},
     "output_type": "display_data"
    },
    {
     "data": {
      "text/plain": [
       "47.80445735017472"
      ]
     },
     "metadata": {},
     "output_type": "display_data"
    },
    {
     "data": {
      "text/plain": [
       "796.8129584480083"
      ]
     },
     "metadata": {},
     "output_type": "display_data"
    },
    {
     "data": {
      "text/plain": [
       "28.22787555676141"
      ]
     },
     "metadata": {},
     "output_type": "display_data"
    }
   ],
   "source": [
    "messages_series_ultra = svod[svod['tariff']=='ultra']['messages']\n",
    "variance_messages_ultra = np.var(messages_series_ultra, ddof=1)\n",
    "standard_dev_messages_ultra = np.std(messages_series_ultra, ddof=1)\n",
    "display(variance_messages_ultra, standard_dev_messages_ultra)\n",
    "\n",
    "messages_series_smart = svod[svod['tariff']=='smart']['messages']\n",
    "variance_messages_smart = np.var(messages_series_smart, ddof=1)\n",
    "standard_dev_messages_smart = np.std(messages_series_smart, ddof=1)\n",
    "display(variance_messages_smart, standard_dev_messages_smart)"
   ]
  },
  {
   "cell_type": "markdown",
   "metadata": {},
   "source": [
    "<div style=\"border:solid blue 1px; padding: 20px\">\n",
    "По тарифу ultra дисперсия составила 2285, а стандартное отклонение - 48\n",
    "По тарифу smart дисперсия составила 797, а стандартное отклонение - 28"
   ]
  },
  {
   "cell_type": "code",
   "execution_count": 71,
   "metadata": {},
   "outputs": [
    {
     "name": "stdout",
     "output_type": "stream",
     "text": [
      "Среднее количество минут по тарифу ultra: 73\n",
      "Среднее количество минут по тарифу smart: 58\n"
     ]
    },
    {
     "data": {
      "image/png": "[encoded data removed]",
      "text/plain": [
       "<Figure size 432x288 with 1 Axes>"
      ]
     },
     "metadata": {
      "needs_background": "light"
     },
     "output_type": "display_data"
    },
    {
     "data": {
      "image/png": "[encoded data removed]",
      "text/plain": [
       "<Figure size 432x288 with 1 Axes>"
      ]
     },
     "metadata": {
      "needs_background": "light"
     },
     "output_type": "display_data"
    }
   ],
   "source": [
    "svod[svod['tariff']=='ultra'].pivot_table(index='month', values='calls', aggfunc='mean').plot(title='количество минут по тарифу ultra', kind='bar')\n",
    "svod[svod['tariff']=='smart'].pivot_table(index='month', values='calls', aggfunc='mean').plot(title='количество минут по тарифу smart', kind='bar')\n",
    "print('Среднее количество минут по тарифу ultra:', round(svod[svod['tariff']=='ultra']['calls'].mean()))\n",
    "print('Среднее количество минут по тарифу smart:', round(svod[svod['tariff']=='smart']['calls'].mean()))"
   ]
  },
  {
   "cell_type": "code",
   "execution_count": 72,
   "metadata": {},
   "outputs": [
    {
     "data": {
      "text/plain": [
       "Text(0, 0.5, 'частотность')"
      ]
     },
     "execution_count": 72,
     "metadata": {},
     "output_type": "execute_result"
    },
    {
     "data": {
      "image/png": "[encoded data removed]",
      "text/plain": [
       "<Figure size 432x288 with 1 Axes>"
      ]
     },
     "metadata": {
      "needs_background": "light"
     },
     "output_type": "display_data"
    }
   ],
   "source": [
    "svod[svod['tariff']=='smart']['calls'].hist(alpha=0.5, label='smart')\n",
    "svod[svod['tariff']=='ultra']['calls'].hist(alpha=0.5, label='ultra')\n",
    "plt.legend()\n",
    "plt.title('Гистограмма распределения средней длительности звонков по тарифам в месяц, минуты')\n",
    "plt.xlabel('минуты')\n",
    "plt.ylabel('частотность')"
   ]
  },
  {
   "cell_type": "markdown",
   "metadata": {},
   "source": [
    "<div style=\"border:solid blue 1px; padding: 20px\">\n",
    "По тарифу \"Смарт\" в тариф включено 500 минут месяц, по тарифу \"Ультра\" - 3000 минут.\n",
    "По гистограммам выше можно отметить, что по тарифу \"Ультра\" большинство пользователей звонят до 120 минут в месяц.\n",
    "По тарифу \"Смарт\" большинство пользователей совершают звонков до 100 минут в месяц.\n",
    "По обоим тарифам пользователи укладываются в количество минут, включенных в пакет. Пользователям обоих тарифов хватает количество минут тарифа \"Смарт\"."
   ]
  },
  {
   "cell_type": "markdown",
   "metadata": {},
   "source": [
    "<div style=\"border:solid blue 1px; padding: 20px\">\n",
    "В среднем пользователи тарифа ultra разговаривают по телефону 73 минуты в месяц, а тарифа smart - 58."
   ]
  },
  {
   "cell_type": "code",
   "execution_count": 73,
   "metadata": {},
   "outputs": [
    {
     "data": {
      "text/plain": [
       "1928.6899900953324"
      ]
     },
     "metadata": {},
     "output_type": "display_data"
    },
    {
     "data": {
      "text/plain": [
       "43.91685314426948"
      ]
     },
     "metadata": {},
     "output_type": "display_data"
    },
    {
     "data": {
      "text/plain": [
       "672.8762433017358"
      ]
     },
     "metadata": {},
     "output_type": "display_data"
    },
    {
     "data": {
      "text/plain": [
       "25.939858197409944"
      ]
     },
     "metadata": {},
     "output_type": "display_data"
    }
   ],
   "source": [
    "calls_series_ultra = svod[svod['tariff']=='ultra']['calls']\n",
    "variance_calls_ultra = np.var(calls_series_ultra, ddof=1)\n",
    "standard_dev_calls_ultra = np.std(calls_series_ultra, ddof=1)\n",
    "display(variance_calls_ultra, standard_dev_calls_ultra)\n",
    "\n",
    "calls_series_smart = svod[svod['tariff']=='smart']['calls']\n",
    "variance_calls_smart = np.var(calls_series_smart, ddof=1)\n",
    "standard_dev_calls_smart = np.std(calls_series_smart, ddof=1)\n",
    "display(variance_calls_smart, standard_dev_calls_smart)"
   ]
  },
  {
   "cell_type": "markdown",
   "metadata": {},
   "source": [
    "<div style=\"border:solid blue 1px; padding: 20px\">\n",
    "По тарифу ultra дисперсия составила 1928, а стандартное отклонение - 44\n",
    "По тарифу smart дисперсия составила 673, а стандартное отклонение - 26"
   ]
  },
  {
   "cell_type": "markdown",
   "metadata": {},
   "source": [
    "### Вывод"
   ]
  },
  {
   "cell_type": "markdown",
   "metadata": {},
   "source": [
    "<div style=\"border:solid blue 1px; padding: 20px\">\n",
    "Переменные количество гб, минут и сообщений - количественные, дискретные, т.к. принимают строго определенные значения (могут быть только целыми, округляются вверх).\n",
    "Следовательно раз переменные дискретны, то распределение биноминальное.\n",
    "По обоим тарифам можно сделать вывод, что трафик растет в течение года. Количество используемых гб, смс и минут по трафикам отличается не сильно."
   ]
  },
  {
   "cell_type": "markdown",
   "metadata": {},
   "source": [
    "## Проверка гипотез"
   ]
  },
  {
   "cell_type": "markdown",
   "metadata": {},
   "source": [
    "### Средняя выручка пользователей тарифов «Ультра» и «Смарт» различаются"
   ]
  },
  {
   "cell_type": "markdown",
   "metadata": {},
   "source": [
    "<div style=\"border:solid blue 1px; padding: 20px\">\n",
    "Проверим гипотезу, что средняя выручка пользователей тарифов «Ультра» и «Смарт» различаются"
   ]
  },
  {
   "cell_type": "markdown",
   "metadata": {},
   "source": [
    "<div style=\"border:solid blue 1px; padding: 20px\">\n",
    "В качестве нулевой гипотезы возьмем то, что средняя выручка по тарифу smart равна средней выручке по тарифу ultra, альтернативная гипотеза - выручки по тарифам различаются. Критический уровень статистической значимости примем равным 0.05. Также предполагая, что дисперсии у совокупностей разные, примем параметр equal_var = False."
   ]
  },
  {
   "cell_type": "code",
   "execution_count": 74,
   "metadata": {},
   "outputs": [
    {
     "name": "stdout",
     "output_type": "stream",
     "text": [
      "p-значение:  4.2606313931076085e-250\n",
      "Отвергаем нулевую гипотезу\n"
     ]
    }
   ],
   "source": [
    "sample_1 = svod[svod['tariff']=='ultra']['id_revenue_per_month']\n",
    "sample_2 = svod[svod['tariff']=='smart']['id_revenue_per_month']\n",
    "\n",
    "alpha = 0.05\n",
    "\n",
    "results = st.ttest_ind(sample_1, sample_2, equal_var = False)\n",
    "\n",
    "print('p-значение: ', results.pvalue)\n",
    "\n",
    "if results.pvalue < alpha:\n",
    "    print(\"Отвергаем нулевую гипотезу\")\n",
    "else:\n",
    "    print(\"Не получилось отвергнуть нулевую гипотезу\") "
   ]
  },
  {
   "cell_type": "code",
   "execution_count": 75,
   "metadata": {},
   "outputs": [
    {
     "name": "stdout",
     "output_type": "stream",
     "text": [
      "Средняя выручка по тарифу ultra: 2070 руб\n",
      "Средняя выручка по тарифу smart: 1290 руб\n"
     ]
    }
   ],
   "source": [
    "print('Средняя выручка по тарифу ultra:', round(svod[svod['tariff']=='ultra']['id_revenue_per_month'].mean()), 'руб')\n",
    "print('Средняя выручка по тарифу smart:', round(svod[svod['tariff']=='smart']['id_revenue_per_month'].mean()), 'руб')"
   ]
  },
  {
   "cell_type": "markdown",
   "metadata": {},
   "source": [
    "<div style=\"border:solid blue 1px; padding: 20px\">\n",
    "Действительно выручки по тарифам значительно отличаются. Средняя выручка по тарифу ultra на 780 руб. (в 1,6 раза) больше, чем по тарифу smart. Для оператора тариф ultra более выгодный."
   ]
  },
  {
   "cell_type": "markdown",
   "metadata": {},
   "source": [
    "### Средняя выручка пользователей из Москвы отличается от выручки пользователей из других регионов"
   ]
  },
  {
   "cell_type": "markdown",
   "metadata": {},
   "source": [
    "<div style=\"border:solid blue 1px; padding: 20px\">\n",
    "Проверим гипотезу, что средняя выручка пользователей из Москвы отличается от выручки пользователей из других регионов."
   ]
  },
  {
   "cell_type": "markdown",
   "metadata": {},
   "source": [
    "<div style=\"border:solid blue 1px; padding: 20px\">\n",
    "В качестве нулевой гипотезы возьмем то, что средняя выручка пользователей равна средней выручке пользователей из других регионов, альтернативная гипотеза - выручка в Москве и регионах различается. Критический уровень статистической значимости примем равным 0.05. Также предполагая, что дисперсии у совокупностей разные, примем параметр equal_var = False."
   ]
  },
  {
   "cell_type": "code",
   "execution_count": 76,
   "metadata": {},
   "outputs": [
    {
     "name": "stdout",
     "output_type": "stream",
     "text": [
      "p-значение:  0.5257376663729298\n",
      "Не получилось отвергнуть нулевую гипотезу\n"
     ]
    }
   ],
   "source": [
    "sample_3 = svod[svod['city']=='Москва']['id_revenue_per_month']\n",
    "sample_4 = svod[svod['city']!='Москва']['id_revenue_per_month']\n",
    "\n",
    "alpha = 0.05\n",
    "\n",
    "results = st.ttest_ind(sample_3, sample_4, equal_var = False)\n",
    "\n",
    "print('p-значение: ', results.pvalue)\n",
    "\n",
    "if results.pvalue < alpha:\n",
    "    print(\"Отвергаем нулевую гипотезу\")\n",
    "else:\n",
    "    print(\"Не получилось отвергнуть нулевую гипотезу\") "
   ]
  },
  {
   "cell_type": "code",
   "execution_count": 77,
   "metadata": {},
   "outputs": [
    {
     "name": "stdout",
     "output_type": "stream",
     "text": [
      "Средняя выручка в Москве: 1547 руб\n",
      "Средняя выручка в регионах: 1525 руб\n"
     ]
    }
   ],
   "source": [
    "print('Средняя выручка в Москве:', round(svod[svod['city']=='Москва']['id_revenue_per_month'].mean()), 'руб')\n",
    "print('Средняя выручка в регионах:', round(svod[svod['city']!='Москва']['id_revenue_per_month'].mean()), 'руб')"
   ]
  },
  {
   "cell_type": "markdown",
   "metadata": {},
   "source": [
    "<div style=\"border:solid blue 1px; padding: 20px\">\n",
    "Действительно выручка в Москве и в регионах практически не отличаются: в Москве больше на 22 руб. (1,4%)."
   ]
  },
  {
   "cell_type": "markdown",
   "metadata": {},
   "source": [
    "## Вывод"
   ]
  },
  {
   "cell_type": "markdown",
   "metadata": {},
   "source": [
    "<div style=\"border:solid blue 1px; padding: 20px\">\n",
    "Большинство пользователей выбирают тариф \"Смарт\" (в 2 раза больше пользователей, чем в тарифе \"Ультра\"). В среднем пользователи обоих тарифов совершают примерно одинаковое количество звонков (в среднем разговаривают по телефону 58 минут в месяц пользователи тарифа \"Смарт\" и 73 минуты тарифа \"Ультра\"), смс (33 смс по тарифу \"Смарт\" и 49 смс по тарифу \"Ультра\"), тратят примерное одинаковок количество трафика (16гб по тарифу \"Смарт\" и 19гб по тарифу \"Ультра\"). Несмотря на то, что пользователи с тарифом \"Смарт\" иногда не укладываются в нормы тарифа и используют дополнительные пакеты гб, выручка с пользователя тариф \"Ультра\" в 1,6 раз больше, чем с тарифа \"Смарт\".\n",
    "Таким образом для Мегалайн выгоднее тариф \"Ультра\".\n",
    "Относительно разбивки по регионам выручка практически не отличается: в Москве выручка превышает выручку в регионах всего на 1,4%."
   ]
  }
 ],
 "metadata": {
  "ExecuteTimeLog": [
   {
    "duration": 99,
    "start_time": "2022-03-13T11:04:44.888Z"
   },
   {
    "duration": 1214,
    "start_time": "2022-03-13T11:44:45.574Z"
   },
   {
    "duration": 203,
    "start_time": "2022-03-13T11:45:33.920Z"
   },
   {
    "duration": 19,
    "start_time": "2022-03-13T11:45:42.132Z"
   },
   {
    "duration": 201,
    "start_time": "2022-03-13T11:45:51.972Z"
   },
   {
    "duration": 12,
    "start_time": "2022-03-13T11:45:52.618Z"
   },
   {
    "duration": 550,
    "start_time": "2022-03-13T11:48:23.442Z"
   },
   {
    "duration": 12,
    "start_time": "2022-03-13T11:48:42.905Z"
   },
   {
    "duration": 12,
    "start_time": "2022-03-13T11:49:03.260Z"
   },
   {
    "duration": 11,
    "start_time": "2022-03-13T11:49:25.016Z"
   },
   {
    "duration": 20,
    "start_time": "2022-03-13T11:49:40.942Z"
   },
   {
    "duration": 27,
    "start_time": "2022-03-13T11:50:09.929Z"
   },
   {
    "duration": 23,
    "start_time": "2022-03-13T11:50:27.186Z"
   },
   {
    "duration": 20,
    "start_time": "2022-03-13T11:51:26.383Z"
   },
   {
    "duration": 11,
    "start_time": "2022-03-13T11:51:38.624Z"
   },
   {
    "duration": 10,
    "start_time": "2022-03-13T11:51:55.994Z"
   },
   {
    "duration": 39,
    "start_time": "2022-03-13T12:02:48.533Z"
   },
   {
    "duration": 13,
    "start_time": "2022-03-13T12:02:57.535Z"
   },
   {
    "duration": 19,
    "start_time": "2022-03-13T12:03:08.822Z"
   },
   {
    "duration": 448,
    "start_time": "2022-03-13T12:06:43.060Z"
   },
   {
    "duration": 1124,
    "start_time": "2022-03-13T12:06:50.860Z"
   },
   {
    "duration": 484,
    "start_time": "2022-03-13T12:06:51.987Z"
   },
   {
    "duration": 20,
    "start_time": "2022-03-13T12:06:52.474Z"
   },
   {
    "duration": 28,
    "start_time": "2022-03-13T12:06:52.497Z"
   },
   {
    "duration": 12,
    "start_time": "2022-03-13T12:06:52.528Z"
   },
   {
    "duration": 51,
    "start_time": "2022-03-13T12:06:52.543Z"
   },
   {
    "duration": 9,
    "start_time": "2022-03-13T12:06:52.597Z"
   },
   {
    "duration": 18,
    "start_time": "2022-03-13T12:06:52.610Z"
   },
   {
    "duration": 14,
    "start_time": "2022-03-13T12:06:52.631Z"
   },
   {
    "duration": 38,
    "start_time": "2022-03-13T12:06:52.647Z"
   },
   {
    "duration": 16,
    "start_time": "2022-03-13T12:06:52.687Z"
   },
   {
    "duration": 12,
    "start_time": "2022-03-13T12:06:52.705Z"
   },
   {
    "duration": 72,
    "start_time": "2022-03-13T12:06:52.720Z"
   },
   {
    "duration": 378,
    "start_time": "2022-03-13T12:06:52.794Z"
   },
   {
    "duration": -2213,
    "start_time": "2022-03-13T12:06:55.388Z"
   },
   {
    "duration": -2219,
    "start_time": "2022-03-13T12:06:55.396Z"
   },
   {
    "duration": 283,
    "start_time": "2022-03-13T12:12:06.052Z"
   },
   {
    "duration": 349,
    "start_time": "2022-03-13T12:12:28.979Z"
   },
   {
    "duration": 536,
    "start_time": "2022-03-13T12:13:07.717Z"
   },
   {
    "duration": 6,
    "start_time": "2022-03-13T12:16:06.804Z"
   },
   {
    "duration": 311,
    "start_time": "2022-03-13T12:18:37.463Z"
   },
   {
    "duration": 6,
    "start_time": "2022-03-13T12:27:20.624Z"
   },
   {
    "duration": 98,
    "start_time": "2022-03-13T12:28:14.037Z"
   },
   {
    "duration": 18,
    "start_time": "2022-03-13T12:28:23.839Z"
   },
   {
    "duration": 19,
    "start_time": "2022-03-13T12:28:27.844Z"
   },
   {
    "duration": 6,
    "start_time": "2022-03-13T12:28:40.956Z"
   },
   {
    "duration": 13,
    "start_time": "2022-03-13T12:28:42.706Z"
   },
   {
    "duration": 5,
    "start_time": "2022-03-13T12:30:27.501Z"
   },
   {
    "duration": 13,
    "start_time": "2022-03-13T12:30:29.091Z"
   },
   {
    "duration": 1223,
    "start_time": "2022-03-13T12:30:41.107Z"
   },
   {
    "duration": 510,
    "start_time": "2022-03-13T12:30:42.333Z"
   },
   {
    "duration": 23,
    "start_time": "2022-03-13T12:30:42.846Z"
   },
   {
    "duration": 32,
    "start_time": "2022-03-13T12:30:42.873Z"
   },
   {
    "duration": 12,
    "start_time": "2022-03-13T12:30:42.908Z"
   },
   {
    "duration": 25,
    "start_time": "2022-03-13T12:30:42.923Z"
   },
   {
    "duration": 38,
    "start_time": "2022-03-13T12:30:42.951Z"
   },
   {
    "duration": 19,
    "start_time": "2022-03-13T12:30:42.992Z"
   },
   {
    "duration": 11,
    "start_time": "2022-03-13T12:30:43.015Z"
   },
   {
    "duration": 11,
    "start_time": "2022-03-13T12:30:43.028Z"
   },
   {
    "duration": 57,
    "start_time": "2022-03-13T12:30:43.042Z"
   },
   {
    "duration": 11,
    "start_time": "2022-03-13T12:30:43.101Z"
   },
   {
    "duration": 69,
    "start_time": "2022-03-13T12:30:43.115Z"
   },
   {
    "duration": 4,
    "start_time": "2022-03-13T12:30:43.186Z"
   },
   {
    "duration": 23,
    "start_time": "2022-03-13T12:30:43.193Z"
   },
   {
    "duration": 13,
    "start_time": "2022-03-13T12:30:43.218Z"
   },
   {
    "duration": 756,
    "start_time": "2022-03-13T12:32:53.416Z"
   },
   {
    "duration": 286,
    "start_time": "2022-03-13T12:33:00.273Z"
   },
   {
    "duration": 386,
    "start_time": "2022-03-13T12:33:08.818Z"
   },
   {
    "duration": 5,
    "start_time": "2022-03-13T12:37:27.153Z"
   },
   {
    "duration": 4640,
    "start_time": "2022-03-13T12:38:32.980Z"
   },
   {
    "duration": 20,
    "start_time": "2022-03-13T12:39:26.420Z"
   },
   {
    "duration": 30,
    "start_time": "2022-03-13T12:41:35.876Z"
   },
   {
    "duration": 17,
    "start_time": "2022-03-13T12:41:50.735Z"
   },
   {
    "duration": 9,
    "start_time": "2022-03-13T12:43:06.599Z"
   },
   {
    "duration": 17,
    "start_time": "2022-03-13T12:43:07.268Z"
   },
   {
    "duration": 9,
    "start_time": "2022-03-13T12:43:21.506Z"
   },
   {
    "duration": 24,
    "start_time": "2022-03-13T12:43:46.160Z"
   },
   {
    "duration": 15,
    "start_time": "2022-03-13T12:43:56.083Z"
   },
   {
    "duration": 7,
    "start_time": "2022-03-13T12:46:33.443Z"
   },
   {
    "duration": 11,
    "start_time": "2022-03-13T12:46:44.120Z"
   },
   {
    "duration": 8,
    "start_time": "2022-03-13T12:47:49.380Z"
   },
   {
    "duration": 10,
    "start_time": "2022-03-13T12:47:49.988Z"
   },
   {
    "duration": 9,
    "start_time": "2022-03-13T12:48:38.582Z"
   },
   {
    "duration": 84,
    "start_time": "2022-03-13T12:48:47.601Z"
   },
   {
    "duration": 50,
    "start_time": "2022-03-13T12:48:56.789Z"
   },
   {
    "duration": 117,
    "start_time": "2022-03-13T12:49:04.657Z"
   },
   {
    "duration": 8,
    "start_time": "2022-03-13T12:49:11.956Z"
   },
   {
    "duration": 11,
    "start_time": "2022-03-13T12:56:26.727Z"
   },
   {
    "duration": 351,
    "start_time": "2022-03-13T13:01:15.137Z"
   },
   {
    "duration": 9763,
    "start_time": "2022-03-13T13:01:43.805Z"
   },
   {
    "duration": 131,
    "start_time": "2022-03-13T13:02:51.179Z"
   },
   {
    "duration": 29,
    "start_time": "2022-03-13T13:03:22.483Z"
   },
   {
    "duration": 12,
    "start_time": "2022-03-13T13:03:30.920Z"
   },
   {
    "duration": 14,
    "start_time": "2022-03-13T13:03:36.322Z"
   },
   {
    "duration": 14,
    "start_time": "2022-03-13T13:03:39.362Z"
   },
   {
    "duration": 7,
    "start_time": "2022-03-13T13:04:14.339Z"
   },
   {
    "duration": 342,
    "start_time": "2022-03-13T13:04:22.453Z"
   },
   {
    "duration": 453,
    "start_time": "2022-03-13T13:04:28.265Z"
   },
   {
    "duration": 8,
    "start_time": "2022-03-13T13:04:38.569Z"
   },
   {
    "duration": 6,
    "start_time": "2022-03-13T13:05:14.827Z"
   },
   {
    "duration": 7,
    "start_time": "2022-03-13T13:05:15.225Z"
   },
   {
    "duration": 45,
    "start_time": "2022-03-13T13:12:54.262Z"
   },
   {
    "duration": 53,
    "start_time": "2022-03-13T13:13:06.902Z"
   },
   {
    "duration": 56,
    "start_time": "2022-03-13T13:13:14.970Z"
   },
   {
    "duration": 66,
    "start_time": "2022-03-13T13:14:10.346Z"
   },
   {
    "duration": 71,
    "start_time": "2022-03-13T13:14:57.056Z"
   },
   {
    "duration": 43,
    "start_time": "2022-03-13T13:17:08.820Z"
   },
   {
    "duration": 48,
    "start_time": "2022-03-13T13:17:30.265Z"
   },
   {
    "duration": 390,
    "start_time": "2022-03-13T13:27:28.206Z"
   },
   {
    "duration": 55,
    "start_time": "2022-03-13T13:27:38.405Z"
   },
   {
    "duration": 11,
    "start_time": "2022-03-13T13:29:34.122Z"
   },
   {
    "duration": 22,
    "start_time": "2022-03-13T13:29:44.393Z"
   },
   {
    "duration": 327,
    "start_time": "2022-03-13T13:31:36.634Z"
   },
   {
    "duration": 14,
    "start_time": "2022-03-13T14:22:13.829Z"
   },
   {
    "duration": 273,
    "start_time": "2022-03-13T14:31:46.792Z"
   },
   {
    "duration": 1201,
    "start_time": "2022-03-13T14:31:56.907Z"
   },
   {
    "duration": 516,
    "start_time": "2022-03-13T14:31:58.111Z"
   },
   {
    "duration": 25,
    "start_time": "2022-03-13T14:31:58.630Z"
   },
   {
    "duration": 32,
    "start_time": "2022-03-13T14:31:58.658Z"
   },
   {
    "duration": 15,
    "start_time": "2022-03-13T14:31:58.692Z"
   },
   {
    "duration": 26,
    "start_time": "2022-03-13T14:31:58.709Z"
   },
   {
    "duration": 11,
    "start_time": "2022-03-13T14:31:58.737Z"
   },
   {
    "duration": 52,
    "start_time": "2022-03-13T14:31:58.751Z"
   },
   {
    "duration": 16,
    "start_time": "2022-03-13T14:31:58.807Z"
   },
   {
    "duration": 12,
    "start_time": "2022-03-13T14:31:58.826Z"
   },
   {
    "duration": 49,
    "start_time": "2022-03-13T14:31:58.840Z"
   },
   {
    "duration": 16,
    "start_time": "2022-03-13T14:31:58.891Z"
   },
   {
    "duration": 47,
    "start_time": "2022-03-13T14:31:58.910Z"
   },
   {
    "duration": 5093,
    "start_time": "2022-03-13T14:31:58.960Z"
   },
   {
    "duration": 34,
    "start_time": "2022-03-13T14:32:04.055Z"
   },
   {
    "duration": 34,
    "start_time": "2022-03-13T14:32:04.092Z"
   },
   {
    "duration": 21,
    "start_time": "2022-03-13T14:32:04.128Z"
   },
   {
    "duration": 28,
    "start_time": "2022-03-13T14:32:04.183Z"
   },
   {
    "duration": 14,
    "start_time": "2022-03-13T14:32:04.214Z"
   },
   {
    "duration": 9,
    "start_time": "2022-03-13T14:32:04.231Z"
   },
   {
    "duration": 44,
    "start_time": "2022-03-13T14:32:04.243Z"
   },
   {
    "duration": 11,
    "start_time": "2022-03-13T14:32:04.291Z"
   },
   {
    "duration": 113,
    "start_time": "2022-03-13T14:32:04.308Z"
   },
   {
    "duration": 60,
    "start_time": "2022-03-13T14:32:04.424Z"
   },
   {
    "duration": 108,
    "start_time": "2022-03-13T14:32:04.487Z"
   },
   {
    "duration": 9,
    "start_time": "2022-03-13T14:32:04.597Z"
   },
   {
    "duration": 153,
    "start_time": "2022-03-13T14:32:04.609Z"
   },
   {
    "duration": 18,
    "start_time": "2022-03-13T14:32:04.765Z"
   },
   {
    "duration": 13,
    "start_time": "2022-03-13T14:32:04.786Z"
   },
   {
    "duration": 17,
    "start_time": "2022-03-13T14:32:04.801Z"
   },
   {
    "duration": 8,
    "start_time": "2022-03-13T14:32:04.820Z"
   },
   {
    "duration": 6,
    "start_time": "2022-03-13T14:32:04.831Z"
   },
   {
    "duration": 51,
    "start_time": "2022-03-13T14:32:04.840Z"
   },
   {
    "duration": 91,
    "start_time": "2022-03-13T14:32:04.893Z"
   },
   {
    "duration": 47,
    "start_time": "2022-03-13T14:32:04.987Z"
   },
   {
    "duration": 75,
    "start_time": "2022-03-13T14:32:05.037Z"
   },
   {
    "duration": 12,
    "start_time": "2022-03-13T14:32:05.115Z"
   },
   {
    "duration": 23,
    "start_time": "2022-03-13T14:32:05.129Z"
   },
   {
    "duration": 367,
    "start_time": "2022-03-13T14:32:05.155Z"
   },
   {
    "duration": 412,
    "start_time": "2022-03-13T14:32:05.525Z"
   },
   {
    "duration": -2378,
    "start_time": "2022-03-13T14:32:08.318Z"
   },
   {
    "duration": 294,
    "start_time": "2022-03-13T14:33:32.585Z"
   },
   {
    "duration": 16,
    "start_time": "2022-03-13T14:33:48.607Z"
   },
   {
    "duration": 18,
    "start_time": "2022-03-13T14:34:08.871Z"
   },
   {
    "duration": 1316,
    "start_time": "2022-03-13T14:34:41.188Z"
   },
   {
    "duration": 625,
    "start_time": "2022-03-13T14:34:42.507Z"
   },
   {
    "duration": 23,
    "start_time": "2022-03-13T14:34:43.139Z"
   },
   {
    "duration": 41,
    "start_time": "2022-03-13T14:34:43.164Z"
   },
   {
    "duration": 13,
    "start_time": "2022-03-13T14:34:43.208Z"
   },
   {
    "duration": 27,
    "start_time": "2022-03-13T14:34:43.225Z"
   },
   {
    "duration": 11,
    "start_time": "2022-03-13T14:34:43.286Z"
   },
   {
    "duration": 20,
    "start_time": "2022-03-13T14:34:43.300Z"
   },
   {
    "duration": 12,
    "start_time": "2022-03-13T14:34:43.322Z"
   },
   {
    "duration": 9,
    "start_time": "2022-03-13T14:34:43.337Z"
   },
   {
    "duration": 16,
    "start_time": "2022-03-13T14:34:43.383Z"
   },
   {
    "duration": 11,
    "start_time": "2022-03-13T14:34:43.401Z"
   },
   {
    "duration": 73,
    "start_time": "2022-03-13T14:34:43.415Z"
   },
   {
    "duration": 4731,
    "start_time": "2022-03-13T14:34:43.490Z"
   },
   {
    "duration": 21,
    "start_time": "2022-03-13T14:34:48.223Z"
   },
   {
    "duration": 47,
    "start_time": "2022-03-13T14:34:48.246Z"
   },
   {
    "duration": 16,
    "start_time": "2022-03-13T14:34:48.295Z"
   },
   {
    "duration": 23,
    "start_time": "2022-03-13T14:34:48.314Z"
   },
   {
    "duration": 47,
    "start_time": "2022-03-13T14:34:48.339Z"
   },
   {
    "duration": 9,
    "start_time": "2022-03-13T14:34:48.388Z"
   },
   {
    "duration": 11,
    "start_time": "2022-03-13T14:34:48.400Z"
   },
   {
    "duration": 12,
    "start_time": "2022-03-13T14:34:48.416Z"
   },
   {
    "duration": 125,
    "start_time": "2022-03-13T14:34:48.432Z"
   },
   {
    "duration": 58,
    "start_time": "2022-03-13T14:34:48.560Z"
   },
   {
    "duration": 124,
    "start_time": "2022-03-13T14:34:48.621Z"
   },
   {
    "duration": 9,
    "start_time": "2022-03-13T14:34:48.748Z"
   },
   {
    "duration": 164,
    "start_time": "2022-03-13T14:34:48.760Z"
   },
   {
    "duration": 15,
    "start_time": "2022-03-13T14:34:48.927Z"
   },
   {
    "duration": 13,
    "start_time": "2022-03-13T14:34:48.945Z"
   },
   {
    "duration": 16,
    "start_time": "2022-03-13T14:34:48.983Z"
   },
   {
    "duration": 7,
    "start_time": "2022-03-13T14:34:49.002Z"
   },
   {
    "duration": 6,
    "start_time": "2022-03-13T14:34:49.011Z"
   },
   {
    "duration": 14,
    "start_time": "2022-03-13T14:34:49.020Z"
   },
   {
    "duration": 113,
    "start_time": "2022-03-13T14:34:49.036Z"
   },
   {
    "duration": 63,
    "start_time": "2022-03-13T14:34:49.151Z"
   },
   {
    "duration": 40,
    "start_time": "2022-03-13T14:34:49.217Z"
   },
   {
    "duration": 30,
    "start_time": "2022-03-13T14:34:49.260Z"
   },
   {
    "duration": 33,
    "start_time": "2022-03-13T14:34:49.292Z"
   },
   {
    "duration": 319,
    "start_time": "2022-03-13T14:34:49.327Z"
   },
   {
    "duration": 14,
    "start_time": "2022-03-13T14:34:49.648Z"
   },
   {
    "duration": 28,
    "start_time": "2022-03-13T14:34:49.665Z"
   },
   {
    "duration": 15,
    "start_time": "2022-03-13T14:35:54.348Z"
   },
   {
    "duration": 30,
    "start_time": "2022-03-13T14:36:02.422Z"
   },
   {
    "duration": 1262,
    "start_time": "2022-03-13T14:36:16.497Z"
   },
   {
    "duration": 497,
    "start_time": "2022-03-13T14:36:17.762Z"
   },
   {
    "duration": 20,
    "start_time": "2022-03-13T14:36:18.265Z"
   },
   {
    "duration": 31,
    "start_time": "2022-03-13T14:36:18.288Z"
   },
   {
    "duration": 12,
    "start_time": "2022-03-13T14:36:18.321Z"
   },
   {
    "duration": 60,
    "start_time": "2022-03-13T14:36:18.335Z"
   },
   {
    "duration": 10,
    "start_time": "2022-03-13T14:36:18.398Z"
   },
   {
    "duration": 20,
    "start_time": "2022-03-13T14:36:18.412Z"
   },
   {
    "duration": 49,
    "start_time": "2022-03-13T14:36:18.435Z"
   },
   {
    "duration": 12,
    "start_time": "2022-03-13T14:36:18.487Z"
   },
   {
    "duration": 20,
    "start_time": "2022-03-13T14:36:18.502Z"
   },
   {
    "duration": 10,
    "start_time": "2022-03-13T14:36:18.524Z"
   },
   {
    "duration": 83,
    "start_time": "2022-03-13T14:36:18.537Z"
   },
   {
    "duration": 4671,
    "start_time": "2022-03-13T14:36:18.622Z"
   },
   {
    "duration": 32,
    "start_time": "2022-03-13T14:36:23.296Z"
   },
   {
    "duration": 56,
    "start_time": "2022-03-13T14:36:23.330Z"
   },
   {
    "duration": 18,
    "start_time": "2022-03-13T14:36:23.388Z"
   },
   {
    "duration": 25,
    "start_time": "2022-03-13T14:36:23.409Z"
   },
   {
    "duration": 51,
    "start_time": "2022-03-13T14:36:23.436Z"
   },
   {
    "duration": 9,
    "start_time": "2022-03-13T14:36:23.490Z"
   },
   {
    "duration": 19,
    "start_time": "2022-03-13T14:36:23.501Z"
   },
   {
    "duration": 16,
    "start_time": "2022-03-13T14:36:23.522Z"
   },
   {
    "duration": 121,
    "start_time": "2022-03-13T14:36:23.540Z"
   },
   {
    "duration": 57,
    "start_time": "2022-03-13T14:36:23.664Z"
   },
   {
    "duration": 118,
    "start_time": "2022-03-13T14:36:23.724Z"
   },
   {
    "duration": 8,
    "start_time": "2022-03-13T14:36:23.847Z"
   },
   {
    "duration": 157,
    "start_time": "2022-03-13T14:36:23.858Z"
   },
   {
    "duration": 12,
    "start_time": "2022-03-13T14:36:24.018Z"
   },
   {
    "duration": 33,
    "start_time": "2022-03-13T14:36:24.033Z"
   },
   {
    "duration": 21,
    "start_time": "2022-03-13T14:36:24.068Z"
   },
   {
    "duration": 19,
    "start_time": "2022-03-13T14:36:24.091Z"
   },
   {
    "duration": 8,
    "start_time": "2022-03-13T14:36:24.113Z"
   },
   {
    "duration": 20,
    "start_time": "2022-03-13T14:36:24.124Z"
   },
   {
    "duration": 90,
    "start_time": "2022-03-13T14:36:24.147Z"
   },
   {
    "duration": 56,
    "start_time": "2022-03-13T14:36:24.239Z"
   },
   {
    "duration": 43,
    "start_time": "2022-03-13T14:36:24.297Z"
   },
   {
    "duration": 11,
    "start_time": "2022-03-13T14:36:24.342Z"
   },
   {
    "duration": 43,
    "start_time": "2022-03-13T14:36:24.355Z"
   },
   {
    "duration": 325,
    "start_time": "2022-03-13T14:36:24.401Z"
   },
   {
    "duration": 14,
    "start_time": "2022-03-13T14:36:24.728Z"
   },
   {
    "duration": 38,
    "start_time": "2022-03-13T14:36:24.745Z"
   },
   {
    "duration": 14,
    "start_time": "2022-03-13T14:36:24.786Z"
   },
   {
    "duration": 25,
    "start_time": "2022-03-13T14:36:24.803Z"
   },
   {
    "duration": 1312,
    "start_time": "2022-03-13T14:37:49.377Z"
   },
   {
    "duration": 484,
    "start_time": "2022-03-13T14:37:50.692Z"
   },
   {
    "duration": 22,
    "start_time": "2022-03-13T14:37:51.179Z"
   },
   {
    "duration": 29,
    "start_time": "2022-03-13T14:37:51.204Z"
   },
   {
    "duration": 47,
    "start_time": "2022-03-13T14:37:51.236Z"
   },
   {
    "duration": 25,
    "start_time": "2022-03-13T14:37:51.286Z"
   },
   {
    "duration": 10,
    "start_time": "2022-03-13T14:37:51.313Z"
   },
   {
    "duration": 61,
    "start_time": "2022-03-13T14:37:51.328Z"
   },
   {
    "duration": 13,
    "start_time": "2022-03-13T14:37:51.393Z"
   },
   {
    "duration": 11,
    "start_time": "2022-03-13T14:37:51.409Z"
   },
   {
    "duration": 17,
    "start_time": "2022-03-13T14:37:51.423Z"
   },
   {
    "duration": 48,
    "start_time": "2022-03-13T14:37:51.442Z"
   },
   {
    "duration": 45,
    "start_time": "2022-03-13T14:37:51.492Z"
   },
   {
    "duration": 4595,
    "start_time": "2022-03-13T14:37:51.539Z"
   },
   {
    "duration": 21,
    "start_time": "2022-03-13T14:37:56.137Z"
   },
   {
    "duration": 42,
    "start_time": "2022-03-13T14:37:56.181Z"
   },
   {
    "duration": 24,
    "start_time": "2022-03-13T14:37:56.226Z"
   },
   {
    "duration": 55,
    "start_time": "2022-03-13T14:37:56.253Z"
   },
   {
    "duration": 14,
    "start_time": "2022-03-13T14:37:56.311Z"
   },
   {
    "duration": 9,
    "start_time": "2022-03-13T14:37:56.328Z"
   },
   {
    "duration": 22,
    "start_time": "2022-03-13T14:37:56.339Z"
   },
   {
    "duration": 9,
    "start_time": "2022-03-13T14:37:56.383Z"
   },
   {
    "duration": 109,
    "start_time": "2022-03-13T14:37:56.399Z"
   },
   {
    "duration": 50,
    "start_time": "2022-03-13T14:37:56.511Z"
   },
   {
    "duration": 110,
    "start_time": "2022-03-13T14:37:56.582Z"
   },
   {
    "duration": 7,
    "start_time": "2022-03-13T14:37:56.695Z"
   },
   {
    "duration": 160,
    "start_time": "2022-03-13T14:37:56.705Z"
   },
   {
    "duration": 17,
    "start_time": "2022-03-13T14:37:56.867Z"
   },
   {
    "duration": 19,
    "start_time": "2022-03-13T14:37:56.886Z"
   },
   {
    "duration": 16,
    "start_time": "2022-03-13T14:37:56.907Z"
   },
   {
    "duration": 16,
    "start_time": "2022-03-13T14:37:56.925Z"
   },
   {
    "duration": 37,
    "start_time": "2022-03-13T14:37:56.944Z"
   },
   {
    "duration": 7,
    "start_time": "2022-03-13T14:37:56.983Z"
   },
   {
    "duration": 97,
    "start_time": "2022-03-13T14:37:56.992Z"
   },
   {
    "duration": 47,
    "start_time": "2022-03-13T14:37:57.092Z"
   },
   {
    "duration": 66,
    "start_time": "2022-03-13T14:37:57.141Z"
   },
   {
    "duration": 12,
    "start_time": "2022-03-13T14:37:57.210Z"
   },
   {
    "duration": 26,
    "start_time": "2022-03-13T14:37:57.225Z"
   },
   {
    "duration": 332,
    "start_time": "2022-03-13T14:37:57.253Z"
   },
   {
    "duration": 90,
    "start_time": "2022-03-13T14:37:57.588Z"
   },
   {
    "duration": -2361,
    "start_time": "2022-03-13T14:38:00.042Z"
   },
   {
    "duration": -2370,
    "start_time": "2022-03-13T14:38:00.053Z"
   },
   {
    "duration": -2372,
    "start_time": "2022-03-13T14:38:00.057Z"
   },
   {
    "duration": 16,
    "start_time": "2022-03-13T14:38:03.226Z"
   },
   {
    "duration": 16,
    "start_time": "2022-03-13T14:38:06.093Z"
   },
   {
    "duration": 19,
    "start_time": "2022-03-13T14:38:06.663Z"
   },
   {
    "duration": 10,
    "start_time": "2022-03-13T14:38:07.099Z"
   },
   {
    "duration": 385,
    "start_time": "2022-03-13T14:39:04.270Z"
   },
   {
    "duration": 5,
    "start_time": "2022-03-13T14:40:09.528Z"
   },
   {
    "duration": 15,
    "start_time": "2022-03-13T14:40:15.249Z"
   },
   {
    "duration": 12,
    "start_time": "2022-03-13T14:43:50.767Z"
   },
   {
    "duration": 22,
    "start_time": "2022-03-13T14:43:56.568Z"
   },
   {
    "duration": 11,
    "start_time": "2022-03-13T14:44:15.154Z"
   },
   {
    "duration": 262,
    "start_time": "2022-03-13T14:50:41.784Z"
   },
   {
    "duration": 7,
    "start_time": "2022-03-13T14:50:52.456Z"
   },
   {
    "duration": 12,
    "start_time": "2022-03-13T14:50:57.442Z"
   },
   {
    "duration": 271,
    "start_time": "2022-03-13T14:58:27.998Z"
   },
   {
    "duration": 278,
    "start_time": "2022-03-13T14:58:48.634Z"
   },
   {
    "duration": 5,
    "start_time": "2022-03-13T15:22:44.914Z"
   },
   {
    "duration": 552,
    "start_time": "2022-03-13T15:22:46.430Z"
   },
   {
    "duration": 1156,
    "start_time": "2022-03-13T15:23:13.327Z"
   },
   {
    "duration": 504,
    "start_time": "2022-03-13T15:23:14.486Z"
   },
   {
    "duration": 23,
    "start_time": "2022-03-13T15:23:14.993Z"
   },
   {
    "duration": 60,
    "start_time": "2022-03-13T15:23:15.019Z"
   },
   {
    "duration": 31,
    "start_time": "2022-03-13T15:23:15.082Z"
   },
   {
    "duration": 59,
    "start_time": "2022-03-13T15:23:15.116Z"
   },
   {
    "duration": 27,
    "start_time": "2022-03-13T15:23:15.177Z"
   },
   {
    "duration": 33,
    "start_time": "2022-03-13T15:23:15.209Z"
   },
   {
    "duration": 25,
    "start_time": "2022-03-13T15:23:15.246Z"
   },
   {
    "duration": 43,
    "start_time": "2022-03-13T15:23:15.274Z"
   },
   {
    "duration": 473,
    "start_time": "2022-03-13T15:23:15.320Z"
   },
   {
    "duration": -2443,
    "start_time": "2022-03-13T15:23:18.241Z"
   },
   {
    "duration": -2444,
    "start_time": "2022-03-13T15:23:18.244Z"
   },
   {
    "duration": -2455,
    "start_time": "2022-03-13T15:23:18.256Z"
   },
   {
    "duration": -2457,
    "start_time": "2022-03-13T15:23:18.259Z"
   },
   {
    "duration": -2457,
    "start_time": "2022-03-13T15:23:18.261Z"
   },
   {
    "duration": -2457,
    "start_time": "2022-03-13T15:23:18.263Z"
   },
   {
    "duration": -2458,
    "start_time": "2022-03-13T15:23:18.266Z"
   },
   {
    "duration": -2458,
    "start_time": "2022-03-13T15:23:18.268Z"
   },
   {
    "duration": -2460,
    "start_time": "2022-03-13T15:23:18.271Z"
   },
   {
    "duration": -2461,
    "start_time": "2022-03-13T15:23:18.274Z"
   },
   {
    "duration": -2463,
    "start_time": "2022-03-13T15:23:18.277Z"
   },
   {
    "duration": -2463,
    "start_time": "2022-03-13T15:23:18.279Z"
   },
   {
    "duration": -2465,
    "start_time": "2022-03-13T15:23:18.282Z"
   },
   {
    "duration": -2465,
    "start_time": "2022-03-13T15:23:18.284Z"
   },
   {
    "duration": -2473,
    "start_time": "2022-03-13T15:23:18.293Z"
   },
   {
    "duration": -2473,
    "start_time": "2022-03-13T15:23:18.295Z"
   },
   {
    "duration": -2474,
    "start_time": "2022-03-13T15:23:18.297Z"
   },
   {
    "duration": -2476,
    "start_time": "2022-03-13T15:23:18.301Z"
   },
   {
    "duration": -2475,
    "start_time": "2022-03-13T15:23:18.302Z"
   },
   {
    "duration": -2476,
    "start_time": "2022-03-13T15:23:18.304Z"
   },
   {
    "duration": -2482,
    "start_time": "2022-03-13T15:23:18.312Z"
   },
   {
    "duration": -2484,
    "start_time": "2022-03-13T15:23:18.315Z"
   },
   {
    "duration": -2484,
    "start_time": "2022-03-13T15:23:18.317Z"
   },
   {
    "duration": -2437,
    "start_time": "2022-03-13T15:23:18.319Z"
   },
   {
    "duration": -2437,
    "start_time": "2022-03-13T15:23:18.321Z"
   },
   {
    "duration": -2438,
    "start_time": "2022-03-13T15:23:18.323Z"
   },
   {
    "duration": -2438,
    "start_time": "2022-03-13T15:23:18.325Z"
   },
   {
    "duration": -2445,
    "start_time": "2022-03-13T15:23:18.333Z"
   },
   {
    "duration": -2446,
    "start_time": "2022-03-13T15:23:18.336Z"
   },
   {
    "duration": -2447,
    "start_time": "2022-03-13T15:23:18.338Z"
   },
   {
    "duration": -2446,
    "start_time": "2022-03-13T15:23:18.339Z"
   },
   {
    "duration": -2452,
    "start_time": "2022-03-13T15:23:18.347Z"
   },
   {
    "duration": -2453,
    "start_time": "2022-03-13T15:23:18.349Z"
   },
   {
    "duration": -2453,
    "start_time": "2022-03-13T15:23:18.351Z"
   },
   {
    "duration": -2454,
    "start_time": "2022-03-13T15:23:18.353Z"
   },
   {
    "duration": -2489,
    "start_time": "2022-03-13T15:23:18.390Z"
   },
   {
    "duration": -2489,
    "start_time": "2022-03-13T15:23:18.392Z"
   },
   {
    "duration": -2490,
    "start_time": "2022-03-13T15:23:18.394Z"
   },
   {
    "duration": -2491,
    "start_time": "2022-03-13T15:23:18.397Z"
   },
   {
    "duration": -2492,
    "start_time": "2022-03-13T15:23:18.399Z"
   },
   {
    "duration": -2492,
    "start_time": "2022-03-13T15:23:18.401Z"
   },
   {
    "duration": 256,
    "start_time": "2022-03-13T15:25:28.545Z"
   },
   {
    "duration": 333,
    "start_time": "2022-03-13T15:25:55.708Z"
   },
   {
    "duration": 1172,
    "start_time": "2022-03-13T15:26:39.145Z"
   },
   {
    "duration": 490,
    "start_time": "2022-03-13T15:26:40.320Z"
   },
   {
    "duration": 21,
    "start_time": "2022-03-13T15:26:40.812Z"
   },
   {
    "duration": 30,
    "start_time": "2022-03-13T15:26:40.835Z"
   },
   {
    "duration": 16,
    "start_time": "2022-03-13T15:26:40.867Z"
   },
   {
    "duration": 23,
    "start_time": "2022-03-13T15:26:40.885Z"
   },
   {
    "duration": 12,
    "start_time": "2022-03-13T15:26:40.910Z"
   },
   {
    "duration": 21,
    "start_time": "2022-03-13T15:26:40.925Z"
   },
   {
    "duration": 43,
    "start_time": "2022-03-13T15:26:40.950Z"
   },
   {
    "duration": 6,
    "start_time": "2022-03-13T15:26:40.996Z"
   },
   {
    "duration": 11,
    "start_time": "2022-03-13T15:26:41.004Z"
   },
   {
    "duration": 17,
    "start_time": "2022-03-13T15:26:41.018Z"
   },
   {
    "duration": 49,
    "start_time": "2022-03-13T15:26:41.038Z"
   },
   {
    "duration": 45,
    "start_time": "2022-03-13T15:26:41.089Z"
   },
   {
    "duration": 4858,
    "start_time": "2022-03-13T15:26:41.137Z"
   },
   {
    "duration": 32,
    "start_time": "2022-03-13T15:26:45.998Z"
   },
   {
    "duration": 54,
    "start_time": "2022-03-13T15:26:46.033Z"
   },
   {
    "duration": 17,
    "start_time": "2022-03-13T15:26:46.089Z"
   },
   {
    "duration": 34,
    "start_time": "2022-03-13T15:26:46.108Z"
   },
   {
    "duration": 15,
    "start_time": "2022-03-13T15:26:46.145Z"
   },
   {
    "duration": 9,
    "start_time": "2022-03-13T15:26:46.190Z"
   },
   {
    "duration": 21,
    "start_time": "2022-03-13T15:26:46.202Z"
   },
   {
    "duration": 20,
    "start_time": "2022-03-13T15:26:46.225Z"
   },
   {
    "duration": 97,
    "start_time": "2022-03-13T15:26:46.249Z"
   },
   {
    "duration": 59,
    "start_time": "2022-03-13T15:26:46.348Z"
   },
   {
    "duration": 112,
    "start_time": "2022-03-13T15:26:46.410Z"
   },
   {
    "duration": 8,
    "start_time": "2022-03-13T15:26:46.527Z"
   },
   {
    "duration": 153,
    "start_time": "2022-03-13T15:26:46.538Z"
   },
   {
    "duration": 15,
    "start_time": "2022-03-13T15:26:46.694Z"
   },
   {
    "duration": 13,
    "start_time": "2022-03-13T15:26:46.712Z"
   },
   {
    "duration": 14,
    "start_time": "2022-03-13T15:26:46.728Z"
   },
   {
    "duration": 8,
    "start_time": "2022-03-13T15:26:46.784Z"
   },
   {
    "duration": 6,
    "start_time": "2022-03-13T15:26:46.794Z"
   },
   {
    "duration": 8,
    "start_time": "2022-03-13T15:26:46.803Z"
   },
   {
    "duration": 118,
    "start_time": "2022-03-13T15:26:46.814Z"
   },
   {
    "duration": 55,
    "start_time": "2022-03-13T15:26:46.934Z"
   },
   {
    "duration": 39,
    "start_time": "2022-03-13T15:26:46.991Z"
   },
   {
    "duration": 23,
    "start_time": "2022-03-13T15:26:47.033Z"
   },
   {
    "duration": 36,
    "start_time": "2022-03-13T15:26:47.058Z"
   },
   {
    "duration": 334,
    "start_time": "2022-03-13T15:26:47.096Z"
   },
   {
    "duration": 18,
    "start_time": "2022-03-13T15:26:47.433Z"
   },
   {
    "duration": 42,
    "start_time": "2022-03-13T15:26:47.454Z"
   },
   {
    "duration": 20,
    "start_time": "2022-03-13T15:26:47.499Z"
   },
   {
    "duration": 13,
    "start_time": "2022-03-13T15:26:47.521Z"
   },
   {
    "duration": 5,
    "start_time": "2022-03-13T15:26:47.536Z"
   },
   {
    "duration": 44,
    "start_time": "2022-03-13T15:26:47.543Z"
   },
   {
    "duration": 12,
    "start_time": "2022-03-13T15:26:47.590Z"
   },
   {
    "duration": 20,
    "start_time": "2022-03-13T15:26:47.604Z"
   },
   {
    "duration": 14,
    "start_time": "2022-03-13T15:26:47.627Z"
   },
   {
    "duration": 45,
    "start_time": "2022-03-13T15:26:47.644Z"
   },
   {
    "duration": 14,
    "start_time": "2022-03-13T15:26:47.692Z"
   },
   {
    "duration": 11,
    "start_time": "2022-03-13T15:26:47.708Z"
   },
   {
    "duration": 25,
    "start_time": "2022-03-13T15:27:13.415Z"
   },
   {
    "duration": 13,
    "start_time": "2022-03-13T15:27:41.749Z"
   },
   {
    "duration": 5,
    "start_time": "2022-03-13T16:53:35.385Z"
   },
   {
    "duration": 26,
    "start_time": "2022-03-13T16:53:43.571Z"
   },
   {
    "duration": 1239,
    "start_time": "2022-03-13T16:57:18.066Z"
   },
   {
    "duration": 487,
    "start_time": "2022-03-13T16:57:19.308Z"
   },
   {
    "duration": 21,
    "start_time": "2022-03-13T16:57:19.798Z"
   },
   {
    "duration": 28,
    "start_time": "2022-03-13T16:57:19.821Z"
   },
   {
    "duration": 11,
    "start_time": "2022-03-13T16:57:19.852Z"
   },
   {
    "duration": 37,
    "start_time": "2022-03-13T16:57:19.866Z"
   },
   {
    "duration": 9,
    "start_time": "2022-03-13T16:57:19.906Z"
   },
   {
    "duration": 18,
    "start_time": "2022-03-13T16:57:19.919Z"
   },
   {
    "duration": 51,
    "start_time": "2022-03-13T16:57:19.941Z"
   },
   {
    "duration": 6,
    "start_time": "2022-03-13T16:57:19.995Z"
   },
   {
    "duration": 12,
    "start_time": "2022-03-13T16:57:20.004Z"
   },
   {
    "duration": 25,
    "start_time": "2022-03-13T16:57:20.019Z"
   },
   {
    "duration": 41,
    "start_time": "2022-03-13T16:57:20.046Z"
   },
   {
    "duration": 66,
    "start_time": "2022-03-13T16:57:20.091Z"
   },
   {
    "duration": 4853,
    "start_time": "2022-03-13T16:57:20.160Z"
   },
   {
    "duration": 20,
    "start_time": "2022-03-13T16:57:25.016Z"
   },
   {
    "duration": 52,
    "start_time": "2022-03-13T16:57:25.038Z"
   },
   {
    "duration": 17,
    "start_time": "2022-03-13T16:57:25.093Z"
   },
   {
    "duration": 30,
    "start_time": "2022-03-13T16:57:25.113Z"
   },
   {
    "duration": 40,
    "start_time": "2022-03-13T16:57:25.145Z"
   },
   {
    "duration": 9,
    "start_time": "2022-03-13T16:57:25.188Z"
   },
   {
    "duration": 17,
    "start_time": "2022-03-13T16:57:25.200Z"
   },
   {
    "duration": 13,
    "start_time": "2022-03-13T16:57:25.222Z"
   },
   {
    "duration": 107,
    "start_time": "2022-03-13T16:57:25.238Z"
   },
   {
    "duration": 69,
    "start_time": "2022-03-13T16:57:25.348Z"
   },
   {
    "duration": 116,
    "start_time": "2022-03-13T16:57:25.419Z"
   },
   {
    "duration": 8,
    "start_time": "2022-03-13T16:57:25.537Z"
   },
   {
    "duration": 154,
    "start_time": "2022-03-13T16:57:25.547Z"
   },
   {
    "duration": 13,
    "start_time": "2022-03-13T16:57:25.704Z"
   },
   {
    "duration": 28,
    "start_time": "2022-03-13T16:57:25.720Z"
   },
   {
    "duration": 34,
    "start_time": "2022-03-13T16:57:25.750Z"
   },
   {
    "duration": 7,
    "start_time": "2022-03-13T16:57:25.787Z"
   },
   {
    "duration": 16,
    "start_time": "2022-03-13T16:57:25.797Z"
   },
   {
    "duration": 26,
    "start_time": "2022-03-13T16:57:25.815Z"
   },
   {
    "duration": 96,
    "start_time": "2022-03-13T16:57:25.843Z"
   },
   {
    "duration": 51,
    "start_time": "2022-03-13T16:57:25.942Z"
   },
   {
    "duration": 40,
    "start_time": "2022-03-13T16:57:25.996Z"
   },
   {
    "duration": 11,
    "start_time": "2022-03-13T16:57:26.039Z"
   },
   {
    "duration": 48,
    "start_time": "2022-03-13T16:57:26.052Z"
   },
   {
    "duration": 335,
    "start_time": "2022-03-13T16:57:26.103Z"
   },
   {
    "duration": 16,
    "start_time": "2022-03-13T16:57:26.441Z"
   },
   {
    "duration": 35,
    "start_time": "2022-03-13T16:57:26.459Z"
   },
   {
    "duration": 31,
    "start_time": "2022-03-13T16:57:26.496Z"
   },
   {
    "duration": 18,
    "start_time": "2022-03-13T16:57:26.530Z"
   },
   {
    "duration": 16,
    "start_time": "2022-03-13T16:57:26.551Z"
   },
   {
    "duration": 24,
    "start_time": "2022-03-13T16:57:26.569Z"
   },
   {
    "duration": 7193,
    "start_time": "2022-03-13T16:57:26.595Z"
   },
   {
    "duration": -2364,
    "start_time": "2022-03-13T16:57:36.155Z"
   },
   {
    "duration": -2371,
    "start_time": "2022-03-13T16:57:36.164Z"
   },
   {
    "duration": -2379,
    "start_time": "2022-03-13T16:57:36.174Z"
   },
   {
    "duration": -2386,
    "start_time": "2022-03-13T16:57:36.183Z"
   },
   {
    "duration": -2396,
    "start_time": "2022-03-13T16:57:36.194Z"
   },
   {
    "duration": -2403,
    "start_time": "2022-03-13T16:57:36.202Z"
   },
   {
    "duration": -2410,
    "start_time": "2022-03-13T16:57:36.211Z"
   },
   {
    "duration": -2416,
    "start_time": "2022-03-13T16:57:36.219Z"
   },
   {
    "duration": -2425,
    "start_time": "2022-03-13T16:57:36.229Z"
   },
   {
    "duration": -2432,
    "start_time": "2022-03-13T16:57:36.237Z"
   },
   {
    "duration": 6988,
    "start_time": "2022-03-13T16:58:16.953Z"
   },
   {
    "duration": 7113,
    "start_time": "2022-03-13T16:58:38.976Z"
   },
   {
    "duration": 19,
    "start_time": "2022-03-13T17:00:04.792Z"
   },
   {
    "duration": 13,
    "start_time": "2022-03-13T17:00:14.763Z"
   },
   {
    "duration": 20,
    "start_time": "2022-03-13T17:00:15.869Z"
   },
   {
    "duration": 30,
    "start_time": "2022-03-13T17:01:40.750Z"
   },
   {
    "duration": 14,
    "start_time": "2022-03-13T17:01:46.459Z"
   },
   {
    "duration": 26,
    "start_time": "2022-03-13T17:01:53.310Z"
   },
   {
    "duration": 1192,
    "start_time": "2022-03-13T17:02:51.802Z"
   },
   {
    "duration": 502,
    "start_time": "2022-03-13T17:02:52.997Z"
   },
   {
    "duration": 21,
    "start_time": "2022-03-13T17:02:53.502Z"
   },
   {
    "duration": 27,
    "start_time": "2022-03-13T17:02:53.526Z"
   },
   {
    "duration": 27,
    "start_time": "2022-03-13T17:02:53.555Z"
   },
   {
    "duration": 21,
    "start_time": "2022-03-13T17:02:53.584Z"
   },
   {
    "duration": 9,
    "start_time": "2022-03-13T17:02:53.608Z"
   },
   {
    "duration": 18,
    "start_time": "2022-03-13T17:02:53.620Z"
   },
   {
    "duration": 48,
    "start_time": "2022-03-13T17:02:53.643Z"
   },
   {
    "duration": 7,
    "start_time": "2022-03-13T17:02:53.695Z"
   },
   {
    "duration": 11,
    "start_time": "2022-03-13T17:02:53.705Z"
   },
   {
    "duration": 16,
    "start_time": "2022-03-13T17:02:53.719Z"
   },
   {
    "duration": 45,
    "start_time": "2022-03-13T17:02:53.738Z"
   },
   {
    "duration": 46,
    "start_time": "2022-03-13T17:02:53.786Z"
   },
   {
    "duration": 4637,
    "start_time": "2022-03-13T17:02:53.834Z"
   },
   {
    "duration": 25,
    "start_time": "2022-03-13T17:02:58.474Z"
   },
   {
    "duration": 34,
    "start_time": "2022-03-13T17:02:58.501Z"
   },
   {
    "duration": 16,
    "start_time": "2022-03-13T17:02:58.538Z"
   },
   {
    "duration": 25,
    "start_time": "2022-03-13T17:02:58.583Z"
   },
   {
    "duration": 13,
    "start_time": "2022-03-13T17:02:58.610Z"
   },
   {
    "duration": 9,
    "start_time": "2022-03-13T17:02:58.625Z"
   },
   {
    "duration": 46,
    "start_time": "2022-03-13T17:02:58.636Z"
   },
   {
    "duration": 9,
    "start_time": "2022-03-13T17:02:58.688Z"
   },
   {
    "duration": 105,
    "start_time": "2022-03-13T17:02:58.700Z"
   },
   {
    "duration": 49,
    "start_time": "2022-03-13T17:02:58.808Z"
   },
   {
    "duration": 124,
    "start_time": "2022-03-13T17:02:58.859Z"
   },
   {
    "duration": 8,
    "start_time": "2022-03-13T17:02:58.986Z"
   },
   {
    "duration": 151,
    "start_time": "2022-03-13T17:02:58.997Z"
   },
   {
    "duration": 13,
    "start_time": "2022-03-13T17:02:59.150Z"
   },
   {
    "duration": 25,
    "start_time": "2022-03-13T17:02:59.166Z"
   },
   {
    "duration": 12,
    "start_time": "2022-03-13T17:02:59.194Z"
   },
   {
    "duration": 8,
    "start_time": "2022-03-13T17:02:59.209Z"
   },
   {
    "duration": 5,
    "start_time": "2022-03-13T17:02:59.220Z"
   },
   {
    "duration": 10,
    "start_time": "2022-03-13T17:02:59.227Z"
   },
   {
    "duration": 109,
    "start_time": "2022-03-13T17:02:59.239Z"
   },
   {
    "duration": 63,
    "start_time": "2022-03-13T17:02:59.351Z"
   },
   {
    "duration": 40,
    "start_time": "2022-03-13T17:02:59.417Z"
   },
   {
    "duration": 23,
    "start_time": "2022-03-13T17:02:59.459Z"
   },
   {
    "duration": 23,
    "start_time": "2022-03-13T17:02:59.485Z"
   },
   {
    "duration": 330,
    "start_time": "2022-03-13T17:02:59.510Z"
   },
   {
    "duration": 14,
    "start_time": "2022-03-13T17:02:59.842Z"
   },
   {
    "duration": 34,
    "start_time": "2022-03-13T17:02:59.858Z"
   },
   {
    "duration": 15,
    "start_time": "2022-03-13T17:02:59.894Z"
   },
   {
    "duration": 11,
    "start_time": "2022-03-13T17:02:59.912Z"
   },
   {
    "duration": 4,
    "start_time": "2022-03-13T17:02:59.925Z"
   },
   {
    "duration": 17,
    "start_time": "2022-03-13T17:02:59.931Z"
   },
   {
    "duration": 21,
    "start_time": "2022-03-13T17:02:59.983Z"
   },
   {
    "duration": 26,
    "start_time": "2022-03-13T17:03:00.006Z"
   },
   {
    "duration": 10,
    "start_time": "2022-03-13T17:03:00.035Z"
   },
   {
    "duration": 21,
    "start_time": "2022-03-13T17:03:00.083Z"
   },
   {
    "duration": 14,
    "start_time": "2022-03-13T17:03:00.107Z"
   },
   {
    "duration": 7,
    "start_time": "2022-03-13T17:03:00.124Z"
   },
   {
    "duration": 51,
    "start_time": "2022-03-13T17:03:00.133Z"
   },
   {
    "duration": 12,
    "start_time": "2022-03-13T17:03:00.186Z"
   },
   {
    "duration": 26,
    "start_time": "2022-03-13T17:03:00.201Z"
   },
   {
    "duration": 16,
    "start_time": "2022-03-13T17:03:00.229Z"
   },
   {
    "duration": 34,
    "start_time": "2022-03-13T17:03:00.248Z"
   },
   {
    "duration": 44,
    "start_time": "2022-03-13T17:03:00.284Z"
   },
   {
    "duration": 1153,
    "start_time": "2022-03-13T17:05:55.730Z"
   },
   {
    "duration": 477,
    "start_time": "2022-03-13T17:05:56.886Z"
   },
   {
    "duration": 20,
    "start_time": "2022-03-13T17:05:57.366Z"
   },
   {
    "duration": 26,
    "start_time": "2022-03-13T17:05:57.389Z"
   },
   {
    "duration": 11,
    "start_time": "2022-03-13T17:05:57.417Z"
   },
   {
    "duration": 56,
    "start_time": "2022-03-13T17:05:57.430Z"
   },
   {
    "duration": 10,
    "start_time": "2022-03-13T17:05:57.489Z"
   },
   {
    "duration": 19,
    "start_time": "2022-03-13T17:05:57.502Z"
   },
   {
    "duration": 13,
    "start_time": "2022-03-13T17:05:57.525Z"
   },
   {
    "duration": 42,
    "start_time": "2022-03-13T17:05:57.540Z"
   },
   {
    "duration": 12,
    "start_time": "2022-03-13T17:05:57.585Z"
   },
   {
    "duration": 18,
    "start_time": "2022-03-13T17:05:57.599Z"
   },
   {
    "duration": 11,
    "start_time": "2022-03-13T17:05:57.619Z"
   },
   {
    "duration": 71,
    "start_time": "2022-03-13T17:05:57.633Z"
   },
   {
    "duration": 4598,
    "start_time": "2022-03-13T17:05:57.707Z"
   },
   {
    "duration": 21,
    "start_time": "2022-03-13T17:06:02.307Z"
   },
   {
    "duration": 66,
    "start_time": "2022-03-13T17:06:02.331Z"
   },
   {
    "duration": 20,
    "start_time": "2022-03-13T17:06:02.400Z"
   },
   {
    "duration": 35,
    "start_time": "2022-03-13T17:06:02.422Z"
   },
   {
    "duration": 15,
    "start_time": "2022-03-13T17:06:02.482Z"
   },
   {
    "duration": 10,
    "start_time": "2022-03-13T17:06:02.500Z"
   },
   {
    "duration": 17,
    "start_time": "2022-03-13T17:06:02.512Z"
   },
   {
    "duration": 8,
    "start_time": "2022-03-13T17:06:02.535Z"
   },
   {
    "duration": 141,
    "start_time": "2022-03-13T17:06:02.546Z"
   },
   {
    "duration": 62,
    "start_time": "2022-03-13T17:06:02.689Z"
   },
   {
    "duration": 130,
    "start_time": "2022-03-13T17:06:02.754Z"
   },
   {
    "duration": 8,
    "start_time": "2022-03-13T17:06:02.887Z"
   },
   {
    "duration": 155,
    "start_time": "2022-03-13T17:06:02.897Z"
   },
   {
    "duration": 14,
    "start_time": "2022-03-13T17:06:03.055Z"
   },
   {
    "duration": 12,
    "start_time": "2022-03-13T17:06:03.082Z"
   },
   {
    "duration": 15,
    "start_time": "2022-03-13T17:06:03.096Z"
   },
   {
    "duration": 21,
    "start_time": "2022-03-13T17:06:03.113Z"
   },
   {
    "duration": 7,
    "start_time": "2022-03-13T17:06:03.137Z"
   },
   {
    "duration": 38,
    "start_time": "2022-03-13T17:06:03.147Z"
   },
   {
    "duration": 74,
    "start_time": "2022-03-13T17:06:03.187Z"
   },
   {
    "duration": 45,
    "start_time": "2022-03-13T17:06:03.283Z"
   },
   {
    "duration": 62,
    "start_time": "2022-03-13T17:06:03.331Z"
   },
   {
    "duration": 10,
    "start_time": "2022-03-13T17:06:03.396Z"
   },
   {
    "duration": 23,
    "start_time": "2022-03-13T17:06:03.409Z"
   },
   {
    "duration": 348,
    "start_time": "2022-03-13T17:06:03.434Z"
   },
   {
    "duration": 16,
    "start_time": "2022-03-13T17:06:03.784Z"
   },
   {
    "duration": 15,
    "start_time": "2022-03-13T17:06:03.802Z"
   },
   {
    "duration": 15,
    "start_time": "2022-03-13T17:06:03.820Z"
   },
   {
    "duration": 47,
    "start_time": "2022-03-13T17:06:03.837Z"
   },
   {
    "duration": 5,
    "start_time": "2022-03-13T17:06:03.887Z"
   },
   {
    "duration": 17,
    "start_time": "2022-03-13T17:06:03.895Z"
   },
   {
    "duration": 22,
    "start_time": "2022-03-13T17:06:03.914Z"
   },
   {
    "duration": 45,
    "start_time": "2022-03-13T17:06:03.938Z"
   },
   {
    "duration": 21,
    "start_time": "2022-03-13T17:06:03.985Z"
   },
   {
    "duration": 14,
    "start_time": "2022-03-13T17:06:04.008Z"
   },
   {
    "duration": 6,
    "start_time": "2022-03-13T17:06:04.024Z"
   },
   {
    "duration": 12,
    "start_time": "2022-03-13T17:06:04.032Z"
   },
   {
    "duration": 45,
    "start_time": "2022-03-13T17:06:04.046Z"
   },
   {
    "duration": 23,
    "start_time": "2022-03-13T17:06:04.093Z"
   },
   {
    "duration": 10,
    "start_time": "2022-03-13T17:06:04.119Z"
   },
   {
    "duration": 4,
    "start_time": "2022-03-13T17:06:04.132Z"
   },
   {
    "duration": 65,
    "start_time": "2022-03-13T17:06:04.138Z"
   },
   {
    "duration": 1263,
    "start_time": "2022-03-13T17:19:59.746Z"
   },
   {
    "duration": 530,
    "start_time": "2022-03-13T17:20:01.012Z"
   },
   {
    "duration": 22,
    "start_time": "2022-03-13T17:20:01.546Z"
   },
   {
    "duration": 31,
    "start_time": "2022-03-13T17:20:01.572Z"
   },
   {
    "duration": 21,
    "start_time": "2022-03-13T17:20:01.606Z"
   },
   {
    "duration": 59,
    "start_time": "2022-03-13T17:20:01.630Z"
   },
   {
    "duration": 13,
    "start_time": "2022-03-13T17:20:01.691Z"
   },
   {
    "duration": 25,
    "start_time": "2022-03-13T17:20:01.708Z"
   },
   {
    "duration": 19,
    "start_time": "2022-03-13T17:20:01.737Z"
   },
   {
    "duration": 37,
    "start_time": "2022-03-13T17:20:01.759Z"
   },
   {
    "duration": 28,
    "start_time": "2022-03-13T17:20:01.798Z"
   },
   {
    "duration": 22,
    "start_time": "2022-03-13T17:20:01.829Z"
   },
   {
    "duration": 37,
    "start_time": "2022-03-13T17:20:01.853Z"
   },
   {
    "duration": 72,
    "start_time": "2022-03-13T17:20:01.893Z"
   },
   {
    "duration": 4659,
    "start_time": "2022-03-13T17:20:01.968Z"
   },
   {
    "duration": 20,
    "start_time": "2022-03-13T17:20:06.630Z"
   },
   {
    "duration": 54,
    "start_time": "2022-03-13T17:20:06.653Z"
   },
   {
    "duration": 17,
    "start_time": "2022-03-13T17:20:06.709Z"
   },
   {
    "duration": 25,
    "start_time": "2022-03-13T17:20:06.729Z"
   },
   {
    "duration": 38,
    "start_time": "2022-03-13T17:20:06.756Z"
   },
   {
    "duration": 9,
    "start_time": "2022-03-13T17:20:06.797Z"
   },
   {
    "duration": 20,
    "start_time": "2022-03-13T17:20:06.808Z"
   },
   {
    "duration": 9,
    "start_time": "2022-03-13T17:20:06.833Z"
   },
   {
    "duration": 121,
    "start_time": "2022-03-13T17:20:06.845Z"
   },
   {
    "duration": 58,
    "start_time": "2022-03-13T17:20:06.969Z"
   },
   {
    "duration": 119,
    "start_time": "2022-03-13T17:20:07.030Z"
   },
   {
    "duration": 8,
    "start_time": "2022-03-13T17:20:07.152Z"
   },
   {
    "duration": 158,
    "start_time": "2022-03-13T17:20:07.162Z"
   },
   {
    "duration": 13,
    "start_time": "2022-03-13T17:20:07.323Z"
   },
   {
    "duration": 14,
    "start_time": "2022-03-13T17:20:07.338Z"
   },
   {
    "duration": 33,
    "start_time": "2022-03-13T17:20:07.355Z"
   },
   {
    "duration": 9,
    "start_time": "2022-03-13T17:20:07.391Z"
   },
   {
    "duration": 9,
    "start_time": "2022-03-13T17:20:07.403Z"
   },
   {
    "duration": 7,
    "start_time": "2022-03-13T17:20:07.414Z"
   },
   {
    "duration": 113,
    "start_time": "2022-03-13T17:20:07.423Z"
   },
   {
    "duration": 61,
    "start_time": "2022-03-13T17:20:07.538Z"
   },
   {
    "duration": 36,
    "start_time": "2022-03-13T17:20:07.601Z"
   },
   {
    "duration": 10,
    "start_time": "2022-03-13T17:20:07.640Z"
   },
   {
    "duration": 43,
    "start_time": "2022-03-13T17:20:07.653Z"
   },
   {
    "duration": 316,
    "start_time": "2022-03-13T17:20:07.699Z"
   },
   {
    "duration": 16,
    "start_time": "2022-03-13T17:20:08.017Z"
   },
   {
    "duration": 15,
    "start_time": "2022-03-13T17:20:08.036Z"
   },
   {
    "duration": 41,
    "start_time": "2022-03-13T17:20:08.053Z"
   },
   {
    "duration": 12,
    "start_time": "2022-03-13T17:20:08.096Z"
   },
   {
    "duration": 5,
    "start_time": "2022-03-13T17:20:08.110Z"
   },
   {
    "duration": 14,
    "start_time": "2022-03-13T17:20:08.117Z"
   },
   {
    "duration": 55,
    "start_time": "2022-03-13T17:20:08.134Z"
   },
   {
    "duration": 8,
    "start_time": "2022-03-13T17:20:08.192Z"
   },
   {
    "duration": 14,
    "start_time": "2022-03-13T17:20:08.202Z"
   },
   {
    "duration": 18,
    "start_time": "2022-03-13T17:20:08.219Z"
   },
   {
    "duration": 45,
    "start_time": "2022-03-13T17:20:08.240Z"
   },
   {
    "duration": 7,
    "start_time": "2022-03-13T17:20:08.288Z"
   },
   {
    "duration": 14,
    "start_time": "2022-03-13T17:20:08.297Z"
   },
   {
    "duration": 11,
    "start_time": "2022-03-13T17:20:08.314Z"
   },
   {
    "duration": 64,
    "start_time": "2022-03-13T17:20:08.327Z"
   },
   {
    "duration": 15,
    "start_time": "2022-03-13T17:20:08.393Z"
   },
   {
    "duration": 5,
    "start_time": "2022-03-13T17:20:08.410Z"
   },
   {
    "duration": 30,
    "start_time": "2022-03-13T17:20:08.417Z"
   },
   {
    "duration": 16,
    "start_time": "2022-03-13T17:33:39.073Z"
   },
   {
    "duration": 38,
    "start_time": "2022-03-13T17:33:39.724Z"
   },
   {
    "duration": 1141,
    "start_time": "2022-03-13T17:34:05.941Z"
   },
   {
    "duration": 494,
    "start_time": "2022-03-13T17:34:07.085Z"
   },
   {
    "duration": 22,
    "start_time": "2022-03-13T17:34:07.582Z"
   },
   {
    "duration": 29,
    "start_time": "2022-03-13T17:34:07.607Z"
   },
   {
    "duration": 43,
    "start_time": "2022-03-13T17:34:07.639Z"
   },
   {
    "duration": 23,
    "start_time": "2022-03-13T17:34:07.684Z"
   },
   {
    "duration": 10,
    "start_time": "2022-03-13T17:34:07.710Z"
   },
   {
    "duration": 56,
    "start_time": "2022-03-13T17:34:07.726Z"
   },
   {
    "duration": 13,
    "start_time": "2022-03-13T17:34:07.786Z"
   },
   {
    "duration": 7,
    "start_time": "2022-03-13T17:34:07.802Z"
   },
   {
    "duration": 11,
    "start_time": "2022-03-13T17:34:07.811Z"
   },
   {
    "duration": 59,
    "start_time": "2022-03-13T17:34:07.825Z"
   },
   {
    "duration": 11,
    "start_time": "2022-03-13T17:34:07.887Z"
   },
   {
    "duration": 45,
    "start_time": "2022-03-13T17:34:07.901Z"
   },
   {
    "duration": 4601,
    "start_time": "2022-03-13T17:34:07.948Z"
   },
   {
    "duration": 33,
    "start_time": "2022-03-13T17:34:12.551Z"
   },
   {
    "duration": 30,
    "start_time": "2022-03-13T17:34:12.586Z"
   },
   {
    "duration": 18,
    "start_time": "2022-03-13T17:34:12.619Z"
   },
   {
    "duration": 56,
    "start_time": "2022-03-13T17:34:12.640Z"
   },
   {
    "duration": 14,
    "start_time": "2022-03-13T17:34:12.699Z"
   },
   {
    "duration": 9,
    "start_time": "2022-03-13T17:34:12.716Z"
   },
   {
    "duration": 11,
    "start_time": "2022-03-13T17:34:12.727Z"
   },
   {
    "duration": 40,
    "start_time": "2022-03-13T17:34:12.743Z"
   },
   {
    "duration": 81,
    "start_time": "2022-03-13T17:34:12.787Z"
   },
   {
    "duration": 48,
    "start_time": "2022-03-13T17:34:12.883Z"
   },
   {
    "duration": 127,
    "start_time": "2022-03-13T17:34:12.934Z"
   },
   {
    "duration": 19,
    "start_time": "2022-03-13T17:34:13.064Z"
   },
   {
    "duration": 147,
    "start_time": "2022-03-13T17:34:13.086Z"
   },
   {
    "duration": 13,
    "start_time": "2022-03-13T17:34:13.235Z"
   },
   {
    "duration": 14,
    "start_time": "2022-03-13T17:34:13.250Z"
   },
   {
    "duration": 13,
    "start_time": "2022-03-13T17:34:13.282Z"
   },
   {
    "duration": 9,
    "start_time": "2022-03-13T17:34:13.298Z"
   },
   {
    "duration": 9,
    "start_time": "2022-03-13T17:34:13.310Z"
   },
   {
    "duration": 18,
    "start_time": "2022-03-13T17:34:13.322Z"
   },
   {
    "duration": 111,
    "start_time": "2022-03-13T17:34:13.343Z"
   },
   {
    "duration": 70,
    "start_time": "2022-03-13T17:34:13.457Z"
   },
   {
    "duration": 58,
    "start_time": "2022-03-13T17:34:13.530Z"
   },
   {
    "duration": 12,
    "start_time": "2022-03-13T17:34:13.591Z"
   },
   {
    "duration": 23,
    "start_time": "2022-03-13T17:34:13.605Z"
   },
   {
    "duration": 344,
    "start_time": "2022-03-13T17:34:13.631Z"
   },
   {
    "duration": 17,
    "start_time": "2022-03-13T17:34:13.983Z"
   },
   {
    "duration": 17,
    "start_time": "2022-03-13T17:34:14.002Z"
   },
   {
    "duration": 18,
    "start_time": "2022-03-13T17:34:14.021Z"
   },
   {
    "duration": 49,
    "start_time": "2022-03-13T17:34:14.042Z"
   },
   {
    "duration": 5,
    "start_time": "2022-03-13T17:34:14.094Z"
   },
   {
    "duration": 15,
    "start_time": "2022-03-13T17:34:14.102Z"
   },
   {
    "duration": 66,
    "start_time": "2022-03-13T17:34:14.120Z"
   },
   {
    "duration": 11,
    "start_time": "2022-03-13T17:34:14.189Z"
   },
   {
    "duration": 14,
    "start_time": "2022-03-13T17:34:14.203Z"
   },
   {
    "duration": 22,
    "start_time": "2022-03-13T17:34:14.219Z"
   },
   {
    "duration": 46,
    "start_time": "2022-03-13T17:34:14.243Z"
   },
   {
    "duration": 6,
    "start_time": "2022-03-13T17:34:14.292Z"
   },
   {
    "duration": 15,
    "start_time": "2022-03-13T17:34:14.301Z"
   },
   {
    "duration": 12,
    "start_time": "2022-03-13T17:34:14.318Z"
   },
   {
    "duration": 66,
    "start_time": "2022-03-13T17:34:14.332Z"
   },
   {
    "duration": 15,
    "start_time": "2022-03-13T17:34:14.401Z"
   },
   {
    "duration": 4,
    "start_time": "2022-03-13T17:34:14.418Z"
   },
   {
    "duration": 28,
    "start_time": "2022-03-13T17:34:14.424Z"
   },
   {
    "duration": 6,
    "start_time": "2022-03-13T17:37:14.732Z"
   },
   {
    "duration": 13,
    "start_time": "2022-03-13T17:37:16.529Z"
   },
   {
    "duration": 1266,
    "start_time": "2022-03-13T17:37:30.120Z"
   },
   {
    "duration": 531,
    "start_time": "2022-03-13T17:37:31.388Z"
   },
   {
    "duration": 26,
    "start_time": "2022-03-13T17:37:31.923Z"
   },
   {
    "duration": 26,
    "start_time": "2022-03-13T17:37:31.952Z"
   },
   {
    "duration": 12,
    "start_time": "2022-03-13T17:37:31.983Z"
   },
   {
    "duration": 24,
    "start_time": "2022-03-13T17:37:31.997Z"
   },
   {
    "duration": 10,
    "start_time": "2022-03-13T17:37:32.023Z"
   },
   {
    "duration": 51,
    "start_time": "2022-03-13T17:37:32.037Z"
   },
   {
    "duration": 12,
    "start_time": "2022-03-13T17:37:32.090Z"
   },
   {
    "duration": 9,
    "start_time": "2022-03-13T17:37:32.105Z"
   },
   {
    "duration": 12,
    "start_time": "2022-03-13T17:37:32.116Z"
   },
   {
    "duration": 16,
    "start_time": "2022-03-13T17:37:32.131Z"
   },
   {
    "duration": 43,
    "start_time": "2022-03-13T17:37:32.150Z"
   },
   {
    "duration": 50,
    "start_time": "2022-03-13T17:37:32.195Z"
   },
   {
    "duration": 4501,
    "start_time": "2022-03-13T17:37:32.248Z"
   },
   {
    "duration": 32,
    "start_time": "2022-03-13T17:37:36.752Z"
   },
   {
    "duration": 31,
    "start_time": "2022-03-13T17:37:36.786Z"
   },
   {
    "duration": 16,
    "start_time": "2022-03-13T17:37:36.819Z"
   },
   {
    "duration": 53,
    "start_time": "2022-03-13T17:37:36.838Z"
   },
   {
    "duration": 14,
    "start_time": "2022-03-13T17:37:36.893Z"
   },
   {
    "duration": 9,
    "start_time": "2022-03-13T17:37:36.910Z"
   },
   {
    "duration": 16,
    "start_time": "2022-03-13T17:37:36.921Z"
   },
   {
    "duration": 41,
    "start_time": "2022-03-13T17:37:36.943Z"
   },
   {
    "duration": 94,
    "start_time": "2022-03-13T17:37:36.988Z"
   },
   {
    "duration": 53,
    "start_time": "2022-03-13T17:37:37.085Z"
   },
   {
    "duration": 141,
    "start_time": "2022-03-13T17:37:37.141Z"
   },
   {
    "duration": 10,
    "start_time": "2022-03-13T17:37:37.284Z"
   },
   {
    "duration": 151,
    "start_time": "2022-03-13T17:37:37.296Z"
   },
   {
    "duration": 13,
    "start_time": "2022-03-13T17:37:37.449Z"
   },
   {
    "duration": 25,
    "start_time": "2022-03-13T17:37:37.464Z"
   },
   {
    "duration": 13,
    "start_time": "2022-03-13T17:37:37.492Z"
   },
   {
    "duration": 8,
    "start_time": "2022-03-13T17:37:37.508Z"
   },
   {
    "duration": 6,
    "start_time": "2022-03-13T17:37:37.519Z"
   },
   {
    "duration": 6,
    "start_time": "2022-03-13T17:37:37.527Z"
   },
   {
    "duration": 113,
    "start_time": "2022-03-13T17:37:37.535Z"
   },
   {
    "duration": 60,
    "start_time": "2022-03-13T17:37:37.651Z"
   },
   {
    "duration": 39,
    "start_time": "2022-03-13T17:37:37.713Z"
   },
   {
    "duration": 28,
    "start_time": "2022-03-13T17:37:37.754Z"
   },
   {
    "duration": 21,
    "start_time": "2022-03-13T17:37:37.784Z"
   },
   {
    "duration": 331,
    "start_time": "2022-03-13T17:37:37.808Z"
   },
   {
    "duration": 15,
    "start_time": "2022-03-13T17:37:38.142Z"
   },
   {
    "duration": 32,
    "start_time": "2022-03-13T17:37:38.159Z"
   },
   {
    "duration": 15,
    "start_time": "2022-03-13T17:37:38.194Z"
   },
   {
    "duration": 17,
    "start_time": "2022-03-13T17:37:38.211Z"
   },
   {
    "duration": 13,
    "start_time": "2022-03-13T17:37:38.231Z"
   },
   {
    "duration": 36,
    "start_time": "2022-03-13T17:37:38.246Z"
   },
   {
    "duration": 7,
    "start_time": "2022-03-13T17:37:38.284Z"
   },
   {
    "duration": 11,
    "start_time": "2022-03-13T17:37:38.293Z"
   },
   {
    "duration": 13,
    "start_time": "2022-03-13T17:37:38.306Z"
   },
   {
    "duration": 61,
    "start_time": "2022-03-13T17:37:38.322Z"
   },
   {
    "duration": 11,
    "start_time": "2022-03-13T17:37:38.386Z"
   },
   {
    "duration": 5,
    "start_time": "2022-03-13T17:37:38.399Z"
   },
   {
    "duration": 12,
    "start_time": "2022-03-13T17:37:38.406Z"
   },
   {
    "duration": 12,
    "start_time": "2022-03-13T17:37:38.420Z"
   },
   {
    "duration": 65,
    "start_time": "2022-03-13T17:37:38.435Z"
   },
   {
    "duration": 14,
    "start_time": "2022-03-13T17:37:38.503Z"
   },
   {
    "duration": 5,
    "start_time": "2022-03-13T17:37:38.520Z"
   },
   {
    "duration": 68,
    "start_time": "2022-03-13T17:37:38.528Z"
   },
   {
    "duration": 138,
    "start_time": "2022-03-13T17:46:04.731Z"
   },
   {
    "duration": 357,
    "start_time": "2022-03-13T17:48:55.180Z"
   },
   {
    "duration": 346,
    "start_time": "2022-03-13T17:49:46.023Z"
   },
   {
    "duration": 8,
    "start_time": "2022-03-13T17:54:48.318Z"
   },
   {
    "duration": 41,
    "start_time": "2022-03-13T17:55:08.665Z"
   },
   {
    "duration": 484,
    "start_time": "2022-03-13T17:55:54.987Z"
   },
   {
    "duration": 274,
    "start_time": "2022-03-13T17:56:10.051Z"
   },
   {
    "duration": 33,
    "start_time": "2022-03-13T17:56:19.819Z"
   },
   {
    "duration": 288,
    "start_time": "2022-03-14T05:39:51.756Z"
   },
   {
    "duration": 1192,
    "start_time": "2022-03-14T05:39:59.816Z"
   },
   {
    "duration": 507,
    "start_time": "2022-03-14T05:40:01.011Z"
   },
   {
    "duration": 21,
    "start_time": "2022-03-14T05:40:01.521Z"
   },
   {
    "duration": 27,
    "start_time": "2022-03-14T05:40:01.545Z"
   },
   {
    "duration": 16,
    "start_time": "2022-03-14T05:40:01.574Z"
   },
   {
    "duration": 37,
    "start_time": "2022-03-14T05:40:01.592Z"
   },
   {
    "duration": 10,
    "start_time": "2022-03-14T05:40:01.631Z"
   },
   {
    "duration": 22,
    "start_time": "2022-03-14T05:40:01.645Z"
   },
   {
    "duration": 12,
    "start_time": "2022-03-14T05:40:01.691Z"
   },
   {
    "duration": 14,
    "start_time": "2022-03-14T05:40:01.705Z"
   },
   {
    "duration": 12,
    "start_time": "2022-03-14T05:40:01.722Z"
   },
   {
    "duration": 29,
    "start_time": "2022-03-14T05:40:01.736Z"
   },
   {
    "duration": 24,
    "start_time": "2022-03-14T05:40:01.767Z"
   },
   {
    "duration": 75,
    "start_time": "2022-03-14T05:40:01.794Z"
   },
   {
    "duration": 4741,
    "start_time": "2022-03-14T05:40:01.871Z"
   },
   {
    "duration": 20,
    "start_time": "2022-03-14T05:40:06.614Z"
   },
   {
    "duration": 27,
    "start_time": "2022-03-14T05:40:06.637Z"
   },
   {
    "duration": 16,
    "start_time": "2022-03-14T05:40:06.687Z"
   },
   {
    "duration": 23,
    "start_time": "2022-03-14T05:40:06.705Z"
   },
   {
    "duration": 13,
    "start_time": "2022-03-14T05:40:06.730Z"
   },
   {
    "duration": 9,
    "start_time": "2022-03-14T05:40:06.745Z"
   },
   {
    "duration": 8,
    "start_time": "2022-03-14T05:40:06.788Z"
   },
   {
    "duration": 9,
    "start_time": "2022-03-14T05:40:06.802Z"
   },
   {
    "duration": 111,
    "start_time": "2022-03-14T05:40:06.814Z"
   },
   {
    "duration": 60,
    "start_time": "2022-03-14T05:40:06.927Z"
   },
   {
    "duration": 109,
    "start_time": "2022-03-14T05:40:06.989Z"
   },
   {
    "duration": 7,
    "start_time": "2022-03-14T05:40:07.101Z"
   },
   {
    "duration": 156,
    "start_time": "2022-03-14T05:40:07.111Z"
   },
   {
    "duration": 18,
    "start_time": "2022-03-14T05:40:07.270Z"
   },
   {
    "duration": 13,
    "start_time": "2022-03-14T05:40:07.291Z"
   },
   {
    "duration": 13,
    "start_time": "2022-03-14T05:40:07.306Z"
   },
   {
    "duration": 16,
    "start_time": "2022-03-14T05:40:07.321Z"
   },
   {
    "duration": 16,
    "start_time": "2022-03-14T05:40:07.340Z"
   },
   {
    "duration": 30,
    "start_time": "2022-03-14T05:40:07.358Z"
   },
   {
    "duration": 82,
    "start_time": "2022-03-14T05:40:07.390Z"
   },
   {
    "duration": 51,
    "start_time": "2022-03-14T05:40:07.475Z"
   },
   {
    "duration": 38,
    "start_time": "2022-03-14T05:40:07.528Z"
   },
   {
    "duration": 24,
    "start_time": "2022-03-14T05:40:07.568Z"
   },
   {
    "duration": 24,
    "start_time": "2022-03-14T05:40:07.595Z"
   },
   {
    "duration": 318,
    "start_time": "2022-03-14T05:40:07.621Z"
   },
   {
    "duration": 14,
    "start_time": "2022-03-14T05:40:07.941Z"
   },
   {
    "duration": 32,
    "start_time": "2022-03-14T05:40:07.957Z"
   },
   {
    "duration": 17,
    "start_time": "2022-03-14T05:40:07.992Z"
   },
   {
    "duration": 17,
    "start_time": "2022-03-14T05:40:08.011Z"
   },
   {
    "duration": 12,
    "start_time": "2022-03-14T05:40:08.030Z"
   },
   {
    "duration": 32,
    "start_time": "2022-03-14T05:40:08.044Z"
   },
   {
    "duration": 9,
    "start_time": "2022-03-14T05:40:08.078Z"
   },
   {
    "duration": 12,
    "start_time": "2022-03-14T05:40:08.090Z"
   },
   {
    "duration": 19,
    "start_time": "2022-03-14T05:40:08.104Z"
   },
   {
    "duration": 34,
    "start_time": "2022-03-14T05:40:08.125Z"
   },
   {
    "duration": 30,
    "start_time": "2022-03-14T05:40:08.161Z"
   },
   {
    "duration": 7,
    "start_time": "2022-03-14T05:40:08.193Z"
   },
   {
    "duration": 16,
    "start_time": "2022-03-14T05:40:08.202Z"
   },
   {
    "duration": 19,
    "start_time": "2022-03-14T05:40:08.220Z"
   },
   {
    "duration": 25,
    "start_time": "2022-03-14T05:40:08.241Z"
   },
   {
    "duration": 11,
    "start_time": "2022-03-14T05:40:08.287Z"
   },
   {
    "duration": 10,
    "start_time": "2022-03-14T05:40:08.301Z"
   },
   {
    "duration": 41,
    "start_time": "2022-03-14T05:40:08.313Z"
   },
   {
    "duration": 391,
    "start_time": "2022-03-14T05:40:08.357Z"
   },
   {
    "duration": 7,
    "start_time": "2022-03-14T05:40:08.750Z"
   },
   {
    "duration": 52,
    "start_time": "2022-03-14T05:40:08.759Z"
   },
   {
    "duration": 385,
    "start_time": "2022-03-14T05:40:08.813Z"
   },
   {
    "duration": 402,
    "start_time": "2022-03-14T05:40:15.225Z"
   },
   {
    "duration": 248,
    "start_time": "2022-03-14T06:07:12.095Z"
   },
   {
    "duration": 323,
    "start_time": "2022-03-14T06:07:21.770Z"
   },
   {
    "duration": 84,
    "start_time": "2022-03-14T06:07:36.499Z"
   },
   {
    "duration": 323,
    "start_time": "2022-03-14T06:07:41.054Z"
   },
   {
    "duration": 630,
    "start_time": "2022-03-14T06:08:26.928Z"
   },
   {
    "duration": 319,
    "start_time": "2022-03-14T06:08:44.585Z"
   },
   {
    "duration": 257,
    "start_time": "2022-03-14T06:09:08.269Z"
   },
   {
    "duration": 335,
    "start_time": "2022-03-14T06:09:14.311Z"
   },
   {
    "duration": 551,
    "start_time": "2022-03-14T06:09:23.459Z"
   },
   {
    "duration": 331,
    "start_time": "2022-03-14T06:09:30.442Z"
   },
   {
    "duration": 323,
    "start_time": "2022-03-14T06:16:03.632Z"
   },
   {
    "duration": 155,
    "start_time": "2022-03-14T06:17:16.599Z"
   },
   {
    "duration": 309,
    "start_time": "2022-03-14T06:17:25.569Z"
   },
   {
    "duration": 264,
    "start_time": "2022-03-14T06:18:11.393Z"
   },
   {
    "duration": 263,
    "start_time": "2022-03-14T06:18:33.109Z"
   },
   {
    "duration": 146,
    "start_time": "2022-03-14T06:18:57.184Z"
   },
   {
    "duration": 314,
    "start_time": "2022-03-14T12:40:09.818Z"
   },
   {
    "duration": 346,
    "start_time": "2022-03-14T12:40:33.474Z"
   },
   {
    "duration": 662,
    "start_time": "2022-03-14T12:40:44.739Z"
   },
   {
    "duration": 787,
    "start_time": "2022-03-14T12:41:20.302Z"
   },
   {
    "duration": 649,
    "start_time": "2022-03-14T12:41:57.045Z"
   },
   {
    "duration": 654,
    "start_time": "2022-03-14T12:42:04.926Z"
   },
   {
    "duration": 339,
    "start_time": "2022-03-14T12:46:17.659Z"
   },
   {
    "duration": 282,
    "start_time": "2022-03-14T12:47:33.990Z"
   },
   {
    "duration": 287,
    "start_time": "2022-03-14T12:53:20.430Z"
   },
   {
    "duration": 1844,
    "start_time": "2022-03-14T12:59:09.121Z"
   },
   {
    "duration": 495,
    "start_time": "2022-03-14T12:59:10.968Z"
   },
   {
    "duration": 16,
    "start_time": "2022-03-14T12:59:11.466Z"
   },
   {
    "duration": 31,
    "start_time": "2022-03-14T12:59:11.485Z"
   },
   {
    "duration": 12,
    "start_time": "2022-03-14T12:59:11.519Z"
   },
   {
    "duration": 36,
    "start_time": "2022-03-14T12:59:11.534Z"
   },
   {
    "duration": 12,
    "start_time": "2022-03-14T12:59:11.587Z"
   },
   {
    "duration": 30,
    "start_time": "2022-03-14T12:59:11.604Z"
   },
   {
    "duration": 23,
    "start_time": "2022-03-14T12:59:11.639Z"
   },
   {
    "duration": 24,
    "start_time": "2022-03-14T12:59:11.665Z"
   },
   {
    "duration": 26,
    "start_time": "2022-03-14T12:59:11.692Z"
   },
   {
    "duration": 20,
    "start_time": "2022-03-14T12:59:11.720Z"
   },
   {
    "duration": 29,
    "start_time": "2022-03-14T12:59:11.743Z"
   },
   {
    "duration": 62,
    "start_time": "2022-03-14T12:59:11.774Z"
   },
   {
    "duration": 4944,
    "start_time": "2022-03-14T12:59:11.839Z"
   },
   {
    "duration": 20,
    "start_time": "2022-03-14T12:59:16.788Z"
   },
   {
    "duration": 30,
    "start_time": "2022-03-14T12:59:16.811Z"
   },
   {
    "duration": 46,
    "start_time": "2022-03-14T12:59:16.844Z"
   },
   {
    "duration": 25,
    "start_time": "2022-03-14T12:59:16.892Z"
   },
   {
    "duration": 14,
    "start_time": "2022-03-14T12:59:16.920Z"
   },
   {
    "duration": 13,
    "start_time": "2022-03-14T12:59:16.936Z"
   },
   {
    "duration": 43,
    "start_time": "2022-03-14T12:59:16.951Z"
   },
   {
    "duration": 12,
    "start_time": "2022-03-14T12:59:17.002Z"
   },
   {
    "duration": 113,
    "start_time": "2022-03-14T12:59:17.018Z"
   },
   {
    "duration": 63,
    "start_time": "2022-03-14T12:59:17.133Z"
   },
   {
    "duration": 117,
    "start_time": "2022-03-14T12:59:17.198Z"
   },
   {
    "duration": 8,
    "start_time": "2022-03-14T12:59:17.318Z"
   },
   {
    "duration": 192,
    "start_time": "2022-03-14T12:59:17.328Z"
   },
   {
    "duration": 17,
    "start_time": "2022-03-14T12:59:17.523Z"
   },
   {
    "duration": 22,
    "start_time": "2022-03-14T12:59:17.543Z"
   },
   {
    "duration": 35,
    "start_time": "2022-03-14T12:59:17.568Z"
   },
   {
    "duration": 13,
    "start_time": "2022-03-14T12:59:17.606Z"
   },
   {
    "duration": 8,
    "start_time": "2022-03-14T12:59:17.621Z"
   },
   {
    "duration": 8,
    "start_time": "2022-03-14T12:59:17.631Z"
   },
   {
    "duration": 108,
    "start_time": "2022-03-14T12:59:17.641Z"
   },
   {
    "duration": 59,
    "start_time": "2022-03-14T12:59:17.752Z"
   },
   {
    "duration": 40,
    "start_time": "2022-03-14T12:59:17.813Z"
   },
   {
    "duration": 31,
    "start_time": "2022-03-14T12:59:17.856Z"
   },
   {
    "duration": 23,
    "start_time": "2022-03-14T12:59:17.889Z"
   },
   {
    "duration": 354,
    "start_time": "2022-03-14T12:59:17.915Z"
   },
   {
    "duration": 27,
    "start_time": "2022-03-14T12:59:18.271Z"
   },
   {
    "duration": 16,
    "start_time": "2022-03-14T12:59:18.301Z"
   },
   {
    "duration": 16,
    "start_time": "2022-03-14T12:59:18.319Z"
   },
   {
    "duration": 21,
    "start_time": "2022-03-14T12:59:18.337Z"
   },
   {
    "duration": 6,
    "start_time": "2022-03-14T12:59:18.387Z"
   },
   {
    "duration": 19,
    "start_time": "2022-03-14T12:59:18.395Z"
   },
   {
    "duration": 9,
    "start_time": "2022-03-14T12:59:18.416Z"
   },
   {
    "duration": 10,
    "start_time": "2022-03-14T12:59:18.427Z"
   },
   {
    "duration": 53,
    "start_time": "2022-03-14T12:59:18.440Z"
   },
   {
    "duration": 21,
    "start_time": "2022-03-14T12:59:18.496Z"
   },
   {
    "duration": 14,
    "start_time": "2022-03-14T12:59:18.519Z"
   },
   {
    "duration": 6,
    "start_time": "2022-03-14T12:59:18.535Z"
   },
   {
    "duration": 47,
    "start_time": "2022-03-14T12:59:18.544Z"
   },
   {
    "duration": 13,
    "start_time": "2022-03-14T12:59:18.594Z"
   },
   {
    "duration": 26,
    "start_time": "2022-03-14T12:59:18.611Z"
   },
   {
    "duration": 50,
    "start_time": "2022-03-14T12:59:18.640Z"
   },
   {
    "duration": 5,
    "start_time": "2022-03-14T12:59:18.693Z"
   },
   {
    "duration": 34,
    "start_time": "2022-03-14T12:59:18.701Z"
   },
   {
    "duration": 437,
    "start_time": "2022-03-14T12:59:18.738Z"
   },
   {
    "duration": 12,
    "start_time": "2022-03-14T12:59:19.178Z"
   },
   {
    "duration": 33,
    "start_time": "2022-03-14T12:59:19.194Z"
   },
   {
    "duration": 394,
    "start_time": "2022-03-14T12:59:19.230Z"
   },
   {
    "duration": 5,
    "start_time": "2022-03-14T12:59:19.622Z"
   },
   {
    "duration": 1,
    "start_time": "2022-03-14T12:59:19.627Z"
   },
   {
    "duration": 0,
    "start_time": "2022-03-14T12:59:19.630Z"
   },
   {
    "duration": 269,
    "start_time": "2022-03-14T12:59:47.529Z"
   },
   {
    "duration": 251,
    "start_time": "2022-03-14T13:00:56.681Z"
   },
   {
    "duration": 309,
    "start_time": "2022-03-14T13:01:14.226Z"
   },
   {
    "duration": 405,
    "start_time": "2022-03-14T13:01:21.172Z"
   },
   {
    "duration": 237,
    "start_time": "2022-03-14T13:01:31.227Z"
   },
   {
    "duration": 502,
    "start_time": "2022-03-14T13:01:44.180Z"
   },
   {
    "duration": 274,
    "start_time": "2022-03-14T13:03:08.082Z"
   },
   {
    "duration": 343,
    "start_time": "2022-03-14T13:03:27.171Z"
   },
   {
    "duration": 321,
    "start_time": "2022-03-14T13:05:00.007Z"
   },
   {
    "duration": 227,
    "start_time": "2022-03-14T13:06:08.024Z"
   },
   {
    "duration": 239,
    "start_time": "2022-03-14T13:10:12.450Z"
   },
   {
    "duration": 242,
    "start_time": "2022-03-14T13:10:32.631Z"
   },
   {
    "duration": 232,
    "start_time": "2022-03-14T13:11:30.137Z"
   },
   {
    "duration": 835,
    "start_time": "2022-03-14T13:12:13.472Z"
   },
   {
    "duration": 346,
    "start_time": "2022-03-14T13:13:40.582Z"
   },
   {
    "duration": 652,
    "start_time": "2022-03-14T13:14:57.132Z"
   },
   {
    "duration": 892,
    "start_time": "2022-03-14T13:15:31.940Z"
   },
   {
    "duration": 1102,
    "start_time": "2022-03-14T16:51:56.557Z"
   },
   {
    "duration": 357,
    "start_time": "2022-03-14T16:51:57.661Z"
   },
   {
    "duration": 11,
    "start_time": "2022-03-14T16:51:58.020Z"
   },
   {
    "duration": 22,
    "start_time": "2022-03-14T16:51:58.032Z"
   },
   {
    "duration": 8,
    "start_time": "2022-03-14T16:51:58.055Z"
   },
   {
    "duration": 21,
    "start_time": "2022-03-14T16:51:58.064Z"
   },
   {
    "duration": 6,
    "start_time": "2022-03-14T16:51:58.087Z"
   },
   {
    "duration": 15,
    "start_time": "2022-03-14T16:51:58.096Z"
   },
   {
    "duration": 29,
    "start_time": "2022-03-14T16:51:58.113Z"
   },
   {
    "duration": 9,
    "start_time": "2022-03-14T16:51:58.144Z"
   },
   {
    "duration": 8,
    "start_time": "2022-03-14T16:51:58.155Z"
   },
   {
    "duration": 12,
    "start_time": "2022-03-14T16:51:58.164Z"
   },
   {
    "duration": 7,
    "start_time": "2022-03-14T16:51:58.177Z"
   },
   {
    "duration": 48,
    "start_time": "2022-03-14T16:51:58.185Z"
   },
   {
    "duration": 2595,
    "start_time": "2022-03-14T16:51:58.234Z"
   },
   {
    "duration": 15,
    "start_time": "2022-03-14T16:52:00.833Z"
   },
   {
    "duration": 23,
    "start_time": "2022-03-14T16:52:00.849Z"
   },
   {
    "duration": 13,
    "start_time": "2022-03-14T16:52:00.873Z"
   },
   {
    "duration": 30,
    "start_time": "2022-03-14T16:52:00.887Z"
   },
   {
    "duration": 18,
    "start_time": "2022-03-14T16:52:00.919Z"
   },
   {
    "duration": 13,
    "start_time": "2022-03-14T16:52:00.938Z"
   },
   {
    "duration": 15,
    "start_time": "2022-03-14T16:52:00.952Z"
   },
   {
    "duration": 8,
    "start_time": "2022-03-14T16:52:00.970Z"
   },
   {
    "duration": 66,
    "start_time": "2022-03-14T16:52:00.980Z"
   },
   {
    "duration": 36,
    "start_time": "2022-03-14T16:52:01.048Z"
   },
   {
    "duration": 97,
    "start_time": "2022-03-14T16:52:01.086Z"
   },
   {
    "duration": 5,
    "start_time": "2022-03-14T16:52:01.184Z"
   },
   {
    "duration": 108,
    "start_time": "2022-03-14T16:52:01.191Z"
   },
   {
    "duration": 10,
    "start_time": "2022-03-14T16:52:01.301Z"
   },
   {
    "duration": 13,
    "start_time": "2022-03-14T16:52:01.312Z"
   },
   {
    "duration": 17,
    "start_time": "2022-03-14T16:52:01.327Z"
   },
   {
    "duration": 17,
    "start_time": "2022-03-14T16:52:01.346Z"
   },
   {
    "duration": 11,
    "start_time": "2022-03-14T16:52:01.365Z"
   },
   {
    "duration": 8,
    "start_time": "2022-03-14T16:52:01.378Z"
   },
   {
    "duration": 52,
    "start_time": "2022-03-14T16:52:01.388Z"
   },
   {
    "duration": 31,
    "start_time": "2022-03-14T16:52:01.442Z"
   },
   {
    "duration": 27,
    "start_time": "2022-03-14T16:52:01.475Z"
   },
   {
    "duration": 5,
    "start_time": "2022-03-14T16:52:01.504Z"
   },
   {
    "duration": 15,
    "start_time": "2022-03-14T16:52:01.534Z"
   },
   {
    "duration": 165,
    "start_time": "2022-03-14T16:52:01.551Z"
   },
   {
    "duration": 18,
    "start_time": "2022-03-14T16:52:01.717Z"
   },
   {
    "duration": 9,
    "start_time": "2022-03-14T16:52:01.737Z"
   },
   {
    "duration": 10,
    "start_time": "2022-03-14T16:52:01.748Z"
   },
   {
    "duration": 6,
    "start_time": "2022-03-14T16:52:01.760Z"
   },
   {
    "duration": 7,
    "start_time": "2022-03-14T16:52:01.767Z"
   },
   {
    "duration": 14,
    "start_time": "2022-03-14T16:52:01.775Z"
   },
   {
    "duration": 5,
    "start_time": "2022-03-14T16:52:01.791Z"
   },
   {
    "duration": 35,
    "start_time": "2022-03-14T16:52:01.798Z"
   },
   {
    "duration": 8,
    "start_time": "2022-03-14T16:52:01.834Z"
   },
   {
    "duration": 13,
    "start_time": "2022-03-14T16:52:01.843Z"
   },
   {
    "duration": 11,
    "start_time": "2022-03-14T16:52:01.857Z"
   },
   {
    "duration": 5,
    "start_time": "2022-03-14T16:52:01.869Z"
   },
   {
    "duration": 11,
    "start_time": "2022-03-14T16:52:01.875Z"
   },
   {
    "duration": 11,
    "start_time": "2022-03-14T16:52:01.888Z"
   },
   {
    "duration": 41,
    "start_time": "2022-03-14T16:52:01.900Z"
   },
   {
    "duration": 10,
    "start_time": "2022-03-14T16:52:01.942Z"
   },
   {
    "duration": 3,
    "start_time": "2022-03-14T16:52:01.953Z"
   },
   {
    "duration": 20,
    "start_time": "2022-03-14T16:52:01.958Z"
   },
   {
    "duration": 236,
    "start_time": "2022-03-14T16:52:01.979Z"
   },
   {
    "duration": 4,
    "start_time": "2022-03-14T16:52:02.217Z"
   },
   {
    "duration": 29,
    "start_time": "2022-03-14T16:52:02.223Z"
   },
   {
    "duration": 152,
    "start_time": "2022-03-14T16:52:02.253Z"
   },
   {
    "duration": 428,
    "start_time": "2022-03-14T16:52:02.406Z"
   },
   {
    "duration": 379,
    "start_time": "2022-03-14T16:52:02.836Z"
   },
   {
    "duration": 184,
    "start_time": "2022-03-14T16:52:03.217Z"
   },
   {
    "duration": 187,
    "start_time": "2022-03-14T16:52:03.403Z"
   },
   {
    "duration": 379,
    "start_time": "2022-03-14T16:53:01.053Z"
   },
   {
    "duration": 363,
    "start_time": "2022-03-14T16:56:02.406Z"
   },
   {
    "duration": 374,
    "start_time": "2022-03-14T16:59:19.258Z"
   },
   {
    "duration": 442,
    "start_time": "2022-03-14T17:04:11.137Z"
   },
   {
    "duration": 362,
    "start_time": "2022-03-14T17:04:46.302Z"
   },
   {
    "duration": 375,
    "start_time": "2022-03-14T17:05:02.604Z"
   },
   {
    "duration": 368,
    "start_time": "2022-03-14T17:05:08.275Z"
   },
   {
    "duration": 399,
    "start_time": "2022-03-14T17:06:30.707Z"
   },
   {
    "duration": 66,
    "start_time": "2022-03-14T17:06:59.867Z"
   },
   {
    "duration": 477,
    "start_time": "2022-03-14T17:07:10.217Z"
   },
   {
    "duration": 78,
    "start_time": "2022-03-14T17:07:19.570Z"
   },
   {
    "duration": 393,
    "start_time": "2022-03-14T17:07:27.776Z"
   },
   {
    "duration": 397,
    "start_time": "2022-03-14T17:07:58.953Z"
   },
   {
    "duration": 6,
    "start_time": "2022-03-14T17:14:58.820Z"
   },
   {
    "duration": 7,
    "start_time": "2022-03-14T17:15:12.111Z"
   },
   {
    "duration": 8,
    "start_time": "2022-03-14T17:16:01.484Z"
   },
   {
    "duration": 13,
    "start_time": "2022-03-14T17:24:43.424Z"
   },
   {
    "duration": 12,
    "start_time": "2022-03-14T17:31:32.760Z"
   },
   {
    "duration": 12,
    "start_time": "2022-03-14T17:33:37.696Z"
   },
   {
    "duration": 386,
    "start_time": "2022-03-14T17:49:32.955Z"
   },
   {
    "duration": 395,
    "start_time": "2022-03-14T17:49:54.861Z"
   },
   {
    "duration": 402,
    "start_time": "2022-03-14T17:51:36.676Z"
   },
   {
    "duration": 7,
    "start_time": "2022-03-14T18:01:40.558Z"
   },
   {
    "duration": 8,
    "start_time": "2022-03-14T18:04:24.558Z"
   },
   {
    "duration": 15,
    "start_time": "2022-03-14T18:04:56.275Z"
   },
   {
    "duration": 1053,
    "start_time": "2022-03-14T18:05:46.501Z"
   },
   {
    "duration": 373,
    "start_time": "2022-03-14T18:05:47.556Z"
   },
   {
    "duration": 11,
    "start_time": "2022-03-14T18:05:47.931Z"
   },
   {
    "duration": 20,
    "start_time": "2022-03-14T18:05:47.944Z"
   },
   {
    "duration": 7,
    "start_time": "2022-03-14T18:05:47.966Z"
   },
   {
    "duration": 21,
    "start_time": "2022-03-14T18:05:47.975Z"
   },
   {
    "duration": 7,
    "start_time": "2022-03-14T18:05:47.997Z"
   },
   {
    "duration": 14,
    "start_time": "2022-03-14T18:05:48.034Z"
   },
   {
    "duration": 7,
    "start_time": "2022-03-14T18:05:48.050Z"
   },
   {
    "duration": 4,
    "start_time": "2022-03-14T18:05:48.059Z"
   },
   {
    "duration": 11,
    "start_time": "2022-03-14T18:05:48.064Z"
   },
   {
    "duration": 19,
    "start_time": "2022-03-14T18:05:48.077Z"
   },
   {
    "duration": 7,
    "start_time": "2022-03-14T18:05:48.098Z"
   },
   {
    "duration": 32,
    "start_time": "2022-03-14T18:05:48.133Z"
   },
   {
    "duration": 2744,
    "start_time": "2022-03-14T18:05:48.166Z"
   },
   {
    "duration": 22,
    "start_time": "2022-03-14T18:05:50.912Z"
   },
   {
    "duration": 19,
    "start_time": "2022-03-14T18:05:50.936Z"
   },
   {
    "duration": 12,
    "start_time": "2022-03-14T18:05:50.956Z"
   },
   {
    "duration": 17,
    "start_time": "2022-03-14T18:05:50.969Z"
   },
   {
    "duration": 9,
    "start_time": "2022-03-14T18:05:50.988Z"
   },
   {
    "duration": 6,
    "start_time": "2022-03-14T18:05:50.999Z"
   },
   {
    "duration": 7,
    "start_time": "2022-03-14T18:05:51.032Z"
   },
   {
    "duration": 8,
    "start_time": "2022-03-14T18:05:51.043Z"
   },
   {
    "duration": 52,
    "start_time": "2022-03-14T18:05:51.053Z"
   },
   {
    "duration": 58,
    "start_time": "2022-03-14T18:05:51.107Z"
   },
   {
    "duration": 86,
    "start_time": "2022-03-14T18:05:51.167Z"
   },
   {
    "duration": 6,
    "start_time": "2022-03-14T18:05:51.254Z"
   },
   {
    "duration": 103,
    "start_time": "2022-03-14T18:05:51.261Z"
   },
   {
    "duration": 9,
    "start_time": "2022-03-14T18:05:51.366Z"
   },
   {
    "duration": 8,
    "start_time": "2022-03-14T18:05:51.376Z"
   },
   {
    "duration": 8,
    "start_time": "2022-03-14T18:05:51.386Z"
   },
   {
    "duration": 6,
    "start_time": "2022-03-14T18:05:51.396Z"
   },
   {
    "duration": 32,
    "start_time": "2022-03-14T18:05:51.404Z"
   },
   {
    "duration": 6,
    "start_time": "2022-03-14T18:05:51.437Z"
   },
   {
    "duration": 53,
    "start_time": "2022-03-14T18:05:51.445Z"
   },
   {
    "duration": 46,
    "start_time": "2022-03-14T18:05:51.500Z"
   },
   {
    "duration": 25,
    "start_time": "2022-03-14T18:05:51.548Z"
   },
   {
    "duration": 4,
    "start_time": "2022-03-14T18:05:51.575Z"
   },
   {
    "duration": 14,
    "start_time": "2022-03-14T18:05:51.581Z"
   },
   {
    "duration": 183,
    "start_time": "2022-03-14T18:05:51.597Z"
   },
   {
    "duration": 10,
    "start_time": "2022-03-14T18:05:51.781Z"
   },
   {
    "duration": 9,
    "start_time": "2022-03-14T18:05:51.793Z"
   },
   {
    "duration": 29,
    "start_time": "2022-03-14T18:05:51.804Z"
   },
   {
    "duration": 7,
    "start_time": "2022-03-14T18:05:51.834Z"
   },
   {
    "duration": 4,
    "start_time": "2022-03-14T18:05:51.843Z"
   },
   {
    "duration": 14,
    "start_time": "2022-03-14T18:05:51.849Z"
   },
   {
    "duration": 5,
    "start_time": "2022-03-14T18:05:51.865Z"
   },
   {
    "duration": 7,
    "start_time": "2022-03-14T18:05:51.872Z"
   },
   {
    "duration": 6,
    "start_time": "2022-03-14T18:05:51.881Z"
   },
   {
    "duration": 14,
    "start_time": "2022-03-14T18:05:51.888Z"
   },
   {
    "duration": 9,
    "start_time": "2022-03-14T18:05:51.935Z"
   },
   {
    "duration": 5,
    "start_time": "2022-03-14T18:05:51.945Z"
   },
   {
    "duration": 10,
    "start_time": "2022-03-14T18:05:51.951Z"
   },
   {
    "duration": 7,
    "start_time": "2022-03-14T18:05:51.963Z"
   },
   {
    "duration": 16,
    "start_time": "2022-03-14T18:05:51.971Z"
   },
   {
    "duration": 8,
    "start_time": "2022-03-14T18:05:51.989Z"
   },
   {
    "duration": 35,
    "start_time": "2022-03-14T18:05:51.999Z"
   },
   {
    "duration": 23,
    "start_time": "2022-03-14T18:05:52.036Z"
   },
   {
    "duration": 243,
    "start_time": "2022-03-14T18:05:52.061Z"
   },
   {
    "duration": 5,
    "start_time": "2022-03-14T18:05:52.306Z"
   },
   {
    "duration": 29,
    "start_time": "2022-03-14T18:05:52.312Z"
   },
   {
    "duration": 8,
    "start_time": "2022-03-14T18:05:52.342Z"
   },
   {
    "duration": 158,
    "start_time": "2022-03-14T18:05:52.352Z"
   },
   {
    "duration": 439,
    "start_time": "2022-03-14T18:05:52.512Z"
   },
   {
    "duration": 13,
    "start_time": "2022-03-14T18:05:52.953Z"
   },
   {
    "duration": 403,
    "start_time": "2022-03-14T18:05:52.968Z"
   },
   {
    "duration": 14,
    "start_time": "2022-03-14T18:05:53.373Z"
   },
   {
    "duration": 393,
    "start_time": "2022-03-14T18:05:53.392Z"
   },
   {
    "duration": 12,
    "start_time": "2022-03-14T18:05:53.787Z"
   },
   {
    "duration": 7,
    "start_time": "2022-03-14T18:05:53.801Z"
   },
   {
    "duration": 33,
    "start_time": "2022-03-14T18:05:53.810Z"
   },
   {
    "duration": 417,
    "start_time": "2022-03-14T18:05:53.845Z"
   },
   {
    "duration": 1169,
    "start_time": "2022-03-14T18:07:05.009Z"
   },
   {
    "duration": 369,
    "start_time": "2022-03-14T18:07:06.180Z"
   },
   {
    "duration": 12,
    "start_time": "2022-03-14T18:07:06.552Z"
   },
   {
    "duration": 21,
    "start_time": "2022-03-14T18:07:06.566Z"
   },
   {
    "duration": 8,
    "start_time": "2022-03-14T18:07:06.589Z"
   },
   {
    "duration": 18,
    "start_time": "2022-03-14T18:07:06.599Z"
   },
   {
    "duration": 21,
    "start_time": "2022-03-14T18:07:06.619Z"
   },
   {
    "duration": 14,
    "start_time": "2022-03-14T18:07:06.643Z"
   },
   {
    "duration": 7,
    "start_time": "2022-03-14T18:07:06.659Z"
   },
   {
    "duration": 4,
    "start_time": "2022-03-14T18:07:06.667Z"
   },
   {
    "duration": 7,
    "start_time": "2022-03-14T18:07:06.673Z"
   },
   {
    "duration": 13,
    "start_time": "2022-03-14T18:07:06.681Z"
   },
   {
    "duration": 40,
    "start_time": "2022-03-14T18:07:06.696Z"
   },
   {
    "duration": 29,
    "start_time": "2022-03-14T18:07:06.738Z"
   },
   {
    "duration": 2680,
    "start_time": "2022-03-14T18:07:06.769Z"
   },
   {
    "duration": 15,
    "start_time": "2022-03-14T18:07:09.451Z"
   },
   {
    "duration": 19,
    "start_time": "2022-03-14T18:07:09.467Z"
   },
   {
    "duration": 12,
    "start_time": "2022-03-14T18:07:09.487Z"
   },
   {
    "duration": 43,
    "start_time": "2022-03-14T18:07:09.500Z"
   },
   {
    "duration": 11,
    "start_time": "2022-03-14T18:07:09.545Z"
   },
   {
    "duration": 7,
    "start_time": "2022-03-14T18:07:09.558Z"
   },
   {
    "duration": 8,
    "start_time": "2022-03-14T18:07:09.567Z"
   },
   {
    "duration": 7,
    "start_time": "2022-03-14T18:07:09.579Z"
   },
   {
    "duration": 84,
    "start_time": "2022-03-14T18:07:09.589Z"
   },
   {
    "duration": 35,
    "start_time": "2022-03-14T18:07:09.674Z"
   },
   {
    "duration": 95,
    "start_time": "2022-03-14T18:07:09.711Z"
   },
   {
    "duration": 5,
    "start_time": "2022-03-14T18:07:09.807Z"
   },
   {
    "duration": 105,
    "start_time": "2022-03-14T18:07:09.814Z"
   },
   {
    "duration": 17,
    "start_time": "2022-03-14T18:07:09.921Z"
   },
   {
    "duration": 11,
    "start_time": "2022-03-14T18:07:09.939Z"
   },
   {
    "duration": 10,
    "start_time": "2022-03-14T18:07:09.952Z"
   },
   {
    "duration": 4,
    "start_time": "2022-03-14T18:07:09.964Z"
   },
   {
    "duration": 14,
    "start_time": "2022-03-14T18:07:09.970Z"
   },
   {
    "duration": 5,
    "start_time": "2022-03-14T18:07:09.986Z"
   },
   {
    "duration": 86,
    "start_time": "2022-03-14T18:07:09.993Z"
   },
   {
    "duration": 33,
    "start_time": "2022-03-14T18:07:10.080Z"
   },
   {
    "duration": 46,
    "start_time": "2022-03-14T18:07:10.115Z"
   },
   {
    "duration": 4,
    "start_time": "2022-03-14T18:07:10.163Z"
   },
   {
    "duration": 13,
    "start_time": "2022-03-14T18:07:10.168Z"
   },
   {
    "duration": 174,
    "start_time": "2022-03-14T18:07:10.183Z"
   },
   {
    "duration": 9,
    "start_time": "2022-03-14T18:07:10.359Z"
   },
   {
    "duration": 15,
    "start_time": "2022-03-14T18:07:10.369Z"
   },
   {
    "duration": 9,
    "start_time": "2022-03-14T18:07:10.386Z"
   },
   {
    "duration": 6,
    "start_time": "2022-03-14T18:07:10.396Z"
   },
   {
    "duration": 9,
    "start_time": "2022-03-14T18:07:10.403Z"
   },
   {
    "duration": 23,
    "start_time": "2022-03-14T18:07:10.413Z"
   },
   {
    "duration": 11,
    "start_time": "2022-03-14T18:07:10.437Z"
   },
   {
    "duration": 7,
    "start_time": "2022-03-14T18:07:10.449Z"
   },
   {
    "duration": 8,
    "start_time": "2022-03-14T18:07:10.458Z"
   },
   {
    "duration": 12,
    "start_time": "2022-03-14T18:07:10.467Z"
   },
   {
    "duration": 10,
    "start_time": "2022-03-14T18:07:10.480Z"
   },
   {
    "duration": 4,
    "start_time": "2022-03-14T18:07:10.492Z"
   },
   {
    "duration": 36,
    "start_time": "2022-03-14T18:07:10.497Z"
   },
   {
    "duration": 8,
    "start_time": "2022-03-14T18:07:10.534Z"
   },
   {
    "duration": 14,
    "start_time": "2022-03-14T18:07:10.544Z"
   },
   {
    "duration": 8,
    "start_time": "2022-03-14T18:07:10.559Z"
   },
   {
    "duration": 4,
    "start_time": "2022-03-14T18:07:10.568Z"
   },
   {
    "duration": 21,
    "start_time": "2022-03-14T18:07:10.573Z"
   },
   {
    "duration": 249,
    "start_time": "2022-03-14T18:07:10.596Z"
   },
   {
    "duration": 8,
    "start_time": "2022-03-14T18:07:10.846Z"
   },
   {
    "duration": 4,
    "start_time": "2022-03-14T18:07:10.855Z"
   },
   {
    "duration": 19,
    "start_time": "2022-03-14T18:07:10.861Z"
   },
   {
    "duration": 7,
    "start_time": "2022-03-14T18:07:10.881Z"
   },
   {
    "duration": 173,
    "start_time": "2022-03-14T18:07:10.890Z"
   },
   {
    "duration": 441,
    "start_time": "2022-03-14T18:07:11.065Z"
   },
   {
    "duration": 26,
    "start_time": "2022-03-14T18:07:11.509Z"
   },
   {
    "duration": 384,
    "start_time": "2022-03-14T18:07:11.537Z"
   },
   {
    "duration": 15,
    "start_time": "2022-03-14T18:07:11.926Z"
   },
   {
    "duration": 401,
    "start_time": "2022-03-14T18:07:11.942Z"
   },
   {
    "duration": 13,
    "start_time": "2022-03-14T18:07:12.345Z"
   },
   {
    "duration": 9,
    "start_time": "2022-03-14T18:07:12.359Z"
   },
   {
    "duration": 18,
    "start_time": "2022-03-14T18:07:12.369Z"
   },
   {
    "duration": 432,
    "start_time": "2022-03-14T18:07:12.389Z"
   },
   {
    "duration": 1089,
    "start_time": "2022-03-14T18:08:53.861Z"
   },
   {
    "duration": 375,
    "start_time": "2022-03-14T18:08:54.952Z"
   },
   {
    "duration": 14,
    "start_time": "2022-03-14T18:08:55.333Z"
   },
   {
    "duration": 27,
    "start_time": "2022-03-14T18:08:55.349Z"
   },
   {
    "duration": 7,
    "start_time": "2022-03-14T18:08:55.377Z"
   },
   {
    "duration": 18,
    "start_time": "2022-03-14T18:08:55.386Z"
   },
   {
    "duration": 32,
    "start_time": "2022-03-14T18:08:55.406Z"
   },
   {
    "duration": 18,
    "start_time": "2022-03-14T18:08:55.439Z"
   },
   {
    "duration": 7,
    "start_time": "2022-03-14T18:08:55.459Z"
   },
   {
    "duration": 5,
    "start_time": "2022-03-14T18:08:55.468Z"
   },
   {
    "duration": 8,
    "start_time": "2022-03-14T18:08:55.474Z"
   },
   {
    "duration": 13,
    "start_time": "2022-03-14T18:08:55.484Z"
   },
   {
    "duration": 7,
    "start_time": "2022-03-14T18:08:55.499Z"
   },
   {
    "duration": 52,
    "start_time": "2022-03-14T18:08:55.508Z"
   },
   {
    "duration": 2582,
    "start_time": "2022-03-14T18:08:55.561Z"
   },
   {
    "duration": 16,
    "start_time": "2022-03-14T18:08:58.145Z"
   },
   {
    "duration": 21,
    "start_time": "2022-03-14T18:08:58.163Z"
   },
   {
    "duration": 12,
    "start_time": "2022-03-14T18:08:58.186Z"
   },
   {
    "duration": 42,
    "start_time": "2022-03-14T18:08:58.199Z"
   },
   {
    "duration": 10,
    "start_time": "2022-03-14T18:08:58.243Z"
   },
   {
    "duration": 9,
    "start_time": "2022-03-14T18:08:58.254Z"
   },
   {
    "duration": 8,
    "start_time": "2022-03-14T18:08:58.267Z"
   },
   {
    "duration": 11,
    "start_time": "2022-03-14T18:08:58.277Z"
   },
   {
    "duration": 74,
    "start_time": "2022-03-14T18:08:58.289Z"
   },
   {
    "duration": 34,
    "start_time": "2022-03-14T18:08:58.365Z"
   },
   {
    "duration": 94,
    "start_time": "2022-03-14T18:08:58.400Z"
   },
   {
    "duration": 5,
    "start_time": "2022-03-14T18:08:58.496Z"
   },
   {
    "duration": 107,
    "start_time": "2022-03-14T18:08:58.502Z"
   },
   {
    "duration": 8,
    "start_time": "2022-03-14T18:08:58.611Z"
   },
   {
    "duration": 13,
    "start_time": "2022-03-14T18:08:58.620Z"
   },
   {
    "duration": 15,
    "start_time": "2022-03-14T18:08:58.635Z"
   },
   {
    "duration": 7,
    "start_time": "2022-03-14T18:08:58.652Z"
   },
   {
    "duration": 5,
    "start_time": "2022-03-14T18:08:58.660Z"
   },
   {
    "duration": 5,
    "start_time": "2022-03-14T18:08:58.667Z"
   },
   {
    "duration": 72,
    "start_time": "2022-03-14T18:08:58.673Z"
   },
   {
    "duration": 30,
    "start_time": "2022-03-14T18:08:58.746Z"
   },
   {
    "duration": 26,
    "start_time": "2022-03-14T18:08:58.777Z"
   },
   {
    "duration": 4,
    "start_time": "2022-03-14T18:08:58.804Z"
   },
   {
    "duration": 14,
    "start_time": "2022-03-14T18:08:58.833Z"
   },
   {
    "duration": 161,
    "start_time": "2022-03-14T18:08:58.848Z"
   },
   {
    "duration": 10,
    "start_time": "2022-03-14T18:08:59.011Z"
   },
   {
    "duration": 18,
    "start_time": "2022-03-14T18:08:59.022Z"
   },
   {
    "duration": 10,
    "start_time": "2022-03-14T18:08:59.042Z"
   },
   {
    "duration": 6,
    "start_time": "2022-03-14T18:08:59.054Z"
   },
   {
    "duration": 3,
    "start_time": "2022-03-14T18:08:59.062Z"
   },
   {
    "duration": 10,
    "start_time": "2022-03-14T18:08:59.066Z"
   },
   {
    "duration": 4,
    "start_time": "2022-03-14T18:08:59.078Z"
   },
   {
    "duration": 8,
    "start_time": "2022-03-14T18:08:59.083Z"
   },
   {
    "duration": 44,
    "start_time": "2022-03-14T18:08:59.093Z"
   },
   {
    "duration": 13,
    "start_time": "2022-03-14T18:08:59.139Z"
   },
   {
    "duration": 6,
    "start_time": "2022-03-14T18:08:59.154Z"
   },
   {
    "duration": 5,
    "start_time": "2022-03-14T18:08:59.162Z"
   },
   {
    "duration": 8,
    "start_time": "2022-03-14T18:08:59.169Z"
   },
   {
    "duration": 8,
    "start_time": "2022-03-14T18:08:59.178Z"
   },
   {
    "duration": 56,
    "start_time": "2022-03-14T18:08:59.188Z"
   },
   {
    "duration": 10,
    "start_time": "2022-03-14T18:08:59.246Z"
   },
   {
    "duration": 4,
    "start_time": "2022-03-14T18:08:59.258Z"
   },
   {
    "duration": 23,
    "start_time": "2022-03-14T18:08:59.264Z"
   },
   {
    "duration": 272,
    "start_time": "2022-03-14T18:08:59.289Z"
   },
   {
    "duration": 9,
    "start_time": "2022-03-14T18:08:59.562Z"
   },
   {
    "duration": 61,
    "start_time": "2022-03-14T18:08:59.573Z"
   },
   {
    "duration": 21,
    "start_time": "2022-03-14T18:08:59.636Z"
   },
   {
    "duration": 8,
    "start_time": "2022-03-14T18:08:59.659Z"
   },
   {
    "duration": 311,
    "start_time": "2022-03-14T18:08:59.669Z"
   },
   {
    "duration": 500,
    "start_time": "2022-03-14T18:08:59.982Z"
   },
   {
    "duration": 13,
    "start_time": "2022-03-14T18:09:00.484Z"
   },
   {
    "duration": 398,
    "start_time": "2022-03-14T18:09:00.502Z"
   },
   {
    "duration": 12,
    "start_time": "2022-03-14T18:09:00.902Z"
   },
   {
    "duration": 387,
    "start_time": "2022-03-14T18:09:00.932Z"
   },
   {
    "duration": 18,
    "start_time": "2022-03-14T18:09:01.320Z"
   },
   {
    "duration": 8,
    "start_time": "2022-03-14T18:09:01.340Z"
   },
   {
    "duration": 31,
    "start_time": "2022-03-14T18:09:01.350Z"
   },
   {
    "duration": 405,
    "start_time": "2022-03-14T18:09:01.383Z"
   },
   {
    "duration": 1126,
    "start_time": "2022-03-14T18:10:28.234Z"
   },
   {
    "duration": 396,
    "start_time": "2022-03-14T18:10:29.361Z"
   },
   {
    "duration": 10,
    "start_time": "2022-03-14T18:10:29.759Z"
   },
   {
    "duration": 21,
    "start_time": "2022-03-14T18:10:29.771Z"
   },
   {
    "duration": 45,
    "start_time": "2022-03-14T18:10:29.793Z"
   },
   {
    "duration": 15,
    "start_time": "2022-03-14T18:10:29.840Z"
   },
   {
    "duration": 6,
    "start_time": "2022-03-14T18:10:29.857Z"
   },
   {
    "duration": 70,
    "start_time": "2022-03-14T18:10:29.865Z"
   },
   {
    "duration": 8,
    "start_time": "2022-03-14T18:10:29.937Z"
   },
   {
    "duration": 7,
    "start_time": "2022-03-14T18:10:29.947Z"
   },
   {
    "duration": 9,
    "start_time": "2022-03-14T18:10:29.955Z"
   },
   {
    "duration": 12,
    "start_time": "2022-03-14T18:10:29.966Z"
   },
   {
    "duration": 58,
    "start_time": "2022-03-14T18:10:29.979Z"
   },
   {
    "duration": 42,
    "start_time": "2022-03-14T18:10:30.039Z"
   },
   {
    "duration": 2707,
    "start_time": "2022-03-14T18:10:30.083Z"
   },
   {
    "duration": 16,
    "start_time": "2022-03-14T18:10:32.792Z"
   },
   {
    "duration": 38,
    "start_time": "2022-03-14T18:10:32.809Z"
   },
   {
    "duration": 13,
    "start_time": "2022-03-14T18:10:32.848Z"
   },
   {
    "duration": 19,
    "start_time": "2022-03-14T18:10:32.863Z"
   },
   {
    "duration": 11,
    "start_time": "2022-03-14T18:10:32.883Z"
   },
   {
    "duration": 37,
    "start_time": "2022-03-14T18:10:32.896Z"
   },
   {
    "duration": 17,
    "start_time": "2022-03-14T18:10:32.935Z"
   },
   {
    "duration": 7,
    "start_time": "2022-03-14T18:10:32.957Z"
   },
   {
    "duration": 67,
    "start_time": "2022-03-14T18:10:32.967Z"
   },
   {
    "duration": 37,
    "start_time": "2022-03-14T18:10:33.037Z"
   },
   {
    "duration": 100,
    "start_time": "2022-03-14T18:10:33.076Z"
   },
   {
    "duration": 5,
    "start_time": "2022-03-14T18:10:33.178Z"
   },
   {
    "duration": 109,
    "start_time": "2022-03-14T18:10:33.185Z"
   },
   {
    "duration": 8,
    "start_time": "2022-03-14T18:10:33.296Z"
   },
   {
    "duration": 10,
    "start_time": "2022-03-14T18:10:33.306Z"
   },
   {
    "duration": 18,
    "start_time": "2022-03-14T18:10:33.318Z"
   },
   {
    "duration": 7,
    "start_time": "2022-03-14T18:10:33.338Z"
   },
   {
    "duration": 5,
    "start_time": "2022-03-14T18:10:33.346Z"
   },
   {
    "duration": 5,
    "start_time": "2022-03-14T18:10:33.352Z"
   },
   {
    "duration": 80,
    "start_time": "2022-03-14T18:10:33.358Z"
   },
   {
    "duration": 32,
    "start_time": "2022-03-14T18:10:33.439Z"
   },
   {
    "duration": 25,
    "start_time": "2022-03-14T18:10:33.472Z"
   },
   {
    "duration": 5,
    "start_time": "2022-03-14T18:10:33.499Z"
   },
   {
    "duration": 35,
    "start_time": "2022-03-14T18:10:33.505Z"
   },
   {
    "duration": 179,
    "start_time": "2022-03-14T18:10:33.542Z"
   },
   {
    "duration": 18,
    "start_time": "2022-03-14T18:10:33.723Z"
   },
   {
    "duration": 10,
    "start_time": "2022-03-14T18:10:33.743Z"
   },
   {
    "duration": 10,
    "start_time": "2022-03-14T18:10:33.754Z"
   },
   {
    "duration": 7,
    "start_time": "2022-03-14T18:10:33.766Z"
   },
   {
    "duration": 6,
    "start_time": "2022-03-14T18:10:33.774Z"
   },
   {
    "duration": 16,
    "start_time": "2022-03-14T18:10:33.782Z"
   },
   {
    "duration": 35,
    "start_time": "2022-03-14T18:10:33.800Z"
   },
   {
    "duration": 8,
    "start_time": "2022-03-14T18:10:33.837Z"
   },
   {
    "duration": 8,
    "start_time": "2022-03-14T18:10:33.847Z"
   },
   {
    "duration": 14,
    "start_time": "2022-03-14T18:10:33.857Z"
   },
   {
    "duration": 9,
    "start_time": "2022-03-14T18:10:33.873Z"
   },
   {
    "duration": 49,
    "start_time": "2022-03-14T18:10:33.884Z"
   },
   {
    "duration": 9,
    "start_time": "2022-03-14T18:10:33.935Z"
   },
   {
    "duration": 8,
    "start_time": "2022-03-14T18:10:33.946Z"
   },
   {
    "duration": 16,
    "start_time": "2022-03-14T18:10:33.955Z"
   },
   {
    "duration": 10,
    "start_time": "2022-03-14T18:10:33.973Z"
   },
   {
    "duration": 3,
    "start_time": "2022-03-14T18:10:33.985Z"
   },
   {
    "duration": 57,
    "start_time": "2022-03-14T18:10:33.990Z"
   },
   {
    "duration": 218,
    "start_time": "2022-03-14T18:10:34.049Z"
   },
   {
    "duration": 9,
    "start_time": "2022-03-14T18:10:34.269Z"
   },
   {
    "duration": 6,
    "start_time": "2022-03-14T18:10:34.280Z"
   },
   {
    "duration": 23,
    "start_time": "2022-03-14T18:10:34.287Z"
   },
   {
    "duration": 9,
    "start_time": "2022-03-14T18:10:34.333Z"
   },
   {
    "duration": 159,
    "start_time": "2022-03-14T18:10:34.344Z"
   },
   {
    "duration": 454,
    "start_time": "2022-03-14T18:10:34.505Z"
   },
   {
    "duration": 16,
    "start_time": "2022-03-14T18:10:34.961Z"
   },
   {
    "duration": 411,
    "start_time": "2022-03-14T18:10:34.978Z"
   },
   {
    "duration": 12,
    "start_time": "2022-03-14T18:10:35.394Z"
   },
   {
    "duration": 408,
    "start_time": "2022-03-14T18:10:35.408Z"
   },
   {
    "duration": 22,
    "start_time": "2022-03-14T18:10:35.817Z"
   },
   {
    "duration": 7,
    "start_time": "2022-03-14T18:10:35.841Z"
   },
   {
    "duration": 14,
    "start_time": "2022-03-14T18:10:35.850Z"
   },
   {
    "duration": 430,
    "start_time": "2022-03-14T18:10:35.866Z"
   },
   {
    "duration": 8,
    "start_time": "2022-03-14T18:13:41.821Z"
   },
   {
    "duration": 4,
    "start_time": "2022-03-14T18:19:37.659Z"
   },
   {
    "duration": 12,
    "start_time": "2022-03-14T18:20:13.766Z"
   },
   {
    "duration": 9,
    "start_time": "2022-03-14T18:20:27.305Z"
   },
   {
    "duration": 13,
    "start_time": "2022-03-14T18:20:31.017Z"
   },
   {
    "duration": 9,
    "start_time": "2022-03-14T18:22:18.192Z"
   },
   {
    "duration": 9,
    "start_time": "2022-03-14T18:23:02.398Z"
   },
   {
    "duration": 9,
    "start_time": "2022-03-14T18:24:30.208Z"
   },
   {
    "duration": 8,
    "start_time": "2022-03-14T18:25:20.623Z"
   },
   {
    "duration": 8,
    "start_time": "2022-03-14T18:31:41.797Z"
   },
   {
    "duration": 8,
    "start_time": "2022-03-14T18:32:19.059Z"
   },
   {
    "duration": 9,
    "start_time": "2022-03-14T18:33:28.880Z"
   },
   {
    "duration": 9,
    "start_time": "2022-03-14T18:33:33.975Z"
   },
   {
    "duration": 1051,
    "start_time": "2022-03-14T18:36:09.497Z"
   },
   {
    "duration": 373,
    "start_time": "2022-03-14T18:36:10.550Z"
   },
   {
    "duration": 10,
    "start_time": "2022-03-14T18:36:10.927Z"
   },
   {
    "duration": 21,
    "start_time": "2022-03-14T18:36:10.939Z"
   },
   {
    "duration": 7,
    "start_time": "2022-03-14T18:36:10.962Z"
   },
   {
    "duration": 17,
    "start_time": "2022-03-14T18:36:10.971Z"
   },
   {
    "duration": 7,
    "start_time": "2022-03-14T18:36:10.990Z"
   },
   {
    "duration": 43,
    "start_time": "2022-03-14T18:36:10.999Z"
   },
   {
    "duration": 13,
    "start_time": "2022-03-14T18:36:11.044Z"
   },
   {
    "duration": 6,
    "start_time": "2022-03-14T18:36:11.058Z"
   },
   {
    "duration": 8,
    "start_time": "2022-03-14T18:36:11.066Z"
   },
   {
    "duration": 12,
    "start_time": "2022-03-14T18:36:11.075Z"
   },
   {
    "duration": 7,
    "start_time": "2022-03-14T18:36:11.088Z"
   },
   {
    "duration": 60,
    "start_time": "2022-03-14T18:36:11.097Z"
   },
   {
    "duration": 2550,
    "start_time": "2022-03-14T18:36:11.158Z"
   },
   {
    "duration": 24,
    "start_time": "2022-03-14T18:36:13.709Z"
   },
   {
    "duration": 26,
    "start_time": "2022-03-14T18:36:13.734Z"
   },
   {
    "duration": 18,
    "start_time": "2022-03-14T18:36:13.762Z"
   },
   {
    "duration": 25,
    "start_time": "2022-03-14T18:36:13.782Z"
   },
   {
    "duration": 37,
    "start_time": "2022-03-14T18:36:13.809Z"
   },
   {
    "duration": 8,
    "start_time": "2022-03-14T18:36:13.848Z"
   },
   {
    "duration": 9,
    "start_time": "2022-03-14T18:36:13.861Z"
   },
   {
    "duration": 7,
    "start_time": "2022-03-14T18:36:13.874Z"
   },
   {
    "duration": 84,
    "start_time": "2022-03-14T18:36:13.883Z"
   },
   {
    "duration": 36,
    "start_time": "2022-03-14T18:36:13.968Z"
   },
   {
    "duration": 93,
    "start_time": "2022-03-14T18:36:14.005Z"
   },
   {
    "duration": 6,
    "start_time": "2022-03-14T18:36:14.100Z"
   },
   {
    "duration": 109,
    "start_time": "2022-03-14T18:36:14.107Z"
   },
   {
    "duration": 9,
    "start_time": "2022-03-14T18:36:14.218Z"
   },
   {
    "duration": 9,
    "start_time": "2022-03-14T18:36:14.232Z"
   },
   {
    "duration": 12,
    "start_time": "2022-03-14T18:36:14.242Z"
   },
   {
    "duration": 10,
    "start_time": "2022-03-14T18:36:14.255Z"
   },
   {
    "duration": 6,
    "start_time": "2022-03-14T18:36:14.266Z"
   },
   {
    "duration": 6,
    "start_time": "2022-03-14T18:36:14.273Z"
   },
   {
    "duration": 78,
    "start_time": "2022-03-14T18:36:14.280Z"
   },
   {
    "duration": 31,
    "start_time": "2022-03-14T18:36:14.360Z"
   },
   {
    "duration": 42,
    "start_time": "2022-03-14T18:36:14.392Z"
   },
   {
    "duration": 4,
    "start_time": "2022-03-14T18:36:14.436Z"
   },
   {
    "duration": 14,
    "start_time": "2022-03-14T18:36:14.442Z"
   },
   {
    "duration": 175,
    "start_time": "2022-03-14T18:36:14.458Z"
   },
   {
    "duration": 9,
    "start_time": "2022-03-14T18:36:14.635Z"
   },
   {
    "duration": 9,
    "start_time": "2022-03-14T18:36:14.646Z"
   },
   {
    "duration": 11,
    "start_time": "2022-03-14T18:36:14.657Z"
   },
   {
    "duration": 6,
    "start_time": "2022-03-14T18:36:14.669Z"
   },
   {
    "duration": 3,
    "start_time": "2022-03-14T18:36:14.677Z"
   },
   {
    "duration": 10,
    "start_time": "2022-03-14T18:36:14.682Z"
   },
   {
    "duration": 40,
    "start_time": "2022-03-14T18:36:14.693Z"
   },
   {
    "duration": 12,
    "start_time": "2022-03-14T18:36:14.735Z"
   },
   {
    "duration": 11,
    "start_time": "2022-03-14T18:36:14.749Z"
   },
   {
    "duration": 16,
    "start_time": "2022-03-14T18:36:14.762Z"
   },
   {
    "duration": 7,
    "start_time": "2022-03-14T18:36:14.780Z"
   },
   {
    "duration": 5,
    "start_time": "2022-03-14T18:36:14.788Z"
   },
   {
    "duration": 10,
    "start_time": "2022-03-14T18:36:14.794Z"
   },
   {
    "duration": 27,
    "start_time": "2022-03-14T18:36:14.806Z"
   },
   {
    "duration": 15,
    "start_time": "2022-03-14T18:36:14.835Z"
   },
   {
    "duration": 9,
    "start_time": "2022-03-14T18:36:14.852Z"
   },
   {
    "duration": 3,
    "start_time": "2022-03-14T18:36:14.863Z"
   },
   {
    "duration": 22,
    "start_time": "2022-03-14T18:36:14.868Z"
   },
   {
    "duration": 246,
    "start_time": "2022-03-14T18:36:14.891Z"
   },
   {
    "duration": 9,
    "start_time": "2022-03-14T18:36:15.139Z"
   },
   {
    "duration": 4,
    "start_time": "2022-03-14T18:36:15.149Z"
   },
   {
    "duration": 23,
    "start_time": "2022-03-14T18:36:15.155Z"
   },
   {
    "duration": 8,
    "start_time": "2022-03-14T18:36:15.180Z"
   },
   {
    "duration": 172,
    "start_time": "2022-03-14T18:36:15.190Z"
   },
   {
    "duration": 456,
    "start_time": "2022-03-14T18:36:15.363Z"
   },
   {
    "duration": 19,
    "start_time": "2022-03-14T18:36:15.820Z"
   },
   {
    "duration": 391,
    "start_time": "2022-03-14T18:36:15.842Z"
   },
   {
    "duration": 12,
    "start_time": "2022-03-14T18:36:16.235Z"
   },
   {
    "duration": 394,
    "start_time": "2022-03-14T18:36:16.248Z"
   },
   {
    "duration": 12,
    "start_time": "2022-03-14T18:36:16.643Z"
   },
   {
    "duration": 7,
    "start_time": "2022-03-14T18:36:16.657Z"
   },
   {
    "duration": 7,
    "start_time": "2022-03-14T18:36:16.666Z"
   },
   {
    "duration": 8,
    "start_time": "2022-03-14T18:36:16.675Z"
   },
   {
    "duration": 10,
    "start_time": "2022-03-14T18:36:16.684Z"
   },
   {
    "duration": 1824,
    "start_time": "2022-03-24T21:26:13.974Z"
   },
   {
    "duration": 486,
    "start_time": "2022-03-24T21:26:15.801Z"
   },
   {
    "duration": 18,
    "start_time": "2022-03-24T21:26:16.289Z"
   },
   {
    "duration": 35,
    "start_time": "2022-03-24T21:26:16.310Z"
   },
   {
    "duration": 29,
    "start_time": "2022-03-24T21:26:16.347Z"
   },
   {
    "duration": 48,
    "start_time": "2022-03-24T21:26:16.379Z"
   },
   {
    "duration": 14,
    "start_time": "2022-03-24T21:26:16.430Z"
   },
   {
    "duration": 44,
    "start_time": "2022-03-24T21:26:16.475Z"
   },
   {
    "duration": 17,
    "start_time": "2022-03-24T21:26:16.522Z"
   },
   {
    "duration": 6,
    "start_time": "2022-03-24T21:26:16.573Z"
   },
   {
    "duration": 18,
    "start_time": "2022-03-24T21:26:16.582Z"
   },
   {
    "duration": 16,
    "start_time": "2022-03-24T21:26:16.602Z"
   },
   {
    "duration": 54,
    "start_time": "2022-03-24T21:26:16.621Z"
   },
   {
    "duration": 53,
    "start_time": "2022-03-24T21:26:16.678Z"
   },
   {
    "duration": 3066,
    "start_time": "2022-03-24T21:26:16.733Z"
   },
   {
    "duration": 27,
    "start_time": "2022-03-24T21:26:19.801Z"
   },
   {
    "duration": 53,
    "start_time": "2022-03-24T21:26:19.830Z"
   },
   {
    "duration": 23,
    "start_time": "2022-03-24T21:26:19.886Z"
   },
   {
    "duration": 28,
    "start_time": "2022-03-24T21:26:19.911Z"
   },
   {
    "duration": 45,
    "start_time": "2022-03-24T21:26:19.942Z"
   },
   {
    "duration": 7,
    "start_time": "2022-03-24T21:26:19.989Z"
   },
   {
    "duration": 17,
    "start_time": "2022-03-24T21:26:19.998Z"
   },
   {
    "duration": 13,
    "start_time": "2022-03-24T21:26:20.017Z"
   },
   {
    "duration": 132,
    "start_time": "2022-03-24T21:26:20.032Z"
   },
   {
    "duration": 56,
    "start_time": "2022-03-24T21:26:20.166Z"
   },
   {
    "duration": 139,
    "start_time": "2022-03-24T21:26:20.224Z"
   },
   {
    "duration": 13,
    "start_time": "2022-03-24T21:26:20.365Z"
   },
   {
    "duration": 157,
    "start_time": "2022-03-24T21:26:20.384Z"
   },
   {
    "duration": 12,
    "start_time": "2022-03-24T21:26:20.543Z"
   },
   {
    "duration": 25,
    "start_time": "2022-03-24T21:26:20.558Z"
   },
   {
    "duration": 17,
    "start_time": "2022-03-24T21:26:20.586Z"
   },
   {
    "duration": 8,
    "start_time": "2022-03-24T21:26:20.606Z"
   },
   {
    "duration": 6,
    "start_time": "2022-03-24T21:26:20.616Z"
   },
   {
    "duration": 11,
    "start_time": "2022-03-24T21:26:20.624Z"
   },
   {
    "duration": 113,
    "start_time": "2022-03-24T21:26:20.637Z"
   },
   {
    "duration": 53,
    "start_time": "2022-03-24T21:26:20.752Z"
   },
   {
    "duration": 41,
    "start_time": "2022-03-24T21:26:20.807Z"
   },
   {
    "duration": 24,
    "start_time": "2022-03-24T21:26:20.851Z"
   },
   {
    "duration": 23,
    "start_time": "2022-03-24T21:26:20.877Z"
   },
   {
    "duration": 80,
    "start_time": "2022-03-24T21:26:20.903Z"
   },
   {
    "duration": 13,
    "start_time": "2022-03-24T21:26:20.985Z"
   },
   {
    "duration": 14,
    "start_time": "2022-03-24T21:26:21.000Z"
   },
   {
    "duration": 24,
    "start_time": "2022-03-24T21:26:21.016Z"
   },
   {
    "duration": 45,
    "start_time": "2022-03-24T21:26:21.043Z"
   },
   {
    "duration": 10,
    "start_time": "2022-03-24T21:26:21.091Z"
   },
   {
    "duration": 19,
    "start_time": "2022-03-24T21:26:21.103Z"
   },
   {
    "duration": 7,
    "start_time": "2022-03-24T21:26:21.125Z"
   },
   {
    "duration": 53,
    "start_time": "2022-03-24T21:26:21.134Z"
   },
   {
    "duration": 13,
    "start_time": "2022-03-24T21:26:21.190Z"
   },
   {
    "duration": 22,
    "start_time": "2022-03-24T21:26:21.205Z"
   },
   {
    "duration": 53,
    "start_time": "2022-03-24T21:26:21.230Z"
   },
   {
    "duration": 7,
    "start_time": "2022-03-24T21:26:21.285Z"
   },
   {
    "duration": 18,
    "start_time": "2022-03-24T21:26:21.294Z"
   },
   {
    "duration": 10,
    "start_time": "2022-03-24T21:26:21.315Z"
   },
   {
    "duration": 66,
    "start_time": "2022-03-24T21:26:21.327Z"
   },
   {
    "duration": 20,
    "start_time": "2022-03-24T21:26:21.395Z"
   },
   {
    "duration": 5,
    "start_time": "2022-03-24T21:26:21.417Z"
   },
   {
    "duration": 56,
    "start_time": "2022-03-24T21:26:21.424Z"
   },
   {
    "duration": 265,
    "start_time": "2022-03-24T21:26:21.482Z"
   },
   {
    "duration": 28,
    "start_time": "2022-03-24T21:26:21.749Z"
   },
   {
    "duration": 8,
    "start_time": "2022-03-24T21:26:21.780Z"
   },
   {
    "duration": 34,
    "start_time": "2022-03-24T21:26:21.790Z"
   },
   {
    "duration": 47,
    "start_time": "2022-03-24T21:26:21.827Z"
   },
   {
    "duration": 224,
    "start_time": "2022-03-24T21:26:21.876Z"
   },
   {
    "duration": 548,
    "start_time": "2022-03-24T21:26:22.102Z"
   },
   {
    "duration": 30,
    "start_time": "2022-03-24T21:26:22.653Z"
   },
   {
    "duration": 575,
    "start_time": "2022-03-24T21:26:22.686Z"
   },
   {
    "duration": 24,
    "start_time": "2022-03-24T21:26:23.264Z"
   },
   {
    "duration": 575,
    "start_time": "2022-03-24T21:26:23.290Z"
   },
   {
    "duration": 23,
    "start_time": "2022-03-24T21:26:23.867Z"
   },
   {
    "duration": 12,
    "start_time": "2022-03-24T21:26:23.893Z"
   },
   {
    "duration": 17,
    "start_time": "2022-03-24T21:26:23.908Z"
   },
   {
    "duration": 51,
    "start_time": "2022-03-24T21:26:23.928Z"
   },
   {
    "duration": 11,
    "start_time": "2022-03-24T21:26:23.981Z"
   },
   {
    "duration": 3675,
    "start_time": "2022-03-24T21:34:04.280Z"
   },
   {
    "duration": 92,
    "start_time": "2022-03-24T21:35:01.909Z"
   },
   {
    "duration": 1543,
    "start_time": "2022-03-24T21:48:52.697Z"
   },
   {
    "duration": 486,
    "start_time": "2022-03-24T21:48:54.242Z"
   },
   {
    "duration": 16,
    "start_time": "2022-03-24T21:48:54.730Z"
   },
   {
    "duration": 35,
    "start_time": "2022-03-24T21:48:54.750Z"
   },
   {
    "duration": 13,
    "start_time": "2022-03-24T21:48:54.788Z"
   },
   {
    "duration": 31,
    "start_time": "2022-03-24T21:48:54.803Z"
   },
   {
    "duration": 44,
    "start_time": "2022-03-24T21:48:54.837Z"
   },
   {
    "duration": 26,
    "start_time": "2022-03-24T21:48:54.884Z"
   },
   {
    "duration": 11,
    "start_time": "2022-03-24T21:48:54.912Z"
   },
   {
    "duration": 6,
    "start_time": "2022-03-24T21:48:54.927Z"
   },
   {
    "duration": 52,
    "start_time": "2022-03-24T21:48:54.934Z"
   },
   {
    "duration": 13,
    "start_time": "2022-03-24T21:48:54.989Z"
   },
   {
    "duration": 17,
    "start_time": "2022-03-24T21:48:55.004Z"
   },
   {
    "duration": 87,
    "start_time": "2022-03-24T21:48:55.023Z"
   },
   {
    "duration": 2970,
    "start_time": "2022-03-24T21:48:55.113Z"
   },
   {
    "duration": 25,
    "start_time": "2022-03-24T21:48:58.085Z"
   },
   {
    "duration": 61,
    "start_time": "2022-03-24T21:48:58.112Z"
   },
   {
    "duration": 22,
    "start_time": "2022-03-24T21:48:58.175Z"
   },
   {
    "duration": 27,
    "start_time": "2022-03-24T21:48:58.199Z"
   },
   {
    "duration": 49,
    "start_time": "2022-03-24T21:48:58.228Z"
   },
   {
    "duration": 8,
    "start_time": "2022-03-24T21:48:58.279Z"
   },
   {
    "duration": 18,
    "start_time": "2022-03-24T21:48:58.288Z"
   },
   {
    "duration": 10,
    "start_time": "2022-03-24T21:48:58.308Z"
   },
   {
    "duration": 125,
    "start_time": "2022-03-24T21:48:58.320Z"
   },
   {
    "duration": 68,
    "start_time": "2022-03-24T21:48:58.448Z"
   },
   {
    "duration": 121,
    "start_time": "2022-03-24T21:48:58.519Z"
   },
   {
    "duration": 8,
    "start_time": "2022-03-24T21:48:58.642Z"
   },
   {
    "duration": 155,
    "start_time": "2022-03-24T21:48:58.656Z"
   },
   {
    "duration": 13,
    "start_time": "2022-03-24T21:48:58.813Z"
   },
   {
    "duration": 13,
    "start_time": "2022-03-24T21:48:58.828Z"
   },
   {
    "duration": 39,
    "start_time": "2022-03-24T21:48:58.843Z"
   },
   {
    "duration": 7,
    "start_time": "2022-03-24T21:48:58.884Z"
   },
   {
    "duration": 6,
    "start_time": "2022-03-24T21:48:58.894Z"
   },
   {
    "duration": 6,
    "start_time": "2022-03-24T21:48:58.903Z"
   },
   {
    "duration": 117,
    "start_time": "2022-03-24T21:48:58.911Z"
   },
   {
    "duration": 48,
    "start_time": "2022-03-24T21:48:59.030Z"
   },
   {
    "duration": 40,
    "start_time": "2022-03-24T21:48:59.080Z"
   },
   {
    "duration": 5,
    "start_time": "2022-03-24T21:48:59.123Z"
   },
   {
    "duration": 51,
    "start_time": "2022-03-24T21:48:59.131Z"
   },
   {
    "duration": 57,
    "start_time": "2022-03-24T21:48:59.185Z"
   },
   {
    "duration": 35,
    "start_time": "2022-03-24T21:48:59.245Z"
   },
   {
    "duration": 16,
    "start_time": "2022-03-24T21:48:59.282Z"
   },
   {
    "duration": 17,
    "start_time": "2022-03-24T21:48:59.300Z"
   },
   {
    "duration": 58,
    "start_time": "2022-03-24T21:48:59.320Z"
   },
   {
    "duration": 16,
    "start_time": "2022-03-24T21:48:59.380Z"
   },
   {
    "duration": 27,
    "start_time": "2022-03-24T21:48:59.399Z"
   },
   {
    "duration": 8,
    "start_time": "2022-03-24T21:48:59.428Z"
   },
   {
    "duration": 40,
    "start_time": "2022-03-24T21:48:59.439Z"
   },
   {
    "duration": 11,
    "start_time": "2022-03-24T21:48:59.481Z"
   },
   {
    "duration": 22,
    "start_time": "2022-03-24T21:48:59.494Z"
   },
   {
    "duration": 21,
    "start_time": "2022-03-24T21:48:59.519Z"
   },
   {
    "duration": 34,
    "start_time": "2022-03-24T21:48:59.543Z"
   },
   {
    "duration": 21,
    "start_time": "2022-03-24T21:48:59.580Z"
   },
   {
    "duration": 10,
    "start_time": "2022-03-24T21:48:59.604Z"
   },
   {
    "duration": 24,
    "start_time": "2022-03-24T21:48:59.616Z"
   },
   {
    "duration": 19,
    "start_time": "2022-03-24T21:48:59.674Z"
   },
   {
    "duration": 5,
    "start_time": "2022-03-24T21:48:59.695Z"
   },
   {
    "duration": 34,
    "start_time": "2022-03-24T21:48:59.702Z"
   },
   {
    "duration": 268,
    "start_time": "2022-03-24T21:48:59.738Z"
   },
   {
    "duration": 18,
    "start_time": "2022-03-24T21:49:00.011Z"
   },
   {
    "duration": 9,
    "start_time": "2022-03-24T21:49:00.032Z"
   },
   {
    "duration": 61,
    "start_time": "2022-03-24T21:49:00.044Z"
   },
   {
    "duration": 18,
    "start_time": "2022-03-24T21:49:00.107Z"
   },
   {
    "duration": 243,
    "start_time": "2022-03-24T21:49:00.129Z"
   },
   {
    "duration": 546,
    "start_time": "2022-03-24T21:49:00.374Z"
   },
   {
    "duration": 21,
    "start_time": "2022-03-24T21:49:00.922Z"
   },
   {
    "duration": 582,
    "start_time": "2022-03-24T21:49:00.945Z"
   },
   {
    "duration": 18,
    "start_time": "2022-03-24T21:49:01.530Z"
   },
   {
    "duration": 545,
    "start_time": "2022-03-24T21:49:01.573Z"
   },
   {
    "duration": 22,
    "start_time": "2022-03-24T21:49:02.121Z"
   },
   {
    "duration": 38,
    "start_time": "2022-03-24T21:49:02.146Z"
   },
   {
    "duration": 34,
    "start_time": "2022-03-24T21:49:02.186Z"
   },
   {
    "duration": 35,
    "start_time": "2022-03-24T21:49:02.223Z"
   },
   {
    "duration": 22,
    "start_time": "2022-03-24T21:49:02.260Z"
   },
   {
    "duration": 1441,
    "start_time": "2022-03-25T08:53:23.872Z"
   },
   {
    "duration": 417,
    "start_time": "2022-03-25T08:53:25.315Z"
   },
   {
    "duration": 15,
    "start_time": "2022-03-25T08:53:25.734Z"
   },
   {
    "duration": 33,
    "start_time": "2022-03-25T08:53:25.751Z"
   },
   {
    "duration": 9,
    "start_time": "2022-03-25T08:53:25.786Z"
   },
   {
    "duration": 22,
    "start_time": "2022-03-25T08:53:25.798Z"
   },
   {
    "duration": 27,
    "start_time": "2022-03-25T08:53:25.822Z"
   },
   {
    "duration": 27,
    "start_time": "2022-03-25T08:53:25.852Z"
   },
   {
    "duration": 8,
    "start_time": "2022-03-25T08:53:25.880Z"
   },
   {
    "duration": 7,
    "start_time": "2022-03-25T08:53:25.890Z"
   },
   {
    "duration": 14,
    "start_time": "2022-03-25T08:53:25.898Z"
   },
   {
    "duration": 32,
    "start_time": "2022-03-25T08:53:25.913Z"
   },
   {
    "duration": 23,
    "start_time": "2022-03-25T08:53:25.946Z"
   },
   {
    "duration": 36,
    "start_time": "2022-03-25T08:53:25.971Z"
   },
   {
    "duration": 1900,
    "start_time": "2022-03-25T08:53:26.009Z"
   },
   {
    "duration": 18,
    "start_time": "2022-03-25T08:53:27.911Z"
   },
   {
    "duration": 29,
    "start_time": "2022-03-25T08:53:27.941Z"
   },
   {
    "duration": 18,
    "start_time": "2022-03-25T08:53:27.971Z"
   },
   {
    "duration": 19,
    "start_time": "2022-03-25T08:53:27.991Z"
   },
   {
    "duration": 41,
    "start_time": "2022-03-25T08:53:28.011Z"
   },
   {
    "duration": 9,
    "start_time": "2022-03-25T08:53:28.054Z"
   },
   {
    "duration": 15,
    "start_time": "2022-03-25T08:53:28.064Z"
   },
   {
    "duration": 8,
    "start_time": "2022-03-25T08:53:28.081Z"
   },
   {
    "duration": 89,
    "start_time": "2022-03-25T08:53:28.091Z"
   },
   {
    "duration": 44,
    "start_time": "2022-03-25T08:53:28.182Z"
   },
   {
    "duration": 100,
    "start_time": "2022-03-25T08:53:28.240Z"
   },
   {
    "duration": 6,
    "start_time": "2022-03-25T08:53:28.342Z"
   },
   {
    "duration": 114,
    "start_time": "2022-03-25T08:53:28.356Z"
   },
   {
    "duration": 9,
    "start_time": "2022-03-25T08:53:28.472Z"
   },
   {
    "duration": 14,
    "start_time": "2022-03-25T08:53:28.482Z"
   },
   {
    "duration": 14,
    "start_time": "2022-03-25T08:53:28.498Z"
   },
   {
    "duration": 27,
    "start_time": "2022-03-25T08:53:28.514Z"
   },
   {
    "duration": 10,
    "start_time": "2022-03-25T08:53:28.543Z"
   },
   {
    "duration": 6,
    "start_time": "2022-03-25T08:53:28.555Z"
   },
   {
    "duration": 55,
    "start_time": "2022-03-25T08:53:28.563Z"
   },
   {
    "duration": 49,
    "start_time": "2022-03-25T08:53:28.620Z"
   },
   {
    "duration": 28,
    "start_time": "2022-03-25T08:53:28.671Z"
   },
   {
    "duration": 3,
    "start_time": "2022-03-25T08:53:28.701Z"
   },
   {
    "duration": 46,
    "start_time": "2022-03-25T08:53:28.706Z"
   },
   {
    "duration": 39,
    "start_time": "2022-03-25T08:53:28.754Z"
   },
   {
    "duration": 9,
    "start_time": "2022-03-25T08:53:28.794Z"
   },
   {
    "duration": 36,
    "start_time": "2022-03-25T08:53:28.805Z"
   },
   {
    "duration": 15,
    "start_time": "2022-03-25T08:53:28.843Z"
   },
   {
    "duration": 12,
    "start_time": "2022-03-25T08:53:28.860Z"
   },
   {
    "duration": 4,
    "start_time": "2022-03-25T08:53:28.874Z"
   },
   {
    "duration": 15,
    "start_time": "2022-03-25T08:53:28.880Z"
   },
   {
    "duration": 6,
    "start_time": "2022-03-25T08:53:28.896Z"
   },
   {
    "duration": 47,
    "start_time": "2022-03-25T08:53:28.904Z"
   },
   {
    "duration": 9,
    "start_time": "2022-03-25T08:53:28.953Z"
   },
   {
    "duration": 16,
    "start_time": "2022-03-25T08:53:28.964Z"
   },
   {
    "duration": 14,
    "start_time": "2022-03-25T08:53:28.982Z"
   },
   {
    "duration": 6,
    "start_time": "2022-03-25T08:53:28.998Z"
   },
   {
    "duration": 16,
    "start_time": "2022-03-25T08:53:29.045Z"
   },
   {
    "duration": 8,
    "start_time": "2022-03-25T08:53:29.062Z"
   },
   {
    "duration": 19,
    "start_time": "2022-03-25T08:53:29.071Z"
   },
   {
    "duration": 15,
    "start_time": "2022-03-25T08:53:29.091Z"
   },
   {
    "duration": 4,
    "start_time": "2022-03-25T08:53:29.108Z"
   },
   {
    "duration": 27,
    "start_time": "2022-03-25T08:53:29.140Z"
   },
   {
    "duration": 180,
    "start_time": "2022-03-25T08:53:29.169Z"
   },
   {
    "duration": 14,
    "start_time": "2022-03-25T08:53:29.351Z"
   },
   {
    "duration": 6,
    "start_time": "2022-03-25T08:53:29.366Z"
   },
   {
    "duration": 27,
    "start_time": "2022-03-25T08:53:29.374Z"
   },
   {
    "duration": 12,
    "start_time": "2022-03-25T08:53:29.402Z"
   },
   {
    "duration": 145,
    "start_time": "2022-03-25T08:53:29.444Z"
   },
   {
    "duration": 427,
    "start_time": "2022-03-25T08:53:29.591Z"
   },
   {
    "duration": 15,
    "start_time": "2022-03-25T08:54:07.781Z"
   },
   {
    "duration": 396,
    "start_time": "2022-03-25T08:54:07.798Z"
   },
   {
    "duration": 14,
    "start_time": "2022-03-25T08:54:08.196Z"
   },
   {
    "duration": 387,
    "start_time": "2022-03-25T08:54:08.212Z"
   },
   {
    "duration": 13,
    "start_time": "2022-03-25T08:54:08.601Z"
   },
   {
    "duration": 41,
    "start_time": "2022-03-25T08:54:08.616Z"
   },
   {
    "duration": 33,
    "start_time": "2022-03-25T08:54:08.659Z"
   },
   {
    "duration": 29,
    "start_time": "2022-03-25T08:54:08.694Z"
   },
   {
    "duration": 35,
    "start_time": "2022-03-25T08:54:08.725Z"
   },
   {
    "duration": 0,
    "start_time": "2022-03-25T08:54:47.986Z"
   },
   {
    "duration": 39123,
    "start_time": "2022-03-25T08:55:10.579Z"
   },
   {
    "duration": 38634,
    "start_time": "2022-03-25T08:57:42.801Z"
   },
   {
    "duration": 162,
    "start_time": "2022-03-25T08:58:48.478Z"
   },
   {
    "duration": 207,
    "start_time": "2022-03-25T09:09:16.869Z"
   },
   {
    "duration": 193,
    "start_time": "2022-03-25T09:09:57.463Z"
   },
   {
    "duration": 15,
    "start_time": "2022-03-25T09:12:33.383Z"
   },
   {
    "duration": 13,
    "start_time": "2022-03-25T09:13:39.021Z"
   },
   {
    "duration": 1398,
    "start_time": "2022-03-25T09:13:46.318Z"
   },
   {
    "duration": 2906,
    "start_time": "2022-03-25T09:14:17.888Z"
   },
   {
    "duration": 136,
    "start_time": "2022-03-25T09:14:26.965Z"
   },
   {
    "duration": 132,
    "start_time": "2022-03-25T09:16:02.283Z"
   },
   {
    "duration": 139,
    "start_time": "2022-03-25T09:17:15.158Z"
   },
   {
    "duration": 182,
    "start_time": "2022-03-25T09:18:42.273Z"
   },
   {
    "duration": 151,
    "start_time": "2022-03-25T09:22:45.081Z"
   },
   {
    "duration": 183,
    "start_time": "2022-03-25T09:22:59.731Z"
   },
   {
    "duration": 151,
    "start_time": "2022-03-25T09:25:49.570Z"
   },
   {
    "duration": 464,
    "start_time": "2022-03-25T09:26:10.173Z"
   },
   {
    "duration": 475,
    "start_time": "2022-03-25T09:26:26.666Z"
   },
   {
    "duration": 355,
    "start_time": "2022-03-25T09:26:33.864Z"
   },
   {
    "duration": 218,
    "start_time": "2022-03-25T09:26:39.236Z"
   },
   {
    "duration": 137,
    "start_time": "2022-03-25T09:30:53.925Z"
   },
   {
    "duration": 988,
    "start_time": "2022-03-25T09:31:30.388Z"
   },
   {
    "duration": 183,
    "start_time": "2022-03-25T09:32:49.085Z"
   },
   {
    "duration": 189,
    "start_time": "2022-03-25T09:33:07.995Z"
   },
   {
    "duration": 216,
    "start_time": "2022-03-25T09:36:40.553Z"
   },
   {
    "duration": 15,
    "start_time": "2022-03-25T11:36:49.564Z"
   },
   {
    "duration": 16,
    "start_time": "2022-03-25T11:37:14.680Z"
   },
   {
    "duration": 10,
    "start_time": "2022-03-25T11:37:40.626Z"
   },
   {
    "duration": 141,
    "start_time": "2022-03-25T11:37:50.132Z"
   },
   {
    "duration": 288,
    "start_time": "2022-03-25T11:39:05.158Z"
   },
   {
    "duration": 303,
    "start_time": "2022-03-25T11:43:29.283Z"
   },
   {
    "duration": 296,
    "start_time": "2022-03-25T11:44:16.635Z"
   },
   {
    "duration": 1265,
    "start_time": "2022-03-25T12:13:27.545Z"
   },
   {
    "duration": 784,
    "start_time": "2022-03-25T12:13:28.812Z"
   },
   {
    "duration": 13,
    "start_time": "2022-03-25T12:13:29.599Z"
   },
   {
    "duration": 30,
    "start_time": "2022-03-25T12:13:29.614Z"
   },
   {
    "duration": 10,
    "start_time": "2022-03-25T12:13:29.646Z"
   },
   {
    "duration": 24,
    "start_time": "2022-03-25T12:13:29.658Z"
   },
   {
    "duration": 7,
    "start_time": "2022-03-25T12:13:29.684Z"
   },
   {
    "duration": 62,
    "start_time": "2022-03-25T12:13:29.693Z"
   },
   {
    "duration": 12,
    "start_time": "2022-03-25T12:13:29.757Z"
   },
   {
    "duration": 9,
    "start_time": "2022-03-25T12:13:29.772Z"
   },
   {
    "duration": 23,
    "start_time": "2022-03-25T12:13:29.783Z"
   },
   {
    "duration": 40,
    "start_time": "2022-03-25T12:13:29.808Z"
   },
   {
    "duration": 18,
    "start_time": "2022-03-25T12:13:29.851Z"
   },
   {
    "duration": 47,
    "start_time": "2022-03-25T12:13:29.871Z"
   },
   {
    "duration": 1866,
    "start_time": "2022-03-25T12:13:29.920Z"
   },
   {
    "duration": 20,
    "start_time": "2022-03-25T12:13:31.788Z"
   },
   {
    "duration": 41,
    "start_time": "2022-03-25T12:13:31.810Z"
   },
   {
    "duration": 21,
    "start_time": "2022-03-25T12:13:31.853Z"
   },
   {
    "duration": 21,
    "start_time": "2022-03-25T12:13:31.875Z"
   },
   {
    "duration": 40,
    "start_time": "2022-03-25T12:13:31.898Z"
   },
   {
    "duration": 6,
    "start_time": "2022-03-25T12:13:31.940Z"
   },
   {
    "duration": 22,
    "start_time": "2022-03-25T12:13:31.949Z"
   },
   {
    "duration": 17,
    "start_time": "2022-03-25T12:13:31.973Z"
   },
   {
    "duration": 77,
    "start_time": "2022-03-25T12:13:31.992Z"
   },
   {
    "duration": 45,
    "start_time": "2022-03-25T12:13:32.071Z"
   },
   {
    "duration": 106,
    "start_time": "2022-03-25T12:13:32.137Z"
   },
   {
    "duration": 6,
    "start_time": "2022-03-25T12:13:32.245Z"
   },
   {
    "duration": 122,
    "start_time": "2022-03-25T12:13:32.254Z"
   },
   {
    "duration": 9,
    "start_time": "2022-03-25T12:13:32.378Z"
   },
   {
    "duration": 11,
    "start_time": "2022-03-25T12:13:32.388Z"
   },
   {
    "duration": 12,
    "start_time": "2022-03-25T12:13:32.401Z"
   },
   {
    "duration": 28,
    "start_time": "2022-03-25T12:13:32.414Z"
   },
   {
    "duration": 9,
    "start_time": "2022-03-25T12:13:32.444Z"
   },
   {
    "duration": 5,
    "start_time": "2022-03-25T12:13:32.455Z"
   },
   {
    "duration": 90,
    "start_time": "2022-03-25T12:13:32.463Z"
   },
   {
    "duration": 33,
    "start_time": "2022-03-25T12:13:32.555Z"
   },
   {
    "duration": 49,
    "start_time": "2022-03-25T12:13:32.590Z"
   },
   {
    "duration": 5,
    "start_time": "2022-03-25T12:13:32.641Z"
   },
   {
    "duration": 29,
    "start_time": "2022-03-25T12:13:32.647Z"
   },
   {
    "duration": 43,
    "start_time": "2022-03-25T12:13:32.678Z"
   },
   {
    "duration": 15,
    "start_time": "2022-03-25T12:13:32.723Z"
   },
   {
    "duration": 10,
    "start_time": "2022-03-25T12:13:32.740Z"
   },
   {
    "duration": 14,
    "start_time": "2022-03-25T12:13:32.752Z"
   },
   {
    "duration": 18,
    "start_time": "2022-03-25T12:13:32.768Z"
   },
   {
    "duration": 15,
    "start_time": "2022-03-25T12:13:32.789Z"
   },
   {
    "duration": 38,
    "start_time": "2022-03-25T12:13:32.806Z"
   },
   {
    "duration": 10,
    "start_time": "2022-03-25T12:13:32.846Z"
   },
   {
    "duration": 13,
    "start_time": "2022-03-25T12:13:32.858Z"
   },
   {
    "duration": 12,
    "start_time": "2022-03-25T12:13:32.873Z"
   },
   {
    "duration": 16,
    "start_time": "2022-03-25T12:13:32.887Z"
   },
   {
    "duration": 34,
    "start_time": "2022-03-25T12:13:32.905Z"
   },
   {
    "duration": 6,
    "start_time": "2022-03-25T12:13:32.942Z"
   },
   {
    "duration": 20,
    "start_time": "2022-03-25T12:13:32.950Z"
   },
   {
    "duration": 10,
    "start_time": "2022-03-25T12:13:32.972Z"
   },
   {
    "duration": 22,
    "start_time": "2022-03-25T12:13:32.984Z"
   },
   {
    "duration": 41,
    "start_time": "2022-03-25T12:13:33.008Z"
   },
   {
    "duration": 6,
    "start_time": "2022-03-25T12:13:33.051Z"
   },
   {
    "duration": 25,
    "start_time": "2022-03-25T12:13:33.058Z"
   },
   {
    "duration": 168,
    "start_time": "2022-03-25T12:13:33.085Z"
   },
   {
    "duration": 13,
    "start_time": "2022-03-25T12:13:33.255Z"
   },
   {
    "duration": 5,
    "start_time": "2022-03-25T12:13:33.270Z"
   },
   {
    "duration": 26,
    "start_time": "2022-03-25T12:13:33.277Z"
   },
   {
    "duration": 13,
    "start_time": "2022-03-25T12:13:33.337Z"
   },
   {
    "duration": 149,
    "start_time": "2022-03-25T12:13:33.351Z"
   },
   {
    "duration": 368,
    "start_time": "2022-03-25T12:13:33.502Z"
   },
   {
    "duration": 302,
    "start_time": "2022-03-25T12:13:33.872Z"
   },
   {
    "duration": 14,
    "start_time": "2022-03-25T12:13:34.176Z"
   },
   {
    "duration": 407,
    "start_time": "2022-03-25T12:13:34.192Z"
   },
   {
    "duration": 323,
    "start_time": "2022-03-25T12:13:34.601Z"
   },
   {
    "duration": 24,
    "start_time": "2022-03-25T12:13:34.926Z"
   },
   {
    "duration": 382,
    "start_time": "2022-03-25T12:13:34.951Z"
   },
   {
    "duration": 392,
    "start_time": "2022-03-25T12:13:35.337Z"
   },
   {
    "duration": 14,
    "start_time": "2022-03-25T12:13:35.737Z"
   },
   {
    "duration": 10,
    "start_time": "2022-03-25T12:13:35.753Z"
   },
   {
    "duration": 8,
    "start_time": "2022-03-25T12:13:35.765Z"
   },
   {
    "duration": 8,
    "start_time": "2022-03-25T12:13:35.775Z"
   },
   {
    "duration": 11,
    "start_time": "2022-03-25T12:13:35.784Z"
   },
   {
    "duration": 259,
    "start_time": "2022-03-25T12:37:00.970Z"
   },
   {
    "duration": 254,
    "start_time": "2022-03-25T12:37:12.647Z"
   },
   {
    "duration": 254,
    "start_time": "2022-03-25T12:37:24.252Z"
   },
   {
    "duration": 273,
    "start_time": "2022-03-25T12:37:51.404Z"
   },
   {
    "duration": 297,
    "start_time": "2022-03-25T12:38:12.925Z"
   },
   {
    "duration": 284,
    "start_time": "2022-03-25T12:40:30.568Z"
   },
   {
    "duration": 295,
    "start_time": "2022-03-25T12:43:42.435Z"
   },
   {
    "duration": 389,
    "start_time": "2022-03-25T12:43:49.069Z"
   },
   {
    "duration": 283,
    "start_time": "2022-03-25T12:43:58.479Z"
   },
   {
    "duration": 278,
    "start_time": "2022-03-25T12:44:07.088Z"
   },
   {
    "duration": 303,
    "start_time": "2022-03-25T12:44:17.096Z"
   },
   {
    "duration": 1410,
    "start_time": "2022-03-25T12:51:14.424Z"
   },
   {
    "duration": 431,
    "start_time": "2022-03-25T12:51:15.837Z"
   },
   {
    "duration": 16,
    "start_time": "2022-03-25T12:51:16.271Z"
   },
   {
    "duration": 62,
    "start_time": "2022-03-25T12:51:16.290Z"
   },
   {
    "duration": 13,
    "start_time": "2022-03-25T12:51:16.354Z"
   },
   {
    "duration": 42,
    "start_time": "2022-03-25T12:51:16.369Z"
   },
   {
    "duration": 15,
    "start_time": "2022-03-25T12:51:16.413Z"
   },
   {
    "duration": 55,
    "start_time": "2022-03-25T12:51:16.430Z"
   },
   {
    "duration": 37,
    "start_time": "2022-03-25T12:51:16.487Z"
   },
   {
    "duration": 42,
    "start_time": "2022-03-25T12:51:16.527Z"
   },
   {
    "duration": 34,
    "start_time": "2022-03-25T12:51:16.571Z"
   },
   {
    "duration": 50,
    "start_time": "2022-03-25T12:51:16.607Z"
   },
   {
    "duration": 40,
    "start_time": "2022-03-25T12:51:16.658Z"
   },
   {
    "duration": 71,
    "start_time": "2022-03-25T12:51:16.700Z"
   },
   {
    "duration": 1827,
    "start_time": "2022-03-25T12:51:16.773Z"
   },
   {
    "duration": 19,
    "start_time": "2022-03-25T12:51:18.602Z"
   },
   {
    "duration": 32,
    "start_time": "2022-03-25T12:51:18.623Z"
   },
   {
    "duration": 17,
    "start_time": "2022-03-25T12:51:18.657Z"
   },
   {
    "duration": 28,
    "start_time": "2022-03-25T12:51:18.675Z"
   },
   {
    "duration": 39,
    "start_time": "2022-03-25T12:51:18.704Z"
   },
   {
    "duration": 6,
    "start_time": "2022-03-25T12:51:18.746Z"
   },
   {
    "duration": 23,
    "start_time": "2022-03-25T12:51:18.754Z"
   },
   {
    "duration": 32,
    "start_time": "2022-03-25T12:51:18.779Z"
   },
   {
    "duration": 95,
    "start_time": "2022-03-25T12:51:18.813Z"
   },
   {
    "duration": 57,
    "start_time": "2022-03-25T12:51:18.910Z"
   },
   {
    "duration": 105,
    "start_time": "2022-03-25T12:51:18.969Z"
   },
   {
    "duration": 6,
    "start_time": "2022-03-25T12:51:19.076Z"
   },
   {
    "duration": 145,
    "start_time": "2022-03-25T12:51:19.087Z"
   },
   {
    "duration": 12,
    "start_time": "2022-03-25T12:51:19.234Z"
   },
   {
    "duration": 31,
    "start_time": "2022-03-25T12:51:19.248Z"
   },
   {
    "duration": 32,
    "start_time": "2022-03-25T12:51:19.281Z"
   },
   {
    "duration": 32,
    "start_time": "2022-03-25T12:51:19.315Z"
   },
   {
    "duration": 29,
    "start_time": "2022-03-25T12:51:19.349Z"
   },
   {
    "duration": 21,
    "start_time": "2022-03-25T12:51:19.380Z"
   },
   {
    "duration": 83,
    "start_time": "2022-03-25T12:51:19.402Z"
   },
   {
    "duration": 32,
    "start_time": "2022-03-25T12:51:19.487Z"
   },
   {
    "duration": 42,
    "start_time": "2022-03-25T12:51:19.521Z"
   },
   {
    "duration": 4,
    "start_time": "2022-03-25T12:51:19.565Z"
   },
   {
    "duration": 37,
    "start_time": "2022-03-25T12:51:19.571Z"
   },
   {
    "duration": 50,
    "start_time": "2022-03-25T12:51:19.610Z"
   },
   {
    "duration": 10,
    "start_time": "2022-03-25T12:51:19.662Z"
   },
   {
    "duration": 20,
    "start_time": "2022-03-25T12:51:19.677Z"
   },
   {
    "duration": 28,
    "start_time": "2022-03-25T12:51:19.699Z"
   },
   {
    "duration": 23,
    "start_time": "2022-03-25T12:51:19.730Z"
   },
   {
    "duration": 15,
    "start_time": "2022-03-25T12:51:19.755Z"
   },
   {
    "duration": 27,
    "start_time": "2022-03-25T12:51:19.772Z"
   },
   {
    "duration": 14,
    "start_time": "2022-03-25T12:51:19.801Z"
   },
   {
    "duration": 12,
    "start_time": "2022-03-25T12:51:19.817Z"
   },
   {
    "duration": 9,
    "start_time": "2022-03-25T12:51:19.831Z"
   },
   {
    "duration": 25,
    "start_time": "2022-03-25T12:51:19.842Z"
   },
   {
    "duration": 22,
    "start_time": "2022-03-25T12:51:19.870Z"
   },
   {
    "duration": 7,
    "start_time": "2022-03-25T12:51:19.894Z"
   },
   {
    "duration": 28,
    "start_time": "2022-03-25T12:51:19.903Z"
   },
   {
    "duration": 8,
    "start_time": "2022-03-25T12:51:19.933Z"
   },
   {
    "duration": 27,
    "start_time": "2022-03-25T12:51:19.943Z"
   },
   {
    "duration": 30,
    "start_time": "2022-03-25T12:51:19.972Z"
   },
   {
    "duration": 5,
    "start_time": "2022-03-25T12:51:20.005Z"
   },
   {
    "duration": 42,
    "start_time": "2022-03-25T12:51:20.012Z"
   },
   {
    "duration": 153,
    "start_time": "2022-03-25T12:51:20.056Z"
   },
   {
    "duration": 28,
    "start_time": "2022-03-25T12:51:20.211Z"
   },
   {
    "duration": 26,
    "start_time": "2022-03-25T12:51:20.241Z"
   },
   {
    "duration": 45,
    "start_time": "2022-03-25T12:51:20.269Z"
   },
   {
    "duration": 21,
    "start_time": "2022-03-25T12:51:20.316Z"
   },
   {
    "duration": 153,
    "start_time": "2022-03-25T12:51:20.339Z"
   },
   {
    "duration": 402,
    "start_time": "2022-03-25T12:51:20.494Z"
   },
   {
    "duration": 310,
    "start_time": "2022-03-25T12:51:20.898Z"
   },
   {
    "duration": 31,
    "start_time": "2022-03-25T12:51:21.210Z"
   },
   {
    "duration": 382,
    "start_time": "2022-03-25T12:51:21.243Z"
   },
   {
    "duration": 324,
    "start_time": "2022-03-25T12:51:21.627Z"
   },
   {
    "duration": 15,
    "start_time": "2022-03-25T12:51:21.952Z"
   },
   {
    "duration": 378,
    "start_time": "2022-03-25T12:51:21.969Z"
   },
   {
    "duration": 411,
    "start_time": "2022-03-25T12:51:22.348Z"
   },
   {
    "duration": 15,
    "start_time": "2022-03-25T12:51:22.761Z"
   },
   {
    "duration": 11,
    "start_time": "2022-03-25T12:51:22.777Z"
   },
   {
    "duration": 22,
    "start_time": "2022-03-25T12:51:22.789Z"
   },
   {
    "duration": 28,
    "start_time": "2022-03-25T12:51:22.841Z"
   },
   {
    "duration": 9,
    "start_time": "2022-03-25T12:51:22.871Z"
   },
   {
    "duration": 1213,
    "start_time": "2022-03-25T17:00:19.099Z"
   },
   {
    "duration": 426,
    "start_time": "2022-03-25T17:00:20.314Z"
   },
   {
    "duration": 14,
    "start_time": "2022-03-25T17:00:20.741Z"
   },
   {
    "duration": 29,
    "start_time": "2022-03-25T17:00:20.757Z"
   },
   {
    "duration": 8,
    "start_time": "2022-03-25T17:00:20.788Z"
   },
   {
    "duration": 24,
    "start_time": "2022-03-25T17:00:20.798Z"
   },
   {
    "duration": 7,
    "start_time": "2022-03-25T17:00:20.824Z"
   },
   {
    "duration": 22,
    "start_time": "2022-03-25T17:00:20.833Z"
   },
   {
    "duration": 8,
    "start_time": "2022-03-25T17:00:20.857Z"
   },
   {
    "duration": 7,
    "start_time": "2022-03-25T17:00:20.868Z"
   },
   {
    "duration": 35,
    "start_time": "2022-03-25T17:00:20.877Z"
   },
   {
    "duration": 14,
    "start_time": "2022-03-25T17:00:20.913Z"
   },
   {
    "duration": 14,
    "start_time": "2022-03-25T17:00:20.929Z"
   },
   {
    "duration": 39,
    "start_time": "2022-03-25T17:00:20.945Z"
   },
   {
    "duration": 1981,
    "start_time": "2022-03-25T17:00:20.986Z"
   },
   {
    "duration": 19,
    "start_time": "2022-03-25T17:00:22.969Z"
   },
   {
    "duration": 37,
    "start_time": "2022-03-25T17:00:22.990Z"
   },
   {
    "duration": 18,
    "start_time": "2022-03-25T17:00:23.028Z"
   },
   {
    "duration": 20,
    "start_time": "2022-03-25T17:00:23.048Z"
   },
   {
    "duration": 41,
    "start_time": "2022-03-25T17:00:23.069Z"
   },
   {
    "duration": 6,
    "start_time": "2022-03-25T17:00:23.112Z"
   },
   {
    "duration": 13,
    "start_time": "2022-03-25T17:00:23.120Z"
   },
   {
    "duration": 11,
    "start_time": "2022-03-25T17:00:23.134Z"
   },
   {
    "duration": 79,
    "start_time": "2022-03-25T17:00:23.147Z"
   },
   {
    "duration": 45,
    "start_time": "2022-03-25T17:00:23.228Z"
   },
   {
    "duration": 107,
    "start_time": "2022-03-25T17:00:23.275Z"
   },
   {
    "duration": 6,
    "start_time": "2022-03-25T17:00:23.384Z"
   },
   {
    "duration": 120,
    "start_time": "2022-03-25T17:00:23.408Z"
   },
   {
    "duration": 13,
    "start_time": "2022-03-25T17:00:23.531Z"
   },
   {
    "duration": 13,
    "start_time": "2022-03-25T17:00:23.546Z"
   },
   {
    "duration": 14,
    "start_time": "2022-03-25T17:00:23.562Z"
   },
   {
    "duration": 37,
    "start_time": "2022-03-25T17:00:23.579Z"
   },
   {
    "duration": 4,
    "start_time": "2022-03-25T17:00:23.619Z"
   },
   {
    "duration": 10,
    "start_time": "2022-03-25T17:00:23.625Z"
   },
   {
    "duration": 83,
    "start_time": "2022-03-25T17:00:23.636Z"
   },
   {
    "duration": 31,
    "start_time": "2022-03-25T17:00:23.721Z"
   },
   {
    "duration": 30,
    "start_time": "2022-03-25T17:00:23.754Z"
   },
   {
    "duration": 25,
    "start_time": "2022-03-25T17:00:23.786Z"
   },
   {
    "duration": 15,
    "start_time": "2022-03-25T17:00:23.813Z"
   },
   {
    "duration": 41,
    "start_time": "2022-03-25T17:00:23.830Z"
   },
   {
    "duration": 39,
    "start_time": "2022-03-25T17:00:23.873Z"
   },
   {
    "duration": 10,
    "start_time": "2022-03-25T17:00:23.914Z"
   },
   {
    "duration": 19,
    "start_time": "2022-03-25T17:00:23.926Z"
   },
   {
    "duration": 13,
    "start_time": "2022-03-25T17:00:23.947Z"
   },
   {
    "duration": 5,
    "start_time": "2022-03-25T17:00:23.961Z"
   },
   {
    "duration": 13,
    "start_time": "2022-03-25T17:00:23.968Z"
   },
   {
    "duration": 5,
    "start_time": "2022-03-25T17:00:24.009Z"
   },
   {
    "duration": 12,
    "start_time": "2022-03-25T17:00:24.016Z"
   },
   {
    "duration": 9,
    "start_time": "2022-03-25T17:00:24.029Z"
   },
   {
    "duration": 15,
    "start_time": "2022-03-25T17:00:24.039Z"
   },
   {
    "duration": 18,
    "start_time": "2022-03-25T17:00:24.056Z"
   },
   {
    "duration": 36,
    "start_time": "2022-03-25T17:00:24.076Z"
   },
   {
    "duration": 14,
    "start_time": "2022-03-25T17:00:24.113Z"
   },
   {
    "duration": 9,
    "start_time": "2022-03-25T17:00:24.128Z"
   },
   {
    "duration": 19,
    "start_time": "2022-03-25T17:00:24.138Z"
   },
   {
    "duration": 17,
    "start_time": "2022-03-25T17:00:24.158Z"
   },
   {
    "duration": 4,
    "start_time": "2022-03-25T17:00:24.209Z"
   },
   {
    "duration": 26,
    "start_time": "2022-03-25T17:00:24.215Z"
   },
   {
    "duration": 179,
    "start_time": "2022-03-25T17:00:24.243Z"
   },
   {
    "duration": 13,
    "start_time": "2022-03-25T17:00:24.424Z"
   },
   {
    "duration": 37,
    "start_time": "2022-03-25T17:00:24.439Z"
   },
   {
    "duration": 37,
    "start_time": "2022-03-25T17:00:24.478Z"
   },
   {
    "duration": 13,
    "start_time": "2022-03-25T17:00:24.516Z"
   },
   {
    "duration": 162,
    "start_time": "2022-03-25T17:00:24.531Z"
   },
   {
    "duration": 379,
    "start_time": "2022-03-25T17:00:24.694Z"
   },
   {
    "duration": 313,
    "start_time": "2022-03-25T17:00:25.075Z"
   },
   {
    "duration": 25,
    "start_time": "2022-03-25T17:00:25.390Z"
   },
   {
    "duration": 434,
    "start_time": "2022-03-25T17:00:25.417Z"
   },
   {
    "duration": 344,
    "start_time": "2022-03-25T17:00:25.853Z"
   },
   {
    "duration": 20,
    "start_time": "2022-03-25T17:00:26.199Z"
   },
   {
    "duration": 472,
    "start_time": "2022-03-25T17:00:26.221Z"
   },
   {
    "duration": 348,
    "start_time": "2022-03-25T17:00:26.695Z"
   },
   {
    "duration": 15,
    "start_time": "2022-03-25T17:00:27.045Z"
   },
   {
    "duration": 10,
    "start_time": "2022-03-25T17:00:27.061Z"
   },
   {
    "duration": 39,
    "start_time": "2022-03-25T17:00:27.073Z"
   },
   {
    "duration": 10,
    "start_time": "2022-03-25T17:00:27.114Z"
   },
   {
    "duration": 10,
    "start_time": "2022-03-25T17:00:27.126Z"
   },
   {
    "duration": 1162,
    "start_time": "2022-03-25T17:01:26.676Z"
   },
   {
    "duration": 378,
    "start_time": "2022-03-25T17:01:27.840Z"
   },
   {
    "duration": 12,
    "start_time": "2022-03-25T17:01:28.219Z"
   },
   {
    "duration": 27,
    "start_time": "2022-03-25T17:01:28.233Z"
   },
   {
    "duration": 9,
    "start_time": "2022-03-25T17:01:28.262Z"
   },
   {
    "duration": 37,
    "start_time": "2022-03-25T17:01:28.273Z"
   },
   {
    "duration": 7,
    "start_time": "2022-03-25T17:01:28.312Z"
   },
   {
    "duration": 22,
    "start_time": "2022-03-25T17:01:28.320Z"
   },
   {
    "duration": 8,
    "start_time": "2022-03-25T17:01:28.344Z"
   },
   {
    "duration": 9,
    "start_time": "2022-03-25T17:01:28.354Z"
   },
   {
    "duration": 13,
    "start_time": "2022-03-25T17:01:28.364Z"
   },
   {
    "duration": 36,
    "start_time": "2022-03-25T17:01:28.379Z"
   },
   {
    "duration": 13,
    "start_time": "2022-03-25T17:01:28.417Z"
   },
   {
    "duration": 33,
    "start_time": "2022-03-25T17:01:28.434Z"
   },
   {
    "duration": 1821,
    "start_time": "2022-03-25T17:01:28.469Z"
   },
   {
    "duration": 22,
    "start_time": "2022-03-25T17:01:30.291Z"
   },
   {
    "duration": 22,
    "start_time": "2022-03-25T17:01:30.315Z"
   },
   {
    "duration": 23,
    "start_time": "2022-03-25T17:01:30.339Z"
   },
   {
    "duration": 21,
    "start_time": "2022-03-25T17:01:30.365Z"
   },
   {
    "duration": 16,
    "start_time": "2022-03-25T17:01:30.408Z"
   },
   {
    "duration": 5,
    "start_time": "2022-03-25T17:01:30.426Z"
   },
   {
    "duration": 31,
    "start_time": "2022-03-25T17:01:30.433Z"
   },
   {
    "duration": 12,
    "start_time": "2022-03-25T17:01:30.466Z"
   },
   {
    "duration": 61,
    "start_time": "2022-03-25T17:01:30.480Z"
   },
   {
    "duration": 40,
    "start_time": "2022-03-25T17:01:30.543Z"
   },
   {
    "duration": 93,
    "start_time": "2022-03-25T17:01:30.585Z"
   },
   {
    "duration": 5,
    "start_time": "2022-03-25T17:01:30.680Z"
   },
   {
    "duration": 117,
    "start_time": "2022-03-25T17:01:30.687Z"
   },
   {
    "duration": 9,
    "start_time": "2022-03-25T17:01:30.806Z"
   },
   {
    "duration": 27,
    "start_time": "2022-03-25T17:01:30.817Z"
   },
   {
    "duration": 20,
    "start_time": "2022-03-25T17:01:30.846Z"
   },
   {
    "duration": 9,
    "start_time": "2022-03-25T17:01:30.868Z"
   },
   {
    "duration": 6,
    "start_time": "2022-03-25T17:01:30.879Z"
   },
   {
    "duration": 9,
    "start_time": "2022-03-25T17:01:30.886Z"
   },
   {
    "duration": 56,
    "start_time": "2022-03-25T17:01:30.897Z"
   },
   {
    "duration": 30,
    "start_time": "2022-03-25T17:01:30.955Z"
   },
   {
    "duration": 46,
    "start_time": "2022-03-25T17:01:30.987Z"
   },
   {
    "duration": 4,
    "start_time": "2022-03-25T17:01:31.035Z"
   },
   {
    "duration": 22,
    "start_time": "2022-03-25T17:01:31.040Z"
   },
   {
    "duration": 51,
    "start_time": "2022-03-25T17:01:31.063Z"
   },
   {
    "duration": 9,
    "start_time": "2022-03-25T17:01:31.119Z"
   },
   {
    "duration": 15,
    "start_time": "2022-03-25T17:01:31.129Z"
   },
   {
    "duration": 12,
    "start_time": "2022-03-25T17:01:31.145Z"
   },
   {
    "duration": 17,
    "start_time": "2022-03-25T17:01:31.159Z"
   },
   {
    "duration": 4,
    "start_time": "2022-03-25T17:01:31.177Z"
   },
   {
    "duration": 32,
    "start_time": "2022-03-25T17:01:31.182Z"
   },
   {
    "duration": 4,
    "start_time": "2022-03-25T17:01:31.215Z"
   },
   {
    "duration": 14,
    "start_time": "2022-03-25T17:01:31.220Z"
   },
   {
    "duration": 7,
    "start_time": "2022-03-25T17:01:31.235Z"
   },
   {
    "duration": 16,
    "start_time": "2022-03-25T17:01:31.244Z"
   },
   {
    "duration": 16,
    "start_time": "2022-03-25T17:01:31.261Z"
   },
   {
    "duration": 5,
    "start_time": "2022-03-25T17:01:31.278Z"
   },
   {
    "duration": 35,
    "start_time": "2022-03-25T17:01:31.284Z"
   },
   {
    "duration": 7,
    "start_time": "2022-03-25T17:01:31.320Z"
   },
   {
    "duration": 18,
    "start_time": "2022-03-25T17:01:31.329Z"
   },
   {
    "duration": 15,
    "start_time": "2022-03-25T17:01:31.348Z"
   },
   {
    "duration": 4,
    "start_time": "2022-03-25T17:01:31.365Z"
   },
   {
    "duration": 49,
    "start_time": "2022-03-25T17:01:31.370Z"
   },
   {
    "duration": 175,
    "start_time": "2022-03-25T17:01:31.421Z"
   },
   {
    "duration": 20,
    "start_time": "2022-03-25T17:01:31.597Z"
   },
   {
    "duration": 7,
    "start_time": "2022-03-25T17:01:31.619Z"
   },
   {
    "duration": 36,
    "start_time": "2022-03-25T17:01:31.628Z"
   },
   {
    "duration": 12,
    "start_time": "2022-03-25T17:01:31.665Z"
   },
   {
    "duration": 151,
    "start_time": "2022-03-25T17:01:31.679Z"
   },
   {
    "duration": 369,
    "start_time": "2022-03-25T17:01:31.832Z"
   },
   {
    "duration": 298,
    "start_time": "2022-03-25T17:01:32.202Z"
   },
   {
    "duration": 15,
    "start_time": "2022-03-25T17:01:32.502Z"
   },
   {
    "duration": 352,
    "start_time": "2022-03-25T17:01:32.519Z"
   },
   {
    "duration": 320,
    "start_time": "2022-03-25T17:01:32.873Z"
   },
   {
    "duration": 22,
    "start_time": "2022-03-25T17:01:33.195Z"
   },
   {
    "duration": 444,
    "start_time": "2022-03-25T17:01:33.218Z"
   },
   {
    "duration": 296,
    "start_time": "2022-03-25T17:01:33.664Z"
   },
   {
    "duration": 12,
    "start_time": "2022-03-25T17:01:33.962Z"
   },
   {
    "duration": 7,
    "start_time": "2022-03-25T17:01:33.976Z"
   },
   {
    "duration": 29,
    "start_time": "2022-03-25T17:01:33.985Z"
   },
   {
    "duration": 9,
    "start_time": "2022-03-25T17:01:34.016Z"
   },
   {
    "duration": 11,
    "start_time": "2022-03-25T17:01:34.027Z"
   },
   {
    "duration": 55,
    "start_time": "2022-03-25T19:44:43.028Z"
   },
   {
    "duration": 1592,
    "start_time": "2022-03-25T19:44:53.918Z"
   },
   {
    "duration": 505,
    "start_time": "2022-03-25T19:44:55.513Z"
   },
   {
    "duration": 19,
    "start_time": "2022-03-25T19:44:56.020Z"
   },
   {
    "duration": 32,
    "start_time": "2022-03-25T19:44:56.042Z"
   },
   {
    "duration": 10,
    "start_time": "2022-03-25T19:44:56.076Z"
   },
   {
    "duration": 30,
    "start_time": "2022-03-25T19:44:56.101Z"
   },
   {
    "duration": 9,
    "start_time": "2022-03-25T19:44:56.133Z"
   },
   {
    "duration": 24,
    "start_time": "2022-03-25T19:44:56.144Z"
   },
   {
    "duration": 39,
    "start_time": "2022-03-25T19:44:56.170Z"
   },
   {
    "duration": 5,
    "start_time": "2022-03-25T19:44:56.213Z"
   },
   {
    "duration": 13,
    "start_time": "2022-03-25T19:44:56.220Z"
   },
   {
    "duration": 15,
    "start_time": "2022-03-25T19:44:56.235Z"
   },
   {
    "duration": 16,
    "start_time": "2022-03-25T19:44:56.252Z"
   },
   {
    "duration": 43,
    "start_time": "2022-03-25T19:44:56.301Z"
   },
   {
    "duration": 2157,
    "start_time": "2022-03-25T19:44:56.346Z"
   },
   {
    "duration": 24,
    "start_time": "2022-03-25T19:44:58.505Z"
   },
   {
    "duration": 25,
    "start_time": "2022-03-25T19:44:58.531Z"
   },
   {
    "duration": 50,
    "start_time": "2022-03-25T19:44:58.558Z"
   },
   {
    "duration": 27,
    "start_time": "2022-03-25T19:44:58.610Z"
   },
   {
    "duration": 18,
    "start_time": "2022-03-25T19:44:58.639Z"
   },
   {
    "duration": 7,
    "start_time": "2022-03-25T19:44:58.659Z"
   },
   {
    "duration": 41,
    "start_time": "2022-03-25T19:44:58.668Z"
   },
   {
    "duration": 9,
    "start_time": "2022-03-25T19:44:58.712Z"
   },
   {
    "duration": 80,
    "start_time": "2022-03-25T19:44:58.723Z"
   },
   {
    "duration": 53,
    "start_time": "2022-03-25T19:44:58.805Z"
   },
   {
    "duration": 121,
    "start_time": "2022-03-25T19:44:58.859Z"
   },
   {
    "duration": 6,
    "start_time": "2022-03-25T19:44:58.981Z"
   },
   {
    "duration": 113,
    "start_time": "2022-03-25T19:44:59.000Z"
   },
   {
    "duration": 10,
    "start_time": "2022-03-25T19:44:59.115Z"
   },
   {
    "duration": 11,
    "start_time": "2022-03-25T19:44:59.127Z"
   },
   {
    "duration": 13,
    "start_time": "2022-03-25T19:44:59.140Z"
   },
   {
    "duration": 5,
    "start_time": "2022-03-25T19:44:59.156Z"
   },
   {
    "duration": 39,
    "start_time": "2022-03-25T19:44:59.163Z"
   },
   {
    "duration": 6,
    "start_time": "2022-03-25T19:44:59.204Z"
   },
   {
    "duration": 65,
    "start_time": "2022-03-25T19:44:59.213Z"
   },
   {
    "duration": 62,
    "start_time": "2022-03-25T19:44:59.280Z"
   },
   {
    "duration": 34,
    "start_time": "2022-03-25T19:44:59.344Z"
   },
   {
    "duration": 4,
    "start_time": "2022-03-25T19:44:59.379Z"
   },
   {
    "duration": 20,
    "start_time": "2022-03-25T19:44:59.402Z"
   },
   {
    "duration": 45,
    "start_time": "2022-03-25T19:44:59.424Z"
   },
   {
    "duration": 40,
    "start_time": "2022-03-25T19:44:59.470Z"
   },
   {
    "duration": 15,
    "start_time": "2022-03-25T19:44:59.512Z"
   },
   {
    "duration": 17,
    "start_time": "2022-03-25T19:44:59.529Z"
   },
   {
    "duration": 13,
    "start_time": "2022-03-25T19:44:59.548Z"
   },
   {
    "duration": 41,
    "start_time": "2022-03-25T19:44:59.562Z"
   },
   {
    "duration": 16,
    "start_time": "2022-03-25T19:44:59.605Z"
   },
   {
    "duration": 5,
    "start_time": "2022-03-25T19:44:59.624Z"
   },
   {
    "duration": 12,
    "start_time": "2022-03-25T19:44:59.631Z"
   },
   {
    "duration": 9,
    "start_time": "2022-03-25T19:44:59.645Z"
   },
   {
    "duration": 46,
    "start_time": "2022-03-25T19:44:59.657Z"
   },
   {
    "duration": 18,
    "start_time": "2022-03-25T19:44:59.707Z"
   },
   {
    "duration": 7,
    "start_time": "2022-03-25T19:44:59.727Z"
   },
   {
    "duration": 15,
    "start_time": "2022-03-25T19:44:59.736Z"
   },
   {
    "duration": 8,
    "start_time": "2022-03-25T19:44:59.753Z"
   },
   {
    "duration": 58,
    "start_time": "2022-03-25T19:44:59.763Z"
   },
   {
    "duration": 17,
    "start_time": "2022-03-25T19:44:59.823Z"
   },
   {
    "duration": 5,
    "start_time": "2022-03-25T19:44:59.842Z"
   },
   {
    "duration": 31,
    "start_time": "2022-03-25T19:44:59.849Z"
   },
   {
    "duration": 208,
    "start_time": "2022-03-25T19:44:59.882Z"
   },
   {
    "duration": 18,
    "start_time": "2022-03-25T19:45:00.091Z"
   },
   {
    "duration": 7,
    "start_time": "2022-03-25T19:45:00.111Z"
   },
   {
    "duration": 32,
    "start_time": "2022-03-25T19:45:00.120Z"
   },
   {
    "duration": 12,
    "start_time": "2022-03-25T19:45:00.154Z"
   },
   {
    "duration": 197,
    "start_time": "2022-03-25T19:45:00.168Z"
   },
   {
    "duration": 416,
    "start_time": "2022-03-25T19:45:00.367Z"
   },
   {
    "duration": 364,
    "start_time": "2022-03-25T19:45:00.785Z"
   },
   {
    "duration": 15,
    "start_time": "2022-03-25T19:45:01.152Z"
   },
   {
    "duration": 420,
    "start_time": "2022-03-25T19:45:01.168Z"
   },
   {
    "duration": 463,
    "start_time": "2022-03-25T19:45:01.589Z"
   },
   {
    "duration": 17,
    "start_time": "2022-03-25T19:45:02.054Z"
   },
   {
    "duration": 524,
    "start_time": "2022-03-25T19:45:02.073Z"
   },
   {
    "duration": 352,
    "start_time": "2022-03-25T19:45:02.602Z"
   },
   {
    "duration": 15,
    "start_time": "2022-03-25T19:45:02.956Z"
   },
   {
    "duration": 31,
    "start_time": "2022-03-25T19:45:02.973Z"
   },
   {
    "duration": 13,
    "start_time": "2022-03-25T19:45:03.006Z"
   },
   {
    "duration": 30,
    "start_time": "2022-03-25T19:45:03.020Z"
   },
   {
    "duration": 20,
    "start_time": "2022-03-25T19:45:03.052Z"
   },
   {
    "duration": 333,
    "start_time": "2022-03-25T19:45:28.186Z"
   },
   {
    "duration": 468,
    "start_time": "2022-03-25T19:46:21.515Z"
   },
   {
    "duration": 184,
    "start_time": "2022-03-25T19:47:09.751Z"
   },
   {
    "duration": 164,
    "start_time": "2022-03-25T19:47:43.708Z"
   },
   {
    "duration": 173,
    "start_time": "2022-03-25T19:48:45.667Z"
   },
   {
    "duration": 222,
    "start_time": "2022-03-25T19:49:13.384Z"
   },
   {
    "duration": 1468,
    "start_time": "2022-03-25T19:50:05.520Z"
   },
   {
    "duration": 567,
    "start_time": "2022-03-25T19:50:06.990Z"
   },
   {
    "duration": 18,
    "start_time": "2022-03-25T19:50:07.559Z"
   },
   {
    "duration": 54,
    "start_time": "2022-03-25T19:50:07.581Z"
   },
   {
    "duration": 13,
    "start_time": "2022-03-25T19:50:07.637Z"
   },
   {
    "duration": 34,
    "start_time": "2022-03-25T19:50:07.651Z"
   },
   {
    "duration": 25,
    "start_time": "2022-03-25T19:50:07.687Z"
   },
   {
    "duration": 36,
    "start_time": "2022-03-25T19:50:07.714Z"
   },
   {
    "duration": 20,
    "start_time": "2022-03-25T19:50:07.752Z"
   },
   {
    "duration": 19,
    "start_time": "2022-03-25T19:50:07.775Z"
   },
   {
    "duration": 20,
    "start_time": "2022-03-25T19:50:07.796Z"
   },
   {
    "duration": 29,
    "start_time": "2022-03-25T19:50:07.818Z"
   },
   {
    "duration": 29,
    "start_time": "2022-03-25T19:50:07.849Z"
   },
   {
    "duration": 75,
    "start_time": "2022-03-25T19:50:07.880Z"
   },
   {
    "duration": 2234,
    "start_time": "2022-03-25T19:50:07.957Z"
   },
   {
    "duration": 25,
    "start_time": "2022-03-25T19:50:10.193Z"
   },
   {
    "duration": 27,
    "start_time": "2022-03-25T19:50:10.220Z"
   },
   {
    "duration": 52,
    "start_time": "2022-03-25T19:50:10.249Z"
   },
   {
    "duration": 27,
    "start_time": "2022-03-25T19:50:10.303Z"
   },
   {
    "duration": 25,
    "start_time": "2022-03-25T19:50:10.332Z"
   },
   {
    "duration": 20,
    "start_time": "2022-03-25T19:50:10.359Z"
   },
   {
    "duration": 47,
    "start_time": "2022-03-25T19:50:10.381Z"
   },
   {
    "duration": 16,
    "start_time": "2022-03-25T19:50:10.430Z"
   },
   {
    "duration": 96,
    "start_time": "2022-03-25T19:50:10.447Z"
   },
   {
    "duration": 62,
    "start_time": "2022-03-25T19:50:10.546Z"
   },
   {
    "duration": 119,
    "start_time": "2022-03-25T19:50:10.612Z"
   },
   {
    "duration": 8,
    "start_time": "2022-03-25T19:50:10.733Z"
   },
   {
    "duration": 138,
    "start_time": "2022-03-25T19:50:10.748Z"
   },
   {
    "duration": 16,
    "start_time": "2022-03-25T19:50:10.888Z"
   },
   {
    "duration": 32,
    "start_time": "2022-03-25T19:50:10.906Z"
   },
   {
    "duration": 26,
    "start_time": "2022-03-25T19:50:10.941Z"
   },
   {
    "duration": 18,
    "start_time": "2022-03-25T19:50:10.969Z"
   },
   {
    "duration": 31,
    "start_time": "2022-03-25T19:50:10.989Z"
   },
   {
    "duration": 12,
    "start_time": "2022-03-25T19:50:11.023Z"
   },
   {
    "duration": 94,
    "start_time": "2022-03-25T19:50:11.037Z"
   },
   {
    "duration": 39,
    "start_time": "2022-03-25T19:50:11.133Z"
   },
   {
    "duration": 49,
    "start_time": "2022-03-25T19:50:11.174Z"
   },
   {
    "duration": 6,
    "start_time": "2022-03-25T19:50:11.225Z"
   },
   {
    "duration": 31,
    "start_time": "2022-03-25T19:50:11.233Z"
   },
   {
    "duration": 70,
    "start_time": "2022-03-25T19:50:11.266Z"
   },
   {
    "duration": 10,
    "start_time": "2022-03-25T19:50:11.338Z"
   },
   {
    "duration": 26,
    "start_time": "2022-03-25T19:50:11.350Z"
   },
   {
    "duration": 37,
    "start_time": "2022-03-25T19:50:11.377Z"
   },
   {
    "duration": 30,
    "start_time": "2022-03-25T19:50:11.417Z"
   },
   {
    "duration": 22,
    "start_time": "2022-03-25T19:50:11.450Z"
   },
   {
    "duration": 35,
    "start_time": "2022-03-25T19:50:11.475Z"
   },
   {
    "duration": 27,
    "start_time": "2022-03-25T19:50:11.512Z"
   },
   {
    "duration": 37,
    "start_time": "2022-03-25T19:50:11.542Z"
   },
   {
    "duration": 21,
    "start_time": "2022-03-25T19:50:11.581Z"
   },
   {
    "duration": 48,
    "start_time": "2022-03-25T19:50:11.604Z"
   },
   {
    "duration": 33,
    "start_time": "2022-03-25T19:50:11.654Z"
   },
   {
    "duration": 11,
    "start_time": "2022-03-25T19:50:11.689Z"
   },
   {
    "duration": 38,
    "start_time": "2022-03-25T19:50:11.703Z"
   },
   {
    "duration": 15,
    "start_time": "2022-03-25T19:50:11.744Z"
   },
   {
    "duration": 39,
    "start_time": "2022-03-25T19:50:11.761Z"
   },
   {
    "duration": 25,
    "start_time": "2022-03-25T19:50:11.803Z"
   },
   {
    "duration": 6,
    "start_time": "2022-03-25T19:50:11.830Z"
   },
   {
    "duration": 47,
    "start_time": "2022-03-25T19:50:11.838Z"
   },
   {
    "duration": 192,
    "start_time": "2022-03-25T19:50:11.887Z"
   },
   {
    "duration": 24,
    "start_time": "2022-03-25T19:50:12.081Z"
   },
   {
    "duration": 10,
    "start_time": "2022-03-25T19:50:12.107Z"
   },
   {
    "duration": 47,
    "start_time": "2022-03-25T19:50:12.119Z"
   },
   {
    "duration": 16,
    "start_time": "2022-03-25T19:50:12.168Z"
   },
   {
    "duration": 183,
    "start_time": "2022-03-25T19:50:12.186Z"
   },
   {
    "duration": 432,
    "start_time": "2022-03-25T19:50:12.371Z"
   },
   {
    "duration": 299,
    "start_time": "2022-03-25T19:50:12.805Z"
   },
   {
    "duration": 0,
    "start_time": "2022-03-25T19:50:13.106Z"
   },
   {
    "duration": 0,
    "start_time": "2022-03-25T19:50:13.108Z"
   },
   {
    "duration": 0,
    "start_time": "2022-03-25T19:50:13.110Z"
   },
   {
    "duration": 0,
    "start_time": "2022-03-25T19:50:13.111Z"
   },
   {
    "duration": 0,
    "start_time": "2022-03-25T19:50:13.113Z"
   },
   {
    "duration": 0,
    "start_time": "2022-03-25T19:50:13.114Z"
   },
   {
    "duration": 0,
    "start_time": "2022-03-25T19:50:13.116Z"
   },
   {
    "duration": 1,
    "start_time": "2022-03-25T19:50:13.117Z"
   },
   {
    "duration": 0,
    "start_time": "2022-03-25T19:50:13.119Z"
   },
   {
    "duration": 0,
    "start_time": "2022-03-25T19:50:13.121Z"
   },
   {
    "duration": 0,
    "start_time": "2022-03-25T19:50:13.122Z"
   },
   {
    "duration": 184,
    "start_time": "2022-03-25T19:50:59.153Z"
   },
   {
    "duration": 189,
    "start_time": "2022-03-25T19:51:18.923Z"
   },
   {
    "duration": 210,
    "start_time": "2022-03-25T19:51:55.801Z"
   },
   {
    "duration": 183,
    "start_time": "2022-03-25T19:52:04.947Z"
   },
   {
    "duration": 206,
    "start_time": "2022-03-25T19:52:17.298Z"
   },
   {
    "duration": 1466,
    "start_time": "2022-03-25T19:52:49.620Z"
   },
   {
    "duration": 530,
    "start_time": "2022-03-25T19:52:51.088Z"
   },
   {
    "duration": 19,
    "start_time": "2022-03-25T19:52:51.621Z"
   },
   {
    "duration": 50,
    "start_time": "2022-03-25T19:52:51.642Z"
   },
   {
    "duration": 15,
    "start_time": "2022-03-25T19:52:51.704Z"
   },
   {
    "duration": 36,
    "start_time": "2022-03-25T19:52:51.721Z"
   },
   {
    "duration": 9,
    "start_time": "2022-03-25T19:52:51.760Z"
   },
   {
    "duration": 56,
    "start_time": "2022-03-25T19:52:51.772Z"
   },
   {
    "duration": 10,
    "start_time": "2022-03-25T19:52:51.830Z"
   },
   {
    "duration": 9,
    "start_time": "2022-03-25T19:52:51.843Z"
   },
   {
    "duration": 15,
    "start_time": "2022-03-25T19:52:51.854Z"
   },
   {
    "duration": 37,
    "start_time": "2022-03-25T19:52:51.871Z"
   },
   {
    "duration": 15,
    "start_time": "2022-03-25T19:52:51.910Z"
   },
   {
    "duration": 74,
    "start_time": "2022-03-25T19:52:51.930Z"
   },
   {
    "duration": 2255,
    "start_time": "2022-03-25T19:52:52.007Z"
   },
   {
    "duration": 44,
    "start_time": "2022-03-25T19:52:54.265Z"
   },
   {
    "duration": 34,
    "start_time": "2022-03-25T19:52:54.311Z"
   },
   {
    "duration": 31,
    "start_time": "2022-03-25T19:52:54.350Z"
   },
   {
    "duration": 43,
    "start_time": "2022-03-25T19:52:54.383Z"
   },
   {
    "duration": 27,
    "start_time": "2022-03-25T19:52:54.429Z"
   },
   {
    "duration": 8,
    "start_time": "2022-03-25T19:52:54.459Z"
   },
   {
    "duration": 41,
    "start_time": "2022-03-25T19:52:54.470Z"
   },
   {
    "duration": 23,
    "start_time": "2022-03-25T19:52:54.514Z"
   },
   {
    "duration": 73,
    "start_time": "2022-03-25T19:52:54.539Z"
   },
   {
    "duration": 57,
    "start_time": "2022-03-25T19:52:54.615Z"
   },
   {
    "duration": 116,
    "start_time": "2022-03-25T19:52:54.674Z"
   },
   {
    "duration": 20,
    "start_time": "2022-03-25T19:52:54.792Z"
   },
   {
    "duration": 125,
    "start_time": "2022-03-25T19:52:54.814Z"
   },
   {
    "duration": 11,
    "start_time": "2022-03-25T19:52:54.941Z"
   },
   {
    "duration": 23,
    "start_time": "2022-03-25T19:52:54.955Z"
   },
   {
    "duration": 25,
    "start_time": "2022-03-25T19:52:54.982Z"
   },
   {
    "duration": 23,
    "start_time": "2022-03-25T19:52:55.009Z"
   },
   {
    "duration": 18,
    "start_time": "2022-03-25T19:52:55.034Z"
   },
   {
    "duration": 19,
    "start_time": "2022-03-25T19:52:55.055Z"
   },
   {
    "duration": 76,
    "start_time": "2022-03-25T19:52:55.076Z"
   },
   {
    "duration": 61,
    "start_time": "2022-03-25T19:52:55.155Z"
   },
   {
    "duration": 44,
    "start_time": "2022-03-25T19:52:55.218Z"
   },
   {
    "duration": 5,
    "start_time": "2022-03-25T19:52:55.264Z"
   },
   {
    "duration": 43,
    "start_time": "2022-03-25T19:52:55.271Z"
   },
   {
    "duration": 58,
    "start_time": "2022-03-25T19:52:55.317Z"
   },
   {
    "duration": 25,
    "start_time": "2022-03-25T19:52:55.379Z"
   },
   {
    "duration": 14,
    "start_time": "2022-03-25T19:52:55.407Z"
   },
   {
    "duration": 16,
    "start_time": "2022-03-25T19:52:55.423Z"
   },
   {
    "duration": 17,
    "start_time": "2022-03-25T19:52:55.441Z"
   },
   {
    "duration": 44,
    "start_time": "2022-03-25T19:52:55.461Z"
   },
   {
    "duration": 15,
    "start_time": "2022-03-25T19:52:55.508Z"
   },
   {
    "duration": 5,
    "start_time": "2022-03-25T19:52:55.526Z"
   },
   {
    "duration": 18,
    "start_time": "2022-03-25T19:52:55.533Z"
   },
   {
    "duration": 12,
    "start_time": "2022-03-25T19:52:55.553Z"
   },
   {
    "duration": 18,
    "start_time": "2022-03-25T19:52:55.601Z"
   },
   {
    "duration": 21,
    "start_time": "2022-03-25T19:52:55.623Z"
   },
   {
    "duration": 8,
    "start_time": "2022-03-25T19:52:55.647Z"
   },
   {
    "duration": 46,
    "start_time": "2022-03-25T19:52:55.657Z"
   },
   {
    "duration": 21,
    "start_time": "2022-03-25T19:52:55.705Z"
   },
   {
    "duration": 27,
    "start_time": "2022-03-25T19:52:55.728Z"
   },
   {
    "duration": 45,
    "start_time": "2022-03-25T19:52:55.758Z"
   },
   {
    "duration": 5,
    "start_time": "2022-03-25T19:52:55.806Z"
   },
   {
    "duration": 29,
    "start_time": "2022-03-25T19:52:55.813Z"
   },
   {
    "duration": 281,
    "start_time": "2022-03-25T19:52:55.844Z"
   },
   {
    "duration": 18,
    "start_time": "2022-03-25T19:52:56.128Z"
   },
   {
    "duration": 8,
    "start_time": "2022-03-25T19:52:56.148Z"
   },
   {
    "duration": 60,
    "start_time": "2022-03-25T19:52:56.158Z"
   },
   {
    "duration": 18,
    "start_time": "2022-03-25T19:52:56.221Z"
   },
   {
    "duration": 245,
    "start_time": "2022-03-25T19:52:56.243Z"
   },
   {
    "duration": 440,
    "start_time": "2022-03-25T19:52:56.491Z"
   },
   {
    "duration": 216,
    "start_time": "2022-03-25T19:52:56.933Z"
   },
   {
    "duration": 19,
    "start_time": "2022-03-25T19:52:57.151Z"
   },
   {
    "duration": 610,
    "start_time": "2022-03-25T19:52:57.172Z"
   },
   {
    "duration": 499,
    "start_time": "2022-03-25T19:52:57.784Z"
   },
   {
    "duration": 28,
    "start_time": "2022-03-25T19:52:58.286Z"
   },
   {
    "duration": 561,
    "start_time": "2022-03-25T19:52:58.316Z"
   },
   {
    "duration": 384,
    "start_time": "2022-03-25T19:52:58.880Z"
   },
   {
    "duration": 38,
    "start_time": "2022-03-25T19:52:59.266Z"
   },
   {
    "duration": 13,
    "start_time": "2022-03-25T19:52:59.308Z"
   },
   {
    "duration": 18,
    "start_time": "2022-03-25T19:52:59.324Z"
   },
   {
    "duration": 11,
    "start_time": "2022-03-25T19:52:59.345Z"
   },
   {
    "duration": 9,
    "start_time": "2022-03-25T19:52:59.359Z"
   },
   {
    "duration": 294,
    "start_time": "2022-03-25T19:53:05.126Z"
   },
   {
    "duration": 202,
    "start_time": "2022-03-25T19:53:21.331Z"
   },
   {
    "duration": 270,
    "start_time": "2022-03-25T19:54:14.734Z"
   },
   {
    "duration": 1377,
    "start_time": "2022-03-26T07:00:12.130Z"
   },
   {
    "duration": 419,
    "start_time": "2022-03-26T07:00:13.509Z"
   },
   {
    "duration": 12,
    "start_time": "2022-03-26T07:00:13.930Z"
   },
   {
    "duration": 26,
    "start_time": "2022-03-26T07:00:13.944Z"
   },
   {
    "duration": 8,
    "start_time": "2022-03-26T07:00:13.971Z"
   },
   {
    "duration": 21,
    "start_time": "2022-03-26T07:00:13.981Z"
   },
   {
    "duration": 6,
    "start_time": "2022-03-26T07:00:14.004Z"
   },
   {
    "duration": 24,
    "start_time": "2022-03-26T07:00:14.012Z"
   },
   {
    "duration": 8,
    "start_time": "2022-03-26T07:00:14.038Z"
   },
   {
    "duration": 3,
    "start_time": "2022-03-26T07:00:14.050Z"
   },
   {
    "duration": 11,
    "start_time": "2022-03-26T07:00:14.055Z"
   },
   {
    "duration": 36,
    "start_time": "2022-03-26T07:00:14.068Z"
   },
   {
    "duration": 13,
    "start_time": "2022-03-26T07:00:14.106Z"
   },
   {
    "duration": 36,
    "start_time": "2022-03-26T07:00:14.121Z"
   },
   {
    "duration": 1746,
    "start_time": "2022-03-26T07:00:14.158Z"
   },
   {
    "duration": 19,
    "start_time": "2022-03-26T07:00:15.906Z"
   },
   {
    "duration": 24,
    "start_time": "2022-03-26T07:00:15.927Z"
   },
   {
    "duration": 18,
    "start_time": "2022-03-26T07:00:15.952Z"
   },
   {
    "duration": 21,
    "start_time": "2022-03-26T07:00:16.002Z"
   },
   {
    "duration": 17,
    "start_time": "2022-03-26T07:00:16.024Z"
   },
   {
    "duration": 6,
    "start_time": "2022-03-26T07:00:16.042Z"
   },
   {
    "duration": 12,
    "start_time": "2022-03-26T07:00:16.049Z"
   },
   {
    "duration": 6,
    "start_time": "2022-03-26T07:00:16.062Z"
   },
   {
    "duration": 80,
    "start_time": "2022-03-26T07:00:16.070Z"
   },
   {
    "duration": 57,
    "start_time": "2022-03-26T07:00:16.151Z"
   },
   {
    "duration": 96,
    "start_time": "2022-03-26T07:00:16.210Z"
   },
   {
    "duration": 6,
    "start_time": "2022-03-26T07:00:16.307Z"
   },
   {
    "duration": 108,
    "start_time": "2022-03-26T07:00:16.318Z"
   },
   {
    "duration": 9,
    "start_time": "2022-03-26T07:00:16.428Z"
   },
   {
    "duration": 9,
    "start_time": "2022-03-26T07:00:16.439Z"
   },
   {
    "duration": 12,
    "start_time": "2022-03-26T07:00:16.449Z"
   },
   {
    "duration": 14,
    "start_time": "2022-03-26T07:00:16.463Z"
   },
   {
    "duration": 25,
    "start_time": "2022-03-26T07:00:16.479Z"
   },
   {
    "duration": 7,
    "start_time": "2022-03-26T07:00:16.506Z"
   },
   {
    "duration": 56,
    "start_time": "2022-03-26T07:00:16.514Z"
   },
   {
    "duration": 50,
    "start_time": "2022-03-26T07:00:16.572Z"
   },
   {
    "duration": 27,
    "start_time": "2022-03-26T07:00:16.624Z"
   },
   {
    "duration": 4,
    "start_time": "2022-03-26T07:00:16.652Z"
   },
   {
    "duration": 13,
    "start_time": "2022-03-26T07:00:16.657Z"
   },
   {
    "duration": 58,
    "start_time": "2022-03-26T07:00:16.672Z"
   },
   {
    "duration": 10,
    "start_time": "2022-03-26T07:00:16.732Z"
   },
   {
    "duration": 14,
    "start_time": "2022-03-26T07:00:16.744Z"
   },
   {
    "duration": 13,
    "start_time": "2022-03-26T07:00:16.760Z"
   },
   {
    "duration": 36,
    "start_time": "2022-03-26T07:00:16.775Z"
   },
   {
    "duration": 4,
    "start_time": "2022-03-26T07:00:16.814Z"
   },
   {
    "duration": 15,
    "start_time": "2022-03-26T07:00:16.821Z"
   },
   {
    "duration": 4,
    "start_time": "2022-03-26T07:00:16.838Z"
   },
   {
    "duration": 15,
    "start_time": "2022-03-26T07:00:16.844Z"
   },
   {
    "duration": 12,
    "start_time": "2022-03-26T07:00:16.861Z"
   },
   {
    "duration": 15,
    "start_time": "2022-03-26T07:00:16.902Z"
   },
   {
    "duration": 16,
    "start_time": "2022-03-26T07:00:16.918Z"
   },
   {
    "duration": 5,
    "start_time": "2022-03-26T07:00:16.936Z"
   },
   {
    "duration": 16,
    "start_time": "2022-03-26T07:00:16.942Z"
   },
   {
    "duration": 8,
    "start_time": "2022-03-26T07:00:16.960Z"
   },
   {
    "duration": 45,
    "start_time": "2022-03-26T07:00:16.970Z"
   },
   {
    "duration": 14,
    "start_time": "2022-03-26T07:00:17.017Z"
   },
   {
    "duration": 4,
    "start_time": "2022-03-26T07:00:17.032Z"
   },
   {
    "duration": 31,
    "start_time": "2022-03-26T07:00:17.037Z"
   },
   {
    "duration": 173,
    "start_time": "2022-03-26T07:00:17.070Z"
   },
   {
    "duration": 19,
    "start_time": "2022-03-26T07:00:17.245Z"
   },
   {
    "duration": 6,
    "start_time": "2022-03-26T07:00:17.267Z"
   },
   {
    "duration": 53,
    "start_time": "2022-03-26T07:00:17.275Z"
   },
   {
    "duration": 14,
    "start_time": "2022-03-26T07:00:17.329Z"
   },
   {
    "duration": 143,
    "start_time": "2022-03-26T07:00:17.345Z"
   },
   {
    "duration": 335,
    "start_time": "2022-03-26T07:00:17.489Z"
   },
   {
    "duration": 262,
    "start_time": "2022-03-26T07:00:17.826Z"
   },
   {
    "duration": 201,
    "start_time": "2022-03-26T07:00:18.089Z"
   },
   {
    "duration": 0,
    "start_time": "2022-03-26T07:00:18.291Z"
   },
   {
    "duration": 0,
    "start_time": "2022-03-26T07:00:18.293Z"
   },
   {
    "duration": 0,
    "start_time": "2022-03-26T07:00:18.294Z"
   },
   {
    "duration": 0,
    "start_time": "2022-03-26T07:00:18.295Z"
   },
   {
    "duration": 0,
    "start_time": "2022-03-26T07:00:18.296Z"
   },
   {
    "duration": 0,
    "start_time": "2022-03-26T07:00:18.297Z"
   },
   {
    "duration": 0,
    "start_time": "2022-03-26T07:00:18.298Z"
   },
   {
    "duration": 0,
    "start_time": "2022-03-26T07:00:18.299Z"
   },
   {
    "duration": 0,
    "start_time": "2022-03-26T07:00:18.300Z"
   },
   {
    "duration": 0,
    "start_time": "2022-03-26T07:00:18.302Z"
   },
   {
    "duration": 0,
    "start_time": "2022-03-26T07:00:18.304Z"
   },
   {
    "duration": 13,
    "start_time": "2022-03-26T07:00:26.827Z"
   },
   {
    "duration": 15,
    "start_time": "2022-03-26T07:00:41.920Z"
   },
   {
    "duration": 254,
    "start_time": "2022-03-26T07:01:11.354Z"
   },
   {
    "duration": 12,
    "start_time": "2022-03-26T07:03:06.670Z"
   },
   {
    "duration": 303,
    "start_time": "2022-03-26T07:03:17.796Z"
   },
   {
    "duration": 113,
    "start_time": "2022-03-26T07:04:07.661Z"
   },
   {
    "duration": 134,
    "start_time": "2022-03-26T07:04:18.663Z"
   },
   {
    "duration": 213,
    "start_time": "2022-03-26T07:05:10.119Z"
   },
   {
    "duration": 164,
    "start_time": "2022-03-26T07:06:20.892Z"
   },
   {
    "duration": 186,
    "start_time": "2022-03-26T07:09:00.217Z"
   },
   {
    "duration": 172,
    "start_time": "2022-03-26T07:11:49.298Z"
   },
   {
    "duration": 161,
    "start_time": "2022-03-26T07:11:57.377Z"
   },
   {
    "duration": 178,
    "start_time": "2022-03-26T07:12:07.313Z"
   },
   {
    "duration": 164,
    "start_time": "2022-03-26T07:14:07.833Z"
   },
   {
    "duration": 184,
    "start_time": "2022-03-26T07:15:03.669Z"
   },
   {
    "duration": 1156,
    "start_time": "2022-03-26T07:17:25.236Z"
   },
   {
    "duration": 403,
    "start_time": "2022-03-26T07:17:26.394Z"
   },
   {
    "duration": 12,
    "start_time": "2022-03-26T07:17:26.798Z"
   },
   {
    "duration": 25,
    "start_time": "2022-03-26T07:17:26.812Z"
   },
   {
    "duration": 8,
    "start_time": "2022-03-26T07:17:26.838Z"
   },
   {
    "duration": 25,
    "start_time": "2022-03-26T07:17:26.847Z"
   },
   {
    "duration": 29,
    "start_time": "2022-03-26T07:17:26.874Z"
   },
   {
    "duration": 27,
    "start_time": "2022-03-26T07:17:26.905Z"
   },
   {
    "duration": 10,
    "start_time": "2022-03-26T07:17:26.934Z"
   },
   {
    "duration": 5,
    "start_time": "2022-03-26T07:17:26.947Z"
   },
   {
    "duration": 12,
    "start_time": "2022-03-26T07:17:26.954Z"
   },
   {
    "duration": 39,
    "start_time": "2022-03-26T07:17:26.968Z"
   },
   {
    "duration": 14,
    "start_time": "2022-03-26T07:17:27.009Z"
   },
   {
    "duration": 34,
    "start_time": "2022-03-26T07:17:27.025Z"
   },
   {
    "duration": 1771,
    "start_time": "2022-03-26T07:17:27.061Z"
   },
   {
    "duration": 20,
    "start_time": "2022-03-26T07:17:28.834Z"
   },
   {
    "duration": 23,
    "start_time": "2022-03-26T07:17:28.855Z"
   },
   {
    "duration": 34,
    "start_time": "2022-03-26T07:17:28.880Z"
   },
   {
    "duration": 19,
    "start_time": "2022-03-26T07:17:28.916Z"
   },
   {
    "duration": 15,
    "start_time": "2022-03-26T07:17:28.937Z"
   },
   {
    "duration": 5,
    "start_time": "2022-03-26T07:17:28.953Z"
   },
   {
    "duration": 11,
    "start_time": "2022-03-26T07:17:28.960Z"
   },
   {
    "duration": 8,
    "start_time": "2022-03-26T07:17:29.001Z"
   },
   {
    "duration": 76,
    "start_time": "2022-03-26T07:17:29.011Z"
   },
   {
    "duration": 45,
    "start_time": "2022-03-26T07:17:29.089Z"
   },
   {
    "duration": 93,
    "start_time": "2022-03-26T07:17:29.136Z"
   },
   {
    "duration": 6,
    "start_time": "2022-03-26T07:17:29.230Z"
   },
   {
    "duration": 107,
    "start_time": "2022-03-26T07:17:29.240Z"
   },
   {
    "duration": 10,
    "start_time": "2022-03-26T07:17:29.348Z"
   },
   {
    "duration": 17,
    "start_time": "2022-03-26T07:17:29.360Z"
   },
   {
    "duration": 22,
    "start_time": "2022-03-26T07:17:29.379Z"
   },
   {
    "duration": 8,
    "start_time": "2022-03-26T07:17:29.403Z"
   },
   {
    "duration": 8,
    "start_time": "2022-03-26T07:17:29.413Z"
   },
   {
    "duration": 6,
    "start_time": "2022-03-26T07:17:29.423Z"
   },
   {
    "duration": 58,
    "start_time": "2022-03-26T07:17:29.431Z"
   },
   {
    "duration": 35,
    "start_time": "2022-03-26T07:17:29.490Z"
   },
   {
    "duration": 25,
    "start_time": "2022-03-26T07:17:29.527Z"
   },
   {
    "duration": 4,
    "start_time": "2022-03-26T07:17:29.554Z"
   },
   {
    "duration": 43,
    "start_time": "2022-03-26T07:17:29.559Z"
   },
   {
    "duration": 57,
    "start_time": "2022-03-26T07:17:29.604Z"
   },
   {
    "duration": 11,
    "start_time": "2022-03-26T07:17:29.663Z"
   },
   {
    "duration": 15,
    "start_time": "2022-03-26T07:17:29.676Z"
   },
   {
    "duration": 19,
    "start_time": "2022-03-26T07:17:29.693Z"
   },
   {
    "duration": 22,
    "start_time": "2022-03-26T07:17:29.714Z"
   },
   {
    "duration": 4,
    "start_time": "2022-03-26T07:17:29.738Z"
   },
   {
    "duration": 13,
    "start_time": "2022-03-26T07:17:29.744Z"
   },
   {
    "duration": 5,
    "start_time": "2022-03-26T07:17:29.758Z"
   },
   {
    "duration": 38,
    "start_time": "2022-03-26T07:17:29.764Z"
   },
   {
    "duration": 8,
    "start_time": "2022-03-26T07:17:29.804Z"
   },
   {
    "duration": 17,
    "start_time": "2022-03-26T07:17:29.813Z"
   },
   {
    "duration": 14,
    "start_time": "2022-03-26T07:17:29.832Z"
   },
   {
    "duration": 5,
    "start_time": "2022-03-26T07:17:29.848Z"
   },
   {
    "duration": 20,
    "start_time": "2022-03-26T07:17:29.854Z"
   },
   {
    "duration": 8,
    "start_time": "2022-03-26T07:17:29.876Z"
   },
   {
    "duration": 16,
    "start_time": "2022-03-26T07:17:29.900Z"
   },
   {
    "duration": 21,
    "start_time": "2022-03-26T07:17:29.918Z"
   },
   {
    "duration": 4,
    "start_time": "2022-03-26T07:17:29.940Z"
   },
   {
    "duration": 26,
    "start_time": "2022-03-26T07:17:29.945Z"
   },
   {
    "duration": 163,
    "start_time": "2022-03-26T07:17:29.973Z"
   },
   {
    "duration": 11,
    "start_time": "2022-03-26T07:17:30.138Z"
   },
   {
    "duration": 16,
    "start_time": "2022-03-26T07:17:30.151Z"
   },
   {
    "duration": 29,
    "start_time": "2022-03-26T07:17:30.169Z"
   },
   {
    "duration": 10,
    "start_time": "2022-03-26T07:17:30.201Z"
   },
   {
    "duration": 194,
    "start_time": "2022-03-26T07:17:30.213Z"
   },
   {
    "duration": 313,
    "start_time": "2022-03-26T07:17:30.410Z"
   },
   {
    "duration": 185,
    "start_time": "2022-03-26T07:17:30.724Z"
   },
   {
    "duration": 13,
    "start_time": "2022-03-26T07:17:30.911Z"
   },
   {
    "duration": 343,
    "start_time": "2022-03-26T07:17:30.926Z"
   },
   {
    "duration": 155,
    "start_time": "2022-03-26T07:17:31.270Z"
   },
   {
    "duration": 13,
    "start_time": "2022-03-26T07:17:31.427Z"
   },
   {
    "duration": 423,
    "start_time": "2022-03-26T07:17:31.441Z"
   },
   {
    "duration": 166,
    "start_time": "2022-03-26T07:17:31.866Z"
   },
   {
    "duration": 14,
    "start_time": "2022-03-26T07:17:32.034Z"
   },
   {
    "duration": 8,
    "start_time": "2022-03-26T07:17:32.050Z"
   },
   {
    "duration": 8,
    "start_time": "2022-03-26T07:17:32.060Z"
   },
   {
    "duration": 34,
    "start_time": "2022-03-26T07:17:32.070Z"
   },
   {
    "duration": 7,
    "start_time": "2022-03-26T07:17:32.106Z"
   },
   {
    "duration": 244,
    "start_time": "2022-03-26T07:17:58.410Z"
   },
   {
    "duration": 258,
    "start_time": "2022-03-26T07:18:52.512Z"
   },
   {
    "duration": 172,
    "start_time": "2022-03-26T07:19:02.153Z"
   },
   {
    "duration": 161,
    "start_time": "2022-03-26T07:19:07.341Z"
   },
   {
    "duration": 184,
    "start_time": "2022-03-26T07:26:32.808Z"
   },
   {
    "duration": 163,
    "start_time": "2022-03-26T07:32:33.944Z"
   },
   {
    "duration": 103,
    "start_time": "2022-03-26T07:37:13.968Z"
   },
   {
    "duration": 185,
    "start_time": "2022-03-26T07:37:28.306Z"
   },
   {
    "duration": 1370,
    "start_time": "2022-03-26T07:40:13.639Z"
   },
   {
    "duration": 403,
    "start_time": "2022-03-26T07:40:15.011Z"
   },
   {
    "duration": 12,
    "start_time": "2022-03-26T07:40:15.416Z"
   },
   {
    "duration": 36,
    "start_time": "2022-03-26T07:40:15.430Z"
   },
   {
    "duration": 9,
    "start_time": "2022-03-26T07:40:15.467Z"
   },
   {
    "duration": 38,
    "start_time": "2022-03-26T07:40:15.478Z"
   },
   {
    "duration": 9,
    "start_time": "2022-03-26T07:40:15.518Z"
   },
   {
    "duration": 25,
    "start_time": "2022-03-26T07:40:15.529Z"
   },
   {
    "duration": 17,
    "start_time": "2022-03-26T07:40:15.556Z"
   },
   {
    "duration": 12,
    "start_time": "2022-03-26T07:40:15.576Z"
   },
   {
    "duration": 27,
    "start_time": "2022-03-26T07:40:15.590Z"
   },
   {
    "duration": 22,
    "start_time": "2022-03-26T07:40:15.619Z"
   },
   {
    "duration": 17,
    "start_time": "2022-03-26T07:40:15.643Z"
   },
   {
    "duration": 49,
    "start_time": "2022-03-26T07:40:15.662Z"
   },
   {
    "duration": 1873,
    "start_time": "2022-03-26T07:40:15.713Z"
   },
   {
    "duration": 22,
    "start_time": "2022-03-26T07:40:17.587Z"
   },
   {
    "duration": 22,
    "start_time": "2022-03-26T07:40:17.611Z"
   },
   {
    "duration": 16,
    "start_time": "2022-03-26T07:40:17.634Z"
   },
   {
    "duration": 19,
    "start_time": "2022-03-26T07:40:17.652Z"
   },
   {
    "duration": 35,
    "start_time": "2022-03-26T07:40:17.673Z"
   },
   {
    "duration": 6,
    "start_time": "2022-03-26T07:40:17.710Z"
   },
   {
    "duration": 26,
    "start_time": "2022-03-26T07:40:17.718Z"
   },
   {
    "duration": 24,
    "start_time": "2022-03-26T07:40:17.746Z"
   },
   {
    "duration": 73,
    "start_time": "2022-03-26T07:40:17.772Z"
   },
   {
    "duration": 39,
    "start_time": "2022-03-26T07:40:17.847Z"
   },
   {
    "duration": 96,
    "start_time": "2022-03-26T07:40:17.888Z"
   },
   {
    "duration": 16,
    "start_time": "2022-03-26T07:40:17.985Z"
   },
   {
    "duration": 106,
    "start_time": "2022-03-26T07:40:18.005Z"
   },
   {
    "duration": 9,
    "start_time": "2022-03-26T07:40:18.112Z"
   },
   {
    "duration": 16,
    "start_time": "2022-03-26T07:40:18.122Z"
   },
   {
    "duration": 21,
    "start_time": "2022-03-26T07:40:18.139Z"
   },
   {
    "duration": 16,
    "start_time": "2022-03-26T07:40:18.161Z"
   },
   {
    "duration": 17,
    "start_time": "2022-03-26T07:40:18.179Z"
   },
   {
    "duration": 19,
    "start_time": "2022-03-26T07:40:18.197Z"
   },
   {
    "duration": 56,
    "start_time": "2022-03-26T07:40:18.217Z"
   },
   {
    "duration": 28,
    "start_time": "2022-03-26T07:40:18.274Z"
   },
   {
    "duration": 27,
    "start_time": "2022-03-26T07:40:18.304Z"
   },
   {
    "duration": 3,
    "start_time": "2022-03-26T07:40:18.333Z"
   },
   {
    "duration": 24,
    "start_time": "2022-03-26T07:40:18.337Z"
   },
   {
    "duration": 43,
    "start_time": "2022-03-26T07:40:18.363Z"
   },
   {
    "duration": 10,
    "start_time": "2022-03-26T07:40:18.408Z"
   },
   {
    "duration": 13,
    "start_time": "2022-03-26T07:40:18.420Z"
   },
   {
    "duration": 20,
    "start_time": "2022-03-26T07:40:18.435Z"
   },
   {
    "duration": 28,
    "start_time": "2022-03-26T07:40:18.457Z"
   },
   {
    "duration": 14,
    "start_time": "2022-03-26T07:40:18.487Z"
   },
   {
    "duration": 27,
    "start_time": "2022-03-26T07:40:18.503Z"
   },
   {
    "duration": 26,
    "start_time": "2022-03-26T07:40:18.532Z"
   },
   {
    "duration": 28,
    "start_time": "2022-03-26T07:40:18.560Z"
   },
   {
    "duration": 25,
    "start_time": "2022-03-26T07:40:18.589Z"
   },
   {
    "duration": 31,
    "start_time": "2022-03-26T07:40:18.615Z"
   },
   {
    "duration": 23,
    "start_time": "2022-03-26T07:40:18.648Z"
   },
   {
    "duration": 18,
    "start_time": "2022-03-26T07:40:18.672Z"
   },
   {
    "duration": 35,
    "start_time": "2022-03-26T07:40:18.691Z"
   },
   {
    "duration": 6,
    "start_time": "2022-03-26T07:40:18.728Z"
   },
   {
    "duration": 28,
    "start_time": "2022-03-26T07:40:18.736Z"
   },
   {
    "duration": 29,
    "start_time": "2022-03-26T07:40:18.765Z"
   },
   {
    "duration": 6,
    "start_time": "2022-03-26T07:40:18.795Z"
   },
   {
    "duration": 50,
    "start_time": "2022-03-26T07:40:18.802Z"
   },
   {
    "duration": 161,
    "start_time": "2022-03-26T07:40:18.853Z"
   },
   {
    "duration": 11,
    "start_time": "2022-03-26T07:40:19.016Z"
   },
   {
    "duration": 8,
    "start_time": "2022-03-26T07:40:19.028Z"
   },
   {
    "duration": 34,
    "start_time": "2022-03-26T07:40:19.038Z"
   },
   {
    "duration": 10,
    "start_time": "2022-03-26T07:40:19.074Z"
   },
   {
    "duration": 152,
    "start_time": "2022-03-26T07:40:19.086Z"
   },
   {
    "duration": 321,
    "start_time": "2022-03-26T07:40:19.239Z"
   },
   {
    "duration": 193,
    "start_time": "2022-03-26T07:40:19.562Z"
   },
   {
    "duration": 12,
    "start_time": "2022-03-26T07:40:19.757Z"
   },
   {
    "duration": 325,
    "start_time": "2022-03-26T07:40:19.770Z"
   },
   {
    "duration": 184,
    "start_time": "2022-03-26T07:40:20.096Z"
   },
   {
    "duration": 21,
    "start_time": "2022-03-26T07:40:20.282Z"
   },
   {
    "duration": 397,
    "start_time": "2022-03-26T07:40:20.305Z"
   },
   {
    "duration": 202,
    "start_time": "2022-03-26T07:40:20.704Z"
   },
   {
    "duration": 13,
    "start_time": "2022-03-26T07:40:20.908Z"
   },
   {
    "duration": 11,
    "start_time": "2022-03-26T07:40:20.922Z"
   },
   {
    "duration": 8,
    "start_time": "2022-03-26T07:40:20.935Z"
   },
   {
    "duration": 19,
    "start_time": "2022-03-26T07:40:20.944Z"
   },
   {
    "duration": 19,
    "start_time": "2022-03-26T07:40:20.965Z"
   },
   {
    "duration": 1277,
    "start_time": "2022-03-26T11:15:35.651Z"
   },
   {
    "duration": 385,
    "start_time": "2022-03-26T11:15:36.933Z"
   },
   {
    "duration": 12,
    "start_time": "2022-03-26T11:15:37.320Z"
   },
   {
    "duration": 26,
    "start_time": "2022-03-26T11:15:37.334Z"
   },
   {
    "duration": 8,
    "start_time": "2022-03-26T11:15:37.361Z"
   },
   {
    "duration": 25,
    "start_time": "2022-03-26T11:15:37.371Z"
   },
   {
    "duration": 8,
    "start_time": "2022-03-26T11:15:37.397Z"
   },
   {
    "duration": 41,
    "start_time": "2022-03-26T11:15:37.406Z"
   },
   {
    "duration": 8,
    "start_time": "2022-03-26T11:15:37.449Z"
   },
   {
    "duration": 11,
    "start_time": "2022-03-26T11:15:37.459Z"
   },
   {
    "duration": 16,
    "start_time": "2022-03-26T11:15:37.472Z"
   },
   {
    "duration": 11,
    "start_time": "2022-03-26T11:15:37.490Z"
   },
   {
    "duration": 34,
    "start_time": "2022-03-26T11:15:37.502Z"
   },
   {
    "duration": 40,
    "start_time": "2022-03-26T11:15:37.538Z"
   },
   {
    "duration": 1715,
    "start_time": "2022-03-26T11:15:37.580Z"
   },
   {
    "duration": 18,
    "start_time": "2022-03-26T11:15:39.297Z"
   },
   {
    "duration": 22,
    "start_time": "2022-03-26T11:15:39.333Z"
   },
   {
    "duration": 16,
    "start_time": "2022-03-26T11:15:39.356Z"
   },
   {
    "duration": 17,
    "start_time": "2022-03-26T11:15:39.374Z"
   },
   {
    "duration": 40,
    "start_time": "2022-03-26T11:15:39.393Z"
   },
   {
    "duration": 6,
    "start_time": "2022-03-26T11:15:39.435Z"
   },
   {
    "duration": 14,
    "start_time": "2022-03-26T11:15:39.442Z"
   },
   {
    "duration": 7,
    "start_time": "2022-03-26T11:15:39.458Z"
   },
   {
    "duration": 71,
    "start_time": "2022-03-26T11:15:39.467Z"
   },
   {
    "duration": 40,
    "start_time": "2022-03-26T11:15:39.540Z"
   },
   {
    "duration": 100,
    "start_time": "2022-03-26T11:15:39.582Z"
   },
   {
    "duration": 6,
    "start_time": "2022-03-26T11:15:39.684Z"
   },
   {
    "duration": 108,
    "start_time": "2022-03-26T11:15:39.694Z"
   },
   {
    "duration": 9,
    "start_time": "2022-03-26T11:15:39.803Z"
   },
   {
    "duration": 22,
    "start_time": "2022-03-26T11:15:39.814Z"
   },
   {
    "duration": 11,
    "start_time": "2022-03-26T11:15:39.838Z"
   },
   {
    "duration": 13,
    "start_time": "2022-03-26T11:15:39.850Z"
   },
   {
    "duration": 5,
    "start_time": "2022-03-26T11:15:39.865Z"
   },
   {
    "duration": 4,
    "start_time": "2022-03-26T11:15:39.872Z"
   },
   {
    "duration": 80,
    "start_time": "2022-03-26T11:15:39.878Z"
   },
   {
    "duration": 30,
    "start_time": "2022-03-26T11:15:39.959Z"
   },
   {
    "duration": 43,
    "start_time": "2022-03-26T11:15:39.991Z"
   },
   {
    "duration": 4,
    "start_time": "2022-03-26T11:15:40.036Z"
   },
   {
    "duration": 17,
    "start_time": "2022-03-26T11:15:40.041Z"
   },
   {
    "duration": 42,
    "start_time": "2022-03-26T11:15:40.060Z"
   },
   {
    "duration": 8,
    "start_time": "2022-03-26T11:15:40.104Z"
   },
   {
    "duration": 26,
    "start_time": "2022-03-26T11:15:40.114Z"
   },
   {
    "duration": 11,
    "start_time": "2022-03-26T11:15:40.142Z"
   },
   {
    "duration": 11,
    "start_time": "2022-03-26T11:15:40.154Z"
   },
   {
    "duration": 6,
    "start_time": "2022-03-26T11:15:40.166Z"
   },
   {
    "duration": 15,
    "start_time": "2022-03-26T11:15:40.174Z"
   },
   {
    "duration": 8,
    "start_time": "2022-03-26T11:15:40.191Z"
   },
   {
    "duration": 36,
    "start_time": "2022-03-26T11:15:40.201Z"
   },
   {
    "duration": 22,
    "start_time": "2022-03-26T11:15:40.238Z"
   },
   {
    "duration": 13,
    "start_time": "2022-03-26T11:15:40.262Z"
   },
   {
    "duration": 14,
    "start_time": "2022-03-26T11:15:40.277Z"
   },
   {
    "duration": 6,
    "start_time": "2022-03-26T11:15:40.293Z"
   },
   {
    "duration": 18,
    "start_time": "2022-03-26T11:15:40.300Z"
   },
   {
    "duration": 19,
    "start_time": "2022-03-26T11:15:40.319Z"
   },
   {
    "duration": 21,
    "start_time": "2022-03-26T11:15:40.339Z"
   },
   {
    "duration": 15,
    "start_time": "2022-03-26T11:15:40.362Z"
   },
   {
    "duration": 3,
    "start_time": "2022-03-26T11:15:40.379Z"
   },
   {
    "duration": 21,
    "start_time": "2022-03-26T11:15:40.384Z"
   },
   {
    "duration": 155,
    "start_time": "2022-03-26T11:15:40.407Z"
   },
   {
    "duration": 11,
    "start_time": "2022-03-26T11:15:40.564Z"
   },
   {
    "duration": 6,
    "start_time": "2022-03-26T11:15:40.577Z"
   },
   {
    "duration": 22,
    "start_time": "2022-03-26T11:15:40.585Z"
   },
   {
    "duration": 34,
    "start_time": "2022-03-26T11:15:40.608Z"
   },
   {
    "duration": 127,
    "start_time": "2022-03-26T11:15:40.644Z"
   },
   {
    "duration": 307,
    "start_time": "2022-03-26T11:15:40.772Z"
   },
   {
    "duration": 200,
    "start_time": "2022-03-26T11:15:41.080Z"
   },
   {
    "duration": 12,
    "start_time": "2022-03-26T11:15:41.282Z"
   },
   {
    "duration": 325,
    "start_time": "2022-03-26T11:15:41.295Z"
   },
   {
    "duration": 174,
    "start_time": "2022-03-26T11:15:41.622Z"
   },
   {
    "duration": 11,
    "start_time": "2022-03-26T11:15:41.798Z"
   },
   {
    "duration": 390,
    "start_time": "2022-03-26T11:15:41.811Z"
   },
   {
    "duration": 183,
    "start_time": "2022-03-26T11:15:42.203Z"
   },
   {
    "duration": 14,
    "start_time": "2022-03-26T11:15:42.388Z"
   },
   {
    "duration": 33,
    "start_time": "2022-03-26T11:15:42.404Z"
   },
   {
    "duration": 10,
    "start_time": "2022-03-26T11:15:42.439Z"
   },
   {
    "duration": 9,
    "start_time": "2022-03-26T11:15:42.451Z"
   },
   {
    "duration": 9,
    "start_time": "2022-03-26T11:15:42.461Z"
   },
   {
    "duration": 222,
    "start_time": "2022-03-26T12:10:52.913Z"
   },
   {
    "duration": 68,
    "start_time": "2022-03-26T12:10:59.453Z"
   },
   {
    "duration": 1842,
    "start_time": "2022-03-26T12:11:06.965Z"
   },
   {
    "duration": 492,
    "start_time": "2022-03-26T12:11:08.810Z"
   },
   {
    "duration": 19,
    "start_time": "2022-03-26T12:11:09.305Z"
   },
   {
    "duration": 41,
    "start_time": "2022-03-26T12:11:09.328Z"
   },
   {
    "duration": 14,
    "start_time": "2022-03-26T12:11:09.371Z"
   },
   {
    "duration": 40,
    "start_time": "2022-03-26T12:11:09.388Z"
   },
   {
    "duration": 18,
    "start_time": "2022-03-26T12:11:09.430Z"
   },
   {
    "duration": 28,
    "start_time": "2022-03-26T12:11:09.450Z"
   },
   {
    "duration": 13,
    "start_time": "2022-03-26T12:11:09.480Z"
   },
   {
    "duration": 11,
    "start_time": "2022-03-26T12:11:09.497Z"
   },
   {
    "duration": 41,
    "start_time": "2022-03-26T12:11:09.510Z"
   },
   {
    "duration": 25,
    "start_time": "2022-03-26T12:11:09.553Z"
   },
   {
    "duration": 18,
    "start_time": "2022-03-26T12:11:09.580Z"
   },
   {
    "duration": 68,
    "start_time": "2022-03-26T12:11:09.599Z"
   },
   {
    "duration": 2937,
    "start_time": "2022-03-26T12:11:09.669Z"
   },
   {
    "duration": 37,
    "start_time": "2022-03-26T12:11:12.609Z"
   },
   {
    "duration": 33,
    "start_time": "2022-03-26T12:11:12.648Z"
   },
   {
    "duration": 23,
    "start_time": "2022-03-26T12:11:12.683Z"
   },
   {
    "duration": 51,
    "start_time": "2022-03-26T12:11:12.708Z"
   },
   {
    "duration": 20,
    "start_time": "2022-03-26T12:11:12.762Z"
   },
   {
    "duration": 8,
    "start_time": "2022-03-26T12:11:12.784Z"
   },
   {
    "duration": 16,
    "start_time": "2022-03-26T12:11:12.794Z"
   },
   {
    "duration": 9,
    "start_time": "2022-03-26T12:11:12.843Z"
   },
   {
    "duration": 112,
    "start_time": "2022-03-26T12:11:12.855Z"
   },
   {
    "duration": 53,
    "start_time": "2022-03-26T12:11:12.970Z"
   },
   {
    "duration": 116,
    "start_time": "2022-03-26T12:11:13.042Z"
   },
   {
    "duration": 7,
    "start_time": "2022-03-26T12:11:13.160Z"
   },
   {
    "duration": 151,
    "start_time": "2022-03-26T12:11:13.173Z"
   },
   {
    "duration": 16,
    "start_time": "2022-03-26T12:11:13.327Z"
   },
   {
    "duration": 14,
    "start_time": "2022-03-26T12:11:13.345Z"
   },
   {
    "duration": 13,
    "start_time": "2022-03-26T12:11:13.361Z"
   },
   {
    "duration": 9,
    "start_time": "2022-03-26T12:11:13.376Z"
   },
   {
    "duration": 6,
    "start_time": "2022-03-26T12:11:13.387Z"
   },
   {
    "duration": 49,
    "start_time": "2022-03-26T12:11:13.395Z"
   },
   {
    "duration": 72,
    "start_time": "2022-03-26T12:11:13.446Z"
   },
   {
    "duration": 56,
    "start_time": "2022-03-26T12:11:13.520Z"
   },
   {
    "duration": 38,
    "start_time": "2022-03-26T12:11:13.578Z"
   },
   {
    "duration": 25,
    "start_time": "2022-03-26T12:11:13.618Z"
   },
   {
    "duration": 20,
    "start_time": "2022-03-26T12:11:13.645Z"
   },
   {
    "duration": 76,
    "start_time": "2022-03-26T12:11:13.667Z"
   },
   {
    "duration": 12,
    "start_time": "2022-03-26T12:11:13.745Z"
   },
   {
    "duration": 12,
    "start_time": "2022-03-26T12:11:13.760Z"
   },
   {
    "duration": 16,
    "start_time": "2022-03-26T12:11:13.774Z"
   },
   {
    "duration": 14,
    "start_time": "2022-03-26T12:11:13.792Z"
   },
   {
    "duration": 7,
    "start_time": "2022-03-26T12:11:13.842Z"
   },
   {
    "duration": 17,
    "start_time": "2022-03-26T12:11:13.851Z"
   },
   {
    "duration": 6,
    "start_time": "2022-03-26T12:11:13.869Z"
   },
   {
    "duration": 14,
    "start_time": "2022-03-26T12:11:13.877Z"
   },
   {
    "duration": 10,
    "start_time": "2022-03-26T12:11:13.893Z"
   },
   {
    "duration": 57,
    "start_time": "2022-03-26T12:11:13.905Z"
   },
   {
    "duration": 17,
    "start_time": "2022-03-26T12:11:13.964Z"
   },
   {
    "duration": 5,
    "start_time": "2022-03-26T12:11:13.984Z"
   },
   {
    "duration": 51,
    "start_time": "2022-03-26T12:11:13.992Z"
   },
   {
    "duration": 10,
    "start_time": "2022-03-26T12:11:14.045Z"
   },
   {
    "duration": 23,
    "start_time": "2022-03-26T12:11:14.057Z"
   },
   {
    "duration": 20,
    "start_time": "2022-03-26T12:11:14.082Z"
   },
   {
    "duration": 5,
    "start_time": "2022-03-26T12:11:14.104Z"
   },
   {
    "duration": 61,
    "start_time": "2022-03-26T12:11:14.111Z"
   },
   {
    "duration": 254,
    "start_time": "2022-03-26T12:11:14.174Z"
   },
   {
    "duration": 25,
    "start_time": "2022-03-26T12:11:14.431Z"
   },
   {
    "duration": 6,
    "start_time": "2022-03-26T12:11:14.459Z"
   },
   {
    "duration": 32,
    "start_time": "2022-03-26T12:11:14.467Z"
   },
   {
    "duration": 49,
    "start_time": "2022-03-26T12:11:14.501Z"
   },
   {
    "duration": 206,
    "start_time": "2022-03-26T12:11:14.552Z"
   },
   {
    "duration": 519,
    "start_time": "2022-03-26T12:11:14.761Z"
   },
   {
    "duration": 332,
    "start_time": "2022-03-26T12:11:15.283Z"
   },
   {
    "duration": 5616,
    "start_time": "2022-03-26T12:11:15.618Z"
   },
   {
    "duration": 22,
    "start_time": "2022-03-26T12:11:21.237Z"
   },
   {
    "duration": 553,
    "start_time": "2022-03-26T12:11:21.261Z"
   },
   {
    "duration": 357,
    "start_time": "2022-03-26T12:11:21.816Z"
   },
   {
    "duration": 17,
    "start_time": "2022-03-26T12:11:22.175Z"
   },
   {
    "duration": 548,
    "start_time": "2022-03-26T12:11:22.195Z"
   },
   {
    "duration": 465,
    "start_time": "2022-03-26T12:11:22.745Z"
   },
   {
    "duration": 33,
    "start_time": "2022-03-26T12:11:23.212Z"
   },
   {
    "duration": 11,
    "start_time": "2022-03-26T12:11:23.247Z"
   },
   {
    "duration": 12,
    "start_time": "2022-03-26T12:11:23.261Z"
   },
   {
    "duration": 10,
    "start_time": "2022-03-26T12:11:23.275Z"
   },
   {
    "duration": 56,
    "start_time": "2022-03-26T12:11:23.287Z"
   },
   {
    "duration": 284,
    "start_time": "2022-03-26T12:11:53.803Z"
   },
   {
    "duration": 3632,
    "start_time": "2022-03-26T12:22:55.149Z"
   },
   {
    "duration": 309,
    "start_time": "2022-03-26T12:23:04.836Z"
   },
   {
    "duration": 300,
    "start_time": "2022-03-26T12:27:06.605Z"
   },
   {
    "duration": 1624,
    "start_time": "2022-03-26T12:28:39.840Z"
   },
   {
    "duration": 516,
    "start_time": "2022-03-26T12:28:41.466Z"
   },
   {
    "duration": 17,
    "start_time": "2022-03-26T12:28:41.984Z"
   },
   {
    "duration": 33,
    "start_time": "2022-03-26T12:28:42.004Z"
   },
   {
    "duration": 12,
    "start_time": "2022-03-26T12:28:42.039Z"
   },
   {
    "duration": 31,
    "start_time": "2022-03-26T12:28:42.053Z"
   },
   {
    "duration": 10,
    "start_time": "2022-03-26T12:28:42.086Z"
   },
   {
    "duration": 45,
    "start_time": "2022-03-26T12:28:42.098Z"
   },
   {
    "duration": 12,
    "start_time": "2022-03-26T12:28:42.146Z"
   },
   {
    "duration": 5,
    "start_time": "2022-03-26T12:28:42.164Z"
   },
   {
    "duration": 16,
    "start_time": "2022-03-26T12:28:42.172Z"
   },
   {
    "duration": 53,
    "start_time": "2022-03-26T12:28:42.191Z"
   },
   {
    "duration": 15,
    "start_time": "2022-03-26T12:28:42.247Z"
   },
   {
    "duration": 55,
    "start_time": "2022-03-26T12:28:42.265Z"
   },
   {
    "duration": 2922,
    "start_time": "2022-03-26T12:28:42.344Z"
   },
   {
    "duration": 26,
    "start_time": "2022-03-26T12:28:45.268Z"
   },
   {
    "duration": 57,
    "start_time": "2022-03-26T12:28:45.297Z"
   },
   {
    "duration": 22,
    "start_time": "2022-03-26T12:28:45.357Z"
   },
   {
    "duration": 27,
    "start_time": "2022-03-26T12:28:45.381Z"
   },
   {
    "duration": 48,
    "start_time": "2022-03-26T12:28:45.411Z"
   },
   {
    "duration": 7,
    "start_time": "2022-03-26T12:28:45.461Z"
   },
   {
    "duration": 18,
    "start_time": "2022-03-26T12:28:45.470Z"
   },
   {
    "duration": 13,
    "start_time": "2022-03-26T12:28:45.490Z"
   },
   {
    "duration": 119,
    "start_time": "2022-03-26T12:28:45.506Z"
   },
   {
    "duration": 65,
    "start_time": "2022-03-26T12:28:45.627Z"
   },
   {
    "duration": 132,
    "start_time": "2022-03-26T12:28:45.695Z"
   },
   {
    "duration": 16,
    "start_time": "2022-03-26T12:28:45.830Z"
   },
   {
    "duration": 161,
    "start_time": "2022-03-26T12:28:45.853Z"
   },
   {
    "duration": 13,
    "start_time": "2022-03-26T12:28:46.017Z"
   },
   {
    "duration": 15,
    "start_time": "2022-03-26T12:28:46.042Z"
   },
   {
    "duration": 19,
    "start_time": "2022-03-26T12:28:46.060Z"
   },
   {
    "duration": 24,
    "start_time": "2022-03-26T12:28:46.081Z"
   },
   {
    "duration": 11,
    "start_time": "2022-03-26T12:28:46.107Z"
   },
   {
    "duration": 23,
    "start_time": "2022-03-26T12:28:46.121Z"
   },
   {
    "duration": 81,
    "start_time": "2022-03-26T12:28:46.147Z"
   },
   {
    "duration": 70,
    "start_time": "2022-03-26T12:28:46.230Z"
   },
   {
    "duration": 74,
    "start_time": "2022-03-26T12:28:46.303Z"
   },
   {
    "duration": 6,
    "start_time": "2022-03-26T12:28:46.380Z"
   },
   {
    "duration": 41,
    "start_time": "2022-03-26T12:28:46.389Z"
   },
   {
    "duration": 69,
    "start_time": "2022-03-26T12:28:46.432Z"
   },
   {
    "duration": 39,
    "start_time": "2022-03-26T12:28:46.504Z"
   },
   {
    "duration": 15,
    "start_time": "2022-03-26T12:28:46.545Z"
   },
   {
    "duration": 30,
    "start_time": "2022-03-26T12:28:46.562Z"
   },
   {
    "duration": 24,
    "start_time": "2022-03-26T12:28:46.595Z"
   },
   {
    "duration": 10,
    "start_time": "2022-03-26T12:28:46.622Z"
   },
   {
    "duration": 15,
    "start_time": "2022-03-26T12:28:46.642Z"
   },
   {
    "duration": 11,
    "start_time": "2022-03-26T12:28:46.660Z"
   },
   {
    "duration": 21,
    "start_time": "2022-03-26T12:28:46.673Z"
   },
   {
    "duration": 12,
    "start_time": "2022-03-26T12:28:46.696Z"
   },
   {
    "duration": 45,
    "start_time": "2022-03-26T12:28:46.710Z"
   },
   {
    "duration": 25,
    "start_time": "2022-03-26T12:28:46.757Z"
   },
   {
    "duration": 6,
    "start_time": "2022-03-26T12:28:46.784Z"
   },
   {
    "duration": 21,
    "start_time": "2022-03-26T12:28:46.792Z"
   },
   {
    "duration": 32,
    "start_time": "2022-03-26T12:28:46.815Z"
   },
   {
    "duration": 24,
    "start_time": "2022-03-26T12:28:46.850Z"
   },
   {
    "duration": 24,
    "start_time": "2022-03-26T12:28:46.877Z"
   },
   {
    "duration": 5,
    "start_time": "2022-03-26T12:28:46.903Z"
   },
   {
    "duration": 59,
    "start_time": "2022-03-26T12:28:46.910Z"
   },
   {
    "duration": 248,
    "start_time": "2022-03-26T12:28:46.972Z"
   },
   {
    "duration": 29,
    "start_time": "2022-03-26T12:28:47.223Z"
   },
   {
    "duration": 18,
    "start_time": "2022-03-26T12:28:47.254Z"
   },
   {
    "duration": 43,
    "start_time": "2022-03-26T12:28:47.274Z"
   },
   {
    "duration": 25,
    "start_time": "2022-03-26T12:28:47.319Z"
   },
   {
    "duration": 209,
    "start_time": "2022-03-26T12:28:47.346Z"
   },
   {
    "duration": 732,
    "start_time": "2022-03-26T12:28:47.557Z"
   },
   {
    "duration": 341,
    "start_time": "2022-03-26T12:28:48.292Z"
   },
   {
    "duration": 304,
    "start_time": "2022-03-26T12:28:48.635Z"
   },
   {
    "duration": 20,
    "start_time": "2022-03-26T12:28:48.943Z"
   },
   {
    "duration": 560,
    "start_time": "2022-03-26T12:28:48.964Z"
   },
   {
    "duration": 319,
    "start_time": "2022-03-26T12:28:49.526Z"
   },
   {
    "duration": 362,
    "start_time": "2022-03-26T12:28:49.848Z"
   },
   {
    "duration": 35,
    "start_time": "2022-03-26T12:28:50.212Z"
   },
   {
    "duration": 549,
    "start_time": "2022-03-26T12:28:50.250Z"
   },
   {
    "duration": 330,
    "start_time": "2022-03-26T12:28:50.801Z"
   },
   {
    "duration": 322,
    "start_time": "2022-03-26T12:28:51.133Z"
   },
   {
    "duration": 21,
    "start_time": "2022-03-26T12:28:51.457Z"
   },
   {
    "duration": 13,
    "start_time": "2022-03-26T12:28:51.479Z"
   },
   {
    "duration": 53,
    "start_time": "2022-03-26T12:28:51.494Z"
   },
   {
    "duration": 10,
    "start_time": "2022-03-26T12:28:51.550Z"
   },
   {
    "duration": 12,
    "start_time": "2022-03-26T12:28:51.563Z"
   },
   {
    "duration": 1490,
    "start_time": "2022-03-26T12:41:46.956Z"
   },
   {
    "duration": 503,
    "start_time": "2022-03-26T12:41:48.449Z"
   },
   {
    "duration": 17,
    "start_time": "2022-03-26T12:41:48.955Z"
   },
   {
    "duration": 34,
    "start_time": "2022-03-26T12:41:48.975Z"
   },
   {
    "duration": 33,
    "start_time": "2022-03-26T12:41:49.011Z"
   },
   {
    "duration": 29,
    "start_time": "2022-03-26T12:41:49.046Z"
   },
   {
    "duration": 11,
    "start_time": "2022-03-26T12:41:49.077Z"
   },
   {
    "duration": 60,
    "start_time": "2022-03-26T12:41:49.090Z"
   },
   {
    "duration": 12,
    "start_time": "2022-03-26T12:41:49.152Z"
   },
   {
    "duration": 4,
    "start_time": "2022-03-26T12:41:49.170Z"
   },
   {
    "duration": 15,
    "start_time": "2022-03-26T12:41:49.177Z"
   },
   {
    "duration": 54,
    "start_time": "2022-03-26T12:41:49.194Z"
   },
   {
    "duration": 16,
    "start_time": "2022-03-26T12:41:49.251Z"
   },
   {
    "duration": 73,
    "start_time": "2022-03-26T12:41:49.270Z"
   },
   {
    "duration": 3055,
    "start_time": "2022-03-26T12:41:49.345Z"
   },
   {
    "duration": 25,
    "start_time": "2022-03-26T12:41:52.402Z"
   },
   {
    "duration": 35,
    "start_time": "2022-03-26T12:41:52.443Z"
   },
   {
    "duration": 25,
    "start_time": "2022-03-26T12:41:52.480Z"
   },
   {
    "duration": 54,
    "start_time": "2022-03-26T12:41:52.508Z"
   },
   {
    "duration": 24,
    "start_time": "2022-03-26T12:41:52.564Z"
   },
   {
    "duration": 17,
    "start_time": "2022-03-26T12:41:52.590Z"
   },
   {
    "duration": 44,
    "start_time": "2022-03-26T12:41:52.610Z"
   },
   {
    "duration": 11,
    "start_time": "2022-03-26T12:41:52.657Z"
   },
   {
    "duration": 110,
    "start_time": "2022-03-26T12:41:52.671Z"
   },
   {
    "duration": 65,
    "start_time": "2022-03-26T12:41:52.783Z"
   },
   {
    "duration": 119,
    "start_time": "2022-03-26T12:41:52.850Z"
   },
   {
    "duration": 8,
    "start_time": "2022-03-26T12:41:52.971Z"
   },
   {
    "duration": 154,
    "start_time": "2022-03-26T12:41:52.985Z"
   },
   {
    "duration": 11,
    "start_time": "2022-03-26T12:41:53.142Z"
   },
   {
    "duration": 11,
    "start_time": "2022-03-26T12:41:53.156Z"
   },
   {
    "duration": 14,
    "start_time": "2022-03-26T12:41:53.169Z"
   },
   {
    "duration": 13,
    "start_time": "2022-03-26T12:41:53.186Z"
   },
   {
    "duration": 9,
    "start_time": "2022-03-26T12:41:53.201Z"
   },
   {
    "duration": 8,
    "start_time": "2022-03-26T12:41:53.243Z"
   },
   {
    "duration": 103,
    "start_time": "2022-03-26T12:41:53.253Z"
   },
   {
    "duration": 41,
    "start_time": "2022-03-26T12:41:53.359Z"
   },
   {
    "duration": 63,
    "start_time": "2022-03-26T12:41:53.403Z"
   },
   {
    "duration": 5,
    "start_time": "2022-03-26T12:41:53.468Z"
   },
   {
    "duration": 23,
    "start_time": "2022-03-26T12:41:53.475Z"
   },
   {
    "duration": 75,
    "start_time": "2022-03-26T12:41:53.500Z"
   },
   {
    "duration": 14,
    "start_time": "2022-03-26T12:41:53.578Z"
   },
   {
    "duration": 12,
    "start_time": "2022-03-26T12:41:53.594Z"
   },
   {
    "duration": 41,
    "start_time": "2022-03-26T12:41:53.608Z"
   },
   {
    "duration": 15,
    "start_time": "2022-03-26T12:41:53.651Z"
   },
   {
    "duration": 6,
    "start_time": "2022-03-26T12:41:53.669Z"
   },
   {
    "duration": 19,
    "start_time": "2022-03-26T12:41:53.677Z"
   },
   {
    "duration": 9,
    "start_time": "2022-03-26T12:41:53.699Z"
   },
   {
    "duration": 42,
    "start_time": "2022-03-26T12:41:53.711Z"
   },
   {
    "duration": 10,
    "start_time": "2022-03-26T12:41:53.756Z"
   },
   {
    "duration": 21,
    "start_time": "2022-03-26T12:41:53.768Z"
   },
   {
    "duration": 22,
    "start_time": "2022-03-26T12:41:53.791Z"
   },
   {
    "duration": 6,
    "start_time": "2022-03-26T12:41:53.843Z"
   },
   {
    "duration": 19,
    "start_time": "2022-03-26T12:41:53.852Z"
   },
   {
    "duration": 10,
    "start_time": "2022-03-26T12:41:53.873Z"
   },
   {
    "duration": 59,
    "start_time": "2022-03-26T12:41:53.885Z"
   },
   {
    "duration": 19,
    "start_time": "2022-03-26T12:41:53.947Z"
   },
   {
    "duration": 5,
    "start_time": "2022-03-26T12:41:53.968Z"
   },
   {
    "duration": 33,
    "start_time": "2022-03-26T12:41:53.975Z"
   },
   {
    "duration": 288,
    "start_time": "2022-03-26T12:41:54.011Z"
   },
   {
    "duration": 19,
    "start_time": "2022-03-26T12:41:54.301Z"
   },
   {
    "duration": 24,
    "start_time": "2022-03-26T12:41:54.322Z"
   },
   {
    "duration": 38,
    "start_time": "2022-03-26T12:41:54.349Z"
   },
   {
    "duration": 16,
    "start_time": "2022-03-26T12:41:54.389Z"
   },
   {
    "duration": 226,
    "start_time": "2022-03-26T12:41:54.408Z"
   },
   {
    "duration": 530,
    "start_time": "2022-03-26T12:41:54.636Z"
   },
   {
    "duration": 319,
    "start_time": "2022-03-26T12:41:55.168Z"
   },
   {
    "duration": 18,
    "start_time": "2022-03-26T12:41:55.490Z"
   },
   {
    "duration": 584,
    "start_time": "2022-03-26T12:41:55.511Z"
   },
   {
    "duration": 317,
    "start_time": "2022-03-26T12:41:56.097Z"
   },
   {
    "duration": 30,
    "start_time": "2022-03-26T12:41:56.416Z"
   },
   {
    "duration": 619,
    "start_time": "2022-03-26T12:41:56.449Z"
   },
   {
    "duration": 322,
    "start_time": "2022-03-26T12:41:57.071Z"
   },
   {
    "duration": 18,
    "start_time": "2022-03-26T12:41:57.396Z"
   },
   {
    "duration": 36,
    "start_time": "2022-03-26T12:41:57.416Z"
   },
   {
    "duration": 28,
    "start_time": "2022-03-26T12:41:57.454Z"
   },
   {
    "duration": 36,
    "start_time": "2022-03-26T12:41:57.485Z"
   },
   {
    "duration": 21,
    "start_time": "2022-03-26T12:41:57.523Z"
   },
   {
    "duration": 1129,
    "start_time": "2022-03-26T13:49:10.586Z"
   },
   {
    "duration": 364,
    "start_time": "2022-03-26T13:49:11.717Z"
   },
   {
    "duration": 12,
    "start_time": "2022-03-26T13:49:12.083Z"
   },
   {
    "duration": 29,
    "start_time": "2022-03-26T13:49:12.097Z"
   },
   {
    "duration": 8,
    "start_time": "2022-03-26T13:49:12.128Z"
   },
   {
    "duration": 26,
    "start_time": "2022-03-26T13:49:12.138Z"
   },
   {
    "duration": 7,
    "start_time": "2022-03-26T13:49:12.166Z"
   },
   {
    "duration": 28,
    "start_time": "2022-03-26T13:49:12.174Z"
   },
   {
    "duration": 8,
    "start_time": "2022-03-26T13:49:12.204Z"
   },
   {
    "duration": 4,
    "start_time": "2022-03-26T13:49:12.232Z"
   },
   {
    "duration": 15,
    "start_time": "2022-03-26T13:49:12.238Z"
   },
   {
    "duration": 29,
    "start_time": "2022-03-26T13:49:12.254Z"
   },
   {
    "duration": 28,
    "start_time": "2022-03-26T13:49:12.284Z"
   },
   {
    "duration": 35,
    "start_time": "2022-03-26T13:49:12.314Z"
   },
   {
    "duration": 1783,
    "start_time": "2022-03-26T13:49:12.351Z"
   },
   {
    "duration": 18,
    "start_time": "2022-03-26T13:49:14.136Z"
   },
   {
    "duration": 23,
    "start_time": "2022-03-26T13:49:14.155Z"
   },
   {
    "duration": 16,
    "start_time": "2022-03-26T13:49:14.182Z"
   },
   {
    "duration": 45,
    "start_time": "2022-03-26T13:49:14.200Z"
   },
   {
    "duration": 16,
    "start_time": "2022-03-26T13:49:14.247Z"
   },
   {
    "duration": 5,
    "start_time": "2022-03-26T13:49:14.265Z"
   },
   {
    "duration": 14,
    "start_time": "2022-03-26T13:49:14.272Z"
   },
   {
    "duration": 11,
    "start_time": "2022-03-26T13:49:14.288Z"
   },
   {
    "duration": 55,
    "start_time": "2022-03-26T13:49:14.332Z"
   },
   {
    "duration": 54,
    "start_time": "2022-03-26T13:49:14.389Z"
   },
   {
    "duration": 94,
    "start_time": "2022-03-26T13:49:14.445Z"
   },
   {
    "duration": 5,
    "start_time": "2022-03-26T13:49:14.541Z"
   },
   {
    "duration": 117,
    "start_time": "2022-03-26T13:49:14.549Z"
   },
   {
    "duration": 8,
    "start_time": "2022-03-26T13:49:14.667Z"
   },
   {
    "duration": 11,
    "start_time": "2022-03-26T13:49:14.677Z"
   },
   {
    "duration": 20,
    "start_time": "2022-03-26T13:49:14.690Z"
   },
   {
    "duration": 9,
    "start_time": "2022-03-26T13:49:14.712Z"
   },
   {
    "duration": 4,
    "start_time": "2022-03-26T13:49:14.733Z"
   },
   {
    "duration": 7,
    "start_time": "2022-03-26T13:49:14.739Z"
   },
   {
    "duration": 57,
    "start_time": "2022-03-26T13:49:14.748Z"
   },
   {
    "duration": 45,
    "start_time": "2022-03-26T13:49:14.807Z"
   },
   {
    "duration": 27,
    "start_time": "2022-03-26T13:49:14.853Z"
   },
   {
    "duration": 3,
    "start_time": "2022-03-26T13:49:14.882Z"
   },
   {
    "duration": 18,
    "start_time": "2022-03-26T13:49:14.887Z"
   },
   {
    "duration": 58,
    "start_time": "2022-03-26T13:49:14.907Z"
   },
   {
    "duration": 9,
    "start_time": "2022-03-26T13:49:14.967Z"
   },
   {
    "duration": 8,
    "start_time": "2022-03-26T13:49:14.978Z"
   },
   {
    "duration": 27,
    "start_time": "2022-03-26T13:49:14.988Z"
   },
   {
    "duration": 54,
    "start_time": "2022-03-26T13:49:15.017Z"
   },
   {
    "duration": 15,
    "start_time": "2022-03-26T13:49:15.073Z"
   },
   {
    "duration": 28,
    "start_time": "2022-03-26T13:49:15.090Z"
   },
   {
    "duration": 14,
    "start_time": "2022-03-26T13:49:15.120Z"
   },
   {
    "duration": 13,
    "start_time": "2022-03-26T13:49:15.136Z"
   },
   {
    "duration": 14,
    "start_time": "2022-03-26T13:49:15.151Z"
   },
   {
    "duration": 22,
    "start_time": "2022-03-26T13:49:15.167Z"
   },
   {
    "duration": 18,
    "start_time": "2022-03-26T13:49:15.190Z"
   },
   {
    "duration": 23,
    "start_time": "2022-03-26T13:49:15.210Z"
   },
   {
    "duration": 14,
    "start_time": "2022-03-26T13:49:15.235Z"
   },
   {
    "duration": 7,
    "start_time": "2022-03-26T13:49:15.251Z"
   },
   {
    "duration": 32,
    "start_time": "2022-03-26T13:49:15.259Z"
   },
   {
    "duration": 24,
    "start_time": "2022-03-26T13:49:15.293Z"
   },
   {
    "duration": 3,
    "start_time": "2022-03-26T13:49:15.319Z"
   },
   {
    "duration": 23,
    "start_time": "2022-03-26T13:49:15.324Z"
   },
   {
    "duration": 154,
    "start_time": "2022-03-26T13:49:15.348Z"
   },
   {
    "duration": 11,
    "start_time": "2022-03-26T13:49:15.504Z"
   },
   {
    "duration": 16,
    "start_time": "2022-03-26T13:49:15.517Z"
   },
   {
    "duration": 37,
    "start_time": "2022-03-26T13:49:15.535Z"
   },
   {
    "duration": 12,
    "start_time": "2022-03-26T13:49:15.573Z"
   },
   {
    "duration": 124,
    "start_time": "2022-03-26T13:49:15.587Z"
   },
   {
    "duration": 326,
    "start_time": "2022-03-26T13:49:15.713Z"
   },
   {
    "duration": 186,
    "start_time": "2022-03-26T13:49:16.040Z"
   },
   {
    "duration": 15,
    "start_time": "2022-03-26T13:49:16.227Z"
   },
   {
    "duration": 341,
    "start_time": "2022-03-26T13:49:16.244Z"
   },
   {
    "duration": 284,
    "start_time": "2022-03-26T13:49:16.587Z"
   },
   {
    "duration": 14,
    "start_time": "2022-03-26T13:49:16.874Z"
   },
   {
    "duration": 407,
    "start_time": "2022-03-26T13:49:16.890Z"
   },
   {
    "duration": 178,
    "start_time": "2022-03-26T13:49:17.299Z"
   },
   {
    "duration": 12,
    "start_time": "2022-03-26T13:49:17.479Z"
   },
   {
    "duration": 8,
    "start_time": "2022-03-26T13:49:17.493Z"
   },
   {
    "duration": 36,
    "start_time": "2022-03-26T13:49:17.502Z"
   },
   {
    "duration": 21,
    "start_time": "2022-03-26T13:49:17.539Z"
   },
   {
    "duration": 8,
    "start_time": "2022-03-26T13:49:17.562Z"
   }
  ],
  "kernelspec": {
   "display_name": "Python 3 (ipykernel)",
   "language": "python",
   "name": "python3"
  },
  "language_info": {
   "codemirror_mode": {
    "name": "ipython",
    "version": 3
   },
   "file_extension": ".py",
   "mimetype": "text/x-python",
   "name": "python",
   "nbconvert_exporter": "python",
   "pygments_lexer": "ipython3",
   "version": "3.9.7"
  },
  "toc": {
   "base_numbering": 1,
   "nav_menu": {},
   "number_sections": true,
   "sideBar": true,
   "skip_h1_title": true,
   "title_cell": "Содержание",
   "title_sidebar": "Contents",
   "toc_cell": true,
   "toc_position": {
    "height": "calc(100% - 180px)",
    "left": "10px",
    "top": "150px",
    "width": "370.382px"
   },
   "toc_section_display": true,
   "toc_window_display": true
  }
 },
 "nbformat": 4,
 "nbformat_minor": 2
}
