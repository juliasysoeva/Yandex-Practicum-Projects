{
 "cells": [
  {
   "cell_type": "markdown",
   "metadata": {
    "toc": true
   },
   "source": [
    "<h1>Содержание<span class=\"tocSkip\"></span></h1>\n",
    "<div class=\"toc\"><ul class=\"toc-item\"><li><span><a href=\"#Описание-проекта\" data-toc-modified-id=\"Описание-проекта-1\"><span class=\"toc-item-num\">1&nbsp;&nbsp;</span>Описание проекта</a></span></li><li><span><a href=\"#Приоритизация-гипотез\" data-toc-modified-id=\"Приоритизация-гипотез-2\"><span class=\"toc-item-num\">2&nbsp;&nbsp;</span>Приоритизация гипотез</a></span><ul class=\"toc-item\"><li><span><a href=\"#Фреймворк-ICE\" data-toc-modified-id=\"Фреймворк-ICE-2.1\"><span class=\"toc-item-num\">2.1&nbsp;&nbsp;</span>Фреймворк ICE</a></span></li><li><span><a href=\"#Фреймворк-RICE\" data-toc-modified-id=\"Фреймворк-RICE-2.2\"><span class=\"toc-item-num\">2.2&nbsp;&nbsp;</span>Фреймворк RICE</a></span></li><li><span><a href=\"#Вывод\" data-toc-modified-id=\"Вывод-2.3\"><span class=\"toc-item-num\">2.3&nbsp;&nbsp;</span>Вывод</a></span></li></ul></li><li><span><a href=\"#Анализ-A/B-теста\" data-toc-modified-id=\"Анализ-A/B-теста-3\"><span class=\"toc-item-num\">3&nbsp;&nbsp;</span>Анализ A/B-теста</a></span><ul class=\"toc-item\"><li><span><a href=\"#Изучение-полученных-данных\" data-toc-modified-id=\"Изучение-полученных-данных-3.1\"><span class=\"toc-item-num\">3.1&nbsp;&nbsp;</span>Изучение полученных данных</a></span><ul class=\"toc-item\"><li><span><a href=\"#Вывод\" data-toc-modified-id=\"Вывод-3.1.1\"><span class=\"toc-item-num\">3.1.1&nbsp;&nbsp;</span>Вывод</a></span></li></ul></li><li><span><a href=\"#Проверка-гипотезы-о-равенстве-долей\" data-toc-modified-id=\"Проверка-гипотезы-о-равенстве-долей-3.2\"><span class=\"toc-item-num\">3.2&nbsp;&nbsp;</span>Проверка гипотезы о равенстве долей</a></span><ul class=\"toc-item\"><li><span><a href=\"#Вывод\" data-toc-modified-id=\"Вывод-3.2.1\"><span class=\"toc-item-num\">3.2.1&nbsp;&nbsp;</span>Вывод</a></span></li></ul></li><li><span><a href=\"#Непараметрический-тест-Уилкоксона-Манна-Уитни\" data-toc-modified-id=\"Непараметрический-тест-Уилкоксона-Манна-Уитни-3.3\"><span class=\"toc-item-num\">3.3&nbsp;&nbsp;</span>Непараметрический тест Уилкоксона-Манна-Уитни</a></span><ul class=\"toc-item\"><li><span><a href=\"#Вывод\" data-toc-modified-id=\"Вывод-3.3.1\"><span class=\"toc-item-num\">3.3.1&nbsp;&nbsp;</span>Вывод</a></span></li></ul></li><li><span><a href=\"#Стабильность-кумулятивных-метрик\" data-toc-modified-id=\"Стабильность-кумулятивных-метрик-3.4\"><span class=\"toc-item-num\">3.4&nbsp;&nbsp;</span>Стабильность кумулятивных метрик</a></span><ul class=\"toc-item\"><li><span><a href=\"#Сбор-кумулятивных-данных\" data-toc-modified-id=\"Сбор-кумулятивных-данных-3.4.1\"><span class=\"toc-item-num\">3.4.1&nbsp;&nbsp;</span>Сбор кумулятивных данных</a></span></li><li><span><a href=\"#График-кумулятивной-выручки-по-группам\" data-toc-modified-id=\"График-кумулятивной-выручки-по-группам-3.4.2\"><span class=\"toc-item-num\">3.4.2&nbsp;&nbsp;</span>График кумулятивной выручки по группам</a></span></li><li><span><a href=\"#График-кумулятивного-среднего-чека-по-группам\" data-toc-modified-id=\"График-кумулятивного-среднего-чека-по-группам-3.4.3\"><span class=\"toc-item-num\">3.4.3&nbsp;&nbsp;</span>График кумулятивного среднего чека по группам</a></span></li><li><span><a href=\"#График-относительного-изменения-кумулятивного-среднего-чека-группы-B-к-группе-A\" data-toc-modified-id=\"График-относительного-изменения-кумулятивного-среднего-чека-группы-B-к-группе-A-3.4.4\"><span class=\"toc-item-num\">3.4.4&nbsp;&nbsp;</span>График относительного изменения кумулятивного среднего чека группы B к группе A</a></span></li><li><span><a href=\"#График-кумулятивной-конверсии-по-группам\" data-toc-modified-id=\"График-кумулятивной-конверсии-по-группам-3.4.5\"><span class=\"toc-item-num\">3.4.5&nbsp;&nbsp;</span>График кумулятивной конверсии по группам</a></span></li><li><span><a href=\"#График-относительного-изменения-кумулятивной-конверсии-группы-B-к-группе-A\" data-toc-modified-id=\"График-относительного-изменения-кумулятивной-конверсии-группы-B-к-группе-A-3.4.6\"><span class=\"toc-item-num\">3.4.6&nbsp;&nbsp;</span>График относительного изменения кумулятивной конверсии группы B к группе A</a></span></li></ul></li><li><span><a href=\"#Анализ-выбросов-и-всплесков\" data-toc-modified-id=\"Анализ-выбросов-и-всплесков-3.5\"><span class=\"toc-item-num\">3.5&nbsp;&nbsp;</span>Анализ выбросов и всплесков</a></span><ul class=\"toc-item\"><li><span><a href=\"#Точечный-график-количества-заказов-по-пользователям\" data-toc-modified-id=\"Точечный-график-количества-заказов-по-пользователям-3.5.1\"><span class=\"toc-item-num\">3.5.1&nbsp;&nbsp;</span>Точечный график количества заказов по пользователям</a></span></li><li><span><a href=\"#Определение-аномальных-пользователей\" data-toc-modified-id=\"Определение-аномальных-пользователей-3.5.2\"><span class=\"toc-item-num\">3.5.2&nbsp;&nbsp;</span>Определение аномальных пользователей</a></span></li><li><span><a href=\"#Точечный-график-стоимостей-заказов\" data-toc-modified-id=\"Точечный-график-стоимостей-заказов-3.5.3\"><span class=\"toc-item-num\">3.5.3&nbsp;&nbsp;</span>Точечный график стоимостей заказов</a></span></li><li><span><a href=\"#Определение-аномальных-заказов\" data-toc-modified-id=\"Определение-аномальных-заказов-3.5.4\"><span class=\"toc-item-num\">3.5.4&nbsp;&nbsp;</span>Определение аномальных заказов</a></span></li></ul></li><li><span><a href=\"#Статистическая-значимость\" data-toc-modified-id=\"Статистическая-значимость-3.6\"><span class=\"toc-item-num\">3.6&nbsp;&nbsp;</span>Статистическая значимость</a></span><ul class=\"toc-item\"><li><span><a href=\"#Статистическая-значимость-различий-в-конверсии-между-группами-по-«сырым»-данным\" data-toc-modified-id=\"Статистическая-значимость-различий-в-конверсии-между-группами-по-«сырым»-данным-3.6.1\"><span class=\"toc-item-num\">3.6.1&nbsp;&nbsp;</span>Статистическая значимость различий в конверсии между группами по «сырым» данным</a></span></li><li><span><a href=\"#Статистическая-значимость-различий-в-среднем-чеке-заказа-между-группами-по-«сырым»-данным\" data-toc-modified-id=\"Статистическая-значимость-различий-в-среднем-чеке-заказа-между-группами-по-«сырым»-данным-3.6.2\"><span class=\"toc-item-num\">3.6.2&nbsp;&nbsp;</span>Статистическая значимость различий в среднем чеке заказа между группами по «сырым» данным</a></span></li><li><span><a href=\"#Статистическая-значимость-различий-в-конверсии-между-группами-по-«очищенным»-данным\" data-toc-modified-id=\"Статистическая-значимость-различий-в-конверсии-между-группами-по-«очищенным»-данным-3.6.3\"><span class=\"toc-item-num\">3.6.3&nbsp;&nbsp;</span>Статистическая значимость различий в конверсии между группами по «очищенным» данным</a></span></li><li><span><a href=\"#Статистическая-значимость-различий-в-среднем-чеке-заказа-между-группами-по-«очищенным»-данным\" data-toc-modified-id=\"Статистическая-значимость-различий-в-среднем-чеке-заказа-между-группами-по-«очищенным»-данным-3.6.4\"><span class=\"toc-item-num\">3.6.4&nbsp;&nbsp;</span>Статистическая значимость различий в среднем чеке заказа между группами по «очищенным» данным</a></span></li></ul></li><li><span><a href=\"#Вывод\" data-toc-modified-id=\"Вывод-3.7\"><span class=\"toc-item-num\">3.7&nbsp;&nbsp;</span>Вывод</a></span></li></ul></li></ul></div>"
   ]
  },
  {
   "cell_type": "markdown",
   "metadata": {},
   "source": [
    "# Проверка гипотез по увеличению выручки в интернет-магазине"
   ]
  },
  {
   "cell_type": "markdown",
   "metadata": {},
   "source": [
    "## Приоритизация гипотез"
   ]
  },
  {
   "cell_type": "code",
   "execution_count": 1,
   "metadata": {},
   "outputs": [],
   "source": [
    "import pandas as pd\n",
    "import scipy.stats as stats\n",
    "import datetime as dt\n",
    "import numpy as np\n",
    "import math as mth\n",
    "from scipy import stats as st\n",
    "import matplotlib.pyplot as plt"
   ]
  },
  {
   "cell_type": "markdown",
   "metadata": {},
   "source": [
    "<div style=\"border:solid blue 1px; padding: 20px\"> \n",
    "Сохраним данные по 9 гипотезам по увеличению выручки интернет-магазина с указанными параметрами Reach, Impact, Confidence, Effort."
   ]
  },
  {
   "cell_type": "code",
   "execution_count": 2,
   "metadata": {},
   "outputs": [],
   "source": [
    "hypothesis = pd.read_csv('/datasets/hypothesis.csv')"
   ]
  },
  {
   "cell_type": "code",
   "execution_count": 3,
   "metadata": {},
   "outputs": [
    {
     "data": {
      "text/html": [
       "<div>\n",
       "<style scoped>\n",
       "    .dataframe tbody tr th:only-of-type {\n",
       "        vertical-align: middle;\n",
       "    }\n",
       "\n",
       "    .dataframe tbody tr th {\n",
       "        vertical-align: top;\n",
       "    }\n",
       "\n",
       "    .dataframe thead th {\n",
       "        text-align: right;\n",
       "    }\n",
       "</style>\n",
       "<table border=\"1\" class=\"dataframe\">\n",
       "  <thead>\n",
       "    <tr style=\"text-align: right;\">\n",
       "      <th></th>\n",
       "      <th>Hypothesis</th>\n",
       "      <th>Reach</th>\n",
       "      <th>Impact</th>\n",
       "      <th>Confidence</th>\n",
       "      <th>Efforts</th>\n",
       "    </tr>\n",
       "  </thead>\n",
       "  <tbody>\n",
       "    <tr>\n",
       "      <th>0</th>\n",
       "      <td>Добавить два новых канала привлечения трафика,...</td>\n",
       "      <td>3</td>\n",
       "      <td>10</td>\n",
       "      <td>8</td>\n",
       "      <td>6</td>\n",
       "    </tr>\n",
       "    <tr>\n",
       "      <th>1</th>\n",
       "      <td>Запустить собственную службу доставки, что сок...</td>\n",
       "      <td>2</td>\n",
       "      <td>5</td>\n",
       "      <td>4</td>\n",
       "      <td>10</td>\n",
       "    </tr>\n",
       "    <tr>\n",
       "      <th>2</th>\n",
       "      <td>Добавить блоки рекомендаций товаров на сайт ин...</td>\n",
       "      <td>8</td>\n",
       "      <td>3</td>\n",
       "      <td>7</td>\n",
       "      <td>3</td>\n",
       "    </tr>\n",
       "    <tr>\n",
       "      <th>3</th>\n",
       "      <td>Изменить структура категорий, что увеличит кон...</td>\n",
       "      <td>8</td>\n",
       "      <td>3</td>\n",
       "      <td>3</td>\n",
       "      <td>8</td>\n",
       "    </tr>\n",
       "    <tr>\n",
       "      <th>4</th>\n",
       "      <td>Изменить цвет фона главной страницы, чтобы уве...</td>\n",
       "      <td>3</td>\n",
       "      <td>1</td>\n",
       "      <td>1</td>\n",
       "      <td>1</td>\n",
       "    </tr>\n",
       "    <tr>\n",
       "      <th>5</th>\n",
       "      <td>Добавить страницу отзывов клиентов о магазине,...</td>\n",
       "      <td>3</td>\n",
       "      <td>2</td>\n",
       "      <td>2</td>\n",
       "      <td>3</td>\n",
       "    </tr>\n",
       "    <tr>\n",
       "      <th>6</th>\n",
       "      <td>Показать на главной странице баннеры с актуаль...</td>\n",
       "      <td>5</td>\n",
       "      <td>3</td>\n",
       "      <td>8</td>\n",
       "      <td>3</td>\n",
       "    </tr>\n",
       "    <tr>\n",
       "      <th>7</th>\n",
       "      <td>Добавить форму подписки на все основные страни...</td>\n",
       "      <td>10</td>\n",
       "      <td>7</td>\n",
       "      <td>8</td>\n",
       "      <td>5</td>\n",
       "    </tr>\n",
       "    <tr>\n",
       "      <th>8</th>\n",
       "      <td>Запустить акцию, дающую скидку на товар в день...</td>\n",
       "      <td>1</td>\n",
       "      <td>9</td>\n",
       "      <td>9</td>\n",
       "      <td>5</td>\n",
       "    </tr>\n",
       "  </tbody>\n",
       "</table>\n",
       "</div>"
      ],
      "text/plain": [
       "                                          Hypothesis  Reach  Impact  \\\n",
       "0  Добавить два новых канала привлечения трафика,...      3      10   \n",
       "1  Запустить собственную службу доставки, что сок...      2       5   \n",
       "2  Добавить блоки рекомендаций товаров на сайт ин...      8       3   \n",
       "3  Изменить структура категорий, что увеличит кон...      8       3   \n",
       "4  Изменить цвет фона главной страницы, чтобы уве...      3       1   \n",
       "5  Добавить страницу отзывов клиентов о магазине,...      3       2   \n",
       "6  Показать на главной странице баннеры с актуаль...      5       3   \n",
       "7  Добавить форму подписки на все основные страни...     10       7   \n",
       "8  Запустить акцию, дающую скидку на товар в день...      1       9   \n",
       "\n",
       "   Confidence  Efforts  \n",
       "0           8        6  \n",
       "1           4       10  \n",
       "2           7        3  \n",
       "3           3        8  \n",
       "4           1        1  \n",
       "5           2        3  \n",
       "6           8        3  \n",
       "7           8        5  \n",
       "8           9        5  "
      ]
     },
     "execution_count": 3,
     "metadata": {},
     "output_type": "execute_result"
    }
   ],
   "source": [
    "hypothesis"
   ]
  },
  {
   "cell_type": "markdown",
   "metadata": {},
   "source": [
    "### Фреймворк ICE"
   ]
  },
  {
   "cell_type": "markdown",
   "metadata": {},
   "source": [
    "<div style=\"border:solid blue 1px; padding: 20px\"> \n",
    "Применим фреймворк ICE для приоритизации гипотез. Отсортируем их по убыванию приоритета."
   ]
  },
  {
   "cell_type": "code",
   "execution_count": 4,
   "metadata": {},
   "outputs": [],
   "source": [
    "hypothesis['ICE'] = hypothesis['Impact'] * hypothesis['Confidence'] / hypothesis['Efforts']"
   ]
  },
  {
   "cell_type": "code",
   "execution_count": 5,
   "metadata": {},
   "outputs": [
    {
     "data": {
      "text/html": [
       "<div>\n",
       "<style scoped>\n",
       "    .dataframe tbody tr th:only-of-type {\n",
       "        vertical-align: middle;\n",
       "    }\n",
       "\n",
       "    .dataframe tbody tr th {\n",
       "        vertical-align: top;\n",
       "    }\n",
       "\n",
       "    .dataframe thead th {\n",
       "        text-align: right;\n",
       "    }\n",
       "</style>\n",
       "<table border=\"1\" class=\"dataframe\">\n",
       "  <thead>\n",
       "    <tr style=\"text-align: right;\">\n",
       "      <th></th>\n",
       "      <th>Hypothesis</th>\n",
       "      <th>ICE</th>\n",
       "    </tr>\n",
       "  </thead>\n",
       "  <tbody>\n",
       "    <tr>\n",
       "      <th>8</th>\n",
       "      <td>Запустить акцию, дающую скидку на товар в день рождения</td>\n",
       "      <td>16.200000</td>\n",
       "    </tr>\n",
       "    <tr>\n",
       "      <th>0</th>\n",
       "      <td>Добавить два новых канала привлечения трафика, что позволит привлекать на 30% больше пользователей</td>\n",
       "      <td>13.333333</td>\n",
       "    </tr>\n",
       "    <tr>\n",
       "      <th>7</th>\n",
       "      <td>Добавить форму подписки на все основные страницы, чтобы собрать базу клиентов для email-рассылок</td>\n",
       "      <td>11.200000</td>\n",
       "    </tr>\n",
       "    <tr>\n",
       "      <th>6</th>\n",
       "      <td>Показать на главной странице баннеры с актуальными акциями и распродажами, чтобы увеличить конверсию</td>\n",
       "      <td>8.000000</td>\n",
       "    </tr>\n",
       "    <tr>\n",
       "      <th>2</th>\n",
       "      <td>Добавить блоки рекомендаций товаров на сайт интернет магазина, чтобы повысить конверсию и средний чек заказа</td>\n",
       "      <td>7.000000</td>\n",
       "    </tr>\n",
       "    <tr>\n",
       "      <th>1</th>\n",
       "      <td>Запустить собственную службу доставки, что сократит срок доставки заказов</td>\n",
       "      <td>2.000000</td>\n",
       "    </tr>\n",
       "    <tr>\n",
       "      <th>5</th>\n",
       "      <td>Добавить страницу отзывов клиентов о магазине, что позволит увеличить количество заказов</td>\n",
       "      <td>1.333333</td>\n",
       "    </tr>\n",
       "    <tr>\n",
       "      <th>3</th>\n",
       "      <td>Изменить структура категорий, что увеличит конверсию, т.к. пользователи быстрее найдут нужный товар</td>\n",
       "      <td>1.125000</td>\n",
       "    </tr>\n",
       "    <tr>\n",
       "      <th>4</th>\n",
       "      <td>Изменить цвет фона главной страницы, чтобы увеличить вовлеченность пользователей</td>\n",
       "      <td>1.000000</td>\n",
       "    </tr>\n",
       "  </tbody>\n",
       "</table>\n",
       "</div>"
      ],
      "text/plain": [
       "                                                                                                     Hypothesis  \\\n",
       "8                                                       Запустить акцию, дающую скидку на товар в день рождения   \n",
       "0            Добавить два новых канала привлечения трафика, что позволит привлекать на 30% больше пользователей   \n",
       "7              Добавить форму подписки на все основные страницы, чтобы собрать базу клиентов для email-рассылок   \n",
       "6          Показать на главной странице баннеры с актуальными акциями и распродажами, чтобы увеличить конверсию   \n",
       "2  Добавить блоки рекомендаций товаров на сайт интернет магазина, чтобы повысить конверсию и средний чек заказа   \n",
       "1                                     Запустить собственную службу доставки, что сократит срок доставки заказов   \n",
       "5                      Добавить страницу отзывов клиентов о магазине, что позволит увеличить количество заказов   \n",
       "3           Изменить структура категорий, что увеличит конверсию, т.к. пользователи быстрее найдут нужный товар   \n",
       "4                              Изменить цвет фона главной страницы, чтобы увеличить вовлеченность пользователей   \n",
       "\n",
       "         ICE  \n",
       "8  16.200000  \n",
       "0  13.333333  \n",
       "7  11.200000  \n",
       "6   8.000000  \n",
       "2   7.000000  \n",
       "1   2.000000  \n",
       "5   1.333333  \n",
       "3   1.125000  \n",
       "4   1.000000  "
      ]
     },
     "execution_count": 5,
     "metadata": {},
     "output_type": "execute_result"
    }
   ],
   "source": [
    "pd.set_option('display.max_columns', None)\n",
    "pd.options.display.max_colwidth = 150\n",
    "hypothesis[['Hypothesis','ICE']].sort_values(by='ICE', ascending=False)"
   ]
  },
  {
   "cell_type": "markdown",
   "metadata": {},
   "source": [
    "<div style=\"border:solid blue 1px; padding: 20px\"> \n",
    "Наиболее перспективные гипотезы - №9 (\"Запустить акцию, дающую скидку на товар в день рождения\"), 1 (\"Добавить два новых канала привлечения трафика, что позволит привлекать на 30% больше пользователей\") и 8(\"Добавить форму подписки на все основные страницы, чтобы собрать базу клиентов для email-рассылок\")."
   ]
  },
  {
   "cell_type": "markdown",
   "metadata": {},
   "source": [
    "### Фреймворк RICE"
   ]
  },
  {
   "cell_type": "markdown",
   "metadata": {},
   "source": [
    "<div style=\"border:solid blue 1px; padding: 20px\"> \n",
    "Теперь применим фреймворк RICE для приоритизации гипотез. Отсортируем их по убыванию приоритета."
   ]
  },
  {
   "cell_type": "code",
   "execution_count": 6,
   "metadata": {},
   "outputs": [],
   "source": [
    "hypothesis['RICE'] = hypothesis['Reach'] * hypothesis['Impact'] * hypothesis['Confidence'] / hypothesis['Efforts']"
   ]
  },
  {
   "cell_type": "code",
   "execution_count": 7,
   "metadata": {},
   "outputs": [
    {
     "data": {
      "text/html": [
       "<div>\n",
       "<style scoped>\n",
       "    .dataframe tbody tr th:only-of-type {\n",
       "        vertical-align: middle;\n",
       "    }\n",
       "\n",
       "    .dataframe tbody tr th {\n",
       "        vertical-align: top;\n",
       "    }\n",
       "\n",
       "    .dataframe thead th {\n",
       "        text-align: right;\n",
       "    }\n",
       "</style>\n",
       "<table border=\"1\" class=\"dataframe\">\n",
       "  <thead>\n",
       "    <tr style=\"text-align: right;\">\n",
       "      <th></th>\n",
       "      <th>Hypothesis</th>\n",
       "      <th>RICE</th>\n",
       "    </tr>\n",
       "  </thead>\n",
       "  <tbody>\n",
       "    <tr>\n",
       "      <th>7</th>\n",
       "      <td>Добавить форму подписки на все основные страницы, чтобы собрать базу клиентов для email-рассылок</td>\n",
       "      <td>112.0</td>\n",
       "    </tr>\n",
       "    <tr>\n",
       "      <th>2</th>\n",
       "      <td>Добавить блоки рекомендаций товаров на сайт интернет магазина, чтобы повысить конверсию и средний чек заказа</td>\n",
       "      <td>56.0</td>\n",
       "    </tr>\n",
       "    <tr>\n",
       "      <th>0</th>\n",
       "      <td>Добавить два новых канала привлечения трафика, что позволит привлекать на 30% больше пользователей</td>\n",
       "      <td>40.0</td>\n",
       "    </tr>\n",
       "    <tr>\n",
       "      <th>6</th>\n",
       "      <td>Показать на главной странице баннеры с актуальными акциями и распродажами, чтобы увеличить конверсию</td>\n",
       "      <td>40.0</td>\n",
       "    </tr>\n",
       "    <tr>\n",
       "      <th>8</th>\n",
       "      <td>Запустить акцию, дающую скидку на товар в день рождения</td>\n",
       "      <td>16.2</td>\n",
       "    </tr>\n",
       "    <tr>\n",
       "      <th>3</th>\n",
       "      <td>Изменить структура категорий, что увеличит конверсию, т.к. пользователи быстрее найдут нужный товар</td>\n",
       "      <td>9.0</td>\n",
       "    </tr>\n",
       "    <tr>\n",
       "      <th>1</th>\n",
       "      <td>Запустить собственную службу доставки, что сократит срок доставки заказов</td>\n",
       "      <td>4.0</td>\n",
       "    </tr>\n",
       "    <tr>\n",
       "      <th>5</th>\n",
       "      <td>Добавить страницу отзывов клиентов о магазине, что позволит увеличить количество заказов</td>\n",
       "      <td>4.0</td>\n",
       "    </tr>\n",
       "    <tr>\n",
       "      <th>4</th>\n",
       "      <td>Изменить цвет фона главной страницы, чтобы увеличить вовлеченность пользователей</td>\n",
       "      <td>3.0</td>\n",
       "    </tr>\n",
       "  </tbody>\n",
       "</table>\n",
       "</div>"
      ],
      "text/plain": [
       "                                                                                                     Hypothesis  \\\n",
       "7              Добавить форму подписки на все основные страницы, чтобы собрать базу клиентов для email-рассылок   \n",
       "2  Добавить блоки рекомендаций товаров на сайт интернет магазина, чтобы повысить конверсию и средний чек заказа   \n",
       "0            Добавить два новых канала привлечения трафика, что позволит привлекать на 30% больше пользователей   \n",
       "6          Показать на главной странице баннеры с актуальными акциями и распродажами, чтобы увеличить конверсию   \n",
       "8                                                       Запустить акцию, дающую скидку на товар в день рождения   \n",
       "3           Изменить структура категорий, что увеличит конверсию, т.к. пользователи быстрее найдут нужный товар   \n",
       "1                                     Запустить собственную службу доставки, что сократит срок доставки заказов   \n",
       "5                      Добавить страницу отзывов клиентов о магазине, что позволит увеличить количество заказов   \n",
       "4                              Изменить цвет фона главной страницы, чтобы увеличить вовлеченность пользователей   \n",
       "\n",
       "    RICE  \n",
       "7  112.0  \n",
       "2   56.0  \n",
       "0   40.0  \n",
       "6   40.0  \n",
       "8   16.2  \n",
       "3    9.0  \n",
       "1    4.0  \n",
       "5    4.0  \n",
       "4    3.0  "
      ]
     },
     "execution_count": 7,
     "metadata": {},
     "output_type": "execute_result"
    }
   ],
   "source": [
    "hypothesis[['Hypothesis', 'RICE']].sort_values(by='RICE', ascending=False)"
   ]
  },
  {
   "cell_type": "markdown",
   "metadata": {},
   "source": [
    "<div style=\"border:solid blue 1px; padding: 20px\"> \n",
    "Теперь самая перспективная гипотеза - №8(\"Добавить форму подписки на все основные страницы, чтобы собрать базу клиентов для email-рассылок\"), она вырвалась вперед, так как по ней самый высокий уровень охвата. Далее идут гипотезы №3(\"Добавить блоки рекомендаций товаров на сайт интернет магазина, чтобы повысить конверсию и средний чек заказа\"), 1(\"Добавить два новых канала привлечения трафика, что позволит привлекать на 30% больше пользователей\") и 7(\"Показать на главной странице баннеры с актуальными акциями и распродажами, чтобы увеличить конверсию\").\n",
    "Примечательно, что наиболее перспективная гипотеза по методу ICE, №9 (\"Запустить акцию, дающую скидку на товар в день рождения\"), занимает только пятое место. Значение RICE по ней равно ICE, так как уровень охвата всего 1."
   ]
  },
  {
   "cell_type": "code",
   "execution_count": 8,
   "metadata": {},
   "outputs": [
    {
     "data": {
      "text/html": [
       "<div>\n",
       "<style scoped>\n",
       "    .dataframe tbody tr th:only-of-type {\n",
       "        vertical-align: middle;\n",
       "    }\n",
       "\n",
       "    .dataframe tbody tr th {\n",
       "        vertical-align: top;\n",
       "    }\n",
       "\n",
       "    .dataframe thead th {\n",
       "        text-align: right;\n",
       "    }\n",
       "</style>\n",
       "<table border=\"1\" class=\"dataframe\">\n",
       "  <thead>\n",
       "    <tr style=\"text-align: right;\">\n",
       "      <th></th>\n",
       "      <th>Hypothesis</th>\n",
       "      <th>ICE</th>\n",
       "      <th>RICE</th>\n",
       "    </tr>\n",
       "  </thead>\n",
       "  <tbody>\n",
       "    <tr>\n",
       "      <th>7</th>\n",
       "      <td>Добавить форму подписки на все основные страницы, чтобы собрать базу клиентов для email-рассылок</td>\n",
       "      <td>11.200000</td>\n",
       "      <td>112.0</td>\n",
       "    </tr>\n",
       "    <tr>\n",
       "      <th>2</th>\n",
       "      <td>Добавить блоки рекомендаций товаров на сайт интернет магазина, чтобы повысить конверсию и средний чек заказа</td>\n",
       "      <td>7.000000</td>\n",
       "      <td>56.0</td>\n",
       "    </tr>\n",
       "    <tr>\n",
       "      <th>0</th>\n",
       "      <td>Добавить два новых канала привлечения трафика, что позволит привлекать на 30% больше пользователей</td>\n",
       "      <td>13.333333</td>\n",
       "      <td>40.0</td>\n",
       "    </tr>\n",
       "    <tr>\n",
       "      <th>6</th>\n",
       "      <td>Показать на главной странице баннеры с актуальными акциями и распродажами, чтобы увеличить конверсию</td>\n",
       "      <td>8.000000</td>\n",
       "      <td>40.0</td>\n",
       "    </tr>\n",
       "    <tr>\n",
       "      <th>8</th>\n",
       "      <td>Запустить акцию, дающую скидку на товар в день рождения</td>\n",
       "      <td>16.200000</td>\n",
       "      <td>16.2</td>\n",
       "    </tr>\n",
       "    <tr>\n",
       "      <th>3</th>\n",
       "      <td>Изменить структура категорий, что увеличит конверсию, т.к. пользователи быстрее найдут нужный товар</td>\n",
       "      <td>1.125000</td>\n",
       "      <td>9.0</td>\n",
       "    </tr>\n",
       "    <tr>\n",
       "      <th>1</th>\n",
       "      <td>Запустить собственную службу доставки, что сократит срок доставки заказов</td>\n",
       "      <td>2.000000</td>\n",
       "      <td>4.0</td>\n",
       "    </tr>\n",
       "    <tr>\n",
       "      <th>5</th>\n",
       "      <td>Добавить страницу отзывов клиентов о магазине, что позволит увеличить количество заказов</td>\n",
       "      <td>1.333333</td>\n",
       "      <td>4.0</td>\n",
       "    </tr>\n",
       "    <tr>\n",
       "      <th>4</th>\n",
       "      <td>Изменить цвет фона главной страницы, чтобы увеличить вовлеченность пользователей</td>\n",
       "      <td>1.000000</td>\n",
       "      <td>3.0</td>\n",
       "    </tr>\n",
       "  </tbody>\n",
       "</table>\n",
       "</div>"
      ],
      "text/plain": [
       "                                                                                                     Hypothesis  \\\n",
       "7              Добавить форму подписки на все основные страницы, чтобы собрать базу клиентов для email-рассылок   \n",
       "2  Добавить блоки рекомендаций товаров на сайт интернет магазина, чтобы повысить конверсию и средний чек заказа   \n",
       "0            Добавить два новых канала привлечения трафика, что позволит привлекать на 30% больше пользователей   \n",
       "6          Показать на главной странице баннеры с актуальными акциями и распродажами, чтобы увеличить конверсию   \n",
       "8                                                       Запустить акцию, дающую скидку на товар в день рождения   \n",
       "3           Изменить структура категорий, что увеличит конверсию, т.к. пользователи быстрее найдут нужный товар   \n",
       "1                                     Запустить собственную службу доставки, что сократит срок доставки заказов   \n",
       "5                      Добавить страницу отзывов клиентов о магазине, что позволит увеличить количество заказов   \n",
       "4                              Изменить цвет фона главной страницы, чтобы увеличить вовлеченность пользователей   \n",
       "\n",
       "         ICE   RICE  \n",
       "7  11.200000  112.0  \n",
       "2   7.000000   56.0  \n",
       "0  13.333333   40.0  \n",
       "6   8.000000   40.0  \n",
       "8  16.200000   16.2  \n",
       "3   1.125000    9.0  \n",
       "1   2.000000    4.0  \n",
       "5   1.333333    4.0  \n",
       "4   1.000000    3.0  "
      ]
     },
     "execution_count": 8,
     "metadata": {},
     "output_type": "execute_result"
    }
   ],
   "source": [
    "hypothesis[['Hypothesis', 'ICE', 'RICE']].sort_values(by='RICE', ascending=False)"
   ]
  },
  {
   "cell_type": "markdown",
   "metadata": {},
   "source": [
    "### Вывод\n",
    "По методу ICE наиболее перспективная гипотеза под номером 9(\"Запустить акцию, дающую скидку на товар в день рождения\"), но она занимает только пятое место при оценке приоритизации гипотез методом RICE. Значение RICE по ней равно ICE, несмотря на добавление нового критерия, что обусловлено низким уровенем охвата (всего 1).\n",
    "Согласно методу RICE самая перспективная гипотеза под номером 8(\"Добавить форму подписки на все основные страницы, чтобы собрать базу клиентов для email-рассылок\"). При оценке методом ICE она заняла третье место, так как уровень влияния и уверенности по ней чуть ниже, чем у гипотез 1(\"Добавить два новых канала привлечения трафика, что позволит привлекать на 30% больше пользователей\") и 9(\"Запустить акцию, дающую скидку на товар в день рождения\").\n",
    "Гипотеза под номером 1(\"Добавить два новых канала привлечения трафика, что позволит привлекать на 30% больше пользователей\") стабильно находится в тройке при оценке обоими методами."
   ]
  },
  {
   "cell_type": "markdown",
   "metadata": {},
   "source": [
    "## Анализ A/B-теста"
   ]
  },
  {
   "cell_type": "markdown",
   "metadata": {},
   "source": [
    "### Изучение полученных данных"
   ]
  },
  {
   "cell_type": "markdown",
   "metadata": {},
   "source": [
    "<div style=\"border:solid blue 1px; padding: 20px\"> \n",
    "Сохраним результаты проведенного A/B-теста"
   ]
  },
  {
   "cell_type": "code",
   "execution_count": 9,
   "metadata": {},
   "outputs": [],
   "source": [
    "orders = pd.read_csv('/datasets/orders.csv')\n",
    "visitors = pd.read_csv('/datasets/visitors.csv')"
   ]
  },
  {
   "cell_type": "code",
   "execution_count": 10,
   "metadata": {},
   "outputs": [
    {
     "data": {
      "text/html": [
       "<div>\n",
       "<style scoped>\n",
       "    .dataframe tbody tr th:only-of-type {\n",
       "        vertical-align: middle;\n",
       "    }\n",
       "\n",
       "    .dataframe tbody tr th {\n",
       "        vertical-align: top;\n",
       "    }\n",
       "\n",
       "    .dataframe thead th {\n",
       "        text-align: right;\n",
       "    }\n",
       "</style>\n",
       "<table border=\"1\" class=\"dataframe\">\n",
       "  <thead>\n",
       "    <tr style=\"text-align: right;\">\n",
       "      <th></th>\n",
       "      <th>transactionId</th>\n",
       "      <th>visitorId</th>\n",
       "      <th>date</th>\n",
       "      <th>revenue</th>\n",
       "      <th>group</th>\n",
       "    </tr>\n",
       "  </thead>\n",
       "  <tbody>\n",
       "    <tr>\n",
       "      <th>0</th>\n",
       "      <td>3667963787</td>\n",
       "      <td>3312258926</td>\n",
       "      <td>2019-08-15</td>\n",
       "      <td>1650</td>\n",
       "      <td>B</td>\n",
       "    </tr>\n",
       "    <tr>\n",
       "      <th>1</th>\n",
       "      <td>2804400009</td>\n",
       "      <td>3642806036</td>\n",
       "      <td>2019-08-15</td>\n",
       "      <td>730</td>\n",
       "      <td>B</td>\n",
       "    </tr>\n",
       "    <tr>\n",
       "      <th>2</th>\n",
       "      <td>2961555356</td>\n",
       "      <td>4069496402</td>\n",
       "      <td>2019-08-15</td>\n",
       "      <td>400</td>\n",
       "      <td>A</td>\n",
       "    </tr>\n",
       "    <tr>\n",
       "      <th>3</th>\n",
       "      <td>3797467345</td>\n",
       "      <td>1196621759</td>\n",
       "      <td>2019-08-15</td>\n",
       "      <td>9759</td>\n",
       "      <td>B</td>\n",
       "    </tr>\n",
       "    <tr>\n",
       "      <th>4</th>\n",
       "      <td>2282983706</td>\n",
       "      <td>2322279887</td>\n",
       "      <td>2019-08-15</td>\n",
       "      <td>2308</td>\n",
       "      <td>B</td>\n",
       "    </tr>\n",
       "  </tbody>\n",
       "</table>\n",
       "</div>"
      ],
      "text/plain": [
       "   transactionId   visitorId        date  revenue group\n",
       "0     3667963787  3312258926  2019-08-15     1650     B\n",
       "1     2804400009  3642806036  2019-08-15      730     B\n",
       "2     2961555356  4069496402  2019-08-15      400     A\n",
       "3     3797467345  1196621759  2019-08-15     9759     B\n",
       "4     2282983706  2322279887  2019-08-15     2308     B"
      ]
     },
     "execution_count": 10,
     "metadata": {},
     "output_type": "execute_result"
    }
   ],
   "source": [
    "orders.head()"
   ]
  },
  {
   "cell_type": "code",
   "execution_count": 11,
   "metadata": {},
   "outputs": [
    {
     "name": "stdout",
     "output_type": "stream",
     "text": [
      "<class 'pandas.core.frame.DataFrame'>\n",
      "RangeIndex: 1197 entries, 0 to 1196\n",
      "Data columns (total 5 columns):\n",
      " #   Column         Non-Null Count  Dtype \n",
      "---  ------         --------------  ----- \n",
      " 0   transactionId  1197 non-null   int64 \n",
      " 1   visitorId      1197 non-null   int64 \n",
      " 2   date           1197 non-null   object\n",
      " 3   revenue        1197 non-null   int64 \n",
      " 4   group          1197 non-null   object\n",
      "dtypes: int64(3), object(2)\n",
      "memory usage: 46.9+ KB\n"
     ]
    }
   ],
   "source": [
    "orders.info()"
   ]
  },
  {
   "cell_type": "code",
   "execution_count": 12,
   "metadata": {},
   "outputs": [
    {
     "data": {
      "text/html": [
       "<div>\n",
       "<style scoped>\n",
       "    .dataframe tbody tr th:only-of-type {\n",
       "        vertical-align: middle;\n",
       "    }\n",
       "\n",
       "    .dataframe tbody tr th {\n",
       "        vertical-align: top;\n",
       "    }\n",
       "\n",
       "    .dataframe thead th {\n",
       "        text-align: right;\n",
       "    }\n",
       "</style>\n",
       "<table border=\"1\" class=\"dataframe\">\n",
       "  <thead>\n",
       "    <tr style=\"text-align: right;\">\n",
       "      <th></th>\n",
       "      <th>date</th>\n",
       "      <th>group</th>\n",
       "      <th>visitors</th>\n",
       "    </tr>\n",
       "  </thead>\n",
       "  <tbody>\n",
       "    <tr>\n",
       "      <th>0</th>\n",
       "      <td>2019-08-01</td>\n",
       "      <td>A</td>\n",
       "      <td>719</td>\n",
       "    </tr>\n",
       "    <tr>\n",
       "      <th>1</th>\n",
       "      <td>2019-08-02</td>\n",
       "      <td>A</td>\n",
       "      <td>619</td>\n",
       "    </tr>\n",
       "    <tr>\n",
       "      <th>2</th>\n",
       "      <td>2019-08-03</td>\n",
       "      <td>A</td>\n",
       "      <td>507</td>\n",
       "    </tr>\n",
       "    <tr>\n",
       "      <th>3</th>\n",
       "      <td>2019-08-04</td>\n",
       "      <td>A</td>\n",
       "      <td>717</td>\n",
       "    </tr>\n",
       "    <tr>\n",
       "      <th>4</th>\n",
       "      <td>2019-08-05</td>\n",
       "      <td>A</td>\n",
       "      <td>756</td>\n",
       "    </tr>\n",
       "  </tbody>\n",
       "</table>\n",
       "</div>"
      ],
      "text/plain": [
       "         date group  visitors\n",
       "0  2019-08-01     A       719\n",
       "1  2019-08-02     A       619\n",
       "2  2019-08-03     A       507\n",
       "3  2019-08-04     A       717\n",
       "4  2019-08-05     A       756"
      ]
     },
     "execution_count": 12,
     "metadata": {},
     "output_type": "execute_result"
    }
   ],
   "source": [
    "visitors.head()"
   ]
  },
  {
   "cell_type": "code",
   "execution_count": 13,
   "metadata": {},
   "outputs": [
    {
     "name": "stdout",
     "output_type": "stream",
     "text": [
      "<class 'pandas.core.frame.DataFrame'>\n",
      "RangeIndex: 62 entries, 0 to 61\n",
      "Data columns (total 3 columns):\n",
      " #   Column    Non-Null Count  Dtype \n",
      "---  ------    --------------  ----- \n",
      " 0   date      62 non-null     object\n",
      " 1   group     62 non-null     object\n",
      " 2   visitors  62 non-null     int64 \n",
      "dtypes: int64(1), object(2)\n",
      "memory usage: 1.6+ KB\n"
     ]
    }
   ],
   "source": [
    "visitors.info()"
   ]
  },
  {
   "cell_type": "markdown",
   "metadata": {},
   "source": [
    "<div style=\"border:solid blue 1px; padding: 20px\"> \n",
    "Пропусков в полученных данных нет"
   ]
  },
  {
   "cell_type": "markdown",
   "metadata": {},
   "source": [
    "<div style=\"border:solid blue 1px; padding: 20px\"> \n",
    "Приведем данные о времени к формату datetime"
   ]
  },
  {
   "cell_type": "code",
   "execution_count": 14,
   "metadata": {},
   "outputs": [],
   "source": [
    "orders['date'] = orders['date'].map(lambda x: dt.datetime.strptime(x, '%Y-%m-%d'))\n",
    "visitors['date'] = visitors['date'].map(lambda x: dt.datetime.strptime(x, '%Y-%m-%d'))"
   ]
  },
  {
   "cell_type": "code",
   "execution_count": 15,
   "metadata": {},
   "outputs": [
    {
     "name": "stdout",
     "output_type": "stream",
     "text": [
      "<class 'pandas.core.frame.DataFrame'>\n",
      "RangeIndex: 1197 entries, 0 to 1196\n",
      "Data columns (total 5 columns):\n",
      " #   Column         Non-Null Count  Dtype         \n",
      "---  ------         --------------  -----         \n",
      " 0   transactionId  1197 non-null   int64         \n",
      " 1   visitorId      1197 non-null   int64         \n",
      " 2   date           1197 non-null   datetime64[ns]\n",
      " 3   revenue        1197 non-null   int64         \n",
      " 4   group          1197 non-null   object        \n",
      "dtypes: datetime64[ns](1), int64(3), object(1)\n",
      "memory usage: 46.9+ KB\n"
     ]
    }
   ],
   "source": [
    "orders.info()"
   ]
  },
  {
   "cell_type": "code",
   "execution_count": 16,
   "metadata": {
    "scrolled": true
   },
   "outputs": [
    {
     "name": "stdout",
     "output_type": "stream",
     "text": [
      "<class 'pandas.core.frame.DataFrame'>\n",
      "RangeIndex: 62 entries, 0 to 61\n",
      "Data columns (total 3 columns):\n",
      " #   Column    Non-Null Count  Dtype         \n",
      "---  ------    --------------  -----         \n",
      " 0   date      62 non-null     datetime64[ns]\n",
      " 1   group     62 non-null     object        \n",
      " 2   visitors  62 non-null     int64         \n",
      "dtypes: datetime64[ns](1), int64(1), object(1)\n",
      "memory usage: 1.6+ KB\n"
     ]
    }
   ],
   "source": [
    "visitors.info()"
   ]
  },
  {
   "cell_type": "markdown",
   "metadata": {},
   "source": [
    "<div style=\"border:solid blue 1px; padding: 20px\"> \n",
    "Проверим данные на явные дубликаты"
   ]
  },
  {
   "cell_type": "code",
   "execution_count": 17,
   "metadata": {},
   "outputs": [
    {
     "data": {
      "text/plain": [
       "0"
      ]
     },
     "metadata": {},
     "output_type": "display_data"
    },
    {
     "data": {
      "text/plain": [
       "0"
      ]
     },
     "metadata": {},
     "output_type": "display_data"
    }
   ],
   "source": [
    "display(visitors.duplicated().sum())\n",
    "display(orders.duplicated().sum())"
   ]
  },
  {
   "cell_type": "markdown",
   "metadata": {},
   "source": [
    "<div style=\"border:solid blue 1px; padding: 20px\"> \n",
    "Явных дубликатов нет"
   ]
  },
  {
   "cell_type": "markdown",
   "metadata": {},
   "source": [
    "<div style=\"border:solid blue 1px; padding: 20px\"> \n",
    "Посмотрим, в какие даты проводился A/B-тест"
   ]
  },
  {
   "cell_type": "code",
   "execution_count": 18,
   "metadata": {},
   "outputs": [
    {
     "data": {
      "text/plain": [
       "Timestamp('2019-08-31 00:00:00')"
      ]
     },
     "metadata": {},
     "output_type": "display_data"
    },
    {
     "data": {
      "text/plain": [
       "Timestamp('2019-08-01 00:00:00')"
      ]
     },
     "metadata": {},
     "output_type": "display_data"
    }
   ],
   "source": [
    "display(orders['date'].max())\n",
    "display(orders['date'].min())"
   ]
  },
  {
   "cell_type": "code",
   "execution_count": 19,
   "metadata": {
    "scrolled": true
   },
   "outputs": [
    {
     "data": {
      "text/plain": [
       "Timestamp('2019-08-31 00:00:00')"
      ]
     },
     "metadata": {},
     "output_type": "display_data"
    },
    {
     "data": {
      "text/plain": [
       "Timestamp('2019-08-01 00:00:00')"
      ]
     },
     "metadata": {},
     "output_type": "display_data"
    }
   ],
   "source": [
    "display(visitors['date'].max())\n",
    "display(visitors['date'].min())"
   ]
  },
  {
   "cell_type": "markdown",
   "metadata": {},
   "source": [
    "<div style=\"border:solid blue 1px; padding: 20px\"> \n",
    "Тест проводился с 1 по 31 августа 2019 года"
   ]
  },
  {
   "cell_type": "code",
   "execution_count": 20,
   "metadata": {
    "scrolled": true
   },
   "outputs": [
    {
     "data": {
      "text/html": [
       "<div>\n",
       "<style scoped>\n",
       "    .dataframe tbody tr th:only-of-type {\n",
       "        vertical-align: middle;\n",
       "    }\n",
       "\n",
       "    .dataframe tbody tr th {\n",
       "        vertical-align: top;\n",
       "    }\n",
       "\n",
       "    .dataframe thead th {\n",
       "        text-align: right;\n",
       "    }\n",
       "</style>\n",
       "<table border=\"1\" class=\"dataframe\">\n",
       "  <thead>\n",
       "    <tr style=\"text-align: right;\">\n",
       "      <th></th>\n",
       "      <th>transactionId</th>\n",
       "    </tr>\n",
       "    <tr>\n",
       "      <th>group</th>\n",
       "      <th></th>\n",
       "    </tr>\n",
       "  </thead>\n",
       "  <tbody>\n",
       "    <tr>\n",
       "      <th>A</th>\n",
       "      <td>557</td>\n",
       "    </tr>\n",
       "    <tr>\n",
       "      <th>B</th>\n",
       "      <td>640</td>\n",
       "    </tr>\n",
       "  </tbody>\n",
       "</table>\n",
       "</div>"
      ],
      "text/plain": [
       "       transactionId\n",
       "group               \n",
       "A                557\n",
       "B                640"
      ]
     },
     "execution_count": 20,
     "metadata": {},
     "output_type": "execute_result"
    }
   ],
   "source": [
    "orders.groupby('group').agg({'transactionId':'nunique'})"
   ]
  },
  {
   "cell_type": "code",
   "execution_count": 21,
   "metadata": {},
   "outputs": [
    {
     "data": {
      "text/html": [
       "<div>\n",
       "<style scoped>\n",
       "    .dataframe tbody tr th:only-of-type {\n",
       "        vertical-align: middle;\n",
       "    }\n",
       "\n",
       "    .dataframe tbody tr th {\n",
       "        vertical-align: top;\n",
       "    }\n",
       "\n",
       "    .dataframe thead th {\n",
       "        text-align: right;\n",
       "    }\n",
       "</style>\n",
       "<table border=\"1\" class=\"dataframe\">\n",
       "  <thead>\n",
       "    <tr style=\"text-align: right;\">\n",
       "      <th></th>\n",
       "      <th>visitors</th>\n",
       "    </tr>\n",
       "    <tr>\n",
       "      <th>group</th>\n",
       "      <th></th>\n",
       "    </tr>\n",
       "  </thead>\n",
       "  <tbody>\n",
       "    <tr>\n",
       "      <th>A</th>\n",
       "      <td>18736</td>\n",
       "    </tr>\n",
       "    <tr>\n",
       "      <th>B</th>\n",
       "      <td>18916</td>\n",
       "    </tr>\n",
       "  </tbody>\n",
       "</table>\n",
       "</div>"
      ],
      "text/plain": [
       "       visitors\n",
       "group          \n",
       "A         18736\n",
       "B         18916"
      ]
     },
     "execution_count": 21,
     "metadata": {},
     "output_type": "execute_result"
    }
   ],
   "source": [
    "visitors.groupby('group').agg({'visitors':'sum'})"
   ]
  },
  {
   "cell_type": "markdown",
   "metadata": {},
   "source": [
    "<div style=\"border:solid blue 1px; padding: 20px\"> \n",
    "Всего в тесте участвовало 2 группы: A и B"
   ]
  },
  {
   "cell_type": "markdown",
   "metadata": {},
   "source": [
    "<div style=\"border:solid blue 1px; padding: 20px\"> \n",
    "Проверим наличие одних и тех же пользователей в двух группах"
   ]
  },
  {
   "cell_type": "code",
   "execution_count": 22,
   "metadata": {},
   "outputs": [
    {
     "data": {
      "text/plain": [
       "group    58\n",
       "dtype: int64"
      ]
     },
     "execution_count": 22,
     "metadata": {},
     "output_type": "execute_result"
    }
   ],
   "source": [
    "check = orders.groupby('visitorId').agg({'group':'nunique'})\n",
    "check[check['group'] == 2].count()"
   ]
  },
  {
   "cell_type": "code",
   "execution_count": 23,
   "metadata": {},
   "outputs": [
    {
     "data": {
      "text/plain": [
       "1031"
      ]
     },
     "metadata": {},
     "output_type": "display_data"
    },
    {
     "data": {
      "text/plain": [
       "0.06"
      ]
     },
     "metadata": {},
     "output_type": "display_data"
    }
   ],
   "source": [
    "display(orders['visitorId'].nunique())\n",
    "display(round(58/1031,2))"
   ]
  },
  {
   "cell_type": "markdown",
   "metadata": {},
   "source": [
    "#### Вывод\n",
    "В обеих таблицах был изменен тип данных на datetime в столбцах с датой. Дубликатов в таблицах не обнаружено.\n",
    "A/B-тест проводился с 1 по 31 августа 2019 года, в нем участвовало 2 группы.\n",
    "6% пользователей, совершивших заказ, оказались в обеих группах."
   ]
  },
  {
   "cell_type": "markdown",
   "metadata": {},
   "source": [
    "### Проверка гипотезы о равенстве долей"
   ]
  },
  {
   "cell_type": "markdown",
   "metadata": {},
   "source": [
    "<div style=\"border:solid blue 1px; padding: 20px\"> \n",
    "Проверим гипотезу о равенстве пропорций заказов в двух группах. За нулевую гипотезу примем равенство пропорций заказов в обеих группах, за альтернативную - пропорции заказов в группах различаются. Уровень значимости зададим равным 5%."
   ]
  },
  {
   "cell_type": "code",
   "execution_count": 24,
   "metadata": {},
   "outputs": [],
   "source": [
    "purchases = np.array([557, 640])\n",
    "leads = np.array([18736, 18916])"
   ]
  },
  {
   "cell_type": "code",
   "execution_count": 25,
   "metadata": {},
   "outputs": [
    {
     "name": "stdout",
     "output_type": "stream",
     "text": [
      "p-значение:  0.02320723394441848\n",
      "Отвергаем нулевую гипотезу: между долями есть значимая разница\n"
     ]
    }
   ],
   "source": [
    "alpha = 0.05\n",
    "\n",
    "p1 = purchases[0]/leads[0]\n",
    "p2 = purchases[1]/leads[1]\n",
    "p_combined = (purchases[0]+purchases[1])/(leads[0]+leads[1])\n",
    "difference = p1-p2\n",
    "\n",
    "z_value = (difference/mth.sqrt(p_combined*(1-p_combined)*(1/leads[0]+1/leads[1])))\n",
    "distr = st.norm(0,1)\n",
    "\n",
    "p_value = (1-distr.cdf(abs(z_value))) * 2\n",
    "\n",
    "print('p-значение: ', p_value)\n",
    "\n",
    "if p_value < alpha:\n",
    "    print('Отвергаем нулевую гипотезу: между долями есть значимая разница')\n",
    "else:\n",
    "    print('Не получилось отвергнуть нулевую гипотезу, нет оснований считать доли разными')"
   ]
  },
  {
   "cell_type": "code",
   "execution_count": 26,
   "metadata": {},
   "outputs": [
    {
     "data": {
      "text/plain": [
       "0.029728864218616567"
      ]
     },
     "metadata": {},
     "output_type": "display_data"
    },
    {
     "data": {
      "text/plain": [
       "0.033833791499259885"
      ]
     },
     "metadata": {},
     "output_type": "display_data"
    }
   ],
   "source": [
    "display(p1)\n",
    "display(p2)"
   ]
  },
  {
   "cell_type": "markdown",
   "metadata": {},
   "source": [
    "#### Вывод\n",
    "Разница между долями заказов в 2,9% и 3,3% при данном размере выборок оказалась статистически значимой. Нулевая гипотеза отвергнута: между долями есть значимая разница."
   ]
  },
  {
   "cell_type": "markdown",
   "metadata": {},
   "source": [
    "### Непараметрический тест Уилкоксона-Манна-Уитни"
   ]
  },
  {
   "cell_type": "markdown",
   "metadata": {},
   "source": [
    "<div style=\"border:solid blue 1px; padding: 20px\"> \n",
    "Проверим, есть ли статистически значимое различие в среднем чеке в группах A и B. За нулевую гипотезу примем, что средние чеки в обеих группах равны, за альтернативную - что они различаются. Уровень значимости зададим равным 5%."
   ]
  },
  {
   "cell_type": "code",
   "execution_count": 27,
   "metadata": {},
   "outputs": [],
   "source": [
    "revenue_before = orders[orders['group']=='A']['revenue']\n",
    "revenue_after = orders[orders['group']=='B']['revenue']"
   ]
  },
  {
   "cell_type": "code",
   "execution_count": 28,
   "metadata": {},
   "outputs": [
    {
     "name": "stdout",
     "output_type": "stream",
     "text": [
      "p-значение:  0.3646454927716229\n",
      "Не получилось отвергнуть нулевую гипотезу, вывод о различии сделать нельзя\n"
     ]
    }
   ],
   "source": [
    "alpha = 0.05\n",
    "\n",
    "results = st.mannwhitneyu(revenue_before, revenue_after, True, 'less')\n",
    "\n",
    "print('p-значение: ', results.pvalue)\n",
    "\n",
    "if results.pvalue < alpha:\n",
    "      print('Отвергаем нулевую гипотезу: разница статистически значима')\n",
    "else:\n",
    "     print(\n",
    "        'Не получилось отвергнуть нулевую гипотезу, вывод о различии сделать нельзя') "
   ]
  },
  {
   "cell_type": "markdown",
   "metadata": {},
   "source": [
    "#### Вывод\n",
    "Не получилось отвергнуть нулевую гипотезу - разница не статистически значима, нельзя сделать вывод о существенном увеличении суммы среднего чека."
   ]
  },
  {
   "cell_type": "markdown",
   "metadata": {},
   "source": [
    "### Стабильность кумулятивных метрик"
   ]
  },
  {
   "cell_type": "markdown",
   "metadata": {},
   "source": [
    "#### Сбор кумулятивных данных"
   ]
  },
  {
   "cell_type": "markdown",
   "metadata": {},
   "source": [
    "<div style=\"border:solid blue 1px; padding: 20px\"> \n",
    "Соберем кумулятивные данные по группам"
   ]
  },
  {
   "cell_type": "markdown",
   "metadata": {},
   "source": [
    "<div style=\"border:solid blue 1px; padding: 20px\"> \n",
    "Создадим массив уникальных пар значений дат и групп теста"
   ]
  },
  {
   "cell_type": "code",
   "execution_count": 29,
   "metadata": {},
   "outputs": [],
   "source": [
    "date_groups = orders[['date', 'group']].drop_duplicates()"
   ]
  },
  {
   "cell_type": "markdown",
   "metadata": {},
   "source": [
    "<div style=\"border:solid blue 1px; padding: 20px\"> \n",
    "Агрегируем данные о заказах по датам и группам"
   ]
  },
  {
   "cell_type": "code",
   "execution_count": 30,
   "metadata": {},
   "outputs": [],
   "source": [
    "orders_aggregated = (date_groups.apply(lambda x:\n",
    "                     orders[np.logical_and(orders['date'] <= x['date'],\n",
    "                     orders['group'] == x['group'])].agg({'date':'max',\n",
    "                     'group':'max', 'transactionId':'nunique', 'visitorId':'nunique',\n",
    "                     'revenue':'sum'}), axis=1).sort_values(by=['date', 'group']))"
   ]
  },
  {
   "cell_type": "markdown",
   "metadata": {},
   "source": [
    "<div style=\"border:solid blue 1px; padding: 20px\"> \n",
    "Агрегируем данные о посетителях по датам и группам"
   ]
  },
  {
   "cell_type": "code",
   "execution_count": 31,
   "metadata": {},
   "outputs": [],
   "source": [
    "visitors_aggregated = (date_groups.apply(lambda x:\n",
    "                     visitors[np.logical_and(visitors['date'] <= x['date'],\n",
    "                     visitors['group'] == x['group'])].agg({'date':'max',\n",
    "                     'group':'max', 'visitors':'sum'}), axis=1)\n",
    "                    .sort_values(by=['date', 'group']))"
   ]
  },
  {
   "cell_type": "code",
   "execution_count": 32,
   "metadata": {},
   "outputs": [
    {
     "data": {
      "text/html": [
       "<div>\n",
       "<style scoped>\n",
       "    .dataframe tbody tr th:only-of-type {\n",
       "        vertical-align: middle;\n",
       "    }\n",
       "\n",
       "    .dataframe tbody tr th {\n",
       "        vertical-align: top;\n",
       "    }\n",
       "\n",
       "    .dataframe thead th {\n",
       "        text-align: right;\n",
       "    }\n",
       "</style>\n",
       "<table border=\"1\" class=\"dataframe\">\n",
       "  <thead>\n",
       "    <tr style=\"text-align: right;\">\n",
       "      <th></th>\n",
       "      <th>date</th>\n",
       "      <th>group</th>\n",
       "      <th>transactionId</th>\n",
       "      <th>visitorId</th>\n",
       "      <th>revenue</th>\n",
       "    </tr>\n",
       "  </thead>\n",
       "  <tbody>\n",
       "    <tr>\n",
       "      <th>55</th>\n",
       "      <td>2019-08-01</td>\n",
       "      <td>A</td>\n",
       "      <td>24</td>\n",
       "      <td>20</td>\n",
       "      <td>148579</td>\n",
       "    </tr>\n",
       "    <tr>\n",
       "      <th>66</th>\n",
       "      <td>2019-08-01</td>\n",
       "      <td>B</td>\n",
       "      <td>21</td>\n",
       "      <td>20</td>\n",
       "      <td>101217</td>\n",
       "    </tr>\n",
       "    <tr>\n",
       "      <th>175</th>\n",
       "      <td>2019-08-02</td>\n",
       "      <td>A</td>\n",
       "      <td>44</td>\n",
       "      <td>38</td>\n",
       "      <td>242401</td>\n",
       "    </tr>\n",
       "    <tr>\n",
       "      <th>173</th>\n",
       "      <td>2019-08-02</td>\n",
       "      <td>B</td>\n",
       "      <td>45</td>\n",
       "      <td>43</td>\n",
       "      <td>266748</td>\n",
       "    </tr>\n",
       "    <tr>\n",
       "      <th>291</th>\n",
       "      <td>2019-08-03</td>\n",
       "      <td>A</td>\n",
       "      <td>68</td>\n",
       "      <td>62</td>\n",
       "      <td>354874</td>\n",
       "    </tr>\n",
       "    <tr>\n",
       "      <th>...</th>\n",
       "      <td>...</td>\n",
       "      <td>...</td>\n",
       "      <td>...</td>\n",
       "      <td>...</td>\n",
       "      <td>...</td>\n",
       "    </tr>\n",
       "    <tr>\n",
       "      <th>496</th>\n",
       "      <td>2019-08-29</td>\n",
       "      <td>B</td>\n",
       "      <td>596</td>\n",
       "      <td>544</td>\n",
       "      <td>5559398</td>\n",
       "    </tr>\n",
       "    <tr>\n",
       "      <th>730</th>\n",
       "      <td>2019-08-30</td>\n",
       "      <td>A</td>\n",
       "      <td>545</td>\n",
       "      <td>493</td>\n",
       "      <td>4022970</td>\n",
       "    </tr>\n",
       "    <tr>\n",
       "      <th>690</th>\n",
       "      <td>2019-08-30</td>\n",
       "      <td>B</td>\n",
       "      <td>620</td>\n",
       "      <td>567</td>\n",
       "      <td>5774631</td>\n",
       "    </tr>\n",
       "    <tr>\n",
       "      <th>958</th>\n",
       "      <td>2019-08-31</td>\n",
       "      <td>A</td>\n",
       "      <td>557</td>\n",
       "      <td>503</td>\n",
       "      <td>4084803</td>\n",
       "    </tr>\n",
       "    <tr>\n",
       "      <th>930</th>\n",
       "      <td>2019-08-31</td>\n",
       "      <td>B</td>\n",
       "      <td>640</td>\n",
       "      <td>586</td>\n",
       "      <td>5907760</td>\n",
       "    </tr>\n",
       "  </tbody>\n",
       "</table>\n",
       "<p>62 rows × 5 columns</p>\n",
       "</div>"
      ],
      "text/plain": [
       "          date group  transactionId  visitorId  revenue\n",
       "55  2019-08-01     A             24         20   148579\n",
       "66  2019-08-01     B             21         20   101217\n",
       "175 2019-08-02     A             44         38   242401\n",
       "173 2019-08-02     B             45         43   266748\n",
       "291 2019-08-03     A             68         62   354874\n",
       "..         ...   ...            ...        ...      ...\n",
       "496 2019-08-29     B            596        544  5559398\n",
       "730 2019-08-30     A            545        493  4022970\n",
       "690 2019-08-30     B            620        567  5774631\n",
       "958 2019-08-31     A            557        503  4084803\n",
       "930 2019-08-31     B            640        586  5907760\n",
       "\n",
       "[62 rows x 5 columns]"
      ]
     },
     "metadata": {},
     "output_type": "display_data"
    },
    {
     "data": {
      "text/html": [
       "<div>\n",
       "<style scoped>\n",
       "    .dataframe tbody tr th:only-of-type {\n",
       "        vertical-align: middle;\n",
       "    }\n",
       "\n",
       "    .dataframe tbody tr th {\n",
       "        vertical-align: top;\n",
       "    }\n",
       "\n",
       "    .dataframe thead th {\n",
       "        text-align: right;\n",
       "    }\n",
       "</style>\n",
       "<table border=\"1\" class=\"dataframe\">\n",
       "  <thead>\n",
       "    <tr style=\"text-align: right;\">\n",
       "      <th></th>\n",
       "      <th>date</th>\n",
       "      <th>group</th>\n",
       "      <th>visitors</th>\n",
       "    </tr>\n",
       "  </thead>\n",
       "  <tbody>\n",
       "    <tr>\n",
       "      <th>55</th>\n",
       "      <td>2019-08-01</td>\n",
       "      <td>A</td>\n",
       "      <td>719</td>\n",
       "    </tr>\n",
       "    <tr>\n",
       "      <th>66</th>\n",
       "      <td>2019-08-01</td>\n",
       "      <td>B</td>\n",
       "      <td>713</td>\n",
       "    </tr>\n",
       "    <tr>\n",
       "      <th>175</th>\n",
       "      <td>2019-08-02</td>\n",
       "      <td>A</td>\n",
       "      <td>1338</td>\n",
       "    </tr>\n",
       "    <tr>\n",
       "      <th>173</th>\n",
       "      <td>2019-08-02</td>\n",
       "      <td>B</td>\n",
       "      <td>1294</td>\n",
       "    </tr>\n",
       "    <tr>\n",
       "      <th>291</th>\n",
       "      <td>2019-08-03</td>\n",
       "      <td>A</td>\n",
       "      <td>1845</td>\n",
       "    </tr>\n",
       "    <tr>\n",
       "      <th>...</th>\n",
       "      <td>...</td>\n",
       "      <td>...</td>\n",
       "      <td>...</td>\n",
       "    </tr>\n",
       "    <tr>\n",
       "      <th>496</th>\n",
       "      <td>2019-08-29</td>\n",
       "      <td>B</td>\n",
       "      <td>17708</td>\n",
       "    </tr>\n",
       "    <tr>\n",
       "      <th>730</th>\n",
       "      <td>2019-08-30</td>\n",
       "      <td>A</td>\n",
       "      <td>18037</td>\n",
       "    </tr>\n",
       "    <tr>\n",
       "      <th>690</th>\n",
       "      <td>2019-08-30</td>\n",
       "      <td>B</td>\n",
       "      <td>18198</td>\n",
       "    </tr>\n",
       "    <tr>\n",
       "      <th>958</th>\n",
       "      <td>2019-08-31</td>\n",
       "      <td>A</td>\n",
       "      <td>18736</td>\n",
       "    </tr>\n",
       "    <tr>\n",
       "      <th>930</th>\n",
       "      <td>2019-08-31</td>\n",
       "      <td>B</td>\n",
       "      <td>18916</td>\n",
       "    </tr>\n",
       "  </tbody>\n",
       "</table>\n",
       "<p>62 rows × 3 columns</p>\n",
       "</div>"
      ],
      "text/plain": [
       "          date group  visitors\n",
       "55  2019-08-01     A       719\n",
       "66  2019-08-01     B       713\n",
       "175 2019-08-02     A      1338\n",
       "173 2019-08-02     B      1294\n",
       "291 2019-08-03     A      1845\n",
       "..         ...   ...       ...\n",
       "496 2019-08-29     B     17708\n",
       "730 2019-08-30     A     18037\n",
       "690 2019-08-30     B     18198\n",
       "958 2019-08-31     A     18736\n",
       "930 2019-08-31     B     18916\n",
       "\n",
       "[62 rows x 3 columns]"
      ]
     },
     "metadata": {},
     "output_type": "display_data"
    }
   ],
   "source": [
    "display(orders_aggregated)\n",
    "display(visitors_aggregated)"
   ]
  },
  {
   "cell_type": "markdown",
   "metadata": {},
   "source": [
    "<div style=\"border:solid blue 1px; padding: 20px\"> \n",
    "Объединим полученные данные"
   ]
  },
  {
   "cell_type": "code",
   "execution_count": 33,
   "metadata": {},
   "outputs": [],
   "source": [
    "cumulative_data = (orders_aggregated.merge(visitors_aggregated, left_on=['date', 'group'],\n",
    "                                         right_on=['date', 'group']))"
   ]
  },
  {
   "cell_type": "code",
   "execution_count": 34,
   "metadata": {},
   "outputs": [
    {
     "data": {
      "text/html": [
       "<div>\n",
       "<style scoped>\n",
       "    .dataframe tbody tr th:only-of-type {\n",
       "        vertical-align: middle;\n",
       "    }\n",
       "\n",
       "    .dataframe tbody tr th {\n",
       "        vertical-align: top;\n",
       "    }\n",
       "\n",
       "    .dataframe thead th {\n",
       "        text-align: right;\n",
       "    }\n",
       "</style>\n",
       "<table border=\"1\" class=\"dataframe\">\n",
       "  <thead>\n",
       "    <tr style=\"text-align: right;\">\n",
       "      <th></th>\n",
       "      <th>date</th>\n",
       "      <th>group</th>\n",
       "      <th>transactionId</th>\n",
       "      <th>visitorId</th>\n",
       "      <th>revenue</th>\n",
       "      <th>visitors</th>\n",
       "    </tr>\n",
       "  </thead>\n",
       "  <tbody>\n",
       "    <tr>\n",
       "      <th>0</th>\n",
       "      <td>2019-08-01</td>\n",
       "      <td>A</td>\n",
       "      <td>24</td>\n",
       "      <td>20</td>\n",
       "      <td>148579</td>\n",
       "      <td>719</td>\n",
       "    </tr>\n",
       "    <tr>\n",
       "      <th>1</th>\n",
       "      <td>2019-08-01</td>\n",
       "      <td>B</td>\n",
       "      <td>21</td>\n",
       "      <td>20</td>\n",
       "      <td>101217</td>\n",
       "      <td>713</td>\n",
       "    </tr>\n",
       "    <tr>\n",
       "      <th>2</th>\n",
       "      <td>2019-08-02</td>\n",
       "      <td>A</td>\n",
       "      <td>44</td>\n",
       "      <td>38</td>\n",
       "      <td>242401</td>\n",
       "      <td>1338</td>\n",
       "    </tr>\n",
       "    <tr>\n",
       "      <th>3</th>\n",
       "      <td>2019-08-02</td>\n",
       "      <td>B</td>\n",
       "      <td>45</td>\n",
       "      <td>43</td>\n",
       "      <td>266748</td>\n",
       "      <td>1294</td>\n",
       "    </tr>\n",
       "    <tr>\n",
       "      <th>4</th>\n",
       "      <td>2019-08-03</td>\n",
       "      <td>A</td>\n",
       "      <td>68</td>\n",
       "      <td>62</td>\n",
       "      <td>354874</td>\n",
       "      <td>1845</td>\n",
       "    </tr>\n",
       "    <tr>\n",
       "      <th>...</th>\n",
       "      <td>...</td>\n",
       "      <td>...</td>\n",
       "      <td>...</td>\n",
       "      <td>...</td>\n",
       "      <td>...</td>\n",
       "      <td>...</td>\n",
       "    </tr>\n",
       "    <tr>\n",
       "      <th>57</th>\n",
       "      <td>2019-08-29</td>\n",
       "      <td>B</td>\n",
       "      <td>596</td>\n",
       "      <td>544</td>\n",
       "      <td>5559398</td>\n",
       "      <td>17708</td>\n",
       "    </tr>\n",
       "    <tr>\n",
       "      <th>58</th>\n",
       "      <td>2019-08-30</td>\n",
       "      <td>A</td>\n",
       "      <td>545</td>\n",
       "      <td>493</td>\n",
       "      <td>4022970</td>\n",
       "      <td>18037</td>\n",
       "    </tr>\n",
       "    <tr>\n",
       "      <th>59</th>\n",
       "      <td>2019-08-30</td>\n",
       "      <td>B</td>\n",
       "      <td>620</td>\n",
       "      <td>567</td>\n",
       "      <td>5774631</td>\n",
       "      <td>18198</td>\n",
       "    </tr>\n",
       "    <tr>\n",
       "      <th>60</th>\n",
       "      <td>2019-08-31</td>\n",
       "      <td>A</td>\n",
       "      <td>557</td>\n",
       "      <td>503</td>\n",
       "      <td>4084803</td>\n",
       "      <td>18736</td>\n",
       "    </tr>\n",
       "    <tr>\n",
       "      <th>61</th>\n",
       "      <td>2019-08-31</td>\n",
       "      <td>B</td>\n",
       "      <td>640</td>\n",
       "      <td>586</td>\n",
       "      <td>5907760</td>\n",
       "      <td>18916</td>\n",
       "    </tr>\n",
       "  </tbody>\n",
       "</table>\n",
       "<p>62 rows × 6 columns</p>\n",
       "</div>"
      ],
      "text/plain": [
       "         date group  transactionId  visitorId  revenue  visitors\n",
       "0  2019-08-01     A             24         20   148579       719\n",
       "1  2019-08-01     B             21         20   101217       713\n",
       "2  2019-08-02     A             44         38   242401      1338\n",
       "3  2019-08-02     B             45         43   266748      1294\n",
       "4  2019-08-03     A             68         62   354874      1845\n",
       "..        ...   ...            ...        ...      ...       ...\n",
       "57 2019-08-29     B            596        544  5559398     17708\n",
       "58 2019-08-30     A            545        493  4022970     18037\n",
       "59 2019-08-30     B            620        567  5774631     18198\n",
       "60 2019-08-31     A            557        503  4084803     18736\n",
       "61 2019-08-31     B            640        586  5907760     18916\n",
       "\n",
       "[62 rows x 6 columns]"
      ]
     },
     "execution_count": 34,
     "metadata": {},
     "output_type": "execute_result"
    }
   ],
   "source": [
    "cumulative_data"
   ]
  },
  {
   "cell_type": "markdown",
   "metadata": {},
   "source": [
    "#### График кумулятивной выручки по группам"
   ]
  },
  {
   "cell_type": "markdown",
   "metadata": {},
   "source": [
    "<div style=\"border:solid blue 1px; padding: 20px\"> \n",
    "Построим график кумулятивной выручки по группам"
   ]
  },
  {
   "cell_type": "code",
   "execution_count": 35,
   "metadata": {
    "scrolled": false
   },
   "outputs": [
    {
     "data": {
      "text/plain": [
       "Text(0.5, 1.0, 'График кумулятивной выручки по группам')"
      ]
     },
     "execution_count": 35,
     "metadata": {},
     "output_type": "execute_result"
    },
    {
     "data": {
      "image/png": "[encoded data removed]",
      "text/plain": [
       "<Figure size 864x504 with 1 Axes>"
      ]
     },
     "metadata": {
      "needs_background": "light"
     },
     "output_type": "display_data"
    }
   ],
   "source": [
    "cumulative_revenue_a = cumulative_data[cumulative_data['group'] == 'A']\n",
    "[['date', 'transactionId', 'revenue']]\n",
    "cumulative_revenue_b = cumulative_data[cumulative_data['group'] == 'B']\n",
    "[['date', 'transactionId', 'revenue']]\n",
    "\n",
    "plt.rcParams[\"figure.figsize\"] = (12,7)\n",
    "plt.plot(cumulative_revenue_a['date'], cumulative_revenue_a['revenue'], label='A')\n",
    "plt.plot(cumulative_revenue_b['date'], cumulative_revenue_b['revenue'], label='B')\n",
    "plt.legend()\n",
    "plt.ylabel('Кумулятивная выручка, млн.')\n",
    "plt.xlabel('Дата заказа')\n",
    "plt.title('График кумулятивной выручки по группам')"
   ]
  },
  {
   "cell_type": "markdown",
   "metadata": {},
   "source": [
    "<div style=\"border:solid blue 1px; padding: 20px\"> \n",
    "Группа B стабильно  лидирует на протяжении всего теста.\n",
    "Кумулятивная выручка на 31 августа по группе B составила ~6 млн.. а по группе B - ~4 млн."
   ]
  },
  {
   "cell_type": "markdown",
   "metadata": {},
   "source": [
    "#### График кумулятивного среднего чека по группам"
   ]
  },
  {
   "cell_type": "markdown",
   "metadata": {},
   "source": [
    "<div style=\"border:solid blue 1px; padding: 20px\"> \n",
    "Построим график кумулятивного среднего чека по группам"
   ]
  },
  {
   "cell_type": "code",
   "execution_count": 36,
   "metadata": {},
   "outputs": [
    {
     "data": {
      "text/plain": [
       "Text(0.5, 1.0, 'График кумулятивного среднего чека по группам')"
      ]
     },
     "execution_count": 36,
     "metadata": {},
     "output_type": "execute_result"
    },
    {
     "data": {
      "image/png": "[encoded data removed]",
      "text/plain": [
       "<Figure size 864x504 with 1 Axes>"
      ]
     },
     "metadata": {
      "needs_background": "light"
     },
     "output_type": "display_data"
    }
   ],
   "source": [
    "plt.plot(cumulative_revenue_a['date'], cumulative_revenue_a['revenue']/\n",
    "         cumulative_revenue_a['transactionId'], label='A')\n",
    "plt.plot(cumulative_revenue_b['date'], cumulative_revenue_b['revenue']/\n",
    "         cumulative_revenue_b['transactionId'], label='B')\n",
    "plt.legend()\n",
    "plt.rcParams[\"figure.figsize\"] = (12,7)\n",
    "plt.ylabel('Сумма среднего чека')\n",
    "plt.xlabel('Дата заказа')\n",
    "plt.title('График кумулятивного среднего чека по группам')"
   ]
  },
  {
   "cell_type": "markdown",
   "metadata": {},
   "source": [
    "<div style=\"border:solid blue 1px; padding: 20px\"> \n",
    "По среднему чеку группа B также лидирует, а с 18 августа резко вырвалась вперед. К концу теста наблюдается сближение кумулятивных сумм."
   ]
  },
  {
   "cell_type": "markdown",
   "metadata": {},
   "source": [
    "#### График относительного изменения кумулятивного среднего чека группы B к группе A"
   ]
  },
  {
   "cell_type": "markdown",
   "metadata": {},
   "source": [
    "<div style=\"border:solid blue 1px; padding: 20px\"> \n",
    "Построим график относительного изменения кумулятивного среднего чека группы B к группе A"
   ]
  },
  {
   "cell_type": "code",
   "execution_count": 37,
   "metadata": {},
   "outputs": [],
   "source": [
    "cumulative_revenue_merged = cumulative_revenue_a.merge(cumulative_revenue_b, left_on='date', \n",
    "                                                        right_on='date', suffixes=['A', 'B'])"
   ]
  },
  {
   "cell_type": "code",
   "execution_count": 38,
   "metadata": {},
   "outputs": [
    {
     "data": {
      "text/plain": [
       "Text(0.5, 1.0, 'График относительного изменения кумулятивного среднего чека группы B к группе A')"
      ]
     },
     "execution_count": 38,
     "metadata": {},
     "output_type": "execute_result"
    },
    {
     "data": {
      "image/png": "[encoded data removed]",
      "text/plain": [
       "<Figure size 864x504 with 1 Axes>"
      ]
     },
     "metadata": {
      "needs_background": "light"
     },
     "output_type": "display_data"
    }
   ],
   "source": [
    "plt.plot(cumulative_revenue_merged['date'],\n",
    "         (cumulative_revenue_merged['revenueB']/cumulative_revenue_merged['transactionIdB'])/\n",
    "        (cumulative_revenue_merged['revenueA']/cumulative_revenue_merged['transactionIdA'])-1)\n",
    "plt.axhline(y=0, color='black', linestyle='--')\n",
    "plt.title('График относительного изменения кумулятивного среднего чека группы B к группе A')"
   ]
  },
  {
   "cell_type": "markdown",
   "metadata": {},
   "source": [
    "<div style=\"border:solid blue 1px; padding: 20px\"> \n",
    "На графике относительного изменения кумулятивного среднего чека видны резкие скачки. Возможно, в данные промежутки были совершены аномальные заказы."
   ]
  },
  {
   "cell_type": "markdown",
   "metadata": {},
   "source": [
    "#### График кумулятивной конверсии по группам"
   ]
  },
  {
   "cell_type": "markdown",
   "metadata": {},
   "source": [
    "<div style=\"border:solid blue 1px; padding: 20px\"> \n",
    "Построим график кумулятивной конверсии по группам"
   ]
  },
  {
   "cell_type": "code",
   "execution_count": 39,
   "metadata": {},
   "outputs": [
    {
     "data": {
      "text/plain": [
       "Text(0.5, 1.0, 'График кумулятивной конверсии по группам')"
      ]
     },
     "execution_count": 39,
     "metadata": {},
     "output_type": "execute_result"
    },
    {
     "data": {
      "image/png": "[encoded data removed]",
      "text/plain": [
       "<Figure size 864x504 with 1 Axes>"
      ]
     },
     "metadata": {
      "needs_background": "light"
     },
     "output_type": "display_data"
    }
   ],
   "source": [
    "cumulative_data['conversion'] = cumulative_data['transactionId'] / cumulative_data['visitors']\n",
    "\n",
    "cumulative_data_a = cumulative_data[cumulative_data['group'] == 'A']\n",
    "cumulative_data_b = cumulative_data[cumulative_data['group'] == 'B']\n",
    "\n",
    "plt.plot(cumulative_data_a['date'], cumulative_data_a['conversion'], label='A')\n",
    "plt.plot(cumulative_data_b['date'], cumulative_data_b['conversion'], label='B')\n",
    "plt.legend()\n",
    "plt.rcParams[\"figure.figsize\"] = (12,7)\n",
    "plt.ylabel('Конверсия')\n",
    "plt.xlabel('Дата')\n",
    "plt.title('График кумулятивной конверсии по группам')"
   ]
  },
  {
   "cell_type": "markdown",
   "metadata": {},
   "source": [
    "<div style=\"border:solid blue 1px; padding: 20px\"> \n",
    "С 6 августа конверсия в группе B превысыла конверсию в группе A и лидировала до конца теста."
   ]
  },
  {
   "cell_type": "markdown",
   "metadata": {},
   "source": [
    "#### График относительного изменения кумулятивной конверсии группы B к группе A"
   ]
  },
  {
   "cell_type": "markdown",
   "metadata": {},
   "source": [
    "<div style=\"border:solid blue 1px; padding: 20px\"> \n",
    "Построим график относительного изменения кумулятивной конверсии группы B к группе A"
   ]
  },
  {
   "cell_type": "code",
   "execution_count": 40,
   "metadata": {},
   "outputs": [
    {
     "name": "stderr",
     "output_type": "stream",
     "text": [
      "No handles with labels found to put in legend.\n"
     ]
    },
    {
     "data": {
      "text/plain": [
       "<matplotlib.lines.Line2D at 0x7f6df9e826d0>"
      ]
     },
     "execution_count": 40,
     "metadata": {},
     "output_type": "execute_result"
    },
    {
     "data": {
      "image/png": "[encoded data removed]",
      "text/plain": [
       "<Figure size 864x504 with 1 Axes>"
      ]
     },
     "metadata": {
      "needs_background": "light"
     },
     "output_type": "display_data"
    }
   ],
   "source": [
    "cumulative_conversion_merged = (cumulative_data_a[['date', 'conversion']]\n",
    "                                .merge(cumulative_data_b[['date', 'conversion']]\n",
    "                                       , left_on='date', right_on='date', suffixes=['A', 'B']))\n",
    "\n",
    "plt.plot(cumulative_conversion_merged['date'], cumulative_conversion_merged['conversionB']/\n",
    "         cumulative_conversion_merged['conversionA'] - 1)\n",
    "plt.legend()\n",
    "plt.rcParams[\"figure.figsize\"] = (12,7)\n",
    "plt.title('График относительного изменения кумулятивной конверсии группы B к группе A')\n",
    "plt.axhline(y=0, color='black', linestyle='--')\n",
    "plt.axhline(y=0.1, color='grey', linestyle='--')"
   ]
  },
  {
   "cell_type": "markdown",
   "metadata": {},
   "source": [
    "<div style=\"border:solid blue 1px; padding: 20px\"> \n",
    "С 6 августа конверсия в группе B превысыла конверсию в группе A и разница продолжала увеличиваться. На конец теста относительное изменение кумулятивной конверсии группы B к группе A стабилизировалось на уровне ~0.1-0.15."
   ]
  },
  {
   "cell_type": "markdown",
   "metadata": {},
   "source": [
    "### Анализ выбросов и всплесков"
   ]
  },
  {
   "cell_type": "markdown",
   "metadata": {},
   "source": [
    "#### Точечный график количества заказов по пользователям"
   ]
  },
  {
   "cell_type": "markdown",
   "metadata": {},
   "source": [
    "<div style=\"border:solid blue 1px; padding: 20px\"> \n",
    "Построим точечный график количества заказов по пользователям"
   ]
  },
  {
   "cell_type": "code",
   "execution_count": 41,
   "metadata": {},
   "outputs": [
    {
     "name": "stderr",
     "output_type": "stream",
     "text": [
      "No handles with labels found to put in legend.\n"
     ]
    },
    {
     "data": {
      "text/plain": [
       "Text(0.5, 0, 'Номер заказа')"
      ]
     },
     "execution_count": 41,
     "metadata": {},
     "output_type": "execute_result"
    },
    {
     "data": {
      "image/png": "[encoded data removed]",
      "text/plain": [
       "<Figure size 864x504 with 1 Axes>"
      ]
     },
     "metadata": {
      "needs_background": "light"
     },
     "output_type": "display_data"
    }
   ],
   "source": [
    "orders_by_users = orders.groupby('visitorId', as_index=False).agg({'transactionId':'nunique'})\n",
    "x_values = pd.Series(range(0, len(orders_by_users)))\n",
    "plt.scatter(x_values, orders_by_users['transactionId'])\n",
    "plt.legend()\n",
    "plt.title('Точечный график количества заказов по пользователям')\n",
    "plt.ylabel('Количество заказов, шт.')\n",
    "plt.xlabel('Номер заказа')"
   ]
  },
  {
   "cell_type": "markdown",
   "metadata": {},
   "source": [
    "<div style=\"border:solid blue 1px; padding: 20px\"> \n",
    "Пользователей, заказавших более 2 заказов не много. Чтобы определить границу аномальных пользователей посчитаем перцентили."
   ]
  },
  {
   "cell_type": "markdown",
   "metadata": {},
   "source": [
    "#### Определение аномальных пользователей"
   ]
  },
  {
   "cell_type": "markdown",
   "metadata": {},
   "source": [
    "<div style=\"border:solid blue 1px; padding: 20px\"> \n",
    "Посчитаем 95-й и 99-й перцентили количества заказов на пользователя"
   ]
  },
  {
   "cell_type": "code",
   "execution_count": 42,
   "metadata": {},
   "outputs": [
    {
     "name": "stdout",
     "output_type": "stream",
     "text": [
      "[2. 4.]\n"
     ]
    }
   ],
   "source": [
    "print(np.percentile(orders_by_users['transactionId'],[95,99]))"
   ]
  },
  {
   "cell_type": "markdown",
   "metadata": {},
   "source": [
    "<div style=\"border:solid blue 1px; padding: 20px\"> \n",
    "Не более 5% пользователей совершали больше 2-х заказов и не более 1% - больше 4 заказов."
   ]
  },
  {
   "cell_type": "markdown",
   "metadata": {},
   "source": [
    "#### Точечный график стоимостей заказов"
   ]
  },
  {
   "cell_type": "markdown",
   "metadata": {},
   "source": [
    "<div style=\"border:solid blue 1px; padding: 20px\"> \n",
    "Построим точечный график стоимостей заказов"
   ]
  },
  {
   "cell_type": "code",
   "execution_count": 43,
   "metadata": {
    "scrolled": false
   },
   "outputs": [
    {
     "name": "stderr",
     "output_type": "stream",
     "text": [
      "No handles with labels found to put in legend.\n"
     ]
    },
    {
     "data": {
      "text/plain": [
       "Text(0.5, 0, 'Номер заказа')"
      ]
     },
     "execution_count": 43,
     "metadata": {},
     "output_type": "execute_result"
    },
    {
     "data": {
      "image/png": "[encoded data removed]",
      "text/plain": [
       "<Figure size 864x504 with 1 Axes>"
      ]
     },
     "metadata": {
      "needs_background": "light"
     },
     "output_type": "display_data"
    }
   ],
   "source": [
    "x_values = pd.Series(range(0, len(orders['revenue'])))\n",
    "plt.scatter(x_values, orders['revenue'])\n",
    "plt.legend()\n",
    "plt.title('Точечный график стоимостей заказов')\n",
    "plt.ylabel('Стоимость заказа, млн.')\n",
    "plt.xlabel('Номер заказа')"
   ]
  },
  {
   "cell_type": "code",
   "execution_count": 44,
   "metadata": {},
   "outputs": [
    {
     "name": "stderr",
     "output_type": "stream",
     "text": [
      "No handles with labels found to put in legend.\n"
     ]
    },
    {
     "data": {
      "text/plain": [
       "(0.0, 100000.0)"
      ]
     },
     "execution_count": 44,
     "metadata": {},
     "output_type": "execute_result"
    },
    {
     "data": {
      "image/png": "[encoded data removed]",
      "text/plain": [
       "<Figure size 864x504 with 1 Axes>"
      ]
     },
     "metadata": {
      "needs_background": "light"
     },
     "output_type": "display_data"
    }
   ],
   "source": [
    "plt.scatter(x_values, orders['revenue'])\n",
    "plt.legend()\n",
    "plt.title('Точечный график стоимостей заказов')\n",
    "plt.ylabel('Стоимость заказа, тыс.')\n",
    "plt.xlabel('Номер заказа')\n",
    "plt.ylim(0,100000)"
   ]
  },
  {
   "cell_type": "markdown",
   "metadata": {},
   "source": [
    "<div style=\"border:solid blue 1px; padding: 20px\"> \n",
    "Большинство заказов стоимостью до 40 тыс. Посчитаем перцентили, чтобы определить аномальные значения."
   ]
  },
  {
   "cell_type": "markdown",
   "metadata": {},
   "source": [
    "#### Определение аномальных заказов"
   ]
  },
  {
   "cell_type": "markdown",
   "metadata": {},
   "source": [
    "<div style=\"border:solid blue 1px; padding: 20px\"> \n",
    "Посчитаем 95-й и 99-й перцентили стоимости заказов"
   ]
  },
  {
   "cell_type": "code",
   "execution_count": 45,
   "metadata": {},
   "outputs": [
    {
     "name": "stdout",
     "output_type": "stream",
     "text": [
      "[28000.  58233.2]\n"
     ]
    }
   ],
   "source": [
    "print(np.percentile(orders['revenue'],[95,99]))"
   ]
  },
  {
   "cell_type": "markdown",
   "metadata": {},
   "source": [
    "<div style=\"border:solid blue 1px; padding: 20px\"> \n",
    "Не более 5% пользователей совершали заказы на сумму больше 28 тыс. и не более 1% - на сумму больше 58 тыс."
   ]
  },
  {
   "cell_type": "markdown",
   "metadata": {},
   "source": [
    "### Статистическая значимость"
   ]
  },
  {
   "cell_type": "markdown",
   "metadata": {},
   "source": [
    "#### Статистическая значимость различий в конверсии между группами по «сырым» данным"
   ]
  },
  {
   "cell_type": "markdown",
   "metadata": {},
   "source": [
    "<div style=\"border:solid blue 1px; padding: 20px\"> \n",
    "Посчитаем статистическую значимость различий в конверсии между группами. Для этого объявим переменные sampleA, sampleB, в которых пользователям из групп A и B будет соответствовать определенное количество заказов (если ничего не заказывали, то 0).\n",
    "За нулевую гипотезу примем, что конверсии в группах A и B одинаковые, за альтернативную гипотезу, что они различаются. Уровень значимости примем равным 0.05."
   ]
  },
  {
   "cell_type": "code",
   "execution_count": 46,
   "metadata": {},
   "outputs": [],
   "source": [
    "orders_by_users_a = (orders[orders['group'] == 'A'].groupby('visitorId', as_index=False)\n",
    "                     .agg({'transactionId':'nunique'}))\n",
    "orders_by_users_b = (orders[orders['group'] == 'B'].groupby('visitorId', as_index=False)\n",
    "                     .agg({'transactionId':'nunique'}))"
   ]
  },
  {
   "cell_type": "code",
   "execution_count": 47,
   "metadata": {},
   "outputs": [],
   "source": [
    "sampleA = (pd.concat([orders_by_users_a['transactionId'], pd.Series(0, index=np.arange(\n",
    "visitors[visitors['group'] == 'A']['visitors'].sum()-len(orders_by_users_a['transactionId'])),\n",
    "name='orders')], axis=0))\n",
    "sampleB = (pd.concat([orders_by_users_b['transactionId'], pd.Series(0, index=np.arange(\n",
    "visitors[visitors['group'] == 'B']['visitors'].sum()-len(orders_by_users_b['transactionId'])),\n",
    "name='orders')], axis=0))"
   ]
  },
  {
   "cell_type": "code",
   "execution_count": 48,
   "metadata": {},
   "outputs": [
    {
     "name": "stdout",
     "output_type": "stream",
     "text": [
      "0.017\n",
      "0.138\n"
     ]
    }
   ],
   "source": [
    "print(\"{0:.3f}\".format(stats.mannwhitneyu(sampleA, sampleB)[1]))\n",
    "print(\"{0:.3f}\".format(sampleB.mean() / sampleA.mean() - 1))"
   ]
  },
  {
   "cell_type": "markdown",
   "metadata": {},
   "source": [
    "<div style=\"border:solid blue 1px; padding: 20px\"> \n",
    "P-value меньше 0.05 (0.017). Таким образом мы отвергаем нулевую гипотезу: в конверсии между группами есть статистически значимые различия.\n",
    "Относительный прирост конверсии в группе B относительно группы A составил 13,8%."
   ]
  },
  {
   "cell_type": "markdown",
   "metadata": {},
   "source": [
    "#### Статистическая значимость различий в среднем чеке заказа между группами по «сырым» данным"
   ]
  },
  {
   "cell_type": "markdown",
   "metadata": {},
   "source": [
    "<div style=\"border:solid blue 1px; padding: 20px\"> \n",
    "Посчитаем статистическую значимость различий в среднем чеке заказа между группами. За нулевую гипотезу примем, что средний чек в группах A и B одинаковый, за альтернативную гипотезу, что различается. Уровень значимости примем равным 0.05."
   ]
  },
  {
   "cell_type": "code",
   "execution_count": 49,
   "metadata": {},
   "outputs": [
    {
     "name": "stdout",
     "output_type": "stream",
     "text": [
      "0.729\n",
      "0.259\n"
     ]
    }
   ],
   "source": [
    "print((\"{0:.3f}\".format(stats.mannwhitneyu(orders[orders['group']=='A']['revenue'], \n",
    "                                          orders[orders['group']=='B']['revenue'])[1])))\n",
    "print((\"{0:.3f}\".format(orders[orders['group']=='B']['revenue'].mean()/ \n",
    "                        orders[orders['group']=='A']['revenue'].mean() - 1)))"
   ]
  },
  {
   "cell_type": "markdown",
   "metadata": {},
   "source": [
    "<div style=\"border:solid blue 1px; padding: 20px\"> \n",
    "P-value больше 0.05 (0.729). Таким образом мы не отвергаем нулевую гипотезу: статистически значимых различий в среднем чеке нет.\n",
    "Но в то же время относительное различие в среднем чеке между группами составило 25,9%."
   ]
  },
  {
   "cell_type": "markdown",
   "metadata": {},
   "source": [
    "#### Статистическая значимость различий в конверсии между группами по «очищенным» данным"
   ]
  },
  {
   "cell_type": "markdown",
   "metadata": {},
   "source": [
    "<div style=\"border:solid blue 1px; padding: 20px\"> \n",
    "Посчитаем статистическую значимость различий в конверсии между группами по очищенным от аномалий данным.\n",
    "Уберем из анализа пользователей, совершивших более 2 заказов, а также пользователей, совершивших заказ на сумму более 28 тыс.\n",
    "За нулевую гипотезу примем, что конверсии в группах A и B одинаковые, за альтернативную гипотезу, что они различаются. Уровень значимости примем равным 0.05."
   ]
  },
  {
   "cell_type": "code",
   "execution_count": 50,
   "metadata": {},
   "outputs": [],
   "source": [
    "users_with_many_orders = (pd.concat([orders_by_users_a[orders_by_users_a['transactionId'] \n",
    "                                                       > np.percentile(orders_by_users['transactionId'],[95])[0]]['visitorId'],\n",
    "                                                       orders_by_users_b[orders_by_users_b['transactionId'] \n",
    "                                                       > np.percentile(orders_by_users['transactionId'],[95])[0]]['visitorId']], axis=0))\n",
    "users_with_expensive_orders = orders[orders['revenue'] > np.percentile(orders['revenue'],[95])[0]]['visitorId']\n",
    "abnormal_users = (pd.concat([users_with_many_orders, users_with_expensive_orders], axis=0)\n",
    "                 .drop_duplicates().sort_values())"
   ]
  },
  {
   "cell_type": "code",
   "execution_count": 51,
   "metadata": {},
   "outputs": [],
   "source": [
    "sampleA_filtered = (pd.concat([orders_by_users_a[np.logical_not\n",
    "                                                 (orders_by_users_a['visitorId'].isin(abnormal_users))]['transactionId'], \n",
    "                    pd.Series(0, index=np.arange(visitors[visitors['group'] == 'A']['visitors'].sum()-len(orders_by_users_a['transactionId'])),\n",
    "name='orders')], axis=0))\n",
    "sampleB_filtered = (pd.concat([orders_by_users_b[np.logical_not\n",
    "                                                 (orders_by_users_b['visitorId'].isin(abnormal_users))]['transactionId'], \n",
    "                    pd.Series(0, index=np.arange(visitors[visitors['group'] == 'B']['visitors'].sum()-len(orders_by_users_b['transactionId'])),\n",
    "name='orders')], axis=0))"
   ]
  },
  {
   "cell_type": "code",
   "execution_count": 52,
   "metadata": {},
   "outputs": [
    {
     "name": "stdout",
     "output_type": "stream",
     "text": [
      "0.013\n",
      "0.173\n"
     ]
    }
   ],
   "source": [
    "print(\"{0:.3f}\".format(stats.mannwhitneyu(sampleA_filtered, sampleB_filtered)[1]))\n",
    "print(\"{0:.3f}\".format(sampleB_filtered.mean() / sampleA_filtered.mean() - 1))"
   ]
  },
  {
   "cell_type": "markdown",
   "metadata": {},
   "source": [
    "<div style=\"border:solid blue 1px; padding: 20px\"> \n",
    "P-value меньше 0.05 (0.013). Таким образом мы отвергаем нулевую гипотезу: в конверсии между группами есть статистически значимые различия.\n",
    "Относительный прирост конверсии в группе B относительно группы A увеличился с удалением аномальных пользователей и составил 17,3% (+3,5 п.п.)."
   ]
  },
  {
   "cell_type": "markdown",
   "metadata": {},
   "source": [
    "#### Статистическая значимость различий в среднем чеке заказа между группами по «очищенным» данным"
   ]
  },
  {
   "cell_type": "markdown",
   "metadata": {},
   "source": [
    "<div style=\"border:solid blue 1px; padding: 20px\"> \n",
    "Посчитаем статистическую значимость различий в среднем чеке заказа между группами по очищенным от аномалий данным. За нулевую гипотезу примем, что средний чек в группах A и B одинаковый, за альтернативную гипотезу, что различается. Уровень значимости примем равным 0.05."
   ]
  },
  {
   "cell_type": "code",
   "execution_count": 53,
   "metadata": {},
   "outputs": [
    {
     "name": "stdout",
     "output_type": "stream",
     "text": [
      "0.738\n",
      "-0.020\n"
     ]
    }
   ],
   "source": [
    "print((\"{0:.3f}\".format(stats.mannwhitneyu(orders[np.logical_and(orders['group']=='A',\n",
    "np.logical_not(orders['visitorId'].isin(abnormal_users)))]['revenue'], \n",
    "orders[np.logical_and(orders['group']=='B', np.logical_not(orders['visitorId']\n",
    ".isin(abnormal_users)))]['revenue'])[1])))\n",
    "\n",
    "print((\"{0:.3f}\".format(orders[np.logical_and(orders['group']=='B',\n",
    "np.logical_not(orders['visitorId'].isin(abnormal_users)))]['revenue'].mean()/ \n",
    "orders[np.logical_and(orders['group']=='A', np.logical_not(orders['visitorId']\n",
    ".isin(abnormal_users)))]['revenue'].mean() - 1)))"
   ]
  },
  {
   "cell_type": "markdown",
   "metadata": {},
   "source": [
    "<div style=\"border:solid blue 1px; padding: 20px\"> \n",
    "P-value больше 0.05 (0.738). Таким образом мы не отвергаем нулевую гипотезу: статистически значимых различий в среднем чеке нет.\n",
    "Относительное различие в среднем чеке между группами уменьшилось с удалением аномальных пользователей и составило -2% (на 27,9 п.п.)."
   ]
  },
  {
   "cell_type": "markdown",
   "metadata": {},
   "source": [
    "### Вывод"
   ]
  },
  {
   "cell_type": "markdown",
   "metadata": {},
   "source": [
    "<div style=\"border:solid blue 1px; padding: 20px\"> \n",
    "По результатам проведенного A/B-теста можно сделать следующие выводы:\n",
    "\n",
    "    -- есть статистически значимое различие по конверсии между группами как по сырым данным, так и после фильтрации аномалий;\n",
    "\n",
    "    -- нет статистически значимого различия по среднему чеку между группами как по сырым данным, так и после фильтрации аномалий;\n",
    "\n",
    "    -- по графику различия конверсий видно, что группа B лидирует по сравнению с группой A. С 6 августа конверсия в группе B превысыла конверсию в группе A и разница продолжала увеличиваться. На конец теста относительное изменение кумулятивной конверсии группы B к группе A стабилизировалось на уровне ~0.1-0.15.\n",
    "\n",
    "    -- по колебаниям графика различия среднего чека видно, что были совершены аномальные покупки. Но даже после удаления таких данных, не обнаружилось статистически значимого различия по среднему чеку между группами. Относительное различие составило -2%.\n",
    "    \n",
    "    -- по непараметрическому тесту Уилкоксона-Манна-Уитни нельзя сделать вывод о существенном увеличении суммы чека: разница не статистически значима.\n",
    "\n",
    "Таким образом мы наблюдаем улучшение конверсии, но средний чек остался на прежнем уровне.\n",
    "Кумулятивная выручка на 31 августа по группе B составила ~6 млн.. а по группе A - ~4 млн.\n",
    "Остановим тест, зафиксируем победу группы B, и продолжим изучение других гипотез.\n"
   ]
  },
  {
   "cell_type": "code",
   "execution_count": null,
   "metadata": {},
   "outputs": [],
   "source": []
  }
 ],
 "metadata": {
  "ExecuteTimeLog": [
   {
    "duration": 1092,
    "start_time": "2022-05-11T17:55:16.538Z"
   },
   {
    "duration": 16,
    "start_time": "2022-05-11T18:00:09.663Z"
   },
   {
    "duration": 21,
    "start_time": "2022-05-11T18:06:43.665Z"
   },
   {
    "duration": 11,
    "start_time": "2022-05-11T18:06:53.550Z"
   },
   {
    "duration": 9,
    "start_time": "2022-05-11T18:08:39.388Z"
   },
   {
    "duration": 13,
    "start_time": "2022-05-11T18:09:45.012Z"
   },
   {
    "duration": 6,
    "start_time": "2022-05-11T18:12:34.318Z"
   },
   {
    "duration": 14,
    "start_time": "2022-05-11T18:13:18.880Z"
   },
   {
    "duration": 45,
    "start_time": "2022-05-12T06:37:22.473Z"
   },
   {
    "duration": 834,
    "start_time": "2022-05-12T06:37:29.067Z"
   },
   {
    "duration": 49,
    "start_time": "2022-05-12T06:37:29.903Z"
   },
   {
    "duration": 13,
    "start_time": "2022-05-12T06:37:29.953Z"
   },
   {
    "duration": 5,
    "start_time": "2022-05-12T06:37:29.968Z"
   },
   {
    "duration": 13,
    "start_time": "2022-05-12T06:37:29.974Z"
   },
   {
    "duration": 5,
    "start_time": "2022-05-12T06:37:29.988Z"
   },
   {
    "duration": 10,
    "start_time": "2022-05-12T06:37:29.994Z"
   },
   {
    "duration": 122,
    "start_time": "2022-05-12T06:37:30.006Z"
   },
   {
    "duration": 11,
    "start_time": "2022-05-12T06:37:36.601Z"
   },
   {
    "duration": 7,
    "start_time": "2022-05-12T06:37:50.432Z"
   },
   {
    "duration": 9,
    "start_time": "2022-05-12T06:38:14.813Z"
   },
   {
    "duration": 7,
    "start_time": "2022-05-12T06:38:15.312Z"
   },
   {
    "duration": 8,
    "start_time": "2022-05-12T06:38:15.897Z"
   },
   {
    "duration": 5,
    "start_time": "2022-05-12T06:41:33.514Z"
   },
   {
    "duration": 4,
    "start_time": "2022-05-12T06:41:55.851Z"
   },
   {
    "duration": 5,
    "start_time": "2022-05-12T06:42:04.239Z"
   },
   {
    "duration": 81,
    "start_time": "2022-05-12T06:47:12.115Z"
   },
   {
    "duration": 739,
    "start_time": "2022-05-12T06:48:00.816Z"
   },
   {
    "duration": 11,
    "start_time": "2022-05-12T06:48:13.900Z"
   },
   {
    "duration": 773,
    "start_time": "2022-05-12T06:48:29.949Z"
   },
   {
    "duration": 869,
    "start_time": "2022-05-12T06:48:37.776Z"
   },
   {
    "duration": 767,
    "start_time": "2022-05-12T06:49:07.047Z"
   },
   {
    "duration": 800,
    "start_time": "2022-05-12T06:49:25.800Z"
   },
   {
    "duration": 824,
    "start_time": "2022-05-12T06:49:52.086Z"
   },
   {
    "duration": 27,
    "start_time": "2022-05-12T06:49:52.911Z"
   },
   {
    "duration": 12,
    "start_time": "2022-05-12T06:49:52.940Z"
   },
   {
    "duration": 4,
    "start_time": "2022-05-12T06:49:52.953Z"
   },
   {
    "duration": 10,
    "start_time": "2022-05-12T06:49:52.960Z"
   },
   {
    "duration": 9,
    "start_time": "2022-05-12T06:49:52.972Z"
   },
   {
    "duration": 12,
    "start_time": "2022-05-12T06:49:52.982Z"
   },
   {
    "duration": 55,
    "start_time": "2022-05-12T06:49:52.995Z"
   },
   {
    "duration": 7,
    "start_time": "2022-05-12T06:49:53.051Z"
   },
   {
    "duration": 13,
    "start_time": "2022-05-12T06:49:53.059Z"
   },
   {
    "duration": 11,
    "start_time": "2022-05-12T06:49:53.074Z"
   },
   {
    "duration": 10,
    "start_time": "2022-05-12T06:49:53.086Z"
   },
   {
    "duration": 13,
    "start_time": "2022-05-12T06:49:53.098Z"
   },
   {
    "duration": 8,
    "start_time": "2022-05-12T06:49:53.113Z"
   },
   {
    "duration": 8,
    "start_time": "2022-05-12T06:49:53.123Z"
   },
   {
    "duration": 796,
    "start_time": "2022-05-12T06:50:04.509Z"
   },
   {
    "duration": 16,
    "start_time": "2022-05-12T06:50:05.306Z"
   },
   {
    "duration": 13,
    "start_time": "2022-05-12T06:50:05.323Z"
   },
   {
    "duration": 6,
    "start_time": "2022-05-12T06:50:05.337Z"
   },
   {
    "duration": 11,
    "start_time": "2022-05-12T06:50:05.345Z"
   },
   {
    "duration": 7,
    "start_time": "2022-05-12T06:50:05.357Z"
   },
   {
    "duration": 9,
    "start_time": "2022-05-12T06:50:05.366Z"
   },
   {
    "duration": 50,
    "start_time": "2022-05-12T06:50:05.377Z"
   },
   {
    "duration": 8,
    "start_time": "2022-05-12T06:50:05.428Z"
   },
   {
    "duration": 12,
    "start_time": "2022-05-12T06:50:05.438Z"
   },
   {
    "duration": 8,
    "start_time": "2022-05-12T06:50:05.451Z"
   },
   {
    "duration": 12,
    "start_time": "2022-05-12T06:50:05.461Z"
   },
   {
    "duration": 13,
    "start_time": "2022-05-12T06:50:05.474Z"
   },
   {
    "duration": 5,
    "start_time": "2022-05-12T06:50:05.490Z"
   },
   {
    "duration": 5,
    "start_time": "2022-05-12T06:50:05.500Z"
   },
   {
    "duration": 10,
    "start_time": "2022-05-12T06:50:25.428Z"
   },
   {
    "duration": 9,
    "start_time": "2022-05-12T06:50:27.520Z"
   },
   {
    "duration": 78,
    "start_time": "2022-05-12T06:51:08.179Z"
   },
   {
    "duration": 9,
    "start_time": "2022-05-12T06:51:16.324Z"
   },
   {
    "duration": 5,
    "start_time": "2022-05-12T07:03:24.960Z"
   },
   {
    "duration": 7,
    "start_time": "2022-05-12T07:03:43.503Z"
   },
   {
    "duration": 10,
    "start_time": "2022-05-12T07:05:03.634Z"
   },
   {
    "duration": 6,
    "start_time": "2022-05-12T07:11:49.255Z"
   },
   {
    "duration": 5,
    "start_time": "2022-05-12T07:12:10.118Z"
   },
   {
    "duration": 11,
    "start_time": "2022-05-12T07:14:27.562Z"
   },
   {
    "duration": 8,
    "start_time": "2022-05-12T07:14:47.395Z"
   },
   {
    "duration": 8,
    "start_time": "2022-05-12T07:15:16.645Z"
   },
   {
    "duration": 8,
    "start_time": "2022-05-12T07:15:18.628Z"
   },
   {
    "duration": 8,
    "start_time": "2022-05-12T07:15:29.331Z"
   },
   {
    "duration": 8,
    "start_time": "2022-05-12T07:15:31.158Z"
   },
   {
    "duration": 2,
    "start_time": "2022-05-12T07:16:54.238Z"
   },
   {
    "duration": 3,
    "start_time": "2022-05-12T07:18:00.124Z"
   },
   {
    "duration": 9,
    "start_time": "2022-05-12T07:23:05.964Z"
   },
   {
    "duration": 781,
    "start_time": "2022-05-12T07:24:40.627Z"
   },
   {
    "duration": 27,
    "start_time": "2022-05-12T07:24:41.410Z"
   },
   {
    "duration": 14,
    "start_time": "2022-05-12T07:24:41.439Z"
   },
   {
    "duration": 6,
    "start_time": "2022-05-12T07:24:41.455Z"
   },
   {
    "duration": 11,
    "start_time": "2022-05-12T07:24:41.462Z"
   },
   {
    "duration": 7,
    "start_time": "2022-05-12T07:24:41.474Z"
   },
   {
    "duration": 12,
    "start_time": "2022-05-12T07:24:41.483Z"
   },
   {
    "duration": 64,
    "start_time": "2022-05-12T07:24:41.496Z"
   },
   {
    "duration": 7,
    "start_time": "2022-05-12T07:24:41.562Z"
   },
   {
    "duration": 14,
    "start_time": "2022-05-12T07:24:41.571Z"
   },
   {
    "duration": 12,
    "start_time": "2022-05-12T07:24:41.586Z"
   },
   {
    "duration": 13,
    "start_time": "2022-05-12T07:24:41.600Z"
   },
   {
    "duration": 24,
    "start_time": "2022-05-12T07:24:41.614Z"
   },
   {
    "duration": 28,
    "start_time": "2022-05-12T07:24:41.640Z"
   },
   {
    "duration": 13,
    "start_time": "2022-05-12T07:24:41.669Z"
   },
   {
    "duration": 10,
    "start_time": "2022-05-12T07:24:41.683Z"
   },
   {
    "duration": 5,
    "start_time": "2022-05-12T07:24:41.695Z"
   },
   {
    "duration": 5,
    "start_time": "2022-05-12T07:24:41.702Z"
   },
   {
    "duration": 7,
    "start_time": "2022-05-12T07:24:41.708Z"
   },
   {
    "duration": 7,
    "start_time": "2022-05-12T07:24:41.717Z"
   },
   {
    "duration": 6,
    "start_time": "2022-05-12T07:24:41.725Z"
   },
   {
    "duration": 98,
    "start_time": "2022-05-12T07:24:41.732Z"
   },
   {
    "duration": 0,
    "start_time": "2022-05-12T07:24:41.831Z"
   },
   {
    "duration": 815,
    "start_time": "2022-05-12T07:25:26.507Z"
   },
   {
    "duration": 17,
    "start_time": "2022-05-12T07:25:27.324Z"
   },
   {
    "duration": 15,
    "start_time": "2022-05-12T07:25:27.342Z"
   },
   {
    "duration": 5,
    "start_time": "2022-05-12T07:25:27.358Z"
   },
   {
    "duration": 10,
    "start_time": "2022-05-12T07:25:27.365Z"
   },
   {
    "duration": 6,
    "start_time": "2022-05-12T07:25:27.377Z"
   },
   {
    "duration": 21,
    "start_time": "2022-05-12T07:25:27.384Z"
   },
   {
    "duration": 52,
    "start_time": "2022-05-12T07:25:27.407Z"
   },
   {
    "duration": 8,
    "start_time": "2022-05-12T07:25:27.460Z"
   },
   {
    "duration": 11,
    "start_time": "2022-05-12T07:25:27.470Z"
   },
   {
    "duration": 8,
    "start_time": "2022-05-12T07:25:27.482Z"
   },
   {
    "duration": 11,
    "start_time": "2022-05-12T07:25:27.491Z"
   },
   {
    "duration": 15,
    "start_time": "2022-05-12T07:25:27.503Z"
   },
   {
    "duration": 14,
    "start_time": "2022-05-12T07:25:27.519Z"
   },
   {
    "duration": 10,
    "start_time": "2022-05-12T07:25:27.534Z"
   },
   {
    "duration": 9,
    "start_time": "2022-05-12T07:25:27.545Z"
   },
   {
    "duration": 5,
    "start_time": "2022-05-12T07:25:27.556Z"
   },
   {
    "duration": 6,
    "start_time": "2022-05-12T07:25:27.563Z"
   },
   {
    "duration": 8,
    "start_time": "2022-05-12T07:25:27.600Z"
   },
   {
    "duration": 8,
    "start_time": "2022-05-12T07:25:27.609Z"
   },
   {
    "duration": 5,
    "start_time": "2022-05-12T07:25:27.618Z"
   },
   {
    "duration": 7,
    "start_time": "2022-05-12T07:25:27.624Z"
   },
   {
    "duration": 5,
    "start_time": "2022-05-12T07:29:27.189Z"
   },
   {
    "duration": 4,
    "start_time": "2022-05-12T07:41:45.724Z"
   },
   {
    "duration": 4,
    "start_time": "2022-05-12T07:47:07.954Z"
   },
   {
    "duration": 9,
    "start_time": "2022-05-12T07:48:24.181Z"
   },
   {
    "duration": 4,
    "start_time": "2022-05-12T07:48:35.273Z"
   },
   {
    "duration": 2,
    "start_time": "2022-05-12T07:48:54.487Z"
   },
   {
    "duration": 11,
    "start_time": "2022-05-12T07:49:00.337Z"
   },
   {
    "duration": 4,
    "start_time": "2022-05-12T07:49:11.737Z"
   },
   {
    "duration": 5,
    "start_time": "2022-05-12T07:55:13.706Z"
   },
   {
    "duration": 5,
    "start_time": "2022-05-12T07:59:38.322Z"
   },
   {
    "duration": 6,
    "start_time": "2022-05-12T08:47:46.147Z"
   },
   {
    "duration": 93,
    "start_time": "2022-05-12T08:59:50.930Z"
   },
   {
    "duration": 2472,
    "start_time": "2022-05-12T09:00:24.192Z"
   },
   {
    "duration": 152,
    "start_time": "2022-05-12T09:02:34.062Z"
   },
   {
    "duration": 22,
    "start_time": "2022-05-12T09:03:53.303Z"
   },
   {
    "duration": 138,
    "start_time": "2022-05-12T09:04:06.662Z"
   },
   {
    "duration": 26,
    "start_time": "2022-05-12T09:04:30.575Z"
   },
   {
    "duration": 8,
    "start_time": "2022-05-12T09:08:55.046Z"
   },
   {
    "duration": 18,
    "start_time": "2022-05-12T09:09:05.180Z"
   },
   {
    "duration": 6,
    "start_time": "2022-05-12T09:15:36.328Z"
   },
   {
    "duration": 16,
    "start_time": "2022-05-12T09:16:41.417Z"
   },
   {
    "duration": 1252,
    "start_time": "2022-05-12T09:17:11.859Z"
   },
   {
    "duration": 78,
    "start_time": "2022-05-12T09:17:13.113Z"
   },
   {
    "duration": 12,
    "start_time": "2022-05-12T09:17:13.193Z"
   },
   {
    "duration": 5,
    "start_time": "2022-05-12T09:17:13.208Z"
   },
   {
    "duration": 9,
    "start_time": "2022-05-12T09:17:13.215Z"
   },
   {
    "duration": 7,
    "start_time": "2022-05-12T09:17:13.225Z"
   },
   {
    "duration": 13,
    "start_time": "2022-05-12T09:17:13.233Z"
   },
   {
    "duration": 64,
    "start_time": "2022-05-12T09:17:13.247Z"
   },
   {
    "duration": 8,
    "start_time": "2022-05-12T09:17:13.313Z"
   },
   {
    "duration": 10,
    "start_time": "2022-05-12T09:17:13.324Z"
   },
   {
    "duration": 7,
    "start_time": "2022-05-12T09:17:13.336Z"
   },
   {
    "duration": 10,
    "start_time": "2022-05-12T09:17:13.345Z"
   },
   {
    "duration": 22,
    "start_time": "2022-05-12T09:17:13.356Z"
   },
   {
    "duration": 21,
    "start_time": "2022-05-12T09:17:13.379Z"
   },
   {
    "duration": 9,
    "start_time": "2022-05-12T09:17:13.401Z"
   },
   {
    "duration": 10,
    "start_time": "2022-05-12T09:17:13.411Z"
   },
   {
    "duration": 5,
    "start_time": "2022-05-12T09:17:13.423Z"
   },
   {
    "duration": 11,
    "start_time": "2022-05-12T09:17:13.429Z"
   },
   {
    "duration": 8,
    "start_time": "2022-05-12T09:17:13.441Z"
   },
   {
    "duration": 7,
    "start_time": "2022-05-12T09:17:13.450Z"
   },
   {
    "duration": 3,
    "start_time": "2022-05-12T09:17:13.459Z"
   },
   {
    "duration": 41,
    "start_time": "2022-05-12T09:17:13.463Z"
   },
   {
    "duration": 9,
    "start_time": "2022-05-12T09:17:13.506Z"
   },
   {
    "duration": 5,
    "start_time": "2022-05-12T09:17:13.516Z"
   },
   {
    "duration": 7,
    "start_time": "2022-05-12T09:17:13.522Z"
   },
   {
    "duration": 6,
    "start_time": "2022-05-12T09:17:13.531Z"
   },
   {
    "duration": 280,
    "start_time": "2022-05-12T09:17:13.539Z"
   },
   {
    "duration": 189,
    "start_time": "2022-05-12T09:17:13.823Z"
   },
   {
    "duration": 24,
    "start_time": "2022-05-12T09:17:14.014Z"
   },
   {
    "duration": 8,
    "start_time": "2022-05-12T09:17:14.040Z"
   },
   {
    "duration": 18,
    "start_time": "2022-05-12T09:17:14.050Z"
   },
   {
    "duration": 405,
    "start_time": "2022-05-12T09:17:14.069Z"
   },
   {
    "duration": 362,
    "start_time": "2022-05-12T09:18:10.128Z"
   },
   {
    "duration": 218,
    "start_time": "2022-05-12T09:18:27.502Z"
   },
   {
    "duration": 167,
    "start_time": "2022-05-12T09:18:35.247Z"
   },
   {
    "duration": 155,
    "start_time": "2022-05-12T09:19:06.574Z"
   },
   {
    "duration": 168,
    "start_time": "2022-05-12T09:19:58.893Z"
   },
   {
    "duration": 153,
    "start_time": "2022-05-12T09:20:21.725Z"
   },
   {
    "duration": 162,
    "start_time": "2022-05-12T09:20:29.735Z"
   },
   {
    "duration": 161,
    "start_time": "2022-05-12T09:20:33.967Z"
   },
   {
    "duration": 1086,
    "start_time": "2022-05-12T09:20:41.485Z"
   },
   {
    "duration": 72,
    "start_time": "2022-05-12T09:20:42.573Z"
   },
   {
    "duration": 11,
    "start_time": "2022-05-12T09:20:42.647Z"
   },
   {
    "duration": 9,
    "start_time": "2022-05-12T09:20:42.660Z"
   },
   {
    "duration": 11,
    "start_time": "2022-05-12T09:20:42.670Z"
   },
   {
    "duration": 18,
    "start_time": "2022-05-12T09:20:42.682Z"
   },
   {
    "duration": 9,
    "start_time": "2022-05-12T09:20:42.702Z"
   },
   {
    "duration": 64,
    "start_time": "2022-05-12T09:20:42.712Z"
   },
   {
    "duration": 8,
    "start_time": "2022-05-12T09:20:42.777Z"
   },
   {
    "duration": 10,
    "start_time": "2022-05-12T09:20:42.788Z"
   },
   {
    "duration": 10,
    "start_time": "2022-05-12T09:20:42.799Z"
   },
   {
    "duration": 15,
    "start_time": "2022-05-12T09:20:42.810Z"
   },
   {
    "duration": 20,
    "start_time": "2022-05-12T09:20:42.827Z"
   },
   {
    "duration": 16,
    "start_time": "2022-05-12T09:20:42.849Z"
   },
   {
    "duration": 11,
    "start_time": "2022-05-12T09:20:42.867Z"
   },
   {
    "duration": 8,
    "start_time": "2022-05-12T09:20:42.900Z"
   },
   {
    "duration": 5,
    "start_time": "2022-05-12T09:20:42.910Z"
   },
   {
    "duration": 5,
    "start_time": "2022-05-12T09:20:42.917Z"
   },
   {
    "duration": 15,
    "start_time": "2022-05-12T09:20:42.924Z"
   },
   {
    "duration": 10,
    "start_time": "2022-05-12T09:20:42.940Z"
   },
   {
    "duration": 5,
    "start_time": "2022-05-12T09:20:42.951Z"
   },
   {
    "duration": 43,
    "start_time": "2022-05-12T09:20:42.958Z"
   },
   {
    "duration": 10,
    "start_time": "2022-05-12T09:20:43.003Z"
   },
   {
    "duration": 7,
    "start_time": "2022-05-12T09:20:43.014Z"
   },
   {
    "duration": 8,
    "start_time": "2022-05-12T09:20:43.022Z"
   },
   {
    "duration": 6,
    "start_time": "2022-05-12T09:20:43.031Z"
   },
   {
    "duration": 174,
    "start_time": "2022-05-12T09:20:43.038Z"
   },
   {
    "duration": 126,
    "start_time": "2022-05-12T09:20:43.215Z"
   },
   {
    "duration": 16,
    "start_time": "2022-05-12T09:20:43.343Z"
   },
   {
    "duration": 8,
    "start_time": "2022-05-12T09:20:43.361Z"
   },
   {
    "duration": 34,
    "start_time": "2022-05-12T09:20:43.370Z"
   },
   {
    "duration": 230,
    "start_time": "2022-05-12T09:20:43.406Z"
   },
   {
    "duration": 147,
    "start_time": "2022-05-12T09:21:12.574Z"
   },
   {
    "duration": 160,
    "start_time": "2022-05-12T09:21:15.108Z"
   },
   {
    "duration": 157,
    "start_time": "2022-05-12T09:21:21.830Z"
   },
   {
    "duration": 157,
    "start_time": "2022-05-12T09:21:26.104Z"
   },
   {
    "duration": 165,
    "start_time": "2022-05-12T09:21:32.672Z"
   },
   {
    "duration": 177,
    "start_time": "2022-05-12T09:21:35.562Z"
   },
   {
    "duration": 175,
    "start_time": "2022-05-12T09:21:44.536Z"
   },
   {
    "duration": 171,
    "start_time": "2022-05-12T09:21:46.672Z"
   },
   {
    "duration": 261,
    "start_time": "2022-05-12T09:24:40.891Z"
   },
   {
    "duration": 3035,
    "start_time": "2022-05-12T09:27:48.288Z"
   },
   {
    "duration": 200,
    "start_time": "2022-05-12T09:29:15.379Z"
   },
   {
    "duration": 181,
    "start_time": "2022-05-12T09:29:19.121Z"
   },
   {
    "duration": 185,
    "start_time": "2022-05-12T09:29:51.876Z"
   },
   {
    "duration": 14,
    "start_time": "2022-05-12T11:46:39.211Z"
   },
   {
    "duration": 6,
    "start_time": "2022-05-12T11:46:52.602Z"
   },
   {
    "duration": 168,
    "start_time": "2022-05-12T11:49:27.080Z"
   },
   {
    "duration": 162,
    "start_time": "2022-05-12T11:50:22.969Z"
   },
   {
    "duration": 264,
    "start_time": "2022-05-12T11:50:34.749Z"
   },
   {
    "duration": 329,
    "start_time": "2022-05-12T11:51:38.282Z"
   },
   {
    "duration": 11774,
    "start_time": "2022-05-12T12:00:36.378Z"
   },
   {
    "duration": 4,
    "start_time": "2022-05-12T12:01:00.419Z"
   },
   {
    "duration": 176,
    "start_time": "2022-05-12T12:03:38.238Z"
   },
   {
    "duration": 178,
    "start_time": "2022-05-12T12:04:18.674Z"
   },
   {
    "duration": 204,
    "start_time": "2022-05-12T12:12:32.684Z"
   },
   {
    "duration": 9,
    "start_time": "2022-05-12T12:12:52.211Z"
   },
   {
    "duration": 190,
    "start_time": "2022-05-12T12:13:03.797Z"
   },
   {
    "duration": 212,
    "start_time": "2022-05-12T12:14:02.315Z"
   },
   {
    "duration": 8,
    "start_time": "2022-05-12T12:14:08.871Z"
   },
   {
    "duration": 8,
    "start_time": "2022-05-12T12:14:39.049Z"
   },
   {
    "duration": 166,
    "start_time": "2022-05-12T12:15:49.877Z"
   },
   {
    "duration": 255,
    "start_time": "2022-05-12T12:16:59.235Z"
   },
   {
    "duration": 283,
    "start_time": "2022-05-12T12:17:24.207Z"
   },
   {
    "duration": 17,
    "start_time": "2022-05-12T12:26:40.098Z"
   },
   {
    "duration": 15,
    "start_time": "2022-05-12T12:27:04.145Z"
   },
   {
    "duration": 7,
    "start_time": "2022-05-12T12:27:35.581Z"
   },
   {
    "duration": 9,
    "start_time": "2022-05-12T12:31:27.516Z"
   },
   {
    "duration": 6,
    "start_time": "2022-05-12T12:32:29.655Z"
   },
   {
    "duration": 115,
    "start_time": "2022-05-12T12:33:05.733Z"
   },
   {
    "duration": 6,
    "start_time": "2022-05-12T12:36:39.012Z"
   },
   {
    "duration": 10,
    "start_time": "2022-05-12T12:47:18.062Z"
   },
   {
    "duration": 123,
    "start_time": "2022-05-12T12:47:26.690Z"
   },
   {
    "duration": 4,
    "start_time": "2022-05-12T12:52:28.381Z"
   },
   {
    "duration": 1644,
    "start_time": "2022-05-13T07:05:12.929Z"
   },
   {
    "duration": 93,
    "start_time": "2022-05-13T07:05:14.578Z"
   },
   {
    "duration": 20,
    "start_time": "2022-05-13T07:05:14.673Z"
   },
   {
    "duration": 6,
    "start_time": "2022-05-13T07:05:14.698Z"
   },
   {
    "duration": 11,
    "start_time": "2022-05-13T07:05:14.706Z"
   },
   {
    "duration": 8,
    "start_time": "2022-05-13T07:05:14.718Z"
   },
   {
    "duration": 56,
    "start_time": "2022-05-13T07:05:14.727Z"
   },
   {
    "duration": 68,
    "start_time": "2022-05-13T07:05:14.785Z"
   },
   {
    "duration": 18,
    "start_time": "2022-05-13T07:05:14.855Z"
   },
   {
    "duration": 35,
    "start_time": "2022-05-13T07:05:14.876Z"
   },
   {
    "duration": 13,
    "start_time": "2022-05-13T07:05:14.913Z"
   },
   {
    "duration": 18,
    "start_time": "2022-05-13T07:05:14.928Z"
   },
   {
    "duration": 52,
    "start_time": "2022-05-13T07:05:14.948Z"
   },
   {
    "duration": 25,
    "start_time": "2022-05-13T07:05:15.002Z"
   },
   {
    "duration": 63,
    "start_time": "2022-05-13T07:05:15.029Z"
   },
   {
    "duration": 12,
    "start_time": "2022-05-13T07:05:15.094Z"
   },
   {
    "duration": 11,
    "start_time": "2022-05-13T07:05:15.108Z"
   },
   {
    "duration": 8,
    "start_time": "2022-05-13T07:05:15.121Z"
   },
   {
    "duration": 23,
    "start_time": "2022-05-13T07:05:15.131Z"
   },
   {
    "duration": 47,
    "start_time": "2022-05-13T07:05:15.156Z"
   },
   {
    "duration": 5,
    "start_time": "2022-05-13T07:05:15.205Z"
   },
   {
    "duration": 13,
    "start_time": "2022-05-13T07:05:15.212Z"
   },
   {
    "duration": 47,
    "start_time": "2022-05-13T07:05:15.227Z"
   },
   {
    "duration": 14,
    "start_time": "2022-05-13T07:05:15.279Z"
   },
   {
    "duration": 9,
    "start_time": "2022-05-13T07:05:15.295Z"
   },
   {
    "duration": 6,
    "start_time": "2022-05-13T07:05:15.306Z"
   },
   {
    "duration": 219,
    "start_time": "2022-05-13T07:05:15.314Z"
   },
   {
    "duration": 174,
    "start_time": "2022-05-13T07:05:15.540Z"
   },
   {
    "duration": 26,
    "start_time": "2022-05-13T07:05:15.716Z"
   },
   {
    "duration": 55,
    "start_time": "2022-05-13T07:05:15.744Z"
   },
   {
    "duration": 18,
    "start_time": "2022-05-13T07:05:15.801Z"
   },
   {
    "duration": 379,
    "start_time": "2022-05-13T07:05:15.822Z"
   },
   {
    "duration": 300,
    "start_time": "2022-05-13T07:05:16.203Z"
   },
   {
    "duration": 7,
    "start_time": "2022-05-13T07:05:16.505Z"
   },
   {
    "duration": 431,
    "start_time": "2022-05-13T07:05:16.514Z"
   },
   {
    "duration": 299,
    "start_time": "2022-05-13T07:05:16.947Z"
   },
   {
    "duration": 406,
    "start_time": "2022-05-13T07:05:17.248Z"
   },
   {
    "duration": 210,
    "start_time": "2022-05-13T07:05:17.656Z"
   },
   {
    "duration": 8,
    "start_time": "2022-05-13T07:05:17.868Z"
   },
   {
    "duration": 217,
    "start_time": "2022-05-13T07:05:17.878Z"
   },
   {
    "duration": 5,
    "start_time": "2022-05-13T07:05:18.097Z"
   },
   {
    "duration": 20,
    "start_time": "2022-05-13T07:09:04.652Z"
   },
   {
    "duration": 13,
    "start_time": "2022-05-13T07:09:23.368Z"
   },
   {
    "duration": 9,
    "start_time": "2022-05-13T07:11:09.117Z"
   },
   {
    "duration": 14,
    "start_time": "2022-05-13T07:11:18.715Z"
   },
   {
    "duration": 7,
    "start_time": "2022-05-13T07:31:42.623Z"
   },
   {
    "duration": 10,
    "start_time": "2022-05-13T07:32:20.956Z"
   },
   {
    "duration": 24,
    "start_time": "2022-05-13T07:36:22.207Z"
   },
   {
    "duration": 14,
    "start_time": "2022-05-13T07:43:34.619Z"
   },
   {
    "duration": 3871,
    "start_time": "2022-05-13T08:05:24.948Z"
   },
   {
    "duration": 12,
    "start_time": "2022-05-13T08:05:47.577Z"
   },
   {
    "duration": 6,
    "start_time": "2022-05-13T08:06:11.026Z"
   },
   {
    "duration": 9,
    "start_time": "2022-05-13T08:09:55.629Z"
   },
   {
    "duration": 17,
    "start_time": "2022-05-13T08:11:29.360Z"
   },
   {
    "duration": 14,
    "start_time": "2022-05-13T08:11:39.168Z"
   },
   {
    "duration": 16,
    "start_time": "2022-05-13T08:17:30.453Z"
   },
   {
    "duration": 34,
    "start_time": "2022-05-13T08:18:29.077Z"
   },
   {
    "duration": 30,
    "start_time": "2022-05-13T08:21:01.357Z"
   },
   {
    "duration": 31,
    "start_time": "2022-05-13T08:21:02.661Z"
   },
   {
    "duration": 6,
    "start_time": "2022-05-13T08:30:46.856Z"
   },
   {
    "duration": 18,
    "start_time": "2022-05-13T08:31:47.173Z"
   },
   {
    "duration": 13,
    "start_time": "2022-05-13T08:32:50.718Z"
   },
   {
    "duration": 1265,
    "start_time": "2022-05-13T08:55:13.089Z"
   },
   {
    "duration": 83,
    "start_time": "2022-05-13T08:55:14.359Z"
   },
   {
    "duration": 17,
    "start_time": "2022-05-13T08:55:14.444Z"
   },
   {
    "duration": 25,
    "start_time": "2022-05-13T08:55:14.464Z"
   },
   {
    "duration": 16,
    "start_time": "2022-05-13T08:55:14.490Z"
   },
   {
    "duration": 9,
    "start_time": "2022-05-13T08:55:14.508Z"
   },
   {
    "duration": 13,
    "start_time": "2022-05-13T08:55:14.519Z"
   },
   {
    "duration": 135,
    "start_time": "2022-05-13T08:55:14.534Z"
   },
   {
    "duration": 10,
    "start_time": "2022-05-13T08:55:14.674Z"
   },
   {
    "duration": 13,
    "start_time": "2022-05-13T08:55:14.687Z"
   },
   {
    "duration": 12,
    "start_time": "2022-05-13T08:55:14.703Z"
   },
   {
    "duration": 15,
    "start_time": "2022-05-13T08:55:14.716Z"
   },
   {
    "duration": 57,
    "start_time": "2022-05-13T08:55:14.739Z"
   },
   {
    "duration": 16,
    "start_time": "2022-05-13T08:55:14.798Z"
   },
   {
    "duration": 13,
    "start_time": "2022-05-13T08:55:14.816Z"
   },
   {
    "duration": 55,
    "start_time": "2022-05-13T08:55:14.831Z"
   },
   {
    "duration": 10,
    "start_time": "2022-05-13T08:55:14.888Z"
   },
   {
    "duration": 8,
    "start_time": "2022-05-13T08:55:14.900Z"
   },
   {
    "duration": 11,
    "start_time": "2022-05-13T08:55:14.910Z"
   },
   {
    "duration": 20,
    "start_time": "2022-05-13T08:55:14.923Z"
   },
   {
    "duration": 35,
    "start_time": "2022-05-13T08:55:14.950Z"
   },
   {
    "duration": 10,
    "start_time": "2022-05-13T08:55:14.987Z"
   },
   {
    "duration": 25,
    "start_time": "2022-05-13T08:55:15.000Z"
   },
   {
    "duration": 11,
    "start_time": "2022-05-13T08:55:15.027Z"
   },
   {
    "duration": 54,
    "start_time": "2022-05-13T08:55:15.040Z"
   },
   {
    "duration": 12,
    "start_time": "2022-05-13T08:55:15.097Z"
   },
   {
    "duration": 208,
    "start_time": "2022-05-13T08:55:15.111Z"
   },
   {
    "duration": 168,
    "start_time": "2022-05-13T08:55:15.323Z"
   },
   {
    "duration": 20,
    "start_time": "2022-05-13T08:55:15.493Z"
   },
   {
    "duration": 6,
    "start_time": "2022-05-13T08:55:15.515Z"
   },
   {
    "duration": 37,
    "start_time": "2022-05-13T08:55:15.523Z"
   },
   {
    "duration": 364,
    "start_time": "2022-05-13T08:55:15.562Z"
   },
   {
    "duration": 288,
    "start_time": "2022-05-13T08:55:15.928Z"
   },
   {
    "duration": 6,
    "start_time": "2022-05-13T08:55:16.218Z"
   },
   {
    "duration": 393,
    "start_time": "2022-05-13T08:55:16.226Z"
   },
   {
    "duration": 308,
    "start_time": "2022-05-13T08:55:16.621Z"
   },
   {
    "duration": 386,
    "start_time": "2022-05-13T08:55:16.932Z"
   },
   {
    "duration": 182,
    "start_time": "2022-05-13T08:55:17.320Z"
   },
   {
    "duration": 5,
    "start_time": "2022-05-13T08:55:17.504Z"
   },
   {
    "duration": 215,
    "start_time": "2022-05-13T08:55:17.511Z"
   },
   {
    "duration": 10,
    "start_time": "2022-05-13T08:55:17.728Z"
   },
   {
    "duration": 49,
    "start_time": "2022-05-13T08:55:17.740Z"
   },
   {
    "duration": 8,
    "start_time": "2022-05-13T08:55:17.791Z"
   },
   {
    "duration": 49,
    "start_time": "2022-05-13T08:55:17.801Z"
   },
   {
    "duration": 18,
    "start_time": "2022-05-13T08:55:17.853Z"
   },
   {
    "duration": 19,
    "start_time": "2022-05-13T08:55:17.873Z"
   },
   {
    "duration": 12,
    "start_time": "2022-05-13T08:55:17.894Z"
   },
   {
    "duration": 44,
    "start_time": "2022-05-13T08:55:17.908Z"
   },
   {
    "duration": 25,
    "start_time": "2022-05-13T08:55:17.957Z"
   },
   {
    "duration": 1267,
    "start_time": "2022-05-13T09:16:55.695Z"
   },
   {
    "duration": 74,
    "start_time": "2022-05-13T09:16:56.967Z"
   },
   {
    "duration": 36,
    "start_time": "2022-05-13T09:16:57.044Z"
   },
   {
    "duration": 7,
    "start_time": "2022-05-13T09:16:57.082Z"
   },
   {
    "duration": 17,
    "start_time": "2022-05-13T09:16:57.091Z"
   },
   {
    "duration": 13,
    "start_time": "2022-05-13T09:16:57.110Z"
   },
   {
    "duration": 30,
    "start_time": "2022-05-13T09:16:57.125Z"
   },
   {
    "duration": 55,
    "start_time": "2022-05-13T09:16:57.158Z"
   },
   {
    "duration": 9,
    "start_time": "2022-05-13T09:16:57.217Z"
   },
   {
    "duration": 34,
    "start_time": "2022-05-13T09:16:57.228Z"
   },
   {
    "duration": 9,
    "start_time": "2022-05-13T09:16:57.265Z"
   },
   {
    "duration": 23,
    "start_time": "2022-05-13T09:16:57.276Z"
   },
   {
    "duration": 28,
    "start_time": "2022-05-13T09:16:57.301Z"
   },
   {
    "duration": 42,
    "start_time": "2022-05-13T09:16:57.331Z"
   },
   {
    "duration": 22,
    "start_time": "2022-05-13T09:16:57.376Z"
   },
   {
    "duration": 16,
    "start_time": "2022-05-13T09:16:57.400Z"
   },
   {
    "duration": 9,
    "start_time": "2022-05-13T09:16:57.418Z"
   },
   {
    "duration": 17,
    "start_time": "2022-05-13T09:16:57.429Z"
   },
   {
    "duration": 25,
    "start_time": "2022-05-13T09:16:57.449Z"
   },
   {
    "duration": 14,
    "start_time": "2022-05-13T09:16:57.476Z"
   },
   {
    "duration": 8,
    "start_time": "2022-05-13T09:16:57.492Z"
   },
   {
    "duration": 11,
    "start_time": "2022-05-13T09:16:57.502Z"
   },
   {
    "duration": 32,
    "start_time": "2022-05-13T09:16:57.515Z"
   },
   {
    "duration": 17,
    "start_time": "2022-05-13T09:16:57.549Z"
   },
   {
    "duration": 11,
    "start_time": "2022-05-13T09:16:57.568Z"
   },
   {
    "duration": 13,
    "start_time": "2022-05-13T09:16:57.581Z"
   },
   {
    "duration": 223,
    "start_time": "2022-05-13T09:16:57.600Z"
   },
   {
    "duration": 214,
    "start_time": "2022-05-13T09:16:57.825Z"
   },
   {
    "duration": 25,
    "start_time": "2022-05-13T09:16:58.041Z"
   },
   {
    "duration": 20,
    "start_time": "2022-05-13T09:16:58.069Z"
   },
   {
    "duration": 29,
    "start_time": "2022-05-13T09:16:58.091Z"
   },
   {
    "duration": 384,
    "start_time": "2022-05-13T09:16:58.122Z"
   },
   {
    "duration": 288,
    "start_time": "2022-05-13T09:16:58.508Z"
   },
   {
    "duration": 7,
    "start_time": "2022-05-13T09:16:58.798Z"
   },
   {
    "duration": 402,
    "start_time": "2022-05-13T09:16:58.807Z"
   },
   {
    "duration": 325,
    "start_time": "2022-05-13T09:16:59.211Z"
   },
   {
    "duration": 365,
    "start_time": "2022-05-13T09:16:59.538Z"
   },
   {
    "duration": 213,
    "start_time": "2022-05-13T09:16:59.905Z"
   },
   {
    "duration": 5,
    "start_time": "2022-05-13T09:17:00.120Z"
   },
   {
    "duration": 231,
    "start_time": "2022-05-13T09:17:00.128Z"
   },
   {
    "duration": 6,
    "start_time": "2022-05-13T09:17:00.362Z"
   },
   {
    "duration": 30,
    "start_time": "2022-05-13T09:17:00.371Z"
   },
   {
    "duration": 26,
    "start_time": "2022-05-13T09:17:00.404Z"
   },
   {
    "duration": 58,
    "start_time": "2022-05-13T09:17:00.433Z"
   },
   {
    "duration": 16,
    "start_time": "2022-05-13T09:17:00.494Z"
   },
   {
    "duration": 20,
    "start_time": "2022-05-13T09:17:00.512Z"
   },
   {
    "duration": 31,
    "start_time": "2022-05-13T09:17:00.534Z"
   },
   {
    "duration": 58,
    "start_time": "2022-05-13T09:17:00.567Z"
   },
   {
    "duration": 27,
    "start_time": "2022-05-13T09:17:00.627Z"
   },
   {
    "duration": 1294,
    "start_time": "2022-05-13T12:00:33.565Z"
   },
   {
    "duration": 71,
    "start_time": "2022-05-13T12:00:34.860Z"
   },
   {
    "duration": 11,
    "start_time": "2022-05-13T12:00:34.933Z"
   },
   {
    "duration": 6,
    "start_time": "2022-05-13T12:00:34.947Z"
   },
   {
    "duration": 11,
    "start_time": "2022-05-13T12:00:34.954Z"
   },
   {
    "duration": 7,
    "start_time": "2022-05-13T12:00:34.966Z"
   },
   {
    "duration": 40,
    "start_time": "2022-05-13T12:00:34.974Z"
   },
   {
    "duration": 60,
    "start_time": "2022-05-13T12:00:35.015Z"
   },
   {
    "duration": 9,
    "start_time": "2022-05-13T12:00:35.077Z"
   },
   {
    "duration": 15,
    "start_time": "2022-05-13T12:00:35.090Z"
   },
   {
    "duration": 20,
    "start_time": "2022-05-13T12:00:35.108Z"
   },
   {
    "duration": 18,
    "start_time": "2022-05-13T12:00:35.129Z"
   },
   {
    "duration": 21,
    "start_time": "2022-05-13T12:00:35.148Z"
   },
   {
    "duration": 24,
    "start_time": "2022-05-13T12:00:35.171Z"
   },
   {
    "duration": 19,
    "start_time": "2022-05-13T12:00:35.197Z"
   },
   {
    "duration": 17,
    "start_time": "2022-05-13T12:00:35.217Z"
   },
   {
    "duration": 6,
    "start_time": "2022-05-13T12:00:35.236Z"
   },
   {
    "duration": 11,
    "start_time": "2022-05-13T12:00:35.244Z"
   },
   {
    "duration": 10,
    "start_time": "2022-05-13T12:00:35.257Z"
   },
   {
    "duration": 8,
    "start_time": "2022-05-13T12:00:35.268Z"
   },
   {
    "duration": 11,
    "start_time": "2022-05-13T12:00:35.277Z"
   },
   {
    "duration": 8,
    "start_time": "2022-05-13T12:00:35.308Z"
   },
   {
    "duration": 10,
    "start_time": "2022-05-13T12:00:35.317Z"
   },
   {
    "duration": 19,
    "start_time": "2022-05-13T12:00:35.329Z"
   },
   {
    "duration": 14,
    "start_time": "2022-05-13T12:00:35.350Z"
   },
   {
    "duration": 7,
    "start_time": "2022-05-13T12:00:35.366Z"
   },
   {
    "duration": 183,
    "start_time": "2022-05-13T12:00:35.374Z"
   },
   {
    "duration": 127,
    "start_time": "2022-05-13T12:00:35.562Z"
   },
   {
    "duration": 40,
    "start_time": "2022-05-13T12:00:35.691Z"
   },
   {
    "duration": 6,
    "start_time": "2022-05-13T12:00:35.733Z"
   },
   {
    "duration": 17,
    "start_time": "2022-05-13T12:00:35.741Z"
   },
   {
    "duration": 269,
    "start_time": "2022-05-13T12:00:35.760Z"
   },
   {
    "duration": 213,
    "start_time": "2022-05-13T12:00:36.030Z"
   },
   {
    "duration": 6,
    "start_time": "2022-05-13T12:00:36.245Z"
   },
   {
    "duration": 510,
    "start_time": "2022-05-13T12:00:36.253Z"
   },
   {
    "duration": 412,
    "start_time": "2022-05-13T12:00:36.809Z"
   },
   {
    "duration": 501,
    "start_time": "2022-05-13T12:00:37.223Z"
   },
   {
    "duration": 404,
    "start_time": "2022-05-13T12:00:37.726Z"
   },
   {
    "duration": 5,
    "start_time": "2022-05-13T12:00:38.132Z"
   },
   {
    "duration": 419,
    "start_time": "2022-05-13T12:00:38.138Z"
   },
   {
    "duration": 4,
    "start_time": "2022-05-13T12:00:38.560Z"
   },
   {
    "duration": 16,
    "start_time": "2022-05-13T12:00:38.567Z"
   },
   {
    "duration": 21,
    "start_time": "2022-05-13T12:00:38.585Z"
   },
   {
    "duration": 30,
    "start_time": "2022-05-13T12:00:38.608Z"
   },
   {
    "duration": 10,
    "start_time": "2022-05-13T12:00:38.641Z"
   },
   {
    "duration": 10,
    "start_time": "2022-05-13T12:00:38.653Z"
   },
   {
    "duration": 13,
    "start_time": "2022-05-13T12:00:38.665Z"
   },
   {
    "duration": 47,
    "start_time": "2022-05-13T12:00:38.679Z"
   },
   {
    "duration": 12,
    "start_time": "2022-05-13T12:00:38.728Z"
   },
   {
    "duration": 6,
    "start_time": "2022-05-13T12:28:56.318Z"
   },
   {
    "duration": 327,
    "start_time": "2022-05-13T12:44:51.178Z"
   },
   {
    "duration": 8,
    "start_time": "2022-05-13T12:45:03.201Z"
   },
   {
    "duration": 9,
    "start_time": "2022-05-13T12:45:42.657Z"
   },
   {
    "duration": 45,
    "start_time": "2022-05-13T15:55:33.033Z"
   },
   {
    "duration": 1125,
    "start_time": "2022-05-13T15:55:39.431Z"
   },
   {
    "duration": 87,
    "start_time": "2022-05-13T15:55:40.558Z"
   },
   {
    "duration": 11,
    "start_time": "2022-05-13T15:55:40.646Z"
   },
   {
    "duration": 5,
    "start_time": "2022-05-13T15:55:40.658Z"
   },
   {
    "duration": 5,
    "start_time": "2022-05-13T15:55:40.665Z"
   },
   {
    "duration": 4,
    "start_time": "2022-05-13T15:55:40.672Z"
   },
   {
    "duration": 11,
    "start_time": "2022-05-13T15:55:40.677Z"
   },
   {
    "duration": 29,
    "start_time": "2022-05-13T15:55:40.689Z"
   },
   {
    "duration": 7,
    "start_time": "2022-05-13T15:55:40.719Z"
   },
   {
    "duration": 11,
    "start_time": "2022-05-13T15:55:40.728Z"
   },
   {
    "duration": 9,
    "start_time": "2022-05-13T15:55:40.741Z"
   },
   {
    "duration": 21,
    "start_time": "2022-05-13T15:55:40.751Z"
   },
   {
    "duration": 16,
    "start_time": "2022-05-13T15:55:40.773Z"
   },
   {
    "duration": 10,
    "start_time": "2022-05-13T15:55:40.792Z"
   },
   {
    "duration": 10,
    "start_time": "2022-05-13T15:55:40.804Z"
   },
   {
    "duration": 9,
    "start_time": "2022-05-13T15:55:40.816Z"
   },
   {
    "duration": 5,
    "start_time": "2022-05-13T15:55:40.826Z"
   },
   {
    "duration": 4,
    "start_time": "2022-05-13T15:55:40.833Z"
   },
   {
    "duration": 38,
    "start_time": "2022-05-13T15:55:40.839Z"
   },
   {
    "duration": 11,
    "start_time": "2022-05-13T15:55:40.879Z"
   },
   {
    "duration": 4,
    "start_time": "2022-05-13T15:55:40.892Z"
   },
   {
    "duration": 8,
    "start_time": "2022-05-13T15:55:40.897Z"
   },
   {
    "duration": 9,
    "start_time": "2022-05-13T15:55:40.906Z"
   },
   {
    "duration": 4,
    "start_time": "2022-05-13T15:55:40.917Z"
   },
   {
    "duration": 6,
    "start_time": "2022-05-13T15:55:40.923Z"
   },
   {
    "duration": 6,
    "start_time": "2022-05-13T15:55:40.930Z"
   },
   {
    "duration": 35,
    "start_time": "2022-05-13T15:55:40.938Z"
   },
   {
    "duration": 156,
    "start_time": "2022-05-13T15:55:40.974Z"
   },
   {
    "duration": 123,
    "start_time": "2022-05-13T15:55:41.131Z"
   },
   {
    "duration": 22,
    "start_time": "2022-05-13T15:55:41.256Z"
   },
   {
    "duration": 6,
    "start_time": "2022-05-13T15:55:41.279Z"
   },
   {
    "duration": 12,
    "start_time": "2022-05-13T15:55:41.287Z"
   },
   {
    "duration": 251,
    "start_time": "2022-05-13T15:55:41.300Z"
   },
   {
    "duration": 196,
    "start_time": "2022-05-13T15:55:41.553Z"
   },
   {
    "duration": 6,
    "start_time": "2022-05-13T15:55:41.750Z"
   },
   {
    "duration": 347,
    "start_time": "2022-05-13T15:55:41.758Z"
   },
   {
    "duration": 200,
    "start_time": "2022-05-13T15:55:42.106Z"
   },
   {
    "duration": 271,
    "start_time": "2022-05-13T15:55:42.307Z"
   },
   {
    "duration": 211,
    "start_time": "2022-05-13T15:55:42.579Z"
   },
   {
    "duration": 4,
    "start_time": "2022-05-13T15:55:42.791Z"
   },
   {
    "duration": 282,
    "start_time": "2022-05-13T15:55:42.799Z"
   },
   {
    "duration": 4,
    "start_time": "2022-05-13T15:55:43.083Z"
   },
   {
    "duration": 14,
    "start_time": "2022-05-13T15:55:43.089Z"
   },
   {
    "duration": 7,
    "start_time": "2022-05-13T15:55:43.105Z"
   },
   {
    "duration": 73,
    "start_time": "2022-05-13T15:55:43.113Z"
   },
   {
    "duration": 9,
    "start_time": "2022-05-13T15:55:43.188Z"
   },
   {
    "duration": 7,
    "start_time": "2022-05-13T15:55:43.199Z"
   },
   {
    "duration": 8,
    "start_time": "2022-05-13T15:55:43.208Z"
   },
   {
    "duration": 73,
    "start_time": "2022-05-13T15:55:43.217Z"
   },
   {
    "duration": 11,
    "start_time": "2022-05-13T15:55:43.292Z"
   },
   {
    "duration": 8,
    "start_time": "2022-05-13T15:56:12.012Z"
   },
   {
    "duration": 12,
    "start_time": "2022-05-13T16:01:05.174Z"
   },
   {
    "duration": 11,
    "start_time": "2022-05-13T16:01:13.380Z"
   },
   {
    "duration": 97,
    "start_time": "2022-05-13T16:10:47.167Z"
   },
   {
    "duration": 11,
    "start_time": "2022-05-13T16:10:54.991Z"
   },
   {
    "duration": 133,
    "start_time": "2022-05-13T16:12:10.867Z"
   },
   {
    "duration": 9,
    "start_time": "2022-05-13T16:12:15.960Z"
   },
   {
    "duration": 4,
    "start_time": "2022-05-13T16:13:09.491Z"
   },
   {
    "duration": 6,
    "start_time": "2022-05-13T16:13:36.408Z"
   },
   {
    "duration": 6,
    "start_time": "2022-05-13T16:13:52.703Z"
   },
   {
    "duration": 184,
    "start_time": "2022-05-13T16:44:23.879Z"
   },
   {
    "duration": 999,
    "start_time": "2022-05-13T16:44:44.834Z"
   },
   {
    "duration": 74,
    "start_time": "2022-05-13T16:44:45.835Z"
   },
   {
    "duration": 12,
    "start_time": "2022-05-13T16:44:45.910Z"
   },
   {
    "duration": 6,
    "start_time": "2022-05-13T16:44:45.924Z"
   },
   {
    "duration": 11,
    "start_time": "2022-05-13T16:44:45.931Z"
   },
   {
    "duration": 30,
    "start_time": "2022-05-13T16:44:45.944Z"
   },
   {
    "duration": 10,
    "start_time": "2022-05-13T16:44:45.976Z"
   },
   {
    "duration": 10,
    "start_time": "2022-05-13T16:44:45.988Z"
   },
   {
    "duration": 27,
    "start_time": "2022-05-13T16:44:46.000Z"
   },
   {
    "duration": 8,
    "start_time": "2022-05-13T16:44:46.030Z"
   },
   {
    "duration": 12,
    "start_time": "2022-05-13T16:44:46.040Z"
   },
   {
    "duration": 9,
    "start_time": "2022-05-13T16:44:46.070Z"
   },
   {
    "duration": 10,
    "start_time": "2022-05-13T16:44:46.081Z"
   },
   {
    "duration": 14,
    "start_time": "2022-05-13T16:44:46.092Z"
   },
   {
    "duration": 15,
    "start_time": "2022-05-13T16:44:46.107Z"
   },
   {
    "duration": 10,
    "start_time": "2022-05-13T16:44:46.124Z"
   },
   {
    "duration": 39,
    "start_time": "2022-05-13T16:44:46.136Z"
   },
   {
    "duration": 6,
    "start_time": "2022-05-13T16:44:46.177Z"
   },
   {
    "duration": 5,
    "start_time": "2022-05-13T16:44:46.184Z"
   },
   {
    "duration": 10,
    "start_time": "2022-05-13T16:44:46.191Z"
   },
   {
    "duration": 8,
    "start_time": "2022-05-13T16:44:46.203Z"
   },
   {
    "duration": 10,
    "start_time": "2022-05-13T16:44:46.212Z"
   },
   {
    "duration": 5,
    "start_time": "2022-05-13T16:44:46.223Z"
   },
   {
    "duration": 3,
    "start_time": "2022-05-13T16:44:46.271Z"
   },
   {
    "duration": 6,
    "start_time": "2022-05-13T16:44:46.276Z"
   },
   {
    "duration": 5,
    "start_time": "2022-05-13T16:44:46.284Z"
   },
   {
    "duration": 5,
    "start_time": "2022-05-13T16:44:46.291Z"
   },
   {
    "duration": 5,
    "start_time": "2022-05-13T16:44:46.299Z"
   },
   {
    "duration": 7,
    "start_time": "2022-05-13T16:44:46.306Z"
   },
   {
    "duration": 6,
    "start_time": "2022-05-13T16:44:46.314Z"
   },
   {
    "duration": 191,
    "start_time": "2022-05-13T16:44:46.322Z"
   },
   {
    "duration": 127,
    "start_time": "2022-05-13T16:44:46.514Z"
   },
   {
    "duration": 29,
    "start_time": "2022-05-13T16:44:46.643Z"
   },
   {
    "duration": 6,
    "start_time": "2022-05-13T16:44:46.673Z"
   },
   {
    "duration": 14,
    "start_time": "2022-05-13T16:44:46.680Z"
   },
   {
    "duration": 280,
    "start_time": "2022-05-13T16:44:46.696Z"
   },
   {
    "duration": 198,
    "start_time": "2022-05-13T16:44:46.978Z"
   },
   {
    "duration": 7,
    "start_time": "2022-05-13T16:44:47.177Z"
   },
   {
    "duration": 280,
    "start_time": "2022-05-13T16:44:47.185Z"
   },
   {
    "duration": 200,
    "start_time": "2022-05-13T16:44:47.471Z"
   },
   {
    "duration": 289,
    "start_time": "2022-05-13T16:44:47.672Z"
   },
   {
    "duration": 125,
    "start_time": "2022-05-13T16:44:47.970Z"
   },
   {
    "duration": 4,
    "start_time": "2022-05-13T16:44:48.097Z"
   },
   {
    "duration": 147,
    "start_time": "2022-05-13T16:44:48.102Z"
   },
   {
    "duration": 3,
    "start_time": "2022-05-13T16:44:48.251Z"
   },
   {
    "duration": 20,
    "start_time": "2022-05-13T16:44:48.256Z"
   },
   {
    "duration": 7,
    "start_time": "2022-05-13T16:44:48.277Z"
   },
   {
    "duration": 25,
    "start_time": "2022-05-13T16:44:48.286Z"
   },
   {
    "duration": 10,
    "start_time": "2022-05-13T16:44:48.313Z"
   },
   {
    "duration": 8,
    "start_time": "2022-05-13T16:44:48.325Z"
   },
   {
    "duration": 38,
    "start_time": "2022-05-13T16:44:48.335Z"
   },
   {
    "duration": 23,
    "start_time": "2022-05-13T16:44:48.375Z"
   },
   {
    "duration": 13,
    "start_time": "2022-05-13T16:44:48.400Z"
   },
   {
    "duration": 9,
    "start_time": "2022-05-13T16:53:23.221Z"
   },
   {
    "duration": 2,
    "start_time": "2022-05-13T16:53:37.936Z"
   },
   {
    "duration": 6,
    "start_time": "2022-05-13T16:53:38.865Z"
   },
   {
    "duration": 4,
    "start_time": "2022-05-13T16:53:44.889Z"
   },
   {
    "duration": 113,
    "start_time": "2022-05-13T16:55:08.988Z"
   },
   {
    "duration": 993,
    "start_time": "2022-05-13T16:55:14.630Z"
   },
   {
    "duration": 70,
    "start_time": "2022-05-13T16:55:15.625Z"
   },
   {
    "duration": 11,
    "start_time": "2022-05-13T16:55:15.697Z"
   },
   {
    "duration": 5,
    "start_time": "2022-05-13T16:55:15.710Z"
   },
   {
    "duration": 9,
    "start_time": "2022-05-13T16:55:15.716Z"
   },
   {
    "duration": 6,
    "start_time": "2022-05-13T16:55:15.727Z"
   },
   {
    "duration": 11,
    "start_time": "2022-05-13T16:55:15.734Z"
   },
   {
    "duration": 10,
    "start_time": "2022-05-13T16:55:15.771Z"
   },
   {
    "duration": 28,
    "start_time": "2022-05-13T16:55:15.783Z"
   },
   {
    "duration": 7,
    "start_time": "2022-05-13T16:55:15.814Z"
   },
   {
    "duration": 12,
    "start_time": "2022-05-13T16:55:15.823Z"
   },
   {
    "duration": 8,
    "start_time": "2022-05-13T16:55:15.836Z"
   },
   {
    "duration": 11,
    "start_time": "2022-05-13T16:55:15.846Z"
   },
   {
    "duration": 23,
    "start_time": "2022-05-13T16:55:15.858Z"
   },
   {
    "duration": 14,
    "start_time": "2022-05-13T16:55:15.883Z"
   },
   {
    "duration": 11,
    "start_time": "2022-05-13T16:55:15.898Z"
   },
   {
    "duration": 9,
    "start_time": "2022-05-13T16:55:15.910Z"
   },
   {
    "duration": 5,
    "start_time": "2022-05-13T16:55:15.921Z"
   },
   {
    "duration": 7,
    "start_time": "2022-05-13T16:55:15.927Z"
   },
   {
    "duration": 40,
    "start_time": "2022-05-13T16:55:15.936Z"
   },
   {
    "duration": 7,
    "start_time": "2022-05-13T16:55:15.978Z"
   },
   {
    "duration": 10,
    "start_time": "2022-05-13T16:55:15.987Z"
   },
   {
    "duration": 5,
    "start_time": "2022-05-13T16:55:15.998Z"
   },
   {
    "duration": 3,
    "start_time": "2022-05-13T16:55:16.005Z"
   },
   {
    "duration": 7,
    "start_time": "2022-05-13T16:55:16.010Z"
   },
   {
    "duration": 6,
    "start_time": "2022-05-13T16:55:16.019Z"
   },
   {
    "duration": 47,
    "start_time": "2022-05-13T16:55:16.026Z"
   },
   {
    "duration": 5,
    "start_time": "2022-05-13T16:55:16.076Z"
   },
   {
    "duration": 7,
    "start_time": "2022-05-13T16:55:16.083Z"
   },
   {
    "duration": 7,
    "start_time": "2022-05-13T16:55:16.092Z"
   },
   {
    "duration": 175,
    "start_time": "2022-05-13T16:55:16.100Z"
   },
   {
    "duration": 128,
    "start_time": "2022-05-13T16:55:16.277Z"
   },
   {
    "duration": 17,
    "start_time": "2022-05-13T16:55:16.407Z"
   },
   {
    "duration": 5,
    "start_time": "2022-05-13T16:55:16.426Z"
   },
   {
    "duration": 14,
    "start_time": "2022-05-13T16:55:16.432Z"
   },
   {
    "duration": 291,
    "start_time": "2022-05-13T16:55:16.447Z"
   },
   {
    "duration": 190,
    "start_time": "2022-05-13T16:55:16.740Z"
   },
   {
    "duration": 7,
    "start_time": "2022-05-13T16:55:16.931Z"
   },
   {
    "duration": 320,
    "start_time": "2022-05-13T16:55:16.939Z"
   },
   {
    "duration": 224,
    "start_time": "2022-05-13T16:55:17.261Z"
   },
   {
    "duration": 293,
    "start_time": "2022-05-13T16:55:17.487Z"
   },
   {
    "duration": 122,
    "start_time": "2022-05-13T16:55:17.781Z"
   },
   {
    "duration": 3,
    "start_time": "2022-05-13T16:55:17.905Z"
   },
   {
    "duration": 141,
    "start_time": "2022-05-13T16:55:17.910Z"
   },
   {
    "duration": 4,
    "start_time": "2022-05-13T16:55:18.053Z"
   },
   {
    "duration": 11,
    "start_time": "2022-05-13T16:55:18.070Z"
   },
   {
    "duration": 8,
    "start_time": "2022-05-13T16:55:18.083Z"
   },
   {
    "duration": 25,
    "start_time": "2022-05-13T16:55:18.092Z"
   },
   {
    "duration": 10,
    "start_time": "2022-05-13T16:55:18.119Z"
   },
   {
    "duration": 8,
    "start_time": "2022-05-13T16:55:18.131Z"
   },
   {
    "duration": 9,
    "start_time": "2022-05-13T16:55:18.171Z"
   },
   {
    "duration": 28,
    "start_time": "2022-05-13T16:55:18.181Z"
   },
   {
    "duration": 12,
    "start_time": "2022-05-13T16:55:18.210Z"
   },
   {
    "duration": 260,
    "start_time": "2022-05-13T17:00:30.321Z"
   },
   {
    "duration": 143,
    "start_time": "2022-05-13T17:06:28.195Z"
   },
   {
    "duration": 223,
    "start_time": "2022-05-13T17:06:56.023Z"
   },
   {
    "duration": 159,
    "start_time": "2022-05-13T17:07:49.067Z"
   },
   {
    "duration": 4,
    "start_time": "2022-05-13T17:12:26.119Z"
   },
   {
    "duration": 168,
    "start_time": "2022-05-13T17:12:33.782Z"
   },
   {
    "duration": 244,
    "start_time": "2022-05-13T17:12:41.819Z"
   },
   {
    "duration": 301,
    "start_time": "2022-05-13T17:12:48.491Z"
   },
   {
    "duration": 254,
    "start_time": "2022-05-13T17:14:21.799Z"
   },
   {
    "duration": 154,
    "start_time": "2022-05-13T17:14:28.286Z"
   },
   {
    "duration": 1215,
    "start_time": "2022-05-13T17:19:00.356Z"
   },
   {
    "duration": 68,
    "start_time": "2022-05-13T17:19:01.573Z"
   },
   {
    "duration": 11,
    "start_time": "2022-05-13T17:19:01.643Z"
   },
   {
    "duration": 13,
    "start_time": "2022-05-13T17:19:01.655Z"
   },
   {
    "duration": 11,
    "start_time": "2022-05-13T17:19:01.670Z"
   },
   {
    "duration": 7,
    "start_time": "2022-05-13T17:19:01.683Z"
   },
   {
    "duration": 37,
    "start_time": "2022-05-13T17:19:01.692Z"
   },
   {
    "duration": 30,
    "start_time": "2022-05-13T17:19:01.730Z"
   },
   {
    "duration": 40,
    "start_time": "2022-05-13T17:19:01.761Z"
   },
   {
    "duration": 8,
    "start_time": "2022-05-13T17:19:01.803Z"
   },
   {
    "duration": 13,
    "start_time": "2022-05-13T17:19:01.812Z"
   },
   {
    "duration": 13,
    "start_time": "2022-05-13T17:19:01.827Z"
   },
   {
    "duration": 13,
    "start_time": "2022-05-13T17:19:01.841Z"
   },
   {
    "duration": 26,
    "start_time": "2022-05-13T17:19:01.857Z"
   },
   {
    "duration": 13,
    "start_time": "2022-05-13T17:19:01.885Z"
   },
   {
    "duration": 10,
    "start_time": "2022-05-13T17:19:01.900Z"
   },
   {
    "duration": 10,
    "start_time": "2022-05-13T17:19:01.912Z"
   },
   {
    "duration": 6,
    "start_time": "2022-05-13T17:19:01.923Z"
   },
   {
    "duration": 5,
    "start_time": "2022-05-13T17:19:01.931Z"
   },
   {
    "duration": 38,
    "start_time": "2022-05-13T17:19:01.938Z"
   },
   {
    "duration": 9,
    "start_time": "2022-05-13T17:19:01.978Z"
   },
   {
    "duration": 14,
    "start_time": "2022-05-13T17:19:01.988Z"
   },
   {
    "duration": 7,
    "start_time": "2022-05-13T17:19:02.004Z"
   },
   {
    "duration": 59,
    "start_time": "2022-05-13T17:19:02.013Z"
   },
   {
    "duration": 10,
    "start_time": "2022-05-13T17:19:02.075Z"
   },
   {
    "duration": 8,
    "start_time": "2022-05-13T17:19:02.087Z"
   },
   {
    "duration": 5,
    "start_time": "2022-05-13T17:19:02.097Z"
   },
   {
    "duration": 7,
    "start_time": "2022-05-13T17:19:02.103Z"
   },
   {
    "duration": 60,
    "start_time": "2022-05-13T17:19:02.111Z"
   },
   {
    "duration": 6,
    "start_time": "2022-05-13T17:19:02.173Z"
   },
   {
    "duration": 172,
    "start_time": "2022-05-13T17:19:02.180Z"
   },
   {
    "duration": 124,
    "start_time": "2022-05-13T17:19:02.354Z"
   },
   {
    "duration": 18,
    "start_time": "2022-05-13T17:19:02.480Z"
   },
   {
    "duration": 6,
    "start_time": "2022-05-13T17:19:02.500Z"
   },
   {
    "duration": 14,
    "start_time": "2022-05-13T17:19:02.508Z"
   },
   {
    "duration": 302,
    "start_time": "2022-05-13T17:19:02.524Z"
   },
   {
    "duration": 203,
    "start_time": "2022-05-13T17:19:02.828Z"
   },
   {
    "duration": 7,
    "start_time": "2022-05-13T17:19:03.033Z"
   },
   {
    "duration": 342,
    "start_time": "2022-05-13T17:19:03.042Z"
   },
   {
    "duration": 228,
    "start_time": "2022-05-13T17:19:03.386Z"
   },
   {
    "duration": 303,
    "start_time": "2022-05-13T17:19:03.618Z"
   },
   {
    "duration": 156,
    "start_time": "2022-05-13T17:19:03.923Z"
   },
   {
    "duration": 5,
    "start_time": "2022-05-13T17:19:04.081Z"
   },
   {
    "duration": 182,
    "start_time": "2022-05-13T17:19:04.088Z"
   },
   {
    "duration": 263,
    "start_time": "2022-05-13T17:19:04.272Z"
   },
   {
    "duration": 0,
    "start_time": "2022-05-13T17:19:04.537Z"
   },
   {
    "duration": 0,
    "start_time": "2022-05-13T17:19:04.538Z"
   },
   {
    "duration": 0,
    "start_time": "2022-05-13T17:19:04.539Z"
   },
   {
    "duration": 0,
    "start_time": "2022-05-13T17:19:04.540Z"
   },
   {
    "duration": 0,
    "start_time": "2022-05-13T17:19:04.541Z"
   },
   {
    "duration": 0,
    "start_time": "2022-05-13T17:19:04.542Z"
   },
   {
    "duration": 0,
    "start_time": "2022-05-13T17:19:04.543Z"
   },
   {
    "duration": 0,
    "start_time": "2022-05-13T17:19:04.544Z"
   },
   {
    "duration": 0,
    "start_time": "2022-05-13T17:19:04.545Z"
   },
   {
    "duration": 162,
    "start_time": "2022-05-13T17:19:20.201Z"
   },
   {
    "duration": 9,
    "start_time": "2022-05-13T17:19:58.800Z"
   },
   {
    "duration": 1088,
    "start_time": "2022-05-13T17:20:37.201Z"
   },
   {
    "duration": 67,
    "start_time": "2022-05-13T17:20:38.291Z"
   },
   {
    "duration": 15,
    "start_time": "2022-05-13T17:20:38.360Z"
   },
   {
    "duration": 6,
    "start_time": "2022-05-13T17:20:38.378Z"
   },
   {
    "duration": 15,
    "start_time": "2022-05-13T17:20:38.385Z"
   },
   {
    "duration": 13,
    "start_time": "2022-05-13T17:20:38.401Z"
   },
   {
    "duration": 14,
    "start_time": "2022-05-13T17:20:38.416Z"
   },
   {
    "duration": 11,
    "start_time": "2022-05-13T17:20:38.432Z"
   },
   {
    "duration": 37,
    "start_time": "2022-05-13T17:20:38.445Z"
   },
   {
    "duration": 11,
    "start_time": "2022-05-13T17:20:38.486Z"
   },
   {
    "duration": 16,
    "start_time": "2022-05-13T17:20:38.499Z"
   },
   {
    "duration": 14,
    "start_time": "2022-05-13T17:20:38.517Z"
   },
   {
    "duration": 14,
    "start_time": "2022-05-13T17:20:38.532Z"
   },
   {
    "duration": 30,
    "start_time": "2022-05-13T17:20:38.548Z"
   },
   {
    "duration": 15,
    "start_time": "2022-05-13T17:20:38.579Z"
   },
   {
    "duration": 14,
    "start_time": "2022-05-13T17:20:38.596Z"
   },
   {
    "duration": 12,
    "start_time": "2022-05-13T17:20:38.611Z"
   },
   {
    "duration": 8,
    "start_time": "2022-05-13T17:20:38.625Z"
   },
   {
    "duration": 6,
    "start_time": "2022-05-13T17:20:38.635Z"
   },
   {
    "duration": 35,
    "start_time": "2022-05-13T17:20:38.642Z"
   },
   {
    "duration": 11,
    "start_time": "2022-05-13T17:20:38.678Z"
   },
   {
    "duration": 11,
    "start_time": "2022-05-13T17:20:38.691Z"
   },
   {
    "duration": 6,
    "start_time": "2022-05-13T17:20:38.704Z"
   },
   {
    "duration": 5,
    "start_time": "2022-05-13T17:20:38.711Z"
   },
   {
    "duration": 8,
    "start_time": "2022-05-13T17:20:38.718Z"
   },
   {
    "duration": 7,
    "start_time": "2022-05-13T17:20:38.727Z"
   },
   {
    "duration": 6,
    "start_time": "2022-05-13T17:20:38.771Z"
   },
   {
    "duration": 9,
    "start_time": "2022-05-13T17:20:38.781Z"
   },
   {
    "duration": 7,
    "start_time": "2022-05-13T17:20:38.792Z"
   },
   {
    "duration": 6,
    "start_time": "2022-05-13T17:20:38.801Z"
   },
   {
    "duration": 186,
    "start_time": "2022-05-13T17:20:38.809Z"
   },
   {
    "duration": 130,
    "start_time": "2022-05-13T17:20:38.997Z"
   },
   {
    "duration": 19,
    "start_time": "2022-05-13T17:20:39.129Z"
   },
   {
    "duration": 27,
    "start_time": "2022-05-13T17:20:39.150Z"
   },
   {
    "duration": 14,
    "start_time": "2022-05-13T17:20:39.179Z"
   },
   {
    "duration": 301,
    "start_time": "2022-05-13T17:20:39.195Z"
   },
   {
    "duration": 218,
    "start_time": "2022-05-13T17:20:39.498Z"
   },
   {
    "duration": 8,
    "start_time": "2022-05-13T17:20:39.718Z"
   },
   {
    "duration": 456,
    "start_time": "2022-05-13T17:20:39.728Z"
   },
   {
    "duration": 357,
    "start_time": "2022-05-13T17:20:40.186Z"
   },
   {
    "duration": 362,
    "start_time": "2022-05-13T17:20:40.546Z"
   },
   {
    "duration": 177,
    "start_time": "2022-05-13T17:20:40.910Z"
   },
   {
    "duration": 4,
    "start_time": "2022-05-13T17:20:41.090Z"
   },
   {
    "duration": 196,
    "start_time": "2022-05-13T17:20:41.096Z"
   },
   {
    "duration": 283,
    "start_time": "2022-05-13T17:20:41.294Z"
   },
   {
    "duration": 0,
    "start_time": "2022-05-13T17:20:41.579Z"
   },
   {
    "duration": 0,
    "start_time": "2022-05-13T17:20:41.581Z"
   },
   {
    "duration": 0,
    "start_time": "2022-05-13T17:20:41.583Z"
   },
   {
    "duration": 0,
    "start_time": "2022-05-13T17:20:41.585Z"
   },
   {
    "duration": 0,
    "start_time": "2022-05-13T17:20:41.586Z"
   },
   {
    "duration": 0,
    "start_time": "2022-05-13T17:20:41.588Z"
   },
   {
    "duration": 0,
    "start_time": "2022-05-13T17:20:41.589Z"
   },
   {
    "duration": 0,
    "start_time": "2022-05-13T17:20:41.590Z"
   },
   {
    "duration": 0,
    "start_time": "2022-05-13T17:20:41.592Z"
   },
   {
    "duration": 161,
    "start_time": "2022-05-13T17:20:54.656Z"
   },
   {
    "duration": 236,
    "start_time": "2022-05-13T17:21:20.764Z"
   },
   {
    "duration": 159,
    "start_time": "2022-05-13T17:21:29.822Z"
   },
   {
    "duration": 153,
    "start_time": "2022-05-13T17:21:43.557Z"
   },
   {
    "duration": 158,
    "start_time": "2022-05-13T17:21:48.148Z"
   },
   {
    "duration": 156,
    "start_time": "2022-05-13T17:22:01.782Z"
   },
   {
    "duration": 113,
    "start_time": "2022-05-13T17:22:31.616Z"
   },
   {
    "duration": 159,
    "start_time": "2022-05-13T17:22:39.212Z"
   },
   {
    "duration": 154,
    "start_time": "2022-05-13T17:22:44.651Z"
   },
   {
    "duration": 153,
    "start_time": "2022-05-13T17:22:49.944Z"
   },
   {
    "duration": 154,
    "start_time": "2022-05-13T17:22:55.593Z"
   },
   {
    "duration": 151,
    "start_time": "2022-05-13T17:23:38.604Z"
   },
   {
    "duration": 275,
    "start_time": "2022-05-13T17:23:45.173Z"
   },
   {
    "duration": 242,
    "start_time": "2022-05-13T17:23:53.205Z"
   },
   {
    "duration": 273,
    "start_time": "2022-05-13T17:24:06.989Z"
   },
   {
    "duration": 258,
    "start_time": "2022-05-13T17:24:29.285Z"
   },
   {
    "duration": 1035,
    "start_time": "2022-05-13T17:26:40.518Z"
   },
   {
    "duration": 68,
    "start_time": "2022-05-13T17:26:41.555Z"
   },
   {
    "duration": 10,
    "start_time": "2022-05-13T17:26:41.625Z"
   },
   {
    "duration": 5,
    "start_time": "2022-05-13T17:26:41.637Z"
   },
   {
    "duration": 9,
    "start_time": "2022-05-13T17:26:41.644Z"
   },
   {
    "duration": 19,
    "start_time": "2022-05-13T17:26:41.655Z"
   },
   {
    "duration": 15,
    "start_time": "2022-05-13T17:26:41.676Z"
   },
   {
    "duration": 18,
    "start_time": "2022-05-13T17:26:41.693Z"
   },
   {
    "duration": 31,
    "start_time": "2022-05-13T17:26:41.712Z"
   },
   {
    "duration": 9,
    "start_time": "2022-05-13T17:26:41.746Z"
   },
   {
    "duration": 14,
    "start_time": "2022-05-13T17:26:41.757Z"
   },
   {
    "duration": 13,
    "start_time": "2022-05-13T17:26:41.773Z"
   },
   {
    "duration": 14,
    "start_time": "2022-05-13T17:26:41.787Z"
   },
   {
    "duration": 14,
    "start_time": "2022-05-13T17:26:41.803Z"
   },
   {
    "duration": 17,
    "start_time": "2022-05-13T17:26:41.819Z"
   },
   {
    "duration": 33,
    "start_time": "2022-05-13T17:26:41.838Z"
   },
   {
    "duration": 10,
    "start_time": "2022-05-13T17:26:41.873Z"
   },
   {
    "duration": 9,
    "start_time": "2022-05-13T17:26:41.885Z"
   },
   {
    "duration": 6,
    "start_time": "2022-05-13T17:26:41.895Z"
   },
   {
    "duration": 18,
    "start_time": "2022-05-13T17:26:41.903Z"
   },
   {
    "duration": 22,
    "start_time": "2022-05-13T17:26:41.923Z"
   },
   {
    "duration": 29,
    "start_time": "2022-05-13T17:26:41.947Z"
   },
   {
    "duration": 6,
    "start_time": "2022-05-13T17:26:41.978Z"
   },
   {
    "duration": 7,
    "start_time": "2022-05-13T17:26:41.986Z"
   },
   {
    "duration": 9,
    "start_time": "2022-05-13T17:26:41.994Z"
   },
   {
    "duration": 14,
    "start_time": "2022-05-13T17:26:42.005Z"
   },
   {
    "duration": 7,
    "start_time": "2022-05-13T17:26:42.021Z"
   },
   {
    "duration": 13,
    "start_time": "2022-05-13T17:26:42.032Z"
   },
   {
    "duration": 7,
    "start_time": "2022-05-13T17:26:42.072Z"
   },
   {
    "duration": 7,
    "start_time": "2022-05-13T17:26:42.081Z"
   },
   {
    "duration": 170,
    "start_time": "2022-05-13T17:26:42.089Z"
   },
   {
    "duration": 118,
    "start_time": "2022-05-13T17:26:42.261Z"
   },
   {
    "duration": 18,
    "start_time": "2022-05-13T17:26:42.380Z"
   },
   {
    "duration": 5,
    "start_time": "2022-05-13T17:26:42.400Z"
   },
   {
    "duration": 14,
    "start_time": "2022-05-13T17:26:42.407Z"
   },
   {
    "duration": 288,
    "start_time": "2022-05-13T17:26:42.423Z"
   },
   {
    "duration": 200,
    "start_time": "2022-05-13T17:26:42.713Z"
   },
   {
    "duration": 6,
    "start_time": "2022-05-13T17:26:42.915Z"
   },
   {
    "duration": 282,
    "start_time": "2022-05-13T17:26:42.922Z"
   },
   {
    "duration": 219,
    "start_time": "2022-05-13T17:26:43.206Z"
   },
   {
    "duration": 328,
    "start_time": "2022-05-13T17:26:43.427Z"
   },
   {
    "duration": 159,
    "start_time": "2022-05-13T17:26:43.757Z"
   },
   {
    "duration": 5,
    "start_time": "2022-05-13T17:26:43.917Z"
   },
   {
    "duration": 172,
    "start_time": "2022-05-13T17:26:43.923Z"
   },
   {
    "duration": 179,
    "start_time": "2022-05-13T17:26:44.097Z"
   },
   {
    "duration": 4,
    "start_time": "2022-05-13T17:26:44.278Z"
   },
   {
    "duration": 12,
    "start_time": "2022-05-13T17:26:44.284Z"
   },
   {
    "duration": 7,
    "start_time": "2022-05-13T17:26:44.297Z"
   },
   {
    "duration": 22,
    "start_time": "2022-05-13T17:26:44.305Z"
   },
   {
    "duration": 43,
    "start_time": "2022-05-13T17:26:44.328Z"
   },
   {
    "duration": 8,
    "start_time": "2022-05-13T17:26:44.373Z"
   },
   {
    "duration": 9,
    "start_time": "2022-05-13T17:26:44.383Z"
   },
   {
    "duration": 22,
    "start_time": "2022-05-13T17:26:44.394Z"
   },
   {
    "duration": 13,
    "start_time": "2022-05-13T17:26:44.418Z"
   },
   {
    "duration": 118,
    "start_time": "2022-05-13T17:31:28.510Z"
   },
   {
    "duration": 14,
    "start_time": "2022-05-13T17:33:19.589Z"
   },
   {
    "duration": 14,
    "start_time": "2022-05-13T17:36:07.995Z"
   },
   {
    "duration": 14,
    "start_time": "2022-05-13T17:36:24.639Z"
   },
   {
    "duration": 14,
    "start_time": "2022-05-13T17:36:32.200Z"
   },
   {
    "duration": 15,
    "start_time": "2022-05-13T17:36:36.531Z"
   },
   {
    "duration": 16,
    "start_time": "2022-05-13T17:37:31.331Z"
   },
   {
    "duration": 7,
    "start_time": "2022-05-13T17:37:44.083Z"
   },
   {
    "duration": 5,
    "start_time": "2022-05-13T17:38:19.728Z"
   },
   {
    "duration": 5,
    "start_time": "2022-05-13T17:38:43.283Z"
   },
   {
    "duration": 5,
    "start_time": "2022-05-13T17:39:00.551Z"
   },
   {
    "duration": 5,
    "start_time": "2022-05-13T17:39:12.570Z"
   },
   {
    "duration": 6,
    "start_time": "2022-05-13T17:39:22.096Z"
   },
   {
    "duration": 5,
    "start_time": "2022-05-13T17:39:31.879Z"
   },
   {
    "duration": 5,
    "start_time": "2022-05-13T17:39:40.240Z"
   },
   {
    "duration": 13,
    "start_time": "2022-05-13T17:39:45.153Z"
   },
   {
    "duration": 10,
    "start_time": "2022-05-13T17:39:51.548Z"
   },
   {
    "duration": 5,
    "start_time": "2022-05-13T17:39:53.994Z"
   },
   {
    "duration": 4,
    "start_time": "2022-05-13T17:40:04.468Z"
   },
   {
    "duration": 5,
    "start_time": "2022-05-13T17:41:27.365Z"
   },
   {
    "duration": 5,
    "start_time": "2022-05-13T17:41:31.741Z"
   },
   {
    "duration": 13,
    "start_time": "2022-05-13T17:42:05.668Z"
   },
   {
    "duration": 1088,
    "start_time": "2022-05-13T17:42:12.944Z"
   },
   {
    "duration": 73,
    "start_time": "2022-05-13T17:42:14.034Z"
   },
   {
    "duration": 13,
    "start_time": "2022-05-13T17:42:14.109Z"
   },
   {
    "duration": 7,
    "start_time": "2022-05-13T17:42:14.125Z"
   },
   {
    "duration": 10,
    "start_time": "2022-05-13T17:42:14.134Z"
   },
   {
    "duration": 30,
    "start_time": "2022-05-13T17:42:14.146Z"
   },
   {
    "duration": 18,
    "start_time": "2022-05-13T17:42:14.181Z"
   },
   {
    "duration": 14,
    "start_time": "2022-05-13T17:42:14.201Z"
   },
   {
    "duration": 30,
    "start_time": "2022-05-13T17:42:14.216Z"
   },
   {
    "duration": 8,
    "start_time": "2022-05-13T17:42:14.249Z"
   },
   {
    "duration": 21,
    "start_time": "2022-05-13T17:42:14.259Z"
   },
   {
    "duration": 12,
    "start_time": "2022-05-13T17:42:14.285Z"
   },
   {
    "duration": 13,
    "start_time": "2022-05-13T17:42:14.298Z"
   },
   {
    "duration": 18,
    "start_time": "2022-05-13T17:42:14.312Z"
   },
   {
    "duration": 16,
    "start_time": "2022-05-13T17:42:14.332Z"
   },
   {
    "duration": 28,
    "start_time": "2022-05-13T17:42:14.349Z"
   },
   {
    "duration": 19,
    "start_time": "2022-05-13T17:42:14.379Z"
   },
   {
    "duration": 5,
    "start_time": "2022-05-13T17:42:14.399Z"
   },
   {
    "duration": 8,
    "start_time": "2022-05-13T17:42:14.406Z"
   },
   {
    "duration": 9,
    "start_time": "2022-05-13T17:42:14.416Z"
   },
   {
    "duration": 8,
    "start_time": "2022-05-13T17:42:14.426Z"
   },
   {
    "duration": 10,
    "start_time": "2022-05-13T17:42:14.435Z"
   },
   {
    "duration": 33,
    "start_time": "2022-05-13T17:42:14.446Z"
   },
   {
    "duration": 10,
    "start_time": "2022-05-13T17:42:14.481Z"
   },
   {
    "duration": 8,
    "start_time": "2022-05-13T17:42:14.493Z"
   },
   {
    "duration": 8,
    "start_time": "2022-05-13T17:42:14.503Z"
   },
   {
    "duration": 6,
    "start_time": "2022-05-13T17:42:14.513Z"
   },
   {
    "duration": 5,
    "start_time": "2022-05-13T17:42:14.522Z"
   },
   {
    "duration": 8,
    "start_time": "2022-05-13T17:42:14.528Z"
   },
   {
    "duration": 37,
    "start_time": "2022-05-13T17:42:14.538Z"
   },
   {
    "duration": 168,
    "start_time": "2022-05-13T17:42:14.578Z"
   },
   {
    "duration": 119,
    "start_time": "2022-05-13T17:42:14.748Z"
   },
   {
    "duration": 23,
    "start_time": "2022-05-13T17:42:14.871Z"
   },
   {
    "duration": 6,
    "start_time": "2022-05-13T17:42:14.896Z"
   },
   {
    "duration": 19,
    "start_time": "2022-05-13T17:42:14.903Z"
   },
   {
    "duration": 300,
    "start_time": "2022-05-13T17:42:14.924Z"
   },
   {
    "duration": 210,
    "start_time": "2022-05-13T17:42:15.226Z"
   },
   {
    "duration": 6,
    "start_time": "2022-05-13T17:42:15.438Z"
   },
   {
    "duration": 329,
    "start_time": "2022-05-13T17:42:15.445Z"
   },
   {
    "duration": 235,
    "start_time": "2022-05-13T17:42:15.777Z"
   },
   {
    "duration": 290,
    "start_time": "2022-05-13T17:42:16.014Z"
   },
   {
    "duration": 166,
    "start_time": "2022-05-13T17:42:16.305Z"
   },
   {
    "duration": 8,
    "start_time": "2022-05-13T17:42:16.475Z"
   },
   {
    "duration": 181,
    "start_time": "2022-05-13T17:42:16.485Z"
   },
   {
    "duration": 178,
    "start_time": "2022-05-13T17:42:16.671Z"
   },
   {
    "duration": 5,
    "start_time": "2022-05-13T17:42:16.851Z"
   },
   {
    "duration": 24,
    "start_time": "2022-05-13T17:42:16.857Z"
   },
   {
    "duration": 7,
    "start_time": "2022-05-13T17:42:16.884Z"
   },
   {
    "duration": 23,
    "start_time": "2022-05-13T17:42:16.893Z"
   },
   {
    "duration": 10,
    "start_time": "2022-05-13T17:42:16.918Z"
   },
   {
    "duration": 9,
    "start_time": "2022-05-13T17:42:16.929Z"
   },
   {
    "duration": 42,
    "start_time": "2022-05-13T17:42:16.939Z"
   },
   {
    "duration": 28,
    "start_time": "2022-05-13T17:42:16.983Z"
   },
   {
    "duration": 13,
    "start_time": "2022-05-13T17:42:17.013Z"
   },
   {
    "duration": 13,
    "start_time": "2022-05-13T17:47:10.093Z"
   },
   {
    "duration": 1043,
    "start_time": "2022-05-13T18:06:24.954Z"
   },
   {
    "duration": 67,
    "start_time": "2022-05-13T18:06:25.999Z"
   },
   {
    "duration": 10,
    "start_time": "2022-05-13T18:06:26.068Z"
   },
   {
    "duration": 5,
    "start_time": "2022-05-13T18:06:26.080Z"
   },
   {
    "duration": 16,
    "start_time": "2022-05-13T18:06:26.086Z"
   },
   {
    "duration": 16,
    "start_time": "2022-05-13T18:06:26.103Z"
   },
   {
    "duration": 16,
    "start_time": "2022-05-13T18:06:26.121Z"
   },
   {
    "duration": 10,
    "start_time": "2022-05-13T18:06:26.138Z"
   },
   {
    "duration": 29,
    "start_time": "2022-05-13T18:06:26.150Z"
   },
   {
    "duration": 7,
    "start_time": "2022-05-13T18:06:26.181Z"
   },
   {
    "duration": 16,
    "start_time": "2022-05-13T18:06:26.190Z"
   },
   {
    "duration": 11,
    "start_time": "2022-05-13T18:06:26.208Z"
   },
   {
    "duration": 10,
    "start_time": "2022-05-13T18:06:26.221Z"
   },
   {
    "duration": 15,
    "start_time": "2022-05-13T18:06:26.233Z"
   },
   {
    "duration": 22,
    "start_time": "2022-05-13T18:06:26.250Z"
   },
   {
    "duration": 10,
    "start_time": "2022-05-13T18:06:26.274Z"
   },
   {
    "duration": 10,
    "start_time": "2022-05-13T18:06:26.285Z"
   },
   {
    "duration": 9,
    "start_time": "2022-05-13T18:06:26.297Z"
   },
   {
    "duration": 6,
    "start_time": "2022-05-13T18:06:26.307Z"
   },
   {
    "duration": 10,
    "start_time": "2022-05-13T18:06:26.314Z"
   },
   {
    "duration": 7,
    "start_time": "2022-05-13T18:06:26.325Z"
   },
   {
    "duration": 39,
    "start_time": "2022-05-13T18:06:26.334Z"
   },
   {
    "duration": 5,
    "start_time": "2022-05-13T18:06:26.375Z"
   },
   {
    "duration": 6,
    "start_time": "2022-05-13T18:06:26.381Z"
   },
   {
    "duration": 9,
    "start_time": "2022-05-13T18:06:26.388Z"
   },
   {
    "duration": 6,
    "start_time": "2022-05-13T18:06:26.399Z"
   },
   {
    "duration": 6,
    "start_time": "2022-05-13T18:06:26.407Z"
   },
   {
    "duration": 4,
    "start_time": "2022-05-13T18:06:26.416Z"
   },
   {
    "duration": 8,
    "start_time": "2022-05-13T18:06:26.422Z"
   },
   {
    "duration": 11,
    "start_time": "2022-05-13T18:06:26.431Z"
   },
   {
    "duration": 188,
    "start_time": "2022-05-13T18:06:26.443Z"
   },
   {
    "duration": 115,
    "start_time": "2022-05-13T18:06:26.633Z"
   },
   {
    "duration": 26,
    "start_time": "2022-05-13T18:06:26.749Z"
   },
   {
    "duration": 5,
    "start_time": "2022-05-13T18:06:26.777Z"
   },
   {
    "duration": 13,
    "start_time": "2022-05-13T18:06:26.784Z"
   },
   {
    "duration": 291,
    "start_time": "2022-05-13T18:06:26.799Z"
   },
   {
    "duration": 209,
    "start_time": "2022-05-13T18:06:27.092Z"
   },
   {
    "duration": 6,
    "start_time": "2022-05-13T18:06:27.303Z"
   },
   {
    "duration": 293,
    "start_time": "2022-05-13T18:06:27.311Z"
   },
   {
    "duration": 210,
    "start_time": "2022-05-13T18:06:27.606Z"
   },
   {
    "duration": 297,
    "start_time": "2022-05-13T18:06:27.817Z"
   },
   {
    "duration": 157,
    "start_time": "2022-05-13T18:06:28.115Z"
   },
   {
    "duration": 4,
    "start_time": "2022-05-13T18:06:28.274Z"
   },
   {
    "duration": 175,
    "start_time": "2022-05-13T18:06:28.280Z"
   },
   {
    "duration": 175,
    "start_time": "2022-05-13T18:06:28.457Z"
   },
   {
    "duration": 5,
    "start_time": "2022-05-13T18:06:28.634Z"
   },
   {
    "duration": 12,
    "start_time": "2022-05-13T18:06:28.640Z"
   },
   {
    "duration": 22,
    "start_time": "2022-05-13T18:06:28.653Z"
   },
   {
    "duration": 22,
    "start_time": "2022-05-13T18:06:28.676Z"
   },
   {
    "duration": 9,
    "start_time": "2022-05-13T18:06:28.700Z"
   },
   {
    "duration": 8,
    "start_time": "2022-05-13T18:06:28.711Z"
   },
   {
    "duration": 8,
    "start_time": "2022-05-13T18:06:28.720Z"
   },
   {
    "duration": 53,
    "start_time": "2022-05-13T18:06:28.730Z"
   },
   {
    "duration": 13,
    "start_time": "2022-05-13T18:06:28.784Z"
   },
   {
    "duration": 7,
    "start_time": "2022-05-13T18:09:31.260Z"
   },
   {
    "duration": 1052,
    "start_time": "2022-05-13T18:09:36.866Z"
   },
   {
    "duration": 63,
    "start_time": "2022-05-13T18:09:37.920Z"
   },
   {
    "duration": 10,
    "start_time": "2022-05-13T18:09:37.985Z"
   },
   {
    "duration": 5,
    "start_time": "2022-05-13T18:09:37.997Z"
   },
   {
    "duration": 9,
    "start_time": "2022-05-13T18:09:38.003Z"
   },
   {
    "duration": 5,
    "start_time": "2022-05-13T18:09:38.013Z"
   },
   {
    "duration": 9,
    "start_time": "2022-05-13T18:09:38.020Z"
   },
   {
    "duration": 9,
    "start_time": "2022-05-13T18:09:38.031Z"
   },
   {
    "duration": 27,
    "start_time": "2022-05-13T18:09:38.071Z"
   },
   {
    "duration": 7,
    "start_time": "2022-05-13T18:09:38.100Z"
   },
   {
    "duration": 12,
    "start_time": "2022-05-13T18:09:38.109Z"
   },
   {
    "duration": 12,
    "start_time": "2022-05-13T18:09:38.122Z"
   },
   {
    "duration": 10,
    "start_time": "2022-05-13T18:09:38.135Z"
   },
   {
    "duration": 12,
    "start_time": "2022-05-13T18:09:38.147Z"
   },
   {
    "duration": 14,
    "start_time": "2022-05-13T18:09:38.161Z"
   },
   {
    "duration": 11,
    "start_time": "2022-05-13T18:09:38.176Z"
   },
   {
    "duration": 9,
    "start_time": "2022-05-13T18:09:38.189Z"
   },
   {
    "duration": 6,
    "start_time": "2022-05-13T18:09:38.199Z"
   },
   {
    "duration": 5,
    "start_time": "2022-05-13T18:09:38.206Z"
   },
   {
    "duration": 8,
    "start_time": "2022-05-13T18:09:38.213Z"
   },
   {
    "duration": 8,
    "start_time": "2022-05-13T18:09:38.223Z"
   },
   {
    "duration": 10,
    "start_time": "2022-05-13T18:09:38.271Z"
   },
   {
    "duration": 5,
    "start_time": "2022-05-13T18:09:38.283Z"
   },
   {
    "duration": 5,
    "start_time": "2022-05-13T18:09:38.289Z"
   },
   {
    "duration": 9,
    "start_time": "2022-05-13T18:09:38.295Z"
   },
   {
    "duration": 6,
    "start_time": "2022-05-13T18:09:38.306Z"
   },
   {
    "duration": 5,
    "start_time": "2022-05-13T18:09:38.313Z"
   },
   {
    "duration": 6,
    "start_time": "2022-05-13T18:09:38.322Z"
   },
   {
    "duration": 44,
    "start_time": "2022-05-13T18:09:38.329Z"
   },
   {
    "duration": 164,
    "start_time": "2022-05-13T18:09:38.374Z"
   },
   {
    "duration": 133,
    "start_time": "2022-05-13T18:09:38.539Z"
   },
   {
    "duration": 16,
    "start_time": "2022-05-13T18:09:38.674Z"
   },
   {
    "duration": 5,
    "start_time": "2022-05-13T18:09:38.692Z"
   },
   {
    "duration": 15,
    "start_time": "2022-05-13T18:09:38.698Z"
   },
   {
    "duration": 282,
    "start_time": "2022-05-13T18:09:38.715Z"
   },
   {
    "duration": 208,
    "start_time": "2022-05-13T18:09:38.999Z"
   },
   {
    "duration": 6,
    "start_time": "2022-05-13T18:09:39.209Z"
   },
   {
    "duration": 275,
    "start_time": "2022-05-13T18:09:39.216Z"
   },
   {
    "duration": 217,
    "start_time": "2022-05-13T18:09:39.493Z"
   },
   {
    "duration": 384,
    "start_time": "2022-05-13T18:09:39.712Z"
   },
   {
    "duration": 308,
    "start_time": "2022-05-13T18:09:40.098Z"
   },
   {
    "duration": 5,
    "start_time": "2022-05-13T18:09:40.408Z"
   },
   {
    "duration": 448,
    "start_time": "2022-05-13T18:09:40.470Z"
   },
   {
    "duration": 502,
    "start_time": "2022-05-13T18:09:40.972Z"
   },
   {
    "duration": 4,
    "start_time": "2022-05-13T18:09:41.476Z"
   },
   {
    "duration": 16,
    "start_time": "2022-05-13T18:09:41.482Z"
   },
   {
    "duration": 9,
    "start_time": "2022-05-13T18:09:41.500Z"
   },
   {
    "duration": 90,
    "start_time": "2022-05-13T18:09:41.511Z"
   },
   {
    "duration": 70,
    "start_time": "2022-05-13T18:09:41.603Z"
   },
   {
    "duration": 12,
    "start_time": "2022-05-13T18:09:41.675Z"
   },
   {
    "duration": 12,
    "start_time": "2022-05-13T18:09:41.689Z"
   },
   {
    "duration": 72,
    "start_time": "2022-05-13T18:09:41.703Z"
   },
   {
    "duration": 14,
    "start_time": "2022-05-13T18:09:41.777Z"
   },
   {
    "duration": 1030,
    "start_time": "2022-05-13T18:15:30.488Z"
   },
   {
    "duration": 70,
    "start_time": "2022-05-13T18:15:31.520Z"
   },
   {
    "duration": 11,
    "start_time": "2022-05-13T18:15:31.592Z"
   },
   {
    "duration": 5,
    "start_time": "2022-05-13T18:15:31.605Z"
   },
   {
    "duration": 10,
    "start_time": "2022-05-13T18:15:31.611Z"
   },
   {
    "duration": 5,
    "start_time": "2022-05-13T18:15:31.622Z"
   },
   {
    "duration": 10,
    "start_time": "2022-05-13T18:15:31.629Z"
   },
   {
    "duration": 36,
    "start_time": "2022-05-13T18:15:31.640Z"
   },
   {
    "duration": 30,
    "start_time": "2022-05-13T18:15:31.678Z"
   },
   {
    "duration": 7,
    "start_time": "2022-05-13T18:15:31.711Z"
   },
   {
    "duration": 12,
    "start_time": "2022-05-13T18:15:31.720Z"
   },
   {
    "duration": 9,
    "start_time": "2022-05-13T18:15:31.734Z"
   },
   {
    "duration": 12,
    "start_time": "2022-05-13T18:15:31.744Z"
   },
   {
    "duration": 22,
    "start_time": "2022-05-13T18:15:31.758Z"
   },
   {
    "duration": 13,
    "start_time": "2022-05-13T18:15:31.782Z"
   },
   {
    "duration": 11,
    "start_time": "2022-05-13T18:15:31.797Z"
   },
   {
    "duration": 11,
    "start_time": "2022-05-13T18:15:31.809Z"
   },
   {
    "duration": 5,
    "start_time": "2022-05-13T18:15:31.821Z"
   },
   {
    "duration": 5,
    "start_time": "2022-05-13T18:15:31.828Z"
   },
   {
    "duration": 43,
    "start_time": "2022-05-13T18:15:31.834Z"
   },
   {
    "duration": 15,
    "start_time": "2022-05-13T18:15:31.878Z"
   },
   {
    "duration": 28,
    "start_time": "2022-05-13T18:15:31.895Z"
   },
   {
    "duration": 5,
    "start_time": "2022-05-13T18:15:31.925Z"
   },
   {
    "duration": 5,
    "start_time": "2022-05-13T18:15:31.931Z"
   },
   {
    "duration": 7,
    "start_time": "2022-05-13T18:15:31.937Z"
   },
   {
    "duration": 6,
    "start_time": "2022-05-13T18:15:31.946Z"
   },
   {
    "duration": 19,
    "start_time": "2022-05-13T18:15:31.954Z"
   },
   {
    "duration": 6,
    "start_time": "2022-05-13T18:15:31.977Z"
   },
   {
    "duration": 8,
    "start_time": "2022-05-13T18:15:31.985Z"
   },
   {
    "duration": 168,
    "start_time": "2022-05-13T18:15:31.994Z"
   },
   {
    "duration": 119,
    "start_time": "2022-05-13T18:15:32.164Z"
   },
   {
    "duration": 17,
    "start_time": "2022-05-13T18:15:32.285Z"
   },
   {
    "duration": 6,
    "start_time": "2022-05-13T18:15:32.303Z"
   },
   {
    "duration": 17,
    "start_time": "2022-05-13T18:15:32.310Z"
   },
   {
    "duration": 280,
    "start_time": "2022-05-13T18:15:32.328Z"
   },
   {
    "duration": 198,
    "start_time": "2022-05-13T18:15:32.609Z"
   },
   {
    "duration": 6,
    "start_time": "2022-05-13T18:15:32.809Z"
   },
   {
    "duration": 271,
    "start_time": "2022-05-13T18:15:32.816Z"
   },
   {
    "duration": 209,
    "start_time": "2022-05-13T18:15:33.089Z"
   },
   {
    "duration": 280,
    "start_time": "2022-05-13T18:15:33.300Z"
   },
   {
    "duration": 159,
    "start_time": "2022-05-13T18:15:33.582Z"
   },
   {
    "duration": 5,
    "start_time": "2022-05-13T18:15:33.742Z"
   },
   {
    "duration": 169,
    "start_time": "2022-05-13T18:15:33.748Z"
   },
   {
    "duration": 166,
    "start_time": "2022-05-13T18:15:33.919Z"
   },
   {
    "duration": 4,
    "start_time": "2022-05-13T18:15:34.087Z"
   },
   {
    "duration": 11,
    "start_time": "2022-05-13T18:15:34.092Z"
   },
   {
    "duration": 8,
    "start_time": "2022-05-13T18:15:34.105Z"
   },
   {
    "duration": 23,
    "start_time": "2022-05-13T18:15:34.114Z"
   },
   {
    "duration": 40,
    "start_time": "2022-05-13T18:15:34.138Z"
   },
   {
    "duration": 9,
    "start_time": "2022-05-13T18:15:34.180Z"
   },
   {
    "duration": 10,
    "start_time": "2022-05-13T18:15:34.191Z"
   },
   {
    "duration": 21,
    "start_time": "2022-05-13T18:15:34.203Z"
   },
   {
    "duration": 12,
    "start_time": "2022-05-13T18:15:34.226Z"
   }
  ],
  "kernelspec": {
   "display_name": "Python 3 (ipykernel)",
   "language": "python",
   "name": "python3"
  },
  "language_info": {
   "codemirror_mode": {
    "name": "ipython",
    "version": 3
   },
   "file_extension": ".py",
   "mimetype": "text/x-python",
   "name": "python",
   "nbconvert_exporter": "python",
   "pygments_lexer": "ipython3",
   "version": "3.9.7"
  },
  "toc": {
   "base_numbering": 1,
   "nav_menu": {},
   "number_sections": true,
   "sideBar": true,
   "skip_h1_title": true,
   "title_cell": "Table of Contents",
   "title_sidebar": "Contents",
   "toc_cell": true,
   "toc_position": {
    "height": "calc(100% - 180px)",
    "left": "10px",
    "top": "150px",
    "width": "406.377px"
   },
   "toc_section_display": true,
   "toc_window_display": true
  }
 },
 "nbformat": 4,
 "nbformat_minor": 2
}
