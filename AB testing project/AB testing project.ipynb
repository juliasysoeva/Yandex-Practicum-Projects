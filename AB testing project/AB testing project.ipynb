{
 "cells": [
  {
   "cell_type": "markdown",
   "metadata": {},
   "source": [
    "# A/B-тестирование"
   ]
  },
  {
   "cell_type": "markdown",
   "metadata": {},
   "source": [
    "## Техническое задание\n",
    "\n",
    "- Название теста: `recommender_system_test`;\n",
    "- группы: А — контрольная, B — новая платёжная воронка;\n",
    "- дата запуска: 2020-12-07;\n",
    "- дата остановки набора новых пользователей: 2020-12-21;\n",
    "- дата остановки: 2021-01-04;\n",
    "- аудитория: 15% новых пользователей из региона EU;\n",
    "- назначение теста: тестирование изменений, связанных с внедрением улучшенной рекомендательной системы;\n",
    "- ожидаемое количество участников теста: 6000.\n",
    "- ожидаемый эффект: за 14 дней с момента регистрации пользователи покажут улучшение каждой метрики не менее, чем на 10%:\n",
    "    - конверсии в просмотр карточек товаров — событие `product_page`,\n",
    "    - просмотры корзины — `product_cart`,\n",
    "    - покупки — `purchase`."
   ]
  },
  {
   "cell_type": "markdown",
   "metadata": {},
   "source": [
    "## Изучение данных"
   ]
  },
  {
   "cell_type": "code",
   "execution_count": 1,
   "metadata": {},
   "outputs": [],
   "source": [
    "import pandas as pd\n",
    "import scipy.stats as stats\n",
    "import datetime as dt\n",
    "import numpy as np\n",
    "import math as mth\n",
    "from scipy import stats as st\n",
    "import matplotlib.pyplot as plt\n",
    "from datetime import datetime\n",
    "import seaborn as sns\n",
    "from plotly import graph_objects as go"
   ]
  },
  {
   "cell_type": "markdown",
   "metadata": {},
   "source": [
    "<div style=\"border:solid blue 1px; padding: 20px\"> \n",
    "Сохраним в переменной marketing_events календарь маркетинговых событий на 2020 год, в переменной new_users - пользователей, зарегистрировавшиеся с 7 по 21 декабря 2020 года, в переменной events - действия новых пользователей в период с 7 декабря 2020 по 4 января 2021 года и в переменной participants - таблицу участников тестов"
   ]
  },
  {
   "cell_type": "code",
   "execution_count": 2,
   "metadata": {},
   "outputs": [],
   "source": [
    "participants = pd.read_csv('https://code.s3.yandex.net/datasets/final_ab_participants.csv')\n",
    "new_users = pd.read_csv('https://code.s3.yandex.net/datasets/final_ab_new_users.csv')\n",
    "events = pd.read_csv('https://code.s3.yandex.net/datasets/final_ab_events.csv')\n",
    "marketing_events = pd.read_csv('https://code.s3.yandex.net/datasets/ab_project_marketing_events.csv')"
   ]
  },
  {
   "cell_type": "code",
   "execution_count": 3,
   "metadata": {},
   "outputs": [
    {
     "data": {
      "text/html": [
       "<div>\n",
       "<style scoped>\n",
       "    .dataframe tbody tr th:only-of-type {\n",
       "        vertical-align: middle;\n",
       "    }\n",
       "\n",
       "    .dataframe tbody tr th {\n",
       "        vertical-align: top;\n",
       "    }\n",
       "\n",
       "    .dataframe thead th {\n",
       "        text-align: right;\n",
       "    }\n",
       "</style>\n",
       "<table border=\"1\" class=\"dataframe\">\n",
       "  <thead>\n",
       "    <tr style=\"text-align: right;\">\n",
       "      <th></th>\n",
       "      <th>user_id</th>\n",
       "      <th>group</th>\n",
       "      <th>ab_test</th>\n",
       "    </tr>\n",
       "  </thead>\n",
       "  <tbody>\n",
       "    <tr>\n",
       "      <th>0</th>\n",
       "      <td>D1ABA3E2887B6A73</td>\n",
       "      <td>A</td>\n",
       "      <td>recommender_system_test</td>\n",
       "    </tr>\n",
       "    <tr>\n",
       "      <th>1</th>\n",
       "      <td>A7A3664BD6242119</td>\n",
       "      <td>A</td>\n",
       "      <td>recommender_system_test</td>\n",
       "    </tr>\n",
       "    <tr>\n",
       "      <th>2</th>\n",
       "      <td>DABC14FDDFADD29E</td>\n",
       "      <td>A</td>\n",
       "      <td>recommender_system_test</td>\n",
       "    </tr>\n",
       "    <tr>\n",
       "      <th>3</th>\n",
       "      <td>04988C5DF189632E</td>\n",
       "      <td>A</td>\n",
       "      <td>recommender_system_test</td>\n",
       "    </tr>\n",
       "    <tr>\n",
       "      <th>4</th>\n",
       "      <td>482F14783456D21B</td>\n",
       "      <td>B</td>\n",
       "      <td>recommender_system_test</td>\n",
       "    </tr>\n",
       "  </tbody>\n",
       "</table>\n",
       "</div>"
      ],
      "text/plain": [
       "            user_id group                  ab_test\n",
       "0  D1ABA3E2887B6A73     A  recommender_system_test\n",
       "1  A7A3664BD6242119     A  recommender_system_test\n",
       "2  DABC14FDDFADD29E     A  recommender_system_test\n",
       "3  04988C5DF189632E     A  recommender_system_test\n",
       "4  482F14783456D21B     B  recommender_system_test"
      ]
     },
     "execution_count": 3,
     "metadata": {},
     "output_type": "execute_result"
    }
   ],
   "source": [
    "participants.head()"
   ]
  },
  {
   "cell_type": "code",
   "execution_count": 4,
   "metadata": {},
   "outputs": [
    {
     "name": "stdout",
     "output_type": "stream",
     "text": [
      "<class 'pandas.core.frame.DataFrame'>\n",
      "RangeIndex: 18268 entries, 0 to 18267\n",
      "Data columns (total 3 columns):\n",
      " #   Column   Non-Null Count  Dtype \n",
      "---  ------   --------------  ----- \n",
      " 0   user_id  18268 non-null  object\n",
      " 1   group    18268 non-null  object\n",
      " 2   ab_test  18268 non-null  object\n",
      "dtypes: object(3)\n",
      "memory usage: 428.3+ KB\n"
     ]
    }
   ],
   "source": [
    "participants.info()"
   ]
  },
  {
   "cell_type": "code",
   "execution_count": 5,
   "metadata": {},
   "outputs": [
    {
     "data": {
      "text/html": [
       "<div>\n",
       "<style scoped>\n",
       "    .dataframe tbody tr th:only-of-type {\n",
       "        vertical-align: middle;\n",
       "    }\n",
       "\n",
       "    .dataframe tbody tr th {\n",
       "        vertical-align: top;\n",
       "    }\n",
       "\n",
       "    .dataframe thead th {\n",
       "        text-align: right;\n",
       "    }\n",
       "</style>\n",
       "<table border=\"1\" class=\"dataframe\">\n",
       "  <thead>\n",
       "    <tr style=\"text-align: right;\">\n",
       "      <th></th>\n",
       "      <th>user_id</th>\n",
       "      <th>first_date</th>\n",
       "      <th>region</th>\n",
       "      <th>device</th>\n",
       "    </tr>\n",
       "  </thead>\n",
       "  <tbody>\n",
       "    <tr>\n",
       "      <th>0</th>\n",
       "      <td>D72A72121175D8BE</td>\n",
       "      <td>2020-12-07</td>\n",
       "      <td>EU</td>\n",
       "      <td>PC</td>\n",
       "    </tr>\n",
       "    <tr>\n",
       "      <th>1</th>\n",
       "      <td>F1C668619DFE6E65</td>\n",
       "      <td>2020-12-07</td>\n",
       "      <td>N.America</td>\n",
       "      <td>Android</td>\n",
       "    </tr>\n",
       "    <tr>\n",
       "      <th>2</th>\n",
       "      <td>2E1BF1D4C37EA01F</td>\n",
       "      <td>2020-12-07</td>\n",
       "      <td>EU</td>\n",
       "      <td>PC</td>\n",
       "    </tr>\n",
       "    <tr>\n",
       "      <th>3</th>\n",
       "      <td>50734A22C0C63768</td>\n",
       "      <td>2020-12-07</td>\n",
       "      <td>EU</td>\n",
       "      <td>iPhone</td>\n",
       "    </tr>\n",
       "    <tr>\n",
       "      <th>4</th>\n",
       "      <td>E1BDDCE0DAFA2679</td>\n",
       "      <td>2020-12-07</td>\n",
       "      <td>N.America</td>\n",
       "      <td>iPhone</td>\n",
       "    </tr>\n",
       "  </tbody>\n",
       "</table>\n",
       "</div>"
      ],
      "text/plain": [
       "            user_id  first_date     region   device\n",
       "0  D72A72121175D8BE  2020-12-07         EU       PC\n",
       "1  F1C668619DFE6E65  2020-12-07  N.America  Android\n",
       "2  2E1BF1D4C37EA01F  2020-12-07         EU       PC\n",
       "3  50734A22C0C63768  2020-12-07         EU   iPhone\n",
       "4  E1BDDCE0DAFA2679  2020-12-07  N.America   iPhone"
      ]
     },
     "execution_count": 5,
     "metadata": {},
     "output_type": "execute_result"
    }
   ],
   "source": [
    "new_users.head()"
   ]
  },
  {
   "cell_type": "code",
   "execution_count": 6,
   "metadata": {},
   "outputs": [
    {
     "name": "stdout",
     "output_type": "stream",
     "text": [
      "<class 'pandas.core.frame.DataFrame'>\n",
      "RangeIndex: 61733 entries, 0 to 61732\n",
      "Data columns (total 4 columns):\n",
      " #   Column      Non-Null Count  Dtype \n",
      "---  ------      --------------  ----- \n",
      " 0   user_id     61733 non-null  object\n",
      " 1   first_date  61733 non-null  object\n",
      " 2   region      61733 non-null  object\n",
      " 3   device      61733 non-null  object\n",
      "dtypes: object(4)\n",
      "memory usage: 1.9+ MB\n"
     ]
    }
   ],
   "source": [
    "new_users.info()"
   ]
  },
  {
   "cell_type": "code",
   "execution_count": 7,
   "metadata": {},
   "outputs": [
    {
     "data": {
      "text/html": [
       "<div>\n",
       "<style scoped>\n",
       "    .dataframe tbody tr th:only-of-type {\n",
       "        vertical-align: middle;\n",
       "    }\n",
       "\n",
       "    .dataframe tbody tr th {\n",
       "        vertical-align: top;\n",
       "    }\n",
       "\n",
       "    .dataframe thead th {\n",
       "        text-align: right;\n",
       "    }\n",
       "</style>\n",
       "<table border=\"1\" class=\"dataframe\">\n",
       "  <thead>\n",
       "    <tr style=\"text-align: right;\">\n",
       "      <th></th>\n",
       "      <th>user_id</th>\n",
       "      <th>event_dt</th>\n",
       "      <th>event_name</th>\n",
       "      <th>details</th>\n",
       "    </tr>\n",
       "  </thead>\n",
       "  <tbody>\n",
       "    <tr>\n",
       "      <th>0</th>\n",
       "      <td>E1BDDCE0DAFA2679</td>\n",
       "      <td>2020-12-07 20:22:03</td>\n",
       "      <td>purchase</td>\n",
       "      <td>99.99</td>\n",
       "    </tr>\n",
       "    <tr>\n",
       "      <th>1</th>\n",
       "      <td>7B6452F081F49504</td>\n",
       "      <td>2020-12-07 09:22:53</td>\n",
       "      <td>purchase</td>\n",
       "      <td>9.99</td>\n",
       "    </tr>\n",
       "    <tr>\n",
       "      <th>2</th>\n",
       "      <td>9CD9F34546DF254C</td>\n",
       "      <td>2020-12-07 12:59:29</td>\n",
       "      <td>purchase</td>\n",
       "      <td>4.99</td>\n",
       "    </tr>\n",
       "    <tr>\n",
       "      <th>3</th>\n",
       "      <td>96F27A054B191457</td>\n",
       "      <td>2020-12-07 04:02:40</td>\n",
       "      <td>purchase</td>\n",
       "      <td>4.99</td>\n",
       "    </tr>\n",
       "    <tr>\n",
       "      <th>4</th>\n",
       "      <td>1FD7660FDF94CA1F</td>\n",
       "      <td>2020-12-07 10:15:09</td>\n",
       "      <td>purchase</td>\n",
       "      <td>4.99</td>\n",
       "    </tr>\n",
       "  </tbody>\n",
       "</table>\n",
       "</div>"
      ],
      "text/plain": [
       "            user_id             event_dt event_name  details\n",
       "0  E1BDDCE0DAFA2679  2020-12-07 20:22:03   purchase    99.99\n",
       "1  7B6452F081F49504  2020-12-07 09:22:53   purchase     9.99\n",
       "2  9CD9F34546DF254C  2020-12-07 12:59:29   purchase     4.99\n",
       "3  96F27A054B191457  2020-12-07 04:02:40   purchase     4.99\n",
       "4  1FD7660FDF94CA1F  2020-12-07 10:15:09   purchase     4.99"
      ]
     },
     "execution_count": 7,
     "metadata": {},
     "output_type": "execute_result"
    }
   ],
   "source": [
    "events.head()"
   ]
  },
  {
   "cell_type": "code",
   "execution_count": 8,
   "metadata": {},
   "outputs": [
    {
     "name": "stdout",
     "output_type": "stream",
     "text": [
      "<class 'pandas.core.frame.DataFrame'>\n",
      "RangeIndex: 440317 entries, 0 to 440316\n",
      "Data columns (total 4 columns):\n",
      " #   Column      Non-Null Count   Dtype  \n",
      "---  ------      --------------   -----  \n",
      " 0   user_id     440317 non-null  object \n",
      " 1   event_dt    440317 non-null  object \n",
      " 2   event_name  440317 non-null  object \n",
      " 3   details     62740 non-null   float64\n",
      "dtypes: float64(1), object(3)\n",
      "memory usage: 13.4+ MB\n"
     ]
    }
   ],
   "source": [
    "events.info()"
   ]
  },
  {
   "cell_type": "code",
   "execution_count": 9,
   "metadata": {},
   "outputs": [
    {
     "data": {
      "text/html": [
       "<div>\n",
       "<style scoped>\n",
       "    .dataframe tbody tr th:only-of-type {\n",
       "        vertical-align: middle;\n",
       "    }\n",
       "\n",
       "    .dataframe tbody tr th {\n",
       "        vertical-align: top;\n",
       "    }\n",
       "\n",
       "    .dataframe thead th {\n",
       "        text-align: right;\n",
       "    }\n",
       "</style>\n",
       "<table border=\"1\" class=\"dataframe\">\n",
       "  <thead>\n",
       "    <tr style=\"text-align: right;\">\n",
       "      <th></th>\n",
       "      <th>name</th>\n",
       "      <th>regions</th>\n",
       "      <th>start_dt</th>\n",
       "      <th>finish_dt</th>\n",
       "    </tr>\n",
       "  </thead>\n",
       "  <tbody>\n",
       "    <tr>\n",
       "      <th>0</th>\n",
       "      <td>Christmas&amp;New Year Promo</td>\n",
       "      <td>EU, N.America</td>\n",
       "      <td>2020-12-25</td>\n",
       "      <td>2021-01-03</td>\n",
       "    </tr>\n",
       "    <tr>\n",
       "      <th>1</th>\n",
       "      <td>St. Valentine's Day Giveaway</td>\n",
       "      <td>EU, CIS, APAC, N.America</td>\n",
       "      <td>2020-02-14</td>\n",
       "      <td>2020-02-16</td>\n",
       "    </tr>\n",
       "    <tr>\n",
       "      <th>2</th>\n",
       "      <td>St. Patric's Day Promo</td>\n",
       "      <td>EU, N.America</td>\n",
       "      <td>2020-03-17</td>\n",
       "      <td>2020-03-19</td>\n",
       "    </tr>\n",
       "    <tr>\n",
       "      <th>3</th>\n",
       "      <td>Easter Promo</td>\n",
       "      <td>EU, CIS, APAC, N.America</td>\n",
       "      <td>2020-04-12</td>\n",
       "      <td>2020-04-19</td>\n",
       "    </tr>\n",
       "    <tr>\n",
       "      <th>4</th>\n",
       "      <td>4th of July Promo</td>\n",
       "      <td>N.America</td>\n",
       "      <td>2020-07-04</td>\n",
       "      <td>2020-07-11</td>\n",
       "    </tr>\n",
       "  </tbody>\n",
       "</table>\n",
       "</div>"
      ],
      "text/plain": [
       "                           name                   regions    start_dt  \\\n",
       "0      Christmas&New Year Promo             EU, N.America  2020-12-25   \n",
       "1  St. Valentine's Day Giveaway  EU, CIS, APAC, N.America  2020-02-14   \n",
       "2        St. Patric's Day Promo             EU, N.America  2020-03-17   \n",
       "3                  Easter Promo  EU, CIS, APAC, N.America  2020-04-12   \n",
       "4             4th of July Promo                 N.America  2020-07-04   \n",
       "\n",
       "    finish_dt  \n",
       "0  2021-01-03  \n",
       "1  2020-02-16  \n",
       "2  2020-03-19  \n",
       "3  2020-04-19  \n",
       "4  2020-07-11  "
      ]
     },
     "execution_count": 9,
     "metadata": {},
     "output_type": "execute_result"
    }
   ],
   "source": [
    "marketing_events.head()"
   ]
  },
  {
   "cell_type": "code",
   "execution_count": 10,
   "metadata": {},
   "outputs": [
    {
     "name": "stdout",
     "output_type": "stream",
     "text": [
      "<class 'pandas.core.frame.DataFrame'>\n",
      "RangeIndex: 14 entries, 0 to 13\n",
      "Data columns (total 4 columns):\n",
      " #   Column     Non-Null Count  Dtype \n",
      "---  ------     --------------  ----- \n",
      " 0   name       14 non-null     object\n",
      " 1   regions    14 non-null     object\n",
      " 2   start_dt   14 non-null     object\n",
      " 3   finish_dt  14 non-null     object\n",
      "dtypes: object(4)\n",
      "memory usage: 576.0+ bytes\n"
     ]
    }
   ],
   "source": [
    "marketing_events.info()"
   ]
  },
  {
   "cell_type": "code",
   "execution_count": 11,
   "metadata": {},
   "outputs": [
    {
     "data": {
      "text/html": [
       "<div>\n",
       "<style scoped>\n",
       "    .dataframe tbody tr th:only-of-type {\n",
       "        vertical-align: middle;\n",
       "    }\n",
       "\n",
       "    .dataframe tbody tr th {\n",
       "        vertical-align: top;\n",
       "    }\n",
       "\n",
       "    .dataframe thead th {\n",
       "        text-align: right;\n",
       "    }\n",
       "</style>\n",
       "<table border=\"1\" class=\"dataframe\">\n",
       "  <thead>\n",
       "    <tr style=\"text-align: right;\">\n",
       "      <th></th>\n",
       "      <th>user_id</th>\n",
       "      <th>event_dt</th>\n",
       "      <th>details</th>\n",
       "    </tr>\n",
       "    <tr>\n",
       "      <th>event_name</th>\n",
       "      <th></th>\n",
       "      <th></th>\n",
       "      <th></th>\n",
       "    </tr>\n",
       "  </thead>\n",
       "  <tbody>\n",
       "    <tr>\n",
       "      <th>login</th>\n",
       "      <td>189552</td>\n",
       "      <td>189552</td>\n",
       "      <td>0</td>\n",
       "    </tr>\n",
       "    <tr>\n",
       "      <th>product_cart</th>\n",
       "      <td>62462</td>\n",
       "      <td>62462</td>\n",
       "      <td>0</td>\n",
       "    </tr>\n",
       "    <tr>\n",
       "      <th>product_page</th>\n",
       "      <td>125563</td>\n",
       "      <td>125563</td>\n",
       "      <td>0</td>\n",
       "    </tr>\n",
       "    <tr>\n",
       "      <th>purchase</th>\n",
       "      <td>62740</td>\n",
       "      <td>62740</td>\n",
       "      <td>62740</td>\n",
       "    </tr>\n",
       "  </tbody>\n",
       "</table>\n",
       "</div>"
      ],
      "text/plain": [
       "              user_id  event_dt  details\n",
       "event_name                              \n",
       "login          189552    189552        0\n",
       "product_cart    62462     62462        0\n",
       "product_page   125563    125563        0\n",
       "purchase        62740     62740    62740"
      ]
     },
     "execution_count": 11,
     "metadata": {},
     "output_type": "execute_result"
    }
   ],
   "source": [
    "events.groupby('event_name').agg('count')"
   ]
  },
  {
   "cell_type": "markdown",
   "metadata": {},
   "source": [
    "<div style=\"border:solid blue 1px; padding: 20px\"> \n",
    "Пропусков в данных нет, кроме колонки details в таблице events. Это обусловлено тем, что в ней проставляется сумма покупки, то есть когда наблюдаемое событие - purchase"
   ]
  },
  {
   "cell_type": "markdown",
   "metadata": {},
   "source": [
    "<div style=\"border:solid blue 1px; padding: 20px\"> \n",
    "Заполним эти пропуски нулями"
   ]
  },
  {
   "cell_type": "code",
   "execution_count": 12,
   "metadata": {},
   "outputs": [],
   "source": [
    "events = events.fillna(0)"
   ]
  },
  {
   "cell_type": "code",
   "execution_count": 13,
   "metadata": {},
   "outputs": [
    {
     "name": "stdout",
     "output_type": "stream",
     "text": [
      "<class 'pandas.core.frame.DataFrame'>\n",
      "RangeIndex: 440317 entries, 0 to 440316\n",
      "Data columns (total 4 columns):\n",
      " #   Column      Non-Null Count   Dtype  \n",
      "---  ------      --------------   -----  \n",
      " 0   user_id     440317 non-null  object \n",
      " 1   event_dt    440317 non-null  object \n",
      " 2   event_name  440317 non-null  object \n",
      " 3   details     440317 non-null  float64\n",
      "dtypes: float64(1), object(3)\n",
      "memory usage: 13.4+ MB\n"
     ]
    }
   ],
   "source": [
    "events.info()"
   ]
  },
  {
   "cell_type": "markdown",
   "metadata": {},
   "source": [
    "<div style=\"border:solid blue 1px; padding: 20px\"> \n",
    "Далее проверим данные на дубликаты"
   ]
  },
  {
   "cell_type": "code",
   "execution_count": 14,
   "metadata": {},
   "outputs": [
    {
     "data": {
      "text/plain": [
       "array(['A', 'B'], dtype=object)"
      ]
     },
     "execution_count": 14,
     "metadata": {},
     "output_type": "execute_result"
    }
   ],
   "source": [
    "participants['group'].unique()"
   ]
  },
  {
   "cell_type": "code",
   "execution_count": 15,
   "metadata": {},
   "outputs": [
    {
     "data": {
      "text/plain": [
       "array(['recommender_system_test', 'interface_eu_test'], dtype=object)"
      ]
     },
     "execution_count": 15,
     "metadata": {},
     "output_type": "execute_result"
    }
   ],
   "source": [
    "participants['ab_test'].unique()"
   ]
  },
  {
   "cell_type": "code",
   "execution_count": 16,
   "metadata": {},
   "outputs": [
    {
     "data": {
      "text/plain": [
       "array(['EU', 'N.America', 'APAC', 'CIS'], dtype=object)"
      ]
     },
     "execution_count": 16,
     "metadata": {},
     "output_type": "execute_result"
    }
   ],
   "source": [
    "new_users['region'].unique()"
   ]
  },
  {
   "cell_type": "code",
   "execution_count": 17,
   "metadata": {},
   "outputs": [
    {
     "data": {
      "text/plain": [
       "array(['PC', 'Android', 'iPhone', 'Mac'], dtype=object)"
      ]
     },
     "execution_count": 17,
     "metadata": {},
     "output_type": "execute_result"
    }
   ],
   "source": [
    "new_users['device'].unique()"
   ]
  },
  {
   "cell_type": "code",
   "execution_count": 18,
   "metadata": {},
   "outputs": [
    {
     "data": {
      "text/plain": [
       "array(['purchase', 'product_cart', 'product_page', 'login'], dtype=object)"
      ]
     },
     "execution_count": 18,
     "metadata": {},
     "output_type": "execute_result"
    }
   ],
   "source": [
    "events['event_name'].unique()"
   ]
  },
  {
   "cell_type": "code",
   "execution_count": 19,
   "metadata": {},
   "outputs": [
    {
     "data": {
      "text/plain": [
       "array(['Christmas&New Year Promo', \"St. Valentine's Day Giveaway\",\n",
       "       \"St. Patric's Day Promo\", 'Easter Promo', '4th of July Promo',\n",
       "       'Black Friday Ads Campaign', 'Chinese New Year Promo',\n",
       "       'Labor day (May 1st) Ads Campaign',\n",
       "       \"International Women's Day Promo\",\n",
       "       'Victory Day CIS (May 9th) Event', 'CIS New Year Gift Lottery',\n",
       "       'Dragon Boat Festival Giveaway', \"Single's Day Gift Promo\",\n",
       "       'Chinese Moon Festival'], dtype=object)"
      ]
     },
     "execution_count": 19,
     "metadata": {},
     "output_type": "execute_result"
    }
   ],
   "source": [
    "marketing_events['name'].unique()"
   ]
  },
  {
   "cell_type": "code",
   "execution_count": 20,
   "metadata": {},
   "outputs": [
    {
     "data": {
      "text/plain": [
       "array(['EU, N.America', 'EU, CIS, APAC, N.America', 'N.America', 'APAC',\n",
       "       'EU, CIS, APAC', 'CIS'], dtype=object)"
      ]
     },
     "execution_count": 20,
     "metadata": {},
     "output_type": "execute_result"
    }
   ],
   "source": [
    "marketing_events['regions'].unique()"
   ]
  },
  {
   "cell_type": "markdown",
   "metadata": {},
   "source": [
    "<div style=\"border:solid blue 1px; padding: 20px\"> \n",
    "Неявных дубликатов не обнаружено"
   ]
  },
  {
   "cell_type": "code",
   "execution_count": 21,
   "metadata": {},
   "outputs": [
    {
     "data": {
      "text/plain": [
       "0"
      ]
     },
     "execution_count": 21,
     "metadata": {},
     "output_type": "execute_result"
    }
   ],
   "source": [
    "participants.duplicated().sum()"
   ]
  },
  {
   "cell_type": "code",
   "execution_count": 22,
   "metadata": {},
   "outputs": [
    {
     "data": {
      "text/plain": [
       "0"
      ]
     },
     "execution_count": 22,
     "metadata": {},
     "output_type": "execute_result"
    }
   ],
   "source": [
    "new_users.duplicated().sum()"
   ]
  },
  {
   "cell_type": "code",
   "execution_count": 23,
   "metadata": {},
   "outputs": [
    {
     "data": {
      "text/plain": [
       "0"
      ]
     },
     "execution_count": 23,
     "metadata": {},
     "output_type": "execute_result"
    }
   ],
   "source": [
    "events.duplicated().sum()"
   ]
  },
  {
   "cell_type": "code",
   "execution_count": 24,
   "metadata": {},
   "outputs": [
    {
     "data": {
      "text/plain": [
       "0"
      ]
     },
     "execution_count": 24,
     "metadata": {},
     "output_type": "execute_result"
    }
   ],
   "source": [
    "marketing_events.duplicated().sum()"
   ]
  },
  {
   "cell_type": "markdown",
   "metadata": {},
   "source": [
    "<div style=\"border:solid blue 1px; padding: 20px\"> \n",
    "Явных дубликатов также не обнаружено"
   ]
  },
  {
   "cell_type": "code",
   "execution_count": 25,
   "metadata": {},
   "outputs": [
    {
     "data": {
      "text/plain": [
       "0"
      ]
     },
     "execution_count": 25,
     "metadata": {},
     "output_type": "execute_result"
    }
   ],
   "source": [
    "new_users['user_id'].duplicated().sum()"
   ]
  },
  {
   "cell_type": "markdown",
   "metadata": {},
   "source": [
    "<div style=\"border:solid blue 1px; padding: 20px\"> \n",
    "По всем пользователям отображена одна дата регистрации"
   ]
  },
  {
   "cell_type": "markdown",
   "metadata": {},
   "source": [
    "<div style=\"border:solid blue 1px; padding: 20px\"> \n",
    "Преобразуем тип данных даты в таблицах new_users, events, marketing_events"
   ]
  },
  {
   "cell_type": "code",
   "execution_count": 26,
   "metadata": {},
   "outputs": [],
   "source": [
    "new_users['first_date'] = pd.to_datetime(new_users['first_date'], format=\"%Y-%m-%d\")"
   ]
  },
  {
   "cell_type": "code",
   "execution_count": 27,
   "metadata": {},
   "outputs": [
    {
     "name": "stdout",
     "output_type": "stream",
     "text": [
      "<class 'pandas.core.frame.DataFrame'>\n",
      "RangeIndex: 61733 entries, 0 to 61732\n",
      "Data columns (total 4 columns):\n",
      " #   Column      Non-Null Count  Dtype         \n",
      "---  ------      --------------  -----         \n",
      " 0   user_id     61733 non-null  object        \n",
      " 1   first_date  61733 non-null  datetime64[ns]\n",
      " 2   region      61733 non-null  object        \n",
      " 3   device      61733 non-null  object        \n",
      "dtypes: datetime64[ns](1), object(3)\n",
      "memory usage: 1.9+ MB\n"
     ]
    }
   ],
   "source": [
    "new_users.info()"
   ]
  },
  {
   "cell_type": "code",
   "execution_count": 28,
   "metadata": {},
   "outputs": [],
   "source": [
    "events['event_dt'] = pd.to_datetime(events['event_dt'], format=\"%Y-%m-%d %H:%M:%S\")"
   ]
  },
  {
   "cell_type": "code",
   "execution_count": 29,
   "metadata": {},
   "outputs": [
    {
     "name": "stdout",
     "output_type": "stream",
     "text": [
      "<class 'pandas.core.frame.DataFrame'>\n",
      "RangeIndex: 440317 entries, 0 to 440316\n",
      "Data columns (total 4 columns):\n",
      " #   Column      Non-Null Count   Dtype         \n",
      "---  ------      --------------   -----         \n",
      " 0   user_id     440317 non-null  object        \n",
      " 1   event_dt    440317 non-null  datetime64[ns]\n",
      " 2   event_name  440317 non-null  object        \n",
      " 3   details     440317 non-null  float64       \n",
      "dtypes: datetime64[ns](1), float64(1), object(2)\n",
      "memory usage: 13.4+ MB\n"
     ]
    }
   ],
   "source": [
    "events.info()"
   ]
  },
  {
   "cell_type": "code",
   "execution_count": 30,
   "metadata": {},
   "outputs": [],
   "source": [
    "marketing_events['start_dt'] = pd.to_datetime(marketing_events['start_dt'], format=\"%Y-%m-%d\")\n",
    "marketing_events['finish_dt'] = pd.to_datetime(marketing_events['finish_dt'], format=\"%Y-%m-%d\")"
   ]
  },
  {
   "cell_type": "code",
   "execution_count": 31,
   "metadata": {},
   "outputs": [
    {
     "name": "stdout",
     "output_type": "stream",
     "text": [
      "<class 'pandas.core.frame.DataFrame'>\n",
      "RangeIndex: 14 entries, 0 to 13\n",
      "Data columns (total 4 columns):\n",
      " #   Column     Non-Null Count  Dtype         \n",
      "---  ------     --------------  -----         \n",
      " 0   name       14 non-null     object        \n",
      " 1   regions    14 non-null     object        \n",
      " 2   start_dt   14 non-null     datetime64[ns]\n",
      " 3   finish_dt  14 non-null     datetime64[ns]\n",
      "dtypes: datetime64[ns](2), object(2)\n",
      "memory usage: 576.0+ bytes\n"
     ]
    }
   ],
   "source": [
    "marketing_events.info()"
   ]
  },
  {
   "cell_type": "markdown",
   "metadata": {},
   "source": [
    "### Вывод"
   ]
  },
  {
   "cell_type": "markdown",
   "metadata": {},
   "source": [
    "<div style=\"border:solid blue 1px; padding: 20px\"> \n",
    "Для оценки результатов AB теста представлены 4 таблицы с данными: календарь маркетинговых событий на 2020 год; список пользователей, зарегистрировавшиеся с 7 по 21 декабря 2020 года; действия новых пользователей в период с 7 декабря 2020 по 4 января 2021 года и таблица участников тестов. Пропуски в данных не обнаружены, кроме столбца details таблицы с действиями пользователей. Это обусловлено тем, что данный столбец заполняется только в случае совершении покупки (в нем проставляется цена). Дубликаты, как явные, так и неявные также не были обнаружены."
   ]
  },
  {
   "cell_type": "markdown",
   "metadata": {},
   "source": [
    "## Оценка корректности проведения теста"
   ]
  },
  {
   "cell_type": "markdown",
   "metadata": {},
   "source": [
    "<div style=\"border:solid blue 1px; padding: 20px\"> \n",
    "Проверим проведенный тест на соотвествие техническому заданию"
   ]
  },
  {
   "cell_type": "markdown",
   "metadata": {},
   "source": [
    "### Соответствие ТЗ"
   ]
  },
  {
   "cell_type": "markdown",
   "metadata": {},
   "source": [
    "<div style=\"border:solid blue 1px; padding: 20px\"> \n",
    "<b>1) Название теста: recommender_system_test</b>"
   ]
  },
  {
   "cell_type": "markdown",
   "metadata": {},
   "source": [
    "<div style=\"border:solid blue 1px; padding: 20px\"> \n",
    "Как мы видели на предыдущем этапе, при проверке на наличии дубликатов, в таблице участников теста указаны 2 AB теста - 'recommender_system_test', 'interface_eu_test'"
   ]
  },
  {
   "cell_type": "code",
   "execution_count": 32,
   "metadata": {},
   "outputs": [
    {
     "data": {
      "text/html": [
       "<div>\n",
       "<style scoped>\n",
       "    .dataframe tbody tr th:only-of-type {\n",
       "        vertical-align: middle;\n",
       "    }\n",
       "\n",
       "    .dataframe tbody tr th {\n",
       "        vertical-align: top;\n",
       "    }\n",
       "\n",
       "    .dataframe thead th {\n",
       "        text-align: right;\n",
       "    }\n",
       "</style>\n",
       "<table border=\"1\" class=\"dataframe\">\n",
       "  <thead>\n",
       "    <tr style=\"text-align: right;\">\n",
       "      <th></th>\n",
       "      <th>user_id</th>\n",
       "    </tr>\n",
       "    <tr>\n",
       "      <th>ab_test</th>\n",
       "      <th></th>\n",
       "    </tr>\n",
       "  </thead>\n",
       "  <tbody>\n",
       "    <tr>\n",
       "      <th>interface_eu_test</th>\n",
       "      <td>11567</td>\n",
       "    </tr>\n",
       "    <tr>\n",
       "      <th>recommender_system_test</th>\n",
       "      <td>6701</td>\n",
       "    </tr>\n",
       "  </tbody>\n",
       "</table>\n",
       "</div>"
      ],
      "text/plain": [
       "                         user_id\n",
       "ab_test                         \n",
       "interface_eu_test          11567\n",
       "recommender_system_test     6701"
      ]
     },
     "execution_count": 32,
     "metadata": {},
     "output_type": "execute_result"
    }
   ],
   "source": [
    "participants.groupby('ab_test').agg({'user_id':'count'})"
   ]
  },
  {
   "cell_type": "markdown",
   "metadata": {},
   "source": [
    "<div style=\"border:solid blue 1px; padding: 20px\"> \n",
    "Их них 11567 человек участовали в тесте interface_eu_test, а 6701 - в нашем тесте, recommender_system_test"
   ]
  },
  {
   "cell_type": "markdown",
   "metadata": {},
   "source": [
    "<div style=\"border:solid blue 1px; padding: 20px\"> \n",
    "Для дальнейшей проверки отберем только user_id пользователей, участвовавших в нашем тесте и объединим данные из таблиц с действиями и информацией о новых пользователях"
   ]
  },
  {
   "cell_type": "code",
   "execution_count": 33,
   "metadata": {},
   "outputs": [],
   "source": [
    "true_participants = participants.query('ab_test == \"recommender_system_test\"')"
   ]
  },
  {
   "cell_type": "code",
   "execution_count": 34,
   "metadata": {},
   "outputs": [
    {
     "data": {
      "text/plain": [
       "array(['recommender_system_test'], dtype=object)"
      ]
     },
     "execution_count": 34,
     "metadata": {},
     "output_type": "execute_result"
    }
   ],
   "source": [
    "true_participants['ab_test'].unique()"
   ]
  },
  {
   "cell_type": "code",
   "execution_count": 35,
   "metadata": {},
   "outputs": [],
   "source": [
    "all_data = true_participants.merge(events, on='user_id', how='left')"
   ]
  },
  {
   "cell_type": "code",
   "execution_count": 36,
   "metadata": {},
   "outputs": [],
   "source": [
    "all_data = all_data.merge(new_users, on='user_id', how='left')"
   ]
  },
  {
   "cell_type": "code",
   "execution_count": 37,
   "metadata": {},
   "outputs": [
    {
     "name": "stdout",
     "output_type": "stream",
     "text": [
      "<class 'pandas.core.frame.DataFrame'>\n",
      "Int64Index: 27724 entries, 0 to 27723\n",
      "Data columns (total 9 columns):\n",
      " #   Column      Non-Null Count  Dtype         \n",
      "---  ------      --------------  -----         \n",
      " 0   user_id     27724 non-null  object        \n",
      " 1   group       27724 non-null  object        \n",
      " 2   ab_test     27724 non-null  object        \n",
      " 3   event_dt    24698 non-null  datetime64[ns]\n",
      " 4   event_name  24698 non-null  object        \n",
      " 5   details     24698 non-null  float64       \n",
      " 6   first_date  27724 non-null  datetime64[ns]\n",
      " 7   region      27724 non-null  object        \n",
      " 8   device      27724 non-null  object        \n",
      "dtypes: datetime64[ns](2), float64(1), object(6)\n",
      "memory usage: 2.1+ MB\n"
     ]
    }
   ],
   "source": [
    "all_data.info()"
   ]
  },
  {
   "cell_type": "markdown",
   "metadata": {},
   "source": [
    "<div style=\"border:solid blue 1px; padding: 20px\"> \n",
    "Похоже, что не все пользователи совершали действия после регистрации"
   ]
  },
  {
   "cell_type": "markdown",
   "metadata": {},
   "source": [
    "<div style=\"border:solid blue 1px; padding: 20px\"> \n",
    "<b>2) Дата запуска: 2020-12-07;</b>"
   ]
  },
  {
   "cell_type": "code",
   "execution_count": 38,
   "metadata": {},
   "outputs": [
    {
     "data": {
      "text/plain": [
       "Timestamp('2020-12-07 00:05:57')"
      ]
     },
     "execution_count": 38,
     "metadata": {},
     "output_type": "execute_result"
    }
   ],
   "source": [
    "all_data['event_dt'].min()"
   ]
  },
  {
   "cell_type": "code",
   "execution_count": 39,
   "metadata": {},
   "outputs": [
    {
     "data": {
      "text/plain": [
       "Timestamp('2020-12-07 00:00:00')"
      ]
     },
     "execution_count": 39,
     "metadata": {},
     "output_type": "execute_result"
    }
   ],
   "source": [
    "all_data['first_date'].min()"
   ]
  },
  {
   "cell_type": "markdown",
   "metadata": {},
   "source": [
    "<div style=\"border:solid blue 1px; padding: 20px\"> \n",
    "Дата запуска действительно 7 декабря 2020 года"
   ]
  },
  {
   "cell_type": "markdown",
   "metadata": {},
   "source": [
    "<div style=\"border:solid blue 1px; padding: 20px\"> \n",
    "<b>3) Дата остановки набора новых пользователей: 2020-12-21;</b>"
   ]
  },
  {
   "cell_type": "code",
   "execution_count": 40,
   "metadata": {},
   "outputs": [
    {
     "data": {
      "text/plain": [
       "Timestamp('2020-12-21 00:00:00')"
      ]
     },
     "execution_count": 40,
     "metadata": {},
     "output_type": "execute_result"
    }
   ],
   "source": [
    "all_data['first_date'].max()"
   ]
  },
  {
   "cell_type": "markdown",
   "metadata": {},
   "source": [
    "<div style=\"border:solid blue 1px; padding: 20px\"> \n",
    "Последний пользователь действительно зарегистрировался 21 декабря"
   ]
  },
  {
   "cell_type": "markdown",
   "metadata": {},
   "source": [
    "<div style=\"border:solid blue 1px; padding: 20px\"> \n",
    "<b>4) Дата остановки: 2021-01-04;</b>"
   ]
  },
  {
   "cell_type": "code",
   "execution_count": 41,
   "metadata": {},
   "outputs": [
    {
     "data": {
      "text/plain": [
       "Timestamp('2020-12-30 12:42:57')"
      ]
     },
     "execution_count": 41,
     "metadata": {},
     "output_type": "execute_result"
    }
   ],
   "source": [
    "all_data['event_dt'].max()"
   ]
  },
  {
   "cell_type": "markdown",
   "metadata": {},
   "source": [
    "<div style=\"border:solid blue 1px; padding: 20px\"> \n",
    "Последнее событие произошло 30 декабря 2020 года"
   ]
  },
  {
   "cell_type": "markdown",
   "metadata": {},
   "source": [
    "<div style=\"border:solid blue 1px; padding: 20px\"> \n",
    "<b>5) Аудитория: 15% новых пользователей из региона EU;</b>"
   ]
  },
  {
   "cell_type": "code",
   "execution_count": 42,
   "metadata": {},
   "outputs": [
    {
     "data": {
      "text/html": [
       "<div>\n",
       "<style scoped>\n",
       "    .dataframe tbody tr th:only-of-type {\n",
       "        vertical-align: middle;\n",
       "    }\n",
       "\n",
       "    .dataframe tbody tr th {\n",
       "        vertical-align: top;\n",
       "    }\n",
       "\n",
       "    .dataframe thead th {\n",
       "        text-align: right;\n",
       "    }\n",
       "</style>\n",
       "<table border=\"1\" class=\"dataframe\">\n",
       "  <thead>\n",
       "    <tr style=\"text-align: right;\">\n",
       "      <th></th>\n",
       "      <th>user_id</th>\n",
       "    </tr>\n",
       "    <tr>\n",
       "      <th>region</th>\n",
       "      <th></th>\n",
       "    </tr>\n",
       "  </thead>\n",
       "  <tbody>\n",
       "    <tr>\n",
       "      <th>APAC</th>\n",
       "      <td>72</td>\n",
       "    </tr>\n",
       "    <tr>\n",
       "      <th>CIS</th>\n",
       "      <td>55</td>\n",
       "    </tr>\n",
       "    <tr>\n",
       "      <th>EU</th>\n",
       "      <td>6351</td>\n",
       "    </tr>\n",
       "    <tr>\n",
       "      <th>N.America</th>\n",
       "      <td>223</td>\n",
       "    </tr>\n",
       "  </tbody>\n",
       "</table>\n",
       "</div>"
      ],
      "text/plain": [
       "           user_id\n",
       "region            \n",
       "APAC            72\n",
       "CIS             55\n",
       "EU            6351\n",
       "N.America      223"
      ]
     },
     "execution_count": 42,
     "metadata": {},
     "output_type": "execute_result"
    }
   ],
   "source": [
    "all_data.groupby('region').agg({'user_id':'nunique'})"
   ]
  },
  {
   "cell_type": "markdown",
   "metadata": {},
   "source": [
    "<div style=\"border:solid blue 1px; padding: 20px\"> \n",
    "Большая часть участников теста из Европы- 6351 человек из 6701 (~ 95%), но также есть 223 пользователя из Северной Америки, 72 из Азиатско-Тихоокеанского региона и 55 из СНГ"
   ]
  },
  {
   "cell_type": "code",
   "execution_count": 43,
   "metadata": {},
   "outputs": [
    {
     "data": {
      "text/html": [
       "<div>\n",
       "<style scoped>\n",
       "    .dataframe tbody tr th:only-of-type {\n",
       "        vertical-align: middle;\n",
       "    }\n",
       "\n",
       "    .dataframe tbody tr th {\n",
       "        vertical-align: top;\n",
       "    }\n",
       "\n",
       "    .dataframe thead th {\n",
       "        text-align: right;\n",
       "    }\n",
       "</style>\n",
       "<table border=\"1\" class=\"dataframe\">\n",
       "  <thead>\n",
       "    <tr style=\"text-align: right;\">\n",
       "      <th></th>\n",
       "      <th>user_id</th>\n",
       "    </tr>\n",
       "    <tr>\n",
       "      <th>region</th>\n",
       "      <th></th>\n",
       "    </tr>\n",
       "  </thead>\n",
       "  <tbody>\n",
       "    <tr>\n",
       "      <th>APAC</th>\n",
       "      <td>3153</td>\n",
       "    </tr>\n",
       "    <tr>\n",
       "      <th>CIS</th>\n",
       "      <td>3155</td>\n",
       "    </tr>\n",
       "    <tr>\n",
       "      <th>EU</th>\n",
       "      <td>46270</td>\n",
       "    </tr>\n",
       "    <tr>\n",
       "      <th>N.America</th>\n",
       "      <td>9155</td>\n",
       "    </tr>\n",
       "  </tbody>\n",
       "</table>\n",
       "</div>"
      ],
      "text/plain": [
       "           user_id\n",
       "region            \n",
       "APAC          3153\n",
       "CIS           3155\n",
       "EU           46270\n",
       "N.America     9155"
      ]
     },
     "execution_count": 43,
     "metadata": {},
     "output_type": "execute_result"
    }
   ],
   "source": [
    "new_users.pivot_table(index='region', values='user_id', aggfunc='nunique')"
   ]
  },
  {
   "cell_type": "markdown",
   "metadata": {},
   "source": [
    "<div style=\"border:solid blue 1px; padding: 20px\"> \n",
    "Всего 46270 пользователей зарегистрировались из Европы, 9155 из Северной Америки, 3155 из СНГ и 3153 из Азиатско-Тихоокеанского региона"
   ]
  },
  {
   "cell_type": "code",
   "execution_count": 44,
   "metadata": {},
   "outputs": [
    {
     "data": {
      "text/plain": [
       "user_id    6940.5\n",
       "dtype: float64"
      ]
     },
     "execution_count": 44,
     "metadata": {},
     "output_type": "execute_result"
    }
   ],
   "source": [
    "new_users[new_users['region']=='EU'].agg({'user_id':'nunique'})*0.15"
   ]
  },
  {
   "cell_type": "code",
   "execution_count": 45,
   "metadata": {},
   "outputs": [
    {
     "data": {
      "text/plain": [
       "user_id    13.725956\n",
       "dtype: float64"
      ]
     },
     "execution_count": 45,
     "metadata": {},
     "output_type": "execute_result"
    }
   ],
   "source": [
    "all_data[all_data['region']=='EU'].agg({'user_id':'nunique'}) / new_users[new_users['region']=='EU'].agg({'user_id':'nunique'}) * 100"
   ]
  },
  {
   "cell_type": "markdown",
   "metadata": {},
   "source": [
    "<div style=\"border:solid blue 1px; padding: 20px\"> \n",
    "Заявленные 15% от новых европейских пользователей - 6941 человек, в нашем тесте всего участвует 6701, а из Европы всего 6351. Для дальнейшего исследования оставим только 6351 европейских пользователей (но количество будет меньше указнного в ТЗ)."
   ]
  },
  {
   "cell_type": "code",
   "execution_count": 46,
   "metadata": {},
   "outputs": [],
   "source": [
    "all_data_EU = all_data[all_data['region']=='EU']"
   ]
  },
  {
   "cell_type": "code",
   "execution_count": 47,
   "metadata": {},
   "outputs": [
    {
     "name": "stdout",
     "output_type": "stream",
     "text": [
      "<class 'pandas.core.frame.DataFrame'>\n",
      "Int64Index: 26290 entries, 0 to 26289\n",
      "Data columns (total 9 columns):\n",
      " #   Column      Non-Null Count  Dtype         \n",
      "---  ------      --------------  -----         \n",
      " 0   user_id     26290 non-null  object        \n",
      " 1   group       26290 non-null  object        \n",
      " 2   ab_test     26290 non-null  object        \n",
      " 3   event_dt    23420 non-null  datetime64[ns]\n",
      " 4   event_name  23420 non-null  object        \n",
      " 5   details     23420 non-null  float64       \n",
      " 6   first_date  26290 non-null  datetime64[ns]\n",
      " 7   region      26290 non-null  object        \n",
      " 8   device      26290 non-null  object        \n",
      "dtypes: datetime64[ns](2), float64(1), object(6)\n",
      "memory usage: 2.0+ MB\n"
     ]
    }
   ],
   "source": [
    "all_data_EU.info()"
   ]
  },
  {
   "cell_type": "code",
   "execution_count": 48,
   "metadata": {},
   "outputs": [
    {
     "data": {
      "text/plain": [
       "6351"
      ]
     },
     "execution_count": 48,
     "metadata": {},
     "output_type": "execute_result"
    }
   ],
   "source": [
    "all_data_EU['user_id'].nunique()"
   ]
  },
  {
   "cell_type": "code",
   "execution_count": 49,
   "metadata": {},
   "outputs": [],
   "source": [
    "all_data_EU_check = all_data_EU.fillna(\"no\")"
   ]
  },
  {
   "cell_type": "code",
   "execution_count": 50,
   "metadata": {},
   "outputs": [
    {
     "data": {
      "text/plain": [
       "user_id    2870\n",
       "dtype: int64"
      ]
     },
     "execution_count": 50,
     "metadata": {},
     "output_type": "execute_result"
    }
   ],
   "source": [
    "all_data_EU_check[all_data_EU_check['event_name']=='no'].agg({'user_id':'nunique'})"
   ]
  },
  {
   "cell_type": "markdown",
   "metadata": {},
   "source": [
    "<div style=\"border:solid blue 1px; padding: 20px\"> \n",
    "По 2870 пользователям у нас нет данных о событиях после регистрации"
   ]
  },
  {
   "cell_type": "markdown",
   "metadata": {},
   "source": [
    "<b>6) Ожидаемое количество участников теста: 6000;</b>"
   ]
  },
  {
   "cell_type": "markdown",
   "metadata": {},
   "source": [
    "<div style=\"border:solid blue 1px; padding: 20px\"> \n",
    "В тесте участвовало на 701 человека больше (~ +11,7%), или на 351 больше, если считать от европейских пользователей (~ +5,85%)"
   ]
  },
  {
   "cell_type": "markdown",
   "metadata": {},
   "source": [
    "<b>7) Ожидаемый эффект: за 14 дней с момента регистрации пользователи покажут улучшение каждой метрики не менее, чем на 10%</b>"
   ]
  },
  {
   "cell_type": "markdown",
   "metadata": {},
   "source": [
    "<div style=\"border:solid blue 1px; padding: 20px\"> \n",
    "По ТЗ тест должен был остановиться 4 января, спустя 2 недели после окончания регистрации новых пользователей - 21 декабря. Но фактически мы видим, что тест остановился 30 декабря. Далее в период с 31 по 4 января никаких действий не совершалось. Возможно, это связяно с праздничными днями."
   ]
  },
  {
   "cell_type": "code",
   "execution_count": 51,
   "metadata": {},
   "outputs": [
    {
     "data": {
      "text/html": [
       "<div>\n",
       "<style scoped>\n",
       "    .dataframe tbody tr th:only-of-type {\n",
       "        vertical-align: middle;\n",
       "    }\n",
       "\n",
       "    .dataframe tbody tr th {\n",
       "        vertical-align: top;\n",
       "    }\n",
       "\n",
       "    .dataframe thead th {\n",
       "        text-align: right;\n",
       "    }\n",
       "</style>\n",
       "<table border=\"1\" class=\"dataframe\">\n",
       "  <thead>\n",
       "    <tr style=\"text-align: right;\">\n",
       "      <th></th>\n",
       "      <th>user_id</th>\n",
       "      <th>group</th>\n",
       "      <th>ab_test</th>\n",
       "      <th>event_dt</th>\n",
       "      <th>event_name</th>\n",
       "      <th>details</th>\n",
       "      <th>first_date</th>\n",
       "      <th>region</th>\n",
       "      <th>device</th>\n",
       "    </tr>\n",
       "  </thead>\n",
       "  <tbody>\n",
       "    <tr>\n",
       "      <th>0</th>\n",
       "      <td>D1ABA3E2887B6A73</td>\n",
       "      <td>A</td>\n",
       "      <td>recommender_system_test</td>\n",
       "      <td>2020-12-07 14:43:27</td>\n",
       "      <td>purchase</td>\n",
       "      <td>99.99</td>\n",
       "      <td>2020-12-07</td>\n",
       "      <td>EU</td>\n",
       "      <td>PC</td>\n",
       "    </tr>\n",
       "    <tr>\n",
       "      <th>1</th>\n",
       "      <td>D1ABA3E2887B6A73</td>\n",
       "      <td>A</td>\n",
       "      <td>recommender_system_test</td>\n",
       "      <td>2020-12-25 00:04:56</td>\n",
       "      <td>purchase</td>\n",
       "      <td>4.99</td>\n",
       "      <td>2020-12-07</td>\n",
       "      <td>EU</td>\n",
       "      <td>PC</td>\n",
       "    </tr>\n",
       "    <tr>\n",
       "      <th>2</th>\n",
       "      <td>D1ABA3E2887B6A73</td>\n",
       "      <td>A</td>\n",
       "      <td>recommender_system_test</td>\n",
       "      <td>2020-12-07 14:43:29</td>\n",
       "      <td>product_cart</td>\n",
       "      <td>0.00</td>\n",
       "      <td>2020-12-07</td>\n",
       "      <td>EU</td>\n",
       "      <td>PC</td>\n",
       "    </tr>\n",
       "    <tr>\n",
       "      <th>3</th>\n",
       "      <td>D1ABA3E2887B6A73</td>\n",
       "      <td>A</td>\n",
       "      <td>recommender_system_test</td>\n",
       "      <td>2020-12-25 00:04:57</td>\n",
       "      <td>product_cart</td>\n",
       "      <td>0.00</td>\n",
       "      <td>2020-12-07</td>\n",
       "      <td>EU</td>\n",
       "      <td>PC</td>\n",
       "    </tr>\n",
       "    <tr>\n",
       "      <th>4</th>\n",
       "      <td>D1ABA3E2887B6A73</td>\n",
       "      <td>A</td>\n",
       "      <td>recommender_system_test</td>\n",
       "      <td>2020-12-07 14:43:27</td>\n",
       "      <td>product_page</td>\n",
       "      <td>0.00</td>\n",
       "      <td>2020-12-07</td>\n",
       "      <td>EU</td>\n",
       "      <td>PC</td>\n",
       "    </tr>\n",
       "  </tbody>\n",
       "</table>\n",
       "</div>"
      ],
      "text/plain": [
       "            user_id group                  ab_test            event_dt  \\\n",
       "0  D1ABA3E2887B6A73     A  recommender_system_test 2020-12-07 14:43:27   \n",
       "1  D1ABA3E2887B6A73     A  recommender_system_test 2020-12-25 00:04:56   \n",
       "2  D1ABA3E2887B6A73     A  recommender_system_test 2020-12-07 14:43:29   \n",
       "3  D1ABA3E2887B6A73     A  recommender_system_test 2020-12-25 00:04:57   \n",
       "4  D1ABA3E2887B6A73     A  recommender_system_test 2020-12-07 14:43:27   \n",
       "\n",
       "     event_name  details first_date region device  \n",
       "0      purchase    99.99 2020-12-07     EU     PC  \n",
       "1      purchase     4.99 2020-12-07     EU     PC  \n",
       "2  product_cart     0.00 2020-12-07     EU     PC  \n",
       "3  product_cart     0.00 2020-12-07     EU     PC  \n",
       "4  product_page     0.00 2020-12-07     EU     PC  "
      ]
     },
     "execution_count": 51,
     "metadata": {},
     "output_type": "execute_result"
    }
   ],
   "source": [
    "all_data_EU.head()"
   ]
  },
  {
   "cell_type": "markdown",
   "metadata": {},
   "source": [
    "<div style=\"border:solid blue 1px; padding: 20px\"> \n",
    "Проверим долю пользователей, не проживших положенные согласно ТЗ 14 дней"
   ]
  },
  {
   "cell_type": "code",
   "execution_count": 52,
   "metadata": {},
   "outputs": [
    {
     "data": {
      "text/plain": [
       "user_id    0.453787\n",
       "dtype: float64"
      ]
     },
     "execution_count": 52,
     "metadata": {},
     "output_type": "execute_result"
    }
   ],
   "source": [
    "all_data_EU[all_data_EU['first_date']>\"2020-12-14\"].agg({'user_id':'nunique'})/all_data_EU.agg({'user_id':'nunique'})"
   ]
  },
  {
   "cell_type": "markdown",
   "metadata": {},
   "source": [
    "<div style=\"border:solid blue 1px; padding: 20px\"> \n",
    "Таким образом решив удалить пользователей, не проживших положенные согласно ТЗ 14 дней, мы потеряем 45% клиентов"
   ]
  },
  {
   "cell_type": "markdown",
   "metadata": {},
   "source": [
    "<div style=\"border:solid blue 1px; padding: 20px\"> \n",
    "Также проверим, сколько в среднем дней проходит с даты регистрации пользователя до совершения первого события "
   ]
  },
  {
   "cell_type": "code",
   "execution_count": 53,
   "metadata": {},
   "outputs": [],
   "source": [
    "first_event = all_data_EU.groupby(['user_id', 'first_date']).agg({'event_dt':'first'}).reset_index()"
   ]
  },
  {
   "cell_type": "code",
   "execution_count": 54,
   "metadata": {},
   "outputs": [],
   "source": [
    "first_event['diff'] = first_event['event_dt'] - first_event['first_date']"
   ]
  },
  {
   "cell_type": "code",
   "execution_count": 55,
   "metadata": {},
   "outputs": [
    {
     "data": {
      "text/plain": [
       "Timedelta('0 days 12:21:30.352197644')"
      ]
     },
     "execution_count": 55,
     "metadata": {},
     "output_type": "execute_result"
    }
   ],
   "source": [
    "first_event['diff'].mean()"
   ]
  },
  {
   "cell_type": "code",
   "execution_count": 56,
   "metadata": {},
   "outputs": [
    {
     "data": {
      "text/plain": [
       "Timedelta('0 days 00:00:05')"
      ]
     },
     "execution_count": 56,
     "metadata": {},
     "output_type": "execute_result"
    }
   ],
   "source": [
    "first_event['diff'].min()"
   ]
  },
  {
   "cell_type": "code",
   "execution_count": 57,
   "metadata": {},
   "outputs": [
    {
     "data": {
      "text/plain": [
       "Timedelta('8 days 14:08:48')"
      ]
     },
     "execution_count": 57,
     "metadata": {},
     "output_type": "execute_result"
    }
   ],
   "source": [
    "first_event['diff'].max()"
   ]
  },
  {
   "cell_type": "markdown",
   "metadata": {},
   "source": [
    "<div style=\"border:solid blue 1px; padding: 20px\"> \n",
    "Как мы видим, 14 дней не обязательны для совершения пользователем первого события. В среднем для этого необходимо 12,5 часов, минимум 5 секунд, максимум 8,5 дней.\n",
    "    \n",
    "Таким образом оставим данные таких пользователей."
   ]
  },
  {
   "cell_type": "markdown",
   "metadata": {},
   "source": [
    "<div style=\"border:solid blue 1px; padding: 20px\"> \n",
    "Проверим также, есть ли события, совершенные пользователями спустя 14 дней после регистрации"
   ]
  },
  {
   "cell_type": "code",
   "execution_count": 58,
   "metadata": {},
   "outputs": [],
   "source": [
    "last_event = all_data_EU.groupby(['user_id', 'first_date']).agg({'event_dt':'last'}).reset_index()"
   ]
  },
  {
   "cell_type": "code",
   "execution_count": 59,
   "metadata": {},
   "outputs": [
    {
     "name": "stderr",
     "output_type": "stream",
     "text": [
      "/tmp/ipykernel_32/2792481841.py:1: SettingWithCopyWarning: \n",
      "A value is trying to be set on a copy of a slice from a DataFrame.\n",
      "Try using .loc[row_indexer,col_indexer] = value instead\n",
      "\n",
      "See the caveats in the documentation: https://pandas.pydata.org/pandas-docs/stable/user_guide/indexing.html#returning-a-view-versus-a-copy\n",
      "  all_data_EU['diff'] = all_data_EU['event_dt'] - all_data_EU['first_date']\n"
     ]
    }
   ],
   "source": [
    "all_data_EU['diff'] = all_data_EU['event_dt'] - all_data_EU['first_date']"
   ]
  },
  {
   "cell_type": "code",
   "execution_count": 60,
   "metadata": {},
   "outputs": [
    {
     "data": {
      "text/plain": [
       "Timedelta('23 days 12:42:57')"
      ]
     },
     "execution_count": 60,
     "metadata": {},
     "output_type": "execute_result"
    }
   ],
   "source": [
    "all_data_EU['diff'].max()"
   ]
  },
  {
   "cell_type": "markdown",
   "metadata": {},
   "source": [
    "<div style=\"border:solid blue 1px; padding: 20px\"> \n",
    "Такие события есть. Согласно ТЗ нам необходимо оставить события в рамках 14 дней после регистрации."
   ]
  },
  {
   "cell_type": "code",
   "execution_count": 61,
   "metadata": {},
   "outputs": [],
   "source": [
    "all_data_EU_check = all_data_EU.query('diff < \"14 days\"')"
   ]
  },
  {
   "cell_type": "code",
   "execution_count": 62,
   "metadata": {},
   "outputs": [
    {
     "data": {
      "text/plain": [
       "Timedelta('13 days 23:52:52')"
      ]
     },
     "execution_count": 62,
     "metadata": {},
     "output_type": "execute_result"
    }
   ],
   "source": [
    "all_data_EU_check['diff'].max()"
   ]
  },
  {
   "cell_type": "code",
   "execution_count": 63,
   "metadata": {},
   "outputs": [
    {
     "data": {
      "text/plain": [
       "3481"
      ]
     },
     "execution_count": 63,
     "metadata": {},
     "output_type": "execute_result"
    }
   ],
   "source": [
    "all_data_EU_check['user_id'].nunique()"
   ]
  },
  {
   "cell_type": "code",
   "execution_count": 64,
   "metadata": {},
   "outputs": [
    {
     "data": {
      "text/plain": [
       "user_id    2870\n",
       "dtype: int64"
      ]
     },
     "execution_count": 64,
     "metadata": {},
     "output_type": "execute_result"
    }
   ],
   "source": [
    "all_data_EU.agg({'user_id':'nunique'}) - all_data_EU_check.agg({'user_id':'nunique'})"
   ]
  },
  {
   "cell_type": "code",
   "execution_count": 65,
   "metadata": {},
   "outputs": [
    {
     "data": {
      "text/plain": [
       "user_id    1030\n",
       "dtype: int64"
      ]
     },
     "execution_count": 65,
     "metadata": {},
     "output_type": "execute_result"
    }
   ],
   "source": [
    "all_data_EU[all_data_EU['group']=='A'].agg({'user_id':'nunique'}) - all_data_EU_check[all_data_EU_check['group']=='A'].agg({'user_id':'nunique'})"
   ]
  },
  {
   "cell_type": "code",
   "execution_count": 66,
   "metadata": {},
   "outputs": [
    {
     "data": {
      "text/plain": [
       "user_id    1840\n",
       "dtype: int64"
      ]
     },
     "execution_count": 66,
     "metadata": {},
     "output_type": "execute_result"
    }
   ],
   "source": [
    "all_data_EU[all_data_EU['group']=='B'].agg({'user_id':'nunique'}) - all_data_EU_check[all_data_EU_check['group']=='B'].agg({'user_id':'nunique'})"
   ]
  },
  {
   "cell_type": "code",
   "execution_count": 67,
   "metadata": {},
   "outputs": [
    {
     "data": {
      "text/plain": [
       "user_id    0.451897\n",
       "dtype: float64"
      ]
     },
     "execution_count": 67,
     "metadata": {},
     "output_type": "execute_result"
    }
   ],
   "source": [
    "(all_data_EU.agg({'user_id':'nunique'}) - all_data_EU_check.agg({'user_id':'nunique'})) / all_data_EU.agg({'user_id':'nunique'})"
   ]
  },
  {
   "cell_type": "markdown",
   "metadata": {},
   "source": [
    "<div style=\"border:solid blue 1px; padding: 20px\"> \n",
    "Удалив такие события, мы потерям 2870 клиентов (45%), причем большую часть из клиентов группы B. \n",
    "Как мы проверяли ранее, это пользователи, по которым нет ни одного события. Скорее всего произошел какой-то сбой, поэтому мы не дополучили данные по этим клиентам."
   ]
  },
  {
   "cell_type": "code",
   "execution_count": 68,
   "metadata": {},
   "outputs": [],
   "source": [
    "all_data_EU = all_data_EU.query('diff < \"14 days\"')"
   ]
  },
  {
   "cell_type": "markdown",
   "metadata": {},
   "source": [
    "<div style=\"border:solid blue 1px; padding: 20px\"> \n",
    "Ожидаемый эффект измерим немного позднее. Далее перейдем к проверке аудитории теста."
   ]
  },
  {
   "cell_type": "markdown",
   "metadata": {},
   "source": [
    "### Проверка аудитории теста"
   ]
  },
  {
   "cell_type": "markdown",
   "metadata": {},
   "source": [
    "<div style=\"border:solid blue 1px; padding: 20px\"> \n",
    "Проверим, есть ли среди отобранных 3481 человек одни и те же пользователи в двух группах"
   ]
  },
  {
   "cell_type": "code",
   "execution_count": 69,
   "metadata": {},
   "outputs": [
    {
     "data": {
      "text/plain": [
       "group    0\n",
       "dtype: int64"
      ]
     },
     "execution_count": 69,
     "metadata": {},
     "output_type": "execute_result"
    }
   ],
   "source": [
    "check = all_data_EU.groupby('user_id').agg({'group':'nunique'})\n",
    "check[check['group'] == 2].count()"
   ]
  },
  {
   "cell_type": "markdown",
   "metadata": {},
   "source": [
    "<div style=\"border:solid blue 1px; padding: 20px\"> \n",
    "Таких пользователей нет"
   ]
  },
  {
   "cell_type": "markdown",
   "metadata": {},
   "source": [
    "<div style=\"border:solid blue 1px; padding: 20px\"> \n",
    "Проверим, есть ли пользователи, принимавшие участие в обоих тестах"
   ]
  },
  {
   "cell_type": "code",
   "execution_count": 70,
   "metadata": {},
   "outputs": [
    {
     "data": {
      "text/plain": [
       "ab_test    1602\n",
       "dtype: int64"
      ]
     },
     "execution_count": 70,
     "metadata": {},
     "output_type": "execute_result"
    }
   ],
   "source": [
    "check_2 = participants.groupby('user_id').agg({'ab_test':'nunique'})\n",
    "check_2[check_2['ab_test'] == 2].count()"
   ]
  },
  {
   "cell_type": "markdown",
   "metadata": {},
   "source": [
    "<div style=\"border:solid blue 1px; padding: 20px\"> \n",
    "Изначально всего было таких 1602 пользователя"
   ]
  },
  {
   "cell_type": "markdown",
   "metadata": {},
   "source": [
    "<div style=\"border:solid blue 1px; padding: 20px\"> \n",
    "Проверим, как пользователи из группы B теста interface_eu_test распределены среди пользователей теста recommender_system_test"
   ]
  },
  {
   "cell_type": "code",
   "execution_count": 71,
   "metadata": {},
   "outputs": [
    {
     "data": {
      "text/html": [
       "<div>\n",
       "<style scoped>\n",
       "    .dataframe tbody tr th:only-of-type {\n",
       "        vertical-align: middle;\n",
       "    }\n",
       "\n",
       "    .dataframe tbody tr th {\n",
       "        vertical-align: top;\n",
       "    }\n",
       "\n",
       "    .dataframe thead th {\n",
       "        text-align: right;\n",
       "    }\n",
       "</style>\n",
       "<table border=\"1\" class=\"dataframe\">\n",
       "  <thead>\n",
       "    <tr style=\"text-align: right;\">\n",
       "      <th></th>\n",
       "      <th>user_id</th>\n",
       "      <th>group_x</th>\n",
       "      <th>ab_test_x</th>\n",
       "      <th>group_y</th>\n",
       "      <th>ab_test_y</th>\n",
       "      <th>event_dt</th>\n",
       "      <th>event_name</th>\n",
       "      <th>details</th>\n",
       "      <th>first_date</th>\n",
       "      <th>region</th>\n",
       "      <th>device</th>\n",
       "      <th>diff</th>\n",
       "    </tr>\n",
       "  </thead>\n",
       "  <tbody>\n",
       "    <tr>\n",
       "      <th>0</th>\n",
       "      <td>2BA8FA8754D1FE50</td>\n",
       "      <td>B</td>\n",
       "      <td>interface_eu_test</td>\n",
       "      <td>NaN</td>\n",
       "      <td>NaN</td>\n",
       "      <td>NaT</td>\n",
       "      <td>NaN</td>\n",
       "      <td>NaN</td>\n",
       "      <td>NaT</td>\n",
       "      <td>NaN</td>\n",
       "      <td>NaN</td>\n",
       "      <td>NaT</td>\n",
       "    </tr>\n",
       "    <tr>\n",
       "      <th>1</th>\n",
       "      <td>FB6F6BC119E1DBD5</td>\n",
       "      <td>B</td>\n",
       "      <td>interface_eu_test</td>\n",
       "      <td>A</td>\n",
       "      <td>recommender_system_test</td>\n",
       "      <td>2020-12-18 05:10:22</td>\n",
       "      <td>product_page</td>\n",
       "      <td>0.0</td>\n",
       "      <td>2020-12-18</td>\n",
       "      <td>EU</td>\n",
       "      <td>Android</td>\n",
       "      <td>0 days 05:10:22</td>\n",
       "    </tr>\n",
       "    <tr>\n",
       "      <th>2</th>\n",
       "      <td>FB6F6BC119E1DBD5</td>\n",
       "      <td>B</td>\n",
       "      <td>interface_eu_test</td>\n",
       "      <td>A</td>\n",
       "      <td>recommender_system_test</td>\n",
       "      <td>2020-12-24 00:41:26</td>\n",
       "      <td>product_page</td>\n",
       "      <td>0.0</td>\n",
       "      <td>2020-12-18</td>\n",
       "      <td>EU</td>\n",
       "      <td>Android</td>\n",
       "      <td>6 days 00:41:26</td>\n",
       "    </tr>\n",
       "    <tr>\n",
       "      <th>3</th>\n",
       "      <td>FB6F6BC119E1DBD5</td>\n",
       "      <td>B</td>\n",
       "      <td>interface_eu_test</td>\n",
       "      <td>A</td>\n",
       "      <td>recommender_system_test</td>\n",
       "      <td>2020-12-18 05:10:21</td>\n",
       "      <td>login</td>\n",
       "      <td>0.0</td>\n",
       "      <td>2020-12-18</td>\n",
       "      <td>EU</td>\n",
       "      <td>Android</td>\n",
       "      <td>0 days 05:10:21</td>\n",
       "    </tr>\n",
       "    <tr>\n",
       "      <th>4</th>\n",
       "      <td>FB6F6BC119E1DBD5</td>\n",
       "      <td>B</td>\n",
       "      <td>interface_eu_test</td>\n",
       "      <td>A</td>\n",
       "      <td>recommender_system_test</td>\n",
       "      <td>2020-12-24 00:41:25</td>\n",
       "      <td>login</td>\n",
       "      <td>0.0</td>\n",
       "      <td>2020-12-18</td>\n",
       "      <td>EU</td>\n",
       "      <td>Android</td>\n",
       "      <td>6 days 00:41:25</td>\n",
       "    </tr>\n",
       "  </tbody>\n",
       "</table>\n",
       "</div>"
      ],
      "text/plain": [
       "            user_id group_x          ab_test_x group_y  \\\n",
       "0  2BA8FA8754D1FE50       B  interface_eu_test     NaN   \n",
       "1  FB6F6BC119E1DBD5       B  interface_eu_test       A   \n",
       "2  FB6F6BC119E1DBD5       B  interface_eu_test       A   \n",
       "3  FB6F6BC119E1DBD5       B  interface_eu_test       A   \n",
       "4  FB6F6BC119E1DBD5       B  interface_eu_test       A   \n",
       "\n",
       "                 ab_test_y            event_dt    event_name  details  \\\n",
       "0                      NaN                 NaT           NaN      NaN   \n",
       "1  recommender_system_test 2020-12-18 05:10:22  product_page      0.0   \n",
       "2  recommender_system_test 2020-12-24 00:41:26  product_page      0.0   \n",
       "3  recommender_system_test 2020-12-18 05:10:21         login      0.0   \n",
       "4  recommender_system_test 2020-12-24 00:41:25         login      0.0   \n",
       "\n",
       "  first_date region   device            diff  \n",
       "0        NaT    NaN      NaN             NaT  \n",
       "1 2020-12-18     EU  Android 0 days 05:10:22  \n",
       "2 2020-12-18     EU  Android 6 days 00:41:26  \n",
       "3 2020-12-18     EU  Android 0 days 05:10:21  \n",
       "4 2020-12-18     EU  Android 6 days 00:41:25  "
      ]
     },
     "execution_count": 71,
     "metadata": {},
     "output_type": "execute_result"
    }
   ],
   "source": [
    "participants_interface = participants[participants['ab_test']=='interface_eu_test']\n",
    "participants_interface_B = participants_interface[participants_interface['group']=='B']\n",
    "participants_interface_B = participants_interface_B.merge(all_data_EU, on='user_id', how='left')\n",
    "participants_interface_B.head()"
   ]
  },
  {
   "cell_type": "code",
   "execution_count": 72,
   "metadata": {},
   "outputs": [
    {
     "data": {
      "text/html": [
       "<div>\n",
       "<style scoped>\n",
       "    .dataframe tbody tr th:only-of-type {\n",
       "        vertical-align: middle;\n",
       "    }\n",
       "\n",
       "    .dataframe tbody tr th {\n",
       "        vertical-align: top;\n",
       "    }\n",
       "\n",
       "    .dataframe thead th {\n",
       "        text-align: right;\n",
       "    }\n",
       "</style>\n",
       "<table border=\"1\" class=\"dataframe\">\n",
       "  <thead>\n",
       "    <tr style=\"text-align: right;\">\n",
       "      <th></th>\n",
       "      <th>user_id</th>\n",
       "    </tr>\n",
       "    <tr>\n",
       "      <th>group_y</th>\n",
       "      <th></th>\n",
       "    </tr>\n",
       "  </thead>\n",
       "  <tbody>\n",
       "    <tr>\n",
       "      <th>A</th>\n",
       "      <td>325</td>\n",
       "    </tr>\n",
       "    <tr>\n",
       "      <th>B</th>\n",
       "      <td>106</td>\n",
       "    </tr>\n",
       "  </tbody>\n",
       "</table>\n",
       "</div>"
      ],
      "text/plain": [
       "         user_id\n",
       "group_y         \n",
       "A            325\n",
       "B            106"
      ]
     },
     "execution_count": 72,
     "metadata": {},
     "output_type": "execute_result"
    }
   ],
   "source": [
    "participants_interface_B_query = participants_interface_B.query('ab_test_y == \"recommender_system_test\"')\n",
    "participants_interface_B_query.groupby('group_y').agg({'user_id':'nunique'})"
   ]
  },
  {
   "cell_type": "code",
   "execution_count": 73,
   "metadata": {},
   "outputs": [
    {
     "data": {
      "text/plain": [
       "431"
      ]
     },
     "execution_count": 73,
     "metadata": {},
     "output_type": "execute_result"
    }
   ],
   "source": [
    "participants_interface_B_query['user_id'].nunique()"
   ]
  },
  {
   "cell_type": "markdown",
   "metadata": {},
   "source": [
    "<div style=\"border:solid blue 1px; padding: 20px\"> \n",
    "Всего 431 пользователей из B группы первого теста участвовал в нашем тесте: из них 325 в группе А, а 106 в группе В. Проверим, равенство долей пропорций таких участников в двух группах нашего целевого теста."
   ]
  },
  {
   "cell_type": "code",
   "execution_count": 74,
   "metadata": {},
   "outputs": [
    {
     "data": {
      "text/html": [
       "<div>\n",
       "<style scoped>\n",
       "    .dataframe tbody tr th:only-of-type {\n",
       "        vertical-align: middle;\n",
       "    }\n",
       "\n",
       "    .dataframe tbody tr th {\n",
       "        vertical-align: top;\n",
       "    }\n",
       "\n",
       "    .dataframe thead th {\n",
       "        text-align: right;\n",
       "    }\n",
       "</style>\n",
       "<table border=\"1\" class=\"dataframe\">\n",
       "  <thead>\n",
       "    <tr style=\"text-align: right;\">\n",
       "      <th></th>\n",
       "      <th>user_id</th>\n",
       "    </tr>\n",
       "    <tr>\n",
       "      <th>group</th>\n",
       "      <th></th>\n",
       "    </tr>\n",
       "  </thead>\n",
       "  <tbody>\n",
       "    <tr>\n",
       "      <th>A</th>\n",
       "      <td>2604</td>\n",
       "    </tr>\n",
       "    <tr>\n",
       "      <th>B</th>\n",
       "      <td>877</td>\n",
       "    </tr>\n",
       "  </tbody>\n",
       "</table>\n",
       "</div>"
      ],
      "text/plain": [
       "       user_id\n",
       "group         \n",
       "A         2604\n",
       "B          877"
      ]
     },
     "execution_count": 74,
     "metadata": {},
     "output_type": "execute_result"
    }
   ],
   "source": [
    "all_data_EU.groupby('group').agg({'user_id':'nunique'})"
   ]
  },
  {
   "cell_type": "code",
   "execution_count": 75,
   "metadata": {},
   "outputs": [],
   "source": [
    "interface_B_clients = np.array([325, 106])\n",
    "total_recommender_clients = np.array([2604, 877])"
   ]
  },
  {
   "cell_type": "code",
   "execution_count": 76,
   "metadata": {},
   "outputs": [
    {
     "name": "stdout",
     "output_type": "stream",
     "text": [
      "p-значение:  0.7592221246010071\n",
      "Не получилось отвергнуть нулевую гипотезу, нет оснований считать доли разными\n"
     ]
    }
   ],
   "source": [
    "alpha = 0.05\n",
    "\n",
    "p1 = interface_B_clients[0]/total_recommender_clients[0]\n",
    "p2 = interface_B_clients[1]/total_recommender_clients[1]\n",
    "p_combined = (interface_B_clients[0]+interface_B_clients[1])/(total_recommender_clients[0]+total_recommender_clients[1])\n",
    "difference = p1-p2\n",
    "\n",
    "z_value = (difference/mth.sqrt(p_combined*(1-p_combined)*(1/total_recommender_clients[0]+1/total_recommender_clients[1])))\n",
    "distr = st.norm(0,1)\n",
    "\n",
    "p_value = (1-distr.cdf(abs(z_value))) * 2\n",
    "\n",
    "print('p-значение: ', p_value)\n",
    "\n",
    "if p_value < alpha:\n",
    "    print('Отвергаем нулевую гипотезу: между долями есть значимая разница')\n",
    "else:\n",
    "    print('Не получилось отвергнуть нулевую гипотезу, нет оснований считать доли разными')"
   ]
  },
  {
   "cell_type": "markdown",
   "metadata": {},
   "source": [
    "<div style=\"border:solid blue 1px; padding: 20px\"> \n",
    "Доли пользователей из группы В первого теста одинаковые в обеих группах нашего теста. Значит, результаты первого тестирования оказали одинаковое влияние на обе группы рассматриваемого нами тестирования. Мы можем не удалять таких пользователей."
   ]
  },
  {
   "cell_type": "markdown",
   "metadata": {},
   "source": [
    "<div style=\"border:solid blue 1px; padding: 20px\"> \n",
    "Посмотрим, как распределены участники нашего теста по группам"
   ]
  },
  {
   "cell_type": "code",
   "execution_count": 77,
   "metadata": {},
   "outputs": [
    {
     "data": {
      "text/plain": [
       "user_id    0.748061\n",
       "dtype: float64"
      ]
     },
     "metadata": {},
     "output_type": "display_data"
    },
    {
     "data": {
      "text/plain": [
       "user_id    0.251939\n",
       "dtype: float64"
      ]
     },
     "metadata": {},
     "output_type": "display_data"
    }
   ],
   "source": [
    "display(all_data_EU[all_data_EU['group']==\"A\"].agg({'user_id':'nunique'})/all_data_EU.agg({'user_id':'nunique'}))\n",
    "display(all_data_EU[all_data_EU['group']==\"B\"].agg({'user_id':'nunique'})/all_data_EU.agg({'user_id':'nunique'}))"
   ]
  },
  {
   "cell_type": "markdown",
   "metadata": {},
   "source": [
    "<div style=\"border:solid blue 1px; padding: 20px\"> \n",
    "75% - участники группы А, 25% - участники группы В. Крайне неравномерное распределение."
   ]
  },
  {
   "cell_type": "code",
   "execution_count": 78,
   "metadata": {},
   "outputs": [
    {
     "data": {
      "text/html": [
       "<div>\n",
       "<style scoped>\n",
       "    .dataframe tbody tr th:only-of-type {\n",
       "        vertical-align: middle;\n",
       "    }\n",
       "\n",
       "    .dataframe tbody tr th {\n",
       "        vertical-align: top;\n",
       "    }\n",
       "\n",
       "    .dataframe thead th {\n",
       "        text-align: right;\n",
       "    }\n",
       "</style>\n",
       "<table border=\"1\" class=\"dataframe\">\n",
       "  <thead>\n",
       "    <tr style=\"text-align: right;\">\n",
       "      <th></th>\n",
       "      <th>group</th>\n",
       "      <th>first_date</th>\n",
       "      <th>user_id</th>\n",
       "    </tr>\n",
       "  </thead>\n",
       "  <tbody>\n",
       "    <tr>\n",
       "      <th>0</th>\n",
       "      <td>A</td>\n",
       "      <td>2020-12-07</td>\n",
       "      <td>154</td>\n",
       "    </tr>\n",
       "    <tr>\n",
       "      <th>1</th>\n",
       "      <td>A</td>\n",
       "      <td>2020-12-08</td>\n",
       "      <td>90</td>\n",
       "    </tr>\n",
       "    <tr>\n",
       "      <th>2</th>\n",
       "      <td>A</td>\n",
       "      <td>2020-12-09</td>\n",
       "      <td>81</td>\n",
       "    </tr>\n",
       "    <tr>\n",
       "      <th>3</th>\n",
       "      <td>A</td>\n",
       "      <td>2020-12-10</td>\n",
       "      <td>60</td>\n",
       "    </tr>\n",
       "    <tr>\n",
       "      <th>4</th>\n",
       "      <td>A</td>\n",
       "      <td>2020-12-11</td>\n",
       "      <td>87</td>\n",
       "    </tr>\n",
       "    <tr>\n",
       "      <th>5</th>\n",
       "      <td>A</td>\n",
       "      <td>2020-12-12</td>\n",
       "      <td>61</td>\n",
       "    </tr>\n",
       "    <tr>\n",
       "      <th>6</th>\n",
       "      <td>A</td>\n",
       "      <td>2020-12-13</td>\n",
       "      <td>52</td>\n",
       "    </tr>\n",
       "    <tr>\n",
       "      <th>7</th>\n",
       "      <td>A</td>\n",
       "      <td>2020-12-14</td>\n",
       "      <td>366</td>\n",
       "    </tr>\n",
       "    <tr>\n",
       "      <th>8</th>\n",
       "      <td>A</td>\n",
       "      <td>2020-12-15</td>\n",
       "      <td>202</td>\n",
       "    </tr>\n",
       "    <tr>\n",
       "      <th>9</th>\n",
       "      <td>A</td>\n",
       "      <td>2020-12-16</td>\n",
       "      <td>160</td>\n",
       "    </tr>\n",
       "    <tr>\n",
       "      <th>10</th>\n",
       "      <td>A</td>\n",
       "      <td>2020-12-17</td>\n",
       "      <td>202</td>\n",
       "    </tr>\n",
       "    <tr>\n",
       "      <th>11</th>\n",
       "      <td>A</td>\n",
       "      <td>2020-12-18</td>\n",
       "      <td>210</td>\n",
       "    </tr>\n",
       "    <tr>\n",
       "      <th>12</th>\n",
       "      <td>A</td>\n",
       "      <td>2020-12-19</td>\n",
       "      <td>226</td>\n",
       "    </tr>\n",
       "    <tr>\n",
       "      <th>13</th>\n",
       "      <td>A</td>\n",
       "      <td>2020-12-20</td>\n",
       "      <td>255</td>\n",
       "    </tr>\n",
       "    <tr>\n",
       "      <th>14</th>\n",
       "      <td>A</td>\n",
       "      <td>2020-12-21</td>\n",
       "      <td>398</td>\n",
       "    </tr>\n",
       "    <tr>\n",
       "      <th>15</th>\n",
       "      <td>B</td>\n",
       "      <td>2020-12-07</td>\n",
       "      <td>171</td>\n",
       "    </tr>\n",
       "    <tr>\n",
       "      <th>16</th>\n",
       "      <td>B</td>\n",
       "      <td>2020-12-08</td>\n",
       "      <td>42</td>\n",
       "    </tr>\n",
       "    <tr>\n",
       "      <th>17</th>\n",
       "      <td>B</td>\n",
       "      <td>2020-12-09</td>\n",
       "      <td>80</td>\n",
       "    </tr>\n",
       "    <tr>\n",
       "      <th>18</th>\n",
       "      <td>B</td>\n",
       "      <td>2020-12-10</td>\n",
       "      <td>32</td>\n",
       "    </tr>\n",
       "    <tr>\n",
       "      <th>19</th>\n",
       "      <td>B</td>\n",
       "      <td>2020-12-11</td>\n",
       "      <td>19</td>\n",
       "    </tr>\n",
       "    <tr>\n",
       "      <th>20</th>\n",
       "      <td>B</td>\n",
       "      <td>2020-12-12</td>\n",
       "      <td>50</td>\n",
       "    </tr>\n",
       "    <tr>\n",
       "      <th>21</th>\n",
       "      <td>B</td>\n",
       "      <td>2020-12-13</td>\n",
       "      <td>14</td>\n",
       "    </tr>\n",
       "    <tr>\n",
       "      <th>22</th>\n",
       "      <td>B</td>\n",
       "      <td>2020-12-14</td>\n",
       "      <td>68</td>\n",
       "    </tr>\n",
       "    <tr>\n",
       "      <th>23</th>\n",
       "      <td>B</td>\n",
       "      <td>2020-12-15</td>\n",
       "      <td>31</td>\n",
       "    </tr>\n",
       "    <tr>\n",
       "      <th>24</th>\n",
       "      <td>B</td>\n",
       "      <td>2020-12-16</td>\n",
       "      <td>97</td>\n",
       "    </tr>\n",
       "    <tr>\n",
       "      <th>25</th>\n",
       "      <td>B</td>\n",
       "      <td>2020-12-17</td>\n",
       "      <td>36</td>\n",
       "    </tr>\n",
       "    <tr>\n",
       "      <th>26</th>\n",
       "      <td>B</td>\n",
       "      <td>2020-12-18</td>\n",
       "      <td>48</td>\n",
       "    </tr>\n",
       "    <tr>\n",
       "      <th>27</th>\n",
       "      <td>B</td>\n",
       "      <td>2020-12-19</td>\n",
       "      <td>43</td>\n",
       "    </tr>\n",
       "    <tr>\n",
       "      <th>28</th>\n",
       "      <td>B</td>\n",
       "      <td>2020-12-20</td>\n",
       "      <td>63</td>\n",
       "    </tr>\n",
       "    <tr>\n",
       "      <th>29</th>\n",
       "      <td>B</td>\n",
       "      <td>2020-12-21</td>\n",
       "      <td>83</td>\n",
       "    </tr>\n",
       "  </tbody>\n",
       "</table>\n",
       "</div>"
      ],
      "text/plain": [
       "   group first_date  user_id\n",
       "0      A 2020-12-07      154\n",
       "1      A 2020-12-08       90\n",
       "2      A 2020-12-09       81\n",
       "3      A 2020-12-10       60\n",
       "4      A 2020-12-11       87\n",
       "5      A 2020-12-12       61\n",
       "6      A 2020-12-13       52\n",
       "7      A 2020-12-14      366\n",
       "8      A 2020-12-15      202\n",
       "9      A 2020-12-16      160\n",
       "10     A 2020-12-17      202\n",
       "11     A 2020-12-18      210\n",
       "12     A 2020-12-19      226\n",
       "13     A 2020-12-20      255\n",
       "14     A 2020-12-21      398\n",
       "15     B 2020-12-07      171\n",
       "16     B 2020-12-08       42\n",
       "17     B 2020-12-09       80\n",
       "18     B 2020-12-10       32\n",
       "19     B 2020-12-11       19\n",
       "20     B 2020-12-12       50\n",
       "21     B 2020-12-13       14\n",
       "22     B 2020-12-14       68\n",
       "23     B 2020-12-15       31\n",
       "24     B 2020-12-16       97\n",
       "25     B 2020-12-17       36\n",
       "26     B 2020-12-18       48\n",
       "27     B 2020-12-19       43\n",
       "28     B 2020-12-20       63\n",
       "29     B 2020-12-21       83"
      ]
     },
     "metadata": {},
     "output_type": "display_data"
    }
   ],
   "source": [
    "registrations = (all_data_EU.pivot_table(index=['group', 'first_date'], values='user_id', aggfunc='nunique').reset_index())\n",
    "display(registrations)"
   ]
  },
  {
   "cell_type": "code",
   "execution_count": 79,
   "metadata": {},
   "outputs": [
    {
     "data": {
      "image/png": "[encoded data removed]",
      "text/plain": [
       "<Figure size 1440x1080 with 1 Axes>"
      ]
     },
     "metadata": {
      "needs_background": "light"
     },
     "output_type": "display_data"
    }
   ],
   "source": [
    "import seaborn as sns\n",
    "plt.figure(figsize=(20, 15)) \n",
    "sns.barplot(x='first_date', y='user_id', hue='group', data=registrations)\n",
    "plt.title('Количество регистраций по группам')\n",
    "plt.xticks(rotation = 45)\n",
    "plt.show()"
   ]
  },
  {
   "cell_type": "markdown",
   "metadata": {},
   "source": [
    "<div style=\"border:solid blue 1px; padding: 20px\"> \n",
    "В первый и третий день теста наблюдается примерно равное количество регистраций по группам. А вот в остальное время количество регистраций в группе А сильно превышает количество регистраций в группе В."
   ]
  },
  {
   "cell_type": "markdown",
   "metadata": {},
   "source": [
    "### Время проведения теста"
   ]
  },
  {
   "cell_type": "markdown",
   "metadata": {},
   "source": [
    "<div style=\"border:solid blue 1px; padding: 20px\"> \n",
    "Теперь проверим время проведения теста. Как мы уже выяснили, новогодние праздники оказали свое влияние и фактически тест завершился раньше, чем планировалось по ТЗ: 30 декабря вместо 4 января. Теперь проверим календарь маркетинговых событий и посмотрим, не было ли пересечений с ними. Наш тест проходит с 7 по 30 декабря."
   ]
  },
  {
   "cell_type": "code",
   "execution_count": 80,
   "metadata": {},
   "outputs": [
    {
     "data": {
      "text/html": [
       "<div>\n",
       "<style scoped>\n",
       "    .dataframe tbody tr th:only-of-type {\n",
       "        vertical-align: middle;\n",
       "    }\n",
       "\n",
       "    .dataframe tbody tr th {\n",
       "        vertical-align: top;\n",
       "    }\n",
       "\n",
       "    .dataframe thead th {\n",
       "        text-align: right;\n",
       "    }\n",
       "</style>\n",
       "<table border=\"1\" class=\"dataframe\">\n",
       "  <thead>\n",
       "    <tr style=\"text-align: right;\">\n",
       "      <th></th>\n",
       "      <th>name</th>\n",
       "      <th>regions</th>\n",
       "      <th>start_dt</th>\n",
       "      <th>finish_dt</th>\n",
       "    </tr>\n",
       "  </thead>\n",
       "  <tbody>\n",
       "    <tr>\n",
       "      <th>0</th>\n",
       "      <td>Christmas&amp;New Year Promo</td>\n",
       "      <td>EU, N.America</td>\n",
       "      <td>2020-12-25</td>\n",
       "      <td>2021-01-03</td>\n",
       "    </tr>\n",
       "    <tr>\n",
       "      <th>1</th>\n",
       "      <td>St. Valentine's Day Giveaway</td>\n",
       "      <td>EU, CIS, APAC, N.America</td>\n",
       "      <td>2020-02-14</td>\n",
       "      <td>2020-02-16</td>\n",
       "    </tr>\n",
       "    <tr>\n",
       "      <th>2</th>\n",
       "      <td>St. Patric's Day Promo</td>\n",
       "      <td>EU, N.America</td>\n",
       "      <td>2020-03-17</td>\n",
       "      <td>2020-03-19</td>\n",
       "    </tr>\n",
       "    <tr>\n",
       "      <th>3</th>\n",
       "      <td>Easter Promo</td>\n",
       "      <td>EU, CIS, APAC, N.America</td>\n",
       "      <td>2020-04-12</td>\n",
       "      <td>2020-04-19</td>\n",
       "    </tr>\n",
       "    <tr>\n",
       "      <th>4</th>\n",
       "      <td>4th of July Promo</td>\n",
       "      <td>N.America</td>\n",
       "      <td>2020-07-04</td>\n",
       "      <td>2020-07-11</td>\n",
       "    </tr>\n",
       "    <tr>\n",
       "      <th>5</th>\n",
       "      <td>Black Friday Ads Campaign</td>\n",
       "      <td>EU, CIS, APAC, N.America</td>\n",
       "      <td>2020-11-26</td>\n",
       "      <td>2020-12-01</td>\n",
       "    </tr>\n",
       "    <tr>\n",
       "      <th>6</th>\n",
       "      <td>Chinese New Year Promo</td>\n",
       "      <td>APAC</td>\n",
       "      <td>2020-01-25</td>\n",
       "      <td>2020-02-07</td>\n",
       "    </tr>\n",
       "    <tr>\n",
       "      <th>7</th>\n",
       "      <td>Labor day (May 1st) Ads Campaign</td>\n",
       "      <td>EU, CIS, APAC</td>\n",
       "      <td>2020-05-01</td>\n",
       "      <td>2020-05-03</td>\n",
       "    </tr>\n",
       "    <tr>\n",
       "      <th>8</th>\n",
       "      <td>International Women's Day Promo</td>\n",
       "      <td>EU, CIS, APAC</td>\n",
       "      <td>2020-03-08</td>\n",
       "      <td>2020-03-10</td>\n",
       "    </tr>\n",
       "    <tr>\n",
       "      <th>9</th>\n",
       "      <td>Victory Day CIS (May 9th) Event</td>\n",
       "      <td>CIS</td>\n",
       "      <td>2020-05-09</td>\n",
       "      <td>2020-05-11</td>\n",
       "    </tr>\n",
       "    <tr>\n",
       "      <th>10</th>\n",
       "      <td>CIS New Year Gift Lottery</td>\n",
       "      <td>CIS</td>\n",
       "      <td>2020-12-30</td>\n",
       "      <td>2021-01-07</td>\n",
       "    </tr>\n",
       "    <tr>\n",
       "      <th>11</th>\n",
       "      <td>Dragon Boat Festival Giveaway</td>\n",
       "      <td>APAC</td>\n",
       "      <td>2020-06-25</td>\n",
       "      <td>2020-07-01</td>\n",
       "    </tr>\n",
       "    <tr>\n",
       "      <th>12</th>\n",
       "      <td>Single's Day Gift Promo</td>\n",
       "      <td>APAC</td>\n",
       "      <td>2020-11-11</td>\n",
       "      <td>2020-11-12</td>\n",
       "    </tr>\n",
       "    <tr>\n",
       "      <th>13</th>\n",
       "      <td>Chinese Moon Festival</td>\n",
       "      <td>APAC</td>\n",
       "      <td>2020-10-01</td>\n",
       "      <td>2020-10-07</td>\n",
       "    </tr>\n",
       "  </tbody>\n",
       "</table>\n",
       "</div>"
      ],
      "text/plain": [
       "                                name                   regions   start_dt  \\\n",
       "0           Christmas&New Year Promo             EU, N.America 2020-12-25   \n",
       "1       St. Valentine's Day Giveaway  EU, CIS, APAC, N.America 2020-02-14   \n",
       "2             St. Patric's Day Promo             EU, N.America 2020-03-17   \n",
       "3                       Easter Promo  EU, CIS, APAC, N.America 2020-04-12   \n",
       "4                  4th of July Promo                 N.America 2020-07-04   \n",
       "5          Black Friday Ads Campaign  EU, CIS, APAC, N.America 2020-11-26   \n",
       "6             Chinese New Year Promo                      APAC 2020-01-25   \n",
       "7   Labor day (May 1st) Ads Campaign             EU, CIS, APAC 2020-05-01   \n",
       "8    International Women's Day Promo             EU, CIS, APAC 2020-03-08   \n",
       "9    Victory Day CIS (May 9th) Event                       CIS 2020-05-09   \n",
       "10         CIS New Year Gift Lottery                       CIS 2020-12-30   \n",
       "11     Dragon Boat Festival Giveaway                      APAC 2020-06-25   \n",
       "12           Single's Day Gift Promo                      APAC 2020-11-11   \n",
       "13             Chinese Moon Festival                      APAC 2020-10-01   \n",
       "\n",
       "    finish_dt  \n",
       "0  2021-01-03  \n",
       "1  2020-02-16  \n",
       "2  2020-03-19  \n",
       "3  2020-04-19  \n",
       "4  2020-07-11  \n",
       "5  2020-12-01  \n",
       "6  2020-02-07  \n",
       "7  2020-05-03  \n",
       "8  2020-03-10  \n",
       "9  2020-05-11  \n",
       "10 2021-01-07  \n",
       "11 2020-07-01  \n",
       "12 2020-11-12  \n",
       "13 2020-10-07  "
      ]
     },
     "execution_count": 80,
     "metadata": {},
     "output_type": "execute_result"
    }
   ],
   "source": [
    "marketing_events"
   ]
  },
  {
   "cell_type": "markdown",
   "metadata": {},
   "source": [
    "<div style=\"border:solid blue 1px; padding: 20px\"> \n",
    "С нашим тестом пересекается 1 рекламная кампания: Christmas&New Year Promo, она начинается 25 декабря и длится по 3 января. Следовательно, она могла оказать влияние на рост продаж с 25 декабря. Проверим, так ли это."
   ]
  },
  {
   "cell_type": "code",
   "execution_count": 81,
   "metadata": {},
   "outputs": [
    {
     "data": {
      "text/html": [
       "<div>\n",
       "<style scoped>\n",
       "    .dataframe tbody tr th:only-of-type {\n",
       "        vertical-align: middle;\n",
       "    }\n",
       "\n",
       "    .dataframe tbody tr th {\n",
       "        vertical-align: top;\n",
       "    }\n",
       "\n",
       "    .dataframe thead th {\n",
       "        text-align: right;\n",
       "    }\n",
       "</style>\n",
       "<table border=\"1\" class=\"dataframe\">\n",
       "  <thead>\n",
       "    <tr style=\"text-align: right;\">\n",
       "      <th></th>\n",
       "      <th>group</th>\n",
       "      <th>event_date</th>\n",
       "      <th>event_name</th>\n",
       "    </tr>\n",
       "  </thead>\n",
       "  <tbody>\n",
       "    <tr>\n",
       "      <th>0</th>\n",
       "      <td>A</td>\n",
       "      <td>2020-12-07</td>\n",
       "      <td>43</td>\n",
       "    </tr>\n",
       "    <tr>\n",
       "      <th>1</th>\n",
       "      <td>A</td>\n",
       "      <td>2020-12-08</td>\n",
       "      <td>33</td>\n",
       "    </tr>\n",
       "    <tr>\n",
       "      <th>2</th>\n",
       "      <td>A</td>\n",
       "      <td>2020-12-09</td>\n",
       "      <td>47</td>\n",
       "    </tr>\n",
       "    <tr>\n",
       "      <th>3</th>\n",
       "      <td>A</td>\n",
       "      <td>2020-12-10</td>\n",
       "      <td>42</td>\n",
       "    </tr>\n",
       "    <tr>\n",
       "      <th>4</th>\n",
       "      <td>A</td>\n",
       "      <td>2020-12-11</td>\n",
       "      <td>40</td>\n",
       "    </tr>\n",
       "    <tr>\n",
       "      <th>5</th>\n",
       "      <td>A</td>\n",
       "      <td>2020-12-12</td>\n",
       "      <td>38</td>\n",
       "    </tr>\n",
       "    <tr>\n",
       "      <th>6</th>\n",
       "      <td>A</td>\n",
       "      <td>2020-12-13</td>\n",
       "      <td>32</td>\n",
       "    </tr>\n",
       "    <tr>\n",
       "      <th>7</th>\n",
       "      <td>A</td>\n",
       "      <td>2020-12-14</td>\n",
       "      <td>133</td>\n",
       "    </tr>\n",
       "    <tr>\n",
       "      <th>8</th>\n",
       "      <td>A</td>\n",
       "      <td>2020-12-15</td>\n",
       "      <td>137</td>\n",
       "    </tr>\n",
       "    <tr>\n",
       "      <th>9</th>\n",
       "      <td>A</td>\n",
       "      <td>2020-12-16</td>\n",
       "      <td>142</td>\n",
       "    </tr>\n",
       "    <tr>\n",
       "      <th>10</th>\n",
       "      <td>A</td>\n",
       "      <td>2020-12-17</td>\n",
       "      <td>169</td>\n",
       "    </tr>\n",
       "    <tr>\n",
       "      <th>11</th>\n",
       "      <td>A</td>\n",
       "      <td>2020-12-18</td>\n",
       "      <td>165</td>\n",
       "    </tr>\n",
       "    <tr>\n",
       "      <th>12</th>\n",
       "      <td>A</td>\n",
       "      <td>2020-12-19</td>\n",
       "      <td>208</td>\n",
       "    </tr>\n",
       "    <tr>\n",
       "      <th>13</th>\n",
       "      <td>A</td>\n",
       "      <td>2020-12-20</td>\n",
       "      <td>211</td>\n",
       "    </tr>\n",
       "    <tr>\n",
       "      <th>14</th>\n",
       "      <td>A</td>\n",
       "      <td>2020-12-21</td>\n",
       "      <td>281</td>\n",
       "    </tr>\n",
       "    <tr>\n",
       "      <th>15</th>\n",
       "      <td>A</td>\n",
       "      <td>2020-12-22</td>\n",
       "      <td>162</td>\n",
       "    </tr>\n",
       "    <tr>\n",
       "      <th>16</th>\n",
       "      <td>A</td>\n",
       "      <td>2020-12-23</td>\n",
       "      <td>135</td>\n",
       "    </tr>\n",
       "    <tr>\n",
       "      <th>17</th>\n",
       "      <td>A</td>\n",
       "      <td>2020-12-24</td>\n",
       "      <td>116</td>\n",
       "    </tr>\n",
       "    <tr>\n",
       "      <th>18</th>\n",
       "      <td>A</td>\n",
       "      <td>2020-12-25</td>\n",
       "      <td>97</td>\n",
       "    </tr>\n",
       "    <tr>\n",
       "      <th>19</th>\n",
       "      <td>A</td>\n",
       "      <td>2020-12-26</td>\n",
       "      <td>87</td>\n",
       "    </tr>\n",
       "    <tr>\n",
       "      <th>20</th>\n",
       "      <td>A</td>\n",
       "      <td>2020-12-27</td>\n",
       "      <td>77</td>\n",
       "    </tr>\n",
       "    <tr>\n",
       "      <th>21</th>\n",
       "      <td>A</td>\n",
       "      <td>2020-12-28</td>\n",
       "      <td>56</td>\n",
       "    </tr>\n",
       "    <tr>\n",
       "      <th>22</th>\n",
       "      <td>A</td>\n",
       "      <td>2020-12-29</td>\n",
       "      <td>34</td>\n",
       "    </tr>\n",
       "    <tr>\n",
       "      <th>23</th>\n",
       "      <td>B</td>\n",
       "      <td>2020-12-07</td>\n",
       "      <td>59</td>\n",
       "    </tr>\n",
       "    <tr>\n",
       "      <th>24</th>\n",
       "      <td>B</td>\n",
       "      <td>2020-12-08</td>\n",
       "      <td>33</td>\n",
       "    </tr>\n",
       "    <tr>\n",
       "      <th>25</th>\n",
       "      <td>B</td>\n",
       "      <td>2020-12-09</td>\n",
       "      <td>39</td>\n",
       "    </tr>\n",
       "    <tr>\n",
       "      <th>26</th>\n",
       "      <td>B</td>\n",
       "      <td>2020-12-10</td>\n",
       "      <td>26</td>\n",
       "    </tr>\n",
       "    <tr>\n",
       "      <th>27</th>\n",
       "      <td>B</td>\n",
       "      <td>2020-12-11</td>\n",
       "      <td>16</td>\n",
       "    </tr>\n",
       "    <tr>\n",
       "      <th>28</th>\n",
       "      <td>B</td>\n",
       "      <td>2020-12-12</td>\n",
       "      <td>25</td>\n",
       "    </tr>\n",
       "    <tr>\n",
       "      <th>29</th>\n",
       "      <td>B</td>\n",
       "      <td>2020-12-13</td>\n",
       "      <td>26</td>\n",
       "    </tr>\n",
       "    <tr>\n",
       "      <th>30</th>\n",
       "      <td>B</td>\n",
       "      <td>2020-12-14</td>\n",
       "      <td>32</td>\n",
       "    </tr>\n",
       "    <tr>\n",
       "      <th>31</th>\n",
       "      <td>B</td>\n",
       "      <td>2020-12-15</td>\n",
       "      <td>32</td>\n",
       "    </tr>\n",
       "    <tr>\n",
       "      <th>32</th>\n",
       "      <td>B</td>\n",
       "      <td>2020-12-16</td>\n",
       "      <td>50</td>\n",
       "    </tr>\n",
       "    <tr>\n",
       "      <th>33</th>\n",
       "      <td>B</td>\n",
       "      <td>2020-12-17</td>\n",
       "      <td>36</td>\n",
       "    </tr>\n",
       "    <tr>\n",
       "      <th>34</th>\n",
       "      <td>B</td>\n",
       "      <td>2020-12-18</td>\n",
       "      <td>29</td>\n",
       "    </tr>\n",
       "    <tr>\n",
       "      <th>35</th>\n",
       "      <td>B</td>\n",
       "      <td>2020-12-19</td>\n",
       "      <td>34</td>\n",
       "    </tr>\n",
       "    <tr>\n",
       "      <th>36</th>\n",
       "      <td>B</td>\n",
       "      <td>2020-12-20</td>\n",
       "      <td>37</td>\n",
       "    </tr>\n",
       "    <tr>\n",
       "      <th>37</th>\n",
       "      <td>B</td>\n",
       "      <td>2020-12-21</td>\n",
       "      <td>49</td>\n",
       "    </tr>\n",
       "    <tr>\n",
       "      <th>38</th>\n",
       "      <td>B</td>\n",
       "      <td>2020-12-22</td>\n",
       "      <td>26</td>\n",
       "    </tr>\n",
       "    <tr>\n",
       "      <th>39</th>\n",
       "      <td>B</td>\n",
       "      <td>2020-12-23</td>\n",
       "      <td>18</td>\n",
       "    </tr>\n",
       "    <tr>\n",
       "      <th>40</th>\n",
       "      <td>B</td>\n",
       "      <td>2020-12-24</td>\n",
       "      <td>14</td>\n",
       "    </tr>\n",
       "    <tr>\n",
       "      <th>41</th>\n",
       "      <td>B</td>\n",
       "      <td>2020-12-25</td>\n",
       "      <td>8</td>\n",
       "    </tr>\n",
       "    <tr>\n",
       "      <th>42</th>\n",
       "      <td>B</td>\n",
       "      <td>2020-12-26</td>\n",
       "      <td>7</td>\n",
       "    </tr>\n",
       "    <tr>\n",
       "      <th>43</th>\n",
       "      <td>B</td>\n",
       "      <td>2020-12-27</td>\n",
       "      <td>11</td>\n",
       "    </tr>\n",
       "    <tr>\n",
       "      <th>44</th>\n",
       "      <td>B</td>\n",
       "      <td>2020-12-28</td>\n",
       "      <td>5</td>\n",
       "    </tr>\n",
       "    <tr>\n",
       "      <th>45</th>\n",
       "      <td>B</td>\n",
       "      <td>2020-12-29</td>\n",
       "      <td>6</td>\n",
       "    </tr>\n",
       "  </tbody>\n",
       "</table>\n",
       "</div>"
      ],
      "text/plain": [
       "   group  event_date  event_name\n",
       "0      A  2020-12-07          43\n",
       "1      A  2020-12-08          33\n",
       "2      A  2020-12-09          47\n",
       "3      A  2020-12-10          42\n",
       "4      A  2020-12-11          40\n",
       "5      A  2020-12-12          38\n",
       "6      A  2020-12-13          32\n",
       "7      A  2020-12-14         133\n",
       "8      A  2020-12-15         137\n",
       "9      A  2020-12-16         142\n",
       "10     A  2020-12-17         169\n",
       "11     A  2020-12-18         165\n",
       "12     A  2020-12-19         208\n",
       "13     A  2020-12-20         211\n",
       "14     A  2020-12-21         281\n",
       "15     A  2020-12-22         162\n",
       "16     A  2020-12-23         135\n",
       "17     A  2020-12-24         116\n",
       "18     A  2020-12-25          97\n",
       "19     A  2020-12-26          87\n",
       "20     A  2020-12-27          77\n",
       "21     A  2020-12-28          56\n",
       "22     A  2020-12-29          34\n",
       "23     B  2020-12-07          59\n",
       "24     B  2020-12-08          33\n",
       "25     B  2020-12-09          39\n",
       "26     B  2020-12-10          26\n",
       "27     B  2020-12-11          16\n",
       "28     B  2020-12-12          25\n",
       "29     B  2020-12-13          26\n",
       "30     B  2020-12-14          32\n",
       "31     B  2020-12-15          32\n",
       "32     B  2020-12-16          50\n",
       "33     B  2020-12-17          36\n",
       "34     B  2020-12-18          29\n",
       "35     B  2020-12-19          34\n",
       "36     B  2020-12-20          37\n",
       "37     B  2020-12-21          49\n",
       "38     B  2020-12-22          26\n",
       "39     B  2020-12-23          18\n",
       "40     B  2020-12-24          14\n",
       "41     B  2020-12-25           8\n",
       "42     B  2020-12-26           7\n",
       "43     B  2020-12-27          11\n",
       "44     B  2020-12-28           5\n",
       "45     B  2020-12-29           6"
      ]
     },
     "metadata": {},
     "output_type": "display_data"
    }
   ],
   "source": [
    "all_data_EU['event_date'] = all_data_EU['event_dt'].dt.date\n",
    "group_date = (all_data_EU[all_data_EU['event_name']=='purchase']\n",
    "              .pivot_table(index=['group', 'event_date'], values='event_name', aggfunc='count').reset_index())\n",
    "display(group_date)"
   ]
  },
  {
   "cell_type": "code",
   "execution_count": 82,
   "metadata": {},
   "outputs": [
    {
     "data": {
      "image/png": "[encoded data removed]",
      "text/plain": [
       "<Figure size 1440x1080 with 1 Axes>"
      ]
     },
     "metadata": {
      "needs_background": "light"
     },
     "output_type": "display_data"
    }
   ],
   "source": [
    "import seaborn as sns\n",
    "plt.figure(figsize=(20, 15)) \n",
    "sns.barplot(x='event_date', y='event_name', hue='group', data=group_date)\n",
    "plt.title('Количество покупок по группам')\n",
    "plt.xticks(rotation = 45)\n",
    "plt.show()"
   ]
  },
  {
   "cell_type": "markdown",
   "metadata": {},
   "source": [
    "<div style=\"border:solid blue 1px; padding: 20px\"> \n",
    "Как видно на графике выше, количество покупок распределено по группам крайне неравномерно. По группе А наблюдается резкий рост числа покупок спустя неделю с начала теста, и также резкий спад с 22 декабря, когда прекратилась регистрация пользователей. По группе В количество покупок в день уменьшалось с даты начала теста до 11 декабря, далее вплоть до 21 декабря наблюдался рост числа покупок. С 22 декабря, также как и в группе А, количество покупок стало резко уменьшаться. \n",
    "\n",
    "Как мы видим, 25 декабря не наблюдается воостановления числа покупок, оно продолжало снижаться до конца наблюдаемого периода. Таким образом можно заключить, что проводимое маркетинговое событие не оказало влияние на проведение теста."
   ]
  },
  {
   "cell_type": "markdown",
   "metadata": {},
   "source": [
    "### Вывод"
   ]
  },
  {
   "cell_type": "markdown",
   "metadata": {},
   "source": [
    "<div style=\"border:solid blue 1px; padding: 20px\"> \n",
    "1) Тест не соответствует положениям ТЗ:\n",
    "\n",
    "- Аудитория теста меньше 15% новых пользователей из региона EU. Таких пользователей 6940, в нашем тесте принимает участие только 6351.\n",
    "    \n",
    "- Ожидаемое количество участников теста больше 6000: в тесте участвовало на 701 человека больше (~ +11,7%), или на 351 больше, если считать от европейских пользователей (~ +5,85%).\n",
    "    \n",
    "Хотя по факту количество участников оказалось сильно меньше - 3481. Это вызвано тем, что мы не получили данных о действиях на сайте по 2870 пользователям, большинство которых из группы В (1840 участников из группы В и 1030 участников из группы А). Предположительно, произошел какой-то сбой в системе из-за которого часть данных была утеряна. Удалив таких участников, для участия в тесте остался 3481 клиент из 6351.\n",
    "    \n",
    "- Дата остановки не 4 января 2021 г., а 30 декабря 2020 г. Возможно, это обусловлено новогодними праздниками, в следствие чего пользователи не совершали действий на сайте;\n",
    "\n",
    "\n",
    "2) Неравномерное распределение участников теста по группам:\n",
    "75% участников относятся к группе А, а 25% - к группе В. Такое распределение по группам некорректно.\n",
    "\n",
    "3) Пересечение с конкурирующим тестом:\n",
    "В это же время проводилось еще одно тестирование, часть пользователей (431) участвовало и в нашем тесте, и в конкурирующем. Но поскольку доли пользователей группы В из конкурирующего теста равномерно распределены по группам текущего теста, мы заключаем, что его влияние на наш тест распределено равномерно. Поэтому таких пользователей можно не удалять.\n",
    "\n",
    "4) Временные границы теста:\n",
    "Тест проводится в неудачное время, накануне новогодних праздников. Возможно, в связи с этим пользователи не совершали никаких действий на сайте с 30 по 4 января.\n",
    "Также в этот период поведение пользователей отличается, и нельзя на основании полученных результатов делать выводы о поведении клиентов в \"обычные\" дни.\n",
    "Более того мы наблюдаем пересечение теста с проведением маркетингового события. Большая часть данных нами была утеряна (о 2870 пользователях), поэтому нельзя с точностью заключить повлияло ли оно на результаты теста. На основании имеющихся данных влияние на количество продаж не наблюдается."
   ]
  },
  {
   "cell_type": "markdown",
   "metadata": {},
   "source": [
    "## Исследовательский анализ данных"
   ]
  },
  {
   "cell_type": "markdown",
   "metadata": {},
   "source": [
    "### Распределение количества событий на пользователя в выборках"
   ]
  },
  {
   "cell_type": "markdown",
   "metadata": {},
   "source": [
    "<div style=\"border:solid blue 1px; padding: 20px\"> \n",
    "Проверим, одинаково ли распределено количество событий на пользователя в выборках"
   ]
  },
  {
   "cell_type": "code",
   "execution_count": 83,
   "metadata": {},
   "outputs": [],
   "source": [
    "event_qty = all_data_EU.pivot_table(index='user_id', columns='group', values='event_name', aggfunc='count').reset_index()"
   ]
  },
  {
   "cell_type": "code",
   "execution_count": 84,
   "metadata": {},
   "outputs": [
    {
     "data": {
      "text/html": [
       "<div>\n",
       "<style scoped>\n",
       "    .dataframe tbody tr th:only-of-type {\n",
       "        vertical-align: middle;\n",
       "    }\n",
       "\n",
       "    .dataframe tbody tr th {\n",
       "        vertical-align: top;\n",
       "    }\n",
       "\n",
       "    .dataframe thead th {\n",
       "        text-align: right;\n",
       "    }\n",
       "</style>\n",
       "<table border=\"1\" class=\"dataframe\">\n",
       "  <thead>\n",
       "    <tr style=\"text-align: right;\">\n",
       "      <th>group</th>\n",
       "      <th>user_id</th>\n",
       "      <th>A</th>\n",
       "      <th>B</th>\n",
       "    </tr>\n",
       "  </thead>\n",
       "  <tbody>\n",
       "    <tr>\n",
       "      <th>0</th>\n",
       "      <td>001064FEAAB631A1</td>\n",
       "      <td>NaN</td>\n",
       "      <td>6.0</td>\n",
       "    </tr>\n",
       "    <tr>\n",
       "      <th>1</th>\n",
       "      <td>0010A1C096941592</td>\n",
       "      <td>12.0</td>\n",
       "      <td>NaN</td>\n",
       "    </tr>\n",
       "    <tr>\n",
       "      <th>2</th>\n",
       "      <td>00341D8401F0F665</td>\n",
       "      <td>2.0</td>\n",
       "      <td>NaN</td>\n",
       "    </tr>\n",
       "    <tr>\n",
       "      <th>3</th>\n",
       "      <td>003DF44D7589BBD4</td>\n",
       "      <td>15.0</td>\n",
       "      <td>NaN</td>\n",
       "    </tr>\n",
       "    <tr>\n",
       "      <th>4</th>\n",
       "      <td>00505E15A9D81546</td>\n",
       "      <td>5.0</td>\n",
       "      <td>NaN</td>\n",
       "    </tr>\n",
       "  </tbody>\n",
       "</table>\n",
       "</div>"
      ],
      "text/plain": [
       "group           user_id     A    B\n",
       "0      001064FEAAB631A1   NaN  6.0\n",
       "1      0010A1C096941592  12.0  NaN\n",
       "2      00341D8401F0F665   2.0  NaN\n",
       "3      003DF44D7589BBD4  15.0  NaN\n",
       "4      00505E15A9D81546   5.0  NaN"
      ]
     },
     "execution_count": 84,
     "metadata": {},
     "output_type": "execute_result"
    }
   ],
   "source": [
    "event_qty.head()"
   ]
  },
  {
   "cell_type": "code",
   "execution_count": 85,
   "metadata": {},
   "outputs": [],
   "source": [
    "event_qty_A = event_qty[['user_id', 'A']]\n",
    "event_qty_A = event_qty_A.dropna()\n",
    "event_qty_B = event_qty[['user_id', 'B']]\n",
    "event_qty_B = event_qty_B.dropna()"
   ]
  },
  {
   "cell_type": "code",
   "execution_count": 86,
   "metadata": {},
   "outputs": [
    {
     "data": {
      "text/plain": [
       "6.849078341013825"
      ]
     },
     "metadata": {},
     "output_type": "display_data"
    },
    {
     "data": {
      "text/plain": [
       "5.456100342075256"
      ]
     },
     "metadata": {},
     "output_type": "display_data"
    }
   ],
   "source": [
    "display(event_qty_A['A'].mean())\n",
    "display(event_qty_B['B'].mean())"
   ]
  },
  {
   "cell_type": "markdown",
   "metadata": {},
   "source": [
    "<div style=\"border:solid blue 1px; padding: 20px\"> \n",
    "В среднем пользователь из группы А совершает 7 событий, а из группы В - 5 событий."
   ]
  },
  {
   "cell_type": "markdown",
   "metadata": {},
   "source": [
    "<div style=\"border:solid blue 1px; padding: 20px\"> \n",
    "Проверим также статистическую гипотезу, что в группах в среднем количество событий на пользователя одинаково. За нулевую гипотезу возьмем то, что в среднем количество событий на пользователя в группе А равно количеству событий на пользователя в группе В, альтернативная гипотеза - количество событий на пользователя различается."
   ]
  },
  {
   "cell_type": "markdown",
   "metadata": {},
   "source": [
    "<div style=\"border:solid blue 1px; padding: 20px\"> \n",
    "Проверим, распределены ли наши данные нормально. Критический уровень статистической значимости примем равным 0.05."
   ]
  },
  {
   "cell_type": "code",
   "execution_count": 87,
   "metadata": {},
   "outputs": [
    {
     "name": "stdout",
     "output_type": "stream",
     "text": [
      "p-значение:  4.153490763443324e-35\n",
      "Отвергаем нулевую гипотезу: распределение не нормально\n",
      "p-значение:  3.3629680266253744e-25\n",
      "Отвергаем нулевую гипотезу: распределение не нормально\n"
     ]
    }
   ],
   "source": [
    "alpha = 0.05\n",
    "\n",
    "results = st.shapiro(event_qty_A['A'])\n",
    "p_value = results[1]\n",
    "\n",
    "print('p-значение: ', p_value)\n",
    "\n",
    "if p_value < alpha:\n",
    "    print('Отвергаем нулевую гипотезу: распределение не нормально')\n",
    "else:\n",
    "     print('Не получилось отвергнуть нулевую гипотезу, всё нормально')\n",
    "        \n",
    "results = st.shapiro(event_qty_B['B'])\n",
    "p_value = results[1]\n",
    "\n",
    "print('p-значение: ', p_value)\n",
    "\n",
    "if p_value < alpha:\n",
    "    print('Отвергаем нулевую гипотезу: распределение не нормально')\n",
    "else:\n",
    "     print('Не получилось отвергнуть нулевую гипотезу, всё нормально')        "
   ]
  },
  {
   "cell_type": "markdown",
   "metadata": {},
   "source": [
    "<div style=\"border:solid blue 1px; padding: 20px\">\n",
    "Распределение не нормально. В таком случае для проверки нашей гипотезы применим непараметрический тест Уилкоксона-Манна-Уитни. Критический уровень статистической значимости примем равным 0.05."
   ]
  },
  {
   "cell_type": "code",
   "execution_count": 88,
   "metadata": {},
   "outputs": [
    {
     "name": "stdout",
     "output_type": "stream",
     "text": [
      "Отвергаем нулевую гипотезу: разница статистически значима\n"
     ]
    }
   ],
   "source": [
    "alpha = 0.05\n",
    "\n",
    "sample_0 = event_qty_A['A']\n",
    "sample_1 = event_qty_B['B']\n",
    "\n",
    "results = st.mannwhitneyu(sample_0, sample_1)\n",
    "\n",
    "if results.pvalue < alpha:\n",
    "      print('Отвергаем нулевую гипотезу: разница статистически значима')\n",
    "else:\n",
    "     print(\n",
    "        'Не получилось отвергнуть нулевую гипотезу, вывод о различии сделать нельзя')"
   ]
  },
  {
   "cell_type": "markdown",
   "metadata": {},
   "source": [
    "<div style=\"border:solid blue 1px; padding: 20px\"> \n",
    "Отвергаем нулевую гипотезу о равенстве средних. Количество событий на пользователя в группе А не равно количеству событий на пользователя в группе В."
   ]
  },
  {
   "cell_type": "markdown",
   "metadata": {},
   "source": [
    "### Распределение количества событий по дням в выборках"
   ]
  },
  {
   "cell_type": "markdown",
   "metadata": {},
   "source": [
    "Проверим, как число событий в выборках распределено по дням"
   ]
  },
  {
   "cell_type": "code",
   "execution_count": 89,
   "metadata": {},
   "outputs": [
    {
     "data": {
      "text/html": [
       "<div>\n",
       "<style scoped>\n",
       "    .dataframe tbody tr th:only-of-type {\n",
       "        vertical-align: middle;\n",
       "    }\n",
       "\n",
       "    .dataframe tbody tr th {\n",
       "        vertical-align: top;\n",
       "    }\n",
       "\n",
       "    .dataframe thead th {\n",
       "        text-align: right;\n",
       "    }\n",
       "</style>\n",
       "<table border=\"1\" class=\"dataframe\">\n",
       "  <thead>\n",
       "    <tr style=\"text-align: right;\">\n",
       "      <th></th>\n",
       "      <th>group</th>\n",
       "      <th>event_date</th>\n",
       "      <th>event_name</th>\n",
       "    </tr>\n",
       "  </thead>\n",
       "  <tbody>\n",
       "    <tr>\n",
       "      <th>0</th>\n",
       "      <td>A</td>\n",
       "      <td>2020-12-07</td>\n",
       "      <td>318</td>\n",
       "    </tr>\n",
       "    <tr>\n",
       "      <th>1</th>\n",
       "      <td>A</td>\n",
       "      <td>2020-12-08</td>\n",
       "      <td>313</td>\n",
       "    </tr>\n",
       "    <tr>\n",
       "      <th>2</th>\n",
       "      <td>A</td>\n",
       "      <td>2020-12-09</td>\n",
       "      <td>371</td>\n",
       "    </tr>\n",
       "    <tr>\n",
       "      <th>3</th>\n",
       "      <td>A</td>\n",
       "      <td>2020-12-10</td>\n",
       "      <td>331</td>\n",
       "    </tr>\n",
       "    <tr>\n",
       "      <th>4</th>\n",
       "      <td>A</td>\n",
       "      <td>2020-12-11</td>\n",
       "      <td>356</td>\n",
       "    </tr>\n",
       "    <tr>\n",
       "      <th>5</th>\n",
       "      <td>A</td>\n",
       "      <td>2020-12-12</td>\n",
       "      <td>346</td>\n",
       "    </tr>\n",
       "    <tr>\n",
       "      <th>6</th>\n",
       "      <td>A</td>\n",
       "      <td>2020-12-13</td>\n",
       "      <td>308</td>\n",
       "    </tr>\n",
       "    <tr>\n",
       "      <th>7</th>\n",
       "      <td>A</td>\n",
       "      <td>2020-12-14</td>\n",
       "      <td>1015</td>\n",
       "    </tr>\n",
       "    <tr>\n",
       "      <th>8</th>\n",
       "      <td>A</td>\n",
       "      <td>2020-12-15</td>\n",
       "      <td>1030</td>\n",
       "    </tr>\n",
       "    <tr>\n",
       "      <th>9</th>\n",
       "      <td>A</td>\n",
       "      <td>2020-12-16</td>\n",
       "      <td>1007</td>\n",
       "    </tr>\n",
       "    <tr>\n",
       "      <th>10</th>\n",
       "      <td>A</td>\n",
       "      <td>2020-12-17</td>\n",
       "      <td>1200</td>\n",
       "    </tr>\n",
       "    <tr>\n",
       "      <th>11</th>\n",
       "      <td>A</td>\n",
       "      <td>2020-12-18</td>\n",
       "      <td>1244</td>\n",
       "    </tr>\n",
       "    <tr>\n",
       "      <th>12</th>\n",
       "      <td>A</td>\n",
       "      <td>2020-12-19</td>\n",
       "      <td>1430</td>\n",
       "    </tr>\n",
       "    <tr>\n",
       "      <th>13</th>\n",
       "      <td>A</td>\n",
       "      <td>2020-12-20</td>\n",
       "      <td>1434</td>\n",
       "    </tr>\n",
       "    <tr>\n",
       "      <th>14</th>\n",
       "      <td>A</td>\n",
       "      <td>2020-12-21</td>\n",
       "      <td>1888</td>\n",
       "    </tr>\n",
       "    <tr>\n",
       "      <th>15</th>\n",
       "      <td>A</td>\n",
       "      <td>2020-12-22</td>\n",
       "      <td>1208</td>\n",
       "    </tr>\n",
       "    <tr>\n",
       "      <th>16</th>\n",
       "      <td>A</td>\n",
       "      <td>2020-12-23</td>\n",
       "      <td>942</td>\n",
       "    </tr>\n",
       "    <tr>\n",
       "      <th>17</th>\n",
       "      <td>A</td>\n",
       "      <td>2020-12-24</td>\n",
       "      <td>800</td>\n",
       "    </tr>\n",
       "    <tr>\n",
       "      <th>18</th>\n",
       "      <td>A</td>\n",
       "      <td>2020-12-25</td>\n",
       "      <td>598</td>\n",
       "    </tr>\n",
       "    <tr>\n",
       "      <th>19</th>\n",
       "      <td>A</td>\n",
       "      <td>2020-12-26</td>\n",
       "      <td>541</td>\n",
       "    </tr>\n",
       "    <tr>\n",
       "      <th>20</th>\n",
       "      <td>A</td>\n",
       "      <td>2020-12-27</td>\n",
       "      <td>506</td>\n",
       "    </tr>\n",
       "    <tr>\n",
       "      <th>21</th>\n",
       "      <td>A</td>\n",
       "      <td>2020-12-28</td>\n",
       "      <td>381</td>\n",
       "    </tr>\n",
       "    <tr>\n",
       "      <th>22</th>\n",
       "      <td>A</td>\n",
       "      <td>2020-12-29</td>\n",
       "      <td>268</td>\n",
       "    </tr>\n",
       "    <tr>\n",
       "      <th>23</th>\n",
       "      <td>B</td>\n",
       "      <td>2020-12-07</td>\n",
       "      <td>356</td>\n",
       "    </tr>\n",
       "    <tr>\n",
       "      <th>24</th>\n",
       "      <td>B</td>\n",
       "      <td>2020-12-08</td>\n",
       "      <td>238</td>\n",
       "    </tr>\n",
       "    <tr>\n",
       "      <th>25</th>\n",
       "      <td>B</td>\n",
       "      <td>2020-12-09</td>\n",
       "      <td>338</td>\n",
       "    </tr>\n",
       "    <tr>\n",
       "      <th>26</th>\n",
       "      <td>B</td>\n",
       "      <td>2020-12-10</td>\n",
       "      <td>249</td>\n",
       "    </tr>\n",
       "    <tr>\n",
       "      <th>27</th>\n",
       "      <td>B</td>\n",
       "      <td>2020-12-11</td>\n",
       "      <td>161</td>\n",
       "    </tr>\n",
       "    <tr>\n",
       "      <th>28</th>\n",
       "      <td>B</td>\n",
       "      <td>2020-12-12</td>\n",
       "      <td>199</td>\n",
       "    </tr>\n",
       "    <tr>\n",
       "      <th>29</th>\n",
       "      <td>B</td>\n",
       "      <td>2020-12-13</td>\n",
       "      <td>164</td>\n",
       "    </tr>\n",
       "    <tr>\n",
       "      <th>30</th>\n",
       "      <td>B</td>\n",
       "      <td>2020-12-14</td>\n",
       "      <td>248</td>\n",
       "    </tr>\n",
       "    <tr>\n",
       "      <th>31</th>\n",
       "      <td>B</td>\n",
       "      <td>2020-12-15</td>\n",
       "      <td>222</td>\n",
       "    </tr>\n",
       "    <tr>\n",
       "      <th>32</th>\n",
       "      <td>B</td>\n",
       "      <td>2020-12-16</td>\n",
       "      <td>369</td>\n",
       "    </tr>\n",
       "    <tr>\n",
       "      <th>33</th>\n",
       "      <td>B</td>\n",
       "      <td>2020-12-17</td>\n",
       "      <td>281</td>\n",
       "    </tr>\n",
       "    <tr>\n",
       "      <th>34</th>\n",
       "      <td>B</td>\n",
       "      <td>2020-12-18</td>\n",
       "      <td>259</td>\n",
       "    </tr>\n",
       "    <tr>\n",
       "      <th>35</th>\n",
       "      <td>B</td>\n",
       "      <td>2020-12-19</td>\n",
       "      <td>288</td>\n",
       "    </tr>\n",
       "    <tr>\n",
       "      <th>36</th>\n",
       "      <td>B</td>\n",
       "      <td>2020-12-20</td>\n",
       "      <td>309</td>\n",
       "    </tr>\n",
       "    <tr>\n",
       "      <th>37</th>\n",
       "      <td>B</td>\n",
       "      <td>2020-12-21</td>\n",
       "      <td>377</td>\n",
       "    </tr>\n",
       "    <tr>\n",
       "      <th>38</th>\n",
       "      <td>B</td>\n",
       "      <td>2020-12-22</td>\n",
       "      <td>169</td>\n",
       "    </tr>\n",
       "    <tr>\n",
       "      <th>39</th>\n",
       "      <td>B</td>\n",
       "      <td>2020-12-23</td>\n",
       "      <td>144</td>\n",
       "    </tr>\n",
       "    <tr>\n",
       "      <th>40</th>\n",
       "      <td>B</td>\n",
       "      <td>2020-12-24</td>\n",
       "      <td>119</td>\n",
       "    </tr>\n",
       "    <tr>\n",
       "      <th>41</th>\n",
       "      <td>B</td>\n",
       "      <td>2020-12-25</td>\n",
       "      <td>70</td>\n",
       "    </tr>\n",
       "    <tr>\n",
       "      <th>42</th>\n",
       "      <td>B</td>\n",
       "      <td>2020-12-26</td>\n",
       "      <td>60</td>\n",
       "    </tr>\n",
       "    <tr>\n",
       "      <th>43</th>\n",
       "      <td>B</td>\n",
       "      <td>2020-12-27</td>\n",
       "      <td>65</td>\n",
       "    </tr>\n",
       "    <tr>\n",
       "      <th>44</th>\n",
       "      <td>B</td>\n",
       "      <td>2020-12-28</td>\n",
       "      <td>61</td>\n",
       "    </tr>\n",
       "    <tr>\n",
       "      <th>45</th>\n",
       "      <td>B</td>\n",
       "      <td>2020-12-29</td>\n",
       "      <td>39</td>\n",
       "    </tr>\n",
       "  </tbody>\n",
       "</table>\n",
       "</div>"
      ],
      "text/plain": [
       "   group  event_date  event_name\n",
       "0      A  2020-12-07         318\n",
       "1      A  2020-12-08         313\n",
       "2      A  2020-12-09         371\n",
       "3      A  2020-12-10         331\n",
       "4      A  2020-12-11         356\n",
       "5      A  2020-12-12         346\n",
       "6      A  2020-12-13         308\n",
       "7      A  2020-12-14        1015\n",
       "8      A  2020-12-15        1030\n",
       "9      A  2020-12-16        1007\n",
       "10     A  2020-12-17        1200\n",
       "11     A  2020-12-18        1244\n",
       "12     A  2020-12-19        1430\n",
       "13     A  2020-12-20        1434\n",
       "14     A  2020-12-21        1888\n",
       "15     A  2020-12-22        1208\n",
       "16     A  2020-12-23         942\n",
       "17     A  2020-12-24         800\n",
       "18     A  2020-12-25         598\n",
       "19     A  2020-12-26         541\n",
       "20     A  2020-12-27         506\n",
       "21     A  2020-12-28         381\n",
       "22     A  2020-12-29         268\n",
       "23     B  2020-12-07         356\n",
       "24     B  2020-12-08         238\n",
       "25     B  2020-12-09         338\n",
       "26     B  2020-12-10         249\n",
       "27     B  2020-12-11         161\n",
       "28     B  2020-12-12         199\n",
       "29     B  2020-12-13         164\n",
       "30     B  2020-12-14         248\n",
       "31     B  2020-12-15         222\n",
       "32     B  2020-12-16         369\n",
       "33     B  2020-12-17         281\n",
       "34     B  2020-12-18         259\n",
       "35     B  2020-12-19         288\n",
       "36     B  2020-12-20         309\n",
       "37     B  2020-12-21         377\n",
       "38     B  2020-12-22         169\n",
       "39     B  2020-12-23         144\n",
       "40     B  2020-12-24         119\n",
       "41     B  2020-12-25          70\n",
       "42     B  2020-12-26          60\n",
       "43     B  2020-12-27          65\n",
       "44     B  2020-12-28          61\n",
       "45     B  2020-12-29          39"
      ]
     },
     "metadata": {},
     "output_type": "display_data"
    }
   ],
   "source": [
    "group_date_2 = all_data_EU.pivot_table(index=['group', 'event_date'], values='event_name', aggfunc='count').reset_index()\n",
    "display(group_date_2)"
   ]
  },
  {
   "cell_type": "code",
   "execution_count": 90,
   "metadata": {},
   "outputs": [
    {
     "data": {
      "image/png": "[encoded data removed]",
      "text/plain": [
       "<Figure size 1440x1080 with 1 Axes>"
      ]
     },
     "metadata": {
      "needs_background": "light"
     },
     "output_type": "display_data"
    }
   ],
   "source": [
    "import seaborn as sns\n",
    "plt.figure(figsize=(20, 15)) \n",
    "sns.barplot(x='event_date', y='event_name', hue='group', data=group_date)\n",
    "plt.title('Количество событий по группам')\n",
    "plt.xticks(rotation = 45)\n",
    "plt.show()"
   ]
  },
  {
   "cell_type": "markdown",
   "metadata": {},
   "source": [
    "<div style=\"border:solid blue 1px; padding: 20px\"> \n",
    "Здесь так же картина аналогична ситуации с количеством покупок по дням. Максимальное число событий наблюдается в период с 14 по 21 декабря. \n",
    "Также интересно отметить, что количество событий по группе В лишь в первый день, 7 декабря, превысило количество событий в группе А."
   ]
  },
  {
   "cell_type": "markdown",
   "metadata": {},
   "source": [
    "### Воронка событий"
   ]
  },
  {
   "cell_type": "markdown",
   "metadata": {},
   "source": [
    "<div style=\"border:solid blue 1px; padding: 20px\"> \n",
    "Далее проверим, как меняется конверсия в воронке в выборках на разных этапах"
   ]
  },
  {
   "cell_type": "code",
   "execution_count": 91,
   "metadata": {},
   "outputs": [],
   "source": [
    "all_data_EU_A = all_data_EU[all_data_EU['group']=='A']\n",
    "all_data_EU_B = all_data_EU[all_data_EU['group']=='B']"
   ]
  },
  {
   "cell_type": "code",
   "execution_count": 92,
   "metadata": {},
   "outputs": [
    {
     "data": {
      "text/html": [
       "<div>\n",
       "<style scoped>\n",
       "    .dataframe tbody tr th:only-of-type {\n",
       "        vertical-align: middle;\n",
       "    }\n",
       "\n",
       "    .dataframe tbody tr th {\n",
       "        vertical-align: top;\n",
       "    }\n",
       "\n",
       "    .dataframe thead th {\n",
       "        text-align: right;\n",
       "    }\n",
       "</style>\n",
       "<table border=\"1\" class=\"dataframe\">\n",
       "  <thead>\n",
       "    <tr style=\"text-align: right;\">\n",
       "      <th></th>\n",
       "      <th>event_name</th>\n",
       "      <th>user_id_qty</th>\n",
       "      <th>percent</th>\n",
       "    </tr>\n",
       "  </thead>\n",
       "  <tbody>\n",
       "    <tr>\n",
       "      <th>0</th>\n",
       "      <td>login</td>\n",
       "      <td>2604</td>\n",
       "      <td>100.00</td>\n",
       "    </tr>\n",
       "    <tr>\n",
       "      <th>1</th>\n",
       "      <td>product_page</td>\n",
       "      <td>1685</td>\n",
       "      <td>64.71</td>\n",
       "    </tr>\n",
       "    <tr>\n",
       "      <th>2</th>\n",
       "      <td>purchase</td>\n",
       "      <td>833</td>\n",
       "      <td>31.99</td>\n",
       "    </tr>\n",
       "    <tr>\n",
       "      <th>3</th>\n",
       "      <td>product_cart</td>\n",
       "      <td>782</td>\n",
       "      <td>30.03</td>\n",
       "    </tr>\n",
       "  </tbody>\n",
       "</table>\n",
       "</div>"
      ],
      "text/plain": [
       "     event_name  user_id_qty  percent\n",
       "0         login         2604   100.00\n",
       "1  product_page         1685    64.71\n",
       "2      purchase          833    31.99\n",
       "3  product_cart          782    30.03"
      ]
     },
     "metadata": {},
     "output_type": "display_data"
    }
   ],
   "source": [
    "event_pt_A = (all_data_EU_A.groupby('event_name').agg({'user_id':'nunique'})\n",
    "            .sort_values('user_id', ascending=False).reset_index())\n",
    "event_pt_A.columns = ['event_name', 'user_id_qty']\n",
    "event_pt_A['percent'] = round(event_pt_A['user_id_qty']/event_pt_A.iloc[0]['user_id_qty']*100,2)\n",
    "display(event_pt_A)"
   ]
  },
  {
   "cell_type": "code",
   "execution_count": 93,
   "metadata": {},
   "outputs": [
    {
     "data": {
      "text/html": [
       "<div>\n",
       "<style scoped>\n",
       "    .dataframe tbody tr th:only-of-type {\n",
       "        vertical-align: middle;\n",
       "    }\n",
       "\n",
       "    .dataframe tbody tr th {\n",
       "        vertical-align: top;\n",
       "    }\n",
       "\n",
       "    .dataframe thead th {\n",
       "        text-align: right;\n",
       "    }\n",
       "</style>\n",
       "<table border=\"1\" class=\"dataframe\">\n",
       "  <thead>\n",
       "    <tr style=\"text-align: right;\">\n",
       "      <th></th>\n",
       "      <th>event_name</th>\n",
       "      <th>user_id_qty</th>\n",
       "      <th>percent</th>\n",
       "    </tr>\n",
       "  </thead>\n",
       "  <tbody>\n",
       "    <tr>\n",
       "      <th>0</th>\n",
       "      <td>login</td>\n",
       "      <td>876</td>\n",
       "      <td>100.00</td>\n",
       "    </tr>\n",
       "    <tr>\n",
       "      <th>1</th>\n",
       "      <td>product_page</td>\n",
       "      <td>493</td>\n",
       "      <td>56.28</td>\n",
       "    </tr>\n",
       "    <tr>\n",
       "      <th>2</th>\n",
       "      <td>purchase</td>\n",
       "      <td>249</td>\n",
       "      <td>28.42</td>\n",
       "    </tr>\n",
       "    <tr>\n",
       "      <th>3</th>\n",
       "      <td>product_cart</td>\n",
       "      <td>244</td>\n",
       "      <td>27.85</td>\n",
       "    </tr>\n",
       "  </tbody>\n",
       "</table>\n",
       "</div>"
      ],
      "text/plain": [
       "     event_name  user_id_qty  percent\n",
       "0         login          876   100.00\n",
       "1  product_page          493    56.28\n",
       "2      purchase          249    28.42\n",
       "3  product_cart          244    27.85"
      ]
     },
     "metadata": {},
     "output_type": "display_data"
    }
   ],
   "source": [
    "event_pt_B = (all_data_EU_B.groupby('event_name').agg({'user_id':'nunique'})\n",
    "            .sort_values('user_id', ascending=False).reset_index())\n",
    "event_pt_B.columns = ['event_name', 'user_id_qty']\n",
    "event_pt_B['percent'] = round(event_pt_B['user_id_qty']/event_pt_B.iloc[0]['user_id_qty']*100,2)\n",
    "display(event_pt_B)"
   ]
  },
  {
   "cell_type": "markdown",
   "metadata": {},
   "source": [
    "<div style=\"border:solid blue 1px; padding: 20px\"> \n",
    "Всего в имеющихся данных 4 события: вход в систему, посещение страниц товара, корзины, покупка. Чаще всего пользователи входят в систему, далее попадают на страницу товара. Интересно отметить, что количество покупок больше, чем количеств посещение корзины. Значит, купить товар возможно минуя корзину.\n",
    "Построим воронку в правильном порядке: вход в систему, посещение страниц товара, корзины, покупка."
   ]
  },
  {
   "cell_type": "code",
   "execution_count": 94,
   "metadata": {},
   "outputs": [],
   "source": [
    "def step(row):\n",
    "    event=row['event_name']\n",
    "    \n",
    "    if event == 'login':\n",
    "        return 1\n",
    "    if event == 'product_page':\n",
    "        return 2\n",
    "    if event == 'product_cart':\n",
    "        return 3\n",
    "    if event == 'purchase':\n",
    "        return 4    "
   ]
  },
  {
   "cell_type": "code",
   "execution_count": 95,
   "metadata": {},
   "outputs": [],
   "source": [
    "event_pt_A['step'] = event_pt_A.apply(step, axis=1)\n",
    "event_pt_B['step'] = event_pt_B.apply(step, axis=1)"
   ]
  },
  {
   "cell_type": "code",
   "execution_count": 96,
   "metadata": {},
   "outputs": [
    {
     "data": {
      "text/html": [
       "<div>\n",
       "<style scoped>\n",
       "    .dataframe tbody tr th:only-of-type {\n",
       "        vertical-align: middle;\n",
       "    }\n",
       "\n",
       "    .dataframe tbody tr th {\n",
       "        vertical-align: top;\n",
       "    }\n",
       "\n",
       "    .dataframe thead th {\n",
       "        text-align: right;\n",
       "    }\n",
       "</style>\n",
       "<table border=\"1\" class=\"dataframe\">\n",
       "  <thead>\n",
       "    <tr style=\"text-align: right;\">\n",
       "      <th></th>\n",
       "      <th>event_name</th>\n",
       "      <th>user_id_qty</th>\n",
       "      <th>percent</th>\n",
       "      <th>step</th>\n",
       "    </tr>\n",
       "  </thead>\n",
       "  <tbody>\n",
       "    <tr>\n",
       "      <th>0</th>\n",
       "      <td>login</td>\n",
       "      <td>2604</td>\n",
       "      <td>100.00</td>\n",
       "      <td>1</td>\n",
       "    </tr>\n",
       "    <tr>\n",
       "      <th>1</th>\n",
       "      <td>product_page</td>\n",
       "      <td>1685</td>\n",
       "      <td>64.71</td>\n",
       "      <td>2</td>\n",
       "    </tr>\n",
       "    <tr>\n",
       "      <th>2</th>\n",
       "      <td>purchase</td>\n",
       "      <td>833</td>\n",
       "      <td>31.99</td>\n",
       "      <td>4</td>\n",
       "    </tr>\n",
       "    <tr>\n",
       "      <th>3</th>\n",
       "      <td>product_cart</td>\n",
       "      <td>782</td>\n",
       "      <td>30.03</td>\n",
       "      <td>3</td>\n",
       "    </tr>\n",
       "  </tbody>\n",
       "</table>\n",
       "</div>"
      ],
      "text/plain": [
       "     event_name  user_id_qty  percent  step\n",
       "0         login         2604   100.00     1\n",
       "1  product_page         1685    64.71     2\n",
       "2      purchase          833    31.99     4\n",
       "3  product_cart          782    30.03     3"
      ]
     },
     "execution_count": 96,
     "metadata": {},
     "output_type": "execute_result"
    }
   ],
   "source": [
    "event_pt_A"
   ]
  },
  {
   "cell_type": "code",
   "execution_count": 97,
   "metadata": {},
   "outputs": [
    {
     "data": {
      "image/png": "[encoded data removed]",
      "text/plain": [
       "<Figure size 864x576 with 1 Axes>"
      ]
     },
     "metadata": {
      "needs_background": "light"
     },
     "output_type": "display_data"
    }
   ],
   "source": [
    "event_pt_A.sort_values(by='step', ascending=False).plot(x='event_name', y='percent', kind='barh', figsize=(12,8))\n",
    "plt.title('Конверсия по группе А')\n",
    "plt.show()"
   ]
  },
  {
   "cell_type": "markdown",
   "metadata": {},
   "source": [
    "<div style=\"border:solid blue 1px; padding: 20px\"> \n",
    "Исходя из таблицы выше конверсия по группе А следующая:\n",
    "\n",
    "- 64,71% зарегистрировавшихся переходят на страницу товара;\n",
    "- 30,33% зарегистрировавшихся переходят в корзину;\n",
    "- 31,99% зарегистрировавшихся покупают товар;"
   ]
  },
  {
   "cell_type": "code",
   "execution_count": 98,
   "metadata": {},
   "outputs": [
    {
     "data": {
      "text/html": [
       "<div>\n",
       "<style scoped>\n",
       "    .dataframe tbody tr th:only-of-type {\n",
       "        vertical-align: middle;\n",
       "    }\n",
       "\n",
       "    .dataframe tbody tr th {\n",
       "        vertical-align: top;\n",
       "    }\n",
       "\n",
       "    .dataframe thead th {\n",
       "        text-align: right;\n",
       "    }\n",
       "</style>\n",
       "<table border=\"1\" class=\"dataframe\">\n",
       "  <thead>\n",
       "    <tr style=\"text-align: right;\">\n",
       "      <th></th>\n",
       "      <th>event_name</th>\n",
       "      <th>user_id_qty</th>\n",
       "      <th>percent</th>\n",
       "      <th>step</th>\n",
       "    </tr>\n",
       "  </thead>\n",
       "  <tbody>\n",
       "    <tr>\n",
       "      <th>0</th>\n",
       "      <td>login</td>\n",
       "      <td>876</td>\n",
       "      <td>100.00</td>\n",
       "      <td>1</td>\n",
       "    </tr>\n",
       "    <tr>\n",
       "      <th>1</th>\n",
       "      <td>product_page</td>\n",
       "      <td>493</td>\n",
       "      <td>56.28</td>\n",
       "      <td>2</td>\n",
       "    </tr>\n",
       "    <tr>\n",
       "      <th>2</th>\n",
       "      <td>purchase</td>\n",
       "      <td>249</td>\n",
       "      <td>28.42</td>\n",
       "      <td>4</td>\n",
       "    </tr>\n",
       "    <tr>\n",
       "      <th>3</th>\n",
       "      <td>product_cart</td>\n",
       "      <td>244</td>\n",
       "      <td>27.85</td>\n",
       "      <td>3</td>\n",
       "    </tr>\n",
       "  </tbody>\n",
       "</table>\n",
       "</div>"
      ],
      "text/plain": [
       "     event_name  user_id_qty  percent  step\n",
       "0         login          876   100.00     1\n",
       "1  product_page          493    56.28     2\n",
       "2      purchase          249    28.42     4\n",
       "3  product_cart          244    27.85     3"
      ]
     },
     "execution_count": 98,
     "metadata": {},
     "output_type": "execute_result"
    }
   ],
   "source": [
    "event_pt_B"
   ]
  },
  {
   "cell_type": "code",
   "execution_count": 99,
   "metadata": {},
   "outputs": [
    {
     "data": {
      "image/png": "[encoded data removed]",
      "text/plain": [
       "<Figure size 864x576 with 1 Axes>"
      ]
     },
     "metadata": {
      "needs_background": "light"
     },
     "output_type": "display_data"
    }
   ],
   "source": [
    "event_pt_B.sort_values(by='step', ascending=False).plot(x='event_name', y='percent', kind='barh', figsize=(12,8))\n",
    "plt.title('Конверсия по группе B')\n",
    "plt.show()"
   ]
  },
  {
   "cell_type": "markdown",
   "metadata": {},
   "source": [
    "<div style=\"border:solid blue 1px; padding: 20px\"> \n",
    "Исходя из таблицы выше конверсия по группе В следующая:\n",
    "\n",
    "- 56,28% зарегистрировавшихся переходят на страницу товара;\n",
    "- 27,85% зарегистрировавшихся переходят в корзину;\n",
    "- 28,42% зарегистрировавшихся покупают товар;"
   ]
  },
  {
   "cell_type": "markdown",
   "metadata": {},
   "source": [
    "<div style=\"border:solid blue 1px; padding: 20px\"> \n",
    "Конверсия по группе А выше, чем по группе В по всем событиям"
   ]
  },
  {
   "cell_type": "markdown",
   "metadata": {},
   "source": [
    "### Вывод"
   ]
  },
  {
   "cell_type": "markdown",
   "metadata": {},
   "source": [
    "<div style=\"border:solid blue 1px; padding: 20px\"> \n",
    "1) Количество событий в среднем на пользователя в выборках отличается: количество событий в группе А, больше чем в группе В;\n",
    "\n",
    "2) Количество событий по дням неравномерно: максимальное число событий наблюдается в период с 14 по 21 декабря. Отметим, что количество событий по группе В лишь в первый день, 7 декабря, превысило количество событий в группе А.\n",
    "\n",
    "3) Воронка событий;\n",
    "Всего в имеющихся данных 4 события: авторизация, посещение страниц товара, корзины, покупка. Интересно отметить, что количество покупок больше, чем количество посещений корзины. Значит, купить товар возможно минуя корзину.\n",
    "Конверсия на каждом этапе в группе А выше, чем в группе В."
   ]
  },
  {
   "cell_type": "markdown",
   "metadata": {},
   "source": [
    "## Оценка результатов A/B-тестирования"
   ]
  },
  {
   "cell_type": "markdown",
   "metadata": {},
   "source": [
    "### Проверка гипотез о равенстве долей"
   ]
  },
  {
   "cell_type": "markdown",
   "metadata": {},
   "source": [
    "<div style=\"border:solid blue 1px; padding: 20px\"> \n",
    "Проверим гипотезы о равенстве долей пользователей, перешедших на каждый этап воронки"
   ]
  },
  {
   "cell_type": "code",
   "execution_count": 102,
   "metadata": {},
   "outputs": [
    {
     "data": {
      "text/html": [
       "<div>\n",
       "<style scoped>\n",
       "    .dataframe tbody tr th:only-of-type {\n",
       "        vertical-align: middle;\n",
       "    }\n",
       "\n",
       "    .dataframe tbody tr th {\n",
       "        vertical-align: top;\n",
       "    }\n",
       "\n",
       "    .dataframe thead th {\n",
       "        text-align: right;\n",
       "    }\n",
       "</style>\n",
       "<table border=\"1\" class=\"dataframe\">\n",
       "  <thead>\n",
       "    <tr style=\"text-align: right;\">\n",
       "      <th></th>\n",
       "      <th>user_id</th>\n",
       "    </tr>\n",
       "    <tr>\n",
       "      <th>group</th>\n",
       "      <th></th>\n",
       "    </tr>\n",
       "  </thead>\n",
       "  <tbody>\n",
       "    <tr>\n",
       "      <th>A</th>\n",
       "      <td>2604</td>\n",
       "    </tr>\n",
       "    <tr>\n",
       "      <th>B</th>\n",
       "      <td>876</td>\n",
       "    </tr>\n",
       "  </tbody>\n",
       "</table>\n",
       "</div>"
      ],
      "text/plain": [
       "       user_id\n",
       "group         \n",
       "A         2604\n",
       "B          876"
      ]
     },
     "execution_count": 102,
     "metadata": {},
     "output_type": "execute_result"
    }
   ],
   "source": [
    "pivot_total = all_data_EU[all_data_EU['event_name']=='login'].pivot_table(index='group', values='user_id', aggfunc='nunique')\n",
    "pivot_total"
   ]
  },
  {
   "cell_type": "code",
   "execution_count": 103,
   "metadata": {},
   "outputs": [
    {
     "data": {
      "text/html": [
       "<div>\n",
       "<style scoped>\n",
       "    .dataframe tbody tr th:only-of-type {\n",
       "        vertical-align: middle;\n",
       "    }\n",
       "\n",
       "    .dataframe tbody tr th {\n",
       "        vertical-align: top;\n",
       "    }\n",
       "\n",
       "    .dataframe thead th {\n",
       "        text-align: right;\n",
       "    }\n",
       "</style>\n",
       "<table border=\"1\" class=\"dataframe\">\n",
       "  <thead>\n",
       "    <tr style=\"text-align: right;\">\n",
       "      <th>event_name</th>\n",
       "      <th>product_cart</th>\n",
       "      <th>product_page</th>\n",
       "      <th>purchase</th>\n",
       "    </tr>\n",
       "    <tr>\n",
       "      <th>group</th>\n",
       "      <th></th>\n",
       "      <th></th>\n",
       "      <th></th>\n",
       "    </tr>\n",
       "  </thead>\n",
       "  <tbody>\n",
       "    <tr>\n",
       "      <th>A</th>\n",
       "      <td>782</td>\n",
       "      <td>1685</td>\n",
       "      <td>833</td>\n",
       "    </tr>\n",
       "    <tr>\n",
       "      <th>B</th>\n",
       "      <td>244</td>\n",
       "      <td>493</td>\n",
       "      <td>249</td>\n",
       "    </tr>\n",
       "  </tbody>\n",
       "</table>\n",
       "</div>"
      ],
      "text/plain": [
       "event_name  product_cart  product_page  purchase\n",
       "group                                           \n",
       "A                    782          1685       833\n",
       "B                    244           493       249"
      ]
     },
     "execution_count": 103,
     "metadata": {},
     "output_type": "execute_result"
    }
   ],
   "source": [
    "pivot = all_data_EU[all_data_EU['event_name']!='login'].pivot_table(index='group', values='user_id', columns='event_name', aggfunc='nunique')\n",
    "pivot"
   ]
  },
  {
   "cell_type": "markdown",
   "metadata": {},
   "source": [
    "<div style=\"border:solid blue 1px; padding: 20px\"> \n",
    "Сравним пропорции выборок, по доле пользователей, перешедших на каждый этап воронки (страница товара, страница корзины, оформление заказа). За нулевую гипотезу примем равенство пропорций переходов в обеих группах, за альтернативную - что пропорции различаются. Уровень значимости зададим равным 5%. Так как проводится множественная проверка, используем поправку Бонферрони."
   ]
  },
  {
   "cell_type": "code",
   "execution_count": 106,
   "metadata": {},
   "outputs": [],
   "source": [
    "def z_test(group1, group2, event):\n",
    "    \n",
    "    alpha = .05\n",
    "    bonferroni_alpha = alpha / 3 #количество сравнений равно 3\n",
    "        \n",
    "    # пропорция успехов в первой группе:\n",
    "    p1 = pivot.loc[group1][event]/pivot_total.loc[group1]['user_id']\n",
    "\n",
    "    # пропорция успехов во второй группе:\n",
    "    p2 = pivot.loc[group2][event]/pivot_total.loc[group2]['user_id']\n",
    "\n",
    "    # пропорция успехов в комбинированном датасете:\n",
    "    p_combined = (pivot.loc[group1][event] + pivot.loc[group2][event]) / (pivot_total.loc[group1]['user_id'] + pivot_total.loc[group2]['user_id'])\n",
    "\n",
    "    # разница пропорций в датасетах\n",
    "    difference = p1 - p2 \n",
    "\n",
    "    # считаем статистику в ст.отклонениях стандартного нормального распределения\n",
    "    z_value = difference / mth.sqrt(p_combined * (1 - p_combined) * (1/pivot_total.loc[group1]['user_id'] + 1/pivot_total.loc[group2]['user_id']))\n",
    "\n",
    "    # задаем стандартное нормальное распределение (среднее 0, ст.отклонение 1)\n",
    "    distr = st.norm(0, 1)  \n",
    "\n",
    "    p_value = (1 - distr.cdf(abs(z_value))) * 2\n",
    "\n",
    "    print('Проверка гипотезы о равенстве долей пользователей, перешедших на этап {}'.format(event))\n",
    "    \n",
    "    if p_value < bonferroni_alpha:\n",
    "        print('Отвергаем нулевую гипотезу')\n",
    "    else:\n",
    "        print('Не получилось отвергнуть нулевую гипотезу')"
   ]
  },
  {
   "cell_type": "code",
   "execution_count": 107,
   "metadata": {},
   "outputs": [
    {
     "name": "stdout",
     "output_type": "stream",
     "text": [
      "Проверка гипотезы о равенстве долей пользователей, перешедших на этап product_cart\n",
      "Не получилось отвергнуть нулевую гипотезу\n",
      "\n",
      "Проверка гипотезы о равенстве долей пользователей, перешедших на этап product_page\n",
      "Отвергаем нулевую гипотезу\n",
      "\n",
      "Проверка гипотезы о равенстве долей пользователей, перешедших на этап purchase\n",
      "Не получилось отвергнуть нулевую гипотезу\n",
      "\n"
     ]
    }
   ],
   "source": [
    "for event in pivot.columns:\n",
    "    z_test('A', 'B', event)\n",
    "    print()"
   ]
  },
  {
   "cell_type": "markdown",
   "metadata": {},
   "source": [
    "<div style=\"border:solid blue 1px; padding: 20px\"> \n",
    "Таким образом доли конверсии на этапе перехода на страницу товара разные, а перехода на страницу корзины и оформления заказа в обеих группах равны"
   ]
  },
  {
   "cell_type": "markdown",
   "metadata": {},
   "source": [
    "### Стабильность кумулятивных метрик"
   ]
  },
  {
   "cell_type": "code",
   "execution_count": 108,
   "metadata": {},
   "outputs": [
    {
     "data": {
      "text/html": [
       "<div>\n",
       "<style scoped>\n",
       "    .dataframe tbody tr th:only-of-type {\n",
       "        vertical-align: middle;\n",
       "    }\n",
       "\n",
       "    .dataframe tbody tr th {\n",
       "        vertical-align: top;\n",
       "    }\n",
       "\n",
       "    .dataframe thead th {\n",
       "        text-align: right;\n",
       "    }\n",
       "</style>\n",
       "<table border=\"1\" class=\"dataframe\">\n",
       "  <thead>\n",
       "    <tr style=\"text-align: right;\">\n",
       "      <th></th>\n",
       "      <th>user_id</th>\n",
       "      <th>group</th>\n",
       "      <th>ab_test</th>\n",
       "      <th>event_dt</th>\n",
       "      <th>event_name</th>\n",
       "      <th>details</th>\n",
       "      <th>first_date</th>\n",
       "      <th>region</th>\n",
       "      <th>device</th>\n",
       "      <th>diff</th>\n",
       "      <th>event_date</th>\n",
       "    </tr>\n",
       "  </thead>\n",
       "  <tbody>\n",
       "    <tr>\n",
       "      <th>0</th>\n",
       "      <td>D1ABA3E2887B6A73</td>\n",
       "      <td>A</td>\n",
       "      <td>recommender_system_test</td>\n",
       "      <td>2020-12-07 14:43:27</td>\n",
       "      <td>purchase</td>\n",
       "      <td>99.99</td>\n",
       "      <td>2020-12-07</td>\n",
       "      <td>EU</td>\n",
       "      <td>PC</td>\n",
       "      <td>0 days 14:43:27</td>\n",
       "      <td>2020-12-07</td>\n",
       "    </tr>\n",
       "    <tr>\n",
       "      <th>2</th>\n",
       "      <td>D1ABA3E2887B6A73</td>\n",
       "      <td>A</td>\n",
       "      <td>recommender_system_test</td>\n",
       "      <td>2020-12-07 14:43:29</td>\n",
       "      <td>product_cart</td>\n",
       "      <td>0.00</td>\n",
       "      <td>2020-12-07</td>\n",
       "      <td>EU</td>\n",
       "      <td>PC</td>\n",
       "      <td>0 days 14:43:29</td>\n",
       "      <td>2020-12-07</td>\n",
       "    </tr>\n",
       "    <tr>\n",
       "      <th>4</th>\n",
       "      <td>D1ABA3E2887B6A73</td>\n",
       "      <td>A</td>\n",
       "      <td>recommender_system_test</td>\n",
       "      <td>2020-12-07 14:43:27</td>\n",
       "      <td>product_page</td>\n",
       "      <td>0.00</td>\n",
       "      <td>2020-12-07</td>\n",
       "      <td>EU</td>\n",
       "      <td>PC</td>\n",
       "      <td>0 days 14:43:27</td>\n",
       "      <td>2020-12-07</td>\n",
       "    </tr>\n",
       "    <tr>\n",
       "      <th>6</th>\n",
       "      <td>D1ABA3E2887B6A73</td>\n",
       "      <td>A</td>\n",
       "      <td>recommender_system_test</td>\n",
       "      <td>2020-12-07 14:43:27</td>\n",
       "      <td>login</td>\n",
       "      <td>0.00</td>\n",
       "      <td>2020-12-07</td>\n",
       "      <td>EU</td>\n",
       "      <td>PC</td>\n",
       "      <td>0 days 14:43:27</td>\n",
       "      <td>2020-12-07</td>\n",
       "    </tr>\n",
       "    <tr>\n",
       "      <th>8</th>\n",
       "      <td>A7A3664BD6242119</td>\n",
       "      <td>A</td>\n",
       "      <td>recommender_system_test</td>\n",
       "      <td>2020-12-20 15:46:06</td>\n",
       "      <td>product_page</td>\n",
       "      <td>0.00</td>\n",
       "      <td>2020-12-20</td>\n",
       "      <td>EU</td>\n",
       "      <td>iPhone</td>\n",
       "      <td>0 days 15:46:06</td>\n",
       "      <td>2020-12-20</td>\n",
       "    </tr>\n",
       "  </tbody>\n",
       "</table>\n",
       "</div>"
      ],
      "text/plain": [
       "            user_id group                  ab_test            event_dt  \\\n",
       "0  D1ABA3E2887B6A73     A  recommender_system_test 2020-12-07 14:43:27   \n",
       "2  D1ABA3E2887B6A73     A  recommender_system_test 2020-12-07 14:43:29   \n",
       "4  D1ABA3E2887B6A73     A  recommender_system_test 2020-12-07 14:43:27   \n",
       "6  D1ABA3E2887B6A73     A  recommender_system_test 2020-12-07 14:43:27   \n",
       "8  A7A3664BD6242119     A  recommender_system_test 2020-12-20 15:46:06   \n",
       "\n",
       "     event_name  details first_date region  device            diff  event_date  \n",
       "0      purchase    99.99 2020-12-07     EU      PC 0 days 14:43:27  2020-12-07  \n",
       "2  product_cart     0.00 2020-12-07     EU      PC 0 days 14:43:29  2020-12-07  \n",
       "4  product_page     0.00 2020-12-07     EU      PC 0 days 14:43:27  2020-12-07  \n",
       "6         login     0.00 2020-12-07     EU      PC 0 days 14:43:27  2020-12-07  \n",
       "8  product_page     0.00 2020-12-20     EU  iPhone 0 days 15:46:06  2020-12-20  "
      ]
     },
     "execution_count": 108,
     "metadata": {},
     "output_type": "execute_result"
    }
   ],
   "source": [
    "all_data_EU.head()"
   ]
  },
  {
   "cell_type": "markdown",
   "metadata": {},
   "source": [
    "<div style=\"border:solid blue 1px; padding: 20px\"> \n",
    "Далее изучим графики накапливаемых данных, построим графики кумулятивной конверсии по дням по группам"
   ]
  },
  {
   "cell_type": "markdown",
   "metadata": {},
   "source": [
    "<div style=\"border:solid blue 1px; padding: 20px\"> \n",
    "Соберем и агрегируем данные по каждому этапу"
   ]
  },
  {
   "cell_type": "code",
   "execution_count": 109,
   "metadata": {},
   "outputs": [],
   "source": [
    "data_login = all_data_EU[all_data_EU['event_name']=='login']\n",
    "data_product_page = all_data_EU[all_data_EU['event_name']=='product_page']\n",
    "data_product_cart = all_data_EU[all_data_EU['event_name']=='product_cart']\n",
    "data_purchase = all_data_EU[all_data_EU['event_name']=='purchase']"
   ]
  },
  {
   "cell_type": "code",
   "execution_count": 110,
   "metadata": {},
   "outputs": [],
   "source": [
    "datesGroups = data_purchase[['event_date','group']].drop_duplicates() #для подсчета количества заказов"
   ]
  },
  {
   "cell_type": "code",
   "execution_count": 111,
   "metadata": {},
   "outputs": [],
   "source": [
    "datesGroups_2 = all_data_EU[['event_date','group']].drop_duplicates() #для подсчета количества посетителей"
   ]
  },
  {
   "cell_type": "code",
   "execution_count": 112,
   "metadata": {},
   "outputs": [],
   "source": [
    "datesGroups_3 = data_login[['event_date','group']].drop_duplicates() #для подсчета количества авторизаций"
   ]
  },
  {
   "cell_type": "code",
   "execution_count": 113,
   "metadata": {},
   "outputs": [],
   "source": [
    "datesGroups_4 = data_product_page[['event_date','group']].drop_duplicates() #для подсчета количества посещений страниц товара"
   ]
  },
  {
   "cell_type": "code",
   "execution_count": 114,
   "metadata": {},
   "outputs": [],
   "source": [
    "datesGroups_5 = data_product_cart[['event_date','group']].drop_duplicates() #для подсчета количества посещений корзины"
   ]
  },
  {
   "cell_type": "code",
   "execution_count": 115,
   "metadata": {},
   "outputs": [],
   "source": [
    "visitorsAggregated = (datesGroups_2.apply(lambda x: all_data_EU[\n",
    "    np.logical_and(all_data_EU['event_date'] <= x['event_date'], all_data_EU['group'] == x['group'])]\n",
    "    .agg({'event_date' : 'max', 'group' : 'max', 'user_id' : 'nunique'}), axis=1)\n",
    "    .sort_values(by=['event_date','group'])) #объединенные данные о количестве посетителей"
   ]
  },
  {
   "cell_type": "code",
   "execution_count": 116,
   "metadata": {},
   "outputs": [],
   "source": [
    "purchasesAggregated = (datesGroups.apply(lambda x: data_purchase[\n",
    "    np.logical_and(data_purchase['event_date'] <= x['event_date'], data_purchase['group'] == x['group'])]\n",
    "    .agg({'event_date' : 'max', 'group' : 'max', 'user_id' : 'nunique', 'details':'sum'}), axis=1)\n",
    "    .sort_values(by=['event_date','group'])) #объединенные данные о количестве заказов"
   ]
  },
  {
   "cell_type": "code",
   "execution_count": 117,
   "metadata": {},
   "outputs": [],
   "source": [
    "loginsAggregated = (datesGroups_3.apply(lambda x: data_login[\n",
    "    np.logical_and(data_login['event_date'] <= x['event_date'], data_login['group'] == x['group'])]\n",
    "    .agg({'event_date' : 'max', 'group' : 'max', 'user_id' : 'nunique'}), axis=1)\n",
    "    .sort_values(by=['event_date','group'])) #объединенные данные о количестве логов"
   ]
  },
  {
   "cell_type": "code",
   "execution_count": 118,
   "metadata": {},
   "outputs": [],
   "source": [
    "product_pageAggregated = (datesGroups_4.apply(lambda x: data_product_page[\n",
    "    np.logical_and(data_product_page['event_date'] <= x['event_date'], data_product_page['group'] == x['group'])]\n",
    "    .agg({'event_date' : 'max', 'group' : 'max', 'user_id' : 'nunique'}), axis=1)\n",
    "    .sort_values(by=['event_date','group'])) #объединенные данные о количестве посещений страниц товаров"
   ]
  },
  {
   "cell_type": "code",
   "execution_count": 119,
   "metadata": {},
   "outputs": [],
   "source": [
    "product_cartAggregated = (datesGroups_5.apply(lambda x: data_product_cart[\n",
    "    np.logical_and(data_product_cart['event_date'] <= x['event_date'], data_product_cart['group'] == x['group'])]\n",
    "    .agg({'event_date' : 'max', 'group' : 'max', 'user_id' : 'nunique'}), axis=1)\n",
    "    .sort_values(by=['event_date','group'])) #объединенные данные о количестве посещений корзины"
   ]
  },
  {
   "cell_type": "code",
   "execution_count": 120,
   "metadata": {},
   "outputs": [
    {
     "data": {
      "text/html": [
       "<div>\n",
       "<style scoped>\n",
       "    .dataframe tbody tr th:only-of-type {\n",
       "        vertical-align: middle;\n",
       "    }\n",
       "\n",
       "    .dataframe tbody tr th {\n",
       "        vertical-align: top;\n",
       "    }\n",
       "\n",
       "    .dataframe thead th {\n",
       "        text-align: right;\n",
       "    }\n",
       "</style>\n",
       "<table border=\"1\" class=\"dataframe\">\n",
       "  <thead>\n",
       "    <tr style=\"text-align: right;\">\n",
       "      <th></th>\n",
       "      <th>event_date</th>\n",
       "      <th>group</th>\n",
       "      <th>user_id</th>\n",
       "      <th>details</th>\n",
       "    </tr>\n",
       "  </thead>\n",
       "  <tbody>\n",
       "    <tr>\n",
       "      <th>0</th>\n",
       "      <td>2020-12-07</td>\n",
       "      <td>A</td>\n",
       "      <td>43</td>\n",
       "      <td>1104.57</td>\n",
       "    </tr>\n",
       "    <tr>\n",
       "      <th>105</th>\n",
       "      <td>2020-12-07</td>\n",
       "      <td>B</td>\n",
       "      <td>59</td>\n",
       "      <td>704.41</td>\n",
       "    </tr>\n",
       "    <tr>\n",
       "      <th>5381</th>\n",
       "      <td>2020-12-08</td>\n",
       "      <td>A</td>\n",
       "      <td>65</td>\n",
       "      <td>1859.24</td>\n",
       "    </tr>\n",
       "    <tr>\n",
       "      <th>195</th>\n",
       "      <td>2020-12-08</td>\n",
       "      <td>B</td>\n",
       "      <td>69</td>\n",
       "      <td>1189.08</td>\n",
       "    </tr>\n",
       "    <tr>\n",
       "      <th>60</th>\n",
       "      <td>2020-12-09</td>\n",
       "      <td>A</td>\n",
       "      <td>88</td>\n",
       "      <td>2618.77</td>\n",
       "    </tr>\n",
       "  </tbody>\n",
       "</table>\n",
       "</div>"
      ],
      "text/plain": [
       "      event_date group  user_id  details\n",
       "0     2020-12-07     A       43  1104.57\n",
       "105   2020-12-07     B       59   704.41\n",
       "5381  2020-12-08     A       65  1859.24\n",
       "195   2020-12-08     B       69  1189.08\n",
       "60    2020-12-09     A       88  2618.77"
      ]
     },
     "execution_count": 120,
     "metadata": {},
     "output_type": "execute_result"
    }
   ],
   "source": [
    "purchasesAggregated.head()"
   ]
  },
  {
   "cell_type": "code",
   "execution_count": 121,
   "metadata": {},
   "outputs": [],
   "source": [
    "cumulativeData = (purchasesAggregated.merge(visitorsAggregated, left_on=['event_date', 'group']\n",
    "                                         , right_on=['event_date', 'group']))\n",
    "cumulativeData.columns = ['event_date','group', 'purchases_qty', 'revenue_sum', 'visitors_qty'] #объединенные данные о количестве заказов и регистраций"
   ]
  },
  {
   "cell_type": "code",
   "execution_count": 122,
   "metadata": {},
   "outputs": [
    {
     "data": {
      "text/html": [
       "<div>\n",
       "<style scoped>\n",
       "    .dataframe tbody tr th:only-of-type {\n",
       "        vertical-align: middle;\n",
       "    }\n",
       "\n",
       "    .dataframe tbody tr th {\n",
       "        vertical-align: top;\n",
       "    }\n",
       "\n",
       "    .dataframe thead th {\n",
       "        text-align: right;\n",
       "    }\n",
       "</style>\n",
       "<table border=\"1\" class=\"dataframe\">\n",
       "  <thead>\n",
       "    <tr style=\"text-align: right;\">\n",
       "      <th></th>\n",
       "      <th>event_date</th>\n",
       "      <th>group</th>\n",
       "      <th>purchases_qty</th>\n",
       "      <th>revenue_sum</th>\n",
       "      <th>visitors_qty</th>\n",
       "    </tr>\n",
       "  </thead>\n",
       "  <tbody>\n",
       "    <tr>\n",
       "      <th>0</th>\n",
       "      <td>2020-12-07</td>\n",
       "      <td>A</td>\n",
       "      <td>43</td>\n",
       "      <td>1104.57</td>\n",
       "      <td>148</td>\n",
       "    </tr>\n",
       "    <tr>\n",
       "      <th>1</th>\n",
       "      <td>2020-12-07</td>\n",
       "      <td>B</td>\n",
       "      <td>59</td>\n",
       "      <td>704.41</td>\n",
       "      <td>163</td>\n",
       "    </tr>\n",
       "    <tr>\n",
       "      <th>2</th>\n",
       "      <td>2020-12-08</td>\n",
       "      <td>A</td>\n",
       "      <td>65</td>\n",
       "      <td>1859.24</td>\n",
       "      <td>240</td>\n",
       "    </tr>\n",
       "    <tr>\n",
       "      <th>3</th>\n",
       "      <td>2020-12-08</td>\n",
       "      <td>B</td>\n",
       "      <td>69</td>\n",
       "      <td>1189.08</td>\n",
       "      <td>207</td>\n",
       "    </tr>\n",
       "    <tr>\n",
       "      <th>4</th>\n",
       "      <td>2020-12-09</td>\n",
       "      <td>A</td>\n",
       "      <td>88</td>\n",
       "      <td>2618.77</td>\n",
       "      <td>322</td>\n",
       "    </tr>\n",
       "  </tbody>\n",
       "</table>\n",
       "</div>"
      ],
      "text/plain": [
       "   event_date group  purchases_qty  revenue_sum  visitors_qty\n",
       "0  2020-12-07     A             43      1104.57           148\n",
       "1  2020-12-07     B             59       704.41           163\n",
       "2  2020-12-08     A             65      1859.24           240\n",
       "3  2020-12-08     B             69      1189.08           207\n",
       "4  2020-12-09     A             88      2618.77           322"
      ]
     },
     "execution_count": 122,
     "metadata": {},
     "output_type": "execute_result"
    }
   ],
   "source": [
    "cumulativeData.head()"
   ]
  },
  {
   "cell_type": "code",
   "execution_count": 123,
   "metadata": {},
   "outputs": [],
   "source": [
    "cumulativeData2 = (loginsAggregated.merge(visitorsAggregated, left_on=['event_date', 'group']\n",
    "                                         , right_on=['event_date', 'group']))\n",
    "cumulativeData2.columns = ['event_date','group', 'logins_qty', 'visitors_qty'] #объединенные данные о количестве логов и регистраций"
   ]
  },
  {
   "cell_type": "code",
   "execution_count": 124,
   "metadata": {},
   "outputs": [],
   "source": [
    "cumulativeData3 = (product_pageAggregated.merge(visitorsAggregated, left_on=['event_date', 'group']\n",
    "                                         , right_on=['event_date', 'group']))\n",
    "cumulativeData3.columns = ['event_date','group', 'product_page_qty', 'visitors_qty'] #объединенные данные о количестве посещений страниц товаров и регистраций"
   ]
  },
  {
   "cell_type": "code",
   "execution_count": 125,
   "metadata": {},
   "outputs": [],
   "source": [
    "cumulativeData4 = (product_cartAggregated.merge(visitorsAggregated, left_on=['event_date', 'group']\n",
    "                                         , right_on=['event_date', 'group']))\n",
    "cumulativeData4.columns = ['event_date','group', 'product_cart_qty', 'visitors_qty'] #объединенные данные о количестве посещений корзины и регистраций"
   ]
  },
  {
   "cell_type": "markdown",
   "metadata": {},
   "source": [
    "<div style=\"border:solid blue 1px; padding: 20px\"> \n",
    "Посчитаем конверсию каждого этапа: сколько посетителей авторизировались/перешли на страницу товара/корзины, оформили покупку"
   ]
  },
  {
   "cell_type": "code",
   "execution_count": 126,
   "metadata": {},
   "outputs": [],
   "source": [
    "cumulativeData['conversion'] = cumulativeData['purchases_qty'] / cumulativeData['visitors_qty']\n",
    "cumulativeData2['conversion'] = cumulativeData2['logins_qty'] / cumulativeData2['visitors_qty']\n",
    "cumulativeData3['conversion'] = cumulativeData3['product_page_qty'] / cumulativeData3['visitors_qty']\n",
    "cumulativeData4['conversion'] = cumulativeData4['product_cart_qty'] / cumulativeData4['visitors_qty']"
   ]
  },
  {
   "cell_type": "markdown",
   "metadata": {},
   "source": [
    "<div style=\"border:solid blue 1px; padding: 20px\"> \n",
    "Построим графики кумулятивной конверсии по каждому этапу"
   ]
  },
  {
   "cell_type": "code",
   "execution_count": 127,
   "metadata": {},
   "outputs": [
    {
     "data": {
      "image/png": "[encoded data removed]",
      "text/plain": [
       "<Figure size 864x576 with 1 Axes>"
      ]
     },
     "metadata": {
      "needs_background": "light"
     },
     "output_type": "display_data"
    }
   ],
   "source": [
    "cumulativeDataA = cumulativeData[cumulativeData['group']=='A']\n",
    "cumulativeDataB = cumulativeData[cumulativeData['group']=='B']\n",
    "\n",
    "plt.figure(figsize=(12, 8))\n",
    "plt.plot(cumulativeDataA['event_date'], cumulativeDataA['conversion'], label='A')\n",
    "plt.plot(cumulativeDataB['event_date'], cumulativeDataB['conversion'], label='B')\n",
    "plt.legend()\n",
    "plt.ylabel('Конверсия')\n",
    "plt.xlabel('Дата')\n",
    "plt.title('График кумулятивной конверсии в заказы по группам')\n",
    "plt.axhline(y=0.32, color='black', linestyle='--')\n",
    "plt.axhline(y=0.285, color='grey', linestyle='--')\n",
    "plt.show()"
   ]
  },
  {
   "cell_type": "markdown",
   "metadata": {},
   "source": [
    "<div style=\"border:solid blue 1px; padding: 20px\"> \n",
    "В начале теста конверсия в заказы была выше у группы B. До 13 декабря конверсия в обеих группах снизилась примерно на 5%. Далее по группе B она выравнялась и оставалась неизменной до конца теста (28,5%). А по группе A конверсия за неделю выросла на 8%  с 13 по 21 декабря. Далее она также осталась неизменной до конца теста (32%). Стабильность показателя после 21 декабря можно объяснить прекращением регистрации новых пользователей."
   ]
  },
  {
   "cell_type": "code",
   "execution_count": 128,
   "metadata": {},
   "outputs": [
    {
     "data": {
      "image/png": "[encoded data removed]",
      "text/plain": [
       "<Figure size 864x576 with 1 Axes>"
      ]
     },
     "metadata": {
      "needs_background": "light"
     },
     "output_type": "display_data"
    }
   ],
   "source": [
    "cumulativeData2A = cumulativeData2[cumulativeData2['group']=='A']\n",
    "cumulativeData2B = cumulativeData2[cumulativeData2['group']=='B']\n",
    "\n",
    "plt.figure(figsize=(12, 8))\n",
    "plt.plot(cumulativeData2A['event_date'], cumulativeData2A['conversion'], label='A')\n",
    "plt.plot(cumulativeData2B['event_date'], cumulativeData2B['conversion'], label='B')\n",
    "plt.legend()\n",
    "plt.ylabel('Конверсия')\n",
    "plt.xlabel('Дата')\n",
    "plt.title('График кумулятивной конверсии в логи по группам')\n",
    "plt.axhline(y=1, color='black', linestyle='--')\n",
    "plt.axhline(y=0.999, color='grey', linestyle='--')\n",
    "plt.show()"
   ]
  },
  {
   "cell_type": "markdown",
   "metadata": {},
   "source": [
    "<div style=\"border:solid blue 1px; padding: 20px\"> \n",
    "Конверсия в авторизацию группы А стабильно равна 100%, тогда как по группе В в начале теста составляла 95%, а с 13 декабря почти достигла отметки в 100%"
   ]
  },
  {
   "cell_type": "code",
   "execution_count": 129,
   "metadata": {},
   "outputs": [
    {
     "data": {
      "image/png": "[encoded data removed]",
      "text/plain": [
       "<Figure size 864x576 with 1 Axes>"
      ]
     },
     "metadata": {
      "needs_background": "light"
     },
     "output_type": "display_data"
    }
   ],
   "source": [
    "cumulativeData3A = cumulativeData3[cumulativeData3['group']=='A']\n",
    "cumulativeData3B = cumulativeData3[cumulativeData3['group']=='B']\n",
    "\n",
    "plt.figure(figsize=(12, 8))\n",
    "plt.plot(cumulativeData3A['event_date'], cumulativeData3A['conversion'], label='A')\n",
    "plt.plot(cumulativeData3B['event_date'], cumulativeData3B['conversion'], label='B')\n",
    "plt.legend()\n",
    "plt.ylabel('Конверсия')\n",
    "plt.xlabel('Дата')\n",
    "plt.title('График кумулятивной конверсии в посещение страницы товара по группам')\n",
    "plt.axhline(y=0.645, color='black', linestyle='--')\n",
    "plt.axhline(y=0.56, color='grey', linestyle='--')\n",
    "plt.show()"
   ]
  },
  {
   "cell_type": "markdown",
   "metadata": {},
   "source": [
    "<div style=\"border:solid blue 1px; padding: 20px\"> \n",
    "В начале теста группы А и В однинаково активно открывали страницы товаров. Далее конверсия группы А выросла 9 декабря на 2%, а далее снижалась до 60% вплоть до 13 декабря. Со следующего дня уже наблюдался рост посещений страниц товара, 21 декабря он достиг 64,5% и зафиксировался на этом уровне до конца теста.\n",
    "По группе В конверсия снижалась вплоть до 15 декабря, достигнув отметки в 55,5%. С 21 декабря конверсия зафиксировалась на отметке в 56,5%."
   ]
  },
  {
   "cell_type": "code",
   "execution_count": 130,
   "metadata": {},
   "outputs": [
    {
     "data": {
      "image/png": "[encoded data removed]",
      "text/plain": [
       "<Figure size 864x576 with 1 Axes>"
      ]
     },
     "metadata": {
      "needs_background": "light"
     },
     "output_type": "display_data"
    }
   ],
   "source": [
    "cumulativeData4A = cumulativeData3[cumulativeData4['group']=='A']\n",
    "cumulativeData4B = cumulativeData3[cumulativeData4['group']=='B']\n",
    "\n",
    "plt.figure(figsize=(12, 8))\n",
    "plt.plot(cumulativeData4A['event_date'], cumulativeData4A['conversion'], label='A')\n",
    "plt.plot(cumulativeData4B['event_date'], cumulativeData4B['conversion'], label='B')\n",
    "plt.legend()\n",
    "plt.ylabel('Конверсия')\n",
    "plt.xlabel('Дата')\n",
    "plt.title('График кумулятивной конверсии в посещение корзины по группам')\n",
    "plt.axhline(y=0.645, color='black', linestyle='--')\n",
    "plt.axhline(y=0.56, color='grey', linestyle='--')\n",
    "plt.show()"
   ]
  },
  {
   "cell_type": "markdown",
   "metadata": {},
   "source": [
    "<div style=\"border:solid blue 1px; padding: 20px\"> \n",
    "Динамика конверсии в посещение корзины похожа на конверсию в посещение страницы товара. На конец периода по группе А она зафиксировалась на 64,5%, по группе В - 56,5%."
   ]
  },
  {
   "cell_type": "markdown",
   "metadata": {},
   "source": [
    "<div style=\"border:solid blue 1px; padding: 20px\"> \n",
    "Далее построим графики относительного изменения кумулятивной конверсии группы B к группе A"
   ]
  },
  {
   "cell_type": "code",
   "execution_count": 131,
   "metadata": {},
   "outputs": [
    {
     "name": "stderr",
     "output_type": "stream",
     "text": [
      "No handles with labels found to put in legend.\n"
     ]
    },
    {
     "data": {
      "image/png": "[encoded data removed]",
      "text/plain": [
       "<Figure size 864x576 with 1 Axes>"
      ]
     },
     "metadata": {
      "needs_background": "light"
     },
     "output_type": "display_data"
    }
   ],
   "source": [
    "cumulative_conversion_merged_purchases = (cumulativeDataA[['event_date', 'conversion']]\n",
    "                                .merge(cumulativeDataB[['event_date', 'conversion']]\n",
    "                                       , left_on='event_date', right_on='event_date', suffixes=['A', 'B']))\n",
    "\n",
    "plt.figure(figsize=(12, 8))\n",
    "plt.plot(cumulative_conversion_merged_purchases['event_date'], cumulative_conversion_merged_purchases['conversionB']/\n",
    "         cumulative_conversion_merged_purchases['conversionA'] - 1)\n",
    "plt.legend()\n",
    "plt.rcParams[\"figure.figsize\"] = (12,8)\n",
    "plt.title('График относительного изменения кумулятивной конверсии в заказы группы B к группе A')\n",
    "plt.axhline(y=0, color='black', linestyle='--')\n",
    "plt.axhline(y=-0.11, color='grey', linestyle='--')\n",
    "plt.show()"
   ]
  },
  {
   "cell_type": "markdown",
   "metadata": {},
   "source": [
    "<div style=\"border:solid blue 1px; padding: 20px\"> \n",
    "Конверсия в заказы группы В с момента начала теста снизилась на 35 %. К окончанию теста конверсия группы A превышала конверсию группы В на 10%."
   ]
  },
  {
   "cell_type": "code",
   "execution_count": 132,
   "metadata": {},
   "outputs": [
    {
     "name": "stderr",
     "output_type": "stream",
     "text": [
      "No handles with labels found to put in legend.\n"
     ]
    },
    {
     "data": {
      "image/png": "[encoded data removed]",
      "text/plain": [
       "<Figure size 864x576 with 1 Axes>"
      ]
     },
     "metadata": {
      "needs_background": "light"
     },
     "output_type": "display_data"
    }
   ],
   "source": [
    "cumulative_conversion_merged_logins = (cumulativeData2A[['event_date', 'conversion']]\n",
    "                                .merge(cumulativeData2B[['event_date', 'conversion']]\n",
    "                                       , left_on='event_date', right_on='event_date', suffixes=['A', 'B']))\n",
    "\n",
    "plt.figure(figsize=(12, 8))\n",
    "plt.plot(cumulative_conversion_merged_logins['event_date'], cumulative_conversion_merged_logins['conversionB']/\n",
    "         cumulative_conversion_merged_logins['conversionA'] - 1)\n",
    "plt.legend()\n",
    "plt.rcParams[\"figure.figsize\"] = (12,8)\n",
    "plt.title('График относительного изменения кумулятивной конверсии в логи группы B к группе A')\n",
    "plt.axhline(y=0, color='black', linestyle='--')\n",
    "plt.axhline(y=-0.001, color='grey', linestyle='--')\n",
    "plt.show()"
   ]
  },
  {
   "cell_type": "markdown",
   "metadata": {},
   "source": [
    "<div style=\"border:solid blue 1px; padding: 20px\"> \n",
    "Конверсия в логи группы В с момента начала теста повысилась на 5 %. К окончанию теста конверсия группы A превышала конверсию группы В на 0,1%."
   ]
  },
  {
   "cell_type": "code",
   "execution_count": 133,
   "metadata": {},
   "outputs": [
    {
     "name": "stderr",
     "output_type": "stream",
     "text": [
      "No handles with labels found to put in legend.\n"
     ]
    },
    {
     "data": {
      "image/png": "[encoded data removed]",
      "text/plain": [
       "<Figure size 864x576 with 1 Axes>"
      ]
     },
     "metadata": {
      "needs_background": "light"
     },
     "output_type": "display_data"
    }
   ],
   "source": [
    "cumulative_conversion_merged_product_page = (cumulativeData3A[['event_date', 'conversion']]\n",
    "                                .merge(cumulativeData3B[['event_date', 'conversion']]\n",
    "                                       , left_on='event_date', right_on='event_date', suffixes=['A', 'B']))\n",
    "\n",
    "plt.figure(figsize=(12, 8))\n",
    "plt.plot(cumulative_conversion_merged_product_page['event_date'], cumulative_conversion_merged_product_page['conversionB']/\n",
    "         cumulative_conversion_merged_product_page['conversionA'] - 1)\n",
    "plt.legend()\n",
    "plt.rcParams[\"figure.figsize\"] = (12,8)\n",
    "plt.title('График относительного изменения кумулятивной конверсии в посещение страниц товара группы B к группе A')\n",
    "plt.axhline(y=0, color='black', linestyle='--')\n",
    "plt.axhline(y=-0.13, color='grey', linestyle='--')\n",
    "plt.show()"
   ]
  },
  {
   "cell_type": "markdown",
   "metadata": {},
   "source": [
    "<div style=\"border:solid blue 1px; padding: 20px\"> \n",
    "Конверсия в посещение страниц товара группы В с момента начала теста снизилась на 13 %. К окончанию теста конверсия группы A превышала конверсию группы В на 13%."
   ]
  },
  {
   "cell_type": "code",
   "execution_count": 134,
   "metadata": {},
   "outputs": [
    {
     "name": "stderr",
     "output_type": "stream",
     "text": [
      "No handles with labels found to put in legend.\n"
     ]
    },
    {
     "data": {
      "image/png": "[encoded data removed]",
      "text/plain": [
       "<Figure size 864x576 with 1 Axes>"
      ]
     },
     "metadata": {
      "needs_background": "light"
     },
     "output_type": "display_data"
    }
   ],
   "source": [
    "cumulative_conversion_merged_product_cart = (cumulativeData4A[['event_date', 'conversion']]\n",
    "                                .merge(cumulativeData4B[['event_date', 'conversion']]\n",
    "                                       , left_on='event_date', right_on='event_date', suffixes=['A', 'B']))\n",
    "\n",
    "plt.figure(figsize=(12, 8))\n",
    "plt.plot(cumulative_conversion_merged_product_cart['event_date'], cumulative_conversion_merged_product_cart['conversionB']/\n",
    "         cumulative_conversion_merged_product_cart['conversionA'] - 1)\n",
    "plt.legend()\n",
    "plt.rcParams[\"figure.figsize\"] = (12,8)\n",
    "plt.title('График относительного изменения кумулятивной конверсии в посещение корзины группы B к группе A')\n",
    "plt.axhline(y=0, color='black', linestyle='--')\n",
    "plt.axhline(y=-0.13, color='grey', linestyle='--')\n",
    "plt.show()"
   ]
  },
  {
   "cell_type": "markdown",
   "metadata": {},
   "source": [
    "<div style=\"border:solid blue 1px; padding: 20px\"> \n",
    "Конверсия в посещение корзины группы В с момента начала теста снизилась на 13 %. К окончанию теста конверсия группы A превышала конверсию группы В на 13%."
   ]
  },
  {
   "cell_type": "markdown",
   "metadata": {},
   "source": [
    "<div style=\"border:solid blue 1px; padding: 20px\"> \n",
    "Далее построим графики кумулятивной выручки по группам и кумулятивного среднего чека по группам"
   ]
  },
  {
   "cell_type": "code",
   "execution_count": 135,
   "metadata": {},
   "outputs": [
    {
     "data": {
      "image/png": "[encoded data removed]",
      "text/plain": [
       "<Figure size 864x576 with 1 Axes>"
      ]
     },
     "metadata": {
      "needs_background": "light"
     },
     "output_type": "display_data"
    }
   ],
   "source": [
    "cumulative_revenue_a = cumulativeData[cumulativeData['group'] == 'A']\n",
    "[['event_date', 'purchases_qty', 'revenue_sum']]\n",
    "cumulative_revenue_b = cumulativeData[cumulativeData['group'] == 'B']\n",
    "[['event_date', 'purchases_qty', 'revenue_sum']]\n",
    "\n",
    "plt.rcParams[\"figure.figsize\"] = (12,8)\n",
    "plt.plot(cumulative_revenue_a['event_date'], cumulative_revenue_a['revenue_sum'], label='A')\n",
    "plt.plot(cumulative_revenue_b['event_date'], cumulative_revenue_b['revenue_sum'], label='B')\n",
    "plt.legend()\n",
    "plt.ylabel('Кумулятивная выручка, млн.')\n",
    "plt.xlabel('Дата заказа')\n",
    "plt.title('График кумулятивной выручки по группам')\n",
    "plt.axhline(y=57000, color='black', linestyle='--')\n",
    "plt.axhline(y=15000, color='grey', linestyle='--')\n",
    "plt.show()"
   ]
  },
  {
   "cell_type": "markdown",
   "metadata": {},
   "source": [
    "<div style=\"border:solid blue 1px; padding: 20px\"> \n",
    "До 13 декабря выручка по группам была примерно одинаковой. Далее по группе А выручка начало резко расти и к 29 декабря увеличилась до 57000 у.е. По группе В на конец периода выручка составила 15000 у.е."
   ]
  },
  {
   "cell_type": "code",
   "execution_count": 136,
   "metadata": {},
   "outputs": [
    {
     "data": {
      "image/png": "[encoded data removed]",
      "text/plain": [
       "<Figure size 864x576 with 1 Axes>"
      ]
     },
     "metadata": {
      "needs_background": "light"
     },
     "output_type": "display_data"
    }
   ],
   "source": [
    "plt.plot(cumulative_revenue_a['event_date'], cumulative_revenue_a['revenue_sum']/\n",
    "         cumulative_revenue_a['purchases_qty'], label='A')\n",
    "plt.plot(cumulative_revenue_b['event_date'], cumulative_revenue_b['revenue_sum']/\n",
    "         cumulative_revenue_b['purchases_qty'], label='B')\n",
    "plt.legend()\n",
    "plt.rcParams[\"figure.figsize\"] = (12,8)\n",
    "plt.ylabel('Сумма среднего чека')\n",
    "plt.xlabel('Дата заказа')\n",
    "plt.title('График кумулятивного среднего чека по группам')\n",
    "plt.axhline(y=69, color='black', linestyle='--')\n",
    "plt.axhline(y=57, color='grey', linestyle='--')\n",
    "plt.show()"
   ]
  },
  {
   "cell_type": "markdown",
   "metadata": {},
   "source": [
    "<div style=\"border:solid blue 1px; padding: 20px\"> \n",
    "С 14 по 21 декабря средний чек по группам был прмерно одинаковым и колебался в пределах 35-45 у.е. К концу периода сумма среднего чека по группе А составила 69 у.е., по группе В - 57 у.е."
   ]
  },
  {
   "cell_type": "code",
   "execution_count": 137,
   "metadata": {},
   "outputs": [],
   "source": [
    "cumulative_revenue_merged = cumulative_revenue_a.merge(cumulative_revenue_b, left_on='event_date', \n",
    "                                                        right_on='event_date', suffixes=['A', 'B'])"
   ]
  },
  {
   "cell_type": "code",
   "execution_count": 138,
   "metadata": {},
   "outputs": [
    {
     "data": {
      "image/png": "[encoded data removed]",
      "text/plain": [
       "<Figure size 864x576 with 1 Axes>"
      ]
     },
     "metadata": {
      "needs_background": "light"
     },
     "output_type": "display_data"
    }
   ],
   "source": [
    "plt.plot(cumulative_revenue_merged['event_date'],\n",
    "         cumulative_revenue_merged['revenue_sumB']/\n",
    "        cumulative_revenue_merged['revenue_sumA']-1)\n",
    "plt.axhline(y=-0.75, color='black', linestyle='--')\n",
    "plt.axhline(y=-0.36, color='grey', linestyle='--')\n",
    "plt.title('График относительного изменения кумулятивной выручки группы B к группе A')\n",
    "plt.show()"
   ]
  },
  {
   "cell_type": "markdown",
   "metadata": {},
   "source": [
    "<div style=\"border:solid blue 1px; padding: 20px\"> \n",
    "В начале рассматриваемого периода выручка по группе А превышала выручку по группе В на 36%, к концу периода превышение составило уже 75%."
   ]
  },
  {
   "cell_type": "code",
   "execution_count": 139,
   "metadata": {},
   "outputs": [
    {
     "data": {
      "image/png": "[encoded data removed]",
      "text/plain": [
       "<Figure size 864x576 with 1 Axes>"
      ]
     },
     "metadata": {
      "needs_background": "light"
     },
     "output_type": "display_data"
    }
   ],
   "source": [
    "plt.plot(cumulative_revenue_merged['event_date'],\n",
    "         (cumulative_revenue_merged['revenue_sumB']/cumulative_revenue_merged['purchases_qtyB'])/\n",
    "        (cumulative_revenue_merged['revenue_sumA']/cumulative_revenue_merged['purchases_qtyA'])-1)\n",
    "plt.axhline(y=-0.54, color='black', linestyle='--')\n",
    "plt.axhline(y=-0.17, color='grey', linestyle='--')\n",
    "plt.title('График относительного изменения кумулятивного среднего чека группы B к группе A')\n",
    "plt.show()"
   ]
  },
  {
   "cell_type": "markdown",
   "metadata": {},
   "source": [
    "<div style=\"border:solid blue 1px; padding: 20px\"> \n",
    "В начале рассматриваемого периода средний чек по группе А превысил средний чек по группе В на 54%, к концу периода разница стала выравниваться и превышение составило уже 17%."
   ]
  },
  {
   "cell_type": "markdown",
   "metadata": {},
   "source": [
    "### Вывод"
   ]
  },
  {
   "cell_type": "markdown",
   "metadata": {},
   "source": [
    "<div style=\"border:solid blue 1px; padding: 20px\"> \n",
    "\n",
    "1) По итогам проверки гипотез о равенстве долей, мы наблюдаем что доля пользователей перешедших на страницу просмотра корзины и оформивших покупку одинакова для обеих групп, а вот доля перешедших на страницу просмотра товара - нет.  \n",
    "    \n",
    "2) По построенным графикам куммулятивных метрик также видно, что группа В уступает группе А как по конверсии на всех этапах, так и по выручке и среднему чеку.\n",
    "    \n",
    "3) Условие последнего пункта ТЗ \"за 14 дней с момента регистрации пользователи покажут улучшение каждой метрики не менее, чем на 10%\" не соблаюдается ни для группы А, ни для группы В."
   ]
  },
  {
   "cell_type": "markdown",
   "metadata": {},
   "source": [
    "## Выводы"
   ]
  },
  {
   "cell_type": "markdown",
   "metadata": {},
   "source": [
    "<div style=\"border:solid blue 1px; padding: 20px\"> \n",
    "    По итогам проверки A/B-тестирования можно сделать следующие выводы:\n",
    "    \n",
    "1) Тест не соответствует положениям ТЗ;\n",
    "\n",
    "2) Участники теста неравномерно распределены по группам;\n",
    "\n",
    "3) Пересечение с конкурирующим тестом;\n",
    "\n",
    "4) Некорректные временные границы теста;\n",
    "\n",
    "5) Количество событий в среднем на пользователя в выборках отличается;\n",
    "\n",
    "6) Количество событий по дням распределено неравномерно;\n",
    "\n",
    "7) Всего в имеющихся данных 4 события: авторизация, посещение страниц товара, корзины, покупка. Конверсия на каждом этапе в группе А выше, чем в группе В.\n",
    "    \n",
    "8) По итогам проверки гипотез о равенстве долей, мы наблюдаем что доля авторизировавшихся пользователей и пользователей перешедших на страницу просмотра корзины одинакова для обеих групп, а вот доля перешедших на страницу просмотра товара и оформивших покупку - нет. Здесь группа А лидирует по сравнению с группой В.\n",
    " \n",
    "9) По построенным графикам куммулятивных метрик также видно, что группа В уступает группе А как по конверсии на всех этапах, так и по выручке и среднему чеку."
   ]
  },
  {
   "cell_type": "markdown",
   "metadata": {},
   "source": [
    "<div style=\"border:solid blue 1px; padding: 20px\"> \n",
    "Таким образом нельзя сделать вывод о корректности проведенного теста, в ходе его проведения было выявлено много нарушений и несоответствий. Рекомендуется провести тест заново, с учетом описанных выше ошибок."
   ]
  }
 ],
 "metadata": {
  "ExecuteTimeLog": [
   {
    "duration": 1266,
    "start_time": "2022-07-28T18:09:30.195Z"
   },
   {
    "duration": 959,
    "start_time": "2022-07-28T18:09:51.533Z"
   },
   {
    "duration": 10,
    "start_time": "2022-07-28T18:10:05.632Z"
   },
   {
    "duration": 11,
    "start_time": "2022-07-28T18:10:11.293Z"
   },
   {
    "duration": 8,
    "start_time": "2022-07-28T18:10:25.491Z"
   },
   {
    "duration": 15,
    "start_time": "2022-07-28T18:10:25.917Z"
   },
   {
    "duration": 9,
    "start_time": "2022-07-28T18:10:32.529Z"
   },
   {
    "duration": 49,
    "start_time": "2022-07-28T18:10:39.973Z"
   },
   {
    "duration": 7,
    "start_time": "2022-07-28T18:10:46.514Z"
   },
   {
    "duration": 8,
    "start_time": "2022-07-28T18:10:54.177Z"
   },
   {
    "duration": 84,
    "start_time": "2022-07-28T18:11:00.605Z"
   },
   {
    "duration": 78,
    "start_time": "2022-07-28T18:11:18.769Z"
   },
   {
    "duration": 54,
    "start_time": "2022-07-28T18:11:29.265Z"
   },
   {
    "duration": 50,
    "start_time": "2022-07-28T18:11:34.051Z"
   },
   {
    "duration": 4,
    "start_time": "2022-07-28T18:11:51.038Z"
   },
   {
    "duration": 4,
    "start_time": "2022-07-28T18:12:01.288Z"
   },
   {
    "duration": 6,
    "start_time": "2022-07-28T18:12:12.038Z"
   },
   {
    "duration": 7,
    "start_time": "2022-07-28T18:12:18.073Z"
   },
   {
    "duration": 21,
    "start_time": "2022-07-28T18:12:24.354Z"
   },
   {
    "duration": 5,
    "start_time": "2022-07-28T18:12:32.029Z"
   },
   {
    "duration": 4,
    "start_time": "2022-07-28T18:12:41.073Z"
   },
   {
    "duration": 10,
    "start_time": "2022-07-28T18:12:54.173Z"
   },
   {
    "duration": 28,
    "start_time": "2022-07-28T18:12:59.135Z"
   },
   {
    "duration": 221,
    "start_time": "2022-07-28T18:13:04.367Z"
   },
   {
    "duration": 4,
    "start_time": "2022-07-28T18:13:09.442Z"
   },
   {
    "duration": 12,
    "start_time": "2022-07-28T18:13:26.548Z"
   },
   {
    "duration": 12,
    "start_time": "2022-07-28T18:13:54.229Z"
   },
   {
    "duration": 14,
    "start_time": "2022-07-28T18:14:03.669Z"
   },
   {
    "duration": 64,
    "start_time": "2022-07-28T18:14:11.639Z"
   },
   {
    "duration": 36,
    "start_time": "2022-07-28T18:14:15.541Z"
   },
   {
    "duration": 5,
    "start_time": "2022-07-28T18:14:20.971Z"
   },
   {
    "duration": 10,
    "start_time": "2022-07-28T18:14:25.635Z"
   },
   {
    "duration": 12,
    "start_time": "2022-07-28T18:15:54.258Z"
   },
   {
    "duration": 6,
    "start_time": "2022-07-28T18:16:12.631Z"
   },
   {
    "duration": 4,
    "start_time": "2022-07-28T18:16:20.929Z"
   },
   {
    "duration": 116,
    "start_time": "2022-07-28T18:16:28.668Z"
   },
   {
    "duration": 28,
    "start_time": "2022-07-28T18:16:35.058Z"
   },
   {
    "duration": 18,
    "start_time": "2022-07-28T18:16:39.212Z"
   },
   {
    "duration": 5,
    "start_time": "2022-07-28T18:17:07.229Z"
   },
   {
    "duration": 5,
    "start_time": "2022-07-28T18:17:49.015Z"
   },
   {
    "duration": 4,
    "start_time": "2022-07-28T18:18:10.369Z"
   },
   {
    "duration": 5,
    "start_time": "2022-07-28T18:18:19.517Z"
   },
   {
    "duration": 14,
    "start_time": "2022-07-28T18:18:45.416Z"
   },
   {
    "duration": 34,
    "start_time": "2022-07-28T18:18:59.508Z"
   },
   {
    "duration": 21,
    "start_time": "2022-07-28T18:19:17.202Z"
   },
   {
    "duration": 8,
    "start_time": "2022-07-28T18:19:41.483Z"
   },
   {
    "duration": 17,
    "start_time": "2022-07-28T18:19:47.460Z"
   },
   {
    "duration": 7,
    "start_time": "2022-07-28T18:19:53.397Z"
   },
   {
    "duration": 11,
    "start_time": "2022-07-28T18:20:44.699Z"
   },
   {
    "duration": 13,
    "start_time": "2022-07-28T18:20:57.806Z"
   },
   {
    "duration": 21,
    "start_time": "2022-07-28T18:25:23.058Z"
   },
   {
    "duration": 13,
    "start_time": "2022-07-28T18:27:16.860Z"
   },
   {
    "duration": 1219,
    "start_time": "2022-07-28T18:27:47.943Z"
   },
   {
    "duration": 13,
    "start_time": "2022-07-28T18:28:02.517Z"
   },
   {
    "duration": 19,
    "start_time": "2022-07-28T18:28:17.373Z"
   },
   {
    "duration": 11,
    "start_time": "2022-07-28T18:28:17.829Z"
   },
   {
    "duration": 6,
    "start_time": "2022-07-28T18:28:19.002Z"
   },
   {
    "duration": 6,
    "start_time": "2022-07-28T18:28:35.109Z"
   },
   {
    "duration": 5,
    "start_time": "2022-07-28T18:29:04.518Z"
   },
   {
    "duration": 4,
    "start_time": "2022-07-28T18:29:17.113Z"
   },
   {
    "duration": 25,
    "start_time": "2022-07-28T18:30:45.320Z"
   },
   {
    "duration": 22,
    "start_time": "2022-07-28T18:31:10.941Z"
   },
   {
    "duration": 18,
    "start_time": "2022-07-28T18:31:33.965Z"
   },
   {
    "duration": 11,
    "start_time": "2022-07-28T18:31:41.616Z"
   },
   {
    "duration": 6,
    "start_time": "2022-07-28T18:31:47.396Z"
   },
   {
    "duration": 12,
    "start_time": "2022-07-28T18:32:05.120Z"
   },
   {
    "duration": 2,
    "start_time": "2022-07-28T18:32:11.090Z"
   },
   {
    "duration": 7,
    "start_time": "2022-07-28T18:32:16.663Z"
   },
   {
    "duration": 24,
    "start_time": "2022-07-28T18:32:42.131Z"
   },
   {
    "duration": 8,
    "start_time": "2022-07-28T18:33:06.314Z"
   },
   {
    "duration": 29,
    "start_time": "2022-07-28T18:33:22.240Z"
   },
   {
    "duration": 458,
    "start_time": "2022-07-28T18:33:30.711Z"
   },
   {
    "duration": 19,
    "start_time": "2022-07-28T18:35:41.724Z"
   },
   {
    "duration": 26,
    "start_time": "2022-07-28T18:36:52.379Z"
   },
   {
    "duration": 434,
    "start_time": "2022-07-28T18:37:00.786Z"
   },
   {
    "duration": 23,
    "start_time": "2022-07-28T18:42:06.284Z"
   },
   {
    "duration": 8,
    "start_time": "2022-07-28T18:42:13.298Z"
   },
   {
    "duration": 7,
    "start_time": "2022-07-28T18:42:57.893Z"
   },
   {
    "duration": 20,
    "start_time": "2022-07-28T18:43:29.312Z"
   },
   {
    "duration": 403,
    "start_time": "2022-07-28T18:43:44.165Z"
   },
   {
    "duration": 28,
    "start_time": "2022-07-28T18:48:20.537Z"
   },
   {
    "duration": 29,
    "start_time": "2022-07-28T18:48:31.875Z"
   },
   {
    "duration": 11,
    "start_time": "2022-07-28T18:57:08.664Z"
   },
   {
    "duration": 5,
    "start_time": "2022-07-28T18:57:24.357Z"
   },
   {
    "duration": 5,
    "start_time": "2022-07-28T18:59:17.934Z"
   },
   {
    "duration": 5,
    "start_time": "2022-07-28T19:01:22.946Z"
   },
   {
    "duration": 8,
    "start_time": "2022-07-28T19:01:48.405Z"
   },
   {
    "duration": 11,
    "start_time": "2022-07-28T19:02:03.275Z"
   },
   {
    "duration": 7,
    "start_time": "2022-07-28T19:02:32.823Z"
   },
   {
    "duration": 7,
    "start_time": "2022-07-28T19:05:11.906Z"
   },
   {
    "duration": 15,
    "start_time": "2022-07-28T19:14:36.125Z"
   },
   {
    "duration": 5,
    "start_time": "2022-07-28T19:15:10.657Z"
   },
   {
    "duration": 5,
    "start_time": "2022-07-28T19:15:24.380Z"
   },
   {
    "duration": 5,
    "start_time": "2022-07-28T19:16:02.064Z"
   },
   {
    "duration": 8,
    "start_time": "2022-07-28T19:16:10.085Z"
   },
   {
    "duration": 5,
    "start_time": "2022-07-28T19:16:17.335Z"
   },
   {
    "duration": 32,
    "start_time": "2022-07-28T19:17:48.506Z"
   },
   {
    "duration": 42,
    "start_time": "2022-07-28T19:18:01.340Z"
   },
   {
    "duration": 6,
    "start_time": "2022-07-28T19:18:14.924Z"
   },
   {
    "duration": 5,
    "start_time": "2022-07-28T19:18:25.502Z"
   },
   {
    "duration": 7,
    "start_time": "2022-07-28T19:18:31.644Z"
   },
   {
    "duration": 5,
    "start_time": "2022-07-28T19:18:32.138Z"
   },
   {
    "duration": 1111,
    "start_time": "2022-07-28T19:18:48.157Z"
   },
   {
    "duration": 1547,
    "start_time": "2022-07-28T19:18:49.270Z"
   },
   {
    "duration": 11,
    "start_time": "2022-07-28T19:18:50.819Z"
   },
   {
    "duration": 13,
    "start_time": "2022-07-28T19:18:50.831Z"
   },
   {
    "duration": 9,
    "start_time": "2022-07-28T19:18:50.846Z"
   },
   {
    "duration": 16,
    "start_time": "2022-07-28T19:18:50.857Z"
   },
   {
    "duration": 8,
    "start_time": "2022-07-28T19:18:50.875Z"
   },
   {
    "duration": 61,
    "start_time": "2022-07-28T19:18:50.884Z"
   },
   {
    "duration": 8,
    "start_time": "2022-07-28T19:18:50.947Z"
   },
   {
    "duration": 18,
    "start_time": "2022-07-28T19:18:50.956Z"
   },
   {
    "duration": 93,
    "start_time": "2022-07-28T19:18:50.976Z"
   },
   {
    "duration": 64,
    "start_time": "2022-07-28T19:18:51.071Z"
   },
   {
    "duration": 51,
    "start_time": "2022-07-28T19:18:51.136Z"
   },
   {
    "duration": 16,
    "start_time": "2022-07-28T19:18:51.190Z"
   },
   {
    "duration": 6,
    "start_time": "2022-07-28T19:18:51.208Z"
   },
   {
    "duration": 7,
    "start_time": "2022-07-28T19:18:51.216Z"
   },
   {
    "duration": 7,
    "start_time": "2022-07-28T19:18:51.225Z"
   },
   {
    "duration": 25,
    "start_time": "2022-07-28T19:18:51.234Z"
   },
   {
    "duration": 3,
    "start_time": "2022-07-28T19:18:51.261Z"
   },
   {
    "duration": 39,
    "start_time": "2022-07-28T19:18:51.266Z"
   },
   {
    "duration": 12,
    "start_time": "2022-07-28T19:18:51.307Z"
   },
   {
    "duration": 28,
    "start_time": "2022-07-28T19:18:51.321Z"
   },
   {
    "duration": 265,
    "start_time": "2022-07-28T19:18:51.350Z"
   },
   {
    "duration": 5,
    "start_time": "2022-07-28T19:18:51.616Z"
   },
   {
    "duration": 17,
    "start_time": "2022-07-28T19:18:51.622Z"
   },
   {
    "duration": 15,
    "start_time": "2022-07-28T19:18:51.641Z"
   },
   {
    "duration": 16,
    "start_time": "2022-07-28T19:18:51.657Z"
   },
   {
    "duration": 88,
    "start_time": "2022-07-28T19:18:51.674Z"
   },
   {
    "duration": 52,
    "start_time": "2022-07-28T19:18:51.764Z"
   },
   {
    "duration": 5,
    "start_time": "2022-07-28T19:18:51.818Z"
   },
   {
    "duration": 17,
    "start_time": "2022-07-28T19:18:51.824Z"
   },
   {
    "duration": 15,
    "start_time": "2022-07-28T19:18:51.843Z"
   },
   {
    "duration": 6,
    "start_time": "2022-07-28T19:18:51.860Z"
   },
   {
    "duration": 9,
    "start_time": "2022-07-28T19:18:51.868Z"
   },
   {
    "duration": 155,
    "start_time": "2022-07-28T19:18:51.879Z"
   },
   {
    "duration": 27,
    "start_time": "2022-07-28T19:18:52.036Z"
   },
   {
    "duration": 15,
    "start_time": "2022-07-28T19:18:52.065Z"
   },
   {
    "duration": 21,
    "start_time": "2022-07-28T19:18:52.081Z"
   },
   {
    "duration": 4,
    "start_time": "2022-07-28T19:18:52.104Z"
   },
   {
    "duration": 9,
    "start_time": "2022-07-28T19:18:52.109Z"
   },
   {
    "duration": 4,
    "start_time": "2022-07-28T19:18:52.121Z"
   },
   {
    "duration": 12,
    "start_time": "2022-07-28T19:18:52.127Z"
   },
   {
    "duration": 28,
    "start_time": "2022-07-28T19:18:52.141Z"
   },
   {
    "duration": 47,
    "start_time": "2022-07-28T19:18:52.171Z"
   },
   {
    "duration": 8,
    "start_time": "2022-07-28T19:18:52.220Z"
   },
   {
    "duration": 15,
    "start_time": "2022-07-28T19:18:52.230Z"
   },
   {
    "duration": 7,
    "start_time": "2022-07-28T19:18:52.247Z"
   },
   {
    "duration": 14,
    "start_time": "2022-07-28T19:18:52.255Z"
   },
   {
    "duration": 41,
    "start_time": "2022-07-28T19:18:52.271Z"
   },
   {
    "duration": 14,
    "start_time": "2022-07-28T19:18:52.313Z"
   },
   {
    "duration": 4,
    "start_time": "2022-07-28T19:18:52.328Z"
   },
   {
    "duration": 6,
    "start_time": "2022-07-28T19:18:52.334Z"
   },
   {
    "duration": 9,
    "start_time": "2022-07-28T19:18:52.342Z"
   },
   {
    "duration": 6,
    "start_time": "2022-07-28T19:18:52.353Z"
   },
   {
    "duration": 42,
    "start_time": "2022-07-28T19:18:52.360Z"
   },
   {
    "duration": 6,
    "start_time": "2022-07-28T19:18:52.404Z"
   },
   {
    "duration": 5,
    "start_time": "2022-07-28T19:18:52.412Z"
   },
   {
    "duration": 8,
    "start_time": "2022-07-28T19:18:52.418Z"
   },
   {
    "duration": 4,
    "start_time": "2022-07-28T19:18:52.428Z"
   },
   {
    "duration": 14,
    "start_time": "2022-07-28T19:18:52.434Z"
   },
   {
    "duration": 65,
    "start_time": "2022-07-28T19:18:52.450Z"
   },
   {
    "duration": 18,
    "start_time": "2022-07-28T19:18:52.517Z"
   },
   {
    "duration": 11,
    "start_time": "2022-07-28T19:18:52.537Z"
   },
   {
    "duration": 4,
    "start_time": "2022-07-28T19:18:52.550Z"
   },
   {
    "duration": 18,
    "start_time": "2022-07-28T19:18:52.556Z"
   },
   {
    "duration": 27,
    "start_time": "2022-07-28T19:18:52.575Z"
   },
   {
    "duration": 6,
    "start_time": "2022-07-28T19:18:52.604Z"
   },
   {
    "duration": 28,
    "start_time": "2022-07-28T19:18:52.611Z"
   },
   {
    "duration": 9,
    "start_time": "2022-07-28T19:18:52.640Z"
   },
   {
    "duration": 30,
    "start_time": "2022-07-28T19:18:52.650Z"
   },
   {
    "duration": 460,
    "start_time": "2022-07-28T19:18:52.681Z"
   },
   {
    "duration": 21,
    "start_time": "2022-07-28T19:18:53.142Z"
   },
   {
    "duration": 7,
    "start_time": "2022-07-28T19:18:53.165Z"
   },
   {
    "duration": 28,
    "start_time": "2022-07-28T19:18:53.174Z"
   },
   {
    "duration": 9,
    "start_time": "2022-07-28T19:18:53.204Z"
   },
   {
    "duration": 6,
    "start_time": "2022-07-28T19:18:53.215Z"
   },
   {
    "duration": 7,
    "start_time": "2022-07-28T19:18:53.222Z"
   },
   {
    "duration": 20,
    "start_time": "2022-07-28T19:18:53.231Z"
   },
   {
    "duration": 440,
    "start_time": "2022-07-28T19:18:53.253Z"
   },
   {
    "duration": 1123,
    "start_time": "2022-07-28T19:24:56.513Z"
   },
   {
    "duration": 1268,
    "start_time": "2022-07-28T19:24:57.639Z"
   },
   {
    "duration": 13,
    "start_time": "2022-07-28T19:24:58.908Z"
   },
   {
    "duration": 15,
    "start_time": "2022-07-28T19:24:58.922Z"
   },
   {
    "duration": 8,
    "start_time": "2022-07-28T19:24:58.939Z"
   },
   {
    "duration": 18,
    "start_time": "2022-07-28T19:24:58.949Z"
   },
   {
    "duration": 8,
    "start_time": "2022-07-28T19:24:58.968Z"
   },
   {
    "duration": 70,
    "start_time": "2022-07-28T19:24:58.978Z"
   },
   {
    "duration": 8,
    "start_time": "2022-07-28T19:24:59.049Z"
   },
   {
    "duration": 11,
    "start_time": "2022-07-28T19:24:59.059Z"
   },
   {
    "duration": 109,
    "start_time": "2022-07-28T19:24:59.072Z"
   },
   {
    "duration": 57,
    "start_time": "2022-07-28T19:24:59.183Z"
   },
   {
    "duration": 69,
    "start_time": "2022-07-28T19:24:59.242Z"
   },
   {
    "duration": 7,
    "start_time": "2022-07-28T19:24:59.314Z"
   },
   {
    "duration": 11,
    "start_time": "2022-07-28T19:24:59.323Z"
   },
   {
    "duration": 11,
    "start_time": "2022-07-28T19:24:59.336Z"
   },
   {
    "duration": 11,
    "start_time": "2022-07-28T19:24:59.349Z"
   },
   {
    "duration": 24,
    "start_time": "2022-07-28T19:24:59.362Z"
   },
   {
    "duration": 4,
    "start_time": "2022-07-28T19:24:59.388Z"
   },
   {
    "duration": 22,
    "start_time": "2022-07-28T19:24:59.393Z"
   },
   {
    "duration": 14,
    "start_time": "2022-07-28T19:24:59.417Z"
   },
   {
    "duration": 32,
    "start_time": "2022-07-28T19:24:59.433Z"
   },
   {
    "duration": 261,
    "start_time": "2022-07-28T19:24:59.467Z"
   },
   {
    "duration": 6,
    "start_time": "2022-07-28T19:24:59.729Z"
   },
   {
    "duration": 18,
    "start_time": "2022-07-28T19:24:59.736Z"
   },
   {
    "duration": 13,
    "start_time": "2022-07-28T19:24:59.755Z"
   },
   {
    "duration": 33,
    "start_time": "2022-07-28T19:24:59.770Z"
   },
   {
    "duration": 72,
    "start_time": "2022-07-28T19:24:59.808Z"
   },
   {
    "duration": 54,
    "start_time": "2022-07-28T19:24:59.881Z"
   },
   {
    "duration": 4,
    "start_time": "2022-07-28T19:24:59.937Z"
   },
   {
    "duration": 14,
    "start_time": "2022-07-28T19:24:59.943Z"
   },
   {
    "duration": 13,
    "start_time": "2022-07-28T19:24:59.959Z"
   },
   {
    "duration": 7,
    "start_time": "2022-07-28T19:24:59.974Z"
   },
   {
    "duration": 25,
    "start_time": "2022-07-28T19:24:59.982Z"
   },
   {
    "duration": 138,
    "start_time": "2022-07-28T19:25:00.008Z"
   },
   {
    "duration": 29,
    "start_time": "2022-07-28T19:25:00.148Z"
   },
   {
    "duration": 24,
    "start_time": "2022-07-28T19:25:00.179Z"
   },
   {
    "duration": 13,
    "start_time": "2022-07-28T19:25:00.205Z"
   },
   {
    "duration": 6,
    "start_time": "2022-07-28T19:25:00.220Z"
   },
   {
    "duration": 13,
    "start_time": "2022-07-28T19:25:00.228Z"
   },
   {
    "duration": 7,
    "start_time": "2022-07-28T19:25:00.245Z"
   },
   {
    "duration": 19,
    "start_time": "2022-07-28T19:25:00.253Z"
   },
   {
    "duration": 54,
    "start_time": "2022-07-28T19:25:00.274Z"
   },
   {
    "duration": 20,
    "start_time": "2022-07-28T19:25:00.330Z"
   },
   {
    "duration": 7,
    "start_time": "2022-07-28T19:25:00.351Z"
   },
   {
    "duration": 16,
    "start_time": "2022-07-28T19:25:00.360Z"
   },
   {
    "duration": 30,
    "start_time": "2022-07-28T19:25:00.377Z"
   },
   {
    "duration": 14,
    "start_time": "2022-07-28T19:25:00.408Z"
   },
   {
    "duration": 18,
    "start_time": "2022-07-28T19:25:00.423Z"
   },
   {
    "duration": 14,
    "start_time": "2022-07-28T19:25:00.442Z"
   },
   {
    "duration": 4,
    "start_time": "2022-07-28T19:25:00.457Z"
   },
   {
    "duration": 7,
    "start_time": "2022-07-28T19:25:00.463Z"
   },
   {
    "duration": 8,
    "start_time": "2022-07-28T19:25:00.471Z"
   },
   {
    "duration": 34,
    "start_time": "2022-07-28T19:25:00.480Z"
   },
   {
    "duration": 23,
    "start_time": "2022-07-28T19:25:00.516Z"
   },
   {
    "duration": 10,
    "start_time": "2022-07-28T19:25:00.540Z"
   },
   {
    "duration": 11,
    "start_time": "2022-07-28T19:25:00.552Z"
   },
   {
    "duration": 7,
    "start_time": "2022-07-28T19:25:00.565Z"
   },
   {
    "duration": 15,
    "start_time": "2022-07-28T19:25:00.574Z"
   },
   {
    "duration": 101,
    "start_time": "2022-07-28T19:25:00.590Z"
   },
   {
    "duration": 0,
    "start_time": "2022-07-28T19:25:00.693Z"
   },
   {
    "duration": 0,
    "start_time": "2022-07-28T19:25:00.694Z"
   },
   {
    "duration": 0,
    "start_time": "2022-07-28T19:25:00.707Z"
   },
   {
    "duration": 0,
    "start_time": "2022-07-28T19:25:00.708Z"
   },
   {
    "duration": 0,
    "start_time": "2022-07-28T19:25:00.708Z"
   },
   {
    "duration": 0,
    "start_time": "2022-07-28T19:25:00.709Z"
   },
   {
    "duration": 0,
    "start_time": "2022-07-28T19:25:00.710Z"
   },
   {
    "duration": 0,
    "start_time": "2022-07-28T19:25:00.710Z"
   },
   {
    "duration": 0,
    "start_time": "2022-07-28T19:25:00.716Z"
   },
   {
    "duration": 0,
    "start_time": "2022-07-28T19:25:00.718Z"
   },
   {
    "duration": 0,
    "start_time": "2022-07-28T19:25:00.719Z"
   },
   {
    "duration": 0,
    "start_time": "2022-07-28T19:25:00.720Z"
   },
   {
    "duration": 0,
    "start_time": "2022-07-28T19:25:00.721Z"
   },
   {
    "duration": 0,
    "start_time": "2022-07-28T19:25:00.722Z"
   },
   {
    "duration": 0,
    "start_time": "2022-07-28T19:25:00.723Z"
   },
   {
    "duration": 0,
    "start_time": "2022-07-28T19:25:00.724Z"
   },
   {
    "duration": 0,
    "start_time": "2022-07-28T19:25:00.725Z"
   },
   {
    "duration": 0,
    "start_time": "2022-07-28T19:25:00.726Z"
   },
   {
    "duration": 0,
    "start_time": "2022-07-28T19:25:00.726Z"
   },
   {
    "duration": 0,
    "start_time": "2022-07-28T19:25:00.727Z"
   },
   {
    "duration": 12,
    "start_time": "2022-07-28T19:25:34.477Z"
   },
   {
    "duration": 8,
    "start_time": "2022-07-28T19:25:55.613Z"
   },
   {
    "duration": 11,
    "start_time": "2022-07-28T19:26:15.632Z"
   },
   {
    "duration": 9,
    "start_time": "2022-07-28T19:26:27.330Z"
   },
   {
    "duration": 9,
    "start_time": "2022-07-28T19:26:34.720Z"
   },
   {
    "duration": 11,
    "start_time": "2022-07-28T19:27:53.217Z"
   },
   {
    "duration": 24,
    "start_time": "2022-07-28T19:30:02.856Z"
   },
   {
    "duration": 20,
    "start_time": "2022-07-28T19:30:03.591Z"
   },
   {
    "duration": 17,
    "start_time": "2022-07-28T19:31:15.990Z"
   },
   {
    "duration": 15,
    "start_time": "2022-07-28T19:31:25.639Z"
   },
   {
    "duration": 1097,
    "start_time": "2022-07-28T19:32:46.957Z"
   },
   {
    "duration": 1729,
    "start_time": "2022-07-28T19:32:48.056Z"
   },
   {
    "duration": 11,
    "start_time": "2022-07-28T19:32:49.786Z"
   },
   {
    "duration": 13,
    "start_time": "2022-07-28T19:32:49.799Z"
   },
   {
    "duration": 18,
    "start_time": "2022-07-28T19:32:49.814Z"
   },
   {
    "duration": 18,
    "start_time": "2022-07-28T19:32:49.834Z"
   },
   {
    "duration": 8,
    "start_time": "2022-07-28T19:32:49.853Z"
   },
   {
    "duration": 74,
    "start_time": "2022-07-28T19:32:49.863Z"
   },
   {
    "duration": 8,
    "start_time": "2022-07-28T19:32:49.938Z"
   },
   {
    "duration": 11,
    "start_time": "2022-07-28T19:32:49.948Z"
   },
   {
    "duration": 105,
    "start_time": "2022-07-28T19:32:49.961Z"
   },
   {
    "duration": 65,
    "start_time": "2022-07-28T19:32:50.068Z"
   },
   {
    "duration": 53,
    "start_time": "2022-07-28T19:32:50.134Z"
   },
   {
    "duration": 26,
    "start_time": "2022-07-28T19:32:50.189Z"
   },
   {
    "duration": 9,
    "start_time": "2022-07-28T19:32:50.218Z"
   },
   {
    "duration": 7,
    "start_time": "2022-07-28T19:32:50.229Z"
   },
   {
    "duration": 7,
    "start_time": "2022-07-28T19:32:50.237Z"
   },
   {
    "duration": 24,
    "start_time": "2022-07-28T19:32:50.246Z"
   },
   {
    "duration": 5,
    "start_time": "2022-07-28T19:32:50.271Z"
   },
   {
    "duration": 5,
    "start_time": "2022-07-28T19:32:50.303Z"
   },
   {
    "duration": 20,
    "start_time": "2022-07-28T19:32:50.309Z"
   },
   {
    "duration": 39,
    "start_time": "2022-07-28T19:32:50.330Z"
   },
   {
    "duration": 290,
    "start_time": "2022-07-28T19:32:50.371Z"
   },
   {
    "duration": 6,
    "start_time": "2022-07-28T19:32:50.663Z"
   },
   {
    "duration": 15,
    "start_time": "2022-07-28T19:32:50.670Z"
   },
   {
    "duration": 40,
    "start_time": "2022-07-28T19:32:50.686Z"
   },
   {
    "duration": 13,
    "start_time": "2022-07-28T19:32:50.728Z"
   },
   {
    "duration": 75,
    "start_time": "2022-07-28T19:32:50.745Z"
   },
   {
    "duration": 41,
    "start_time": "2022-07-28T19:32:50.822Z"
   },
   {
    "duration": 5,
    "start_time": "2022-07-28T19:32:50.865Z"
   },
   {
    "duration": 12,
    "start_time": "2022-07-28T19:32:50.871Z"
   },
   {
    "duration": 31,
    "start_time": "2022-07-28T19:32:50.884Z"
   },
   {
    "duration": 10,
    "start_time": "2022-07-28T19:32:50.916Z"
   },
   {
    "duration": 6,
    "start_time": "2022-07-28T19:32:50.927Z"
   },
   {
    "duration": 143,
    "start_time": "2022-07-28T19:32:50.934Z"
   },
   {
    "duration": 42,
    "start_time": "2022-07-28T19:32:51.079Z"
   },
   {
    "duration": 16,
    "start_time": "2022-07-28T19:32:51.123Z"
   },
   {
    "duration": 4,
    "start_time": "2022-07-28T19:32:51.141Z"
   },
   {
    "duration": 6,
    "start_time": "2022-07-28T19:32:51.146Z"
   },
   {
    "duration": 8,
    "start_time": "2022-07-28T19:32:51.154Z"
   },
   {
    "duration": 5,
    "start_time": "2022-07-28T19:32:51.164Z"
   },
   {
    "duration": 48,
    "start_time": "2022-07-28T19:32:51.170Z"
   },
   {
    "duration": 31,
    "start_time": "2022-07-28T19:32:51.220Z"
   },
   {
    "duration": 19,
    "start_time": "2022-07-28T19:32:51.252Z"
   },
   {
    "duration": 7,
    "start_time": "2022-07-28T19:32:51.272Z"
   },
   {
    "duration": 36,
    "start_time": "2022-07-28T19:32:51.281Z"
   },
   {
    "duration": 7,
    "start_time": "2022-07-28T19:32:51.318Z"
   },
   {
    "duration": 13,
    "start_time": "2022-07-28T19:32:51.326Z"
   },
   {
    "duration": 15,
    "start_time": "2022-07-28T19:32:51.340Z"
   },
   {
    "duration": 15,
    "start_time": "2022-07-28T19:32:51.356Z"
   },
   {
    "duration": 4,
    "start_time": "2022-07-28T19:32:51.372Z"
   },
   {
    "duration": 28,
    "start_time": "2022-07-28T19:32:51.378Z"
   },
   {
    "duration": 17,
    "start_time": "2022-07-28T19:32:51.408Z"
   },
   {
    "duration": 4,
    "start_time": "2022-07-28T19:32:51.427Z"
   },
   {
    "duration": 23,
    "start_time": "2022-07-28T19:32:51.432Z"
   },
   {
    "duration": 5,
    "start_time": "2022-07-28T19:32:51.457Z"
   },
   {
    "duration": 6,
    "start_time": "2022-07-28T19:32:51.464Z"
   },
   {
    "duration": 11,
    "start_time": "2022-07-28T19:32:51.472Z"
   },
   {
    "duration": 35,
    "start_time": "2022-07-28T19:32:51.484Z"
   },
   {
    "duration": 11,
    "start_time": "2022-07-28T19:32:51.523Z"
   },
   {
    "duration": 15,
    "start_time": "2022-07-28T19:32:51.536Z"
   },
   {
    "duration": 12,
    "start_time": "2022-07-28T19:32:51.553Z"
   },
   {
    "duration": 14,
    "start_time": "2022-07-28T19:32:51.567Z"
   },
   {
    "duration": 35,
    "start_time": "2022-07-28T19:32:51.582Z"
   },
   {
    "duration": 23,
    "start_time": "2022-07-28T19:32:51.618Z"
   },
   {
    "duration": 18,
    "start_time": "2022-07-28T19:32:51.643Z"
   },
   {
    "duration": 11,
    "start_time": "2022-07-28T19:32:51.662Z"
   },
   {
    "duration": 4,
    "start_time": "2022-07-28T19:32:51.674Z"
   },
   {
    "duration": 37,
    "start_time": "2022-07-28T19:32:51.680Z"
   },
   {
    "duration": 7,
    "start_time": "2022-07-28T19:32:51.718Z"
   },
   {
    "duration": 7,
    "start_time": "2022-07-28T19:32:51.727Z"
   },
   {
    "duration": 30,
    "start_time": "2022-07-28T19:32:51.735Z"
   },
   {
    "duration": 8,
    "start_time": "2022-07-28T19:32:51.767Z"
   },
   {
    "duration": 54,
    "start_time": "2022-07-28T19:32:51.776Z"
   },
   {
    "duration": 486,
    "start_time": "2022-07-28T19:32:51.832Z"
   },
   {
    "duration": 22,
    "start_time": "2022-07-28T19:32:52.320Z"
   },
   {
    "duration": 7,
    "start_time": "2022-07-28T19:32:52.344Z"
   },
   {
    "duration": 11,
    "start_time": "2022-07-28T19:32:52.352Z"
   },
   {
    "duration": 6,
    "start_time": "2022-07-28T19:32:52.364Z"
   },
   {
    "duration": 6,
    "start_time": "2022-07-28T19:32:52.372Z"
   },
   {
    "duration": 37,
    "start_time": "2022-07-28T19:32:52.379Z"
   },
   {
    "duration": 21,
    "start_time": "2022-07-28T19:32:52.420Z"
   },
   {
    "duration": 472,
    "start_time": "2022-07-28T19:32:52.443Z"
   },
   {
    "duration": 10,
    "start_time": "2022-07-28T19:52:12.850Z"
   },
   {
    "duration": 13,
    "start_time": "2022-07-28T19:52:23.847Z"
   },
   {
    "duration": 17,
    "start_time": "2022-07-28T19:53:38.338Z"
   },
   {
    "duration": 21,
    "start_time": "2022-07-28T19:54:09.798Z"
   },
   {
    "duration": 15,
    "start_time": "2022-07-28T19:54:55.333Z"
   },
   {
    "duration": 19,
    "start_time": "2022-07-28T19:57:03.449Z"
   },
   {
    "duration": 11,
    "start_time": "2022-07-28T19:57:19.343Z"
   },
   {
    "duration": 15,
    "start_time": "2022-07-28T19:58:43.024Z"
   },
   {
    "duration": 13,
    "start_time": "2022-07-28T19:59:19.151Z"
   },
   {
    "duration": 18,
    "start_time": "2022-07-28T20:00:04.319Z"
   },
   {
    "duration": 16,
    "start_time": "2022-07-28T20:00:04.808Z"
   },
   {
    "duration": 13,
    "start_time": "2022-07-28T20:00:05.336Z"
   },
   {
    "duration": 1622,
    "start_time": "2022-07-28T20:05:12.839Z"
   },
   {
    "duration": 1526,
    "start_time": "2022-07-28T20:05:49.930Z"
   },
   {
    "duration": 10,
    "start_time": "2022-07-28T20:15:28.557Z"
   },
   {
    "duration": 203,
    "start_time": "2022-07-28T20:15:51.885Z"
   },
   {
    "duration": 4,
    "start_time": "2022-07-28T20:18:24.113Z"
   },
   {
    "duration": 4,
    "start_time": "2022-07-28T20:18:32.939Z"
   },
   {
    "duration": 5,
    "start_time": "2022-07-28T20:19:12.248Z"
   },
   {
    "duration": 10,
    "start_time": "2022-07-28T20:19:13.517Z"
   },
   {
    "duration": 7,
    "start_time": "2022-07-28T20:19:31.442Z"
   },
   {
    "duration": 10,
    "start_time": "2022-07-28T20:19:31.915Z"
   },
   {
    "duration": 8,
    "start_time": "2022-07-28T20:19:42.982Z"
   },
   {
    "duration": 26,
    "start_time": "2022-07-28T20:21:30.890Z"
   },
   {
    "duration": 13,
    "start_time": "2022-07-28T20:22:20.947Z"
   },
   {
    "duration": 18,
    "start_time": "2022-07-28T20:22:41.399Z"
   },
   {
    "duration": 8,
    "start_time": "2022-07-28T20:44:57.998Z"
   },
   {
    "duration": 1282,
    "start_time": "2022-07-28T20:47:21.418Z"
   },
   {
    "duration": 22,
    "start_time": "2022-07-28T20:47:34.168Z"
   },
   {
    "duration": 21,
    "start_time": "2022-07-28T20:47:47.018Z"
   },
   {
    "duration": 7,
    "start_time": "2022-07-28T20:49:10.535Z"
   },
   {
    "duration": 24,
    "start_time": "2022-07-28T20:49:17.457Z"
   },
   {
    "duration": 11,
    "start_time": "2022-07-28T20:49:28.986Z"
   },
   {
    "duration": 9,
    "start_time": "2022-07-28T20:49:38.020Z"
   },
   {
    "duration": 22,
    "start_time": "2022-07-28T20:49:38.473Z"
   },
   {
    "duration": 20,
    "start_time": "2022-07-28T20:49:41.856Z"
   },
   {
    "duration": 17,
    "start_time": "2022-07-28T20:50:05.011Z"
   },
   {
    "duration": 19,
    "start_time": "2022-07-28T20:51:08.038Z"
   },
   {
    "duration": 13,
    "start_time": "2022-07-28T20:51:09.032Z"
   },
   {
    "duration": 3,
    "start_time": "2022-07-28T20:53:43.373Z"
   },
   {
    "duration": 5,
    "start_time": "2022-07-28T21:07:19.433Z"
   },
   {
    "duration": 5,
    "start_time": "2022-07-28T21:07:29.740Z"
   },
   {
    "duration": 8,
    "start_time": "2022-07-28T21:07:33.191Z"
   },
   {
    "duration": 8,
    "start_time": "2022-07-28T21:07:54.117Z"
   },
   {
    "duration": 1036,
    "start_time": "2022-07-28T21:08:01.743Z"
   },
   {
    "duration": 1133,
    "start_time": "2022-07-28T21:08:02.780Z"
   },
   {
    "duration": 11,
    "start_time": "2022-07-28T21:08:03.915Z"
   },
   {
    "duration": 14,
    "start_time": "2022-07-28T21:08:03.928Z"
   },
   {
    "duration": 10,
    "start_time": "2022-07-28T21:08:03.944Z"
   },
   {
    "duration": 38,
    "start_time": "2022-07-28T21:08:03.956Z"
   },
   {
    "duration": 14,
    "start_time": "2022-07-28T21:08:03.996Z"
   },
   {
    "duration": 68,
    "start_time": "2022-07-28T21:08:04.012Z"
   },
   {
    "duration": 7,
    "start_time": "2022-07-28T21:08:04.081Z"
   },
   {
    "duration": 17,
    "start_time": "2022-07-28T21:08:04.090Z"
   },
   {
    "duration": 97,
    "start_time": "2022-07-28T21:08:04.108Z"
   },
   {
    "duration": 59,
    "start_time": "2022-07-28T21:08:04.207Z"
   },
   {
    "duration": 61,
    "start_time": "2022-07-28T21:08:04.267Z"
   },
   {
    "duration": 5,
    "start_time": "2022-07-28T21:08:04.329Z"
   },
   {
    "duration": 7,
    "start_time": "2022-07-28T21:08:04.335Z"
   },
   {
    "duration": 7,
    "start_time": "2022-07-28T21:08:04.343Z"
   },
   {
    "duration": 10,
    "start_time": "2022-07-28T21:08:04.351Z"
   },
   {
    "duration": 40,
    "start_time": "2022-07-28T21:08:04.363Z"
   },
   {
    "duration": 4,
    "start_time": "2022-07-28T21:08:04.405Z"
   },
   {
    "duration": 5,
    "start_time": "2022-07-28T21:08:04.410Z"
   },
   {
    "duration": 11,
    "start_time": "2022-07-28T21:08:04.416Z"
   },
   {
    "duration": 27,
    "start_time": "2022-07-28T21:08:04.428Z"
   },
   {
    "duration": 256,
    "start_time": "2022-07-28T21:08:04.457Z"
   },
   {
    "duration": 4,
    "start_time": "2022-07-28T21:08:04.715Z"
   },
   {
    "duration": 15,
    "start_time": "2022-07-28T21:08:04.720Z"
   },
   {
    "duration": 12,
    "start_time": "2022-07-28T21:08:04.736Z"
   },
   {
    "duration": 17,
    "start_time": "2022-07-28T21:08:04.750Z"
   },
   {
    "duration": 86,
    "start_time": "2022-07-28T21:08:04.771Z"
   },
   {
    "duration": 43,
    "start_time": "2022-07-28T21:08:04.859Z"
   },
   {
    "duration": 5,
    "start_time": "2022-07-28T21:08:04.903Z"
   },
   {
    "duration": 11,
    "start_time": "2022-07-28T21:08:04.909Z"
   },
   {
    "duration": 9,
    "start_time": "2022-07-28T21:08:04.921Z"
   },
   {
    "duration": 5,
    "start_time": "2022-07-28T21:08:04.931Z"
   },
   {
    "duration": 4,
    "start_time": "2022-07-28T21:08:04.938Z"
   },
   {
    "duration": 145,
    "start_time": "2022-07-28T21:08:04.943Z"
   },
   {
    "duration": 36,
    "start_time": "2022-07-28T21:08:05.090Z"
   },
   {
    "duration": 19,
    "start_time": "2022-07-28T21:08:05.128Z"
   },
   {
    "duration": 4,
    "start_time": "2022-07-28T21:08:05.149Z"
   },
   {
    "duration": 10,
    "start_time": "2022-07-28T21:08:05.154Z"
   },
   {
    "duration": 8,
    "start_time": "2022-07-28T21:08:05.165Z"
   },
   {
    "duration": 5,
    "start_time": "2022-07-28T21:08:05.175Z"
   },
   {
    "duration": 37,
    "start_time": "2022-07-28T21:08:05.182Z"
   },
   {
    "duration": 34,
    "start_time": "2022-07-28T21:08:05.221Z"
   },
   {
    "duration": 19,
    "start_time": "2022-07-28T21:08:05.257Z"
   },
   {
    "duration": 27,
    "start_time": "2022-07-28T21:08:05.277Z"
   },
   {
    "duration": 15,
    "start_time": "2022-07-28T21:08:05.305Z"
   },
   {
    "duration": 6,
    "start_time": "2022-07-28T21:08:05.322Z"
   },
   {
    "duration": 12,
    "start_time": "2022-07-28T21:08:05.329Z"
   },
   {
    "duration": 14,
    "start_time": "2022-07-28T21:08:05.342Z"
   },
   {
    "duration": 14,
    "start_time": "2022-07-28T21:08:05.358Z"
   },
   {
    "duration": 5,
    "start_time": "2022-07-28T21:08:05.401Z"
   },
   {
    "duration": 7,
    "start_time": "2022-07-28T21:08:05.407Z"
   },
   {
    "duration": 7,
    "start_time": "2022-07-28T21:08:05.416Z"
   },
   {
    "duration": 6,
    "start_time": "2022-07-28T21:08:05.424Z"
   },
   {
    "duration": 19,
    "start_time": "2022-07-28T21:08:05.432Z"
   },
   {
    "duration": 5,
    "start_time": "2022-07-28T21:08:05.452Z"
   },
   {
    "duration": 5,
    "start_time": "2022-07-28T21:08:05.459Z"
   },
   {
    "duration": 8,
    "start_time": "2022-07-28T21:08:05.466Z"
   },
   {
    "duration": 29,
    "start_time": "2022-07-28T21:08:05.475Z"
   },
   {
    "duration": 12,
    "start_time": "2022-07-28T21:08:05.506Z"
   },
   {
    "duration": 16,
    "start_time": "2022-07-28T21:08:05.519Z"
   },
   {
    "duration": 14,
    "start_time": "2022-07-28T21:08:05.537Z"
   },
   {
    "duration": 17,
    "start_time": "2022-07-28T21:08:05.552Z"
   },
   {
    "duration": 17,
    "start_time": "2022-07-28T21:08:05.602Z"
   },
   {
    "duration": 23,
    "start_time": "2022-07-28T21:08:05.621Z"
   },
   {
    "duration": 18,
    "start_time": "2022-07-28T21:08:05.645Z"
   },
   {
    "duration": 39,
    "start_time": "2022-07-28T21:08:05.664Z"
   },
   {
    "duration": 5,
    "start_time": "2022-07-28T21:08:05.704Z"
   },
   {
    "duration": 14,
    "start_time": "2022-07-28T21:08:05.710Z"
   },
   {
    "duration": 2,
    "start_time": "2022-07-28T21:08:05.726Z"
   },
   {
    "duration": 7,
    "start_time": "2022-07-28T21:08:05.729Z"
   },
   {
    "duration": 27,
    "start_time": "2022-07-28T21:08:05.738Z"
   },
   {
    "duration": 8,
    "start_time": "2022-07-28T21:08:05.767Z"
   },
   {
    "duration": 27,
    "start_time": "2022-07-28T21:08:05.802Z"
   },
   {
    "duration": 406,
    "start_time": "2022-07-28T21:08:05.830Z"
   },
   {
    "duration": 21,
    "start_time": "2022-07-28T21:08:06.238Z"
   },
   {
    "duration": 8,
    "start_time": "2022-07-28T21:08:06.260Z"
   },
   {
    "duration": 9,
    "start_time": "2022-07-28T21:08:06.270Z"
   },
   {
    "duration": 26,
    "start_time": "2022-07-28T21:08:06.280Z"
   },
   {
    "duration": 5,
    "start_time": "2022-07-28T21:08:06.308Z"
   },
   {
    "duration": 8,
    "start_time": "2022-07-28T21:08:06.315Z"
   },
   {
    "duration": 19,
    "start_time": "2022-07-28T21:08:06.328Z"
   },
   {
    "duration": 430,
    "start_time": "2022-07-28T21:08:06.349Z"
   },
   {
    "duration": 9,
    "start_time": "2022-07-28T21:08:06.781Z"
   },
   {
    "duration": 24,
    "start_time": "2022-07-28T21:08:06.792Z"
   },
   {
    "duration": 14,
    "start_time": "2022-07-28T21:08:06.818Z"
   },
   {
    "duration": 3,
    "start_time": "2022-07-28T21:08:06.833Z"
   },
   {
    "duration": 7,
    "start_time": "2022-07-28T21:08:06.838Z"
   },
   {
    "duration": 145,
    "start_time": "2022-07-28T21:08:06.847Z"
   },
   {
    "duration": 12,
    "start_time": "2022-07-28T21:08:06.993Z"
   },
   {
    "duration": 6,
    "start_time": "2022-07-28T21:16:40.011Z"
   },
   {
    "duration": 4,
    "start_time": "2022-07-28T21:16:54.505Z"
   },
   {
    "duration": 4,
    "start_time": "2022-07-28T21:17:13.517Z"
   },
   {
    "duration": 9,
    "start_time": "2022-07-28T21:18:06.968Z"
   },
   {
    "duration": 8,
    "start_time": "2022-07-28T21:18:16.350Z"
   },
   {
    "duration": 21,
    "start_time": "2022-07-28T21:18:23.531Z"
   },
   {
    "duration": 4,
    "start_time": "2022-07-28T21:18:46.115Z"
   },
   {
    "duration": 6,
    "start_time": "2022-07-28T21:18:55.701Z"
   },
   {
    "duration": 5,
    "start_time": "2022-07-28T21:19:06.399Z"
   },
   {
    "duration": 6,
    "start_time": "2022-07-28T21:22:25.540Z"
   },
   {
    "duration": 322,
    "start_time": "2022-07-28T21:25:33.756Z"
   },
   {
    "duration": 101,
    "start_time": "2022-07-28T21:26:07.011Z"
   },
   {
    "duration": 10,
    "start_time": "2022-07-28T21:26:17.039Z"
   },
   {
    "duration": 472,
    "start_time": "2022-07-28T21:27:01.116Z"
   },
   {
    "duration": 15,
    "start_time": "2022-07-28T21:27:21.597Z"
   },
   {
    "duration": 1091,
    "start_time": "2022-07-28T21:31:09.196Z"
   },
   {
    "duration": 1543,
    "start_time": "2022-07-28T21:31:10.289Z"
   },
   {
    "duration": 10,
    "start_time": "2022-07-28T21:31:11.833Z"
   },
   {
    "duration": 12,
    "start_time": "2022-07-28T21:31:11.845Z"
   },
   {
    "duration": 7,
    "start_time": "2022-07-28T21:31:11.859Z"
   },
   {
    "duration": 18,
    "start_time": "2022-07-28T21:31:11.867Z"
   },
   {
    "duration": 8,
    "start_time": "2022-07-28T21:31:11.886Z"
   },
   {
    "duration": 49,
    "start_time": "2022-07-28T21:31:11.896Z"
   },
   {
    "duration": 7,
    "start_time": "2022-07-28T21:31:11.947Z"
   },
   {
    "duration": 9,
    "start_time": "2022-07-28T21:31:11.956Z"
   },
   {
    "duration": 99,
    "start_time": "2022-07-28T21:31:11.966Z"
   },
   {
    "duration": 59,
    "start_time": "2022-07-28T21:31:12.066Z"
   },
   {
    "duration": 51,
    "start_time": "2022-07-28T21:31:12.126Z"
   },
   {
    "duration": 5,
    "start_time": "2022-07-28T21:31:12.179Z"
   },
   {
    "duration": 18,
    "start_time": "2022-07-28T21:31:12.185Z"
   },
   {
    "duration": 6,
    "start_time": "2022-07-28T21:31:12.204Z"
   },
   {
    "duration": 8,
    "start_time": "2022-07-28T21:31:12.211Z"
   },
   {
    "duration": 25,
    "start_time": "2022-07-28T21:31:12.220Z"
   },
   {
    "duration": 4,
    "start_time": "2022-07-28T21:31:12.246Z"
   },
   {
    "duration": 5,
    "start_time": "2022-07-28T21:31:12.251Z"
   },
   {
    "duration": 15,
    "start_time": "2022-07-28T21:31:12.257Z"
   },
   {
    "duration": 55,
    "start_time": "2022-07-28T21:31:12.273Z"
   },
   {
    "duration": 235,
    "start_time": "2022-07-28T21:31:12.330Z"
   },
   {
    "duration": 5,
    "start_time": "2022-07-28T21:31:12.566Z"
   },
   {
    "duration": 14,
    "start_time": "2022-07-28T21:31:12.572Z"
   },
   {
    "duration": 22,
    "start_time": "2022-07-28T21:31:12.587Z"
   },
   {
    "duration": 13,
    "start_time": "2022-07-28T21:31:12.610Z"
   },
   {
    "duration": 75,
    "start_time": "2022-07-28T21:31:12.627Z"
   },
   {
    "duration": 38,
    "start_time": "2022-07-28T21:31:12.703Z"
   },
   {
    "duration": 4,
    "start_time": "2022-07-28T21:31:12.743Z"
   },
   {
    "duration": 11,
    "start_time": "2022-07-28T21:31:12.748Z"
   },
   {
    "duration": 11,
    "start_time": "2022-07-28T21:31:12.760Z"
   },
   {
    "duration": 5,
    "start_time": "2022-07-28T21:31:12.773Z"
   },
   {
    "duration": 26,
    "start_time": "2022-07-28T21:31:12.779Z"
   },
   {
    "duration": 120,
    "start_time": "2022-07-28T21:31:12.806Z"
   },
   {
    "duration": 28,
    "start_time": "2022-07-28T21:31:12.927Z"
   },
   {
    "duration": 15,
    "start_time": "2022-07-28T21:31:12.957Z"
   },
   {
    "duration": 12,
    "start_time": "2022-07-28T21:31:12.973Z"
   },
   {
    "duration": 17,
    "start_time": "2022-07-28T21:31:12.986Z"
   },
   {
    "duration": 4,
    "start_time": "2022-07-28T21:31:13.004Z"
   },
   {
    "duration": 4,
    "start_time": "2022-07-28T21:31:13.010Z"
   },
   {
    "duration": 10,
    "start_time": "2022-07-28T21:31:13.016Z"
   },
   {
    "duration": 28,
    "start_time": "2022-07-28T21:31:13.028Z"
   },
   {
    "duration": 46,
    "start_time": "2022-07-28T21:31:13.057Z"
   },
   {
    "duration": 7,
    "start_time": "2022-07-28T21:31:13.104Z"
   },
   {
    "duration": 13,
    "start_time": "2022-07-28T21:31:13.113Z"
   },
   {
    "duration": 5,
    "start_time": "2022-07-28T21:31:13.128Z"
   },
   {
    "duration": 293,
    "start_time": "2022-07-28T21:31:13.135Z"
   },
   {
    "duration": 13,
    "start_time": "2022-07-28T21:31:13.430Z"
   },
   {
    "duration": 12,
    "start_time": "2022-07-28T21:31:13.445Z"
   },
   {
    "duration": 15,
    "start_time": "2022-07-28T21:31:13.459Z"
   },
   {
    "duration": 35,
    "start_time": "2022-07-28T21:31:13.475Z"
   },
   {
    "duration": 5,
    "start_time": "2022-07-28T21:31:13.511Z"
   },
   {
    "duration": 5,
    "start_time": "2022-07-28T21:31:13.517Z"
   },
   {
    "duration": 5,
    "start_time": "2022-07-28T21:31:13.524Z"
   },
   {
    "duration": 5,
    "start_time": "2022-07-28T21:31:13.530Z"
   },
   {
    "duration": 14,
    "start_time": "2022-07-28T21:31:13.536Z"
   },
   {
    "duration": 4,
    "start_time": "2022-07-28T21:31:13.551Z"
   },
   {
    "duration": 7,
    "start_time": "2022-07-28T21:31:13.556Z"
   },
   {
    "duration": 37,
    "start_time": "2022-07-28T21:31:13.565Z"
   },
   {
    "duration": 6,
    "start_time": "2022-07-28T21:31:13.603Z"
   },
   {
    "duration": 6,
    "start_time": "2022-07-28T21:31:13.610Z"
   },
   {
    "duration": 16,
    "start_time": "2022-07-28T21:31:13.617Z"
   },
   {
    "duration": 16,
    "start_time": "2022-07-28T21:31:13.634Z"
   },
   {
    "duration": 12,
    "start_time": "2022-07-28T21:31:13.651Z"
   },
   {
    "duration": 38,
    "start_time": "2022-07-28T21:31:13.664Z"
   },
   {
    "duration": 6,
    "start_time": "2022-07-28T21:31:13.703Z"
   },
   {
    "duration": 13,
    "start_time": "2022-07-28T21:31:13.710Z"
   },
   {
    "duration": 20,
    "start_time": "2022-07-28T21:31:13.724Z"
   },
   {
    "duration": 16,
    "start_time": "2022-07-28T21:31:13.746Z"
   },
   {
    "duration": 10,
    "start_time": "2022-07-28T21:31:13.763Z"
   },
   {
    "duration": 3,
    "start_time": "2022-07-28T21:31:13.802Z"
   },
   {
    "duration": 11,
    "start_time": "2022-07-28T21:31:13.807Z"
   },
   {
    "duration": 4,
    "start_time": "2022-07-28T21:31:13.820Z"
   },
   {
    "duration": 9,
    "start_time": "2022-07-28T21:31:13.825Z"
   },
   {
    "duration": 23,
    "start_time": "2022-07-28T21:31:13.836Z"
   },
   {
    "duration": 9,
    "start_time": "2022-07-28T21:31:13.860Z"
   },
   {
    "duration": 50,
    "start_time": "2022-07-28T21:31:13.871Z"
   },
   {
    "duration": 400,
    "start_time": "2022-07-28T21:31:13.922Z"
   },
   {
    "duration": 18,
    "start_time": "2022-07-28T21:31:14.324Z"
   },
   {
    "duration": 7,
    "start_time": "2022-07-28T21:31:14.344Z"
   },
   {
    "duration": 9,
    "start_time": "2022-07-28T21:31:14.356Z"
   },
   {
    "duration": 5,
    "start_time": "2022-07-28T21:31:14.367Z"
   },
   {
    "duration": 33,
    "start_time": "2022-07-28T21:31:14.374Z"
   },
   {
    "duration": 7,
    "start_time": "2022-07-28T21:31:14.408Z"
   },
   {
    "duration": 20,
    "start_time": "2022-07-28T21:31:14.416Z"
   },
   {
    "duration": 408,
    "start_time": "2022-07-28T21:31:14.438Z"
   },
   {
    "duration": 8,
    "start_time": "2022-07-28T21:31:14.847Z"
   },
   {
    "duration": 16,
    "start_time": "2022-07-28T21:31:14.856Z"
   },
   {
    "duration": 29,
    "start_time": "2022-07-28T21:31:14.874Z"
   },
   {
    "duration": 3,
    "start_time": "2022-07-28T21:31:14.904Z"
   },
   {
    "duration": 10,
    "start_time": "2022-07-28T21:31:14.908Z"
   },
   {
    "duration": 111,
    "start_time": "2022-07-28T21:31:14.919Z"
   },
   {
    "duration": 9,
    "start_time": "2022-07-28T21:31:15.033Z"
   },
   {
    "duration": 7,
    "start_time": "2022-07-28T21:41:12.311Z"
   },
   {
    "duration": 8,
    "start_time": "2022-07-28T21:41:22.772Z"
   },
   {
    "duration": 1327,
    "start_time": "2022-07-29T05:07:10.818Z"
   },
   {
    "duration": 1178,
    "start_time": "2022-07-29T05:07:12.147Z"
   },
   {
    "duration": 12,
    "start_time": "2022-07-29T05:07:13.327Z"
   },
   {
    "duration": 13,
    "start_time": "2022-07-29T05:07:13.341Z"
   },
   {
    "duration": 10,
    "start_time": "2022-07-29T05:07:13.356Z"
   },
   {
    "duration": 19,
    "start_time": "2022-07-29T05:07:13.368Z"
   },
   {
    "duration": 8,
    "start_time": "2022-07-29T05:07:13.389Z"
   },
   {
    "duration": 53,
    "start_time": "2022-07-29T05:07:13.398Z"
   },
   {
    "duration": 8,
    "start_time": "2022-07-29T05:07:13.452Z"
   },
   {
    "duration": 11,
    "start_time": "2022-07-29T05:07:13.463Z"
   },
   {
    "duration": 101,
    "start_time": "2022-07-29T05:07:13.498Z"
   },
   {
    "duration": 61,
    "start_time": "2022-07-29T05:07:13.600Z"
   },
   {
    "duration": 67,
    "start_time": "2022-07-29T05:07:13.663Z"
   },
   {
    "duration": 5,
    "start_time": "2022-07-29T05:07:13.731Z"
   },
   {
    "duration": 13,
    "start_time": "2022-07-29T05:07:13.737Z"
   },
   {
    "duration": 14,
    "start_time": "2022-07-29T05:07:13.752Z"
   },
   {
    "duration": 10,
    "start_time": "2022-07-29T05:07:13.768Z"
   },
   {
    "duration": 39,
    "start_time": "2022-07-29T05:07:13.780Z"
   },
   {
    "duration": 5,
    "start_time": "2022-07-29T05:07:13.821Z"
   },
   {
    "duration": 7,
    "start_time": "2022-07-29T05:07:13.828Z"
   },
   {
    "duration": 12,
    "start_time": "2022-07-29T05:07:13.837Z"
   },
   {
    "duration": 59,
    "start_time": "2022-07-29T05:07:13.851Z"
   },
   {
    "duration": 228,
    "start_time": "2022-07-29T05:07:13.911Z"
   },
   {
    "duration": 5,
    "start_time": "2022-07-29T05:07:14.141Z"
   },
   {
    "duration": 24,
    "start_time": "2022-07-29T05:07:14.147Z"
   },
   {
    "duration": 21,
    "start_time": "2022-07-29T05:07:14.172Z"
   },
   {
    "duration": 16,
    "start_time": "2022-07-29T05:07:14.194Z"
   },
   {
    "duration": 86,
    "start_time": "2022-07-29T05:07:14.214Z"
   },
   {
    "duration": 41,
    "start_time": "2022-07-29T05:07:14.302Z"
   },
   {
    "duration": 5,
    "start_time": "2022-07-29T05:07:14.344Z"
   },
   {
    "duration": 12,
    "start_time": "2022-07-29T05:07:14.351Z"
   },
   {
    "duration": 40,
    "start_time": "2022-07-29T05:07:14.365Z"
   },
   {
    "duration": 7,
    "start_time": "2022-07-29T05:07:14.407Z"
   },
   {
    "duration": 11,
    "start_time": "2022-07-29T05:07:14.416Z"
   },
   {
    "duration": 146,
    "start_time": "2022-07-29T05:07:14.429Z"
   },
   {
    "duration": 35,
    "start_time": "2022-07-29T05:07:14.577Z"
   },
   {
    "duration": 16,
    "start_time": "2022-07-29T05:07:14.614Z"
   },
   {
    "duration": 4,
    "start_time": "2022-07-29T05:07:14.632Z"
   },
   {
    "duration": 6,
    "start_time": "2022-07-29T05:07:14.638Z"
   },
   {
    "duration": 10,
    "start_time": "2022-07-29T05:07:14.645Z"
   },
   {
    "duration": 9,
    "start_time": "2022-07-29T05:07:14.657Z"
   },
   {
    "duration": 35,
    "start_time": "2022-07-29T05:07:14.667Z"
   },
   {
    "duration": 33,
    "start_time": "2022-07-29T05:07:14.703Z"
   },
   {
    "duration": 20,
    "start_time": "2022-07-29T05:07:14.738Z"
   },
   {
    "duration": 8,
    "start_time": "2022-07-29T05:07:14.760Z"
   },
   {
    "duration": 41,
    "start_time": "2022-07-29T05:07:14.770Z"
   },
   {
    "duration": 7,
    "start_time": "2022-07-29T05:07:14.813Z"
   },
   {
    "duration": 356,
    "start_time": "2022-07-29T05:07:14.821Z"
   },
   {
    "duration": 12,
    "start_time": "2022-07-29T05:07:15.178Z"
   },
   {
    "duration": 12,
    "start_time": "2022-07-29T05:07:15.198Z"
   },
   {
    "duration": 22,
    "start_time": "2022-07-29T05:07:15.211Z"
   },
   {
    "duration": 16,
    "start_time": "2022-07-29T05:07:15.234Z"
   },
   {
    "duration": 4,
    "start_time": "2022-07-29T05:07:15.252Z"
   },
   {
    "duration": 8,
    "start_time": "2022-07-29T05:07:15.257Z"
   },
   {
    "duration": 17,
    "start_time": "2022-07-29T05:07:15.266Z"
   },
   {
    "duration": 4,
    "start_time": "2022-07-29T05:07:15.298Z"
   },
   {
    "duration": 18,
    "start_time": "2022-07-29T05:07:15.304Z"
   },
   {
    "duration": 4,
    "start_time": "2022-07-29T05:07:15.324Z"
   },
   {
    "duration": 10,
    "start_time": "2022-07-29T05:07:15.330Z"
   },
   {
    "duration": 14,
    "start_time": "2022-07-29T05:07:15.342Z"
   },
   {
    "duration": 7,
    "start_time": "2022-07-29T05:07:15.358Z"
   },
   {
    "duration": 32,
    "start_time": "2022-07-29T05:07:15.367Z"
   },
   {
    "duration": 17,
    "start_time": "2022-07-29T05:07:15.401Z"
   },
   {
    "duration": 18,
    "start_time": "2022-07-29T05:07:15.420Z"
   },
   {
    "duration": 14,
    "start_time": "2022-07-29T05:07:15.439Z"
   },
   {
    "duration": 46,
    "start_time": "2022-07-29T05:07:15.455Z"
   },
   {
    "duration": 6,
    "start_time": "2022-07-29T05:07:15.503Z"
   },
   {
    "duration": 17,
    "start_time": "2022-07-29T05:07:15.511Z"
   },
   {
    "duration": 25,
    "start_time": "2022-07-29T05:07:15.530Z"
   },
   {
    "duration": 42,
    "start_time": "2022-07-29T05:07:15.557Z"
   },
   {
    "duration": 11,
    "start_time": "2022-07-29T05:07:15.601Z"
   },
   {
    "duration": 4,
    "start_time": "2022-07-29T05:07:15.614Z"
   },
   {
    "duration": 13,
    "start_time": "2022-07-29T05:07:15.620Z"
   },
   {
    "duration": 3,
    "start_time": "2022-07-29T05:07:15.634Z"
   },
   {
    "duration": 7,
    "start_time": "2022-07-29T05:07:15.638Z"
   },
   {
    "duration": 56,
    "start_time": "2022-07-29T05:07:15.647Z"
   },
   {
    "duration": 9,
    "start_time": "2022-07-29T05:07:15.704Z"
   },
   {
    "duration": 29,
    "start_time": "2022-07-29T05:07:15.715Z"
   },
   {
    "duration": 465,
    "start_time": "2022-07-29T05:07:15.745Z"
   },
   {
    "duration": 19,
    "start_time": "2022-07-29T05:07:16.212Z"
   },
   {
    "duration": 7,
    "start_time": "2022-07-29T05:07:16.233Z"
   },
   {
    "duration": 9,
    "start_time": "2022-07-29T05:07:16.246Z"
   },
   {
    "duration": 8,
    "start_time": "2022-07-29T05:07:16.256Z"
   },
   {
    "duration": 33,
    "start_time": "2022-07-29T05:07:16.265Z"
   },
   {
    "duration": 7,
    "start_time": "2022-07-29T05:07:16.299Z"
   },
   {
    "duration": 26,
    "start_time": "2022-07-29T05:07:16.308Z"
   },
   {
    "duration": 466,
    "start_time": "2022-07-29T05:07:16.335Z"
   },
   {
    "duration": 8,
    "start_time": "2022-07-29T05:07:16.803Z"
   },
   {
    "duration": 17,
    "start_time": "2022-07-29T05:07:16.812Z"
   },
   {
    "duration": 12,
    "start_time": "2022-07-29T05:07:16.831Z"
   },
   {
    "duration": 26,
    "start_time": "2022-07-29T05:07:16.845Z"
   },
   {
    "duration": 16,
    "start_time": "2022-07-29T05:07:16.873Z"
   },
   {
    "duration": 7,
    "start_time": "2022-07-29T05:07:16.891Z"
   },
   {
    "duration": 9,
    "start_time": "2022-07-29T05:07:16.899Z"
   },
   {
    "duration": 3,
    "start_time": "2022-07-29T05:20:59.474Z"
   },
   {
    "duration": 7,
    "start_time": "2022-07-29T05:22:10.273Z"
   },
   {
    "duration": 3,
    "start_time": "2022-07-29T05:23:07.545Z"
   },
   {
    "duration": 50,
    "start_time": "2022-07-29T05:24:19.834Z"
   },
   {
    "duration": 4,
    "start_time": "2022-07-29T05:24:27.859Z"
   },
   {
    "duration": 121,
    "start_time": "2022-07-29T05:28:48.878Z"
   },
   {
    "duration": 3,
    "start_time": "2022-07-29T05:29:40.795Z"
   },
   {
    "duration": 7,
    "start_time": "2022-07-29T05:30:11.748Z"
   },
   {
    "duration": 9,
    "start_time": "2022-07-29T05:30:16.103Z"
   },
   {
    "duration": 5,
    "start_time": "2022-07-29T05:31:02.924Z"
   },
   {
    "duration": 5,
    "start_time": "2022-07-29T05:31:33.102Z"
   },
   {
    "duration": 8,
    "start_time": "2022-07-29T05:31:39.640Z"
   },
   {
    "duration": 14,
    "start_time": "2022-07-29T05:32:03.628Z"
   },
   {
    "duration": 9,
    "start_time": "2022-07-29T05:32:03.833Z"
   },
   {
    "duration": 1182,
    "start_time": "2022-07-29T05:32:18.265Z"
   },
   {
    "duration": 1020,
    "start_time": "2022-07-29T05:32:19.449Z"
   },
   {
    "duration": 11,
    "start_time": "2022-07-29T05:32:20.471Z"
   },
   {
    "duration": 13,
    "start_time": "2022-07-29T05:32:20.484Z"
   },
   {
    "duration": 10,
    "start_time": "2022-07-29T05:32:20.498Z"
   },
   {
    "duration": 20,
    "start_time": "2022-07-29T05:32:20.510Z"
   },
   {
    "duration": 9,
    "start_time": "2022-07-29T05:32:20.532Z"
   },
   {
    "duration": 84,
    "start_time": "2022-07-29T05:32:20.543Z"
   },
   {
    "duration": 8,
    "start_time": "2022-07-29T05:32:20.628Z"
   },
   {
    "duration": 9,
    "start_time": "2022-07-29T05:32:20.639Z"
   },
   {
    "duration": 112,
    "start_time": "2022-07-29T05:32:20.649Z"
   },
   {
    "duration": 60,
    "start_time": "2022-07-29T05:32:20.763Z"
   },
   {
    "duration": 54,
    "start_time": "2022-07-29T05:32:20.824Z"
   },
   {
    "duration": 18,
    "start_time": "2022-07-29T05:32:20.880Z"
   },
   {
    "duration": 5,
    "start_time": "2022-07-29T05:32:20.900Z"
   },
   {
    "duration": 8,
    "start_time": "2022-07-29T05:32:20.907Z"
   },
   {
    "duration": 8,
    "start_time": "2022-07-29T05:32:20.917Z"
   },
   {
    "duration": 30,
    "start_time": "2022-07-29T05:32:20.927Z"
   },
   {
    "duration": 5,
    "start_time": "2022-07-29T05:32:20.959Z"
   },
   {
    "duration": 5,
    "start_time": "2022-07-29T05:32:20.998Z"
   },
   {
    "duration": 12,
    "start_time": "2022-07-29T05:32:21.005Z"
   },
   {
    "duration": 37,
    "start_time": "2022-07-29T05:32:21.019Z"
   },
   {
    "duration": 250,
    "start_time": "2022-07-29T05:32:21.057Z"
   },
   {
    "duration": 4,
    "start_time": "2022-07-29T05:32:21.309Z"
   },
   {
    "duration": 20,
    "start_time": "2022-07-29T05:32:21.315Z"
   },
   {
    "duration": 16,
    "start_time": "2022-07-29T05:32:21.336Z"
   },
   {
    "duration": 16,
    "start_time": "2022-07-29T05:32:21.354Z"
   },
   {
    "duration": 93,
    "start_time": "2022-07-29T05:32:21.375Z"
   },
   {
    "duration": 50,
    "start_time": "2022-07-29T05:32:21.470Z"
   },
   {
    "duration": 6,
    "start_time": "2022-07-29T05:32:21.522Z"
   },
   {
    "duration": 18,
    "start_time": "2022-07-29T05:32:21.529Z"
   },
   {
    "duration": 16,
    "start_time": "2022-07-29T05:32:21.548Z"
   },
   {
    "duration": 6,
    "start_time": "2022-07-29T05:32:21.566Z"
   },
   {
    "duration": 6,
    "start_time": "2022-07-29T05:32:21.573Z"
   },
   {
    "duration": 135,
    "start_time": "2022-07-29T05:32:21.581Z"
   },
   {
    "duration": 27,
    "start_time": "2022-07-29T05:32:21.718Z"
   },
   {
    "duration": 16,
    "start_time": "2022-07-29T05:32:21.747Z"
   },
   {
    "duration": 6,
    "start_time": "2022-07-29T05:32:21.765Z"
   },
   {
    "duration": 28,
    "start_time": "2022-07-29T05:32:21.772Z"
   },
   {
    "duration": 6,
    "start_time": "2022-07-29T05:32:21.801Z"
   },
   {
    "duration": 8,
    "start_time": "2022-07-29T05:32:21.808Z"
   },
   {
    "duration": 14,
    "start_time": "2022-07-29T05:32:21.817Z"
   },
   {
    "duration": 33,
    "start_time": "2022-07-29T05:32:21.833Z"
   },
   {
    "duration": 45,
    "start_time": "2022-07-29T05:32:21.868Z"
   },
   {
    "duration": 9,
    "start_time": "2022-07-29T05:32:21.915Z"
   },
   {
    "duration": 17,
    "start_time": "2022-07-29T05:32:21.925Z"
   },
   {
    "duration": 8,
    "start_time": "2022-07-29T05:32:21.944Z"
   },
   {
    "duration": 360,
    "start_time": "2022-07-29T05:32:21.954Z"
   },
   {
    "duration": 14,
    "start_time": "2022-07-29T05:32:22.316Z"
   },
   {
    "duration": 11,
    "start_time": "2022-07-29T05:32:22.332Z"
   },
   {
    "duration": 30,
    "start_time": "2022-07-29T05:32:22.345Z"
   },
   {
    "duration": 21,
    "start_time": "2022-07-29T05:32:22.377Z"
   },
   {
    "duration": 5,
    "start_time": "2022-07-29T05:32:22.399Z"
   },
   {
    "duration": 6,
    "start_time": "2022-07-29T05:32:22.405Z"
   },
   {
    "duration": 5,
    "start_time": "2022-07-29T05:32:22.413Z"
   },
   {
    "duration": 8,
    "start_time": "2022-07-29T05:32:22.419Z"
   },
   {
    "duration": 31,
    "start_time": "2022-07-29T05:32:22.428Z"
   },
   {
    "duration": 6,
    "start_time": "2022-07-29T05:32:22.461Z"
   },
   {
    "duration": 7,
    "start_time": "2022-07-29T05:32:22.469Z"
   },
   {
    "duration": 28,
    "start_time": "2022-07-29T05:32:22.477Z"
   },
   {
    "duration": 9,
    "start_time": "2022-07-29T05:32:22.506Z"
   },
   {
    "duration": 5,
    "start_time": "2022-07-29T05:32:22.517Z"
   },
   {
    "duration": 34,
    "start_time": "2022-07-29T05:32:22.524Z"
   },
   {
    "duration": 22,
    "start_time": "2022-07-29T05:32:22.560Z"
   },
   {
    "duration": 23,
    "start_time": "2022-07-29T05:32:22.584Z"
   },
   {
    "duration": 16,
    "start_time": "2022-07-29T05:32:22.609Z"
   },
   {
    "duration": 6,
    "start_time": "2022-07-29T05:32:22.627Z"
   },
   {
    "duration": 17,
    "start_time": "2022-07-29T05:32:22.634Z"
   },
   {
    "duration": 58,
    "start_time": "2022-07-29T05:32:22.652Z"
   },
   {
    "duration": 20,
    "start_time": "2022-07-29T05:32:22.712Z"
   },
   {
    "duration": 18,
    "start_time": "2022-07-29T05:32:22.733Z"
   },
   {
    "duration": 17,
    "start_time": "2022-07-29T05:32:22.752Z"
   },
   {
    "duration": 20,
    "start_time": "2022-07-29T05:32:22.771Z"
   },
   {
    "duration": 12,
    "start_time": "2022-07-29T05:32:22.793Z"
   },
   {
    "duration": 15,
    "start_time": "2022-07-29T05:32:22.807Z"
   },
   {
    "duration": 32,
    "start_time": "2022-07-29T05:32:22.824Z"
   },
   {
    "duration": 8,
    "start_time": "2022-07-29T05:32:22.858Z"
   },
   {
    "duration": 40,
    "start_time": "2022-07-29T05:32:22.868Z"
   },
   {
    "duration": 471,
    "start_time": "2022-07-29T05:32:22.910Z"
   },
   {
    "duration": 25,
    "start_time": "2022-07-29T05:32:23.383Z"
   },
   {
    "duration": 11,
    "start_time": "2022-07-29T05:32:23.410Z"
   },
   {
    "duration": 11,
    "start_time": "2022-07-29T05:32:23.426Z"
   },
   {
    "duration": 23,
    "start_time": "2022-07-29T05:32:23.439Z"
   },
   {
    "duration": 19,
    "start_time": "2022-07-29T05:32:23.465Z"
   },
   {
    "duration": 24,
    "start_time": "2022-07-29T05:32:23.486Z"
   },
   {
    "duration": 39,
    "start_time": "2022-07-29T05:32:23.512Z"
   },
   {
    "duration": 470,
    "start_time": "2022-07-29T05:32:23.553Z"
   },
   {
    "duration": 10,
    "start_time": "2022-07-29T05:32:24.025Z"
   },
   {
    "duration": 18,
    "start_time": "2022-07-29T05:32:24.037Z"
   },
   {
    "duration": 13,
    "start_time": "2022-07-29T05:32:24.057Z"
   },
   {
    "duration": 29,
    "start_time": "2022-07-29T05:32:24.072Z"
   },
   {
    "duration": 14,
    "start_time": "2022-07-29T05:32:24.103Z"
   },
   {
    "duration": 12,
    "start_time": "2022-07-29T05:32:24.119Z"
   },
   {
    "duration": 11,
    "start_time": "2022-07-29T05:32:24.133Z"
   },
   {
    "duration": 30,
    "start_time": "2022-07-29T05:32:24.145Z"
   },
   {
    "duration": 7,
    "start_time": "2022-07-29T05:32:24.177Z"
   },
   {
    "duration": 13,
    "start_time": "2022-07-29T05:32:24.186Z"
   },
   {
    "duration": 73,
    "start_time": "2022-07-29T05:35:59.735Z"
   },
   {
    "duration": 3,
    "start_time": "2022-07-29T05:36:10.255Z"
   },
   {
    "duration": 1062,
    "start_time": "2022-07-29T05:39:36.578Z"
   },
   {
    "duration": 8,
    "start_time": "2022-07-29T05:40:04.047Z"
   },
   {
    "duration": 734,
    "start_time": "2022-07-29T05:40:26.513Z"
   },
   {
    "duration": 1165,
    "start_time": "2022-07-29T05:40:41.321Z"
   },
   {
    "duration": 1183,
    "start_time": "2022-07-29T05:40:42.488Z"
   },
   {
    "duration": 10,
    "start_time": "2022-07-29T05:40:43.673Z"
   },
   {
    "duration": 16,
    "start_time": "2022-07-29T05:40:43.685Z"
   },
   {
    "duration": 10,
    "start_time": "2022-07-29T05:40:43.702Z"
   },
   {
    "duration": 21,
    "start_time": "2022-07-29T05:40:43.713Z"
   },
   {
    "duration": 9,
    "start_time": "2022-07-29T05:40:43.735Z"
   },
   {
    "duration": 94,
    "start_time": "2022-07-29T05:40:43.746Z"
   },
   {
    "duration": 9,
    "start_time": "2022-07-29T05:40:43.842Z"
   },
   {
    "duration": 15,
    "start_time": "2022-07-29T05:40:43.860Z"
   },
   {
    "duration": 100,
    "start_time": "2022-07-29T05:40:43.876Z"
   },
   {
    "duration": 65,
    "start_time": "2022-07-29T05:40:43.978Z"
   },
   {
    "duration": 59,
    "start_time": "2022-07-29T05:40:44.045Z"
   },
   {
    "duration": 4,
    "start_time": "2022-07-29T05:40:44.106Z"
   },
   {
    "duration": 7,
    "start_time": "2022-07-29T05:40:44.112Z"
   },
   {
    "duration": 9,
    "start_time": "2022-07-29T05:40:44.121Z"
   },
   {
    "duration": 12,
    "start_time": "2022-07-29T05:40:44.132Z"
   },
   {
    "duration": 28,
    "start_time": "2022-07-29T05:40:44.145Z"
   },
   {
    "duration": 5,
    "start_time": "2022-07-29T05:40:44.197Z"
   },
   {
    "duration": 6,
    "start_time": "2022-07-29T05:40:44.204Z"
   },
   {
    "duration": 15,
    "start_time": "2022-07-29T05:40:44.211Z"
   },
   {
    "duration": 41,
    "start_time": "2022-07-29T05:40:44.227Z"
   },
   {
    "duration": 301,
    "start_time": "2022-07-29T05:40:44.269Z"
   },
   {
    "duration": 6,
    "start_time": "2022-07-29T05:40:44.572Z"
   },
   {
    "duration": 26,
    "start_time": "2022-07-29T05:40:44.579Z"
   },
   {
    "duration": 30,
    "start_time": "2022-07-29T05:40:44.607Z"
   },
   {
    "duration": 34,
    "start_time": "2022-07-29T05:40:44.639Z"
   },
   {
    "duration": 76,
    "start_time": "2022-07-29T05:40:44.677Z"
   },
   {
    "duration": 48,
    "start_time": "2022-07-29T05:40:44.755Z"
   },
   {
    "duration": 4,
    "start_time": "2022-07-29T05:40:44.805Z"
   },
   {
    "duration": 16,
    "start_time": "2022-07-29T05:40:44.811Z"
   },
   {
    "duration": 13,
    "start_time": "2022-07-29T05:40:44.828Z"
   },
   {
    "duration": 10,
    "start_time": "2022-07-29T05:40:44.842Z"
   },
   {
    "duration": 8,
    "start_time": "2022-07-29T05:40:44.854Z"
   },
   {
    "duration": 134,
    "start_time": "2022-07-29T05:40:44.864Z"
   },
   {
    "duration": 30,
    "start_time": "2022-07-29T05:40:44.999Z"
   },
   {
    "duration": 22,
    "start_time": "2022-07-29T05:40:45.031Z"
   },
   {
    "duration": 14,
    "start_time": "2022-07-29T05:40:45.054Z"
   },
   {
    "duration": 7,
    "start_time": "2022-07-29T05:40:45.069Z"
   },
   {
    "duration": 17,
    "start_time": "2022-07-29T05:40:45.077Z"
   },
   {
    "duration": 25,
    "start_time": "2022-07-29T05:40:45.095Z"
   },
   {
    "duration": 16,
    "start_time": "2022-07-29T05:40:45.122Z"
   },
   {
    "duration": 35,
    "start_time": "2022-07-29T05:40:45.140Z"
   },
   {
    "duration": 29,
    "start_time": "2022-07-29T05:40:45.177Z"
   },
   {
    "duration": 9,
    "start_time": "2022-07-29T05:40:45.208Z"
   },
   {
    "duration": 17,
    "start_time": "2022-07-29T05:40:45.218Z"
   },
   {
    "duration": 8,
    "start_time": "2022-07-29T05:40:45.237Z"
   },
   {
    "duration": 378,
    "start_time": "2022-07-29T05:40:45.247Z"
   },
   {
    "duration": 12,
    "start_time": "2022-07-29T05:40:45.627Z"
   },
   {
    "duration": 11,
    "start_time": "2022-07-29T05:40:45.641Z"
   },
   {
    "duration": 21,
    "start_time": "2022-07-29T05:40:45.653Z"
   },
   {
    "duration": 34,
    "start_time": "2022-07-29T05:40:45.675Z"
   },
   {
    "duration": 4,
    "start_time": "2022-07-29T05:40:45.710Z"
   },
   {
    "duration": 9,
    "start_time": "2022-07-29T05:40:45.716Z"
   },
   {
    "duration": 7,
    "start_time": "2022-07-29T05:40:45.726Z"
   },
   {
    "duration": 7,
    "start_time": "2022-07-29T05:40:45.734Z"
   },
   {
    "duration": 16,
    "start_time": "2022-07-29T05:40:45.743Z"
   },
   {
    "duration": 4,
    "start_time": "2022-07-29T05:40:45.761Z"
   },
   {
    "duration": 32,
    "start_time": "2022-07-29T05:40:45.766Z"
   },
   {
    "duration": 9,
    "start_time": "2022-07-29T05:40:45.799Z"
   },
   {
    "duration": 7,
    "start_time": "2022-07-29T05:40:45.809Z"
   },
   {
    "duration": 6,
    "start_time": "2022-07-29T05:40:45.817Z"
   },
   {
    "duration": 13,
    "start_time": "2022-07-29T05:40:45.825Z"
   },
   {
    "duration": 17,
    "start_time": "2022-07-29T05:40:45.840Z"
   },
   {
    "duration": 48,
    "start_time": "2022-07-29T05:40:45.859Z"
   },
   {
    "duration": 17,
    "start_time": "2022-07-29T05:40:45.908Z"
   },
   {
    "duration": 6,
    "start_time": "2022-07-29T05:40:45.927Z"
   },
   {
    "duration": 15,
    "start_time": "2022-07-29T05:40:45.935Z"
   },
   {
    "duration": 48,
    "start_time": "2022-07-29T05:40:45.951Z"
   },
   {
    "duration": 19,
    "start_time": "2022-07-29T05:40:46.001Z"
   },
   {
    "duration": 11,
    "start_time": "2022-07-29T05:40:46.022Z"
   },
   {
    "duration": 4,
    "start_time": "2022-07-29T05:40:46.035Z"
   },
   {
    "duration": 15,
    "start_time": "2022-07-29T05:40:46.041Z"
   },
   {
    "duration": 3,
    "start_time": "2022-07-29T05:40:46.058Z"
   },
   {
    "duration": 37,
    "start_time": "2022-07-29T05:40:46.062Z"
   },
   {
    "duration": 25,
    "start_time": "2022-07-29T05:40:46.101Z"
   },
   {
    "duration": 8,
    "start_time": "2022-07-29T05:40:46.128Z"
   },
   {
    "duration": 32,
    "start_time": "2022-07-29T05:40:46.138Z"
   },
   {
    "duration": 483,
    "start_time": "2022-07-29T05:40:46.172Z"
   },
   {
    "duration": 19,
    "start_time": "2022-07-29T05:40:46.657Z"
   },
   {
    "duration": 7,
    "start_time": "2022-07-29T05:40:46.678Z"
   },
   {
    "duration": 10,
    "start_time": "2022-07-29T05:40:46.702Z"
   },
   {
    "duration": 6,
    "start_time": "2022-07-29T05:40:46.714Z"
   },
   {
    "duration": 7,
    "start_time": "2022-07-29T05:40:46.721Z"
   },
   {
    "duration": 17,
    "start_time": "2022-07-29T05:40:46.729Z"
   },
   {
    "duration": 29,
    "start_time": "2022-07-29T05:40:46.748Z"
   },
   {
    "duration": 464,
    "start_time": "2022-07-29T05:40:46.797Z"
   },
   {
    "duration": 9,
    "start_time": "2022-07-29T05:40:47.262Z"
   },
   {
    "duration": 26,
    "start_time": "2022-07-29T05:40:47.273Z"
   },
   {
    "duration": 15,
    "start_time": "2022-07-29T05:40:47.301Z"
   },
   {
    "duration": 4,
    "start_time": "2022-07-29T05:40:47.317Z"
   },
   {
    "duration": 11,
    "start_time": "2022-07-29T05:40:47.323Z"
   },
   {
    "duration": 10,
    "start_time": "2022-07-29T05:40:47.336Z"
   },
   {
    "duration": 17,
    "start_time": "2022-07-29T05:40:47.348Z"
   },
   {
    "duration": 9,
    "start_time": "2022-07-29T05:40:47.367Z"
   },
   {
    "duration": 6,
    "start_time": "2022-07-29T05:40:47.397Z"
   },
   {
    "duration": 18,
    "start_time": "2022-07-29T05:40:47.404Z"
   },
   {
    "duration": 1609,
    "start_time": "2022-07-29T05:40:47.423Z"
   },
   {
    "duration": 1071,
    "start_time": "2022-07-29T05:41:54.540Z"
   },
   {
    "duration": 5,
    "start_time": "2022-07-29T05:42:40.420Z"
   },
   {
    "duration": 10,
    "start_time": "2022-07-29T05:42:50.818Z"
   },
   {
    "duration": 10,
    "start_time": "2022-07-29T05:42:56.054Z"
   },
   {
    "duration": 11,
    "start_time": "2022-07-29T05:43:18.761Z"
   },
   {
    "duration": 9,
    "start_time": "2022-07-29T05:43:29.899Z"
   },
   {
    "duration": 1277,
    "start_time": "2022-07-29T05:49:42.580Z"
   },
   {
    "duration": 1134,
    "start_time": "2022-07-29T05:49:43.860Z"
   },
   {
    "duration": 13,
    "start_time": "2022-07-29T05:49:44.996Z"
   },
   {
    "duration": 38,
    "start_time": "2022-07-29T05:49:45.011Z"
   },
   {
    "duration": 12,
    "start_time": "2022-07-29T05:49:45.051Z"
   },
   {
    "duration": 27,
    "start_time": "2022-07-29T05:49:45.065Z"
   },
   {
    "duration": 10,
    "start_time": "2022-07-29T05:49:45.094Z"
   },
   {
    "duration": 72,
    "start_time": "2022-07-29T05:49:45.105Z"
   },
   {
    "duration": 9,
    "start_time": "2022-07-29T05:49:45.178Z"
   },
   {
    "duration": 15,
    "start_time": "2022-07-29T05:49:45.191Z"
   },
   {
    "duration": 107,
    "start_time": "2022-07-29T05:49:45.208Z"
   },
   {
    "duration": 58,
    "start_time": "2022-07-29T05:49:45.317Z"
   },
   {
    "duration": 69,
    "start_time": "2022-07-29T05:49:45.377Z"
   },
   {
    "duration": 5,
    "start_time": "2022-07-29T05:49:45.448Z"
   },
   {
    "duration": 8,
    "start_time": "2022-07-29T05:49:45.454Z"
   },
   {
    "duration": 7,
    "start_time": "2022-07-29T05:49:45.464Z"
   },
   {
    "duration": 27,
    "start_time": "2022-07-29T05:49:45.472Z"
   },
   {
    "duration": 28,
    "start_time": "2022-07-29T05:49:45.501Z"
   },
   {
    "duration": 5,
    "start_time": "2022-07-29T05:49:45.532Z"
   },
   {
    "duration": 9,
    "start_time": "2022-07-29T05:49:45.538Z"
   },
   {
    "duration": 12,
    "start_time": "2022-07-29T05:49:45.548Z"
   },
   {
    "duration": 56,
    "start_time": "2022-07-29T05:49:45.569Z"
   },
   {
    "duration": 250,
    "start_time": "2022-07-29T05:49:45.627Z"
   },
   {
    "duration": 5,
    "start_time": "2022-07-29T05:49:45.878Z"
   },
   {
    "duration": 23,
    "start_time": "2022-07-29T05:49:45.885Z"
   },
   {
    "duration": 30,
    "start_time": "2022-07-29T05:49:45.910Z"
   },
   {
    "duration": 15,
    "start_time": "2022-07-29T05:49:45.942Z"
   },
   {
    "duration": 77,
    "start_time": "2022-07-29T05:49:45.962Z"
   },
   {
    "duration": 40,
    "start_time": "2022-07-29T05:49:46.041Z"
   },
   {
    "duration": 5,
    "start_time": "2022-07-29T05:49:46.097Z"
   },
   {
    "duration": 17,
    "start_time": "2022-07-29T05:49:46.104Z"
   },
   {
    "duration": 15,
    "start_time": "2022-07-29T05:49:46.123Z"
   },
   {
    "duration": 8,
    "start_time": "2022-07-29T05:49:46.140Z"
   },
   {
    "duration": 8,
    "start_time": "2022-07-29T05:49:46.150Z"
   },
   {
    "duration": 136,
    "start_time": "2022-07-29T05:49:46.159Z"
   },
   {
    "duration": 28,
    "start_time": "2022-07-29T05:49:46.297Z"
   },
   {
    "duration": 18,
    "start_time": "2022-07-29T05:49:46.327Z"
   },
   {
    "duration": 4,
    "start_time": "2022-07-29T05:49:46.347Z"
   },
   {
    "duration": 10,
    "start_time": "2022-07-29T05:49:46.353Z"
   },
   {
    "duration": 10,
    "start_time": "2022-07-29T05:49:46.365Z"
   },
   {
    "duration": 24,
    "start_time": "2022-07-29T05:49:46.377Z"
   },
   {
    "duration": 14,
    "start_time": "2022-07-29T05:49:46.402Z"
   },
   {
    "duration": 34,
    "start_time": "2022-07-29T05:49:46.418Z"
   },
   {
    "duration": 48,
    "start_time": "2022-07-29T05:49:46.453Z"
   },
   {
    "duration": 8,
    "start_time": "2022-07-29T05:49:46.503Z"
   },
   {
    "duration": 15,
    "start_time": "2022-07-29T05:49:46.513Z"
   },
   {
    "duration": 9,
    "start_time": "2022-07-29T05:49:46.530Z"
   },
   {
    "duration": 363,
    "start_time": "2022-07-29T05:49:46.541Z"
   },
   {
    "duration": 13,
    "start_time": "2022-07-29T05:49:46.906Z"
   },
   {
    "duration": 13,
    "start_time": "2022-07-29T05:49:46.921Z"
   },
   {
    "duration": 15,
    "start_time": "2022-07-29T05:49:46.936Z"
   },
   {
    "duration": 45,
    "start_time": "2022-07-29T05:49:46.953Z"
   },
   {
    "duration": 4,
    "start_time": "2022-07-29T05:49:47.000Z"
   },
   {
    "duration": 7,
    "start_time": "2022-07-29T05:49:47.006Z"
   },
   {
    "duration": 5,
    "start_time": "2022-07-29T05:49:47.015Z"
   },
   {
    "duration": 5,
    "start_time": "2022-07-29T05:49:47.022Z"
   },
   {
    "duration": 26,
    "start_time": "2022-07-29T05:49:47.029Z"
   },
   {
    "duration": 5,
    "start_time": "2022-07-29T05:49:47.057Z"
   },
   {
    "duration": 35,
    "start_time": "2022-07-29T05:49:47.064Z"
   },
   {
    "duration": 10,
    "start_time": "2022-07-29T05:49:47.101Z"
   },
   {
    "duration": 11,
    "start_time": "2022-07-29T05:49:47.113Z"
   },
   {
    "duration": 6,
    "start_time": "2022-07-29T05:49:47.126Z"
   },
   {
    "duration": 15,
    "start_time": "2022-07-29T05:49:47.134Z"
   },
   {
    "duration": 57,
    "start_time": "2022-07-29T05:49:47.151Z"
   },
   {
    "duration": 15,
    "start_time": "2022-07-29T05:49:47.210Z"
   },
   {
    "duration": 18,
    "start_time": "2022-07-29T05:49:47.227Z"
   },
   {
    "duration": 8,
    "start_time": "2022-07-29T05:49:47.247Z"
   },
   {
    "duration": 50,
    "start_time": "2022-07-29T05:49:47.257Z"
   },
   {
    "duration": 27,
    "start_time": "2022-07-29T05:49:47.309Z"
   },
   {
    "duration": 19,
    "start_time": "2022-07-29T05:49:47.338Z"
   },
   {
    "duration": 11,
    "start_time": "2022-07-29T05:49:47.359Z"
   },
   {
    "duration": 29,
    "start_time": "2022-07-29T05:49:47.372Z"
   },
   {
    "duration": 19,
    "start_time": "2022-07-29T05:49:47.402Z"
   },
   {
    "duration": 3,
    "start_time": "2022-07-29T05:49:47.422Z"
   },
   {
    "duration": 19,
    "start_time": "2022-07-29T05:49:47.426Z"
   },
   {
    "duration": 37,
    "start_time": "2022-07-29T05:49:47.446Z"
   },
   {
    "duration": 14,
    "start_time": "2022-07-29T05:49:47.485Z"
   },
   {
    "duration": 48,
    "start_time": "2022-07-29T05:49:47.501Z"
   },
   {
    "duration": 509,
    "start_time": "2022-07-29T05:49:47.550Z"
   },
   {
    "duration": 22,
    "start_time": "2022-07-29T05:49:48.060Z"
   },
   {
    "duration": 19,
    "start_time": "2022-07-29T05:49:48.084Z"
   },
   {
    "duration": 10,
    "start_time": "2022-07-29T05:49:48.110Z"
   },
   {
    "duration": 29,
    "start_time": "2022-07-29T05:49:48.122Z"
   },
   {
    "duration": 14,
    "start_time": "2022-07-29T05:49:48.153Z"
   },
   {
    "duration": 18,
    "start_time": "2022-07-29T05:49:48.169Z"
   },
   {
    "duration": 30,
    "start_time": "2022-07-29T05:49:48.189Z"
   },
   {
    "duration": 496,
    "start_time": "2022-07-29T05:49:48.221Z"
   },
   {
    "duration": 10,
    "start_time": "2022-07-29T05:49:48.720Z"
   },
   {
    "duration": 20,
    "start_time": "2022-07-29T05:49:48.733Z"
   },
   {
    "duration": 17,
    "start_time": "2022-07-29T05:49:48.755Z"
   },
   {
    "duration": 4,
    "start_time": "2022-07-29T05:49:48.799Z"
   },
   {
    "duration": 11,
    "start_time": "2022-07-29T05:49:48.804Z"
   },
   {
    "duration": 11,
    "start_time": "2022-07-29T05:49:48.817Z"
   },
   {
    "duration": 12,
    "start_time": "2022-07-29T05:49:48.830Z"
   },
   {
    "duration": 10,
    "start_time": "2022-07-29T05:49:48.844Z"
   },
   {
    "duration": 5,
    "start_time": "2022-07-29T05:49:48.856Z"
   },
   {
    "duration": 5,
    "start_time": "2022-07-29T05:49:48.863Z"
   },
   {
    "duration": 9,
    "start_time": "2022-07-29T05:50:02.685Z"
   },
   {
    "duration": 118,
    "start_time": "2022-07-29T06:18:52.653Z"
   },
   {
    "duration": 23,
    "start_time": "2022-07-29T06:19:01.031Z"
   },
   {
    "duration": 23,
    "start_time": "2022-07-29T06:19:45.578Z"
   },
   {
    "duration": 11,
    "start_time": "2022-07-29T06:21:42.807Z"
   },
   {
    "duration": 4,
    "start_time": "2022-07-29T06:21:49.914Z"
   },
   {
    "duration": 13,
    "start_time": "2022-07-29T06:23:02.612Z"
   },
   {
    "duration": 17,
    "start_time": "2022-07-29T06:23:08.937Z"
   },
   {
    "duration": 2,
    "start_time": "2022-07-29T06:24:08.467Z"
   },
   {
    "duration": 8,
    "start_time": "2022-07-29T06:24:09.690Z"
   },
   {
    "duration": 5,
    "start_time": "2022-07-29T06:26:43.086Z"
   },
   {
    "duration": 6,
    "start_time": "2022-07-29T06:29:21.445Z"
   },
   {
    "duration": 6,
    "start_time": "2022-07-29T06:34:20.017Z"
   },
   {
    "duration": 13,
    "start_time": "2022-07-29T06:34:23.188Z"
   },
   {
    "duration": 2,
    "start_time": "2022-07-29T06:44:25.606Z"
   },
   {
    "duration": 14,
    "start_time": "2022-07-29T06:45:37.444Z"
   },
   {
    "duration": 6,
    "start_time": "2022-07-29T06:46:51.065Z"
   },
   {
    "duration": 13,
    "start_time": "2022-07-29T06:47:33.103Z"
   },
   {
    "duration": 10,
    "start_time": "2022-07-29T06:48:26.323Z"
   },
   {
    "duration": 9,
    "start_time": "2022-07-29T06:48:35.068Z"
   },
   {
    "duration": 9,
    "start_time": "2022-07-29T06:48:57.135Z"
   },
   {
    "duration": 6,
    "start_time": "2022-07-29T06:50:16.180Z"
   },
   {
    "duration": 7,
    "start_time": "2022-07-29T06:50:43.473Z"
   },
   {
    "duration": 6,
    "start_time": "2022-07-29T06:50:43.890Z"
   },
   {
    "duration": 6,
    "start_time": "2022-07-29T06:50:44.291Z"
   },
   {
    "duration": 268,
    "start_time": "2022-07-29T06:53:18.113Z"
   },
   {
    "duration": 129,
    "start_time": "2022-07-29T06:54:27.211Z"
   },
   {
    "duration": 194,
    "start_time": "2022-07-29T06:55:02.438Z"
   },
   {
    "duration": 183,
    "start_time": "2022-07-29T06:56:15.122Z"
   },
   {
    "duration": 152,
    "start_time": "2022-07-29T06:56:40.052Z"
   },
   {
    "duration": 161,
    "start_time": "2022-07-29T06:57:14.464Z"
   },
   {
    "duration": 10,
    "start_time": "2022-07-29T06:57:39.551Z"
   },
   {
    "duration": 7,
    "start_time": "2022-07-29T06:59:02.378Z"
   },
   {
    "duration": 6,
    "start_time": "2022-07-29T06:59:35.404Z"
   },
   {
    "duration": 6,
    "start_time": "2022-07-29T07:00:03.338Z"
   },
   {
    "duration": 6,
    "start_time": "2022-07-29T07:00:25.573Z"
   },
   {
    "duration": 15,
    "start_time": "2022-07-29T07:02:04.485Z"
   },
   {
    "duration": 8,
    "start_time": "2022-07-29T07:08:14.799Z"
   },
   {
    "duration": 8,
    "start_time": "2022-07-29T07:10:39.330Z"
   },
   {
    "duration": 278,
    "start_time": "2022-07-29T07:18:15.321Z"
   },
   {
    "duration": 286,
    "start_time": "2022-07-29T07:19:35.255Z"
   },
   {
    "duration": 198,
    "start_time": "2022-07-29T07:20:25.977Z"
   },
   {
    "duration": 200,
    "start_time": "2022-07-29T07:20:55.349Z"
   },
   {
    "duration": 257,
    "start_time": "2022-07-29T07:38:02.643Z"
   },
   {
    "duration": 291,
    "start_time": "2022-07-29T07:38:53.644Z"
   },
   {
    "duration": 302,
    "start_time": "2022-07-29T07:39:27.401Z"
   },
   {
    "duration": 269,
    "start_time": "2022-07-29T07:39:42.052Z"
   },
   {
    "duration": 296,
    "start_time": "2022-07-29T07:39:50.102Z"
   },
   {
    "duration": 315,
    "start_time": "2022-07-29T07:39:55.283Z"
   },
   {
    "duration": 314,
    "start_time": "2022-07-29T07:40:47.076Z"
   },
   {
    "duration": 335,
    "start_time": "2022-07-29T07:41:06.066Z"
   },
   {
    "duration": 276,
    "start_time": "2022-07-29T07:42:03.852Z"
   },
   {
    "duration": 403,
    "start_time": "2022-07-29T07:42:19.102Z"
   },
   {
    "duration": 274,
    "start_time": "2022-07-29T07:42:26.627Z"
   },
   {
    "duration": 320,
    "start_time": "2022-07-29T07:46:38.499Z"
   },
   {
    "duration": 311,
    "start_time": "2022-07-29T07:46:52.205Z"
   },
   {
    "duration": 284,
    "start_time": "2022-07-29T07:47:29.451Z"
   },
   {
    "duration": 280,
    "start_time": "2022-07-29T07:47:50.733Z"
   },
   {
    "duration": 283,
    "start_time": "2022-07-29T07:48:03.045Z"
   },
   {
    "duration": 148,
    "start_time": "2022-07-29T07:55:22.866Z"
   },
   {
    "duration": 7,
    "start_time": "2022-07-29T07:55:51.563Z"
   },
   {
    "duration": 8,
    "start_time": "2022-07-29T07:55:52.093Z"
   },
   {
    "duration": 1128,
    "start_time": "2022-07-29T07:56:56.549Z"
   },
   {
    "duration": 931,
    "start_time": "2022-07-29T07:56:57.679Z"
   },
   {
    "duration": 10,
    "start_time": "2022-07-29T07:56:58.612Z"
   },
   {
    "duration": 13,
    "start_time": "2022-07-29T07:56:58.624Z"
   },
   {
    "duration": 8,
    "start_time": "2022-07-29T07:56:58.638Z"
   },
   {
    "duration": 19,
    "start_time": "2022-07-29T07:56:58.647Z"
   },
   {
    "duration": 8,
    "start_time": "2022-07-29T07:56:58.668Z"
   },
   {
    "duration": 75,
    "start_time": "2022-07-29T07:56:58.678Z"
   },
   {
    "duration": 7,
    "start_time": "2022-07-29T07:56:58.755Z"
   },
   {
    "duration": 9,
    "start_time": "2022-07-29T07:56:58.766Z"
   },
   {
    "duration": 110,
    "start_time": "2022-07-29T07:56:58.777Z"
   },
   {
    "duration": 62,
    "start_time": "2022-07-29T07:56:58.889Z"
   },
   {
    "duration": 70,
    "start_time": "2022-07-29T07:56:58.952Z"
   },
   {
    "duration": 5,
    "start_time": "2022-07-29T07:56:59.024Z"
   },
   {
    "duration": 7,
    "start_time": "2022-07-29T07:56:59.031Z"
   },
   {
    "duration": 8,
    "start_time": "2022-07-29T07:56:59.039Z"
   },
   {
    "duration": 8,
    "start_time": "2022-07-29T07:56:59.049Z"
   },
   {
    "duration": 60,
    "start_time": "2022-07-29T07:56:59.060Z"
   },
   {
    "duration": 5,
    "start_time": "2022-07-29T07:56:59.122Z"
   },
   {
    "duration": 8,
    "start_time": "2022-07-29T07:56:59.128Z"
   },
   {
    "duration": 12,
    "start_time": "2022-07-29T07:56:59.137Z"
   },
   {
    "duration": 57,
    "start_time": "2022-07-29T07:56:59.151Z"
   },
   {
    "duration": 235,
    "start_time": "2022-07-29T07:56:59.210Z"
   },
   {
    "duration": 5,
    "start_time": "2022-07-29T07:56:59.447Z"
   },
   {
    "duration": 24,
    "start_time": "2022-07-29T07:56:59.453Z"
   },
   {
    "duration": 20,
    "start_time": "2022-07-29T07:56:59.478Z"
   },
   {
    "duration": 17,
    "start_time": "2022-07-29T07:56:59.499Z"
   },
   {
    "duration": 88,
    "start_time": "2022-07-29T07:56:59.521Z"
   },
   {
    "duration": 43,
    "start_time": "2022-07-29T07:56:59.611Z"
   },
   {
    "duration": 5,
    "start_time": "2022-07-29T07:56:59.656Z"
   },
   {
    "duration": 13,
    "start_time": "2022-07-29T07:56:59.662Z"
   },
   {
    "duration": 28,
    "start_time": "2022-07-29T07:56:59.676Z"
   },
   {
    "duration": 6,
    "start_time": "2022-07-29T07:56:59.706Z"
   },
   {
    "duration": 5,
    "start_time": "2022-07-29T07:56:59.713Z"
   },
   {
    "duration": 134,
    "start_time": "2022-07-29T07:56:59.719Z"
   },
   {
    "duration": 28,
    "start_time": "2022-07-29T07:56:59.855Z"
   },
   {
    "duration": 27,
    "start_time": "2022-07-29T07:56:59.885Z"
   },
   {
    "duration": 5,
    "start_time": "2022-07-29T07:56:59.913Z"
   },
   {
    "duration": 6,
    "start_time": "2022-07-29T07:56:59.920Z"
   },
   {
    "duration": 6,
    "start_time": "2022-07-29T07:56:59.928Z"
   },
   {
    "duration": 8,
    "start_time": "2022-07-29T07:56:59.936Z"
   },
   {
    "duration": 14,
    "start_time": "2022-07-29T07:56:59.946Z"
   },
   {
    "duration": 69,
    "start_time": "2022-07-29T07:56:59.962Z"
   },
   {
    "duration": 22,
    "start_time": "2022-07-29T07:57:00.033Z"
   },
   {
    "duration": 10,
    "start_time": "2022-07-29T07:57:00.057Z"
   },
   {
    "duration": 43,
    "start_time": "2022-07-29T07:57:00.069Z"
   },
   {
    "duration": 13,
    "start_time": "2022-07-29T07:57:00.114Z"
   },
   {
    "duration": 351,
    "start_time": "2022-07-29T07:57:00.128Z"
   },
   {
    "duration": 18,
    "start_time": "2022-07-29T07:57:00.481Z"
   },
   {
    "duration": 11,
    "start_time": "2022-07-29T07:57:00.501Z"
   },
   {
    "duration": 28,
    "start_time": "2022-07-29T07:57:00.513Z"
   },
   {
    "duration": 28,
    "start_time": "2022-07-29T07:57:00.543Z"
   },
   {
    "duration": 14,
    "start_time": "2022-07-29T07:57:00.573Z"
   },
   {
    "duration": 15,
    "start_time": "2022-07-29T07:57:00.588Z"
   },
   {
    "duration": 24,
    "start_time": "2022-07-29T07:57:00.604Z"
   },
   {
    "duration": 11,
    "start_time": "2022-07-29T07:57:00.629Z"
   },
   {
    "duration": 25,
    "start_time": "2022-07-29T07:57:00.641Z"
   },
   {
    "duration": 9,
    "start_time": "2022-07-29T07:57:00.668Z"
   },
   {
    "duration": 10,
    "start_time": "2022-07-29T07:57:00.679Z"
   },
   {
    "duration": 14,
    "start_time": "2022-07-29T07:57:00.691Z"
   },
   {
    "duration": 7,
    "start_time": "2022-07-29T07:57:00.707Z"
   },
   {
    "duration": 14,
    "start_time": "2022-07-29T07:57:00.715Z"
   },
   {
    "duration": 26,
    "start_time": "2022-07-29T07:57:00.730Z"
   },
   {
    "duration": 20,
    "start_time": "2022-07-29T07:57:00.758Z"
   },
   {
    "duration": 20,
    "start_time": "2022-07-29T07:57:00.780Z"
   },
   {
    "duration": 17,
    "start_time": "2022-07-29T07:57:00.802Z"
   },
   {
    "duration": 6,
    "start_time": "2022-07-29T07:57:00.820Z"
   },
   {
    "duration": 18,
    "start_time": "2022-07-29T07:57:00.828Z"
   },
   {
    "duration": 54,
    "start_time": "2022-07-29T07:57:00.848Z"
   },
   {
    "duration": 21,
    "start_time": "2022-07-29T07:57:00.904Z"
   },
   {
    "duration": 12,
    "start_time": "2022-07-29T07:57:00.927Z"
   },
   {
    "duration": 5,
    "start_time": "2022-07-29T07:57:00.941Z"
   },
   {
    "duration": 23,
    "start_time": "2022-07-29T07:57:00.947Z"
   },
   {
    "duration": 26,
    "start_time": "2022-07-29T07:57:00.972Z"
   },
   {
    "duration": 6,
    "start_time": "2022-07-29T07:57:01.000Z"
   },
   {
    "duration": 39,
    "start_time": "2022-07-29T07:57:01.007Z"
   },
   {
    "duration": 9,
    "start_time": "2022-07-29T07:57:01.047Z"
   },
   {
    "duration": 44,
    "start_time": "2022-07-29T07:57:01.057Z"
   },
   {
    "duration": 466,
    "start_time": "2022-07-29T07:57:01.103Z"
   },
   {
    "duration": 28,
    "start_time": "2022-07-29T07:57:01.570Z"
   },
   {
    "duration": 18,
    "start_time": "2022-07-29T07:57:01.600Z"
   },
   {
    "duration": 18,
    "start_time": "2022-07-29T07:57:01.626Z"
   },
   {
    "duration": 13,
    "start_time": "2022-07-29T07:57:01.646Z"
   },
   {
    "duration": 17,
    "start_time": "2022-07-29T07:57:01.661Z"
   },
   {
    "duration": 15,
    "start_time": "2022-07-29T07:57:01.679Z"
   },
   {
    "duration": 41,
    "start_time": "2022-07-29T07:57:01.696Z"
   },
   {
    "duration": 443,
    "start_time": "2022-07-29T07:57:01.739Z"
   },
   {
    "duration": 15,
    "start_time": "2022-07-29T07:57:02.184Z"
   },
   {
    "duration": 17,
    "start_time": "2022-07-29T07:57:02.201Z"
   },
   {
    "duration": 14,
    "start_time": "2022-07-29T07:57:02.219Z"
   },
   {
    "duration": 4,
    "start_time": "2022-07-29T07:57:02.235Z"
   },
   {
    "duration": 9,
    "start_time": "2022-07-29T07:57:02.241Z"
   },
   {
    "duration": 16,
    "start_time": "2022-07-29T07:57:02.252Z"
   },
   {
    "duration": 32,
    "start_time": "2022-07-29T07:57:02.270Z"
   },
   {
    "duration": 12,
    "start_time": "2022-07-29T07:57:02.303Z"
   },
   {
    "duration": 15,
    "start_time": "2022-07-29T07:57:02.317Z"
   },
   {
    "duration": 25,
    "start_time": "2022-07-29T07:57:02.333Z"
   },
   {
    "duration": 21,
    "start_time": "2022-07-29T07:57:02.359Z"
   },
   {
    "duration": 4,
    "start_time": "2022-07-29T07:57:02.382Z"
   },
   {
    "duration": 9,
    "start_time": "2022-07-29T07:57:02.387Z"
   },
   {
    "duration": 5,
    "start_time": "2022-07-29T07:57:02.398Z"
   },
   {
    "duration": 18,
    "start_time": "2022-07-29T07:57:02.405Z"
   },
   {
    "duration": 19,
    "start_time": "2022-07-29T07:57:02.424Z"
   },
   {
    "duration": 37,
    "start_time": "2022-07-29T07:57:02.444Z"
   },
   {
    "duration": 10,
    "start_time": "2022-07-29T07:57:02.483Z"
   },
   {
    "duration": 12,
    "start_time": "2022-07-29T07:57:02.494Z"
   },
   {
    "duration": 6,
    "start_time": "2022-07-29T07:57:02.508Z"
   },
   {
    "duration": 20,
    "start_time": "2022-07-29T07:57:02.515Z"
   },
   {
    "duration": 23,
    "start_time": "2022-07-29T07:57:02.537Z"
   },
   {
    "duration": 296,
    "start_time": "2022-07-29T07:57:02.562Z"
   },
   {
    "duration": 146,
    "start_time": "2022-07-29T07:57:02.860Z"
   },
   {
    "duration": 195,
    "start_time": "2022-07-29T07:57:03.008Z"
   },
   {
    "duration": 169,
    "start_time": "2022-07-29T07:57:03.206Z"
   },
   {
    "duration": 146,
    "start_time": "2022-07-29T07:57:03.377Z"
   },
   {
    "duration": 8,
    "start_time": "2022-07-29T07:57:03.526Z"
   },
   {
    "duration": 23,
    "start_time": "2022-07-29T07:57:03.536Z"
   },
   {
    "duration": 20,
    "start_time": "2022-07-29T07:57:03.561Z"
   },
   {
    "duration": 8,
    "start_time": "2022-07-29T07:57:03.582Z"
   },
   {
    "duration": 12,
    "start_time": "2022-07-29T07:57:03.591Z"
   },
   {
    "duration": 16,
    "start_time": "2022-07-29T07:57:03.605Z"
   },
   {
    "duration": 8,
    "start_time": "2022-07-29T07:57:03.623Z"
   },
   {
    "duration": 283,
    "start_time": "2022-07-29T07:57:03.632Z"
   },
   {
    "duration": 202,
    "start_time": "2022-07-29T07:57:03.917Z"
   },
   {
    "duration": 298,
    "start_time": "2022-07-29T07:57:04.120Z"
   },
   {
    "duration": 254,
    "start_time": "2022-07-29T07:57:04.420Z"
   },
   {
    "duration": 332,
    "start_time": "2022-07-29T07:57:04.676Z"
   },
   {
    "duration": 312,
    "start_time": "2022-07-29T07:57:05.010Z"
   },
   {
    "duration": 312,
    "start_time": "2022-07-29T07:57:05.324Z"
   },
   {
    "duration": 285,
    "start_time": "2022-07-29T07:57:05.638Z"
   },
   {
    "duration": 1077,
    "start_time": "2022-07-29T08:02:00.666Z"
   },
   {
    "duration": 195,
    "start_time": "2022-07-29T08:02:10.877Z"
   },
   {
    "duration": 272,
    "start_time": "2022-07-29T08:06:08.927Z"
   },
   {
    "duration": 318,
    "start_time": "2022-07-29T08:07:18.083Z"
   },
   {
    "duration": 198,
    "start_time": "2022-07-29T08:09:29.636Z"
   },
   {
    "duration": 9,
    "start_time": "2022-07-29T08:10:19.153Z"
   },
   {
    "duration": 295,
    "start_time": "2022-07-29T08:11:00.905Z"
   },
   {
    "duration": 296,
    "start_time": "2022-07-29T08:12:12.468Z"
   },
   {
    "duration": 378,
    "start_time": "2022-07-29T08:13:04.044Z"
   },
   {
    "duration": 1222,
    "start_time": "2022-07-29T08:15:38.740Z"
   },
   {
    "duration": 1044,
    "start_time": "2022-07-29T08:15:39.964Z"
   },
   {
    "duration": 12,
    "start_time": "2022-07-29T08:15:41.009Z"
   },
   {
    "duration": 14,
    "start_time": "2022-07-29T08:15:41.023Z"
   },
   {
    "duration": 11,
    "start_time": "2022-07-29T08:15:41.039Z"
   },
   {
    "duration": 21,
    "start_time": "2022-07-29T08:15:41.052Z"
   },
   {
    "duration": 8,
    "start_time": "2022-07-29T08:15:41.075Z"
   },
   {
    "duration": 55,
    "start_time": "2022-07-29T08:15:41.099Z"
   },
   {
    "duration": 8,
    "start_time": "2022-07-29T08:15:41.156Z"
   },
   {
    "duration": 19,
    "start_time": "2022-07-29T08:15:41.166Z"
   },
   {
    "duration": 101,
    "start_time": "2022-07-29T08:15:41.198Z"
   },
   {
    "duration": 58,
    "start_time": "2022-07-29T08:15:41.300Z"
   },
   {
    "duration": 66,
    "start_time": "2022-07-29T08:15:41.359Z"
   },
   {
    "duration": 5,
    "start_time": "2022-07-29T08:15:41.427Z"
   },
   {
    "duration": 12,
    "start_time": "2022-07-29T08:15:41.434Z"
   },
   {
    "duration": 8,
    "start_time": "2022-07-29T08:15:41.447Z"
   },
   {
    "duration": 15,
    "start_time": "2022-07-29T08:15:41.456Z"
   },
   {
    "duration": 45,
    "start_time": "2022-07-29T08:15:41.473Z"
   },
   {
    "duration": 5,
    "start_time": "2022-07-29T08:15:41.519Z"
   },
   {
    "duration": 6,
    "start_time": "2022-07-29T08:15:41.525Z"
   },
   {
    "duration": 13,
    "start_time": "2022-07-29T08:15:41.532Z"
   },
   {
    "duration": 66,
    "start_time": "2022-07-29T08:15:41.547Z"
   },
   {
    "duration": 254,
    "start_time": "2022-07-29T08:15:41.615Z"
   },
   {
    "duration": 6,
    "start_time": "2022-07-29T08:15:41.871Z"
   },
   {
    "duration": 29,
    "start_time": "2022-07-29T08:15:41.879Z"
   },
   {
    "duration": 14,
    "start_time": "2022-07-29T08:15:41.910Z"
   },
   {
    "duration": 16,
    "start_time": "2022-07-29T08:15:41.926Z"
   },
   {
    "duration": 94,
    "start_time": "2022-07-29T08:15:41.948Z"
   },
   {
    "duration": 56,
    "start_time": "2022-07-29T08:15:42.044Z"
   },
   {
    "duration": 6,
    "start_time": "2022-07-29T08:15:42.102Z"
   },
   {
    "duration": 16,
    "start_time": "2022-07-29T08:15:42.109Z"
   },
   {
    "duration": 16,
    "start_time": "2022-07-29T08:15:42.127Z"
   },
   {
    "duration": 6,
    "start_time": "2022-07-29T08:15:42.145Z"
   },
   {
    "duration": 8,
    "start_time": "2022-07-29T08:15:42.152Z"
   },
   {
    "duration": 138,
    "start_time": "2022-07-29T08:15:42.162Z"
   },
   {
    "duration": 28,
    "start_time": "2022-07-29T08:15:42.302Z"
   },
   {
    "duration": 17,
    "start_time": "2022-07-29T08:15:42.332Z"
   },
   {
    "duration": 8,
    "start_time": "2022-07-29T08:15:42.351Z"
   },
   {
    "duration": 9,
    "start_time": "2022-07-29T08:15:42.361Z"
   },
   {
    "duration": 28,
    "start_time": "2022-07-29T08:15:42.371Z"
   },
   {
    "duration": 5,
    "start_time": "2022-07-29T08:15:42.400Z"
   },
   {
    "duration": 17,
    "start_time": "2022-07-29T08:15:42.406Z"
   },
   {
    "duration": 53,
    "start_time": "2022-07-29T08:15:42.424Z"
   },
   {
    "duration": 28,
    "start_time": "2022-07-29T08:15:42.478Z"
   },
   {
    "duration": 9,
    "start_time": "2022-07-29T08:15:42.507Z"
   },
   {
    "duration": 18,
    "start_time": "2022-07-29T08:15:42.517Z"
   },
   {
    "duration": 14,
    "start_time": "2022-07-29T08:15:42.537Z"
   },
   {
    "duration": 361,
    "start_time": "2022-07-29T08:15:42.553Z"
   },
   {
    "duration": 12,
    "start_time": "2022-07-29T08:15:42.916Z"
   },
   {
    "duration": 12,
    "start_time": "2022-07-29T08:15:42.930Z"
   },
   {
    "duration": 20,
    "start_time": "2022-07-29T08:15:42.944Z"
   },
   {
    "duration": 33,
    "start_time": "2022-07-29T08:15:42.965Z"
   },
   {
    "duration": 4,
    "start_time": "2022-07-29T08:15:43.000Z"
   },
   {
    "duration": 7,
    "start_time": "2022-07-29T08:15:43.006Z"
   },
   {
    "duration": 9,
    "start_time": "2022-07-29T08:15:43.015Z"
   },
   {
    "duration": 6,
    "start_time": "2022-07-29T08:15:43.026Z"
   },
   {
    "duration": 20,
    "start_time": "2022-07-29T08:15:43.033Z"
   },
   {
    "duration": 6,
    "start_time": "2022-07-29T08:15:43.054Z"
   },
   {
    "duration": 10,
    "start_time": "2022-07-29T08:15:43.062Z"
   },
   {
    "duration": 26,
    "start_time": "2022-07-29T08:15:43.074Z"
   },
   {
    "duration": 7,
    "start_time": "2022-07-29T08:15:43.101Z"
   },
   {
    "duration": 7,
    "start_time": "2022-07-29T08:15:43.110Z"
   },
   {
    "duration": 18,
    "start_time": "2022-07-29T08:15:43.119Z"
   },
   {
    "duration": 18,
    "start_time": "2022-07-29T08:15:43.139Z"
   },
   {
    "duration": 41,
    "start_time": "2022-07-29T08:15:43.158Z"
   },
   {
    "duration": 18,
    "start_time": "2022-07-29T08:15:43.200Z"
   },
   {
    "duration": 8,
    "start_time": "2022-07-29T08:15:43.219Z"
   },
   {
    "duration": 17,
    "start_time": "2022-07-29T08:15:43.228Z"
   },
   {
    "duration": 52,
    "start_time": "2022-07-29T08:15:43.247Z"
   },
   {
    "duration": 19,
    "start_time": "2022-07-29T08:15:43.300Z"
   },
   {
    "duration": 16,
    "start_time": "2022-07-29T08:15:43.321Z"
   },
   {
    "duration": 4,
    "start_time": "2022-07-29T08:15:43.339Z"
   },
   {
    "duration": 19,
    "start_time": "2022-07-29T08:15:43.344Z"
   },
   {
    "duration": 2,
    "start_time": "2022-07-29T08:15:43.365Z"
   },
   {
    "duration": 9,
    "start_time": "2022-07-29T08:15:43.369Z"
   },
   {
    "duration": 31,
    "start_time": "2022-07-29T08:15:43.398Z"
   },
   {
    "duration": 9,
    "start_time": "2022-07-29T08:15:43.431Z"
   },
   {
    "duration": 32,
    "start_time": "2022-07-29T08:15:43.442Z"
   },
   {
    "duration": 538,
    "start_time": "2022-07-29T08:15:43.476Z"
   },
   {
    "duration": 19,
    "start_time": "2022-07-29T08:15:44.016Z"
   },
   {
    "duration": 8,
    "start_time": "2022-07-29T08:15:44.037Z"
   },
   {
    "duration": 12,
    "start_time": "2022-07-29T08:15:44.051Z"
   },
   {
    "duration": 7,
    "start_time": "2022-07-29T08:15:44.065Z"
   },
   {
    "duration": 28,
    "start_time": "2022-07-29T08:15:44.073Z"
   },
   {
    "duration": 7,
    "start_time": "2022-07-29T08:15:44.103Z"
   },
   {
    "duration": 27,
    "start_time": "2022-07-29T08:15:44.112Z"
   },
   {
    "duration": 534,
    "start_time": "2022-07-29T08:15:44.141Z"
   },
   {
    "duration": 10,
    "start_time": "2022-07-29T08:15:44.677Z"
   },
   {
    "duration": 25,
    "start_time": "2022-07-29T08:15:44.688Z"
   },
   {
    "duration": 13,
    "start_time": "2022-07-29T08:15:44.715Z"
   },
   {
    "duration": 3,
    "start_time": "2022-07-29T08:15:44.730Z"
   },
   {
    "duration": 11,
    "start_time": "2022-07-29T08:15:44.734Z"
   },
   {
    "duration": 14,
    "start_time": "2022-07-29T08:15:44.747Z"
   },
   {
    "duration": 10,
    "start_time": "2022-07-29T08:15:44.762Z"
   },
   {
    "duration": 24,
    "start_time": "2022-07-29T08:15:44.774Z"
   },
   {
    "duration": 7,
    "start_time": "2022-07-29T08:15:44.800Z"
   },
   {
    "duration": 18,
    "start_time": "2022-07-29T08:15:44.809Z"
   },
   {
    "duration": 23,
    "start_time": "2022-07-29T08:15:44.829Z"
   },
   {
    "duration": 4,
    "start_time": "2022-07-29T08:15:44.853Z"
   },
   {
    "duration": 8,
    "start_time": "2022-07-29T08:15:44.859Z"
   },
   {
    "duration": 30,
    "start_time": "2022-07-29T08:15:44.868Z"
   },
   {
    "duration": 19,
    "start_time": "2022-07-29T08:15:44.900Z"
   },
   {
    "duration": 17,
    "start_time": "2022-07-29T08:15:44.921Z"
   },
   {
    "duration": 17,
    "start_time": "2022-07-29T08:15:44.940Z"
   },
   {
    "duration": 6,
    "start_time": "2022-07-29T08:15:44.959Z"
   },
   {
    "duration": 32,
    "start_time": "2022-07-29T08:15:44.966Z"
   },
   {
    "duration": 8,
    "start_time": "2022-07-29T08:15:44.999Z"
   },
   {
    "duration": 32,
    "start_time": "2022-07-29T08:15:45.009Z"
   },
   {
    "duration": 6,
    "start_time": "2022-07-29T08:15:45.043Z"
   },
   {
    "duration": 289,
    "start_time": "2022-07-29T08:15:45.051Z"
   },
   {
    "duration": 144,
    "start_time": "2022-07-29T08:15:45.341Z"
   },
   {
    "duration": 197,
    "start_time": "2022-07-29T08:15:45.486Z"
   },
   {
    "duration": 171,
    "start_time": "2022-07-29T08:15:45.685Z"
   },
   {
    "duration": 141,
    "start_time": "2022-07-29T08:15:45.858Z"
   },
   {
    "duration": 9,
    "start_time": "2022-07-29T08:15:46.000Z"
   },
   {
    "duration": 12,
    "start_time": "2022-07-29T08:15:46.010Z"
   },
   {
    "duration": 15,
    "start_time": "2022-07-29T08:15:46.023Z"
   },
   {
    "duration": 7,
    "start_time": "2022-07-29T08:15:46.040Z"
   },
   {
    "duration": 7,
    "start_time": "2022-07-29T08:15:46.049Z"
   },
   {
    "duration": 11,
    "start_time": "2022-07-29T08:15:46.058Z"
   },
   {
    "duration": 28,
    "start_time": "2022-07-29T08:15:46.071Z"
   },
   {
    "duration": 279,
    "start_time": "2022-07-29T08:15:46.101Z"
   },
   {
    "duration": 210,
    "start_time": "2022-07-29T08:15:46.382Z"
   },
   {
    "duration": 277,
    "start_time": "2022-07-29T08:15:46.594Z"
   },
   {
    "duration": 206,
    "start_time": "2022-07-29T08:15:46.873Z"
   },
   {
    "duration": 334,
    "start_time": "2022-07-29T08:15:47.081Z"
   },
   {
    "duration": 294,
    "start_time": "2022-07-29T08:15:47.417Z"
   },
   {
    "duration": 315,
    "start_time": "2022-07-29T08:15:47.712Z"
   },
   {
    "duration": 291,
    "start_time": "2022-07-29T08:15:48.029Z"
   },
   {
    "duration": 211,
    "start_time": "2022-07-29T08:15:48.322Z"
   },
   {
    "duration": 210,
    "start_time": "2022-07-29T08:15:48.535Z"
   },
   {
    "duration": 7,
    "start_time": "2022-07-29T08:15:48.747Z"
   },
   {
    "duration": 281,
    "start_time": "2022-07-29T08:15:48.755Z"
   },
   {
    "duration": 270,
    "start_time": "2022-07-29T08:15:49.038Z"
   },
   {
    "duration": 18,
    "start_time": "2022-07-29T08:44:37.114Z"
   },
   {
    "duration": 21,
    "start_time": "2022-07-29T08:45:08.016Z"
   },
   {
    "duration": 37,
    "start_time": "2022-07-29T08:45:22.513Z"
   },
   {
    "duration": 60,
    "start_time": "2022-07-29T08:45:48.549Z"
   },
   {
    "duration": 33,
    "start_time": "2022-07-29T08:46:01.110Z"
   },
   {
    "duration": 30,
    "start_time": "2022-07-29T08:46:17.162Z"
   },
   {
    "duration": 8,
    "start_time": "2022-07-29T08:53:48.323Z"
   },
   {
    "duration": 36,
    "start_time": "2022-07-29T09:05:03.657Z"
   },
   {
    "duration": 30,
    "start_time": "2022-07-29T09:05:44.015Z"
   },
   {
    "duration": 14,
    "start_time": "2022-07-29T09:06:06.830Z"
   },
   {
    "duration": 5,
    "start_time": "2022-07-29T09:06:20.325Z"
   },
   {
    "duration": 3,
    "start_time": "2022-07-29T09:07:15.583Z"
   },
   {
    "duration": 8,
    "start_time": "2022-07-29T09:07:16.038Z"
   },
   {
    "duration": 1304,
    "start_time": "2022-07-29T09:08:03.644Z"
   },
   {
    "duration": 980,
    "start_time": "2022-07-29T09:08:04.950Z"
   },
   {
    "duration": 13,
    "start_time": "2022-07-29T09:08:05.932Z"
   },
   {
    "duration": 13,
    "start_time": "2022-07-29T09:08:05.947Z"
   },
   {
    "duration": 18,
    "start_time": "2022-07-29T09:08:05.961Z"
   },
   {
    "duration": 26,
    "start_time": "2022-07-29T09:08:05.981Z"
   },
   {
    "duration": 12,
    "start_time": "2022-07-29T09:08:06.009Z"
   },
   {
    "duration": 114,
    "start_time": "2022-07-29T09:08:06.023Z"
   },
   {
    "duration": 8,
    "start_time": "2022-07-29T09:08:06.138Z"
   },
   {
    "duration": 13,
    "start_time": "2022-07-29T09:08:06.150Z"
   },
   {
    "duration": 144,
    "start_time": "2022-07-29T09:08:06.166Z"
   },
   {
    "duration": 89,
    "start_time": "2022-07-29T09:08:06.311Z"
   },
   {
    "duration": 61,
    "start_time": "2022-07-29T09:08:06.401Z"
   },
   {
    "duration": 36,
    "start_time": "2022-07-29T09:08:06.465Z"
   },
   {
    "duration": 10,
    "start_time": "2022-07-29T09:08:06.503Z"
   },
   {
    "duration": 11,
    "start_time": "2022-07-29T09:08:06.515Z"
   },
   {
    "duration": 10,
    "start_time": "2022-07-29T09:08:06.529Z"
   },
   {
    "duration": 64,
    "start_time": "2022-07-29T09:08:06.541Z"
   },
   {
    "duration": 5,
    "start_time": "2022-07-29T09:08:06.607Z"
   },
   {
    "duration": 8,
    "start_time": "2022-07-29T09:08:06.614Z"
   },
   {
    "duration": 14,
    "start_time": "2022-07-29T09:08:06.624Z"
   },
   {
    "duration": 65,
    "start_time": "2022-07-29T09:08:06.640Z"
   },
   {
    "duration": 286,
    "start_time": "2022-07-29T09:08:06.707Z"
   },
   {
    "duration": 8,
    "start_time": "2022-07-29T09:08:06.995Z"
   },
   {
    "duration": 28,
    "start_time": "2022-07-29T09:08:07.005Z"
   },
   {
    "duration": 30,
    "start_time": "2022-07-29T09:08:07.035Z"
   },
   {
    "duration": 18,
    "start_time": "2022-07-29T09:08:07.067Z"
   },
   {
    "duration": 113,
    "start_time": "2022-07-29T09:08:07.091Z"
   },
   {
    "duration": 57,
    "start_time": "2022-07-29T09:08:07.205Z"
   },
   {
    "duration": 5,
    "start_time": "2022-07-29T09:08:07.264Z"
   },
   {
    "duration": 35,
    "start_time": "2022-07-29T09:08:07.270Z"
   },
   {
    "duration": 18,
    "start_time": "2022-07-29T09:08:07.307Z"
   },
   {
    "duration": 12,
    "start_time": "2022-07-29T09:08:07.327Z"
   },
   {
    "duration": 11,
    "start_time": "2022-07-29T09:08:07.341Z"
   },
   {
    "duration": 138,
    "start_time": "2022-07-29T09:08:07.353Z"
   },
   {
    "duration": 31,
    "start_time": "2022-07-29T09:08:07.493Z"
   },
   {
    "duration": 22,
    "start_time": "2022-07-29T09:08:07.527Z"
   },
   {
    "duration": 6,
    "start_time": "2022-07-29T09:08:07.550Z"
   },
   {
    "duration": 10,
    "start_time": "2022-07-29T09:08:07.558Z"
   },
   {
    "duration": 34,
    "start_time": "2022-07-29T09:08:07.569Z"
   },
   {
    "duration": 7,
    "start_time": "2022-07-29T09:08:07.605Z"
   },
   {
    "duration": 12,
    "start_time": "2022-07-29T09:08:07.614Z"
   },
   {
    "duration": 37,
    "start_time": "2022-07-29T09:08:07.628Z"
   },
   {
    "duration": 49,
    "start_time": "2022-07-29T09:08:07.667Z"
   },
   {
    "duration": 9,
    "start_time": "2022-07-29T09:08:07.717Z"
   },
   {
    "duration": 29,
    "start_time": "2022-07-29T09:08:07.728Z"
   },
   {
    "duration": 11,
    "start_time": "2022-07-29T09:08:07.759Z"
   },
   {
    "duration": 454,
    "start_time": "2022-07-29T09:08:07.799Z"
   },
   {
    "duration": 13,
    "start_time": "2022-07-29T09:08:08.255Z"
   },
   {
    "duration": 28,
    "start_time": "2022-07-29T09:08:08.271Z"
   },
   {
    "duration": 21,
    "start_time": "2022-07-29T09:08:08.301Z"
   },
   {
    "duration": 21,
    "start_time": "2022-07-29T09:08:08.325Z"
   },
   {
    "duration": 5,
    "start_time": "2022-07-29T09:08:08.348Z"
   },
   {
    "duration": 19,
    "start_time": "2022-07-29T09:08:08.355Z"
   },
   {
    "duration": 25,
    "start_time": "2022-07-29T09:08:08.376Z"
   },
   {
    "duration": 8,
    "start_time": "2022-07-29T09:08:08.403Z"
   },
   {
    "duration": 24,
    "start_time": "2022-07-29T09:08:08.412Z"
   },
   {
    "duration": 6,
    "start_time": "2022-07-29T09:08:08.438Z"
   },
   {
    "duration": 7,
    "start_time": "2022-07-29T09:08:08.445Z"
   },
   {
    "duration": 44,
    "start_time": "2022-07-29T09:08:08.454Z"
   },
   {
    "duration": 5,
    "start_time": "2022-07-29T09:08:08.501Z"
   },
   {
    "duration": 14,
    "start_time": "2022-07-29T09:08:08.508Z"
   },
   {
    "duration": 19,
    "start_time": "2022-07-29T09:08:08.524Z"
   },
   {
    "duration": 22,
    "start_time": "2022-07-29T09:08:08.545Z"
   },
   {
    "duration": 41,
    "start_time": "2022-07-29T09:08:08.569Z"
   },
   {
    "duration": 20,
    "start_time": "2022-07-29T09:08:08.612Z"
   },
   {
    "duration": 8,
    "start_time": "2022-07-29T09:08:08.634Z"
   },
   {
    "duration": 16,
    "start_time": "2022-07-29T09:08:08.643Z"
   },
   {
    "duration": 64,
    "start_time": "2022-07-29T09:08:08.660Z"
   },
   {
    "duration": 36,
    "start_time": "2022-07-29T09:08:08.727Z"
   },
   {
    "duration": 38,
    "start_time": "2022-07-29T09:08:08.765Z"
   },
   {
    "duration": 6,
    "start_time": "2022-07-29T09:08:08.805Z"
   },
   {
    "duration": 21,
    "start_time": "2022-07-29T09:08:08.813Z"
   },
   {
    "duration": 3,
    "start_time": "2022-07-29T09:08:08.836Z"
   },
   {
    "duration": 22,
    "start_time": "2022-07-29T09:08:08.841Z"
   },
   {
    "duration": 49,
    "start_time": "2022-07-29T09:08:08.865Z"
   },
   {
    "duration": 10,
    "start_time": "2022-07-29T09:08:08.916Z"
   },
   {
    "duration": 49,
    "start_time": "2022-07-29T09:08:08.928Z"
   },
   {
    "duration": 514,
    "start_time": "2022-07-29T09:08:08.981Z"
   },
   {
    "duration": 27,
    "start_time": "2022-07-29T09:08:09.497Z"
   },
   {
    "duration": 22,
    "start_time": "2022-07-29T09:08:09.526Z"
   },
   {
    "duration": 21,
    "start_time": "2022-07-29T09:08:09.557Z"
   },
   {
    "duration": 20,
    "start_time": "2022-07-29T09:08:09.580Z"
   },
   {
    "duration": 10,
    "start_time": "2022-07-29T09:08:09.601Z"
   },
   {
    "duration": 12,
    "start_time": "2022-07-29T09:08:09.613Z"
   },
   {
    "duration": 43,
    "start_time": "2022-07-29T09:08:09.627Z"
   },
   {
    "duration": 520,
    "start_time": "2022-07-29T09:08:09.672Z"
   },
   {
    "duration": 8,
    "start_time": "2022-07-29T09:08:10.198Z"
   },
   {
    "duration": 19,
    "start_time": "2022-07-29T09:08:10.208Z"
   },
   {
    "duration": 16,
    "start_time": "2022-07-29T09:08:10.229Z"
   },
   {
    "duration": 3,
    "start_time": "2022-07-29T09:08:10.247Z"
   },
   {
    "duration": 22,
    "start_time": "2022-07-29T09:08:10.252Z"
   },
   {
    "duration": 23,
    "start_time": "2022-07-29T09:08:10.276Z"
   },
   {
    "duration": 15,
    "start_time": "2022-07-29T09:08:10.301Z"
   },
   {
    "duration": 5,
    "start_time": "2022-07-29T09:08:10.318Z"
   },
   {
    "duration": 8,
    "start_time": "2022-07-29T09:08:10.324Z"
   },
   {
    "duration": 27,
    "start_time": "2022-07-29T09:08:10.334Z"
   },
   {
    "duration": 42,
    "start_time": "2022-07-29T09:08:10.363Z"
   },
   {
    "duration": 6,
    "start_time": "2022-07-29T09:08:10.407Z"
   },
   {
    "duration": 7,
    "start_time": "2022-07-29T09:08:10.415Z"
   },
   {
    "duration": 11,
    "start_time": "2022-07-29T09:08:10.424Z"
   },
   {
    "duration": 21,
    "start_time": "2022-07-29T09:08:10.438Z"
   },
   {
    "duration": 48,
    "start_time": "2022-07-29T09:08:10.461Z"
   },
   {
    "duration": 17,
    "start_time": "2022-07-29T09:08:10.511Z"
   },
   {
    "duration": 6,
    "start_time": "2022-07-29T09:08:10.530Z"
   },
   {
    "duration": 20,
    "start_time": "2022-07-29T09:08:10.538Z"
   },
   {
    "duration": 9,
    "start_time": "2022-07-29T09:08:10.560Z"
   },
   {
    "duration": 39,
    "start_time": "2022-07-29T09:08:10.572Z"
   },
   {
    "duration": 7,
    "start_time": "2022-07-29T09:08:10.613Z"
   },
   {
    "duration": 325,
    "start_time": "2022-07-29T09:08:10.622Z"
   },
   {
    "duration": 185,
    "start_time": "2022-07-29T09:08:10.949Z"
   },
   {
    "duration": 240,
    "start_time": "2022-07-29T09:08:11.136Z"
   },
   {
    "duration": 199,
    "start_time": "2022-07-29T09:08:11.378Z"
   },
   {
    "duration": 169,
    "start_time": "2022-07-29T09:08:11.579Z"
   },
   {
    "duration": 9,
    "start_time": "2022-07-29T09:08:11.749Z"
   },
   {
    "duration": 12,
    "start_time": "2022-07-29T09:08:11.760Z"
   },
   {
    "duration": 25,
    "start_time": "2022-07-29T09:08:11.775Z"
   },
   {
    "duration": 9,
    "start_time": "2022-07-29T09:08:11.803Z"
   },
   {
    "duration": 9,
    "start_time": "2022-07-29T09:08:11.814Z"
   },
   {
    "duration": 16,
    "start_time": "2022-07-29T09:08:11.825Z"
   },
   {
    "duration": 13,
    "start_time": "2022-07-29T09:08:11.843Z"
   },
   {
    "duration": 305,
    "start_time": "2022-07-29T09:08:11.858Z"
   },
   {
    "duration": 234,
    "start_time": "2022-07-29T09:08:12.164Z"
   },
   {
    "duration": 288,
    "start_time": "2022-07-29T09:08:12.400Z"
   },
   {
    "duration": 212,
    "start_time": "2022-07-29T09:08:12.697Z"
   },
   {
    "duration": 323,
    "start_time": "2022-07-29T09:08:12.910Z"
   },
   {
    "duration": 310,
    "start_time": "2022-07-29T09:08:13.235Z"
   },
   {
    "duration": 352,
    "start_time": "2022-07-29T09:08:13.548Z"
   },
   {
    "duration": 323,
    "start_time": "2022-07-29T09:08:13.905Z"
   },
   {
    "duration": 273,
    "start_time": "2022-07-29T09:08:14.231Z"
   },
   {
    "duration": 297,
    "start_time": "2022-07-29T09:08:14.506Z"
   },
   {
    "duration": 8,
    "start_time": "2022-07-29T09:08:14.805Z"
   },
   {
    "duration": 429,
    "start_time": "2022-07-29T09:08:14.815Z"
   },
   {
    "duration": 437,
    "start_time": "2022-07-29T09:08:15.299Z"
   },
   {
    "duration": 24,
    "start_time": "2022-07-29T09:13:45.190Z"
   },
   {
    "duration": 524,
    "start_time": "2022-07-29T09:14:56.845Z"
   },
   {
    "duration": 471,
    "start_time": "2022-07-29T09:15:33.775Z"
   },
   {
    "duration": 444,
    "start_time": "2022-07-29T09:15:40.400Z"
   },
   {
    "duration": 309,
    "start_time": "2022-07-29T10:03:42.363Z"
   },
   {
    "duration": 328,
    "start_time": "2022-07-29T10:03:53.292Z"
   },
   {
    "duration": 329,
    "start_time": "2022-07-29T10:04:58.494Z"
   },
   {
    "duration": 318,
    "start_time": "2022-07-29T10:05:04.117Z"
   },
   {
    "duration": 310,
    "start_time": "2022-07-29T10:05:41.363Z"
   },
   {
    "duration": 313,
    "start_time": "2022-07-29T10:05:52.504Z"
   },
   {
    "duration": 402,
    "start_time": "2022-07-29T10:06:05.435Z"
   },
   {
    "duration": 314,
    "start_time": "2022-07-29T10:06:33.822Z"
   },
   {
    "duration": 319,
    "start_time": "2022-07-29T10:07:07.495Z"
   },
   {
    "duration": 326,
    "start_time": "2022-07-29T10:07:18.185Z"
   },
   {
    "duration": 359,
    "start_time": "2022-07-29T10:08:27.673Z"
   },
   {
    "duration": 284,
    "start_time": "2022-07-29T10:08:32.839Z"
   },
   {
    "duration": 281,
    "start_time": "2022-07-29T10:08:37.136Z"
   },
   {
    "duration": 316,
    "start_time": "2022-07-29T10:08:42.991Z"
   },
   {
    "duration": 285,
    "start_time": "2022-07-29T10:13:03.806Z"
   },
   {
    "duration": 248,
    "start_time": "2022-07-29T10:13:38.933Z"
   },
   {
    "duration": 285,
    "start_time": "2022-07-29T10:16:13.664Z"
   },
   {
    "duration": 381,
    "start_time": "2022-07-29T10:16:26.308Z"
   },
   {
    "duration": 285,
    "start_time": "2022-07-29T10:16:35.366Z"
   },
   {
    "duration": 1201,
    "start_time": "2022-07-29T10:19:35.355Z"
   },
   {
    "duration": 949,
    "start_time": "2022-07-29T10:19:36.558Z"
   },
   {
    "duration": 11,
    "start_time": "2022-07-29T10:19:37.509Z"
   },
   {
    "duration": 11,
    "start_time": "2022-07-29T10:19:37.522Z"
   },
   {
    "duration": 10,
    "start_time": "2022-07-29T10:19:37.535Z"
   },
   {
    "duration": 19,
    "start_time": "2022-07-29T10:19:37.546Z"
   },
   {
    "duration": 9,
    "start_time": "2022-07-29T10:19:37.567Z"
   },
   {
    "duration": 55,
    "start_time": "2022-07-29T10:19:37.598Z"
   },
   {
    "duration": 10,
    "start_time": "2022-07-29T10:19:37.654Z"
   },
   {
    "duration": 32,
    "start_time": "2022-07-29T10:19:37.667Z"
   },
   {
    "duration": 115,
    "start_time": "2022-07-29T10:19:37.700Z"
   },
   {
    "duration": 62,
    "start_time": "2022-07-29T10:19:37.816Z"
   },
   {
    "duration": 76,
    "start_time": "2022-07-29T10:19:37.879Z"
   },
   {
    "duration": 6,
    "start_time": "2022-07-29T10:19:37.957Z"
   },
   {
    "duration": 14,
    "start_time": "2022-07-29T10:19:37.964Z"
   },
   {
    "duration": 23,
    "start_time": "2022-07-29T10:19:37.980Z"
   },
   {
    "duration": 11,
    "start_time": "2022-07-29T10:19:38.005Z"
   },
   {
    "duration": 28,
    "start_time": "2022-07-29T10:19:38.018Z"
   },
   {
    "duration": 4,
    "start_time": "2022-07-29T10:19:38.048Z"
   },
   {
    "duration": 8,
    "start_time": "2022-07-29T10:19:38.054Z"
   },
   {
    "duration": 37,
    "start_time": "2022-07-29T10:19:38.064Z"
   },
   {
    "duration": 34,
    "start_time": "2022-07-29T10:19:38.103Z"
   },
   {
    "duration": 261,
    "start_time": "2022-07-29T10:19:38.138Z"
   },
   {
    "duration": 5,
    "start_time": "2022-07-29T10:19:38.401Z"
   },
   {
    "duration": 15,
    "start_time": "2022-07-29T10:19:38.408Z"
   },
   {
    "duration": 14,
    "start_time": "2022-07-29T10:19:38.425Z"
   },
   {
    "duration": 20,
    "start_time": "2022-07-29T10:19:38.440Z"
   },
   {
    "duration": 106,
    "start_time": "2022-07-29T10:19:38.465Z"
   },
   {
    "duration": 61,
    "start_time": "2022-07-29T10:19:38.573Z"
   },
   {
    "duration": 7,
    "start_time": "2022-07-29T10:19:38.636Z"
   },
   {
    "duration": 23,
    "start_time": "2022-07-29T10:19:38.644Z"
   },
   {
    "duration": 22,
    "start_time": "2022-07-29T10:19:38.668Z"
   },
   {
    "duration": 16,
    "start_time": "2022-07-29T10:19:38.692Z"
   },
   {
    "duration": 15,
    "start_time": "2022-07-29T10:19:38.710Z"
   },
   {
    "duration": 154,
    "start_time": "2022-07-29T10:19:38.726Z"
   },
   {
    "duration": 39,
    "start_time": "2022-07-29T10:19:38.882Z"
   },
   {
    "duration": 17,
    "start_time": "2022-07-29T10:19:38.923Z"
   },
   {
    "duration": 22,
    "start_time": "2022-07-29T10:19:38.942Z"
   },
   {
    "duration": 6,
    "start_time": "2022-07-29T10:19:38.965Z"
   },
   {
    "duration": 21,
    "start_time": "2022-07-29T10:19:38.973Z"
   },
   {
    "duration": 12,
    "start_time": "2022-07-29T10:19:38.996Z"
   },
   {
    "duration": 22,
    "start_time": "2022-07-29T10:19:39.010Z"
   },
   {
    "duration": 42,
    "start_time": "2022-07-29T10:19:39.033Z"
   },
   {
    "duration": 23,
    "start_time": "2022-07-29T10:19:39.077Z"
   },
   {
    "duration": 8,
    "start_time": "2022-07-29T10:19:39.102Z"
   },
   {
    "duration": 19,
    "start_time": "2022-07-29T10:19:39.112Z"
   },
   {
    "duration": 7,
    "start_time": "2022-07-29T10:19:39.133Z"
   },
   {
    "duration": 361,
    "start_time": "2022-07-29T10:19:39.142Z"
   },
   {
    "duration": 12,
    "start_time": "2022-07-29T10:19:39.505Z"
   },
   {
    "duration": 12,
    "start_time": "2022-07-29T10:19:39.519Z"
   },
   {
    "duration": 18,
    "start_time": "2022-07-29T10:19:39.532Z"
   },
   {
    "duration": 15,
    "start_time": "2022-07-29T10:19:39.552Z"
   },
   {
    "duration": 29,
    "start_time": "2022-07-29T10:19:39.569Z"
   },
   {
    "duration": 5,
    "start_time": "2022-07-29T10:19:39.599Z"
   },
   {
    "duration": 8,
    "start_time": "2022-07-29T10:19:39.605Z"
   },
   {
    "duration": 11,
    "start_time": "2022-07-29T10:19:39.615Z"
   },
   {
    "duration": 18,
    "start_time": "2022-07-29T10:19:39.628Z"
   },
   {
    "duration": 5,
    "start_time": "2022-07-29T10:19:39.647Z"
   },
   {
    "duration": 6,
    "start_time": "2022-07-29T10:19:39.654Z"
   },
   {
    "duration": 9,
    "start_time": "2022-07-29T10:19:39.661Z"
   },
   {
    "duration": 4,
    "start_time": "2022-07-29T10:19:39.698Z"
   },
   {
    "duration": 11,
    "start_time": "2022-07-29T10:19:39.704Z"
   },
   {
    "duration": 17,
    "start_time": "2022-07-29T10:19:39.716Z"
   },
   {
    "duration": 18,
    "start_time": "2022-07-29T10:19:39.734Z"
   },
   {
    "duration": 15,
    "start_time": "2022-07-29T10:19:39.753Z"
   },
   {
    "duration": 44,
    "start_time": "2022-07-29T10:19:39.769Z"
   },
   {
    "duration": 7,
    "start_time": "2022-07-29T10:19:39.814Z"
   },
   {
    "duration": 15,
    "start_time": "2022-07-29T10:19:39.822Z"
   },
   {
    "duration": 28,
    "start_time": "2022-07-29T10:19:39.838Z"
   },
   {
    "duration": 56,
    "start_time": "2022-07-29T10:19:39.868Z"
   },
   {
    "duration": 15,
    "start_time": "2022-07-29T10:19:39.926Z"
   },
   {
    "duration": 5,
    "start_time": "2022-07-29T10:19:39.943Z"
   },
   {
    "duration": 11,
    "start_time": "2022-07-29T10:19:39.950Z"
   },
   {
    "duration": 3,
    "start_time": "2022-07-29T10:19:39.998Z"
   },
   {
    "duration": 26,
    "start_time": "2022-07-29T10:19:40.003Z"
   },
   {
    "duration": 35,
    "start_time": "2022-07-29T10:19:40.030Z"
   },
   {
    "duration": 23,
    "start_time": "2022-07-29T10:19:40.066Z"
   },
   {
    "duration": 446,
    "start_time": "2022-07-29T10:19:40.090Z"
   },
   {
    "duration": 10,
    "start_time": "2022-07-29T10:19:40.538Z"
   },
   {
    "duration": 38,
    "start_time": "2022-07-29T10:19:40.549Z"
   },
   {
    "duration": 459,
    "start_time": "2022-07-29T10:19:40.598Z"
   },
   {
    "duration": 20,
    "start_time": "2022-07-29T10:19:41.064Z"
   },
   {
    "duration": 19,
    "start_time": "2022-07-29T10:19:41.086Z"
   },
   {
    "duration": 11,
    "start_time": "2022-07-29T10:19:41.107Z"
   },
   {
    "duration": 7,
    "start_time": "2022-07-29T10:19:41.120Z"
   },
   {
    "duration": 7,
    "start_time": "2022-07-29T10:19:41.129Z"
   },
   {
    "duration": 11,
    "start_time": "2022-07-29T10:19:41.137Z"
   },
   {
    "duration": 57,
    "start_time": "2022-07-29T10:19:41.150Z"
   },
   {
    "duration": 470,
    "start_time": "2022-07-29T10:19:41.208Z"
   },
   {
    "duration": 8,
    "start_time": "2022-07-29T10:19:41.680Z"
   },
   {
    "duration": 20,
    "start_time": "2022-07-29T10:19:41.698Z"
   },
   {
    "duration": 13,
    "start_time": "2022-07-29T10:19:41.720Z"
   },
   {
    "duration": 3,
    "start_time": "2022-07-29T10:19:41.734Z"
   },
   {
    "duration": 8,
    "start_time": "2022-07-29T10:19:41.739Z"
   },
   {
    "duration": 7,
    "start_time": "2022-07-29T10:19:41.749Z"
   },
   {
    "duration": 12,
    "start_time": "2022-07-29T10:19:41.757Z"
   },
   {
    "duration": 3,
    "start_time": "2022-07-29T10:19:41.798Z"
   },
   {
    "duration": 11,
    "start_time": "2022-07-29T10:19:41.802Z"
   },
   {
    "duration": 22,
    "start_time": "2022-07-29T10:19:41.815Z"
   },
   {
    "duration": 21,
    "start_time": "2022-07-29T10:19:41.839Z"
   },
   {
    "duration": 2,
    "start_time": "2022-07-29T10:19:41.862Z"
   },
   {
    "duration": 5,
    "start_time": "2022-07-29T10:19:41.865Z"
   },
   {
    "duration": 7,
    "start_time": "2022-07-29T10:19:41.871Z"
   },
   {
    "duration": 21,
    "start_time": "2022-07-29T10:19:41.898Z"
   },
   {
    "duration": 15,
    "start_time": "2022-07-29T10:19:41.921Z"
   },
   {
    "duration": 17,
    "start_time": "2022-07-29T10:19:41.938Z"
   },
   {
    "duration": 7,
    "start_time": "2022-07-29T10:19:41.957Z"
   },
   {
    "duration": 25,
    "start_time": "2022-07-29T10:19:41.966Z"
   },
   {
    "duration": 11,
    "start_time": "2022-07-29T10:19:41.993Z"
   },
   {
    "duration": 12,
    "start_time": "2022-07-29T10:19:42.005Z"
   },
   {
    "duration": 9,
    "start_time": "2022-07-29T10:19:42.019Z"
   },
   {
    "duration": 297,
    "start_time": "2022-07-29T10:19:42.030Z"
   },
   {
    "duration": 142,
    "start_time": "2022-07-29T10:19:42.328Z"
   },
   {
    "duration": 202,
    "start_time": "2022-07-29T10:19:42.472Z"
   },
   {
    "duration": 163,
    "start_time": "2022-07-29T10:19:42.676Z"
   },
   {
    "duration": 137,
    "start_time": "2022-07-29T10:19:42.841Z"
   },
   {
    "duration": 7,
    "start_time": "2022-07-29T10:19:42.980Z"
   },
   {
    "duration": 8,
    "start_time": "2022-07-29T10:19:42.998Z"
   },
   {
    "duration": 11,
    "start_time": "2022-07-29T10:19:43.008Z"
   },
   {
    "duration": 8,
    "start_time": "2022-07-29T10:19:43.020Z"
   },
   {
    "duration": 7,
    "start_time": "2022-07-29T10:19:43.030Z"
   },
   {
    "duration": 17,
    "start_time": "2022-07-29T10:19:43.039Z"
   },
   {
    "duration": 17,
    "start_time": "2022-07-29T10:19:43.058Z"
   },
   {
    "duration": 417,
    "start_time": "2022-07-29T10:19:43.077Z"
   },
   {
    "duration": 411,
    "start_time": "2022-07-29T10:19:43.498Z"
   },
   {
    "duration": 310,
    "start_time": "2022-07-29T10:19:43.911Z"
   },
   {
    "duration": 328,
    "start_time": "2022-07-29T10:19:44.223Z"
   },
   {
    "duration": 359,
    "start_time": "2022-07-29T10:19:44.552Z"
   },
   {
    "duration": 307,
    "start_time": "2022-07-29T10:19:44.912Z"
   },
   {
    "duration": 313,
    "start_time": "2022-07-29T10:19:45.220Z"
   },
   {
    "duration": 281,
    "start_time": "2022-07-29T10:19:45.535Z"
   },
   {
    "duration": 316,
    "start_time": "2022-07-29T10:19:45.817Z"
   },
   {
    "duration": 295,
    "start_time": "2022-07-29T10:19:46.134Z"
   },
   {
    "duration": 6,
    "start_time": "2022-07-29T10:19:46.431Z"
   },
   {
    "duration": 262,
    "start_time": "2022-07-29T10:19:46.439Z"
   },
   {
    "duration": 299,
    "start_time": "2022-07-29T10:19:46.703Z"
   },
   {
    "duration": 5,
    "start_time": "2022-07-29T10:27:12.689Z"
   },
   {
    "duration": 1242,
    "start_time": "2022-07-29T10:31:51.176Z"
   },
   {
    "duration": 946,
    "start_time": "2022-07-29T10:31:52.420Z"
   },
   {
    "duration": 12,
    "start_time": "2022-07-29T10:31:53.367Z"
   },
   {
    "duration": 14,
    "start_time": "2022-07-29T10:31:53.381Z"
   },
   {
    "duration": 10,
    "start_time": "2022-07-29T10:31:53.397Z"
   },
   {
    "duration": 41,
    "start_time": "2022-07-29T10:31:53.409Z"
   },
   {
    "duration": 17,
    "start_time": "2022-07-29T10:31:53.451Z"
   },
   {
    "duration": 60,
    "start_time": "2022-07-29T10:31:53.471Z"
   },
   {
    "duration": 10,
    "start_time": "2022-07-29T10:31:53.533Z"
   },
   {
    "duration": 15,
    "start_time": "2022-07-29T10:31:53.546Z"
   },
   {
    "duration": 107,
    "start_time": "2022-07-29T10:31:53.563Z"
   },
   {
    "duration": 66,
    "start_time": "2022-07-29T10:31:53.672Z"
   },
   {
    "duration": 71,
    "start_time": "2022-07-29T10:31:53.740Z"
   },
   {
    "duration": 6,
    "start_time": "2022-07-29T10:31:53.813Z"
   },
   {
    "duration": 9,
    "start_time": "2022-07-29T10:31:53.821Z"
   },
   {
    "duration": 8,
    "start_time": "2022-07-29T10:31:53.832Z"
   },
   {
    "duration": 11,
    "start_time": "2022-07-29T10:31:53.842Z"
   },
   {
    "duration": 58,
    "start_time": "2022-07-29T10:31:53.854Z"
   },
   {
    "duration": 5,
    "start_time": "2022-07-29T10:31:53.913Z"
   },
   {
    "duration": 5,
    "start_time": "2022-07-29T10:31:53.920Z"
   },
   {
    "duration": 12,
    "start_time": "2022-07-29T10:31:53.927Z"
   },
   {
    "duration": 57,
    "start_time": "2022-07-29T10:31:53.941Z"
   },
   {
    "duration": 247,
    "start_time": "2022-07-29T10:31:54.000Z"
   },
   {
    "duration": 5,
    "start_time": "2022-07-29T10:31:54.249Z"
   },
   {
    "duration": 19,
    "start_time": "2022-07-29T10:31:54.256Z"
   },
   {
    "duration": 27,
    "start_time": "2022-07-29T10:31:54.277Z"
   },
   {
    "duration": 16,
    "start_time": "2022-07-29T10:31:54.306Z"
   },
   {
    "duration": 99,
    "start_time": "2022-07-29T10:31:54.327Z"
   },
   {
    "duration": 62,
    "start_time": "2022-07-29T10:31:54.428Z"
   },
   {
    "duration": 5,
    "start_time": "2022-07-29T10:31:54.500Z"
   },
   {
    "duration": 21,
    "start_time": "2022-07-29T10:31:54.508Z"
   },
   {
    "duration": 18,
    "start_time": "2022-07-29T10:31:54.531Z"
   },
   {
    "duration": 35,
    "start_time": "2022-07-29T10:31:54.551Z"
   },
   {
    "duration": 19,
    "start_time": "2022-07-29T10:31:54.589Z"
   },
   {
    "duration": 143,
    "start_time": "2022-07-29T10:31:54.611Z"
   },
   {
    "duration": 42,
    "start_time": "2022-07-29T10:31:54.756Z"
   },
   {
    "duration": 17,
    "start_time": "2022-07-29T10:31:54.800Z"
   },
   {
    "duration": 5,
    "start_time": "2022-07-29T10:31:54.819Z"
   },
   {
    "duration": 7,
    "start_time": "2022-07-29T10:31:54.825Z"
   },
   {
    "duration": 5,
    "start_time": "2022-07-29T10:31:54.834Z"
   },
   {
    "duration": 6,
    "start_time": "2022-07-29T10:31:54.840Z"
   },
   {
    "duration": 12,
    "start_time": "2022-07-29T10:31:54.848Z"
   },
   {
    "duration": 38,
    "start_time": "2022-07-29T10:31:54.897Z"
   },
   {
    "duration": 24,
    "start_time": "2022-07-29T10:31:54.937Z"
   },
   {
    "duration": 9,
    "start_time": "2022-07-29T10:31:54.962Z"
   },
   {
    "duration": 38,
    "start_time": "2022-07-29T10:31:54.973Z"
   },
   {
    "duration": 7,
    "start_time": "2022-07-29T10:31:55.013Z"
   },
   {
    "duration": 353,
    "start_time": "2022-07-29T10:31:55.022Z"
   },
   {
    "duration": 21,
    "start_time": "2022-07-29T10:31:55.377Z"
   },
   {
    "duration": 13,
    "start_time": "2022-07-29T10:31:55.400Z"
   },
   {
    "duration": 18,
    "start_time": "2022-07-29T10:31:55.414Z"
   },
   {
    "duration": 17,
    "start_time": "2022-07-29T10:31:55.433Z"
   },
   {
    "duration": 5,
    "start_time": "2022-07-29T10:31:55.451Z"
   },
   {
    "duration": 20,
    "start_time": "2022-07-29T10:31:55.457Z"
   },
   {
    "duration": 22,
    "start_time": "2022-07-29T10:31:55.479Z"
   },
   {
    "duration": 5,
    "start_time": "2022-07-29T10:31:55.502Z"
   },
   {
    "duration": 23,
    "start_time": "2022-07-29T10:31:55.509Z"
   },
   {
    "duration": 5,
    "start_time": "2022-07-29T10:31:55.534Z"
   },
   {
    "duration": 7,
    "start_time": "2022-07-29T10:31:55.540Z"
   },
   {
    "duration": 10,
    "start_time": "2022-07-29T10:31:55.549Z"
   },
   {
    "duration": 37,
    "start_time": "2022-07-29T10:31:55.561Z"
   },
   {
    "duration": 8,
    "start_time": "2022-07-29T10:31:55.600Z"
   },
   {
    "duration": 14,
    "start_time": "2022-07-29T10:31:55.609Z"
   },
   {
    "duration": 20,
    "start_time": "2022-07-29T10:31:55.624Z"
   },
   {
    "duration": 15,
    "start_time": "2022-07-29T10:31:55.645Z"
   },
   {
    "duration": 50,
    "start_time": "2022-07-29T10:31:55.662Z"
   },
   {
    "duration": 7,
    "start_time": "2022-07-29T10:31:55.714Z"
   },
   {
    "duration": 33,
    "start_time": "2022-07-29T10:31:55.722Z"
   },
   {
    "duration": 89,
    "start_time": "2022-07-29T10:31:55.756Z"
   },
   {
    "duration": 29,
    "start_time": "2022-07-29T10:31:55.847Z"
   },
   {
    "duration": 14,
    "start_time": "2022-07-29T10:31:55.878Z"
   },
   {
    "duration": 7,
    "start_time": "2022-07-29T10:31:55.894Z"
   },
   {
    "duration": 14,
    "start_time": "2022-07-29T10:31:55.902Z"
   },
   {
    "duration": 2,
    "start_time": "2022-07-29T10:31:55.918Z"
   },
   {
    "duration": 19,
    "start_time": "2022-07-29T10:31:55.921Z"
   },
   {
    "duration": 30,
    "start_time": "2022-07-29T10:31:55.942Z"
   },
   {
    "duration": 41,
    "start_time": "2022-07-29T10:31:55.974Z"
   },
   {
    "duration": 458,
    "start_time": "2022-07-29T10:31:56.017Z"
   },
   {
    "duration": 9,
    "start_time": "2022-07-29T10:31:56.477Z"
   },
   {
    "duration": 36,
    "start_time": "2022-07-29T10:31:56.488Z"
   },
   {
    "duration": 499,
    "start_time": "2022-07-29T10:31:56.526Z"
   },
   {
    "duration": 21,
    "start_time": "2022-07-29T10:31:57.031Z"
   },
   {
    "duration": 8,
    "start_time": "2022-07-29T10:31:57.054Z"
   },
   {
    "duration": 11,
    "start_time": "2022-07-29T10:31:57.064Z"
   },
   {
    "duration": 24,
    "start_time": "2022-07-29T10:31:57.077Z"
   },
   {
    "duration": 6,
    "start_time": "2022-07-29T10:31:57.103Z"
   },
   {
    "duration": 8,
    "start_time": "2022-07-29T10:31:57.111Z"
   },
   {
    "duration": 28,
    "start_time": "2022-07-29T10:31:57.121Z"
   },
   {
    "duration": 497,
    "start_time": "2022-07-29T10:31:57.150Z"
   },
   {
    "duration": 8,
    "start_time": "2022-07-29T10:31:57.649Z"
   },
   {
    "duration": 28,
    "start_time": "2022-07-29T10:31:57.659Z"
   },
   {
    "duration": 15,
    "start_time": "2022-07-29T10:31:57.698Z"
   },
   {
    "duration": 7,
    "start_time": "2022-07-29T10:31:57.715Z"
   },
   {
    "duration": 21,
    "start_time": "2022-07-29T10:31:57.724Z"
   },
   {
    "duration": 12,
    "start_time": "2022-07-29T10:31:57.747Z"
   },
   {
    "duration": 22,
    "start_time": "2022-07-29T10:31:57.761Z"
   },
   {
    "duration": 10,
    "start_time": "2022-07-29T10:31:57.785Z"
   },
   {
    "duration": 18,
    "start_time": "2022-07-29T10:31:57.796Z"
   },
   {
    "duration": 33,
    "start_time": "2022-07-29T10:31:57.815Z"
   },
   {
    "duration": 35,
    "start_time": "2022-07-29T10:31:57.850Z"
   },
   {
    "duration": 4,
    "start_time": "2022-07-29T10:31:57.886Z"
   },
   {
    "duration": 12,
    "start_time": "2022-07-29T10:31:57.891Z"
   },
   {
    "duration": 17,
    "start_time": "2022-07-29T10:31:57.905Z"
   },
   {
    "duration": 26,
    "start_time": "2022-07-29T10:31:57.924Z"
   },
   {
    "duration": 21,
    "start_time": "2022-07-29T10:31:57.952Z"
   },
   {
    "duration": 17,
    "start_time": "2022-07-29T10:31:57.975Z"
   },
   {
    "duration": 6,
    "start_time": "2022-07-29T10:31:57.993Z"
   },
   {
    "duration": 13,
    "start_time": "2022-07-29T10:31:58.000Z"
   },
   {
    "duration": 9,
    "start_time": "2022-07-29T10:31:58.014Z"
   },
   {
    "duration": 6,
    "start_time": "2022-07-29T10:31:58.025Z"
   },
   {
    "duration": 6,
    "start_time": "2022-07-29T10:31:58.032Z"
   },
   {
    "duration": 297,
    "start_time": "2022-07-29T10:31:58.039Z"
   },
   {
    "duration": 145,
    "start_time": "2022-07-29T10:31:58.338Z"
   },
   {
    "duration": 205,
    "start_time": "2022-07-29T10:31:58.484Z"
   },
   {
    "duration": 163,
    "start_time": "2022-07-29T10:31:58.691Z"
   },
   {
    "duration": 136,
    "start_time": "2022-07-29T10:31:58.855Z"
   },
   {
    "duration": 11,
    "start_time": "2022-07-29T10:31:58.992Z"
   },
   {
    "duration": 12,
    "start_time": "2022-07-29T10:31:59.005Z"
   },
   {
    "duration": 12,
    "start_time": "2022-07-29T10:31:59.019Z"
   },
   {
    "duration": 8,
    "start_time": "2022-07-29T10:31:59.033Z"
   },
   {
    "duration": 8,
    "start_time": "2022-07-29T10:31:59.043Z"
   },
   {
    "duration": 11,
    "start_time": "2022-07-29T10:31:59.053Z"
   },
   {
    "duration": 33,
    "start_time": "2022-07-29T10:31:59.065Z"
   },
   {
    "duration": 403,
    "start_time": "2022-07-29T10:31:59.099Z"
   },
   {
    "duration": 404,
    "start_time": "2022-07-29T10:31:59.504Z"
   },
   {
    "duration": 316,
    "start_time": "2022-07-29T10:31:59.910Z"
   },
   {
    "duration": 303,
    "start_time": "2022-07-29T10:32:00.228Z"
   },
   {
    "duration": 288,
    "start_time": "2022-07-29T10:32:00.533Z"
   },
   {
    "duration": 287,
    "start_time": "2022-07-29T10:32:00.823Z"
   },
   {
    "duration": 310,
    "start_time": "2022-07-29T10:32:01.113Z"
   },
   {
    "duration": 294,
    "start_time": "2022-07-29T10:32:01.425Z"
   },
   {
    "duration": 315,
    "start_time": "2022-07-29T10:32:01.721Z"
   },
   {
    "duration": 303,
    "start_time": "2022-07-29T10:32:02.038Z"
   },
   {
    "duration": 7,
    "start_time": "2022-07-29T10:32:02.343Z"
   },
   {
    "duration": 299,
    "start_time": "2022-07-29T10:32:02.351Z"
   },
   {
    "duration": 282,
    "start_time": "2022-07-29T10:32:02.652Z"
   },
   {
    "duration": 1747,
    "start_time": "2022-07-29T20:48:01.233Z"
   },
   {
    "duration": 2262,
    "start_time": "2022-07-29T20:48:03.033Z"
   },
   {
    "duration": 14,
    "start_time": "2022-07-29T20:48:05.297Z"
   },
   {
    "duration": 17,
    "start_time": "2022-07-29T20:48:05.315Z"
   },
   {
    "duration": 10,
    "start_time": "2022-07-29T20:48:05.336Z"
   },
   {
    "duration": 19,
    "start_time": "2022-07-29T20:48:05.348Z"
   },
   {
    "duration": 9,
    "start_time": "2022-07-29T20:48:05.369Z"
   },
   {
    "duration": 80,
    "start_time": "2022-07-29T20:48:05.379Z"
   },
   {
    "duration": 8,
    "start_time": "2022-07-29T20:48:05.462Z"
   },
   {
    "duration": 11,
    "start_time": "2022-07-29T20:48:05.471Z"
   },
   {
    "duration": 104,
    "start_time": "2022-07-29T20:48:05.484Z"
   },
   {
    "duration": 61,
    "start_time": "2022-07-29T20:48:05.590Z"
   },
   {
    "duration": 66,
    "start_time": "2022-07-29T20:48:05.652Z"
   },
   {
    "duration": 6,
    "start_time": "2022-07-29T20:48:05.731Z"
   },
   {
    "duration": 8,
    "start_time": "2022-07-29T20:48:05.739Z"
   },
   {
    "duration": 10,
    "start_time": "2022-07-29T20:48:05.749Z"
   },
   {
    "duration": 7,
    "start_time": "2022-07-29T20:48:05.760Z"
   },
   {
    "duration": 70,
    "start_time": "2022-07-29T20:48:05.770Z"
   },
   {
    "duration": 6,
    "start_time": "2022-07-29T20:48:05.842Z"
   },
   {
    "duration": 7,
    "start_time": "2022-07-29T20:48:05.850Z"
   },
   {
    "duration": 11,
    "start_time": "2022-07-29T20:48:05.859Z"
   },
   {
    "duration": 69,
    "start_time": "2022-07-29T20:48:05.872Z"
   },
   {
    "duration": 248,
    "start_time": "2022-07-29T20:48:05.943Z"
   },
   {
    "duration": 5,
    "start_time": "2022-07-29T20:48:06.193Z"
   },
   {
    "duration": 16,
    "start_time": "2022-07-29T20:48:06.200Z"
   },
   {
    "duration": 16,
    "start_time": "2022-07-29T20:48:06.231Z"
   },
   {
    "duration": 21,
    "start_time": "2022-07-29T20:48:06.249Z"
   },
   {
    "duration": 103,
    "start_time": "2022-07-29T20:48:06.271Z"
   },
   {
    "duration": 58,
    "start_time": "2022-07-29T20:48:06.376Z"
   },
   {
    "duration": 6,
    "start_time": "2022-07-29T20:48:06.436Z"
   },
   {
    "duration": 16,
    "start_time": "2022-07-29T20:48:06.444Z"
   },
   {
    "duration": 15,
    "start_time": "2022-07-29T20:48:06.462Z"
   },
   {
    "duration": 7,
    "start_time": "2022-07-29T20:48:06.479Z"
   },
   {
    "duration": 5,
    "start_time": "2022-07-29T20:48:06.488Z"
   },
   {
    "duration": 150,
    "start_time": "2022-07-29T20:48:06.495Z"
   },
   {
    "duration": 29,
    "start_time": "2022-07-29T20:48:06.647Z"
   },
   {
    "duration": 21,
    "start_time": "2022-07-29T20:48:06.678Z"
   },
   {
    "duration": 5,
    "start_time": "2022-07-29T20:48:06.701Z"
   },
   {
    "duration": 25,
    "start_time": "2022-07-29T20:48:06.708Z"
   },
   {
    "duration": 5,
    "start_time": "2022-07-29T20:48:06.735Z"
   },
   {
    "duration": 6,
    "start_time": "2022-07-29T20:48:06.746Z"
   },
   {
    "duration": 14,
    "start_time": "2022-07-29T20:48:06.753Z"
   },
   {
    "duration": 30,
    "start_time": "2022-07-29T20:48:06.769Z"
   },
   {
    "duration": 46,
    "start_time": "2022-07-29T20:48:06.801Z"
   },
   {
    "duration": 9,
    "start_time": "2022-07-29T20:48:06.848Z"
   },
   {
    "duration": 19,
    "start_time": "2022-07-29T20:48:06.859Z"
   },
   {
    "duration": 8,
    "start_time": "2022-07-29T20:48:06.880Z"
   },
   {
    "duration": 347,
    "start_time": "2022-07-29T20:48:06.890Z"
   },
   {
    "duration": 11,
    "start_time": "2022-07-29T20:48:07.238Z"
   },
   {
    "duration": 11,
    "start_time": "2022-07-29T20:48:07.251Z"
   },
   {
    "duration": 16,
    "start_time": "2022-07-29T20:48:07.264Z"
   },
   {
    "duration": 15,
    "start_time": "2022-07-29T20:48:07.281Z"
   },
   {
    "duration": 34,
    "start_time": "2022-07-29T20:48:07.297Z"
   },
   {
    "duration": 4,
    "start_time": "2022-07-29T20:48:07.333Z"
   },
   {
    "duration": 6,
    "start_time": "2022-07-29T20:48:07.339Z"
   },
   {
    "duration": 6,
    "start_time": "2022-07-29T20:48:07.347Z"
   },
   {
    "duration": 21,
    "start_time": "2022-07-29T20:48:07.355Z"
   },
   {
    "duration": 5,
    "start_time": "2022-07-29T20:48:07.378Z"
   },
   {
    "duration": 5,
    "start_time": "2022-07-29T20:48:07.385Z"
   },
   {
    "duration": 44,
    "start_time": "2022-07-29T20:48:07.391Z"
   },
   {
    "duration": 5,
    "start_time": "2022-07-29T20:48:07.437Z"
   },
   {
    "duration": 11,
    "start_time": "2022-07-29T20:48:07.443Z"
   },
   {
    "duration": 13,
    "start_time": "2022-07-29T20:48:07.455Z"
   },
   {
    "duration": 15,
    "start_time": "2022-07-29T20:48:07.470Z"
   },
   {
    "duration": 13,
    "start_time": "2022-07-29T20:48:07.486Z"
   },
   {
    "duration": 43,
    "start_time": "2022-07-29T20:48:07.501Z"
   },
   {
    "duration": 6,
    "start_time": "2022-07-29T20:48:07.546Z"
   },
   {
    "duration": 14,
    "start_time": "2022-07-29T20:48:07.554Z"
   },
   {
    "duration": 23,
    "start_time": "2022-07-29T20:48:07.570Z"
   },
   {
    "duration": 66,
    "start_time": "2022-07-29T20:48:07.594Z"
   },
   {
    "duration": 17,
    "start_time": "2022-07-29T20:48:07.662Z"
   },
   {
    "duration": 5,
    "start_time": "2022-07-29T20:48:07.681Z"
   },
   {
    "duration": 19,
    "start_time": "2022-07-29T20:48:07.688Z"
   },
   {
    "duration": 23,
    "start_time": "2022-07-29T20:48:07.709Z"
   },
   {
    "duration": 17,
    "start_time": "2022-07-29T20:48:07.734Z"
   },
   {
    "duration": 45,
    "start_time": "2022-07-29T20:48:07.753Z"
   },
   {
    "duration": 35,
    "start_time": "2022-07-29T20:48:07.800Z"
   },
   {
    "duration": 435,
    "start_time": "2022-07-29T20:48:07.837Z"
   },
   {
    "duration": 12,
    "start_time": "2022-07-29T20:48:08.275Z"
   },
   {
    "duration": 55,
    "start_time": "2022-07-29T20:48:08.289Z"
   },
   {
    "duration": 477,
    "start_time": "2022-07-29T20:48:08.345Z"
   },
   {
    "duration": 25,
    "start_time": "2022-07-29T20:48:08.823Z"
   },
   {
    "duration": 8,
    "start_time": "2022-07-29T20:48:08.849Z"
   },
   {
    "duration": 15,
    "start_time": "2022-07-29T20:48:08.859Z"
   },
   {
    "duration": 12,
    "start_time": "2022-07-29T20:48:08.876Z"
   },
   {
    "duration": 7,
    "start_time": "2022-07-29T20:48:08.890Z"
   },
   {
    "duration": 37,
    "start_time": "2022-07-29T20:48:08.899Z"
   },
   {
    "duration": 30,
    "start_time": "2022-07-29T20:48:08.938Z"
   },
   {
    "duration": 434,
    "start_time": "2022-07-29T20:48:08.970Z"
   },
   {
    "duration": 9,
    "start_time": "2022-07-29T20:48:09.405Z"
   },
   {
    "duration": 30,
    "start_time": "2022-07-29T20:48:09.415Z"
   },
   {
    "duration": 15,
    "start_time": "2022-07-29T20:48:09.446Z"
   },
   {
    "duration": 4,
    "start_time": "2022-07-29T20:48:09.462Z"
   },
   {
    "duration": 12,
    "start_time": "2022-07-29T20:48:09.468Z"
   },
   {
    "duration": 9,
    "start_time": "2022-07-29T20:48:09.482Z"
   },
   {
    "duration": 9,
    "start_time": "2022-07-29T20:48:09.493Z"
   },
   {
    "duration": 29,
    "start_time": "2022-07-29T20:48:09.503Z"
   },
   {
    "duration": 4,
    "start_time": "2022-07-29T20:48:09.534Z"
   },
   {
    "duration": 23,
    "start_time": "2022-07-29T20:48:09.540Z"
   },
   {
    "duration": 19,
    "start_time": "2022-07-29T20:48:09.564Z"
   },
   {
    "duration": 2,
    "start_time": "2022-07-29T20:48:09.585Z"
   },
   {
    "duration": 4,
    "start_time": "2022-07-29T20:48:09.589Z"
   },
   {
    "duration": 7,
    "start_time": "2022-07-29T20:48:09.595Z"
   },
   {
    "duration": 46,
    "start_time": "2022-07-29T20:48:09.603Z"
   },
   {
    "duration": 13,
    "start_time": "2022-07-29T20:48:09.651Z"
   },
   {
    "duration": 22,
    "start_time": "2022-07-29T20:48:09.666Z"
   },
   {
    "duration": 8,
    "start_time": "2022-07-29T20:48:09.690Z"
   },
   {
    "duration": 16,
    "start_time": "2022-07-29T20:48:09.700Z"
   },
   {
    "duration": 20,
    "start_time": "2022-07-29T20:48:09.719Z"
   },
   {
    "duration": 9,
    "start_time": "2022-07-29T20:48:09.741Z"
   },
   {
    "duration": 8,
    "start_time": "2022-07-29T20:48:09.752Z"
   },
   {
    "duration": 320,
    "start_time": "2022-07-29T20:48:09.763Z"
   },
   {
    "duration": 134,
    "start_time": "2022-07-29T20:48:10.084Z"
   },
   {
    "duration": 170,
    "start_time": "2022-07-29T20:48:10.220Z"
   },
   {
    "duration": 148,
    "start_time": "2022-07-29T20:48:10.392Z"
   },
   {
    "duration": 124,
    "start_time": "2022-07-29T20:48:10.542Z"
   },
   {
    "duration": 7,
    "start_time": "2022-07-29T20:48:10.668Z"
   },
   {
    "duration": 8,
    "start_time": "2022-07-29T20:48:10.677Z"
   },
   {
    "duration": 10,
    "start_time": "2022-07-29T20:48:10.687Z"
   },
   {
    "duration": 10,
    "start_time": "2022-07-29T20:48:10.698Z"
   },
   {
    "duration": 26,
    "start_time": "2022-07-29T20:48:10.709Z"
   },
   {
    "duration": 7,
    "start_time": "2022-07-29T20:48:10.740Z"
   },
   {
    "duration": 14,
    "start_time": "2022-07-29T20:48:10.749Z"
   },
   {
    "duration": 485,
    "start_time": "2022-07-29T20:48:10.765Z"
   },
   {
    "duration": 387,
    "start_time": "2022-07-29T20:48:11.252Z"
   },
   {
    "duration": 303,
    "start_time": "2022-07-29T20:48:11.641Z"
   },
   {
    "duration": 303,
    "start_time": "2022-07-29T20:48:11.946Z"
   },
   {
    "duration": 294,
    "start_time": "2022-07-29T20:48:12.251Z"
   },
   {
    "duration": 279,
    "start_time": "2022-07-29T20:48:12.546Z"
   },
   {
    "duration": 285,
    "start_time": "2022-07-29T20:48:12.832Z"
   },
   {
    "duration": 329,
    "start_time": "2022-07-29T20:48:13.119Z"
   },
   {
    "duration": 298,
    "start_time": "2022-07-29T20:48:13.451Z"
   },
   {
    "duration": 294,
    "start_time": "2022-07-29T20:48:13.752Z"
   },
   {
    "duration": 7,
    "start_time": "2022-07-29T20:48:14.048Z"
   },
   {
    "duration": 260,
    "start_time": "2022-07-29T20:48:14.057Z"
   },
   {
    "duration": 317,
    "start_time": "2022-07-29T20:48:14.318Z"
   },
   {
    "duration": 55,
    "start_time": "2022-07-30T10:45:07.704Z"
   },
   {
    "duration": 1548,
    "start_time": "2022-07-30T10:45:24.126Z"
   },
   {
    "duration": 1467,
    "start_time": "2022-07-30T10:45:25.676Z"
   },
   {
    "duration": 13,
    "start_time": "2022-07-30T10:45:27.146Z"
   },
   {
    "duration": 15,
    "start_time": "2022-07-30T10:45:27.162Z"
   },
   {
    "duration": 10,
    "start_time": "2022-07-30T10:45:27.179Z"
   },
   {
    "duration": 25,
    "start_time": "2022-07-30T10:45:27.191Z"
   },
   {
    "duration": 10,
    "start_time": "2022-07-30T10:45:27.218Z"
   },
   {
    "duration": 57,
    "start_time": "2022-07-30T10:45:27.229Z"
   },
   {
    "duration": 24,
    "start_time": "2022-07-30T10:45:27.288Z"
   },
   {
    "duration": 15,
    "start_time": "2022-07-30T10:45:27.315Z"
   },
   {
    "duration": 105,
    "start_time": "2022-07-30T10:45:27.332Z"
   },
   {
    "duration": 70,
    "start_time": "2022-07-30T10:45:27.439Z"
   },
   {
    "duration": 63,
    "start_time": "2022-07-30T10:45:27.516Z"
   },
   {
    "duration": 5,
    "start_time": "2022-07-30T10:45:27.581Z"
   },
   {
    "duration": 19,
    "start_time": "2022-07-30T10:45:27.588Z"
   },
   {
    "duration": 9,
    "start_time": "2022-07-30T10:45:27.613Z"
   },
   {
    "duration": 9,
    "start_time": "2022-07-30T10:45:27.624Z"
   },
   {
    "duration": 26,
    "start_time": "2022-07-30T10:45:27.635Z"
   },
   {
    "duration": 5,
    "start_time": "2022-07-30T10:45:27.662Z"
   },
   {
    "duration": 7,
    "start_time": "2022-07-30T10:45:27.668Z"
   },
   {
    "duration": 15,
    "start_time": "2022-07-30T10:45:27.704Z"
   },
   {
    "duration": 36,
    "start_time": "2022-07-30T10:45:27.721Z"
   },
   {
    "duration": 304,
    "start_time": "2022-07-30T10:45:27.759Z"
   },
   {
    "duration": 5,
    "start_time": "2022-07-30T10:45:28.065Z"
   },
   {
    "duration": 18,
    "start_time": "2022-07-30T10:45:28.072Z"
   },
   {
    "duration": 16,
    "start_time": "2022-07-30T10:45:28.106Z"
   },
   {
    "duration": 20,
    "start_time": "2022-07-30T10:45:28.124Z"
   },
   {
    "duration": 95,
    "start_time": "2022-07-30T10:45:28.148Z"
   },
   {
    "duration": 44,
    "start_time": "2022-07-30T10:45:28.245Z"
   },
   {
    "duration": 9,
    "start_time": "2022-07-30T10:45:28.305Z"
   },
   {
    "duration": 16,
    "start_time": "2022-07-30T10:45:28.316Z"
   },
   {
    "duration": 19,
    "start_time": "2022-07-30T10:45:28.334Z"
   },
   {
    "duration": 7,
    "start_time": "2022-07-30T10:45:28.355Z"
   },
   {
    "duration": 6,
    "start_time": "2022-07-30T10:45:28.364Z"
   },
   {
    "duration": 168,
    "start_time": "2022-07-30T10:45:28.372Z"
   },
   {
    "duration": 35,
    "start_time": "2022-07-30T10:45:28.542Z"
   },
   {
    "duration": 38,
    "start_time": "2022-07-30T10:45:28.579Z"
   },
   {
    "duration": 6,
    "start_time": "2022-07-30T10:45:28.619Z"
   },
   {
    "duration": 5,
    "start_time": "2022-07-30T10:45:28.626Z"
   },
   {
    "duration": 5,
    "start_time": "2022-07-30T10:45:28.632Z"
   },
   {
    "duration": 5,
    "start_time": "2022-07-30T10:45:28.638Z"
   },
   {
    "duration": 12,
    "start_time": "2022-07-30T10:45:28.644Z"
   },
   {
    "duration": 73,
    "start_time": "2022-07-30T10:45:28.657Z"
   },
   {
    "duration": 22,
    "start_time": "2022-07-30T10:45:28.732Z"
   },
   {
    "duration": 53,
    "start_time": "2022-07-30T10:45:28.755Z"
   },
   {
    "duration": 9,
    "start_time": "2022-07-30T10:45:28.809Z"
   },
   {
    "duration": 17,
    "start_time": "2022-07-30T10:45:28.820Z"
   },
   {
    "duration": 7,
    "start_time": "2022-07-30T10:45:28.839Z"
   },
   {
    "duration": 366,
    "start_time": "2022-07-30T10:45:28.848Z"
   },
   {
    "duration": 14,
    "start_time": "2022-07-30T10:45:29.216Z"
   },
   {
    "duration": 13,
    "start_time": "2022-07-30T10:45:29.232Z"
   },
   {
    "duration": 17,
    "start_time": "2022-07-30T10:45:29.246Z"
   },
   {
    "duration": 39,
    "start_time": "2022-07-30T10:45:29.265Z"
   },
   {
    "duration": 8,
    "start_time": "2022-07-30T10:45:29.305Z"
   },
   {
    "duration": 13,
    "start_time": "2022-07-30T10:45:29.314Z"
   },
   {
    "duration": 6,
    "start_time": "2022-07-30T10:45:29.328Z"
   },
   {
    "duration": 6,
    "start_time": "2022-07-30T10:45:29.335Z"
   },
   {
    "duration": 20,
    "start_time": "2022-07-30T10:45:29.343Z"
   },
   {
    "duration": 5,
    "start_time": "2022-07-30T10:45:29.364Z"
   },
   {
    "duration": 7,
    "start_time": "2022-07-30T10:45:29.370Z"
   },
   {
    "duration": 31,
    "start_time": "2022-07-30T10:45:29.378Z"
   },
   {
    "duration": 8,
    "start_time": "2022-07-30T10:45:29.411Z"
   },
   {
    "duration": 20,
    "start_time": "2022-07-30T10:45:29.422Z"
   },
   {
    "duration": 15,
    "start_time": "2022-07-30T10:45:29.443Z"
   },
   {
    "duration": 17,
    "start_time": "2022-07-30T10:45:29.460Z"
   },
   {
    "duration": 42,
    "start_time": "2022-07-30T10:45:29.479Z"
   },
   {
    "duration": 17,
    "start_time": "2022-07-30T10:45:29.523Z"
   },
   {
    "duration": 18,
    "start_time": "2022-07-30T10:45:29.541Z"
   },
   {
    "duration": 22,
    "start_time": "2022-07-30T10:45:29.561Z"
   },
   {
    "duration": 38,
    "start_time": "2022-07-30T10:45:29.584Z"
   },
   {
    "duration": 30,
    "start_time": "2022-07-30T10:45:29.623Z"
   },
   {
    "duration": 13,
    "start_time": "2022-07-30T10:45:29.655Z"
   },
   {
    "duration": 4,
    "start_time": "2022-07-30T10:45:29.670Z"
   },
   {
    "duration": 43,
    "start_time": "2022-07-30T10:45:29.675Z"
   },
   {
    "duration": 3,
    "start_time": "2022-07-30T10:45:29.720Z"
   },
   {
    "duration": 7,
    "start_time": "2022-07-30T10:45:29.725Z"
   },
   {
    "duration": 28,
    "start_time": "2022-07-30T10:45:29.733Z"
   },
   {
    "duration": 50,
    "start_time": "2022-07-30T10:45:29.762Z"
   },
   {
    "duration": 490,
    "start_time": "2022-07-30T10:45:29.821Z"
   },
   {
    "duration": 11,
    "start_time": "2022-07-30T10:45:30.313Z"
   },
   {
    "duration": 34,
    "start_time": "2022-07-30T10:45:30.326Z"
   },
   {
    "duration": 518,
    "start_time": "2022-07-30T10:45:30.366Z"
   },
   {
    "duration": 31,
    "start_time": "2022-07-30T10:45:30.885Z"
   },
   {
    "duration": 18,
    "start_time": "2022-07-30T10:45:30.919Z"
   },
   {
    "duration": 15,
    "start_time": "2022-07-30T10:45:30.939Z"
   },
   {
    "duration": 18,
    "start_time": "2022-07-30T10:45:30.956Z"
   },
   {
    "duration": 15,
    "start_time": "2022-07-30T10:45:30.976Z"
   },
   {
    "duration": 28,
    "start_time": "2022-07-30T10:45:30.993Z"
   },
   {
    "duration": 32,
    "start_time": "2022-07-30T10:45:31.023Z"
   },
   {
    "duration": 504,
    "start_time": "2022-07-30T10:45:31.057Z"
   },
   {
    "duration": 9,
    "start_time": "2022-07-30T10:45:31.563Z"
   },
   {
    "duration": 44,
    "start_time": "2022-07-30T10:45:31.574Z"
   },
   {
    "duration": 17,
    "start_time": "2022-07-30T10:45:31.619Z"
   },
   {
    "duration": 4,
    "start_time": "2022-07-30T10:45:31.638Z"
   },
   {
    "duration": 10,
    "start_time": "2022-07-30T10:45:31.644Z"
   },
   {
    "duration": 21,
    "start_time": "2022-07-30T10:45:31.655Z"
   },
   {
    "duration": 10,
    "start_time": "2022-07-30T10:45:31.679Z"
   },
   {
    "duration": 28,
    "start_time": "2022-07-30T10:45:31.691Z"
   },
   {
    "duration": 7,
    "start_time": "2022-07-30T10:45:31.721Z"
   },
   {
    "duration": 23,
    "start_time": "2022-07-30T10:45:31.729Z"
   },
   {
    "duration": 23,
    "start_time": "2022-07-30T10:45:31.754Z"
   },
   {
    "duration": 3,
    "start_time": "2022-07-30T10:45:31.778Z"
   },
   {
    "duration": 7,
    "start_time": "2022-07-30T10:45:31.782Z"
   },
   {
    "duration": 24,
    "start_time": "2022-07-30T10:45:31.791Z"
   },
   {
    "duration": 21,
    "start_time": "2022-07-30T10:45:31.818Z"
   },
   {
    "duration": 15,
    "start_time": "2022-07-30T10:45:31.841Z"
   },
   {
    "duration": 35,
    "start_time": "2022-07-30T10:45:31.858Z"
   },
   {
    "duration": 12,
    "start_time": "2022-07-30T10:45:31.896Z"
   },
   {
    "duration": 24,
    "start_time": "2022-07-30T10:45:31.911Z"
   },
   {
    "duration": 9,
    "start_time": "2022-07-30T10:45:31.937Z"
   },
   {
    "duration": 8,
    "start_time": "2022-07-30T10:45:31.948Z"
   },
   {
    "duration": 8,
    "start_time": "2022-07-30T10:45:31.957Z"
   },
   {
    "duration": 331,
    "start_time": "2022-07-30T10:45:31.967Z"
   },
   {
    "duration": 152,
    "start_time": "2022-07-30T10:45:32.299Z"
   },
   {
    "duration": 201,
    "start_time": "2022-07-30T10:45:32.453Z"
   },
   {
    "duration": 170,
    "start_time": "2022-07-30T10:45:32.656Z"
   },
   {
    "duration": 141,
    "start_time": "2022-07-30T10:45:32.827Z"
   },
   {
    "duration": 9,
    "start_time": "2022-07-30T10:45:32.970Z"
   },
   {
    "duration": 18,
    "start_time": "2022-07-30T10:45:32.980Z"
   },
   {
    "duration": 27,
    "start_time": "2022-07-30T10:45:33.004Z"
   },
   {
    "duration": 7,
    "start_time": "2022-07-30T10:45:33.033Z"
   },
   {
    "duration": 17,
    "start_time": "2022-07-30T10:45:33.042Z"
   },
   {
    "duration": 18,
    "start_time": "2022-07-30T10:45:33.060Z"
   },
   {
    "duration": 8,
    "start_time": "2022-07-30T10:45:33.080Z"
   },
   {
    "duration": 460,
    "start_time": "2022-07-30T10:45:33.090Z"
   },
   {
    "duration": 408,
    "start_time": "2022-07-30T10:45:33.551Z"
   },
   {
    "duration": 380,
    "start_time": "2022-07-30T10:45:33.960Z"
   },
   {
    "duration": 312,
    "start_time": "2022-07-30T10:45:34.343Z"
   },
   {
    "duration": 313,
    "start_time": "2022-07-30T10:45:34.658Z"
   },
   {
    "duration": 345,
    "start_time": "2022-07-30T10:45:34.973Z"
   },
   {
    "duration": 306,
    "start_time": "2022-07-30T10:45:35.320Z"
   },
   {
    "duration": 310,
    "start_time": "2022-07-30T10:45:35.628Z"
   },
   {
    "duration": 318,
    "start_time": "2022-07-30T10:45:35.940Z"
   },
   {
    "duration": 336,
    "start_time": "2022-07-30T10:45:36.259Z"
   },
   {
    "duration": 17,
    "start_time": "2022-07-30T10:45:36.597Z"
   },
   {
    "duration": 299,
    "start_time": "2022-07-30T10:45:36.620Z"
   },
   {
    "duration": 306,
    "start_time": "2022-07-30T10:45:36.921Z"
   },
   {
    "duration": 1243,
    "start_time": "2022-07-30T10:47:51.552Z"
   },
   {
    "duration": 1219,
    "start_time": "2022-07-30T10:48:28.804Z"
   },
   {
    "duration": 1366,
    "start_time": "2022-07-30T10:48:37.471Z"
   },
   {
    "duration": 22,
    "start_time": "2022-07-30T10:48:53.611Z"
   },
   {
    "duration": 16,
    "start_time": "2022-07-30T10:49:29.276Z"
   },
   {
    "duration": 1259,
    "start_time": "2022-07-30T10:51:44.832Z"
   },
   {
    "duration": 1192,
    "start_time": "2022-07-30T10:51:46.105Z"
   },
   {
    "duration": 21,
    "start_time": "2022-07-30T10:51:47.299Z"
   },
   {
    "duration": 17,
    "start_time": "2022-07-30T10:51:47.322Z"
   },
   {
    "duration": 10,
    "start_time": "2022-07-30T10:51:47.341Z"
   },
   {
    "duration": 19,
    "start_time": "2022-07-30T10:51:47.353Z"
   },
   {
    "duration": 9,
    "start_time": "2022-07-30T10:51:47.374Z"
   },
   {
    "duration": 80,
    "start_time": "2022-07-30T10:51:47.384Z"
   },
   {
    "duration": 8,
    "start_time": "2022-07-30T10:51:47.466Z"
   },
   {
    "duration": 10,
    "start_time": "2022-07-30T10:51:47.478Z"
   },
   {
    "duration": 116,
    "start_time": "2022-07-30T10:51:47.489Z"
   },
   {
    "duration": 56,
    "start_time": "2022-07-30T10:51:47.617Z"
   },
   {
    "duration": 67,
    "start_time": "2022-07-30T10:51:47.675Z"
   },
   {
    "duration": 5,
    "start_time": "2022-07-30T10:51:47.744Z"
   },
   {
    "duration": 9,
    "start_time": "2022-07-30T10:51:47.750Z"
   },
   {
    "duration": 8,
    "start_time": "2022-07-30T10:51:47.760Z"
   },
   {
    "duration": 12,
    "start_time": "2022-07-30T10:51:47.770Z"
   },
   {
    "duration": 46,
    "start_time": "2022-07-30T10:51:47.784Z"
   },
   {
    "duration": 5,
    "start_time": "2022-07-30T10:51:47.831Z"
   },
   {
    "duration": 6,
    "start_time": "2022-07-30T10:51:47.837Z"
   },
   {
    "duration": 12,
    "start_time": "2022-07-30T10:51:47.844Z"
   },
   {
    "duration": 67,
    "start_time": "2022-07-30T10:51:47.857Z"
   },
   {
    "duration": 291,
    "start_time": "2022-07-30T10:51:47.926Z"
   },
   {
    "duration": 5,
    "start_time": "2022-07-30T10:51:48.219Z"
   },
   {
    "duration": 16,
    "start_time": "2022-07-30T10:51:48.226Z"
   },
   {
    "duration": 19,
    "start_time": "2022-07-30T10:51:48.244Z"
   },
   {
    "duration": 16,
    "start_time": "2022-07-30T10:51:48.264Z"
   },
   {
    "duration": 100,
    "start_time": "2022-07-30T10:51:48.284Z"
   },
   {
    "duration": 58,
    "start_time": "2022-07-30T10:51:48.386Z"
   },
   {
    "duration": 4,
    "start_time": "2022-07-30T10:51:48.446Z"
   },
   {
    "duration": 16,
    "start_time": "2022-07-30T10:51:48.452Z"
   },
   {
    "duration": 17,
    "start_time": "2022-07-30T10:51:48.469Z"
   },
   {
    "duration": 27,
    "start_time": "2022-07-30T10:51:48.487Z"
   },
   {
    "duration": 5,
    "start_time": "2022-07-30T10:51:48.517Z"
   },
   {
    "duration": 141,
    "start_time": "2022-07-30T10:51:48.524Z"
   },
   {
    "duration": 49,
    "start_time": "2022-07-30T10:51:48.666Z"
   },
   {
    "duration": 18,
    "start_time": "2022-07-30T10:51:48.718Z"
   },
   {
    "duration": 6,
    "start_time": "2022-07-30T10:51:48.737Z"
   },
   {
    "duration": 5,
    "start_time": "2022-07-30T10:51:48.744Z"
   },
   {
    "duration": 5,
    "start_time": "2022-07-30T10:51:48.750Z"
   },
   {
    "duration": 4,
    "start_time": "2022-07-30T10:51:48.756Z"
   },
   {
    "duration": 14,
    "start_time": "2022-07-30T10:51:48.762Z"
   },
   {
    "duration": 39,
    "start_time": "2022-07-30T10:51:48.803Z"
   },
   {
    "duration": 25,
    "start_time": "2022-07-30T10:51:48.844Z"
   },
   {
    "duration": 62,
    "start_time": "2022-07-30T10:51:48.872Z"
   },
   {
    "duration": 8,
    "start_time": "2022-07-30T10:51:48.936Z"
   },
   {
    "duration": 17,
    "start_time": "2022-07-30T10:51:48.945Z"
   },
   {
    "duration": 9,
    "start_time": "2022-07-30T10:51:48.964Z"
   },
   {
    "duration": 380,
    "start_time": "2022-07-30T10:51:48.975Z"
   },
   {
    "duration": 13,
    "start_time": "2022-07-30T10:51:49.357Z"
   },
   {
    "duration": 13,
    "start_time": "2022-07-30T10:51:49.372Z"
   },
   {
    "duration": 36,
    "start_time": "2022-07-30T10:51:49.387Z"
   },
   {
    "duration": 15,
    "start_time": "2022-07-30T10:51:49.425Z"
   },
   {
    "duration": 4,
    "start_time": "2022-07-30T10:51:49.441Z"
   },
   {
    "duration": 5,
    "start_time": "2022-07-30T10:51:49.447Z"
   },
   {
    "duration": 5,
    "start_time": "2022-07-30T10:51:49.454Z"
   },
   {
    "duration": 6,
    "start_time": "2022-07-30T10:51:49.460Z"
   },
   {
    "duration": 51,
    "start_time": "2022-07-30T10:51:49.467Z"
   },
   {
    "duration": 5,
    "start_time": "2022-07-30T10:51:49.520Z"
   },
   {
    "duration": 7,
    "start_time": "2022-07-30T10:51:49.526Z"
   },
   {
    "duration": 10,
    "start_time": "2022-07-30T10:51:49.534Z"
   },
   {
    "duration": 4,
    "start_time": "2022-07-30T10:51:49.546Z"
   },
   {
    "duration": 8,
    "start_time": "2022-07-30T10:51:49.552Z"
   },
   {
    "duration": 48,
    "start_time": "2022-07-30T10:51:49.562Z"
   },
   {
    "duration": 22,
    "start_time": "2022-07-30T10:51:49.611Z"
   },
   {
    "duration": 14,
    "start_time": "2022-07-30T10:51:49.635Z"
   },
   {
    "duration": 20,
    "start_time": "2022-07-30T10:51:49.651Z"
   },
   {
    "duration": 35,
    "start_time": "2022-07-30T10:51:49.673Z"
   },
   {
    "duration": 18,
    "start_time": "2022-07-30T10:51:49.709Z"
   },
   {
    "duration": 26,
    "start_time": "2022-07-30T10:51:49.729Z"
   },
   {
    "duration": 61,
    "start_time": "2022-07-30T10:51:49.756Z"
   },
   {
    "duration": 16,
    "start_time": "2022-07-30T10:51:49.819Z"
   },
   {
    "duration": 5,
    "start_time": "2022-07-30T10:51:49.837Z"
   },
   {
    "duration": 14,
    "start_time": "2022-07-30T10:51:49.844Z"
   },
   {
    "duration": 3,
    "start_time": "2022-07-30T10:51:49.860Z"
   },
   {
    "duration": 8,
    "start_time": "2022-07-30T10:51:49.865Z"
   },
   {
    "duration": 65,
    "start_time": "2022-07-30T10:51:49.875Z"
   },
   {
    "duration": 24,
    "start_time": "2022-07-30T10:51:49.941Z"
   },
   {
    "duration": 523,
    "start_time": "2022-07-30T10:51:49.966Z"
   },
   {
    "duration": 25,
    "start_time": "2022-07-30T10:51:50.491Z"
   },
   {
    "duration": 30,
    "start_time": "2022-07-30T10:51:50.518Z"
   },
   {
    "duration": 519,
    "start_time": "2022-07-30T10:51:50.554Z"
   },
   {
    "duration": 34,
    "start_time": "2022-07-30T10:51:51.074Z"
   },
   {
    "duration": 11,
    "start_time": "2022-07-30T10:51:51.110Z"
   },
   {
    "duration": 14,
    "start_time": "2022-07-30T10:51:51.122Z"
   },
   {
    "duration": 9,
    "start_time": "2022-07-30T10:51:51.138Z"
   },
   {
    "duration": 6,
    "start_time": "2022-07-30T10:51:51.149Z"
   },
   {
    "duration": 11,
    "start_time": "2022-07-30T10:51:51.157Z"
   },
   {
    "duration": 53,
    "start_time": "2022-07-30T10:51:51.169Z"
   },
   {
    "duration": 496,
    "start_time": "2022-07-30T10:51:51.223Z"
   },
   {
    "duration": 9,
    "start_time": "2022-07-30T10:51:51.721Z"
   },
   {
    "duration": 17,
    "start_time": "2022-07-30T10:51:51.732Z"
   },
   {
    "duration": 13,
    "start_time": "2022-07-30T10:51:51.750Z"
   },
   {
    "duration": 3,
    "start_time": "2022-07-30T10:51:51.765Z"
   },
   {
    "duration": 47,
    "start_time": "2022-07-30T10:51:51.770Z"
   },
   {
    "duration": 8,
    "start_time": "2022-07-30T10:51:51.818Z"
   },
   {
    "duration": 10,
    "start_time": "2022-07-30T10:51:51.827Z"
   },
   {
    "duration": 7,
    "start_time": "2022-07-30T10:51:51.839Z"
   },
   {
    "duration": 7,
    "start_time": "2022-07-30T10:51:51.847Z"
   },
   {
    "duration": 20,
    "start_time": "2022-07-30T10:51:51.856Z"
   },
   {
    "duration": 39,
    "start_time": "2022-07-30T10:51:51.877Z"
   },
   {
    "duration": 3,
    "start_time": "2022-07-30T10:51:51.918Z"
   },
   {
    "duration": 6,
    "start_time": "2022-07-30T10:51:51.923Z"
   },
   {
    "duration": 7,
    "start_time": "2022-07-30T10:51:51.931Z"
   },
   {
    "duration": 19,
    "start_time": "2022-07-30T10:51:51.940Z"
   },
   {
    "duration": 18,
    "start_time": "2022-07-30T10:51:51.960Z"
   },
   {
    "duration": 40,
    "start_time": "2022-07-30T10:51:51.979Z"
   },
   {
    "duration": 6,
    "start_time": "2022-07-30T10:51:52.021Z"
   },
   {
    "duration": 16,
    "start_time": "2022-07-30T10:51:52.028Z"
   },
   {
    "duration": 7,
    "start_time": "2022-07-30T10:51:52.046Z"
   },
   {
    "duration": 6,
    "start_time": "2022-07-30T10:51:52.055Z"
   },
   {
    "duration": 10,
    "start_time": "2022-07-30T10:51:52.063Z"
   },
   {
    "duration": 308,
    "start_time": "2022-07-30T10:51:52.075Z"
   },
   {
    "duration": 161,
    "start_time": "2022-07-30T10:51:52.385Z"
   },
   {
    "duration": 204,
    "start_time": "2022-07-30T10:51:52.547Z"
   },
   {
    "duration": 168,
    "start_time": "2022-07-30T10:51:52.753Z"
   },
   {
    "duration": 138,
    "start_time": "2022-07-30T10:51:52.923Z"
   },
   {
    "duration": 8,
    "start_time": "2022-07-30T10:51:53.063Z"
   },
   {
    "duration": 9,
    "start_time": "2022-07-30T10:51:53.072Z"
   },
   {
    "duration": 34,
    "start_time": "2022-07-30T10:51:53.082Z"
   },
   {
    "duration": 7,
    "start_time": "2022-07-30T10:51:53.117Z"
   },
   {
    "duration": 8,
    "start_time": "2022-07-30T10:51:53.125Z"
   },
   {
    "duration": 11,
    "start_time": "2022-07-30T10:51:53.135Z"
   },
   {
    "duration": 7,
    "start_time": "2022-07-30T10:51:53.148Z"
   },
   {
    "duration": 480,
    "start_time": "2022-07-30T10:51:53.157Z"
   },
   {
    "duration": 404,
    "start_time": "2022-07-30T10:51:53.641Z"
   },
   {
    "duration": 309,
    "start_time": "2022-07-30T10:51:54.047Z"
   },
   {
    "duration": 310,
    "start_time": "2022-07-30T10:51:54.358Z"
   },
   {
    "duration": 360,
    "start_time": "2022-07-30T10:51:54.670Z"
   },
   {
    "duration": 313,
    "start_time": "2022-07-30T10:51:55.033Z"
   },
   {
    "duration": 327,
    "start_time": "2022-07-30T10:51:55.349Z"
   },
   {
    "duration": 345,
    "start_time": "2022-07-30T10:51:55.678Z"
   },
   {
    "duration": 341,
    "start_time": "2022-07-30T10:51:56.025Z"
   },
   {
    "duration": 373,
    "start_time": "2022-07-30T10:51:56.367Z"
   },
   {
    "duration": 10,
    "start_time": "2022-07-30T10:51:56.742Z"
   },
   {
    "duration": 310,
    "start_time": "2022-07-30T10:51:56.754Z"
   },
   {
    "duration": 293,
    "start_time": "2022-07-30T10:51:57.066Z"
   },
   {
    "duration": 213,
    "start_time": "2022-07-30T10:55:25.217Z"
   },
   {
    "duration": 157,
    "start_time": "2022-07-30T10:55:35.791Z"
   },
   {
    "duration": 150,
    "start_time": "2022-07-30T10:56:45.851Z"
   },
   {
    "duration": 157,
    "start_time": "2022-07-30T10:57:05.627Z"
   },
   {
    "duration": 18,
    "start_time": "2022-07-30T11:02:18.989Z"
   },
   {
    "duration": 22,
    "start_time": "2022-07-30T11:02:35.601Z"
   },
   {
    "duration": 1194,
    "start_time": "2022-07-30T11:02:51.196Z"
   },
   {
    "duration": 1573,
    "start_time": "2022-07-30T11:02:52.392Z"
   },
   {
    "duration": 46,
    "start_time": "2022-07-30T11:02:53.967Z"
   },
   {
    "duration": 14,
    "start_time": "2022-07-30T11:02:54.015Z"
   },
   {
    "duration": 12,
    "start_time": "2022-07-30T11:02:54.030Z"
   },
   {
    "duration": 72,
    "start_time": "2022-07-30T11:02:54.044Z"
   },
   {
    "duration": 9,
    "start_time": "2022-07-30T11:02:54.118Z"
   },
   {
    "duration": 110,
    "start_time": "2022-07-30T11:02:54.129Z"
   },
   {
    "duration": 65,
    "start_time": "2022-07-30T11:02:54.240Z"
   },
   {
    "duration": 13,
    "start_time": "2022-07-30T11:02:54.308Z"
   },
   {
    "duration": 199,
    "start_time": "2022-07-30T11:02:54.323Z"
   },
   {
    "duration": 113,
    "start_time": "2022-07-30T11:02:54.524Z"
   },
   {
    "duration": 171,
    "start_time": "2022-07-30T11:02:54.639Z"
   },
   {
    "duration": 6,
    "start_time": "2022-07-30T11:02:54.812Z"
   },
   {
    "duration": 45,
    "start_time": "2022-07-30T11:02:54.820Z"
   },
   {
    "duration": 40,
    "start_time": "2022-07-30T11:02:54.867Z"
   },
   {
    "duration": 38,
    "start_time": "2022-07-30T11:02:54.909Z"
   },
   {
    "duration": 93,
    "start_time": "2022-07-30T11:02:54.949Z"
   },
   {
    "duration": 64,
    "start_time": "2022-07-30T11:02:55.044Z"
   },
   {
    "duration": 33,
    "start_time": "2022-07-30T11:02:55.110Z"
   },
   {
    "duration": 21,
    "start_time": "2022-07-30T11:02:55.145Z"
   },
   {
    "duration": 39,
    "start_time": "2022-07-30T11:02:55.203Z"
   },
   {
    "duration": 595,
    "start_time": "2022-07-30T11:02:55.244Z"
   },
   {
    "duration": 5,
    "start_time": "2022-07-30T11:02:55.841Z"
   },
   {
    "duration": 19,
    "start_time": "2022-07-30T11:02:55.847Z"
   },
   {
    "duration": 16,
    "start_time": "2022-07-30T11:02:55.867Z"
   },
   {
    "duration": 32,
    "start_time": "2022-07-30T11:02:55.885Z"
   },
   {
    "duration": 85,
    "start_time": "2022-07-30T11:02:55.922Z"
   },
   {
    "duration": 47,
    "start_time": "2022-07-30T11:02:56.009Z"
   },
   {
    "duration": 4,
    "start_time": "2022-07-30T11:02:56.058Z"
   },
   {
    "duration": 14,
    "start_time": "2022-07-30T11:02:56.064Z"
   },
   {
    "duration": 30,
    "start_time": "2022-07-30T11:02:56.080Z"
   },
   {
    "duration": 11,
    "start_time": "2022-07-30T11:02:56.111Z"
   },
   {
    "duration": 5,
    "start_time": "2022-07-30T11:02:56.123Z"
   },
   {
    "duration": 170,
    "start_time": "2022-07-30T11:02:56.130Z"
   },
   {
    "duration": 40,
    "start_time": "2022-07-30T11:02:56.302Z"
   },
   {
    "duration": 21,
    "start_time": "2022-07-30T11:02:56.344Z"
   },
   {
    "duration": 5,
    "start_time": "2022-07-30T11:02:56.367Z"
   },
   {
    "duration": 32,
    "start_time": "2022-07-30T11:02:56.374Z"
   },
   {
    "duration": 8,
    "start_time": "2022-07-30T11:02:56.408Z"
   },
   {
    "duration": 5,
    "start_time": "2022-07-30T11:02:56.417Z"
   },
   {
    "duration": 15,
    "start_time": "2022-07-30T11:02:56.424Z"
   },
   {
    "duration": 67,
    "start_time": "2022-07-30T11:02:56.441Z"
   },
   {
    "duration": 29,
    "start_time": "2022-07-30T11:02:56.510Z"
   },
   {
    "duration": 64,
    "start_time": "2022-07-30T11:02:56.541Z"
   },
   {
    "duration": 10,
    "start_time": "2022-07-30T11:02:56.607Z"
   },
   {
    "duration": 21,
    "start_time": "2022-07-30T11:02:56.619Z"
   },
   {
    "duration": 10,
    "start_time": "2022-07-30T11:02:56.642Z"
   },
   {
    "duration": 422,
    "start_time": "2022-07-30T11:02:56.654Z"
   },
   {
    "duration": 14,
    "start_time": "2022-07-30T11:02:57.078Z"
   },
   {
    "duration": 22,
    "start_time": "2022-07-30T11:02:57.094Z"
   },
   {
    "duration": 18,
    "start_time": "2022-07-30T11:02:57.118Z"
   },
   {
    "duration": 18,
    "start_time": "2022-07-30T11:02:57.138Z"
   },
   {
    "duration": 5,
    "start_time": "2022-07-30T11:02:57.158Z"
   },
   {
    "duration": 8,
    "start_time": "2022-07-30T11:02:57.165Z"
   },
   {
    "duration": 6,
    "start_time": "2022-07-30T11:02:57.205Z"
   },
   {
    "duration": 9,
    "start_time": "2022-07-30T11:02:57.212Z"
   },
   {
    "duration": 20,
    "start_time": "2022-07-30T11:02:57.223Z"
   },
   {
    "duration": 7,
    "start_time": "2022-07-30T11:02:57.245Z"
   },
   {
    "duration": 9,
    "start_time": "2022-07-30T11:02:57.254Z"
   },
   {
    "duration": 42,
    "start_time": "2022-07-30T11:02:57.265Z"
   },
   {
    "duration": 6,
    "start_time": "2022-07-30T11:02:57.309Z"
   },
   {
    "duration": 12,
    "start_time": "2022-07-30T11:02:57.317Z"
   },
   {
    "duration": 15,
    "start_time": "2022-07-30T11:02:57.331Z"
   },
   {
    "duration": 21,
    "start_time": "2022-07-30T11:02:57.348Z"
   },
   {
    "duration": 46,
    "start_time": "2022-07-30T11:02:57.371Z"
   },
   {
    "duration": 18,
    "start_time": "2022-07-30T11:02:57.419Z"
   },
   {
    "duration": 11,
    "start_time": "2022-07-30T11:02:57.438Z"
   },
   {
    "duration": 31,
    "start_time": "2022-07-30T11:02:57.451Z"
   },
   {
    "duration": 53,
    "start_time": "2022-07-30T11:02:57.486Z"
   },
   {
    "duration": 34,
    "start_time": "2022-07-30T11:02:57.541Z"
   },
   {
    "duration": 36,
    "start_time": "2022-07-30T11:02:57.577Z"
   },
   {
    "duration": 7,
    "start_time": "2022-07-30T11:02:57.615Z"
   },
   {
    "duration": 14,
    "start_time": "2022-07-30T11:02:57.624Z"
   },
   {
    "duration": 3,
    "start_time": "2022-07-30T11:02:57.639Z"
   },
   {
    "duration": 11,
    "start_time": "2022-07-30T11:02:57.643Z"
   },
   {
    "duration": 59,
    "start_time": "2022-07-30T11:02:57.655Z"
   },
   {
    "duration": 28,
    "start_time": "2022-07-30T11:02:57.716Z"
   },
   {
    "duration": 483,
    "start_time": "2022-07-30T11:02:57.746Z"
   },
   {
    "duration": 10,
    "start_time": "2022-07-30T11:02:58.231Z"
   },
   {
    "duration": 35,
    "start_time": "2022-07-30T11:02:58.243Z"
   },
   {
    "duration": 509,
    "start_time": "2022-07-30T11:02:58.304Z"
   },
   {
    "duration": 23,
    "start_time": "2022-07-30T11:02:58.814Z"
   },
   {
    "duration": 9,
    "start_time": "2022-07-30T11:02:58.839Z"
   },
   {
    "duration": 25,
    "start_time": "2022-07-30T11:02:58.850Z"
   },
   {
    "duration": 12,
    "start_time": "2022-07-30T11:02:58.877Z"
   },
   {
    "duration": 14,
    "start_time": "2022-07-30T11:02:58.891Z"
   },
   {
    "duration": 24,
    "start_time": "2022-07-30T11:02:58.907Z"
   },
   {
    "duration": 34,
    "start_time": "2022-07-30T11:02:58.933Z"
   },
   {
    "duration": 508,
    "start_time": "2022-07-30T11:02:58.970Z"
   },
   {
    "duration": 10,
    "start_time": "2022-07-30T11:02:59.480Z"
   },
   {
    "duration": 19,
    "start_time": "2022-07-30T11:02:59.503Z"
   },
   {
    "duration": 16,
    "start_time": "2022-07-30T11:02:59.525Z"
   },
   {
    "duration": 4,
    "start_time": "2022-07-30T11:02:59.543Z"
   },
   {
    "duration": 8,
    "start_time": "2022-07-30T11:02:59.549Z"
   },
   {
    "duration": 45,
    "start_time": "2022-07-30T11:02:59.559Z"
   },
   {
    "duration": 160,
    "start_time": "2022-07-30T11:02:59.606Z"
   },
   {
    "duration": 9,
    "start_time": "2022-07-30T11:02:59.768Z"
   },
   {
    "duration": 164,
    "start_time": "2022-07-30T11:02:59.779Z"
   },
   {
    "duration": 3,
    "start_time": "2022-07-30T11:02:59.945Z"
   },
   {
    "duration": 17,
    "start_time": "2022-07-30T11:02:59.949Z"
   },
   {
    "duration": 31,
    "start_time": "2022-07-30T11:02:59.968Z"
   },
   {
    "duration": 29,
    "start_time": "2022-07-30T11:03:00.001Z"
   },
   {
    "duration": 2,
    "start_time": "2022-07-30T11:03:00.032Z"
   },
   {
    "duration": 6,
    "start_time": "2022-07-30T11:03:00.036Z"
   },
   {
    "duration": 116,
    "start_time": "2022-07-30T11:03:00.044Z"
   },
   {
    "duration": 32,
    "start_time": "2022-07-30T11:03:00.162Z"
   },
   {
    "duration": 21,
    "start_time": "2022-07-30T11:03:00.196Z"
   },
   {
    "duration": 20,
    "start_time": "2022-07-30T11:03:00.219Z"
   },
   {
    "duration": 7,
    "start_time": "2022-07-30T11:03:00.241Z"
   },
   {
    "duration": 13,
    "start_time": "2022-07-30T11:03:00.250Z"
   },
   {
    "duration": 9,
    "start_time": "2022-07-30T11:03:00.265Z"
   },
   {
    "duration": 29,
    "start_time": "2022-07-30T11:03:00.275Z"
   },
   {
    "duration": 8,
    "start_time": "2022-07-30T11:03:00.306Z"
   },
   {
    "duration": 323,
    "start_time": "2022-07-30T11:03:00.316Z"
   },
   {
    "duration": 158,
    "start_time": "2022-07-30T11:03:00.641Z"
   },
   {
    "duration": 225,
    "start_time": "2022-07-30T11:03:00.804Z"
   },
   {
    "duration": 184,
    "start_time": "2022-07-30T11:03:01.031Z"
   },
   {
    "duration": 149,
    "start_time": "2022-07-30T11:03:01.217Z"
   },
   {
    "duration": 10,
    "start_time": "2022-07-30T11:03:01.368Z"
   },
   {
    "duration": 51,
    "start_time": "2022-07-30T11:03:01.380Z"
   },
   {
    "duration": 18,
    "start_time": "2022-07-30T11:03:01.432Z"
   },
   {
    "duration": 30,
    "start_time": "2022-07-30T11:03:01.452Z"
   },
   {
    "duration": 59,
    "start_time": "2022-07-30T11:03:01.484Z"
   },
   {
    "duration": 20,
    "start_time": "2022-07-30T11:03:01.545Z"
   },
   {
    "duration": 15,
    "start_time": "2022-07-30T11:03:01.568Z"
   },
   {
    "duration": 419,
    "start_time": "2022-07-30T11:03:01.585Z"
   },
   {
    "duration": 334,
    "start_time": "2022-07-30T11:03:02.006Z"
   },
   {
    "duration": 304,
    "start_time": "2022-07-30T11:03:02.342Z"
   },
   {
    "duration": 304,
    "start_time": "2022-07-30T11:03:02.648Z"
   },
   {
    "duration": 304,
    "start_time": "2022-07-30T11:03:02.954Z"
   },
   {
    "duration": 325,
    "start_time": "2022-07-30T11:03:03.260Z"
   },
   {
    "duration": 334,
    "start_time": "2022-07-30T11:03:03.586Z"
   },
   {
    "duration": 332,
    "start_time": "2022-07-30T11:03:03.922Z"
   },
   {
    "duration": 378,
    "start_time": "2022-07-30T11:03:04.257Z"
   },
   {
    "duration": 331,
    "start_time": "2022-07-30T11:03:04.638Z"
   },
   {
    "duration": 7,
    "start_time": "2022-07-30T11:03:04.971Z"
   },
   {
    "duration": 424,
    "start_time": "2022-07-30T11:03:04.980Z"
   },
   {
    "duration": 340,
    "start_time": "2022-07-30T11:03:05.406Z"
   },
   {
    "duration": 1287,
    "start_time": "2022-07-30T11:04:54.894Z"
   },
   {
    "duration": 1181,
    "start_time": "2022-07-30T11:04:56.183Z"
   },
   {
    "duration": 11,
    "start_time": "2022-07-30T11:04:57.368Z"
   },
   {
    "duration": 12,
    "start_time": "2022-07-30T11:04:57.381Z"
   },
   {
    "duration": 11,
    "start_time": "2022-07-30T11:04:57.394Z"
   },
   {
    "duration": 22,
    "start_time": "2022-07-30T11:04:57.407Z"
   },
   {
    "duration": 9,
    "start_time": "2022-07-30T11:04:57.431Z"
   },
   {
    "duration": 68,
    "start_time": "2022-07-30T11:04:57.442Z"
   },
   {
    "duration": 8,
    "start_time": "2022-07-30T11:04:57.514Z"
   },
   {
    "duration": 13,
    "start_time": "2022-07-30T11:04:57.524Z"
   },
   {
    "duration": 110,
    "start_time": "2022-07-30T11:04:57.539Z"
   },
   {
    "duration": 70,
    "start_time": "2022-07-30T11:04:57.650Z"
   },
   {
    "duration": 63,
    "start_time": "2022-07-30T11:04:57.722Z"
   },
   {
    "duration": 18,
    "start_time": "2022-07-30T11:04:57.787Z"
   },
   {
    "duration": 7,
    "start_time": "2022-07-30T11:04:57.806Z"
   },
   {
    "duration": 8,
    "start_time": "2022-07-30T11:04:57.814Z"
   },
   {
    "duration": 8,
    "start_time": "2022-07-30T11:04:57.824Z"
   },
   {
    "duration": 26,
    "start_time": "2022-07-30T11:04:57.833Z"
   },
   {
    "duration": 5,
    "start_time": "2022-07-30T11:04:57.861Z"
   },
   {
    "duration": 7,
    "start_time": "2022-07-30T11:04:57.903Z"
   },
   {
    "duration": 11,
    "start_time": "2022-07-30T11:04:57.912Z"
   },
   {
    "duration": 34,
    "start_time": "2022-07-30T11:04:57.925Z"
   },
   {
    "duration": 313,
    "start_time": "2022-07-30T11:04:57.961Z"
   },
   {
    "duration": 6,
    "start_time": "2022-07-30T11:04:58.276Z"
   },
   {
    "duration": 31,
    "start_time": "2022-07-30T11:04:58.284Z"
   },
   {
    "duration": 15,
    "start_time": "2022-07-30T11:04:58.318Z"
   },
   {
    "duration": 18,
    "start_time": "2022-07-30T11:04:58.338Z"
   },
   {
    "duration": 94,
    "start_time": "2022-07-30T11:04:58.358Z"
   },
   {
    "duration": 54,
    "start_time": "2022-07-30T11:04:58.454Z"
   },
   {
    "duration": 7,
    "start_time": "2022-07-30T11:04:58.511Z"
   },
   {
    "duration": 22,
    "start_time": "2022-07-30T11:04:58.519Z"
   },
   {
    "duration": 61,
    "start_time": "2022-07-30T11:04:58.543Z"
   },
   {
    "duration": 8,
    "start_time": "2022-07-30T11:04:58.606Z"
   },
   {
    "duration": 12,
    "start_time": "2022-07-30T11:04:58.617Z"
   },
   {
    "duration": 306,
    "start_time": "2022-07-30T11:04:58.631Z"
   },
   {
    "duration": 85,
    "start_time": "2022-07-30T11:04:58.939Z"
   },
   {
    "duration": 18,
    "start_time": "2022-07-30T11:04:59.026Z"
   },
   {
    "duration": 59,
    "start_time": "2022-07-30T11:04:59.046Z"
   },
   {
    "duration": 6,
    "start_time": "2022-07-30T11:04:59.107Z"
   },
   {
    "duration": 7,
    "start_time": "2022-07-30T11:04:59.114Z"
   },
   {
    "duration": 5,
    "start_time": "2022-07-30T11:04:59.123Z"
   },
   {
    "duration": 18,
    "start_time": "2022-07-30T11:04:59.130Z"
   },
   {
    "duration": 36,
    "start_time": "2022-07-30T11:04:59.204Z"
   },
   {
    "duration": 78,
    "start_time": "2022-07-30T11:04:59.242Z"
   },
   {
    "duration": 30,
    "start_time": "2022-07-30T11:04:59.321Z"
   },
   {
    "duration": 7,
    "start_time": "2022-07-30T11:04:59.404Z"
   },
   {
    "duration": 24,
    "start_time": "2022-07-30T11:04:59.413Z"
   },
   {
    "duration": 8,
    "start_time": "2022-07-30T11:04:59.439Z"
   },
   {
    "duration": 760,
    "start_time": "2022-07-30T11:04:59.448Z"
   },
   {
    "duration": 17,
    "start_time": "2022-07-30T11:05:00.210Z"
   },
   {
    "duration": 18,
    "start_time": "2022-07-30T11:05:00.229Z"
   },
   {
    "duration": 76,
    "start_time": "2022-07-30T11:05:00.249Z"
   },
   {
    "duration": 16,
    "start_time": "2022-07-30T11:05:00.327Z"
   },
   {
    "duration": 62,
    "start_time": "2022-07-30T11:05:00.344Z"
   },
   {
    "duration": 7,
    "start_time": "2022-07-30T11:05:00.407Z"
   },
   {
    "duration": 27,
    "start_time": "2022-07-30T11:05:00.416Z"
   },
   {
    "duration": 61,
    "start_time": "2022-07-30T11:05:00.445Z"
   },
   {
    "duration": 54,
    "start_time": "2022-07-30T11:05:00.507Z"
   },
   {
    "duration": 51,
    "start_time": "2022-07-30T11:05:00.563Z"
   },
   {
    "duration": 32,
    "start_time": "2022-07-30T11:05:00.616Z"
   },
   {
    "duration": 34,
    "start_time": "2022-07-30T11:05:00.650Z"
   },
   {
    "duration": 21,
    "start_time": "2022-07-30T11:05:00.685Z"
   },
   {
    "duration": 44,
    "start_time": "2022-07-30T11:05:00.708Z"
   },
   {
    "duration": 36,
    "start_time": "2022-07-30T11:05:00.754Z"
   },
   {
    "duration": 51,
    "start_time": "2022-07-30T11:05:00.791Z"
   },
   {
    "duration": 22,
    "start_time": "2022-07-30T11:05:00.844Z"
   },
   {
    "duration": 44,
    "start_time": "2022-07-30T11:05:00.868Z"
   },
   {
    "duration": 30,
    "start_time": "2022-07-30T11:05:00.915Z"
   },
   {
    "duration": 33,
    "start_time": "2022-07-30T11:05:00.947Z"
   },
   {
    "duration": 37,
    "start_time": "2022-07-30T11:05:00.982Z"
   },
   {
    "duration": 33,
    "start_time": "2022-07-30T11:05:01.021Z"
   },
   {
    "duration": 28,
    "start_time": "2022-07-30T11:05:01.056Z"
   },
   {
    "duration": 39,
    "start_time": "2022-07-30T11:05:01.087Z"
   },
   {
    "duration": 35,
    "start_time": "2022-07-30T11:05:01.129Z"
   },
   {
    "duration": 42,
    "start_time": "2022-07-30T11:05:01.166Z"
   },
   {
    "duration": 29,
    "start_time": "2022-07-30T11:05:01.209Z"
   },
   {
    "duration": 45,
    "start_time": "2022-07-30T11:05:01.240Z"
   },
   {
    "duration": 72,
    "start_time": "2022-07-30T11:05:01.287Z"
   },
   {
    "duration": 461,
    "start_time": "2022-07-30T11:05:01.361Z"
   },
   {
    "duration": 10,
    "start_time": "2022-07-30T11:05:01.825Z"
   },
   {
    "duration": 33,
    "start_time": "2022-07-30T11:05:01.842Z"
   },
   {
    "duration": 528,
    "start_time": "2022-07-30T11:05:01.876Z"
   },
   {
    "duration": 23,
    "start_time": "2022-07-30T11:05:02.406Z"
   },
   {
    "duration": 9,
    "start_time": "2022-07-30T11:05:02.431Z"
   },
   {
    "duration": 20,
    "start_time": "2022-07-30T11:05:02.443Z"
   },
   {
    "duration": 22,
    "start_time": "2022-07-30T11:05:02.464Z"
   },
   {
    "duration": 21,
    "start_time": "2022-07-30T11:05:02.487Z"
   },
   {
    "duration": 15,
    "start_time": "2022-07-30T11:05:02.511Z"
   },
   {
    "duration": 46,
    "start_time": "2022-07-30T11:05:02.528Z"
   },
   {
    "duration": 541,
    "start_time": "2022-07-30T11:05:02.576Z"
   },
   {
    "duration": 11,
    "start_time": "2022-07-30T11:05:03.119Z"
   },
   {
    "duration": 20,
    "start_time": "2022-07-30T11:05:03.131Z"
   },
   {
    "duration": 17,
    "start_time": "2022-07-30T11:05:03.153Z"
   },
   {
    "duration": 35,
    "start_time": "2022-07-30T11:05:03.171Z"
   },
   {
    "duration": 12,
    "start_time": "2022-07-30T11:05:03.208Z"
   },
   {
    "duration": 21,
    "start_time": "2022-07-30T11:05:03.222Z"
   },
   {
    "duration": 165,
    "start_time": "2022-07-30T11:05:03.245Z"
   },
   {
    "duration": 9,
    "start_time": "2022-07-30T11:05:03.412Z"
   },
   {
    "duration": 156,
    "start_time": "2022-07-30T11:05:03.423Z"
   },
   {
    "duration": 3,
    "start_time": "2022-07-30T11:05:03.581Z"
   },
   {
    "duration": 25,
    "start_time": "2022-07-30T11:05:03.585Z"
   },
   {
    "duration": 38,
    "start_time": "2022-07-30T11:05:03.612Z"
   },
   {
    "duration": 26,
    "start_time": "2022-07-30T11:05:03.652Z"
   },
   {
    "duration": 3,
    "start_time": "2022-07-30T11:05:03.679Z"
   },
   {
    "duration": 10,
    "start_time": "2022-07-30T11:05:03.684Z"
   },
   {
    "duration": 91,
    "start_time": "2022-07-30T11:05:03.696Z"
   },
   {
    "duration": 19,
    "start_time": "2022-07-30T11:05:03.789Z"
   },
   {
    "duration": 17,
    "start_time": "2022-07-30T11:05:03.810Z"
   },
   {
    "duration": 20,
    "start_time": "2022-07-30T11:05:03.829Z"
   },
   {
    "duration": 6,
    "start_time": "2022-07-30T11:05:03.851Z"
   },
   {
    "duration": 15,
    "start_time": "2022-07-30T11:05:03.858Z"
   },
   {
    "duration": 13,
    "start_time": "2022-07-30T11:05:03.874Z"
   },
   {
    "duration": 19,
    "start_time": "2022-07-30T11:05:03.890Z"
   },
   {
    "duration": 20,
    "start_time": "2022-07-30T11:05:03.910Z"
   },
   {
    "duration": 315,
    "start_time": "2022-07-30T11:05:03.932Z"
   },
   {
    "duration": 167,
    "start_time": "2022-07-30T11:05:04.249Z"
   },
   {
    "duration": 215,
    "start_time": "2022-07-30T11:05:04.418Z"
   },
   {
    "duration": 184,
    "start_time": "2022-07-30T11:05:04.635Z"
   },
   {
    "duration": 150,
    "start_time": "2022-07-30T11:05:04.821Z"
   },
   {
    "duration": 9,
    "start_time": "2022-07-30T11:05:04.974Z"
   },
   {
    "duration": 20,
    "start_time": "2022-07-30T11:05:04.985Z"
   },
   {
    "duration": 62,
    "start_time": "2022-07-30T11:05:05.007Z"
   },
   {
    "duration": 51,
    "start_time": "2022-07-30T11:05:05.071Z"
   },
   {
    "duration": 32,
    "start_time": "2022-07-30T11:05:05.124Z"
   },
   {
    "duration": 31,
    "start_time": "2022-07-30T11:05:05.158Z"
   },
   {
    "duration": 15,
    "start_time": "2022-07-30T11:05:05.191Z"
   },
   {
    "duration": 407,
    "start_time": "2022-07-30T11:05:05.208Z"
   },
   {
    "duration": 314,
    "start_time": "2022-07-30T11:05:05.617Z"
   },
   {
    "duration": 326,
    "start_time": "2022-07-30T11:05:05.933Z"
   },
   {
    "duration": 387,
    "start_time": "2022-07-30T11:05:06.261Z"
   },
   {
    "duration": 393,
    "start_time": "2022-07-30T11:05:06.650Z"
   },
   {
    "duration": 285,
    "start_time": "2022-07-30T11:05:07.045Z"
   },
   {
    "duration": 298,
    "start_time": "2022-07-30T11:05:07.332Z"
   },
   {
    "duration": 295,
    "start_time": "2022-07-30T11:05:07.631Z"
   },
   {
    "duration": 332,
    "start_time": "2022-07-30T11:05:07.928Z"
   },
   {
    "duration": 329,
    "start_time": "2022-07-30T11:05:08.261Z"
   },
   {
    "duration": 13,
    "start_time": "2022-07-30T11:05:08.592Z"
   },
   {
    "duration": 400,
    "start_time": "2022-07-30T11:05:08.607Z"
   },
   {
    "duration": 309,
    "start_time": "2022-07-30T11:05:09.009Z"
   },
   {
    "duration": 1231,
    "start_time": "2022-07-30T11:08:45.865Z"
   },
   {
    "duration": 1046,
    "start_time": "2022-07-30T11:08:47.098Z"
   },
   {
    "duration": 14,
    "start_time": "2022-07-30T11:08:48.145Z"
   },
   {
    "duration": 14,
    "start_time": "2022-07-30T11:08:48.161Z"
   },
   {
    "duration": 10,
    "start_time": "2022-07-30T11:08:48.177Z"
   },
   {
    "duration": 18,
    "start_time": "2022-07-30T11:08:48.189Z"
   },
   {
    "duration": 9,
    "start_time": "2022-07-30T11:08:48.208Z"
   },
   {
    "duration": 56,
    "start_time": "2022-07-30T11:08:48.219Z"
   },
   {
    "duration": 28,
    "start_time": "2022-07-30T11:08:48.276Z"
   },
   {
    "duration": 10,
    "start_time": "2022-07-30T11:08:48.307Z"
   },
   {
    "duration": 118,
    "start_time": "2022-07-30T11:08:48.318Z"
   },
   {
    "duration": 70,
    "start_time": "2022-07-30T11:08:48.438Z"
   },
   {
    "duration": 62,
    "start_time": "2022-07-30T11:08:48.510Z"
   },
   {
    "duration": 5,
    "start_time": "2022-07-30T11:08:48.573Z"
   },
   {
    "duration": 25,
    "start_time": "2022-07-30T11:08:48.580Z"
   },
   {
    "duration": 7,
    "start_time": "2022-07-30T11:08:48.606Z"
   },
   {
    "duration": 12,
    "start_time": "2022-07-30T11:08:48.615Z"
   },
   {
    "duration": 31,
    "start_time": "2022-07-30T11:08:48.629Z"
   },
   {
    "duration": 4,
    "start_time": "2022-07-30T11:08:48.661Z"
   },
   {
    "duration": 5,
    "start_time": "2022-07-30T11:08:48.667Z"
   },
   {
    "duration": 38,
    "start_time": "2022-07-30T11:08:48.673Z"
   },
   {
    "duration": 34,
    "start_time": "2022-07-30T11:08:48.713Z"
   },
   {
    "duration": 571,
    "start_time": "2022-07-30T11:08:48.748Z"
   },
   {
    "duration": 5,
    "start_time": "2022-07-30T11:08:49.321Z"
   },
   {
    "duration": 19,
    "start_time": "2022-07-30T11:08:49.327Z"
   },
   {
    "duration": 61,
    "start_time": "2022-07-30T11:08:49.348Z"
   },
   {
    "duration": 16,
    "start_time": "2022-07-30T11:08:49.411Z"
   },
   {
    "duration": 175,
    "start_time": "2022-07-30T11:08:49.431Z"
   },
   {
    "duration": 43,
    "start_time": "2022-07-30T11:08:49.607Z"
   },
   {
    "duration": 6,
    "start_time": "2022-07-30T11:08:49.703Z"
   },
   {
    "duration": 14,
    "start_time": "2022-07-30T11:08:49.710Z"
   },
   {
    "duration": 13,
    "start_time": "2022-07-30T11:08:49.726Z"
   },
   {
    "duration": 6,
    "start_time": "2022-07-30T11:08:49.741Z"
   },
   {
    "duration": 5,
    "start_time": "2022-07-30T11:08:49.748Z"
   },
   {
    "duration": 241,
    "start_time": "2022-07-30T11:08:49.804Z"
   },
   {
    "duration": 87,
    "start_time": "2022-07-30T11:08:50.047Z"
   },
   {
    "duration": 76,
    "start_time": "2022-07-30T11:08:50.140Z"
   },
   {
    "duration": 5,
    "start_time": "2022-07-30T11:08:50.218Z"
   },
   {
    "duration": 9,
    "start_time": "2022-07-30T11:08:50.225Z"
   },
   {
    "duration": 14,
    "start_time": "2022-07-30T11:08:50.236Z"
   },
   {
    "duration": 53,
    "start_time": "2022-07-30T11:08:50.252Z"
   },
   {
    "duration": 12,
    "start_time": "2022-07-30T11:08:50.307Z"
   },
   {
    "duration": 86,
    "start_time": "2022-07-30T11:08:50.321Z"
   },
   {
    "duration": 23,
    "start_time": "2022-07-30T11:08:50.409Z"
   },
   {
    "duration": 89,
    "start_time": "2022-07-30T11:08:50.433Z"
   },
   {
    "duration": 6,
    "start_time": "2022-07-30T11:08:50.524Z"
   },
   {
    "duration": 74,
    "start_time": "2022-07-30T11:08:50.532Z"
   },
   {
    "duration": 7,
    "start_time": "2022-07-30T11:08:50.608Z"
   },
   {
    "duration": 407,
    "start_time": "2022-07-30T11:08:50.617Z"
   },
   {
    "duration": 12,
    "start_time": "2022-07-30T11:08:51.026Z"
   },
   {
    "duration": 69,
    "start_time": "2022-07-30T11:08:51.040Z"
   },
   {
    "duration": 59,
    "start_time": "2022-07-30T11:08:51.110Z"
   },
   {
    "duration": 16,
    "start_time": "2022-07-30T11:08:51.170Z"
   },
   {
    "duration": 5,
    "start_time": "2022-07-30T11:08:51.187Z"
   },
   {
    "duration": 19,
    "start_time": "2022-07-30T11:08:51.194Z"
   },
   {
    "duration": 6,
    "start_time": "2022-07-30T11:08:51.215Z"
   },
   {
    "duration": 29,
    "start_time": "2022-07-30T11:08:51.222Z"
   },
   {
    "duration": 22,
    "start_time": "2022-07-30T11:08:51.253Z"
   },
   {
    "duration": 5,
    "start_time": "2022-07-30T11:08:51.277Z"
   },
   {
    "duration": 7,
    "start_time": "2022-07-30T11:08:51.284Z"
   },
   {
    "duration": 9,
    "start_time": "2022-07-30T11:08:51.293Z"
   },
   {
    "duration": 7,
    "start_time": "2022-07-30T11:08:51.303Z"
   },
   {
    "duration": 9,
    "start_time": "2022-07-30T11:08:51.312Z"
   },
   {
    "duration": 13,
    "start_time": "2022-07-30T11:08:51.322Z"
   },
   {
    "duration": 17,
    "start_time": "2022-07-30T11:08:51.336Z"
   },
   {
    "duration": 13,
    "start_time": "2022-07-30T11:08:51.355Z"
   },
   {
    "duration": 44,
    "start_time": "2022-07-30T11:08:51.370Z"
   },
   {
    "duration": 6,
    "start_time": "2022-07-30T11:08:51.416Z"
   },
   {
    "duration": 14,
    "start_time": "2022-07-30T11:08:51.424Z"
   },
   {
    "duration": 23,
    "start_time": "2022-07-30T11:08:51.439Z"
   },
   {
    "duration": 55,
    "start_time": "2022-07-30T11:08:51.464Z"
   },
   {
    "duration": 14,
    "start_time": "2022-07-30T11:08:51.521Z"
   },
   {
    "duration": 5,
    "start_time": "2022-07-30T11:08:51.537Z"
   },
   {
    "duration": 13,
    "start_time": "2022-07-30T11:08:51.543Z"
   },
   {
    "duration": 3,
    "start_time": "2022-07-30T11:08:51.557Z"
   },
   {
    "duration": 7,
    "start_time": "2022-07-30T11:08:51.562Z"
   },
   {
    "duration": 24,
    "start_time": "2022-07-30T11:08:51.603Z"
   },
   {
    "duration": 21,
    "start_time": "2022-07-30T11:08:51.629Z"
   },
   {
    "duration": 462,
    "start_time": "2022-07-30T11:08:51.651Z"
   },
   {
    "duration": 10,
    "start_time": "2022-07-30T11:08:52.114Z"
   },
   {
    "duration": 32,
    "start_time": "2022-07-30T11:08:52.126Z"
   },
   {
    "duration": 483,
    "start_time": "2022-07-30T11:08:52.165Z"
   },
   {
    "duration": 20,
    "start_time": "2022-07-30T11:08:52.650Z"
   },
   {
    "duration": 9,
    "start_time": "2022-07-30T11:08:52.671Z"
   },
   {
    "duration": 27,
    "start_time": "2022-07-30T11:08:52.681Z"
   },
   {
    "duration": 9,
    "start_time": "2022-07-30T11:08:52.709Z"
   },
   {
    "duration": 5,
    "start_time": "2022-07-30T11:08:52.719Z"
   },
   {
    "duration": 9,
    "start_time": "2022-07-30T11:08:52.726Z"
   },
   {
    "duration": 21,
    "start_time": "2022-07-30T11:08:52.737Z"
   },
   {
    "duration": 502,
    "start_time": "2022-07-30T11:08:52.759Z"
   },
   {
    "duration": 10,
    "start_time": "2022-07-30T11:08:53.263Z"
   },
   {
    "duration": 32,
    "start_time": "2022-07-30T11:08:53.275Z"
   },
   {
    "duration": 15,
    "start_time": "2022-07-30T11:08:53.309Z"
   },
   {
    "duration": 3,
    "start_time": "2022-07-30T11:08:53.325Z"
   },
   {
    "duration": 13,
    "start_time": "2022-07-30T11:08:53.329Z"
   },
   {
    "duration": 10,
    "start_time": "2022-07-30T11:08:53.344Z"
   },
   {
    "duration": 160,
    "start_time": "2022-07-30T11:08:53.355Z"
   },
   {
    "duration": 7,
    "start_time": "2022-07-30T11:08:53.517Z"
   },
   {
    "duration": 147,
    "start_time": "2022-07-30T11:08:53.525Z"
   },
   {
    "duration": 2,
    "start_time": "2022-07-30T11:08:53.674Z"
   },
   {
    "duration": 8,
    "start_time": "2022-07-30T11:08:53.678Z"
   },
   {
    "duration": 31,
    "start_time": "2022-07-30T11:08:53.687Z"
   },
   {
    "duration": 23,
    "start_time": "2022-07-30T11:08:53.720Z"
   },
   {
    "duration": 3,
    "start_time": "2022-07-30T11:08:53.745Z"
   },
   {
    "duration": 4,
    "start_time": "2022-07-30T11:08:53.750Z"
   },
   {
    "duration": 121,
    "start_time": "2022-07-30T11:08:53.756Z"
   },
   {
    "duration": 13,
    "start_time": "2022-07-30T11:08:53.879Z"
   },
   {
    "duration": 23,
    "start_time": "2022-07-30T11:08:53.894Z"
   },
   {
    "duration": 15,
    "start_time": "2022-07-30T11:08:53.919Z"
   },
   {
    "duration": 5,
    "start_time": "2022-07-30T11:08:53.936Z"
   },
   {
    "duration": 8,
    "start_time": "2022-07-30T11:08:53.943Z"
   },
   {
    "duration": 6,
    "start_time": "2022-07-30T11:08:53.953Z"
   },
   {
    "duration": 8,
    "start_time": "2022-07-30T11:08:53.961Z"
   },
   {
    "duration": 6,
    "start_time": "2022-07-30T11:08:54.004Z"
   },
   {
    "duration": 295,
    "start_time": "2022-07-30T11:08:54.011Z"
   },
   {
    "duration": 150,
    "start_time": "2022-07-30T11:08:54.307Z"
   },
   {
    "duration": 193,
    "start_time": "2022-07-30T11:08:54.458Z"
   },
   {
    "duration": 163,
    "start_time": "2022-07-30T11:08:54.652Z"
   },
   {
    "duration": 135,
    "start_time": "2022-07-30T11:08:54.817Z"
   },
   {
    "duration": 7,
    "start_time": "2022-07-30T11:08:54.954Z"
   },
   {
    "duration": 10,
    "start_time": "2022-07-30T11:08:54.963Z"
   },
   {
    "duration": 12,
    "start_time": "2022-07-30T11:08:54.974Z"
   },
   {
    "duration": 20,
    "start_time": "2022-07-30T11:08:54.987Z"
   },
   {
    "duration": 8,
    "start_time": "2022-07-30T11:08:55.009Z"
   },
   {
    "duration": 15,
    "start_time": "2022-07-30T11:08:55.019Z"
   },
   {
    "duration": 9,
    "start_time": "2022-07-30T11:08:55.036Z"
   },
   {
    "duration": 390,
    "start_time": "2022-07-30T11:08:55.047Z"
   },
   {
    "duration": 314,
    "start_time": "2022-07-30T11:08:55.439Z"
   },
   {
    "duration": 303,
    "start_time": "2022-07-30T11:08:55.755Z"
   },
   {
    "duration": 327,
    "start_time": "2022-07-30T11:08:56.059Z"
   },
   {
    "duration": 351,
    "start_time": "2022-07-30T11:08:56.387Z"
   },
   {
    "duration": 298,
    "start_time": "2022-07-30T11:08:56.740Z"
   },
   {
    "duration": 303,
    "start_time": "2022-07-30T11:08:57.040Z"
   },
   {
    "duration": 281,
    "start_time": "2022-07-30T11:08:57.345Z"
   },
   {
    "duration": 308,
    "start_time": "2022-07-30T11:08:57.628Z"
   },
   {
    "duration": 311,
    "start_time": "2022-07-30T11:08:57.938Z"
   },
   {
    "duration": 7,
    "start_time": "2022-07-30T11:08:58.251Z"
   },
   {
    "duration": 366,
    "start_time": "2022-07-30T11:08:58.260Z"
   },
   {
    "duration": 295,
    "start_time": "2022-07-30T11:08:58.628Z"
   },
   {
    "duration": 162,
    "start_time": "2022-07-30T11:12:05.122Z"
   },
   {
    "duration": 158,
    "start_time": "2022-07-30T11:12:33.093Z"
   },
   {
    "duration": 1162,
    "start_time": "2022-07-30T11:12:38.735Z"
   },
   {
    "duration": 1110,
    "start_time": "2022-07-30T11:12:39.899Z"
   },
   {
    "duration": 13,
    "start_time": "2022-07-30T11:12:41.010Z"
   },
   {
    "duration": 13,
    "start_time": "2022-07-30T11:12:41.025Z"
   },
   {
    "duration": 11,
    "start_time": "2022-07-30T11:12:41.040Z"
   },
   {
    "duration": 20,
    "start_time": "2022-07-30T11:12:41.052Z"
   },
   {
    "duration": 32,
    "start_time": "2022-07-30T11:12:41.073Z"
   },
   {
    "duration": 58,
    "start_time": "2022-07-30T11:12:41.107Z"
   },
   {
    "duration": 8,
    "start_time": "2022-07-30T11:12:41.167Z"
   },
   {
    "duration": 30,
    "start_time": "2022-07-30T11:12:41.178Z"
   },
   {
    "duration": 102,
    "start_time": "2022-07-30T11:12:41.210Z"
   },
   {
    "duration": 59,
    "start_time": "2022-07-30T11:12:41.314Z"
   },
   {
    "duration": 73,
    "start_time": "2022-07-30T11:12:41.375Z"
   },
   {
    "duration": 6,
    "start_time": "2022-07-30T11:12:41.450Z"
   },
   {
    "duration": 7,
    "start_time": "2022-07-30T11:12:41.458Z"
   },
   {
    "duration": 8,
    "start_time": "2022-07-30T11:12:41.466Z"
   },
   {
    "duration": 31,
    "start_time": "2022-07-30T11:12:41.476Z"
   },
   {
    "duration": 26,
    "start_time": "2022-07-30T11:12:41.508Z"
   },
   {
    "duration": 5,
    "start_time": "2022-07-30T11:12:41.535Z"
   },
   {
    "duration": 5,
    "start_time": "2022-07-30T11:12:41.542Z"
   },
   {
    "duration": 11,
    "start_time": "2022-07-30T11:12:41.549Z"
   },
   {
    "duration": 66,
    "start_time": "2022-07-30T11:12:41.561Z"
   },
   {
    "duration": 294,
    "start_time": "2022-07-30T11:12:41.629Z"
   },
   {
    "duration": 7,
    "start_time": "2022-07-30T11:12:41.925Z"
   },
   {
    "duration": 25,
    "start_time": "2022-07-30T11:12:41.934Z"
   },
   {
    "duration": 62,
    "start_time": "2022-07-30T11:12:41.961Z"
   },
   {
    "duration": 38,
    "start_time": "2022-07-30T11:12:42.025Z"
   },
   {
    "duration": 94,
    "start_time": "2022-07-30T11:12:42.068Z"
   },
   {
    "duration": 95,
    "start_time": "2022-07-30T11:12:42.164Z"
   },
   {
    "duration": 5,
    "start_time": "2022-07-30T11:12:42.260Z"
   },
   {
    "duration": 37,
    "start_time": "2022-07-30T11:12:42.267Z"
   },
   {
    "duration": 17,
    "start_time": "2022-07-30T11:12:42.306Z"
   },
   {
    "duration": 12,
    "start_time": "2022-07-30T11:12:42.325Z"
   },
   {
    "duration": 9,
    "start_time": "2022-07-30T11:12:42.339Z"
   },
   {
    "duration": 166,
    "start_time": "2022-07-30T11:12:42.350Z"
   },
   {
    "duration": 35,
    "start_time": "2022-07-30T11:12:42.518Z"
   },
   {
    "duration": 17,
    "start_time": "2022-07-30T11:12:42.555Z"
   },
   {
    "duration": 5,
    "start_time": "2022-07-30T11:12:42.573Z"
   },
   {
    "duration": 32,
    "start_time": "2022-07-30T11:12:42.579Z"
   },
   {
    "duration": 6,
    "start_time": "2022-07-30T11:12:42.613Z"
   },
   {
    "duration": 12,
    "start_time": "2022-07-30T11:12:42.621Z"
   },
   {
    "duration": 13,
    "start_time": "2022-07-30T11:12:42.634Z"
   },
   {
    "duration": 32,
    "start_time": "2022-07-30T11:12:42.649Z"
   },
   {
    "duration": 41,
    "start_time": "2022-07-30T11:12:42.682Z"
   },
   {
    "duration": 30,
    "start_time": "2022-07-30T11:12:42.725Z"
   },
   {
    "duration": 9,
    "start_time": "2022-07-30T11:12:42.757Z"
   },
   {
    "duration": 40,
    "start_time": "2022-07-30T11:12:42.768Z"
   },
   {
    "duration": 7,
    "start_time": "2022-07-30T11:12:42.810Z"
   },
   {
    "duration": 339,
    "start_time": "2022-07-30T11:12:42.818Z"
   },
   {
    "duration": 13,
    "start_time": "2022-07-30T11:12:43.158Z"
   },
   {
    "duration": 12,
    "start_time": "2022-07-30T11:12:43.173Z"
   },
   {
    "duration": 31,
    "start_time": "2022-07-30T11:12:43.186Z"
   },
   {
    "duration": 15,
    "start_time": "2022-07-30T11:12:43.218Z"
   },
   {
    "duration": 4,
    "start_time": "2022-07-30T11:12:43.234Z"
   },
   {
    "duration": 6,
    "start_time": "2022-07-30T11:12:43.239Z"
   },
   {
    "duration": 4,
    "start_time": "2022-07-30T11:12:43.246Z"
   },
   {
    "duration": 4,
    "start_time": "2022-07-30T11:12:43.252Z"
   },
   {
    "duration": 50,
    "start_time": "2022-07-30T11:12:43.258Z"
   },
   {
    "duration": 6,
    "start_time": "2022-07-30T11:12:43.310Z"
   },
   {
    "duration": 11,
    "start_time": "2022-07-30T11:12:43.318Z"
   },
   {
    "duration": 10,
    "start_time": "2022-07-30T11:12:43.330Z"
   },
   {
    "duration": 5,
    "start_time": "2022-07-30T11:12:43.341Z"
   },
   {
    "duration": 8,
    "start_time": "2022-07-30T11:12:43.348Z"
   },
   {
    "duration": 15,
    "start_time": "2022-07-30T11:12:43.358Z"
   },
   {
    "duration": 17,
    "start_time": "2022-07-30T11:12:43.404Z"
   },
   {
    "duration": 14,
    "start_time": "2022-07-30T11:12:43.423Z"
   },
   {
    "duration": 17,
    "start_time": "2022-07-30T11:12:43.438Z"
   },
   {
    "duration": 7,
    "start_time": "2022-07-30T11:12:43.457Z"
   },
   {
    "duration": 44,
    "start_time": "2022-07-30T11:12:43.465Z"
   },
   {
    "duration": 27,
    "start_time": "2022-07-30T11:12:43.510Z"
   },
   {
    "duration": 30,
    "start_time": "2022-07-30T11:12:43.539Z"
   },
   {
    "duration": 38,
    "start_time": "2022-07-30T11:12:43.570Z"
   },
   {
    "duration": 5,
    "start_time": "2022-07-30T11:12:43.609Z"
   },
   {
    "duration": 14,
    "start_time": "2022-07-30T11:12:43.616Z"
   },
   {
    "duration": 3,
    "start_time": "2022-07-30T11:12:43.631Z"
   },
   {
    "duration": 9,
    "start_time": "2022-07-30T11:12:43.635Z"
   },
   {
    "duration": 28,
    "start_time": "2022-07-30T11:12:43.645Z"
   },
   {
    "duration": 24,
    "start_time": "2022-07-30T11:12:43.703Z"
   },
   {
    "duration": 538,
    "start_time": "2022-07-30T11:12:43.728Z"
   },
   {
    "duration": 10,
    "start_time": "2022-07-30T11:12:44.268Z"
   },
   {
    "duration": 51,
    "start_time": "2022-07-30T11:12:44.280Z"
   },
   {
    "duration": 524,
    "start_time": "2022-07-30T11:12:44.339Z"
   },
   {
    "duration": 21,
    "start_time": "2022-07-30T11:12:44.865Z"
   },
   {
    "duration": 21,
    "start_time": "2022-07-30T11:12:44.888Z"
   },
   {
    "duration": 12,
    "start_time": "2022-07-30T11:12:44.911Z"
   },
   {
    "duration": 6,
    "start_time": "2022-07-30T11:12:44.924Z"
   },
   {
    "duration": 6,
    "start_time": "2022-07-30T11:12:44.931Z"
   },
   {
    "duration": 8,
    "start_time": "2022-07-30T11:12:44.939Z"
   },
   {
    "duration": 22,
    "start_time": "2022-07-30T11:12:44.948Z"
   },
   {
    "duration": 1033,
    "start_time": "2022-07-30T11:12:44.971Z"
   },
   {
    "duration": 10,
    "start_time": "2022-07-30T11:12:46.006Z"
   },
   {
    "duration": 21,
    "start_time": "2022-07-30T11:12:46.018Z"
   },
   {
    "duration": 69,
    "start_time": "2022-07-30T11:12:46.041Z"
   },
   {
    "duration": 5,
    "start_time": "2022-07-30T11:12:46.111Z"
   },
   {
    "duration": 28,
    "start_time": "2022-07-30T11:12:46.118Z"
   },
   {
    "duration": 61,
    "start_time": "2022-07-30T11:12:46.149Z"
   },
   {
    "duration": 415,
    "start_time": "2022-07-30T11:12:46.212Z"
   },
   {
    "duration": 11,
    "start_time": "2022-07-30T11:12:46.630Z"
   },
   {
    "duration": 479,
    "start_time": "2022-07-30T11:12:46.644Z"
   },
   {
    "duration": 3,
    "start_time": "2022-07-30T11:12:47.125Z"
   },
   {
    "duration": 12,
    "start_time": "2022-07-30T11:12:47.132Z"
   },
   {
    "duration": 76,
    "start_time": "2022-07-30T11:12:47.147Z"
   },
   {
    "duration": 33,
    "start_time": "2022-07-30T11:12:47.225Z"
   },
   {
    "duration": 2,
    "start_time": "2022-07-30T11:12:47.260Z"
   },
   {
    "duration": 3,
    "start_time": "2022-07-30T11:12:47.303Z"
   },
   {
    "duration": 119,
    "start_time": "2022-07-30T11:12:47.308Z"
   },
   {
    "duration": 59,
    "start_time": "2022-07-30T11:12:47.429Z"
   },
   {
    "duration": 18,
    "start_time": "2022-07-30T11:12:47.490Z"
   },
   {
    "duration": 40,
    "start_time": "2022-07-30T11:12:47.510Z"
   },
   {
    "duration": 7,
    "start_time": "2022-07-30T11:12:47.552Z"
   },
   {
    "duration": 46,
    "start_time": "2022-07-30T11:12:47.562Z"
   },
   {
    "duration": 29,
    "start_time": "2022-07-30T11:12:47.610Z"
   },
   {
    "duration": 18,
    "start_time": "2022-07-30T11:12:47.641Z"
   },
   {
    "duration": 25,
    "start_time": "2022-07-30T11:12:47.661Z"
   },
   {
    "duration": 483,
    "start_time": "2022-07-30T11:12:47.688Z"
   },
   {
    "duration": 159,
    "start_time": "2022-07-30T11:12:48.203Z"
   },
   {
    "duration": 206,
    "start_time": "2022-07-30T11:12:48.364Z"
   },
   {
    "duration": 160,
    "start_time": "2022-07-30T11:12:48.572Z"
   },
   {
    "duration": 137,
    "start_time": "2022-07-30T11:12:48.734Z"
   },
   {
    "duration": 9,
    "start_time": "2022-07-30T11:12:48.872Z"
   },
   {
    "duration": 9,
    "start_time": "2022-07-30T11:12:48.882Z"
   },
   {
    "duration": 19,
    "start_time": "2022-07-30T11:12:48.892Z"
   },
   {
    "duration": 8,
    "start_time": "2022-07-30T11:12:48.913Z"
   },
   {
    "duration": 9,
    "start_time": "2022-07-30T11:12:48.922Z"
   },
   {
    "duration": 12,
    "start_time": "2022-07-30T11:12:48.932Z"
   },
   {
    "duration": 9,
    "start_time": "2022-07-30T11:12:48.945Z"
   },
   {
    "duration": 442,
    "start_time": "2022-07-30T11:12:48.956Z"
   },
   {
    "duration": 332,
    "start_time": "2022-07-30T11:12:49.400Z"
   },
   {
    "duration": 313,
    "start_time": "2022-07-30T11:12:49.733Z"
   },
   {
    "duration": 328,
    "start_time": "2022-07-30T11:12:50.047Z"
   },
   {
    "duration": 340,
    "start_time": "2022-07-30T11:12:50.377Z"
   },
   {
    "duration": 307,
    "start_time": "2022-07-30T11:12:50.719Z"
   },
   {
    "duration": 315,
    "start_time": "2022-07-30T11:12:51.028Z"
   },
   {
    "duration": 398,
    "start_time": "2022-07-30T11:12:51.345Z"
   },
   {
    "duration": 566,
    "start_time": "2022-07-30T11:12:51.745Z"
   },
   {
    "duration": 511,
    "start_time": "2022-07-30T11:12:52.313Z"
   },
   {
    "duration": 7,
    "start_time": "2022-07-30T11:12:52.825Z"
   },
   {
    "duration": 587,
    "start_time": "2022-07-30T11:12:52.834Z"
   },
   {
    "duration": 440,
    "start_time": "2022-07-30T11:12:53.423Z"
   },
   {
    "duration": 60,
    "start_time": "2022-07-31T15:45:28.924Z"
   },
   {
    "duration": 1477,
    "start_time": "2022-07-31T15:45:37.847Z"
   },
   {
    "duration": 1553,
    "start_time": "2022-07-31T15:45:39.326Z"
   },
   {
    "duration": 17,
    "start_time": "2022-07-31T15:45:40.880Z"
   },
   {
    "duration": 31,
    "start_time": "2022-07-31T15:45:40.902Z"
   },
   {
    "duration": 9,
    "start_time": "2022-07-31T15:45:40.935Z"
   },
   {
    "duration": 17,
    "start_time": "2022-07-31T15:45:40.945Z"
   },
   {
    "duration": 7,
    "start_time": "2022-07-31T15:45:40.964Z"
   },
   {
    "duration": 110,
    "start_time": "2022-07-31T15:45:40.973Z"
   },
   {
    "duration": 7,
    "start_time": "2022-07-31T15:45:41.085Z"
   },
   {
    "duration": 32,
    "start_time": "2022-07-31T15:45:41.095Z"
   },
   {
    "duration": 108,
    "start_time": "2022-07-31T15:45:41.129Z"
   },
   {
    "duration": 69,
    "start_time": "2022-07-31T15:45:41.239Z"
   },
   {
    "duration": 53,
    "start_time": "2022-07-31T15:45:41.316Z"
   },
   {
    "duration": 20,
    "start_time": "2022-07-31T15:45:41.370Z"
   },
   {
    "duration": 40,
    "start_time": "2022-07-31T15:45:41.393Z"
   },
   {
    "duration": 14,
    "start_time": "2022-07-31T15:45:41.436Z"
   },
   {
    "duration": 36,
    "start_time": "2022-07-31T15:45:41.453Z"
   },
   {
    "duration": 70,
    "start_time": "2022-07-31T15:45:41.491Z"
   },
   {
    "duration": 29,
    "start_time": "2022-07-31T15:45:41.562Z"
   },
   {
    "duration": 53,
    "start_time": "2022-07-31T15:45:41.595Z"
   },
   {
    "duration": 13,
    "start_time": "2022-07-31T15:45:41.650Z"
   },
   {
    "duration": 61,
    "start_time": "2022-07-31T15:45:41.665Z"
   },
   {
    "duration": 359,
    "start_time": "2022-07-31T15:45:41.728Z"
   },
   {
    "duration": 7,
    "start_time": "2022-07-31T15:45:42.089Z"
   },
   {
    "duration": 45,
    "start_time": "2022-07-31T15:45:42.097Z"
   },
   {
    "duration": 13,
    "start_time": "2022-07-31T15:45:42.143Z"
   },
   {
    "duration": 13,
    "start_time": "2022-07-31T15:45:42.158Z"
   },
   {
    "duration": 88,
    "start_time": "2022-07-31T15:45:42.175Z"
   },
   {
    "duration": 84,
    "start_time": "2022-07-31T15:45:42.264Z"
   },
   {
    "duration": 4,
    "start_time": "2022-07-31T15:45:42.350Z"
   },
   {
    "duration": 25,
    "start_time": "2022-07-31T15:45:42.356Z"
   },
   {
    "duration": 43,
    "start_time": "2022-07-31T15:45:42.386Z"
   },
   {
    "duration": 6,
    "start_time": "2022-07-31T15:45:42.430Z"
   },
   {
    "duration": 7,
    "start_time": "2022-07-31T15:45:42.437Z"
   },
   {
    "duration": 134,
    "start_time": "2022-07-31T15:45:42.445Z"
   },
   {
    "duration": 42,
    "start_time": "2022-07-31T15:45:42.581Z"
   },
   {
    "duration": 42,
    "start_time": "2022-07-31T15:45:42.625Z"
   },
   {
    "duration": 14,
    "start_time": "2022-07-31T15:45:42.668Z"
   },
   {
    "duration": 37,
    "start_time": "2022-07-31T15:45:42.684Z"
   },
   {
    "duration": 17,
    "start_time": "2022-07-31T15:45:42.723Z"
   },
   {
    "duration": 23,
    "start_time": "2022-07-31T15:45:42.741Z"
   },
   {
    "duration": 64,
    "start_time": "2022-07-31T15:45:42.765Z"
   },
   {
    "duration": 35,
    "start_time": "2022-07-31T15:45:42.831Z"
   },
   {
    "duration": 37,
    "start_time": "2022-07-31T15:45:42.868Z"
   },
   {
    "duration": 60,
    "start_time": "2022-07-31T15:45:42.912Z"
   },
   {
    "duration": 11,
    "start_time": "2022-07-31T15:45:42.974Z"
   },
   {
    "duration": 67,
    "start_time": "2022-07-31T15:45:42.992Z"
   },
   {
    "duration": 70,
    "start_time": "2022-07-31T15:45:43.061Z"
   },
   {
    "duration": 361,
    "start_time": "2022-07-31T15:45:43.133Z"
   },
   {
    "duration": 18,
    "start_time": "2022-07-31T15:45:43.496Z"
   },
   {
    "duration": 23,
    "start_time": "2022-07-31T15:45:43.515Z"
   },
   {
    "duration": 32,
    "start_time": "2022-07-31T15:45:43.539Z"
   },
   {
    "duration": 80,
    "start_time": "2022-07-31T15:45:43.572Z"
   },
   {
    "duration": 53,
    "start_time": "2022-07-31T15:45:43.654Z"
   },
   {
    "duration": 24,
    "start_time": "2022-07-31T15:45:43.708Z"
   },
   {
    "duration": 23,
    "start_time": "2022-07-31T15:45:43.734Z"
   },
   {
    "duration": 65,
    "start_time": "2022-07-31T15:45:43.759Z"
   },
   {
    "duration": 24,
    "start_time": "2022-07-31T15:45:43.826Z"
   },
   {
    "duration": 61,
    "start_time": "2022-07-31T15:45:43.851Z"
   },
   {
    "duration": 16,
    "start_time": "2022-07-31T15:45:43.913Z"
   },
   {
    "duration": 29,
    "start_time": "2022-07-31T15:45:43.930Z"
   },
   {
    "duration": 17,
    "start_time": "2022-07-31T15:45:43.960Z"
   },
   {
    "duration": 59,
    "start_time": "2022-07-31T15:45:43.978Z"
   },
   {
    "duration": 49,
    "start_time": "2022-07-31T15:45:44.039Z"
   },
   {
    "duration": 52,
    "start_time": "2022-07-31T15:45:44.094Z"
   },
   {
    "duration": 23,
    "start_time": "2022-07-31T15:45:44.148Z"
   },
   {
    "duration": 71,
    "start_time": "2022-07-31T15:45:44.173Z"
   },
   {
    "duration": 17,
    "start_time": "2022-07-31T15:45:44.246Z"
   },
   {
    "duration": 73,
    "start_time": "2022-07-31T15:45:44.265Z"
   },
   {
    "duration": 34,
    "start_time": "2022-07-31T15:45:44.339Z"
   },
   {
    "duration": 30,
    "start_time": "2022-07-31T15:45:44.374Z"
   },
   {
    "duration": 31,
    "start_time": "2022-07-31T15:45:44.406Z"
   },
   {
    "duration": 20,
    "start_time": "2022-07-31T15:45:44.439Z"
   },
   {
    "duration": 64,
    "start_time": "2022-07-31T15:45:44.460Z"
   },
   {
    "duration": 17,
    "start_time": "2022-07-31T15:45:44.525Z"
   },
   {
    "duration": 9,
    "start_time": "2022-07-31T15:45:44.543Z"
   },
   {
    "duration": 61,
    "start_time": "2022-07-31T15:45:44.553Z"
   },
   {
    "duration": 40,
    "start_time": "2022-07-31T15:45:44.616Z"
   },
   {
    "duration": 465,
    "start_time": "2022-07-31T15:45:44.657Z"
   },
   {
    "duration": 12,
    "start_time": "2022-07-31T15:45:45.124Z"
   },
   {
    "duration": 48,
    "start_time": "2022-07-31T15:45:45.138Z"
   },
   {
    "duration": 447,
    "start_time": "2022-07-31T15:45:45.200Z"
   },
   {
    "duration": 36,
    "start_time": "2022-07-31T15:45:45.649Z"
   },
   {
    "duration": 34,
    "start_time": "2022-07-31T15:45:45.686Z"
   },
   {
    "duration": 20,
    "start_time": "2022-07-31T15:45:45.721Z"
   },
   {
    "duration": 13,
    "start_time": "2022-07-31T15:45:45.742Z"
   },
   {
    "duration": 67,
    "start_time": "2022-07-31T15:45:45.756Z"
   },
   {
    "duration": 10,
    "start_time": "2022-07-31T15:45:45.824Z"
   },
   {
    "duration": 36,
    "start_time": "2022-07-31T15:45:45.835Z"
   },
   {
    "duration": 460,
    "start_time": "2022-07-31T15:45:45.872Z"
   },
   {
    "duration": 8,
    "start_time": "2022-07-31T15:45:46.333Z"
   },
   {
    "duration": 75,
    "start_time": "2022-07-31T15:45:46.343Z"
   },
   {
    "duration": 18,
    "start_time": "2022-07-31T15:45:46.420Z"
   },
   {
    "duration": 8,
    "start_time": "2022-07-31T15:45:46.439Z"
   },
   {
    "duration": 59,
    "start_time": "2022-07-31T15:45:46.448Z"
   },
   {
    "duration": 12,
    "start_time": "2022-07-31T15:45:46.510Z"
   },
   {
    "duration": 142,
    "start_time": "2022-07-31T15:45:46.524Z"
   },
   {
    "duration": 20,
    "start_time": "2022-07-31T15:45:46.667Z"
   },
   {
    "duration": 169,
    "start_time": "2022-07-31T15:45:46.692Z"
   },
   {
    "duration": 2,
    "start_time": "2022-07-31T15:45:46.862Z"
   },
   {
    "duration": 5,
    "start_time": "2022-07-31T15:45:46.866Z"
   },
   {
    "duration": 58,
    "start_time": "2022-07-31T15:45:46.872Z"
   },
   {
    "duration": 18,
    "start_time": "2022-07-31T15:45:46.931Z"
   },
   {
    "duration": 2,
    "start_time": "2022-07-31T15:45:46.950Z"
   },
   {
    "duration": 5,
    "start_time": "2022-07-31T15:45:46.954Z"
   },
   {
    "duration": 96,
    "start_time": "2022-07-31T15:45:46.961Z"
   },
   {
    "duration": 12,
    "start_time": "2022-07-31T15:45:47.058Z"
   },
   {
    "duration": 41,
    "start_time": "2022-07-31T15:45:47.079Z"
   },
   {
    "duration": 19,
    "start_time": "2022-07-31T15:45:47.122Z"
   },
   {
    "duration": 6,
    "start_time": "2022-07-31T15:45:47.143Z"
   },
   {
    "duration": 17,
    "start_time": "2022-07-31T15:45:47.151Z"
   },
   {
    "duration": 58,
    "start_time": "2022-07-31T15:45:47.170Z"
   },
   {
    "duration": 7,
    "start_time": "2022-07-31T15:45:47.230Z"
   },
   {
    "duration": 8,
    "start_time": "2022-07-31T15:45:47.239Z"
   },
   {
    "duration": 267,
    "start_time": "2022-07-31T15:45:47.249Z"
   },
   {
    "duration": 134,
    "start_time": "2022-07-31T15:45:47.518Z"
   },
   {
    "duration": 194,
    "start_time": "2022-07-31T15:45:47.654Z"
   },
   {
    "duration": 164,
    "start_time": "2022-07-31T15:45:47.850Z"
   },
   {
    "duration": 134,
    "start_time": "2022-07-31T15:45:48.015Z"
   },
   {
    "duration": 7,
    "start_time": "2022-07-31T15:45:48.150Z"
   },
   {
    "duration": 23,
    "start_time": "2022-07-31T15:45:48.159Z"
   },
   {
    "duration": 40,
    "start_time": "2022-07-31T15:45:48.183Z"
   },
   {
    "duration": 7,
    "start_time": "2022-07-31T15:45:48.225Z"
   },
   {
    "duration": 7,
    "start_time": "2022-07-31T15:45:48.233Z"
   },
   {
    "duration": 8,
    "start_time": "2022-07-31T15:45:48.242Z"
   },
   {
    "duration": 8,
    "start_time": "2022-07-31T15:45:48.251Z"
   },
   {
    "duration": 436,
    "start_time": "2022-07-31T15:45:48.260Z"
   },
   {
    "duration": 302,
    "start_time": "2022-07-31T15:45:48.698Z"
   },
   {
    "duration": 299,
    "start_time": "2022-07-31T15:45:49.002Z"
   },
   {
    "duration": 298,
    "start_time": "2022-07-31T15:45:49.302Z"
   },
   {
    "duration": 288,
    "start_time": "2022-07-31T15:45:49.602Z"
   },
   {
    "duration": 277,
    "start_time": "2022-07-31T15:45:49.892Z"
   },
   {
    "duration": 293,
    "start_time": "2022-07-31T15:45:50.173Z"
   },
   {
    "duration": 354,
    "start_time": "2022-07-31T15:45:50.468Z"
   },
   {
    "duration": 495,
    "start_time": "2022-07-31T15:45:50.824Z"
   },
   {
    "duration": 592,
    "start_time": "2022-07-31T15:45:51.321Z"
   },
   {
    "duration": 9,
    "start_time": "2022-07-31T15:45:51.915Z"
   },
   {
    "duration": 628,
    "start_time": "2022-07-31T15:45:51.976Z"
   },
   {
    "duration": 377,
    "start_time": "2022-07-31T15:45:52.605Z"
   },
   {
    "duration": 1180,
    "start_time": "2022-07-31T15:46:33.618Z"
   },
   {
    "duration": 1242,
    "start_time": "2022-07-31T15:46:34.800Z"
   },
   {
    "duration": 37,
    "start_time": "2022-07-31T15:46:36.081Z"
   },
   {
    "duration": 20,
    "start_time": "2022-07-31T15:46:36.121Z"
   },
   {
    "duration": 14,
    "start_time": "2022-07-31T15:46:36.174Z"
   },
   {
    "duration": 96,
    "start_time": "2022-07-31T15:46:36.190Z"
   },
   {
    "duration": 20,
    "start_time": "2022-07-31T15:46:36.288Z"
   },
   {
    "duration": 187,
    "start_time": "2022-07-31T15:46:36.310Z"
   },
   {
    "duration": 10,
    "start_time": "2022-07-31T15:46:36.500Z"
   },
   {
    "duration": 64,
    "start_time": "2022-07-31T15:46:36.513Z"
   },
   {
    "duration": 299,
    "start_time": "2022-07-31T15:46:36.583Z"
   },
   {
    "duration": 153,
    "start_time": "2022-07-31T15:46:36.884Z"
   },
   {
    "duration": 136,
    "start_time": "2022-07-31T15:46:37.073Z"
   },
   {
    "duration": 6,
    "start_time": "2022-07-31T15:46:37.211Z"
   },
   {
    "duration": 29,
    "start_time": "2022-07-31T15:46:37.219Z"
   },
   {
    "duration": 45,
    "start_time": "2022-07-31T15:46:37.250Z"
   },
   {
    "duration": 43,
    "start_time": "2022-07-31T15:46:37.297Z"
   },
   {
    "duration": 87,
    "start_time": "2022-07-31T15:46:37.342Z"
   },
   {
    "duration": 47,
    "start_time": "2022-07-31T15:46:37.431Z"
   },
   {
    "duration": 61,
    "start_time": "2022-07-31T15:46:37.480Z"
   },
   {
    "duration": 52,
    "start_time": "2022-07-31T15:46:37.542Z"
   },
   {
    "duration": 85,
    "start_time": "2022-07-31T15:46:37.596Z"
   },
   {
    "duration": 307,
    "start_time": "2022-07-31T15:46:37.687Z"
   },
   {
    "duration": 6,
    "start_time": "2022-07-31T15:46:37.996Z"
   },
   {
    "duration": 43,
    "start_time": "2022-07-31T15:46:38.003Z"
   },
   {
    "duration": 14,
    "start_time": "2022-07-31T15:46:38.048Z"
   },
   {
    "duration": 16,
    "start_time": "2022-07-31T15:46:38.063Z"
   },
   {
    "duration": 134,
    "start_time": "2022-07-31T15:46:38.085Z"
   },
   {
    "duration": 48,
    "start_time": "2022-07-31T15:46:38.220Z"
   },
   {
    "duration": 10,
    "start_time": "2022-07-31T15:46:38.269Z"
   },
   {
    "duration": 42,
    "start_time": "2022-07-31T15:46:38.281Z"
   },
   {
    "duration": 10,
    "start_time": "2022-07-31T15:46:38.325Z"
   },
   {
    "duration": 6,
    "start_time": "2022-07-31T15:46:38.337Z"
   },
   {
    "duration": 5,
    "start_time": "2022-07-31T15:46:38.344Z"
   },
   {
    "duration": 146,
    "start_time": "2022-07-31T15:46:38.350Z"
   },
   {
    "duration": 53,
    "start_time": "2022-07-31T15:46:38.503Z"
   },
   {
    "duration": 30,
    "start_time": "2022-07-31T15:46:38.558Z"
   },
   {
    "duration": 27,
    "start_time": "2022-07-31T15:46:38.592Z"
   },
   {
    "duration": 6,
    "start_time": "2022-07-31T15:46:38.621Z"
   },
   {
    "duration": 5,
    "start_time": "2022-07-31T15:46:38.629Z"
   },
   {
    "duration": 6,
    "start_time": "2022-07-31T15:46:38.636Z"
   },
   {
    "duration": 11,
    "start_time": "2022-07-31T15:46:38.643Z"
   },
   {
    "duration": 37,
    "start_time": "2022-07-31T15:46:38.656Z"
   },
   {
    "duration": 26,
    "start_time": "2022-07-31T15:46:38.695Z"
   },
   {
    "duration": 36,
    "start_time": "2022-07-31T15:46:38.723Z"
   },
   {
    "duration": 6,
    "start_time": "2022-07-31T15:46:38.760Z"
   },
   {
    "duration": 76,
    "start_time": "2022-07-31T15:46:38.768Z"
   },
   {
    "duration": 9,
    "start_time": "2022-07-31T15:46:38.846Z"
   },
   {
    "duration": 404,
    "start_time": "2022-07-31T15:46:38.857Z"
   },
   {
    "duration": 35,
    "start_time": "2022-07-31T15:46:39.263Z"
   },
   {
    "duration": 20,
    "start_time": "2022-07-31T15:46:39.305Z"
   },
   {
    "duration": 18,
    "start_time": "2022-07-31T15:46:39.326Z"
   },
   {
    "duration": 15,
    "start_time": "2022-07-31T15:46:39.345Z"
   },
   {
    "duration": 4,
    "start_time": "2022-07-31T15:46:39.362Z"
   },
   {
    "duration": 11,
    "start_time": "2022-07-31T15:46:39.367Z"
   },
   {
    "duration": 43,
    "start_time": "2022-07-31T15:46:39.385Z"
   },
   {
    "duration": 5,
    "start_time": "2022-07-31T15:46:39.430Z"
   },
   {
    "duration": 16,
    "start_time": "2022-07-31T15:46:39.436Z"
   },
   {
    "duration": 5,
    "start_time": "2022-07-31T15:46:39.453Z"
   },
   {
    "duration": 5,
    "start_time": "2022-07-31T15:46:39.459Z"
   },
   {
    "duration": 13,
    "start_time": "2022-07-31T15:46:39.466Z"
   },
   {
    "duration": 34,
    "start_time": "2022-07-31T15:46:39.480Z"
   },
   {
    "duration": 12,
    "start_time": "2022-07-31T15:46:39.516Z"
   },
   {
    "duration": 13,
    "start_time": "2022-07-31T15:46:39.529Z"
   },
   {
    "duration": 20,
    "start_time": "2022-07-31T15:46:39.543Z"
   },
   {
    "duration": 24,
    "start_time": "2022-07-31T15:46:39.565Z"
   },
   {
    "duration": 31,
    "start_time": "2022-07-31T15:46:39.593Z"
   },
   {
    "duration": 10,
    "start_time": "2022-07-31T15:46:39.627Z"
   },
   {
    "duration": 21,
    "start_time": "2022-07-31T15:46:39.638Z"
   },
   {
    "duration": 32,
    "start_time": "2022-07-31T15:46:39.661Z"
   },
   {
    "duration": 36,
    "start_time": "2022-07-31T15:46:39.694Z"
   },
   {
    "duration": 11,
    "start_time": "2022-07-31T15:46:39.732Z"
   },
   {
    "duration": 7,
    "start_time": "2022-07-31T15:46:39.745Z"
   },
   {
    "duration": 12,
    "start_time": "2022-07-31T15:46:39.754Z"
   },
   {
    "duration": 57,
    "start_time": "2022-07-31T15:46:39.767Z"
   },
   {
    "duration": 9,
    "start_time": "2022-07-31T15:46:39.826Z"
   },
   {
    "duration": 23,
    "start_time": "2022-07-31T15:46:39.836Z"
   },
   {
    "duration": 25,
    "start_time": "2022-07-31T15:46:39.861Z"
   },
   {
    "duration": 464,
    "start_time": "2022-07-31T15:46:39.887Z"
   },
   {
    "duration": 9,
    "start_time": "2022-07-31T15:46:40.353Z"
   },
   {
    "duration": 80,
    "start_time": "2022-07-31T15:46:40.364Z"
   },
   {
    "duration": 466,
    "start_time": "2022-07-31T15:46:40.449Z"
   },
   {
    "duration": 20,
    "start_time": "2022-07-31T15:46:40.917Z"
   },
   {
    "duration": 7,
    "start_time": "2022-07-31T15:46:40.939Z"
   },
   {
    "duration": 10,
    "start_time": "2022-07-31T15:46:40.947Z"
   },
   {
    "duration": 65,
    "start_time": "2022-07-31T15:46:40.958Z"
   },
   {
    "duration": 6,
    "start_time": "2022-07-31T15:46:41.024Z"
   },
   {
    "duration": 9,
    "start_time": "2022-07-31T15:46:41.031Z"
   },
   {
    "duration": 19,
    "start_time": "2022-07-31T15:46:41.042Z"
   },
   {
    "duration": 476,
    "start_time": "2022-07-31T15:46:41.063Z"
   },
   {
    "duration": 10,
    "start_time": "2022-07-31T15:46:41.540Z"
   },
   {
    "duration": 36,
    "start_time": "2022-07-31T15:46:41.552Z"
   },
   {
    "duration": 26,
    "start_time": "2022-07-31T15:46:41.589Z"
   },
   {
    "duration": 19,
    "start_time": "2022-07-31T15:46:41.620Z"
   },
   {
    "duration": 12,
    "start_time": "2022-07-31T15:46:41.641Z"
   },
   {
    "duration": 10,
    "start_time": "2022-07-31T15:46:41.655Z"
   },
   {
    "duration": 183,
    "start_time": "2022-07-31T15:46:41.667Z"
   },
   {
    "duration": 9,
    "start_time": "2022-07-31T15:46:41.852Z"
   },
   {
    "duration": 170,
    "start_time": "2022-07-31T15:46:41.862Z"
   },
   {
    "duration": 2,
    "start_time": "2022-07-31T15:46:42.034Z"
   },
   {
    "duration": 6,
    "start_time": "2022-07-31T15:46:42.037Z"
   },
   {
    "duration": 19,
    "start_time": "2022-07-31T15:46:42.044Z"
   },
   {
    "duration": 37,
    "start_time": "2022-07-31T15:46:42.065Z"
   },
   {
    "duration": 21,
    "start_time": "2022-07-31T15:46:42.105Z"
   },
   {
    "duration": 8,
    "start_time": "2022-07-31T15:46:42.127Z"
   },
   {
    "duration": 92,
    "start_time": "2022-07-31T15:46:42.136Z"
   },
   {
    "duration": 17,
    "start_time": "2022-07-31T15:46:42.230Z"
   },
   {
    "duration": 13,
    "start_time": "2022-07-31T15:46:42.249Z"
   },
   {
    "duration": 20,
    "start_time": "2022-07-31T15:46:42.284Z"
   },
   {
    "duration": 30,
    "start_time": "2022-07-31T15:46:42.305Z"
   },
   {
    "duration": 17,
    "start_time": "2022-07-31T15:46:42.337Z"
   },
   {
    "duration": 8,
    "start_time": "2022-07-31T15:46:42.355Z"
   },
   {
    "duration": 50,
    "start_time": "2022-07-31T15:46:42.364Z"
   },
   {
    "duration": 16,
    "start_time": "2022-07-31T15:46:42.416Z"
   },
   {
    "duration": 308,
    "start_time": "2022-07-31T15:46:42.434Z"
   },
   {
    "duration": 180,
    "start_time": "2022-07-31T15:46:42.743Z"
   },
   {
    "duration": 205,
    "start_time": "2022-07-31T15:46:42.928Z"
   },
   {
    "duration": 173,
    "start_time": "2022-07-31T15:46:43.135Z"
   },
   {
    "duration": 128,
    "start_time": "2022-07-31T15:46:43.311Z"
   },
   {
    "duration": 7,
    "start_time": "2022-07-31T15:46:43.441Z"
   },
   {
    "duration": 12,
    "start_time": "2022-07-31T15:46:43.450Z"
   },
   {
    "duration": 21,
    "start_time": "2022-07-31T15:46:43.463Z"
   },
   {
    "duration": 45,
    "start_time": "2022-07-31T15:46:43.487Z"
   },
   {
    "duration": 14,
    "start_time": "2022-07-31T15:46:43.534Z"
   },
   {
    "duration": 10,
    "start_time": "2022-07-31T15:46:43.549Z"
   },
   {
    "duration": 12,
    "start_time": "2022-07-31T15:46:43.560Z"
   },
   {
    "duration": 367,
    "start_time": "2022-07-31T15:46:43.581Z"
   },
   {
    "duration": 296,
    "start_time": "2022-07-31T15:46:43.949Z"
   },
   {
    "duration": 358,
    "start_time": "2022-07-31T15:46:44.246Z"
   },
   {
    "duration": 304,
    "start_time": "2022-07-31T15:46:44.611Z"
   },
   {
    "duration": 312,
    "start_time": "2022-07-31T15:46:44.917Z"
   },
   {
    "duration": 286,
    "start_time": "2022-07-31T15:46:45.231Z"
   },
   {
    "duration": 285,
    "start_time": "2022-07-31T15:46:45.523Z"
   },
   {
    "duration": 280,
    "start_time": "2022-07-31T15:46:45.809Z"
   },
   {
    "duration": 321,
    "start_time": "2022-07-31T15:46:46.091Z"
   },
   {
    "duration": 279,
    "start_time": "2022-07-31T15:46:46.416Z"
   },
   {
    "duration": 9,
    "start_time": "2022-07-31T15:46:46.697Z"
   },
   {
    "duration": 382,
    "start_time": "2022-07-31T15:46:46.707Z"
   },
   {
    "duration": 277,
    "start_time": "2022-07-31T15:46:47.094Z"
   },
   {
    "duration": 1625,
    "start_time": "2022-07-31T16:17:15.879Z"
   },
   {
    "duration": 1299,
    "start_time": "2022-07-31T16:17:17.506Z"
   },
   {
    "duration": 12,
    "start_time": "2022-07-31T16:17:18.807Z"
   },
   {
    "duration": 15,
    "start_time": "2022-07-31T16:17:18.821Z"
   },
   {
    "duration": 82,
    "start_time": "2022-07-31T16:17:18.839Z"
   },
   {
    "duration": 71,
    "start_time": "2022-07-31T16:17:18.923Z"
   },
   {
    "duration": 16,
    "start_time": "2022-07-31T16:17:19.002Z"
   },
   {
    "duration": 120,
    "start_time": "2022-07-31T16:17:19.020Z"
   },
   {
    "duration": 72,
    "start_time": "2022-07-31T16:17:19.143Z"
   },
   {
    "duration": 32,
    "start_time": "2022-07-31T16:17:19.217Z"
   },
   {
    "duration": 269,
    "start_time": "2022-07-31T16:17:19.251Z"
   },
   {
    "duration": 166,
    "start_time": "2022-07-31T16:17:19.527Z"
   },
   {
    "duration": 122,
    "start_time": "2022-07-31T16:17:19.695Z"
   },
   {
    "duration": 7,
    "start_time": "2022-07-31T16:17:19.821Z"
   },
   {
    "duration": 63,
    "start_time": "2022-07-31T16:17:19.830Z"
   },
   {
    "duration": 13,
    "start_time": "2022-07-31T16:17:19.896Z"
   },
   {
    "duration": 7,
    "start_time": "2022-07-31T16:17:19.911Z"
   },
   {
    "duration": 42,
    "start_time": "2022-07-31T16:17:19.920Z"
   },
   {
    "duration": 34,
    "start_time": "2022-07-31T16:17:19.964Z"
   },
   {
    "duration": 13,
    "start_time": "2022-07-31T16:17:19.999Z"
   },
   {
    "duration": 13,
    "start_time": "2022-07-31T16:17:20.014Z"
   },
   {
    "duration": 60,
    "start_time": "2022-07-31T16:17:20.029Z"
   },
   {
    "duration": 331,
    "start_time": "2022-07-31T16:17:20.091Z"
   },
   {
    "duration": 7,
    "start_time": "2022-07-31T16:17:20.424Z"
   },
   {
    "duration": 63,
    "start_time": "2022-07-31T16:17:20.432Z"
   },
   {
    "duration": 15,
    "start_time": "2022-07-31T16:17:20.497Z"
   },
   {
    "duration": 17,
    "start_time": "2022-07-31T16:17:20.514Z"
   },
   {
    "duration": 110,
    "start_time": "2022-07-31T16:17:20.533Z"
   },
   {
    "duration": 95,
    "start_time": "2022-07-31T16:17:20.645Z"
   },
   {
    "duration": 7,
    "start_time": "2022-07-31T16:17:20.744Z"
   },
   {
    "duration": 50,
    "start_time": "2022-07-31T16:17:20.755Z"
   },
   {
    "duration": 12,
    "start_time": "2022-07-31T16:17:20.807Z"
   },
   {
    "duration": 6,
    "start_time": "2022-07-31T16:17:20.820Z"
   },
   {
    "duration": 7,
    "start_time": "2022-07-31T16:17:20.827Z"
   },
   {
    "duration": 205,
    "start_time": "2022-07-31T16:17:20.846Z"
   },
   {
    "duration": 44,
    "start_time": "2022-07-31T16:17:21.052Z"
   },
   {
    "duration": 18,
    "start_time": "2022-07-31T16:17:21.097Z"
   },
   {
    "duration": 4,
    "start_time": "2022-07-31T16:17:21.116Z"
   },
   {
    "duration": 5,
    "start_time": "2022-07-31T16:17:21.144Z"
   },
   {
    "duration": 38,
    "start_time": "2022-07-31T16:17:21.155Z"
   },
   {
    "duration": 5,
    "start_time": "2022-07-31T16:17:21.199Z"
   },
   {
    "duration": 16,
    "start_time": "2022-07-31T16:17:21.205Z"
   },
   {
    "duration": 45,
    "start_time": "2022-07-31T16:17:21.223Z"
   },
   {
    "duration": 30,
    "start_time": "2022-07-31T16:17:21.269Z"
   },
   {
    "duration": 43,
    "start_time": "2022-07-31T16:17:21.301Z"
   },
   {
    "duration": 15,
    "start_time": "2022-07-31T16:17:21.348Z"
   },
   {
    "duration": 41,
    "start_time": "2022-07-31T16:17:21.365Z"
   },
   {
    "duration": 9,
    "start_time": "2022-07-31T16:17:21.407Z"
   },
   {
    "duration": 440,
    "start_time": "2022-07-31T16:17:21.418Z"
   },
   {
    "duration": 17,
    "start_time": "2022-07-31T16:17:21.860Z"
   },
   {
    "duration": 35,
    "start_time": "2022-07-31T16:17:21.879Z"
   },
   {
    "duration": 16,
    "start_time": "2022-07-31T16:17:21.919Z"
   },
   {
    "duration": 33,
    "start_time": "2022-07-31T16:17:21.937Z"
   },
   {
    "duration": 28,
    "start_time": "2022-07-31T16:17:21.972Z"
   },
   {
    "duration": 11,
    "start_time": "2022-07-31T16:17:22.001Z"
   },
   {
    "duration": 7,
    "start_time": "2022-07-31T16:17:22.013Z"
   },
   {
    "duration": 8,
    "start_time": "2022-07-31T16:17:22.022Z"
   },
   {
    "duration": 27,
    "start_time": "2022-07-31T16:17:22.032Z"
   },
   {
    "duration": 41,
    "start_time": "2022-07-31T16:17:22.061Z"
   },
   {
    "duration": 5,
    "start_time": "2022-07-31T16:17:22.104Z"
   },
   {
    "duration": 9,
    "start_time": "2022-07-31T16:17:22.111Z"
   },
   {
    "duration": 8,
    "start_time": "2022-07-31T16:17:22.121Z"
   },
   {
    "duration": 62,
    "start_time": "2022-07-31T16:17:22.130Z"
   },
   {
    "duration": 13,
    "start_time": "2022-07-31T16:17:22.193Z"
   },
   {
    "duration": 18,
    "start_time": "2022-07-31T16:17:22.207Z"
   },
   {
    "duration": 18,
    "start_time": "2022-07-31T16:17:22.226Z"
   },
   {
    "duration": 85,
    "start_time": "2022-07-31T16:17:22.246Z"
   },
   {
    "duration": 8,
    "start_time": "2022-07-31T16:17:22.333Z"
   },
   {
    "duration": 75,
    "start_time": "2022-07-31T16:17:22.342Z"
   },
   {
    "duration": 29,
    "start_time": "2022-07-31T16:17:22.419Z"
   },
   {
    "duration": 47,
    "start_time": "2022-07-31T16:17:22.450Z"
   },
   {
    "duration": 14,
    "start_time": "2022-07-31T16:17:22.499Z"
   },
   {
    "duration": 5,
    "start_time": "2022-07-31T16:17:22.515Z"
   },
   {
    "duration": 52,
    "start_time": "2022-07-31T16:17:22.536Z"
   },
   {
    "duration": 5,
    "start_time": "2022-07-31T16:17:22.591Z"
   },
   {
    "duration": 10,
    "start_time": "2022-07-31T16:17:22.597Z"
   },
   {
    "duration": 45,
    "start_time": "2022-07-31T16:17:22.608Z"
   },
   {
    "duration": 38,
    "start_time": "2022-07-31T16:17:22.662Z"
   },
   {
    "duration": 606,
    "start_time": "2022-07-31T16:17:22.702Z"
   },
   {
    "duration": 11,
    "start_time": "2022-07-31T16:17:23.310Z"
   },
   {
    "duration": 57,
    "start_time": "2022-07-31T16:17:23.340Z"
   },
   {
    "duration": 564,
    "start_time": "2022-07-31T16:17:23.399Z"
   },
   {
    "duration": 31,
    "start_time": "2022-07-31T16:17:23.965Z"
   },
   {
    "duration": 10,
    "start_time": "2022-07-31T16:17:23.999Z"
   },
   {
    "duration": 14,
    "start_time": "2022-07-31T16:17:24.010Z"
   },
   {
    "duration": 17,
    "start_time": "2022-07-31T16:17:24.045Z"
   },
   {
    "duration": 37,
    "start_time": "2022-07-31T16:17:24.064Z"
   },
   {
    "duration": 8,
    "start_time": "2022-07-31T16:17:24.103Z"
   },
   {
    "duration": 33,
    "start_time": "2022-07-31T16:17:24.112Z"
   },
   {
    "duration": 586,
    "start_time": "2022-07-31T16:17:24.148Z"
   },
   {
    "duration": 20,
    "start_time": "2022-07-31T16:17:24.736Z"
   },
   {
    "duration": 99,
    "start_time": "2022-07-31T16:17:24.758Z"
   },
   {
    "duration": 62,
    "start_time": "2022-07-31T16:17:24.859Z"
   },
   {
    "duration": 10,
    "start_time": "2022-07-31T16:17:24.923Z"
   },
   {
    "duration": 67,
    "start_time": "2022-07-31T16:17:24.935Z"
   },
   {
    "duration": 22,
    "start_time": "2022-07-31T16:17:25.004Z"
   },
   {
    "duration": 204,
    "start_time": "2022-07-31T16:17:25.027Z"
   },
   {
    "duration": 13,
    "start_time": "2022-07-31T16:17:25.233Z"
   },
   {
    "duration": 255,
    "start_time": "2022-07-31T16:17:25.248Z"
   },
   {
    "duration": 465,
    "start_time": "2022-07-31T16:17:25.505Z"
   },
   {
    "duration": 55,
    "start_time": "2022-07-31T16:20:11.222Z"
   }
  ],
  "kernelspec": {
   "display_name": "Python 3 (ipykernel)",
   "language": "python",
   "name": "python3"
  },
  "language_info": {
   "codemirror_mode": {
    "name": "ipython",
    "version": 3
   },
   "file_extension": ".py",
   "mimetype": "text/x-python",
   "name": "python",
   "nbconvert_exporter": "python",
   "pygments_lexer": "ipython3",
   "version": "3.9.7"
  },
  "toc": {
   "base_numbering": 1,
   "nav_menu": {},
   "number_sections": true,
   "sideBar": true,
   "skip_h1_title": true,
   "title_cell": "Table of Contents",
   "title_sidebar": "Contents",
   "toc_cell": false,
   "toc_position": {
    "height": "calc(100% - 180px)",
    "left": "10px",
    "top": "150px",
    "width": "328.319px"
   },
   "toc_section_display": true,
   "toc_window_display": true
  }
 },
 "nbformat": 4,
 "nbformat_minor": 2
}
